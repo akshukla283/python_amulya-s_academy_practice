{
 "cells": [
  {
   "cell_type": "markdown",
   "id": "04a71bba",
   "metadata": {},
   "source": [
    "#### List Comprehension\n",
    "\n",
    "* List comprehension in Python is an easy and compact syntax for creating a list from a string or another list. It is a very concise way to create a new list ..\n",
    "\n",
    "* List comprehension is an elegant way to define and create lists based on existing lists. · List comprehension is generally more compact and faster than normal \n",
    "\n",
    "`syntax: [expression for item in iterable]`\n",
    "\n",
    "` example:  [x for x in range(1,11)]`\n",
    "\n",
    "* if else condtional syntax\n",
    "\n",
    "`[expression if conditional else if condition]`\n",
    "\n",
    "`[expression if conditional else statement for item in iterable]`"
   ]
  },
  {
   "cell_type": "code",
   "execution_count": 1,
   "id": "a40792ff",
   "metadata": {},
   "outputs": [
    {
     "data": {
      "text/plain": [
       "[1, 2, 3, 4, 5, 6, 7, 8, 9, 10]"
      ]
     },
     "execution_count": 1,
     "metadata": {},
     "output_type": "execute_result"
    }
   ],
   "source": [
    "[x for x in range(1, 11)]"
   ]
  },
  {
   "cell_type": "code",
   "execution_count": 2,
   "id": "c957d730",
   "metadata": {},
   "outputs": [
    {
     "data": {
      "text/plain": [
       "[2, 4, 6, 8, 10]"
      ]
     },
     "execution_count": 2,
     "metadata": {},
     "output_type": "execute_result"
    }
   ],
   "source": [
    "[x for x in range(1, 11) if x%2==0]"
   ]
  },
  {
   "cell_type": "code",
   "execution_count": 3,
   "id": "297add4d",
   "metadata": {},
   "outputs": [
    {
     "data": {
      "text/plain": [
       "[2, 3, 3, 4, 5, 6, 7, 8, 9, 10]"
      ]
     },
     "execution_count": 3,
     "metadata": {},
     "output_type": "execute_result"
    }
   ],
   "source": [
    "[x if x>2 else x+1 for x in range(1,11)]"
   ]
  },
  {
   "cell_type": "code",
   "execution_count": 3,
   "id": "e8447369",
   "metadata": {},
   "outputs": [
    {
     "data": {
      "text/plain": [
       "[1, 2, 3, 4, 1, 2, 3, 4, 1, 2, 3, 4]"
      ]
     },
     "execution_count": 3,
     "metadata": {},
     "output_type": "execute_result"
    }
   ],
   "source": [
    "# add or multiply a number to list\n",
    "\n",
    "num = [1,2,3,4]\n",
    "num*3"
   ]
  },
  {
   "cell_type": "code",
   "execution_count": 4,
   "id": "573fd62d",
   "metadata": {},
   "outputs": [
    {
     "data": {
      "text/plain": [
       "[10, 20, 30, 40]"
      ]
     },
     "execution_count": 4,
     "metadata": {},
     "output_type": "execute_result"
    }
   ],
   "source": [
    "# we can use list comprehenssion\n",
    "num = [1,2,3,4]\n",
    "[x*10 for x in num]"
   ]
  },
  {
   "cell_type": "code",
   "execution_count": 9,
   "id": "0240a468",
   "metadata": {},
   "outputs": [
    {
     "data": {
      "text/plain": [
       "['HELLO', 'A', 'DAVID']"
      ]
     },
     "execution_count": 9,
     "metadata": {},
     "output_type": "execute_result"
    }
   ],
   "source": [
    "# change word \n",
    "words = [\"hello\", \"a\", \"david\"]\n",
    "\n",
    "[x.upper() for x in words]"
   ]
  },
  {
   "cell_type": "code",
   "execution_count": 10,
   "id": "a5e459f3",
   "metadata": {},
   "outputs": [
    {
     "data": {
      "text/plain": [
       "['1', '2', '3', '4']"
      ]
     },
     "execution_count": 10,
     "metadata": {},
     "output_type": "execute_result"
    }
   ],
   "source": [
    "# if we want extract only number from strings\n",
    "\n",
    "str1 = \"Hello1234\"\n",
    "\n",
    "[x for x in str1 if x.isdigit()]"
   ]
  },
  {
   "cell_type": "code",
   "execution_count": 11,
   "id": "6e28f1ee",
   "metadata": {},
   "outputs": [
    {
     "data": {
      "text/plain": [
       "['H', 'e', 'l', 'l', 'o']"
      ]
     },
     "execution_count": 11,
     "metadata": {},
     "output_type": "execute_result"
    }
   ],
   "source": [
    "# if we want extract only alphabet from strings\n",
    "\n",
    "str1 = \"Hello1234\"\n",
    "\n",
    "[x for x in str1 if x.isalpha()]"
   ]
  },
  {
   "cell_type": "code",
   "execution_count": 1,
   "id": "45c13b06",
   "metadata": {},
   "outputs": [
    {
     "name": "stdout",
     "output_type": "stream",
     "text": [
      "Please enter ther string : hello world 12334\n",
      "\n",
      "Alphabets in your given input: \n",
      "h e l l o w o r l d \n",
      "Your number in given input: \n",
      "1 2 3 3 4 "
     ]
    }
   ],
   "source": [
    "#### want to letter and digit to be separated\n",
    "\n",
    "str1 = input(\"Please enter ther string : \")\n",
    "# now we need to separate digit and alpha in diffrent different list using list comprehension\n",
    "\n",
    "nums = [x for x in str1 if x.isdigit()]\n",
    "letters  = [x for x in str1 if x.isalpha()]\n",
    "print()\n",
    "print(\"Alphabets in your given input: \")\n",
    "for char in letters:\n",
    "    print(char, end = \" \")\n",
    "print()\n",
    "print(\"Your number in given input: \")\n",
    "for num in nums:\n",
    "    print(num, end = \" \")\n"
   ]
  },
  {
   "cell_type": "code",
   "execution_count": 13,
   "id": "852eecf2",
   "metadata": {},
   "outputs": [
    {
     "data": {
      "text/plain": [
       "[1, 4, 'a']"
      ]
     },
     "execution_count": 13,
     "metadata": {},
     "output_type": "execute_result"
    }
   ],
   "source": [
    "# nested list comprehension\n",
    "\n",
    "list1 = [[1,2,3], [4,5,6], [\"a\",\"b\"]]\n",
    "\n",
    "[x[0] for x in list1]"
   ]
  },
  {
   "cell_type": "code",
   "execution_count": 4,
   "id": "b8f05d86",
   "metadata": {},
   "outputs": [
    {
     "data": {
      "text/plain": [
       "[2, 5, 'b']"
      ]
     },
     "execution_count": 4,
     "metadata": {},
     "output_type": "execute_result"
    }
   ],
   "source": [
    "list1 = [[1,2,3], [4,5,6], [\"a\",\"b\"]]\n",
    "[x[1]  for x in list1]"
   ]
  },
  {
   "cell_type": "code",
   "execution_count": 5,
   "id": "c84ebcb5",
   "metadata": {},
   "outputs": [
    {
     "ename": "IndexError",
     "evalue": "list index out of range",
     "output_type": "error",
     "traceback": [
      "\u001b[1;31m---------------------------------------------------------------------------\u001b[0m",
      "\u001b[1;31mIndexError\u001b[0m                                Traceback (most recent call last)",
      "Input \u001b[1;32mIn [5]\u001b[0m, in \u001b[0;36m<cell line: 2>\u001b[1;34m()\u001b[0m\n\u001b[0;32m      1\u001b[0m list1 \u001b[38;5;241m=\u001b[39m [[\u001b[38;5;241m1\u001b[39m,\u001b[38;5;241m2\u001b[39m,\u001b[38;5;241m3\u001b[39m], [\u001b[38;5;241m4\u001b[39m,\u001b[38;5;241m5\u001b[39m,\u001b[38;5;241m6\u001b[39m], [\u001b[38;5;124m\"\u001b[39m\u001b[38;5;124ma\u001b[39m\u001b[38;5;124m\"\u001b[39m,\u001b[38;5;124m\"\u001b[39m\u001b[38;5;124mb\u001b[39m\u001b[38;5;124m\"\u001b[39m]]\n\u001b[1;32m----> 2\u001b[0m [x[\u001b[38;5;241m2\u001b[39m]  \u001b[38;5;28;01mfor\u001b[39;00m x \u001b[38;5;129;01min\u001b[39;00m list1]\n",
      "Input \u001b[1;32mIn [5]\u001b[0m, in \u001b[0;36m<listcomp>\u001b[1;34m(.0)\u001b[0m\n\u001b[0;32m      1\u001b[0m list1 \u001b[38;5;241m=\u001b[39m [[\u001b[38;5;241m1\u001b[39m,\u001b[38;5;241m2\u001b[39m,\u001b[38;5;241m3\u001b[39m], [\u001b[38;5;241m4\u001b[39m,\u001b[38;5;241m5\u001b[39m,\u001b[38;5;241m6\u001b[39m], [\u001b[38;5;124m\"\u001b[39m\u001b[38;5;124ma\u001b[39m\u001b[38;5;124m\"\u001b[39m,\u001b[38;5;124m\"\u001b[39m\u001b[38;5;124mb\u001b[39m\u001b[38;5;124m\"\u001b[39m]]\n\u001b[1;32m----> 2\u001b[0m [\u001b[43mx\u001b[49m\u001b[43m[\u001b[49m\u001b[38;5;241;43m2\u001b[39;49m\u001b[43m]\u001b[49m  \u001b[38;5;28;01mfor\u001b[39;00m x \u001b[38;5;129;01min\u001b[39;00m list1]\n",
      "\u001b[1;31mIndexError\u001b[0m: list index out of range"
     ]
    }
   ],
   "source": [
    "list1 = [[1,2,3], [4,5,6], [\"a\",\"b\"]]\n",
    "[x[2]  for x in list1]\n",
    "\n",
    "# it will error because in nested list the third list have only 2 elements in that so when we try \n",
    "# to access third element then it will give an error because of out of index."
   ]
  },
  {
   "cell_type": "code",
   "execution_count": 14,
   "id": "308c0f34",
   "metadata": {},
   "outputs": [
    {
     "data": {
      "text/plain": [
       "[1, 2, 3, 4, 5, 6, 'a', 'b']"
      ]
     },
     "execution_count": 14,
     "metadata": {},
     "output_type": "execute_result"
    }
   ],
   "source": [
    "# unpacking nested list\n",
    "list1 = [[1,2,3], [4,5,6], [\"a\",\"b\"]]\n",
    "\n",
    "[y for x in list1 for y in x]"
   ]
  },
  {
   "cell_type": "code",
   "execution_count": 15,
   "id": "f05d812d",
   "metadata": {},
   "outputs": [
    {
     "data": {
      "text/plain": [
       "[1, 4, 9, 16, 25, 36, 49, 64, 81, 100]"
      ]
     },
     "execution_count": 15,
     "metadata": {},
     "output_type": "execute_result"
    }
   ],
   "source": [
    "# apply on function\n",
    "\n",
    "def square(x):\n",
    "    return x**2\n",
    "\n",
    "[square(x) for x in range(1, 11)]"
   ]
  },
  {
   "cell_type": "code",
   "execution_count": 16,
   "id": "a429e318",
   "metadata": {},
   "outputs": [
    {
     "data": {
      "text/plain": [
       "[11, 2, 7, 12, 3, 8, 13, 4, 9, 14, 5, 10]"
      ]
     },
     "execution_count": 16,
     "metadata": {},
     "output_type": "execute_result"
    }
   ],
   "source": [
    "## Adding two list \n",
    "\n",
    "a = [1,2,3,4]\n",
    "b = [10, 1, 6]\n",
    "\n",
    "[x+y for x in a for y in b]"
   ]
  },
  {
   "cell_type": "code",
   "execution_count": 21,
   "id": "cd3d020b",
   "metadata": {},
   "outputs": [
    {
     "data": {
      "text/plain": [
       "[11, 9, 4, 10]"
      ]
     },
     "execution_count": 21,
     "metadata": {},
     "output_type": "execute_result"
    }
   ],
   "source": [
    "# if we want 1 element add with 1 element of second lis and so on\n",
    "# for this length should be same \n",
    "a = [1,2,3,4]\n",
    "b = [10,7,1,6]\n",
    "\n",
    "[a[i]+b[i] for i in range(len(a))]"
   ]
  },
  {
   "cell_type": "code",
   "execution_count": 22,
   "id": "27533128",
   "metadata": {},
   "outputs": [
    {
     "name": "stdout",
     "output_type": "stream",
     "text": [
      "[1, 2, 3, 4, 5, 6, 7, 8, 9, 10]\n"
     ]
    }
   ],
   "source": [
    "# we can use list comprehenssion as a substitute of for loop , lambda, map, filter, reduce\n",
    "\n",
    "list1 = []\n",
    "\n",
    "for i in range(1, 11):\n",
    "    list1.append(i)\n",
    "print(list1)"
   ]
  },
  {
   "cell_type": "code",
   "execution_count": 24,
   "id": "732e79df",
   "metadata": {},
   "outputs": [
    {
     "data": {
      "text/plain": [
       "[1, 2, 3, 4, 5, 6, 7, 8, 9, 10]"
      ]
     },
     "execution_count": 24,
     "metadata": {},
     "output_type": "execute_result"
    }
   ],
   "source": [
    "# by list comprehenssion \n",
    "[x for x in range(1,11)]"
   ]
  },
  {
   "cell_type": "code",
   "execution_count": 25,
   "id": "3007aa89",
   "metadata": {},
   "outputs": [
    {
     "data": {
      "text/plain": [
       "[1, 2, 4]"
      ]
     },
     "execution_count": 25,
     "metadata": {},
     "output_type": "execute_result"
    }
   ],
   "source": [
    "num = [1.2, 2.3, 4.5]\n",
    "list(map(lambda x:int(x), num)) # float to int "
   ]
  },
  {
   "cell_type": "code",
   "execution_count": 26,
   "id": "c0a3129a",
   "metadata": {},
   "outputs": [
    {
     "data": {
      "text/plain": [
       "[1, 2, 4]"
      ]
     },
     "execution_count": 26,
     "metadata": {},
     "output_type": "execute_result"
    }
   ],
   "source": [
    "num = [1.2, 2.3, 4.5]\n",
    "[int(x) for x in num] \n",
    "\n",
    "# this one is faster than map and lambda  we can check by timit function"
   ]
  },
  {
   "cell_type": "code",
   "execution_count": 5,
   "id": "72fa1489",
   "metadata": {},
   "outputs": [
    {
     "data": {
      "text/plain": [
       "1.3251787000003787"
      ]
     },
     "execution_count": 5,
     "metadata": {},
     "output_type": "execute_result"
    }
   ],
   "source": [
    "import timeit\n",
    "\n",
    "\n",
    "timeit.timeit('list(map(lambda x:int(x), [1.2, 2.3, 4.5]))') # map function \n",
    "\n",
    "# float to int "
   ]
  },
  {
   "cell_type": "code",
   "execution_count": 33,
   "id": "f6904d15",
   "metadata": {},
   "outputs": [
    {
     "data": {
      "text/plain": [
       "0.6227879000002758"
      ]
     },
     "execution_count": 33,
     "metadata": {},
     "output_type": "execute_result"
    }
   ],
   "source": [
    "import timeit\n",
    "\n",
    "\n",
    "timeit.timeit('[int(x) for x in [1.2, 2.3, 4.5]]') # list comprehenssion \n",
    "\n",
    "# float to int "
   ]
  },
  {
   "cell_type": "markdown",
   "id": "a45b2810",
   "metadata": {},
   "source": [
    "As we can see that list comprehenssion took less time than map fuciton"
   ]
  },
  {
   "cell_type": "code",
   "execution_count": 35,
   "id": "e1c762a8",
   "metadata": {},
   "outputs": [
    {
     "name": "stdout",
     "output_type": "stream",
     "text": [
      "1.3 µs ± 14.8 ns per loop (mean ± std. dev. of 7 runs, 1,000,000 loops each)\n"
     ]
    }
   ],
   "source": [
    "%%timeit\n",
    "num = [1.2, 2.3, 4.5]\n",
    "list(map(lambda x:int(x), num)) # float to int "
   ]
  },
  {
   "cell_type": "code",
   "execution_count": 36,
   "id": "1f745b3f",
   "metadata": {},
   "outputs": [
    {
     "name": "stdout",
     "output_type": "stream",
     "text": [
      "724 ns ± 4.62 ns per loop (mean ± std. dev. of 7 runs, 1,000,000 loops each)\n"
     ]
    }
   ],
   "source": [
    "%%timeit\n",
    "num = [1.2, 2.3, 4.5]\n",
    "[int(x) for x in num]"
   ]
  },
  {
   "cell_type": "code",
   "execution_count": 37,
   "id": "36eb1a98",
   "metadata": {},
   "outputs": [
    {
     "data": {
      "text/plain": [
       "[2, 4, 6, 8, 10]"
      ]
     },
     "execution_count": 37,
     "metadata": {},
     "output_type": "execute_result"
    }
   ],
   "source": [
    "### filter function\n",
    "\n",
    "list(filter(lambda x:x%2==0, range(1,11)))"
   ]
  },
  {
   "cell_type": "code",
   "execution_count": 38,
   "id": "d0baa806",
   "metadata": {},
   "outputs": [
    {
     "data": {
      "text/plain": [
       "[2, 4, 6, 8, 10]"
      ]
     },
     "execution_count": 38,
     "metadata": {},
     "output_type": "execute_result"
    }
   ],
   "source": [
    "# by list comprehenssion\n",
    "\n",
    "[x for x in range(1,11) if x%2==0]"
   ]
  },
  {
   "cell_type": "code",
   "execution_count": 40,
   "id": "af95ebb2",
   "metadata": {},
   "outputs": [
    {
     "data": {
      "text/plain": [
       "10"
      ]
     },
     "execution_count": 40,
     "metadata": {},
     "output_type": "execute_result"
    }
   ],
   "source": [
    "#### reduce \n",
    "\n",
    "import functools\n",
    "\n",
    "functools.reduce(lambda x, y: x+y, [1,2,3,4])"
   ]
  },
  {
   "cell_type": "code",
   "execution_count": 41,
   "id": "259564d7",
   "metadata": {},
   "outputs": [
    {
     "data": {
      "text/plain": [
       "10"
      ]
     },
     "execution_count": 41,
     "metadata": {},
     "output_type": "execute_result"
    }
   ],
   "source": [
    "# list comprehenssion\n",
    "sum([x for x in [1,2,3,4]])"
   ]
  },
  {
   "cell_type": "markdown",
   "id": "7b1ebe27",
   "metadata": {},
   "source": [
    "### If __name__ == '__main__':\n",
    "\n",
    "* Python files are called modules and they are identified by the .py file extension. A module can define functions, classes, and variables.\n",
    "\n",
    "* So when the interpreter runs a module, the `__name__` variable will be set as  `__main__` if the module that is being run is the main program.\n",
    "\n",
    "* But if the code is importing the module from another module, then the `__name__`  variable will be set to that module’s name."
   ]
  },
  {
   "cell_type": "code",
   "execution_count": 1,
   "id": "2631029b",
   "metadata": {},
   "outputs": [
    {
     "name": "stdout",
     "output_type": "stream",
     "text": [
      "6\n"
     ]
    }
   ],
   "source": [
    "def int_multiply(a,b):\n",
    "    return a*b\n",
    "\n",
    "if __name__ == '__main__':  # here \n",
    "    print(int_multiply(2,3))"
   ]
  },
  {
   "cell_type": "code",
   "execution_count": 2,
   "id": "0806e28e",
   "metadata": {},
   "outputs": [
    {
     "data": {
      "text/plain": [
       "'__main__'"
      ]
     },
     "execution_count": 2,
     "metadata": {},
     "output_type": "execute_result"
    }
   ],
   "source": [
    "__name__  # built-in variable"
   ]
  },
  {
   "cell_type": "code",
   "execution_count": 3,
   "id": "8254b45c",
   "metadata": {},
   "outputs": [
    {
     "name": "stdout",
     "output_type": "stream",
     "text": [
      "6\n",
      "__main__\n"
     ]
    }
   ],
   "source": [
    "def int_multiply(a,b):\n",
    "    return a*b\n",
    "\n",
    "print(int_multiply(2,3))\n",
    "print(__name__)"
   ]
  },
  {
   "cell_type": "code",
   "execution_count": 46,
   "id": "c332c18c",
   "metadata": {},
   "outputs": [],
   "source": [
    "# lets take a python file \"multiply.py\" and write some function to in it save it \n",
    "\n",
    "# def mul(a,b):\n",
    "#     return a*b\n",
    "\n",
    "# print(mul(2,3))\n",
    "# print(__name__)"
   ]
  },
  {
   "cell_type": "code",
   "execution_count": 4,
   "id": "17f1eef4",
   "metadata": {},
   "outputs": [
    {
     "name": "stdout",
     "output_type": "stream",
     "text": [
      "6\n",
      "multiply\n",
      "9.66\n",
      "__main__\n"
     ]
    }
   ],
   "source": [
    "# now let's import that module\n",
    "import multiply\n",
    "\n",
    "print(multiply.mul(2.3,4.2))\n",
    "print(__name__)\n",
    "\n",
    "# note during re run we need to restart our kernel to avoid pre loaded import"
   ]
  },
  {
   "cell_type": "markdown",
   "id": "77c98c71",
   "metadata": {},
   "source": [
    "As we can see that imported module's print() statement also printed\n",
    "\n",
    "**note:** if we don't want the output of imported file then we should use if `__nam__ == '__main__'`"
   ]
  },
  {
   "cell_type": "code",
   "execution_count": 5,
   "id": "0cf76b6c",
   "metadata": {},
   "outputs": [
    {
     "name": "stdout",
     "output_type": "stream",
     "text": [
      "9.66\n",
      "__main__\n"
     ]
    }
   ],
   "source": [
    "# first restart kernel\n",
    "import multiply\n",
    "\n",
    "if __name__ == '__main__':\n",
    "    print(multiply.mul(2.3,4.2))\n",
    "    print(__name__)\n"
   ]
  },
  {
   "cell_type": "markdown",
   "id": "cb71acfb",
   "metadata": {},
   "source": [
    "Now we can see that we got only 'main' files's output"
   ]
  },
  {
   "cell_type": "code",
   "execution_count": null,
   "id": "d22ab2b2",
   "metadata": {},
   "outputs": [],
   "source": []
  }
 ],
 "metadata": {
  "kernelspec": {
   "display_name": "Python 3 (ipykernel)",
   "language": "python",
   "name": "python3"
  },
  "language_info": {
   "codemirror_mode": {
    "name": "ipython",
    "version": 3
   },
   "file_extension": ".py",
   "mimetype": "text/x-python",
   "name": "python",
   "nbconvert_exporter": "python",
   "pygments_lexer": "ipython3",
   "version": "3.9.7"
  }
 },
 "nbformat": 4,
 "nbformat_minor": 5
}
