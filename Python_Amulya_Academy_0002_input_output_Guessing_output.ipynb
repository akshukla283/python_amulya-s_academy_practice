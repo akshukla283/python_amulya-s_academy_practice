{
 "cells": [
  {
   "cell_type": "code",
   "execution_count": 1,
   "id": "28d51d48",
   "metadata": {},
   "outputs": [
    {
     "name": "stdout",
     "output_type": "stream",
     "text": [
      "43\n"
     ]
    }
   ],
   "source": [
    "#### Guess the output\n",
    "\n",
    "count = 0\n",
    "\n",
    "for i in range(5):\n",
    "    while i<3:\n",
    "        if i == 1:  # here if break condition true then control will go out of while loop because \n",
    "            break   # break statement within the while loop.\n",
    "        count = count + 10 \n",
    "        i = i+1\n",
    "    else:          # this else part will be executed only when the loop is not turminated by 'break'\n",
    "        count = count+1\n",
    "        \n",
    "else:\n",
    "    count = count + 20\n",
    "    \n",
    "print(count)\n",
    "\n",
    "\"\"\"here when for loop start then 5 iteration will generate 0,1,2,3,4 and \n",
    "1. for i = 0 which is <3 and while loop is satisfied and within that if condition is False\n",
    "then control will go to else part of if condition and there count will be 0 + 10 i.e. 10. and i\n",
    "increamented +1 control will go to while loop agian this time i is 1 which is <3 and also if condition\n",
    "i == 1 is True means loop will be turminated and control will out of if condition and come to else\n",
    "part of while loop but it won't be executed because it has been turminated by break statement.\n",
    "\n",
    "so count = 10 \n",
    "\n",
    "2. now control comes to the for loop again and this time i = 1 which is less than <3 and inside\n",
    "the while loop if condition is also True which means loop will be truminated by 'break' statement\n",
    "so loop will come out from the if conditon and control will come to else part of the while\n",
    "loop but loop is turminated by break statement else part of while loop won't be executed. hence \n",
    "count is still 10.\n",
    "\n",
    "3. now control comes to for loop again and this time i = 2 which is <3 means while loop satisfied \n",
    "but if part is not satisfied to loop comes to the else part of the if condition and count \n",
    "will be added 10 which will be 20 and i will be incremented by +1 now i is 2 and it will go again\n",
    "to the while loop because it is <3 to it satisfied the condition but not satisfied the if condition\n",
    "so control will come to else part of if condition and count will be added 10 means now count is 20\n",
    "and i will be +1 so i is 3  now it come to while loop again but not less than <3 so loop will come \n",
    "to the else part of while loop and this time it is not turminated by break so it will be executed \n",
    "and count will we added by 1 so count will be 21 and control will go \n",
    "for loop again.\n",
    "\n",
    "4. Now this time i will 3 which if not satisfied the while loop so control will go the else part of \n",
    "while because it is not turminated by break so count will incremented by +1 so count will be 22\n",
    "and control will be go to the for loop again and count is 22\n",
    "\n",
    "5. Now i will 4 which is also not satisfied the condition of while loop so control will go to the else\n",
    "part of while loop and it will be executed because it has not been turminated by the break so  count \n",
    "will be increamented +1 and becomes 23 and loop will go to the for loop again.\n",
    "\n",
    "6. this time for loop will not execute because for loop has been over so control will go the else part\n",
    "of the for loop and here count will be incremented by 20 and will becomes 43 and control will go to\n",
    "the print which is out of for loop and will print the final value of count as 43 \n",
    "that is our final output Thanks \"\"\""
   ]
  },
  {
   "cell_type": "code",
   "execution_count": 2,
   "id": "29a9d48e",
   "metadata": {},
   "outputs": [
    {
     "name": "stdout",
     "output_type": "stream",
     "text": [
      "43\n"
     ]
    }
   ],
   "source": [
    "#### Guess the output\n",
    "# we can write above program as follow\n",
    "count = 0\n",
    "\n",
    "for i in range(5):\n",
    "    while i<3:\n",
    "        if i == 1:  # here if break condition true then control will go out of while loop because \n",
    "            break\n",
    "        else:\n",
    "            count = count + 10\n",
    "            i = i+1\n",
    "    else:          # this else part will be executed only when the loop is not turminated by 'break'\n",
    "        count = count+1\n",
    "        \n",
    "else:\n",
    "    count = count + 20\n",
    "    \n",
    "print(count)\n"
   ]
  },
  {
   "cell_type": "code",
   "execution_count": 3,
   "id": "48561aa0",
   "metadata": {},
   "outputs": [
    {
     "ename": "AttributeError",
     "evalue": "'tuple' object has no attribute 'append'",
     "output_type": "error",
     "traceback": [
      "\u001b[1;31m---------------------------------------------------------------------------\u001b[0m",
      "\u001b[1;31mAttributeError\u001b[0m                            Traceback (most recent call last)",
      "Input \u001b[1;32mIn [3]\u001b[0m, in \u001b[0;36m<cell line: 5>\u001b[1;34m()\u001b[0m\n\u001b[0;32m      3\u001b[0m list1 \u001b[38;5;241m=\u001b[39m [(\u001b[38;5;241m1\u001b[39m,\u001b[38;5;241m2\u001b[39m,\u001b[38;5;241m3\u001b[39m,\u001b[38;5;241m4\u001b[39m),(\u001b[38;5;241m5\u001b[39m,\u001b[38;5;241m6\u001b[39m,),[\u001b[38;5;241m7\u001b[39m,\u001b[38;5;241m8\u001b[39m],\u001b[38;5;241m10\u001b[39m]\n\u001b[0;32m      4\u001b[0m list1\u001b[38;5;241m.\u001b[39minsert(\u001b[38;5;241m1\u001b[39m, (\u001b[38;5;241m12\u001b[39m,\u001b[38;5;241m13\u001b[39m))\n\u001b[1;32m----> 5\u001b[0m \u001b[43mlist1\u001b[49m\u001b[43m[\u001b[49m\u001b[38;5;241;43m2\u001b[39;49m\u001b[43m]\u001b[49m\u001b[38;5;241;43m.\u001b[39;49m\u001b[43mappend\u001b[49m(\u001b[38;5;124m\"\u001b[39m\u001b[38;5;124mHello\u001b[39m\u001b[38;5;124m\"\u001b[39m)\n\u001b[0;32m      6\u001b[0m list1[\u001b[38;5;241m0\u001b[39m]\u001b[38;5;241m.\u001b[39mappend(\u001b[38;5;124m\"\u001b[39m\u001b[38;5;124mamaya\u001b[39m\u001b[38;5;124m\"\u001b[39m)\n\u001b[0;32m      7\u001b[0m list1[\u001b[38;5;241m1\u001b[39m]\u001b[38;5;241m.\u001b[39mappend(\u001b[38;5;124m\"\u001b[39m\u001b[38;5;124ma\u001b[39m\u001b[38;5;124m\"\u001b[39m)\n",
      "\u001b[1;31mAttributeError\u001b[0m: 'tuple' object has no attribute 'append'"
     ]
    }
   ],
   "source": [
    "### guess the output \n",
    "\n",
    "list1 = [(1,2,3,4),(5,6,),[7,8],10]\n",
    "list1.insert(1, (12,13))\n",
    "list1[2].append(\"Hello\")\n",
    "list1[0].append(\"amaya\")\n",
    "list1[1].append(\"a\")\n",
    "list1.insert(1, \"amulya\")\n",
    "print(list1)"
   ]
  },
  {
   "cell_type": "code",
   "execution_count": 4,
   "id": "d0401af6",
   "metadata": {},
   "outputs": [
    {
     "name": "stdout",
     "output_type": "stream",
     "text": [
      "[(1, 2, 3, 4), (12, 13), [7, 8, 'Hello'], 10]\n"
     ]
    }
   ],
   "source": [
    "### guess the output \n",
    "\n",
    "list1 = [(1,2,3,4),[7,8],10]\n",
    "list1.insert(1, (12,13))\n",
    "list1[2].append(\"Hello\")\n",
    "\n",
    "print(list1)"
   ]
  },
  {
   "cell_type": "code",
   "execution_count": 7,
   "id": "3ee974d5",
   "metadata": {},
   "outputs": [
    {
     "name": "stdout",
     "output_type": "stream",
     "text": [
      "[(1, 2, 3, 4), 'amulya', [7, 8, 'a'], [10, 'Hello']]\n"
     ]
    }
   ],
   "source": [
    "### guess the output \n",
    "\n",
    "list1 = [(1,2,3,4),[7,8],[10]]\n",
    "#list1.insert(1, (12,13))\n",
    "list1[2].append(\"Hello\")\n",
    "#list1[0].append(\"amaya\") # tuple can't be appended\n",
    "list1[1].append(\"a\")\n",
    "list1.insert(1, \"amulya\")\n",
    "print(list1)"
   ]
  },
  {
   "cell_type": "code",
   "execution_count": 10,
   "id": "a5c6e358",
   "metadata": {},
   "outputs": [
    {
     "name": "stdout",
     "output_type": "stream",
     "text": [
      "Enter the number: 25\n",
      "77 Number is palindrome, when entered number is:  25\n"
     ]
    }
   ],
   "source": [
    "### checking whether entered number is palindrome or not\n",
    "# if then add number and its reverse and again check whether number is palindrome or not \n",
    "# repeat the previous process untill we the palindrome number.\n",
    "\n",
    "num = int(input(\"Enter the number: \"))\n",
    "count = num\n",
    "while True:\n",
    "    str_num  = str(num)\n",
    "    rev_str = str_num[::-1]\n",
    "\n",
    "    if str_num == rev_str:\n",
    "        print(num, \"Number is palindrome, when entered number is: \", count)\n",
    "        break \n",
    "\n",
    "    num = int(str_num) + int(rev_str)"
   ]
  },
  {
   "cell_type": "code",
   "execution_count": 12,
   "id": "383716cf",
   "metadata": {},
   "outputs": [
    {
     "name": "stdout",
     "output_type": "stream",
     "text": [
      "Enter the number: 25\n",
      "77 Number is palindrome, when entered number is:  25\n"
     ]
    }
   ],
   "source": [
    "# in above program we can take string as a input \n",
    "\n",
    "num = input(\"Enter the number: \")\n",
    "count = num\n",
    "while True:\n",
    "    \n",
    "    rev = str(num)[::-1]\n",
    "\n",
    "    if str(num) == rev:\n",
    "        print(num, \"Number is palindrome, when entered number is: \", count)\n",
    "        break \n",
    "\n",
    "    num = int(num) + int(rev)"
   ]
  },
  {
   "cell_type": "code",
   "execution_count": 14,
   "id": "85609fc4",
   "metadata": {},
   "outputs": [
    {
     "name": "stdout",
     "output_type": "stream",
     "text": [
      "hello\n",
      "hello\n",
      "hello\n",
      "hello\n"
     ]
    }
   ],
   "source": [
    "#### Guess the output\n",
    "\n",
    "str1 = \"hello world\"\n",
    "while str1:\n",
    "    print(\"hello\")\n",
    "    str1  = str1[1::2]\n",
    "    \n",
    "\"\"\"Explaination : for a while loop we need some boolean condition and inside while loop we need some\n",
    "truminator or increament or decreament condition to control the while loop \n",
    "here str1 have some value so at start it will work as True if str1 were empty then it worked like \n",
    "False,\n",
    "\n",
    "1. so for the first time str1 have some value to it is True then will print **'Hello'** and after this \n",
    "str1 will be sliced and get new value as \"el ol\" and control will go tothe while loop again and \n",
    "this time new str1 have some value so print statement will execute and will print **\"Hello\"**\n",
    "and afterthat str1 will be sliced again given condition and will get new value like \"lo\" and \n",
    "control will go to the while loop and new str1 have still some value so it will evaluate to True\n",
    "and print function will print the **\"hello\"** and after that str1 once again will be sliced as per \n",
    "given condition and will get new value as \"o\" and control will come to while loop and str1 have still\n",
    "'o' so it will evaluate as True and print function print **\"hello\"** and str1 will be sliced as per \n",
    "given condition and this time str1 will have no string means empty string \"\" so when control will \n",
    "come to while loop and str1 is empty so it will evaluate as False so while loop will not executed.\n",
    "thanks \n",
    "\"\"\""
   ]
  },
  {
   "cell_type": "markdown",
   "id": "f0422ef2",
   "metadata": {},
   "source": [
    "#### SubString :\n",
    "conteseous sequence of character within a string.\n",
    "\n",
    "for example. good ..... is substring of string \"hello world good morning!\"\n",
    "\n",
    "another e.g. -- abcd  --substring -- a,b,c,d,---\n",
    "                                     ab, bc, cd,----- abc,,bc,---- abcd are the substring of the string.\n",
    "\n",
    "An example of a string is \"we meet on Friday at 08:00 am\". And you can access specific sub-parts of the string commonly known as `substrings`.\n",
    "\n",
    "We can define a substring as a sequence of characters within a string. From the previous example, Python substrings can be \"Friday\", \"at\", and \"meet\", for example.\n",
    "\n",
    "#### Subsequence:\n",
    "\n",
    "A subsequence of a string is a sequence that can be derived from the given string by deleting zero or more elements without changing the order of the remaining elements.\n",
    "\n",
    "\n",
    "e.g. abcd ... subsequence .. ac  by deleting b from between a and c."
   ]
  },
  {
   "cell_type": "code",
   "execution_count": 15,
   "id": "ed0712c6",
   "metadata": {},
   "outputs": [
    {
     "name": "stdout",
     "output_type": "stream",
     "text": [
      "Enter the string: hello\n",
      "h\n",
      "he\n",
      "hel\n",
      "hell\n",
      "hello\n",
      "e\n",
      "el\n",
      "ell\n",
      "ello\n",
      "l\n",
      "ll\n",
      "llo\n",
      "l\n",
      "lo\n",
      "o\n"
     ]
    }
   ],
   "source": [
    "# how to find out the substring of the string \n",
    "str1 = input(\"Enter the string: \")\n",
    "for i in range(len(str1)):\n",
    "    for j in range(i+1, len(str1)+1): # we need last string as well so we need + 1 \n",
    "        print(str1[i:j])"
   ]
  },
  {
   "cell_type": "code",
   "execution_count": 17,
   "id": "1568e595",
   "metadata": {},
   "outputs": [
    {
     "name": "stdout",
     "output_type": "stream",
     "text": [
      "Enter the string: hello\n",
      "h he hel hell hello \n",
      "e el ell ello \n",
      "l ll llo \n",
      "l lo \n",
      "o \n"
     ]
    }
   ],
   "source": [
    "# how to find out the substring of the string \n",
    "\n",
    "# just need a pattern like output\n",
    "str1 = input(\"Enter the string: \")\n",
    "for i in range(len(str1)):\n",
    "    for j in range(i+1, len(str1)+1): # we need last string as well so we need + 1 \n",
    "        print(str1[i:j], end = \" \") # to cantain the loop in same line \n",
    "    print() # for new line for next iteration "
   ]
  },
  {
   "cell_type": "code",
   "execution_count": 18,
   "id": "ac87d1e0",
   "metadata": {},
   "outputs": [
    {
     "name": "stdout",
     "output_type": "stream",
     "text": [
      "Enter the string: hello\n",
      "['h', 'he', 'hel', 'hell', 'hello', 'e', 'el', 'ell', 'ello', 'l', 'll', 'llo', 'l', 'lo', 'o']\n"
     ]
    }
   ],
   "source": [
    "# how to find out the substring of the string \n",
    "\n",
    "# just need a pattern like output\n",
    "# we can creat a list and append it and print at the end.\n",
    "str1 = input(\"Enter the string: \")\n",
    "sub_list = []\n",
    "for i in range(len(str1)):\n",
    "    for j in range(i+1, len(str1)+1): # we need last string as well so we need + 1 \n",
    "        sub_list.append(str1[i:j]) # to cantain the loop in same line \n",
    "print(sub_list)"
   ]
  },
  {
   "cell_type": "code",
   "execution_count": null,
   "id": "5332fe52",
   "metadata": {},
   "outputs": [],
   "source": []
  }
 ],
 "metadata": {
  "kernelspec": {
   "display_name": "Python 3 (ipykernel)",
   "language": "python",
   "name": "python3"
  },
  "language_info": {
   "codemirror_mode": {
    "name": "ipython",
    "version": 3
   },
   "file_extension": ".py",
   "mimetype": "text/x-python",
   "name": "python",
   "nbconvert_exporter": "python",
   "pygments_lexer": "ipython3",
   "version": "3.9.7"
  }
 },
 "nbformat": 4,
 "nbformat_minor": 5
}
