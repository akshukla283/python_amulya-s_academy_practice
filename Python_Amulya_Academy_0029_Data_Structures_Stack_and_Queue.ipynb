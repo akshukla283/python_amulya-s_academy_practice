{
 "cells": [
  {
   "cell_type": "markdown",
   "id": "9029b21c",
   "metadata": {},
   "source": [
    "### Data Structures:\n",
    "\n",
    "* `\"Way to store and organize the data so that it can be accessed effectively.\"`\n",
    "\n",
    "*  `Data Structures are a specialized means of organizing and storing data in computers in such a way that we can perform operations on the stored data more efficiently. Data structures have a wide and diverse scope of usage across the fields of Computer Science and Software Engineering.`\n",
    "\n",
    "#### Built-in \n",
    "\n",
    "* list\n",
    "\n",
    "* Tuple\n",
    "\n",
    "* Set\n",
    "\n",
    "* Dictionary\n",
    "\n",
    "#### User Defined \n",
    "\n",
    "* Stack\n",
    "\n",
    "* Queue\n",
    "\n",
    "* Linked List\n",
    "\n",
    "* Tree\n",
    "\n",
    "* Graph"
   ]
  },
  {
   "cell_type": "markdown",
   "id": "28211853",
   "metadata": {},
   "source": [
    "#### Built-in Data Structure\n",
    "\n",
    "#### List:\n",
    "Lists are used to store multiple items in a single variable. \n",
    "\n",
    "* \n",
    "ordered\n",
    "* \n",
    "List can access by index.\n",
    "* \n",
    "List can also access by negative index.\n",
    "* \n",
    "List can be nested. \n",
    "* \n",
    "List are mutable.\n",
    "* \n",
    "List are dynamic -- when we add element to list it will grow and when we delete an element then it * \n",
    "will shrik."
   ]
  },
  {
   "cell_type": "markdown",
   "id": "14b77ac9",
   "metadata": {},
   "source": [
    "#### tuple:\n",
    "* Tuples are used to store multiple items in a single variable.\n",
    "\n",
    "* A tuple is created by placing all the items (elements) inside parentheses () , separated by commas. \n",
    "\n",
    "* Tuple are immutable- we can't add and delete element in tuple\n",
    "\n",
    "* tuple can also be nested.\n",
    "\n",
    "* tuple also be access by index.\n",
    "\n",
    "* tuple also access by negative index.\n",
    "\n",
    "* tuple is faster than list \n",
    "\n",
    "why we use tuple if there is list because some time we don't want data to be modified so tuple work as a guard against accidental modification of data.\n",
    "\n"
   ]
  },
  {
   "cell_type": "markdown",
   "id": "99aa9bb9",
   "metadata": {},
   "source": [
    "#### Dictionary:\n",
    "\n",
    "* Dictionaries are used to store data values in key:value pairs.\n",
    "\n",
    "* A dictionary is a collection which is ordered*, changeable and do not allow duplicates.\n",
    "\n",
    "* As of Python version 3.7, dictionaries are ordered. In Python 3.6 and earlier, dictionaries are unordered.\n",
    "\n",
    "* Dictionaries are written with curly brackets, and have keys and values:\n",
    "\n",
    "* Keys in dictionaries need to be unique and only have immutable object as key, values can be mutable but keys must be immutable object"
   ]
  },
  {
   "cell_type": "markdown",
   "id": "5862591b",
   "metadata": {},
   "source": [
    "#### Set:\n",
    "\n",
    "* collection of unique data set, no elment can be repeated\n",
    "\n",
    "* we use {} to make set but empty {} will treat as dictionay \n",
    "\n",
    "* we also use 'set()' constructor to make sets.\n",
    "\n",
    "* set is also unordered like dictionary so can't access element by index.\n",
    "\n",
    "*  so set is mutable but set can contain only immutable object as an  element mutable type object can't be  element of set. \n",
    "\n",
    "* That's why set can't be nested."
   ]
  },
  {
   "cell_type": "code",
   "execution_count": 1,
   "id": "6c30ad3f",
   "metadata": {},
   "outputs": [
    {
     "data": {
      "text/plain": [
       "dict"
      ]
     },
     "execution_count": 1,
     "metadata": {},
     "output_type": "execute_result"
    }
   ],
   "source": [
    "d = {}\n",
    "type(d)"
   ]
  },
  {
   "cell_type": "code",
   "execution_count": 2,
   "id": "e65adc21",
   "metadata": {},
   "outputs": [],
   "source": [
    "d = {\"name\":\"abc@gmail.com\", \"name2\":\"xyz@gmail.com\"}"
   ]
  },
  {
   "cell_type": "code",
   "execution_count": 3,
   "id": "23bc70c3",
   "metadata": {},
   "outputs": [
    {
     "data": {
      "text/plain": [
       "{'name': 'abc@gmail.com', 'name2': 'xyz@gmail.com'}"
      ]
     },
     "execution_count": 3,
     "metadata": {},
     "output_type": "execute_result"
    }
   ],
   "source": [
    "d"
   ]
  },
  {
   "cell_type": "code",
   "execution_count": 4,
   "id": "8916e751",
   "metadata": {},
   "outputs": [
    {
     "data": {
      "text/plain": [
       "{'j': 3, 'k': 2}"
      ]
     },
     "execution_count": 4,
     "metadata": {},
     "output_type": "execute_result"
    }
   ],
   "source": [
    "dictionary = {\"j\":1, \"k\":2, \"j\":3}\n",
    "dictionary"
   ]
  },
  {
   "cell_type": "markdown",
   "id": "77e958ca",
   "metadata": {},
   "source": [
    "as we can't ses tht duplicate j , only last assigned value for j will be because key must be unique in dictionary."
   ]
  },
  {
   "cell_type": "code",
   "execution_count": 5,
   "id": "4a166247",
   "metadata": {},
   "outputs": [
    {
     "ename": "TypeError",
     "evalue": "unhashable type: 'list'",
     "output_type": "error",
     "traceback": [
      "\u001b[1;31m---------------------------------------------------------------------------\u001b[0m",
      "\u001b[1;31mTypeError\u001b[0m                                 Traceback (most recent call last)",
      "Input \u001b[1;32mIn [5]\u001b[0m, in \u001b[0;36m<cell line: 1>\u001b[1;34m()\u001b[0m\n\u001b[1;32m----> 1\u001b[0m d \u001b[38;5;241m=\u001b[39m {[\u001b[38;5;241m1\u001b[39m,\u001b[38;5;241m2\u001b[39m]:\u001b[38;5;124m\"\u001b[39m\u001b[38;5;124ma\u001b[39m\u001b[38;5;124m\"\u001b[39m}\n",
      "\u001b[1;31mTypeError\u001b[0m: unhashable type: 'list'"
     ]
    }
   ],
   "source": [
    "d = {[1,2]:\"a\"}"
   ]
  },
  {
   "cell_type": "markdown",
   "id": "ae458a8e",
   "metadata": {},
   "source": [
    "as we can see we can't use 'mutable' object as a 'key' "
   ]
  },
  {
   "cell_type": "code",
   "execution_count": 6,
   "id": "29741b01",
   "metadata": {},
   "outputs": [],
   "source": [
    "### checking for ordered \n",
    "\n",
    "d = {'1':1, '2':2}\n",
    "d1 = {'2':2, '1':1}"
   ]
  },
  {
   "cell_type": "code",
   "execution_count": 7,
   "id": "4057f28d",
   "metadata": {},
   "outputs": [
    {
     "data": {
      "text/plain": [
       "True"
      ]
     },
     "execution_count": 7,
     "metadata": {},
     "output_type": "execute_result"
    }
   ],
   "source": [
    "d == d1"
   ]
  },
  {
   "cell_type": "markdown",
   "id": "557a8f9a",
   "metadata": {},
   "source": [
    "as we got result True means dictionaries are unordered, so we can't access dictionaries by index"
   ]
  },
  {
   "cell_type": "code",
   "execution_count": 9,
   "id": "7ac19e08",
   "metadata": {},
   "outputs": [
    {
     "data": {
      "text/plain": [
       "1"
      ]
     },
     "execution_count": 9,
     "metadata": {},
     "output_type": "execute_result"
    }
   ],
   "source": [
    "d['1']"
   ]
  },
  {
   "cell_type": "code",
   "execution_count": 10,
   "id": "5835ffc0",
   "metadata": {},
   "outputs": [],
   "source": [
    "del d['1']"
   ]
  },
  {
   "cell_type": "code",
   "execution_count": 11,
   "id": "47827ea0",
   "metadata": {},
   "outputs": [
    {
     "data": {
      "text/plain": [
       "{'2': 2}"
      ]
     },
     "execution_count": 11,
     "metadata": {},
     "output_type": "execute_result"
    }
   ],
   "source": [
    "d"
   ]
  },
  {
   "cell_type": "code",
   "execution_count": 12,
   "id": "46ca3991",
   "metadata": {},
   "outputs": [],
   "source": [
    "# we can add value in dictionay using key\n",
    "d = {}"
   ]
  },
  {
   "cell_type": "code",
   "execution_count": 13,
   "id": "a2033f71",
   "metadata": {},
   "outputs": [
    {
     "data": {
      "text/plain": [
       "{'1': 1}"
      ]
     },
     "execution_count": 13,
     "metadata": {},
     "output_type": "execute_result"
    }
   ],
   "source": [
    "d['1'] = 1\n",
    "d"
   ]
  },
  {
   "cell_type": "code",
   "execution_count": 14,
   "id": "b50d892f",
   "metadata": {},
   "outputs": [
    {
     "data": {
      "text/plain": [
       "{'1': {1: 2}}"
      ]
     },
     "execution_count": 14,
     "metadata": {},
     "output_type": "execute_result"
    }
   ],
   "source": [
    "d = {'1': {1:2}}\n",
    "d"
   ]
  },
  {
   "cell_type": "code",
   "execution_count": 15,
   "id": "49e5d13f",
   "metadata": {},
   "outputs": [
    {
     "ename": "TypeError",
     "evalue": "unhashable type: 'dict'",
     "output_type": "error",
     "traceback": [
      "\u001b[1;31m---------------------------------------------------------------------------\u001b[0m",
      "\u001b[1;31mTypeError\u001b[0m                                 Traceback (most recent call last)",
      "Input \u001b[1;32mIn [15]\u001b[0m, in \u001b[0;36m<cell line: 1>\u001b[1;34m()\u001b[0m\n\u001b[1;32m----> 1\u001b[0m d \u001b[38;5;241m=\u001b[39m {{\u001b[38;5;241m1\u001b[39m:\u001b[38;5;241m2\u001b[39m}:\u001b[38;5;124m\"\u001b[39m\u001b[38;5;124ma\u001b[39m\u001b[38;5;124m\"\u001b[39m}\n\u001b[0;32m      2\u001b[0m d\n",
      "\u001b[1;31mTypeError\u001b[0m: unhashable type: 'dict'"
     ]
    }
   ],
   "source": [
    "d = {{1:2}:\"a\"}\n",
    "d"
   ]
  },
  {
   "cell_type": "markdown",
   "id": "c191c6ee",
   "metadata": {},
   "source": [
    "### Sets"
   ]
  },
  {
   "cell_type": "code",
   "execution_count": 16,
   "id": "150e91a5",
   "metadata": {},
   "outputs": [],
   "source": [
    "s = set()"
   ]
  },
  {
   "cell_type": "code",
   "execution_count": 17,
   "id": "dca42c29",
   "metadata": {},
   "outputs": [
    {
     "data": {
      "text/plain": [
       "set()"
      ]
     },
     "execution_count": 17,
     "metadata": {},
     "output_type": "execute_result"
    }
   ],
   "source": [
    "s"
   ]
  },
  {
   "cell_type": "code",
   "execution_count": 18,
   "id": "a5e38236",
   "metadata": {},
   "outputs": [
    {
     "data": {
      "text/plain": [
       "{'e', 'h', 'l', 'o'}"
      ]
     },
     "execution_count": 18,
     "metadata": {},
     "output_type": "execute_result"
    }
   ],
   "source": [
    "s = set(\"hello\")\n",
    "s"
   ]
  },
  {
   "cell_type": "code",
   "execution_count": 19,
   "id": "2148c69b",
   "metadata": {},
   "outputs": [
    {
     "data": {
      "text/plain": [
       "{1, 2, 3, 4}"
      ]
     },
     "execution_count": 19,
     "metadata": {},
     "output_type": "execute_result"
    }
   ],
   "source": [
    "s = set([1,2,3,4])\n",
    "s"
   ]
  },
  {
   "cell_type": "code",
   "execution_count": 20,
   "id": "d5b60099",
   "metadata": {},
   "outputs": [
    {
     "ename": "TypeError",
     "evalue": "set expected at most 1 argument, got 4",
     "output_type": "error",
     "traceback": [
      "\u001b[1;31m---------------------------------------------------------------------------\u001b[0m",
      "\u001b[1;31mTypeError\u001b[0m                                 Traceback (most recent call last)",
      "Input \u001b[1;32mIn [20]\u001b[0m, in \u001b[0;36m<cell line: 1>\u001b[1;34m()\u001b[0m\n\u001b[1;32m----> 1\u001b[0m s \u001b[38;5;241m=\u001b[39m \u001b[38;5;28;43mset\u001b[39;49m\u001b[43m(\u001b[49m\u001b[38;5;241;43m1\u001b[39;49m\u001b[43m,\u001b[49m\u001b[38;5;241;43m2\u001b[39;49m\u001b[43m,\u001b[49m\u001b[38;5;241;43m3\u001b[39;49m\u001b[43m,\u001b[49m\u001b[38;5;241;43m3\u001b[39;49m\u001b[43m)\u001b[49m\n\u001b[0;32m      2\u001b[0m s\n",
      "\u001b[1;31mTypeError\u001b[0m: set expected at most 1 argument, got 4"
     ]
    }
   ],
   "source": [
    "s = set(1,2,3,3) # we need pass as 1 arguments\n",
    "s"
   ]
  },
  {
   "cell_type": "code",
   "execution_count": 21,
   "id": "5b3bfd4d",
   "metadata": {},
   "outputs": [
    {
     "data": {
      "text/plain": [
       "{1, 2, 3, 4}"
      ]
     },
     "execution_count": 21,
     "metadata": {},
     "output_type": "execute_result"
    }
   ],
   "source": [
    "s = set((1,2,3,4))\n",
    "s"
   ]
  },
  {
   "cell_type": "code",
   "execution_count": 22,
   "id": "368359dd",
   "metadata": {},
   "outputs": [
    {
     "data": {
      "text/plain": [
       "{1, 2, 3}"
      ]
     },
     "execution_count": 22,
     "metadata": {},
     "output_type": "execute_result"
    }
   ],
   "source": [
    "s = {1,2,3,1,2,3}\n",
    "s"
   ]
  },
  {
   "cell_type": "code",
   "execution_count": 23,
   "id": "60c2b9ae",
   "metadata": {},
   "outputs": [],
   "source": [
    "# checking unordered \n",
    "\n",
    "s = {1,2,3,4}\n",
    "s1 = {2,3,1,4}\n"
   ]
  },
  {
   "cell_type": "code",
   "execution_count": 24,
   "id": "2e6bea48",
   "metadata": {},
   "outputs": [
    {
     "data": {
      "text/plain": [
       "True"
      ]
     },
     "execution_count": 24,
     "metadata": {},
     "output_type": "execute_result"
    }
   ],
   "source": [
    "s == s1"
   ]
  },
  {
   "cell_type": "markdown",
   "id": "b7b89433",
   "metadata": {},
   "source": [
    "As we can see we got True means set is also unordered."
   ]
  },
  {
   "cell_type": "code",
   "execution_count": 25,
   "id": "2828d7cd",
   "metadata": {},
   "outputs": [],
   "source": [
    "s = {1,2,3,4}\n",
    "s.add(3)"
   ]
  },
  {
   "cell_type": "code",
   "execution_count": 26,
   "id": "e1b6dbc7",
   "metadata": {},
   "outputs": [
    {
     "data": {
      "text/plain": [
       "{1, 2, 3, 4}"
      ]
     },
     "execution_count": 26,
     "metadata": {},
     "output_type": "execute_result"
    }
   ],
   "source": [
    "s"
   ]
  },
  {
   "cell_type": "code",
   "execution_count": 27,
   "id": "f4fad423",
   "metadata": {},
   "outputs": [
    {
     "data": {
      "text/plain": [
       "{1, 2, 3, 4, 5}"
      ]
     },
     "execution_count": 27,
     "metadata": {},
     "output_type": "execute_result"
    }
   ],
   "source": [
    "s.add(5)\n",
    "s"
   ]
  },
  {
   "cell_type": "markdown",
   "id": "f364624d",
   "metadata": {},
   "source": [
    "*  so set is mutable but set can contain only immutable object as an  element mutable type object can't be  element of set. "
   ]
  },
  {
   "cell_type": "code",
   "execution_count": 28,
   "id": "caf8d4cd",
   "metadata": {},
   "outputs": [
    {
     "ename": "TypeError",
     "evalue": "unhashable type: 'list'",
     "output_type": "error",
     "traceback": [
      "\u001b[1;31m---------------------------------------------------------------------------\u001b[0m",
      "\u001b[1;31mTypeError\u001b[0m                                 Traceback (most recent call last)",
      "Input \u001b[1;32mIn [28]\u001b[0m, in \u001b[0;36m<cell line: 1>\u001b[1;34m()\u001b[0m\n\u001b[1;32m----> 1\u001b[0m s \u001b[38;5;241m=\u001b[39m {[\u001b[38;5;241m1\u001b[39m,\u001b[38;5;241m2\u001b[39m,\u001b[38;5;241m3\u001b[39m,\u001b[38;5;241m4\u001b[39m], \u001b[38;5;241m5\u001b[39m}\n\u001b[0;32m      2\u001b[0m s\n",
      "\u001b[1;31mTypeError\u001b[0m: unhashable type: 'list'"
     ]
    }
   ],
   "source": [
    "s = {[1,2,3,4], 5}\n",
    "s"
   ]
  },
  {
   "cell_type": "markdown",
   "id": "9bc1d654",
   "metadata": {},
   "source": [
    "That's why set can't be nested "
   ]
  },
  {
   "cell_type": "code",
   "execution_count": 29,
   "id": "47a6bd13",
   "metadata": {},
   "outputs": [
    {
     "ename": "TypeError",
     "evalue": "unhashable type: 'set'",
     "output_type": "error",
     "traceback": [
      "\u001b[1;31m---------------------------------------------------------------------------\u001b[0m",
      "\u001b[1;31mTypeError\u001b[0m                                 Traceback (most recent call last)",
      "Input \u001b[1;32mIn [29]\u001b[0m, in \u001b[0;36m<cell line: 1>\u001b[1;34m()\u001b[0m\n\u001b[1;32m----> 1\u001b[0m s \u001b[38;5;241m=\u001b[39m {{\u001b[38;5;241m1\u001b[39m,\u001b[38;5;241m2\u001b[39m}, \u001b[38;5;241m3\u001b[39m,\u001b[38;5;241m4\u001b[39m}\n\u001b[0;32m      2\u001b[0m s\n",
      "\u001b[1;31mTypeError\u001b[0m: unhashable type: 'set'"
     ]
    }
   ],
   "source": [
    "s = {{1,2}, 3,4}\n",
    "s"
   ]
  },
  {
   "cell_type": "code",
   "execution_count": 30,
   "id": "ed37b321",
   "metadata": {},
   "outputs": [
    {
     "data": {
      "text/plain": [
       "{1, 1.3, 'hhf'}"
      ]
     },
     "execution_count": 30,
     "metadata": {},
     "output_type": "execute_result"
    }
   ],
   "source": [
    "# set can have different type of element.\n",
    "\n",
    "s = {\"hhf\", 1,1.3}\n",
    "s"
   ]
  },
  {
   "cell_type": "markdown",
   "id": "caaccf6f",
   "metadata": {},
   "source": [
    "* set is also unordered like dictionary so can't access element by index."
   ]
  },
  {
   "cell_type": "code",
   "execution_count": 31,
   "id": "6652b294",
   "metadata": {},
   "outputs": [
    {
     "ename": "TypeError",
     "evalue": "'set' object is not subscriptable",
     "output_type": "error",
     "traceback": [
      "\u001b[1;31m---------------------------------------------------------------------------\u001b[0m",
      "\u001b[1;31mTypeError\u001b[0m                                 Traceback (most recent call last)",
      "Input \u001b[1;32mIn [31]\u001b[0m, in \u001b[0;36m<cell line: 2>\u001b[1;34m()\u001b[0m\n\u001b[0;32m      1\u001b[0m s \u001b[38;5;241m=\u001b[39m {\u001b[38;5;124m\"\u001b[39m\u001b[38;5;124mhhf\u001b[39m\u001b[38;5;124m\"\u001b[39m, \u001b[38;5;241m1\u001b[39m,\u001b[38;5;241m1.3\u001b[39m}\n\u001b[1;32m----> 2\u001b[0m \u001b[43ms\u001b[49m\u001b[43m[\u001b[49m\u001b[38;5;241;43m1\u001b[39;49m\u001b[43m]\u001b[49m\n",
      "\u001b[1;31mTypeError\u001b[0m: 'set' object is not subscriptable"
     ]
    }
   ],
   "source": [
    "s = {\"hhf\", 1,1.3}\n",
    "s[1]"
   ]
  },
  {
   "cell_type": "code",
   "execution_count": 32,
   "id": "c4432648",
   "metadata": {},
   "outputs": [
    {
     "name": "stdout",
     "output_type": "stream",
     "text": [
      "1\n",
      "hhf\n",
      "1.3\n"
     ]
    }
   ],
   "source": [
    "# we can access like \n",
    "s = {\"hhf\", 1,1.3}\n",
    "for i in s:\n",
    "    print(i)"
   ]
  },
  {
   "cell_type": "markdown",
   "id": "6ad2b7d4",
   "metadata": {},
   "source": [
    "## User Defined Data structure\n",
    "\n",
    "* Stack\n",
    "\n",
    "* Queue\n",
    "\n",
    "* Linked List\n",
    "\n",
    "* Tree\n",
    "\n",
    "* Graph\n",
    "\n",
    "\n",
    "\n",
    "\n",
    "#### Stacks:\n",
    "* is an ordered collection of items.\n",
    "\n",
    "* `Last In First Out (LIFO)  or First In Last Out(FILO).`\n",
    "\n",
    "* `Stack store data element in similar fashion as bunch of plate that are kept one above the another in a kitchen.`\n",
    "\n",
    "* `A stack is a data structure that stores items in an `Last-In/First-Out manner`. This is frequently referred to as LIFO. This is in contrast to a queue, which stores items in a First-In/First-Out (FIFO) manner.`\n",
    "\n",
    "* `It’s probably easiest to understand a stack if you think of a use case you’re likely familiar with: the Undo feature in your editor.`\n",
    "\n",
    "#### Operations\n",
    "* Push -- add the element in stack.\n",
    "\n",
    "* Pop -- remove the element from stack.\n",
    "\n",
    "* Peek or Top -- give the element which is at the top.\n",
    "\n",
    "* isEmpty  -- give the information whether stack is empty or not."
   ]
  },
  {
   "cell_type": "code",
   "execution_count": 1,
   "id": "d8461a18",
   "metadata": {},
   "outputs": [
    {
     "data": {
      "text/plain": [
       "[10, 20, 30]"
      ]
     },
     "execution_count": 1,
     "metadata": {},
     "output_type": "execute_result"
    }
   ],
   "source": [
    "### stack is not built-in data structure.\n",
    "# push ---- append method\n",
    "# pop  ---- pop method\n",
    "\n",
    "stack = []\n",
    "stack.append(10)\n",
    "stack.append(20)\n",
    "stack.append(30)\n",
    "stack"
   ]
  },
  {
   "cell_type": "code",
   "execution_count": 2,
   "id": "9f4b3392",
   "metadata": {},
   "outputs": [
    {
     "data": {
      "text/plain": [
       "30"
      ]
     },
     "execution_count": 2,
     "metadata": {},
     "output_type": "execute_result"
    }
   ],
   "source": [
    "stack.pop()"
   ]
  },
  {
   "cell_type": "code",
   "execution_count": 3,
   "id": "1c847e92",
   "metadata": {},
   "outputs": [
    {
     "data": {
      "text/plain": [
       "20"
      ]
     },
     "execution_count": 3,
     "metadata": {},
     "output_type": "execute_result"
    }
   ],
   "source": [
    "stack.pop()"
   ]
  },
  {
   "cell_type": "code",
   "execution_count": 4,
   "id": "e9e08c58",
   "metadata": {},
   "outputs": [
    {
     "data": {
      "text/plain": [
       "10"
      ]
     },
     "execution_count": 4,
     "metadata": {},
     "output_type": "execute_result"
    }
   ],
   "source": [
    "stack.pop()"
   ]
  },
  {
   "cell_type": "markdown",
   "id": "0cd84959",
   "metadata": {},
   "source": [
    "as we can see that we first in last out method has been performed by appaned and pop method"
   ]
  },
  {
   "cell_type": "code",
   "execution_count": 5,
   "id": "1ead4b5c",
   "metadata": {},
   "outputs": [
    {
     "ename": "IndexError",
     "evalue": "pop from empty list",
     "output_type": "error",
     "traceback": [
      "\u001b[1;31m---------------------------------------------------------------------------\u001b[0m",
      "\u001b[1;31mIndexError\u001b[0m                                Traceback (most recent call last)",
      "Input \u001b[1;32mIn [5]\u001b[0m, in \u001b[0;36m<cell line: 1>\u001b[1;34m()\u001b[0m\n\u001b[1;32m----> 1\u001b[0m \u001b[43mstack\u001b[49m\u001b[38;5;241;43m.\u001b[39;49m\u001b[43mpop\u001b[49m\u001b[43m(\u001b[49m\u001b[43m)\u001b[49m\n",
      "\u001b[1;31mIndexError\u001b[0m: pop from empty list"
     ]
    }
   ],
   "source": [
    "stack.pop()"
   ]
  },
  {
   "cell_type": "code",
   "execution_count": 6,
   "id": "802d155f",
   "metadata": {},
   "outputs": [
    {
     "data": {
      "text/plain": [
       "True"
      ]
     },
     "execution_count": 6,
     "metadata": {},
     "output_type": "execute_result"
    }
   ],
   "source": [
    "# check whether stack is empty or not \n",
    "# we use len() method\n",
    "\n",
    "stack = []\n",
    "len(stack)==0"
   ]
  },
  {
   "cell_type": "code",
   "execution_count": 7,
   "id": "fb849bdd",
   "metadata": {},
   "outputs": [
    {
     "data": {
      "text/plain": [
       "True"
      ]
     },
     "execution_count": 7,
     "metadata": {},
     "output_type": "execute_result"
    }
   ],
   "source": [
    "not stack # checking whether stack is empty or not "
   ]
  },
  {
   "cell_type": "markdown",
   "id": "d54097d0",
   "metadata": {},
   "source": [
    "means stack is empty."
   ]
  },
  {
   "cell_type": "code",
   "execution_count": 8,
   "id": "a0765e9b",
   "metadata": {},
   "outputs": [],
   "source": [
    "### top --\n",
    "\n",
    "stack = []\n",
    "\n",
    "stack.append(10)\n",
    "stack.append(20)\n",
    "stack.append(30)"
   ]
  },
  {
   "cell_type": "code",
   "execution_count": 9,
   "id": "46804afc",
   "metadata": {},
   "outputs": [
    {
     "data": {
      "text/plain": [
       "30"
      ]
     },
     "execution_count": 9,
     "metadata": {},
     "output_type": "execute_result"
    }
   ],
   "source": [
    "# value at index -1 will be last entry or we can say top element of the stack.\n",
    "stack[-1]"
   ]
  },
  {
   "cell_type": "markdown",
   "id": "2cfd7d83",
   "metadata": {},
   "source": [
    "### Complete program for Stack \n",
    "\n",
    "\n",
    "#### How to implement stack using List?"
   ]
  },
  {
   "cell_type": "code",
   "execution_count": 2,
   "id": "33c9b23d",
   "metadata": {},
   "outputs": [
    {
     "name": "stdout",
     "output_type": "stream",
     "text": [
      "Select the operation 1.push 2.pop 3.quit\n",
      "1\n",
      "Enter the element: 23\n",
      "['23']\n",
      "Select the operation 1.push 2.pop 3.quit\n",
      "1\n",
      "Enter the element: 12\n",
      "['23', '12']\n",
      "Select the operation 1.push 2.pop 3.quit\n",
      "1\n",
      "Enter the element: 23\n",
      "['23', '12', '23']\n",
      "Select the operation 1.push 2.pop 3.quit\n",
      "3\n"
     ]
    }
   ],
   "source": [
    "stack = []\n",
    "\n",
    "def push():\n",
    "    element = input(\"Enter the element: \")\n",
    "    stack.append(element)\n",
    "    print(stack)\n",
    "    \n",
    "def pop_element():\n",
    "    if not stack:\n",
    "        print(\"Stack is empty!\")\n",
    "    else:\n",
    "        e = stack.pop()\n",
    "        print(\"Removed element: \", e)\n",
    "        print(stack)\n",
    "        \n",
    "while True:\n",
    "    \n",
    "    print(\"Select the operation 1.push 2.pop 3.quit\")\n",
    "    choice = int(input())\n",
    "    if choice ==1:\n",
    "        push()\n",
    "    elif choice ==2:\n",
    "        pop_element()\n",
    "    elif choice == 3:\n",
    "        break\n",
    "    else:\n",
    "        print(\"enter the correct operation!\")\n",
    "        \n",
    "# note it will work fine when we give input as integer for options but when by mistake we will\n",
    "# give some str input it will through an error to handle this in next program we will try except."
   ]
  },
  {
   "cell_type": "code",
   "execution_count": 9,
   "id": "d5fd20cd",
   "metadata": {},
   "outputs": [
    {
     "name": "stdout",
     "output_type": "stream",
     "text": [
      "Select the operation 1.push 2.pop 3.quit\n",
      "3\n"
     ]
    }
   ],
   "source": [
    "stack = []\n",
    "\n",
    "def push():\n",
    "    element = input(\"Enter the element: \")\n",
    "    stack.append(element)\n",
    "    print(stack)\n",
    "    \n",
    "def pop_element():\n",
    "    if not stack:\n",
    "        print(\"Stack is empty!\")\n",
    "    else:\n",
    "        e = stack.pop()\n",
    "        print(\"Removed element: \", e)\n",
    "        print(stack)\n",
    "        \n",
    "while True:\n",
    "    try:\n",
    "        print(\"Select the operation 1.push 2.pop 3.quit\")\n",
    "        choice = int(input())\n",
    "        if choice ==1:\n",
    "            push()\n",
    "        elif choice ==2:\n",
    "            pop_element()\n",
    "        elif choice == 3:\n",
    "            break\n",
    "        else:\n",
    "            print(\"enter the correct operation!\")\n",
    "    except:\n",
    "        print(\"It seems given wrong input \\nPlease select available option!\")\n",
    "        \n",
    "        \n"
   ]
  },
  {
   "cell_type": "code",
   "execution_count": 7,
   "id": "da060592",
   "metadata": {},
   "outputs": [
    {
     "name": "stdout",
     "output_type": "stream",
     "text": [
      "Enter the limit of stack: gj\n",
      "Please enter interger value only\n",
      "Enter the limit of stack: 4\n",
      "Select the operation 1.push 2.pop 3.quit\n",
      "dg\n",
      "It seems given wrong input \n",
      "Please select available option!\n",
      "Select the operation 1.push 2.pop 3.quit\n",
      "3\n"
     ]
    }
   ],
   "source": [
    "# we set limit to the stack \n",
    "\n",
    "stack = []\n",
    "\n",
    "def push():\n",
    "    if len(stack) == n:\n",
    "        print(\"stack is full!\")\n",
    "    else:\n",
    "        element = input(\"Enter the element: \")\n",
    "        stack.append(element)\n",
    "        print(stack)\n",
    "    \n",
    "def pop_element():\n",
    "    if not stack:\n",
    "        print(\"Stack is empty!\")\n",
    "    else:\n",
    "        e = stack.pop()\n",
    "        print(\"Removed element: \", e)\n",
    "        print(stack)\n",
    "#################################################################################\n",
    "###### for taking correct input for stack limit #################################\n",
    "while True:\n",
    "    try:\n",
    "        n = int(input(\"Enter the limit of stack: \"))\n",
    "        break\n",
    "    except:\n",
    "        print(\"Please enter interger value only\")\n",
    "        \n",
    "    \n",
    "#################################################################################\n",
    "################# Operation option ##############################################\n",
    "while True:\n",
    "    try:\n",
    "        # to handle str input by mistake.\n",
    "        print(\"Select the operation 1.push 2.pop 3.quit\")\n",
    "        choice = int(input())\n",
    "        if choice ==1:\n",
    "            push()\n",
    "        elif choice ==2:\n",
    "            pop_element()\n",
    "        elif choice == 3:\n",
    "            break\n",
    "        else:\n",
    "            print(\"enter the correct operation!\")\n",
    "    except:\n",
    "        print(\"It seems given wrong input \\nPlease select available option!\")\n",
    "        \n",
    "        "
   ]
  },
  {
   "cell_type": "code",
   "execution_count": 13,
   "id": "4494f370",
   "metadata": {},
   "outputs": [
    {
     "name": "stdout",
     "output_type": "stream",
     "text": [
      "Enter the stack limit : 3\n",
      "Select the operation 1.push 2.pop 3.quit\n",
      "4\n",
      "Please enter available option only!\n",
      "Select the operation 1.push 2.pop 3.quit\n",
      "a\n",
      "It seems wrong input please select correct operation!\n",
      "Select the operation 1.push 2.pop 3.quit\n",
      "2\n",
      "Select the operation 1.push 2.pop 3.quit\n",
      "3\n"
     ]
    }
   ],
   "source": [
    "stack = []\n",
    "\n",
    "def push():\n",
    "    if len(stack) == n:\n",
    "        print(\"Stack is full!\")\n",
    "        print(stack)\n",
    "    else:\n",
    "        element = input(\"Enter the element : \")\n",
    "        stack.append(element)\n",
    "        print(stack)\n",
    "                \n",
    "def pop_element():\n",
    "    if not stack:\n",
    "        print(\"Stack is empty\")\n",
    "        print(stack)\n",
    "    else:\n",
    "        e = stack.pop()\n",
    "        print(\"pop ementent is : \", e)\n",
    "        print(stack)\n",
    "        \n",
    "        \n",
    "n = int(input(\"Enter the stack limit : \"))\n",
    "\n",
    "while True:\n",
    "    \n",
    "    try:\n",
    "        print(\"Select the operation 1.push 2.pop 3.quit\")\n",
    "        choice = int(input())\n",
    "        if choice == 1:\n",
    "            push()\n",
    "        elif choice == 2:\n",
    "            pop_element\n",
    "        elif choice == 3:\n",
    "            break\n",
    "        else:\n",
    "            print(\"Please enter available option only!\")\n",
    "            \n",
    "    except:\n",
    "        print(\"It seems wrong input please select correct operation!\")\n",
    "        \n"
   ]
  },
  {
   "cell_type": "markdown",
   "id": "510086e4",
   "metadata": {},
   "source": [
    "`as we can see we have set the limit of the stack.`\n"
   ]
  },
  {
   "cell_type": "markdown",
   "id": "5320ff24",
   "metadata": {},
   "source": [
    "#### How to implement stack using different modules?\n",
    "\n",
    "*  `collections` module's  --- `deque` using this we can create stack.\n",
    "\n",
    "*  `Queue`  module's --- ` Lifoqueue` using this we can create stack."
   ]
  },
  {
   "cell_type": "markdown",
   "id": "4569d329",
   "metadata": {},
   "source": [
    "#### deque\n",
    "*  `Queue`  module's --- ` Lifoqueue` using this we can create stack."
   ]
  },
  {
   "cell_type": "code",
   "execution_count": 10,
   "id": "53018e6c",
   "metadata": {},
   "outputs": [
    {
     "data": {
      "text/plain": [
       "deque([])"
      ]
     },
     "execution_count": 10,
     "metadata": {},
     "output_type": "execute_result"
    }
   ],
   "source": [
    "import collections\n",
    "\n",
    "stack = collections.deque()\n",
    "\n",
    "stack"
   ]
  },
  {
   "cell_type": "code",
   "execution_count": 11,
   "id": "9bd25cf0",
   "metadata": {},
   "outputs": [
    {
     "data": {
      "text/plain": [
       "deque([10, 20, 30])"
      ]
     },
     "execution_count": 11,
     "metadata": {},
     "output_type": "execute_result"
    }
   ],
   "source": [
    "stack.append(10)\n",
    "stack.append(20)\n",
    "stack.append(30)\n",
    "stack"
   ]
  },
  {
   "cell_type": "code",
   "execution_count": 12,
   "id": "222f94d7",
   "metadata": {},
   "outputs": [
    {
     "data": {
      "text/plain": [
       "30"
      ]
     },
     "execution_count": 12,
     "metadata": {},
     "output_type": "execute_result"
    }
   ],
   "source": [
    "stack.pop()"
   ]
  },
  {
   "cell_type": "code",
   "execution_count": 13,
   "id": "639423c8",
   "metadata": {},
   "outputs": [
    {
     "data": {
      "text/plain": [
       "20"
      ]
     },
     "execution_count": 13,
     "metadata": {},
     "output_type": "execute_result"
    }
   ],
   "source": [
    "stack.pop()"
   ]
  },
  {
   "cell_type": "code",
   "execution_count": 14,
   "id": "cf5abe2c",
   "metadata": {},
   "outputs": [
    {
     "data": {
      "text/plain": [
       "10"
      ]
     },
     "execution_count": 14,
     "metadata": {},
     "output_type": "execute_result"
    }
   ],
   "source": [
    "stack.pop()"
   ]
  },
  {
   "cell_type": "code",
   "execution_count": 15,
   "id": "739df8a8",
   "metadata": {},
   "outputs": [
    {
     "ename": "IndexError",
     "evalue": "pop from an empty deque",
     "output_type": "error",
     "traceback": [
      "\u001b[1;31m---------------------------------------------------------------------------\u001b[0m",
      "\u001b[1;31mIndexError\u001b[0m                                Traceback (most recent call last)",
      "Input \u001b[1;32mIn [15]\u001b[0m, in \u001b[0;36m<cell line: 1>\u001b[1;34m()\u001b[0m\n\u001b[1;32m----> 1\u001b[0m \u001b[43mstack\u001b[49m\u001b[38;5;241;43m.\u001b[39;49m\u001b[43mpop\u001b[49m\u001b[43m(\u001b[49m\u001b[43m)\u001b[49m\n",
      "\u001b[1;31mIndexError\u001b[0m: pop from an empty deque"
     ]
    }
   ],
   "source": [
    "stack.pop()"
   ]
  },
  {
   "cell_type": "code",
   "execution_count": 16,
   "id": "f0e95b7a",
   "metadata": {},
   "outputs": [
    {
     "data": {
      "text/plain": [
       "True"
      ]
     },
     "execution_count": 16,
     "metadata": {},
     "output_type": "execute_result"
    }
   ],
   "source": [
    "not stack # checking for emptyness."
   ]
  },
  {
   "cell_type": "markdown",
   "id": "ad63a405",
   "metadata": {},
   "source": [
    "### Queue:\n",
    "\n",
    "*  `Queue`  module's --- ` Lifoqueue` using this we can create stack."
   ]
  },
  {
   "cell_type": "code",
   "execution_count": 17,
   "id": "b3366438",
   "metadata": {},
   "outputs": [],
   "source": [
    "import queue\n",
    "stack = queue.LifoQueue()\n"
   ]
  },
  {
   "cell_type": "code",
   "execution_count": 18,
   "id": "4cd5fe88",
   "metadata": {},
   "outputs": [],
   "source": [
    "# now here we putting values inside the stack using .put()\n",
    "stack.put(10)\n",
    "stack.put(20)\n",
    "stack.put(30)\n"
   ]
  },
  {
   "cell_type": "code",
   "execution_count": 27,
   "id": "9476bb82",
   "metadata": {},
   "outputs": [
    {
     "data": {
      "text/plain": [
       "<queue.LifoQueue at 0x1cd5b7df130>"
      ]
     },
     "execution_count": 27,
     "metadata": {},
     "output_type": "execute_result"
    }
   ],
   "source": [
    "stack \n",
    "\n",
    "# whenever we want print it directly will return the object of the stack not the values \n",
    "# "
   ]
  },
  {
   "cell_type": "code",
   "execution_count": 31,
   "id": "742163e1",
   "metadata": {},
   "outputs": [],
   "source": [
    "# .get() method "
   ]
  },
  {
   "cell_type": "code",
   "execution_count": 28,
   "id": "10a2ccf1",
   "metadata": {},
   "outputs": [
    {
     "data": {
      "text/plain": [
       "30"
      ]
     },
     "execution_count": 28,
     "metadata": {},
     "output_type": "execute_result"
    }
   ],
   "source": [
    "stack.get()"
   ]
  },
  {
   "cell_type": "code",
   "execution_count": 29,
   "id": "32b0bfc5",
   "metadata": {},
   "outputs": [
    {
     "data": {
      "text/plain": [
       "20"
      ]
     },
     "execution_count": 29,
     "metadata": {},
     "output_type": "execute_result"
    }
   ],
   "source": [
    "stack.get()"
   ]
  },
  {
   "cell_type": "code",
   "execution_count": 30,
   "id": "b6c49bc5",
   "metadata": {},
   "outputs": [
    {
     "data": {
      "text/plain": [
       "10"
      ]
     },
     "execution_count": 30,
     "metadata": {},
     "output_type": "execute_result"
    }
   ],
   "source": [
    "stack.get() # blocks untill the item is available "
   ]
  },
  {
   "cell_type": "code",
   "execution_count": null,
   "id": "c44c55da",
   "metadata": {},
   "outputs": [],
   "source": [
    "# now stack is empty and if want to perform this operation once again it will take time \n",
    "# to solve this we can use timeout parameter\n",
    "#stack.get()  # don't run it "
   ]
  },
  {
   "cell_type": "code",
   "execution_count": 20,
   "id": "8b089faf",
   "metadata": {},
   "outputs": [
    {
     "ename": "Full",
     "evalue": "",
     "output_type": "error",
     "traceback": [
      "\u001b[1;31m---------------------------------------------------------------------------\u001b[0m",
      "\u001b[1;31mFull\u001b[0m                                      Traceback (most recent call last)",
      "Input \u001b[1;32mIn [20]\u001b[0m, in \u001b[0;36m<cell line: 4>\u001b[1;34m()\u001b[0m\n\u001b[0;32m      2\u001b[0m stack \u001b[38;5;241m=\u001b[39m queue\u001b[38;5;241m.\u001b[39mLifoQueue(\u001b[38;5;241m1\u001b[39m)\n\u001b[0;32m      3\u001b[0m stack\u001b[38;5;241m.\u001b[39mput(\u001b[38;5;241m20\u001b[39m)\n\u001b[1;32m----> 4\u001b[0m \u001b[43mstack\u001b[49m\u001b[38;5;241;43m.\u001b[39;49m\u001b[43mput\u001b[49m\u001b[43m(\u001b[49m\u001b[38;5;241;43m30\u001b[39;49m\u001b[43m,\u001b[49m\u001b[43m \u001b[49m\u001b[43mtimeout\u001b[49m\u001b[38;5;241;43m=\u001b[39;49m\u001b[43m \u001b[49m\u001b[38;5;241;43m1\u001b[39;49m\u001b[43m)\u001b[49m\n",
      "File \u001b[1;32m~\\AppData\\Local\\Programs\\Python\\Python39\\lib\\queue.py:148\u001b[0m, in \u001b[0;36mQueue.put\u001b[1;34m(self, item, block, timeout)\u001b[0m\n\u001b[0;32m    146\u001b[0m             remaining \u001b[38;5;241m=\u001b[39m endtime \u001b[38;5;241m-\u001b[39m time()\n\u001b[0;32m    147\u001b[0m             \u001b[38;5;28;01mif\u001b[39;00m remaining \u001b[38;5;241m<\u001b[39m\u001b[38;5;241m=\u001b[39m \u001b[38;5;241m0.0\u001b[39m:\n\u001b[1;32m--> 148\u001b[0m                 \u001b[38;5;28;01mraise\u001b[39;00m Full\n\u001b[0;32m    149\u001b[0m             \u001b[38;5;28mself\u001b[39m\u001b[38;5;241m.\u001b[39mnot_full\u001b[38;5;241m.\u001b[39mwait(remaining)\n\u001b[0;32m    150\u001b[0m \u001b[38;5;28mself\u001b[39m\u001b[38;5;241m.\u001b[39m_put(item)\n",
      "\u001b[1;31mFull\u001b[0m: "
     ]
    }
   ],
   "source": [
    "import queue\n",
    "stack = queue.LifoQueue(1)\n",
    "stack.put(20)\n",
    "stack.put(30, timeout= 1)"
   ]
  },
  {
   "cell_type": "code",
   "execution_count": 19,
   "id": "83e55648",
   "metadata": {},
   "outputs": [
    {
     "ename": "Full",
     "evalue": "",
     "output_type": "error",
     "traceback": [
      "\u001b[1;31m---------------------------------------------------------------------------\u001b[0m",
      "\u001b[1;31mFull\u001b[0m                                      Traceback (most recent call last)",
      "Input \u001b[1;32mIn [19]\u001b[0m, in \u001b[0;36m<cell line: 9>\u001b[1;34m()\u001b[0m\n\u001b[0;32m      7\u001b[0m stack\u001b[38;5;241m.\u001b[39mput(\u001b[38;5;241m20\u001b[39m)\n\u001b[0;32m      8\u001b[0m stack\u001b[38;5;241m.\u001b[39mput(\u001b[38;5;241m30\u001b[39m)\n\u001b[1;32m----> 9\u001b[0m \u001b[43mstack\u001b[49m\u001b[38;5;241;43m.\u001b[39;49m\u001b[43mput\u001b[49m\u001b[43m(\u001b[49m\u001b[38;5;241;43m10\u001b[39;49m\u001b[43m,\u001b[49m\u001b[43m \u001b[49m\u001b[43mtimeout\u001b[49m\u001b[38;5;241;43m=\u001b[39;49m\u001b[38;5;241;43m1\u001b[39;49m\u001b[43m \u001b[49m\u001b[43m)\u001b[49m\n",
      "File \u001b[1;32m~\\AppData\\Local\\Programs\\Python\\Python39\\lib\\queue.py:148\u001b[0m, in \u001b[0;36mQueue.put\u001b[1;34m(self, item, block, timeout)\u001b[0m\n\u001b[0;32m    146\u001b[0m             remaining \u001b[38;5;241m=\u001b[39m endtime \u001b[38;5;241m-\u001b[39m time()\n\u001b[0;32m    147\u001b[0m             \u001b[38;5;28;01mif\u001b[39;00m remaining \u001b[38;5;241m<\u001b[39m\u001b[38;5;241m=\u001b[39m \u001b[38;5;241m0.0\u001b[39m:\n\u001b[1;32m--> 148\u001b[0m                 \u001b[38;5;28;01mraise\u001b[39;00m Full\n\u001b[0;32m    149\u001b[0m             \u001b[38;5;28mself\u001b[39m\u001b[38;5;241m.\u001b[39mnot_full\u001b[38;5;241m.\u001b[39mwait(remaining)\n\u001b[0;32m    150\u001b[0m \u001b[38;5;28mself\u001b[39m\u001b[38;5;241m.\u001b[39m_put(item)\n",
      "\u001b[1;31mFull\u001b[0m: "
     ]
    }
   ],
   "source": [
    "# we can limit stacks size by just passing the argument to .LifoQueue\n",
    "\n",
    "import queue\n",
    "\n",
    "stack = queue.LifoQueue(3)\n",
    "stack.put(10)\n",
    "stack.put(20)\n",
    "stack.put(30)\n",
    "stack.put(10, timeout=1 ) \n",
    "# here we know that stack is full so we gave timeout 1 second to tell this "
   ]
  },
  {
   "cell_type": "code",
   "execution_count": 33,
   "id": "16b0fe3c",
   "metadata": {},
   "outputs": [
    {
     "data": {
      "text/plain": [
       "30"
      ]
     },
     "execution_count": 33,
     "metadata": {},
     "output_type": "execute_result"
    }
   ],
   "source": [
    "#### we can use 'timeout' in 'get()' as well\n",
    "stack.get()"
   ]
  },
  {
   "cell_type": "code",
   "execution_count": 34,
   "id": "ae0e56a6",
   "metadata": {},
   "outputs": [
    {
     "data": {
      "text/plain": [
       "20"
      ]
     },
     "execution_count": 34,
     "metadata": {},
     "output_type": "execute_result"
    }
   ],
   "source": [
    "stack.get()"
   ]
  },
  {
   "cell_type": "code",
   "execution_count": 35,
   "id": "2ddbf79c",
   "metadata": {},
   "outputs": [
    {
     "data": {
      "text/plain": [
       "10"
      ]
     },
     "execution_count": 35,
     "metadata": {},
     "output_type": "execute_result"
    }
   ],
   "source": [
    "stack.get()"
   ]
  },
  {
   "cell_type": "code",
   "execution_count": 36,
   "id": "c0bce7fb",
   "metadata": {},
   "outputs": [
    {
     "ename": "Empty",
     "evalue": "",
     "output_type": "error",
     "traceback": [
      "\u001b[1;31m---------------------------------------------------------------------------\u001b[0m",
      "\u001b[1;31mEmpty\u001b[0m                                     Traceback (most recent call last)",
      "Input \u001b[1;32mIn [36]\u001b[0m, in \u001b[0;36m<cell line: 2>\u001b[1;34m()\u001b[0m\n\u001b[0;32m      1\u001b[0m \u001b[38;5;66;03m# now stack is empty so we will give some timeout to it \u001b[39;00m\n\u001b[1;32m----> 2\u001b[0m \u001b[43mstack\u001b[49m\u001b[38;5;241;43m.\u001b[39;49m\u001b[43mget\u001b[49m\u001b[43m(\u001b[49m\u001b[43mtimeout\u001b[49m\u001b[38;5;241;43m=\u001b[39;49m\u001b[38;5;241;43m1\u001b[39;49m\u001b[43m)\u001b[49m\n",
      "File \u001b[1;32m~\\AppData\\Local\\Programs\\Python\\Python39\\lib\\queue.py:179\u001b[0m, in \u001b[0;36mQueue.get\u001b[1;34m(self, block, timeout)\u001b[0m\n\u001b[0;32m    177\u001b[0m         remaining \u001b[38;5;241m=\u001b[39m endtime \u001b[38;5;241m-\u001b[39m time()\n\u001b[0;32m    178\u001b[0m         \u001b[38;5;28;01mif\u001b[39;00m remaining \u001b[38;5;241m<\u001b[39m\u001b[38;5;241m=\u001b[39m \u001b[38;5;241m0.0\u001b[39m:\n\u001b[1;32m--> 179\u001b[0m             \u001b[38;5;28;01mraise\u001b[39;00m Empty\n\u001b[0;32m    180\u001b[0m         \u001b[38;5;28mself\u001b[39m\u001b[38;5;241m.\u001b[39mnot_empty\u001b[38;5;241m.\u001b[39mwait(remaining)\n\u001b[0;32m    181\u001b[0m item \u001b[38;5;241m=\u001b[39m \u001b[38;5;28mself\u001b[39m\u001b[38;5;241m.\u001b[39m_get()\n",
      "\u001b[1;31mEmpty\u001b[0m: "
     ]
    }
   ],
   "source": [
    "# now stack is empty so we will give some timeout to it \n",
    "stack.get(timeout=1)"
   ]
  },
  {
   "cell_type": "markdown",
   "id": "a22e04d4",
   "metadata": {},
   "source": [
    "### Queue :\n",
    "\n",
    "* `Queue is an abstract data structure, somewhat similar to Stacks. Unlike stacks, a queue is open at both its ends. One end is always used to insert data (enqueue) and the other is used to remove data (dequeue). Queue follows First-In-First-Out methodology, i.e., the data item stored first will be accessed first.`\n",
    "\n",
    "\n",
    "* `A queue is a useful data structure in programming. It is similar to the ticket queue outside a cinema hall, where the first person entering the queue is the first person who gets the ticket.`\n",
    "\n",
    "* Queue follows the **First In First Out (FIFO) rule** - the item that goes in first is the item that comes out first.\n",
    "* **Last in Last out (LILO).**\n",
    "\n",
    "#### Basic Operations of Queue\n",
    "A queue is an object (an abstract data structure - ADT) that allows the following operations:\n",
    "\n",
    "* \n",
    "`**Enqueue:** Add an element to the end of the queue`\n",
    "* \n",
    "`**Dequeue:** Remove an element from the front of the queue`\n",
    "* \n",
    "`**IsEmpty:** Check if the queue is empty`\n",
    "* \n",
    "`**IsFull:** Check if the queue is full`\n",
    "* \n",
    "`**Peek:** Get the value of the front of the queue without removing it`"
   ]
  },
  {
   "cell_type": "markdown",
   "id": "b725caef",
   "metadata": {},
   "source": [
    "#### Queue using List:\n",
    "\n",
    "* `enqueue:` process of adding elements to queue.`(append() method)`\n",
    "\n",
    "* `dequeue:` process of removing the elements from the queue.`(pop() method) we need dequeue so pop(0) means we should give index.`"
   ]
  },
  {
   "cell_type": "code",
   "execution_count": 5,
   "id": "b302ab71",
   "metadata": {},
   "outputs": [
    {
     "data": {
      "text/plain": [
       "[10, 20, 30]"
      ]
     },
     "execution_count": 5,
     "metadata": {},
     "output_type": "execute_result"
    }
   ],
   "source": [
    "queue = []\n",
    "queue.append(10)\n",
    "queue.append(20)\n",
    "queue.append(30)\n",
    "queue"
   ]
  },
  {
   "cell_type": "code",
   "execution_count": 6,
   "id": "491d53da",
   "metadata": {},
   "outputs": [
    {
     "data": {
      "text/plain": [
       "10"
      ]
     },
     "execution_count": 6,
     "metadata": {},
     "output_type": "execute_result"
    }
   ],
   "source": [
    "queue.pop(0)"
   ]
  },
  {
   "cell_type": "code",
   "execution_count": 7,
   "id": "65115b82",
   "metadata": {},
   "outputs": [
    {
     "data": {
      "text/plain": [
       "20"
      ]
     },
     "execution_count": 7,
     "metadata": {},
     "output_type": "execute_result"
    }
   ],
   "source": [
    "queue.pop(0)"
   ]
  },
  {
   "cell_type": "code",
   "execution_count": 8,
   "id": "19771c68",
   "metadata": {},
   "outputs": [
    {
     "data": {
      "text/plain": [
       "30"
      ]
     },
     "execution_count": 8,
     "metadata": {},
     "output_type": "execute_result"
    }
   ],
   "source": [
    "queue.pop(0)"
   ]
  },
  {
   "cell_type": "markdown",
   "id": "e377fe64",
   "metadata": {},
   "source": [
    "As we can see now removing of element from first in first out method means queue."
   ]
  },
  {
   "cell_type": "code",
   "execution_count": 9,
   "id": "06af1db0",
   "metadata": {},
   "outputs": [
    {
     "ename": "IndexError",
     "evalue": "pop from empty list",
     "output_type": "error",
     "traceback": [
      "\u001b[1;31m---------------------------------------------------------------------------\u001b[0m",
      "\u001b[1;31mIndexError\u001b[0m                                Traceback (most recent call last)",
      "Input \u001b[1;32mIn [9]\u001b[0m, in \u001b[0;36m<cell line: 1>\u001b[1;34m()\u001b[0m\n\u001b[1;32m----> 1\u001b[0m \u001b[43mqueue\u001b[49m\u001b[38;5;241;43m.\u001b[39;49m\u001b[43mpop\u001b[49m\u001b[43m(\u001b[49m\u001b[38;5;241;43m0\u001b[39;49m\u001b[43m)\u001b[49m\n",
      "\u001b[1;31mIndexError\u001b[0m: pop from empty list"
     ]
    }
   ],
   "source": [
    "queue.pop(0)"
   ]
  },
  {
   "cell_type": "code",
   "execution_count": 10,
   "id": "53ea6c1c",
   "metadata": {},
   "outputs": [
    {
     "data": {
      "text/plain": [
       "[30, 20, 10]"
      ]
     },
     "execution_count": 10,
     "metadata": {},
     "output_type": "execute_result"
    }
   ],
   "source": [
    "# Another way doing the same \n",
    "\n",
    "queue = []\n",
    "\n",
    "queue.insert(0,10)\n",
    "queue.insert(0,20)\n",
    "queue.insert(0,30)\n",
    "queue"
   ]
  },
  {
   "cell_type": "code",
   "execution_count": 43,
   "id": "058b6209",
   "metadata": {},
   "outputs": [
    {
     "data": {
      "text/plain": [
       "10"
      ]
     },
     "execution_count": 43,
     "metadata": {},
     "output_type": "execute_result"
    }
   ],
   "source": [
    "# when we inserted the data by insert method and in every insertion we gave index 0 then \n",
    "# no need to give the index here 10 inserted first and by pop() method it will remove automaticaly.\n",
    "queue.pop()\n"
   ]
  },
  {
   "cell_type": "code",
   "execution_count": 44,
   "id": "300ded3b",
   "metadata": {},
   "outputs": [
    {
     "data": {
      "text/plain": [
       "20"
      ]
     },
     "execution_count": 44,
     "metadata": {},
     "output_type": "execute_result"
    }
   ],
   "source": [
    "queue.pop()\n"
   ]
  },
  {
   "cell_type": "code",
   "execution_count": 45,
   "id": "8c908fbb",
   "metadata": {},
   "outputs": [
    {
     "data": {
      "text/plain": [
       "30"
      ]
     },
     "execution_count": 45,
     "metadata": {},
     "output_type": "execute_result"
    }
   ],
   "source": [
    "queue.pop()\n"
   ]
  },
  {
   "cell_type": "code",
   "execution_count": 46,
   "id": "d1ed2d9f",
   "metadata": {},
   "outputs": [
    {
     "data": {
      "text/plain": [
       "True"
      ]
     },
     "execution_count": 46,
     "metadata": {},
     "output_type": "execute_result"
    }
   ],
   "source": [
    "# checking emptyness \n",
    "\n",
    "not queue"
   ]
  },
  {
   "cell_type": "code",
   "execution_count": 47,
   "id": "dce9dc18",
   "metadata": {},
   "outputs": [
    {
     "data": {
      "text/plain": [
       "[30, 20, 10]"
      ]
     },
     "execution_count": 47,
     "metadata": {},
     "output_type": "execute_result"
    }
   ],
   "source": [
    "queue = []\n",
    "\n",
    "queue.insert(0,10)\n",
    "queue.insert(0,20)\n",
    "queue.insert(0,30)\n",
    "queue"
   ]
  },
  {
   "cell_type": "code",
   "execution_count": 48,
   "id": "f35ffb02",
   "metadata": {},
   "outputs": [
    {
     "data": {
      "text/plain": [
       "10"
      ]
     },
     "execution_count": 48,
     "metadata": {},
     "output_type": "execute_result"
    }
   ],
   "source": [
    "# checking element rear and front\n",
    "\n",
    "queue[-1]"
   ]
  },
  {
   "cell_type": "code",
   "execution_count": 49,
   "id": "091e981f",
   "metadata": {},
   "outputs": [
    {
     "data": {
      "text/plain": [
       "30"
      ]
     },
     "execution_count": 49,
     "metadata": {},
     "output_type": "execute_result"
    }
   ],
   "source": [
    "queue[0]"
   ]
  },
  {
   "cell_type": "markdown",
   "id": "aacacaa7",
   "metadata": {},
   "source": [
    "#### Complete Queue program"
   ]
  },
  {
   "cell_type": "code",
   "execution_count": 21,
   "id": "06ed8a44",
   "metadata": {},
   "outputs": [
    {
     "name": "stdout",
     "output_type": "stream",
     "text": [
      "Select the operation 1.add 2.remove 3.show 4.quit\n",
      "1\n",
      "Enter the element: 12\n",
      "12 is added to queue\n",
      "Select the operation 1.add 2.remove 3.show 4.quit\n",
      "1\n",
      "Enter the element: 23\n",
      "23 is added to queue\n",
      "Select the operation 1.add 2.remove 3.show 4.quit\n",
      "3\n",
      "['12', '23']\n",
      "Select the operation 1.add 2.remove 3.show 4.quit\n",
      "4\n"
     ]
    }
   ],
   "source": [
    "queue = []\n",
    "\n",
    "def enqueue():\n",
    "    element = input(\"Enter the element: \")\n",
    "    queue.append(element)\n",
    "    print(element, \"is added to queue\")\n",
    "    \n",
    "def dequeue():\n",
    "    if not queue:\n",
    "        print(\"queue is empty!\")\n",
    "    else:\n",
    "        e = queue.pop(0)\n",
    "        print(\"removed element : \", e)\n",
    "        \n",
    "def display():\n",
    "    print(queue)\n",
    "    \n",
    "    \n",
    "while True:\n",
    "    try:\n",
    "        print(\"Select the Queue operations\\n1.enque, 2.dequeue, 3.show, 4.quit\")\n",
    "        choice = int(input())\n",
    "        if choice == 1:\n",
    "            enqueue()\n",
    "        elif choice == 2:\n",
    "            dequeue()\n",
    "        elif choice ==3:\n",
    "            display()\n",
    "        elif choice == 4:\n",
    "            break\n",
    "        else:\n",
    "            print(\"Enter the available option only!\")\n",
    "    except Exception as e:\n",
    "        print(e)"
   ]
  },
  {
   "cell_type": "code",
   "execution_count": null,
   "id": "9624ea04",
   "metadata": {},
   "outputs": [],
   "source": []
  },
  {
   "cell_type": "markdown",
   "id": "52d2b282",
   "metadata": {},
   "source": [
    "#### How to implement stack using different modules?\n",
    "\n",
    "*  `collections` module's  --- `deque` using this we can create Queue.\n",
    "\n",
    "* we use `leftappend` method to append value to the left side. or  we use `popleft` method to pop the value from left side."
   ]
  },
  {
   "cell_type": "code",
   "execution_count": 50,
   "id": "d93acf7a",
   "metadata": {},
   "outputs": [
    {
     "data": {
      "text/plain": [
       "deque([])"
      ]
     },
     "execution_count": 50,
     "metadata": {},
     "output_type": "execute_result"
    }
   ],
   "source": [
    "import collections\n",
    "\n",
    "q = collections.deque()\n",
    "q"
   ]
  },
  {
   "cell_type": "code",
   "execution_count": 52,
   "id": "1c86def7",
   "metadata": {},
   "outputs": [],
   "source": [
    "# will use appendleft() method - which appends the values left to the previously appended element\n",
    "# this appendleft() work in dequeue only\n",
    "q.appendleft(10)\n"
   ]
  },
  {
   "cell_type": "code",
   "execution_count": 53,
   "id": "1bd40aa6",
   "metadata": {},
   "outputs": [],
   "source": [
    "q.appendleft(20)\n"
   ]
  },
  {
   "cell_type": "code",
   "execution_count": 54,
   "id": "8ad4cf78",
   "metadata": {},
   "outputs": [],
   "source": [
    "q.appendleft(30)\n"
   ]
  },
  {
   "cell_type": "code",
   "execution_count": 55,
   "id": "8be47647",
   "metadata": {},
   "outputs": [
    {
     "data": {
      "text/plain": [
       "deque([30, 20, 10, 10])"
      ]
     },
     "execution_count": 55,
     "metadata": {},
     "output_type": "execute_result"
    }
   ],
   "source": [
    "q"
   ]
  },
  {
   "cell_type": "code",
   "execution_count": 56,
   "id": "22d60379",
   "metadata": {},
   "outputs": [
    {
     "data": {
      "text/plain": [
       "10"
      ]
     },
     "execution_count": 56,
     "metadata": {},
     "output_type": "execute_result"
    }
   ],
   "source": [
    "q.pop()"
   ]
  },
  {
   "cell_type": "code",
   "execution_count": 57,
   "id": "524772bd",
   "metadata": {},
   "outputs": [
    {
     "data": {
      "text/plain": [
       "10"
      ]
     },
     "execution_count": 57,
     "metadata": {},
     "output_type": "execute_result"
    }
   ],
   "source": [
    "q.pop()"
   ]
  },
  {
   "cell_type": "code",
   "execution_count": 58,
   "id": "8ec553c7",
   "metadata": {},
   "outputs": [
    {
     "data": {
      "text/plain": [
       "20"
      ]
     },
     "execution_count": 58,
     "metadata": {},
     "output_type": "execute_result"
    }
   ],
   "source": [
    "q.pop()"
   ]
  },
  {
   "cell_type": "code",
   "execution_count": 59,
   "id": "1c633784",
   "metadata": {},
   "outputs": [
    {
     "data": {
      "text/plain": [
       "30"
      ]
     },
     "execution_count": 59,
     "metadata": {},
     "output_type": "execute_result"
    }
   ],
   "source": [
    "q.pop()"
   ]
  },
  {
   "cell_type": "code",
   "execution_count": 61,
   "id": "8f25440c",
   "metadata": {},
   "outputs": [
    {
     "data": {
      "text/plain": [
       "deque([10, 20, 30])"
      ]
     },
     "execution_count": 61,
     "metadata": {},
     "output_type": "execute_result"
    }
   ],
   "source": [
    "# will use popleft() method  means it will remove the elements from beggining not from last as normal\n",
    "# pop() method does and one more thing we just want to clear that we will not use appendleft()\n",
    "# method along with popleft () we need to be careful about this. means only one of them need to use\n",
    "# at a time\n",
    "\n",
    "\n",
    "import collections\n",
    "\n",
    "q = collections.deque()\n",
    "q.append(10)\n",
    "q.append(20)\n",
    "q.append(30)\n",
    "q\n"
   ]
  },
  {
   "cell_type": "code",
   "execution_count": 62,
   "id": "9fc54058",
   "metadata": {},
   "outputs": [
    {
     "data": {
      "text/plain": [
       "10"
      ]
     },
     "execution_count": 62,
     "metadata": {},
     "output_type": "execute_result"
    }
   ],
   "source": [
    "q.popleft()"
   ]
  },
  {
   "cell_type": "code",
   "execution_count": 63,
   "id": "dab22e4e",
   "metadata": {},
   "outputs": [
    {
     "data": {
      "text/plain": [
       "20"
      ]
     },
     "execution_count": 63,
     "metadata": {},
     "output_type": "execute_result"
    }
   ],
   "source": [
    "q.popleft()"
   ]
  },
  {
   "cell_type": "code",
   "execution_count": 64,
   "id": "526bbb3b",
   "metadata": {},
   "outputs": [
    {
     "data": {
      "text/plain": [
       "30"
      ]
     },
     "execution_count": 64,
     "metadata": {},
     "output_type": "execute_result"
    }
   ],
   "source": [
    "q.popleft()"
   ]
  },
  {
   "cell_type": "code",
   "execution_count": 65,
   "id": "eaaaaa60",
   "metadata": {},
   "outputs": [
    {
     "ename": "IndexError",
     "evalue": "pop from an empty deque",
     "output_type": "error",
     "traceback": [
      "\u001b[1;31m---------------------------------------------------------------------------\u001b[0m",
      "\u001b[1;31mIndexError\u001b[0m                                Traceback (most recent call last)",
      "Input \u001b[1;32mIn [65]\u001b[0m, in \u001b[0;36m<cell line: 1>\u001b[1;34m()\u001b[0m\n\u001b[1;32m----> 1\u001b[0m \u001b[43mq\u001b[49m\u001b[38;5;241;43m.\u001b[39;49m\u001b[43mpopleft\u001b[49m\u001b[43m(\u001b[49m\u001b[43m)\u001b[49m\n",
      "\u001b[1;31mIndexError\u001b[0m: pop from an empty deque"
     ]
    }
   ],
   "source": [
    "q.popleft()"
   ]
  },
  {
   "cell_type": "code",
   "execution_count": 37,
   "id": "0350dc50",
   "metadata": {},
   "outputs": [
    {
     "data": {
      "text/plain": [
       "True"
      ]
     },
     "execution_count": 37,
     "metadata": {},
     "output_type": "execute_result"
    }
   ],
   "source": [
    "not q"
   ]
  },
  {
   "cell_type": "code",
   "execution_count": 38,
   "id": "1d35e7a7",
   "metadata": {},
   "outputs": [
    {
     "data": {
      "text/plain": [
       "deque([10, 20, 30])"
      ]
     },
     "execution_count": 38,
     "metadata": {},
     "output_type": "execute_result"
    }
   ],
   "source": [
    "# checking for last element and first element\n",
    "\n",
    "import collections\n",
    "\n",
    "q = collections.deque()\n",
    "q.append(10)\n",
    "q.append(20)\n",
    "q.append(30)\n",
    "q\n"
   ]
  },
  {
   "cell_type": "code",
   "execution_count": 40,
   "id": "d077d511",
   "metadata": {},
   "outputs": [
    {
     "data": {
      "text/plain": [
       "10"
      ]
     },
     "execution_count": 40,
     "metadata": {},
     "output_type": "execute_result"
    }
   ],
   "source": [
    "q[0]"
   ]
  },
  {
   "cell_type": "code",
   "execution_count": 41,
   "id": "3aebf58e",
   "metadata": {},
   "outputs": [
    {
     "data": {
      "text/plain": [
       "30"
      ]
     },
     "execution_count": 41,
     "metadata": {},
     "output_type": "execute_result"
    }
   ],
   "source": [
    "q[-1]"
   ]
  },
  {
   "cell_type": "markdown",
   "id": "d7d9dec1",
   "metadata": {},
   "source": [
    "### Queue\n",
    "*  `queue`  module's --- `Queue` object  using this we can create Queue.\n",
    "\n",
    "* `queue` module contains different classes like Queue, Lifoqueue, PriorityQueue.\n",
    "\n",
    "*  `queue.queue(maxsize = 0)`  queue is infinite length so we need to give maxsize to limit the queue otherwise it will be infinte size.\n",
    "\n",
    "* `put(item, block= True, timeout)` and `put_nowait(item)` it will insert the element in Queue.\n",
    "\n",
    "*  `get(block= True, timeout = None)` it will remove the element from Queue once Queue is empty it won't print queue empty message instead of that it will block untill the item is available, to avoid that we can set Block = False, timeout = 1 or as per your own."
   ]
  },
  {
   "cell_type": "code",
   "execution_count": 21,
   "id": "ceaaa20d",
   "metadata": {},
   "outputs": [
    {
     "data": {
      "text/plain": [
       "<queue.Queue at 0x1fe525b83d0>"
      ]
     },
     "execution_count": 21,
     "metadata": {},
     "output_type": "execute_result"
    }
   ],
   "source": [
    "import queue\n",
    "\n",
    "q = queue.Queue()\n",
    "q.put(10)\n",
    "q.put(20)\n",
    "q.put(30)\n",
    "q"
   ]
  },
  {
   "cell_type": "code",
   "execution_count": 22,
   "id": "ca061e9e",
   "metadata": {},
   "outputs": [
    {
     "data": {
      "text/plain": [
       "10"
      ]
     },
     "execution_count": 22,
     "metadata": {},
     "output_type": "execute_result"
    }
   ],
   "source": [
    "q.get()\n"
   ]
  },
  {
   "cell_type": "code",
   "execution_count": 23,
   "id": "b536b355",
   "metadata": {},
   "outputs": [
    {
     "data": {
      "text/plain": [
       "20"
      ]
     },
     "execution_count": 23,
     "metadata": {},
     "output_type": "execute_result"
    }
   ],
   "source": [
    "q.get()"
   ]
  },
  {
   "cell_type": "code",
   "execution_count": 24,
   "id": "2098653d",
   "metadata": {},
   "outputs": [
    {
     "data": {
      "text/plain": [
       "30"
      ]
     },
     "execution_count": 24,
     "metadata": {},
     "output_type": "execute_result"
    }
   ],
   "source": [
    "q.get()"
   ]
  },
  {
   "cell_type": "code",
   "execution_count": null,
   "id": "184d9786",
   "metadata": {},
   "outputs": [],
   "source": [
    "## now queue is empty to without given tiemout don't run it further it will take time\n",
    "#q.get()"
   ]
  },
  {
   "cell_type": "code",
   "execution_count": 25,
   "id": "d248ad9c",
   "metadata": {},
   "outputs": [
    {
     "ename": "Empty",
     "evalue": "",
     "output_type": "error",
     "traceback": [
      "\u001b[1;31m---------------------------------------------------------------------------\u001b[0m",
      "\u001b[1;31mEmpty\u001b[0m                                     Traceback (most recent call last)",
      "Input \u001b[1;32mIn [25]\u001b[0m, in \u001b[0;36m<cell line: 1>\u001b[1;34m()\u001b[0m\n\u001b[1;32m----> 1\u001b[0m \u001b[43mq\u001b[49m\u001b[38;5;241;43m.\u001b[39;49m\u001b[43mget\u001b[49m\u001b[43m(\u001b[49m\u001b[43mtimeout\u001b[49m\u001b[38;5;241;43m=\u001b[39;49m\u001b[38;5;241;43m0.2\u001b[39;49m\u001b[43m)\u001b[49m\n",
      "File \u001b[1;32m~\\AppData\\Local\\Programs\\Python\\Python39\\lib\\queue.py:179\u001b[0m, in \u001b[0;36mQueue.get\u001b[1;34m(self, block, timeout)\u001b[0m\n\u001b[0;32m    177\u001b[0m         remaining \u001b[38;5;241m=\u001b[39m endtime \u001b[38;5;241m-\u001b[39m time()\n\u001b[0;32m    178\u001b[0m         \u001b[38;5;28;01mif\u001b[39;00m remaining \u001b[38;5;241m<\u001b[39m\u001b[38;5;241m=\u001b[39m \u001b[38;5;241m0.0\u001b[39m:\n\u001b[1;32m--> 179\u001b[0m             \u001b[38;5;28;01mraise\u001b[39;00m Empty\n\u001b[0;32m    180\u001b[0m         \u001b[38;5;28mself\u001b[39m\u001b[38;5;241m.\u001b[39mnot_empty\u001b[38;5;241m.\u001b[39mwait(remaining)\n\u001b[0;32m    181\u001b[0m item \u001b[38;5;241m=\u001b[39m \u001b[38;5;28mself\u001b[39m\u001b[38;5;241m.\u001b[39m_get()\n",
      "\u001b[1;31mEmpty\u001b[0m: "
     ]
    }
   ],
   "source": [
    "q.get(timeout=0.2)"
   ]
  },
  {
   "cell_type": "code",
   "execution_count": null,
   "id": "3932d0a7",
   "metadata": {},
   "outputs": [],
   "source": []
  }
 ],
 "metadata": {
  "kernelspec": {
   "display_name": "Python 3 (ipykernel)",
   "language": "python",
   "name": "python3"
  },
  "language_info": {
   "codemirror_mode": {
    "name": "ipython",
    "version": 3
   },
   "file_extension": ".py",
   "mimetype": "text/x-python",
   "name": "python",
   "nbconvert_exporter": "python",
   "pygments_lexer": "ipython3",
   "version": "3.9.7"
  }
 },
 "nbformat": 4,
 "nbformat_minor": 5
}
