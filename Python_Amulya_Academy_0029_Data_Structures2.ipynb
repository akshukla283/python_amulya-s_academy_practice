{
 "cells": [
  {
   "cell_type": "markdown",
   "id": "64389b61",
   "metadata": {},
   "source": [
    "### Data Structures:\n",
    "\n",
    "* `\"Way to store and organize the data so that it can be accessed effectively.\"`\n",
    "\n",
    "*  `Data Structures are a specialized means of organizing and storing data in computers in such a way that we can perform operations on the stored data more efficiently. Data structures have a wide and diverse scope of usage across the fields of Computer Science and Software Engineering.`\n",
    "\n",
    "#### Built-in \n",
    "\n",
    "* list\n",
    "\n",
    "* Tuple\n",
    "\n",
    "* Set\n",
    "\n",
    "* Dictionary\n",
    "\n",
    "#### User Defined \n",
    "\n",
    "* Stack\n",
    "\n",
    "* Queue\n",
    "\n",
    "* Linked List\n",
    "\n",
    "* Tree\n",
    "\n",
    "* Graph"
   ]
  },
  {
   "cell_type": "markdown",
   "id": "fde06773",
   "metadata": {},
   "source": [
    "#### Priority Queue:\n",
    "\n",
    "* it are the modified version of queues in which each element is associated with the priority and served according to their priority in the queue. \n",
    "\n",
    "* it's example in real life like in hospitals a critical patient will be treated as the priority basis.\n",
    "\n",
    "* e.g.  10, 20, 30 , 100, 70, 50  suppose here 20's priority is highest amongs the all then 20 will be served first and after this will serve which have the second highest priority in this.\n",
    "\n",
    "* then how to set the priority in some cases the value of element itself is consider for the assigning  priority or we can take the tuple or tuple in that value and its priority.\n",
    "\n",
    "* if we take element itself consider the priority then lowest the value highest the priority and highest the value lowest the pripority.\n",
    "\n",
    "* if we take highest value as priority then highest value will be removed first. and if we take lowest value as priority then lowest value will be removed first.\n",
    "\n",
    "\n",
    "#### how to implement priority in python? \n",
    "\n",
    "`1. List:`  -- append the list and after inserting the value need to sort the list and then remove the element.\n",
    "\n",
    "* if we take `lowest value` as `high priority` then sort the list in `ascending order`. \n",
    "\n",
    "* if we take `higher value` as `highest priority` thrn sort the value in `descending order`.\n",
    "\n",
    "`2. Priority by Queue:`\n",
    "\n",
    "* then entry should kept sorted using heap queue module it will use the binary heap data structure and the lowest entries retrives first."
   ]
  },
  {
   "cell_type": "code",
   "execution_count": 1,
   "id": "343aa43d",
   "metadata": {},
   "outputs": [
    {
     "data": {
      "text/plain": [
       "[10, 40]"
      ]
     },
     "execution_count": 1,
     "metadata": {},
     "output_type": "execute_result"
    }
   ],
   "source": [
    "## e.g\n",
    "q = []\n",
    "q.append(10)\n",
    "q.append(40)\n",
    "q.sort()\n",
    "q"
   ]
  },
  {
   "cell_type": "code",
   "execution_count": 2,
   "id": "7784eb5e",
   "metadata": {},
   "outputs": [],
   "source": [
    "q.append(20)"
   ]
  },
  {
   "cell_type": "code",
   "execution_count": 3,
   "id": "9253ab21",
   "metadata": {},
   "outputs": [
    {
     "data": {
      "text/plain": [
       "[10, 20, 40]"
      ]
     },
     "execution_count": 3,
     "metadata": {},
     "output_type": "execute_result"
    }
   ],
   "source": [
    "q.sort()\n",
    "q"
   ]
  },
  {
   "cell_type": "code",
   "execution_count": 4,
   "id": "c92fe558",
   "metadata": {},
   "outputs": [
    {
     "data": {
      "text/plain": [
       "10"
      ]
     },
     "execution_count": 4,
     "metadata": {},
     "output_type": "execute_result"
    }
   ],
   "source": [
    "q.pop(0)"
   ]
  },
  {
   "cell_type": "code",
   "execution_count": 5,
   "id": "d2ce0960",
   "metadata": {},
   "outputs": [
    {
     "data": {
      "text/plain": [
       "20"
      ]
     },
     "execution_count": 5,
     "metadata": {},
     "output_type": "execute_result"
    }
   ],
   "source": [
    "q.pop(0)"
   ]
  },
  {
   "cell_type": "code",
   "execution_count": 6,
   "id": "e3ade6ab",
   "metadata": {},
   "outputs": [
    {
     "data": {
      "text/plain": [
       "40"
      ]
     },
     "execution_count": 6,
     "metadata": {},
     "output_type": "execute_result"
    }
   ],
   "source": [
    "q.pop(0)"
   ]
  },
  {
   "cell_type": "markdown",
   "id": "4398db1e",
   "metadata": {},
   "source": [
    "`2. PriorityQueue():`\n",
    "\n",
    "* then entry should kept sorted using heap queue module it will use the binary heap data structure and the lowest entries retrives first."
   ]
  },
  {
   "cell_type": "code",
   "execution_count": 7,
   "id": "73a6f981",
   "metadata": {},
   "outputs": [
    {
     "data": {
      "text/plain": [
       "<queue.PriorityQueue at 0x282d7095430>"
      ]
     },
     "execution_count": 7,
     "metadata": {},
     "output_type": "execute_result"
    }
   ],
   "source": [
    "import queue\n",
    "\n",
    "q = queue.PriorityQueue()\n",
    "q.put(10)\n",
    "q.put(60)\n",
    "q.put(20)\n",
    "q.put(40)\n",
    "q.put(40)\n",
    "q"
   ]
  },
  {
   "cell_type": "code",
   "execution_count": 8,
   "id": "14864f59",
   "metadata": {},
   "outputs": [
    {
     "data": {
      "text/plain": [
       "10"
      ]
     },
     "execution_count": 8,
     "metadata": {},
     "output_type": "execute_result"
    }
   ],
   "source": [
    "q.get()"
   ]
  },
  {
   "cell_type": "code",
   "execution_count": 9,
   "id": "81e0dae4",
   "metadata": {},
   "outputs": [
    {
     "data": {
      "text/plain": [
       "20"
      ]
     },
     "execution_count": 9,
     "metadata": {},
     "output_type": "execute_result"
    }
   ],
   "source": [
    "q.get()"
   ]
  },
  {
   "cell_type": "code",
   "execution_count": 10,
   "id": "8cbf93e4",
   "metadata": {},
   "outputs": [
    {
     "data": {
      "text/plain": [
       "40"
      ]
     },
     "execution_count": 10,
     "metadata": {},
     "output_type": "execute_result"
    }
   ],
   "source": [
    "q.get()"
   ]
  },
  {
   "cell_type": "code",
   "execution_count": 11,
   "id": "103bfda3",
   "metadata": {},
   "outputs": [
    {
     "data": {
      "text/plain": [
       "40"
      ]
     },
     "execution_count": 11,
     "metadata": {},
     "output_type": "execute_result"
    }
   ],
   "source": [
    "q.get()"
   ]
  },
  {
   "cell_type": "code",
   "execution_count": 12,
   "id": "21f26967",
   "metadata": {},
   "outputs": [
    {
     "data": {
      "text/plain": [
       "60"
      ]
     },
     "execution_count": 12,
     "metadata": {},
     "output_type": "execute_result"
    }
   ],
   "source": [
    "q.get()"
   ]
  },
  {
   "cell_type": "code",
   "execution_count": 13,
   "id": "43f0a5ca",
   "metadata": {},
   "outputs": [],
   "source": [
    "# q.get()\n"
   ]
  },
  {
   "cell_type": "code",
   "execution_count": 14,
   "id": "91301189",
   "metadata": {},
   "outputs": [
    {
     "data": {
      "text/plain": [
       "[(1, 'hello'), (2, 'hi')]"
      ]
     },
     "execution_count": 14,
     "metadata": {},
     "output_type": "execute_result"
    }
   ],
   "source": [
    "lst= []\n",
    "lst.append((1,\"hello\"))\n",
    "lst.append((2,\"hi\"))\n",
    "lst"
   ]
  },
  {
   "cell_type": "code",
   "execution_count": 17,
   "id": "ddce262e",
   "metadata": {},
   "outputs": [
    {
     "data": {
      "text/plain": [
       "[(1, 'alexa'), (4, 'alex'), (2, 'al')]"
      ]
     },
     "execution_count": 17,
     "metadata": {},
     "output_type": "execute_result"
    }
   ],
   "source": [
    "# adding priority\n",
    "# and here we are taking the highest value as highest priority.\n",
    "\n",
    "q = []\n",
    "q.append((1,\"alexa\"))\n",
    "q.append((4,\"alex\"))\n",
    "q.append((2,\"al\"))\n",
    "q"
   ]
  },
  {
   "cell_type": "code",
   "execution_count": 18,
   "id": "7449f245",
   "metadata": {},
   "outputs": [
    {
     "data": {
      "text/plain": [
       "[(4, 'alex'), (2, 'al'), (1, 'alexa')]"
      ]
     },
     "execution_count": 18,
     "metadata": {},
     "output_type": "execute_result"
    }
   ],
   "source": [
    "q.sort(reverse=True)\n",
    "q"
   ]
  },
  {
   "cell_type": "code",
   "execution_count": 19,
   "id": "a6a43867",
   "metadata": {},
   "outputs": [
    {
     "data": {
      "text/plain": [
       "(4, 'alex')"
      ]
     },
     "execution_count": 19,
     "metadata": {},
     "output_type": "execute_result"
    }
   ],
   "source": [
    "q.pop(0)"
   ]
  },
  {
   "cell_type": "code",
   "execution_count": 20,
   "id": "8734c362",
   "metadata": {},
   "outputs": [
    {
     "data": {
      "text/plain": [
       "(2, 'al')"
      ]
     },
     "execution_count": 20,
     "metadata": {},
     "output_type": "execute_result"
    }
   ],
   "source": [
    "q.pop(0)"
   ]
  },
  {
   "cell_type": "code",
   "execution_count": 21,
   "id": "19ba6ab0",
   "metadata": {},
   "outputs": [
    {
     "data": {
      "text/plain": [
       "(1, 'alexa')"
      ]
     },
     "execution_count": 21,
     "metadata": {},
     "output_type": "execute_result"
    }
   ],
   "source": [
    "q.pop(0)"
   ]
  },
  {
   "cell_type": "markdown",
   "id": "813ff56c",
   "metadata": {},
   "source": [
    "### 3. Linked List:\n",
    "\n",
    "* A linked list is a linear data structure that includes a series of connected nodes. Here, each node stores the data and the address of the next node. \n",
    "\n",
    "* element of linked list known as node.\n",
    "\n",
    "* reference of node is store in pevious node.\n",
    "\n",
    "* first node which store first reference known as 'Head' and the last one node which contain null reference known as 'tail'.\n",
    "\n",
    "* linked list is dynamic data structure, size of linked list is not fix we can modify that while performing the operation on that.\n",
    "\n",
    "* each node will contain reference and linked of next node beacuse of that element of the node of the linked list stored randomly in memory we don't need conteseous memory allocation.\n",
    "\n",
    "\n",
    "#### Advantage of linked list:\n",
    "* it is a Dynamic data structure so it uses dynamic memory allocation, while creating the linked list no need to metion the size of linked list.\n",
    "\n",
    "* element can be inserted or removed easily from any position.\n",
    "\n",
    "* we can implement stack queue graph.\n",
    "\n",
    "* linked list are used to represent and manipulate polynomials.\n",
    "\n",
    "* in real life we use linked list in web browser to go next and previous page.\n",
    "\n",
    "* we can also use it in music player: songs are linked , image viewer: images are linked.\n",
    "\n",
    "\n",
    "#### disadvantage of linked list:\n",
    "\n",
    "* here each node will store data field and reference of next node so it needs extra memory.\n",
    "\n",
    "* No element can be access randomly, has to access each node.\n",
    "\n",
    "\n",
    "### Type of linked list:\n",
    "There are three common types of Linked List.\n",
    "\n",
    "1.  **Singly Linked List**\n",
    "\n",
    "* It is the most common. Each node has data and a pointer to the next node.\n",
    "\n",
    "\n",
    "\n",
    "2.  **Doubly Linked List**\n",
    "\n",
    "* We add a pointer to the previous node in a doubly-linked list. Thus, we can go in either direction: forward or backward.\n",
    "\n",
    "3.  **Circular Linked List**\n",
    "\n",
    "* A circular linked list is a variation of a linked list in which the last element is linked to the first element. This forms a circular loop."
   ]
  },
  {
   "cell_type": "code",
   "execution_count": null,
   "id": "691cc0e1",
   "metadata": {},
   "outputs": [],
   "source": []
  }
 ],
 "metadata": {
  "kernelspec": {
   "display_name": "Python 3 (ipykernel)",
   "language": "python",
   "name": "python3"
  },
  "language_info": {
   "codemirror_mode": {
    "name": "ipython",
    "version": 3
   },
   "file_extension": ".py",
   "mimetype": "text/x-python",
   "name": "python",
   "nbconvert_exporter": "python",
   "pygments_lexer": "ipython3",
   "version": "3.9.7"
  }
 },
 "nbformat": 4,
 "nbformat_minor": 5
}
