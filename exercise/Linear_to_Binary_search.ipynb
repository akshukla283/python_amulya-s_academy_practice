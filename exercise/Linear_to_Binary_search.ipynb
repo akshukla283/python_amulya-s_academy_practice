{
 "cells": [
  {
   "cell_type": "markdown",
   "id": "19975835",
   "metadata": {},
   "source": [
    "#### 1. Linear Search "
   ]
  },
  {
   "cell_type": "code",
   "execution_count": 3,
   "id": "93c03a11",
   "metadata": {},
   "outputs": [
    {
     "name": "stdout",
     "output_type": "stream",
     "text": [
      "List1 is :  [34, 23, 5, 6, 7, 7, 7, 1, 23, 8]\n",
      "\n",
      "Enter the key element: 7\n",
      "Key found in the list at index : \n",
      "4, 5, 6, "
     ]
    }
   ],
   "source": [
    "def linear_search(list1, key):\n",
    "    # we need a list to store the duplicate index\n",
    "    list2 = []\n",
    "    flag = False\n",
    "    for i in range(len(list1)):\n",
    "        if key == list1[i]:\n",
    "            flag = True\n",
    "            list2.append(i)\n",
    "        else:\n",
    "            pass\n",
    "    \n",
    "    if flag == True:\n",
    "        print(\"Key found in the list at index : \")\n",
    "        for i in list2:\n",
    "            print(i, end = \", \")\n",
    "    else:\n",
    "        print(\"Key is not found in the list!\")\n",
    "\n",
    "\n",
    "\n",
    "list1 = [34,23,5,6,7, 7,7,1,23,8]\n",
    "print(\"List1 is : \", list1 )\n",
    "print()\n",
    "key = int(input(\"Enter the key element: \"))\n",
    "linear_search(list1, key)\n"
   ]
  },
  {
   "cell_type": "markdown",
   "id": "0ea51403",
   "metadata": {},
   "source": [
    "#### 2. Binary Search "
   ]
  },
  {
   "cell_type": "code",
   "execution_count": 6,
   "id": "3f6f850b",
   "metadata": {},
   "outputs": [
    {
     "name": "stdout",
     "output_type": "stream",
     "text": [
      "Sorted list:  [1, 2, 3, 4, 23]\n",
      "Enter the key you want to search: 233\n",
      "Key is not found in the list!\n"
     ]
    }
   ],
   "source": [
    "# Iterative Method\n",
    "\n",
    "# function to binary search \n",
    "\n",
    "def binarysearch(list1, key):\n",
    "    # first we will take first and last index of the list so that we can get mid element\n",
    "    low_ind = 0\n",
    "    high_ind = len(list1) -1   # as we know len provide length of list and we need last index\n",
    "    \n",
    "    found = False\n",
    "    while low_ind < high_ind and not found:\n",
    "        mid = (low_ind + high_ind)//2\n",
    "        if key == list1[mid]:\n",
    "            found = True\n",
    "        elif key > list1[mid]:\n",
    "            low_ind = mid + 1  # if key is grater then definetly it will be at right to the mid \n",
    "        else:\n",
    "            high_ind = mid - 1 # else it will be at left to the mid value\n",
    "    if found == True:\n",
    "        print(\"Key is found  in the list!\")\n",
    "    else:\n",
    "        print(\"Key is not found in the list!\")\n",
    "\n",
    "\n",
    "list1 = [23,1,4,2,3]\n",
    "list1.sort()\n",
    "print(\"Sorted list: \", list1)\n",
    "key = int(input(\"Enter the key you want to search: \"))\n",
    "binarysearch(list1, key)"
   ]
  },
  {
   "cell_type": "code",
   "execution_count": null,
   "id": "13cac281",
   "metadata": {},
   "outputs": [],
   "source": []
  }
 ],
 "metadata": {
  "kernelspec": {
   "display_name": "Python 3 (ipykernel)",
   "language": "python",
   "name": "python3"
  },
  "language_info": {
   "codemirror_mode": {
    "name": "ipython",
    "version": 3
   },
   "file_extension": ".py",
   "mimetype": "text/x-python",
   "name": "python",
   "nbconvert_exporter": "python",
   "pygments_lexer": "ipython3",
   "version": "3.9.7"
  }
 },
 "nbformat": 4,
 "nbformat_minor": 5
}
