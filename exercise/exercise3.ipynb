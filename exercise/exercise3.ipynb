{
 "cells": [
  {
   "cell_type": "code",
   "execution_count": 1,
   "id": "a4c46a0c",
   "metadata": {},
   "outputs": [
    {
     "data": {
      "text/plain": [
       "<function __main__.outer.<locals>.inner()>"
      ]
     },
     "execution_count": 1,
     "metadata": {},
     "output_type": "execute_result"
    }
   ],
   "source": [
    "# enclosing function\n",
    "\n",
    "def outer():\n",
    "    x = 10\n",
    "    def inner():\n",
    "        y = 20\n",
    "        \n",
    "        def inner2():\n",
    "            z = 10\n",
    "            result = x+y+z\n",
    "            print(\"x in inner most local scope : \", x)\n",
    "            print(\"y in inner most local scope : \", y)\n",
    "            print(\"z in inner most local scope : \", z)\n",
    "        return inner2\n",
    "    return inner\n",
    "\n",
    "outer()"
   ]
  },
  {
   "cell_type": "code",
   "execution_count": 6,
   "id": "cb987372",
   "metadata": {},
   "outputs": [
    {
     "name": "stdout",
     "output_type": "stream",
     "text": [
      "x in inner most local scope :  10\n",
      "y in inner most local scope :  20\n",
      "z in inner most local scope :  10\n"
     ]
    }
   ],
   "source": [
    "outer()()()  # to call inner most function "
   ]
  },
  {
   "cell_type": "code",
   "execution_count": 7,
   "id": "5aca25ee",
   "metadata": {},
   "outputs": [
    {
     "name": "stdout",
     "output_type": "stream",
     "text": [
      "x in inner most local scope :  10\n",
      "y in inner most local scope :  20\n",
      "z in inner most local scope :  10\n"
     ]
    }
   ],
   "source": [
    "# if we will return as function instead of reference then no need to triple paranthesis ()\n",
    "def outer():\n",
    "    x = 10\n",
    "    def inner():\n",
    "        y = 20\n",
    "        \n",
    "        def inner2():\n",
    "            z = 10\n",
    "            result = x+y+z\n",
    "            print(\"x in inner most local scope : \", x)\n",
    "            print(\"y in inner most local scope : \", y)\n",
    "            print(\"z in inner most local scope : \", z)\n",
    "        return inner2()\n",
    "    return inner()\n",
    "\n",
    "outer()"
   ]
  },
  {
   "cell_type": "markdown",
   "id": "8a433887",
   "metadata": {},
   "source": [
    "As we can see that when we return inner function as function instead of function reference then no need to extra paranthesis."
   ]
  },
  {
   "cell_type": "code",
   "execution_count": 11,
   "id": "00340ec4",
   "metadata": {},
   "outputs": [
    {
     "ename": "UnboundLocalError",
     "evalue": "local variable 'y' referenced before assignment",
     "output_type": "error",
     "traceback": [
      "\u001b[1;31m---------------------------------------------------------------------------\u001b[0m",
      "\u001b[1;31mUnboundLocalError\u001b[0m                         Traceback (most recent call last)",
      "Input \u001b[1;32mIn [11]\u001b[0m, in \u001b[0;36m<cell line: 10>\u001b[1;34m()\u001b[0m\n\u001b[0;32m      7\u001b[0m         \u001b[38;5;28mprint\u001b[39m(\u001b[38;5;124m\"\u001b[39m\u001b[38;5;124my in inner fucntion\u001b[39m\u001b[38;5;124m\"\u001b[39m)\n\u001b[0;32m      8\u001b[0m     inner()\n\u001b[1;32m---> 10\u001b[0m \u001b[43mouter\u001b[49m\u001b[43m(\u001b[49m\u001b[43m)\u001b[49m\n",
      "Input \u001b[1;32mIn [11]\u001b[0m, in \u001b[0;36mouter\u001b[1;34m()\u001b[0m\n\u001b[0;32m      6\u001b[0m     y \u001b[38;5;241m=\u001b[39m y\u001b[38;5;241m+\u001b[39m\u001b[38;5;241m10\u001b[39m\n\u001b[0;32m      7\u001b[0m     \u001b[38;5;28mprint\u001b[39m(\u001b[38;5;124m\"\u001b[39m\u001b[38;5;124my in inner fucntion\u001b[39m\u001b[38;5;124m\"\u001b[39m)\n\u001b[1;32m----> 8\u001b[0m \u001b[43minner\u001b[49m\u001b[43m(\u001b[49m\u001b[43m)\u001b[49m\n",
      "Input \u001b[1;32mIn [11]\u001b[0m, in \u001b[0;36mouter.<locals>.inner\u001b[1;34m()\u001b[0m\n\u001b[0;32m      4\u001b[0m \u001b[38;5;28;01mdef\u001b[39;00m \u001b[38;5;21minner\u001b[39m():\n\u001b[1;32m----> 6\u001b[0m     y \u001b[38;5;241m=\u001b[39m \u001b[43my\u001b[49m\u001b[38;5;241m+\u001b[39m\u001b[38;5;241m10\u001b[39m\n\u001b[0;32m      7\u001b[0m     \u001b[38;5;28mprint\u001b[39m(\u001b[38;5;124m\"\u001b[39m\u001b[38;5;124my in inner fucntion\u001b[39m\u001b[38;5;124m\"\u001b[39m)\n",
      "\u001b[1;31mUnboundLocalError\u001b[0m: local variable 'y' referenced before assignment"
     ]
    }
   ],
   "source": [
    "def outer():\n",
    "    y = 20\n",
    "    \n",
    "    def inner():\n",
    "        \n",
    "        y = y+10\n",
    "        print(\"y in inner fucntion\")\n",
    "    inner()\n",
    "    \n",
    "outer()"
   ]
  },
  {
   "cell_type": "markdown",
   "id": "11fdd49e",
   "metadata": {},
   "source": [
    "as we can see that we can't modify enclosing variable in the inner function. for this we need to use 'nonlocal' keyword."
   ]
  },
  {
   "cell_type": "code",
   "execution_count": 14,
   "id": "d085682a",
   "metadata": {},
   "outputs": [
    {
     "name": "stdout",
     "output_type": "stream",
     "text": [
      "y in inner fucntion :  30\n"
     ]
    }
   ],
   "source": [
    "def outer():\n",
    "    y = 20\n",
    "    \n",
    "    def inner():\n",
    "        nonlocal y\n",
    "        y = y+10\n",
    "        print(\"y in inner fucntion : \", y)\n",
    "    inner()\n",
    "    \n",
    "outer()"
   ]
  },
  {
   "cell_type": "code",
   "execution_count": 15,
   "id": "65511be6",
   "metadata": {},
   "outputs": [
    {
     "ename": "NameError",
     "evalue": "name 'y' is not defined",
     "output_type": "error",
     "traceback": [
      "\u001b[1;31m---------------------------------------------------------------------------\u001b[0m",
      "\u001b[1;31mNameError\u001b[0m                                 Traceback (most recent call last)",
      "Input \u001b[1;32mIn [15]\u001b[0m, in \u001b[0;36m<cell line: 1>\u001b[1;34m()\u001b[0m\n\u001b[1;32m----> 1\u001b[0m \u001b[38;5;28mprint\u001b[39m(\u001b[38;5;124m\"\u001b[39m\u001b[38;5;124my in global scope : \u001b[39m\u001b[38;5;124m\"\u001b[39m, \u001b[43my\u001b[49m)\n",
      "\u001b[1;31mNameError\u001b[0m: name 'y' is not defined"
     ]
    }
   ],
   "source": [
    "print(\"y in global scope : \", y)"
   ]
  },
  {
   "cell_type": "markdown",
   "id": "cba37432",
   "metadata": {},
   "source": [
    "instead of using 'nonlocal' keyword we can't access the local scope variable in global scope, we can achive this only by 'global' keyword."
   ]
  },
  {
   "cell_type": "code",
   "execution_count": 16,
   "id": "ad9cfbf1",
   "metadata": {},
   "outputs": [
    {
     "ename": "NameError",
     "evalue": "name 'y' is not defined",
     "output_type": "error",
     "traceback": [
      "\u001b[1;31m---------------------------------------------------------------------------\u001b[0m",
      "\u001b[1;31mNameError\u001b[0m                                 Traceback (most recent call last)",
      "Input \u001b[1;32mIn [16]\u001b[0m, in \u001b[0;36m<cell line: 10>\u001b[1;34m()\u001b[0m\n\u001b[0;32m      7\u001b[0m         \u001b[38;5;28mprint\u001b[39m(\u001b[38;5;124m\"\u001b[39m\u001b[38;5;124my in inner fucntion : \u001b[39m\u001b[38;5;124m\"\u001b[39m, y)\n\u001b[0;32m      8\u001b[0m     inner()\n\u001b[1;32m---> 10\u001b[0m \u001b[43mouter\u001b[49m\u001b[43m(\u001b[49m\u001b[43m)\u001b[49m\n",
      "Input \u001b[1;32mIn [16]\u001b[0m, in \u001b[0;36mouter\u001b[1;34m()\u001b[0m\n\u001b[0;32m      6\u001b[0m     y \u001b[38;5;241m=\u001b[39m y\u001b[38;5;241m+\u001b[39m\u001b[38;5;241m10\u001b[39m\n\u001b[0;32m      7\u001b[0m     \u001b[38;5;28mprint\u001b[39m(\u001b[38;5;124m\"\u001b[39m\u001b[38;5;124my in inner fucntion : \u001b[39m\u001b[38;5;124m\"\u001b[39m, y)\n\u001b[1;32m----> 8\u001b[0m \u001b[43minner\u001b[49m\u001b[43m(\u001b[49m\u001b[43m)\u001b[49m\n",
      "Input \u001b[1;32mIn [16]\u001b[0m, in \u001b[0;36mouter.<locals>.inner\u001b[1;34m()\u001b[0m\n\u001b[0;32m      4\u001b[0m \u001b[38;5;28;01mdef\u001b[39;00m \u001b[38;5;21minner\u001b[39m():\n\u001b[0;32m      5\u001b[0m     \u001b[38;5;28;01mglobal\u001b[39;00m y\n\u001b[1;32m----> 6\u001b[0m     y \u001b[38;5;241m=\u001b[39m \u001b[43my\u001b[49m\u001b[38;5;241m+\u001b[39m\u001b[38;5;241m10\u001b[39m\n\u001b[0;32m      7\u001b[0m     \u001b[38;5;28mprint\u001b[39m(\u001b[38;5;124m\"\u001b[39m\u001b[38;5;124my in inner fucntion : \u001b[39m\u001b[38;5;124m\"\u001b[39m, y)\n",
      "\u001b[1;31mNameError\u001b[0m: name 'y' is not defined"
     ]
    }
   ],
   "source": [
    "def outer():\n",
    "    \n",
    "    y = 20\n",
    "    \n",
    "    def inner():\n",
    "        global y\n",
    "        y = y+10\n",
    "        print(\"y in inner fucntion : \", y)\n",
    "    inner()\n",
    "    \n",
    "outer()"
   ]
  },
  {
   "cell_type": "code",
   "execution_count": 18,
   "id": "5a7da1c7",
   "metadata": {},
   "outputs": [
    {
     "ename": "UnboundLocalError",
     "evalue": "local variable 'y' referenced before assignment",
     "output_type": "error",
     "traceback": [
      "\u001b[1;31m---------------------------------------------------------------------------\u001b[0m",
      "\u001b[1;31mUnboundLocalError\u001b[0m                         Traceback (most recent call last)",
      "Input \u001b[1;32mIn [18]\u001b[0m, in \u001b[0;36m<cell line: 11>\u001b[1;34m()\u001b[0m\n\u001b[0;32m      8\u001b[0m         \u001b[38;5;28mprint\u001b[39m(\u001b[38;5;124m\"\u001b[39m\u001b[38;5;124my in inner fucntion : \u001b[39m\u001b[38;5;124m\"\u001b[39m, y)\n\u001b[0;32m      9\u001b[0m     inner()\n\u001b[1;32m---> 11\u001b[0m \u001b[43mouter\u001b[49m\u001b[43m(\u001b[49m\u001b[43m)\u001b[49m\n",
      "Input \u001b[1;32mIn [18]\u001b[0m, in \u001b[0;36mouter\u001b[1;34m()\u001b[0m\n\u001b[0;32m      7\u001b[0m     y \u001b[38;5;241m=\u001b[39m y\u001b[38;5;241m+\u001b[39m\u001b[38;5;241m10\u001b[39m\n\u001b[0;32m      8\u001b[0m     \u001b[38;5;28mprint\u001b[39m(\u001b[38;5;124m\"\u001b[39m\u001b[38;5;124my in inner fucntion : \u001b[39m\u001b[38;5;124m\"\u001b[39m, y)\n\u001b[1;32m----> 9\u001b[0m \u001b[43minner\u001b[49m\u001b[43m(\u001b[49m\u001b[43m)\u001b[49m\n",
      "Input \u001b[1;32mIn [18]\u001b[0m, in \u001b[0;36mouter.<locals>.inner\u001b[1;34m()\u001b[0m\n\u001b[0;32m      5\u001b[0m \u001b[38;5;28;01mdef\u001b[39;00m \u001b[38;5;21minner\u001b[39m():\n\u001b[1;32m----> 7\u001b[0m     y \u001b[38;5;241m=\u001b[39m \u001b[43my\u001b[49m\u001b[38;5;241m+\u001b[39m\u001b[38;5;241m10\u001b[39m\n\u001b[0;32m      8\u001b[0m     \u001b[38;5;28mprint\u001b[39m(\u001b[38;5;124m\"\u001b[39m\u001b[38;5;124my in inner fucntion : \u001b[39m\u001b[38;5;124m\"\u001b[39m, y)\n",
      "\u001b[1;31mUnboundLocalError\u001b[0m: local variable 'y' referenced before assignment"
     ]
    }
   ],
   "source": [
    "def outer():\n",
    "    global y\n",
    "    y = 20\n",
    "    \n",
    "    def inner():\n",
    "        \n",
    "        y = y+10\n",
    "        print(\"y in inner fucntion : \", y)\n",
    "    inner()\n",
    "    \n",
    "outer()"
   ]
  },
  {
   "cell_type": "code",
   "execution_count": 19,
   "id": "7a111fe3",
   "metadata": {},
   "outputs": [
    {
     "ename": "SyntaxError",
     "evalue": "no binding for nonlocal 'y' found (1570820446.py, line 6)",
     "output_type": "error",
     "traceback": [
      "\u001b[1;36m  Input \u001b[1;32mIn [19]\u001b[1;36m\u001b[0m\n\u001b[1;33m    nonlocal y\u001b[0m\n\u001b[1;37m    ^\u001b[0m\n\u001b[1;31mSyntaxError\u001b[0m\u001b[1;31m:\u001b[0m no binding for nonlocal 'y' found\n"
     ]
    }
   ],
   "source": [
    "\n",
    "def outer():\n",
    "    global y\n",
    "    y = 20\n",
    "    \n",
    "    def inner():\n",
    "        nonlocal y\n",
    "        y = y+10\n",
    "        print(\"y in inner fucntion : \", y)\n",
    "    inner()\n",
    "    \n",
    "outer()"
   ]
  },
  {
   "cell_type": "code",
   "execution_count": 23,
   "id": "429bf797",
   "metadata": {},
   "outputs": [
    {
     "name": "stdout",
     "output_type": "stream",
     "text": [
      "y in inner fucntion :  30\n"
     ]
    }
   ],
   "source": [
    "y = 10\n",
    "def outer():\n",
    "    y = 20\n",
    "    \n",
    "    def inner():\n",
    "        nonlocal y\n",
    "        y = y+10\n",
    "        print(\"y in inner fucntion : \", y)\n",
    "    inner()\n",
    "    \n",
    "outer()"
   ]
  },
  {
   "cell_type": "code",
   "execution_count": 24,
   "id": "1454f415",
   "metadata": {},
   "outputs": [
    {
     "name": "stdout",
     "output_type": "stream",
     "text": [
      "y in inner fucntion :  30\n",
      "y at global scope :  10\n"
     ]
    }
   ],
   "source": [
    "y = 10\n",
    "def outer():\n",
    "    y = 20\n",
    "    \n",
    "    def inner():\n",
    "        nonlocal y\n",
    "        y = y+10\n",
    "        print(\"y in inner fucntion : \", y)\n",
    "    inner()\n",
    "    \n",
    "outer()\n",
    "\n",
    "print(\"y at global scope : \", y)"
   ]
  },
  {
   "cell_type": "code",
   "execution_count": 10,
   "id": "d392e993",
   "metadata": {},
   "outputs": [
    {
     "name": "stdout",
     "output_type": "stream",
     "text": [
      "x at global scope before calling func :  10\n",
      "x in inner function :  15\n",
      "y in inner function :  21\n",
      "z in inner function :  30\n"
     ]
    },
    {
     "ename": "NameError",
     "evalue": "name 'z' is not defined",
     "output_type": "error",
     "traceback": [
      "\u001b[1;31m---------------------------------------------------------------------------\u001b[0m",
      "\u001b[1;31mNameError\u001b[0m                                 Traceback (most recent call last)",
      "Input \u001b[1;32mIn [10]\u001b[0m, in \u001b[0;36m<cell line: 23>\u001b[1;34m()\u001b[0m\n\u001b[0;32m     19\u001b[0m     \u001b[38;5;28mprint\u001b[39m(\u001b[38;5;124m\"\u001b[39m\u001b[38;5;124mz in outer function : \u001b[39m\u001b[38;5;124m\"\u001b[39m, z)\n\u001b[0;32m     22\u001b[0m \u001b[38;5;28mprint\u001b[39m(\u001b[38;5;124m\"\u001b[39m\u001b[38;5;124mx at global scope before calling func : \u001b[39m\u001b[38;5;124m\"\u001b[39m, x)\n\u001b[1;32m---> 23\u001b[0m \u001b[43mouter\u001b[49m\u001b[43m(\u001b[49m\u001b[43m)\u001b[49m\n\u001b[0;32m     24\u001b[0m \u001b[38;5;28mprint\u001b[39m(\u001b[38;5;124m\"\u001b[39m\u001b[38;5;124mx at global scope after calling func : \u001b[39m\u001b[38;5;124m\"\u001b[39m, x)\n",
      "Input \u001b[1;32mIn [10]\u001b[0m, in \u001b[0;36mouter\u001b[1;34m()\u001b[0m\n\u001b[0;32m     16\u001b[0m     \u001b[38;5;28mprint\u001b[39m(\u001b[38;5;124m\"\u001b[39m\u001b[38;5;124mz in inner function : \u001b[39m\u001b[38;5;124m\"\u001b[39m, z)\n\u001b[0;32m     18\u001b[0m inner()\n\u001b[1;32m---> 19\u001b[0m \u001b[38;5;28mprint\u001b[39m(\u001b[38;5;124m\"\u001b[39m\u001b[38;5;124mz in outer function : \u001b[39m\u001b[38;5;124m\"\u001b[39m, \u001b[43mz\u001b[49m)\n",
      "\u001b[1;31mNameError\u001b[0m: name 'z' is not defined"
     ]
    }
   ],
   "source": [
    "# global and nonlocal \n",
    "x = 10\n",
    "def outer():\n",
    "    \n",
    "    y = 20\n",
    "    def inner():\n",
    "        z = 30\n",
    "        nonlocal y\n",
    "        y = y+1\n",
    "        global x\n",
    "        \n",
    "        x = x+5\n",
    "        \n",
    "        print(\"x in inner function : \", x)\n",
    "        print(\"y in inner function : \", y)\n",
    "        print(\"z in inner function : \", z)\n",
    "        \n",
    "    inner()\n",
    "    print(\"z in outer function : \", z)\n",
    "\n",
    "    \n",
    "print(\"x at global scope before calling func : \", x)\n",
    "outer()\n",
    "\n",
    "        \n",
    "        "
   ]
  },
  {
   "cell_type": "code",
   "execution_count": 30,
   "id": "601e6408",
   "metadata": {},
   "outputs": [
    {
     "name": "stdout",
     "output_type": "stream",
     "text": [
      "good morning\n",
      "GOOD MORNING\n"
     ]
    }
   ],
   "source": [
    "# simple decorator \n",
    "\n",
    "def upper_d(func):\n",
    "    \n",
    "    def inner():\n",
    "        \n",
    "        str1 = func()\n",
    "        return str1.upper()\n",
    "    return inner\n",
    "    \n",
    "\n",
    "def print_str():\n",
    "    \n",
    "    return \"good morning\"\n",
    "\n",
    "\n",
    "print(print_str())\n",
    "\n",
    "d = upper_d(print_str)\n",
    "\n",
    "print(d())\n"
   ]
  },
  {
   "cell_type": "code",
   "execution_count": 31,
   "id": "af28135b",
   "metadata": {},
   "outputs": [
    {
     "name": "stdout",
     "output_type": "stream",
     "text": [
      "good morning\n",
      "GOOD MORNING\n"
     ]
    }
   ],
   "source": [
    "# simple decorator \n",
    "\n",
    "def upper_d(func):\n",
    "    \n",
    "    def inner():\n",
    "        \n",
    "        str1 = func()\n",
    "        return str1.upper()\n",
    "    return inner() # when return function intead of reference\n",
    "    \n",
    "\n",
    "def print_str():\n",
    "    \n",
    "    return \"good morning\"\n",
    "\n",
    "\n",
    "print(print_str())\n",
    "\n",
    "d = upper_d(print_str)\n",
    "\n",
    "print(d) # no need to call the function because we have alreday returned the function instead of\n",
    "         # reference of the function.\n"
   ]
  },
  {
   "cell_type": "code",
   "execution_count": 32,
   "id": "0134ebcc",
   "metadata": {},
   "outputs": [
    {
     "name": "stdout",
     "output_type": "stream",
     "text": [
      "GOOD MORNING!\n"
     ]
    }
   ],
   "source": [
    "# now this can be achieve with some more Pythonic way like using @decorator name\n",
    "\n",
    "def upper_dec(func):\n",
    "    def inner():\n",
    "        str1 = func()\n",
    "        return str1.upper()\n",
    "    return inner\n",
    "\n",
    "@upper_dec\n",
    "def print_str():\n",
    "    return \"good morning!\"\n",
    "\n",
    "\n",
    "print(print_str())"
   ]
  },
  {
   "cell_type": "markdown",
   "id": "43ad0f96",
   "metadata": {},
   "source": [
    "As we can see that we can easily got this with Pythonic way."
   ]
  },
  {
   "cell_type": "code",
   "execution_count": 34,
   "id": "c32400cc",
   "metadata": {},
   "outputs": [
    {
     "ename": "ZeroDivisionError",
     "evalue": "division by zero",
     "output_type": "error",
     "traceback": [
      "\u001b[1;31m---------------------------------------------------------------------------\u001b[0m",
      "\u001b[1;31mZeroDivisionError\u001b[0m                         Traceback (most recent call last)",
      "Input \u001b[1;32mIn [34]\u001b[0m, in \u001b[0;36m<cell line: 5>\u001b[1;34m()\u001b[0m\n\u001b[0;32m      1\u001b[0m \u001b[38;5;28;01mdef\u001b[39;00m \u001b[38;5;21mdiv\u001b[39m(a, b):\n\u001b[0;32m      2\u001b[0m     \u001b[38;5;28;01mreturn\u001b[39;00m a\u001b[38;5;241m/\u001b[39mb\n\u001b[1;32m----> 5\u001b[0m \u001b[38;5;28mprint\u001b[39m(\u001b[43mdiv\u001b[49m\u001b[43m(\u001b[49m\u001b[38;5;241;43m4\u001b[39;49m\u001b[43m,\u001b[49m\u001b[43m \u001b[49m\u001b[38;5;241;43m0\u001b[39;49m\u001b[43m)\u001b[49m)\n",
      "Input \u001b[1;32mIn [34]\u001b[0m, in \u001b[0;36mdiv\u001b[1;34m(a, b)\u001b[0m\n\u001b[0;32m      1\u001b[0m \u001b[38;5;28;01mdef\u001b[39;00m \u001b[38;5;21mdiv\u001b[39m(a, b):\n\u001b[1;32m----> 2\u001b[0m     \u001b[38;5;28;01mreturn\u001b[39;00m \u001b[43ma\u001b[49m\u001b[38;5;241;43m/\u001b[39;49m\u001b[43mb\u001b[49m\n",
      "\u001b[1;31mZeroDivisionError\u001b[0m: division by zero"
     ]
    }
   ],
   "source": [
    "def div(a, b):\n",
    "    return a/b\n",
    "\n",
    "\n",
    "print(div(4, 0)) # when take 4, 0"
   ]
  },
  {
   "cell_type": "code",
   "execution_count": 36,
   "id": "af1a5106",
   "metadata": {},
   "outputs": [
    {
     "name": "stdout",
     "output_type": "stream",
     "text": [
      "Please provide proper input!\n"
     ]
    }
   ],
   "source": [
    "# even above error can be handle by decorators\n",
    "def div_decorator(func):\n",
    "    \n",
    "    def inner(x, y):    # we have taken two arguments because in main function there is two args\n",
    "        if y == 0:\n",
    "            return \"Please provide proper input!\"\n",
    "        \n",
    "        else:\n",
    "            return func(x, y)\n",
    "    return inner\n",
    "\n",
    "@div_decorator\n",
    "def div(a, b):\n",
    "    return a/b\n",
    "\n",
    "\n",
    "print(div(4, 0)) # when take 4, 0"
   ]
  },
  {
   "cell_type": "code",
   "execution_count": 37,
   "id": "2b268982",
   "metadata": {},
   "outputs": [
    {
     "name": "stdout",
     "output_type": "stream",
     "text": [
      "2.0\n"
     ]
    }
   ],
   "source": [
    "# even above error can be handle by decorators\n",
    "def div_decorator(func):\n",
    "    \n",
    "    def inner(x, y):    # we have taken two arguments because in main function there is two args\n",
    "        if y == 0:\n",
    "            return \"Please provide proper input!\"\n",
    "        \n",
    "        else:\n",
    "            return func(x, y)\n",
    "    return inner\n",
    "\n",
    "@div_decorator\n",
    "def div(a, b):\n",
    "    return a/b\n",
    "\n",
    "\n",
    "print(div(4,2))"
   ]
  },
  {
   "cell_type": "code",
   "execution_count": 42,
   "id": "ab4e885e",
   "metadata": {},
   "outputs": [
    {
     "name": "stdout",
     "output_type": "stream",
     "text": [
      "Hello guy, GOOD MORNING!\n"
     ]
    }
   ],
   "source": [
    "# taking parameters in decorators\n",
    "def outer(expr):\n",
    "    def upper(func):\n",
    "        def inner():\n",
    "            str1 = func()\n",
    "            return expr + str1.upper()\n",
    "        return inner\n",
    "    return upper\n",
    "\n",
    "@outer(\"Hello guy, \")\n",
    "def ordinary():\n",
    "    return \"good morning!\"\n",
    "\n",
    "\n",
    "print(ordinary())"
   ]
  },
  {
   "cell_type": "code",
   "execution_count": 46,
   "id": "1ac300fa",
   "metadata": {},
   "outputs": [
    {
     "name": "stdout",
     "output_type": "stream",
     "text": [
      "2.0\n",
      "Give proper input!\n"
     ]
    }
   ],
   "source": [
    "# decorator for multiple funtion and when arbitary number of arguments passed in that\n",
    "\n",
    "\n",
    "def div_decorator(func):\n",
    "    def inner(*args):\n",
    "        list1 = []\n",
    "        list1 = args[1:]\n",
    "        \n",
    "        for i in list1:\n",
    "            if i == 0:\n",
    "                return \"Give proper input!\"\n",
    "            \n",
    "        return func(*args)\n",
    "        \n",
    "    return inner\n",
    "\n",
    "@div_decorator\n",
    "def div1(a, b):\n",
    "    return a/b\n",
    "\n",
    "@div_decorator\n",
    "def div2(a,b,c):\n",
    "    return a/b/c\n",
    "\n",
    "\n",
    "print(div1(10, 5))\n",
    "print(div2(10, 2, 0))"
   ]
  },
  {
   "cell_type": "code",
   "execution_count": 47,
   "id": "0f6757d0",
   "metadata": {},
   "outputs": [
    {
     "name": "stdout",
     "output_type": "stream",
     "text": [
      "2.0\n",
      "Give proper input!\n"
     ]
    }
   ],
   "source": [
    "def div_decorator(func):\n",
    "    def inner(*args):\n",
    "        list1 = []\n",
    "        list1 = args[1:]\n",
    "        \n",
    "        for i in list1:\n",
    "            if i == 0:\n",
    "                return \"Give proper input!\"\n",
    "            \n",
    "        else:\n",
    "            return func(*args)\n",
    "        \n",
    "    return inner\n",
    "\n",
    "@div_decorator\n",
    "def div1(a, b):\n",
    "    return a/b\n",
    "\n",
    "@div_decorator\n",
    "def div2(a,b,c):\n",
    "    return a/b/c\n",
    "\n",
    "\n",
    "print(div1(10, 5))\n",
    "print(div2(10, 2, 0))"
   ]
  },
  {
   "cell_type": "code",
   "execution_count": 49,
   "id": "1ba3f468",
   "metadata": {},
   "outputs": [
    {
     "name": "stdout",
     "output_type": "stream",
     "text": [
      "2.0\n",
      "Give proper input!\n"
     ]
    }
   ],
   "source": [
    "def div_decorator(func):\n",
    "    def inner(*args):\n",
    "        list1 = []\n",
    "        list1 = args[1:]\n",
    "        \n",
    "        for i in list1:\n",
    "            if i == 0:\n",
    "                return \"Give proper input!\"\n",
    "            \n",
    "        return func(*args)\n",
    "        \n",
    "    return inner\n",
    "\n",
    "@div_decorator\n",
    "def div1(a, b):\n",
    "    return a/b\n",
    "\n",
    "@div_decorator\n",
    "def div2(a,b,c):\n",
    "    return a/b/c\n",
    "\n",
    "\n",
    "print(div1(10, 5))\n",
    "print(div2(10, 2, 0))"
   ]
  },
  {
   "cell_type": "code",
   "execution_count": 50,
   "id": "2314c1a0",
   "metadata": {},
   "outputs": [
    {
     "name": "stdout",
     "output_type": "stream",
     "text": [
      "inner\n"
     ]
    }
   ],
   "source": [
    "def decorator(func):\n",
    "    def inner():\n",
    "        str1 = func()\n",
    "        return str1.upper()\n",
    "    return inner\n",
    "@decorator\n",
    "def greet():\n",
    "    \n",
    "    return \"good morning\"\n",
    "\n",
    "print(greet.__name__)\n"
   ]
  },
  {
   "cell_type": "code",
   "execution_count": 51,
   "id": "73f591c8",
   "metadata": {},
   "outputs": [
    {
     "name": "stdout",
     "output_type": "stream",
     "text": [
      "greet\n"
     ]
    }
   ],
   "source": [
    "# to print original funtion name \n",
    "import functools\n",
    "\n",
    "def decorator(func):\n",
    "    @functools.wraps(func)\n",
    "    def inner():\n",
    "        str1 = func()\n",
    "        return str1.upper()\n",
    "    return inner\n",
    "\n",
    "@decorator\n",
    "def greet():\n",
    "    \n",
    "    return \"good morning\"\n",
    "\n",
    "print(greet.__name__)\n",
    "\n",
    "# now we can see that we got the original function name \n",
    "# this is the first concept"
   ]
  },
  {
   "cell_type": "code",
   "execution_count": 52,
   "id": "187e27da",
   "metadata": {},
   "outputs": [
    {
     "data": {
      "text/plain": [
       "'Hey, my name is also same!'"
      ]
     },
     "execution_count": 52,
     "metadata": {},
     "output_type": "execute_result"
    }
   ],
   "source": [
    "# decorators in class\n",
    "\n",
    "def check_name(method):\n",
    "    def inner(name_ref):\n",
    "        if name_ref.name == \"Ankit\":   # here we took name_ref.name bacause in class self.name\n",
    "            return \"Hey, my name is also same!\"\n",
    "        else:\n",
    "            method(name_ref)\n",
    "    return inner\n",
    "\n",
    "class Printing:\n",
    "    def __init__(self, name):\n",
    "        self.name = name \n",
    "    @check_name\n",
    "    def print_name(self):\n",
    "        print(\"Hi, users entered name is: \", self.name)\n",
    "        \n",
    "p = Printing(\"Ankit\")\n",
    "p.print_name()"
   ]
  },
  {
   "cell_type": "code",
   "execution_count": 54,
   "id": "71a705db",
   "metadata": {},
   "outputs": [
    {
     "name": "stdout",
     "output_type": "stream",
     "text": [
      "You can't divide by zero change the input!\n"
     ]
    }
   ],
   "source": [
    "# decorator through class\n",
    "\n",
    "class Check_div:\n",
    "    \n",
    "    def __init__(self, func):\n",
    "        self.func = func\n",
    "        \n",
    "    def __call__(self, *args, **kwargs):\n",
    "        if args[1] == 0:\n",
    "            return \"You can't divide by zero change the input!\"\n",
    "        else:\n",
    "            return func(*args, **kwargs)\n",
    "\n",
    "\n",
    "@Check_div\n",
    "def div(a,b):\n",
    "    return a/b\n",
    "\n",
    "print(div(3, 0))"
   ]
  },
  {
   "cell_type": "code",
   "execution_count": null,
   "id": "d39a9a39",
   "metadata": {},
   "outputs": [],
   "source": []
  }
 ],
 "metadata": {
  "kernelspec": {
   "display_name": "Python 3 (ipykernel)",
   "language": "python",
   "name": "python3"
  },
  "language_info": {
   "codemirror_mode": {
    "name": "ipython",
    "version": 3
   },
   "file_extension": ".py",
   "mimetype": "text/x-python",
   "name": "python",
   "nbconvert_exporter": "python",
   "pygments_lexer": "ipython3",
   "version": "3.9.7"
  }
 },
 "nbformat": 4,
 "nbformat_minor": 5
}
