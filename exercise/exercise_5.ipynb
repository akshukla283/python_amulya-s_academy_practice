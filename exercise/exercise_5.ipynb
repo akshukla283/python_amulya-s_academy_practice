{
 "cells": [
  {
   "cell_type": "code",
   "execution_count": 1,
   "id": "54f553b5",
   "metadata": {},
   "outputs": [],
   "source": [
    "### 1. Selection sort Algorithm"
   ]
  },
  {
   "cell_type": "code",
   "execution_count": 2,
   "id": "b8b8d0f5",
   "metadata": {},
   "outputs": [
    {
     "name": "stdout",
     "output_type": "stream",
     "text": [
      "Unsorted :  [56, 2, 2, 0, 3, 78, 0]\n",
      "\n",
      "[0, 2, 2, 56, 3, 78, 0]\n",
      "[0, 0, 2, 56, 3, 78, 2]\n",
      "[0, 0, 2, 56, 3, 78, 2]\n",
      "[0, 0, 2, 2, 3, 78, 56]\n",
      "[0, 0, 2, 2, 3, 78, 56]\n",
      "[0, 0, 2, 2, 3, 56, 78]\n",
      "\n",
      "Sorted list1 :  [0, 0, 2, 2, 3, 56, 78]\n"
     ]
    }
   ],
   "source": [
    "list1 = [56, 2, 2, 0,3, 78, 0]\n",
    "print(\"Unsorted : \",list1)\n",
    "print()\n",
    "\n",
    "for i in range(len(list1) - 1):\n",
    "    m_val = min(list1[i:])\n",
    "    m_ind = list1.index(m_val, i)\n",
    "    \n",
    "    if list1[i] != list1[m_ind]:\n",
    "        \n",
    "        list1[i], list1[m_ind] = list1[m_ind], list1[i]\n",
    "        \n",
    "    print(list1)\n",
    "    \n",
    "print()\n",
    "print(\"Sorted list1 : \", list1)"
   ]
  },
  {
   "cell_type": "code",
   "execution_count": 5,
   "id": "2044fb68",
   "metadata": {},
   "outputs": [
    {
     "name": "stdout",
     "output_type": "stream",
     "text": [
      "Unsorted :  [56, 2, 2, 0, 3, 78, 0]\n",
      "\n",
      "[0, 2, 2, 56, 3, 78, 0]\n",
      "[0, 0, 2, 56, 3, 78, 2]\n",
      "[0, 0, 2, 56, 3, 78, 2]\n",
      "[0, 0, 2, 2, 3, 78, 56]\n",
      "[0, 0, 2, 2, 3, 78, 56]\n",
      "[0, 0, 2, 2, 3, 56, 78]\n",
      "\n",
      "Sorted list1 :  [0, 0, 2, 2, 3, 56, 78]\n"
     ]
    }
   ],
   "source": [
    "# without using built-in method 'min' or 'max'\n",
    "\n",
    "list1 = [56, 2, 2, 0,3, 78, 0]\n",
    "print(\"Unsorted : \",list1)\n",
    "print()\n",
    "\n",
    "for i in range(len(list1) - 1):\n",
    "    m_val = list1[i]\n",
    "    for j in range(i+1, len(list1)):\n",
    "        \n",
    "        if list1[j] < m_val:\n",
    "            m_val = list1[j]\n",
    "            \n",
    "    m_ind = list1.index(m_val, i)\n",
    "    if list1[i] != list1[m_ind]:\n",
    "        \n",
    "        list1[i], list1[m_ind] = list1[m_ind], list1[i]\n",
    "        \n",
    "        \n",
    "    print(list1)\n",
    "    \n",
    "print()\n",
    "print(\"Sorted list1 : \", list1)"
   ]
  },
  {
   "cell_type": "code",
   "execution_count": 8,
   "id": "37a438b8",
   "metadata": {},
   "outputs": [
    {
     "name": "stdout",
     "output_type": "stream",
     "text": [
      "Unsorted :  [56, 2, 2, 0, 3, 78, 0]\n",
      "\n",
      "[0, 2, 2, 56, 3, 78, 0]\n",
      "[0, 0, 2, 56, 3, 78, 2]\n",
      "[0, 0, 2, 56, 3, 78, 2]\n",
      "[0, 0, 2, 2, 3, 78, 56]\n",
      "[0, 0, 2, 2, 3, 78, 56]\n",
      "[0, 0, 2, 2, 3, 56, 78]\n",
      "\n",
      "Sorted List1 :  [0, 0, 2, 2, 3, 56, 78]\n"
     ]
    }
   ],
   "source": [
    "# if we want to sort it direct by index \n",
    "\n",
    "list1 = [56, 2, 2, 0,3, 78, 0]\n",
    "print(\"Unsorted : \",list1)\n",
    "print()\n",
    "\n",
    "for i in range(len(list1) -1):\n",
    "    m_ind = i\n",
    "    for j in range(i+1, len(list1)):\n",
    "        if list1[j] < list1[m_ind]:\n",
    "            m_ind = j\n",
    "            \n",
    "    if list1[i] != list1[m_ind]:\n",
    "        list1[i], list1[m_ind] = list1[m_ind], list1[i]\n",
    "        \n",
    "    print(list1)\n",
    "    \n",
    "print()\n",
    "print(\"Sorted List1 : \", list1)\n",
    "        "
   ]
  },
  {
   "cell_type": "markdown",
   "id": "884074bc",
   "metadata": {},
   "source": [
    "#### Bubble Sort Algorithm"
   ]
  },
  {
   "cell_type": "code",
   "execution_count": 2,
   "id": "6ff86640",
   "metadata": {},
   "outputs": [
    {
     "name": "stdout",
     "output_type": "stream",
     "text": [
      "Unsorted list:  [10, 5, 0, 23, 4]\n",
      "\n",
      "[5, 10, 0, 23, 4]\n",
      "[5, 0, 10, 23, 4]\n",
      "[5, 0, 10, 23, 4]\n",
      "[5, 0, 10, 4, 23]\n",
      "\n",
      "[0, 5, 10, 4, 23]\n",
      "[0, 5, 10, 4, 23]\n",
      "[0, 5, 4, 10, 23]\n",
      "\n",
      "[0, 5, 4, 10, 23]\n",
      "[0, 4, 5, 10, 23]\n",
      "\n",
      "[0, 4, 5, 10, 23]\n",
      "\n",
      "\n",
      "Sorted List1 :  [0, 4, 5, 10, 23]\n"
     ]
    }
   ],
   "source": [
    "### Now Let's Learn New Sorting Algorithm \n",
    "# Bubble Sort Algorithm\n",
    "\n",
    "list1 = [10, 5, 0, 23, 4]\n",
    "print(\"Unsorted list: \", list1)\n",
    "print()\n",
    "\n",
    "for i in range(len(list1) - 1, 0, -1):\n",
    "    for j in range(i):\n",
    "        if list1[j] > list1[j+1]:\n",
    "            list1[j], list1[j+1] = list1[j+1], list1[j]\n",
    "            print(list1)\n",
    "        else:\n",
    "            print(list1)\n",
    "    print() # to separate new iteration\n",
    "            \n",
    "print()\n",
    "print(\"Sorted List1 : \", list1)"
   ]
  },
  {
   "cell_type": "markdown",
   "id": "8a9da3f2",
   "metadata": {},
   "source": [
    "#### QuickSort Algorithm"
   ]
  },
  {
   "cell_type": "code",
   "execution_count": 6,
   "id": "20f28d14",
   "metadata": {},
   "outputs": [
    {
     "name": "stdout",
     "output_type": "stream",
     "text": [
      "[17, 26, 31, 44, 56, 93]\n"
     ]
    }
   ],
   "source": [
    "#1. finding the Pivot position\n",
    "\n",
    "def pivot_place(list1, first, last):\n",
    "    pivot = list1[first]\n",
    "    left = first + 1\n",
    "    right = last\n",
    "    \n",
    "    while True:\n",
    "        while left<=right and list1[left] <= pivot:\n",
    "            left = left + 1\n",
    "        while left<=right and list1[right] >= pivot:\n",
    "            right = right - 1\n",
    "            \n",
    "        if left>right:\n",
    "            break\n",
    "        else:\n",
    "            list1[left], list1[right] = list1[right], list1[left]\n",
    "        \n",
    "    # if control is here means left> right we have correct position of pivot value\n",
    "    # so we need to swap it\n",
    "    list1[first], list1[right] = list1[right], list1[first] # here list1 first is pivot value\n",
    "    \n",
    "    return right   # we return pivot value's correct position index number\n",
    "\n",
    "def quicksort(list1, first, last):\n",
    "    \n",
    "    if first<last:    # condition for checking whether single value in list\n",
    "        p = pivot_place(list1, first, last)\n",
    "        \n",
    "        quicksort(list1, first, p-1)  #divide left list and recursively call\n",
    "        quicksort(list1, p+1, last)   # divide right list and recursively call\n",
    "\n",
    "# 3. main\n",
    "\n",
    "list1 = [56, 26, 93, 17, 31, 44]\n",
    "n = len(list1)\n",
    "quicksort(list1, 0, n-1) \n",
    "# because index start from 0 in list1 and len(list1) will give 6 but we need 5\n",
    "print(list1)"
   ]
  },
  {
   "cell_type": "code",
   "execution_count": 7,
   "id": "135185ce",
   "metadata": {},
   "outputs": [
    {
     "name": "stdout",
     "output_type": "stream",
     "text": [
      "[17, 26, 31, 44, 56, 93]\n"
     ]
    }
   ],
   "source": [
    "# taking random index number as pivot index\n",
    "\n",
    "import random\n",
    "\n",
    "\n",
    "def pivot_place(list1, first, last):\n",
    "    rindex = random.randint(first, last)\n",
    "    list1[rindex], list1[first] = list1[first], list1[rindex]\n",
    "    pivot = list1[first]\n",
    "    left = first + 1\n",
    "    right = last\n",
    "    \n",
    "    while True:\n",
    "        while left<=right and list1[left] <= pivot:\n",
    "            left = left + 1\n",
    "        while left<=right and list1[right] >= pivot:\n",
    "            right = right - 1\n",
    "            \n",
    "        if left>right:\n",
    "            break\n",
    "        else:\n",
    "            list1[left], list1[right] = list1[right], list1[left]\n",
    "        \n",
    "    # if control is here means left> right we have correct position of pivot value\n",
    "    # so we need to swap it\n",
    "    list1[first], list1[right] = list1[right], list1[first] # here list1 first is pivot value\n",
    "    \n",
    "    return right   # we return pivot value's correct position index number\n",
    "\n",
    "def quicksort(list1, first, last):\n",
    "    \n",
    "    if first<last:    # condition for checking whether single value in list\n",
    "        p = pivot_place(list1, first, last)\n",
    "        \n",
    "        quicksort(list1, first, p-1)  #divide left list and recursively call\n",
    "        quicksort(list1, p+1, last)   # divide right list and recursively call\n",
    "\n",
    "# 3. main\n",
    "\n",
    "list1 = [56, 26, 93, 17, 31, 44]\n",
    "n = len(list1)\n",
    "quicksort(list1, 0, n-1) \n",
    "# because index start from 0 in list1 and len(list1) will give 6 but we need 5\n",
    "print(list1)"
   ]
  },
  {
   "cell_type": "code",
   "execution_count": 8,
   "id": "c176231f",
   "metadata": {},
   "outputs": [
    {
     "name": "stdout",
     "output_type": "stream",
     "text": [
      "[17, 26, 31, 44, 56, 93]\n"
     ]
    }
   ],
   "source": [
    "# Median as a pivot index\n",
    "\n",
    "import statistics\n",
    "def pivot_place(list1, first, last):\n",
    "    low = list1[first]\n",
    "    high = list1[last]\n",
    "    mid = (first + last)//2\n",
    "    pivot_val = statistics.median([low, list1[mid], high])\n",
    "    if pivot_val == low:\n",
    "        pindex = first\n",
    "    elif pivot_val == high:\n",
    "        pindex = last\n",
    "    else:\n",
    "        pindex = mid\n",
    "    \n",
    "    list1[pindex], list1[first] = list1[first], list1[pindex]\n",
    "    \n",
    "    \n",
    "    pivot = list1[first]\n",
    "    left = first + 1\n",
    "    right = last\n",
    "    \n",
    "    while True:\n",
    "        while left<=right and list1[left] <= pivot:\n",
    "            left = left + 1\n",
    "        while left<=right and list1[right] >= pivot:\n",
    "            right = right - 1\n",
    "            \n",
    "        if left>right:\n",
    "            break\n",
    "        else:\n",
    "            list1[left], list1[right] = list1[right], list1[left]\n",
    "        \n",
    "    # if control is here means left> right we have correct position of pivot value\n",
    "    # so we need to swap it\n",
    "    list1[first], list1[right] = list1[right], list1[first] # here list1 first is pivot value\n",
    "    \n",
    "    return right   # we return pivot value's correct position index number\n",
    "\n",
    "def quicksort(list1, first, last):\n",
    "    \n",
    "    if first<last:    # condition for checking whether single value in list\n",
    "        p = pivot_place(list1, first, last)\n",
    "        \n",
    "        quicksort(list1, first, p-1)  #divide left list and recursively call\n",
    "        quicksort(list1, p+1, last)   # divide right list and recursively call\n",
    "\n",
    "# 3. main\n",
    "\n",
    "list1 = [56, 26, 93, 17, 31, 44]\n",
    "n = len(list1)\n",
    "quicksort(list1, 0, n-1) \n",
    "# because index start from 0 in list1 and len(list1) will give 6 but we need 5\n",
    "print(list1)"
   ]
  },
  {
   "cell_type": "markdown",
   "id": "d04366c7",
   "metadata": {},
   "source": [
    "#### MergeSort"
   ]
  },
  {
   "cell_type": "code",
   "execution_count": 9,
   "id": "31434370",
   "metadata": {},
   "outputs": [
    {
     "name": "stdout",
     "output_type": "stream",
     "text": [
      "Enter the list length : 5\n",
      "Enter list's 1 number : 12\n",
      "Enter list's 2 number : 23\n",
      "Enter list's 3 number : 1\n",
      "Enter list's 4 number : 0\n",
      "Enter list's 5 number : 12\n",
      "Unsorted list from user :  [12, 23, 1, 0, 12]\n",
      "\n",
      "MergeSort Sorted list :  [0, 1, 12, 12, 23]\n"
     ]
    }
   ],
   "source": [
    "# 2. define merge sort algorithm\n",
    "\n",
    "def mergesort(list1):\n",
    "    \n",
    "    if len(list1)>1:\n",
    "        ###################### dividing list #########################\n",
    "        mid = len(list1)//2\n",
    "        left_list = list1[:mid]\n",
    "        right_list = list1[mid:]\n",
    "        ######## divide recursively ###################################\n",
    "        mergesort(left_list)\n",
    "        mergesort(right_list)\n",
    "        ############### merge divided list ############################\n",
    "        i = 0\n",
    "        j = 0\n",
    "        k = 0\n",
    "        \n",
    "        while i < len(left_list) and j < len(right_list):\n",
    "            \n",
    "            if left_list[i] < right_list[j]:\n",
    "                list1[k] = left_list[i]\n",
    "                i = i+1\n",
    "                k = k+1\n",
    "            else:\n",
    "                list1[k] = right_list[j]\n",
    "                j = j+1\n",
    "                k = k+1\n",
    "        ################ checking whether any element left in left or right list\n",
    "        while i < len(left_list):\n",
    "            list1[k] = left_list[i]\n",
    "            i = i+1\n",
    "            k = k+1\n",
    "        while j < len(right_list):\n",
    "            list1[k] = right_list[j]\n",
    "            j = j+1\n",
    "            k = k+1\n",
    "        \n",
    "        \n",
    "\n",
    "# 1. Taking list value from user\n",
    "num = int(input(\"Enter the list length : \"))\n",
    "list1 = [int(input(f\"Enter list's {i+1} number : \")) for i in range(num)]\n",
    "print(\"Unsorted list from user : \", list1)\n",
    "print()\n",
    "mergesort(list1)\n",
    "print(\"MergeSort Sorted list : \", list1)"
   ]
  },
  {
   "cell_type": "markdown",
   "id": "20197599",
   "metadata": {},
   "source": [
    "#### Insertion Sort"
   ]
  },
  {
   "cell_type": "code",
   "execution_count": 10,
   "id": "d92d6943",
   "metadata": {},
   "outputs": [
    {
     "name": "stdout",
     "output_type": "stream",
     "text": [
      "Unsorte list1:  [2, 4, 3, 5, 1]\n",
      "\n",
      "Sorted list1:  [1, 2, 3, 4, 5]\n"
     ]
    }
   ],
   "source": [
    "def insertionSort(list1):\n",
    "    \n",
    "    for index in range(1, len(list1)):   \n",
    "        # we took range from 1 because 0th element we have taken as sorted list\n",
    "        # now we need to find currentpostion element\n",
    "        current_element = list1[index]\n",
    "        \n",
    "        pos = index  # to compare sorted value we need this \n",
    "        while current_element < list1[pos - 1] and pos >0:\n",
    "            list1[pos] = list1[pos -1]\n",
    "            pos = pos - 1\n",
    "            \n",
    "        list1[pos] = current_element\n",
    "        \n",
    "\n",
    "list1 = [2,4,3,5,1]\n",
    "print(\"Unsorte list1: \",list1)\n",
    "print()\n",
    "insertionSort(list1)\n",
    "print(\"Sorted list1: \", list1)"
   ]
  },
  {
   "cell_type": "markdown",
   "id": "2a72d5b6",
   "metadata": {},
   "source": [
    "#### ShellSort Algorithm"
   ]
  },
  {
   "cell_type": "code",
   "execution_count": 15,
   "id": "c4747d3d",
   "metadata": {},
   "outputs": [
    {
     "name": "stdout",
     "output_type": "stream",
     "text": [
      "List Length: 5\n",
      "Enter 1 value in list: 12\n",
      "Enter 2 value in list: 2\n",
      "Enter 3 value in list: 31\n",
      "Enter 4 value in list: 1\n",
      "Enter 5 value in list: 12\n",
      "Unsorted list:  [12, 2, 31, 1, 12]\n",
      "\n",
      "Sorted list1:  [1, 2, 12, 12, 31]\n"
     ]
    }
   ],
   "source": [
    "def shellSort(list1):\n",
    "    gap = len(list1)//2\n",
    "    \n",
    "    while gap>0:\n",
    "        \n",
    "        for index in range(gap, len(list1)):\n",
    "            current_element = list1[index]\n",
    "            \n",
    "            pos = index\n",
    "            while pos >= gap and current_element < list1[pos - gap]:\n",
    "                list1[pos] = list1[pos-gap]\n",
    "                pos = pos - gap\n",
    "            \n",
    "            list1[pos] = current_element\n",
    "            \n",
    "        gap = gap//2\n",
    "            \n",
    "\n",
    "num = int(input(\"List Length: \"))\n",
    "list1 = [int(input(f\"Enter {x+1} value in list: \")) for x in range(num)]\n",
    "print(\"Unsorted list: \", list1)\n",
    "print()\n",
    "shellSort(list1)\n",
    "print(\"Sorted list1: \", list1)"
   ]
  },
  {
   "cell_type": "markdown",
   "id": "a5fcabf0",
   "metadata": {},
   "source": []
  }
 ],
 "metadata": {
  "kernelspec": {
   "display_name": "Python 3 (ipykernel)",
   "language": "python",
   "name": "python3"
  },
  "language_info": {
   "codemirror_mode": {
    "name": "ipython",
    "version": 3
   },
   "file_extension": ".py",
   "mimetype": "text/x-python",
   "name": "python",
   "nbconvert_exporter": "python",
   "pygments_lexer": "ipython3",
   "version": "3.9.7"
  }
 },
 "nbformat": 4,
 "nbformat_minor": 5
}
