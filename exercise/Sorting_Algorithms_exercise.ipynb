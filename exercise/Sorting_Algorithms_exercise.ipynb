{
 "cells": [
  {
   "cell_type": "markdown",
   "id": "128350f4",
   "metadata": {},
   "source": [
    "#### 1. Selection Sort Algorithm.\n",
    "* using built-in method 'min' and max' for 'ascending' and 'descending' respectively."
   ]
  },
  {
   "cell_type": "code",
   "execution_count": 2,
   "id": "20dd442b",
   "metadata": {},
   "outputs": [
    {
     "name": "stdout",
     "output_type": "stream",
     "text": [
      "Unsorted :  [56, 2, 2, 0, 3, 78, 0]\n",
      "\n",
      "[0, 2, 2, 56, 3, 78, 0]\n",
      "[0, 0, 2, 56, 3, 78, 2]\n",
      "[0, 0, 2, 56, 3, 78, 2]\n",
      "[0, 0, 2, 2, 3, 78, 56]\n",
      "[0, 0, 2, 2, 3, 78, 56]\n",
      "[0, 0, 2, 2, 3, 56, 78]\n",
      "\n",
      "Sorted :  [0, 0, 2, 2, 3, 56, 78]\n"
     ]
    }
   ],
   "source": [
    "# for Ascending order\n",
    "list1 = [56, 2, 2, 0,3, 78, 0]\n",
    "print(\"Unsorted : \",list1)\n",
    "print()\n",
    "\n",
    "for i in range(len(list1) - 1):  # no need to sort the last element\n",
    "    m_val = min(list1[i:])\n",
    "    m_ind = list1.index(m_val, i)\n",
    "    if list1[i] != list1[m_ind]:\n",
    "        list1[i], list1[m_ind] = list1[m_ind], list1[i]\n",
    "    \n",
    "    print(list1) # this is for showing the process on every iteration\n",
    "    \n",
    "print()\n",
    "print(\"Sorted : \", list1)\n",
    "    \n",
    "    \n",
    "     "
   ]
  },
  {
   "cell_type": "code",
   "execution_count": 3,
   "id": "2c66542f",
   "metadata": {},
   "outputs": [
    {
     "name": "stdout",
     "output_type": "stream",
     "text": [
      "Unsorted :  [56, 2, 2, 0, 3, 78, 0]\n",
      "\n",
      "[78, 2, 2, 0, 3, 56, 0]\n",
      "[78, 56, 2, 0, 3, 2, 0]\n",
      "[78, 56, 3, 0, 2, 2, 0]\n",
      "[78, 56, 3, 2, 0, 2, 0]\n",
      "[78, 56, 3, 2, 2, 0, 0]\n",
      "[78, 56, 3, 2, 2, 0, 0]\n",
      "\n",
      "Sorted :  [78, 56, 3, 2, 2, 0, 0]\n"
     ]
    }
   ],
   "source": [
    "# For Deescending order \n",
    "list1 = [56, 2, 2, 0,3, 78, 0]\n",
    "print(\"Unsorted : \",list1)\n",
    "print()\n",
    "\n",
    "for i in range(len(list1) - 1):  # no need to sort the last element\n",
    "    m_val = max(list1[i:])\n",
    "    m_ind = list1.index(m_val, i)\n",
    "    if list1[i] != list1[m_ind]:\n",
    "        list1[i], list1[m_ind] = list1[m_ind], list1[i]\n",
    "    \n",
    "    print(list1) # this is for showing the process on every iteration\n",
    "    \n",
    "print()\n",
    "print(\"Sorted : \", list1)\n",
    "    \n",
    "    \n",
    "     "
   ]
  },
  {
   "cell_type": "markdown",
   "id": "33d872fa",
   "metadata": {},
   "source": [
    "* without using built-in method 'min' or 'max'"
   ]
  },
  {
   "cell_type": "code",
   "execution_count": 4,
   "id": "25e93581",
   "metadata": {},
   "outputs": [
    {
     "name": "stdout",
     "output_type": "stream",
     "text": [
      "Unsorted :  [56, 2, 2, 0, 3, 78, 0]\n",
      "\n",
      "[0, 2, 2, 56, 3, 78, 0]\n",
      "[0, 0, 2, 56, 3, 78, 2]\n",
      "[0, 0, 2, 56, 3, 78, 2]\n",
      "[0, 0, 2, 2, 3, 78, 56]\n",
      "[0, 0, 2, 2, 3, 78, 56]\n",
      "[0, 0, 2, 2, 3, 56, 78]\n",
      "\n",
      "Sorted :  [0, 0, 2, 2, 3, 56, 78]\n"
     ]
    }
   ],
   "source": [
    "# for Ascending order\n",
    "list1 = [56, 2, 2, 0,3, 78, 0]\n",
    "print(\"Unsorted : \",list1)\n",
    "print()\n",
    "\n",
    "for i in range(len(list1) - 1):  # no need to sort the last element\n",
    "    m_val = list1[i]\n",
    "    for j in range(i+1, len(list1)):\n",
    "        if list1[j]< m_val:\n",
    "            m_val = list1[j]\n",
    "            \n",
    "            \n",
    "    m_ind = list1.index(m_val, i)\n",
    "    if list1[i] != list1[m_ind]:\n",
    "        list1[i], list1[m_ind] = list1[m_ind], list1[i]\n",
    "        \n",
    "    print(list1)\n",
    "        \n",
    "    \n",
    "print()\n",
    "print(\"Sorted : \", list1)\n",
    "    \n",
    "    \n",
    "     "
   ]
  },
  {
   "cell_type": "code",
   "execution_count": 5,
   "id": "d153fbc3",
   "metadata": {},
   "outputs": [
    {
     "name": "stdout",
     "output_type": "stream",
     "text": [
      "Unsorted :  [56, 2, 2, 0, 3, 78, 0]\n",
      "\n",
      "[0, 2, 2, 56, 3, 78, 0]\n",
      "[0, 0, 2, 56, 3, 78, 2]\n",
      "[0, 0, 2, 56, 3, 78, 2]\n",
      "[0, 0, 2, 2, 3, 78, 56]\n",
      "[0, 0, 2, 2, 3, 78, 56]\n",
      "[0, 0, 2, 2, 3, 56, 78]\n",
      "\n",
      "Sorted :  [0, 0, 2, 2, 3, 56, 78]\n"
     ]
    }
   ],
   "source": [
    "# only by index method we can do it\n",
    "\n",
    "# for Ascending order\n",
    "list1 = [56, 2, 2, 0,3, 78, 0]\n",
    "print(\"Unsorted : \",list1)\n",
    "print()\n",
    "\n",
    "for i in range(len(list1) - 1):  # no need to sort the last element\n",
    "    m_ind = i\n",
    "    for j in range(i+1, len(list1)):\n",
    "        if list1[j]<list1[m_ind]:\n",
    "            m_ind = j\n",
    "            \n",
    "    if list1[i] != list1[m_ind]:\n",
    "        list1[i], list1[m_ind] = list1[m_ind], list1[i]\n",
    "        \n",
    "    print(list1) # this is for showing the process on every iteration\n",
    "    \n",
    "print()\n",
    "print(\"Sorted : \", list1)\n",
    "    \n",
    "    \n",
    "     "
   ]
  },
  {
   "cell_type": "markdown",
   "id": "73fc50cd",
   "metadata": {},
   "source": [
    "#### 2. Bubble sort Algorithm"
   ]
  },
  {
   "cell_type": "code",
   "execution_count": 9,
   "id": "cd5de0a5",
   "metadata": {},
   "outputs": [
    {
     "name": "stdout",
     "output_type": "stream",
     "text": [
      "Unsorted :  [56, 2, 2, 0, 3, 78, 0]\n",
      "\n",
      "[2, 56, 2, 0, 3, 78, 0]\n",
      "[2, 2, 56, 0, 3, 78, 0]\n",
      "[2, 2, 0, 56, 3, 78, 0]\n",
      "[2, 2, 0, 3, 56, 78, 0]\n",
      "[2, 2, 0, 3, 56, 78, 0]\n",
      "[2, 2, 0, 3, 56, 0, 78]\n",
      "\n",
      "[2, 2, 0, 3, 56, 0, 78]\n",
      "[2, 0, 2, 3, 56, 0, 78]\n",
      "[2, 0, 2, 3, 56, 0, 78]\n",
      "[2, 0, 2, 3, 56, 0, 78]\n",
      "[2, 0, 2, 3, 0, 56, 78]\n",
      "\n",
      "[0, 2, 2, 3, 0, 56, 78]\n",
      "[0, 2, 2, 3, 0, 56, 78]\n",
      "[0, 2, 2, 3, 0, 56, 78]\n",
      "[0, 2, 2, 0, 3, 56, 78]\n",
      "\n",
      "[0, 2, 2, 0, 3, 56, 78]\n",
      "[0, 2, 2, 0, 3, 56, 78]\n",
      "[0, 2, 0, 2, 3, 56, 78]\n",
      "\n",
      "[0, 2, 0, 2, 3, 56, 78]\n",
      "[0, 0, 2, 2, 3, 56, 78]\n",
      "\n",
      "[0, 0, 2, 2, 3, 56, 78]\n",
      "\n",
      "Sorted :  [0, 0, 2, 2, 3, 56, 78]\n"
     ]
    }
   ],
   "source": [
    "# for ascending order\n",
    "\n",
    "# for Ascending order\n",
    "list1 = [56, 2, 2, 0,3, 78, 0]\n",
    "print(\"Unsorted : \",list1)\n",
    "print()\n",
    "\n",
    "for i in range(len(list1) - 1):  # we took reverse loop\n",
    "    for j in range(len(list1) - 1 - i):\n",
    "        if list1[j] > list1[j+1]:\n",
    "            list1[j], list1[j+1] = list1[j+1], list1[j]\n",
    "            print(list1)\n",
    "        else:\n",
    "            print(list1)\n",
    "        \n",
    "    print()\n",
    "            \n",
    "print(\"Sorted : \", list1)\n",
    "    \n",
    "    \n",
    "     "
   ]
  },
  {
   "cell_type": "code",
   "execution_count": 8,
   "id": "72fd7ffc",
   "metadata": {},
   "outputs": [
    {
     "name": "stdout",
     "output_type": "stream",
     "text": [
      "Unsorted :  [56, 2, 2, 0, 3, 78, 0]\n",
      "\n",
      "[2, 56, 2, 0, 3, 78, 0]\n",
      "[2, 2, 56, 0, 3, 78, 0]\n",
      "[2, 2, 0, 56, 3, 78, 0]\n",
      "[2, 2, 0, 3, 56, 78, 0]\n",
      "[2, 2, 0, 3, 56, 78, 0]\n",
      "[2, 2, 0, 3, 56, 0, 78]\n",
      "\n",
      "[2, 2, 0, 3, 56, 0, 78]\n",
      "[2, 0, 2, 3, 56, 0, 78]\n",
      "[2, 0, 2, 3, 56, 0, 78]\n",
      "[2, 0, 2, 3, 56, 0, 78]\n",
      "[2, 0, 2, 3, 0, 56, 78]\n",
      "\n",
      "[0, 2, 2, 3, 0, 56, 78]\n",
      "[0, 2, 2, 3, 0, 56, 78]\n",
      "[0, 2, 2, 3, 0, 56, 78]\n",
      "[0, 2, 2, 0, 3, 56, 78]\n",
      "\n",
      "[0, 2, 2, 0, 3, 56, 78]\n",
      "[0, 2, 2, 0, 3, 56, 78]\n",
      "[0, 2, 0, 2, 3, 56, 78]\n",
      "\n",
      "[0, 2, 0, 2, 3, 56, 78]\n",
      "[0, 0, 2, 2, 3, 56, 78]\n",
      "\n",
      "[0, 0, 2, 2, 3, 56, 78]\n",
      "\n",
      "Sorted :  [0, 0, 2, 2, 3, 56, 78]\n"
     ]
    }
   ],
   "source": [
    "# for ascending order\n",
    "\n",
    "# for Ascending order\n",
    "list1 = [56, 2, 2, 0,3, 78, 0]\n",
    "print(\"Unsorted : \",list1)\n",
    "print()\n",
    "\n",
    "for i in range(len(list1)-1, 0, -1):  # we took reverse loop\n",
    "    for j in range(i):\n",
    "        if list1[j] > list1[j+1]:\n",
    "            list1[j], list1[j+1] = list1[j+1], list1[j]\n",
    "            print(list1)\n",
    "        else:\n",
    "            print(list1)\n",
    "        \n",
    "    print()\n",
    "            \n",
    "print(\"Sorted : \", list1)\n",
    "    \n",
    "    \n",
    "     "
   ]
  },
  {
   "cell_type": "markdown",
   "id": "250cc49c",
   "metadata": {},
   "source": [
    "#### 3. Quick Sort Algorithm\n"
   ]
  },
  {
   "cell_type": "code",
   "execution_count": 10,
   "id": "292506fd",
   "metadata": {},
   "outputs": [
    {
     "name": "stdout",
     "output_type": "stream",
     "text": [
      "Unsorted :  [56, 26, 93, 17, 31, 44]\n",
      "\n",
      "Sorted :  [17, 26, 31, 44, 56, 93]\n"
     ]
    }
   ],
   "source": [
    "# taking first element as a pivot element\n",
    "\n",
    "# we will program it in three steps \n",
    "\n",
    "# step 1 - finding the pivot element \n",
    "\n",
    "def pivot_place(list1, first, last):  # here first and last is the index of the list \n",
    "    pivot = list1[first]\n",
    "    left = first + 1\n",
    "    right = last\n",
    "    \n",
    "    # now we will right the conditions \n",
    "    while True:\n",
    "        while left<=right and list1[left]<= pivot:\n",
    "            left = left + 1\n",
    "        while left<= right and list1[right]>=pivot:\n",
    "            right = right - 1\n",
    "            \n",
    "        if right<left:\n",
    "            break\n",
    "        else:\n",
    "            list1[left], list1[right] = list1[right], list1[left]\n",
    "        \n",
    "    # if control is here means right<left now we need to swap pivot with list1[right]\n",
    "    list1[first], list1[right] = list1[right], list1[first] # here list1[first] is pivot value\n",
    "    \n",
    "    return right  # and finally we got right position of pivot value\n",
    "\n",
    "# step 2 - now we will write quick sort algorithm\n",
    "\n",
    "def quicksort(list1, first, last):\n",
    "    if first < last :  # this is the base condition to check if there will be single value then \n",
    "                       # do nothing\n",
    "            p = pivot_place(list1, first, last)\n",
    "            # now we got the pivot place now we will sort the list1 recursively\n",
    "            quicksort(list1, first, p-1)  # left list\n",
    "            quicksort(list1, p+1, last)   # right list\n",
    "            \n",
    "            \n",
    "# step 3 - main\n",
    "\n",
    "list1 = [56, 26, 93, 17, 31, 44]\n",
    "print(\"Unsorted : \", list1)\n",
    "print()\n",
    "n = len(list1)\n",
    "quicksort(list1, 0, n-1)  # we need last index number not len that is why we did n-1\n",
    "\n",
    "print(\"Sorted : \", list1)\n"
   ]
  },
  {
   "cell_type": "code",
   "execution_count": 11,
   "id": "c2c58e4b",
   "metadata": {},
   "outputs": [
    {
     "name": "stdout",
     "output_type": "stream",
     "text": [
      "Unsorted :  [56, 26, 93, 17, 31, 44]\n",
      "\n",
      "Sorted :  [17, 26, 31, 44, 56, 93]\n"
     ]
    }
   ],
   "source": [
    "# taking random element as a pivot element\n",
    "\n",
    "# we will program it in three steps \n",
    "\n",
    "# step 1 - finding the pivot element \n",
    "import random\n",
    "def pivot_place(list1, first, last):  # here first and last is the index of the list \n",
    "    rindex = random.randint(first, last)\n",
    "    list1[rindex], list1[first] = list1[rindex], list1[first]  \n",
    "    # we swap rindex value with first element and now we will take that random index as pivot\n",
    "    # by selecting the first value as pivot value.\n",
    "    \n",
    "    pivot = list1[first]\n",
    "    left = first + 1\n",
    "    right = last\n",
    "    \n",
    "    # now we will right the conditions \n",
    "    while True:\n",
    "        while left<=right and list1[left]<= pivot:\n",
    "            left = left + 1\n",
    "        while left<= right and list1[right]>=pivot:\n",
    "            right = right - 1\n",
    "            \n",
    "        if right<left:\n",
    "            break\n",
    "        else:\n",
    "            list1[left], list1[right] = list1[right], list1[left]\n",
    "        \n",
    "    # if control is here means right<left now we need to swap pivot with list1[right]\n",
    "    list1[first], list1[right] = list1[right], list1[first] # here list1[first] is pivot value\n",
    "    \n",
    "    return right  # and finally we got right position of pivot value\n",
    "\n",
    "# step 2 - now we will write quick sort algorithm\n",
    "\n",
    "def quicksort(list1, first, last):\n",
    "    if first < last :  # this is the base condition to check if there will be single value then \n",
    "                       # do nothing\n",
    "            p = pivot_place(list1, first, last)\n",
    "            # now we got the pivot place now we will sort the list1 recursively\n",
    "            quicksort(list1, first, p-1)  # left list\n",
    "            quicksort(list1, p+1, last)   # right list\n",
    "            \n",
    "            \n",
    "# step 3 - main\n",
    "\n",
    "list1 = [56, 26, 93, 17, 31, 44]\n",
    "print(\"Unsorted : \", list1)\n",
    "print()\n",
    "n = len(list1)\n",
    "quicksort(list1, 0, n-1)  # we need last index number not len that is why we did n-1\n",
    "\n",
    "print(\"Sorted : \", list1)\n"
   ]
  },
  {
   "cell_type": "code",
   "execution_count": 12,
   "id": "ed7b2f45",
   "metadata": {},
   "outputs": [
    {
     "name": "stdout",
     "output_type": "stream",
     "text": [
      "Unsorted :  [56, 26, 93, 17, 31, 44]\n",
      "\n",
      "Sorted :  [17, 26, 31, 44, 56, 93]\n"
     ]
    }
   ],
   "source": [
    "# taking median value as a pivot element\n",
    "\n",
    "# we will program it in three steps \n",
    "\n",
    "# step 1 - finding the pivot element \n",
    "import statistics\n",
    "def pivot_place(list1, first, last):  # here first and last is the index of the list \n",
    "    low = list1[first]\n",
    "    high = list1[last]\n",
    "    mid = (first + last)//2\n",
    "    mid_val = statistics.median([low, list1[mid], high])\n",
    "    \n",
    "    if mid_val == low:\n",
    "        pindex = first\n",
    "    elif mid_val == high:\n",
    "        pindex = last\n",
    "        \n",
    "    else:\n",
    "        pindex = mid\n",
    "    list1[pindex], list1[first] = list1[first], list1[pindex]\n",
    "    \n",
    "    pivot = list1[first]\n",
    "    left = first + 1\n",
    "    right = last\n",
    "    \n",
    "    # now we will right the conditions \n",
    "    while True:\n",
    "        while left<=right and list1[left]<= pivot:\n",
    "            left = left + 1\n",
    "        while left<= right and list1[right]>=pivot:\n",
    "            right = right - 1\n",
    "            \n",
    "        if right<left:\n",
    "            break\n",
    "        else:\n",
    "            list1[left], list1[right] = list1[right], list1[left]\n",
    "        \n",
    "    # if control is here means right<left now we need to swap pivot with list1[right]\n",
    "    list1[first], list1[right] = list1[right], list1[first] # here list1[first] is pivot value\n",
    "    \n",
    "    return right  # and finally we got right position of pivot value\n",
    "\n",
    "# step 2 - now we will write quick sort algorithm\n",
    "\n",
    "def quicksort(list1, first, last):\n",
    "    if first < last :  # this is the base condition to check if there will be single value then \n",
    "                       # do nothing\n",
    "            p = pivot_place(list1, first, last)\n",
    "            # now we got the pivot place now we will sort the list1 recursively\n",
    "            quicksort(list1, first, p-1)  # left list\n",
    "            quicksort(list1, p+1, last)   # right list\n",
    "            \n",
    "            \n",
    "# step 3 - main\n",
    "\n",
    "list1 = [56, 26, 93, 17, 31, 44]\n",
    "print(\"Unsorted : \", list1)\n",
    "print()\n",
    "n = len(list1)\n",
    "quicksort(list1, 0, n-1)  # we need last index number not len that is why we did n-1\n",
    "\n",
    "print(\"Sorted : \", list1)\n"
   ]
  },
  {
   "cell_type": "markdown",
   "id": "42943312",
   "metadata": {},
   "source": [
    "#### 4. Merge Sort Algorithm"
   ]
  },
  {
   "cell_type": "code",
   "execution_count": 4,
   "id": "10d9c09a",
   "metadata": {},
   "outputs": [
    {
     "name": "stdout",
     "output_type": "stream",
     "text": [
      "Enter the length of the list: 2\n",
      "Enter list's 1 number: 21\n",
      "Enter list's 2 number: 12\n",
      "Unsorted list:  [21, 12]\n",
      "\n",
      "Sorted list:  [12, 21]\n"
     ]
    }
   ],
   "source": [
    "\n",
    "def mergesort(list1):\n",
    "    \n",
    "    if len(list1)> 1: # if only one element then no need to sort\n",
    "        \n",
    "        mid = len(list1)//2\n",
    "        left_list = list1[:mid]\n",
    "        right_list = list1[mid:]\n",
    "\n",
    "        # we will divide list recursively till the list size = 1\n",
    "        mergesort(left_list)\n",
    "        mergesort(right_list)\n",
    "        # by recursively call list will have been divided into multiple sub list with len = 1\n",
    "\n",
    "\n",
    "        # now we need to compare and merge them till the main list found\n",
    "        i = 0 # for left list index\n",
    "        j = 0 #for right list index\n",
    "        k = 0 # for the main list1 index number \n",
    "        while i<len(left_list) and j< len(right_list):\n",
    "            if left_list[i] < right_list[j]:\n",
    "                list1[k] = left_list[i]\n",
    "                i = i + 1\n",
    "                k = k + 1\n",
    "            else:\n",
    "                list1[k] = right_list[j]\n",
    "                j = j + 1\n",
    "                k = k + 1\n",
    "\n",
    "        while i < len(left_list):\n",
    "            list1[k] = left_list[i]\n",
    "            i = i + 1\n",
    "            k = k + 1\n",
    "\n",
    "        while j < len(right_list):\n",
    "            list1[k] = right_list[j]\n",
    "            j = j + 1\n",
    "            k = k + 1\n",
    "\n",
    "\n",
    "# part 1 taking input from user\n",
    "num = int(input(\"Enter the length of the list: \"))\n",
    "list1 = [int(input(f\"Enter list's {x+1} number: \")) for x in range(num)]\n",
    "\n",
    "print(\"Unsorted list: \", list1)\n",
    "mergesort(list1)\n",
    "print()\n",
    "print(\"Sorted list: \", list1)"
   ]
  },
  {
   "cell_type": "markdown",
   "id": "6ca29edb",
   "metadata": {},
   "source": [
    "#### 5. Insertion Sort Algorithm\n"
   ]
  },
  {
   "cell_type": "code",
   "execution_count": 5,
   "id": "fbf9454f",
   "metadata": {},
   "outputs": [
    {
     "name": "stdout",
     "output_type": "stream",
     "text": [
      "Unsorted :  [2, 4, 3, 5, 1, 1]\n",
      "\n",
      "Sorted :  [1, 1, 2, 3, 4, 5]\n"
     ]
    }
   ],
   "source": [
    "def insertion_sort(mylist):\n",
    "    for index in range(1, len(mylist)):  # we took range from 1 because 0th index as sorted part\n",
    "        current_element = mylist[index]\n",
    "        pos = index\n",
    "        \n",
    "        while current_element < mylist[pos -1] and pos > 0:\n",
    "            mylist[pos] = mylist[pos - 1]\n",
    "            pos = pos - 1\n",
    "            \n",
    "        mylist[pos] = current_element\n",
    "        \n",
    "        \n",
    "list1 = [2,4,3,5,1,1]\n",
    "print(\"Unsorted : \", list1)\n",
    "print()\n",
    "insertion_sort(list1)\n",
    "print(\"Sorted : \", list1)"
   ]
  },
  {
   "cell_type": "code",
   "execution_count": 6,
   "id": "9728783c",
   "metadata": {},
   "outputs": [
    {
     "name": "stdout",
     "output_type": "stream",
     "text": [
      "Unsorted :  [1, 2, 3, 2, 1, 4, 2]\n",
      "\n",
      "Sorted :  [1, 1, 2, 2, 2, 3, 4]\n"
     ]
    }
   ],
   "source": [
    "def insertion_sort(list1):\n",
    "    for index in range(1, len(list1)):\n",
    "        current_element = list1[index]\n",
    "        pos = index\n",
    "        while current_element < list1[pos-1] and pos > 0:\n",
    "            list1[pos] = list1[pos - 1]\n",
    "            pos = pos - 1\n",
    "            \n",
    "        list1[pos] = current_element\n",
    "        \n",
    "        \n",
    "list1 = [1,2,3,2,1,4,2]\n",
    "print(\"Unsorted : \", list1)\n",
    "print()\n",
    "insertion_sort(list1)\n",
    "print(\"Sorted : \", list1)"
   ]
  },
  {
   "cell_type": "markdown",
   "id": "74af27e3",
   "metadata": {},
   "source": [
    "#### 6. Shell Sort Algorithm\n"
   ]
  },
  {
   "cell_type": "code",
   "execution_count": 8,
   "id": "83d334ad",
   "metadata": {},
   "outputs": [
    {
     "name": "stdout",
     "output_type": "stream",
     "text": [
      "Unsorted :  [1, 2, 3, 2, 4, 2, 1, 1]\n",
      "\n",
      "Sorted :  [1, 1, 1, 2, 2, 2, 3, 4]\n"
     ]
    }
   ],
   "source": [
    "def shellSort(list1):\n",
    "    gap = len(list1)//2\n",
    "    while gap >0:\n",
    "        for index in range(gap, len(list1)):\n",
    "            current_element = list1[index]\n",
    "            pos = index\n",
    "            while current_element<list1[pos - gap] and pos>= gap:\n",
    "                list1[pos] = list1[pos - gap]\n",
    "                pos = pos - gap\n",
    "                \n",
    "            list1[pos] = current_element\n",
    "        gap = gap//2\n",
    "        \n",
    "        \n",
    "        \n",
    "list1 = [1,2,3,2,4,2,1,1]\n",
    "print(\"Unsorted : \", list1)\n",
    "print()\n",
    "shellSort(list1)\n",
    "print(\"Sorted : \", list1)"
   ]
  },
  {
   "cell_type": "markdown",
   "id": "4934714e",
   "metadata": {},
   "source": [
    "#### Linear Search Algorithm"
   ]
  },
  {
   "cell_type": "code",
   "execution_count": 14,
   "id": "c82bec95",
   "metadata": {},
   "outputs": [
    {
     "name": "stdout",
     "output_type": "stream",
     "text": [
      "[12, 32, 44, 21, 3, 1, 3, 4, 54, 5, 3, 2] \n",
      "Select the key from the given list\n",
      "Enter the key : 3\n",
      "Index of the key in list1 : \n",
      "4 6 10 "
     ]
    }
   ],
   "source": [
    "def linear_search(list1, key):\n",
    "    list2 = []\n",
    "    flag = False\n",
    "    for i in range(len(list1)):\n",
    "        if key == list1[i]:\n",
    "            flag = True\n",
    "            list2.append(i)\n",
    "            \n",
    "    if flag == True:\n",
    "        print(\"Index of the key in list1 : \")\n",
    "        for j in list2:\n",
    "            print(j, end = \" \")\n",
    "            \n",
    "    else:\n",
    "        print(\"Key is not found in the list1!\")\n",
    "        \n",
    "        \n",
    "        \n",
    "list1 = [12,32,44,21,3,1,3,4,54,5,3,2]\n",
    "print(list1,\"\\nSelect the key from the given list\")\n",
    "linear_search(list1, int(input(\"Enter the key : \")))  \n",
    "        "
   ]
  },
  {
   "cell_type": "code",
   "execution_count": 16,
   "id": "189c5a78",
   "metadata": {},
   "outputs": [
    {
     "name": "stdout",
     "output_type": "stream",
     "text": [
      "[12, 32, 44, 21, 3, 1, 'hello', 4, 54, 'hello', 5, 3, 2] \n",
      "Select the key from the given list\n",
      "Enter the key : \"hello\"\n",
      "Index of the key in list1 : \n",
      "6 9 "
     ]
    }
   ],
   "source": [
    "def linear_search(list1, key):\n",
    "    list2 = []\n",
    "    flag = False\n",
    "    for i in range(len(list1)):\n",
    "        if key == list1[i]:\n",
    "            flag = True\n",
    "            list2.append(i)\n",
    "            \n",
    "    if flag == True:\n",
    "        print(\"Index of the key in list1 : \")\n",
    "        for j in list2:\n",
    "            print(j, end = \" \")\n",
    "            \n",
    "    else:\n",
    "        print(\"Key is not found in the list1!\")\n",
    "        \n",
    "        \n",
    "        \n",
    "list1 = [12,32,44,21,3,1,\"hello\",4,54,\"hello\",5,3,2]\n",
    "\n",
    "print(list1,\"\\nSelect the key from the given list\")\n",
    "linear_search(list1, eval(input(\"Enter the key : \")))  \n",
    "        "
   ]
  },
  {
   "cell_type": "markdown",
   "id": "9377c52c",
   "metadata": {},
   "source": [
    "#### Binary Search "
   ]
  },
  {
   "cell_type": "code",
   "execution_count": 18,
   "id": "0675f362",
   "metadata": {},
   "outputs": [
    {
     "name": "stdout",
     "output_type": "stream",
     "text": [
      "Sorted list:  [1, 2, 3, 4, 23]\n",
      "Enter the key you want to search: 3\n",
      "Key is found!\n"
     ]
    }
   ],
   "source": [
    "def binarySearch(list1, key):\n",
    "    low_ind = 0\n",
    "    high_ind = len(list1) - 1\n",
    "    found = False\n",
    "    \n",
    "    while low_ind < high_ind and not found:\n",
    "        mid = (low_ind + high_ind)//2\n",
    "        if key == list1[mid]:\n",
    "            found = True\n",
    "        elif key>list1[mid]:\n",
    "            low_ind = mid + 1\n",
    "        else:\n",
    "            high_ind = mid - 1  # means key < list[mid]\n",
    "            \n",
    "    if found == True:\n",
    "        print(\"Key is found!\")\n",
    "    else:\n",
    "        print(\"Key is not found!\")\n",
    "\n",
    "list1 = [23,1,4,2,3]\n",
    "list1.sort()\n",
    "print(\"Sorted list: \", list1)\n",
    "key = int(input(\"Enter the key you want to search: \"))\n",
    "binarySearch(list1, key)"
   ]
  },
  {
   "cell_type": "code",
   "execution_count": null,
   "id": "e3bb7c03",
   "metadata": {},
   "outputs": [],
   "source": []
  }
 ],
 "metadata": {
  "kernelspec": {
   "display_name": "Python 3 (ipykernel)",
   "language": "python",
   "name": "python3"
  },
  "language_info": {
   "codemirror_mode": {
    "name": "ipython",
    "version": 3
   },
   "file_extension": ".py",
   "mimetype": "text/x-python",
   "name": "python",
   "nbconvert_exporter": "python",
   "pygments_lexer": "ipython3",
   "version": "3.9.7"
  }
 },
 "nbformat": 4,
 "nbformat_minor": 5
}
