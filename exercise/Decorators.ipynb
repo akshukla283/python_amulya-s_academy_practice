{
 "cells": [
  {
   "cell_type": "code",
   "execution_count": 1,
   "id": "1e86018f",
   "metadata": {},
   "outputs": [
    {
     "data": {
      "text/plain": [
       "'GOOD MORNING!'"
      ]
     },
     "execution_count": 1,
     "metadata": {},
     "output_type": "execute_result"
    }
   ],
   "source": [
    "def upper_deco(func):\n",
    "    def inner():\n",
    "        str1 = func()\n",
    "        return str1.upper()\n",
    "    return inner\n",
    "\n",
    "@upper_deco\n",
    "def greet():\n",
    "    return \"good morning!\"\n",
    "\n",
    "greet()"
   ]
  },
  {
   "cell_type": "code",
   "execution_count": 2,
   "id": "5291208b",
   "metadata": {},
   "outputs": [
    {
     "name": "stdout",
     "output_type": "stream",
     "text": [
      "GOOD MORNING!\n"
     ]
    }
   ],
   "source": [
    "print(greet())"
   ]
  },
  {
   "cell_type": "code",
   "execution_count": 3,
   "id": "87f4cb90",
   "metadata": {},
   "outputs": [
    {
     "data": {
      "text/plain": [
       "0.5"
      ]
     },
     "execution_count": 3,
     "metadata": {},
     "output_type": "execute_result"
    }
   ],
   "source": [
    "def div_deco(func):\n",
    "    def inner(*args):\n",
    "        list1 = []\n",
    "        list1 = args[1:]\n",
    "        for i in list1:\n",
    "            if i == 0:\n",
    "                return \"Give proper input!\"\n",
    "        else:\n",
    "            return func(*args)\n",
    "    return inner\n",
    "\n",
    "\n",
    "@div_deco\n",
    "def divide(a, b):\n",
    "    return a/b\n",
    "\n",
    "\n",
    "\n",
    "divide(2, 4)"
   ]
  },
  {
   "cell_type": "code",
   "execution_count": 4,
   "id": "b00d35cd",
   "metadata": {},
   "outputs": [
    {
     "data": {
      "text/plain": [
       "'Give proper input!'"
      ]
     },
     "execution_count": 4,
     "metadata": {},
     "output_type": "execute_result"
    }
   ],
   "source": [
    "divide(2, 0)"
   ]
  },
  {
   "cell_type": "code",
   "execution_count": 5,
   "id": "33459c20",
   "metadata": {},
   "outputs": [],
   "source": [
    "@div_deco\n",
    "def divide(a,b,c):\n",
    "    return a/b/c"
   ]
  },
  {
   "cell_type": "code",
   "execution_count": 6,
   "id": "039bfc7d",
   "metadata": {},
   "outputs": [
    {
     "data": {
      "text/plain": [
       "'Give proper input!'"
      ]
     },
     "execution_count": 6,
     "metadata": {},
     "output_type": "execute_result"
    }
   ],
   "source": [
    "divide(5,3,0)"
   ]
  },
  {
   "cell_type": "code",
   "execution_count": 7,
   "id": "25bdabea",
   "metadata": {},
   "outputs": [
    {
     "data": {
      "text/plain": [
       "2.3"
      ]
     },
     "execution_count": 7,
     "metadata": {},
     "output_type": "execute_result"
    }
   ],
   "source": [
    "divide(23,5,2)"
   ]
  },
  {
   "cell_type": "markdown",
   "id": "acae4cee",
   "metadata": {},
   "source": [
    "#### Class Decorators"
   ]
  },
  {
   "cell_type": "code",
   "execution_count": 15,
   "id": "61f7cab5",
   "metadata": {},
   "outputs": [
    {
     "data": {
      "text/plain": [
       "'Hey, My name name is also same!'"
      ]
     },
     "execution_count": 15,
     "metadata": {},
     "output_type": "execute_result"
    }
   ],
   "source": [
    "def name_dec(func):\n",
    "    def inner(name_ref):  # like self we took here 'name_ref'\n",
    "        if name_ref.name == \"David\":\n",
    "            return \"Hey, My name name is also same!\"\n",
    "        else:\n",
    "            return func(name_ref)\n",
    "    return inner\n",
    "\n",
    "        \n",
    "\n",
    "class Printing:\n",
    "    def __init__(self, name):\n",
    "        self.name = name\n",
    "    \n",
    "    @name_dec\n",
    "    def print_name(self):\n",
    "        return f\"Hi, enter name by users is : {self.name}\"\n",
    "        \n",
    "name_obj = Printing(\"David\")\n",
    "\n",
    "name_obj.print_name()"
   ]
  },
  {
   "cell_type": "code",
   "execution_count": 16,
   "id": "68088869",
   "metadata": {},
   "outputs": [
    {
     "name": "stdout",
     "output_type": "stream",
     "text": [
      "Hi, enter name by users is : Ankit\n"
     ]
    }
   ],
   "source": [
    "obj2 = Printing(\"Ankit\")\n",
    "print(obj2.print_name())"
   ]
  },
  {
   "cell_type": "markdown",
   "id": "a1e96733",
   "metadata": {},
   "source": [
    "#### class property"
   ]
  },
  {
   "cell_type": "code",
   "execution_count": 20,
   "id": "595bcfc6",
   "metadata": {},
   "outputs": [
    {
     "data": {
      "text/plain": [
       "400"
      ]
     },
     "execution_count": 20,
     "metadata": {},
     "output_type": "execute_result"
    }
   ],
   "source": [
    "class Student:\n",
    "    def __init__(self, marks):\n",
    "        self.__marks = marks\n",
    "    def percent(self):\n",
    "        \n",
    "        return round((self.__marks/600)*100, 2)\n",
    "    @property\n",
    "    def marks(self):\n",
    "        return self.__marks\n",
    "    \n",
    "    @marks.setter\n",
    "    def marks(self, value):\n",
    "        self.__marks = value\n",
    "        \n",
    "        \n",
    "st1 = Student(400)\n",
    "st1.marks             # we used property method so marks will be behave like attribute\n"
   ]
  },
  {
   "cell_type": "code",
   "execution_count": 21,
   "id": "3bd1dd8e",
   "metadata": {},
   "outputs": [
    {
     "data": {
      "text/plain": [
       "66.67"
      ]
     },
     "execution_count": 21,
     "metadata": {},
     "output_type": "execute_result"
    }
   ],
   "source": [
    "st1.percent()"
   ]
  },
  {
   "cell_type": "code",
   "execution_count": 23,
   "id": "97d00901",
   "metadata": {},
   "outputs": [],
   "source": [
    "st1.marks = 600   # as we can assign new value to the marks attribute "
   ]
  },
  {
   "cell_type": "code",
   "execution_count": 24,
   "id": "bce22456",
   "metadata": {},
   "outputs": [
    {
     "data": {
      "text/plain": [
       "100.0"
      ]
     },
     "execution_count": 24,
     "metadata": {},
     "output_type": "execute_result"
    }
   ],
   "source": [
    "st1.percent()"
   ]
  },
  {
   "cell_type": "code",
   "execution_count": 25,
   "id": "0aa7dc98",
   "metadata": {},
   "outputs": [
    {
     "data": {
      "text/plain": [
       "83.33"
      ]
     },
     "execution_count": 25,
     "metadata": {},
     "output_type": "execute_result"
    }
   ],
   "source": [
    "class Student:\n",
    "    def __init__(self, marks):\n",
    "        self.__marks = marks\n",
    "        \n",
    "    def percent(self):\n",
    "        return round((self.__marks/600)*100 , 2)\n",
    "    \n",
    "    @property\n",
    "    def marks(self):\n",
    "        return self.__marks\n",
    "    \n",
    "    @marks.setter\n",
    "    def marks(self, value):\n",
    "        if value < 0 or value >600:\n",
    "            print(\"Can't set value stick with previous value!\")\n",
    "        else:\n",
    "            self.__marks = value\n",
    "            \n",
    "            \n",
    "st1 = Student(500)\n",
    "st1.percent()\n",
    "        "
   ]
  },
  {
   "cell_type": "code",
   "execution_count": 26,
   "id": "f978f86b",
   "metadata": {},
   "outputs": [
    {
     "data": {
      "text/plain": [
       "500"
      ]
     },
     "execution_count": 26,
     "metadata": {},
     "output_type": "execute_result"
    }
   ],
   "source": [
    "st1.marks"
   ]
  },
  {
   "cell_type": "code",
   "execution_count": 27,
   "id": "05e33101",
   "metadata": {},
   "outputs": [],
   "source": [
    "st1.marks = 600"
   ]
  },
  {
   "cell_type": "code",
   "execution_count": 28,
   "id": "ee242f0a",
   "metadata": {},
   "outputs": [
    {
     "data": {
      "text/plain": [
       "100.0"
      ]
     },
     "execution_count": 28,
     "metadata": {},
     "output_type": "execute_result"
    }
   ],
   "source": [
    "st1.percent()"
   ]
  },
  {
   "cell_type": "code",
   "execution_count": 29,
   "id": "cf6234cb",
   "metadata": {},
   "outputs": [
    {
     "name": "stdout",
     "output_type": "stream",
     "text": [
      "Can't set value stick with previous value!\n"
     ]
    },
    {
     "data": {
      "text/plain": [
       "100.0"
      ]
     },
     "execution_count": 29,
     "metadata": {},
     "output_type": "execute_result"
    }
   ],
   "source": [
    "st1.marks = 700\n",
    "st1.percent()"
   ]
  },
  {
   "cell_type": "code",
   "execution_count": 5,
   "id": "ad6f8049",
   "metadata": {},
   "outputs": [
    {
     "data": {
      "text/plain": [
       "10.0"
      ]
     },
     "execution_count": 5,
     "metadata": {},
     "output_type": "execute_result"
    }
   ],
   "source": [
    "# we can use 'delete' method in it as well\n",
    "\n",
    "class Student:\n",
    "    \n",
    "    def __init__(self, marks):\n",
    "        self.__marks = marks\n",
    "        \n",
    "    def percent(self):\n",
    "        return round((self.__marks/600)*100, 2)\n",
    "    @property\n",
    "    def marks(self):\n",
    "        return self.__marks\n",
    "    @marks.setter\n",
    "    def marks(self, value):\n",
    "        if value<0 or value > 600:\n",
    "            print(\"Can't set value stick with previous value!\")\n",
    "        else:\n",
    "            self.__marks = value\n",
    "    @marks.deleter\n",
    "    def marks(self):\n",
    "        del self.__marks\n",
    "        \n",
    "        \n",
    "        \n",
    "    \n",
    "s = Student(400)\n",
    "s.marks = 60\n",
    "s.percent()\n"
   ]
  },
  {
   "cell_type": "code",
   "execution_count": 6,
   "id": "ebb01c73",
   "metadata": {},
   "outputs": [
    {
     "ename": "AttributeError",
     "evalue": "'Student' object has no attribute '_Student__marks'",
     "output_type": "error",
     "traceback": [
      "\u001b[1;31m---------------------------------------------------------------------------\u001b[0m",
      "\u001b[1;31mAttributeError\u001b[0m                            Traceback (most recent call last)",
      "Input \u001b[1;32mIn [6]\u001b[0m, in \u001b[0;36m<cell line: 2>\u001b[1;34m()\u001b[0m\n\u001b[0;32m      1\u001b[0m \u001b[38;5;28;01mdel\u001b[39;00m s\u001b[38;5;241m.\u001b[39mmarks\n\u001b[1;32m----> 2\u001b[0m \u001b[38;5;28mprint\u001b[39m(\u001b[43ms\u001b[49m\u001b[38;5;241;43m.\u001b[39;49m\u001b[43mmarks\u001b[49m)\n\u001b[0;32m      3\u001b[0m \u001b[38;5;28mprint\u001b[39m(s\u001b[38;5;241m.\u001b[39mpercent(), \u001b[38;5;124m\"\u001b[39m\u001b[38;5;124m%\u001b[39m\u001b[38;5;124m\"\u001b[39m)\n",
      "Input \u001b[1;32mIn [5]\u001b[0m, in \u001b[0;36mStudent.marks\u001b[1;34m(self)\u001b[0m\n\u001b[0;32m     10\u001b[0m \u001b[38;5;129m@property\u001b[39m\n\u001b[0;32m     11\u001b[0m \u001b[38;5;28;01mdef\u001b[39;00m \u001b[38;5;21mmarks\u001b[39m(\u001b[38;5;28mself\u001b[39m):\n\u001b[1;32m---> 12\u001b[0m     \u001b[38;5;28;01mreturn\u001b[39;00m \u001b[38;5;28;43mself\u001b[39;49m\u001b[38;5;241;43m.\u001b[39;49m\u001b[43m__marks\u001b[49m\n",
      "\u001b[1;31mAttributeError\u001b[0m: 'Student' object has no attribute '_Student__marks'"
     ]
    }
   ],
   "source": [
    "del s.marks\n",
    "print(s.marks)\n",
    "print(s.percent(), \"%\")"
   ]
  },
  {
   "cell_type": "code",
   "execution_count": 8,
   "id": "90b79001",
   "metadata": {},
   "outputs": [
    {
     "name": "stdout",
     "output_type": "stream",
     "text": [
      "2\n"
     ]
    }
   ],
   "source": [
    "# class method, by using this we can access class attribute \n",
    "\n",
    "class Student:\n",
    "    \n",
    "    # class object\n",
    "    counter = 0\n",
    "       \n",
    "    def __init__(self, name, marks):\n",
    "        self.name = name\n",
    "        self.marks = marks\n",
    "        Student.counter = Student.counter + 1\n",
    "        \n",
    "    def msg(self):\n",
    "        print(f\"{self.name} got {self.marks}% marks!\")\n",
    "        \n",
    "    @classmethod\n",
    "    def object_counter(cls): # note in classmethod we pass 'cls' instead of 'self'\n",
    "        return cls.counter\n",
    "    \n",
    "s1 = Student('Jia', '94')\n",
    "s2 = Student('Mithi', '87')\n",
    "print(Student.object_counter())\n",
    "        "
   ]
  },
  {
   "cell_type": "code",
   "execution_count": 9,
   "id": "abb5b33f",
   "metadata": {},
   "outputs": [
    {
     "name": "stdout",
     "output_type": "stream",
     "text": [
      "ria got 66.66666666666666 %\n",
      "Belongs to school\n"
     ]
    }
   ],
   "source": [
    "class Student:\n",
    "    \n",
    "    def __init__(self, name, marks):\n",
    "        self.name = name \n",
    "        self.marks = marks\n",
    "        \n",
    "    def msg(self):\n",
    "        print(self.name + \" got \" + self.marks, \"%\")\n",
    "        \n",
    "    @classmethod   \n",
    "    def get_per(cls, name, marks):\n",
    "        return cls(name, str((int(marks)/600)*100))\n",
    "    \n",
    "    @staticmethod\n",
    "    def get_age(age): # no need self and cls \n",
    "        if age<17:\n",
    "            print(\"Belongs to school\")\n",
    "        else:\n",
    "            print(\"Don't belongs to school\")\n",
    "        \n",
    "s1 = Student('sia',\"93\")\n",
    "s2 = Student.get_per('ria', '400')\n",
    "s2.msg()\n",
    "Student.get_age(16)"
   ]
  },
  {
   "cell_type": "code",
   "execution_count": null,
   "id": "f69ecfd6",
   "metadata": {},
   "outputs": [],
   "source": []
  }
 ],
 "metadata": {
  "kernelspec": {
   "display_name": "Python 3 (ipykernel)",
   "language": "python",
   "name": "python3"
  },
  "language_info": {
   "codemirror_mode": {
    "name": "ipython",
    "version": 3
   },
   "file_extension": ".py",
   "mimetype": "text/x-python",
   "name": "python",
   "nbconvert_exporter": "python",
   "pygments_lexer": "ipython3",
   "version": "3.9.7"
  }
 },
 "nbformat": 4,
 "nbformat_minor": 5
}
