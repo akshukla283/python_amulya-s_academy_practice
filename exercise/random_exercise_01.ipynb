{
 "cells": [
  {
   "cell_type": "code",
   "execution_count": 3,
   "id": "2234eb31",
   "metadata": {},
   "outputs": [
    {
     "name": "stdout",
     "output_type": "stream",
     "text": [
      "Enter the first string : earth\n",
      "Enter the second string : heart\n",
      "Strings are Anagrams \n"
     ]
    }
   ],
   "source": [
    "# Checking Anagram \n",
    "# \"An anagram of a string is an another string that contains same characters only the order \n",
    "# of characters can be different\"\n",
    "\n",
    "str1 = input(\"Enter the first string : \")\n",
    "str2 = input(\"Enter the second string : \")\n",
    "\n",
    "if len(str1) == len(str2):\n",
    "    if sorted(str1) == sorted(str2):\n",
    "        print(\"Strings are Anagrams \")\n",
    "    else:\n",
    "        print(\"Strings are not Anagrams\")\n",
    "        \n",
    "else:\n",
    "    print(\"Strings have different length, can't be Anagram\")\n",
    "    \n",
    "    "
   ]
  },
  {
   "cell_type": "code",
   "execution_count": 8,
   "id": "1488bd15",
   "metadata": {},
   "outputs": [
    {
     "name": "stdout",
     "output_type": "stream",
     "text": [
      "Enter the first string : hsdd\n",
      "Enter the second string : asa\n",
      "\n",
      "Strings have different length, can't be Anagram\n"
     ]
    }
   ],
   "source": [
    "# write the above program with try and else block so that if user enter number then exception \n",
    "# should be handle\n",
    "while True:\n",
    "    try :\n",
    "        str1 = input(\"Enter the first string : \")\n",
    "        if str1.isalpha() == True :\n",
    "            break\n",
    "        else:\n",
    "            print()\n",
    "            print(\"From str1, enter string only!\")\n",
    "            continue\n",
    "    except:\n",
    "        print(\"something is wrong!\")\n",
    "        \n",
    "while True:\n",
    "    try:\n",
    "        str2 = input(\"Enter the second string : \")\n",
    "        if str2.isalpha() == True:\n",
    "            break\n",
    "        else:\n",
    "            print()\n",
    "            print(\"From str2, enter string only!\")\n",
    "            continue\n",
    "    except:\n",
    "        print(\"something is wrong!\")\n",
    "                       \n",
    "   \n",
    "        \n",
    "        \n",
    "    \n",
    "print()\n",
    "if len(str1) == len(str2):\n",
    "    if sorted(str1) == sorted(str2):\n",
    "        print(\"Strings are Anagrams \")\n",
    "    else:\n",
    "        print(\"Strings are not Anagrams\")\n",
    "        \n",
    "else:\n",
    "    print(\"Strings have different length, can't be Anagram\")\n",
    "    \n",
    "    "
   ]
  },
  {
   "cell_type": "code",
   "execution_count": 10,
   "id": "e010236f",
   "metadata": {},
   "outputs": [
    {
     "name": "stdout",
     "output_type": "stream",
     "text": [
      "Enter the first number : 20\n",
      "Enter the second number : 21\n",
      "20 and 21 are Co-Prime numbers\n"
     ]
    }
   ],
   "source": [
    "### Co-Prime Number \n",
    "# when gcd of two number is 1, then that two numbers are called as co-prime\n",
    "# (no rule like number should be prime).\n",
    "\n",
    "\n",
    "# using built-in method of finding gcd of two number:\n",
    "\n",
    "num1 = int(input(\"Enter the first number : \"))\n",
    "num2 = int(input(\"Enter the second number : \"))\n",
    "\n",
    "import math\n",
    "\n",
    "if math.gcd(num1, num2) == 1:\n",
    "    print(f\"{num1} and {num2} are Co-Prime numbers\")\n",
    "\n",
    "else:\n",
    "    print(f\"{num1} and {num2} are Not Co-Prime numbers\")\n",
    "    "
   ]
  },
  {
   "cell_type": "code",
   "execution_count": 13,
   "id": "aff5e28d",
   "metadata": {},
   "outputs": [
    {
     "name": "stdout",
     "output_type": "stream",
     "text": [
      "Enter the first number : 11\n",
      "Enter the second number : 2211\n",
      "11 and 2211 are Not Co-Prime numbers\n"
     ]
    }
   ],
   "source": [
    "# Now by iterative method\n",
    "\n",
    "num1 = int(input(\"Enter the first number : \"))\n",
    "num2 = int(input(\"Enter the second number : \"))\n",
    "num1_fact = []  # to store the factor of numbers so that we can find the gcd\n",
    "num2_fact = []\n",
    "\n",
    "for i in range(1, num1+1):\n",
    "    if num1%i == 0:\n",
    "        num1_fact.append(i)\n",
    "        \n",
    "for i in range(1, num2+1):\n",
    "    if num2%i == 0:\n",
    "        num2_fact.append(i)\n",
    "        \n",
    "# now let's take a list of common factor in these two numbers\n",
    "co_fact = [x for x in num1_fact if x in num2_fact]\n",
    "\n",
    "# now we can find co_prime\n",
    "if len(co_fact) == 1:\n",
    "    print(f\"{num1} and {num2} are Co-Prime numbers\")\n",
    "\n",
    "else:\n",
    "    print(f\"{num1} and {num2} are Not Co-Prime numbers\")\n"
   ]
  },
  {
   "cell_type": "code",
   "execution_count": 15,
   "id": "d97d422f",
   "metadata": {},
   "outputs": [
    {
     "name": "stdout",
     "output_type": "stream",
     "text": [
      "Enter the number : 12\n",
      "Enter the lower range : 1\n",
      "Enter the upper range : 20\n",
      "1 5 7 11 13 17 19 "
     ]
    }
   ],
   "source": [
    "# list of coprime number of specific number within given range\n",
    "\n",
    "num = int(input(\"Enter the number : \"))\n",
    "lower = int(input(\"Enter the lower range : \"))\n",
    "upper = int(input(\"Enter the upper range : \"))\n",
    "\n",
    "from math import gcd\n",
    "# now checking co_prime number within given range of a number\n",
    "for i in range(lower, upper+1):\n",
    "    if gcd(num, i) == 1:\n",
    "        print(i, end = \" \")\n",
    "        "
   ]
  },
  {
   "cell_type": "code",
   "execution_count": 16,
   "id": "4ea8039e",
   "metadata": {},
   "outputs": [
    {
     "name": "stdout",
     "output_type": "stream",
     "text": [
      "[7, 9, [12, 5, [30, 15], 17], 7]\n",
      "max:  30\n"
     ]
    }
   ],
   "source": [
    "# write a program to find the max value in nested list\n",
    "\n",
    "max_list = []\n",
    "def get_max(list1):\n",
    "    \n",
    "    for i in list1:\n",
    "        if type(i) == list: # if geting value is list then we called recursive function to find \n",
    "                            # number in that list\n",
    "            get_max(i)\n",
    "        else:\n",
    "            max_list.append(i)\n",
    "            \n",
    "    return max(max_list)\n",
    "\n",
    "list1 = [7, 9, [12, 5, [30, 15], 17], 7]\n",
    "print(list1)\n",
    "print(\"max: \",get_max(list1)) "
   ]
  },
  {
   "cell_type": "code",
   "execution_count": 17,
   "id": "d9d8cf30",
   "metadata": {},
   "outputs": [
    {
     "name": "stdout",
     "output_type": "stream",
     "text": [
      "[7, 9, [12, 5, [30, 15], 17], 7]\n",
      "min:  5\n"
     ]
    }
   ],
   "source": [
    "# Similarly for finding the min value from a nested list\n",
    "\n",
    "\n",
    "\n",
    "min_list = []\n",
    "def get_min(list1):\n",
    "    \n",
    "    for i in list1:\n",
    "        if type(i) == list: # if geting value is list then we called recursive function to find \n",
    "                            # number in that list\n",
    "            get_min(i)\n",
    "        else:\n",
    "            min_list.append(i)\n",
    "            \n",
    "    return min(min_list)\n",
    "\n",
    "list1 = [7, 9, [12, 5, [30, 15], 17], 7]\n",
    "print(list1)\n",
    "print(\"min: \",get_min(list1)) "
   ]
  },
  {
   "cell_type": "code",
   "execution_count": null,
   "id": "3ce8b64f",
   "metadata": {},
   "outputs": [],
   "source": []
  }
 ],
 "metadata": {
  "kernelspec": {
   "display_name": "Python 3 (ipykernel)",
   "language": "python",
   "name": "python3"
  },
  "language_info": {
   "codemirror_mode": {
    "name": "ipython",
    "version": 3
   },
   "file_extension": ".py",
   "mimetype": "text/x-python",
   "name": "python",
   "nbconvert_exporter": "python",
   "pygments_lexer": "ipython3",
   "version": "3.9.7"
  }
 },
 "nbformat": 4,
 "nbformat_minor": 5
}
