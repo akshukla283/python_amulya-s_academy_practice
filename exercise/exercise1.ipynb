{
 "cells": [
  {
   "cell_type": "code",
   "execution_count": 2,
   "id": "e76b2dcf",
   "metadata": {},
   "outputs": [
    {
     "name": "stdout",
     "output_type": "stream",
     "text": [
      "0\n",
      "1\n",
      "2\n",
      "3\n",
      "4\n",
      "5\n",
      "6\n",
      "7\n",
      "8\n",
      "9\n",
      "153\n",
      "370\n",
      "371\n",
      "407\n"
     ]
    }
   ],
   "source": [
    "# Armstrong Number\n",
    "\n",
    "for i in range(1001):\n",
    "    num = i\n",
    "    result = 0\n",
    "    n  = len(str(i))\n",
    "    while i != 0:\n",
    "        digit = i%10\n",
    "        result = result + digit**n\n",
    "        i = i//10\n",
    "    if num == result:\n",
    "        print(num)\n",
    "        "
   ]
  },
  {
   "cell_type": "code",
   "execution_count": 5,
   "id": "d279b760",
   "metadata": {},
   "outputs": [
    {
     "name": "stdout",
     "output_type": "stream",
     "text": [
      "Enter the number: 371\n",
      "Number is an Armstrong Number!\n"
     ]
    }
   ],
   "source": [
    "# without while loop\n",
    "num = int(input(\"Enter the number: \"))\n",
    "\n",
    "result = 0\n",
    "n = len(str(num))\n",
    "for i in str(num):\n",
    "    result = result + int(i)**n\n",
    "if num == result:\n",
    "    print(\"Number is an Armstrong Number!\")\n",
    "else:\n",
    "    print(\"Number is not an Armstrong Number!\")"
   ]
  },
  {
   "cell_type": "code",
   "execution_count": 4,
   "id": "f7cfd645",
   "metadata": {},
   "outputs": [
    {
     "name": "stdout",
     "output_type": "stream",
     "text": [
      "3\n",
      "7\n",
      "1\n"
     ]
    }
   ],
   "source": [
    "num = \"371\"\n",
    "for i in num:\n",
    "    print(i)"
   ]
  },
  {
   "cell_type": "code",
   "execution_count": 8,
   "id": "b9bb03a6",
   "metadata": {},
   "outputs": [
    {
     "name": "stdout",
     "output_type": "stream",
     "text": [
      "How many number do you want in fibonacci series? : 9\n",
      "0 1 1 2 3 5 8 13 21 "
     ]
    }
   ],
   "source": [
    "### fibonacci \n",
    "n = int(input(\"How many number do you want in fibonacci series? : \"))\n",
    "first = 0\n",
    "second = 1\n",
    "\n",
    "for i in range(n):\n",
    "    print(first, end = \" \")\n",
    "    temp = first\n",
    "    first = second\n",
    "    second = temp + second\n",
    "    "
   ]
  },
  {
   "cell_type": "code",
   "execution_count": 11,
   "id": "0348be17",
   "metadata": {},
   "outputs": [
    {
     "name": "stdout",
     "output_type": "stream",
     "text": [
      "Enter the number: 2\n",
      "Number is prime number!\n"
     ]
    }
   ],
   "source": [
    "# prime number \n",
    "\n",
    "n = int(input(\"Enter the number: \"))\n",
    "\n",
    "if n >1:\n",
    "    for i in range(2, n): # we took start from 2 because it is smallest prime number.\n",
    "        if n%i == 0:\n",
    "            print(\"Number is not prime number!\")\n",
    "            break\n",
    "    else:\n",
    "        print(\"Number is prime number!\")\n",
    "        \n",
    "else:\n",
    "    print(\"Number is not a prime number!\")\n",
    "        "
   ]
  },
  {
   "cell_type": "code",
   "execution_count": 12,
   "id": "ae970531",
   "metadata": {},
   "outputs": [
    {
     "name": "stdout",
     "output_type": "stream",
     "text": [
      "How many prime number do you want to print: 4\n",
      "2 3 5 7 "
     ]
    }
   ],
   "source": [
    "### First n prime number from start.\n",
    "\n",
    "length = int(input(\"How many prime number do you want to print: \"))\n",
    "\n",
    "prime_num = []\n",
    "num = 2\n",
    "while len(prime_num) != length:\n",
    "    \n",
    "    if num > 1:\n",
    "        \n",
    "        for i in range(2, num):\n",
    "            if num%i == 0:\n",
    "                break\n",
    "        else:\n",
    "            prime_num.append(num)\n",
    "    num = num + 1\n",
    "    \n",
    "for i in prime_num:\n",
    "    print(i, end = \" \")"
   ]
  },
  {
   "cell_type": "code",
   "execution_count": 15,
   "id": "b3069fa7",
   "metadata": {},
   "outputs": [
    {
     "name": "stdout",
     "output_type": "stream",
     "text": [
      "Enter the number: 6\n",
      "6 is a perfect number!\n"
     ]
    }
   ],
   "source": [
    "### perfect number \n",
    "num = int(input(\"Enter the number: \"))\n",
    "\n",
    "result = 0\n",
    "for i in range(1,num):  # note we need to take start from 1 because to avoid 0 division error \n",
    "    \n",
    "    if num%i == 0:\n",
    "        \n",
    "        result =  result + i\n",
    "        \n",
    "if num == result:\n",
    "    print(f\"{num} is a perfect number!\")\n",
    "    \n",
    "else:\n",
    "    print(\"Number is not a perfect number!\")"
   ]
  },
  {
   "cell_type": "code",
   "execution_count": 2,
   "id": "cd45ef3a",
   "metadata": {},
   "outputs": [
    {
     "name": "stdout",
     "output_type": "stream",
     "text": [
      "Enter the string: hello\n",
      "\n",
      "Your string:  hello\n",
      "\n",
      "Reverse string:  olleh\n"
     ]
    }
   ],
   "source": [
    "#### reversing string\n",
    "\n",
    "str1 = input(\"Enter the string: \")\n",
    "\n",
    "rev_str1 = \"\"\n",
    "for i in str1:\n",
    "    rev_str1 = i + rev_str1\n",
    "    \n",
    "print()\n",
    "print(\"Your string: \", str1)\n",
    "print()\n",
    "print(\"Reverse string: \", rev_str1)\n",
    "    "
   ]
  },
  {
   "cell_type": "code",
   "execution_count": 4,
   "id": "cd2d5f24",
   "metadata": {},
   "outputs": [
    {
     "name": "stdout",
     "output_type": "stream",
     "text": [
      "Enter the string : hello\n",
      "\n",
      "Reverse string is:  olleh\n"
     ]
    }
   ],
   "source": [
    "# reversing string using function\n",
    "\n",
    "def reverse(str1):\n",
    "    rev_str1 = \"\"\n",
    "    for i in str1:\n",
    "        rev_str1 = i + rev_str1\n",
    "        \n",
    "    return rev_str1\n",
    "\n",
    "str1 = input(\"Enter the string : \")\n",
    "print()\n",
    "print(\"Reverse string is: \",reverse(str1))\n",
    "    \n",
    "    "
   ]
  },
  {
   "cell_type": "code",
   "execution_count": 8,
   "id": "008304e8",
   "metadata": {},
   "outputs": [
    {
     "name": "stdout",
     "output_type": "stream",
     "text": [
      "Enter the number: 33\n",
      "Numer is palindrome but not a prime number!\n"
     ]
    }
   ],
   "source": [
    "#### Palindromic prime number\n",
    "\n",
    "num = int(input(\"Enter the number: \"))\n",
    "num_str = str(num)\n",
    "rev_num = num_str[::-1]\n",
    "\n",
    "if rev_num == num_str:\n",
    "    \n",
    "    if num>1:\n",
    "        for i in range(2, num):\n",
    "            if num%i == 0:\n",
    "                print(\"Numer is palindrome but not a prime number!\")\n",
    "                break\n",
    "        else:\n",
    "            print(\"Number is a palindromic prime number!\")\n",
    "            \n",
    "    else:\n",
    "        print(\"Numer is palindrome but not a prime number!\")\n",
    "\n",
    "else:\n",
    "    if num>1:\n",
    "        for i in range(2, num):\n",
    "            if num%i == 0:\n",
    "                print(\"Number is neither palindrome nor prime \")\n",
    "        else:\n",
    "            print(\"Number in not palindrom but it a prime number\")\n",
    "            \n",
    "    else:\n",
    "        print(\"Number is neither palindrom nor a prime\")"
   ]
  },
  {
   "cell_type": "code",
   "execution_count": 11,
   "id": "b3d5e2e7",
   "metadata": {},
   "outputs": [
    {
     "name": "stdout",
     "output_type": "stream",
     "text": [
      "Enter the sentance: HELLO\n",
      "Total vowel in sentance:  2\n"
     ]
    }
   ],
   "source": [
    "# number of vowel in a sentance\n",
    "\n",
    "sentance = input(\"Enter the sentance: \")\n",
    "\n",
    "list1 = [\"a\", \"e\", \"i\", \"o\", \"u\"]\n",
    "count = 0\n",
    "for letter in sentance:\n",
    "    if letter.lower() in list1:\n",
    "        count = count + 1\n",
    "        \n",
    "print(\"Total vowel in sentance: \", count)"
   ]
  },
  {
   "cell_type": "code",
   "execution_count": 12,
   "id": "7131e72c",
   "metadata": {},
   "outputs": [
    {
     "name": "stdout",
     "output_type": "stream",
     "text": [
      "Enter the sentance: HELLO\n",
      "Total vowel in sentance:  2\n"
     ]
    }
   ],
   "source": [
    "# number of vowel in a sentance\n",
    "\n",
    "sentance = input(\"Enter the sentance: \")\n",
    "sentance = sentance.lower()\n",
    "list1 = [\"a\", \"e\", \"i\", \"o\", \"u\"]\n",
    "count = 0\n",
    "for letter in sentance:\n",
    "    if letter in list1:\n",
    "        count = count + 1\n",
    "        \n",
    "print(\"Total vowel in sentance: \", count)"
   ]
  },
  {
   "cell_type": "code",
   "execution_count": 16,
   "id": "f90df103",
   "metadata": {},
   "outputs": [
    {
     "name": "stdout",
     "output_type": "stream",
     "text": [
      "Your list : \n",
      " ['hello', 2, 4, 2, 'a', 3, 2, 9, 2]\n",
      "\n",
      "All duplicate index for 2 is :\n",
      "1 3 6 8 "
     ]
    }
   ],
   "source": [
    "# print all duplicate index num for 2 in given list1\n",
    "\n",
    "list1 = [\"hello\", 2, 4, 2, \"a\", 3, 2, 9 , 2]\n",
    "\n",
    "dup_list = [i for i in range(len(list1)) if list1[i] == 2]\n",
    "print(\"Your list : \\n\", list1)\n",
    "print()\n",
    "print(\"All duplicate index for 2 is :\")\n",
    "for i in dup_list:\n",
    "    print(i, end = \" \")\n",
    "    \n"
   ]
  },
  {
   "cell_type": "code",
   "execution_count": 17,
   "id": "1aa64e9b",
   "metadata": {},
   "outputs": [
    {
     "name": "stdout",
     "output_type": "stream",
     "text": [
      "Enter an integer number: 7\n",
      "VII\n"
     ]
    }
   ],
   "source": [
    "def roman_numbers(num):\n",
    "    if num> 3999:\n",
    "        print(\"Enter the number less than 3999!\")\n",
    "        return \n",
    "    \n",
    "    symbol = [\"m\", \"CM\", \"D\", \"CD\", \"C\", \"XC\", \"L\", \"XL\", \"X\", \"IX\", \"V\", \"IV\", \"I\"]\n",
    "    value = [1000, 900, 500, 400, 100, 90, 50, 40, 10, 9, 5, 4, 1]\n",
    "    \n",
    "    roman = \"\"\n",
    "    i = 0\n",
    "    \n",
    "    while num>0:\n",
    "        div = num//value[i]\n",
    "        num = num% value[i]\n",
    "        while div:\n",
    "            roman = roman + symbol[i]\n",
    "            div = div-1\n",
    "        \n",
    "        i = i+1\n",
    "    return roman\n",
    "\n",
    "num = int(input(\"Enter an integer number: \"))\n",
    "\n",
    "print(roman_numbers(num))\n"
   ]
  },
  {
   "cell_type": "code",
   "execution_count": 18,
   "id": "1c53b62d",
   "metadata": {},
   "outputs": [
    {
     "data": {
      "text/plain": [
       "[(1, 'a'), (2, 'r'), (3, 'z'), (4, 's')]"
      ]
     },
     "execution_count": 18,
     "metadata": {},
     "output_type": "execute_result"
    }
   ],
   "source": [
    "## now \n",
    "tuple1 = ((1, \"a\"), (4, \"s\"), (3, \"z\"), (2, \"r\"))\n",
    "sorted(tuple1)"
   ]
  },
  {
   "cell_type": "code",
   "execution_count": 19,
   "id": "806b671a",
   "metadata": {},
   "outputs": [
    {
     "data": {
      "text/plain": [
       "[(1, 'a'), (2, 'r'), (4, 's'), (3, 'z')]"
      ]
     },
     "execution_count": 19,
     "metadata": {},
     "output_type": "execute_result"
    }
   ],
   "source": [
    "# sort it by alphabet # note sorted method works on list, tuple, dictionary but .sort() works on\n",
    "# the list only\n",
    "\n",
    "tuple1 = ((1, \"a\"), (4, \"s\"), (3, \"z\"), (2, \"r\"))\n",
    "sorted(tuple1, key = lambda x : x[1])"
   ]
  },
  {
   "cell_type": "code",
   "execution_count": 20,
   "id": "122d7e17",
   "metadata": {},
   "outputs": [
    {
     "data": {
      "text/plain": [
       "[(1, 'a'), (2, 'r'), (4, 's'), (3, 'z')]"
      ]
     },
     "execution_count": 20,
     "metadata": {},
     "output_type": "execute_result"
    }
   ],
   "source": [
    "# for the above proble we can make function as well\n",
    "\n",
    "def sortSecond(x):\n",
    "    return x[1]\n",
    "\n",
    "tuple1 = ((1, \"a\"), (4, \"s\"), (3, \"z\"), (2, \"r\"))\n",
    "sorted(tuple1, key = sortSecond)\n",
    "    "
   ]
  },
  {
   "cell_type": "code",
   "execution_count": 23,
   "id": "409a3cdf",
   "metadata": {},
   "outputs": [
    {
     "name": "stdout",
     "output_type": "stream",
     "text": [
      "Original list:  [56, 3, 2, 78, 6, 0]\n",
      "\n",
      "Sorted list in ascending order: \n",
      " [0, 2, 3, 6, 56, 78]\n"
     ]
    }
   ],
   "source": [
    "# sorting by selection sort algorithm\n",
    "list1 = [56, 3, 2, 78, 6,0]\n",
    "print(\"Original list: \", list1)\n",
    "\n",
    "for i in range(len(list1)):\n",
    "    m_val = min(list1[i:])        # minimum value\n",
    "    m_ind = list1.index(m_val)   # finding the index of min value\n",
    "    # we find the min value index and let's change it with place 0, 1,2,... means swap the place\n",
    "    list1[i],list1[m_ind] = list1[m_ind], list1[i]\n",
    "    \n",
    "print()\n",
    "print(\"Sorted list in ascending order: \\n\", list1)\n"
   ]
  },
  {
   "cell_type": "markdown",
   "id": "66d9e8f4",
   "metadata": {},
   "source": [
    "#### Note :\n",
    "\n",
    "this not work for the list having duplicate value."
   ]
  },
  {
   "cell_type": "code",
   "execution_count": 26,
   "id": "b3d02ab7",
   "metadata": {},
   "outputs": [
    {
     "name": "stdout",
     "output_type": "stream",
     "text": [
      "Original list:  [56, 3, 2, 0, 0, 78, 6, 0]\n",
      "\n",
      "Sorted list in ascending order: \n",
      " [3, 2, 56, 78, 6, 0, 0, 0]\n"
     ]
    }
   ],
   "source": [
    "# sorting by selection sort algorithm\n",
    "list1 = [56, 3, 2,0,0,78, 6,0]\n",
    "print(\"Original list: \", list1)\n",
    "\n",
    "for i in range(len(list1)):\n",
    "    m_val = min(list1[i:])        # minimum value\n",
    "    m_ind = list1.index(m_val)   # finding the index of min value\n",
    "    # we find the min value index and let's change it with place 0, 1,2,... means swap the place\n",
    "    list1[i],list1[m_ind] = list1[m_ind], list1[i]\n",
    "    \n",
    "print()\n",
    "print(\"Sorted list in ascending order: \\n\", list1)\n"
   ]
  },
  {
   "cell_type": "code",
   "execution_count": 25,
   "id": "9f9252c8",
   "metadata": {},
   "outputs": [
    {
     "name": "stdout",
     "output_type": "stream",
     "text": [
      "Original list:  [56, 3, 2, 78, 6, 0]\n",
      "\n",
      "Sorted list1 in descending order: \n",
      " [78, 56, 6, 3, 2, 0]\n"
     ]
    }
   ],
   "source": [
    "# for descending order\n",
    "\n",
    "# sorting by selection sort algorithm\n",
    "list1 = [56, 3, 2, 78, 6,0]\n",
    "print(\"Original list: \", list1)\n",
    "\n",
    "for i in range(len(list1)):\n",
    "    m_val = max(list1[i:])  # for finding the max value from here \n",
    "    m_ind = list1.index(m_val)  # for finding the maximum valu eindex from here\n",
    "    # now swaping the number \n",
    "    list1[i], list1[m_ind] = list1[m_ind], list1[i]\n",
    "    \n",
    "print()\n",
    "print(\"Sorted list1 in descending order: \\n\",list1)"
   ]
  },
  {
   "cell_type": "markdown",
   "id": "ec4f18a8",
   "metadata": {},
   "source": [
    "#### Sorting In Ascending Order (including duplicate)"
   ]
  },
  {
   "cell_type": "code",
   "execution_count": 27,
   "id": "3cbf0a67",
   "metadata": {},
   "outputs": [
    {
     "name": "stdout",
     "output_type": "stream",
     "text": [
      "Original list:  [56, 3, 2, 0, 0, 78, 6, 0]\n",
      "\n",
      "Sorted list in ascending order: \n",
      " [0, 0, 0, 2, 3, 6, 56, 78]\n"
     ]
    }
   ],
   "source": [
    "# sorting by selection sort algorithm\n",
    "list1 = [56, 3, 2,0,0,78, 6,0]\n",
    "print(\"Original list: \", list1)\n",
    "\n",
    "for i in range(len(list1)):\n",
    "    m_val = min(list1[i:])        # minimum value\n",
    "    m_ind = list1.index(m_val, i) # we given i here for searching index from range i to .....\n",
    "    # suppose is we got value in a particular range then we need to find out next value index\n",
    "    # from the just next index    \n",
    "    list1[i],list1[m_ind] = list1[m_ind], list1[i]\n",
    "    \n",
    "print()\n",
    "print(\"Sorted list in ascending order: \\n\", list1)\n"
   ]
  },
  {
   "cell_type": "code",
   "execution_count": 28,
   "id": "b46434ed",
   "metadata": {},
   "outputs": [
    {
     "name": "stdout",
     "output_type": "stream",
     "text": [
      "Unsorted :  [56, 3, 2, 2, 0, 78, 0]\n",
      "\n",
      "[0, 3, 2, 2, 56, 78, 0]\n",
      "[0, 0, 2, 2, 56, 78, 3]\n",
      "[0, 0, 2, 2, 56, 78, 3]\n",
      "[0, 0, 2, 2, 56, 78, 3]\n",
      "[0, 0, 2, 2, 3, 78, 56]\n",
      "[0, 0, 2, 2, 3, 56, 78]\n",
      "\n",
      "Sorted :  [0, 0, 2, 2, 3, 56, 78]\n"
     ]
    }
   ],
   "source": [
    "# no need to sort the last element.\n",
    "list1 = [56, 3, 2, 2, 0,  78, 0]\n",
    "print(\"Unsorted : \",list1)\n",
    "print()\n",
    "for i in range(len(list1) - 1):\n",
    "    min_val = min(list1[i:]) \n",
    "    min_ind = list1.index(min_val, i)  \n",
    "    \n",
    "    list1[i], list1[min_ind] = list1[min_ind], list1[i] \n",
    "    print(list1)\n",
    "print()\n",
    "print(\"Sorted : \",list1)"
   ]
  },
  {
   "cell_type": "markdown",
   "id": "82e7fd88",
   "metadata": {},
   "source": [
    "#### Without Using 'min()' Builtin function (Ascending order)"
   ]
  },
  {
   "cell_type": "code",
   "execution_count": 29,
   "id": "878f2e52",
   "metadata": {},
   "outputs": [
    {
     "name": "stdout",
     "output_type": "stream",
     "text": [
      "Unsorted :  [56, 3, 2, 2, 0, 78, 0]\n",
      "\n",
      "[0, 3, 2, 2, 56, 78, 0]\n",
      "[0, 0, 2, 2, 56, 78, 3]\n",
      "[0, 0, 2, 2, 56, 78, 3]\n",
      "[0, 0, 2, 2, 56, 78, 3]\n",
      "[0, 0, 2, 2, 3, 78, 56]\n",
      "[0, 0, 2, 2, 3, 56, 78]\n",
      "\n",
      "Sorted :  [0, 0, 2, 2, 3, 56, 78]\n"
     ]
    }
   ],
   "source": [
    "list1 = [56, 3, 2, 2, 0,  78, 0]\n",
    "print(\"Unsorted : \",list1)\n",
    "print()\n",
    "\n",
    "for i in range(len(list1)-1):  # no need to sort last value\n",
    "    m_val = list1[i]\n",
    "    for j in range(i+1, len(list1)):\n",
    "        if list1[j] < m_val:\n",
    "            m_val = list1[j]\n",
    "            \n",
    "    m_ind = list1.index(m_val, i)\n",
    "    if list1[i] != list1[m_ind]:\n",
    "        list1[i], list1[m_ind] = list1[m_ind], list1[i] \n",
    "    \n",
    "    print(list1)\n",
    "print()\n",
    "print(\"Sorted : \",list1)"
   ]
  },
  {
   "cell_type": "code",
   "execution_count": 31,
   "id": "5cfe2f8d",
   "metadata": {},
   "outputs": [
    {
     "name": "stdout",
     "output_type": "stream",
     "text": [
      "GOOD MORNING\n"
     ]
    }
   ],
   "source": [
    "# decorator \n",
    "\n",
    "def upper_dec(func):\n",
    "    def inner():\n",
    "        str1 = func()\n",
    "        return str1.upper()\n",
    "    return inner\n",
    "\n",
    "@upper_dec\n",
    "def print_str():\n",
    "    \n",
    "    return \"good morning\"\n",
    "\n",
    "print(print_str())"
   ]
  },
  {
   "cell_type": "code",
   "execution_count": 32,
   "id": "e6eb6623",
   "metadata": {},
   "outputs": [
    {
     "data": {
      "text/plain": [
       "'GOOD MORNING'"
      ]
     },
     "execution_count": 32,
     "metadata": {},
     "output_type": "execute_result"
    }
   ],
   "source": [
    "# decorator \n",
    "\n",
    "def upper_dec(func):\n",
    "    def inner():\n",
    "        str1 = func()\n",
    "        return str1.upper()\n",
    "    return inner\n",
    "\n",
    "@upper_dec\n",
    "def print_str():\n",
    "    \n",
    "    return \"good morning\"\n",
    "\n",
    "print_str()"
   ]
  },
  {
   "cell_type": "code",
   "execution_count": 34,
   "id": "4147f706",
   "metadata": {},
   "outputs": [
    {
     "name": "stdout",
     "output_type": "stream",
     "text": [
      "good morning\n"
     ]
    },
    {
     "ename": "AttributeError",
     "evalue": "'NoneType' object has no attribute 'upper'",
     "output_type": "error",
     "traceback": [
      "\u001b[1;31m---------------------------------------------------------------------------\u001b[0m",
      "\u001b[1;31mAttributeError\u001b[0m                            Traceback (most recent call last)",
      "Input \u001b[1;32mIn [34]\u001b[0m, in \u001b[0;36m<cell line: 14>\u001b[1;34m()\u001b[0m\n\u001b[0;32m      9\u001b[0m \u001b[38;5;129m@upper_dec\u001b[39m\n\u001b[0;32m     10\u001b[0m \u001b[38;5;28;01mdef\u001b[39;00m \u001b[38;5;21mprint_str\u001b[39m():\n\u001b[0;32m     12\u001b[0m     \u001b[38;5;28;01mreturn\u001b[39;00m \u001b[38;5;28mprint\u001b[39m(\u001b[38;5;124m\"\u001b[39m\u001b[38;5;124mgood morning\u001b[39m\u001b[38;5;124m\"\u001b[39m)\n\u001b[1;32m---> 14\u001b[0m \u001b[43mprint_str\u001b[49m\u001b[43m(\u001b[49m\u001b[43m)\u001b[49m\n",
      "Input \u001b[1;32mIn [34]\u001b[0m, in \u001b[0;36mupper_dec.<locals>.inner\u001b[1;34m()\u001b[0m\n\u001b[0;32m      4\u001b[0m \u001b[38;5;28;01mdef\u001b[39;00m \u001b[38;5;21minner\u001b[39m():\n\u001b[0;32m      5\u001b[0m     str1 \u001b[38;5;241m=\u001b[39m func()\n\u001b[1;32m----> 6\u001b[0m     \u001b[38;5;28;01mreturn\u001b[39;00m \u001b[43mstr1\u001b[49m\u001b[38;5;241;43m.\u001b[39;49m\u001b[43mupper\u001b[49m()\n",
      "\u001b[1;31mAttributeError\u001b[0m: 'NoneType' object has no attribute 'upper'"
     ]
    }
   ],
   "source": [
    "# decorator \n",
    "\n",
    "def upper_dec(func):\n",
    "    def inner():\n",
    "        str1 = func()\n",
    "        return str1.upper()\n",
    "    return inner\n",
    "\n",
    "@upper_dec\n",
    "def print_str():\n",
    "    \n",
    "    return print(\"good morning\")  # note when we use decorator then we must use return statement \n",
    "                                  # to decorate.\n",
    "\n",
    "print_str()"
   ]
  },
  {
   "cell_type": "code",
   "execution_count": 38,
   "id": "fb267683",
   "metadata": {},
   "outputs": [
    {
     "name": "stdout",
     "output_type": "stream",
     "text": [
      "Cann't divide by zero!\n"
     ]
    }
   ],
   "source": [
    "# decorator with parameter \n",
    "\n",
    "def dec_divide(func):\n",
    "    def inner(x, y):\n",
    "        if y == 0:\n",
    "            return \"Cann't divide by zero!\"\n",
    "        return func(x,y)\n",
    "    return inner\n",
    "\n",
    "@dec_divide\n",
    "def divide(x, y):\n",
    "    \n",
    "    \n",
    "    return x/y\n",
    "\n",
    "print(divide(4,0))"
   ]
  },
  {
   "cell_type": "code",
   "execution_count": 39,
   "id": "556bb58c",
   "metadata": {},
   "outputs": [
    {
     "name": "stdout",
     "output_type": "stream",
     "text": [
      "Cann't divide by zero!\n"
     ]
    }
   ],
   "source": [
    "# decorator with parameter \n",
    "\n",
    "def dec_divide(func):\n",
    "    def inner(x, y):\n",
    "        if y == 0:\n",
    "            return \"Cann't divide by zero!\"\n",
    "        return func(x,y)\n",
    "    return inner\n",
    "\n",
    "@dec_divide\n",
    "def divide(x, y):\n",
    "    \n",
    "    \n",
    "    return int(x)/int(y) # used int\n",
    "\n",
    "print(divide(4,0))"
   ]
  },
  {
   "cell_type": "code",
   "execution_count": 41,
   "id": "4194377d",
   "metadata": {},
   "outputs": [
    {
     "name": "stdout",
     "output_type": "stream",
     "text": [
      "Cann't divide by zero!\n",
      "None\n"
     ]
    }
   ],
   "source": [
    "# decorator with parameter \n",
    "\n",
    "def dec_divide(func):\n",
    "    def inner(x, y):\n",
    "        if y == 0:\n",
    "            print(\"Cann't divide by zero!\")  # print statement will give a error \n",
    "        else:\n",
    "            return func(x,y)\n",
    "    return inner\n",
    "\n",
    "@dec_divide\n",
    "def divide(x, y):\n",
    "    return x/y\n",
    "\n",
    "print(divide(4,0))"
   ]
  },
  {
   "cell_type": "code",
   "execution_count": 43,
   "id": "881bcbf3",
   "metadata": {},
   "outputs": [
    {
     "name": "stdout",
     "output_type": "stream",
     "text": [
      "['GOOD', 'MORNING']\n"
     ]
    }
   ],
   "source": [
    "# multiple decorator \n",
    "\n",
    "def dec_upper(func):\n",
    "    def inner():\n",
    "        \n",
    "        str1 = func()\n",
    "        return str1.upper()\n",
    "    return inner\n",
    "    \n",
    "def dec_split(func):\n",
    "    def inner():\n",
    "        str1 = func()\n",
    "        return str1.split()\n",
    "    return inner\n",
    "\n",
    "@dec_split\n",
    "@dec_upper\n",
    "def print_str():\n",
    "    \n",
    "    return \"good morning\"\n",
    "\n",
    "print(print_str())"
   ]
  },
  {
   "cell_type": "code",
   "execution_count": 45,
   "id": "674acb45",
   "metadata": {},
   "outputs": [
    {
     "name": "stdout",
     "output_type": "stream",
     "text": [
      "you can't divide by zero!\n",
      "\n",
      "2.0\n"
     ]
    }
   ],
   "source": [
    "# single decorator for multiple function and having flexible arguments (means *)\n",
    "\n",
    "def dec_div(func):\n",
    "    \n",
    "    def inner(*args):\n",
    "        # here *args will be treat as list so we need to a list from second element for division\n",
    "        list1 = []\n",
    "        list1 = args[1:]\n",
    "        for i in list1:\n",
    "            if i == 0:\n",
    "                return \"you can't divide by zero!\"\n",
    "        return func(*args)\n",
    "    return inner\n",
    "    \n",
    "\n",
    "@dec_div\n",
    "def div1(a,b):\n",
    "    return a/b\n",
    "\n",
    "@dec_div\n",
    "def div2(a,b,c):\n",
    "    return a/b/c\n",
    "\n",
    "print(div1(27, 0))\n",
    "print()\n",
    "print(div2(12,3,2))"
   ]
  },
  {
   "cell_type": "code",
   "execution_count": 46,
   "id": "35f98d8b",
   "metadata": {},
   "outputs": [
    {
     "name": "stdout",
     "output_type": "stream",
     "text": [
      "You can't devide change the input!!\n"
     ]
    }
   ],
   "source": [
    "# class as a decorator \n",
    "\n",
    "class Decorator:\n",
    "    def __init__(self, func):\n",
    "        self.func = func\n",
    "    # we use __call__ special method to call the function\n",
    "    def __call__(self, *args, **kwargs):\n",
    "        if args[1] == 0:\n",
    "            return \"You can't devide change the input!!\"\n",
    "        else:\n",
    "            return self.func(*args, **kwargs)\n",
    "\n",
    "\n",
    "@Decorator\n",
    "def divide(a,b):\n",
    "    return a/b\n",
    "\n",
    "print(divide(27, 0))"
   ]
  },
  {
   "cell_type": "code",
   "execution_count": null,
   "id": "4b548f63",
   "metadata": {},
   "outputs": [],
   "source": []
  }
 ],
 "metadata": {
  "kernelspec": {
   "display_name": "Python 3 (ipykernel)",
   "language": "python",
   "name": "python3"
  },
  "language_info": {
   "codemirror_mode": {
    "name": "ipython",
    "version": 3
   },
   "file_extension": ".py",
   "mimetype": "text/x-python",
   "name": "python",
   "nbconvert_exporter": "python",
   "pygments_lexer": "ipython3",
   "version": "3.9.7"
  }
 },
 "nbformat": 4,
 "nbformat_minor": 5
}
