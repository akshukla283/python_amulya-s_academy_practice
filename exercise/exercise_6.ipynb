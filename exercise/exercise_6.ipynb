{
 "cells": [
  {
   "cell_type": "markdown",
   "id": "e9e7ee28",
   "metadata": {},
   "source": [
    "### Linear Search"
   ]
  },
  {
   "cell_type": "code",
   "execution_count": 4,
   "id": "ecc2fded",
   "metadata": {},
   "outputs": [
    {
     "name": "stdout",
     "output_type": "stream",
     "text": [
      "[34, 23, 5, 6, 7, 23, 8]\n",
      "Enter the key element : 4\n",
      "Element is not found\n"
     ]
    }
   ],
   "source": [
    "# method 1.\n",
    "\n",
    "def search(list1, key):\n",
    "    for i in range(len(list1)):\n",
    "        if key == list1[i]:\n",
    "            print(f\"Key element is found at index : {i}\")\n",
    "            break\n",
    "    else:\n",
    "        print(\"Element is not found!\")\n",
    "            \n",
    "    \n",
    "list1 = [34, 23, 5, 6, 7, 23, 8]\n",
    "print(list1)\n",
    "key = int(input(\"Enter the key element : \"))\n",
    "search(list1, key)      "
   ]
  },
  {
   "cell_type": "code",
   "execution_count": 6,
   "id": "b13af5e6",
   "metadata": {},
   "outputs": [
    {
     "name": "stdout",
     "output_type": "stream",
     "text": [
      "[34, 23, 5, 6, 7, 23, 8]\n",
      "Enter the key element : 23\n",
      "Key element found at index : \n",
      "1 5 "
     ]
    }
   ],
   "source": [
    "# when we have duplicate value in the list\n",
    "def search(list1, key):\n",
    "    list2 = []\n",
    "    flag = False\n",
    "    for i in range(len(list1)):\n",
    "        if key == list1[i]:\n",
    "            flag = True\n",
    "            list2.append(i)\n",
    "            \n",
    "    if flag == True:\n",
    "        print(\"Key element found at index : \")\n",
    "        for i in list2:\n",
    "            print(i, end = \" \")\n",
    "            \n",
    "    else:\n",
    "        print(\"Key element is not found!\")\n",
    "\n",
    "\n",
    "list1 = [34, 23, 5, 6, 7, 23, 8]\n",
    "print(list1)\n",
    "key = int(input(\"Enter the key element : \"))\n",
    "search(list1, key)      "
   ]
  },
  {
   "cell_type": "markdown",
   "id": "9be6c27d",
   "metadata": {},
   "source": [
    "#### Binary Search"
   ]
  },
  {
   "cell_type": "code",
   "execution_count": 8,
   "id": "5b0d6ff3",
   "metadata": {},
   "outputs": [
    {
     "name": "stdout",
     "output_type": "stream",
     "text": [
      "Sorted list:  [1, 2, 3, 4, 23]\n",
      "Enter the key you want to search: 12\n",
      "Key element not found!\n"
     ]
    }
   ],
   "source": [
    "def binarySearch(list1, key):\n",
    "    # need to define low and high index\n",
    "    low_ind = 0\n",
    "    high_ind = len(list1)\n",
    "    \n",
    "    found = False\n",
    "    while low_ind <=high_ind and not found:\n",
    "        \n",
    "        mid = (low_ind + high_ind)//2\n",
    "        \n",
    "        if key == list1[mid]:\n",
    "            found = True\n",
    "        elif key < list1[mid]:\n",
    "            high_ind = mid -1\n",
    "        else:\n",
    "            low_ind = mid + 1\n",
    "            \n",
    "    if found == True:\n",
    "        print(\"Key element found!\")\n",
    "    else:\n",
    "        print(\"Key element not found!\")\n",
    "list1 = [23,1,4,2,3]\n",
    "list1.sort()\n",
    "print(\"Sorted list: \", list1)\n",
    "key = int(input(\"Enter the key you want to search: \"))\n",
    "binarySearch(list1, key)"
   ]
  },
  {
   "cell_type": "code",
   "execution_count": null,
   "id": "58ca9985",
   "metadata": {},
   "outputs": [],
   "source": []
  }
 ],
 "metadata": {
  "kernelspec": {
   "display_name": "Python 3 (ipykernel)",
   "language": "python",
   "name": "python3"
  },
  "language_info": {
   "codemirror_mode": {
    "name": "ipython",
    "version": 3
   },
   "file_extension": ".py",
   "mimetype": "text/x-python",
   "name": "python",
   "nbconvert_exporter": "python",
   "pygments_lexer": "ipython3",
   "version": "3.9.7"
  }
 },
 "nbformat": 4,
 "nbformat_minor": 5
}
