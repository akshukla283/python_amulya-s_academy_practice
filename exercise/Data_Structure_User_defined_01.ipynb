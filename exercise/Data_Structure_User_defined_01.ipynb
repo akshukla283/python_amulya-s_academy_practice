{
 "cells": [
  {
   "cell_type": "markdown",
   "id": "efa74120",
   "metadata": {},
   "source": [
    "### User Defined Data Structure \n",
    "* Stack\n",
    "* Queue\n",
    "* Linked List\n",
    "* Tree\n",
    "* Graph"
   ]
  },
  {
   "cell_type": "markdown",
   "id": "76581ab1",
   "metadata": {},
   "source": [
    "### 1. Stack"
   ]
  },
  {
   "cell_type": "code",
   "execution_count": 4,
   "id": "80ee6578",
   "metadata": {},
   "outputs": [
    {
     "name": "stdout",
     "output_type": "stream",
     "text": [
      "Select the operation 1.push 2.pop, 3.quit\n",
      "1\n",
      "Enter the element12\n",
      "['12']\n",
      "Select the operation 1.push 2.pop, 3.quit\n",
      "12\n",
      "Pleas select availabe option only!\n",
      "Select the operation 1.push 2.pop, 3.quit\n",
      "1\n",
      "Enter the element23\n",
      "['12', '23']\n",
      "Select the operation 1.push 2.pop, 3.quit\n",
      "2\n",
      "Removed element is :  23\n",
      "['12']\n",
      "Select the operation 1.push 2.pop, 3.quit\n",
      "3\n"
     ]
    }
   ],
   "source": [
    "# Normal Stack without limit\n",
    "\n",
    "stack = []\n",
    "\n",
    "def push():\n",
    "    element = input(\"Enter the element\")\n",
    "    stack.append(element)\n",
    "    print(stack)\n",
    "    \n",
    "def pop_element():\n",
    "    if not stack:\n",
    "        print(\"Stack is empty!\")\n",
    "    else:\n",
    "        e = stack.pop()\n",
    "        print(\"Removed element is : \", e)\n",
    "        print(stack)\n",
    "        \n",
    "        \n",
    "while True:\n",
    "    try :\n",
    "        print(\"Select the operation 1.push 2.pop, 3.quit\")\n",
    "        choice = int(input())\n",
    "        if choice == 1:\n",
    "            push()\n",
    "        elif choice == 2:\n",
    "            pop_element()\n",
    "        elif choice == 3:\n",
    "            break\n",
    "        else:\n",
    "            print(\"Pleas select availabe option only!\")\n",
    "            \n",
    "    except:\n",
    "        print(\"It seems wrong input\\nPlease select available option only\")\n",
    "            \n",
    "    "
   ]
  },
  {
   "cell_type": "code",
   "execution_count": 7,
   "id": "10f823ee",
   "metadata": {},
   "outputs": [
    {
     "name": "stdout",
     "output_type": "stream",
     "text": [
      "Enter the stack limit : hg\n",
      "\n",
      "It seems wrong input enter Integer value only!\n",
      "Enter the stack limit : 4\n",
      "Select the stack operation 1. push, 2. pop, 3. quit!\n",
      "ljl\n",
      "It seems wrong input please enter Integer value only for operation.\n",
      "Select the stack operation 1. push, 2. pop, 3. quit!\n",
      "4\n",
      "Please select available option only!\n",
      "Select the stack operation 1. push, 2. pop, 3. quit!\n",
      "2\n",
      "Stack is empty!\n",
      "Select the stack operation 1. push, 2. pop, 3. quit!\n",
      "3\n"
     ]
    }
   ],
   "source": [
    "### Setting the limit of the stack\n",
    "\n",
    "stack = []\n",
    "\n",
    "def push():\n",
    "    if len(stack) == n:\n",
    "        print(\"Stack is full!\")\n",
    "    else:\n",
    "        print(\"Enter the element in stack : \")\n",
    "        element = input()\n",
    "        stack.append(element)\n",
    "        print(stack)\n",
    "        \n",
    "def pop_element():\n",
    "    if not stack:\n",
    "        print(\"Stack is empty!\")\n",
    "    else:\n",
    "        e = stack.pop()\n",
    "        print(\"Removed element is : \", e)\n",
    "        print(stack)\n",
    "\n",
    "\n",
    "while True:\n",
    "    try :\n",
    "        n = int(input(\"Enter the stack limit : \"))\n",
    "        break\n",
    "    except:\n",
    "        print()\n",
    "        print(\"It seems wrong input enter Integer value only!\")\n",
    "        \n",
    "while True:\n",
    "    try:\n",
    "        print(\"Select the stack operation 1. push, 2. pop, 3. quit!\")\n",
    "        choice = int(input())\n",
    "        if choice == 1:\n",
    "            push()\n",
    "        elif choice == 2:\n",
    "            pop_element()\n",
    "        elif choice == 3:\n",
    "            break\n",
    "        else:\n",
    "            print(\"Please select available option only!\")\n",
    "    except:\n",
    "        print(\"It seems wrong input please enter Integer value only for operation.\")"
   ]
  },
  {
   "cell_type": "code",
   "execution_count": 8,
   "id": "00e083a3",
   "metadata": {},
   "outputs": [
    {
     "data": {
      "text/plain": [
       "deque([])"
      ]
     },
     "execution_count": 8,
     "metadata": {},
     "output_type": "execute_result"
    }
   ],
   "source": [
    "### Using collection module \n",
    "\n",
    "import collections\n",
    "stack = collections.deque()\n",
    "stack"
   ]
  },
  {
   "cell_type": "code",
   "execution_count": 9,
   "id": "a93d944c",
   "metadata": {},
   "outputs": [],
   "source": [
    "stack.append(10)\n",
    "stack.append(20)\n",
    "stack.append(30)\n",
    "stack.append(40)"
   ]
  },
  {
   "cell_type": "code",
   "execution_count": 10,
   "id": "9bd6d3ec",
   "metadata": {},
   "outputs": [
    {
     "data": {
      "text/plain": [
       "deque([10, 20, 30, 40])"
      ]
     },
     "execution_count": 10,
     "metadata": {},
     "output_type": "execute_result"
    }
   ],
   "source": [
    "stack"
   ]
  },
  {
   "cell_type": "code",
   "execution_count": 11,
   "id": "86b146b4",
   "metadata": {},
   "outputs": [
    {
     "data": {
      "text/plain": [
       "40"
      ]
     },
     "execution_count": 11,
     "metadata": {},
     "output_type": "execute_result"
    }
   ],
   "source": [
    "stack.pop()"
   ]
  },
  {
   "cell_type": "code",
   "execution_count": 12,
   "id": "a1e6e95c",
   "metadata": {},
   "outputs": [
    {
     "data": {
      "text/plain": [
       "30"
      ]
     },
     "execution_count": 12,
     "metadata": {},
     "output_type": "execute_result"
    }
   ],
   "source": [
    "stack.pop()"
   ]
  },
  {
   "cell_type": "code",
   "execution_count": 13,
   "id": "041d7b82",
   "metadata": {},
   "outputs": [
    {
     "data": {
      "text/plain": [
       "20"
      ]
     },
     "execution_count": 13,
     "metadata": {},
     "output_type": "execute_result"
    }
   ],
   "source": [
    "stack.pop()"
   ]
  },
  {
   "cell_type": "code",
   "execution_count": 14,
   "id": "58e3030f",
   "metadata": {},
   "outputs": [
    {
     "data": {
      "text/plain": [
       "10"
      ]
     },
     "execution_count": 14,
     "metadata": {},
     "output_type": "execute_result"
    }
   ],
   "source": [
    "stack.pop()"
   ]
  },
  {
   "cell_type": "code",
   "execution_count": 15,
   "id": "e5f5d8f6",
   "metadata": {},
   "outputs": [
    {
     "ename": "IndexError",
     "evalue": "pop from an empty deque",
     "output_type": "error",
     "traceback": [
      "\u001b[1;31m---------------------------------------------------------------------------\u001b[0m",
      "\u001b[1;31mIndexError\u001b[0m                                Traceback (most recent call last)",
      "Input \u001b[1;32mIn [15]\u001b[0m, in \u001b[0;36m<cell line: 1>\u001b[1;34m()\u001b[0m\n\u001b[1;32m----> 1\u001b[0m \u001b[43mstack\u001b[49m\u001b[38;5;241;43m.\u001b[39;49m\u001b[43mpop\u001b[49m\u001b[43m(\u001b[49m\u001b[43m)\u001b[49m\n",
      "\u001b[1;31mIndexError\u001b[0m: pop from an empty deque"
     ]
    }
   ],
   "source": [
    "stack.pop()"
   ]
  },
  {
   "cell_type": "code",
   "execution_count": 1,
   "id": "63a62fec",
   "metadata": {},
   "outputs": [
    {
     "ename": "Empty",
     "evalue": "",
     "output_type": "error",
     "traceback": [
      "\u001b[1;31m---------------------------------------------------------------------------\u001b[0m",
      "\u001b[1;31mEmpty\u001b[0m                                     Traceback (most recent call last)",
      "Input \u001b[1;32mIn [1]\u001b[0m, in \u001b[0;36m<cell line: 6>\u001b[1;34m()\u001b[0m\n\u001b[0;32m      3\u001b[0m \u001b[38;5;28;01mimport\u001b[39;00m \u001b[38;5;21;01mqueue\u001b[39;00m\n\u001b[0;32m      5\u001b[0m stack \u001b[38;5;241m=\u001b[39m queue\u001b[38;5;241m.\u001b[39mLifoQueue(\u001b[38;5;241m4\u001b[39m) \u001b[38;5;66;03m# here 4 is the limit\u001b[39;00m\n\u001b[1;32m----> 6\u001b[0m \u001b[43mstack\u001b[49m\u001b[38;5;241;43m.\u001b[39;49m\u001b[43mget\u001b[49m\u001b[43m(\u001b[49m\u001b[43mtimeout\u001b[49m\u001b[38;5;241;43m=\u001b[39;49m\u001b[43m \u001b[49m\u001b[38;5;241;43m1\u001b[39;49m\u001b[43m)\u001b[49m\n",
      "File \u001b[1;32m~\\AppData\\Local\\Programs\\Python\\Python39\\lib\\queue.py:179\u001b[0m, in \u001b[0;36mQueue.get\u001b[1;34m(self, block, timeout)\u001b[0m\n\u001b[0;32m    177\u001b[0m         remaining \u001b[38;5;241m=\u001b[39m endtime \u001b[38;5;241m-\u001b[39m time()\n\u001b[0;32m    178\u001b[0m         \u001b[38;5;28;01mif\u001b[39;00m remaining \u001b[38;5;241m<\u001b[39m\u001b[38;5;241m=\u001b[39m \u001b[38;5;241m0.0\u001b[39m:\n\u001b[1;32m--> 179\u001b[0m             \u001b[38;5;28;01mraise\u001b[39;00m Empty\n\u001b[0;32m    180\u001b[0m         \u001b[38;5;28mself\u001b[39m\u001b[38;5;241m.\u001b[39mnot_empty\u001b[38;5;241m.\u001b[39mwait(remaining)\n\u001b[0;32m    181\u001b[0m item \u001b[38;5;241m=\u001b[39m \u001b[38;5;28mself\u001b[39m\u001b[38;5;241m.\u001b[39m_get()\n",
      "\u001b[1;31mEmpty\u001b[0m: "
     ]
    }
   ],
   "source": [
    "### Using queue module \n",
    "\n",
    "import queue\n",
    "\n",
    "stack = queue.LifoQueue(4) # here 4 is the limit\n",
    "stack.get(timeout= 1) # whenever access queue stack try to give timeout to get quick response \n",
    "# otherwise will stuck in the process\n"
   ]
  },
  {
   "cell_type": "code",
   "execution_count": 2,
   "id": "ef266947",
   "metadata": {},
   "outputs": [],
   "source": [
    "stack.put(10)\n",
    "stack.put(20)\n",
    "stack.put(30)\n",
    "stack.put(40)\n",
    "\n"
   ]
  },
  {
   "cell_type": "code",
   "execution_count": 4,
   "id": "1afc31ec",
   "metadata": {},
   "outputs": [
    {
     "data": {
      "text/plain": [
       "30"
      ]
     },
     "execution_count": 4,
     "metadata": {},
     "output_type": "execute_result"
    }
   ],
   "source": [
    "stack.get(timeout=.01)"
   ]
  },
  {
   "cell_type": "code",
   "execution_count": 5,
   "id": "007b3a28",
   "metadata": {},
   "outputs": [
    {
     "data": {
      "text/plain": [
       "20"
      ]
     },
     "execution_count": 5,
     "metadata": {},
     "output_type": "execute_result"
    }
   ],
   "source": [
    "stack.get(timeout=.01)"
   ]
  },
  {
   "cell_type": "code",
   "execution_count": 6,
   "id": "66df3c6f",
   "metadata": {},
   "outputs": [
    {
     "data": {
      "text/plain": [
       "10"
      ]
     },
     "execution_count": 6,
     "metadata": {},
     "output_type": "execute_result"
    }
   ],
   "source": [
    "stack.get(timeout=.01)"
   ]
  },
  {
   "cell_type": "code",
   "execution_count": 7,
   "id": "cd8dfb79",
   "metadata": {},
   "outputs": [
    {
     "ename": "Empty",
     "evalue": "",
     "output_type": "error",
     "traceback": [
      "\u001b[1;31m---------------------------------------------------------------------------\u001b[0m",
      "\u001b[1;31mEmpty\u001b[0m                                     Traceback (most recent call last)",
      "Input \u001b[1;32mIn [7]\u001b[0m, in \u001b[0;36m<cell line: 1>\u001b[1;34m()\u001b[0m\n\u001b[1;32m----> 1\u001b[0m \u001b[43mstack\u001b[49m\u001b[38;5;241;43m.\u001b[39;49m\u001b[43mget\u001b[49m\u001b[43m(\u001b[49m\u001b[43mtimeout\u001b[49m\u001b[38;5;241;43m=\u001b[39;49m\u001b[38;5;241;43m.01\u001b[39;49m\u001b[43m)\u001b[49m\n",
      "File \u001b[1;32m~\\AppData\\Local\\Programs\\Python\\Python39\\lib\\queue.py:179\u001b[0m, in \u001b[0;36mQueue.get\u001b[1;34m(self, block, timeout)\u001b[0m\n\u001b[0;32m    177\u001b[0m         remaining \u001b[38;5;241m=\u001b[39m endtime \u001b[38;5;241m-\u001b[39m time()\n\u001b[0;32m    178\u001b[0m         \u001b[38;5;28;01mif\u001b[39;00m remaining \u001b[38;5;241m<\u001b[39m\u001b[38;5;241m=\u001b[39m \u001b[38;5;241m0.0\u001b[39m:\n\u001b[1;32m--> 179\u001b[0m             \u001b[38;5;28;01mraise\u001b[39;00m Empty\n\u001b[0;32m    180\u001b[0m         \u001b[38;5;28mself\u001b[39m\u001b[38;5;241m.\u001b[39mnot_empty\u001b[38;5;241m.\u001b[39mwait(remaining)\n\u001b[0;32m    181\u001b[0m item \u001b[38;5;241m=\u001b[39m \u001b[38;5;28mself\u001b[39m\u001b[38;5;241m.\u001b[39m_get()\n",
      "\u001b[1;31mEmpty\u001b[0m: "
     ]
    }
   ],
   "source": [
    "stack.get(timeout=.01)"
   ]
  },
  {
   "cell_type": "markdown",
   "id": "21d6d9b4",
   "metadata": {},
   "source": [
    "### 2. Queue"
   ]
  },
  {
   "cell_type": "code",
   "execution_count": 8,
   "id": "fc02320e",
   "metadata": {},
   "outputs": [
    {
     "data": {
      "text/plain": [
       "[10, 20, 30, 40]"
      ]
     },
     "execution_count": 8,
     "metadata": {},
     "output_type": "execute_result"
    }
   ],
   "source": [
    "## normally by append and pop method\n",
    "\n",
    "queue = []\n",
    "\n",
    "queue.append(10)\n",
    "queue.append(20)\n",
    "queue.append(30)\n",
    "queue.append(40)\n",
    "queue"
   ]
  },
  {
   "cell_type": "code",
   "execution_count": 9,
   "id": "cc8fc932",
   "metadata": {},
   "outputs": [
    {
     "data": {
      "text/plain": [
       "10"
      ]
     },
     "execution_count": 9,
     "metadata": {},
     "output_type": "execute_result"
    }
   ],
   "source": [
    "queue.pop(0) # by taking index 0 will help to get queue property first in and first out \n"
   ]
  },
  {
   "cell_type": "markdown",
   "id": "b07261d8",
   "metadata": {},
   "source": [
    "as we can see in the out put"
   ]
  },
  {
   "cell_type": "code",
   "execution_count": 10,
   "id": "9de47ea3",
   "metadata": {},
   "outputs": [
    {
     "data": {
      "text/plain": [
       "20"
      ]
     },
     "execution_count": 10,
     "metadata": {},
     "output_type": "execute_result"
    }
   ],
   "source": [
    "queue.pop(0)"
   ]
  },
  {
   "cell_type": "code",
   "execution_count": 11,
   "id": "5cfa6c68",
   "metadata": {},
   "outputs": [
    {
     "data": {
      "text/plain": [
       "30"
      ]
     },
     "execution_count": 11,
     "metadata": {},
     "output_type": "execute_result"
    }
   ],
   "source": [
    "queue.pop(0)"
   ]
  },
  {
   "cell_type": "code",
   "execution_count": 12,
   "id": "9144d009",
   "metadata": {},
   "outputs": [
    {
     "data": {
      "text/plain": [
       "40"
      ]
     },
     "execution_count": 12,
     "metadata": {},
     "output_type": "execute_result"
    }
   ],
   "source": [
    "queue.pop(0)"
   ]
  },
  {
   "cell_type": "code",
   "execution_count": 13,
   "id": "f9cd9cb4",
   "metadata": {},
   "outputs": [
    {
     "ename": "IndexError",
     "evalue": "pop from empty list",
     "output_type": "error",
     "traceback": [
      "\u001b[1;31m---------------------------------------------------------------------------\u001b[0m",
      "\u001b[1;31mIndexError\u001b[0m                                Traceback (most recent call last)",
      "Input \u001b[1;32mIn [13]\u001b[0m, in \u001b[0;36m<cell line: 1>\u001b[1;34m()\u001b[0m\n\u001b[1;32m----> 1\u001b[0m \u001b[43mqueue\u001b[49m\u001b[38;5;241;43m.\u001b[39;49m\u001b[43mpop\u001b[49m\u001b[43m(\u001b[49m\u001b[38;5;241;43m0\u001b[39;49m\u001b[43m)\u001b[49m\n",
      "\u001b[1;31mIndexError\u001b[0m: pop from empty list"
     ]
    }
   ],
   "source": [
    "queue.pop(0)"
   ]
  },
  {
   "cell_type": "code",
   "execution_count": 14,
   "id": "41aed7fd",
   "metadata": {},
   "outputs": [
    {
     "data": {
      "text/plain": [
       "[20, 10]"
      ]
     },
     "execution_count": 14,
     "metadata": {},
     "output_type": "execute_result"
    }
   ],
   "source": [
    "# Another way by inserting the new item at zero index and simple pop method will delete from last\n",
    "\n",
    "queue = []\n",
    "\n",
    "queue.insert(0, 10)\n",
    "queue.insert(0, 20)\n",
    "queue\n"
   ]
  },
  {
   "cell_type": "code",
   "execution_count": 15,
   "id": "89c17759",
   "metadata": {},
   "outputs": [
    {
     "data": {
      "text/plain": [
       "[40, 30, 20, 10]"
      ]
     },
     "execution_count": 15,
     "metadata": {},
     "output_type": "execute_result"
    }
   ],
   "source": [
    "queue.insert(0, 30)\n",
    "queue.insert(0, 40)\n",
    "queue\n",
    "\n"
   ]
  },
  {
   "cell_type": "code",
   "execution_count": 16,
   "id": "fef39f7b",
   "metadata": {},
   "outputs": [
    {
     "data": {
      "text/plain": [
       "10"
      ]
     },
     "execution_count": 16,
     "metadata": {},
     "output_type": "execute_result"
    }
   ],
   "source": [
    "queue.pop()"
   ]
  },
  {
   "cell_type": "code",
   "execution_count": 17,
   "id": "a7d090bb",
   "metadata": {},
   "outputs": [
    {
     "data": {
      "text/plain": [
       "20"
      ]
     },
     "execution_count": 17,
     "metadata": {},
     "output_type": "execute_result"
    }
   ],
   "source": [
    "queue.pop()"
   ]
  },
  {
   "cell_type": "code",
   "execution_count": 18,
   "id": "2f5917db",
   "metadata": {},
   "outputs": [
    {
     "data": {
      "text/plain": [
       "30"
      ]
     },
     "execution_count": 18,
     "metadata": {},
     "output_type": "execute_result"
    }
   ],
   "source": [
    "queue.pop()"
   ]
  },
  {
   "cell_type": "code",
   "execution_count": 19,
   "id": "341c0a1b",
   "metadata": {},
   "outputs": [
    {
     "data": {
      "text/plain": [
       "40"
      ]
     },
     "execution_count": 19,
     "metadata": {},
     "output_type": "execute_result"
    }
   ],
   "source": [
    "queue.pop()"
   ]
  },
  {
   "cell_type": "code",
   "execution_count": 20,
   "id": "b1625895",
   "metadata": {},
   "outputs": [
    {
     "ename": "IndexError",
     "evalue": "pop from empty list",
     "output_type": "error",
     "traceback": [
      "\u001b[1;31m---------------------------------------------------------------------------\u001b[0m",
      "\u001b[1;31mIndexError\u001b[0m                                Traceback (most recent call last)",
      "Input \u001b[1;32mIn [20]\u001b[0m, in \u001b[0;36m<cell line: 1>\u001b[1;34m()\u001b[0m\n\u001b[1;32m----> 1\u001b[0m \u001b[43mqueue\u001b[49m\u001b[38;5;241;43m.\u001b[39;49m\u001b[43mpop\u001b[49m\u001b[43m(\u001b[49m\u001b[43m)\u001b[49m\n",
      "\u001b[1;31mIndexError\u001b[0m: pop from empty list"
     ]
    }
   ],
   "source": [
    "queue.pop()"
   ]
  },
  {
   "cell_type": "code",
   "execution_count": 22,
   "id": "a2e3ee03",
   "metadata": {},
   "outputs": [
    {
     "name": "stdout",
     "output_type": "stream",
     "text": [
      "Select the Queue operations\n",
      "1.enque, 2.dequeue, 3.show, 4.quit\n",
      "sad\n",
      "\n",
      "It seems wrong input\n",
      "Select the Queue operations\n",
      "1.enque, 2.dequeue, 3.show, 4.quit\n",
      "4\n"
     ]
    }
   ],
   "source": [
    "### Queue in complete program\n",
    "queue = []\n",
    "def enqueue():\n",
    "    element = input(\"Enter the element : \")\n",
    "    queue.append(element)\n",
    "    print(element, \"added to queue\")\n",
    "\n",
    "def dequeue():\n",
    "    if not queue:\n",
    "        print(\"Queue is empty!\")\n",
    "    else:\n",
    "        e = queue.pop(0)\n",
    "        print(\"Removed element : \", e)\n",
    "def display():\n",
    "    print(queue)\n",
    "    \n",
    "while True :\n",
    "    try:\n",
    "        print(\"Select the Queue operations\\n1.enque, 2.dequeue, 3.show, 4.quit\")\n",
    "        choice = int(input())\n",
    "        if choice == 1:\n",
    "            enqueue()\n",
    "        elif choice == 2:\n",
    "            dequeue()\n",
    "        elif choice == 3:\n",
    "            display()\n",
    "        elif choice == 4:\n",
    "            break\n",
    "        else:\n",
    "            print()\n",
    "            print(\"Please select availabe option only!\")\n",
    "            \n",
    "    except:\n",
    "        print()  # for space in between\n",
    "        print(\"It seems wrong input\")\n"
   ]
  },
  {
   "cell_type": "code",
   "execution_count": 26,
   "id": "aed8f121",
   "metadata": {},
   "outputs": [
    {
     "data": {
      "text/plain": [
       "deque([])"
      ]
     },
     "execution_count": 26,
     "metadata": {},
     "output_type": "execute_result"
    }
   ],
   "source": [
    "## using collections deque method\n",
    "\n",
    "import collections\n",
    "\n",
    "queue = collections.deque()\n",
    "queue"
   ]
  },
  {
   "cell_type": "code",
   "execution_count": 27,
   "id": "c6991a03",
   "metadata": {},
   "outputs": [
    {
     "data": {
      "text/plain": [
       "deque([40, 30, 20, 10])"
      ]
     },
     "execution_count": 27,
     "metadata": {},
     "output_type": "execute_result"
    }
   ],
   "source": [
    "queue.appendleft(10)\n",
    "queue.appendleft(20)\n",
    "queue.appendleft(30)\n",
    "queue.appendleft(40)\n",
    "queue"
   ]
  },
  {
   "cell_type": "code",
   "execution_count": 28,
   "id": "242c9a72",
   "metadata": {},
   "outputs": [
    {
     "data": {
      "text/plain": [
       "10"
      ]
     },
     "execution_count": 28,
     "metadata": {},
     "output_type": "execute_result"
    }
   ],
   "source": [
    "queue.pop()"
   ]
  },
  {
   "cell_type": "code",
   "execution_count": 29,
   "id": "247c70ff",
   "metadata": {},
   "outputs": [
    {
     "data": {
      "text/plain": [
       "20"
      ]
     },
     "execution_count": 29,
     "metadata": {},
     "output_type": "execute_result"
    }
   ],
   "source": [
    "queue.pop()"
   ]
  },
  {
   "cell_type": "code",
   "execution_count": 30,
   "id": "3c715c35",
   "metadata": {},
   "outputs": [
    {
     "data": {
      "text/plain": [
       "30"
      ]
     },
     "execution_count": 30,
     "metadata": {},
     "output_type": "execute_result"
    }
   ],
   "source": [
    "queue.pop()"
   ]
  },
  {
   "cell_type": "code",
   "execution_count": 31,
   "id": "97233def",
   "metadata": {},
   "outputs": [
    {
     "data": {
      "text/plain": [
       "40"
      ]
     },
     "execution_count": 31,
     "metadata": {},
     "output_type": "execute_result"
    }
   ],
   "source": [
    "queue.pop()"
   ]
  },
  {
   "cell_type": "code",
   "execution_count": 32,
   "id": "44f1097b",
   "metadata": {},
   "outputs": [
    {
     "ename": "IndexError",
     "evalue": "pop from an empty deque",
     "output_type": "error",
     "traceback": [
      "\u001b[1;31m---------------------------------------------------------------------------\u001b[0m",
      "\u001b[1;31mIndexError\u001b[0m                                Traceback (most recent call last)",
      "Input \u001b[1;32mIn [32]\u001b[0m, in \u001b[0;36m<cell line: 1>\u001b[1;34m()\u001b[0m\n\u001b[1;32m----> 1\u001b[0m \u001b[43mqueue\u001b[49m\u001b[38;5;241;43m.\u001b[39;49m\u001b[43mpop\u001b[49m\u001b[43m(\u001b[49m\u001b[43m)\u001b[49m\n",
      "\u001b[1;31mIndexError\u001b[0m: pop from an empty deque"
     ]
    }
   ],
   "source": [
    "queue.pop()"
   ]
  },
  {
   "cell_type": "markdown",
   "id": "4fceafd3",
   "metadata": {},
   "source": [
    "#### 3. Priority Queue"
   ]
  },
  {
   "cell_type": "code",
   "execution_count": 40,
   "id": "edc89707",
   "metadata": {},
   "outputs": [],
   "source": [
    "# by normal list \n",
    "# taking lowest value as highest priority then we need to sort list ascending order\n",
    "\n",
    "queue = []\n",
    "\n",
    "queue.append(10)\n",
    "queue.append(60)\n",
    "queue.append(20)\n",
    "queue.append(1)\n",
    "\n",
    "\n",
    "\n"
   ]
  },
  {
   "cell_type": "code",
   "execution_count": 41,
   "id": "f1d8869c",
   "metadata": {},
   "outputs": [],
   "source": [
    "queue.sort()"
   ]
  },
  {
   "cell_type": "code",
   "execution_count": 42,
   "id": "6e7cf08b",
   "metadata": {},
   "outputs": [
    {
     "data": {
      "text/plain": [
       "1"
      ]
     },
     "execution_count": 42,
     "metadata": {},
     "output_type": "execute_result"
    }
   ],
   "source": [
    "queue.pop(0)"
   ]
  },
  {
   "cell_type": "code",
   "execution_count": 43,
   "id": "9ed58aab",
   "metadata": {},
   "outputs": [
    {
     "data": {
      "text/plain": [
       "10"
      ]
     },
     "execution_count": 43,
     "metadata": {},
     "output_type": "execute_result"
    }
   ],
   "source": [
    "queue.pop(0)"
   ]
  },
  {
   "cell_type": "code",
   "execution_count": 44,
   "id": "21efe234",
   "metadata": {},
   "outputs": [
    {
     "data": {
      "text/plain": [
       "20"
      ]
     },
     "execution_count": 44,
     "metadata": {},
     "output_type": "execute_result"
    }
   ],
   "source": [
    "queue.pop(0)"
   ]
  },
  {
   "cell_type": "code",
   "execution_count": 45,
   "id": "fc45cfea",
   "metadata": {},
   "outputs": [
    {
     "data": {
      "text/plain": [
       "60"
      ]
     },
     "execution_count": 45,
     "metadata": {},
     "output_type": "execute_result"
    }
   ],
   "source": [
    "queue.pop(0)"
   ]
  },
  {
   "cell_type": "code",
   "execution_count": null,
   "id": "eeae3c33",
   "metadata": {},
   "outputs": [],
   "source": []
  }
 ],
 "metadata": {
  "kernelspec": {
   "display_name": "Python 3 (ipykernel)",
   "language": "python",
   "name": "python3"
  },
  "language_info": {
   "codemirror_mode": {
    "name": "ipython",
    "version": 3
   },
   "file_extension": ".py",
   "mimetype": "text/x-python",
   "name": "python",
   "nbconvert_exporter": "python",
   "pygments_lexer": "ipython3",
   "version": "3.9.7"
  }
 },
 "nbformat": 4,
 "nbformat_minor": 5
}
