{
 "cells": [
  {
   "cell_type": "code",
   "execution_count": 1,
   "id": "dac5012a",
   "metadata": {},
   "outputs": [
    {
     "name": "stdout",
     "output_type": "stream",
     "text": [
      "Enter the range for getting the Armstrong Number: 1000\n",
      "0\n",
      "1\n",
      "2\n",
      "3\n",
      "4\n",
      "5\n",
      "6\n",
      "7\n",
      "8\n",
      "9\n",
      "153\n",
      "370\n",
      "371\n",
      "407\n"
     ]
    }
   ],
   "source": [
    "# Armstrong Number in given range\n",
    "\n",
    "# Armstrong number when we raise each digit of a number to the power of total number of digit \n",
    "# and add up them after adding if we get original number then it is an armstrong number.\n",
    "range1 = int(input(\"Enter the range for getting the Armstrong Number: \"))\n",
    "\n",
    "for i in range(range1):\n",
    "    num = i\n",
    "    result = 0\n",
    "    n = len(str(i))  # for the power \n",
    "    while i!= 0:\n",
    "        digit = i%10\n",
    "        result = result + digit**n\n",
    "        i = i//10\n",
    "        \n",
    "    if num == result:\n",
    "        print(num)"
   ]
  },
  {
   "cell_type": "code",
   "execution_count": 2,
   "id": "098979fb",
   "metadata": {},
   "outputs": [
    {
     "name": "stdout",
     "output_type": "stream",
     "text": [
      "Enter the range : 1000\n",
      "0\n",
      "1\n",
      "2\n",
      "3\n",
      "4\n",
      "5\n",
      "6\n",
      "7\n",
      "8\n",
      "9\n",
      "153\n",
      "370\n",
      "371\n",
      "407\n"
     ]
    }
   ],
   "source": [
    "num1 = int(input(\"Enter the range : \"))\n",
    "\n",
    "for i in range(num1):\n",
    "    num = i\n",
    "    result = 0\n",
    "    n = len(str(i))\n",
    "    while i!= 0:\n",
    "        digit = i%10\n",
    "        result = result + digit**n\n",
    "        i = i//10\n",
    "        \n",
    "    if num == result:\n",
    "        print(num)"
   ]
  },
  {
   "cell_type": "code",
   "execution_count": 7,
   "id": "5b45825a",
   "metadata": {},
   "outputs": [
    {
     "name": "stdout",
     "output_type": "stream",
     "text": [
      "Enter the number : 153\n",
      "Number 153 is Armstrong number!\n"
     ]
    }
   ],
   "source": [
    "# we can do it with another method for just check whether armstrong number or not \n",
    "\n",
    "num = int(input(\"Enter the number : \"))\n",
    "str_num = str(num)\n",
    "result = 0\n",
    "n = len(str_num)\n",
    "for i in str_num:\n",
    "    result = result + int(i)**n\n",
    "\n",
    "if result == num:\n",
    "    print(f\"Number {num} is Armstrong number!\")\n",
    "else:\n",
    "    print(f\"Number {num} is not a Armstrong Number!\")\n",
    "    "
   ]
  },
  {
   "cell_type": "code",
   "execution_count": 8,
   "id": "594efa77",
   "metadata": {},
   "outputs": [
    {
     "name": "stdout",
     "output_type": "stream",
     "text": [
      "Enter the number to get factorial : 4\n",
      "Factorial of 4 is :  24\n"
     ]
    }
   ],
   "source": [
    "# Factorial of a number by built-in method\n",
    "num = int(input(\"Enter the number to get factorial : \"))\n",
    "import math\n",
    "print(f\"Factorial of {num} is : \", math.factorial(num))\n"
   ]
  },
  {
   "cell_type": "code",
   "execution_count": 10,
   "id": "39726956",
   "metadata": {},
   "outputs": [
    {
     "name": "stdout",
     "output_type": "stream",
     "text": [
      "Enter the number to get factorial : 5\n",
      "\n",
      "Factorial of 5 is :  120\n"
     ]
    }
   ],
   "source": [
    "### factorial of a number by recursive method\n",
    "\n",
    "num = int(input(\"Enter the number to get factorial : \"))\n",
    "\n",
    "def fact(num):\n",
    "    if num == 0:\n",
    "        return 1\n",
    "    \n",
    "    return num * fact(num-1)\n",
    "\n",
    "print()\n",
    "print(f\"Factorial of {num} is : \", fact(num))"
   ]
  },
  {
   "cell_type": "code",
   "execution_count": 15,
   "id": "73b36d3f",
   "metadata": {},
   "outputs": [
    {
     "name": "stdout",
     "output_type": "stream",
     "text": [
      "Enter the number to get factorial : 5\n",
      "Factorial of 5 is :  120\n"
     ]
    }
   ],
   "source": [
    "## Factorial by iterative method \n",
    "\n",
    "num = int(input(\"Enter the number to get factorial : \"))\n",
    "result = 1\n",
    "if num == 0 or num == 1:\n",
    "    result\n",
    "else:\n",
    "    for i in range(num, 0, -1):  # we took reverse loop\n",
    "        result = result * i\n",
    "        \n",
    "print(f\"Factorial of {num} is : \", result)"
   ]
  },
  {
   "cell_type": "code",
   "execution_count": 19,
   "id": "7919fa4b",
   "metadata": {},
   "outputs": [
    {
     "name": "stdout",
     "output_type": "stream",
     "text": [
      "Enter the number to get factorial : 5\n",
      "Factorial of 5 is :  120\n"
     ]
    }
   ],
   "source": [
    "# even we can cut if part\n",
    "num = int(input(\"Enter the number to get factorial : \"))\n",
    "result = 1\n",
    "for i in range(num, 0, -1):\n",
    "    result = result*i\n",
    "print(f\"Factorial of {num} is : \", result)\n",
    "    "
   ]
  },
  {
   "cell_type": "code",
   "execution_count": 22,
   "id": "4ec48fcb",
   "metadata": {},
   "outputs": [
    {
     "name": "stdout",
     "output_type": "stream",
     "text": [
      "Enter the number for Fibonacci: 0\n"
     ]
    }
   ],
   "source": [
    "# Fibonacci series \n",
    "\n",
    "num = int(input(\"Enter the number for Fibonacci: \"))\n",
    "\n",
    "first = 0\n",
    "second = 1\n",
    "for i in range(num):\n",
    "    print(first, end = \" \")\n",
    "    first , second = second, first+second"
   ]
  },
  {
   "cell_type": "code",
   "execution_count": 23,
   "id": "df63a4ab",
   "metadata": {},
   "outputs": [
    {
     "name": "stdout",
     "output_type": "stream",
     "text": [
      "0\n"
     ]
    }
   ],
   "source": [
    "for i in range(1):\n",
    "    print(i)"
   ]
  },
  {
   "cell_type": "code",
   "execution_count": 26,
   "id": "ef2998c0",
   "metadata": {},
   "outputs": [
    {
     "name": "stdout",
     "output_type": "stream",
     "text": [
      "Enter the number : 6\n",
      "Number 6 is not a prime number!\n"
     ]
    }
   ],
   "source": [
    "# checking Prime number \n",
    "\n",
    "num = int(input(\"Enter the number : \"))\n",
    "\n",
    "if num>1: # as we know that prime number start from 2 \n",
    "    \n",
    "    for i in range(2, num):\n",
    "        if num%i == 0:\n",
    "            print(f\"Number {num} is not a prime number!\")\n",
    "            break   # if condition is true then noo need to further check\n",
    "    else:\n",
    "        print(f\"Number {num} is a prime number!\")\n",
    "        \n",
    "else:\n",
    "    print(f\"Number {num} is not a prime number!\")\n",
    "        "
   ]
  },
  {
   "cell_type": "code",
   "execution_count": 27,
   "id": "739e0195",
   "metadata": {},
   "outputs": [
    {
     "name": "stdout",
     "output_type": "stream",
     "text": [
      "Enter the lower interval: 1\n",
      "Enter the upper interval: 20\n",
      "2 3 5 7 9 11 13 15 17 19 "
     ]
    }
   ],
   "source": [
    "# Prime number in lower and upper range\n",
    "\n",
    "lower = int(input(\"Enter the lower interval: \"))\n",
    "upper = int(input(\"Enter the upper interval: \"))\n",
    "\n",
    "for num in range(lower, upper+1):\n",
    "    if num>1:\n",
    "        for i in range(2, num):\n",
    "            if num%2 == 0:\n",
    "                break\n",
    "        else:\n",
    "            print(num, end = \" \")"
   ]
  },
  {
   "cell_type": "code",
   "execution_count": 29,
   "id": "cced14ea",
   "metadata": {},
   "outputs": [
    {
     "name": "stdout",
     "output_type": "stream",
     "text": [
      "Enter the number : 4\n",
      "First 4 number of prime number is : \n",
      "2 3 5 7 "
     ]
    }
   ],
   "source": [
    "# finding the first n prime number \n",
    "\n",
    "num = int(input(\"Enter the number : \"))\n",
    "\n",
    "prime_list = []\n",
    "n = 2  # to start the iteration \n",
    "while num != len(prime_list):\n",
    "    for i in range(2, n):\n",
    "        if n%i == 0:\n",
    "            break\n",
    "    else:\n",
    "        prime_list.append(n)\n",
    "    n += 1\n",
    "    \n",
    "print(f\"First {num} number of prime number is : \" )\n",
    "for i in prime_list:\n",
    "    print(i, end = \" \")"
   ]
  },
  {
   "cell_type": "code",
   "execution_count": 30,
   "id": "0910855a",
   "metadata": {},
   "outputs": [
    {
     "name": "stdout",
     "output_type": "stream",
     "text": [
      "Enter the number : 4\n",
      "The 4nd/th number of prime number from beginning is :  7\n"
     ]
    }
   ],
   "source": [
    "# to find the nth specific prime number form beginnig\n",
    "# finding the first n prime number \n",
    "\n",
    "num = int(input(\"Enter the number : \"))\n",
    "\n",
    "prime_list = []\n",
    "n = 2  # to start the iteration \n",
    "while num != len(prime_list):\n",
    "    for i in range(2, n):\n",
    "        if n%i == 0:\n",
    "            break\n",
    "    else:\n",
    "        prime_list.append(n)\n",
    "    n += 1\n",
    "    \n",
    "print(f\"The {num}nd/th number of prime number from beginning is : \", prime_list[-1] )\n"
   ]
  },
  {
   "cell_type": "code",
   "execution_count": 31,
   "id": "5a398fd2",
   "metadata": {},
   "outputs": [
    {
     "name": "stdout",
     "output_type": "stream",
     "text": [
      "Enter the number : 6\n",
      "6 is a perfect number!\n"
     ]
    }
   ],
   "source": [
    "### Perfect number : is a positive integer that equal to the sum of its positive divisors \n",
    "# excluding the number itself.\n",
    "\n",
    "num = int(input(\"Enter the number : \"))\n",
    "result = 0\n",
    "for i in range(1, num):\n",
    "    if num%i == 0:\n",
    "        result = result + i\n",
    "    \n",
    "if result == num:\n",
    "    print(f\"{num} is a perfect number!\")\n",
    "    \n",
    "else:\n",
    "    print(f\"{num} is not a pperfect number!\")"
   ]
  },
  {
   "cell_type": "code",
   "execution_count": 34,
   "id": "74bac003",
   "metadata": {},
   "outputs": [
    {
     "name": "stdout",
     "output_type": "stream",
     "text": [
      "inter the lower limit: 1\n",
      "inter the upper limit: 100\n",
      "6 28 "
     ]
    }
   ],
   "source": [
    "# Perfect number in lower and upper range\n",
    "\n",
    "lower = int(input(\"inter the lower limit: \"))\n",
    "upper = int(input(\"inter the upper limit: \"))\n",
    "\n",
    "for num in range(lower, upper+1):\n",
    "    \n",
    "    result = 0\n",
    "    for i in range(1,num):\n",
    "        if num%i == 0:\n",
    "            result = result + i\n",
    "            \n",
    "    if num == result:\n",
    "        print(num, end = \" \")\n",
    "    "
   ]
  },
  {
   "cell_type": "code",
   "execution_count": 36,
   "id": "259bcf7e",
   "metadata": {},
   "outputs": [
    {
     "name": "stdout",
     "output_type": "stream",
     "text": [
      "Enter the number : 1233\n",
      "Reverse num :  3321\n",
      "1233 is not a Palindrome Number!\n"
     ]
    }
   ],
   "source": [
    "# Palindrome of a number : if by reversing we get the same result means it is a palindrome number\n",
    "\n",
    "num = input(\"Enter the number : \")\n",
    "\n",
    "reverse_num = num[::-1]\n",
    "print(\"Reverse num : \", reverse_num)\n",
    "if num == reverse_num:\n",
    "    print(f\"{num} is a Palindrome number\")\n",
    "    \n",
    "else:\n",
    "    print(f\"{num} is not a Palindrome Number!\")\n",
    "    "
   ]
  },
  {
   "cell_type": "code",
   "execution_count": 39,
   "id": "159ba766",
   "metadata": {},
   "outputs": [
    {
     "name": "stdout",
     "output_type": "stream",
     "text": [
      "Enrter the number : 1231\n",
      "1231's digit sum is :  7\n"
     ]
    }
   ],
   "source": [
    "### sum of all digit of a number\n",
    "\n",
    "num = int(input(\"Enrter the number : \"))\n",
    "temp_num = num\n",
    "result = 0\n",
    "\n",
    "while num!= 0:\n",
    "    digit = num%10\n",
    "    result = result + digit\n",
    "    num = num//10\n",
    "    \n",
    "print(f\"{temp_num}'s digit sum is : \", result)"
   ]
  },
  {
   "cell_type": "code",
   "execution_count": 40,
   "id": "f4b52eda",
   "metadata": {},
   "outputs": [
    {
     "name": "stdout",
     "output_type": "stream",
     "text": [
      "Enter the string : hello\n",
      "Reverse string is : olleh\n"
     ]
    }
   ],
   "source": [
    "# write a funtion for reversing a string \n",
    "\n",
    "def revers_str(str1):\n",
    "    result = \"\"\n",
    "    for i in str1:\n",
    "        result = i + result\n",
    "        \n",
    "    return result\n",
    "\n",
    "\n",
    "print(\"Reverse string is :\", revers_str(input(\"Enter the string : \")))"
   ]
  },
  {
   "cell_type": "code",
   "execution_count": 41,
   "id": "2817629b",
   "metadata": {},
   "outputs": [
    {
     "name": "stdout",
     "output_type": "stream",
     "text": [
      "Enter the string : hello word\n",
      "Number of vowels in string is :  3\n"
     ]
    }
   ],
   "source": [
    "# count the number of vowel in string \n",
    "\n",
    "str1 = input(\"Enter the string : \")\n",
    "count = 0\n",
    "vowels = ['a', 'e', 'i', 'o', 'u']\n",
    "\n",
    "for char in str1:\n",
    "    if char.lower() in vowels:\n",
    "        count = count + 1\n",
    "        \n",
    "print(\"Number of vowels in string is : \", count)"
   ]
  },
  {
   "cell_type": "code",
   "execution_count": 44,
   "id": "f563057b",
   "metadata": {},
   "outputs": [
    {
     "name": "stdout",
     "output_type": "stream",
     "text": [
      "1 3 5 "
     ]
    }
   ],
   "source": [
    "# Creating duplicate index of a list element\n",
    "list1 = [\"David\",1,2,1,3,1,3,1.4]\n",
    "dup_ind = [i for i in range(len(list1)) if list1[i] == 1]\n",
    "\n",
    "for i in dup_ind:\n",
    "    print(i , end = \" \")"
   ]
  },
  {
   "cell_type": "code",
   "execution_count": null,
   "id": "1c0346c0",
   "metadata": {},
   "outputs": [],
   "source": []
  }
 ],
 "metadata": {
  "kernelspec": {
   "display_name": "Python 3 (ipykernel)",
   "language": "python",
   "name": "python3"
  },
  "language_info": {
   "codemirror_mode": {
    "name": "ipython",
    "version": 3
   },
   "file_extension": ".py",
   "mimetype": "text/x-python",
   "name": "python",
   "nbconvert_exporter": "python",
   "pygments_lexer": "ipython3",
   "version": "3.9.7"
  }
 },
 "nbformat": 4,
 "nbformat_minor": 5
}
