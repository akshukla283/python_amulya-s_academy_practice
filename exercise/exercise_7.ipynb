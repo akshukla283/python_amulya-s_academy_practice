{
 "cells": [
  {
   "cell_type": "markdown",
   "id": "b1b255cc",
   "metadata": {},
   "source": [
    "#### User defined built-in data structure\n",
    "\n",
    "#### 1. Stack  2. Queue 3. LinkedList 4. Tree 5. Graph.\n",
    "\n",
    "\n",
    "\n",
    "#### Stack"
   ]
  },
  {
   "cell_type": "code",
   "execution_count": 1,
   "id": "fe88995b",
   "metadata": {},
   "outputs": [
    {
     "name": "stdout",
     "output_type": "stream",
     "text": [
      "Enter the Stack limit in integer : 3\n",
      "Select the operation 1.Push, 2.Pop, 3. Quit\n",
      "1\n",
      "Enter the element : sa\n",
      "invalid literal for int() with base 10: 'sa'\n",
      "Select the operation 1.Push, 2.Pop, 3. Quit\n",
      "3\n"
     ]
    }
   ],
   "source": [
    "Stack = []\n",
    "\n",
    "def push():\n",
    "    if len(Stack) == n:\n",
    "        print(\"Stack is full\")\n",
    "        print(Stack)\n",
    "    else:\n",
    "        element = int(input(\"Enter the element : \"))\n",
    "        Stack.append(element)\n",
    "        print(Stack)\n",
    "        \n",
    "def pop_element():\n",
    "    if not Stack:\n",
    "        print(\"Stack is empty!\")\n",
    "        print(Stack)\n",
    "    else:\n",
    "        e = Stack.pop()\n",
    "        print(\"Pop element is : \", e)\n",
    "        print(Stack)\n",
    "        \n",
    "\n",
    "n = int(input(\"Enter the Stack limit in integer : \"))\n",
    "while True:\n",
    "    \n",
    "    try :\n",
    "        print(\"Select the operation 1.Push, 2.Pop, 3. Quit\")\n",
    "        choice = int(input())\n",
    "        \n",
    "        if choice == 1:\n",
    "            push()\n",
    "        elif choice ==2:\n",
    "            pop_element()\n",
    "        elif choice == 3:\n",
    "            break\n",
    "        else:\n",
    "            print(\"Please enter available option only! \")\n",
    "           \n",
    "    except Exception as e:\n",
    "        print(e)\n",
    "        "
   ]
  },
  {
   "cell_type": "code",
   "execution_count": 2,
   "id": "50c3fdfb",
   "metadata": {},
   "outputs": [
    {
     "name": "stdout",
     "output_type": "stream",
     "text": [
      "Please enter the stack limit : h\n",
      "invalid literal for int() with base 10: 'h'\n",
      "Please enter the stack limit : 9\n",
      "Select the stack operations \n",
      "1.push, 2.pop, 3.quit\n",
      "kh\n",
      "invalid literal for int() with base 10: 'kh'\n",
      "Select the stack operations \n",
      "1.push, 2.pop, 3.quit\n",
      "5\n",
      "Select available option only!\n",
      "Select the stack operations \n",
      "1.push, 2.pop, 3.quit\n",
      "3\n"
     ]
    }
   ],
   "source": [
    "stack = []\n",
    "################ push function ###########################\n",
    "def push():\n",
    "    if len(stack) == n:\n",
    "        pint(\"Stack is full!\")\n",
    "        print(stack)\n",
    "    else:\n",
    "        element = input(\"Enter the element : \")\n",
    "        stack.append(element)\n",
    "        print(stack)\n",
    "############### pop function ############################        \n",
    "def pop_element():\n",
    "    \n",
    "    if not stack:\n",
    "        print(\"Stack is empty!\")\n",
    "        print(stack)\n",
    "    else:\n",
    "        e = stack.pop()\n",
    "        print(\"pop element is : \", e)\n",
    "        print(stack)\n",
    "    \n",
    "################ setting stack limit #######################\n",
    "while True:\n",
    "    try:\n",
    "        n = int(input(\"Please enter the stack limit : \"))\n",
    "        break\n",
    "    except Exception as e:\n",
    "        print(e)\n",
    "        continue\n",
    "################### operation options ########################\n",
    "\n",
    "while True:\n",
    "    try: \n",
    "        print(\"Select the stack operations \\n1.push, 2.pop, 3.quit\")\n",
    "        choice = int(input())\n",
    "        \n",
    "        if choice == 1:\n",
    "            push()\n",
    "        elif choice == 2:\n",
    "            pop_element()\n",
    "        elif choice == 3:\n",
    "            break\n",
    "        else:\n",
    "            print(\"Select available option only!\")\n",
    "    except Exception as e:\n",
    "        print(e)\n",
    "        \n",
    "        "
   ]
  },
  {
   "cell_type": "code",
   "execution_count": 2,
   "id": "7617715f",
   "metadata": {},
   "outputs": [
    {
     "name": "stdout",
     "output_type": "stream",
     "text": [
      "Enter the stack limit : 2\n",
      "Enter the choice 1.push, 2.pop, 3.quit\n",
      "1\n",
      "Enter the element : 23\n",
      "['23']\n",
      "Enter the choice 1.push, 2.pop, 3.quit\n",
      "2\n",
      "pop element is :  23\n",
      "[]\n",
      "Enter the choice 1.push, 2.pop, 3.quit\n",
      "2\n",
      "Stack is empty!\n",
      "[]\n",
      "Enter the choice 1.push, 2.pop, 3.quit\n",
      "2\n",
      "Stack is empty!\n",
      "[]\n",
      "Enter the choice 1.push, 2.pop, 3.quit\n",
      "1\n",
      "Enter the element : 23\n",
      "['23']\n",
      "Enter the choice 1.push, 2.pop, 3.quit\n",
      "3\n"
     ]
    }
   ],
   "source": [
    "stack  = []\n",
    "\n",
    "def push():\n",
    "    if len(stack) ==n:\n",
    "        print(\"Stack is full!\")\n",
    "        print(stack)\n",
    "    else:\n",
    "        element = input(\"Enter the element : \")\n",
    "        stack.append(element)\n",
    "        print(stack)\n",
    "        \n",
    "def pop_element():\n",
    "    if not stack :\n",
    "        print(\"Stack is empty!\")\n",
    "        print(stack)\n",
    "    else:\n",
    "        pop_el = stack.pop()\n",
    "        print(\"pop element is : \", pop_el)\n",
    "        print(stack)\n",
    "# --------------------------------------------------------------        \n",
    "while True:\n",
    "    \n",
    "    try:\n",
    "        n = int(input(\"Enter the stack limit : \"))\n",
    "        break\n",
    "    except Exception as e:\n",
    "        print(e)\n",
    "        continue\n",
    "# ---------------------------------------------------------------\n",
    "while True:\n",
    "    try:\n",
    "        print(\"Enter the choice 1.push, 2.pop, 3.quit\")\n",
    "        choice = int(input())\n",
    "        if choice == 1:\n",
    "            push()\n",
    "        elif choice ==2:\n",
    "            pop_element()\n",
    "        elif choice == 3:\n",
    "            break\n",
    "        else:\n",
    "            print(\"Select available option only!\")\n",
    "    except Exception as e:\n",
    "        print(e)\n",
    "        "
   ]
  },
  {
   "cell_type": "code",
   "execution_count": 3,
   "id": "ee55eca0",
   "metadata": {},
   "outputs": [
    {
     "data": {
      "text/plain": [
       "deque([])"
      ]
     },
     "execution_count": 3,
     "metadata": {},
     "output_type": "execute_result"
    }
   ],
   "source": [
    "### stack using built-in module\n",
    "import collections\n",
    "\n",
    "stack = collections.deque()\n",
    "stack"
   ]
  },
  {
   "cell_type": "code",
   "execution_count": 4,
   "id": "c0a80381",
   "metadata": {},
   "outputs": [],
   "source": [
    "stack.append(10)\n",
    "stack.append(20)\n",
    "stack.append(30)"
   ]
  },
  {
   "cell_type": "code",
   "execution_count": 5,
   "id": "6f3ba766",
   "metadata": {},
   "outputs": [
    {
     "data": {
      "text/plain": [
       "deque([10, 20, 30])"
      ]
     },
     "execution_count": 5,
     "metadata": {},
     "output_type": "execute_result"
    }
   ],
   "source": [
    "stack"
   ]
  },
  {
   "cell_type": "code",
   "execution_count": 6,
   "id": "9e36fc27",
   "metadata": {},
   "outputs": [
    {
     "data": {
      "text/plain": [
       "30"
      ]
     },
     "execution_count": 6,
     "metadata": {},
     "output_type": "execute_result"
    }
   ],
   "source": [
    "stack.pop()"
   ]
  },
  {
   "cell_type": "code",
   "execution_count": 7,
   "id": "323e47a2",
   "metadata": {},
   "outputs": [
    {
     "data": {
      "text/plain": [
       "20"
      ]
     },
     "execution_count": 7,
     "metadata": {},
     "output_type": "execute_result"
    }
   ],
   "source": [
    "stack.pop()"
   ]
  },
  {
   "cell_type": "code",
   "execution_count": 8,
   "id": "231383ea",
   "metadata": {},
   "outputs": [
    {
     "data": {
      "text/plain": [
       "10"
      ]
     },
     "execution_count": 8,
     "metadata": {},
     "output_type": "execute_result"
    }
   ],
   "source": [
    "stack.pop()"
   ]
  },
  {
   "cell_type": "code",
   "execution_count": 9,
   "id": "81e94ebc",
   "metadata": {},
   "outputs": [
    {
     "ename": "IndexError",
     "evalue": "pop from an empty deque",
     "output_type": "error",
     "traceback": [
      "\u001b[1;31m---------------------------------------------------------------------------\u001b[0m",
      "\u001b[1;31mIndexError\u001b[0m                                Traceback (most recent call last)",
      "Input \u001b[1;32mIn [9]\u001b[0m, in \u001b[0;36m<cell line: 1>\u001b[1;34m()\u001b[0m\n\u001b[1;32m----> 1\u001b[0m \u001b[43mstack\u001b[49m\u001b[38;5;241;43m.\u001b[39;49m\u001b[43mpop\u001b[49m\u001b[43m(\u001b[49m\u001b[43m)\u001b[49m\n",
      "\u001b[1;31mIndexError\u001b[0m: pop from an empty deque"
     ]
    }
   ],
   "source": [
    "stack.pop()"
   ]
  },
  {
   "cell_type": "code",
   "execution_count": 10,
   "id": "36e19bf5",
   "metadata": {},
   "outputs": [
    {
     "data": {
      "text/plain": [
       "<queue.LifoQueue at 0x1d9213a9100>"
      ]
     },
     "execution_count": 10,
     "metadata": {},
     "output_type": "execute_result"
    }
   ],
   "source": [
    "# stack using 'queue' built-in module\n",
    "\n",
    "import queue\n",
    "\n",
    "stack = queue.LifoQueue()\n",
    "stack"
   ]
  },
  {
   "cell_type": "code",
   "execution_count": 11,
   "id": "12eb608c",
   "metadata": {},
   "outputs": [],
   "source": [
    "stack.put(10)\n",
    "stack.put(20)\n",
    "stack.put(30)"
   ]
  },
  {
   "cell_type": "code",
   "execution_count": 12,
   "id": "8787c041",
   "metadata": {},
   "outputs": [
    {
     "data": {
      "text/plain": [
       "<queue.LifoQueue at 0x1d9213a9100>"
      ]
     },
     "execution_count": 12,
     "metadata": {},
     "output_type": "execute_result"
    }
   ],
   "source": [
    "stack"
   ]
  },
  {
   "cell_type": "code",
   "execution_count": 13,
   "id": "ca16dc68",
   "metadata": {},
   "outputs": [
    {
     "data": {
      "text/plain": [
       "30"
      ]
     },
     "execution_count": 13,
     "metadata": {},
     "output_type": "execute_result"
    }
   ],
   "source": [
    "stack.get()"
   ]
  },
  {
   "cell_type": "code",
   "execution_count": 14,
   "id": "ecfcdf6a",
   "metadata": {},
   "outputs": [
    {
     "data": {
      "text/plain": [
       "20"
      ]
     },
     "execution_count": 14,
     "metadata": {},
     "output_type": "execute_result"
    }
   ],
   "source": [
    "stack.get()"
   ]
  },
  {
   "cell_type": "code",
   "execution_count": 15,
   "id": "22512eb0",
   "metadata": {},
   "outputs": [
    {
     "data": {
      "text/plain": [
       "10"
      ]
     },
     "execution_count": 15,
     "metadata": {},
     "output_type": "execute_result"
    }
   ],
   "source": [
    "stack.get()"
   ]
  },
  {
   "cell_type": "code",
   "execution_count": 16,
   "id": "bc5a6e66",
   "metadata": {},
   "outputs": [],
   "source": [
    "# now stack is empty and if want to perform this operation once again it will take time \n",
    "# to solve this we can use timeout parameter\n",
    "#stack.get()  # don't run it "
   ]
  },
  {
   "cell_type": "code",
   "execution_count": 17,
   "id": "9fabb403",
   "metadata": {},
   "outputs": [
    {
     "ename": "Full",
     "evalue": "",
     "output_type": "error",
     "traceback": [
      "\u001b[1;31m---------------------------------------------------------------------------\u001b[0m",
      "\u001b[1;31mFull\u001b[0m                                      Traceback (most recent call last)",
      "Input \u001b[1;32mIn [17]\u001b[0m, in \u001b[0;36m<cell line: 9>\u001b[1;34m()\u001b[0m\n\u001b[0;32m      7\u001b[0m stack\u001b[38;5;241m.\u001b[39mput(\u001b[38;5;241m20\u001b[39m)\n\u001b[0;32m      8\u001b[0m stack\u001b[38;5;241m.\u001b[39mput(\u001b[38;5;241m30\u001b[39m)\n\u001b[1;32m----> 9\u001b[0m \u001b[43mstack\u001b[49m\u001b[38;5;241;43m.\u001b[39;49m\u001b[43mput\u001b[49m\u001b[43m(\u001b[49m\u001b[38;5;241;43m10\u001b[39;49m\u001b[43m,\u001b[49m\u001b[43m \u001b[49m\u001b[43mtimeout\u001b[49m\u001b[38;5;241;43m=\u001b[39;49m\u001b[38;5;241;43m1\u001b[39;49m\u001b[43m \u001b[49m\u001b[43m)\u001b[49m\n",
      "File \u001b[1;32m~\\AppData\\Local\\Programs\\Python\\Python39\\lib\\queue.py:148\u001b[0m, in \u001b[0;36mQueue.put\u001b[1;34m(self, item, block, timeout)\u001b[0m\n\u001b[0;32m    146\u001b[0m             remaining \u001b[38;5;241m=\u001b[39m endtime \u001b[38;5;241m-\u001b[39m time()\n\u001b[0;32m    147\u001b[0m             \u001b[38;5;28;01mif\u001b[39;00m remaining \u001b[38;5;241m<\u001b[39m\u001b[38;5;241m=\u001b[39m \u001b[38;5;241m0.0\u001b[39m:\n\u001b[1;32m--> 148\u001b[0m                 \u001b[38;5;28;01mraise\u001b[39;00m Full\n\u001b[0;32m    149\u001b[0m             \u001b[38;5;28mself\u001b[39m\u001b[38;5;241m.\u001b[39mnot_full\u001b[38;5;241m.\u001b[39mwait(remaining)\n\u001b[0;32m    150\u001b[0m \u001b[38;5;28mself\u001b[39m\u001b[38;5;241m.\u001b[39m_put(item)\n",
      "\u001b[1;31mFull\u001b[0m: "
     ]
    }
   ],
   "source": [
    "# we can limit stacks size by just passing the argument to .LifoQueue\n",
    "\n",
    "import queue\n",
    "\n",
    "stack = queue.LifoQueue(3)  # here 3 is stack limit.\n",
    "stack.put(10)\n",
    "stack.put(20)\n",
    "stack.put(30)\n",
    "stack.put(10, timeout=1 ) \n",
    "# here we know that stack is full so we gave timeout 1 second to tell this "
   ]
  },
  {
   "cell_type": "markdown",
   "id": "91fb0760",
   "metadata": {},
   "source": [
    "#### 2. Queue user defined Data Structure "
   ]
  },
  {
   "cell_type": "code",
   "execution_count": 19,
   "id": "f9c064a8",
   "metadata": {},
   "outputs": [
    {
     "name": "stdout",
     "output_type": "stream",
     "text": [
      "Select the Queue operations\n",
      "1.enque, 2.dequeue, 3.show, 4.quit\n",
      "2\n",
      "Queue is empty!\n",
      "Select the Queue operations\n",
      "1.enque, 2.dequeue, 3.show, 4.quit\n",
      "3\n",
      "[]\n",
      "Select the Queue operations\n",
      "1.enque, 2.dequeue, 3.show, 4.quit\n",
      "1\n",
      "Enter the element : 76\n",
      "76 is added to queue.\n",
      "Select the Queue operations\n",
      "1.enque, 2.dequeue, 3.show, 4.quit\n",
      "29\n",
      "Enter the available option only!\n",
      "Select the Queue operations\n",
      "1.enque, 2.dequeue, 3.show, 4.quit\n",
      "3\n",
      "['76']\n",
      "Select the Queue operations\n",
      "1.enque, 2.dequeue, 3.show, 4.quit\n",
      "4\n"
     ]
    }
   ],
   "source": [
    "queue = []\n",
    "\n",
    "def enqueue():\n",
    "    element = input(\"Enter the element : \")\n",
    "    queue.append(element)\n",
    "    print(element, \"is added to queue.\")\n",
    "\n",
    "def dequeue():\n",
    "    if not queue:\n",
    "        print(\"Queue is empty!\")\n",
    "        \n",
    "    else:\n",
    "        e = queue.pop(0)\n",
    "        print(\"Removed element : \", e)\n",
    "        \n",
    "def display():\n",
    "    print(queue)\n",
    "    \n",
    "while True:\n",
    "    try:\n",
    "        print(\"Select the Queue operations\\n1.enque, 2.dequeue, 3.show, 4.quit\")\n",
    "        choice = int(input())\n",
    "        if choice == 1:\n",
    "            enqueue()\n",
    "        elif choice == 2:\n",
    "            dequeue()\n",
    "        elif choice ==3:\n",
    "            display()\n",
    "        elif choice == 4:\n",
    "            break\n",
    "        else:\n",
    "            print(\"Enter the available option only!\")\n",
    "    except Exception as e:\n",
    "        print(e)"
   ]
  },
  {
   "cell_type": "code",
   "execution_count": 21,
   "id": "f7339fab",
   "metadata": {},
   "outputs": [
    {
     "data": {
      "text/plain": [
       "deque([])"
      ]
     },
     "execution_count": 21,
     "metadata": {},
     "output_type": "execute_result"
    }
   ],
   "source": [
    "##### Queue using other built-in method\n",
    "\n",
    "import collections\n",
    "queue = collections.deque()\n",
    "queue"
   ]
  },
  {
   "cell_type": "code",
   "execution_count": 22,
   "id": "fadc884f",
   "metadata": {},
   "outputs": [
    {
     "data": {
      "text/plain": [
       "deque([30, 20, 10])"
      ]
     },
     "execution_count": 22,
     "metadata": {},
     "output_type": "execute_result"
    }
   ],
   "source": [
    "queue.appendleft(10)  \n",
    "# by left append new appended element will be stored at left to the previous one which will be\n",
    "# help full to pop means when we do pop operation it will delete 10 first means first in first \n",
    "# out which is the base theory for queue.\n",
    "\n",
    "\n",
    "queue.appendleft(20)\n",
    "queue.appendleft(30)\n",
    "queue"
   ]
  },
  {
   "cell_type": "code",
   "execution_count": 23,
   "id": "f6441e09",
   "metadata": {},
   "outputs": [
    {
     "data": {
      "text/plain": [
       "10"
      ]
     },
     "execution_count": 23,
     "metadata": {},
     "output_type": "execute_result"
    }
   ],
   "source": [
    "queue.pop()"
   ]
  },
  {
   "cell_type": "code",
   "execution_count": 24,
   "id": "d808bde8",
   "metadata": {},
   "outputs": [
    {
     "data": {
      "text/plain": [
       "deque([])"
      ]
     },
     "execution_count": 24,
     "metadata": {},
     "output_type": "execute_result"
    }
   ],
   "source": [
    "# or we can do same normally by append and pop by left pop method\n",
    "\n",
    "import collections\n",
    "\n",
    "queue = collections.deque()\n",
    "queue"
   ]
  },
  {
   "cell_type": "code",
   "execution_count": 25,
   "id": "4cf268d5",
   "metadata": {},
   "outputs": [],
   "source": [
    "queue.append(10)\n",
    "queue.append(20)\n",
    "queue.append(30)"
   ]
  },
  {
   "cell_type": "code",
   "execution_count": 26,
   "id": "aac885a3",
   "metadata": {},
   "outputs": [
    {
     "data": {
      "text/plain": [
       "deque([10, 20, 30])"
      ]
     },
     "execution_count": 26,
     "metadata": {},
     "output_type": "execute_result"
    }
   ],
   "source": [
    "queue"
   ]
  },
  {
   "cell_type": "code",
   "execution_count": 27,
   "id": "2cbd3f89",
   "metadata": {},
   "outputs": [
    {
     "data": {
      "text/plain": [
       "10"
      ]
     },
     "execution_count": 27,
     "metadata": {},
     "output_type": "execute_result"
    }
   ],
   "source": [
    "queue.popleft()  # it will delete the element from left most which is 10 at present."
   ]
  },
  {
   "cell_type": "code",
   "execution_count": 28,
   "id": "11eaa01c",
   "metadata": {},
   "outputs": [
    {
     "data": {
      "text/plain": [
       "20"
      ]
     },
     "execution_count": 28,
     "metadata": {},
     "output_type": "execute_result"
    }
   ],
   "source": [
    "queue.popleft()"
   ]
  },
  {
   "cell_type": "code",
   "execution_count": 29,
   "id": "f5829ad7",
   "metadata": {},
   "outputs": [
    {
     "data": {
      "text/plain": [
       "30"
      ]
     },
     "execution_count": 29,
     "metadata": {},
     "output_type": "execute_result"
    }
   ],
   "source": [
    "queue.popleft()"
   ]
  },
  {
   "cell_type": "code",
   "execution_count": 30,
   "id": "575e7abc",
   "metadata": {},
   "outputs": [
    {
     "data": {
      "text/plain": [
       "<queue.Queue at 0x1d92231fe20>"
      ]
     },
     "execution_count": 30,
     "metadata": {},
     "output_type": "execute_result"
    }
   ],
   "source": [
    "# using queue built-in module\n",
    "\n",
    "import queue\n",
    "\n",
    "q = queue.Queue()\n",
    "q.put(10)\n",
    "q.put(20)\n",
    "q.put(30)\n",
    "q"
   ]
  },
  {
   "cell_type": "code",
   "execution_count": 31,
   "id": "472bc0cf",
   "metadata": {},
   "outputs": [
    {
     "data": {
      "text/plain": [
       "10"
      ]
     },
     "execution_count": 31,
     "metadata": {},
     "output_type": "execute_result"
    }
   ],
   "source": [
    "q.get()"
   ]
  },
  {
   "cell_type": "code",
   "execution_count": 32,
   "id": "9e7b4bca",
   "metadata": {},
   "outputs": [
    {
     "data": {
      "text/plain": [
       "20"
      ]
     },
     "execution_count": 32,
     "metadata": {},
     "output_type": "execute_result"
    }
   ],
   "source": [
    "q.get()"
   ]
  },
  {
   "cell_type": "code",
   "execution_count": 33,
   "id": "106962fc",
   "metadata": {},
   "outputs": [
    {
     "data": {
      "text/plain": [
       "30"
      ]
     },
     "execution_count": 33,
     "metadata": {},
     "output_type": "execute_result"
    }
   ],
   "source": [
    "q.get()"
   ]
  },
  {
   "cell_type": "code",
   "execution_count": null,
   "id": "dabf5562",
   "metadata": {},
   "outputs": [],
   "source": []
  }
 ],
 "metadata": {
  "kernelspec": {
   "display_name": "Python 3 (ipykernel)",
   "language": "python",
   "name": "python3"
  },
  "language_info": {
   "codemirror_mode": {
    "name": "ipython",
    "version": 3
   },
   "file_extension": ".py",
   "mimetype": "text/x-python",
   "name": "python",
   "nbconvert_exporter": "python",
   "pygments_lexer": "ipython3",
   "version": "3.9.7"
  }
 },
 "nbformat": 4,
 "nbformat_minor": 5
}
