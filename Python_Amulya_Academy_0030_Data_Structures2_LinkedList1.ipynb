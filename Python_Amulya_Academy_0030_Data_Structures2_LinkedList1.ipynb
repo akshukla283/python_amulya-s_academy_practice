{
 "cells": [
  {
   "cell_type": "markdown",
   "id": "64389b61",
   "metadata": {},
   "source": [
    "### Data Structures:\n",
    "\n",
    "* `\"Way to store and organize the data so that it can be accessed effectively.\"`\n",
    "\n",
    "*  `Data Structures are a specialized means of organizing and storing data in computers in such a way that we can perform operations on the stored data more efficiently. Data structures have a wide and diverse scope of usage across the fields of Computer Science and Software Engineering.`\n",
    "\n",
    "#### Built-in \n",
    "\n",
    "* list\n",
    "\n",
    "* Tuple\n",
    "\n",
    "* Set\n",
    "\n",
    "* Dictionary\n",
    "\n",
    "#### User Defined \n",
    "\n",
    "* Stack\n",
    "\n",
    "* Queue\n",
    "\n",
    "* Linked List\n",
    "\n",
    "* Tree\n",
    "\n",
    "* Graph"
   ]
  },
  {
   "cell_type": "markdown",
   "id": "fde06773",
   "metadata": {},
   "source": [
    "#### Priority Queue:\n",
    "\n",
    "* it is the modified version of queues in which each element is associated with the priority and served according to their priority in the queue. \n",
    "\n",
    "* it's example in real life like in hospitals a critical patient will be treated as the priority basis.\n",
    "\n",
    "* e.g.  10, 20, 30 , 100, 70, 50  suppose here 20's priority is highest amongs the all then 20 will be served first and after this will serve which have the second highest priority in this.\n",
    "\n",
    "* then how to set the priority in some cases the value of element itself is consider for the assigning  priority or we can take the tuple or tuple in that value and its priority.\n",
    "\n",
    "* if we take element itself consider the priority then lowest the value highest the priority and highest the value lowest the pripority.\n",
    "\n",
    "* if we take highest value as priority then highest value will be removed first. and if we take lowest value as priority then lowest value will be removed first.\n",
    "\n",
    "\n",
    "#### how to implement priority in python? \n",
    "\n",
    "`1. List:`  -- append the list and after inserting the value need to sort the list and then remove the element.\n",
    "\n",
    "* if we take `lowest value` as `high priority` then sort the list in `ascending order`. \n",
    "\n",
    "* if we take `higher value` as `highest priority` then sort the value in `descending order`.\n",
    "\n",
    "`2. Priority by Queue:`\n",
    "\n",
    "* then entry should kept sorted using heap queue module it will use the binary heap data structure and the lowest entries retrives first."
   ]
  },
  {
   "cell_type": "code",
   "execution_count": 1,
   "id": "343aa43d",
   "metadata": {},
   "outputs": [
    {
     "data": {
      "text/plain": [
       "[10, 40]"
      ]
     },
     "execution_count": 1,
     "metadata": {},
     "output_type": "execute_result"
    }
   ],
   "source": [
    "## e.g\n",
    "q = []\n",
    "q.append(10)\n",
    "q.append(40)\n",
    "q.sort()\n",
    "q"
   ]
  },
  {
   "cell_type": "code",
   "execution_count": 2,
   "id": "7784eb5e",
   "metadata": {},
   "outputs": [],
   "source": [
    "q.append(20)"
   ]
  },
  {
   "cell_type": "code",
   "execution_count": 3,
   "id": "9253ab21",
   "metadata": {},
   "outputs": [
    {
     "data": {
      "text/plain": [
       "[10, 20, 40]"
      ]
     },
     "execution_count": 3,
     "metadata": {},
     "output_type": "execute_result"
    }
   ],
   "source": [
    "q.sort()\n",
    "q"
   ]
  },
  {
   "cell_type": "code",
   "execution_count": 4,
   "id": "c92fe558",
   "metadata": {},
   "outputs": [
    {
     "data": {
      "text/plain": [
       "10"
      ]
     },
     "execution_count": 4,
     "metadata": {},
     "output_type": "execute_result"
    }
   ],
   "source": [
    "q.pop(0)"
   ]
  },
  {
   "cell_type": "code",
   "execution_count": 5,
   "id": "d2ce0960",
   "metadata": {},
   "outputs": [
    {
     "data": {
      "text/plain": [
       "20"
      ]
     },
     "execution_count": 5,
     "metadata": {},
     "output_type": "execute_result"
    }
   ],
   "source": [
    "q.pop(0)"
   ]
  },
  {
   "cell_type": "code",
   "execution_count": 6,
   "id": "e3ade6ab",
   "metadata": {},
   "outputs": [
    {
     "data": {
      "text/plain": [
       "40"
      ]
     },
     "execution_count": 6,
     "metadata": {},
     "output_type": "execute_result"
    }
   ],
   "source": [
    "q.pop(0)"
   ]
  },
  {
   "cell_type": "markdown",
   "id": "4398db1e",
   "metadata": {},
   "source": [
    "`2. PriorityQueue():`\n",
    "\n",
    "* then entry should kept sorted using heap queue module it will use the binary heap data structure and the lowest entries retrives first."
   ]
  },
  {
   "cell_type": "code",
   "execution_count": 7,
   "id": "73a6f981",
   "metadata": {},
   "outputs": [
    {
     "data": {
      "text/plain": [
       "<queue.PriorityQueue at 0x261edefbca0>"
      ]
     },
     "execution_count": 7,
     "metadata": {},
     "output_type": "execute_result"
    }
   ],
   "source": [
    "import queue\n",
    "\n",
    "q = queue.PriorityQueue()\n",
    "q.put(10)\n",
    "q.put(60)\n",
    "q.put(20)\n",
    "q.put(40)\n",
    "q.put(40)\n",
    "q"
   ]
  },
  {
   "cell_type": "code",
   "execution_count": 8,
   "id": "14864f59",
   "metadata": {},
   "outputs": [
    {
     "data": {
      "text/plain": [
       "10"
      ]
     },
     "execution_count": 8,
     "metadata": {},
     "output_type": "execute_result"
    }
   ],
   "source": [
    "q.get()"
   ]
  },
  {
   "cell_type": "code",
   "execution_count": 9,
   "id": "81e0dae4",
   "metadata": {},
   "outputs": [
    {
     "data": {
      "text/plain": [
       "20"
      ]
     },
     "execution_count": 9,
     "metadata": {},
     "output_type": "execute_result"
    }
   ],
   "source": [
    "q.get()"
   ]
  },
  {
   "cell_type": "code",
   "execution_count": 10,
   "id": "8cbf93e4",
   "metadata": {},
   "outputs": [
    {
     "data": {
      "text/plain": [
       "40"
      ]
     },
     "execution_count": 10,
     "metadata": {},
     "output_type": "execute_result"
    }
   ],
   "source": [
    "q.get()"
   ]
  },
  {
   "cell_type": "code",
   "execution_count": 11,
   "id": "103bfda3",
   "metadata": {},
   "outputs": [
    {
     "data": {
      "text/plain": [
       "40"
      ]
     },
     "execution_count": 11,
     "metadata": {},
     "output_type": "execute_result"
    }
   ],
   "source": [
    "q.get()"
   ]
  },
  {
   "cell_type": "code",
   "execution_count": 12,
   "id": "21f26967",
   "metadata": {},
   "outputs": [
    {
     "data": {
      "text/plain": [
       "60"
      ]
     },
     "execution_count": 12,
     "metadata": {},
     "output_type": "execute_result"
    }
   ],
   "source": [
    "q.get()"
   ]
  },
  {
   "cell_type": "code",
   "execution_count": 13,
   "id": "43f0a5ca",
   "metadata": {},
   "outputs": [],
   "source": [
    "# q.get()\n"
   ]
  },
  {
   "cell_type": "code",
   "execution_count": 14,
   "id": "91301189",
   "metadata": {},
   "outputs": [
    {
     "data": {
      "text/plain": [
       "[(1, 'hello'), (2, 'hi')]"
      ]
     },
     "execution_count": 14,
     "metadata": {},
     "output_type": "execute_result"
    }
   ],
   "source": [
    "lst= []\n",
    "lst.append((1,\"hello\"))\n",
    "lst.append((2,\"hi\"))\n",
    "lst"
   ]
  },
  {
   "cell_type": "code",
   "execution_count": 15,
   "id": "ddce262e",
   "metadata": {},
   "outputs": [
    {
     "data": {
      "text/plain": [
       "[(1, 'alexa'), (4, 'alex'), (2, 'al')]"
      ]
     },
     "execution_count": 15,
     "metadata": {},
     "output_type": "execute_result"
    }
   ],
   "source": [
    "# adding priority\n",
    "# and here we are taking the highest value as highest priority.\n",
    "\n",
    "q = []\n",
    "q.append((1,\"alexa\"))\n",
    "q.append((4,\"alex\"))\n",
    "q.append((2,\"al\"))\n",
    "q"
   ]
  },
  {
   "cell_type": "code",
   "execution_count": 16,
   "id": "7449f245",
   "metadata": {},
   "outputs": [
    {
     "data": {
      "text/plain": [
       "[(4, 'alex'), (2, 'al'), (1, 'alexa')]"
      ]
     },
     "execution_count": 16,
     "metadata": {},
     "output_type": "execute_result"
    }
   ],
   "source": [
    "q.sort(reverse=True)\n",
    "q"
   ]
  },
  {
   "cell_type": "code",
   "execution_count": 17,
   "id": "a6a43867",
   "metadata": {},
   "outputs": [
    {
     "data": {
      "text/plain": [
       "(4, 'alex')"
      ]
     },
     "execution_count": 17,
     "metadata": {},
     "output_type": "execute_result"
    }
   ],
   "source": [
    "q.pop(0)"
   ]
  },
  {
   "cell_type": "code",
   "execution_count": 18,
   "id": "8734c362",
   "metadata": {},
   "outputs": [
    {
     "data": {
      "text/plain": [
       "(2, 'al')"
      ]
     },
     "execution_count": 18,
     "metadata": {},
     "output_type": "execute_result"
    }
   ],
   "source": [
    "q.pop(0)"
   ]
  },
  {
   "cell_type": "code",
   "execution_count": 19,
   "id": "19ba6ab0",
   "metadata": {},
   "outputs": [
    {
     "data": {
      "text/plain": [
       "(1, 'alexa')"
      ]
     },
     "execution_count": 19,
     "metadata": {},
     "output_type": "execute_result"
    }
   ],
   "source": [
    "q.pop(0)"
   ]
  },
  {
   "cell_type": "markdown",
   "id": "813ff56c",
   "metadata": {},
   "source": [
    "### 3. Linked List:\n",
    "\n",
    "* A linked list is a linear data structure that includes a series of connected nodes. Here, each node stores the data and the address of the next node. \n",
    "\n",
    "* element of linked list known as node.\n",
    "\n",
    "* reference of node is store in pevious node.\n",
    "\n",
    "* first node which store first reference known as 'Head' and the last one node which contain null reference known as 'tail'.\n",
    "\n",
    "* linked list is dynamic data structure, size of linked list is not fix we can modify that while performing the operation on that.\n",
    "\n",
    "* each node will contain reference and linked of next node beacuse of that element of the node of the linked list stored randomly in memory we don't need conteseous memory allocation.\n",
    "\n",
    "#### Linked List Operations:\n",
    "*  `Traversal` - access each element of the linked list\n",
    "\n",
    "*  `Insertion` - adds a new element to the linked list\n",
    "\n",
    "*  `Deletion` - removes the existing elements\n",
    "\n",
    "*  `Search` - find a node in the linked list\n",
    "\n",
    "*  `Sort` - sort the nodes of the linked list\n",
    "\n",
    "#### Things to Remember about Linked List:\n",
    "* `head` points to the first node of the linked list\n",
    "* `next` pointer of the last node is `NULL`, so if the next current node is `NULL`, we have reached the end of the linked list.\n",
    "\n",
    "\n",
    "#### Advantage of linked list:\n",
    "* it is a Dynamic data structure so it uses dynamic memory allocation, while creating the linked list no need to metion the size of linked list.\n",
    "\n",
    "* element can be inserted or removed easily from any position.\n",
    "\n",
    "* we can implement stack queue graph.\n",
    "\n",
    "* linked list are used to represent and manipulate polynomials.\n",
    "\n",
    "* in real life we use linked list in web browser to go next and previous page.\n",
    "\n",
    "* we can also use it in music player: songs are linked , image viewer: images are linked.\n",
    "\n",
    "\n",
    "#### disadvantage of linked list:\n",
    "\n",
    "* here each node will store data field and reference of next node so it needs extra memory.\n",
    "\n",
    "* No element can be access randomly, has to access each node.\n",
    "\n",
    "\n",
    "### Type of linked list:\n",
    "There are three common types of Linked List.\n",
    "\n",
    "1.  **Singly Linked List**\n",
    "\n",
    "* It is the most common. Each node has data and a pointer to the next node.\n",
    "\n",
    "2.  **Doubly Linked List**\n",
    "\n",
    "* We add a pointer to the previous node in a doubly-linked list. Thus, we can go in either direction: forward or backward.\n",
    "\n",
    "3.  **Circular Linked List**\n",
    "\n",
    "* A circular linked list is a variation of a linked list in which the last element is linked to the first element. This forms a circular loop."
   ]
  },
  {
   "cell_type": "markdown",
   "id": "c134e423",
   "metadata": {},
   "source": [
    "1.  **Singly Linked List**\n",
    "\n",
    "* It is the most common. Each node has data and a pointer to the next node.\n",
    "* It contain only one reference means forward link reference hence moving forward is easy but muving backword is difficult.\n"
   ]
  },
  {
   "cell_type": "code",
   "execution_count": 1,
   "id": "f14131f3",
   "metadata": {},
   "outputs": [
    {
     "name": "stdout",
     "output_type": "stream",
     "text": [
      "<__main__.Node object at 0x000001DA6F81BE20>\n"
     ]
    }
   ],
   "source": [
    "class Node:\n",
    "    def __init__(self, data):\n",
    "        self.data = data\n",
    "        self.ref = None\n",
    "        \n",
    "node1 = Node(10)\n",
    "print(node1)\n",
    "\n",
    "# here we can see that we have created Node object.\n",
    "# and after printing that we can see that it printed the reference of that object.\n",
    "\n",
    "# we can create indivisual nodes using the class Node."
   ]
  },
  {
   "cell_type": "markdown",
   "id": "84fcfde7",
   "metadata": {},
   "source": [
    "#### Traversal Operation\n",
    "\n",
    "* Start with the head of the LinkedList, Access the data if head is not NULL.\n",
    "\n",
    "* Go to the next Node access Node data.\n",
    "\n",
    "* Continue untill last node."
   ]
  },
  {
   "cell_type": "code",
   "execution_count": 1,
   "id": "17ad8d29",
   "metadata": {},
   "outputs": [
    {
     "name": "stdout",
     "output_type": "stream",
     "text": [
      "LinkedList is empty!\n"
     ]
    }
   ],
   "source": [
    "class Node:\n",
    "    def __init__(self, data):\n",
    "        self.data = data\n",
    "        self.ref = None\n",
    "\n",
    "class LinkedList:\n",
    "    def __init__(self):\n",
    "        self.head = None  # means we have no node empty LinkedList\n",
    "        \n",
    "    def print_LL(self):\n",
    "        if self.head is None:\n",
    "            print(\"LinkedList is empty!\")\n",
    "        else:\n",
    "            n = self.head\n",
    "            while n is not None:\n",
    "                print(n.data)\n",
    "                n = n.ref\n",
    "\n",
    "LL1 = LinkedList()\n",
    "LL1.print_LL()\n",
    "        \n"
   ]
  },
  {
   "cell_type": "code",
   "execution_count": 1,
   "id": "d1596831",
   "metadata": {},
   "outputs": [
    {
     "name": "stdout",
     "output_type": "stream",
     "text": [
      "LinkedList is empty!\n"
     ]
    }
   ],
   "source": [
    "class Node:\n",
    "    def __init__(self, data):\n",
    "        self.data = data\n",
    "        self.ref = None\n",
    "\n",
    "class LinkedList:\n",
    "    def __init__(self):\n",
    "        self.head = None  # means we have no node empty LinkedList\n",
    "        \n",
    "    def print_LL(self):\n",
    "        if self.head is None:\n",
    "            print(\"LinkedList is empty!\")\n",
    "        else:\n",
    "            n = self.head\n",
    "            while n is not None:\n",
    "                print(n.data)\n",
    "                n = n.ref\n",
    "         \n",
    "        \n",
    "\n",
    "LL1 = LinkedList()\n",
    "LL1.print_LL()\n",
    "        "
   ]
  },
  {
   "cell_type": "code",
   "execution_count": 2,
   "id": "c11678ed",
   "metadata": {},
   "outputs": [
    {
     "name": "stdout",
     "output_type": "stream",
     "text": [
      "10\n"
     ]
    }
   ],
   "source": [
    "class Node:\n",
    "    def __init__(self, data):\n",
    "        self.data = data\n",
    "        self.ref = None\n",
    "\n",
    "class LinkedList:\n",
    "    def __init__(self):\n",
    "        self.head = None  # means we have no node empty LinkedList\n",
    "        \n",
    "    def print_LL(self):\n",
    "        if self.head is None:\n",
    "            print(\"LinkedList is empty!\")\n",
    "        else:\n",
    "            n = self.head\n",
    "            while n is not None:\n",
    "                print(n.data)\n",
    "                n = n.ref\n",
    "    def add_begin(self,data):\n",
    "        new_node = Node(data)\n",
    "        new_node.ref = self.head\n",
    "        self.head = new_node\n",
    "        \n",
    "        \n",
    "\n",
    "LL1 = LinkedList()\n",
    "LL1.add_begin(10)\n",
    "\n",
    "LL1.print_LL()\n",
    "        "
   ]
  },
  {
   "cell_type": "code",
   "execution_count": 3,
   "id": "4433f6ba",
   "metadata": {},
   "outputs": [
    {
     "name": "stdout",
     "output_type": "stream",
     "text": [
      "20\n",
      "10\n"
     ]
    }
   ],
   "source": [
    "### added some another nodes\n",
    "\n",
    "class Node:\n",
    "    def __init__(self, data):\n",
    "        self.data = data\n",
    "        self.ref = None\n",
    "\n",
    "class LinkedList:\n",
    "    def __init__(self):\n",
    "        self.head = None  # means we have no node empty LinkedList\n",
    "        \n",
    "    def print_LL(self):     # Traversal operations\n",
    "        if self.head is None:\n",
    "            print(\"LinkedList is empty!\")\n",
    "        else:\n",
    "            n = self.head\n",
    "            while n is not None:\n",
    "                print(n.data)\n",
    "                n = n.ref\n",
    "                \n",
    "    def add_begin(self,data):\n",
    "        new_node = Node(data)\n",
    "        new_node.ref = self.head\n",
    "        self.head = new_node\n",
    "        \n",
    "        \n",
    "\n",
    "LL1 = LinkedList()\n",
    "LL1.add_begin(10)\n",
    "LL1.add_begin(20)\n",
    "LL1.print_LL()\n",
    "        "
   ]
  },
  {
   "cell_type": "code",
   "execution_count": 4,
   "id": "facfb2f2",
   "metadata": {},
   "outputs": [
    {
     "name": "stdout",
     "output_type": "stream",
     "text": [
      "20\n",
      "10\n",
      "100\n"
     ]
    }
   ],
   "source": [
    "## Adding add_end()\n",
    "\n",
    "class Node:\n",
    "    def __init__(self, data):\n",
    "        self.data = data\n",
    "        self.ref = None\n",
    "\n",
    "class LinkedList:\n",
    "    def __init__(self):\n",
    "        self.head = None  # means we have no node empty LinkedList\n",
    "        \n",
    "    def print_LL(self):     # Traversal operations\n",
    "        if self.head is None:\n",
    "            print(\"LinkedList is empty!\")\n",
    "        else:\n",
    "            n = self.head\n",
    "            while n is not None:\n",
    "                print(n.data)\n",
    "                n = n.ref\n",
    "                \n",
    "    def add_begin(self,data):\n",
    "        new_node = Node(data)\n",
    "        new_node.ref = self.head\n",
    "        self.head = new_node\n",
    "        \n",
    "    def add_end(self, data):\n",
    "        new_node = Node(data)\n",
    "        if self.head is None:\n",
    "            self.head = new_node\n",
    "        else:\n",
    "            n = self.head\n",
    "            while n.ref is not None:\n",
    "                n = n.ref\n",
    "                \n",
    "            n.ref = new_node\n",
    "                \n",
    "        \n",
    "        \n",
    "        \n",
    "\n",
    "LL1 = LinkedList()\n",
    "LL1.add_begin(10)\n",
    "LL1.add_end(100)\n",
    "LL1.add_begin(20)\n",
    "LL1.print_LL()\n",
    "        "
   ]
  },
  {
   "cell_type": "code",
   "execution_count": 5,
   "id": "02f36a49",
   "metadata": {},
   "outputs": [
    {
     "name": "stdout",
     "output_type": "stream",
     "text": [
      "20 ---> 10 ---> 100 ---> "
     ]
    }
   ],
   "source": [
    "## if we want arrow in output\n",
    "\n",
    "## Adding add_end()\n",
    "\n",
    "class Node:\n",
    "    def __init__(self, data):\n",
    "        self.data = data\n",
    "        self.ref = None\n",
    "\n",
    "class LinkedList:\n",
    "    def __init__(self):\n",
    "        self.head = None  # means we have no node empty LinkedList\n",
    "        \n",
    "    def print_LL(self):     # Traversal operations\n",
    "        if self.head is None:\n",
    "            print(\"LinkedList is empty!\")\n",
    "        else:\n",
    "            n = self.head\n",
    "            while n is not None:\n",
    "                print(n.data,\"--->\", end = \" \")\n",
    "                n = n.ref\n",
    "                \n",
    "    def add_begin(self,data):\n",
    "        new_node = Node(data)\n",
    "        new_node.ref = self.head\n",
    "        self.head = new_node\n",
    "        \n",
    "    def add_end(self, data):\n",
    "        new_node = Node(data)\n",
    "        if self.head is None:\n",
    "            self.head = new_node\n",
    "        else:\n",
    "            n = self.head\n",
    "            while n.ref is not None:\n",
    "                n = n.ref\n",
    "                \n",
    "            n.ref = new_node\n",
    "                \n",
    "        \n",
    "        \n",
    "        \n",
    "\n",
    "LL1 = LinkedList()\n",
    "LL1.add_begin(10)\n",
    "LL1.add_end(100)\n",
    "LL1.add_begin(20)\n",
    "LL1.print_LL()\n",
    "        "
   ]
  },
  {
   "cell_type": "markdown",
   "id": "f752fafe",
   "metadata": {},
   "source": [
    "so in this way we can add the element at the beggining and at the end."
   ]
  },
  {
   "cell_type": "code",
   "execution_count": 6,
   "id": "bdb2deee",
   "metadata": {},
   "outputs": [
    {
     "name": "stdout",
     "output_type": "stream",
     "text": [
      "100 ---> "
     ]
    }
   ],
   "source": [
    "# want to add element at the end of the empty Linkedlist\n",
    "\n",
    "class Node:\n",
    "    def __init__(self, data):\n",
    "        self.data = data\n",
    "        self.ref = None\n",
    "\n",
    "class LinkedList:\n",
    "    def __init__(self):\n",
    "        self.head = None  # means we have no node empty LinkedList\n",
    "        \n",
    "    def print_LL(self):     # Traversal operations\n",
    "        if self.head is None:\n",
    "            print(\"LinkedList is empty!\")\n",
    "        else:\n",
    "            n = self.head\n",
    "            while n is not None:\n",
    "                print(n.data,\"--->\", end = \" \")\n",
    "                n = n.ref\n",
    "                \n",
    "    def add_begin(self,data):\n",
    "        new_node = Node(data)\n",
    "        new_node.ref = self.head\n",
    "        self.head = new_node\n",
    "        \n",
    "    def add_end(self, data):\n",
    "        new_node = Node(data)\n",
    "        if self.head is None:\n",
    "            self.head = new_node\n",
    "        else:\n",
    "            n = self.head\n",
    "            while n.ref is not None:\n",
    "                n = n.ref\n",
    "                \n",
    "            n.ref = new_node\n",
    "                \n",
    "        \n",
    "        \n",
    "        \n",
    "\n",
    "LL1 = LinkedList()\n",
    "LL1.add_end(100)\n",
    "LL1.print_LL()\n",
    "        "
   ]
  },
  {
   "cell_type": "markdown",
   "id": "d22fe5be",
   "metadata": {},
   "source": [
    "#### Addnig Elements after the given Node in the Linked List"
   ]
  },
  {
   "cell_type": "code",
   "execution_count": 7,
   "id": "9cd1738b",
   "metadata": {},
   "outputs": [
    {
     "name": "stdout",
     "output_type": "stream",
     "text": [
      "100 ---> 200 ---> "
     ]
    }
   ],
   "source": [
    "# Adding the mwethod add_after\n",
    "class Node:\n",
    "    def __init__(self, data):\n",
    "        self.data = data\n",
    "        self.ref = None\n",
    "\n",
    "class LinkedList:\n",
    "    def __init__(self):\n",
    "        self.head = None  # means we have no node empty LinkedList\n",
    "        \n",
    "    def print_LL(self):     # Traversal operations\n",
    "        if self.head is None:\n",
    "            print(\"LinkedList is empty!\")\n",
    "        else:\n",
    "            n = self.head\n",
    "            while n is not None:\n",
    "                print(n.data,\"--->\", end = \" \")\n",
    "                n = n.ref\n",
    "                \n",
    "    def add_begin(self,data):\n",
    "        new_node = Node(data)\n",
    "        new_node.ref = self.head\n",
    "        self.head = new_node\n",
    "        \n",
    "    def add_end(self, data):\n",
    "        new_node = Node(data)\n",
    "        if self.head is None:\n",
    "            self.head = new_node\n",
    "        else:\n",
    "            n = self.head\n",
    "            while n.ref is not None:\n",
    "                n = n.ref\n",
    "                \n",
    "            n.ref = new_node\n",
    "    def add_after(self, data, x):\n",
    "        n = self.head\n",
    "        while n is not None:\n",
    "            if x == n.data:\n",
    "                break\n",
    "            n = n.ref\n",
    "        if n is None:\n",
    "            print(\"node is not present in LL\")\n",
    "        else:\n",
    "            new_node = Node(data)\n",
    "            new_node.ref = n.ref\n",
    "            n.ref = new_node\n",
    "            \n",
    "            \n",
    "LL1 = LinkedList()\n",
    "LL1.add_end(100)\n",
    "LL1.add_after(200, 100) # here we want add 200 after the 100\n",
    "LL1.print_LL()\n",
    "        "
   ]
  },
  {
   "cell_type": "code",
   "execution_count": 8,
   "id": "ea58729b",
   "metadata": {},
   "outputs": [
    {
     "name": "stdout",
     "output_type": "stream",
     "text": [
      "10 ---> 100 ---> 200 ---> 20 ---> "
     ]
    }
   ],
   "source": [
    "# Adding the mwethod add_after\n",
    "class Node:\n",
    "    def __init__(self, data):\n",
    "        self.data = data\n",
    "        self.ref = None\n",
    "\n",
    "class LinkedList:\n",
    "    def __init__(self):\n",
    "        self.head = None  # means we have no node empty LinkedList\n",
    "        \n",
    "    def print_LL(self):     # Traversal operations\n",
    "        if self.head is None:\n",
    "            print(\"LinkedList is empty!\")\n",
    "        else:\n",
    "            n = self.head\n",
    "            while n is not None:\n",
    "                print(n.data,\"--->\", end = \" \")\n",
    "                n = n.ref\n",
    "                \n",
    "    def add_begin(self,data):\n",
    "        new_node = Node(data)\n",
    "        new_node.ref = self.head\n",
    "        self.head = new_node\n",
    "        \n",
    "    def add_end(self, data):\n",
    "        new_node = Node(data)\n",
    "        if self.head is None:\n",
    "            self.head = new_node\n",
    "        else:\n",
    "            n = self.head\n",
    "            while n.ref is not None:\n",
    "                n = n.ref\n",
    "                \n",
    "            n.ref = new_node\n",
    "    def add_after(self, data, x):\n",
    "        n = self.head\n",
    "        while n is not None:\n",
    "            if x == n.data:\n",
    "                break\n",
    "            n = n.ref\n",
    "        if n is None:\n",
    "            print(\"node is not present in LL\")\n",
    "        else:\n",
    "            new_node = Node(data)\n",
    "            new_node.ref = n.ref\n",
    "            n.ref = new_node\n",
    "            \n",
    "            \n",
    "LL1 = LinkedList()\n",
    "LL1.add_end(100)\n",
    "LL1.add_end(20)\n",
    "LL1.add_begin(10)\n",
    "LL1.add_after(200, 100)# here we want add 200 after the 100 # gave two parameter because(self,data, x)\n",
    "LL1.print_LL()\n",
    "        "
   ]
  },
  {
   "cell_type": "code",
   "execution_count": 9,
   "id": "255da682",
   "metadata": {},
   "outputs": [
    {
     "name": "stdout",
     "output_type": "stream",
     "text": [
      "node is not present in LL\n",
      "10 ---> 100 ---> 20 ---> "
     ]
    }
   ],
   "source": [
    "# Adding the new method add_after()\n",
    "\n",
    "# and when giving the range which is not present in the linkedlist\n",
    "class Node:\n",
    "    def __init__(self, data):\n",
    "        self.data = data\n",
    "        self.ref = None\n",
    "\n",
    "class LinkedList:\n",
    "    def __init__(self):\n",
    "        self.head = None  # means we have no node empty LinkedList\n",
    "        \n",
    "    def print_LL(self):     # Traversal operations\n",
    "        if self.head is None:\n",
    "            print(\"LinkedList is empty!\")\n",
    "        else:\n",
    "            n = self.head\n",
    "            while n is not None:\n",
    "                print(n.data,\"--->\", end = \" \")\n",
    "                n = n.ref\n",
    "                \n",
    "    def add_begin(self,data):\n",
    "        new_node = Node(data)\n",
    "        new_node.ref = self.head\n",
    "        self.head = new_node\n",
    "        \n",
    "    def add_end(self, data):\n",
    "        new_node = Node(data)\n",
    "        if self.head is None:\n",
    "            self.head = new_node\n",
    "        else:\n",
    "            n = self.head\n",
    "            while n.ref is not None:\n",
    "                n = n.ref\n",
    "                \n",
    "            n.ref = new_node\n",
    "    def add_after(self, data, x):\n",
    "        n = self.head\n",
    "        while n is not None:\n",
    "            if x == n.data:\n",
    "                break\n",
    "            n = n.ref\n",
    "        if n is None:\n",
    "            print(\"node is not present in LL\")\n",
    "        else:\n",
    "            new_node = Node(data)\n",
    "            new_node.ref = n.ref\n",
    "            n.ref = new_node\n",
    "            \n",
    "            \n",
    "LL1 = LinkedList()\n",
    "LL1.add_end(100)\n",
    "LL1.add_end(20)\n",
    "LL1.add_begin(10)\n",
    "LL1.add_after(200, 500)#  if data is not present in linkedList\n",
    "LL1.print_LL()\n",
    "        "
   ]
  },
  {
   "cell_type": "markdown",
   "id": "094f1063",
   "metadata": {},
   "source": [
    "#### Addnig Elements before the given Node in the Linked List"
   ]
  },
  {
   "cell_type": "code",
   "execution_count": 10,
   "id": "486f6ddf",
   "metadata": {},
   "outputs": [
    {
     "name": "stdout",
     "output_type": "stream",
     "text": [
      "20 ---> 10 ---> "
     ]
    }
   ],
   "source": [
    "# and when giving the range which is not present in the linkedlist\n",
    "class Node:\n",
    "    def __init__(self, data):\n",
    "        self.data = data\n",
    "        self.ref = None\n",
    "\n",
    "class LinkedList:\n",
    "    def __init__(self):\n",
    "        self.head = None  # means we have no node empty LinkedList\n",
    "        \n",
    "    def print_LL(self):     # Traversal operations\n",
    "        if self.head is None:\n",
    "            print(\"LinkedList is empty!\")\n",
    "        else:\n",
    "            n = self.head\n",
    "            while n is not None:\n",
    "                print(n.data,\"--->\", end = \" \")\n",
    "                n = n.ref\n",
    "                \n",
    "    def add_begin(self,data):\n",
    "        new_node = Node(data)\n",
    "        new_node.ref = self.head\n",
    "        self.head = new_node\n",
    "        \n",
    "    def add_end(self, data):\n",
    "        new_node = Node(data)\n",
    "        if self.head is None:\n",
    "            self.head = new_node\n",
    "        else:\n",
    "            n = self.head\n",
    "            while n.ref is not None:\n",
    "                n = n.ref\n",
    "                \n",
    "            n.ref = new_node\n",
    "    def add_after(self, data, x):\n",
    "        n = self.head\n",
    "        while n is not None:\n",
    "            if x == n.data:\n",
    "                break\n",
    "            n = n.ref\n",
    "        if n is None:\n",
    "            print(\"node is not present in LL\")\n",
    "        else:\n",
    "            new_node = Node(data)\n",
    "            new_node.ref = n.ref\n",
    "            n.ref = new_node\n",
    "    def add_before(self, data, x):# we need to check whether linkedlist is empty, because empty linked\n",
    "                                   # will give error so avoidthis we will use condition \n",
    "        if self.head is None:\n",
    "            print(\"LinkedList is empty!\")\n",
    "            return\n",
    "        \n",
    "        if self.head.data == x:\n",
    "            new_node = Node(data)\n",
    "            new_node.ref = self.head\n",
    "            self.head = new_node\n",
    "            return\n",
    "        n = self.head\n",
    "        while n.ref is not None:\n",
    "            if n.ref.data == x:\n",
    "                break\n",
    "            n = n.ref\n",
    "        if n.ref is None:\n",
    "            print(\"Node is not found!\")\n",
    "        else:\n",
    "            new_node = Node(data)\n",
    "            new_node.ref = self.head\n",
    "            self.head = new_node\n",
    "            \n",
    "        \n",
    "        \n",
    "            \n",
    "            \n",
    "            \n",
    "LL1 = LinkedList()\n",
    "LL1.add_begin(10)\n",
    "LL1.add_before(20, 10) # here we want add 20 before 10\n",
    "LL1.print_LL()\n",
    "        "
   ]
  },
  {
   "cell_type": "code",
   "execution_count": 14,
   "id": "1a073ba4",
   "metadata": {},
   "outputs": [
    {
     "name": "stdout",
     "output_type": "stream",
     "text": [
      "30 ---> 20 ---> 10 ---> "
     ]
    }
   ],
   "source": [
    "# and when giving the range which is not present in the linkedlist\n",
    "class Node:\n",
    "    def __init__(self, data):\n",
    "        self.data = data\n",
    "        self.ref = None\n",
    "\n",
    "class LinkedList:\n",
    "    def __init__(self):\n",
    "        self.head = None  # means we have no node empty LinkedList\n",
    "        \n",
    "    def print_LL(self):     # Traversal operations\n",
    "        if self.head is None:\n",
    "            print(\"LinkedList is empty!\")\n",
    "        else:\n",
    "            n = self.head\n",
    "            while n is not None:\n",
    "                print(n.data,\"--->\", end = \" \")\n",
    "                n = n.ref\n",
    "                \n",
    "    def add_begin(self,data):\n",
    "        new_node = Node(data)\n",
    "        new_node.ref = self.head\n",
    "        self.head = new_node\n",
    "        \n",
    "    def add_end(self, data):\n",
    "        new_node = Node(data)\n",
    "        if self.head is None:\n",
    "            self.head = new_node\n",
    "        else:\n",
    "            n = self.head\n",
    "            while n.ref is not None:\n",
    "                n = n.ref\n",
    "                \n",
    "            n.ref = new_node\n",
    "    def add_after(self, data, x):\n",
    "        n = self.head\n",
    "        while n is not None:\n",
    "            if x == n.data:\n",
    "                break\n",
    "            n = n.ref\n",
    "        if n is None:\n",
    "            print(\"node is not present in LL\")\n",
    "        else:\n",
    "            new_node = Node(data)\n",
    "            new_node.ref = n.ref\n",
    "            n.ref = new_node\n",
    "    def add_before(self, data, x):# we need to check whether linkedlist is empty, because empty linked\n",
    "                                   # will give error so avoidthis we will use condition \n",
    "        if self.head is None:\n",
    "            print(\"LinkedList is empty!\")\n",
    "            return\n",
    "        \n",
    "        if self.head.data == x:\n",
    "            new_node = Node(data)\n",
    "            new_node.ref = self.head\n",
    "            self.head = new_node\n",
    "            return\n",
    "        n = self.head\n",
    "        while n.ref is not None:\n",
    "            if n.ref.data == x:\n",
    "                break\n",
    "            n = n.ref\n",
    "        if n.ref is None:\n",
    "            print(\"Node is not found!\")\n",
    "        else:\n",
    "            new_node = Node(data)\n",
    "            new_node.ref = self.head\n",
    "            self.head = new_node\n",
    "            \n",
    "        \n",
    "        \n",
    "            \n",
    "            \n",
    "            \n",
    "LL1 = LinkedList()\n",
    "LL1.add_begin(10)\n",
    "LL1.add_before(20, 10) #\n",
    "LL1.add_before(30,10) # here we want add 30 before 10\n",
    "LL1.print_LL()\n",
    "        "
   ]
  },
  {
   "cell_type": "code",
   "execution_count": 15,
   "id": "82091e3d",
   "metadata": {},
   "outputs": [
    {
     "name": "stdout",
     "output_type": "stream",
     "text": [
      "Node is not found!\n",
      "10 ---> "
     ]
    }
   ],
   "source": [
    "#### if node is not present in the linkedlist\n",
    "# and when giving the range which is not present in the linkedlist\n",
    "class Node:\n",
    "    def __init__(self, data):\n",
    "        self.data = data\n",
    "        self.ref = None\n",
    "\n",
    "class LinkedList:\n",
    "    def __init__(self):\n",
    "        self.head = None  # means we have no node empty LinkedList\n",
    "        \n",
    "    def print_LL(self):     # Traversal operations\n",
    "        if self.head is None:\n",
    "            print(\"LinkedList is empty!\")\n",
    "        else:\n",
    "            n = self.head\n",
    "            while n is not None:\n",
    "                print(n.data,\"--->\", end = \" \")\n",
    "                n = n.ref\n",
    "                \n",
    "    def add_begin(self,data):\n",
    "        new_node = Node(data)\n",
    "        new_node.ref = self.head\n",
    "        self.head = new_node\n",
    "        \n",
    "    def add_end(self, data):\n",
    "        new_node = Node(data)\n",
    "        if self.head is None:\n",
    "            self.head = new_node\n",
    "        else:\n",
    "            n = self.head\n",
    "            while n.ref is not None:\n",
    "                n = n.ref\n",
    "                \n",
    "            n.ref = new_node\n",
    "    def add_after(self, data, x):\n",
    "        n = self.head\n",
    "        while n is not None:\n",
    "            if x == n.data:\n",
    "                break\n",
    "            n = n.ref\n",
    "        if n is None:\n",
    "            print(\"node is not present in LL\")\n",
    "        else:\n",
    "            new_node = Node(data)\n",
    "            new_node.ref = n.ref\n",
    "            n.ref = new_node\n",
    "    def add_before(self, data, x):# we need to check whether linkedlist is empty, because empty linked\n",
    "                                   # will give error so avoidthis we will use condition \n",
    "        if self.head is None:\n",
    "            print(\"LinkedList is empty!\")\n",
    "            return\n",
    "        \n",
    "        if self.head.data == x:\n",
    "            new_node = Node(data)\n",
    "            new_node.ref = self.head\n",
    "            self.head = new_node\n",
    "            return\n",
    "        n = self.head\n",
    "        while n.ref is not None:\n",
    "            if n.ref.data == x:\n",
    "                break\n",
    "            n = n.ref\n",
    "        if n.ref is None:\n",
    "            print(\"Node is not found!\")\n",
    "        else:\n",
    "            new_node = Node(data)\n",
    "            new_node.ref = self.head\n",
    "            self.head = new_node\n",
    "            \n",
    "        \n",
    "        \n",
    "            \n",
    "            \n",
    "            \n",
    "LL1 = LinkedList()\n",
    "LL1.add_begin(10)\n",
    "LL1.add_before(20, 300) # here we want add 20 before 300 which is not present in the linked list\n",
    "LL1.print_LL()\n",
    "        "
   ]
  },
  {
   "cell_type": "code",
   "execution_count": 16,
   "id": "d52edc34",
   "metadata": {},
   "outputs": [
    {
     "name": "stdout",
     "output_type": "stream",
     "text": [
      "LinkedList is empty!\n",
      "LinkedList is empty!\n"
     ]
    }
   ],
   "source": [
    "# if No node is present \n",
    "# and when giving the range which is not present in the linkedlist\n",
    "class Node:\n",
    "    def __init__(self, data):\n",
    "        self.data = data\n",
    "        self.ref = None\n",
    "\n",
    "class LinkedList:\n",
    "    def __init__(self):\n",
    "        self.head = None  # means we have no node empty LinkedList\n",
    "        \n",
    "    def print_LL(self):     # Traversal operations\n",
    "        if self.head is None:\n",
    "            print(\"LinkedList is empty!\")\n",
    "        else:\n",
    "            n = self.head\n",
    "            while n is not None:\n",
    "                print(n.data,\"--->\", end = \" \")\n",
    "                n = n.ref\n",
    "                \n",
    "    def add_begin(self,data):\n",
    "        new_node = Node(data)\n",
    "        new_node.ref = self.head\n",
    "        self.head = new_node\n",
    "        \n",
    "    def add_end(self, data):\n",
    "        new_node = Node(data)\n",
    "        if self.head is None:\n",
    "            self.head = new_node\n",
    "        else:\n",
    "            n = self.head\n",
    "            while n.ref is not None:\n",
    "                n = n.ref\n",
    "                \n",
    "            n.ref = new_node\n",
    "    def add_after(self, data, x):\n",
    "        n = self.head\n",
    "        while n is not None:\n",
    "            if x == n.data:\n",
    "                break\n",
    "            n = n.ref\n",
    "        if n is None:\n",
    "            print(\"node is not present in LL\")\n",
    "        else:\n",
    "            new_node = Node(data)\n",
    "            new_node.ref = n.ref\n",
    "            n.ref = new_node\n",
    "    def add_before(self, data, x):# we need to check whether linkedlist is empty, because empty linked\n",
    "                                   # will give error so avoidthis we will use condition \n",
    "        if self.head is None:\n",
    "            print(\"LinkedList is empty!\")\n",
    "            return\n",
    "        \n",
    "        if self.head.data == x:\n",
    "            new_node = Node(data)\n",
    "            new_node.ref = self.head\n",
    "            self.head = new_node\n",
    "            return\n",
    "        n = self.head\n",
    "        while n.ref is not None:\n",
    "            if n.ref.data == x:\n",
    "                break\n",
    "            n = n.ref\n",
    "        if n.ref is None:\n",
    "            print(\"Node is not found!\")\n",
    "        else:\n",
    "            new_node = Node(data)\n",
    "            new_node.ref = self.head\n",
    "            self.head = new_node\n",
    "            \n",
    "        \n",
    "        \n",
    "            \n",
    "            \n",
    "            \n",
    "LL1 = LinkedList()\n",
    "\n",
    "LL1.add_before(20, 10) # here we want add 20 before 10\n",
    "LL1.print_LL()\n",
    "        "
   ]
  },
  {
   "cell_type": "code",
   "execution_count": null,
   "id": "2dc74386",
   "metadata": {},
   "outputs": [],
   "source": []
  }
 ],
 "metadata": {
  "kernelspec": {
   "display_name": "Python 3 (ipykernel)",
   "language": "python",
   "name": "python3"
  },
  "language_info": {
   "codemirror_mode": {
    "name": "ipython",
    "version": 3
   },
   "file_extension": ".py",
   "mimetype": "text/x-python",
   "name": "python",
   "nbconvert_exporter": "python",
   "pygments_lexer": "ipython3",
   "version": "3.9.7"
  }
 },
 "nbformat": 4,
 "nbformat_minor": 5
}
