{
 "cells": [
  {
   "cell_type": "markdown",
   "id": "1df8eeb7",
   "metadata": {},
   "source": [
    "### Binary Heap :\n",
    "\n",
    "`Binary heap is specialised tree based data structure and there are several variants of heaps\n",
    "like - Binary heap, Binomial heap, Fibonacci heap.`\n",
    "\n",
    "`Complete Binary tree which satisfies the heap property`.\n",
    "`(complete Binary - type of binary tree in which all the level except last level is completely filled with nodes and last level can be completely filled or nodes are filled from left to right)`\n",
    "\n",
    "#### Heap Property :\n",
    "\n",
    "`Property of a node in which key of every parent node need to be lesser than or equal to or greater than or equal to the child node's key.`\n",
    "\n",
    "#### Min heap / Min Binary Heap :\n",
    "\n",
    "`Complete Binary Tree, where the key of every parent node is less than or equal to child node's key.`\n",
    "\n",
    "#### Max Heap / Max Binary Heap :\n",
    "\n",
    "`Complete Binary Tree, where the key of every parent node is greater than or equal to child node's key.`\n",
    "\n",
    "\n",
    "`A binary heap is another term for a heap. If you’re using the max heap, the parent node is always bigger than or equal to the child node. It is also important to note that a parent node is always less than or equal to a child node in the min-heap.`\n",
    "\n",
    "\n",
    "### Use of Binary Heap:\n",
    "\n",
    "1. To implement priority queue.\n",
    "2. In heap sort algorithm.\n",
    "3. To find kth largest or smallest element in list of numbers.\n",
    "\n",
    "\n",
    "#### Binary Heap Operation :\n",
    "#### Heapify:\n",
    "it is the process to rearrange the elements of the heap in order to maintain the heap property.\n",
    "\n",
    "* Make sure that every node of tree follows heap property.\n",
    "* used to create binary heap from a complete binary tree.\n",
    "##### When we need to perform Heapify Operation:\n",
    "\n",
    "1. During Insertion Operation.\n",
    "2. During Deletion Operation.\n",
    "3. While creating a binary heap from given array.\n",
    "we can perform this Heapify operation in two ways\n",
    "1. Heapify-up.\n",
    "2. Heapify-down.\n",
    "\n",
    "#### Name related to Heapify_down:\n",
    "\n",
    "* down_heap\n",
    "* bubble_down\n",
    "* percolate_down\n",
    "* sift_down\n",
    "* extract_min / extract_max\n",
    "* sink_down\n",
    "\n",
    "\n",
    "### Insertion operation in Binary Heap:\n",
    "`Inserting a new node to binary heap by maintaining its properties.`\n",
    "to perform this the steps are:\n",
    "\n",
    "* 1. add the new node to first open spot available in the lower level\n",
    "* 2. Heapify the new node\n",
    "\n",
    "\n",
    "### Deletion Operation for all nodes except root node in Binary Heap:\n",
    "\n",
    "1. swap the node we want to delete with the last node.\n",
    "2. then delete the last node.\n",
    "3. Heapify replacement node:\n",
    "if replacement node is less than parent node(for min heap) then swap and repeat step 3\n",
    "else : swap replacement node with smallest child(for min heap) and repeat step3.\n",
    "\n",
    "### Deletion method for the root node:\n",
    "\n",
    "1. swap the node which you want to delete with the last node.\n",
    "2. Remove last node.\n",
    "3. heapify replacement node:\n",
    "if replacement node follows heap property : don't worry stop\n",
    "else: swap replacement node with smallest child (for min heap) and repeat step 3.\n",
    "\n",
    "\n",
    "\n",
    "#### Extract Min/Max key\n",
    "#### Get Min/Max key\n",
    "\n",
    "\n",
    "\n",
    "### Binary Heap Operations:\n",
    "\n",
    "#### 1.    Heapify\n",
    "#### 2.    Insertion\n",
    "#### 3.    Deletion \n",
    "#### 4.    Extract Min/Max\n",
    "#### 5.    get min/max\n",
    "\n",
    "\n",
    "\n",
    "\n",
    "\n",
    "\n"
   ]
  },
  {
   "cell_type": "markdown",
   "id": "b8544120",
   "metadata": {},
   "source": [
    "### Creating Binary Heap:\n",
    "\n",
    "#### 1. Method:\n",
    "* Take empty Heap\n",
    "* Insert element of the list to heap one by one\n",
    "* after inserting one element check whether it is following heap properties or not.\n",
    "\n",
    "\n",
    "#### 2. Method:\n",
    "* First create complete binary tree using given list of numbers. \n",
    "* then start heapifying tree: start from the last leaf node.\n",
    "\n",
    "we can improvewise this method \n",
    "* then start heapifying tree: Start from last internal node.\n",
    "\n",
    "\n",
    "\n",
    "#### Binary Heap representation:\n",
    "* represent in list then index 0 will be root node and index 1 will be lchild and index 2 will be rchild\n",
    "\n",
    "* `formula for finding ith index value in list is list[i] so similaraly\n",
    " for Parent -> (i-1)//2\n",
    " lchild -> (2*i) + 1\n",
    " rchild -> (2*i) + 2`"
   ]
  },
  {
   "cell_type": "markdown",
   "id": "96ea9482",
   "metadata": {},
   "source": [
    "### Heapq Module\n",
    "\n",
    "This is python module which provide the implementation of main heap, this module make use of Binary heap data structure and this module provide many function which are helpful to implement priority queues or to find the smallest or largest number in given iterables.\n",
    "\n",
    "To use Heapq no need to install it just import it when you need it.\n",
    "\n"
   ]
  },
  {
   "cell_type": "code",
   "execution_count": 1,
   "id": "6d7b0d2d",
   "metadata": {},
   "outputs": [],
   "source": [
    "import heapq"
   ]
  },
  {
   "cell_type": "markdown",
   "id": "3083fa93",
   "metadata": {},
   "source": [
    "### Heapq function:\n",
    "\n",
    "#### 1.  heappush:\n",
    "the first function is 'heappush', this function will enter the item onto heap and maintaining the heap property(min heap property). \n",
    "\n",
    "`syntax : heapq.heappush(heap, item)`"
   ]
  },
  {
   "cell_type": "code",
   "execution_count": 2,
   "id": "c9651096",
   "metadata": {},
   "outputs": [],
   "source": [
    "import heapq\n",
    "\n",
    "heap = []\n",
    "\n",
    "heapq.heappush(heap, 10)"
   ]
  },
  {
   "cell_type": "code",
   "execution_count": 3,
   "id": "eed7d134",
   "metadata": {},
   "outputs": [
    {
     "data": {
      "text/plain": [
       "[10]"
      ]
     },
     "execution_count": 3,
     "metadata": {},
     "output_type": "execute_result"
    }
   ],
   "source": [
    "heap"
   ]
  },
  {
   "cell_type": "code",
   "execution_count": 4,
   "id": "83aedf12",
   "metadata": {},
   "outputs": [
    {
     "data": {
      "text/plain": [
       "[1, 10]"
      ]
     },
     "execution_count": 4,
     "metadata": {},
     "output_type": "execute_result"
    }
   ],
   "source": [
    "# now if we push another item \n",
    "heapq.heappush(heap, 1)\n",
    "heap"
   ]
  },
  {
   "cell_type": "markdown",
   "id": "7ab39579",
   "metadata": {},
   "source": [
    "As we can see that it follows the min heap property i.e. why we got heap in this order."
   ]
  },
  {
   "cell_type": "code",
   "execution_count": 5,
   "id": "077a18a8",
   "metadata": {},
   "outputs": [
    {
     "data": {
      "text/plain": [
       "[1, 10, 5]"
      ]
     },
     "execution_count": 5,
     "metadata": {},
     "output_type": "execute_result"
    }
   ],
   "source": [
    "heapq.heappush(heap, 5)\n",
    "heap"
   ]
  },
  {
   "cell_type": "markdown",
   "id": "3e4dff50",
   "metadata": {},
   "source": [
    "#### 2. Heappop :\n",
    "\n",
    "This function will return the smallest value and also it will delete that from heap, maintaining the Binary heap property.\n",
    "\n",
    "`syntax : heapq.heappop(heap)`"
   ]
  },
  {
   "cell_type": "code",
   "execution_count": 6,
   "id": "d4c479e0",
   "metadata": {},
   "outputs": [
    {
     "data": {
      "text/plain": [
       "1"
      ]
     },
     "execution_count": 6,
     "metadata": {},
     "output_type": "execute_result"
    }
   ],
   "source": [
    "heapq.heappop(heap)"
   ]
  },
  {
   "cell_type": "markdown",
   "id": "47ffebb2",
   "metadata": {},
   "source": [
    "As we can see that heappop return minimum value and it will delete that value as well."
   ]
  },
  {
   "cell_type": "code",
   "execution_count": 8,
   "id": "d4a5b5cc",
   "metadata": {},
   "outputs": [
    {
     "data": {
      "text/plain": [
       "[5, 10]"
      ]
     },
     "execution_count": 8,
     "metadata": {},
     "output_type": "execute_result"
    }
   ],
   "source": [
    "heap"
   ]
  },
  {
   "cell_type": "code",
   "execution_count": 9,
   "id": "3fd2e191",
   "metadata": {},
   "outputs": [
    {
     "data": {
      "text/plain": [
       "5"
      ]
     },
     "execution_count": 9,
     "metadata": {},
     "output_type": "execute_result"
    }
   ],
   "source": [
    "heapq.heappop(heap)"
   ]
  },
  {
   "cell_type": "code",
   "execution_count": 10,
   "id": "24d0f5fe",
   "metadata": {},
   "outputs": [
    {
     "data": {
      "text/plain": [
       "[10]"
      ]
     },
     "execution_count": 10,
     "metadata": {},
     "output_type": "execute_result"
    }
   ],
   "source": [
    "heap"
   ]
  },
  {
   "cell_type": "markdown",
   "id": "7049a8b0",
   "metadata": {},
   "source": [
    "#### 3.  Heapify:\n",
    "\n",
    "This function will convert the given list into Binary Heap.\n",
    "\n",
    "`syntax: heapq.heapify(heap)`"
   ]
  },
  {
   "cell_type": "code",
   "execution_count": 11,
   "id": "0bae1c61",
   "metadata": {},
   "outputs": [],
   "source": [
    "import heapq"
   ]
  },
  {
   "cell_type": "code",
   "execution_count": 12,
   "id": "58e1b8de",
   "metadata": {},
   "outputs": [],
   "source": [
    "# let's take a normal list and convert it into binary heap by using 'heapify' of heapq funciton\n",
    "\n",
    "list1 = [1,3,5,2,4,6]\n",
    "# now convert it into binary heap \n",
    "heapq.heapify(list1)"
   ]
  },
  {
   "cell_type": "code",
   "execution_count": 13,
   "id": "30fba1fb",
   "metadata": {},
   "outputs": [
    {
     "data": {
      "text/plain": [
       "[1, 2, 5, 3, 4, 6]"
      ]
     },
     "execution_count": 13,
     "metadata": {},
     "output_type": "execute_result"
    }
   ],
   "source": [
    "list1"
   ]
  },
  {
   "cell_type": "markdown",
   "id": "49a30ea3",
   "metadata": {},
   "source": [
    "As we can see now list1 has been converted into binary min heap."
   ]
  },
  {
   "cell_type": "markdown",
   "id": "2b2f91f7",
   "metadata": {},
   "source": [
    "#### 4. heappushpop:\n",
    "* this function do both push and pop in single operation.\n",
    "* first this function will push/insert the mentioned item by maintaining the binary min heap property.\n",
    "\n",
    "* After that it will return the smallest value from the heap and also delete that value.\n",
    "\n",
    "`syntax : heapq.heappushpop(heap, item)`"
   ]
  },
  {
   "cell_type": "code",
   "execution_count": 19,
   "id": "787419e7",
   "metadata": {},
   "outputs": [
    {
     "data": {
      "text/plain": [
       "[1, 2, 5, 3, 4, 6]"
      ]
     },
     "execution_count": 19,
     "metadata": {},
     "output_type": "execute_result"
    }
   ],
   "source": [
    "import heapq\n",
    "list1 = [1,3,5,2,4,6]\n",
    "# now convert it into binary heap \n",
    "heapq.heapify(list1)\n",
    "list1"
   ]
  },
  {
   "cell_type": "code",
   "execution_count": 20,
   "id": "9b0d004b",
   "metadata": {},
   "outputs": [
    {
     "data": {
      "text/plain": [
       "1"
      ]
     },
     "execution_count": 20,
     "metadata": {},
     "output_type": "execute_result"
    }
   ],
   "source": [
    "heapq.heappushpop(list1, 89)\n"
   ]
  },
  {
   "cell_type": "code",
   "execution_count": 21,
   "id": "af20fa02",
   "metadata": {},
   "outputs": [
    {
     "data": {
      "text/plain": [
       "[2, 3, 5, 89, 4, 6]"
      ]
     },
     "execution_count": 21,
     "metadata": {},
     "output_type": "execute_result"
    }
   ],
   "source": [
    "list1"
   ]
  },
  {
   "cell_type": "markdown",
   "id": "415988a6",
   "metadata": {},
   "source": [
    "As we can see that smallest item 1, has been deleted and item 89 has been push by maintaining the binary min heap property."
   ]
  },
  {
   "cell_type": "markdown",
   "id": "ce09214b",
   "metadata": {},
   "source": [
    "#### 5. heapreplace:\n",
    "\n",
    "* First this function pop the smallest element then it will insert the new element.\n",
    "* avoid confusion between pushpop and heapreplace we need to understand that in pushpop method first push operaton happens and after that pop operation while in heapreplace method first replace operation occurs then pop method.\n",
    "* it will be more clear when we push smallest value then all the this will be clear.\n",
    "\n",
    "`syntax : heapq.heapreplace(heap, item)`"
   ]
  },
  {
   "cell_type": "code",
   "execution_count": 22,
   "id": "b16b1624",
   "metadata": {},
   "outputs": [
    {
     "data": {
      "text/plain": [
       "2"
      ]
     },
     "execution_count": 22,
     "metadata": {},
     "output_type": "execute_result"
    }
   ],
   "source": [
    "heapq.heapreplace(list1, 100)"
   ]
  },
  {
   "cell_type": "code",
   "execution_count": 23,
   "id": "8f87ee09",
   "metadata": {},
   "outputs": [
    {
     "data": {
      "text/plain": [
       "[3, 4, 5, 89, 100, 6]"
      ]
     },
     "execution_count": 23,
     "metadata": {},
     "output_type": "execute_result"
    }
   ],
   "source": [
    "list1"
   ]
  },
  {
   "cell_type": "code",
   "execution_count": 24,
   "id": "39d62019",
   "metadata": {},
   "outputs": [
    {
     "data": {
      "text/plain": [
       "3"
      ]
     },
     "execution_count": 24,
     "metadata": {},
     "output_type": "execute_result"
    }
   ],
   "source": [
    "# now let's add smaller item than present item in heap \n",
    "\n",
    "heapq.heapreplace(list1, 1)"
   ]
  },
  {
   "cell_type": "code",
   "execution_count": 25,
   "id": "ab51729f",
   "metadata": {},
   "outputs": [
    {
     "data": {
      "text/plain": [
       "[1, 4, 5, 89, 100, 6]"
      ]
     },
     "execution_count": 25,
     "metadata": {},
     "output_type": "execute_result"
    }
   ],
   "source": [
    "list1"
   ]
  },
  {
   "cell_type": "markdown",
   "id": "56094d3e",
   "metadata": {},
   "source": [
    "Now we can see the difference we insert smaller item but heapreplace method pop smallest first then replace element."
   ]
  },
  {
   "cell_type": "code",
   "execution_count": 26,
   "id": "2c419b96",
   "metadata": {},
   "outputs": [],
   "source": [
    "# let's take same example with pushpop opation\n",
    "\n",
    "list1 = [3, 4, 5, 89, 100, 6]\n",
    "import heapq\n",
    "# first make this list as a heap by 'heapify'\n",
    "heapq.heapify(list1)"
   ]
  },
  {
   "cell_type": "code",
   "execution_count": 27,
   "id": "bc0d7b51",
   "metadata": {},
   "outputs": [
    {
     "data": {
      "text/plain": [
       "[3, 4, 5, 89, 100, 6]"
      ]
     },
     "execution_count": 27,
     "metadata": {},
     "output_type": "execute_result"
    }
   ],
   "source": [
    "list1"
   ]
  },
  {
   "cell_type": "code",
   "execution_count": 28,
   "id": "8c0b6860",
   "metadata": {},
   "outputs": [
    {
     "data": {
      "text/plain": [
       "1"
      ]
     },
     "execution_count": 28,
     "metadata": {},
     "output_type": "execute_result"
    }
   ],
   "source": [
    "# now add smaller value than the values present in heap to clear the pushpop operation\n",
    "heapq.heappushpop(list1, 1)"
   ]
  },
  {
   "cell_type": "code",
   "execution_count": 29,
   "id": "d2fdb89a",
   "metadata": {},
   "outputs": [
    {
     "data": {
      "text/plain": [
       "[3, 4, 5, 89, 100, 6]"
      ]
     },
     "execution_count": 29,
     "metadata": {},
     "output_type": "execute_result"
    }
   ],
   "source": [
    "list1"
   ]
  },
  {
   "cell_type": "markdown",
   "id": "f1da1770",
   "metadata": {},
   "source": [
    "As we can see first push operation occured because 1 was the smaller value than the previous values present in the heap so it make clear that first push operation occurs and after that pop operation in heappushpop meathod."
   ]
  },
  {
   "cell_type": "markdown",
   "id": "f4d118eb",
   "metadata": {},
   "source": [
    "#### 6. nsmallest:\n",
    "\n",
    "* This function will return n smallest number in given iterable.\n",
    "\n",
    "`syntax : heapq.nsmallest(n, iterable, key = None) #same like sorted method`."
   ]
  },
  {
   "cell_type": "code",
   "execution_count": 31,
   "id": "f7428bf8",
   "metadata": {},
   "outputs": [
    {
     "data": {
      "text/plain": [
       "[1, 2]"
      ]
     },
     "execution_count": 31,
     "metadata": {},
     "output_type": "execute_result"
    }
   ],
   "source": [
    "import heapq\n",
    "heap = [1,20,5,4,3,6,2]\n",
    "heapq.nsmallest(2, heap)"
   ]
  },
  {
   "cell_type": "code",
   "execution_count": 32,
   "id": "b540727f",
   "metadata": {},
   "outputs": [
    {
     "data": {
      "text/plain": [
       "[1, 2, 3, 4]"
      ]
     },
     "execution_count": 32,
     "metadata": {},
     "output_type": "execute_result"
    }
   ],
   "source": [
    "import heapq\n",
    "heap = [1,20,5,4,3,6,2] # As this is not a heap here \n",
    "heapq.nsmallest(4, heap)"
   ]
  },
  {
   "cell_type": "code",
   "execution_count": 33,
   "id": "2796c550",
   "metadata": {},
   "outputs": [
    {
     "data": {
      "text/plain": [
       "[1, 2]"
      ]
     },
     "execution_count": 33,
     "metadata": {},
     "output_type": "execute_result"
    }
   ],
   "source": [
    "# now after 'heapify' the list\n",
    "import heapq\n",
    "heap = [1,20,5,4,3,6,2]\n",
    "heapq.heapify(heap)\n",
    "\n",
    "heapq.nsmallest(2, heap)"
   ]
  },
  {
   "cell_type": "code",
   "execution_count": 34,
   "id": "def88c8e",
   "metadata": {},
   "outputs": [
    {
     "data": {
      "text/plain": [
       "[1, 3, 2, 4, 20, 6, 5]"
      ]
     },
     "execution_count": 34,
     "metadata": {},
     "output_type": "execute_result"
    }
   ],
   "source": [
    "heap"
   ]
  },
  {
   "cell_type": "markdown",
   "id": "78d9865f",
   "metadata": {},
   "source": [
    "#### 6. nlargest:\n",
    "\n",
    "* This function will return n largest number in given iterable.\n",
    "\n",
    "`syntax : heapq.nlargest(n, iterable, key = None) #same like sorted method`."
   ]
  },
  {
   "cell_type": "code",
   "execution_count": 35,
   "id": "8b74260d",
   "metadata": {},
   "outputs": [
    {
     "data": {
      "text/plain": [
       "[20, 6, 5]"
      ]
     },
     "execution_count": 35,
     "metadata": {},
     "output_type": "execute_result"
    }
   ],
   "source": [
    "heapq.nlargest(3, heap)"
   ]
  },
  {
   "cell_type": "markdown",
   "id": "e5dbffba",
   "metadata": {},
   "source": [
    "#### Use priority queue in heap :\n",
    "\n",
    "* in this will take priority tuple in list.\n",
    "* as we know heapq module works on min binary heap property so in list smallest value will have the highest priority.\n",
    "\n",
    "* means when we perform pop method then smallest value will be delete first means highest priority will be deleted first."
   ]
  },
  {
   "cell_type": "code",
   "execution_count": 36,
   "id": "77d09745",
   "metadata": {},
   "outputs": [
    {
     "name": "stdout",
     "output_type": "stream",
     "text": [
      "[(1, 'ria'), (4, 'sia'), (3, 'gia')]\n"
     ]
    }
   ],
   "source": [
    "# let's make priority Queue\n",
    "\n",
    "import heapq\n",
    "list1 = [(1, \"ria\"), (4, \"sia\"), (3, \"gia\")]\n",
    "heapq.heapify(list1)\n",
    "print(list1)"
   ]
  },
  {
   "cell_type": "code",
   "execution_count": 38,
   "id": "7cfcd94c",
   "metadata": {},
   "outputs": [
    {
     "name": "stdout",
     "output_type": "stream",
     "text": [
      "[(1, 'ria'), (4, 'sia'), (3, 'gia')]\n",
      "\n",
      "(1, 'ria')\n",
      "(3, 'gia')\n",
      "(4, 'sia')\n"
     ]
    }
   ],
   "source": [
    "# now let's see pop operation on priority basis\n",
    "import heapq\n",
    "list1 = [(1, \"ria\"), (4, \"sia\"), (3, \"gia\")]\n",
    "heapq.heapify(list1)\n",
    "print(list1)\n",
    "print()\n",
    "for i in range(len(list1)):\n",
    "    print(heapq.heappop(list1))"
   ]
  },
  {
   "cell_type": "markdown",
   "id": "dece3d07",
   "metadata": {},
   "source": [
    "😊👍🌻"
   ]
  }
 ],
 "metadata": {
  "kernelspec": {
   "display_name": "Python 3 (ipykernel)",
   "language": "python",
   "name": "python3"
  },
  "language_info": {
   "codemirror_mode": {
    "name": "ipython",
    "version": 3
   },
   "file_extension": ".py",
   "mimetype": "text/x-python",
   "name": "python",
   "nbconvert_exporter": "python",
   "pygments_lexer": "ipython3",
   "version": "3.9.7"
  }
 },
 "nbformat": 4,
 "nbformat_minor": 5
}
