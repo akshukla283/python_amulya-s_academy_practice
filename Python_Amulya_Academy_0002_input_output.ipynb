{
 "cells": [
  {
   "cell_type": "markdown",
   "id": "5b895d81",
   "metadata": {},
   "source": [
    "#### Input"
   ]
  },
  {
   "cell_type": "code",
   "execution_count": 1,
   "id": "a6768eb0",
   "metadata": {},
   "outputs": [
    {
     "name": "stdout",
     "output_type": "stream",
     "text": [
      "90\n"
     ]
    },
    {
     "data": {
      "text/plain": [
       "'90'"
      ]
     },
     "execution_count": 1,
     "metadata": {},
     "output_type": "execute_result"
    }
   ],
   "source": [
    "input()"
   ]
  },
  {
   "cell_type": "code",
   "execution_count": 2,
   "id": "795a1d2d",
   "metadata": {},
   "outputs": [
    {
     "name": "stdout",
     "output_type": "stream",
     "text": [
      "Please enter your name: Ankit\n"
     ]
    },
    {
     "data": {
      "text/plain": [
       "'Ankit'"
      ]
     },
     "execution_count": 2,
     "metadata": {},
     "output_type": "execute_result"
    }
   ],
   "source": [
    "input(\"Please enter your name: \")"
   ]
  },
  {
   "cell_type": "markdown",
   "id": "ce7142a8",
   "metadata": {},
   "source": [
    "#### Output\n",
    "\n",
    "using output function we give value to the screen."
   ]
  },
  {
   "cell_type": "code",
   "execution_count": 3,
   "id": "b594324f",
   "metadata": {},
   "outputs": [
    {
     "name": "stdout",
     "output_type": "stream",
     "text": [
      "Hello\n"
     ]
    }
   ],
   "source": [
    "print(\"Hello\")"
   ]
  },
  {
   "cell_type": "code",
   "execution_count": 4,
   "id": "3a1a90ea",
   "metadata": {},
   "outputs": [
    {
     "name": "stdout",
     "output_type": "stream",
     "text": [
      "11\n"
     ]
    }
   ],
   "source": [
    "var = 11\n",
    "\n",
    "\n",
    "print(var)"
   ]
  },
  {
   "cell_type": "code",
   "execution_count": 6,
   "id": "f238baee",
   "metadata": {},
   "outputs": [
    {
     "name": "stdout",
     "output_type": "stream",
     "text": [
      "Enter the name: Ankit\n",
      "Wlcome\n",
      "hello Ankit\n"
     ]
    }
   ],
   "source": [
    "name = input(\"Enter the name: \")\n",
    "print(\"Wlcome\")\n",
    "print(\"hello\", name)"
   ]
  },
  {
   "cell_type": "markdown",
   "id": "c34ce858",
   "metadata": {},
   "source": [
    "#### Comments\n",
    "\n",
    "`#` comments are nothing just a description about program or some we don't want to run, because when we coment something that will be ignore by interpreter during run time  "
   ]
  },
  {
   "cell_type": "markdown",
   "id": "496b4c62",
   "metadata": {},
   "source": [
    "#### single line comment\n",
    "\n",
    "`#`"
   ]
  },
  {
   "cell_type": "code",
   "execution_count": 7,
   "id": "4926268a",
   "metadata": {},
   "outputs": [
    {
     "name": "stdout",
     "output_type": "stream",
     "text": [
      "hello\n"
     ]
    }
   ],
   "source": [
    "# this is comment\n",
    "print(\"hello\")"
   ]
  },
  {
   "cell_type": "code",
   "execution_count": 8,
   "id": "274524a7",
   "metadata": {},
   "outputs": [
    {
     "name": "stdout",
     "output_type": "stream",
     "text": [
      "welcome\n",
      "Have a nice day\n"
     ]
    }
   ],
   "source": [
    "#print(\"Hello\")\n",
    "print(\"welcome\")\n",
    "print(\"Have a nice day\")\n"
   ]
  },
  {
   "cell_type": "markdown",
   "id": "99a8a58c",
   "metadata": {},
   "source": [
    "#### multiple line comment\n",
    "`\"\"\" \"\"\"`\n",
    "\n",
    "`''' '''`"
   ]
  },
  {
   "cell_type": "code",
   "execution_count": 9,
   "id": "914a5b25",
   "metadata": {},
   "outputs": [
    {
     "name": "stdout",
     "output_type": "stream",
     "text": [
      "welcome\n",
      "Have a nice day!\n"
     ]
    }
   ],
   "source": [
    "\"\"\" \n",
    "print(\"Hello\")\n",
    "\"\"\"\n",
    "print(\"welcome\")\n",
    "print(\"Have a nice day!\")"
   ]
  },
  {
   "cell_type": "code",
   "execution_count": 10,
   "id": "d02ced26",
   "metadata": {},
   "outputs": [
    {
     "name": "stdout",
     "output_type": "stream",
     "text": [
      "welcome\n",
      "Have a nice day!\n"
     ]
    }
   ],
   "source": [
    "'''\n",
    "This is a multiline comment \n",
    "'''\n",
    "\n",
    "print(\"welcome\")\n",
    "print(\"Have a nice day!\")"
   ]
  },
  {
   "cell_type": "code",
   "execution_count": 11,
   "id": "aeb4b970",
   "metadata": {},
   "outputs": [
    {
     "name": "stdout",
     "output_type": "stream",
     "text": [
      "Hello and \n",
      "Have a nice day \n",
      "Hope you feeling good\n"
     ]
    }
   ],
   "source": [
    "# but in print method it return the same indentation as we given in \"\"\" \"\"\"\n",
    "\n",
    "print(\"\"\"Hello and \n",
    "Have a nice day \n",
    "Hope you feeling good\"\"\")"
   ]
  },
  {
   "cell_type": "code",
   "execution_count": 1,
   "id": "fe12a402",
   "metadata": {},
   "outputs": [
    {
     "name": "stdout",
     "output_type": "stream",
     "text": [
      "Hello and Have a nice day Hope you feeling good\n"
     ]
    }
   ],
   "source": [
    "print(\"Hello and \\\n",
    "Have a nice day \\\n",
    "Hope you feeling good\")"
   ]
  },
  {
   "cell_type": "code",
   "execution_count": 12,
   "id": "2b995401",
   "metadata": {},
   "outputs": [],
   "source": [
    "# note after restart kernel or shell we will not be able to get previous value of variable means \n",
    "# we ned to reasign it "
   ]
  },
  {
   "cell_type": "code",
   "execution_count": 2,
   "id": "f9290624",
   "metadata": {},
   "outputs": [],
   "source": [
    "var = 20"
   ]
  },
  {
   "cell_type": "markdown",
   "id": "d6207bc9",
   "metadata": {},
   "source": [
    "now going to restart kernel"
   ]
  },
  {
   "cell_type": "code",
   "execution_count": 3,
   "id": "2b41b38a",
   "metadata": {},
   "outputs": [
    {
     "data": {
      "text/plain": [
       "20"
      ]
     },
     "execution_count": 3,
     "metadata": {},
     "output_type": "execute_result"
    }
   ],
   "source": [
    "var"
   ]
  },
  {
   "cell_type": "markdown",
   "id": "1222052e",
   "metadata": {},
   "source": [
    "### Control Structures \n",
    "\n",
    "1.  Sequential Control --- \n",
    "\n",
    "2.  Selection control   ---- True False condition based \n",
    "\n",
    "3.  Iterative Control    --- It is also condition base and iterate over and over till the                                       condtion satisfied\n"
   ]
  },
  {
   "cell_type": "code",
   "execution_count": 4,
   "id": "e21f04b0",
   "metadata": {},
   "outputs": [
    {
     "name": "stdout",
     "output_type": "stream",
     "text": [
      "Good Morning\n",
      "Welcome\n",
      "Hello World\n"
     ]
    }
   ],
   "source": [
    "### Sequential Control\n",
    "\n",
    "\n",
    "print(\"Good Morning\")\n",
    "\n",
    "print(\"Welcome\")\n",
    "print(\"Hello World\")"
   ]
  },
  {
   "cell_type": "code",
   "execution_count": 5,
   "id": "f327f7e9",
   "metadata": {},
   "outputs": [
    {
     "name": "stdout",
     "output_type": "stream",
     "text": [
      "enter a integer value89\n",
      "Value is greater than 10\n"
     ]
    }
   ],
   "source": [
    "### Selection control\n",
    "\n",
    "var = int(input(\"enter a integer value\"))\n",
    "\n",
    "if var < 10:\n",
    "    print(\"Value is less than 10\")\n",
    "else:\n",
    "    print(\"Value is greater than 10\")"
   ]
  },
  {
   "cell_type": "code",
   "execution_count": 6,
   "id": "5c57ecdd",
   "metadata": {},
   "outputs": [
    {
     "name": "stdout",
     "output_type": "stream",
     "text": [
      "0\n",
      "1\n",
      "2\n",
      "3\n",
      "4\n",
      "5\n",
      "6\n",
      "7\n",
      "8\n",
      "9\n"
     ]
    }
   ],
   "source": [
    "### Iterative Control\n",
    "\n",
    "var = 0\n",
    "\n",
    "while var <10:\n",
    "    print(var)\n",
    "    var = var + 1"
   ]
  },
  {
   "cell_type": "markdown",
   "id": "625c5208",
   "metadata": {},
   "source": [
    "### Selection Control Statement\n",
    "\n",
    "1. if -- else\n",
    "\n",
    "2. if staement\n",
    "\n",
    "3. multiway selection \n",
    "\n",
    "*  nested if\n",
    "*  elif header"
   ]
  },
  {
   "cell_type": "markdown",
   "id": "44e7088a",
   "metadata": {},
   "source": [
    "#### if else condition used when we want two choice \n",
    "`if condition:\n",
    "\n",
    "    action\n",
    "    \n",
    "else:\n",
    "\n",
    "    action`"
   ]
  },
  {
   "cell_type": "code",
   "execution_count": 7,
   "id": "d092366a",
   "metadata": {},
   "outputs": [
    {
     "name": "stdout",
     "output_type": "stream",
     "text": [
      "Enter the marks:39\n",
      "Congratulations, You got paasing grades\n",
      "Thank You for checking!\n"
     ]
    }
   ],
   "source": [
    "marks = int(input(\"Enter the marks:\"))\n",
    "\n",
    "if marks>= 35:\n",
    "    print(\"Congratulations, You got paasing grades\")\n",
    "    \n",
    "else:\n",
    "    print(\"Sorry, try next time\")\n",
    "    \n",
    "print(\"Thank You for checking!\")"
   ]
  },
  {
   "cell_type": "code",
   "execution_count": 9,
   "id": "eab552d1",
   "metadata": {},
   "outputs": [
    {
     "name": "stdout",
     "output_type": "stream",
     "text": [
      "enter the marks:100\n",
      "Perfect Score!\n",
      "Thank you!\n"
     ]
    }
   ],
   "source": [
    "#### if statement is use to check when we want to do particular task \n",
    "\n",
    "marks = int(input(\"enter the marks:\"))\n",
    "\n",
    "if marks == 100:\n",
    "    \n",
    "    print(\"Perfect Score!\")\n",
    "    \n",
    "print(\"Thank you!\")"
   ]
  },
  {
   "cell_type": "code",
   "execution_count": 11,
   "id": "b97aa2f1",
   "metadata": {},
   "outputs": [
    {
     "name": "stdout",
     "output_type": "stream",
     "text": [
      "enter the marks:100\n",
      "Perfect Score!\n",
      "Thank you!\n"
     ]
    }
   ],
   "source": [
    "marks = int(input(\"enter the marks:\"))\n",
    "\n",
    "if marks == 100:\n",
    "    \n",
    "    print(\"Perfect Score!\")\n",
    "    \n",
    "print(\"Thank you!\")"
   ]
  },
  {
   "cell_type": "code",
   "execution_count": 12,
   "id": "ddde5558",
   "metadata": {},
   "outputs": [
    {
     "name": "stdout",
     "output_type": "stream",
     "text": [
      "Ankit's of RITM college got:  75 Marks\n"
     ]
    }
   ],
   "source": [
    "#### Multiway Stamenet \n",
    "\n",
    "# nested if \n",
    "\n",
    "name = \"Ankit\"\n",
    "\n",
    "college = \"RITM\"\n",
    "\n",
    "marks = 75\n",
    "\n",
    "if college == \"RITM\":\n",
    "    if name == \"Ankit\":\n",
    "        print(\"Ankit's of RITM college got: \", marks, \"Marks\")"
   ]
  },
  {
   "cell_type": "code",
   "execution_count": 13,
   "id": "4aab4b24",
   "metadata": {},
   "outputs": [],
   "source": [
    "# here ' name' has been changed \n",
    "name = \"Ankit\"\n",
    "\n",
    "college = \"RITM\"\n",
    "\n",
    "marks = 75\n",
    "\n",
    "if college == \"RITM\":\n",
    "    if name == \"Advin\":\n",
    "        print(\"Ankit's of RITM college got: \", marks, \"Marks\")"
   ]
  },
  {
   "cell_type": "markdown",
   "id": "10b37f47",
   "metadata": {},
   "source": [
    "as we can see that after changing the name nested 'if' condition didn't satisfy so no output for this."
   ]
  },
  {
   "cell_type": "code",
   "execution_count": 14,
   "id": "74f92c91",
   "metadata": {},
   "outputs": [
    {
     "name": "stdout",
     "output_type": "stream",
     "text": [
      "Y is greater \n"
     ]
    }
   ],
   "source": [
    "x = 20\n",
    "y = 45\n",
    "z = 23\n",
    "\n",
    "if x>y and x>z:\n",
    "    \n",
    "    print(\"X is greater\")\n",
    "else:\n",
    "    if z>y:\n",
    "        print(\"Z is greater\")\n",
    "    else:\n",
    "        print(\"Y is greater \")"
   ]
  },
  {
   "cell_type": "code",
   "execution_count": 15,
   "id": "c37a2228",
   "metadata": {},
   "outputs": [
    {
     "name": "stdout",
     "output_type": "stream",
     "text": [
      "y is greater\n"
     ]
    }
   ],
   "source": [
    "#  to avoid if condition in else statement we  will use 'elif' check multiple condition\n",
    "\n",
    "x = 20\n",
    "y = 45\n",
    "z = 23\n",
    "\n",
    "if x>y and x>z:\n",
    "    print(\"X is greater\")\n",
    "elif y>x and y>z:\n",
    "    print(\"y is greater\")\n",
    "    \n",
    "else:\n",
    "    print(\"z is greater\")"
   ]
  },
  {
   "cell_type": "markdown",
   "id": "d7e4bf47",
   "metadata": {},
   "source": [
    "#### Iterative Control \n",
    "\n",
    "1.  For statement ----(indefinite loop)\n",
    "\n",
    "2.  while Statement  ------(definite loop ,  and also infinite loop)"
   ]
  },
  {
   "cell_type": "markdown",
   "id": "85218bc3",
   "metadata": {},
   "source": [
    "Syntax:\n",
    "\n",
    "`for variable in sequence:\n",
    "    action` "
   ]
  },
  {
   "cell_type": "code",
   "execution_count": 16,
   "id": "be484467",
   "metadata": {},
   "outputs": [
    {
     "name": "stdout",
     "output_type": "stream",
     "text": [
      "Character is:  p\n",
      "Character is:  y\n",
      "Character is:  t\n",
      "Character is:  h\n",
      "Character is:  o\n",
      "Character is:  n\n"
     ]
    }
   ],
   "source": [
    "for letter in \"python\":\n",
    "    print(\"Character is: \", letter)"
   ]
  },
  {
   "cell_type": "code",
   "execution_count": 17,
   "id": "d0a20543",
   "metadata": {},
   "outputs": [
    {
     "name": "stdout",
     "output_type": "stream",
     "text": [
      "Value is :  10\n",
      "Value is :  20\n",
      "Value is :  30\n",
      "Value is :  40\n"
     ]
    }
   ],
   "source": [
    "for i in [10, 20, 30, 40]:\n",
    "    print(\"Value is : \", i)"
   ]
  },
  {
   "cell_type": "code",
   "execution_count": 18,
   "id": "177a9d26",
   "metadata": {},
   "outputs": [
    {
     "name": "stdout",
     "output_type": "stream",
     "text": [
      "10  : Value is less than 25\n",
      "20  : Value is less than 25\n",
      "30  : Value is greater than 25 \n",
      "40  : Value is greater than 25 \n"
     ]
    }
   ],
   "source": [
    "for i in [10, 20, 30, 40]:\n",
    "    \n",
    "    if i >= 25:\n",
    "        print(i, \" : Value is greater than 25 \")\n",
    "    else:\n",
    "        print(i, \" : Value is less than 25\")"
   ]
  },
  {
   "cell_type": "code",
   "execution_count": 19,
   "id": "22b565f9",
   "metadata": {},
   "outputs": [
    {
     "name": "stdout",
     "output_type": "stream",
     "text": [
      "10 Value is less than 25\n",
      "20 Value is less than 25\n",
      "25 Value is equal to 25\n",
      "30 Value is greater than 25.\n",
      "40 Value is greater than 25.\n"
     ]
    }
   ],
   "source": [
    "for i in [10, 20, 25, 30, 40]:\n",
    "    \n",
    "    if i > 25 :\n",
    "        print(i, \"Value is greater than 25.\")\n",
    "        \n",
    "    elif i == 25 :\n",
    "        print(i, \"Value is equal to 25\")\n",
    "    \n",
    "    else:\n",
    "        print(i, \"Value is less than 25\")"
   ]
  },
  {
   "cell_type": "markdown",
   "id": "0b26506b",
   "metadata": {},
   "source": [
    "### While loops"
   ]
  },
  {
   "cell_type": "code",
   "execution_count": 20,
   "id": "43701cce",
   "metadata": {},
   "outputs": [
    {
     "name": "stdout",
     "output_type": "stream",
     "text": [
      "1\n",
      "2\n",
      "3\n",
      "4\n",
      "5\n",
      "Good Bye!\n"
     ]
    }
   ],
   "source": [
    "#### While loop   ( definite loop)\n",
    "\n",
    "count = 1\n",
    "\n",
    "while count <= 5:\n",
    "    \n",
    "    print(count)\n",
    "    count = count + 1\n",
    "    \n",
    "print(\"Good Bye!\")"
   ]
  },
  {
   "cell_type": "code",
   "execution_count": 31,
   "id": "72ef8017",
   "metadata": {},
   "outputs": [
    {
     "name": "stdout",
     "output_type": "stream",
     "text": [
      "0\n",
      "1\n",
      "2\n",
      "thank you\n"
     ]
    }
   ],
   "source": [
    "#### loop controls\n",
    "\n",
    "# break -- turminate the execution of current loop and control next statement\n",
    "\n",
    "count = 0\n",
    "while count<=5:\n",
    "    if count ==3:\n",
    "        break\n",
    "    else:\n",
    "        print(count)\n",
    "    count = count + 1\n",
    "print(\"thank you\")"
   ]
  },
  {
   "cell_type": "code",
   "execution_count": 30,
   "id": "a9a83d83",
   "metadata": {},
   "outputs": [
    {
     "name": "stdout",
     "output_type": "stream",
     "text": [
      "0\n",
      "1\n",
      "2\n",
      "Else part of the  while loop will not be printed because loop has been turminated by break satement.\n",
      "\n",
      "thank you\n"
     ]
    }
   ],
   "source": [
    "#### loop controls\n",
    "\n",
    "# break -- turminate the execution of current loop and control next statement\n",
    "\n",
    "count = 0\n",
    "while count<=5:\n",
    "    if count ==3:\n",
    "        break\n",
    "    else:\n",
    "        print(count)\n",
    "    count = count + 1\n",
    "else:\n",
    "    print(\"while loop is turminated because count satisfied the condition\")\n",
    "\n",
    "print(\"Else part of the  while loop will not be printed because loop has\",end =\" \")\n",
    "print(\"been turminated by break satement.\")\n",
    "print()\n",
    "print(\"thank you\")"
   ]
  },
  {
   "cell_type": "code",
   "execution_count": 25,
   "id": "f0323c2c",
   "metadata": {},
   "outputs": [
    {
     "name": "stdout",
     "output_type": "stream",
     "text": [
      "a\n",
      "n\n",
      "k\n",
      "Thank You\n"
     ]
    }
   ],
   "source": [
    "for letter in \"ankit\":\n",
    "    \n",
    "    if letter == \"i\":\n",
    "        break\n",
    "    else:\n",
    "        print(letter)\n",
    "        \n",
    "print(\"Thank You\")"
   ]
  },
  {
   "cell_type": "code",
   "execution_count": 32,
   "id": "ea8e5a1c",
   "metadata": {},
   "outputs": [
    {
     "name": "stdout",
     "output_type": "stream",
     "text": [
      "a\n",
      "n\n",
      "k\n",
      "t\n",
      "thank you\n"
     ]
    }
   ],
   "source": [
    "#### Countinue ----- use skip the part of loops means is skip current loop and control will go nex\n",
    "#                     iteration of the loop\n",
    "\n",
    "for letter in \"ankit\":\n",
    "    if letter == \"i\":\n",
    "        continue\n",
    "    else:\n",
    "        print(letter)\n",
    "print(\"thank you\")"
   ]
  },
  {
   "cell_type": "code",
   "execution_count": 33,
   "id": "5d69319d",
   "metadata": {},
   "outputs": [
    {
     "name": "stdout",
     "output_type": "stream",
     "text": [
      "9\n",
      "8\n",
      "7\n",
      "6\n",
      "5\n",
      "4\n",
      "2\n",
      "1\n",
      "0\n",
      "Thank you\n"
     ]
    }
   ],
   "source": [
    "var = 10\n",
    "\n",
    "while var > 0:\n",
    "    \n",
    "    var = var - 1\n",
    "    if var == 3:\n",
    "        continue \n",
    "    print(var)\n",
    "print(\"Thank you\")"
   ]
  },
  {
   "cell_type": "code",
   "execution_count": 1,
   "id": "e978cad0",
   "metadata": {},
   "outputs": [
    {
     "name": "stdout",
     "output_type": "stream",
     "text": [
      "1 - for loop exhausted\n",
      "****************************************\n",
      "k\n"
     ]
    }
   ],
   "source": [
    "name = \"Ankit\"\n",
    "\n",
    "for letter in name:\n",
    "    if letter == \"s\":\n",
    "        break\n",
    "else:\n",
    "    print(\"1 - for loop exhausted\")\n",
    "    \n",
    "print(\"*\" * 40) # *****************************************************\n",
    "\n",
    "name = \"Ankit\"\n",
    "\n",
    "for letter in name:\n",
    "    if letter == \"k\":\n",
    "        print(letter)\n",
    "        break\n",
    "else:\n",
    "    print(\"2 - for loop exhausted\")\n"
   ]
  },
  {
   "cell_type": "markdown",
   "id": "b3201a4d",
   "metadata": {},
   "source": [
    "**Note** \n",
    "#### case 1:\n",
    "`'if' condition is not satisfied, for loop exausted and the else statement will be executed.`\n",
    "#### case 2:\n",
    "`When condition is met, the 'break' will be processed and control will come out of the loop. 'Else' statement will not be executed.`"
   ]
  },
  {
   "cell_type": "code",
   "execution_count": 36,
   "id": "fdb7dbd3",
   "metadata": {},
   "outputs": [
    {
     "name": "stdout",
     "output_type": "stream",
     "text": [
      "[0, 0, 1, 0, 1, 2, 0, 1, 2, 3, 0, 1, 2, 3, 4]\n"
     ]
    }
   ],
   "source": [
    "num = 0\n",
    "lst = []\n",
    "while num<=4:\n",
    "    \n",
    "    for i in range(num+1):\n",
    "        if i == 5:\n",
    "            break\n",
    "            \n",
    "        lst.append(i)\n",
    "        i = i+1\n",
    "        \n",
    "    num = num + 1\n",
    "    \n",
    "print(lst)   \n",
    "    "
   ]
  },
  {
   "cell_type": "code",
   "execution_count": null,
   "id": "27d05609",
   "metadata": {},
   "outputs": [],
   "source": []
  }
 ],
 "metadata": {
  "kernelspec": {
   "display_name": "Python 3 (ipykernel)",
   "language": "python",
   "name": "python3"
  },
  "language_info": {
   "codemirror_mode": {
    "name": "ipython",
    "version": 3
   },
   "file_extension": ".py",
   "mimetype": "text/x-python",
   "name": "python",
   "nbconvert_exporter": "python",
   "pygments_lexer": "ipython3",
   "version": "3.9.7"
  }
 },
 "nbformat": 4,
 "nbformat_minor": 5
}
