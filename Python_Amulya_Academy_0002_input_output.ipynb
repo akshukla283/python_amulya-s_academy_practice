{
 "cells": [
  {
   "cell_type": "markdown",
   "id": "3f1a4de3",
   "metadata": {},
   "source": [
    "To make sure your Python file runs, remember to specify the Python path to the interpreter. It can be done by adding the path to the first line of your file. There are two ways to do so:\n",
    "\n",
    "#!/usr/bin/python: Writing the absolute path.\n",
    "\n",
    "#!/usr/bin/env python \n",
    "\n",
    "or #!/usr/bin/env python3:\n",
    "\n",
    "Using the operating system env command, which locates and executes Python by searching the PATH environment variable.\n",
    "Review: Python Code from a File Manager"
   ]
  },
  {
   "cell_type": "markdown",
   "id": "b61d09f1",
   "metadata": {},
   "source": [
    "As you run a Python file from the file explorer on Windows, it executes and hides almost immediately. That’s because the scope of the program only covers the print object and then it stops. With the time module, we can call the sleep() function which delays the program’s exit and makes the console window stay on screen just a bit longer (3 seconds in this case.)\n",
    "\n",
    "Review: Time Module"
   ]
  },
  {
   "cell_type": "markdown",
   "id": "310c4cce",
   "metadata": {},
   "source": [
    "Once you’ve imported a module for the first time, you won’t be able to continue using import to run it. In this case, you can use importlib.reload(), which will force the interpreter to re-import the module again, just like in the following code:\n",
    "\n",
    "import importlib\n",
    "importlib.reload(hello)\n",
    "An important point to note here is that the argument of reload() has to be the name of a module object, not a string:\n",
    "\n",
    "`>>> importlib.reload('hello')\n",
    "Traceback (most recent call last):\n",
    "    ...\n",
    "TypeError: reload() argument must be a module\n",
    "If you use a string as an argument, then reload() will raise a TypeError exception.\n",
    "`\n",
    "Review: Importing Modules"
   ]
  },
  {
   "cell_type": "markdown",
   "id": "bb7c73ef",
   "metadata": {},
   "source": [
    "he Standard Library includes a module called runpy. In this module, you can find run_module(), which is a function that allows you to run modules without importing them first. This function returns the globals dictionary of the executed module.\n",
    "\n",
    "Here’s an example of how you can use it:\n",
    "\n",
    "`>>> runpy.run_module(mod_name='hello')\n",
    "Hello World!\n",
    "{'__name__': 'hello',\n",
    "    ...\n",
    "'_': None}}\n",
    "For your reference, the module hello is defined as follows:`"
   ]
  },
  {
   "cell_type": "markdown",
   "id": "5b895d81",
   "metadata": {},
   "source": [
    "#### Input"
   ]
  },
  {
   "cell_type": "code",
   "execution_count": 1,
   "id": "a6768eb0",
   "metadata": {},
   "outputs": [
    {
     "name": "stdout",
     "output_type": "stream",
     "text": [
      "90\n"
     ]
    },
    {
     "data": {
      "text/plain": [
       "'90'"
      ]
     },
     "execution_count": 1,
     "metadata": {},
     "output_type": "execute_result"
    }
   ],
   "source": [
    "input()"
   ]
  },
  {
   "cell_type": "code",
   "execution_count": 2,
   "id": "795a1d2d",
   "metadata": {},
   "outputs": [
    {
     "name": "stdout",
     "output_type": "stream",
     "text": [
      "Please enter your name: Ankit\n"
     ]
    },
    {
     "data": {
      "text/plain": [
       "'Ankit'"
      ]
     },
     "execution_count": 2,
     "metadata": {},
     "output_type": "execute_result"
    }
   ],
   "source": [
    "input(\"Please enter your name: \")"
   ]
  },
  {
   "cell_type": "markdown",
   "id": "32c7ef7a",
   "metadata": {},
   "source": [
    "#### Taking User input for list \n",
    "\n",
    "#### Using for loop"
   ]
  },
  {
   "cell_type": "code",
   "execution_count": 3,
   "id": "4d7ad690",
   "metadata": {},
   "outputs": [
    {
     "name": "stdout",
     "output_type": "stream",
     "text": [
      "Enter the length of the List: 3\n",
      "Enter list element 1: 12\n",
      "Enter list element 2: 12\n",
      "Enter list element 3: 12\n",
      "['12', '12', '12']\n"
     ]
    }
   ],
   "source": [
    "# using for loop\n",
    "n = int(input(\"Enter the length of the List: \"))\n",
    "list1 = []\n",
    "for i in range(n):\n",
    "    list1.append(input(f\"Enter list element {i+1}: \"))\n",
    "    \n",
    "print(list1)\n"
   ]
  },
  {
   "cell_type": "code",
   "execution_count": 5,
   "id": "f7a0154c",
   "metadata": {},
   "outputs": [
    {
     "name": "stdout",
     "output_type": "stream",
     "text": [
      "Enter the length of the List: 3\n",
      "Enter list element 1: 12\n",
      "Enter list element 2: 34\n",
      "Enter list element 3: 34\n",
      "\n",
      "your list is\n",
      " ['12', '34', '34']\n"
     ]
    }
   ],
   "source": [
    "# using for loop\n",
    "n = int(input(\"Enter the length of the List: \"))\n",
    "list1 = []\n",
    "for i in range(n):\n",
    "    element  = input(f\"Enter list element {i+1}: \")\n",
    "    list1.append(element)\n",
    "    \n",
    "print()    \n",
    "print(\"your list is:\\n\",list1)\n"
   ]
  },
  {
   "cell_type": "markdown",
   "id": "925995f1",
   "metadata": {},
   "source": [
    "#### using while loop"
   ]
  },
  {
   "cell_type": "code",
   "execution_count": 1,
   "id": "fd26fab2",
   "metadata": {},
   "outputs": [
    {
     "name": "stdout",
     "output_type": "stream",
     "text": [
      "Enter list element 1: 21\n",
      "want to stop? if Yes enter 'yes' otherwise press any key! \n",
      "Enter list element 2: qw\n",
      "want to stop? if Yes enter 'yes' otherwise press any key!\n",
      "Enter list element 3: qw\n",
      "want to stop? if Yes enter 'yes' otherwise press any key!Yes\n",
      "\n",
      "your list is:\n",
      " ['21', 'qw', 'qw']\n"
     ]
    }
   ],
   "source": [
    "list1 = []\n",
    "i = 1\n",
    "while True:\n",
    "    \n",
    "    element  = input(f\"Enter list element {i}: \")\n",
    "    list1.append(element)\n",
    "    choice = input(\"want to stop? if Yes enter 'yes' otherwise press any key!\")\n",
    "    if choice.lower().strip() == \"yes\": # here i have used .strip() method to avoid space enter\n",
    "        break\n",
    "    \n",
    "    i = i+1\n",
    "print()    \n",
    "print(\"your list is:\\n\",list1)"
   ]
  },
  {
   "cell_type": "code",
   "execution_count": 5,
   "id": "3744ab56",
   "metadata": {},
   "outputs": [
    {
     "name": "stdout",
     "output_type": "stream",
     "text": [
      "Enter list element 1: 12\n",
      "want to stop? if Yes enter 'yes' otherwise press any key!\n",
      "Enter list element 2: \"hello\"\n",
      "want to stop? if Yes enter 'yes' otherwise press any key!2.3\n",
      "Enter list element 3: 2.34\n",
      "want to stop? if Yes enter 'yes' otherwise press any key!\n",
      "Enter list element 4: 23.23e4\n",
      "want to stop? if Yes enter 'yes' otherwise press any key!yes\n",
      "\n",
      "your list is:\n",
      " [12, 'hello', 2.34, 232300.0]\n"
     ]
    }
   ],
   "source": [
    "# if we want that when we enter the int in list then it should be contain like int and if we \n",
    "# enter string then it should be stored like string and if we enter the float then it should \n",
    "# store like float so for this we will use 'eval()' along with the 'input()'\n",
    "\n",
    "list1 = []\n",
    "i = 1\n",
    "while True:\n",
    "    \n",
    "    element  = eval(input(f\"Enter list element {i}: \"))\n",
    "    list1.append(element)\n",
    "    choice = input(\"want to stop? if Yes enter 'yes' otherwise press any key!\")\n",
    "    if choice.lower().strip() == \"yes\": # here i have used .strip() method to avoid space enter\n",
    "        break\n",
    "    \n",
    "    i = i+1\n",
    "print()    \n",
    "print(\"your list is:\\n\",list1)\n",
    "\n",
    "# note - when we use 'eval' function then whenever we will pass string as input then we need \n",
    "# to be carefull we will pass it using \"\" or '' measn like string "
   ]
  },
  {
   "cell_type": "code",
   "execution_count": 6,
   "id": "e0ef74cd",
   "metadata": {},
   "outputs": [
    {
     "name": "stdout",
     "output_type": "stream",
     "text": [
      "Enter list element 1: \"hello\"\n",
      "want to stop? if Yes enter 'yes' otherwise press any key!\n",
      "Enter list element 2: 12\n",
      "want to stop? if Yes enter 'yes' otherwise press any key!\n",
      "Enter list element 3: 92.2\n",
      "want to stop? if Yes enter 'yes' otherwise press any key!yes\n",
      "\n",
      "your list is:\n",
      " ['hello', 12, 92.2]\n"
     ]
    }
   ],
   "source": [
    "# usnig 'eval()' in progroms some time it may be risky.\n",
    "# to avoid this we will use 'ast.literal_eval'\n",
    "\n",
    "import ast\n",
    "\n",
    "list1 = []\n",
    "i = 1\n",
    "while True:\n",
    "    \n",
    "    element  = ast.literal_eval(input(f\"Enter list element {i}: \"))\n",
    "    list1.append(element)\n",
    "    choice = input(\"want to stop? if Yes enter 'yes' otherwise press any key!\")\n",
    "    if choice.lower().strip() == \"yes\": # here i have used .strip() method to avoid space enter\n",
    "        break\n",
    "    \n",
    "    i = i+1\n",
    "print()    \n",
    "print(\"your list is:\\n\",list1)\n",
    "\n",
    "## note - string must be pass/enter with double \"\" or single \"\" quotes"
   ]
  },
  {
   "cell_type": "markdown",
   "id": "7d70cf5a",
   "metadata": {},
   "source": [
    "#### Multiple User Input with sapce"
   ]
  },
  {
   "cell_type": "code",
   "execution_count": 8,
   "id": "e435daf9",
   "metadata": {},
   "outputs": [
    {
     "name": "stdout",
     "output_type": "stream",
     "text": [
      "enter the element with space:welcome to the Pyhton world!\n",
      "['welcome', 'to', 'the', 'Pyhton', 'world!']\n"
     ]
    }
   ],
   "source": [
    "n = input(\"enter the element with space:\")\n",
    "list1 = n.split()\n",
    "print(list1)"
   ]
  },
  {
   "cell_type": "code",
   "execution_count": 16,
   "id": "118effd2",
   "metadata": {},
   "outputs": [
    {
     "name": "stdout",
     "output_type": "stream",
     "text": [
      "enter the element with space:12 23 34 hello\n",
      "['12', '23', '34', 'hello']\n"
     ]
    }
   ],
   "source": [
    "n = input(\"enter the element with space:\")\n",
    "list1 = n.split()\n",
    "print(list1)"
   ]
  },
  {
   "cell_type": "code",
   "execution_count": 8,
   "id": "fb543c4b",
   "metadata": {},
   "outputs": [
    {
     "name": "stdout",
     "output_type": "stream",
     "text": [
      "Enter the value of a,b,c,and d with sapce: 1 12 32 12\n",
      "\n",
      "Element in your list is:\n",
      "1\n",
      "12\n",
      "32\n",
      "12\n"
     ]
    }
   ],
   "source": [
    "input1 = input(\"Enter the value of a,b,c,and d with sapce: \")\n",
    "a,b,c,d = input1.split()\n",
    "list1 = [a,b,c,d]\n",
    "print(\"\\nElement in your list is:\")\n",
    "for x in list1:\n",
    "    print(x)"
   ]
  },
  {
   "cell_type": "markdown",
   "id": "9591a2a4",
   "metadata": {},
   "source": [
    "### Using List Comprehenssion\n",
    "\n"
   ]
  },
  {
   "cell_type": "code",
   "execution_count": 15,
   "id": "94627294",
   "metadata": {},
   "outputs": [
    {
     "name": "stdout",
     "output_type": "stream",
     "text": [
      "Enter the length of the list: 5\n",
      "Enter 1 elemtent:23\n",
      "Enter 2 elemtent:12\n",
      "Enter 3 elemtent:23\n",
      "Enter 4 elemtent:34\n",
      "Enter 5 elemtent:34\n",
      "\n",
      "Your list is: \n",
      "['23', '12', '23', '34', '34']\n"
     ]
    }
   ],
   "source": [
    "n = int(input(\"Enter the length of the list: \"))\n",
    "list1 = [input(f\"Enter {i+1} elemtent:\") for i in  range(n)]\n",
    "print()\n",
    "print(\"Your list is: \")\n",
    "print(list1)"
   ]
  },
  {
   "cell_type": "code",
   "execution_count": 14,
   "id": "b4a47242",
   "metadata": {},
   "outputs": [
    {
     "name": "stdout",
     "output_type": "stream",
     "text": [
      "Enter row number: 3\n",
      "Enter column number : 4\n",
      "Enter the element 11: 23\n",
      "Enter the element 12: 23\n",
      "Enter the element 13: 34\n",
      "Enter the element 14: 23\n",
      "Enter the element 21: 12\n",
      "Enter the element 22: 34\n",
      "Enter the element 23: 34\n",
      "Enter the element 24: 354\n",
      "Enter the element 31: 23\n",
      "Enter the element 32: 23\n",
      "Enter the element 33: 123\n",
      "Enter the element 34: 12\n",
      "\n",
      "your matrix is: \n",
      "23 23 34 23 \n",
      "12 34 34 354 \n",
      "23 23 123 12 \n"
     ]
    }
   ],
   "source": [
    "# now taking input for the nested list\n",
    "row = int(input(\"Enter row number: \"))\n",
    "col = int(input(\"Enter column number : \"))\n",
    "\n",
    "list1 = [[input(f\"Enter the element {i+1}{j+1}: \") for j in range(col)] for i in range(row)]\n",
    "print()\n",
    "print(\"your matrix is: \")\n",
    "for i in range(row):\n",
    "    for j in range(col):\n",
    "        print(list1[i][j], end = \" \")\n",
    "    print()"
   ]
  },
  {
   "cell_type": "markdown",
   "id": "e0472445",
   "metadata": {},
   "source": [
    "#### Some time we need space holder for the nested list or the matrix"
   ]
  },
  {
   "cell_type": "code",
   "execution_count": 24,
   "id": "d2b2bb5e",
   "metadata": {},
   "outputs": [
    {
     "name": "stdout",
     "output_type": "stream",
     "text": [
      "Enter row number: 3\n",
      "Enter column number : 4\n",
      "\n",
      "your matrix is: \n",
      "0 0 0 0 \n",
      "0 0 0 0 \n",
      "0 0 0 0 \n"
     ]
    }
   ],
   "source": [
    "\n",
    "# takig number of row and col and make a list which should be fullfilled by 0 itself.\n",
    "row = int(input(\"Enter row number: \"))\n",
    "col = int(input(\"Enter column number : \"))\n",
    "\n",
    "list1 = [[0 for j in range(col)] for i in range(row)]\n",
    "print()\n",
    "print(\"your matrix is: \")\n",
    "for i in range(row):\n",
    "    for j in range(col):\n",
    "        print(list1[i][j], end = \" \")\n",
    "    print()"
   ]
  },
  {
   "cell_type": "code",
   "execution_count": null,
   "id": "f98f15cc",
   "metadata": {},
   "outputs": [],
   "source": []
  },
  {
   "cell_type": "markdown",
   "id": "ce7142a8",
   "metadata": {},
   "source": [
    "#### Output\n",
    "\n",
    "using output function we give value to the screen."
   ]
  },
  {
   "cell_type": "code",
   "execution_count": 3,
   "id": "b594324f",
   "metadata": {},
   "outputs": [
    {
     "name": "stdout",
     "output_type": "stream",
     "text": [
      "Hello\n"
     ]
    }
   ],
   "source": [
    "print(\"Hello\")"
   ]
  },
  {
   "cell_type": "code",
   "execution_count": 4,
   "id": "3a1a90ea",
   "metadata": {},
   "outputs": [
    {
     "name": "stdout",
     "output_type": "stream",
     "text": [
      "11\n"
     ]
    }
   ],
   "source": [
    "var = 11\n",
    "\n",
    "\n",
    "print(var)"
   ]
  },
  {
   "cell_type": "code",
   "execution_count": 6,
   "id": "f238baee",
   "metadata": {},
   "outputs": [
    {
     "name": "stdout",
     "output_type": "stream",
     "text": [
      "Enter the name: Ankit\n",
      "Wlcome\n",
      "hello Ankit\n"
     ]
    }
   ],
   "source": [
    "name = input(\"Enter the name: \")\n",
    "print(\"Wlcome\")\n",
    "print(\"hello\", name)"
   ]
  },
  {
   "cell_type": "markdown",
   "id": "c34ce858",
   "metadata": {},
   "source": [
    "#### Comments\n",
    "\n",
    "`#` comments are nothing just a description about program or some we don't want to run, because when we coment something that will be ignore by interpreter during run time  "
   ]
  },
  {
   "cell_type": "markdown",
   "id": "496b4c62",
   "metadata": {},
   "source": [
    "#### single line comment\n",
    "\n",
    "`#`"
   ]
  },
  {
   "cell_type": "code",
   "execution_count": 7,
   "id": "4926268a",
   "metadata": {},
   "outputs": [
    {
     "name": "stdout",
     "output_type": "stream",
     "text": [
      "hello\n"
     ]
    }
   ],
   "source": [
    "# this is comment\n",
    "print(\"hello\")"
   ]
  },
  {
   "cell_type": "code",
   "execution_count": 8,
   "id": "274524a7",
   "metadata": {},
   "outputs": [
    {
     "name": "stdout",
     "output_type": "stream",
     "text": [
      "welcome\n",
      "Have a nice day\n"
     ]
    }
   ],
   "source": [
    "#print(\"Hello\")\n",
    "print(\"welcome\")\n",
    "print(\"Have a nice day\")\n"
   ]
  },
  {
   "cell_type": "markdown",
   "id": "99a8a58c",
   "metadata": {},
   "source": [
    "#### multiple line comment\n",
    "`\"\"\" \"\"\"`\n",
    "\n",
    "`''' '''`"
   ]
  },
  {
   "cell_type": "code",
   "execution_count": 9,
   "id": "914a5b25",
   "metadata": {},
   "outputs": [
    {
     "name": "stdout",
     "output_type": "stream",
     "text": [
      "welcome\n",
      "Have a nice day!\n"
     ]
    }
   ],
   "source": [
    "\"\"\" \n",
    "print(\"Hello\")\n",
    "\"\"\"\n",
    "print(\"welcome\")\n",
    "print(\"Have a nice day!\")"
   ]
  },
  {
   "cell_type": "code",
   "execution_count": 10,
   "id": "d02ced26",
   "metadata": {},
   "outputs": [
    {
     "name": "stdout",
     "output_type": "stream",
     "text": [
      "welcome\n",
      "Have a nice day!\n"
     ]
    }
   ],
   "source": [
    "'''\n",
    "This is a multiline comment \n",
    "'''\n",
    "\n",
    "print(\"welcome\")\n",
    "print(\"Have a nice day!\")"
   ]
  },
  {
   "cell_type": "code",
   "execution_count": 11,
   "id": "aeb4b970",
   "metadata": {},
   "outputs": [
    {
     "name": "stdout",
     "output_type": "stream",
     "text": [
      "Hello and \n",
      "Have a nice day \n",
      "Hope you feeling good\n"
     ]
    }
   ],
   "source": [
    "# but in print method it return the same indentation as we given in \"\"\" \"\"\"\n",
    "\n",
    "print(\"\"\"Hello and \n",
    "Have a nice day \n",
    "Hope you feeling good\"\"\")"
   ]
  },
  {
   "cell_type": "code",
   "execution_count": 1,
   "id": "fe12a402",
   "metadata": {},
   "outputs": [
    {
     "name": "stdout",
     "output_type": "stream",
     "text": [
      "Hello and Have a nice day Hope you feeling good\n"
     ]
    }
   ],
   "source": [
    "print(\"Hello and \\\n",
    "Have a nice day \\\n",
    "Hope you feeling good\")"
   ]
  },
  {
   "cell_type": "code",
   "execution_count": 12,
   "id": "2b995401",
   "metadata": {},
   "outputs": [],
   "source": [
    "# note after restart kernel or shell we will not be able to get previous value of variable means \n",
    "# we ned to reasign it "
   ]
  },
  {
   "cell_type": "code",
   "execution_count": 2,
   "id": "f9290624",
   "metadata": {},
   "outputs": [],
   "source": [
    "var = 20"
   ]
  },
  {
   "cell_type": "markdown",
   "id": "d6207bc9",
   "metadata": {},
   "source": [
    "now going to restart kernel"
   ]
  },
  {
   "cell_type": "code",
   "execution_count": 3,
   "id": "2b41b38a",
   "metadata": {},
   "outputs": [
    {
     "data": {
      "text/plain": [
       "20"
      ]
     },
     "execution_count": 3,
     "metadata": {},
     "output_type": "execute_result"
    }
   ],
   "source": [
    "var"
   ]
  },
  {
   "cell_type": "markdown",
   "id": "1222052e",
   "metadata": {},
   "source": [
    "### Control Structures \n",
    "\n",
    "1.  Sequential Control --- \n",
    "\n",
    "2.  Selection control   ---- True False condition based \n",
    "\n",
    "3.  Iterative Control    --- It is also condition base and iterate over and over till the                                       condtion satisfied\n"
   ]
  },
  {
   "cell_type": "code",
   "execution_count": 4,
   "id": "e21f04b0",
   "metadata": {},
   "outputs": [
    {
     "name": "stdout",
     "output_type": "stream",
     "text": [
      "Good Morning\n",
      "Welcome\n",
      "Hello World\n"
     ]
    }
   ],
   "source": [
    "### Sequential Control\n",
    "\n",
    "\n",
    "print(\"Good Morning\")\n",
    "\n",
    "print(\"Welcome\")\n",
    "print(\"Hello World\")"
   ]
  },
  {
   "cell_type": "code",
   "execution_count": 9,
   "id": "f327f7e9",
   "metadata": {},
   "outputs": [
    {
     "name": "stdout",
     "output_type": "stream",
     "text": [
      "enter a integer value : 8\n",
      "Value is less than 10\n"
     ]
    }
   ],
   "source": [
    "### Selection control\n",
    "\n",
    "var = int(input(\"enter a integer value : \"))\n",
    "\n",
    "if var < 10:\n",
    "    print(\"Value is less than 10\")\n",
    "else:\n",
    "    print(\"Value is greater than 10\")"
   ]
  },
  {
   "cell_type": "code",
   "execution_count": 6,
   "id": "5c57ecdd",
   "metadata": {},
   "outputs": [
    {
     "name": "stdout",
     "output_type": "stream",
     "text": [
      "0\n",
      "1\n",
      "2\n",
      "3\n",
      "4\n",
      "5\n",
      "6\n",
      "7\n",
      "8\n",
      "9\n"
     ]
    }
   ],
   "source": [
    "### Iterative Control\n",
    "\n",
    "var = 0\n",
    "\n",
    "while var <10:\n",
    "    print(var)\n",
    "    var = var + 1"
   ]
  },
  {
   "cell_type": "code",
   "execution_count": 10,
   "id": "f71e3b20",
   "metadata": {},
   "outputs": [],
   "source": [
    "\n",
    "var = 0\n",
    "\n",
    "while var:\n",
    "    if var > 6:\n",
    "        break\n",
    "        \n",
    "    print(var)\n",
    "    \n",
    "    var = var + 1\n",
    "    "
   ]
  },
  {
   "cell_type": "markdown",
   "id": "5fdfd470",
   "metadata": {},
   "source": [
    "It didn't return any thing because variable var should have > 0 (beause Bool(0) is Flase)."
   ]
  },
  {
   "cell_type": "code",
   "execution_count": 11,
   "id": "468b053f",
   "metadata": {},
   "outputs": [
    {
     "data": {
      "text/plain": [
       "False"
      ]
     },
     "execution_count": 11,
     "metadata": {},
     "output_type": "execute_result"
    }
   ],
   "source": [
    "var = 0 \n",
    "bool(var)"
   ]
  },
  {
   "cell_type": "markdown",
   "id": "625c5208",
   "metadata": {},
   "source": [
    "### Selection Control Statement\n",
    "\n",
    "1. if -- else\n",
    "\n",
    "2. if staement\n",
    "\n",
    "3. multiway selection \n",
    "\n",
    "*  nested if\n",
    "*  elif header"
   ]
  },
  {
   "cell_type": "markdown",
   "id": "44e7088a",
   "metadata": {},
   "source": [
    "#### if else condition used when we want two choice \n",
    "`if condition:\n",
    "\n",
    "    action\n",
    "    \n",
    "else:\n",
    "\n",
    "    action`"
   ]
  },
  {
   "cell_type": "code",
   "execution_count": 7,
   "id": "d092366a",
   "metadata": {},
   "outputs": [
    {
     "name": "stdout",
     "output_type": "stream",
     "text": [
      "Enter the marks:39\n",
      "Congratulations, You got paasing grades\n",
      "Thank You for checking!\n"
     ]
    }
   ],
   "source": [
    "marks = int(input(\"Enter the marks:\"))\n",
    "\n",
    "if marks>= 35:\n",
    "    print(\"Congratulations, You got paasing grades\")\n",
    "    \n",
    "else:\n",
    "    print(\"Sorry, try next time\")\n",
    "    \n",
    "print(\"Thank You for checking!\")"
   ]
  },
  {
   "cell_type": "code",
   "execution_count": 9,
   "id": "eab552d1",
   "metadata": {},
   "outputs": [
    {
     "name": "stdout",
     "output_type": "stream",
     "text": [
      "enter the marks:100\n",
      "Perfect Score!\n",
      "Thank you!\n"
     ]
    }
   ],
   "source": [
    "#### if statement is use to check when we want to do particular task \n",
    "\n",
    "marks = int(input(\"enter the marks:\"))\n",
    "\n",
    "if marks == 100:\n",
    "    \n",
    "    print(\"Perfect Score!\")\n",
    "    \n",
    "print(\"Thank you!\")"
   ]
  },
  {
   "cell_type": "code",
   "execution_count": 11,
   "id": "b97aa2f1",
   "metadata": {},
   "outputs": [
    {
     "name": "stdout",
     "output_type": "stream",
     "text": [
      "enter the marks:100\n",
      "Perfect Score!\n",
      "Thank you!\n"
     ]
    }
   ],
   "source": [
    "marks = int(input(\"enter the marks:\"))\n",
    "\n",
    "if marks == 100:\n",
    "    \n",
    "    print(\"Perfect Score!\")\n",
    "    \n",
    "print(\"Thank you!\")"
   ]
  },
  {
   "cell_type": "code",
   "execution_count": 12,
   "id": "ddde5558",
   "metadata": {},
   "outputs": [
    {
     "name": "stdout",
     "output_type": "stream",
     "text": [
      "Ankit's of RITM college got:  75 Marks\n"
     ]
    }
   ],
   "source": [
    "#### Multiway Stamenet \n",
    "\n",
    "# nested if \n",
    "\n",
    "name = \"Ankit\"\n",
    "\n",
    "college = \"RITM\"\n",
    "\n",
    "marks = 75\n",
    "\n",
    "if college == \"RITM\":\n",
    "    if name == \"Ankit\":\n",
    "        print(\"Ankit's of RITM college got: \", marks, \"Marks\")"
   ]
  },
  {
   "cell_type": "code",
   "execution_count": 13,
   "id": "4aab4b24",
   "metadata": {},
   "outputs": [],
   "source": [
    "# here ' name' has been changed \n",
    "name = \"Ankit\"\n",
    "\n",
    "college = \"RITM\"\n",
    "\n",
    "marks = 75\n",
    "\n",
    "if college == \"RITM\":\n",
    "    if name == \"Advin\":\n",
    "        print(\"Ankit's of RITM college got: \", marks, \"Marks\")"
   ]
  },
  {
   "cell_type": "markdown",
   "id": "10b37f47",
   "metadata": {},
   "source": [
    "as we can see that after changing the name nested 'if' condition didn't satisfy so no output for this."
   ]
  },
  {
   "cell_type": "code",
   "execution_count": 14,
   "id": "74f92c91",
   "metadata": {},
   "outputs": [
    {
     "name": "stdout",
     "output_type": "stream",
     "text": [
      "Y is greater \n"
     ]
    }
   ],
   "source": [
    "x = 20\n",
    "y = 45\n",
    "z = 23\n",
    "\n",
    "if x>y and x>z:\n",
    "    \n",
    "    print(\"X is greater\")\n",
    "else:\n",
    "    if z>y:\n",
    "        print(\"Z is greater\")\n",
    "    else:\n",
    "        print(\"Y is greater \")"
   ]
  },
  {
   "cell_type": "code",
   "execution_count": 15,
   "id": "c37a2228",
   "metadata": {},
   "outputs": [
    {
     "name": "stdout",
     "output_type": "stream",
     "text": [
      "y is greater\n"
     ]
    }
   ],
   "source": [
    "#  to avoid if condition in else statement we  will use 'elif' check multiple condition\n",
    "\n",
    "x = 20\n",
    "y = 45\n",
    "z = 23\n",
    "\n",
    "if x>y and x>z:\n",
    "    print(\"X is greater\")\n",
    "elif y>x and y>z:\n",
    "    print(\"y is greater\")\n",
    "    \n",
    "else:\n",
    "    print(\"z is greater\")"
   ]
  },
  {
   "cell_type": "markdown",
   "id": "d7e4bf47",
   "metadata": {},
   "source": [
    "#### Iterative Control \n",
    "\n",
    "1.  For statement ----(indefinite loop)\n",
    "\n",
    "2.  while Statement  ------(definite loop ,  and also infinite loop)"
   ]
  },
  {
   "cell_type": "markdown",
   "id": "85218bc3",
   "metadata": {},
   "source": [
    "Syntax:\n",
    "\n",
    "`for variable in sequence:\n",
    "    action` "
   ]
  },
  {
   "cell_type": "code",
   "execution_count": 16,
   "id": "be484467",
   "metadata": {},
   "outputs": [
    {
     "name": "stdout",
     "output_type": "stream",
     "text": [
      "Character is:  p\n",
      "Character is:  y\n",
      "Character is:  t\n",
      "Character is:  h\n",
      "Character is:  o\n",
      "Character is:  n\n"
     ]
    }
   ],
   "source": [
    "for letter in \"python\":\n",
    "    print(\"Character is: \", letter)"
   ]
  },
  {
   "cell_type": "code",
   "execution_count": 17,
   "id": "d0a20543",
   "metadata": {},
   "outputs": [
    {
     "name": "stdout",
     "output_type": "stream",
     "text": [
      "Value is :  10\n",
      "Value is :  20\n",
      "Value is :  30\n",
      "Value is :  40\n"
     ]
    }
   ],
   "source": [
    "for i in [10, 20, 30, 40]:\n",
    "    print(\"Value is : \", i)"
   ]
  },
  {
   "cell_type": "code",
   "execution_count": 18,
   "id": "177a9d26",
   "metadata": {},
   "outputs": [
    {
     "name": "stdout",
     "output_type": "stream",
     "text": [
      "10  : Value is less than 25\n",
      "20  : Value is less than 25\n",
      "30  : Value is greater than 25 \n",
      "40  : Value is greater than 25 \n"
     ]
    }
   ],
   "source": [
    "for i in [10, 20, 30, 40]:\n",
    "    \n",
    "    if i >= 25:\n",
    "        print(i, \" : Value is greater than 25 \")\n",
    "    else:\n",
    "        print(i, \" : Value is less than 25\")"
   ]
  },
  {
   "cell_type": "code",
   "execution_count": 19,
   "id": "22b565f9",
   "metadata": {},
   "outputs": [
    {
     "name": "stdout",
     "output_type": "stream",
     "text": [
      "10 Value is less than 25\n",
      "20 Value is less than 25\n",
      "25 Value is equal to 25\n",
      "30 Value is greater than 25.\n",
      "40 Value is greater than 25.\n"
     ]
    }
   ],
   "source": [
    "for i in [10, 20, 25, 30, 40]:\n",
    "    \n",
    "    if i > 25 :\n",
    "        print(i, \"Value is greater than 25.\")\n",
    "        \n",
    "    elif i == 25 :\n",
    "        print(i, \"Value is equal to 25\")\n",
    "    \n",
    "    else:\n",
    "        print(i, \"Value is less than 25\")"
   ]
  },
  {
   "cell_type": "markdown",
   "id": "0b26506b",
   "metadata": {},
   "source": [
    "### While loops"
   ]
  },
  {
   "cell_type": "code",
   "execution_count": 20,
   "id": "43701cce",
   "metadata": {},
   "outputs": [
    {
     "name": "stdout",
     "output_type": "stream",
     "text": [
      "1\n",
      "2\n",
      "3\n",
      "4\n",
      "5\n",
      "Good Bye!\n"
     ]
    }
   ],
   "source": [
    "#### While loop   ( definite loop)\n",
    "\n",
    "count = 1\n",
    "\n",
    "while count <= 5:\n",
    "    \n",
    "    print(count)\n",
    "    count = count + 1\n",
    "    \n",
    "print(\"Good Bye!\")"
   ]
  },
  {
   "cell_type": "code",
   "execution_count": 1,
   "id": "72ef8017",
   "metadata": {},
   "outputs": [
    {
     "name": "stdout",
     "output_type": "stream",
     "text": [
      "0\n",
      "1\n",
      "2\n",
      "thank you\n",
      "Count is:  3\n"
     ]
    }
   ],
   "source": [
    "#### loop controls\n",
    "\n",
    "# break -- turminate the execution of current loop and control next statement\n",
    "\n",
    "count = 0\n",
    "while count<=5:\n",
    "    if count ==3:\n",
    "        break\n",
    "    else:\n",
    "        print(count)\n",
    "    count = count + 1\n",
    "print(\"thank you\")\n",
    "print(\"Count is: \", count)"
   ]
  },
  {
   "cell_type": "code",
   "execution_count": 30,
   "id": "a9a83d83",
   "metadata": {},
   "outputs": [
    {
     "name": "stdout",
     "output_type": "stream",
     "text": [
      "0\n",
      "1\n",
      "2\n",
      "Else part of the  while loop will not be printed because loop has been turminated by break satement.\n",
      "\n",
      "thank you\n"
     ]
    }
   ],
   "source": [
    "#### loop controls\n",
    "\n",
    "# break -- turminate the execution of current loop and control next statement\n",
    "\n",
    "count = 0\n",
    "while count<=5:\n",
    "    if count ==3:\n",
    "        break\n",
    "    else:\n",
    "        print(count)\n",
    "    count = count + 1\n",
    "else:\n",
    "    print(\"while loop is turminated because count satisfied the condition\")\n",
    "\n",
    "print(\"Else part of the  while loop will not be printed because loop has\",end =\" \")\n",
    "print(\"been turminated by break satement.\")\n",
    "print()\n",
    "print(\"thank you\")"
   ]
  },
  {
   "cell_type": "code",
   "execution_count": 25,
   "id": "f0323c2c",
   "metadata": {},
   "outputs": [
    {
     "name": "stdout",
     "output_type": "stream",
     "text": [
      "a\n",
      "n\n",
      "k\n",
      "Thank You\n"
     ]
    }
   ],
   "source": [
    "for letter in \"ankit\":\n",
    "    \n",
    "    if letter == \"i\":\n",
    "        break\n",
    "    else:\n",
    "        print(letter)\n",
    "        \n",
    "print(\"Thank You\")\n",
    "# here we can see when loop has been truminated by break statement then else part didn't execute"
   ]
  },
  {
   "cell_type": "code",
   "execution_count": 2,
   "id": "000cc631",
   "metadata": {},
   "outputs": [
    {
     "name": "stdout",
     "output_type": "stream",
     "text": [
      "a\n",
      "n\n",
      "k\n",
      "Thank You\n"
     ]
    }
   ],
   "source": [
    "for letter in \"ankit\":\n",
    "    \n",
    "    if letter == \"i\":\n",
    "        break\n",
    "    else:\n",
    "        print(letter)\n",
    "else:\n",
    "    print(\"this is else part of for loop.\")\n",
    "    \n",
    "print(\"Thank You\")"
   ]
  },
  {
   "cell_type": "markdown",
   "id": "3e04a846",
   "metadata": {},
   "source": [
    "As we can see that after satisfied the if condition the break statement executed and the contol come out from the if else condition and even also come out from the else part from the for loop as well"
   ]
  },
  {
   "cell_type": "code",
   "execution_count": 32,
   "id": "ea8e5a1c",
   "metadata": {},
   "outputs": [
    {
     "name": "stdout",
     "output_type": "stream",
     "text": [
      "a\n",
      "n\n",
      "k\n",
      "t\n",
      "thank you\n"
     ]
    }
   ],
   "source": [
    "#### Countinue ----- use skip the part of loops means is skip current loop and control will go nex\n",
    "#                     iteration of the loop\n",
    "\n",
    "for letter in \"ankit\":\n",
    "    if letter == \"i\":\n",
    "        continue\n",
    "    else:\n",
    "        print(letter)\n",
    "print(\"thank you\")"
   ]
  },
  {
   "cell_type": "code",
   "execution_count": 33,
   "id": "5d69319d",
   "metadata": {},
   "outputs": [
    {
     "name": "stdout",
     "output_type": "stream",
     "text": [
      "9\n",
      "8\n",
      "7\n",
      "6\n",
      "5\n",
      "4\n",
      "2\n",
      "1\n",
      "0\n",
      "Thank you\n"
     ]
    }
   ],
   "source": [
    "var = 10\n",
    "\n",
    "while var > 0:\n",
    "    \n",
    "    var = var - 1\n",
    "    if var == 3:\n",
    "        continue \n",
    "    print(var)\n",
    "print(\"Thank you\")"
   ]
  },
  {
   "cell_type": "code",
   "execution_count": 1,
   "id": "e978cad0",
   "metadata": {},
   "outputs": [
    {
     "name": "stdout",
     "output_type": "stream",
     "text": [
      "1 - for loop exhausted\n",
      "****************************************\n",
      "k\n"
     ]
    }
   ],
   "source": [
    "name = \"Ankit\"\n",
    "\n",
    "for letter in name:\n",
    "    if letter == \"s\":\n",
    "        break\n",
    "else:\n",
    "    print(\"1 - for loop exhausted\")\n",
    "    \n",
    "print(\"*\" * 40) # *****************************************************\n",
    "\n",
    "name = \"Ankit\"\n",
    "\n",
    "for letter in name:\n",
    "    if letter == \"k\":\n",
    "        print(letter)\n",
    "        break\n",
    "else:\n",
    "    print(\"2 - for loop exhausted\")\n"
   ]
  },
  {
   "cell_type": "markdown",
   "id": "b3201a4d",
   "metadata": {},
   "source": [
    "**Note** \n",
    "#### case 1:\n",
    "`'if' condition is not satisfied, for loop exausted and the else statement will be executed.`\n",
    "#### case 2:\n",
    "`When condition is met, the 'break' will be processed and control will come out of the loop. 'Else' statement will not be executed.`"
   ]
  },
  {
   "cell_type": "code",
   "execution_count": 36,
   "id": "fdb7dbd3",
   "metadata": {},
   "outputs": [
    {
     "name": "stdout",
     "output_type": "stream",
     "text": [
      "[0, 0, 1, 0, 1, 2, 0, 1, 2, 3, 0, 1, 2, 3, 4]\n"
     ]
    }
   ],
   "source": [
    "num = 0\n",
    "lst = []\n",
    "while num<=4:\n",
    "    \n",
    "    for i in range(num+1):\n",
    "        if i == 5:\n",
    "            break\n",
    "            \n",
    "        lst.append(i)\n",
    "        i = i+1\n",
    "        \n",
    "    num = num + 1\n",
    "    \n",
    "print(lst)   \n",
    "    "
   ]
  },
  {
   "cell_type": "markdown",
   "id": "5b9b4eff",
   "metadata": {},
   "source": [
    "#### While loop using a flag"
   ]
  },
  {
   "cell_type": "code",
   "execution_count": 5,
   "id": "1744ff5c",
   "metadata": {},
   "outputs": [
    {
     "name": "stdout",
     "output_type": "stream",
     "text": [
      "Tellme something, and I'll repeat it back to you.\n",
      "Enter 'quit' to end program: hello\n",
      "Your message :  hello\n",
      "Tellme something, and I'll repeat it back to you.\n",
      "Enter 'quit' to end program: hi\n",
      "Your message :  hi\n",
      "Tellme something, and I'll repeat it back to you.\n",
      "Enter 'quit' to end program: hello\n",
      "Your message :  hello\n",
      "Tellme something, and I'll repeat it back to you.\n",
      "Enter 'quit' to end program: quit\n"
     ]
    }
   ],
   "source": [
    "prompt = \"Tellme something, and I'll \"\n",
    "prompt += \"repeat it back to you.\"\n",
    "prompt += \"\\nEnter 'quit' to end program: \"\n",
    "\n",
    "# flag\n",
    "active = True\n",
    "\n",
    "while active:\n",
    "    message = input(prompt)\n",
    "    \n",
    "    if message.lower() == \"quit\":\n",
    "        active = False\n",
    "    else:\n",
    "        print(\"Your message : \", message)"
   ]
  },
  {
   "cell_type": "code",
   "execution_count": 7,
   "id": "b08edb88",
   "metadata": {},
   "outputs": [
    {
     "name": "stdout",
     "output_type": "stream",
     "text": [
      "\n",
      "What cities have you visited?\n",
      "Enter 'quit' when you're done.mumbai\n",
      "I have been to Mumbai!\n",
      "\n",
      "What cities have you visited?\n",
      "Enter 'quit' when you're done.quit\n"
     ]
    }
   ],
   "source": [
    "#### using break to exit the loop\n",
    "\n",
    "prompt = \"\\nWhat cities have you visited?\"\n",
    "prompt += \"\\nEnter 'quit' when you're done.\"\n",
    "\n",
    "while True:\n",
    "    city = input(prompt)\n",
    "    \n",
    "    if city.lower() == \"quit\":\n",
    "        break\n",
    "    else:\n",
    "        print(f\"I have been to {city.capitalize()}!\")"
   ]
  },
  {
   "cell_type": "code",
   "execution_count": 12,
   "id": "0ba931e3",
   "metadata": {},
   "outputs": [
    {
     "name": "stdout",
     "output_type": "stream",
     "text": [
      "\n",
      "Add a player to your team.\n",
      "Enter 'quit' when you'r done.david\n",
      "\n",
      "Add a player to your team.\n",
      "Enter 'quit' when you'r done.stive\n",
      "\n",
      "Add a player to your team.\n",
      "Enter 'quit' when you'r done.pat\n",
      "\n",
      "Add a player to your team.\n",
      "Enter 'quit' when you'r done.quit\n",
      "\n",
      "Your Team: \n",
      "\t:1 - David\n",
      "\t:2 - Stive\n",
      "\t:3 - Pat\n"
     ]
    }
   ],
   "source": [
    "### using continue in a loop\n",
    "banned_user = ['eve', 'fred', 'gary', 'helen']\n",
    "\n",
    "prompt = \"\\nAdd a player to your team.\"\n",
    "prompt += \"\\nEnter 'quit' when you'r done.\"\n",
    "\n",
    "players = []\n",
    "\n",
    "while True:\n",
    "    player = input(prompt)\n",
    "    \n",
    "    if player.lower() == 'quit':\n",
    "        break\n",
    "    elif player in banned_user:\n",
    "        print(player + \" is banned!\")\n",
    "    else:\n",
    "        players.append(player)\n",
    "        \n",
    "print(\"\\nYour Team: \")\n",
    "for order, player in enumerate(players,1):\n",
    "    print(f\"\\t:{order} - {player.capitalize()}\")\n",
    "    "
   ]
  },
  {
   "cell_type": "markdown",
   "id": "5a0652f5",
   "metadata": {},
   "source": [
    "### Removing all instances of a value from list."
   ]
  },
  {
   "cell_type": "code",
   "execution_count": 13,
   "id": "4067b19b",
   "metadata": {},
   "outputs": [
    {
     "name": "stdout",
     "output_type": "stream",
     "text": [
      "['dog', 'cat', 'fish', 'rabit', 'mouse', 'dog', 'cat']\n",
      "['dog', 'fish', 'rabit', 'mouse', 'dog']\n"
     ]
    }
   ],
   "source": [
    "pets = ['dog','cat','fish','rabit','mouse','dog','cat']\n",
    "\n",
    "print(pets)\n",
    "print()\n",
    "while 'cat' in pets:\n",
    "    pets.remove('cat')\n",
    "    \n",
    "print(pets)\n"
   ]
  },
  {
   "cell_type": "markdown",
   "id": "83ea7af8",
   "metadata": {},
   "source": [
    "as we can see all the 'cat' has been deleted from the 'pets' list."
   ]
  },
  {
   "cell_type": "markdown",
   "id": "e633ce6c",
   "metadata": {},
   "source": [
    "### Removing all the elements untill the list become empty."
   ]
  },
  {
   "cell_type": "code",
   "execution_count": 3,
   "id": "a2f9b5db",
   "metadata": {},
   "outputs": [
    {
     "name": "stdout",
     "output_type": "stream",
     "text": [
      "['dog', 'cat', 'fish', 'rabit', 'mouse', 'dog', 'cat']\n",
      "\n",
      "[]\n"
     ]
    }
   ],
   "source": [
    "pets = ['dog','cat','fish','rabit','mouse','dog','cat']\n",
    "\n",
    "print(pets)\n",
    "print()\n",
    "while pets:\n",
    "    pets.pop()\n",
    "    \n",
    "print(pets)\n",
    "\n",
    "# when list will be empty then it will return 'False' then while loop will stop the execution."
   ]
  },
  {
   "cell_type": "code",
   "execution_count": 5,
   "id": "1c639aa8",
   "metadata": {},
   "outputs": [
    {
     "name": "stdout",
     "output_type": "stream",
     "text": [
      "Before transfer the element:  ['dog', 'cat', 'fish', 'rabit', 'mouse', 'dog', 'cat']\n",
      "\n",
      "After transfering items pets list :  []\n",
      "\n",
      "New pets list after transfering :  ['dog', 'cat', 'fish', 'rabit', 'mouse', 'dog', 'cat']\n"
     ]
    }
   ],
   "source": [
    "# transfer element from one list to another \n",
    "\n",
    "pets = ['dog','cat','fish','rabit','mouse','dog','cat']\n",
    "print(\"Before transfer the element: \", pets)\n",
    "print()\n",
    "new_pet = []\n",
    "while pets:\n",
    "    new_pet.append(pets.pop(0))\n",
    "    \n",
    "print(\"After transfering items pets list : \", pets)\n",
    "print()\n",
    "print(\"New pets list after transfering : \", new_pet)"
   ]
  },
  {
   "cell_type": "code",
   "execution_count": null,
   "id": "b3c6ffc6",
   "metadata": {},
   "outputs": [],
   "source": []
  }
 ],
 "metadata": {
  "kernelspec": {
   "display_name": "Python 3 (ipykernel)",
   "language": "python",
   "name": "python3"
  },
  "language_info": {
   "codemirror_mode": {
    "name": "ipython",
    "version": 3
   },
   "file_extension": ".py",
   "mimetype": "text/x-python",
   "name": "python",
   "nbconvert_exporter": "python",
   "pygments_lexer": "ipython3",
   "version": "3.9.7"
  }
 },
 "nbformat": 4,
 "nbformat_minor": 5
}
