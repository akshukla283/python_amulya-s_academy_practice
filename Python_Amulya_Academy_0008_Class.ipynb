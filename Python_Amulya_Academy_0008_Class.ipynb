{
 "cells": [
  {
   "cell_type": "markdown",
   "id": "2841e45c",
   "metadata": {},
   "source": [
    "#### Class and Object"
   ]
  },
  {
   "cell_type": "code",
   "execution_count": 1,
   "id": "27130df6",
   "metadata": {},
   "outputs": [
    {
     "name": "stdout",
     "output_type": "stream",
     "text": [
      "Hello Ankit\n",
      "Hello David\n"
     ]
    }
   ],
   "source": [
    "# fucntion\n",
    "# in these 'function' is the main aspect\n",
    "\n",
    "def display(name):\n",
    "    print(\"Hello\", name)\n",
    "    return\n",
    "\n",
    "#main\n",
    "\n",
    "display(\"Ankit\")\n",
    "display(\"David\")\n",
    "\n",
    "\n",
    "# these type programming technique are called as  procedural oriented programming technique"
   ]
  },
  {
   "cell_type": "markdown",
   "id": "2db56861",
   "metadata": {},
   "source": [
    "#### Object Oriented Programming\n",
    "\n",
    "in this `'class'` and `'object'` are main aspects.\n",
    "\n",
    "#### Object\n",
    " \n",
    "`bject is simply collection of 'data' and it's functionality.`\n",
    "\n",
    "`e.g.-- House is an oject , any everything in real world is an object.`\n",
    "\n",
    "#### Class \n",
    "\n",
    "`lass is just a blueprint for an object, that is using this class we can create many objects.`\n",
    "\n",
    "`e.g.-- sketch or prototype of that house is a class, like using this sktech we can create many houses in the similar way using class we can make many objects.`\n"
   ]
  },
  {
   "cell_type": "code",
   "execution_count": 3,
   "id": "1989b184",
   "metadata": {},
   "outputs": [
    {
     "name": "stdout",
     "output_type": "stream",
     "text": [
      "<__main__.Person object at 0x0000017110FB55B0>\n"
     ]
    }
   ],
   "source": [
    "class Person:\n",
    "    pass\n",
    "\n",
    "#main\n",
    "p = Person()\n",
    "print(p)"
   ]
  },
  {
   "cell_type": "markdown",
   "id": "c7345362",
   "metadata": {},
   "source": [
    "as we can see that object is creat at the memory location `'<__main__.Person object at 0x0000017110FB55B0>'`"
   ]
  },
  {
   "cell_type": "markdown",
   "id": "c0de23c2",
   "metadata": {},
   "source": [
    "#### Method \n",
    "\n",
    "`methods are the fucntions belongs to the class.`\n"
   ]
  },
  {
   "cell_type": "code",
   "execution_count": 5,
   "id": "aafc272a",
   "metadata": {},
   "outputs": [
    {
     "name": "stdout",
     "output_type": "stream",
     "text": [
      "Hello\n"
     ]
    }
   ],
   "source": [
    "class Person:\n",
    "    def display(self):   # parameterlist - self , we can use any name but self is prefered by programmer\n",
    "        print(\"Hello\")\n",
    "        \n",
    "p1 = Person()\n",
    "\n",
    "p1.display()  # here it wil be treated as 'display(p1)' so no need to give any argumnet"
   ]
  },
  {
   "cell_type": "code",
   "execution_count": 6,
   "id": "fa7670a6",
   "metadata": {},
   "outputs": [
    {
     "name": "stdout",
     "output_type": "stream",
     "text": [
      "hello David\n"
     ]
    }
   ],
   "source": [
    "#### __init__() special method\n",
    "\n",
    "class Person:\n",
    "    \n",
    "    def __init__(self, name):\n",
    "        self.name = name\n",
    "        \n",
    "    def display(self):\n",
    "        print(\"hello\", self.name)\n",
    "        \n",
    "p1 = Person(\"David\") # here we have to pass an argument because we have take extra parameter 'name'\n",
    "p1.display()\n",
    "# note - no need to call '__init__' because when we create object it automatically called "
   ]
  },
  {
   "cell_type": "markdown",
   "id": "bff045ea",
   "metadata": {},
   "source": [
    "#### Self\n",
    "\n",
    "`why we use self, because 'self' help to make the difference between instance variable and local variable,\n",
    "what is instance variable and what is local variable `\n",
    "\n",
    "`in above class we have seen self.name that instance variable (self.name) and name is local variable`\n",
    "\n",
    "* `instance variable --- self.name`\n",
    "\n",
    "* `local variable  ---- name`"
   ]
  },
  {
   "cell_type": "code",
   "execution_count": 10,
   "id": "3d45f5ca",
   "metadata": {},
   "outputs": [
    {
     "name": "stdout",
     "output_type": "stream",
     "text": [
      "John\n",
      "hello David\n"
     ]
    }
   ],
   "source": [
    "### to differentiate let's take an example \n",
    "\n",
    "class Person:\n",
    "    \n",
    "    def __init__(self, name):\n",
    "        self.name = name\n",
    "        name = \"John\"\n",
    "        print(name)\n",
    "        \n",
    "    def display(self):\n",
    "        print(\"hello\", self.name)\n",
    "        \n",
    "p1 = Person(\"David\") \n",
    "p1.display()"
   ]
  },
  {
   "cell_type": "code",
   "execution_count": 11,
   "id": "55034d26",
   "metadata": {},
   "outputs": [
    {
     "name": "stdout",
     "output_type": "stream",
     "text": [
      "John\n"
     ]
    }
   ],
   "source": [
    "class Person:\n",
    "    \n",
    "    def __init__(self, name):\n",
    "        self.name = name\n",
    "        name = \"John\"\n",
    "        print(name)\n",
    "        \n",
    "    def display(self):\n",
    "        print(\"hello\", self.name)\n",
    "        \n",
    "p1 = Person(\"David\") \n",
    "#p1.display()\n",
    "\n",
    "# 'John' will print because when we created p1 obeject '__init__'  called automaticaly and print(name)\n",
    "# is in the same method"
   ]
  },
  {
   "cell_type": "code",
   "execution_count": 12,
   "id": "f3454859",
   "metadata": {},
   "outputs": [
    {
     "name": "stdout",
     "output_type": "stream",
     "text": [
      "hello David\n"
     ]
    }
   ],
   "source": [
    "class Person:\n",
    "    \n",
    "    def __init__(self, name):\n",
    "        self.name = name\n",
    "        \n",
    "    def display(self):\n",
    "        print(\"hello\", self.name)\n",
    "        \n",
    "# we can call directly\n",
    "Person(\"David\").display()"
   ]
  },
  {
   "cell_type": "markdown",
   "id": "f3b1dbc4",
   "metadata": {},
   "source": [
    "#### Fields \n",
    "\n",
    "these are the data belongs to the class.\n",
    "\n",
    "* Instance Variable\n",
    "\n",
    "* Class variable  ----- -to access this we use class name\n"
   ]
  },
  {
   "cell_type": "code",
   "execution_count": 13,
   "id": "ab5e6508",
   "metadata": {},
   "outputs": [
    {
     "name": "stdout",
     "output_type": "stream",
     "text": [
      "Name of student is :  David\n",
      "Roll Number is :  xyz001\n",
      "College name is :  xyz\n",
      "\n",
      "Name of student is :  John\n",
      "Roll Number is :  xyz002\n",
      "College name is :  xyz\n"
     ]
    }
   ],
   "source": [
    "class Student:\n",
    "    clg = \"xyz\" # class variable \n",
    "    \n",
    "    def __init__(self, name, rollnum):\n",
    "        self.name = name\n",
    "        self.rollnum = rollnum\n",
    "        \n",
    "    def display(self):\n",
    "        \n",
    "        print(\"Name of student is : \", self.name)\n",
    "        print(\"Roll Number is : \", self.rollnum)\n",
    "        print(\"College name is : \", Student.clg) # to access class variavle we should use class name\n",
    "        \n",
    "        \n",
    "student1 = Student(\"David\", \"xyz001\")\n",
    "student1.display()\n",
    "print()\n",
    "student2 = Student(\"John\", \"xyz002\")\n",
    "student2.display()"
   ]
  },
  {
   "cell_type": "code",
   "execution_count": 14,
   "id": "20b67946",
   "metadata": {},
   "outputs": [
    {
     "name": "stdout",
     "output_type": "stream",
     "text": [
      "Hello\n"
     ]
    }
   ],
   "source": [
    "### simple confusion \n",
    "\n",
    "class Person:\n",
    "    def display(self):\n",
    "        print(\"Hello\")\n",
    "        \n",
    "p = Person()\n",
    "p.display()\n",
    "\n",
    "# we got no error "
   ]
  },
  {
   "cell_type": "code",
   "execution_count": 15,
   "id": "abaa37c6",
   "metadata": {},
   "outputs": [
    {
     "ename": "TypeError",
     "evalue": "display() takes 0 positional arguments but 1 was given",
     "output_type": "error",
     "traceback": [
      "\u001b[1;31m---------------------------------------------------------------------------\u001b[0m",
      "\u001b[1;31mTypeError\u001b[0m                                 Traceback (most recent call last)",
      "Input \u001b[1;32mIn [15]\u001b[0m, in \u001b[0;36m<cell line: 8>\u001b[1;34m()\u001b[0m\n\u001b[0;32m      5\u001b[0m         \u001b[38;5;28mprint\u001b[39m(\u001b[38;5;124m\"\u001b[39m\u001b[38;5;124mHello\u001b[39m\u001b[38;5;124m\"\u001b[39m)\n\u001b[0;32m      7\u001b[0m p \u001b[38;5;241m=\u001b[39m Person()\n\u001b[1;32m----> 8\u001b[0m \u001b[43mp\u001b[49m\u001b[38;5;241;43m.\u001b[39;49m\u001b[43mdisplay\u001b[49m\u001b[43m(\u001b[49m\u001b[43m)\u001b[49m\n",
      "\u001b[1;31mTypeError\u001b[0m: display() takes 0 positional arguments but 1 was given"
     ]
    }
   ],
   "source": [
    "# but what if we remove 'self' from parameter\n",
    "\n",
    "class Person:\n",
    "    def display():\n",
    "        print(\"Hello\")\n",
    "        \n",
    "p = Person()\n",
    "p.display()\n",
    "\n",
    "# we got -- TypeError: display() takes 0 positional arguments but 1 was given\n",
    "# because display have no positional arguments\n",
    "# and display has taken as - display(p)"
   ]
  },
  {
   "cell_type": "code",
   "execution_count": 16,
   "id": "d28314b1",
   "metadata": {},
   "outputs": [
    {
     "name": "stdout",
     "output_type": "stream",
     "text": [
      "Hello\n"
     ]
    }
   ],
   "source": [
    "# we can use any name at the place of 'self'\n",
    "class Person:\n",
    "    def display(myself):\n",
    "        print(\"Hello\")\n",
    "        \n",
    "p = Person()\n",
    "p.display()"
   ]
  },
  {
   "cell_type": "code",
   "execution_count": 17,
   "id": "c0bc1c95",
   "metadata": {},
   "outputs": [
    {
     "name": "stdout",
     "output_type": "stream",
     "text": [
      "Hello\n"
     ]
    }
   ],
   "source": [
    "# we can avoid 'self' using @staticmethod\n",
    "\n",
    "class Person:\n",
    "    \n",
    "    @staticmethod\n",
    "    def display():\n",
    "        print(\"Hello\")\n",
    "        \n",
    "p = Person()\n",
    "p.display()"
   ]
  },
  {
   "cell_type": "markdown",
   "id": "3764c2f9",
   "metadata": {},
   "source": [
    "### Proerties of Object Oriented Programming\n",
    "\n",
    "*  **Inheritance**\n",
    "\n",
    "*  **Encapsulation**\n",
    "\n",
    "*  **Polymorphism**"
   ]
  },
  {
   "cell_type": "markdown",
   "id": "d88c8a0c",
   "metadata": {},
   "source": [
    "### Inheritance\n",
    "\n",
    "#### Base Class (Parent Class\n",
    "\n",
    "*  **feature1**\n",
    "*  **feature3**\n",
    "\n",
    "#### Derived Class (Child Class)\n",
    "\n",
    "*  **feature1**\n",
    "\n",
    "*  **feature2**\n",
    "\n",
    "*  **feature3**"
   ]
  },
  {
   "cell_type": "code",
   "execution_count": 18,
   "id": "ff56cec8",
   "metadata": {},
   "outputs": [
    {
     "name": "stdout",
     "output_type": "stream",
     "text": [
      "Eating\n",
      "Bark\n"
     ]
    }
   ],
   "source": [
    "### Simple Inheritance\n",
    "\n",
    "class Animal:\n",
    "    def eating(self):\n",
    "        print(\"Eating\")\n",
    "        \n",
    "class Dog(Animal):\n",
    "    def bark(self):\n",
    "        print(\"Bark\")\n",
    "        \n",
    "d = Dog()\n",
    "d.eating()\n",
    "d.bark()"
   ]
  },
  {
   "cell_type": "code",
   "execution_count": 21,
   "id": "2fb4cb0a",
   "metadata": {},
   "outputs": [
    {
     "name": "stdout",
     "output_type": "stream",
     "text": [
      "Eating\n",
      "Bark\n"
     ]
    }
   ],
   "source": [
    "class Animal:\n",
    "    \n",
    "    @staticmethod   # to avoid self\n",
    "    def eating():\n",
    "        print(\"Eating\")\n",
    "        \n",
    "class Dog(Animal):\n",
    "    @staticmethod\n",
    "    def bark():\n",
    "        print(\"Bark\")\n",
    "        \n",
    "d = Dog()\n",
    "d.eating()\n",
    "d.bark()"
   ]
  },
  {
   "cell_type": "code",
   "execution_count": 22,
   "id": "72746aca",
   "metadata": {},
   "outputs": [
    {
     "name": "stdout",
     "output_type": "stream",
     "text": [
      "Eating\n",
      "Bark\n"
     ]
    }
   ],
   "source": [
    "class Animal:\n",
    "    \n",
    "    @staticmethod   # to avoid self\n",
    "    def eating():\n",
    "        print(\"Eating\")\n",
    "        \n",
    "class Dog(Animal):\n",
    "    \n",
    "    def bark(self):\n",
    "        print(\"Bark\")\n",
    "        \n",
    "d = Dog()\n",
    "d.eating()\n",
    "d.bark()"
   ]
  },
  {
   "cell_type": "code",
   "execution_count": 23,
   "id": "c4ddcecf",
   "metadata": {},
   "outputs": [
    {
     "ename": "AttributeError",
     "evalue": "'Dog' object has no attribute 'eating'",
     "output_type": "error",
     "traceback": [
      "\u001b[1;31m---------------------------------------------------------------------------\u001b[0m",
      "\u001b[1;31mAttributeError\u001b[0m                            Traceback (most recent call last)",
      "Input \u001b[1;32mIn [23]\u001b[0m, in \u001b[0;36m<cell line: 13>\u001b[1;34m()\u001b[0m\n\u001b[0;32m     10\u001b[0m         \u001b[38;5;28mprint\u001b[39m(\u001b[38;5;124m\"\u001b[39m\u001b[38;5;124mBark\u001b[39m\u001b[38;5;124m\"\u001b[39m)\n\u001b[0;32m     12\u001b[0m d \u001b[38;5;241m=\u001b[39m Dog()\n\u001b[1;32m---> 13\u001b[0m \u001b[43md\u001b[49m\u001b[38;5;241;43m.\u001b[39;49m\u001b[43meating\u001b[49m()\n\u001b[0;32m     14\u001b[0m d\u001b[38;5;241m.\u001b[39mbark()\n",
      "\u001b[1;31mAttributeError\u001b[0m: 'Dog' object has no attribute 'eating'"
     ]
    }
   ],
   "source": [
    "# when we didn't use inheritance \n",
    "# means both are simple class \n",
    "\n",
    "class Animal:\n",
    "    def eating(self):\n",
    "        print(\"Eating\")\n",
    "        \n",
    "class Dog:\n",
    "    def bark(self):\n",
    "        print(\"Bark\")\n",
    "        \n",
    "d = Dog()\n",
    "d.eating()\n",
    "d.bark()"
   ]
  },
  {
   "cell_type": "markdown",
   "id": "1ef9515f",
   "metadata": {},
   "source": [
    "As we can see the error as we aspected"
   ]
  },
  {
   "cell_type": "code",
   "execution_count": 24,
   "id": "ff6170ad",
   "metadata": {},
   "outputs": [
    {
     "name": "stdout",
     "output_type": "stream",
     "text": [
      "Jacky\n"
     ]
    }
   ],
   "source": [
    "class Animal:\n",
    "    def __init__(self, name):\n",
    "        self.name = name\n",
    "        \n",
    "class Dog(Animal):\n",
    "    \n",
    "    def display(self):\n",
    "        print(self.name)\n",
    "        \n",
    "d = Dog(\"Jacky\")\n",
    "d.display()\n"
   ]
  },
  {
   "cell_type": "code",
   "execution_count": 25,
   "id": "4efb3630",
   "metadata": {},
   "outputs": [
    {
     "name": "stdout",
     "output_type": "stream",
     "text": [
      "Hello, this is base class Person\n",
      "hello, this is derived class Employee\n",
      "Hello, this is another derived class programmer\n"
     ]
    }
   ],
   "source": [
    "#### Multilevel Inheritance \n",
    "# e.g.  Grandfather - Father- Child\n",
    "\n",
    "# base class\n",
    "class Person:\n",
    "    def display(self):\n",
    "        print(\"Hello, this is base class Person\")\n",
    "        \n",
    "# Derived class 1\n",
    "class Employee(Person):\n",
    "    def printing(self):\n",
    "        print(\"hello, this is derived class Employee\")\n",
    "        \n",
    "# derived class 2\n",
    "class Programmer(Employee):\n",
    "    def show(self):\n",
    "        print(\"Hello, this is another derived class programmer\")\n",
    "        \n",
    "        \n",
    "p1 = Programmer()\n",
    "p1.display()\n",
    "p1.printing()\n",
    "p1.show()"
   ]
  },
  {
   "cell_type": "code",
   "execution_count": 26,
   "id": "18b882ab",
   "metadata": {},
   "outputs": [
    {
     "name": "stdout",
     "output_type": "stream",
     "text": [
      "This animal lives on land\n",
      "This animal lives on land\n"
     ]
    }
   ],
   "source": [
    "#### Multiple Inheritance -- when a derived class have  more than one base class.\n",
    "\n",
    "class Land_Animal:\n",
    "    def printing(self):\n",
    "        print(\"This animal lives on land\")\n",
    "        \n",
    "class Water_Animal:\n",
    "    def display(self):\n",
    "        print(\"This animal lives in water\")\n",
    "        \n",
    "class Frog(Land_Animal, Water_Animal):\n",
    "    pass\n",
    "\n",
    "f1 = Frog()\n",
    "f1.printing()\n",
    "f1.printing()"
   ]
  },
  {
   "cell_type": "code",
   "execution_count": 27,
   "id": "9a2e3494",
   "metadata": {},
   "outputs": [
    {
     "name": "stdout",
     "output_type": "stream",
     "text": [
      "Method belongs to class A\n"
     ]
    }
   ],
   "source": [
    "#### Method Overriding - this is a properties of Inheritance\n",
    "\n",
    "class A:\n",
    "    def display(self):\n",
    "        print(\"Method belongs to class A\")\n",
    "class B(A):\n",
    "    pass\n",
    "\n",
    "b1 = B()\n",
    "b1.display()\n",
    "\n",
    "# this as simple as we have done it aleady now if want change method 'display' in derived class"
   ]
  },
  {
   "cell_type": "code",
   "execution_count": 28,
   "id": "2762632e",
   "metadata": {},
   "outputs": [
    {
     "name": "stdout",
     "output_type": "stream",
     "text": [
      "Method belongs to class B\n"
     ]
    }
   ],
   "source": [
    "class A:\n",
    "    def display(self):\n",
    "        print(\"Method belongs to class A\")\n",
    "class B(A):\n",
    "    def display(self):\n",
    "        print(\"Method belongs to class B\")\n",
    "b1 = B()\n",
    "b1.display()\n",
    "\n",
    "# we have 'override' the base class from child class"
   ]
  },
  {
   "cell_type": "markdown",
   "id": "d8b9f60f",
   "metadata": {},
   "source": [
    "#### Encapsulation\n",
    "We can Restrict the access to the variables and methods this is called encapsulation.\n",
    "\n",
    "\n",
    "`why we use this:`\n",
    "\n",
    "To prevent data from being modifying by accidently.\n",
    "\n",
    "*  Public  ------ we can access any where.\n",
    "\n",
    "*  Private ---- we can't access out side the class and can't make any change in it. But inside class wecan make change using a mthod.\n",
    "\n",
    "*  protected ---- we can access and modify from out side of the class but a responsible developer refain from doing so. "
   ]
  },
  {
   "cell_type": "code",
   "execution_count": 29,
   "id": "0a83dd07",
   "metadata": {},
   "outputs": [
    {
     "name": "stdout",
     "output_type": "stream",
     "text": [
      "Updating software\n",
      "Driving\n"
     ]
    }
   ],
   "source": [
    "class Car:\n",
    "    def __init__(self):\n",
    "        self.__updatesoftware()\n",
    "    def drive(self):\n",
    "        print(\"Driving\")\n",
    "    def __updatesoftware(self):\n",
    "        print(\"Updating software\")\n",
    "        \n",
    "car1 = Car()\n",
    "car1.drive()"
   ]
  },
  {
   "cell_type": "code",
   "execution_count": 30,
   "id": "0db9bb1f",
   "metadata": {},
   "outputs": [
    {
     "name": "stdout",
     "output_type": "stream",
     "text": [
      "Driving\n"
     ]
    },
    {
     "ename": "AttributeError",
     "evalue": "'Car' object has no attribute '__updatesoftware'",
     "output_type": "error",
     "traceback": [
      "\u001b[1;31m---------------------------------------------------------------------------\u001b[0m",
      "\u001b[1;31mAttributeError\u001b[0m                            Traceback (most recent call last)",
      "Input \u001b[1;32mIn [30]\u001b[0m, in \u001b[0;36m<cell line: 12>\u001b[1;34m()\u001b[0m\n\u001b[0;32m     10\u001b[0m car1 \u001b[38;5;241m=\u001b[39m Car()\n\u001b[0;32m     11\u001b[0m car1\u001b[38;5;241m.\u001b[39mdrive()\n\u001b[1;32m---> 12\u001b[0m \u001b[43mcar1\u001b[49m\u001b[38;5;241;43m.\u001b[39;49m\u001b[43m__updatesoftware\u001b[49m()\n",
      "\u001b[1;31mAttributeError\u001b[0m: 'Car' object has no attribute '__updatesoftware'"
     ]
    }
   ],
   "source": [
    "### calling private method outside the class\n",
    "class Car:\n",
    "#     def __init__(self):\n",
    "#         self.__updatesoftware()\n",
    "    def drive(self):\n",
    "        print(\"Driving\")\n",
    "    def __updatesoftware(self):\n",
    "        print(\"Updating software\")\n",
    "        \n",
    "car1 = Car()\n",
    "car1.drive()\n",
    "car1.__updatesoftware()"
   ]
  },
  {
   "cell_type": "code",
   "execution_count": 31,
   "id": "a72f0f0a",
   "metadata": {},
   "outputs": [
    {
     "name": "stdout",
     "output_type": "stream",
     "text": [
      "Driving\n",
      "200\n",
      "100\n"
     ]
    }
   ],
   "source": [
    "class Car:\n",
    "    __maxspeed = 0\n",
    "    __name = \" \"\n",
    "    \n",
    "    def __init__(self):\n",
    "        self.__maxspeed =  200\n",
    "        self.__name = \"SuperCar\"\n",
    "        \n",
    "    def drive(self):\n",
    "        print(\"Driving\")\n",
    "        print(self.__maxspeed)\n",
    "    def setspeed(self, speed):\n",
    "        self.__maxspeed = speed\n",
    "        print(self.__maxspeed)\n",
    "        \n",
    "        \n",
    "newcar = Car()\n",
    "\n",
    "newcar.drive()\n",
    "newcar.setspeed(100)"
   ]
  },
  {
   "cell_type": "code",
   "execution_count": 32,
   "id": "4520aaf9",
   "metadata": {},
   "outputs": [
    {
     "name": "stdout",
     "output_type": "stream",
     "text": [
      "Driving\n",
      "200\n",
      "Driving\n",
      "200\n"
     ]
    }
   ],
   "source": [
    "## Let's try to change private variable outside the class\n",
    "class Car:\n",
    "    __maxspeed = 0\n",
    "    __name = \" \"\n",
    "    \n",
    "    def __init__(self):\n",
    "        self.__maxspeed =  200\n",
    "        self.__name = \"SuperCar\"\n",
    "        \n",
    "    def drive(self):\n",
    "        print(\"Driving\")\n",
    "        print(self.__maxspeed)\n",
    "#     def setspeed(self, speed):\n",
    "#         self.__maxspeed = speed\n",
    "#         print(self.__maxspeed)\n",
    "        \n",
    "        \n",
    "newcar = Car()\n",
    "\n",
    "newcar.drive()\n",
    "newcar.__maxspeed = 100\n",
    "newcar.drive()"
   ]
  },
  {
   "cell_type": "markdown",
   "id": "468d486c",
   "metadata": {},
   "source": [
    "As we can see speed is same as previous means we can't change private variable out side of the class"
   ]
  },
  {
   "cell_type": "markdown",
   "id": "8e06508b",
   "metadata": {},
   "source": [
    "#### `Polymorphism`\n",
    "\n",
    "`Polymorphism is nothing but method which behave differently for different objects. this is a buit-in method.`"
   ]
  },
  {
   "cell_type": "code",
   "execution_count": 33,
   "id": "219e1bb2",
   "metadata": {},
   "outputs": [
    {
     "name": "stdout",
     "output_type": "stream",
     "text": [
      "Meow meow\n",
      "Boww boww\n"
     ]
    }
   ],
   "source": [
    "# example \n",
    "\n",
    "class Dog:\n",
    "    def speak(self):\n",
    "        print(\"Boww boww\")\n",
    "        \n",
    "class Cat:\n",
    "    def speak(self):\n",
    "        print(\"Meow meow\")\n",
    "        \n",
    "def petSpeak(animaltype):\n",
    "    \n",
    "    animaltype.speak()\n",
    "    \n",
    "obj_cat = Cat()\n",
    "obj_dog = Dog()\n",
    "\n",
    "petSpeak(obj_cat) # passing cat object to the function\n",
    "petSpeak(obj_dog) # paasing dog object to the function"
   ]
  },
  {
   "cell_type": "code",
   "execution_count": null,
   "id": "84da774a",
   "metadata": {},
   "outputs": [],
   "source": []
  }
 ],
 "metadata": {
  "kernelspec": {
   "display_name": "Python 3 (ipykernel)",
   "language": "python",
   "name": "python3"
  },
  "language_info": {
   "codemirror_mode": {
    "name": "ipython",
    "version": 3
   },
   "file_extension": ".py",
   "mimetype": "text/x-python",
   "name": "python",
   "nbconvert_exporter": "python",
   "pygments_lexer": "ipython3",
   "version": "3.9.7"
  }
 },
 "nbformat": 4,
 "nbformat_minor": 5
}
