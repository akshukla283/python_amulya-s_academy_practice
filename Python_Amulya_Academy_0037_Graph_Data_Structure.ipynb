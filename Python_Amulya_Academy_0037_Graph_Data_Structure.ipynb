{
 "cells": [
  {
   "cell_type": "markdown",
   "id": "20f7b660",
   "metadata": {},
   "source": [
    "### Graph Data Structure :\n",
    "\n",
    "### Graph :\n",
    "\n",
    "`Graph is a non linear data structure consisting of nodes and edges.`\n",
    "\n",
    "#### Vertices : \n",
    "Nodes are also called vertices.\n",
    "\n",
    "#### Edges :\n",
    "Edges is an arc or line that connects any two nodes in the graph.\n",
    "\n",
    "As we know that Stack, Queue, Linked List are linear data structure in this data stored or organised in linearaly or sequentiall and Tree is a non Linear data structure where data is stored or organised hierarchically.\n",
    "\n",
    "#### note : \n",
    "` Tree is a special type of graph means a tree will always be a graph but not all graph will be trees.`\n",
    "\n",
    "#### Difference between Tree and Graph:\n",
    "\n",
    "#### Graph                                                   \n",
    "1. Graph is a non-linear data structure.\t\n",
    "2. It is a collection of vertices/nodes and edges.\t\n",
    "3. Each node can have any number of edges.\n",
    "4. There is no unique node called root in graph.\t\n",
    "5. A cycle can be formed.\t\n",
    "6. Applications: For finding shortest path in networking graph is used.\t\n",
    "\n",
    "#### Tree:\n",
    "1. Tree is a non-linear data structure.\n",
    "2. It is a collection of nodes and edges.\n",
    "3. \tGeneral trees consist of the nodes having any number of child nodes. But in case of binary trees every node can have at the most two child nodes.\n",
    "4. There is a unique node called root in trees.\n",
    "5. There will not be any cycle.\n",
    "6. Applications: For game trees, decision trees, the tree is used.\n",
    "\n",
    "\n",
    "\n",
    "#### terminologies and symbols\n",
    "\n",
    "`G = (V, E)\n",
    "G = Graph\n",
    "V = Set of vertices\n",
    "E = Set of Edges\n",
    "\n",
    "() : ordered pair\n",
    "{} : unordered pair`\n",
    "\n",
    "#### Where we can use this Graph\n",
    "\n",
    "* We can use in Google maps and GPS to find the sorted path from one destination to another destination.\n",
    "\n",
    "* Also in social network like Facebook and LinkedIn, Graph are used to represent the connection between users \n",
    "\n",
    "* Also in e-commerce website to show the recommendation "
   ]
  },
  {
   "cell_type": "code",
   "execution_count": null,
   "id": "4307d110",
   "metadata": {},
   "outputs": [],
   "source": []
  }
 ],
 "metadata": {
  "kernelspec": {
   "display_name": "Python 3 (ipykernel)",
   "language": "python",
   "name": "python3"
  },
  "language_info": {
   "codemirror_mode": {
    "name": "ipython",
    "version": 3
   },
   "file_extension": ".py",
   "mimetype": "text/x-python",
   "name": "python",
   "nbconvert_exporter": "python",
   "pygments_lexer": "ipython3",
   "version": "3.9.7"
  }
 },
 "nbformat": 4,
 "nbformat_minor": 5
}
