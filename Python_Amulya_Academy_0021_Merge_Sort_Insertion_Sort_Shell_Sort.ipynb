{
 "cells": [
  {
   "cell_type": "markdown",
   "id": "5c797aea",
   "metadata": {},
   "source": [
    "### 4. Merge Sort:\n",
    "\n",
    "`Merge Sort is one of the most popular sorting algorithms that is based on the principle of Divide and Conquer Algorithm`.\n",
    "\n",
    "Here, a problem is divided into multiple sub-problems. Each sub-problem is solved individually. Finally, sub-problems are combined to form the final solution.\n",
    "\n",
    "\n",
    "#### Divide and Conquer Strategy\n",
    "Using the Divide and Conquer technique, we divide a problem into subproblems. When the solution to each subproblem is ready, we 'combine' the results from the subproblems to solve the main problem.\n",
    "\n",
    "`Suppose we had to sort an array A. A subproblem would be to sort a sub-section of this array starting at index p and ending at index r, denoted as A[p..r].`\n",
    "\n",
    "#### Divide\n",
    "\n",
    "If q is the half-way point between p and r, then we can split the subarray `A[p..r]` into two arrays `A[p..q] and A[q+1, r]`.\n",
    "\n",
    "#### Conquer\n",
    "\n",
    "`In the conquer step, we try to sort both the subarrays A[p..q] and A[q+1, r]. If we haven't yet reached the base case, we again divide both these subarrays and try to sort them`.\n",
    "\n",
    "#### Combine\n",
    "\n",
    "`When the conquer step reaches the base step and we get two sorted subarrays A[p..q] and A[q+1, r] for array A[p..r], we combine the results by creating a sorted array A[p..r] from two sorted subarrays A[p..q] and A[q+1, r]`.\n",
    "\n",
    "#### MergeSort Algorithm\n",
    "`The MergeSort function repeatedly divides the array into two halves until we reach a stage where we try to perform MergeSort on a subarray of size 1 i.e. p == r`.\n",
    "\n",
    "`After that, the merge function comes into play and combines the sorted arrays into larger arrays until the whole array is merged`."
   ]
  },
  {
   "cell_type": "code",
   "execution_count": 1,
   "id": "12ea8c91",
   "metadata": {},
   "outputs": [],
   "source": [
    "# we will write program of MergeSort in 3 steps\n",
    "\n",
    "# 1. Will take input - unsorted list\n",
    "\n",
    "# 2. Divide list \n",
    "\n",
    "# 3. Merge"
   ]
  },
  {
   "cell_type": "markdown",
   "id": "6c914665",
   "metadata": {},
   "source": [
    "#### Algorithm :\n",
    "\n",
    "1. Split the unsorted list.\n",
    "2. compare each of the elements and group them.\n",
    "3. repeat step 2 untill whole list is merged and sorted.\n",
    "\n"
   ]
  },
  {
   "cell_type": "code",
   "execution_count": 1,
   "id": "40ccb492",
   "metadata": {},
   "outputs": [
    {
     "name": "stdout",
     "output_type": "stream",
     "text": [
      "Enter the length of the list: 5\n",
      "Enter list's 1 number: 54\n",
      "Enter list's 2 number: 35\n",
      "Enter list's 3 number: 10\n",
      "Enter list's 4 number: 64\n",
      "Enter list's 5 number: 6\n",
      "Unsorted list:  [54, 35, 10, 64, 6]\n",
      "\n",
      "Sorted list:  [6, 10, 35, 54, 64]\n"
     ]
    }
   ],
   "source": [
    "# need to define the function\n",
    "\n",
    "def mergesort(list1):\n",
    "    \n",
    "    if len(list1)> 1:\n",
    "        mid = len(list1)//2\n",
    "        ########################################################\n",
    "        # divide  list in left and right\n",
    "        left_list = list1[:mid] # here left will defined before mid and in next \n",
    "        right_list = list1[mid:] # it will be from mid to last\n",
    "        \n",
    "\n",
    "        mergesort(left_list)\n",
    "        mergesort(right_list) # we need some base condition to stop \n",
    "        #                        the loop otherwise it will stuck in infiniteloop\n",
    "        i =0  # left list index\n",
    "        j = 0 # right list index\n",
    "        k = 0 # we took this to store list1 value from beginning after comparing \n",
    "        #########################################################\n",
    "        # Merge Condition\n",
    "        while i< len(left_list) and j < len(right_list):\n",
    "        # we took this condtion because i is the index of left list and j is the index of right\n",
    "        #list so index must not be greater than length of the list.\n",
    "            \n",
    "            if left_list[i]<right_list[j]: # we need to compare it multple time that's why we \n",
    "                                           # we took it in while loop\n",
    "                list1[k] = left_list[i]\n",
    "                i = i+1\n",
    "                k = k+1\n",
    "            else:\n",
    "                list1[k] = right_list[j]\n",
    "                j = j+1\n",
    "                k = k+1\n",
    "        #########################################################\n",
    "        # we need to compare value multiple time so we need while loop as we above we have \n",
    "        while i< len(left_list):  # this one is check wether any value left out in left list\n",
    "            list1[k] = left_list[i]\n",
    "            i = i+1\n",
    "            k = k+1\n",
    "        while j< len(right_list):  # this one is check wether any value left out in right list\n",
    "            list1[k] = right_list[j]\n",
    "            j = j+1\n",
    "            k = k+1\n",
    "\n",
    "\n",
    "# part 1 taking input from user\n",
    "num = int(input(\"Enter the length of the list: \"))\n",
    "list1 = [int(input(f\"Enter list's {x+1} number: \")) for x in range(num)]\n",
    "\n",
    "print(\"Unsorted list: \", list1)\n",
    "mergesort(list1)\n",
    "print()\n",
    "print(\"Sorted list: \", list1)"
   ]
  },
  {
   "cell_type": "code",
   "execution_count": 4,
   "id": "986813c6",
   "metadata": {},
   "outputs": [
    {
     "name": "stdout",
     "output_type": "stream",
     "text": [
      "Enter the length of the list: 4\n",
      "Enter list number: 64\n",
      "Enter list number: 22\n",
      "Enter list number: 103\n",
      "Enter list number: 20\n",
      "Unsorted list:  [64, 22, 103, 20]\n",
      "\n",
      "Sorted list:  [103, 64, 22, 20]\n"
     ]
    }
   ],
   "source": [
    "#### Descending order \n",
    "\n",
    "# need to definr the function\n",
    "\n",
    "def mergesort(list1):\n",
    "    if len(list1)> 1:\n",
    "           \n",
    "        mid = len(list1)//2\n",
    "        left_list = list1[:mid] # here left will defined before mid an din next \n",
    "        right_list = list1[mid:] # it will be from mid to last\n",
    "\n",
    "        mergesort(left_list)\n",
    "        mergesort(right_list) # we need some base condition to stop \n",
    "        #                        the loop otherwise it will stuck in infiniteloop\n",
    "        i =0\n",
    "        j = 0\n",
    "        k = 0\n",
    "        \n",
    "        while i< len(left_list) and j < len(right_list):\n",
    "            \n",
    "            if left_list[i]>right_list[j]: # just change < to > for descending order\n",
    "                list1[k] = left_list[i]\n",
    "                i = i+1\n",
    "                k = k+1\n",
    "            else:\n",
    "                list1[k] = right_list[j]\n",
    "                j = j+1\n",
    "                k = k+1\n",
    "        while i< len(left_list):  # this one is check wether any value left in left \n",
    "            list1[k] = left_list[i]\n",
    "            i = i+1\n",
    "            k = k+1\n",
    "        while j< len(right_list):  # this one is check wether any value left in right \n",
    "            list1[k] = right_list[j]\n",
    "            j = j+1\n",
    "            k = k+1\n",
    "\n",
    "\n",
    "# part 1 taking input from user\n",
    "num = int(input(\"Enter the length of the list: \"))\n",
    "list1 = [int(input(\"Enter list number: \")) for x in range(num)]\n",
    "\n",
    "print(\"Unsorted list: \", list1)\n",
    "mergesort(list1)\n",
    "print()\n",
    "print(\"Sorted list: \", list1)"
   ]
  },
  {
   "cell_type": "markdown",
   "id": "99d7a38d",
   "metadata": {},
   "source": [
    "#### From Progamiz.com"
   ]
  },
  {
   "cell_type": "code",
   "execution_count": 5,
   "id": "7b1ebbf6",
   "metadata": {},
   "outputs": [
    {
     "name": "stdout",
     "output_type": "stream",
     "text": [
      "Sorted array is: \n",
      "1 5 6 9 10 12 \n"
     ]
    }
   ],
   "source": [
    "# MergeSort in Python\n",
    "\n",
    "\n",
    "def mergeSort(array):\n",
    "    if len(array) > 1:\n",
    "\n",
    "        #  r is the point where the array is divided into two subarrays\n",
    "        r = len(array)//2\n",
    "        L = array[:r]\n",
    "        M = array[r:]\n",
    "\n",
    "        # Sort the two halves\n",
    "        mergeSort(L)\n",
    "        mergeSort(M)\n",
    "\n",
    "        i = j = k = 0\n",
    "\n",
    "        # Until we reach either end of either L or M, pick larger among\n",
    "        # elements L and M and place them in the correct position at A[p..r]\n",
    "        while i < len(L) and j < len(M):\n",
    "            if L[i] < M[j]:\n",
    "                array[k] = L[i]\n",
    "                i += 1\n",
    "            else:\n",
    "                array[k] = M[j]\n",
    "                j += 1\n",
    "            k += 1\n",
    "\n",
    "        # When we run out of elements in either L or M,\n",
    "        # pick up the remaining elements and put in A[p..r]\n",
    "        while i < len(L):\n",
    "            array[k] = L[i]\n",
    "            i += 1\n",
    "            k += 1\n",
    "\n",
    "        while j < len(M):\n",
    "            array[k] = M[j]\n",
    "            j += 1\n",
    "            k += 1\n",
    "\n",
    "\n",
    "# Print the array\n",
    "def printList(array):\n",
    "    for i in range(len(array)):\n",
    "        print(array[i], end=\" \")\n",
    "    print()\n",
    "\n",
    "\n",
    "# Driver program\n",
    "if __name__ == '__main__':\n",
    "    array = [6, 5, 12, 10, 9, 1]\n",
    "\n",
    "    mergeSort(array)\n",
    "\n",
    "    print(\"Sorted array is: \")\n",
    "    printList(array)"
   ]
  },
  {
   "cell_type": "code",
   "execution_count": null,
   "id": "8cfba2ad",
   "metadata": {},
   "outputs": [],
   "source": []
  },
  {
   "cell_type": "code",
   "execution_count": null,
   "id": "b4fef090",
   "metadata": {},
   "outputs": [],
   "source": []
  },
  {
   "cell_type": "code",
   "execution_count": null,
   "id": "58f40dc6",
   "metadata": {},
   "outputs": [],
   "source": []
  },
  {
   "cell_type": "markdown",
   "id": "8ed37e27",
   "metadata": {},
   "source": [
    "## 5.   Insertion Sort\n",
    "\n",
    "is a simple sorting algorithm, that builds the final sorted list one item at a time.\n",
    "\n",
    "\n",
    "Insertion sort is a sorting algorithm that places an unsorted element at its suitable place in each iteration.\n",
    "\n",
    "Insertion sort works similarly as we sort cards in our hand in a card game.\n",
    "\n",
    "We assume that the first card is already sorted then, we select an unsorted card. If the unsorted card is greater than the card in hand, it is placed on the right otherwise, to the left. In the same way, other unsorted cards are taken and put in their right place.\n",
    "\n",
    "A similar approach is used by insertion sort."
   ]
  },
  {
   "cell_type": "markdown",
   "id": "33dc971a",
   "metadata": {},
   "source": [
    "#### Algorithm \n",
    "\n",
    "1. consider the first element to be sorted and the rest to be unsorted.\n",
    "\n",
    "2. take the first element in the unsorted part(u1) and compare it with sorted part elements(s1).\n",
    "\n",
    "3. if u1<s1 then insert u1 in the correct index, else leave it as it is.\n",
    "\n",
    "4. take next element in the unsorted part and compare with sorted elements.\n",
    "\n",
    "5. Repeat 3 and 4 until all the elements are sorted."
   ]
  },
  {
   "cell_type": "code",
   "execution_count": 2,
   "id": "a43ecd44",
   "metadata": {},
   "outputs": [
    {
     "name": "stdout",
     "output_type": "stream",
     "text": [
      "Unsorte list1:  [2, 4, 3, 5, 1]\n",
      "\n",
      "[2, 4, 4, 5, 1]\n",
      "[2, 3, 4, 5, 5]\n",
      "[2, 3, 4, 4, 5]\n",
      "[2, 3, 3, 4, 5]\n",
      "[2, 2, 3, 4, 5]\n",
      "Sorted list1:  [1, 2, 3, 4, 5]\n"
     ]
    }
   ],
   "source": [
    "# Insertion Sort in Ascending order \n",
    "def insertionSort(my_list):\n",
    "    for index in range(1, len(my_list)):\n",
    "        #here we took range from one because 0th we have already taken as sorted list part \n",
    "        current_element = my_list[index]  # taken as sorted list value\n",
    "        # we have taken cuurrent element\n",
    "        # now to campare with sorted value we need one more variable \n",
    "        pos = index\n",
    "        while current_element < my_list[pos - 1] and pos > 0:\n",
    "            my_list[pos] = my_list[pos - 1]\n",
    "            pos = pos - 1\n",
    "            \n",
    "        \n",
    "        my_list[pos] = current_element\n",
    "        \n",
    "\n",
    "list1 = [2,4,3,5,1]\n",
    "print(\"Unsorte list1: \",list1)\n",
    "print()\n",
    "insertionSort(list1)\n",
    "print(\"Sorted list1: \", list1)"
   ]
  },
  {
   "cell_type": "code",
   "execution_count": 7,
   "id": "6af985ce",
   "metadata": {},
   "outputs": [
    {
     "name": "stdout",
     "output_type": "stream",
     "text": [
      "Unsorte list1:  [2, 4, 3, 5, 1]\n",
      "\n",
      "Sorted list1:  [5, 4, 3, 2, 1]\n"
     ]
    }
   ],
   "source": [
    "### Insertion Sort in descending order \n",
    "\n",
    "def insertionSort(my_list):\n",
    "    for index in range(1, len(my_list)): # here we have taken range fromone because 0th we have already \n",
    "        current_element = my_list[index]  # taken as sorted list value\n",
    "        # we have taken cuurrent element\n",
    "        # now to campare with sorted value we need one more variable \n",
    "        pos = index\n",
    "        while current_element > my_list[pos - 1] and pos > 0:\n",
    "            my_list[pos] = my_list[pos - 1]\n",
    "            pos = pos - 1\n",
    "        \n",
    "        my_list[pos] = current_element\n",
    "\n",
    "list1 = [2,4,3,5,1]\n",
    "print(\"Unsorte list1: \",list1)\n",
    "print()\n",
    "insertionSort(list1)\n",
    "print(\"Sorted list1: \", list1)"
   ]
  },
  {
   "cell_type": "markdown",
   "id": "f3a4060d",
   "metadata": {},
   "source": [
    "#### Taking input from user"
   ]
  },
  {
   "cell_type": "code",
   "execution_count": 8,
   "id": "2e75ca2c",
   "metadata": {},
   "outputs": [
    {
     "name": "stdout",
     "output_type": "stream",
     "text": [
      "How many number you want into the list:  4\n",
      "Enter the value in list1: 32\n",
      "Enter the value in list1: 56\n",
      "Enter the value in list1: 12\n",
      "Enter the value in list1: 5\n",
      "Unsorte list1:  [32, 56, 12, 5]\n",
      "\n",
      "Sorted list1:  [5, 12, 32, 56]\n"
     ]
    }
   ],
   "source": [
    "def insertionSort(my_list):\n",
    "    for index in range(1, len(my_list)): # here we have taken range fromone because 0th we have already \n",
    "        current_element = my_list[index]  # taken as sorted list value\n",
    "        # we have taken cuurrent element\n",
    "        # now to campare with sorted value we need one more variable \n",
    "        pos = index\n",
    "        while current_element < my_list[pos - 1] and pos > 0:\n",
    "            my_list[pos] = my_list[pos - 1]\n",
    "            pos = pos - 1\n",
    "        \n",
    "        my_list[pos] = current_element\n",
    "\n",
    "num = int(input(\"How many number you want into the list:  \"))\n",
    "list1 = [int(input(\"Enter the value in list1: \")) for x in range(num)]\n",
    "print(\"Unsorte list1: \",list1)\n",
    "print()\n",
    "insertionSort(list1)\n",
    "print(\"Sorted list1: \", list1)"
   ]
  },
  {
   "cell_type": "code",
   "execution_count": 9,
   "id": "55d1163c",
   "metadata": {},
   "outputs": [
    {
     "name": "stdout",
     "output_type": "stream",
     "text": [
      "Sorted Array in Ascending Order:\n",
      "[1, 3, 4, 5, 9]\n"
     ]
    }
   ],
   "source": [
    "### From Programiz.com\n",
    "\n",
    "# Insertion sort in Python\n",
    "\n",
    "\n",
    "def insertionSort(array):\n",
    "\n",
    "    for step in range(1, len(array)):\n",
    "        key = array[step]\n",
    "        j = step - 1\n",
    "        \n",
    "        # Compare key with each element on the left of it until an element smaller than it is found\n",
    "        # For descending order, change key<array[j] to key>array[j].        \n",
    "        while j >= 0 and key < array[j]:\n",
    "            array[j + 1] = array[j]\n",
    "            j = j - 1\n",
    "        \n",
    "        # Place key at after the element just smaller than it.\n",
    "        array[j + 1] = key\n",
    "\n",
    "\n",
    "data = [9, 5, 1, 4, 3]\n",
    "insertionSort(data)\n",
    "print('Sorted Array in Ascending Order:')\n",
    "print(data)\n"
   ]
  },
  {
   "cell_type": "code",
   "execution_count": null,
   "id": "1117e445",
   "metadata": {},
   "outputs": [],
   "source": []
  },
  {
   "cell_type": "code",
   "execution_count": null,
   "id": "1498957a",
   "metadata": {},
   "outputs": [],
   "source": []
  },
  {
   "cell_type": "markdown",
   "id": "2a29b015",
   "metadata": {},
   "source": [
    "#### Difference between Insertion Sort and Selection Sort"
   ]
  },
  {
   "cell_type": "markdown",
   "id": "bcef6258",
   "metadata": {},
   "source": [
    "#### Insertion Sort\n",
    "\n",
    "Take the element immmediately following the sorted data, scan through the sorted data to find the place to put it, and put it there. Repeat untill finished.\n",
    "\n",
    "\n",
    "#### Selection Sort :\n",
    "\n",
    "Scan through the unsorted data looking for the smallest remaining element, then swap it into the position immediately folowing the sorted data. Repeat untill finished."
   ]
  },
  {
   "cell_type": "markdown",
   "id": "542ac5fd",
   "metadata": {},
   "source": [
    "## Shell Sort Algorithm :\n",
    "\n",
    "* Shell Sort is a variation of insertion sort.\n",
    "\n",
    "* This sorting algorithm is devised by `Donald L. Shell in 1959.`\n",
    "\n",
    "* Sometimes called as `\"diminishing incrementsort\".`\n",
    "\n",
    "Shell sort is a generalized version of the insertion sort algorithm. It first sorts elements that are far apart from each other and successively reduces the interval between the elements to be sorted.\n",
    "\n",
    "The interval between the elements is reduced based on the sequence used. Some of the optimal sequences that can be used in the shell sort algorithm are:\n",
    "\n",
    "* `Shell's original sequence:` N/2 , N/4 , …, 1\n",
    "\n",
    "* `Knuth's increments:` 1, 4, 13, …, (3k – 1) / 2\n",
    "\n",
    "* `Sedgewick's increments:` 1, 8, 23, 77, 281, 1073, 4193, 16577...4j+1+ 3·2j+ 1\n",
    "\n",
    "* `Hibbard's increments:` 1, 3, 7, 15, 31, 63, 127, 255, 511…\n",
    "\n",
    "* `Papernov & Stasevich increment:` 1, 3, 5, 9, 17, 33, 65,...\n",
    "\n",
    "* `Pratt:` 1, 2, 3, 4, 6, 9, 8, 12, 18, 27, 16, 24, 36, 54, 81....\n",
    "\n",
    "* `Note:` The performance of the shell sort depends on the type of sequence used for a given input array.\n",
    "\n",
    "\n",
    "\n",
    "#### How Shell Sort improves Insertion sort algorithm?\n",
    "\n",
    "`* By breaking the original list into a number of smaller sublists, each sublist is sorted using the insertion sort.`\n",
    "\n",
    "`* It will move the items nearer to its original index.`\n",
    "\n",
    "\n",
    "### Algorithm:\n",
    "\n",
    "1. Take the list of numbers\n",
    "\n",
    "2. find out the gap/incrementor \n",
    "\n",
    "3. create the sublist based on gap and sort them using insertion sort algorithm.\n",
    "\n",
    "4. reduce gap and repeat step 3.\n",
    "\n",
    "5. stop when gap is 0.\n",
    "\n",
    "\n",
    "\n",
    "\n",
    "#### Note:\n",
    "\n",
    "* An insertion sort basically skips to the last step of shell sort. So shell sort can be consider as a generalition of insertion sort. But we can also view shell sort as a way to improve the efficiency of insertion sort by using it on smaller sublists.\n",
    "\n",
    "\n",
    "* Unlike the insertion sort, Shell sort doesn't sort the entire array at once. Instead it divides the array into noncontiguous segments, which are separately sorted by using insertion sort."
   ]
  },
  {
   "cell_type": "code",
   "execution_count": 11,
   "id": "8056c697",
   "metadata": {},
   "outputs": [
    {
     "name": "stdout",
     "output_type": "stream",
     "text": [
      "List Length: 9\n",
      "Enter value in list: 54\n",
      "Enter value in list: 26\n",
      "Enter value in list: 93\n",
      "Enter value in list: 17\n",
      "Enter value in list: 77\n",
      "Enter value in list: 31\n",
      "Enter value in list: 44\n",
      "Enter value in list: 55\n",
      "Enter value in list: 20\n",
      "Unsorted list:  [54, 26, 93, 17, 77, 31, 44, 55, 20]\n",
      "\n",
      "Sorted list1:  [17, 20, 26, 31, 44, 54, 55, 77, 93]\n"
     ]
    }
   ],
   "source": [
    "# Ascending Order \n",
    "def shellSort(alist):\n",
    "    gap = len(alist)//2\n",
    "    while gap>0:  # this is stoping condition for the loop\n",
    "        for index in range(gap, len(alist)):\n",
    "            current_element = alist[index]\n",
    "            pos = index\n",
    "            while pos>= gap and current_element < alist[pos - gap]: # we can't write directly zero\n",
    "                # that's why we took this \n",
    "                alist[pos] = alist[pos-gap]\n",
    "                pos = pos - gap # in insertion sort we did -1 but here w took gap because \n",
    "                # we are comparing sublist value instead of adjacent value.\n",
    "            alist[pos] = current_element\n",
    "        # we need to reduce the gap as per algorithm.   \n",
    "        gap = gap//2 \n",
    "        \n",
    "num = int(input(\"List Length: \"))\n",
    "list1 = [int(input(f\"Enter {x+1} value in list: \")) for x in range(num)]\n",
    "print(\"Unsorted list: \", list1)\n",
    "print()\n",
    "shellSort(list1)\n",
    "print(\"Sorted list1: \", list1)"
   ]
  },
  {
   "cell_type": "code",
   "execution_count": 12,
   "id": "fb3c4bc2",
   "metadata": {},
   "outputs": [
    {
     "name": "stdout",
     "output_type": "stream",
     "text": [
      "List Length: 4\n",
      "Enter value in list: 56\n",
      "Enter value in list: 33\n",
      "Enter value in list: 89\n",
      "Enter value in list: 3\n",
      "Unsorted list:  [56, 33, 89, 3]\n",
      "\n",
      "Sorted list1:  [89, 56, 33, 3]\n"
     ]
    }
   ],
   "source": [
    "# Descending Order\n",
    "\n",
    "def shellSort(alist):\n",
    "    gap = len(alist)//2\n",
    "    while gap>0:  # this is stoping condition for the loop\n",
    "        \n",
    "        for index in range(gap, len(alist)):# we took range from gap to  len(list) because \n",
    "            # we are going to check sublist value not adjacent value \n",
    "            current_element = alist[index]\n",
    "            pos = index\n",
    "            while pos>= gap and current_element > alist[pos - gap]:\n",
    "                alist[pos] = alist[pos-gap]\n",
    "                pos = pos - gap\n",
    "            alist[pos] = current_element\n",
    "            \n",
    "        gap = gap//2\n",
    "        \n",
    "num = int(input(\"List Length: \"))\n",
    "list1 = [int(input(\"Enter value in list: \")) for x in range(num)]\n",
    "print(\"Unsorted list: \", list1)\n",
    "print()\n",
    "shellSort(list1)\n",
    "print(\"Sorted list1: \", list1)"
   ]
  },
  {
   "cell_type": "code",
   "execution_count": 13,
   "id": "521a182e",
   "metadata": {},
   "outputs": [
    {
     "name": "stdout",
     "output_type": "stream",
     "text": [
      "Sorted Array in Ascending Order:\n",
      "[1, 3, 4, 5, 6, 7, 8, 9]\n"
     ]
    }
   ],
   "source": [
    "#### From Programiz.com\n",
    "\n",
    "# Shell sort in python\n",
    "\n",
    "\n",
    "def shellSort(array, n):\n",
    "\n",
    "    # Rearrange elements at each n/2, n/4, n/8, ... intervals\n",
    "    interval = n // 2\n",
    "    while interval > 0:\n",
    "        for i in range(interval, n):\n",
    "            temp = array[i]\n",
    "            j = i\n",
    "            while j >= interval and array[j - interval] > temp:\n",
    "                array[j] = array[j - interval]\n",
    "                j -= interval\n",
    "\n",
    "            array[j] = temp\n",
    "        interval //= 2\n",
    "\n",
    "\n",
    "data = [9, 8, 3, 7, 5, 6, 4, 1]\n",
    "size = len(data)\n",
    "shellSort(data, size)\n",
    "print('Sorted Array in Ascending Order:')\n",
    "print(data)"
   ]
  },
  {
   "cell_type": "code",
   "execution_count": null,
   "id": "3eafa107",
   "metadata": {},
   "outputs": [],
   "source": []
  }
 ],
 "metadata": {
  "kernelspec": {
   "display_name": "Python 3 (ipykernel)",
   "language": "python",
   "name": "python3"
  },
  "language_info": {
   "codemirror_mode": {
    "name": "ipython",
    "version": 3
   },
   "file_extension": ".py",
   "mimetype": "text/x-python",
   "name": "python",
   "nbconvert_exporter": "python",
   "pygments_lexer": "ipython3",
   "version": "3.9.7"
  }
 },
 "nbformat": 4,
 "nbformat_minor": 5
}
