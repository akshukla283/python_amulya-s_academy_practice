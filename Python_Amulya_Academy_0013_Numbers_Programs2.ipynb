{
 "cells": [
  {
   "cell_type": "markdown",
   "id": "18f91995",
   "metadata": {},
   "source": [
    "#### Happy Numbers:\n",
    "\n",
    "* \"happy Number\" is a number which eventually reaches 1 when replaced by the sum of square of each digit.\n",
    "\n",
    "* e.g. 13  = 1^2 + 3^2 = 10 now 13 will be replace by 10 and will apply the same previous for mulula 10 = 1^2 + 0^2 = 1 which means 13 is Happy Number.\n",
    "\n",
    "* So the happy number is a number, where starting with any positive integers replace the number by the sum of squares of its digits, this process will be repeated until it becomes 1, otherwise it will loop endlessly in a cycle. Those numbers, when the 1 has found, they will be happy number."
   ]
  },
  {
   "cell_type": "code",
   "execution_count": 5,
   "id": "f748f920",
   "metadata": {},
   "outputs": [
    {
     "name": "stdout",
     "output_type": "stream",
     "text": [
      "Enter the number: 5\n",
      "5 is not Happy number\n"
     ]
    }
   ],
   "source": [
    "\n",
    "\n",
    "def sumofdigit(n):\n",
    "    res = 0\n",
    "    rem = 0\n",
    "    while n > 0:\n",
    "        rem = n%10  # for getting the last digit.\n",
    "        res = res + rem * rem # for square.\n",
    "        n = n//10  # for removing last digit from the number.\n",
    "    return res\n",
    "\n",
    "n = int(input(\"Enter the number: \"))\n",
    "result= n\n",
    "while result != 1 and result != 4:\n",
    "    result = sumofdigit(result)\n",
    "    \n",
    "if result == 1:\n",
    "    print(n, \" is Happy Number\")\n",
    "else:\n",
    "    print(n, \"is not Happy number\")\n",
    "    "
   ]
  },
  {
   "cell_type": "code",
   "execution_count": 3,
   "id": "01f562ec",
   "metadata": {},
   "outputs": [
    {
     "data": {
      "text/plain": [
       "3"
      ]
     },
     "execution_count": 3,
     "metadata": {},
     "output_type": "execute_result"
    }
   ],
   "source": [
    "3%10"
   ]
  },
  {
   "cell_type": "code",
   "execution_count": null,
   "id": "d6a14abe",
   "metadata": {},
   "outputs": [],
   "source": []
  }
 ],
 "metadata": {
  "kernelspec": {
   "display_name": "Python 3 (ipykernel)",
   "language": "python",
   "name": "python3"
  },
  "language_info": {
   "codemirror_mode": {
    "name": "ipython",
    "version": 3
   },
   "file_extension": ".py",
   "mimetype": "text/x-python",
   "name": "python",
   "nbconvert_exporter": "python",
   "pygments_lexer": "ipython3",
   "version": "3.9.7"
  }
 },
 "nbformat": 4,
 "nbformat_minor": 5
}
