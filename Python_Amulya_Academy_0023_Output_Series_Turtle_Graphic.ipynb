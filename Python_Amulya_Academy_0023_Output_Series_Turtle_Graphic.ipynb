{
 "cells": [
  {
   "cell_type": "code",
   "execution_count": 1,
   "id": "2e80e6c4",
   "metadata": {},
   "outputs": [
    {
     "name": "stdout",
     "output_type": "stream",
     "text": [
      "[] False\n"
     ]
    }
   ],
   "source": [
    "### Guess the output\n",
    "\n",
    "\n",
    "x = []\n",
    "if x:\n",
    "    print(x, \"True\")\n",
    "else:\n",
    "    print(x, \"False\")"
   ]
  },
  {
   "cell_type": "code",
   "execution_count": 2,
   "id": "917e5cd7",
   "metadata": {},
   "outputs": [
    {
     "name": "stdout",
     "output_type": "stream",
     "text": [
      " False\n"
     ]
    }
   ],
   "source": [
    "x = \"\"\n",
    "if x:\n",
    "    print(x, \"True\")\n",
    "else:\n",
    "    print(x, \"False\")"
   ]
  },
  {
   "cell_type": "code",
   "execution_count": 3,
   "id": "0e35f8e8",
   "metadata": {},
   "outputs": [
    {
     "name": "stdout",
     "output_type": "stream",
     "text": [
      "0 False\n"
     ]
    }
   ],
   "source": [
    "x = 0\n",
    "if x:\n",
    "    print(x, \"True\")\n",
    "else:\n",
    "    print(x, \"False\")"
   ]
  },
  {
   "cell_type": "code",
   "execution_count": 4,
   "id": "035af7a0",
   "metadata": {},
   "outputs": [
    {
     "name": "stdout",
     "output_type": "stream",
     "text": [
      "{} False\n"
     ]
    }
   ],
   "source": [
    "x = {}\n",
    "if x:\n",
    "    print(x, \"True\")\n",
    "else:\n",
    "    print(x, \"False\")"
   ]
  },
  {
   "cell_type": "code",
   "execution_count": 5,
   "id": "d19722d2",
   "metadata": {},
   "outputs": [
    {
     "name": "stdout",
     "output_type": "stream",
     "text": [
      "() False\n"
     ]
    }
   ],
   "source": [
    "x = ()\n",
    "if x:\n",
    "    print(x, \"True\")\n",
    "else:\n",
    "    print(x, \"False\")"
   ]
  },
  {
   "cell_type": "code",
   "execution_count": 6,
   "id": "23022aa8",
   "metadata": {},
   "outputs": [
    {
     "name": "stdout",
     "output_type": "stream",
     "text": [
      "None False\n"
     ]
    }
   ],
   "source": [
    "x = None\n",
    "if x:\n",
    "    print(x, \"True\")\n",
    "else:\n",
    "    print(x, \"False\")"
   ]
  },
  {
   "cell_type": "code",
   "execution_count": 7,
   "id": "45fd5277",
   "metadata": {},
   "outputs": [
    {
     "name": "stdout",
     "output_type": "stream",
     "text": [
      "False False\n"
     ]
    }
   ],
   "source": [
    "x = False\n",
    "if x:\n",
    "    print(x, \"True\")\n",
    "else:\n",
    "    print(x, \"False\")"
   ]
  },
  {
   "cell_type": "markdown",
   "id": "3820625d",
   "metadata": {},
   "source": [
    "Any Thing empty in python will treated as false (0)"
   ]
  },
  {
   "cell_type": "code",
   "execution_count": 8,
   "id": "a1fec550",
   "metadata": {},
   "outputs": [
    {
     "name": "stdout",
     "output_type": "stream",
     "text": [
      "True\n"
     ]
    }
   ],
   "source": [
    "## Guess the output\n",
    "\n",
    "p = (1, 10)\n",
    "q = 0\n",
    "r = []\n",
    "\n",
    "if p or q and r:\n",
    "    print(\"True\")\n",
    "else:\n",
    "    print(\"False\")\n",
    "    \n",
    "# this program based on logic and as well as operator precedence\n",
    "\n",
    "# here 'and' operator has highest precedence than \" or \"\n",
    "# so here q and r is false \n",
    "# p and False now p is tuple have value means tuple is True so in 'or' condtion  True will print True"
   ]
  },
  {
   "cell_type": "code",
   "execution_count": 1,
   "id": "ecdaad6f",
   "metadata": {},
   "outputs": [
    {
     "name": "stdout",
     "output_type": "stream",
     "text": [
      "['ABC', 'XYZ', 'pqR']\n"
     ]
    }
   ],
   "source": [
    "list1 = [\"ABC\", \"XYZ\", \"pqR\"]\n",
    "\n",
    "for i in list1:\n",
    "    i.lower()  # lower method doen't convert string into lower permanently \n",
    "                # here we didn't store is somemhere or printed so only list1 will print because it's\n",
    "                # out of loop\n",
    "print(list1)"
   ]
  },
  {
   "cell_type": "code",
   "execution_count": 2,
   "id": "93fc322b",
   "metadata": {},
   "outputs": [
    {
     "name": "stdout",
     "output_type": "stream",
     "text": [
      "['ABC', 'XYZ', 'pqR']\n",
      "['abc', 'xyz', 'pqr']\n"
     ]
    }
   ],
   "source": [
    "# we want to convert then\n",
    "\n",
    "list1 = [\"ABC\", \"XYZ\", \"pqR\"]\n",
    "list2 = []\n",
    "for i in list1:\n",
    "    x = i.lower()  \n",
    "    list2.append(x)\n",
    "    \n",
    "print(list1)\n",
    "print(list2)"
   ]
  },
  {
   "cell_type": "code",
   "execution_count": 1,
   "id": "1f60f53f",
   "metadata": {},
   "outputs": [
    {
     "data": {
      "text/plain": [
       "'abc'"
      ]
     },
     "execution_count": 1,
     "metadata": {},
     "output_type": "execute_result"
    }
   ],
   "source": [
    "\"ABc\".lower()"
   ]
  },
  {
   "cell_type": "code",
   "execution_count": null,
   "id": "ccd4566b",
   "metadata": {},
   "outputs": [],
   "source": []
  },
  {
   "cell_type": "code",
   "execution_count": 3,
   "id": "84c80329",
   "metadata": {},
   "outputs": [
    {
     "ename": "KeyboardInterrupt",
     "evalue": "",
     "output_type": "error",
     "traceback": [
      "\u001b[1;31m---------------------------------------------------------------------------\u001b[0m",
      "\u001b[1;31mKeyboardInterrupt\u001b[0m                         Traceback (most recent call last)",
      "Input \u001b[1;32mIn [3]\u001b[0m, in \u001b[0;36m<cell line: 4>\u001b[1;34m()\u001b[0m\n\u001b[0;32m      3\u001b[0m list1 \u001b[38;5;241m=\u001b[39m [\u001b[38;5;124m\"\u001b[39m\u001b[38;5;124mabc\u001b[39m\u001b[38;5;124m\"\u001b[39m, \u001b[38;5;124m\"\u001b[39m\u001b[38;5;124m123\u001b[39m\u001b[38;5;124m\"\u001b[39m]\n\u001b[0;32m      4\u001b[0m \u001b[38;5;28;01mfor\u001b[39;00m i \u001b[38;5;129;01min\u001b[39;00m list1:\n\u001b[1;32m----> 5\u001b[0m     \u001b[43mlist1\u001b[49m\u001b[38;5;241;43m.\u001b[39;49m\u001b[43mappend\u001b[49m(i)\n\u001b[0;32m      7\u001b[0m \u001b[38;5;28mprint\u001b[39m(list1)\n",
      "\u001b[1;31mKeyboardInterrupt\u001b[0m: "
     ]
    }
   ],
   "source": [
    "# ### Guess the output \n",
    "\n",
    "# list1 = [\"abc\", \"123\"]\n",
    "# for i in list1:\n",
    "#     list1.append(i) # here for loop become infinite because every iteration it will append new value \n",
    "    \n",
    "# print(list1)  # infinte loop restart your kernel to STOP the infinite loop"
   ]
  },
  {
   "cell_type": "code",
   "execution_count": 9,
   "id": "cc35fda1",
   "metadata": {},
   "outputs": [
    {
     "name": "stdout",
     "output_type": "stream",
     "text": [
      "1\n",
      "2\n",
      "3\n",
      "4\n"
     ]
    }
   ],
   "source": [
    "### Guess the output\n",
    "for i in range(1,20):\n",
    "    if i == 5:\n",
    "        break  # The break statement terminate the loop containg it\n",
    "    else:\n",
    "        print(i)\n",
    "else:              # here else is also turminate the by break\n",
    "    print(\"Hello\")\n",
    "    \n",
    "#"
   ]
  },
  {
   "cell_type": "code",
   "execution_count": 13,
   "id": "e2963368",
   "metadata": {},
   "outputs": [
    {
     "name": "stdout",
     "output_type": "stream",
     "text": [
      "1\n",
      "2\n",
      "3\n",
      "4\n",
      "6\n",
      "7\n",
      "8\n",
      "9\n",
      "10\n",
      "11\n",
      "12\n",
      "13\n",
      "14\n",
      "15\n",
      "16\n",
      "17\n",
      "18\n",
      "19\n",
      "Hello\n"
     ]
    }
   ],
   "source": [
    "for i in range(1,20):\n",
    "    if i == 5:\n",
    "        pass\n",
    "         \n",
    "    else:\n",
    "        print(i)\n",
    "else:\n",
    "    print(\"Hello\")"
   ]
  },
  {
   "cell_type": "code",
   "execution_count": 14,
   "id": "906d9712",
   "metadata": {},
   "outputs": [
    {
     "name": "stdout",
     "output_type": "stream",
     "text": [
      "1\n",
      "2\n",
      "3\n",
      "4\n",
      "6\n",
      "7\n",
      "8\n",
      "9\n",
      "10\n",
      "11\n",
      "12\n",
      "13\n",
      "14\n",
      "15\n",
      "16\n",
      "17\n",
      "18\n",
      "19\n",
      "Hello\n"
     ]
    }
   ],
   "source": [
    "# Using continue\n",
    "\n",
    "for i in range(1,20):\n",
    "    if i == 5:\n",
    "        continue  # here loop skip the True condition \n",
    "         \n",
    "    else:\n",
    "        print(i)\n",
    "else:\n",
    "    print(\"Hello\")"
   ]
  },
  {
   "cell_type": "code",
   "execution_count": 15,
   "id": "e172ae8b",
   "metadata": {},
   "outputs": [
    {
     "name": "stdout",
     "output_type": "stream",
     "text": [
      "[['few', 'words']]\n",
      "['few', 'words']\n",
      "r\n"
     ]
    }
   ],
   "source": [
    "list1 = [\"These\", \"are\",\"a\", [\"few\", \"words\"], \"that\", \"we\", \"will\", \"use\"]\n",
    "\n",
    "print(list1[3:4])\n",
    "print(list1[3:4][0])\n",
    "print(list1[3:4][0][1][2])"
   ]
  },
  {
   "cell_type": "code",
   "execution_count": 16,
   "id": "f6efcdf6",
   "metadata": {},
   "outputs": [
    {
     "name": "stdout",
     "output_type": "stream",
     "text": [
      "['are']\n"
     ]
    }
   ],
   "source": [
    "list1 = [\"These\", \"are\",\"a\", [\"few\", \"words\"], \"that\", \"we\", \"will\", \"use\"]\n",
    "print(list1[1:2])\n"
   ]
  },
  {
   "cell_type": "code",
   "execution_count": 17,
   "id": "a5cd0837",
   "metadata": {},
   "outputs": [
    {
     "name": "stdout",
     "output_type": "stream",
     "text": [
      "[['few', 'words']]\n"
     ]
    }
   ],
   "source": [
    "list1 = [\"These\", \"are\",\"a\", [\"few\", \"words\"], \"that\", \"we\", \"will\", \"use\"]\n",
    "print(list1[3:4])\n"
   ]
  },
  {
   "cell_type": "code",
   "execution_count": 18,
   "id": "b11bbae9",
   "metadata": {},
   "outputs": [
    {
     "name": "stdout",
     "output_type": "stream",
     "text": [
      "['few', 'words']\n"
     ]
    }
   ],
   "source": [
    "print(list1[3:4][0])"
   ]
  },
  {
   "cell_type": "code",
   "execution_count": 19,
   "id": "551445a3",
   "metadata": {},
   "outputs": [
    {
     "name": "stdout",
     "output_type": "stream",
     "text": [
      "words\n"
     ]
    }
   ],
   "source": [
    "print(list1[3:4][0][1])"
   ]
  },
  {
   "cell_type": "code",
   "execution_count": 20,
   "id": "4f4bb900",
   "metadata": {},
   "outputs": [
    {
     "name": "stdout",
     "output_type": "stream",
     "text": [
      "r\n"
     ]
    }
   ],
   "source": [
    "print(list1[3:4][0][1][2])"
   ]
  },
  {
   "cell_type": "markdown",
   "id": "18568b28",
   "metadata": {},
   "source": [
    "### Python Turtle Graphics \n",
    "\n",
    "* It is a toolkit which provides simple and enjoyable way to draw picture on window or screen.\n",
    "\n",
    "* Turtle graphics refer to controling a graphic entity a graphic window with x,y coordinates.\n",
    "\n",
    "* developed for kids to attract towards programimng😊\n",
    "\n",
    "* it is a open source module."
   ]
  },
  {
   "cell_type": "code",
   "execution_count": 1,
   "id": "bd5b1f6b",
   "metadata": {},
   "outputs": [],
   "source": [
    "import turtle\n",
    "\n",
    "david = turtle.Turtle()\n"
   ]
  },
  {
   "cell_type": "code",
   "execution_count": null,
   "id": "e5d20b17",
   "metadata": {},
   "outputs": [],
   "source": [
    "# # another way importing module\n",
    "# from turtle import*"
   ]
  },
  {
   "cell_type": "code",
   "execution_count": 1,
   "id": "2f600f97",
   "metadata": {},
   "outputs": [],
   "source": [
    "import turtle\n",
    "\n",
    "david = turtle.Turtle()\n",
    "\n",
    "david.shape(\"turtle\")"
   ]
  },
  {
   "cell_type": "code",
   "execution_count": 4,
   "id": "1887d937",
   "metadata": {},
   "outputs": [
    {
     "name": "stdout",
     "output_type": "stream",
     "text": [
      "Help on function shape in module turtle:\n",
      "\n",
      "shape(name=None)\n",
      "    Set turtle shape to shape with given name / return current shapename.\n",
      "    \n",
      "    Optional argument:\n",
      "    name -- a string, which is a valid shapename\n",
      "    \n",
      "    Set turtle shape to shape with given name or, if name is not given,\n",
      "    return name of current shape.\n",
      "    Shape with name must exist in the TurtleScreen's shape dictionary.\n",
      "    Initially there are the following polygon shapes:\n",
      "    'arrow', 'turtle', 'circle', 'square', 'triangle', 'classic'.\n",
      "    To learn about how to deal with shapes see Screen-method register_shape.\n",
      "    \n",
      "    Example:\n",
      "    >>> shape()\n",
      "    'arrow'\n",
      "    >>> shape(\"turtle\")\n",
      "    >>> shape()\n",
      "    'turtle'\n",
      "\n"
     ]
    }
   ],
   "source": [
    "import turtle\n",
    "# for more about shape\\\n",
    "help(turtle.shape)"
   ]
  },
  {
   "cell_type": "code",
   "execution_count": 5,
   "id": "8ce17a39",
   "metadata": {},
   "outputs": [],
   "source": [
    "## 'arrow', 'turtle', 'circle', 'square', 'triangle', 'classic'.\n",
    "# above are the shapes available in turtle module"
   ]
  },
  {
   "cell_type": "code",
   "execution_count": 2,
   "id": "ab413e69",
   "metadata": {},
   "outputs": [
    {
     "data": {
      "text/plain": [
       "('black', 'black')"
      ]
     },
     "execution_count": 2,
     "metadata": {},
     "output_type": "execute_result"
    }
   ],
   "source": [
    "import turtle\n",
    "\n",
    "david = turtle.Turtle()\n",
    "\n",
    "david.shape(\"turtle\")\n",
    "david.color()\n"
   ]
  },
  {
   "cell_type": "code",
   "execution_count": 3,
   "id": "e17b8aa7",
   "metadata": {},
   "outputs": [],
   "source": [
    "david.forward(100) # turtle will move 100 pixel "
   ]
  },
  {
   "cell_type": "code",
   "execution_count": 1,
   "id": "4af2d7ca",
   "metadata": {},
   "outputs": [],
   "source": [
    "import turtle\n",
    "\n",
    "david = turtle.Turtle()\n",
    "\n",
    "david.shape(\"turtle\")\n",
    "david.color(\"red\")\n",
    "david.forward(100) # turtle will move 100 pixel \n",
    "\n",
    "# I don't know why kernel is not responding as it should "
   ]
  },
  {
   "cell_type": "code",
   "execution_count": 1,
   "id": "02a89c46",
   "metadata": {},
   "outputs": [],
   "source": [
    "import turtle\n",
    "\n",
    "david = turtle.Turtle()\n",
    "\n",
    "david.shape(\"turtle\")\n",
    "david.color(\"blue\", \"green\")  # Turtle - \"blue\" , and line- \"green\" # we can use RBG colore as well\n",
    "david.backward(300)  # here turtle will move back direction 300 pixel"
   ]
  },
  {
   "cell_type": "code",
   "execution_count": 1,
   "id": "8c2222a7",
   "metadata": {},
   "outputs": [],
   "source": [
    "import turtle\n",
    "\n",
    "david = turtle.Turtle()\n",
    "\n",
    "david.shape(\"turtle\")\n",
    "turtle.colormode(255) # we need to chenge color mode\n",
    "david.color(120, 40, 90)  # Turtle - \"blue\" , and line- \"green\" # we can use RBG colore as well\n",
    "david.backward(300)"
   ]
  },
  {
   "cell_type": "code",
   "execution_count": 2,
   "id": "749fb168",
   "metadata": {},
   "outputs": [],
   "source": [
    "# for background colore we will create Screen object\n",
    "\n",
    "import turtle\n",
    "\n",
    "david = turtle.Turtle()\n",
    "\n",
    "david.shape(\"turtle\")\n",
    "\n",
    "scr = turtle.Screen()\n",
    "scr.bgcolor(\"green\")"
   ]
  },
  {
   "cell_type": "code",
   "execution_count": 1,
   "id": "a42314ac",
   "metadata": {},
   "outputs": [],
   "source": [
    "# for background colore we will create Screen object\n",
    "\n",
    "import turtle\n",
    "\n",
    "david = turtle.Turtle()\n",
    "\n",
    "david.shape(\"turtle\")\n",
    "turtle.colormode(255) # default colormode is 1 we need to changeit \n",
    "\n",
    "scr = turtle.Screen()\n",
    "scr.bgcolor(\"green\")"
   ]
  },
  {
   "cell_type": "code",
   "execution_count": 1,
   "id": "4368e646",
   "metadata": {},
   "outputs": [],
   "source": [
    "import turtle\n",
    "\n",
    "david = turtle.Turtle()\n",
    "\n",
    "david.shape(\"turtle\")\n",
    "turtle.colormode(255) # default colormode is 1 we need to changeit \n",
    "\n",
    "scr = turtle.Screen()\n",
    "scr.bgcolor(155, 35, 65)"
   ]
  },
  {
   "cell_type": "code",
   "execution_count": 1,
   "id": "e15115db",
   "metadata": {},
   "outputs": [],
   "source": [
    "import turtle\n",
    "\n",
    "david = turtle.Turtle()\n",
    "\n",
    "david.shape(\"turtle\")\n",
    "turtle.colormode(255) # default colormode is 1 we need to changeit \n",
    "\n",
    "scr = turtle.Screen()\n",
    "scr.bgcolor(155, 35, 65)\n",
    "scr.title(\"Ankit\") # here we can change screen title"
   ]
  },
  {
   "cell_type": "code",
   "execution_count": 2,
   "id": "f435480d",
   "metadata": {},
   "outputs": [],
   "source": [
    "# we can use image for screen\n",
    "# we need 'GIF' file of image we can do that as save as file \n",
    "import turtle\n",
    "\n",
    "david = turtle.Turtle()\n",
    "\n",
    "david.shape(\"turtle\")\n",
    "scr = turtle.Screen()\n",
    "\n",
    "scr.bgpic(\"giphy.gif\")\n",
    "scr.title(\"Ankit\") # here we can change screen title"
   ]
  },
  {
   "cell_type": "code",
   "execution_count": null,
   "id": "c7ca970a",
   "metadata": {},
   "outputs": [],
   "source": [
    "## Turtle motion \n",
    "\n"
   ]
  }
 ],
 "metadata": {
  "kernelspec": {
   "display_name": "Python 3 (ipykernel)",
   "language": "python",
   "name": "python3"
  },
  "language_info": {
   "codemirror_mode": {
    "name": "ipython",
    "version": 3
   },
   "file_extension": ".py",
   "mimetype": "text/x-python",
   "name": "python",
   "nbconvert_exporter": "python",
   "pygments_lexer": "ipython3",
   "version": "3.9.7"
  }
 },
 "nbformat": 4,
 "nbformat_minor": 5
}
