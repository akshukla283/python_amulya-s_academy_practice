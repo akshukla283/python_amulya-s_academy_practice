{
 "cells": [
  {
   "cell_type": "markdown",
   "id": "8076d9e9",
   "metadata": {},
   "source": [
    "#### File Hanlding "
   ]
  },
  {
   "cell_type": "code",
   "execution_count": 1,
   "id": "2150e095",
   "metadata": {},
   "outputs": [],
   "source": [
    "# How to open 'txt' file in python\n",
    "# "
   ]
  },
  {
   "cell_type": "code",
   "execution_count": 1,
   "id": "6468c605",
   "metadata": {},
   "outputs": [],
   "source": [
    "# note if file is already exist then we can open it in any mode otherwise we will open it into 'w'\n",
    "# to wirte mode and 'a' append mode. \n",
    "\n",
    "txt_file = open(\"text.txt\", \"w\")\n",
    "\n",
    "# if we will check into the directory we will find the text.txt file over there "
   ]
  },
  {
   "cell_type": "code",
   "execution_count": 2,
   "id": "59a90ec7",
   "metadata": {},
   "outputs": [],
   "source": [
    "# now write the file \n",
    "\n",
    "txt_file.write(\"Hello world\")\n",
    "\n",
    "txt_file.close()  # after writing any thing we should close it otherwise it will not save in file"
   ]
  },
  {
   "cell_type": "code",
   "execution_count": 3,
   "id": "22ed3223",
   "metadata": {},
   "outputs": [
    {
     "data": {
      "text/plain": [
       "11"
      ]
     },
     "execution_count": 3,
     "metadata": {},
     "output_type": "execute_result"
    }
   ],
   "source": [
    "# now we can check directly that \"Hello World\" has been written or not \n",
    "\n",
    "txt_file = open(\"text.txt\", \"w\")\n",
    "txt_file.write(\"Hello world\")"
   ]
  },
  {
   "cell_type": "code",
   "execution_count": 4,
   "id": "9329fc63",
   "metadata": {},
   "outputs": [],
   "source": [
    "# now we haven't close the file so message will not be saved as you can see\n",
    "\n",
    "# note if we open file in 'w' mode then all the previous message will be deleted file \n",
    "\n",
    "# and here we opened in 'w' mode so message already deleted and didn't close it so message will not be \n",
    "# saved to check this before runing this shell \n",
    "# just go to the file directly and open it if alread open then refresh you will\n",
    "# that no message in the text.txt file.\n",
    "\n",
    "# now to save let's close the file \n",
    "\n",
    "txt_file.close()\n",
    "\n",
    "# now check we got message saved "
   ]
  },
  {
   "cell_type": "code",
   "execution_count": 5,
   "id": "0ec429fb",
   "metadata": {},
   "outputs": [],
   "source": [
    "# append mode we can add more message \n",
    "\n",
    "txt_file = open(\"text.txt\", \"a\")\n",
    "txt_file.write(\"\\nthis is the second message in the second line\")\n",
    "txt_file.close()"
   ]
  },
  {
   "cell_type": "code",
   "execution_count": 6,
   "id": "7a90eec1",
   "metadata": {},
   "outputs": [
    {
     "name": "stdout",
     "output_type": "stream",
     "text": [
      "Hello world\n",
      "this is the second message in the second line\n"
     ]
    }
   ],
   "source": [
    "# to check here let's read the file \n",
    "# to read files we can open it into read mode 'r' \n",
    "\n",
    "txt_file = open(\"text.txt\", \"r\")\n",
    "print(txt_file.read())"
   ]
  },
  {
   "cell_type": "code",
   "execution_count": 7,
   "id": "ffd5a702",
   "metadata": {},
   "outputs": [],
   "source": [
    "txt_file.close()"
   ]
  },
  {
   "cell_type": "code",
   "execution_count": 8,
   "id": "1a06f58b",
   "metadata": {},
   "outputs": [
    {
     "name": "stdout",
     "output_type": "stream",
     "text": [
      "Hello world\n",
      "\n"
     ]
    }
   ],
   "source": [
    "# readline() method reads the message from the text file \n",
    "# it reads the one line at a time so if we want to read the another line then we need to run it again\n",
    "# and so on .....\n",
    "myfile = open(\"text.txt\", 'r')\n",
    "msg = myfile.readline()\n",
    "print(msg)"
   ]
  },
  {
   "cell_type": "code",
   "execution_count": 9,
   "id": "9f868477",
   "metadata": {},
   "outputs": [
    {
     "name": "stdout",
     "output_type": "stream",
     "text": [
      "Hello world\n",
      "\n",
      "this is the second message in the second line\n"
     ]
    }
   ],
   "source": [
    "myfile = open(\"text.txt\", 'r')\n",
    "print(myfile.readline())\n",
    "print(myfile.readline())\n"
   ]
  },
  {
   "cell_type": "markdown",
   "id": "9d0b256c",
   "metadata": {},
   "source": [
    "#### .readlines()\n",
    "return the list of the lines from a text file including'\\n' "
   ]
  },
  {
   "cell_type": "code",
   "execution_count": 13,
   "id": "44c48131",
   "metadata": {},
   "outputs": [
    {
     "name": "stdout",
     "output_type": "stream",
     "text": [
      "['Hello world\\n', 'this is the second message in the second line']\n"
     ]
    }
   ],
   "source": [
    "myfile = open(\"text.txt\", \"r\")\n",
    "lines = myfile.readlines()\n",
    "print(lines)"
   ]
  },
  {
   "cell_type": "markdown",
   "id": "142f4bb7",
   "metadata": {},
   "source": [
    "As we see that readlines returned the list of lines "
   ]
  },
  {
   "cell_type": "code",
   "execution_count": 15,
   "id": "3df25b7f",
   "metadata": {},
   "outputs": [],
   "source": [
    "# lets add more lines\n",
    "myfile = open(\"text.txt\", 'a')\n",
    "myfile.write(\"\\nthis is the third line just wanted to check this.\")\n",
    "myfile.close()"
   ]
  },
  {
   "cell_type": "code",
   "execution_count": 16,
   "id": "1bc5b8a6",
   "metadata": {},
   "outputs": [
    {
     "name": "stdout",
     "output_type": "stream",
     "text": [
      "['Hello world\\n', 'this is the second message in the second line\\n', 'this is the third line just wanted to check this.']\n"
     ]
    }
   ],
   "source": [
    "# now let's check again with the readlines\n",
    "myfile = open(\"text.txt\", 'r')\n",
    "lines_list = myfile.readlines()\n",
    "print(lines_list)"
   ]
  },
  {
   "cell_type": "code",
   "execution_count": 17,
   "id": "b7938ab3",
   "metadata": {},
   "outputs": [
    {
     "name": "stdout",
     "output_type": "stream",
     "text": [
      "Hello world\n",
      "\n",
      "this is the second message in the second line\n",
      "\n",
      "this is the third line just wanted to check this.\n"
     ]
    }
   ],
   "source": [
    "myfile = open(\"text.txt\", \"r\")\n",
    "for line in myfile.readlines():\n",
    "    print(line)"
   ]
  },
  {
   "cell_type": "code",
   "execution_count": 18,
   "id": "100abbbd",
   "metadata": {},
   "outputs": [
    {
     "data": {
      "text/plain": [
       "['Hello world\\n',\n",
       " 'this is the second message in the second line\\n',\n",
       " 'this is the third line just wanted to check this.']"
      ]
     },
     "execution_count": 18,
     "metadata": {},
     "output_type": "execute_result"
    }
   ],
   "source": [
    "## note 'readline' read a line at a time and 'readlines()' read all lines and return a list of that \n",
    "\n",
    "myfile = open(\"text.txt\", \"r\")\n",
    "msg = myfile.readlines()\n",
    "msg"
   ]
  },
  {
   "cell_type": "markdown",
   "id": "fc5737f2",
   "metadata": {},
   "source": [
    "#### opening a file with \"with\" :\n",
    "\n",
    "* to read from a filemyour program needs to open the file and then read the content of the file.We can read the entire content of the file at once or read the file line by line.\n",
    "\n",
    "* `the with statement makes sure the file is closed properly when the program has finished accessing the file.`"
   ]
  },
  {
   "cell_type": "code",
   "execution_count": 29,
   "id": "43d074f6",
   "metadata": {},
   "outputs": [
    {
     "name": "stdout",
     "output_type": "stream",
     "text": [
      "Welocome to hello.txt!\n",
      "this is the second line of the file.\n",
      "And this is the third line of the file.\n"
     ]
    }
   ],
   "source": [
    "filename = 'hello.txt'\n",
    "\n",
    "with open(filename) as f_obj:\n",
    "    contents = f_obj.read()\n",
    "\n",
    "print(contents)"
   ]
  },
  {
   "cell_type": "code",
   "execution_count": 30,
   "id": "39913197",
   "metadata": {},
   "outputs": [
    {
     "name": "stdout",
     "output_type": "stream",
     "text": [
      "Welocome to hello.txt!\n",
      "\n",
      "this is the second line of the file.\n",
      "\n",
      "And this is the third line of the file.\n"
     ]
    }
   ],
   "source": [
    "filename = 'hello.txt'\n",
    "\n",
    "with open(filename) as f_obj:\n",
    "    for line in f_obj:\n",
    "        print(line)"
   ]
  },
  {
   "cell_type": "markdown",
   "id": "f975b2de",
   "metadata": {},
   "source": [
    "#### Note- \n",
    "\n",
    "`each line that's read from the file has a new line '\\n' character at the end of the line, and the print function adds its own new line character. that is why we can see above we got a blank line in between another line so, the rstrip() method gets rid of the extra blank lines this would result in when printing to the terminal.`"
   ]
  },
  {
   "cell_type": "code",
   "execution_count": 31,
   "id": "0eeee3ce",
   "metadata": {},
   "outputs": [
    {
     "name": "stdout",
     "output_type": "stream",
     "text": [
      "Welocome to hello.txt!\n",
      "this is the second line of the file.\n",
      "And this is the third line of the file.\n"
     ]
    }
   ],
   "source": [
    "filename = 'hello.txt'\n",
    "\n",
    "with open(filename) as f_obj:\n",
    "    for line in f_obj:\n",
    "        print(line.rstrip())"
   ]
  },
  {
   "cell_type": "code",
   "execution_count": 33,
   "id": "d6551cd0",
   "metadata": {},
   "outputs": [
    {
     "name": "stdout",
     "output_type": "stream",
     "text": [
      "Welocome to hello.txt!\n",
      "this is the second line of the file.\n",
      "And this is the third line of the file."
     ]
    }
   ],
   "source": [
    "# we can handle that with 'end = \"\" ' as well this will hold the control into the same line and when\n",
    "# actual new line will happen then only print in the new line.\n",
    "filename = 'hello.txt'\n",
    "\n",
    "with open(filename) as f_obj:\n",
    "    for line in f_obj:\n",
    "        print(line, end = \"\")"
   ]
  },
  {
   "cell_type": "code",
   "execution_count": 34,
   "id": "7a4a13d5",
   "metadata": {},
   "outputs": [
    {
     "name": "stdout",
     "output_type": "stream",
     "text": [
      "['Welocome to hello.txt!\\n', 'this is the second line of the file.\\n', 'And this is the third line of the file.']\n",
      "\n",
      "Welocome to hello.txt!\n",
      "this is the second line of the file.\n",
      "And this is the third line of the file."
     ]
    }
   ],
   "source": [
    "### storing the lines in a list.\n",
    "\n",
    "filename = \"hello.txt\"\n",
    "\n",
    "with open(filename) as f_obj:\n",
    "    lines = f_obj.readlines()\n",
    "\n",
    "print(lines)\n",
    "print()\n",
    "for line in lines:\n",
    "    print(line, end=\"\")"
   ]
  },
  {
   "cell_type": "code",
   "execution_count": 35,
   "id": "5bd858ce",
   "metadata": {},
   "outputs": [
    {
     "name": "stdout",
     "output_type": "stream",
     "text": [
      "['Welocome to hello.txt!\\n', 'this is the second line of the file.\\n', 'And this is the third line of the file.']\n",
      "\n",
      "Welocome to hello.txt!\n",
      "this is the second line of the file.\n",
      "And this is the third line of the file.\n"
     ]
    }
   ],
   "source": [
    "### storing the lines in a list.\n",
    "\n",
    "filename = \"hello.txt\"\n",
    "\n",
    "with open(filename) as f_obj:\n",
    "    lines = f_obj.readlines()\n",
    "\n",
    "print(lines)\n",
    "print()\n",
    "for line in lines:\n",
    "    print(line.rstrip())"
   ]
  },
  {
   "cell_type": "code",
   "execution_count": null,
   "id": "8800b594",
   "metadata": {},
   "outputs": [],
   "source": []
  },
  {
   "cell_type": "markdown",
   "id": "3f6cc930",
   "metadata": {},
   "source": [
    "#### Rename and Remove files in Python"
   ]
  },
  {
   "cell_type": "code",
   "execution_count": 1,
   "id": "cad44acb",
   "metadata": {},
   "outputs": [],
   "source": [
    "## rename the file , if your file is in different directory then you have to pass 'path' of the file\n",
    "\n",
    "# before rename make sure that file is not opend at other places.\n",
    "import os \n",
    "\n",
    "os.rename(\"text.txt\", \"text2.txt\")\n",
    "\n",
    "# we renamed the file , we can check that."
   ]
  },
  {
   "cell_type": "code",
   "execution_count": 2,
   "id": "14a97293",
   "metadata": {},
   "outputs": [],
   "source": [
    "# let's rename back to original name\n",
    "\n",
    "import os\n",
    "\n",
    "os.rename(\"text2.txt\", \"text.txt\")"
   ]
  },
  {
   "cell_type": "code",
   "execution_count": 3,
   "id": "14691d11",
   "metadata": {},
   "outputs": [
    {
     "ename": "FileNotFoundError",
     "evalue": "[WinError 2] The system cannot find the file specified: 'hello.txt' -> 'myfile.txt'",
     "output_type": "error",
     "traceback": [
      "\u001b[1;31m---------------------------------------------------------------------------\u001b[0m",
      "\u001b[1;31mFileNotFoundError\u001b[0m                         Traceback (most recent call last)",
      "Input \u001b[1;32mIn [3]\u001b[0m, in \u001b[0;36m<cell line: 5>\u001b[1;34m()\u001b[0m\n\u001b[0;32m      1\u001b[0m \u001b[38;5;66;03m# look if file is not found then it will give error\u001b[39;00m\n\u001b[0;32m      3\u001b[0m \u001b[38;5;28;01mimport\u001b[39;00m \u001b[38;5;21;01mos\u001b[39;00m\n\u001b[1;32m----> 5\u001b[0m \u001b[43mos\u001b[49m\u001b[38;5;241;43m.\u001b[39;49m\u001b[43mrename\u001b[49m\u001b[43m(\u001b[49m\u001b[38;5;124;43m\"\u001b[39;49m\u001b[38;5;124;43mhello.txt\u001b[39;49m\u001b[38;5;124;43m\"\u001b[39;49m\u001b[43m,\u001b[49m\u001b[43m \u001b[49m\u001b[38;5;124;43m\"\u001b[39;49m\u001b[38;5;124;43mmyfile.txt\u001b[39;49m\u001b[38;5;124;43m\"\u001b[39;49m\u001b[43m)\u001b[49m\n",
      "\u001b[1;31mFileNotFoundError\u001b[0m: [WinError 2] The system cannot find the file specified: 'hello.txt' -> 'myfile.txt'"
     ]
    }
   ],
   "source": [
    "# look if file is not found then it will give error\n",
    "\n",
    "import os\n",
    "\n",
    "os.rename(\"hello.txt\", \"myfile.txt\")"
   ]
  },
  {
   "cell_type": "code",
   "execution_count": 4,
   "id": "61fcea41",
   "metadata": {},
   "outputs": [
    {
     "data": {
      "text/plain": [
       "'E:\\\\Python_world\\\\python_amulya-s_academy_practice'"
      ]
     },
     "execution_count": 4,
     "metadata": {},
     "output_type": "execute_result"
    }
   ],
   "source": [
    "# now let's get curremt directory\n",
    "\n",
    "import os\n",
    "\n",
    "os.getcwd()"
   ]
  },
  {
   "cell_type": "code",
   "execution_count": 10,
   "id": "3c8a5ab3",
   "metadata": {},
   "outputs": [],
   "source": [
    "# when get current working directory then it give it in \"\\\\\" because if it give it in '\\' it will be\n",
    "# treated as 'escape' character\n",
    "\n",
    "# let's check we have a 'hello.txt' file in 'files' folder and  rename that\n",
    "\n",
    "import os \n",
    "\n",
    "os.rename(\".\\\\files\\\\hello.txt\", \"new_file.txt\")\n",
    "\n",
    "# file name changed but new file has moved in current working directory because we didn't give the path\n",
    "# to the new file name , so to avoid this please give the path where you wnat to save your file"
   ]
  },
  {
   "cell_type": "code",
   "execution_count": 11,
   "id": "bb9efd2b",
   "metadata": {},
   "outputs": [],
   "source": [
    "# but first let's send the new_file from the current directory to the files directory\n",
    "import os \n",
    "\n",
    "os.rename(\"new_file.txt\", \".\\\\files\\\\hello.txt\")\n",
    "\n",
    "# we can check that file has been moved back to the files directory"
   ]
  },
  {
   "cell_type": "code",
   "execution_count": 12,
   "id": "d0eaec32",
   "metadata": {},
   "outputs": [],
   "source": [
    "# to avoid movement of the file while renaming we need to provide \n",
    "# complete path to the renamed file as well so that after renaming file should stay there.\n",
    "\n",
    "import os \n",
    "\n",
    "os.rename(\".\\\\files\\\\hello.txt\", \".\\\\files\\\\new_hello.txt\")\n",
    "\n",
    "# now file name has been changed \n",
    "\n",
    "# note - - use \"\\\\\" at time of path"
   ]
  },
  {
   "cell_type": "code",
   "execution_count": 13,
   "id": "82dc8cc3",
   "metadata": {},
   "outputs": [],
   "source": [
    "## remove file \n",
    "\n",
    "import os\n",
    "\n",
    "os.remove(\"text.txt\")"
   ]
  },
  {
   "cell_type": "markdown",
   "id": "4d8d1a70",
   "metadata": {},
   "source": [
    "#### Managing Directories"
   ]
  },
  {
   "cell_type": "code",
   "execution_count": 86,
   "id": "ce1f93dc",
   "metadata": {},
   "outputs": [
    {
     "data": {
      "text/plain": [
       "'E:\\\\Python_world\\\\python_amulya-s_academy_practice'"
      ]
     },
     "execution_count": 86,
     "metadata": {},
     "output_type": "execute_result"
    }
   ],
   "source": [
    "import os\n",
    "os.getcwd()"
   ]
  },
  {
   "cell_type": "code",
   "execution_count": 87,
   "id": "2ed66852",
   "metadata": {},
   "outputs": [],
   "source": [
    "import os\n",
    "\n",
    "# create directory \n",
    "\n",
    "os.mkdir(\"E:\\\\Python_world\\\\python_amulya-s_academy_practice\\\\file\")"
   ]
  },
  {
   "cell_type": "code",
   "execution_count": 15,
   "id": "4e3b0be3",
   "metadata": {},
   "outputs": [],
   "source": [
    "# let's make new directory into current working directory \n",
    "import os\n",
    "os.mkdir(\"new_dir\")"
   ]
  },
  {
   "cell_type": "code",
   "execution_count": null,
   "id": "98e83fc1",
   "metadata": {},
   "outputs": [],
   "source": []
  },
  {
   "cell_type": "code",
   "execution_count": 52,
   "id": "d01ff19b",
   "metadata": {},
   "outputs": [
    {
     "data": {
      "text/plain": [
       "'E:\\\\Python_world\\\\python_amulya-s_academy_practice'"
      ]
     },
     "execution_count": 52,
     "metadata": {},
     "output_type": "execute_result"
    }
   ],
   "source": [
    "# geting current working directory\n",
    "os.getcwd()"
   ]
  },
  {
   "cell_type": "code",
   "execution_count": 89,
   "id": "dc62bd62",
   "metadata": {},
   "outputs": [],
   "source": [
    "# change current working directory\n",
    "import os\n",
    "\n",
    "os.chdir(\".\\\\file\")  # here we just gave dot '.' to change the directory\n",
    "\n",
    "# we can also give the  full path-\"E:\\\\Python_world\\\\Amulya's Academic\\\\file\""
   ]
  },
  {
   "cell_type": "code",
   "execution_count": 90,
   "id": "fddcd167",
   "metadata": {},
   "outputs": [
    {
     "data": {
      "text/plain": [
       "'E:\\\\Python_world\\\\python_amulya-s_academy_practice\\\\file'"
      ]
     },
     "execution_count": 90,
     "metadata": {},
     "output_type": "execute_result"
    }
   ],
   "source": [
    "# let's check current working directory\n",
    "\n",
    "import os\n",
    "os.getcwd()"
   ]
  },
  {
   "cell_type": "code",
   "execution_count": 79,
   "id": "5078d1d9",
   "metadata": {},
   "outputs": [],
   "source": [
    "import os\n",
    "os.chdir(\"E:\\\\Python_world\\\\python_amulya-s_academy_practice\")"
   ]
  },
  {
   "cell_type": "code",
   "execution_count": 80,
   "id": "fb3990bc",
   "metadata": {},
   "outputs": [
    {
     "data": {
      "text/plain": [
       "'E:\\\\Python_world\\\\python_amulya-s_academy_practice'"
      ]
     },
     "execution_count": 80,
     "metadata": {},
     "output_type": "execute_result"
    }
   ],
   "source": [
    "os.getcwd()"
   ]
  },
  {
   "cell_type": "code",
   "execution_count": 81,
   "id": "a26d797a",
   "metadata": {},
   "outputs": [
    {
     "ename": "FileNotFoundError",
     "evalue": "[WinError 2] The system cannot find the file specified: 'E:\\\\Python_world\\\\python_amulya-s_academy_practice\\\\files'",
     "output_type": "error",
     "traceback": [
      "\u001b[1;31m---------------------------------------------------------------------------\u001b[0m",
      "\u001b[1;31mFileNotFoundError\u001b[0m                         Traceback (most recent call last)",
      "Input \u001b[1;32mIn [81]\u001b[0m, in \u001b[0;36m<cell line: 2>\u001b[1;34m()\u001b[0m\n\u001b[0;32m      1\u001b[0m \u001b[38;5;28;01mimport\u001b[39;00m \u001b[38;5;21;01mos\u001b[39;00m\n\u001b[1;32m----> 2\u001b[0m \u001b[43mos\u001b[49m\u001b[38;5;241;43m.\u001b[39;49m\u001b[43mchdir\u001b[49m\u001b[43m(\u001b[49m\u001b[38;5;124;43m'\u001b[39;49m\u001b[38;5;124;43mE:\u001b[39;49m\u001b[38;5;130;43;01m\\\\\u001b[39;49;00m\u001b[38;5;124;43mPython_world\u001b[39;49m\u001b[38;5;130;43;01m\\\\\u001b[39;49;00m\u001b[38;5;124;43mpython_amulya-s_academy_practice\u001b[39;49m\u001b[38;5;130;43;01m\\\\\u001b[39;49;00m\u001b[38;5;124;43mfiles\u001b[39;49m\u001b[38;5;124;43m'\u001b[39;49m\u001b[43m)\u001b[49m\n",
      "\u001b[1;31mFileNotFoundError\u001b[0m: [WinError 2] The system cannot find the file specified: 'E:\\\\Python_world\\\\python_amulya-s_academy_practice\\\\files'"
     ]
    }
   ],
   "source": [
    "import os\n",
    "os.chdir('E:\\\\Python_world\\\\python_amulya-s_academy_practice\\\\files')"
   ]
  },
  {
   "cell_type": "code",
   "execution_count": 69,
   "id": "9832a1d7",
   "metadata": {},
   "outputs": [
    {
     "data": {
      "text/plain": [
       "'E:\\\\Python_world\\\\python_amulya-s_academy_practice\\\\files'"
      ]
     },
     "execution_count": 69,
     "metadata": {},
     "output_type": "execute_result"
    }
   ],
   "source": [
    "os.getcwd()"
   ]
  },
  {
   "cell_type": "code",
   "execution_count": 71,
   "id": "93475e61",
   "metadata": {},
   "outputs": [],
   "source": [
    "import os\n",
    "\n",
    "os.chdir('E:\\\\Python_world\\\\python_amulya-s_academy_practice')"
   ]
  },
  {
   "cell_type": "code",
   "execution_count": 72,
   "id": "86ada4cf",
   "metadata": {},
   "outputs": [
    {
     "data": {
      "text/plain": [
       "'E:\\\\Python_world\\\\python_amulya-s_academy_practice'"
      ]
     },
     "execution_count": 72,
     "metadata": {},
     "output_type": "execute_result"
    }
   ],
   "source": [
    "os.getcwd()"
   ]
  },
  {
   "cell_type": "code",
   "execution_count": null,
   "id": "b7a75209",
   "metadata": {},
   "outputs": [],
   "source": []
  },
  {
   "cell_type": "code",
   "execution_count": 55,
   "id": "e62153dd",
   "metadata": {},
   "outputs": [],
   "source": [
    "# let's make another directory\n",
    "\n",
    "import os \n",
    "\n",
    "os.mkdir(\"ankit\")\n",
    "\n",
    "# we made new directory in 'new' directory name as \"ankit\""
   ]
  },
  {
   "cell_type": "code",
   "execution_count": 70,
   "id": "fcfd6a6b",
   "metadata": {},
   "outputs": [
    {
     "data": {
      "text/plain": [
       "['.ipynb_checkpoints', 'new', 'new_hello.txt']"
      ]
     },
     "execution_count": 70,
     "metadata": {},
     "output_type": "execute_result"
    }
   ],
   "source": [
    "# we can find the list of directories \n",
    "\n",
    "import os\n",
    "os.listdir()"
   ]
  },
  {
   "cell_type": "code",
   "execution_count": 21,
   "id": "1935b739",
   "metadata": {},
   "outputs": [
    {
     "data": {
      "text/plain": [
       "['$Recycle.Bin',\n",
       " '$WinREAgent',\n",
       " 'BitLocker Recovery Key 33FAC351-E1B2-4D30-A390-E08CEB5E4586.TXT',\n",
       " 'BitLocker Recovery Key D0517F1E-87F5-42BB-B705-D73F3053A535.TXT',\n",
       " 'Documents and Settings',\n",
       " 'DumpStack.log.tmp',\n",
       " 'hiberfil.sys',\n",
       " 'Intel',\n",
       " 'pagefile.sys',\n",
       " 'PerfLogs',\n",
       " 'Program Files',\n",
       " 'Program Files (x86)',\n",
       " 'ProgramData',\n",
       " 'Recovery',\n",
       " 'swapfile.sys',\n",
       " 'System Volume Information',\n",
       " 'Users',\n",
       " 'Windows']"
      ]
     },
     "execution_count": 21,
     "metadata": {},
     "output_type": "execute_result"
    }
   ],
   "source": [
    "# if we want the list of sub-directory from any directory then we need to give path of that\n",
    "\n",
    "import os\n",
    "\n",
    "os.listdir(\"c:\\\\\")"
   ]
  },
  {
   "cell_type": "code",
   "execution_count": 57,
   "id": "35363688",
   "metadata": {},
   "outputs": [],
   "source": [
    "# to remove any directory \n",
    "\n",
    "import os\n",
    "\n",
    "os.rmdir(\"ankit\")"
   ]
  },
  {
   "cell_type": "code",
   "execution_count": 58,
   "id": "1de8e2e2",
   "metadata": {},
   "outputs": [
    {
     "data": {
      "text/plain": [
       "['.ipynb_checkpoints', 'new', 'new_hello.txt']"
      ]
     },
     "execution_count": 58,
     "metadata": {},
     "output_type": "execute_result"
    }
   ],
   "source": [
    "# now we can check it by getting the list of the sub-directories\n",
    "\n",
    "os.listdir()"
   ]
  },
  {
   "cell_type": "markdown",
   "id": "eec35186",
   "metadata": {},
   "source": [
    "As we can see that \"ankit\" sub-directory has been deleted"
   ]
  },
  {
   "cell_type": "code",
   "execution_count": 59,
   "id": "89c6ff52",
   "metadata": {},
   "outputs": [],
   "source": [
    "# now let's change our current derectory  to previous directories\n",
    "\n",
    "import os\n",
    "\n",
    "os.chdir('E:\\\\Python_world\\\\python_amulya-s_academy_practice')"
   ]
  },
  {
   "cell_type": "code",
   "execution_count": 60,
   "id": "651627bf",
   "metadata": {},
   "outputs": [
    {
     "data": {
      "text/plain": [
       "'E:\\\\Python_world\\\\python_amulya-s_academy_practice'"
      ]
     },
     "execution_count": 60,
     "metadata": {},
     "output_type": "execute_result"
    }
   ],
   "source": [
    "import os\n",
    "os.getcwd()"
   ]
  },
  {
   "cell_type": "code",
   "execution_count": 37,
   "id": "89092251",
   "metadata": {},
   "outputs": [
    {
     "data": {
      "text/plain": [
       "'E:\\\\Python_world\\\\python_amulya-s_academy_practice\\\\new_1'"
      ]
     },
     "execution_count": 37,
     "metadata": {},
     "output_type": "execute_result"
    }
   ],
   "source": [
    "'E:\\\\Python_world\\\\python_amulya-s_academy_practice' +\"\\\\\"+\"new_\"+\"1\""
   ]
  },
  {
   "cell_type": "markdown",
   "id": "e6034f62",
   "metadata": {},
   "source": [
    "#### difference between makedir() and mkdir()\n",
    "\n",
    "* makedirs() creates all the intermediate directories if they don't exist (just like mkdir -p in bash).\n",
    "\n",
    "* mkdir() can create a single sub-directory, and will throw an exception if intermediate directories that don't exist are specified.\n",
    "\n",
    "Either can be used to create a single 'leaf' directory (dirA):\n",
    "\n",
    "* `os.mkdir('dirA')`\n",
    "\n",
    "* `os.makedirs('dirA')`"
   ]
  },
  {
   "cell_type": "code",
   "execution_count": 41,
   "id": "3db269b4",
   "metadata": {},
   "outputs": [
    {
     "ename": "TypeError",
     "evalue": "'module' object is not callable",
     "output_type": "error",
     "traceback": [
      "\u001b[1;31m---------------------------------------------------------------------------\u001b[0m",
      "\u001b[1;31mTypeError\u001b[0m                                 Traceback (most recent call last)",
      "Input \u001b[1;32mIn [41]\u001b[0m, in \u001b[0;36m<cell line: 2>\u001b[1;34m()\u001b[0m\n\u001b[0;32m      1\u001b[0m \u001b[38;5;28;01mimport\u001b[39;00m \u001b[38;5;21;01mos\u001b[39;00m\n\u001b[1;32m----> 2\u001b[0m \u001b[43mos\u001b[49m\u001b[38;5;241;43m.\u001b[39;49m\u001b[43mpath\u001b[49m\u001b[43m(\u001b[49m\u001b[43m)\u001b[49m\n",
      "\u001b[1;31mTypeError\u001b[0m: 'module' object is not callable"
     ]
    }
   ],
   "source": [
    "import os\n",
    "os.m\n",
    "for i in range(5):\n",
    "    os.makedirs(os.path.join('folder', 'subfolder' + str(i)))"
   ]
  },
  {
   "cell_type": "code",
   "execution_count": 46,
   "id": "3cb4cfb2",
   "metadata": {},
   "outputs": [
    {
     "data": {
      "text/plain": [
       "['\\\\folder\\\\subdir0', '\\\\folder\\\\subdir1', '\\\\folder\\\\subdir2']"
      ]
     },
     "execution_count": 46,
     "metadata": {},
     "output_type": "execute_result"
    }
   ],
   "source": [
    "import os\n",
    "# here we pass raw input 'r'\n",
    "[os.path.join(r\"\\folder\", \"subdir{}\".format(i)) for i in range(3)]"
   ]
  },
  {
   "cell_type": "code",
   "execution_count": 48,
   "id": "58897c51",
   "metadata": {},
   "outputs": [
    {
     "data": {
      "text/plain": [
       "['\\\\folder\\\\subdir0', '\\\\folder\\\\subdir1', '\\\\folder\\\\subdir2']"
      ]
     },
     "execution_count": 48,
     "metadata": {},
     "output_type": "execute_result"
    }
   ],
   "source": [
    "import os\n",
    "# here we uses '\\\\' so avoid escape character\n",
    "[os.path.join(\"\\\\folder\", \"subdir{}\".format(i)) for i in range(3)]"
   ]
  },
  {
   "cell_type": "code",
   "execution_count": 93,
   "id": "2a9b32be",
   "metadata": {},
   "outputs": [],
   "source": [
    "import os\n",
    "os.chdir(\"E:\\\\Python_world\\\\python_amulya-s_academy_practice\")"
   ]
  },
  {
   "cell_type": "code",
   "execution_count": 94,
   "id": "a5005878",
   "metadata": {},
   "outputs": [
    {
     "data": {
      "text/plain": [
       "'E:\\\\Python_world\\\\python_amulya-s_academy_practice'"
      ]
     },
     "execution_count": 94,
     "metadata": {},
     "output_type": "execute_result"
    }
   ],
   "source": [
    "import os\n",
    "os.getcwd()"
   ]
  },
  {
   "cell_type": "code",
   "execution_count": null,
   "id": "974fcaf2",
   "metadata": {},
   "outputs": [],
   "source": []
  },
  {
   "cell_type": "code",
   "execution_count": 95,
   "id": "1120a74e",
   "metadata": {},
   "outputs": [
    {
     "ename": "TypeError",
     "evalue": "expected str, bytes or os.PathLike object, not builtin_function_or_method",
     "output_type": "error",
     "traceback": [
      "\u001b[1;31m---------------------------------------------------------------------------\u001b[0m",
      "\u001b[1;31mTypeError\u001b[0m                                 Traceback (most recent call last)",
      "Input \u001b[1;32mIn [95]\u001b[0m, in \u001b[0;36m<cell line: 1>\u001b[1;34m()\u001b[0m\n\u001b[0;32m      1\u001b[0m \u001b[38;5;28;01mfor\u001b[39;00m i \u001b[38;5;129;01min\u001b[39;00m \u001b[38;5;28mrange\u001b[39m(\u001b[38;5;241m5\u001b[39m):\n\u001b[1;32m----> 3\u001b[0m     new_path \u001b[38;5;241m=\u001b[39m \u001b[43mos\u001b[49m\u001b[38;5;241;43m.\u001b[39;49m\u001b[43mpath\u001b[49m\u001b[38;5;241;43m.\u001b[39;49m\u001b[43mjoin\u001b[49m\u001b[43m(\u001b[49m\u001b[43mos\u001b[49m\u001b[38;5;241;43m.\u001b[39;49m\u001b[43mgetcwd\u001b[49m\u001b[43m,\u001b[49m\u001b[43m \u001b[49m\u001b[38;5;124;43m\"\u001b[39;49m\u001b[38;5;130;43;01m\\\\\u001b[39;49;00m\u001b[38;5;124;43mfolder\u001b[39;49m\u001b[38;5;124;43m\"\u001b[39;49m\u001b[38;5;241;43m+\u001b[39;49m\u001b[38;5;28;43mstr\u001b[39;49m\u001b[43m(\u001b[49m\u001b[43mi\u001b[49m\u001b[43m)\u001b[49m\u001b[43m)\u001b[49m\n\u001b[0;32m      4\u001b[0m     os\u001b[38;5;241m.\u001b[39mmkdir(new_path)\n\u001b[0;32m      5\u001b[0m     os\u001b[38;5;241m.\u001b[39mchdir(new_path)\n",
      "File \u001b[1;32m~\\AppData\\Local\\Programs\\Python\\Python39\\lib\\ntpath.py:78\u001b[0m, in \u001b[0;36mjoin\u001b[1;34m(path, *paths)\u001b[0m\n\u001b[0;32m     77\u001b[0m \u001b[38;5;28;01mdef\u001b[39;00m \u001b[38;5;21mjoin\u001b[39m(path, \u001b[38;5;241m*\u001b[39mpaths):\n\u001b[1;32m---> 78\u001b[0m     path \u001b[38;5;241m=\u001b[39m \u001b[43mos\u001b[49m\u001b[38;5;241;43m.\u001b[39;49m\u001b[43mfspath\u001b[49m\u001b[43m(\u001b[49m\u001b[43mpath\u001b[49m\u001b[43m)\u001b[49m\n\u001b[0;32m     79\u001b[0m     \u001b[38;5;28;01mif\u001b[39;00m \u001b[38;5;28misinstance\u001b[39m(path, \u001b[38;5;28mbytes\u001b[39m):\n\u001b[0;32m     80\u001b[0m         sep \u001b[38;5;241m=\u001b[39m \u001b[38;5;124mb\u001b[39m\u001b[38;5;124m'\u001b[39m\u001b[38;5;130;01m\\\\\u001b[39;00m\u001b[38;5;124m'\u001b[39m\n",
      "\u001b[1;31mTypeError\u001b[0m: expected str, bytes or os.PathLike object, not builtin_function_or_method"
     ]
    }
   ],
   "source": [
    "for i in range(5):\n",
    "    \n",
    "    new_path = os.path.join(os.getcwd, \"\\\\folder\"+str(i))\n",
    "    os.mkdir(new_path)\n",
    "    os.chdir(new_path)"
   ]
  },
  {
   "cell_type": "code",
   "execution_count": null,
   "id": "0f814705",
   "metadata": {},
   "outputs": [],
   "source": []
  },
  {
   "cell_type": "markdown",
   "id": "f042a4c9",
   "metadata": {},
   "source": [
    "#### Exception Handling"
   ]
  },
  {
   "cell_type": "code",
   "execution_count": 96,
   "id": "7f933b62",
   "metadata": {},
   "outputs": [
    {
     "ename": "IndexError",
     "evalue": "list index out of range",
     "output_type": "error",
     "traceback": [
      "\u001b[1;31m---------------------------------------------------------------------------\u001b[0m",
      "\u001b[1;31mIndexError\u001b[0m                                Traceback (most recent call last)",
      "Input \u001b[1;32mIn [96]\u001b[0m, in \u001b[0;36m<cell line: 3>\u001b[1;34m()\u001b[0m\n\u001b[0;32m      1\u001b[0m lst \u001b[38;5;241m=\u001b[39m [\u001b[38;5;241m1\u001b[39m,\u001b[38;5;241m2\u001b[39m,\u001b[38;5;241m3\u001b[39m,\u001b[38;5;241m4\u001b[39m]\n\u001b[1;32m----> 3\u001b[0m \u001b[43mlst\u001b[49m\u001b[43m[\u001b[49m\u001b[38;5;241;43m4\u001b[39;49m\u001b[43m]\u001b[49m\n",
      "\u001b[1;31mIndexError\u001b[0m: list index out of range"
     ]
    }
   ],
   "source": [
    "lst = [1,2,3,4]\n",
    "\n",
    "lst[4]"
   ]
  },
  {
   "cell_type": "code",
   "execution_count": 97,
   "id": "926bd8ff",
   "metadata": {},
   "outputs": [
    {
     "ename": "NameError",
     "evalue": "name 'lsst' is not defined",
     "output_type": "error",
     "traceback": [
      "\u001b[1;31m---------------------------------------------------------------------------\u001b[0m",
      "\u001b[1;31mNameError\u001b[0m                                 Traceback (most recent call last)",
      "Input \u001b[1;32mIn [97]\u001b[0m, in \u001b[0;36m<cell line: 3>\u001b[1;34m()\u001b[0m\n\u001b[0;32m      1\u001b[0m \u001b[38;5;66;03m# let python to handle these error\u001b[39;00m\n\u001b[0;32m      2\u001b[0m \u001b[38;5;66;03m# there are some standard erors\u001b[39;00m\n\u001b[1;32m----> 3\u001b[0m \u001b[43mlsst\u001b[49m\n",
      "\u001b[1;31mNameError\u001b[0m: name 'lsst' is not defined"
     ]
    }
   ],
   "source": [
    "# let python to handle these error\n",
    "# there are some standard erors\n",
    "lsst"
   ]
  },
  {
   "cell_type": "code",
   "execution_count": 98,
   "id": "3d31a88e",
   "metadata": {},
   "outputs": [
    {
     "ename": "TypeError",
     "evalue": "unsupported operand type(s) for +: 'int' and 'str'",
     "output_type": "error",
     "traceback": [
      "\u001b[1;31m---------------------------------------------------------------------------\u001b[0m",
      "\u001b[1;31mTypeError\u001b[0m                                 Traceback (most recent call last)",
      "Input \u001b[1;32mIn [98]\u001b[0m, in \u001b[0;36m<cell line: 1>\u001b[1;34m()\u001b[0m\n\u001b[1;32m----> 1\u001b[0m \u001b[38;5;241;43m3\u001b[39;49m\u001b[38;5;241;43m+\u001b[39;49m\u001b[38;5;124;43m\"\u001b[39;49m\u001b[38;5;124;43md\u001b[39;49m\u001b[38;5;124;43m\"\u001b[39;49m\n",
      "\u001b[1;31mTypeError\u001b[0m: unsupported operand type(s) for +: 'int' and 'str'"
     ]
    }
   ],
   "source": [
    "3+\"d\""
   ]
  },
  {
   "cell_type": "code",
   "execution_count": 99,
   "id": "eb82d5b0",
   "metadata": {},
   "outputs": [
    {
     "ename": "ZeroDivisionError",
     "evalue": "division by zero",
     "output_type": "error",
     "traceback": [
      "\u001b[1;31m---------------------------------------------------------------------------\u001b[0m",
      "\u001b[1;31mZeroDivisionError\u001b[0m                         Traceback (most recent call last)",
      "Input \u001b[1;32mIn [99]\u001b[0m, in \u001b[0;36m<cell line: 1>\u001b[1;34m()\u001b[0m\n\u001b[1;32m----> 1\u001b[0m \u001b[38;5;241;43m9\u001b[39;49m\u001b[38;5;241;43m/\u001b[39;49m\u001b[38;5;241;43m0\u001b[39;49m\n",
      "\u001b[1;31mZeroDivisionError\u001b[0m: division by zero"
     ]
    }
   ],
   "source": [
    "9/0"
   ]
  },
  {
   "cell_type": "code",
   "execution_count": 100,
   "id": "452c7101",
   "metadata": {},
   "outputs": [
    {
     "name": "stdout",
     "output_type": "stream",
     "text": [
      "Please enter the number to find factorial : k\n"
     ]
    },
    {
     "ename": "ValueError",
     "evalue": "invalid literal for int() with base 10: 'k'",
     "output_type": "error",
     "traceback": [
      "\u001b[1;31m---------------------------------------------------------------------------\u001b[0m",
      "\u001b[1;31mValueError\u001b[0m                                Traceback (most recent call last)",
      "Input \u001b[1;32mIn [100]\u001b[0m, in \u001b[0;36m<cell line: 5>\u001b[1;34m()\u001b[0m\n\u001b[0;32m      1\u001b[0m \u001b[38;5;66;03m# And many more error are here \u001b[39;00m\n\u001b[0;32m      3\u001b[0m \u001b[38;5;28;01mimport\u001b[39;00m \u001b[38;5;21;01mmath\u001b[39;00m \n\u001b[1;32m----> 5\u001b[0m num \u001b[38;5;241m=\u001b[39m \u001b[38;5;28;43mint\u001b[39;49m\u001b[43m(\u001b[49m\u001b[38;5;28;43minput\u001b[39;49m\u001b[43m(\u001b[49m\u001b[38;5;124;43m\"\u001b[39;49m\u001b[38;5;124;43mPlease enter the number to find factorial : \u001b[39;49m\u001b[38;5;124;43m\"\u001b[39;49m\u001b[43m)\u001b[49m\u001b[43m)\u001b[49m\n\u001b[0;32m      7\u001b[0m result \u001b[38;5;241m=\u001b[39m math\u001b[38;5;241m.\u001b[39mfactorial(num)\n\u001b[0;32m      8\u001b[0m \u001b[38;5;28mprint\u001b[39m(result)\n",
      "\u001b[1;31mValueError\u001b[0m: invalid literal for int() with base 10: 'k'"
     ]
    }
   ],
   "source": [
    "# And many more error are here \n",
    "\n",
    "import math \n",
    "\n",
    "num = int(input(\"Please enter the number to find factorial : \"))\n",
    "\n",
    "result = math.factorial(num)\n",
    "print(result)"
   ]
  },
  {
   "cell_type": "code",
   "execution_count": 101,
   "id": "42b4d22a",
   "metadata": {},
   "outputs": [
    {
     "name": "stdout",
     "output_type": "stream",
     "text": [
      "Please enter the number to find factorial : -5\n"
     ]
    },
    {
     "ename": "ValueError",
     "evalue": "factorial() not defined for negative values",
     "output_type": "error",
     "traceback": [
      "\u001b[1;31m---------------------------------------------------------------------------\u001b[0m",
      "\u001b[1;31mValueError\u001b[0m                                Traceback (most recent call last)",
      "Input \u001b[1;32mIn [101]\u001b[0m, in \u001b[0;36m<cell line: 5>\u001b[1;34m()\u001b[0m\n\u001b[0;32m      1\u001b[0m \u001b[38;5;28;01mimport\u001b[39;00m \u001b[38;5;21;01mmath\u001b[39;00m \n\u001b[0;32m      3\u001b[0m num \u001b[38;5;241m=\u001b[39m \u001b[38;5;28mint\u001b[39m(\u001b[38;5;28minput\u001b[39m(\u001b[38;5;124m\"\u001b[39m\u001b[38;5;124mPlease enter the number to find factorial : \u001b[39m\u001b[38;5;124m\"\u001b[39m))\n\u001b[1;32m----> 5\u001b[0m result \u001b[38;5;241m=\u001b[39m \u001b[43mmath\u001b[49m\u001b[38;5;241;43m.\u001b[39;49m\u001b[43mfactorial\u001b[49m\u001b[43m(\u001b[49m\u001b[43mnum\u001b[49m\u001b[43m)\u001b[49m\n\u001b[0;32m      6\u001b[0m \u001b[38;5;28mprint\u001b[39m(result)\n",
      "\u001b[1;31mValueError\u001b[0m: factorial() not defined for negative values"
     ]
    }
   ],
   "source": [
    "import math \n",
    "\n",
    "num = int(input(\"Please enter the number to find factorial : \"))\n",
    "\n",
    "result = math.factorial(num)\n",
    "print(result)"
   ]
  },
  {
   "cell_type": "code",
   "execution_count": 102,
   "id": "d1d3a7ff",
   "metadata": {},
   "outputs": [
    {
     "name": "stdout",
     "output_type": "stream",
     "text": [
      "Please enter the number to find factorial : -5\n",
      "Can not compute the factorial of Negative numbers\n"
     ]
    }
   ],
   "source": [
    "# ValueError we can see above\n",
    "# to handel these\n",
    "\n",
    "import math \n",
    "\n",
    "num = int(input(\"Please enter the number to find factorial : \"))\n",
    "try:\n",
    "    result = math.factorial(num)\n",
    "    print(result)\n",
    "except:\n",
    "    print(\"Can not compute the factorial of Negative numbers\")"
   ]
  },
  {
   "cell_type": "code",
   "execution_count": 106,
   "id": "20be7f18",
   "metadata": {},
   "outputs": [
    {
     "name": "stdout",
     "output_type": "stream",
     "text": [
      "Please enter the number to find factorial : -2\n",
      "Can not compute the factorial of Negative numbers\n"
     ]
    }
   ],
   "source": [
    "# we can give the error name\n",
    "\n",
    "import math \n",
    "\n",
    "num = int(input(\"Please enter the number to find factorial : \"))\n",
    "try:\n",
    "    result = math.factorial(num)\n",
    "    print(result)\n",
    "except ValueError:\n",
    "    print(\"Can not compute the factorial of Negative numbers\")"
   ]
  },
  {
   "cell_type": "code",
   "execution_count": 107,
   "id": "50f58c23",
   "metadata": {},
   "outputs": [
    {
     "ename": "ValueError",
     "evalue": "4",
     "output_type": "error",
     "traceback": [
      "\u001b[1;31m---------------------------------------------------------------------------\u001b[0m",
      "\u001b[1;31mValueError\u001b[0m                                Traceback (most recent call last)",
      "Input \u001b[1;32mIn [107]\u001b[0m, in \u001b[0;36m<cell line: 3>\u001b[1;34m()\u001b[0m\n\u001b[0;32m      1\u001b[0m \u001b[38;5;66;03m### usnig 'raise' statement \u001b[39;00m\n\u001b[1;32m----> 3\u001b[0m \u001b[38;5;28;01mraise\u001b[39;00m \u001b[38;5;167;01mValueError\u001b[39;00m(\u001b[38;5;241m4\u001b[39m)\n",
      "\u001b[1;31mValueError\u001b[0m: 4"
     ]
    }
   ],
   "source": [
    "### usnig 'raise' statement \n",
    "\n",
    "raise ValueError(4)"
   ]
  },
  {
   "cell_type": "code",
   "execution_count": 108,
   "id": "2d468234",
   "metadata": {},
   "outputs": [
    {
     "ename": "NameError",
     "evalue": "h",
     "output_type": "error",
     "traceback": [
      "\u001b[1;31m---------------------------------------------------------------------------\u001b[0m",
      "\u001b[1;31mNameError\u001b[0m                                 Traceback (most recent call last)",
      "Input \u001b[1;32mIn [108]\u001b[0m, in \u001b[0;36m<cell line: 1>\u001b[1;34m()\u001b[0m\n\u001b[1;32m----> 1\u001b[0m \u001b[38;5;28;01mraise\u001b[39;00m \u001b[38;5;167;01mNameError\u001b[39;00m(\u001b[38;5;124m\"\u001b[39m\u001b[38;5;124mh\u001b[39m\u001b[38;5;124m\"\u001b[39m)\n",
      "\u001b[1;31mNameError\u001b[0m: h"
     ]
    }
   ],
   "source": [
    "raise NameError(\"h\")"
   ]
  },
  {
   "cell_type": "code",
   "execution_count": 109,
   "id": "fab64c55",
   "metadata": {},
   "outputs": [
    {
     "name": "stdout",
     "output_type": "stream",
     "text": [
      "Enter the number:r\n",
      "invalid literal for int() with base 10: 'r'\n"
     ]
    }
   ],
   "source": [
    "# taking positive number from user \n",
    "\n",
    "try:\n",
    "    num = int(input(\"Enter the number:\"))\n",
    "    if num<=0:\n",
    "        raise ValueError(\"That is not positive number!\")\n",
    "except ValueError as error:\n",
    "    print(error)"
   ]
  },
  {
   "cell_type": "code",
   "execution_count": 113,
   "id": "b2fff0ef",
   "metadata": {},
   "outputs": [
    {
     "name": "stdout",
     "output_type": "stream",
     "text": [
      "Enter the number: fd\n",
      "invalid literal for int() with base 10: 'fd'\n"
     ]
    }
   ],
   "source": [
    "# taking positive number from user \n",
    "\n",
    "try:\n",
    "    num = int(input(\"Enter the number: \"))\n",
    "    if num<=0:\n",
    "        raise ValueError(\"That is not positive number!\")\n",
    "except ValueError as error:\n",
    "    print(error)"
   ]
  },
  {
   "cell_type": "code",
   "execution_count": 38,
   "id": "787d1d83",
   "metadata": {},
   "outputs": [
    {
     "name": "stdout",
     "output_type": "stream",
     "text": [
      "Enter the number for factorial:5\n",
      "120\n",
      "goodbye!\n"
     ]
    }
   ],
   "source": [
    "### Finally \n",
    "\n",
    "import math \n",
    "\n",
    "num = int(input(\"Enter the number for factorial:\"))\n",
    "\n",
    "try:\n",
    "    result = math.factorial(num)\n",
    "    print(result)\n",
    "finally:\n",
    "    print(\"goodbye!\")"
   ]
  },
  {
   "cell_type": "code",
   "execution_count": 39,
   "id": "5c37d03a",
   "metadata": {},
   "outputs": [
    {
     "name": "stdout",
     "output_type": "stream",
     "text": [
      "Enter the number for factorial:-5\n",
      "goodbye!\n"
     ]
    },
    {
     "ename": "ValueError",
     "evalue": "factorial() not defined for negative values",
     "output_type": "error",
     "traceback": [
      "\u001b[1;31m---------------------------------------------------------------------------\u001b[0m",
      "\u001b[1;31mValueError\u001b[0m                                Traceback (most recent call last)",
      "Input \u001b[1;32mIn [39]\u001b[0m, in \u001b[0;36m<cell line: 7>\u001b[1;34m()\u001b[0m\n\u001b[0;32m      5\u001b[0m num \u001b[38;5;241m=\u001b[39m \u001b[38;5;28mint\u001b[39m(\u001b[38;5;28minput\u001b[39m(\u001b[38;5;124m\"\u001b[39m\u001b[38;5;124mEnter the number for factorial:\u001b[39m\u001b[38;5;124m\"\u001b[39m))\n\u001b[0;32m      7\u001b[0m \u001b[38;5;28;01mtry\u001b[39;00m:\n\u001b[1;32m----> 8\u001b[0m     result \u001b[38;5;241m=\u001b[39m \u001b[43mmath\u001b[49m\u001b[38;5;241;43m.\u001b[39;49m\u001b[43mfactorial\u001b[49m\u001b[43m(\u001b[49m\u001b[43mnum\u001b[49m\u001b[43m)\u001b[49m\n\u001b[0;32m      9\u001b[0m     \u001b[38;5;28mprint\u001b[39m(result)\n\u001b[0;32m     10\u001b[0m \u001b[38;5;28;01mfinally\u001b[39;00m:\n",
      "\u001b[1;31mValueError\u001b[0m: factorial() not defined for negative values"
     ]
    }
   ],
   "source": [
    "### Finally \n",
    "\n",
    "import math \n",
    "\n",
    "num = int(input(\"Enter the number for factorial:\"))\n",
    "\n",
    "try:\n",
    "    result = math.factorial(num)\n",
    "    print(result)\n",
    "finally:\n",
    "    print(\"goodbye!\")\n",
    "    \n",
    "# note - whether there is error but finally block worked"
   ]
  },
  {
   "cell_type": "code",
   "execution_count": 40,
   "id": "4dffc3b1",
   "metadata": {},
   "outputs": [
    {
     "name": "stdout",
     "output_type": "stream",
     "text": [
      "Enter the number for factorial:-5\n",
      "factorial() not defined for negative values\n",
      "goodbye!\n"
     ]
    }
   ],
   "source": [
    "import math \n",
    "\n",
    "num = int(input(\"Enter the number for factorial:\"))\n",
    "\n",
    "try:\n",
    "    result = math.factorial(num)\n",
    "    print(result)\n",
    "    \n",
    "except ValueError as error:\n",
    "    print(error)\n",
    "    \n",
    "    \n",
    "finally:\n",
    "    print(\"goodbye!\")\n",
    "    \n",
    "# note - whether there is error but finally block worked"
   ]
  },
  {
   "cell_type": "code",
   "execution_count": 41,
   "id": "28b3fbfd",
   "metadata": {},
   "outputs": [
    {
     "name": "stdout",
     "output_type": "stream",
     "text": [
      "Enter the number for factorial:-5\n",
      "Please enter positive number!\n",
      "goodbye!\n"
     ]
    }
   ],
   "source": [
    "import math \n",
    "\n",
    "num = int(input(\"Enter the number for factorial:\"))\n",
    "\n",
    "try:\n",
    "    result = math.factorial(num)\n",
    "    print(result)\n",
    "    \n",
    "except :\n",
    "    print(\"Please enter positive number!\")\n",
    "    \n",
    "    \n",
    "finally:\n",
    "    print(\"goodbye!\")\n",
    "    \n",
    "# note - whether there is error but finally block worked"
   ]
  },
  {
   "cell_type": "markdown",
   "id": "7c082a3f",
   "metadata": {},
   "source": [
    "Thank You 👍"
   ]
  }
 ],
 "metadata": {
  "kernelspec": {
   "display_name": "Python 3 (ipykernel)",
   "language": "python",
   "name": "python3"
  },
  "language_info": {
   "codemirror_mode": {
    "name": "ipython",
    "version": 3
   },
   "file_extension": ".py",
   "mimetype": "text/x-python",
   "name": "python",
   "nbconvert_exporter": "python",
   "pygments_lexer": "ipython3",
   "version": "3.9.7"
  }
 },
 "nbformat": 4,
 "nbformat_minor": 5
}
