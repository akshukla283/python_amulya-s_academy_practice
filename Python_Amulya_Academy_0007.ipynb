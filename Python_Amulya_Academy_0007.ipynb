{
 "cells": [
  {
   "cell_type": "markdown",
   "id": "8076d9e9",
   "metadata": {},
   "source": [
    "#### File Hanlding "
   ]
  },
  {
   "cell_type": "code",
   "execution_count": 1,
   "id": "2150e095",
   "metadata": {},
   "outputs": [],
   "source": [
    "# How to open 'txt' file in python\n",
    "# "
   ]
  },
  {
   "cell_type": "code",
   "execution_count": 3,
   "id": "6468c605",
   "metadata": {},
   "outputs": [],
   "source": [
    "# note if file is aleady exist then we can open it in any mode otherwise we will open it into 'w' wirte\n",
    "# 'a' append mode \n",
    "\n",
    "txt_file = open(\"text.txt\", \"w\")\n",
    "\n",
    "# if we will check into the directory we will find the text.txt file over there "
   ]
  },
  {
   "cell_type": "code",
   "execution_count": 4,
   "id": "59a90ec7",
   "metadata": {},
   "outputs": [],
   "source": [
    "# now write the file \n",
    "\n",
    "txt_file.write(\"Hello world\")\n",
    "\n",
    "txt_file.close()  # after writing any thing we should close it otherwise it will not save in file"
   ]
  },
  {
   "cell_type": "code",
   "execution_count": 5,
   "id": "22ed3223",
   "metadata": {},
   "outputs": [
    {
     "data": {
      "text/plain": [
       "11"
      ]
     },
     "execution_count": 5,
     "metadata": {},
     "output_type": "execute_result"
    }
   ],
   "source": [
    "# now we can check directly that \"Hello World\" has been written or not \n",
    "\n",
    "txt_file = open(\"text.txt\", \"w\")\n",
    "txt_file.write(\"Hello world\")"
   ]
  },
  {
   "cell_type": "code",
   "execution_count": 6,
   "id": "9329fc63",
   "metadata": {},
   "outputs": [],
   "source": [
    "# now we haven't close the file so message will not be saved as you can see\n",
    "\n",
    "# note if we open file in 'w' mode then all the previous message will be deleted file \n",
    "\n",
    "# and here we opened in 'mode' so message already deleted and didn't close it so message will not be \n",
    "# saved\n",
    "\n",
    "# now to save let's close the file \n",
    "\n",
    "txt_file.close()\n",
    "\n",
    "# now check we got message saved "
   ]
  },
  {
   "cell_type": "code",
   "execution_count": 8,
   "id": "0ec429fb",
   "metadata": {},
   "outputs": [],
   "source": [
    "# append mode we can add more message \n",
    "\n",
    "txt_file = open(\"text.txt\", \"a\")\n",
    "txt_file.write(\"\\nthis is the second message in second line\")\n",
    "txt_file.close()"
   ]
  },
  {
   "cell_type": "code",
   "execution_count": 9,
   "id": "7a90eec1",
   "metadata": {},
   "outputs": [
    {
     "name": "stdout",
     "output_type": "stream",
     "text": [
      "Hello world\n",
      "this is the second message in second line\n"
     ]
    }
   ],
   "source": [
    "# to check here let's read the file \n",
    "\n",
    "txt_file = open(\"text.txt\", \"r\")\n",
    "print(txt_file.read())"
   ]
  },
  {
   "cell_type": "code",
   "execution_count": 10,
   "id": "ffd5a702",
   "metadata": {},
   "outputs": [],
   "source": [
    "txt_file.close()"
   ]
  },
  {
   "cell_type": "code",
   "execution_count": 11,
   "id": "1a06f58b",
   "metadata": {},
   "outputs": [
    {
     "name": "stdout",
     "output_type": "stream",
     "text": [
      "Hello world\n",
      "\n"
     ]
    }
   ],
   "source": [
    "myfile = open(\"text.txt\", 'r')\n",
    "msg = myfile.readline()\n",
    "print(msg)"
   ]
  },
  {
   "cell_type": "code",
   "execution_count": 14,
   "id": "9f868477",
   "metadata": {},
   "outputs": [
    {
     "name": "stdout",
     "output_type": "stream",
     "text": [
      "Hello world\n",
      "\n",
      "this is the second message in second line\n"
     ]
    }
   ],
   "source": [
    "myfile = open(\"text.txt\", 'r')\n",
    "print(myfile.readline())\n",
    "print(myfile.readline())\n"
   ]
  },
  {
   "cell_type": "code",
   "execution_count": 13,
   "id": "b7938ab3",
   "metadata": {},
   "outputs": [
    {
     "name": "stdout",
     "output_type": "stream",
     "text": [
      "Hello world\n",
      "\n",
      "this is the second message in second line\n"
     ]
    }
   ],
   "source": [
    "myfile = open(\"text.txt\", \"r\")\n",
    "for line in myfile.readlines():\n",
    "    print(line)"
   ]
  },
  {
   "cell_type": "code",
   "execution_count": 15,
   "id": "100abbbd",
   "metadata": {},
   "outputs": [
    {
     "data": {
      "text/plain": [
       "['Hello world\\n', 'this is the second message in second line']"
      ]
     },
     "execution_count": 15,
     "metadata": {},
     "output_type": "execute_result"
    }
   ],
   "source": [
    "## note 'readline' read a line at a time and 'readlines()' read all lines and return a list of that \n",
    "\n",
    "myfile = open(\"text.txt\", \"r\")\n",
    "msg = myfile.readlines()\n",
    "msg"
   ]
  },
  {
   "cell_type": "markdown",
   "id": "3f6cc930",
   "metadata": {},
   "source": [
    "#### Rename and Remove files in Python"
   ]
  },
  {
   "cell_type": "code",
   "execution_count": 1,
   "id": "cad44acb",
   "metadata": {},
   "outputs": [],
   "source": [
    "## rename the file , if your file is in different directory then you have to pass 'path' of the file\n",
    "import os \n",
    "\n",
    "os.rename(\"text.txt\", \"new_file.txt\")\n",
    "\n",
    "# we renamed the file , we can check that."
   ]
  },
  {
   "cell_type": "code",
   "execution_count": 2,
   "id": "14a97293",
   "metadata": {},
   "outputs": [],
   "source": [
    "# let's rename back to original name\n",
    "\n",
    "import os\n",
    "\n",
    "os.rename(\"new_file.txt\", \"text.txt\")"
   ]
  },
  {
   "cell_type": "code",
   "execution_count": 3,
   "id": "14691d11",
   "metadata": {},
   "outputs": [
    {
     "ename": "FileNotFoundError",
     "evalue": "[WinError 2] The system cannot find the file specified: 'hello.txt' -> 'myfile.txt'",
     "output_type": "error",
     "traceback": [
      "\u001b[1;31m---------------------------------------------------------------------------\u001b[0m",
      "\u001b[1;31mFileNotFoundError\u001b[0m                         Traceback (most recent call last)",
      "Input \u001b[1;32mIn [3]\u001b[0m, in \u001b[0;36m<cell line: 5>\u001b[1;34m()\u001b[0m\n\u001b[0;32m      1\u001b[0m \u001b[38;5;66;03m# look if file is not found then it will give error\u001b[39;00m\n\u001b[0;32m      3\u001b[0m \u001b[38;5;28;01mimport\u001b[39;00m \u001b[38;5;21;01mos\u001b[39;00m\n\u001b[1;32m----> 5\u001b[0m \u001b[43mos\u001b[49m\u001b[38;5;241;43m.\u001b[39;49m\u001b[43mrename\u001b[49m\u001b[43m(\u001b[49m\u001b[38;5;124;43m\"\u001b[39;49m\u001b[38;5;124;43mhello.txt\u001b[39;49m\u001b[38;5;124;43m\"\u001b[39;49m\u001b[43m,\u001b[49m\u001b[43m \u001b[49m\u001b[38;5;124;43m\"\u001b[39;49m\u001b[38;5;124;43mmyfile.txt\u001b[39;49m\u001b[38;5;124;43m\"\u001b[39;49m\u001b[43m)\u001b[49m\n",
      "\u001b[1;31mFileNotFoundError\u001b[0m: [WinError 2] The system cannot find the file specified: 'hello.txt' -> 'myfile.txt'"
     ]
    }
   ],
   "source": [
    "# look if file is not found then it will give error\n",
    "\n",
    "import os\n",
    "\n",
    "os.rename(\"hello.txt\", \"myfile.txt\")"
   ]
  },
  {
   "cell_type": "code",
   "execution_count": 5,
   "id": "61fcea41",
   "metadata": {},
   "outputs": [
    {
     "data": {
      "text/plain": [
       "\"E:\\\\Python_world\\\\Amulya's Academic\""
      ]
     },
     "execution_count": 5,
     "metadata": {},
     "output_type": "execute_result"
    }
   ],
   "source": [
    "# now let's get curremt directory\n",
    "\n",
    "import os\n",
    "\n",
    "os.getcwd()"
   ]
  },
  {
   "cell_type": "code",
   "execution_count": 7,
   "id": "3c8a5ab3",
   "metadata": {},
   "outputs": [],
   "source": [
    "# when get current working directory then it give it in \"\\\\\" because if it give it in '\\' it will be\n",
    "# treated as 'escape' character\n",
    "\n",
    "# let's check we have a 'hello.txt' file in 'files' folder and  rename that\n",
    "\n",
    "import os \n",
    "\n",
    "os.rename(\".\\\\files\\\\hello.txt\", \"new_file.txt\")\n",
    "\n",
    "# file name changed but new file has moved in current working directory because we didn't give the path\n",
    "# to the new file name , so to avoid this please give the path where you wnat to save your file"
   ]
  },
  {
   "cell_type": "code",
   "execution_count": 8,
   "id": "d0eaec32",
   "metadata": {},
   "outputs": [],
   "source": [
    "# let's take another file \"newfile.txt\" and rename it into \"renamed.txt\"\n",
    "\n",
    "import os \n",
    "\n",
    "os.rename(\".\\\\files\\\\newfile.txt\", \".\\\\files\\\\renamed.txt\")\n",
    "\n",
    "# now file name has been changed \n",
    "\n",
    "# note - - use \"\\\\\" at time of path"
   ]
  },
  {
   "cell_type": "code",
   "execution_count": 9,
   "id": "82dc8cc3",
   "metadata": {},
   "outputs": [],
   "source": [
    "## remove file \n",
    "\n",
    "import os\n",
    "\n",
    "os.remove(\"new_file.txt\")"
   ]
  },
  {
   "cell_type": "markdown",
   "id": "4d8d1a70",
   "metadata": {},
   "source": [
    "#### Managing Directories"
   ]
  },
  {
   "cell_type": "code",
   "execution_count": 10,
   "id": "2ed66852",
   "metadata": {},
   "outputs": [],
   "source": [
    "import os\n",
    "\n",
    "# create directory \n",
    "\n",
    "os.mkdir(\".\\\\files\\\\new\")"
   ]
  },
  {
   "cell_type": "code",
   "execution_count": 12,
   "id": "d01ff19b",
   "metadata": {},
   "outputs": [
    {
     "data": {
      "text/plain": [
       "\"E:\\\\Python_world\\\\Amulya's Academic\""
      ]
     },
     "execution_count": 12,
     "metadata": {},
     "output_type": "execute_result"
    }
   ],
   "source": [
    "# geting current working directory\n",
    "os.getcwd()"
   ]
  },
  {
   "cell_type": "code",
   "execution_count": 14,
   "id": "dc62bd62",
   "metadata": {},
   "outputs": [],
   "source": [
    "# change current working directory\n",
    "import os\n",
    "\n",
    "os.chdir(\".\\\\files\\\\new\") # you can give full path-\"E:\\\\Python_world\\\\Amulya's Academic\\\\file\\\\new\""
   ]
  },
  {
   "cell_type": "code",
   "execution_count": 15,
   "id": "fddcd167",
   "metadata": {},
   "outputs": [
    {
     "data": {
      "text/plain": [
       "\"E:\\\\Python_world\\\\Amulya's Academic\\\\files\\\\new\""
      ]
     },
     "execution_count": 15,
     "metadata": {},
     "output_type": "execute_result"
    }
   ],
   "source": [
    "# let's check current working directory\n",
    "\n",
    "import os\n",
    "os.getcwd()"
   ]
  },
  {
   "cell_type": "code",
   "execution_count": 16,
   "id": "e62153dd",
   "metadata": {},
   "outputs": [],
   "source": [
    "# let's make another directory\n",
    "\n",
    "import os \n",
    "\n",
    "os.mkdir(\"ankit\")\n",
    "\n",
    "# we made new directory in 'new' directory name as \"ankit\""
   ]
  },
  {
   "cell_type": "code",
   "execution_count": 17,
   "id": "fcfd6a6b",
   "metadata": {},
   "outputs": [
    {
     "data": {
      "text/plain": [
       "['ankit']"
      ]
     },
     "execution_count": 17,
     "metadata": {},
     "output_type": "execute_result"
    }
   ],
   "source": [
    "# we can find the list of directories \n",
    "\n",
    "import os\n",
    "os.listdir()"
   ]
  },
  {
   "cell_type": "code",
   "execution_count": 18,
   "id": "1935b739",
   "metadata": {},
   "outputs": [
    {
     "data": {
      "text/plain": [
       "['$Recycle.Bin',\n",
       " '$WinREAgent',\n",
       " 'BitLocker Recovery Key 33FAC351-E1B2-4D30-A390-E08CEB5E4586.TXT',\n",
       " 'BitLocker Recovery Key D0517F1E-87F5-42BB-B705-D73F3053A535.TXT',\n",
       " 'Documents and Settings',\n",
       " 'DumpStack.log.tmp',\n",
       " 'hiberfil.sys',\n",
       " 'Intel',\n",
       " 'pagefile.sys',\n",
       " 'PerfLogs',\n",
       " 'Program Files',\n",
       " 'Program Files (x86)',\n",
       " 'ProgramData',\n",
       " 'Recovery',\n",
       " 'swapfile.sys',\n",
       " 'System Volume Information',\n",
       " 'Users',\n",
       " 'Windows']"
      ]
     },
     "execution_count": 18,
     "metadata": {},
     "output_type": "execute_result"
    }
   ],
   "source": [
    "# if we want the list of sub-directory from any directory then we need to give path of that\n",
    "\n",
    "import os\n",
    "\n",
    "os.listdir(\"c:\\\\\")"
   ]
  },
  {
   "cell_type": "code",
   "execution_count": 19,
   "id": "35363688",
   "metadata": {},
   "outputs": [],
   "source": [
    "# to remove any directory \n",
    "\n",
    "import os\n",
    "\n",
    "os.rmdir(\"ankit\")"
   ]
  },
  {
   "cell_type": "code",
   "execution_count": 20,
   "id": "1de8e2e2",
   "metadata": {},
   "outputs": [
    {
     "data": {
      "text/plain": [
       "[]"
      ]
     },
     "execution_count": 20,
     "metadata": {},
     "output_type": "execute_result"
    }
   ],
   "source": [
    "# now we can check it by getting the list of the sub-directories\n",
    "\n",
    "os.listdir()"
   ]
  },
  {
   "cell_type": "markdown",
   "id": "eec35186",
   "metadata": {},
   "source": [
    "As we can see that \"ankit\" sub-directory has been deleted"
   ]
  },
  {
   "cell_type": "code",
   "execution_count": 21,
   "id": "89c6ff52",
   "metadata": {},
   "outputs": [],
   "source": [
    "# now let's change our current derectory  to previous directories\n",
    "\n",
    "import os\n",
    "\n",
    "os.chdir(\"E:\\\\Python_world\\\\Amulya's Academic\")"
   ]
  },
  {
   "cell_type": "code",
   "execution_count": 22,
   "id": "651627bf",
   "metadata": {},
   "outputs": [
    {
     "data": {
      "text/plain": [
       "\"E:\\\\Python_world\\\\Amulya's Academic\""
      ]
     },
     "execution_count": 22,
     "metadata": {},
     "output_type": "execute_result"
    }
   ],
   "source": [
    "import os\n",
    "os.getcwd()"
   ]
  },
  {
   "cell_type": "markdown",
   "id": "f042a4c9",
   "metadata": {},
   "source": [
    "#### Exception Handling"
   ]
  },
  {
   "cell_type": "code",
   "execution_count": 23,
   "id": "7f933b62",
   "metadata": {},
   "outputs": [
    {
     "ename": "IndexError",
     "evalue": "list index out of range",
     "output_type": "error",
     "traceback": [
      "\u001b[1;31m---------------------------------------------------------------------------\u001b[0m",
      "\u001b[1;31mIndexError\u001b[0m                                Traceback (most recent call last)",
      "Input \u001b[1;32mIn [23]\u001b[0m, in \u001b[0;36m<cell line: 3>\u001b[1;34m()\u001b[0m\n\u001b[0;32m      1\u001b[0m lst \u001b[38;5;241m=\u001b[39m [\u001b[38;5;241m1\u001b[39m,\u001b[38;5;241m2\u001b[39m,\u001b[38;5;241m3\u001b[39m,\u001b[38;5;241m4\u001b[39m]\n\u001b[1;32m----> 3\u001b[0m \u001b[43mlst\u001b[49m\u001b[43m[\u001b[49m\u001b[38;5;241;43m4\u001b[39;49m\u001b[43m]\u001b[49m\n",
      "\u001b[1;31mIndexError\u001b[0m: list index out of range"
     ]
    }
   ],
   "source": [
    "lst = [1,2,3,4]\n",
    "\n",
    "lst[4]"
   ]
  },
  {
   "cell_type": "code",
   "execution_count": 24,
   "id": "926bd8ff",
   "metadata": {},
   "outputs": [
    {
     "ename": "NameError",
     "evalue": "name 'lsst' is not defined",
     "output_type": "error",
     "traceback": [
      "\u001b[1;31m---------------------------------------------------------------------------\u001b[0m",
      "\u001b[1;31mNameError\u001b[0m                                 Traceback (most recent call last)",
      "Input \u001b[1;32mIn [24]\u001b[0m, in \u001b[0;36m<cell line: 3>\u001b[1;34m()\u001b[0m\n\u001b[0;32m      1\u001b[0m \u001b[38;5;66;03m# let python to handle these error\u001b[39;00m\n\u001b[0;32m      2\u001b[0m \u001b[38;5;66;03m# there are some standard erors\u001b[39;00m\n\u001b[1;32m----> 3\u001b[0m \u001b[43mlsst\u001b[49m\n",
      "\u001b[1;31mNameError\u001b[0m: name 'lsst' is not defined"
     ]
    }
   ],
   "source": [
    "# let python to handle these error\n",
    "# there are some standard erors\n",
    "lsst"
   ]
  },
  {
   "cell_type": "code",
   "execution_count": 25,
   "id": "3d31a88e",
   "metadata": {},
   "outputs": [
    {
     "ename": "TypeError",
     "evalue": "unsupported operand type(s) for +: 'int' and 'str'",
     "output_type": "error",
     "traceback": [
      "\u001b[1;31m---------------------------------------------------------------------------\u001b[0m",
      "\u001b[1;31mTypeError\u001b[0m                                 Traceback (most recent call last)",
      "Input \u001b[1;32mIn [25]\u001b[0m, in \u001b[0;36m<cell line: 1>\u001b[1;34m()\u001b[0m\n\u001b[1;32m----> 1\u001b[0m \u001b[38;5;241;43m3\u001b[39;49m\u001b[38;5;241;43m+\u001b[39;49m\u001b[38;5;124;43m\"\u001b[39;49m\u001b[38;5;124;43md\u001b[39;49m\u001b[38;5;124;43m\"\u001b[39;49m\n",
      "\u001b[1;31mTypeError\u001b[0m: unsupported operand type(s) for +: 'int' and 'str'"
     ]
    }
   ],
   "source": [
    "3+\"d\""
   ]
  },
  {
   "cell_type": "code",
   "execution_count": 27,
   "id": "eb82d5b0",
   "metadata": {},
   "outputs": [
    {
     "ename": "ZeroDivisionError",
     "evalue": "division by zero",
     "output_type": "error",
     "traceback": [
      "\u001b[1;31m---------------------------------------------------------------------------\u001b[0m",
      "\u001b[1;31mZeroDivisionError\u001b[0m                         Traceback (most recent call last)",
      "Input \u001b[1;32mIn [27]\u001b[0m, in \u001b[0;36m<cell line: 1>\u001b[1;34m()\u001b[0m\n\u001b[1;32m----> 1\u001b[0m \u001b[38;5;241;43m9\u001b[39;49m\u001b[38;5;241;43m/\u001b[39;49m\u001b[38;5;241;43m0\u001b[39;49m\n",
      "\u001b[1;31mZeroDivisionError\u001b[0m: division by zero"
     ]
    }
   ],
   "source": [
    "9/0"
   ]
  },
  {
   "cell_type": "code",
   "execution_count": 28,
   "id": "452c7101",
   "metadata": {},
   "outputs": [
    {
     "name": "stdout",
     "output_type": "stream",
     "text": [
      "Please enter the number to find factorial : 5\n",
      "120\n"
     ]
    }
   ],
   "source": [
    "# And many more error are here \n",
    "\n",
    "import math \n",
    "\n",
    "num = int(input(\"Please enter the number to find factorial : \"))\n",
    "\n",
    "result = math.factorial(num)\n",
    "print(result)"
   ]
  },
  {
   "cell_type": "code",
   "execution_count": 29,
   "id": "42b4d22a",
   "metadata": {},
   "outputs": [
    {
     "name": "stdout",
     "output_type": "stream",
     "text": [
      "Please enter the number to find factorial : -5\n"
     ]
    },
    {
     "ename": "ValueError",
     "evalue": "factorial() not defined for negative values",
     "output_type": "error",
     "traceback": [
      "\u001b[1;31m---------------------------------------------------------------------------\u001b[0m",
      "\u001b[1;31mValueError\u001b[0m                                Traceback (most recent call last)",
      "Input \u001b[1;32mIn [29]\u001b[0m, in \u001b[0;36m<cell line: 5>\u001b[1;34m()\u001b[0m\n\u001b[0;32m      1\u001b[0m \u001b[38;5;28;01mimport\u001b[39;00m \u001b[38;5;21;01mmath\u001b[39;00m \n\u001b[0;32m      3\u001b[0m num \u001b[38;5;241m=\u001b[39m \u001b[38;5;28mint\u001b[39m(\u001b[38;5;28minput\u001b[39m(\u001b[38;5;124m\"\u001b[39m\u001b[38;5;124mPlease enter the number to find factorial : \u001b[39m\u001b[38;5;124m\"\u001b[39m))\n\u001b[1;32m----> 5\u001b[0m result \u001b[38;5;241m=\u001b[39m \u001b[43mmath\u001b[49m\u001b[38;5;241;43m.\u001b[39;49m\u001b[43mfactorial\u001b[49m\u001b[43m(\u001b[49m\u001b[43mnum\u001b[49m\u001b[43m)\u001b[49m\n\u001b[0;32m      6\u001b[0m \u001b[38;5;28mprint\u001b[39m(result)\n",
      "\u001b[1;31mValueError\u001b[0m: factorial() not defined for negative values"
     ]
    }
   ],
   "source": [
    "import math \n",
    "\n",
    "num = int(input(\"Please enter the number to find factorial : \"))\n",
    "\n",
    "result = math.factorial(num)\n",
    "print(result)"
   ]
  },
  {
   "cell_type": "code",
   "execution_count": 31,
   "id": "d1d3a7ff",
   "metadata": {},
   "outputs": [
    {
     "name": "stdout",
     "output_type": "stream",
     "text": [
      "Please enter the number to find factorial : -5\n",
      "Can not compute the factorial of Negative numbers\n"
     ]
    }
   ],
   "source": [
    "# ValueError we can see above\n",
    "# to handel these\n",
    "\n",
    "import math \n",
    "\n",
    "num = int(input(\"Please enter the number to find factorial : \"))\n",
    "try:\n",
    "    result = math.factorial(num)\n",
    "    print(result)\n",
    "except:\n",
    "    print(\"Can not compute the factorial of Negative numbers\")"
   ]
  },
  {
   "cell_type": "code",
   "execution_count": 32,
   "id": "20be7f18",
   "metadata": {},
   "outputs": [
    {
     "name": "stdout",
     "output_type": "stream",
     "text": [
      "Please enter the number to find factorial : -5\n",
      "Can not compute the factorial of Negative numbers\n"
     ]
    }
   ],
   "source": [
    "# we can give the error name\n",
    "\n",
    "import math \n",
    "\n",
    "num = int(input(\"Please enter the number to find factorial : \"))\n",
    "try:\n",
    "    result = math.factorial(num)\n",
    "    print(result)\n",
    "except ValueError:\n",
    "    print(\"Can not compute the factorial of Negative numbers\")"
   ]
  },
  {
   "cell_type": "code",
   "execution_count": 33,
   "id": "50f58c23",
   "metadata": {},
   "outputs": [
    {
     "ename": "ValueError",
     "evalue": "4",
     "output_type": "error",
     "traceback": [
      "\u001b[1;31m---------------------------------------------------------------------------\u001b[0m",
      "\u001b[1;31mValueError\u001b[0m                                Traceback (most recent call last)",
      "Input \u001b[1;32mIn [33]\u001b[0m, in \u001b[0;36m<cell line: 3>\u001b[1;34m()\u001b[0m\n\u001b[0;32m      1\u001b[0m \u001b[38;5;66;03m### usnig 'raise' statement \u001b[39;00m\n\u001b[1;32m----> 3\u001b[0m \u001b[38;5;28;01mraise\u001b[39;00m \u001b[38;5;167;01mValueError\u001b[39;00m(\u001b[38;5;241m4\u001b[39m)\n",
      "\u001b[1;31mValueError\u001b[0m: 4"
     ]
    }
   ],
   "source": [
    "### usnig 'raise' statement \n",
    "\n",
    "raise ValueError(4)"
   ]
  },
  {
   "cell_type": "code",
   "execution_count": 34,
   "id": "2d468234",
   "metadata": {},
   "outputs": [
    {
     "ename": "NameError",
     "evalue": "h",
     "output_type": "error",
     "traceback": [
      "\u001b[1;31m---------------------------------------------------------------------------\u001b[0m",
      "\u001b[1;31mNameError\u001b[0m                                 Traceback (most recent call last)",
      "Input \u001b[1;32mIn [34]\u001b[0m, in \u001b[0;36m<cell line: 1>\u001b[1;34m()\u001b[0m\n\u001b[1;32m----> 1\u001b[0m \u001b[38;5;28;01mraise\u001b[39;00m \u001b[38;5;167;01mNameError\u001b[39;00m(\u001b[38;5;124m\"\u001b[39m\u001b[38;5;124mh\u001b[39m\u001b[38;5;124m\"\u001b[39m)\n",
      "\u001b[1;31mNameError\u001b[0m: h"
     ]
    }
   ],
   "source": [
    "raise NameError(\"h\")"
   ]
  },
  {
   "cell_type": "code",
   "execution_count": 42,
   "id": "fab64c55",
   "metadata": {},
   "outputs": [
    {
     "name": "stdout",
     "output_type": "stream",
     "text": [
      "Enter the number:-5\n",
      "That is not positive number!\n"
     ]
    }
   ],
   "source": [
    "# taking positive number from user \n",
    "\n",
    "try:\n",
    "    num = int(input(\"Enter the number:\"))\n",
    "    if num<=0:\n",
    "        raise ValueError(\"That is not positive number!\")\n",
    "except ValueError as error:\n",
    "    print(error)"
   ]
  },
  {
   "cell_type": "code",
   "execution_count": 36,
   "id": "b2fff0ef",
   "metadata": {},
   "outputs": [
    {
     "name": "stdout",
     "output_type": "stream",
     "text": [
      "Enter the number:-45\n",
      "That is not positive number!\n"
     ]
    }
   ],
   "source": [
    "# taking positive number from user \n",
    "\n",
    "try:\n",
    "    num = int(input(\"Enter the number:\"))\n",
    "    if num<=0:\n",
    "        raise ValueError(\"That is not positive number!\")\n",
    "except ValueError as error:\n",
    "    print(error)"
   ]
  },
  {
   "cell_type": "code",
   "execution_count": 38,
   "id": "787d1d83",
   "metadata": {},
   "outputs": [
    {
     "name": "stdout",
     "output_type": "stream",
     "text": [
      "Enter the number for factorial:5\n",
      "120\n",
      "goodbye!\n"
     ]
    }
   ],
   "source": [
    "### Finally \n",
    "\n",
    "import math \n",
    "\n",
    "num = int(input(\"Enter the number for factorial:\"))\n",
    "\n",
    "try:\n",
    "    result = math.factorial(num)\n",
    "    print(result)\n",
    "finally:\n",
    "    print(\"goodbye!\")"
   ]
  },
  {
   "cell_type": "code",
   "execution_count": 39,
   "id": "5c37d03a",
   "metadata": {},
   "outputs": [
    {
     "name": "stdout",
     "output_type": "stream",
     "text": [
      "Enter the number for factorial:-5\n",
      "goodbye!\n"
     ]
    },
    {
     "ename": "ValueError",
     "evalue": "factorial() not defined for negative values",
     "output_type": "error",
     "traceback": [
      "\u001b[1;31m---------------------------------------------------------------------------\u001b[0m",
      "\u001b[1;31mValueError\u001b[0m                                Traceback (most recent call last)",
      "Input \u001b[1;32mIn [39]\u001b[0m, in \u001b[0;36m<cell line: 7>\u001b[1;34m()\u001b[0m\n\u001b[0;32m      5\u001b[0m num \u001b[38;5;241m=\u001b[39m \u001b[38;5;28mint\u001b[39m(\u001b[38;5;28minput\u001b[39m(\u001b[38;5;124m\"\u001b[39m\u001b[38;5;124mEnter the number for factorial:\u001b[39m\u001b[38;5;124m\"\u001b[39m))\n\u001b[0;32m      7\u001b[0m \u001b[38;5;28;01mtry\u001b[39;00m:\n\u001b[1;32m----> 8\u001b[0m     result \u001b[38;5;241m=\u001b[39m \u001b[43mmath\u001b[49m\u001b[38;5;241;43m.\u001b[39;49m\u001b[43mfactorial\u001b[49m\u001b[43m(\u001b[49m\u001b[43mnum\u001b[49m\u001b[43m)\u001b[49m\n\u001b[0;32m      9\u001b[0m     \u001b[38;5;28mprint\u001b[39m(result)\n\u001b[0;32m     10\u001b[0m \u001b[38;5;28;01mfinally\u001b[39;00m:\n",
      "\u001b[1;31mValueError\u001b[0m: factorial() not defined for negative values"
     ]
    }
   ],
   "source": [
    "### Finally \n",
    "\n",
    "import math \n",
    "\n",
    "num = int(input(\"Enter the number for factorial:\"))\n",
    "\n",
    "try:\n",
    "    result = math.factorial(num)\n",
    "    print(result)\n",
    "finally:\n",
    "    print(\"goodbye!\")\n",
    "    \n",
    "# note - whether there is error but finally block worked"
   ]
  },
  {
   "cell_type": "code",
   "execution_count": 40,
   "id": "4dffc3b1",
   "metadata": {},
   "outputs": [
    {
     "name": "stdout",
     "output_type": "stream",
     "text": [
      "Enter the number for factorial:-5\n",
      "factorial() not defined for negative values\n",
      "goodbye!\n"
     ]
    }
   ],
   "source": [
    "import math \n",
    "\n",
    "num = int(input(\"Enter the number for factorial:\"))\n",
    "\n",
    "try:\n",
    "    result = math.factorial(num)\n",
    "    print(result)\n",
    "    \n",
    "except ValueError as error:\n",
    "    print(error)\n",
    "    \n",
    "    \n",
    "finally:\n",
    "    print(\"goodbye!\")\n",
    "    \n",
    "# note - whether there is error but finally block worked"
   ]
  },
  {
   "cell_type": "code",
   "execution_count": 41,
   "id": "28b3fbfd",
   "metadata": {},
   "outputs": [
    {
     "name": "stdout",
     "output_type": "stream",
     "text": [
      "Enter the number for factorial:-5\n",
      "Please enter positive number!\n",
      "goodbye!\n"
     ]
    }
   ],
   "source": [
    "import math \n",
    "\n",
    "num = int(input(\"Enter the number for factorial:\"))\n",
    "\n",
    "try:\n",
    "    result = math.factorial(num)\n",
    "    print(result)\n",
    "    \n",
    "except :\n",
    "    print(\"Please enter positive number!\")\n",
    "    \n",
    "    \n",
    "finally:\n",
    "    print(\"goodbye!\")\n",
    "    \n",
    "# note - whether there is error but finally block worked"
   ]
  },
  {
   "cell_type": "markdown",
   "id": "7c082a3f",
   "metadata": {},
   "source": [
    "Thank You 👍"
   ]
  }
 ],
 "metadata": {
  "kernelspec": {
   "display_name": "Python 3 (ipykernel)",
   "language": "python",
   "name": "python3"
  },
  "language_info": {
   "codemirror_mode": {
    "name": "ipython",
    "version": 3
   },
   "file_extension": ".py",
   "mimetype": "text/x-python",
   "name": "python",
   "nbconvert_exporter": "python",
   "pygments_lexer": "ipython3",
   "version": "3.9.7"
  }
 },
 "nbformat": 4,
 "nbformat_minor": 5
}
