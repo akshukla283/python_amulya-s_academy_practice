{
 "cells": [
  {
   "cell_type": "markdown",
   "id": "39077fd2",
   "metadata": {},
   "source": [
    "#### String functions countinue......"
   ]
  },
  {
   "cell_type": "code",
   "execution_count": 1,
   "id": "11b660fd",
   "metadata": {},
   "outputs": [
    {
     "data": {
      "text/plain": [
       "'Hello world'"
      ]
     },
     "execution_count": 1,
     "metadata": {},
     "output_type": "execute_result"
    }
   ],
   "source": [
    "# replace  -- replace temporarly \n",
    "str1 = \"Hello planet\"\n",
    "\n",
    "str1.replace(\"planet\", \"world\")"
   ]
  },
  {
   "cell_type": "code",
   "execution_count": 7,
   "id": "9d802ee7",
   "metadata": {},
   "outputs": [
    {
     "name": "stdout",
     "output_type": "stream",
     "text": [
      "Str1 before applied replace method:  Hello planet\n",
      "stored str1 while replace used:  Hello world\n",
      "str1 after aplied replace method :  Hello planet\n"
     ]
    }
   ],
   "source": [
    "# replace  -- replace temporarly \n",
    "str1 = \"Hello planet\"\n",
    "\n",
    "stored = str1.replace(\"planet\", \"world\")\n",
    "\n",
    "print(\"Str1 before applied replace method: \",str1)\n",
    "print(\"stored str1 while replace used: \", stored)  \n",
    "print(\"str1 after aplied replace method : \", str1)"
   ]
  },
  {
   "cell_type": "markdown",
   "id": "34606873",
   "metadata": {},
   "source": [
    "#### Note:\n",
    "As we can see that `replace()` method doesn't affect the original list, it return a replaced value temporary new list. "
   ]
  },
  {
   "cell_type": "code",
   "execution_count": 8,
   "id": "5c29aec3",
   "metadata": {},
   "outputs": [],
   "source": [
    "# replace  -- replace temporarly \n",
    "str1 = \"Hello planet\""
   ]
  },
  {
   "cell_type": "code",
   "execution_count": 9,
   "id": "792cf703",
   "metadata": {},
   "outputs": [
    {
     "data": {
      "text/plain": [
       "'He##o p#anet'"
      ]
     },
     "execution_count": 9,
     "metadata": {},
     "output_type": "execute_result"
    }
   ],
   "source": [
    "str1.replace(\"l\", \"#\")"
   ]
  },
  {
   "cell_type": "code",
   "execution_count": 10,
   "id": "7cc50a36",
   "metadata": {},
   "outputs": [
    {
     "data": {
      "text/plain": [
       "'Hello planet'"
      ]
     },
     "execution_count": 10,
     "metadata": {},
     "output_type": "execute_result"
    }
   ],
   "source": [
    "str1"
   ]
  },
  {
   "cell_type": "code",
   "execution_count": 11,
   "id": "530fd82c",
   "metadata": {},
   "outputs": [
    {
     "data": {
      "text/plain": [
       "'He##o planet'"
      ]
     },
     "execution_count": 11,
     "metadata": {},
     "output_type": "execute_result"
    }
   ],
   "source": [
    "str1.replace(\"l\", \"#\", 2)"
   ]
  },
  {
   "cell_type": "code",
   "execution_count": 12,
   "id": "c61e348e",
   "metadata": {},
   "outputs": [
    {
     "data": {
      "text/plain": [
       "False"
      ]
     },
     "execution_count": 12,
     "metadata": {},
     "output_type": "execute_result"
    }
   ],
   "source": [
    "### isdigit\n",
    "str1= \"123g\"\n",
    "str1.isdigit()"
   ]
  },
  {
   "cell_type": "code",
   "execution_count": 13,
   "id": "b4bdc638",
   "metadata": {},
   "outputs": [
    {
     "data": {
      "text/plain": [
       "True"
      ]
     },
     "execution_count": 13,
     "metadata": {},
     "output_type": "execute_result"
    }
   ],
   "source": [
    "str1 = \"12344\"\n",
    "str1.isdigit()"
   ]
  },
  {
   "cell_type": "code",
   "execution_count": 14,
   "id": "2b8f16b8",
   "metadata": {},
   "outputs": [
    {
     "data": {
      "text/plain": [
       "True"
      ]
     },
     "execution_count": 14,
     "metadata": {},
     "output_type": "execute_result"
    }
   ],
   "source": [
    "## isalpha()\n",
    "\n",
    "str2 = \"hello\"\n",
    "str2.isalpha()"
   ]
  },
  {
   "cell_type": "code",
   "execution_count": 15,
   "id": "ef1aa1b9",
   "metadata": {},
   "outputs": [
    {
     "data": {
      "text/plain": [
       "False"
      ]
     },
     "execution_count": 15,
     "metadata": {},
     "output_type": "execute_result"
    }
   ],
   "source": [
    "str2 = \"hello world\"\n",
    "str2.isalpha() # space in not a alpha "
   ]
  },
  {
   "cell_type": "code",
   "execution_count": 16,
   "id": "75f41be6",
   "metadata": {},
   "outputs": [
    {
     "data": {
      "text/plain": [
       "False"
      ]
     },
     "execution_count": 16,
     "metadata": {},
     "output_type": "execute_result"
    }
   ],
   "source": [
    "str2 = \"hello_\" # we know that \"_\" is not a alpha but we got confuse because it uses in identifiers.\n",
    "str2.isalpha()"
   ]
  },
  {
   "cell_type": "code",
   "execution_count": 17,
   "id": "1c904c80",
   "metadata": {},
   "outputs": [
    {
     "data": {
      "text/plain": [
       "True"
      ]
     },
     "execution_count": 17,
     "metadata": {},
     "output_type": "execute_result"
    }
   ],
   "source": [
    "# isalnum\n",
    "str1 = \"hello123\"\n",
    "str1.isalnum()"
   ]
  },
  {
   "cell_type": "code",
   "execution_count": 19,
   "id": "933128e4",
   "metadata": {},
   "outputs": [
    {
     "data": {
      "text/plain": [
       "False"
      ]
     },
     "execution_count": 19,
     "metadata": {},
     "output_type": "execute_result"
    }
   ],
   "source": [
    "str2 = \"hello 123\" # space is space it is neither an alpha nor a number so we result False\n",
    "str2.isalnum()"
   ]
  },
  {
   "cell_type": "code",
   "execution_count": 20,
   "id": "1f99c791",
   "metadata": {},
   "outputs": [
    {
     "data": {
      "text/plain": [
       "False"
      ]
     },
     "execution_count": 20,
     "metadata": {},
     "output_type": "execute_result"
    }
   ],
   "source": [
    "str2 = \"Hello_\"\n",
    "str2.isalnum()"
   ]
  },
  {
   "cell_type": "code",
   "execution_count": 23,
   "id": "a95e407c",
   "metadata": {},
   "outputs": [
    {
     "data": {
      "text/plain": [
       "'Hello'"
      ]
     },
     "execution_count": 23,
     "metadata": {},
     "output_type": "execute_result"
    }
   ],
   "source": [
    "# strip function - it remove leading and trailing element whatever we will pass during application of\n",
    "#                  of the strip method.\n",
    "\n",
    "str1 = \"!!!!Hello!!!!\"\n",
    "\n",
    "str1.strip(\"!\")"
   ]
  },
  {
   "cell_type": "code",
   "execution_count": 28,
   "id": "0f98f439",
   "metadata": {},
   "outputs": [
    {
     "name": "stdout",
     "output_type": "stream",
     "text": [
      "str1 before strip method:   !!!!Hello!!!!\n",
      "stored str1 while used strip method :  Hello\n",
      "str1 after applied strip method :  !!!!Hello!!!!\n"
     ]
    }
   ],
   "source": [
    "str1 = \"!!!!Hello!!!!\"\n",
    "\n",
    "stored = str1.strip(\"!\")\n",
    "\n",
    "print(\"str1 before strip method:  \", str1)\n",
    "print(\"stored str1 while used strip method : \", stored)\n",
    "print(\"str1 after applied strip method : \", str1)"
   ]
  },
  {
   "cell_type": "markdown",
   "id": "fa8dc60d",
   "metadata": {},
   "source": [
    "#### Note:\n",
    "As we can see that `strip()` method doesn't affect the original list, it return a replaced value temporary new list. "
   ]
  },
  {
   "cell_type": "code",
   "execution_count": 22,
   "id": "7f724d33",
   "metadata": {},
   "outputs": [],
   "source": [
    "# we can remove from left side or right side but not from middle "
   ]
  },
  {
   "cell_type": "code",
   "execution_count": 24,
   "id": "d13739ff",
   "metadata": {},
   "outputs": [
    {
     "data": {
      "text/plain": [
       "'Helaaaalo'"
      ]
     },
     "execution_count": 24,
     "metadata": {},
     "output_type": "execute_result"
    }
   ],
   "source": [
    "str1 = \"aaaaaHelaaaaloaaaa\"\n",
    "str1.strip(\"a\")"
   ]
  },
  {
   "cell_type": "code",
   "execution_count": 25,
   "id": "684fe3f6",
   "metadata": {},
   "outputs": [
    {
     "data": {
      "text/plain": [
       "'hello'"
      ]
     },
     "execution_count": 25,
     "metadata": {},
     "output_type": "execute_result"
    }
   ],
   "source": [
    "str1 = \"hello,,,,,,,ae\"\n",
    "\n",
    "str1.strip(\",ae\")"
   ]
  },
  {
   "cell_type": "code",
   "execution_count": 26,
   "id": "ac60c9e4",
   "metadata": {},
   "outputs": [
    {
     "data": {
      "text/plain": [
       "'hell'"
      ]
     },
     "execution_count": 26,
     "metadata": {},
     "output_type": "execute_result"
    }
   ],
   "source": [
    "str1 = \"hello,,,,,,,aoe\"\n",
    "\n",
    "str1.strip(\",aoe\")"
   ]
  },
  {
   "cell_type": "code",
   "execution_count": 27,
   "id": "a923bc75",
   "metadata": {},
   "outputs": [
    {
     "data": {
      "text/plain": [
       "'....hhhhhhhekooHello'"
      ]
     },
     "execution_count": 27,
     "metadata": {},
     "output_type": "execute_result"
    }
   ],
   "source": [
    "# rstrip - it remove the elements which will be pass during application of rstip() method \n",
    "#from the right side of the string \n",
    "\n",
    "str1 =\"....hhhhhhhekooHello123.....,,,\"\n",
    "str1.rstrip(\",.123\")\n"
   ]
  },
  {
   "cell_type": "code",
   "execution_count": 29,
   "id": "dd407e5e",
   "metadata": {},
   "outputs": [
    {
     "name": "stdout",
     "output_type": "stream",
     "text": [
      "str1 before rstrip method:   ....hhhhhhhekooHello123.....,,,\n",
      "stored str1 while used rstrip method :  Hello\n",
      "str1 after applied rstrip method :  ....hhhhhhhekooHello123.....,,,\n"
     ]
    }
   ],
   "source": [
    "str1 =\"....hhhhhhhekooHello123.....,,,\"\n",
    "str1.rstrip(\",.123\")\n",
    "\n",
    "print(\"str1 before rstrip method:  \", str1)\n",
    "print(\"stored str1 while used rstrip method : \", stored)\n",
    "print(\"str1 after applied rstrip method : \", str1)"
   ]
  },
  {
   "cell_type": "markdown",
   "id": "f085c3ce",
   "metadata": {},
   "source": [
    "#### Note:\n",
    "As we can see that `rstrip()` method also doesn't affect the original list, it return a replaced value temporary new list. "
   ]
  },
  {
   "cell_type": "code",
   "execution_count": 30,
   "id": "613041ed",
   "metadata": {},
   "outputs": [
    {
     "data": {
      "text/plain": [
       "'Hello123.....,,,'"
      ]
     },
     "execution_count": 30,
     "metadata": {},
     "output_type": "execute_result"
    }
   ],
   "source": [
    "#  lstrip\n",
    "str1 =\"....hhhhhooHello123.....,,,\"\n",
    "str1.lstrip(\",.oh123\")"
   ]
  },
  {
   "cell_type": "code",
   "execution_count": 32,
   "id": "ca098d48",
   "metadata": {},
   "outputs": [
    {
     "name": "stdout",
     "output_type": "stream",
     "text": [
      "str1 before lstrip method:   ....hhhhhooHello123.....,,,\n",
      "stored str1 while used lstrip method :  Hello\n",
      "str1 after applied lstrip method :  ....hhhhhooHello123.....,,,\n"
     ]
    }
   ],
   "source": [
    "#  lstrip\n",
    "str1 =\"....hhhhhooHello123.....,,,\"\n",
    "str1.lstrip(\",.oh123\")\n",
    "\n",
    "print(\"str1 before lstrip method:  \", str1)\n",
    "print(\"stored str1 while used lstrip method : \", stored)\n",
    "print(\"str1 after applied lstrip method : \", str1)"
   ]
  },
  {
   "cell_type": "markdown",
   "id": "8f43b1bd",
   "metadata": {},
   "source": [
    "#### Note:\n",
    "As we can see that `lstrip()` method also doesn't affect the original list, it return a replaced value temporary new list. "
   ]
  },
  {
   "cell_type": "code",
   "execution_count": 35,
   "id": "c679d297",
   "metadata": {},
   "outputs": [
    {
     "name": "stdout",
     "output_type": "stream",
     "text": [
      "   hello      World\n"
     ]
    }
   ],
   "source": [
    "str1 = \"   hello      \"\n",
    "str2 = \"World\"\n",
    "\n",
    "str3 = str1 + str2\n",
    "\n",
    "print(str3)"
   ]
  },
  {
   "cell_type": "code",
   "execution_count": 36,
   "id": "84c61aeb",
   "metadata": {},
   "outputs": [
    {
     "name": "stdout",
     "output_type": "stream",
     "text": [
      "helloWorld\n"
     ]
    }
   ],
   "source": [
    "str1 = \"   hello      \"\n",
    "str2 = \"World\"\n",
    "\n",
    "str3 = str1.strip() + str2\n",
    "\n",
    "print(str3)"
   ]
  },
  {
   "cell_type": "markdown",
   "id": "a18e2764",
   "metadata": {},
   "source": [
    "#### Modules "
   ]
  },
  {
   "cell_type": "code",
   "execution_count": 26,
   "id": "5642323f",
   "metadata": {},
   "outputs": [
    {
     "data": {
      "text/plain": [
       "6"
      ]
     },
     "execution_count": 26,
     "metadata": {},
     "output_type": "execute_result"
    }
   ],
   "source": [
    "import math     # here math is 'module' means already defined\n",
    "\n",
    "# these are 'Built-in module'\n",
    "math.factorial(3)"
   ]
  },
  {
   "cell_type": "code",
   "execution_count": 27,
   "id": "9a59aafb",
   "metadata": {},
   "outputs": [
    {
     "name": "stdout",
     "output_type": "stream",
     "text": [
      "Help on built-in module math:\n",
      "\n",
      "NAME\n",
      "    math\n",
      "\n",
      "DESCRIPTION\n",
      "    This module provides access to the mathematical functions\n",
      "    defined by the C standard.\n",
      "\n",
      "FUNCTIONS\n",
      "    acos(x, /)\n",
      "        Return the arc cosine (measured in radians) of x.\n",
      "        \n",
      "        The result is between 0 and pi.\n",
      "    \n",
      "    acosh(x, /)\n",
      "        Return the inverse hyperbolic cosine of x.\n",
      "    \n",
      "    asin(x, /)\n",
      "        Return the arc sine (measured in radians) of x.\n",
      "        \n",
      "        The result is between -pi/2 and pi/2.\n",
      "    \n",
      "    asinh(x, /)\n",
      "        Return the inverse hyperbolic sine of x.\n",
      "    \n",
      "    atan(x, /)\n",
      "        Return the arc tangent (measured in radians) of x.\n",
      "        \n",
      "        The result is between -pi/2 and pi/2.\n",
      "    \n",
      "    atan2(y, x, /)\n",
      "        Return the arc tangent (measured in radians) of y/x.\n",
      "        \n",
      "        Unlike atan(y/x), the signs of both x and y are considered.\n",
      "    \n",
      "    atanh(x, /)\n",
      "        Return the inverse hyperbolic tangent of x.\n",
      "    \n",
      "    ceil(x, /)\n",
      "        Return the ceiling of x as an Integral.\n",
      "        \n",
      "        This is the smallest integer >= x.\n",
      "    \n",
      "    comb(n, k, /)\n",
      "        Number of ways to choose k items from n items without repetition and without order.\n",
      "        \n",
      "        Evaluates to n! / (k! * (n - k)!) when k <= n and evaluates\n",
      "        to zero when k > n.\n",
      "        \n",
      "        Also called the binomial coefficient because it is equivalent\n",
      "        to the coefficient of k-th term in polynomial expansion of the\n",
      "        expression (1 + x)**n.\n",
      "        \n",
      "        Raises TypeError if either of the arguments are not integers.\n",
      "        Raises ValueError if either of the arguments are negative.\n",
      "    \n",
      "    copysign(x, y, /)\n",
      "        Return a float with the magnitude (absolute value) of x but the sign of y.\n",
      "        \n",
      "        On platforms that support signed zeros, copysign(1.0, -0.0)\n",
      "        returns -1.0.\n",
      "    \n",
      "    cos(x, /)\n",
      "        Return the cosine of x (measured in radians).\n",
      "    \n",
      "    cosh(x, /)\n",
      "        Return the hyperbolic cosine of x.\n",
      "    \n",
      "    degrees(x, /)\n",
      "        Convert angle x from radians to degrees.\n",
      "    \n",
      "    dist(p, q, /)\n",
      "        Return the Euclidean distance between two points p and q.\n",
      "        \n",
      "        The points should be specified as sequences (or iterables) of\n",
      "        coordinates.  Both inputs must have the same dimension.\n",
      "        \n",
      "        Roughly equivalent to:\n",
      "            sqrt(sum((px - qx) ** 2.0 for px, qx in zip(p, q)))\n",
      "    \n",
      "    erf(x, /)\n",
      "        Error function at x.\n",
      "    \n",
      "    erfc(x, /)\n",
      "        Complementary error function at x.\n",
      "    \n",
      "    exp(x, /)\n",
      "        Return e raised to the power of x.\n",
      "    \n",
      "    expm1(x, /)\n",
      "        Return exp(x)-1.\n",
      "        \n",
      "        This function avoids the loss of precision involved in the direct evaluation of exp(x)-1 for small x.\n",
      "    \n",
      "    fabs(x, /)\n",
      "        Return the absolute value of the float x.\n",
      "    \n",
      "    factorial(x, /)\n",
      "        Find x!.\n",
      "        \n",
      "        Raise a ValueError if x is negative or non-integral.\n",
      "    \n",
      "    floor(x, /)\n",
      "        Return the floor of x as an Integral.\n",
      "        \n",
      "        This is the largest integer <= x.\n",
      "    \n",
      "    fmod(x, y, /)\n",
      "        Return fmod(x, y), according to platform C.\n",
      "        \n",
      "        x % y may differ.\n",
      "    \n",
      "    frexp(x, /)\n",
      "        Return the mantissa and exponent of x, as pair (m, e).\n",
      "        \n",
      "        m is a float and e is an int, such that x = m * 2.**e.\n",
      "        If x is 0, m and e are both 0.  Else 0.5 <= abs(m) < 1.0.\n",
      "    \n",
      "    fsum(seq, /)\n",
      "        Return an accurate floating point sum of values in the iterable seq.\n",
      "        \n",
      "        Assumes IEEE-754 floating point arithmetic.\n",
      "    \n",
      "    gamma(x, /)\n",
      "        Gamma function at x.\n",
      "    \n",
      "    gcd(*integers)\n",
      "        Greatest Common Divisor.\n",
      "    \n",
      "    hypot(...)\n",
      "        hypot(*coordinates) -> value\n",
      "        \n",
      "        Multidimensional Euclidean distance from the origin to a point.\n",
      "        \n",
      "        Roughly equivalent to:\n",
      "            sqrt(sum(x**2 for x in coordinates))\n",
      "        \n",
      "        For a two dimensional point (x, y), gives the hypotenuse\n",
      "        using the Pythagorean theorem:  sqrt(x*x + y*y).\n",
      "        \n",
      "        For example, the hypotenuse of a 3/4/5 right triangle is:\n",
      "        \n",
      "            >>> hypot(3.0, 4.0)\n",
      "            5.0\n",
      "    \n",
      "    isclose(a, b, *, rel_tol=1e-09, abs_tol=0.0)\n",
      "        Determine whether two floating point numbers are close in value.\n",
      "        \n",
      "          rel_tol\n",
      "            maximum difference for being considered \"close\", relative to the\n",
      "            magnitude of the input values\n",
      "          abs_tol\n",
      "            maximum difference for being considered \"close\", regardless of the\n",
      "            magnitude of the input values\n",
      "        \n",
      "        Return True if a is close in value to b, and False otherwise.\n",
      "        \n",
      "        For the values to be considered close, the difference between them\n",
      "        must be smaller than at least one of the tolerances.\n",
      "        \n",
      "        -inf, inf and NaN behave similarly to the IEEE 754 Standard.  That\n",
      "        is, NaN is not close to anything, even itself.  inf and -inf are\n",
      "        only close to themselves.\n",
      "    \n",
      "    isfinite(x, /)\n",
      "        Return True if x is neither an infinity nor a NaN, and False otherwise.\n",
      "    \n",
      "    isinf(x, /)\n",
      "        Return True if x is a positive or negative infinity, and False otherwise.\n",
      "    \n",
      "    isnan(x, /)\n",
      "        Return True if x is a NaN (not a number), and False otherwise.\n",
      "    \n",
      "    isqrt(n, /)\n",
      "        Return the integer part of the square root of the input.\n",
      "    \n",
      "    lcm(*integers)\n",
      "        Least Common Multiple.\n",
      "    \n",
      "    ldexp(x, i, /)\n",
      "        Return x * (2**i).\n",
      "        \n",
      "        This is essentially the inverse of frexp().\n",
      "    \n",
      "    lgamma(x, /)\n",
      "        Natural logarithm of absolute value of Gamma function at x.\n",
      "    \n",
      "    log(...)\n",
      "        log(x, [base=math.e])\n",
      "        Return the logarithm of x to the given base.\n",
      "        \n",
      "        If the base not specified, returns the natural logarithm (base e) of x.\n",
      "    \n",
      "    log10(x, /)\n",
      "        Return the base 10 logarithm of x.\n",
      "    \n",
      "    log1p(x, /)\n",
      "        Return the natural logarithm of 1+x (base e).\n",
      "        \n",
      "        The result is computed in a way which is accurate for x near zero.\n",
      "    \n",
      "    log2(x, /)\n",
      "        Return the base 2 logarithm of x.\n",
      "    \n",
      "    modf(x, /)\n",
      "        Return the fractional and integer parts of x.\n",
      "        \n",
      "        Both results carry the sign of x and are floats.\n",
      "    \n",
      "    nextafter(x, y, /)\n",
      "        Return the next floating-point value after x towards y.\n",
      "    \n",
      "    perm(n, k=None, /)\n",
      "        Number of ways to choose k items from n items without repetition and with order.\n",
      "        \n",
      "        Evaluates to n! / (n - k)! when k <= n and evaluates\n",
      "        to zero when k > n.\n",
      "        \n",
      "        If k is not specified or is None, then k defaults to n\n",
      "        and the function returns n!.\n",
      "        \n",
      "        Raises TypeError if either of the arguments are not integers.\n",
      "        Raises ValueError if either of the arguments are negative.\n",
      "    \n",
      "    pow(x, y, /)\n",
      "        Return x**y (x to the power of y).\n",
      "    \n",
      "    prod(iterable, /, *, start=1)\n",
      "        Calculate the product of all the elements in the input iterable.\n",
      "        \n",
      "        The default start value for the product is 1.\n",
      "        \n",
      "        When the iterable is empty, return the start value.  This function is\n",
      "        intended specifically for use with numeric values and may reject\n",
      "        non-numeric types.\n",
      "    \n",
      "    radians(x, /)\n",
      "        Convert angle x from degrees to radians.\n",
      "    \n",
      "    remainder(x, y, /)\n",
      "        Difference between x and the closest integer multiple of y.\n",
      "        \n",
      "        Return x - n*y where n*y is the closest integer multiple of y.\n",
      "        In the case where x is exactly halfway between two multiples of\n",
      "        y, the nearest even value of n is used. The result is always exact.\n",
      "    \n",
      "    sin(x, /)\n",
      "        Return the sine of x (measured in radians).\n",
      "    \n",
      "    sinh(x, /)\n",
      "        Return the hyperbolic sine of x.\n",
      "    \n",
      "    sqrt(x, /)\n",
      "        Return the square root of x.\n",
      "    \n",
      "    tan(x, /)\n",
      "        Return the tangent of x (measured in radians).\n",
      "    \n",
      "    tanh(x, /)\n",
      "        Return the hyperbolic tangent of x.\n",
      "    \n",
      "    trunc(x, /)\n",
      "        Truncates the Real x to the nearest Integral toward 0.\n",
      "        \n",
      "        Uses the __trunc__ magic method.\n",
      "    \n",
      "    ulp(x, /)\n",
      "        Return the value of the least significant bit of the float x.\n",
      "\n",
      "DATA\n",
      "    e = 2.718281828459045\n",
      "    inf = inf\n",
      "    nan = nan\n",
      "    pi = 3.141592653589793\n",
      "    tau = 6.283185307179586\n",
      "\n",
      "FILE\n",
      "    (built-in)\n",
      "\n",
      "\n"
     ]
    }
   ],
   "source": [
    "# to find functions inside math module\n",
    "\n",
    "help(\"math\")"
   ]
  },
  {
   "cell_type": "code",
   "execution_count": 28,
   "id": "66c85369",
   "metadata": {},
   "outputs": [
    {
     "data": {
      "text/plain": [
       "[\"E:\\\\Python_world\\\\Amulya's Academic\",\n",
       " 'C:\\\\Users\\\\ankit.shukla\\\\AppData\\\\Local\\\\Programs\\\\Python\\\\Python39\\\\python39.zip',\n",
       " 'C:\\\\Users\\\\ankit.shukla\\\\AppData\\\\Local\\\\Programs\\\\Python\\\\Python39\\\\DLLs',\n",
       " 'C:\\\\Users\\\\ankit.shukla\\\\AppData\\\\Local\\\\Programs\\\\Python\\\\Python39\\\\lib',\n",
       " 'C:\\\\Users\\\\ankit.shukla\\\\AppData\\\\Local\\\\Programs\\\\Python\\\\Python39',\n",
       " '',\n",
       " 'C:\\\\Users\\\\ankit.shukla\\\\AppData\\\\Local\\\\Programs\\\\Python\\\\Python39\\\\lib\\\\site-packages',\n",
       " 'C:\\\\Users\\\\ankit.shukla\\\\AppData\\\\Local\\\\Programs\\\\Python\\\\Python39\\\\lib\\\\site-packages\\\\win32',\n",
       " 'C:\\\\Users\\\\ankit.shukla\\\\AppData\\\\Local\\\\Programs\\\\Python\\\\Python39\\\\lib\\\\site-packages\\\\win32\\\\lib',\n",
       " 'C:\\\\Users\\\\ankit.shukla\\\\AppData\\\\Local\\\\Programs\\\\Python\\\\Python39\\\\lib\\\\site-packages\\\\Pythonwin']"
      ]
     },
     "execution_count": 28,
     "metadata": {},
     "output_type": "execute_result"
    }
   ],
   "source": [
    "import sys\n",
    "\n",
    "sys.path"
   ]
  },
  {
   "cell_type": "code",
   "execution_count": 29,
   "id": "9d2dc0d0",
   "metadata": {},
   "outputs": [],
   "source": [
    "# user can also define his module \n",
    "\n",
    "# we have to save this as a '.py' file \n",
    "\n",
    "# def module1():\n",
    "    \n",
    "#     name = input(\"Please enter your name: \")\n",
    "#     print(\"Hello, \", name)\n",
    "#     return"
   ]
  },
  {
   "cell_type": "code",
   "execution_count": 3,
   "id": "1ce2d436",
   "metadata": {},
   "outputs": [
    {
     "name": "stdout",
     "output_type": "stream",
     "text": [
      "Please enter your name: Ankit\n",
      "Hello,  Ankit\n"
     ]
    }
   ],
   "source": [
    "# now we can import above module \n",
    "\n",
    "import mymodule1\n",
    "\n",
    "mymodule1.module1()"
   ]
  },
  {
   "cell_type": "markdown",
   "id": "f29b4e23",
   "metadata": {},
   "source": [
    "#### Dictionary"
   ]
  },
  {
   "cell_type": "code",
   "execution_count": 31,
   "id": "fb600f66",
   "metadata": {},
   "outputs": [],
   "source": [
    "#### Data -- DATABASE MANAGEMENT SYSTEM\n",
    "\n",
    "##"
   ]
  },
  {
   "cell_type": "code",
   "execution_count": 4,
   "id": "55bde031",
   "metadata": {},
   "outputs": [],
   "source": [
    "temp = {}"
   ]
  },
  {
   "cell_type": "code",
   "execution_count": 5,
   "id": "c51f56c4",
   "metadata": {},
   "outputs": [
    {
     "data": {
      "text/plain": [
       "{'sun': 12.2, 'mon': 23, 'tue': 30}"
      ]
     },
     "execution_count": 5,
     "metadata": {},
     "output_type": "execute_result"
    }
   ],
   "source": [
    "temp[\"sun\"] = 12.2\n",
    "temp[\"mon\"] = 23\n",
    "temp[\"tue\"] = 30\n",
    "\n",
    "temp"
   ]
  },
  {
   "cell_type": "code",
   "execution_count": 6,
   "id": "172dfaab",
   "metadata": {},
   "outputs": [
    {
     "data": {
      "text/plain": [
       "{'ankit': 'akshukla283@gmail.com', 'shukla': 'ankit.emt@gmail.com'}"
      ]
     },
     "execution_count": 6,
     "metadata": {},
     "output_type": "execute_result"
    }
   ],
   "source": [
    "mail_address = {\"ankit\":\"akshukla283@gmail.com\",\n",
    "               \"shukla\":\"ankit.emt@gmail.com\"}\n",
    "\n",
    "mail_address"
   ]
  },
  {
   "cell_type": "code",
   "execution_count": 7,
   "id": "c1bbf590",
   "metadata": {},
   "outputs": [
    {
     "data": {
      "text/plain": [
       "dict_keys(['ankit', 'shukla'])"
      ]
     },
     "execution_count": 7,
     "metadata": {},
     "output_type": "execute_result"
    }
   ],
   "source": [
    "mail_address.keys()"
   ]
  },
  {
   "cell_type": "code",
   "execution_count": 8,
   "id": "45fd60a2",
   "metadata": {},
   "outputs": [
    {
     "data": {
      "text/plain": [
       "dict_values(['akshukla283@gmail.com', 'ankit.emt@gmail.com'])"
      ]
     },
     "execution_count": 8,
     "metadata": {},
     "output_type": "execute_result"
    }
   ],
   "source": [
    "mail_address.values()"
   ]
  },
  {
   "cell_type": "code",
   "execution_count": 9,
   "id": "2315f999",
   "metadata": {},
   "outputs": [
    {
     "data": {
      "text/plain": [
       "dict_items([('ankit', 'akshukla283@gmail.com'), ('shukla', 'ankit.emt@gmail.com')])"
      ]
     },
     "execution_count": 9,
     "metadata": {},
     "output_type": "execute_result"
    }
   ],
   "source": [
    "mail_address.items()"
   ]
  },
  {
   "cell_type": "code",
   "execution_count": 10,
   "id": "68659e79",
   "metadata": {},
   "outputs": [
    {
     "data": {
      "text/plain": [
       "'akshukla283@gmail.com'"
      ]
     },
     "execution_count": 10,
     "metadata": {},
     "output_type": "execute_result"
    }
   ],
   "source": [
    "mail_address[\"ankit\"]"
   ]
  },
  {
   "cell_type": "code",
   "execution_count": 11,
   "id": "9a8b28b5",
   "metadata": {},
   "outputs": [
    {
     "data": {
      "text/plain": [
       "'ankit.emt@gmail.com'"
      ]
     },
     "execution_count": 11,
     "metadata": {},
     "output_type": "execute_result"
    }
   ],
   "source": [
    "mail_address[\"shukla\"]"
   ]
  },
  {
   "cell_type": "code",
   "execution_count": 12,
   "id": "92338666",
   "metadata": {},
   "outputs": [],
   "source": [
    "#### Dictionary Operations\n"
   ]
  },
  {
   "cell_type": "code",
   "execution_count": 13,
   "id": "f54d372f",
   "metadata": {},
   "outputs": [
    {
     "data": {
      "text/plain": [
       "{}"
      ]
     },
     "execution_count": 13,
     "metadata": {},
     "output_type": "execute_result"
    }
   ],
   "source": [
    "dict()"
   ]
  },
  {
   "cell_type": "code",
   "execution_count": 14,
   "id": "fd0f4182",
   "metadata": {},
   "outputs": [
    {
     "data": {
      "text/plain": [
       "{1: 'one', 2: 'two', 3: 'three'}"
      ]
     },
     "execution_count": 14,
     "metadata": {},
     "output_type": "execute_result"
    }
   ],
   "source": [
    "num = {1:\"one\", 2:\"two\", 3:\"three\"}\n",
    "\n",
    "# copying dictionay\n",
    "numbers = dict(num)\n",
    "numbers"
   ]
  },
  {
   "cell_type": "code",
   "execution_count": 15,
   "id": "8aeb3b94",
   "metadata": {},
   "outputs": [
    {
     "data": {
      "text/plain": [
       "3"
      ]
     },
     "execution_count": 15,
     "metadata": {},
     "output_type": "execute_result"
    }
   ],
   "source": [
    "# len of dictionary\n",
    "len(num)"
   ]
  },
  {
   "cell_type": "code",
   "execution_count": 16,
   "id": "69cbb735",
   "metadata": {},
   "outputs": [],
   "source": [
    "# delete\n",
    "\n",
    "del num[2]"
   ]
  },
  {
   "cell_type": "code",
   "execution_count": 17,
   "id": "259e3042",
   "metadata": {},
   "outputs": [
    {
     "data": {
      "text/plain": [
       "{1: 'one', 3: 'three'}"
      ]
     },
     "execution_count": 17,
     "metadata": {},
     "output_type": "execute_result"
    }
   ],
   "source": [
    "num"
   ]
  },
  {
   "cell_type": "code",
   "execution_count": 18,
   "id": "c2001559",
   "metadata": {},
   "outputs": [
    {
     "data": {
      "text/plain": [
       "True"
      ]
     },
     "execution_count": 18,
     "metadata": {},
     "output_type": "execute_result"
    }
   ],
   "source": [
    "# in operation\n",
    "\n",
    "1 in num"
   ]
  },
  {
   "cell_type": "code",
   "execution_count": 19,
   "id": "82e11454",
   "metadata": {},
   "outputs": [
    {
     "data": {
      "text/plain": [
       "False"
      ]
     },
     "execution_count": 19,
     "metadata": {},
     "output_type": "execute_result"
    }
   ],
   "source": [
    "2 in num"
   ]
  },
  {
   "cell_type": "markdown",
   "id": "7ad46126",
   "metadata": {},
   "source": [
    "#### creating dictionary"
   ]
  },
  {
   "cell_type": "code",
   "execution_count": 20,
   "id": "3eaf66f3",
   "metadata": {},
   "outputs": [
    {
     "data": {
      "text/plain": [
       "{1: 'apple', 2: 'ball', 3: 'cat'}"
      ]
     },
     "execution_count": 20,
     "metadata": {},
     "output_type": "execute_result"
    }
   ],
   "source": [
    "my_dict = {1:\"apple\", 2:\"ball\", 3:\"cat\"}\n",
    "my_dict"
   ]
  },
  {
   "cell_type": "code",
   "execution_count": 21,
   "id": "374eedaa",
   "metadata": {},
   "outputs": [
    {
     "data": {
      "text/plain": [
       "{1: 'apple', 2: 'ball', 3: 'cat'}"
      ]
     },
     "execution_count": 21,
     "metadata": {},
     "output_type": "execute_result"
    }
   ],
   "source": [
    "mydict = {}\n",
    "\n",
    "my_dict[1] = \"apple\"\n",
    "my_dict[2] = \"ball\"\n",
    "my_dict[3] = \"cat\"\n",
    "\n",
    "my_dict"
   ]
  },
  {
   "cell_type": "code",
   "execution_count": 22,
   "id": "24f539b8",
   "metadata": {},
   "outputs": [
    {
     "data": {
      "text/plain": [
       "{1: 'appl1', 2: 'ball', 3: 'cat'}"
      ]
     },
     "execution_count": 22,
     "metadata": {},
     "output_type": "execute_result"
    }
   ],
   "source": [
    "# using constructer way \n",
    "\n",
    "d = dict([(1, \"appl1\"), (2, \"ball\"), (3,\"cat\")])\n",
    "d"
   ]
  },
  {
   "cell_type": "code",
   "execution_count": 23,
   "id": "0f5693c7",
   "metadata": {},
   "outputs": [
    {
     "data": {
      "text/plain": [
       "{1: 'apple', 2: 'ball', 3: 'cat', 4: 'dog'}"
      ]
     },
     "execution_count": 23,
     "metadata": {},
     "output_type": "execute_result"
    }
   ],
   "source": [
    "### from to parallel list (same length list)\n",
    "\n",
    "a = [1,2,3,4]\n",
    "\n",
    "b = [\"apple\", \"ball\", \"cat\", \"dog\"]\n",
    "\n",
    "my_dict = {}\n",
    "for i in range(len(a)):\n",
    "    my_dict[a[i]] = b[i]\n",
    "    \n",
    "my_dict"
   ]
  },
  {
   "cell_type": "code",
   "execution_count": 24,
   "id": "043199a5",
   "metadata": {},
   "outputs": [
    {
     "data": {
      "text/plain": [
       "{1: 'apple', 2: 'ball'}"
      ]
     },
     "execution_count": 24,
     "metadata": {},
     "output_type": "execute_result"
    }
   ],
   "source": [
    "### from to parallel list (same now we trying different value means les value in list 'a')\n",
    "\n",
    "a = [1,2]\n",
    "\n",
    "b = [\"apple\", \"ball\", \"cat\", \"dog\"]\n",
    "\n",
    "my_dict = {}\n",
    "for i in range(len(a)):\n",
    "    my_dict[a[i]] = b[i]\n",
    "    \n",
    "my_dict"
   ]
  },
  {
   "cell_type": "markdown",
   "id": "f919218c",
   "metadata": {},
   "source": [
    "#### Note:-\n",
    "As we can see that list `a` had only `2` element while list` b` had `4` element so we got dict by using iteration through the `length` of list `a` means only `2` iteration hence we got only `2` corresponding value of list `b` and got dict. "
   ]
  },
  {
   "cell_type": "code",
   "execution_count": 25,
   "id": "c18fe5b1",
   "metadata": {},
   "outputs": [
    {
     "ename": "IndexError",
     "evalue": "list index out of range",
     "output_type": "error",
     "traceback": [
      "\u001b[1;31m---------------------------------------------------------------------------\u001b[0m",
      "\u001b[1;31mIndexError\u001b[0m                                Traceback (most recent call last)",
      "Input \u001b[1;32mIn [25]\u001b[0m, in \u001b[0;36m<cell line: 8>\u001b[1;34m()\u001b[0m\n\u001b[0;32m      7\u001b[0m my_dict \u001b[38;5;241m=\u001b[39m {}\n\u001b[0;32m      8\u001b[0m \u001b[38;5;28;01mfor\u001b[39;00m i \u001b[38;5;129;01min\u001b[39;00m \u001b[38;5;28mrange\u001b[39m(\u001b[38;5;28mlen\u001b[39m(a)):\n\u001b[1;32m----> 9\u001b[0m     my_dict[a[i]] \u001b[38;5;241m=\u001b[39m \u001b[43mb\u001b[49m\u001b[43m[\u001b[49m\u001b[43mi\u001b[49m\u001b[43m]\u001b[49m\n\u001b[0;32m     11\u001b[0m my_dict\n",
      "\u001b[1;31mIndexError\u001b[0m: list index out of range"
     ]
    }
   ],
   "source": [
    "### from to parallel list (different length means greater element in list 'a')\n",
    "\n",
    "a = [1,2,3,4]\n",
    "\n",
    "b = [\"apple\", \"ball\"]\n",
    "\n",
    "my_dict = {}\n",
    "for i in range(len(a)):\n",
    "    my_dict[a[i]] = b[i]\n",
    "    \n",
    "my_dict"
   ]
  },
  {
   "cell_type": "markdown",
   "id": "9449d8bd",
   "metadata": {},
   "source": [
    "#### Note:- \n",
    "\n",
    "As we can see that we got error when we tried to greater element in list `'a'` than list `'b'` because when loop iterate through  length of list `'a'` and after` 2` iteration the elements from list `'b'` had been over so it get `out of index` so we got an `error`."
   ]
  },
  {
   "cell_type": "markdown",
   "id": "b040ad88",
   "metadata": {},
   "source": [
    "#### insert and access from dictionary"
   ]
  },
  {
   "cell_type": "code",
   "execution_count": 26,
   "id": "c8540fef",
   "metadata": {},
   "outputs": [
    {
     "data": {
      "text/plain": [
       "{1: 'apple', 2: 'ball', 3: 'cat', 4: 'dog'}"
      ]
     },
     "execution_count": 26,
     "metadata": {},
     "output_type": "execute_result"
    }
   ],
   "source": [
    "\n",
    "a = [1,2,3,4]\n",
    "\n",
    "b = [\"apple\", \"ball\", \"cat\", \"dog\"]\n",
    "\n",
    "my_dict = {}\n",
    "for i in range(len(a)):\n",
    "    my_dict[a[i]] = b[i]\n",
    "    \n",
    "my_dict"
   ]
  },
  {
   "cell_type": "code",
   "execution_count": 57,
   "id": "5422073e",
   "metadata": {},
   "outputs": [
    {
     "data": {
      "text/plain": [
       "{1: 'apple', 2: 'ball', 3: 'cat', 4: 'dog'}"
      ]
     },
     "execution_count": 57,
     "metadata": {},
     "output_type": "execute_result"
    }
   ],
   "source": [
    "my_dict"
   ]
  },
  {
   "cell_type": "code",
   "execution_count": 27,
   "id": "5931abe2",
   "metadata": {},
   "outputs": [
    {
     "data": {
      "text/plain": [
       "dict_keys([1, 2, 3, 4])"
      ]
     },
     "execution_count": 27,
     "metadata": {},
     "output_type": "execute_result"
    }
   ],
   "source": [
    "my_dict.keys() # return value in dictionary object but in python 2 it will return list"
   ]
  },
  {
   "cell_type": "code",
   "execution_count": 29,
   "id": "52c88387",
   "metadata": {},
   "outputs": [
    {
     "data": {
      "text/plain": [
       "'cat'"
      ]
     },
     "execution_count": 29,
     "metadata": {},
     "output_type": "execute_result"
    }
   ],
   "source": [
    "# access by key \n",
    "\n",
    "my_dict[3]"
   ]
  },
  {
   "cell_type": "code",
   "execution_count": 30,
   "id": "b319252b",
   "metadata": {},
   "outputs": [
    {
     "ename": "KeyError",
     "evalue": "'cat'",
     "output_type": "error",
     "traceback": [
      "\u001b[1;31m---------------------------------------------------------------------------\u001b[0m",
      "\u001b[1;31mKeyError\u001b[0m                                  Traceback (most recent call last)",
      "Input \u001b[1;32mIn [30]\u001b[0m, in \u001b[0;36m<cell line: 3>\u001b[1;34m()\u001b[0m\n\u001b[0;32m      1\u001b[0m \u001b[38;5;66;03m# we can't access key by value\u001b[39;00m\n\u001b[1;32m----> 3\u001b[0m \u001b[43mmy_dict\u001b[49m\u001b[43m[\u001b[49m\u001b[38;5;124;43m\"\u001b[39;49m\u001b[38;5;124;43mcat\u001b[39;49m\u001b[38;5;124;43m\"\u001b[39;49m\u001b[43m]\u001b[49m\n",
      "\u001b[1;31mKeyError\u001b[0m: 'cat'"
     ]
    }
   ],
   "source": [
    "# we can't access key by value\n",
    "\n",
    "my_dict[\"cat\"]"
   ]
  },
  {
   "cell_type": "code",
   "execution_count": 31,
   "id": "93b8e642",
   "metadata": {},
   "outputs": [
    {
     "data": {
      "text/plain": [
       "'dog'"
      ]
     },
     "execution_count": 31,
     "metadata": {},
     "output_type": "execute_result"
    }
   ],
   "source": [
    "my_dict[4]"
   ]
  },
  {
   "cell_type": "code",
   "execution_count": 32,
   "id": "aaf4d5a1",
   "metadata": {},
   "outputs": [
    {
     "ename": "KeyError",
     "evalue": "5",
     "output_type": "error",
     "traceback": [
      "\u001b[1;31m---------------------------------------------------------------------------\u001b[0m",
      "\u001b[1;31mKeyError\u001b[0m                                  Traceback (most recent call last)",
      "Input \u001b[1;32mIn [32]\u001b[0m, in \u001b[0;36m<cell line: 1>\u001b[1;34m()\u001b[0m\n\u001b[1;32m----> 1\u001b[0m \u001b[43mmy_dict\u001b[49m\u001b[43m[\u001b[49m\u001b[38;5;241;43m5\u001b[39;49m\u001b[43m]\u001b[49m\n",
      "\u001b[1;31mKeyError\u001b[0m: 5"
     ]
    }
   ],
   "source": [
    "my_dict[5] # WHEN  key is not present it gives error but by get method it can be handled"
   ]
  },
  {
   "cell_type": "markdown",
   "id": "fac65fb6",
   "metadata": {},
   "source": [
    "#### .get()\n",
    "This method will not through an error when there will be no key() present in the dictinary."
   ]
  },
  {
   "cell_type": "code",
   "execution_count": 40,
   "id": "2ff87b75",
   "metadata": {},
   "outputs": [
    {
     "data": {
      "text/plain": [
       "'monkey'"
      ]
     },
     "execution_count": 40,
     "metadata": {},
     "output_type": "execute_result"
    }
   ],
   "source": [
    "###\n",
    "my_dict.get(5)"
   ]
  },
  {
   "cell_type": "code",
   "execution_count": 41,
   "id": "23d722f6",
   "metadata": {},
   "outputs": [
    {
     "data": {
      "text/plain": [
       "'cat'"
      ]
     },
     "execution_count": 41,
     "metadata": {},
     "output_type": "execute_result"
    }
   ],
   "source": [
    "my_dict.get(3)"
   ]
  },
  {
   "cell_type": "code",
   "execution_count": 42,
   "id": "bb97959e",
   "metadata": {},
   "outputs": [
    {
     "data": {
      "text/plain": [
       "{1: 'apple', 2: 'bat', 3: 'cat', 4: 'dog', 5: 'monkey'}"
      ]
     },
     "execution_count": 42,
     "metadata": {},
     "output_type": "execute_result"
    }
   ],
   "source": [
    "# isert into dictionary \n",
    "\n",
    "my_dict[5] = \"monkey\"\n",
    "my_dict"
   ]
  },
  {
   "cell_type": "code",
   "execution_count": 43,
   "id": "25465f39",
   "metadata": {},
   "outputs": [
    {
     "data": {
      "text/plain": [
       "{1: 'apple', 2: 'bat', 3: 'cat', 4: 'dog', 5: 'monkey'}"
      ]
     },
     "execution_count": 43,
     "metadata": {},
     "output_type": "execute_result"
    }
   ],
   "source": [
    "# update the value \n",
    "\n",
    "my_dict[2] = \"bat\"\n",
    "my_dict"
   ]
  },
  {
   "cell_type": "code",
   "execution_count": 44,
   "id": "1c3f79d5",
   "metadata": {},
   "outputs": [
    {
     "data": {
      "text/plain": [
       "5"
      ]
     },
     "execution_count": 44,
     "metadata": {},
     "output_type": "execute_result"
    }
   ],
   "source": [
    "len(my_dict)"
   ]
  },
  {
   "cell_type": "markdown",
   "id": "4cb171b1",
   "metadata": {},
   "source": [
    "#### Dictionary Method \n",
    "\n",
    "1.  fromkeys()"
   ]
  },
  {
   "cell_type": "code",
   "execution_count": 45,
   "id": "c361ea69",
   "metadata": {},
   "outputs": [
    {
     "data": {
      "text/plain": [
       "{1: None, 2: None, 3: None, 4: None}"
      ]
     },
     "execution_count": 45,
     "metadata": {},
     "output_type": "execute_result"
    }
   ],
   "source": [
    "list1= [1,2,3,4]\n",
    "\n",
    "dict.fromkeys(list1)"
   ]
  },
  {
   "cell_type": "code",
   "execution_count": 46,
   "id": "51d36415",
   "metadata": {},
   "outputs": [
    {
     "data": {
      "text/plain": [
       "{1: 10, 2: 10, 3: 10, 4: 10, 5: 10, 6: 10}"
      ]
     },
     "execution_count": 46,
     "metadata": {},
     "output_type": "execute_result"
    }
   ],
   "source": [
    "{}.fromkeys(range(1,7), 10)"
   ]
  },
  {
   "cell_type": "code",
   "execution_count": 47,
   "id": "1a92debe",
   "metadata": {},
   "outputs": [
    {
     "data": {
      "text/plain": [
       "{1: None, 2: None, 3: None, 4: None}"
      ]
     },
     "execution_count": 47,
     "metadata": {},
     "output_type": "execute_result"
    }
   ],
   "source": [
    "# when any duplicate value will be in list then by using 'fromkeys()' duplicte value will be deteled\n",
    "# because dictionary doesn't contain duplicate value.\n",
    "\n",
    "list1 = [1,2,3,3,3,4]\n",
    "\n",
    "dict.fromkeys(list1)"
   ]
  },
  {
   "cell_type": "markdown",
   "id": "bd2ed5d1",
   "metadata": {},
   "source": [
    "As we can see that there was duplicate of 3 were present but when we used 'fromkeys()' it has been deleted by dictionary properties."
   ]
  },
  {
   "cell_type": "code",
   "execution_count": 104,
   "id": "dddc7d8d",
   "metadata": {},
   "outputs": [
    {
     "data": {
      "text/plain": [
       "[1, 2, 3, 4, 5]"
      ]
     },
     "execution_count": 104,
     "metadata": {},
     "output_type": "execute_result"
    }
   ],
   "source": [
    "# by this we can remove a duplicate from a list\n",
    "\n",
    "def remove_dup(x):\n",
    "    \n",
    "    return list(dict.fromkeys(x))\n",
    "\n",
    "my_list = [1,2,2,2,3,3,2,4,5,3,5]\n",
    "remove_dup(my_list)"
   ]
  },
  {
   "cell_type": "code",
   "execution_count": 108,
   "id": "26fe011f",
   "metadata": {},
   "outputs": [
    {
     "name": "stdout",
     "output_type": "stream",
     "text": [
      "please enter the list: hello world\n"
     ]
    },
    {
     "data": {
      "text/plain": [
       "'helo wrd'"
      ]
     },
     "execution_count": 108,
     "metadata": {},
     "output_type": "execute_result"
    }
   ],
   "source": [
    "# we can make a funtion to remove duplicate from a string by this \n",
    "\n",
    "def remove_dup(str1):\n",
    "    lst = []\n",
    "    for x in str1:\n",
    "        lst.append(x)\n",
    "    updated_lst = list(dict.fromkeys(lst))\n",
    "    return \"\".join(updated_lst)\n",
    "\n",
    "\n",
    "str1 = input(\"please enter the list: \")\n",
    "\n",
    "remove_dup(str1)"
   ]
  },
  {
   "cell_type": "code",
   "execution_count": null,
   "id": "c036f79d",
   "metadata": {},
   "outputs": [],
   "source": []
  },
  {
   "cell_type": "markdown",
   "id": "cec55c56",
   "metadata": {},
   "source": [
    "2. setdefault()\n",
    "\n",
    "`syntax: \n",
    "setdefault(key, value)`  value is optional \n",
    "\n",
    "if key is present then it return the value of that key \n",
    "\n",
    "if key is not present it will add key to dectionay"
   ]
  },
  {
   "cell_type": "code",
   "execution_count": 70,
   "id": "aa84ded4",
   "metadata": {},
   "outputs": [
    {
     "data": {
      "text/plain": [
       "20"
      ]
     },
     "execution_count": 70,
     "metadata": {},
     "output_type": "execute_result"
    }
   ],
   "source": [
    "students = {\"John\":20, \"Devid\": 21, \"Mark\":23}\n",
    "students.setdefault(\"John\")\n"
   ]
  },
  {
   "cell_type": "markdown",
   "id": "0858c29c",
   "metadata": {},
   "source": [
    "As 'John' is present so it returns the value of that "
   ]
  },
  {
   "cell_type": "code",
   "execution_count": 71,
   "id": "7e488c98",
   "metadata": {},
   "outputs": [
    {
     "data": {
      "text/plain": [
       "{'John': 20, 'Devid': 21, 'Mark': 23}"
      ]
     },
     "execution_count": 71,
     "metadata": {},
     "output_type": "execute_result"
    }
   ],
   "source": [
    "students"
   ]
  },
  {
   "cell_type": "code",
   "execution_count": 72,
   "id": "842ec2b2",
   "metadata": {},
   "outputs": [],
   "source": [
    "students.setdefault(\"Maxi\")"
   ]
  },
  {
   "cell_type": "code",
   "execution_count": 73,
   "id": "b971f69d",
   "metadata": {},
   "outputs": [
    {
     "data": {
      "text/plain": [
       "{'John': 20, 'Devid': 21, 'Mark': 23, 'Maxi': None}"
      ]
     },
     "execution_count": 73,
     "metadata": {},
     "output_type": "execute_result"
    }
   ],
   "source": [
    "students"
   ]
  },
  {
   "cell_type": "markdown",
   "id": "2accab6a",
   "metadata": {},
   "source": [
    "As the key \"Maxi\" was not in the dict so it has been added by from 'setdefault' method"
   ]
  },
  {
   "cell_type": "code",
   "execution_count": 74,
   "id": "366169b5",
   "metadata": {},
   "outputs": [
    {
     "data": {
      "text/plain": [
       "22"
      ]
     },
     "execution_count": 74,
     "metadata": {},
     "output_type": "execute_result"
    }
   ],
   "source": [
    "students.setdefault(\"Rockey\", 22)\n"
   ]
  },
  {
   "cell_type": "code",
   "execution_count": 75,
   "id": "7ce3f97d",
   "metadata": {},
   "outputs": [
    {
     "data": {
      "text/plain": [
       "{'John': 20, 'Devid': 21, 'Mark': 23, 'Maxi': None, 'Rockey': 22}"
      ]
     },
     "execution_count": 75,
     "metadata": {},
     "output_type": "execute_result"
    }
   ],
   "source": [
    "students"
   ]
  },
  {
   "cell_type": "code",
   "execution_count": 76,
   "id": "dc2fa1f1",
   "metadata": {},
   "outputs": [],
   "source": [
    "#### Concatenation\n",
    "\n",
    "list1 = [1,2,3,4]\n",
    "list2 = ['a','b','c','d']\n",
    "\n",
    "\n",
    "dict1 = {1:\"apple\", 2:\"ball\", 3:\"cat\"}\n",
    "dict2 = {\"o\":\"orange\"}\n",
    "\n"
   ]
  },
  {
   "cell_type": "code",
   "execution_count": 77,
   "id": "98a95e03",
   "metadata": {},
   "outputs": [
    {
     "data": {
      "text/plain": [
       "[1, 2, 3, 4, 'a', 'b', 'c', 'd']"
      ]
     },
     "execution_count": 77,
     "metadata": {},
     "output_type": "execute_result"
    }
   ],
   "source": [
    "list1 + list2"
   ]
  },
  {
   "cell_type": "code",
   "execution_count": 78,
   "id": "baa8595b",
   "metadata": {},
   "outputs": [
    {
     "ename": "TypeError",
     "evalue": "unsupported operand type(s) for +: 'dict' and 'dict'",
     "output_type": "error",
     "traceback": [
      "\u001b[1;31m---------------------------------------------------------------------------\u001b[0m",
      "\u001b[1;31mTypeError\u001b[0m                                 Traceback (most recent call last)",
      "Input \u001b[1;32mIn [78]\u001b[0m, in \u001b[0;36m<cell line: 1>\u001b[1;34m()\u001b[0m\n\u001b[1;32m----> 1\u001b[0m \u001b[43mdict1\u001b[49m\u001b[43m \u001b[49m\u001b[38;5;241;43m+\u001b[39;49m\u001b[43m \u001b[49m\u001b[43mdict2\u001b[49m\n",
      "\u001b[1;31mTypeError\u001b[0m: unsupported operand type(s) for +: 'dict' and 'dict'"
     ]
    }
   ],
   "source": [
    "dict1 + dict2"
   ]
  },
  {
   "cell_type": "code",
   "execution_count": 79,
   "id": "368a67d3",
   "metadata": {},
   "outputs": [],
   "source": [
    "# we can't concate dictionary by using + operator"
   ]
  },
  {
   "cell_type": "code",
   "execution_count": 80,
   "id": "ad0769d3",
   "metadata": {},
   "outputs": [],
   "source": [
    "# using update\n",
    "\n",
    "dict1.update(dict2)"
   ]
  },
  {
   "cell_type": "code",
   "execution_count": 81,
   "id": "800a4090",
   "metadata": {},
   "outputs": [
    {
     "data": {
      "text/plain": [
       "{1: 'apple', 2: 'ball', 3: 'cat', 'o': 'orange'}"
      ]
     },
     "execution_count": 81,
     "metadata": {},
     "output_type": "execute_result"
    }
   ],
   "source": [
    "dict1"
   ]
  },
  {
   "cell_type": "code",
   "execution_count": 82,
   "id": "dbc45603",
   "metadata": {},
   "outputs": [
    {
     "data": {
      "text/plain": [
       "{'o': 'orange'}"
      ]
     },
     "execution_count": 82,
     "metadata": {},
     "output_type": "execute_result"
    }
   ],
   "source": [
    "dict2"
   ]
  },
  {
   "cell_type": "code",
   "execution_count": 95,
   "id": "d3fd9054",
   "metadata": {},
   "outputs": [
    {
     "data": {
      "text/plain": [
       "{1: 'a', 2: 'b', 3: 'c'}"
      ]
     },
     "execution_count": 95,
     "metadata": {},
     "output_type": "execute_result"
    }
   ],
   "source": [
    "### \n",
    "\n",
    "dict1 = {1:\"a\", 2:\"b\"}\n",
    "list1 =[3, 'c']\n",
    "\n",
    "dict1.update([list1]) # note we have to pass value in list []\n",
    "\n",
    "dict1"
   ]
  },
  {
   "cell_type": "code",
   "execution_count": 96,
   "id": "3b6862e7",
   "metadata": {},
   "outputs": [
    {
     "ename": "TypeError",
     "evalue": "cannot convert dictionary update sequence element #0 to a sequence",
     "output_type": "error",
     "traceback": [
      "\u001b[1;31m---------------------------------------------------------------------------\u001b[0m",
      "\u001b[1;31mTypeError\u001b[0m                                 Traceback (most recent call last)",
      "Input \u001b[1;32mIn [96]\u001b[0m, in \u001b[0;36m<cell line: 4>\u001b[1;34m()\u001b[0m\n\u001b[0;32m      1\u001b[0m dict1 \u001b[38;5;241m=\u001b[39m {\u001b[38;5;241m1\u001b[39m:\u001b[38;5;124m\"\u001b[39m\u001b[38;5;124ma\u001b[39m\u001b[38;5;124m\"\u001b[39m, \u001b[38;5;241m2\u001b[39m:\u001b[38;5;124m\"\u001b[39m\u001b[38;5;124mb\u001b[39m\u001b[38;5;124m\"\u001b[39m}\n\u001b[0;32m      2\u001b[0m list1 \u001b[38;5;241m=\u001b[39m(\u001b[38;5;241m3\u001b[39m, \u001b[38;5;124m'\u001b[39m\u001b[38;5;124mc\u001b[39m\u001b[38;5;124m'\u001b[39m)\n\u001b[1;32m----> 4\u001b[0m \u001b[43mdict1\u001b[49m\u001b[38;5;241;43m.\u001b[39;49m\u001b[43mupdate\u001b[49m\u001b[43m(\u001b[49m\u001b[43m(\u001b[49m\u001b[43mlist1\u001b[49m\u001b[43m)\u001b[49m\u001b[43m)\u001b[49m \u001b[38;5;66;03m# note not a  tuple ()\u001b[39;00m\n\u001b[0;32m      6\u001b[0m dict1\n",
      "\u001b[1;31mTypeError\u001b[0m: cannot convert dictionary update sequence element #0 to a sequence"
     ]
    }
   ],
   "source": [
    "dict1 = {1:\"a\", 2:\"b\"}\n",
    "list1 =(3, 'c')\n",
    "\n",
    "dict1.update((list1)) # note not a  tuple ()\n",
    "\n",
    "dict1"
   ]
  },
  {
   "cell_type": "code",
   "execution_count": 97,
   "id": "39b0dbbb",
   "metadata": {},
   "outputs": [
    {
     "data": {
      "text/plain": [
       "{1: 'a', 2: 'b'}"
      ]
     },
     "execution_count": 97,
     "metadata": {},
     "output_type": "execute_result"
    }
   ],
   "source": [
    "dict1"
   ]
  },
  {
   "cell_type": "code",
   "execution_count": 98,
   "id": "2000e776",
   "metadata": {},
   "outputs": [
    {
     "data": {
      "text/plain": [
       "{1: 'a', 2: 'b', 'x': 1, 'y': 2, 'z': 3}"
      ]
     },
     "execution_count": 98,
     "metadata": {},
     "output_type": "execute_result"
    }
   ],
   "source": [
    "dict1.update(x = 1, y = 2, z = 3)\n",
    "dict1"
   ]
  },
  {
   "cell_type": "code",
   "execution_count": 99,
   "id": "42c0f0ab",
   "metadata": {},
   "outputs": [],
   "source": [
    "dict2 = {1:\"apple\"}\n"
   ]
  },
  {
   "cell_type": "code",
   "execution_count": 100,
   "id": "27f2b9ff",
   "metadata": {},
   "outputs": [
    {
     "data": {
      "text/plain": [
       "{1: 'apple', 2: 'b', 'x': 1, 'y': 2, 'z': 3}"
      ]
     },
     "execution_count": 100,
     "metadata": {},
     "output_type": "execute_result"
    }
   ],
   "source": [
    "dict1.update(dict2)\n",
    "dict1"
   ]
  },
  {
   "cell_type": "code",
   "execution_count": 93,
   "id": "3c2d7a1b",
   "metadata": {},
   "outputs": [
    {
     "data": {
      "text/plain": [
       "{1: 'a', 2: 'b', 'x': 1, 'y': 2, 'z': 3}"
      ]
     },
     "execution_count": 93,
     "metadata": {},
     "output_type": "execute_result"
    }
   ],
   "source": [
    "dict1"
   ]
  },
  {
   "cell_type": "code",
   "execution_count": 101,
   "id": "7433c01a",
   "metadata": {},
   "outputs": [
    {
     "data": {
      "text/plain": [
       "{1: 'apple'}"
      ]
     },
     "execution_count": 101,
     "metadata": {},
     "output_type": "execute_result"
    }
   ],
   "source": [
    "dict2"
   ]
  },
  {
   "cell_type": "code",
   "execution_count": 102,
   "id": "5d4b47fd",
   "metadata": {},
   "outputs": [
    {
     "data": {
      "text/plain": [
       "{1: 'apple', 2: 'b', 'x': 1, 'y': 2, 'z': 3}"
      ]
     },
     "execution_count": 102,
     "metadata": {},
     "output_type": "execute_result"
    }
   ],
   "source": [
    "dict2.update(dict1)\n",
    "dict2"
   ]
  },
  {
   "cell_type": "code",
   "execution_count": 109,
   "id": "ef4ee9b4",
   "metadata": {},
   "outputs": [
    {
     "data": {
      "text/plain": [
       "{1: 'apple', 2: 'b', 'x': 1, 'y': 2, 'z': 3}"
      ]
     },
     "execution_count": 109,
     "metadata": {},
     "output_type": "execute_result"
    }
   ],
   "source": [
    "dict2 "
   ]
  },
  {
   "cell_type": "markdown",
   "id": "9e852dce",
   "metadata": {},
   "source": [
    "#### delete method"
   ]
  },
  {
   "cell_type": "code",
   "execution_count": 113,
   "id": "44471a9e",
   "metadata": {},
   "outputs": [],
   "source": [
    "dict2 = {1:\"a\", 2:\"b\", 3:\"c\", 4:\"d\"}\n"
   ]
  },
  {
   "cell_type": "code",
   "execution_count": 114,
   "id": "f9a9d0cf",
   "metadata": {},
   "outputs": [
    {
     "data": {
      "text/plain": [
       "{1: 'a', 3: 'c', 4: 'd'}"
      ]
     },
     "execution_count": 114,
     "metadata": {},
     "output_type": "execute_result"
    }
   ],
   "source": [
    "# del method\n",
    "\n",
    "del dict2[2] # here we have given 2 as key and it return nothing but delete the key value pair\n",
    "\n",
    "dict2"
   ]
  },
  {
   "cell_type": "code",
   "execution_count": 115,
   "id": "6ffe07b4",
   "metadata": {},
   "outputs": [
    {
     "data": {
      "text/plain": [
       "{3: 'c', 4: 'd'}"
      ]
     },
     "execution_count": 115,
     "metadata": {},
     "output_type": "execute_result"
    }
   ],
   "source": [
    "# pop method \n",
    "\n",
    "dict2.pop(1)  # these use delete  single key value pair \n",
    "dict2"
   ]
  },
  {
   "cell_type": "code",
   "execution_count": 116,
   "id": "a350968f",
   "metadata": {},
   "outputs": [],
   "source": [
    "#### clear - this method clear the all key value pair from the dictionary \n",
    "\n",
    "dict2.clear()"
   ]
  },
  {
   "cell_type": "code",
   "execution_count": 117,
   "id": "09a2079b",
   "metadata": {},
   "outputs": [
    {
     "data": {
      "text/plain": [
       "{}"
      ]
     },
     "execution_count": 117,
     "metadata": {},
     "output_type": "execute_result"
    }
   ],
   "source": [
    "dict2"
   ]
  },
  {
   "cell_type": "markdown",
   "id": "0f7a9f2c",
   "metadata": {},
   "source": [
    "as we can see that now we have empty dictionary as we have cleared that by using clear method"
   ]
  },
  {
   "cell_type": "markdown",
   "id": "683bc753",
   "metadata": {},
   "source": [
    "##### note -\n",
    "if want to delete entire dictionary permanently then we can use 'del' keyword without any index we can do it "
   ]
  },
  {
   "cell_type": "code",
   "execution_count": 118,
   "id": "d70aa2ee",
   "metadata": {},
   "outputs": [
    {
     "data": {
      "text/plain": [
       "{}"
      ]
     },
     "execution_count": 118,
     "metadata": {},
     "output_type": "execute_result"
    }
   ],
   "source": [
    "dict2"
   ]
  },
  {
   "cell_type": "code",
   "execution_count": 119,
   "id": "8aa3ee28",
   "metadata": {},
   "outputs": [
    {
     "ename": "NameError",
     "evalue": "name 'dict2' is not defined",
     "output_type": "error",
     "traceback": [
      "\u001b[1;31m---------------------------------------------------------------------------\u001b[0m",
      "\u001b[1;31mNameError\u001b[0m                                 Traceback (most recent call last)",
      "Input \u001b[1;32mIn [119]\u001b[0m, in \u001b[0;36m<cell line: 2>\u001b[1;34m()\u001b[0m\n\u001b[0;32m      1\u001b[0m \u001b[38;5;28;01mdel\u001b[39;00m dict2\n\u001b[1;32m----> 2\u001b[0m \u001b[43mdict2\u001b[49m\n",
      "\u001b[1;31mNameError\u001b[0m: name 'dict2' is not defined"
     ]
    }
   ],
   "source": [
    "del dict2\n",
    "dict2"
   ]
  },
  {
   "cell_type": "markdown",
   "id": "3367d00b",
   "metadata": {},
   "source": [
    "look we have deleted the dict2 using 'del' keyword and when we call it it gives an error"
   ]
  },
  {
   "cell_type": "markdown",
   "id": "8de1f930",
   "metadata": {},
   "source": [
    "#### Difference between List and Dictionary\n",
    "\n",
    "\n",
    "list can be access by index and it is ordered \n",
    "\n",
    "dictionary can be access by key it is unordered till python 3.6 now it is ordered"
   ]
  },
  {
   "cell_type": "code",
   "execution_count": 120,
   "id": "69c659d5",
   "metadata": {},
   "outputs": [
    {
     "data": {
      "text/plain": [
       "'hello'"
      ]
     },
     "execution_count": 120,
     "metadata": {},
     "output_type": "execute_result"
    }
   ],
   "source": [
    "list1 = [2,3,4,\"hello\"]\n",
    "list1[3]"
   ]
  },
  {
   "cell_type": "code",
   "execution_count": 121,
   "id": "17821a19",
   "metadata": {},
   "outputs": [
    {
     "data": {
      "text/plain": [
       "'hello'"
      ]
     },
     "execution_count": 121,
     "metadata": {},
     "output_type": "execute_result"
    }
   ],
   "source": [
    "dict1 = {1:\"hello\", 2:\"World\"}\n",
    "\n",
    "dict1[1]"
   ]
  },
  {
   "cell_type": "markdown",
   "id": "fc4027a3",
   "metadata": {},
   "source": [
    "#### Temperature display program using list\n"
   ]
  },
  {
   "cell_type": "code",
   "execution_count": 122,
   "id": "aabb5ad2",
   "metadata": {},
   "outputs": [
    {
     "name": "stdout",
     "output_type": "stream",
     "text": [
      "'sun', 'mon', 'tue','wed','thu','fri', 'sat'\n",
      "enter the days as above mentioned: sun\n",
      "The temperatur for:  Sunday was 34 degrees\n"
     ]
    }
   ],
   "source": [
    "daily_temp = [34, 23, 34, 45, 46, 50, 39]\n",
    "\n",
    "print(\"'sun', 'mon', 'tue','wed','thu','fri', 'sat'\")\n",
    "day = input(\"enter the days as above mentioned: \")\n",
    "\n",
    "if day.lower() == \"sun\":\n",
    "    dayname = \"Sunday\"\n",
    "    temp = daily_temp[0]\n",
    "\n",
    "elif day.lower() == \"mon\":\n",
    "    dayname = \"Monday\"\n",
    "    temp = daily_temp[1]\n",
    "    \n",
    "elif day.lower() == \"tue\":\n",
    "    dayname = \"Tuesday\"\n",
    "    temp = daily_temp[2]\n",
    "    \n",
    "elif day.lower() == \"wed\":\n",
    "    dayname = \"Wednesday\"\n",
    "    temp = daily_temp[3]\n",
    "    \n",
    "elif day.lower() == \"thu\":\n",
    "    dayname = \"Thursday\"\n",
    "    temp = daily_temp[4]\n",
    "    \n",
    "elif day.lower() == \"fri\":\n",
    "    dayname = \"Friday\"\n",
    "    temp = daily_temp[5]\n",
    "    \n",
    "elif day.lower() == \"sat\":\n",
    "    dayname = \"Saturday\"\n",
    "    temp = daily_temp[6]\n",
    "else:\n",
    "    print(\"Wrong input!\")\n",
    "    \n",
    "print(\"The temperatur for: \",dayname,\"was\",temp,\"degrees\")"
   ]
  },
  {
   "cell_type": "markdown",
   "id": "e4042f9d",
   "metadata": {},
   "source": [
    "#### same program using 'dictionary'"
   ]
  },
  {
   "cell_type": "code",
   "execution_count": 124,
   "id": "b2a4fd0f",
   "metadata": {},
   "outputs": [
    {
     "name": "stdout",
     "output_type": "stream",
     "text": [
      "'sun', 'mon', 'tue','wed','thu','fri', 'sat'\n",
      "enter the days as above mentioned: sun\n",
      "The temperatur for:  Sunday was 34 degrees\n"
     ]
    }
   ],
   "source": [
    "daily_temps = {'sun':34, 'mon':23, 'tue':34, 'wed':45,'thu':46,'fri':50,'sat':39}\n",
    "\n",
    "dayname = {'sun':'Sunday', 'mon':'Monday', 'tue':'Tuesday','wed':'Wednesday','thu':'Thursday','fri':'Friday', 'sat':'Saturday'}\n",
    "\n",
    "print(\"'sun', 'mon', 'tue','wed','thu','fri', 'sat'\")\n",
    "day = input(\"enter the days as above mentioned: \")\n",
    "\n",
    "print(\"The temperatur for: \",dayname[day],\"was\",daily_temps[day],\"degrees\")"
   ]
  },
  {
   "cell_type": "code",
   "execution_count": 126,
   "id": "69446976",
   "metadata": {},
   "outputs": [
    {
     "name": "stdout",
     "output_type": "stream",
     "text": [
      "'sun', 'mon', 'tue','wed','thu','fri', 'sat'\n",
      "enter the days as above mentioned: wmw\n",
      "Wrong Input!\n"
     ]
    }
   ],
   "source": [
    "# to check users input whether user have given valid input or not in  dictionay method \n",
    "\n",
    "daily_temps = {'sun':34, 'mon':23, 'tue':34, 'wed':45,'thu':46,'fri':50,'sat':39}\n",
    "\n",
    "dayname = {'sun':'Sunday', 'mon':'Monday', 'tue':'Tuesday','wed':'Wednesday','thu':'Thursday','fri':'Friday', 'sat':'Saturday'}\n",
    "\n",
    "print(\"'sun', 'mon', 'tue','wed','thu','fri', 'sat'\")\n",
    "day = input(\"enter the days as above mentioned: \")\n",
    "if day in daily_temps:\n",
    "    print(\"The temperatur for: \",dayname[day],\"was\",daily_temps[day],\"degrees\")\n",
    "else:\n",
    "    print(\"Wrong Input!\")"
   ]
  },
  {
   "cell_type": "code",
   "execution_count": null,
   "id": "f59b0f17",
   "metadata": {},
   "outputs": [],
   "source": []
  }
 ],
 "metadata": {
  "kernelspec": {
   "display_name": "Python 3 (ipykernel)",
   "language": "python",
   "name": "python3"
  },
  "language_info": {
   "codemirror_mode": {
    "name": "ipython",
    "version": 3
   },
   "file_extension": ".py",
   "mimetype": "text/x-python",
   "name": "python",
   "nbconvert_exporter": "python",
   "pygments_lexer": "ipython3",
   "version": "3.9.7"
  }
 },
 "nbformat": 4,
 "nbformat_minor": 5
}
