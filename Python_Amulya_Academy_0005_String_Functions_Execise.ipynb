{
 "cells": [
  {
   "cell_type": "markdown",
   "id": "61b52e83",
   "metadata": {},
   "source": [
    "#### Python program to change the Case of the Given String.\n",
    "\n",
    "We can do it many ways\n",
    "\n",
    "1. Upper case\n",
    "\n",
    "2. Lower case\n",
    "\n",
    "3. Swap case\n",
    "\n",
    "3. Title \n",
    "\n",
    "4. Capitalize case\n",
    "\n",
    "#### Note:\n",
    "all these method don't change the original string only return the new list."
   ]
  },
  {
   "cell_type": "code",
   "execution_count": 2,
   "id": "46ef2b33",
   "metadata": {},
   "outputs": [
    {
     "name": "stdout",
     "output_type": "stream",
     "text": [
      "Enter the string: Hello\n",
      "1.upper 2.lower 3.swapcase 4.title 5.capitalize\n",
      "select the operation: 1\n",
      "HELLO\n"
     ]
    }
   ],
   "source": [
    "# this program perform only one operation at time , if we want more than one operation then we will \n",
    "# see it in next program.\n",
    "\n",
    "str1 = input(\"Enter the string: \")\n",
    "\n",
    "print(\"1.upper 2.lower 3.swapcase 4.title 5.capitalize\")\n",
    "n = int(input(\"select the operation: \"))\n",
    "\n",
    "if n == 1:\n",
    "    print(str1.upper()) # here upper method return new list doen't change new list\n",
    "elif n==2:\n",
    "    print(str1.lower())\n",
    "elif n == 3:\n",
    "    print(str1.swapcase())\n",
    "elif n == 4:\n",
    "    print(str1.title())\n",
    "elif n == 5:\n",
    "    print(str1.capitalize())\n",
    "else:\n",
    "    print(\"Select the coorect option\")"
   ]
  },
  {
   "cell_type": "code",
   "execution_count": 3,
   "id": "72a4356c",
   "metadata": {},
   "outputs": [
    {
     "name": "stdout",
     "output_type": "stream",
     "text": [
      "Enter the string: Hello World!\n",
      "1.upper 2.lower 3.swapcase 4.title 5.capitalize 6.quit\n",
      "select the operation: 1\n",
      "HELLO WORLD!\n",
      "1.upper 2.lower 3.swapcase 4.title 5.capitalize 6.quit\n",
      "select the operation: 2\n",
      "hello world!\n",
      "1.upper 2.lower 3.swapcase 4.title 5.capitalize 6.quit\n",
      "select the operation: 3\n",
      "hELLO wORLD!\n",
      "1.upper 2.lower 3.swapcase 4.title 5.capitalize 6.quit\n",
      "select the operation: 4\n",
      "Hello World!\n",
      "1.upper 2.lower 3.swapcase 4.title 5.capitalize 6.quit\n",
      "select the operation: 5\n",
      "Hello world!\n",
      "1.upper 2.lower 3.swapcase 4.title 5.capitalize 6.quit\n",
      "select the operation: 6\n"
     ]
    }
   ],
   "source": [
    "str1 = input(\"Enter the string: \")\n",
    "# adding multiple operation and quit method\n",
    "while True:\n",
    "\n",
    "    print(\"1.upper 2.lower 3.swapcase 4.title 5.capitalize 6.quit\")\n",
    "    n = int(input(\"select the operation: \"))\n",
    "\n",
    "    if n == 1:\n",
    "        print(str1.upper()) # here upper method return new list doen't change new list\n",
    "    elif n==2:\n",
    "        print(str1.lower())\n",
    "    elif n == 3:\n",
    "        print(str1.swapcase())\n",
    "    elif n == 4:\n",
    "        print(str1.title())\n",
    "    elif n == 5:\n",
    "        print(str1.capitalize())\n",
    "    elif n == 6:\n",
    "        break  # whenever it will satisfied will break the loop come out the loop\n",
    "    else:\n",
    "        print(\"Select the coorect option\")"
   ]
  },
  {
   "cell_type": "code",
   "execution_count": null,
   "id": "14d5b653",
   "metadata": {},
   "outputs": [],
   "source": []
  }
 ],
 "metadata": {
  "kernelspec": {
   "display_name": "Python 3 (ipykernel)",
   "language": "python",
   "name": "python3"
  },
  "language_info": {
   "codemirror_mode": {
    "name": "ipython",
    "version": 3
   },
   "file_extension": ".py",
   "mimetype": "text/x-python",
   "name": "python",
   "nbconvert_exporter": "python",
   "pygments_lexer": "ipython3",
   "version": "3.9.7"
  }
 },
 "nbformat": 4,
 "nbformat_minor": 5
}
