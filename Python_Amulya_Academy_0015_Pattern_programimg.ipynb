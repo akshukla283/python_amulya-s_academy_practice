{
 "cells": [
  {
   "cell_type": "markdown",
   "id": "e1b31121",
   "metadata": {},
   "source": [
    "### Pattern Program"
   ]
  },
  {
   "cell_type": "code",
   "execution_count": 8,
   "id": "73950855",
   "metadata": {},
   "outputs": [
    {
     "name": "stdout",
     "output_type": "stream",
     "text": [
      "Please enter the number of row: 5\n",
      "* \n",
      "* * \n",
      "* * * \n",
      "* * * * \n",
      "* * * * * \n"
     ]
    }
   ],
   "source": [
    "n=int(input(\"Please enter the number of row: \"))\n",
    "\n",
    "for i in range(1 , n+1):\n",
    "    for j in range(1, i + 1):\n",
    "        print(\"*\", end = \" \") # in this end = \" \" hold the control in same line \n",
    "        \n",
    "    print()  # this is for new line"
   ]
  },
  {
   "cell_type": "markdown",
   "id": "ef104c0e",
   "metadata": {},
   "source": [
    "#### Using While Loop "
   ]
  },
  {
   "cell_type": "code",
   "execution_count": 1,
   "id": "4b09b6ec",
   "metadata": {},
   "outputs": [
    {
     "name": "stdout",
     "output_type": "stream",
     "text": [
      "Enter the number of rows:5\n",
      "* \n",
      "* * \n",
      "* * * \n",
      "* * * * \n",
      "* * * * * \n"
     ]
    }
   ],
   "source": [
    "## using While loop \n",
    "\n",
    "num = int(input(\"Enter the number of rows:\"))\n",
    "row = 0\n",
    "\n",
    "while row<num:\n",
    "    star = row + 1\n",
    "    while star>0:\n",
    "        print(\"*\", end = \" \")\n",
    "        star = star - 1\n",
    "    row = row + 1\n",
    "    print() # print new line"
   ]
  },
  {
   "cell_type": "code",
   "execution_count": 9,
   "id": "d88757da",
   "metadata": {},
   "outputs": [
    {
     "name": "stdout",
     "output_type": "stream",
     "text": [
      "Please enter the row number: 5\n",
      "* \n",
      "* * * \n",
      "* * * * * \n",
      "* * * * * * * \n",
      "* * * * * * * * * \n"
     ]
    }
   ],
   "source": [
    "# odd numbers row pattern\n",
    "\n",
    "num = int(input(\"Please enter the row number: \"))\n",
    "k = 1\n",
    "\n",
    "for i in range(1, num+1):\n",
    "    for j in range(1, k+1):\n",
    "        print(\"*\", end = \" \")\n",
    "        \n",
    "    k = k + 2\n",
    "    print()"
   ]
  },
  {
   "cell_type": "code",
   "execution_count": 11,
   "id": "c3ec5457",
   "metadata": {},
   "outputs": [
    {
     "name": "stdout",
     "output_type": "stream",
     "text": [
      "Please enter the number of rows: 5\n",
      "    *\n",
      "   ***\n",
      "  *****\n",
      " *******\n",
      "*********\n"
     ]
    }
   ],
   "source": [
    "### Star Pattern (triangle or pyramid)\n",
    "\n",
    "num = int(input(\"Please enter the number of rows: \"))\n",
    "\n",
    "for i in range(0, num):\n",
    "    for j in range(0, num-i-1):\n",
    "        print(end = \" \")\n",
    "    for j in range(0, 2*i+1): # we change it 2 times\n",
    "        print(\"*\", end = \"\") # we change \" \" space to \"\" no space \n",
    "    print()"
   ]
  },
  {
   "cell_type": "code",
   "execution_count": 12,
   "id": "1b62c06a",
   "metadata": {},
   "outputs": [
    {
     "name": "stdout",
     "output_type": "stream",
     "text": [
      "Please enter the rows: 6\n",
      "     *\n",
      "    ***\n",
      "   *****\n",
      "  *******\n",
      " *********\n",
      "***********\n"
     ]
    }
   ],
   "source": [
    "# we can print this using the single for loop\n",
    "\n",
    "def pyramid(rows):\n",
    "    for i in range(rows):\n",
    "        print(\" \"*(rows-i-1) + \"*\"*(2*i+1))\n",
    "        \n",
    "rows = int(input(\"Please enter the rows: \"))\n",
    "pyramid(rows)"
   ]
  },
  {
   "cell_type": "markdown",
   "id": "a5c45aa4",
   "metadata": {},
   "source": [
    "#### Using While Loop"
   ]
  },
  {
   "cell_type": "code",
   "execution_count": 48,
   "id": "fe6af617",
   "metadata": {},
   "outputs": [
    {
     "name": "stdout",
     "output_type": "stream",
     "text": [
      "enter the number of rows: 5\n",
      "    * \n",
      "   * * \n",
      "  * * * \n",
      " * * * * \n",
      "* * * * * \n"
     ]
    }
   ],
   "source": [
    "### using the while loop\n",
    "\n",
    "num = int(input(\"enter the number of rows: \"))\n",
    "row = 0\n",
    "\n",
    "while row<num:\n",
    "    space = num - row -1\n",
    "    while space >0:  # condition for space\n",
    "        print(end = \" \")\n",
    "        space = space - 1 \n",
    "    star = row + 1\n",
    "    while star>0:\n",
    "        print(\"*\", end = \" \")\n",
    "        star = star - 1\n",
    "        \n",
    "    print()  # for new line \n",
    "    row = row + 1\n",
    "    "
   ]
  },
  {
   "cell_type": "code",
   "execution_count": 13,
   "id": "5499b760",
   "metadata": {},
   "outputs": [
    {
     "name": "stdout",
     "output_type": "stream",
     "text": [
      "Please enter the numberof rows: 5\n",
      "\n",
      "* * * * * \n",
      " * * * * \n",
      "  * * * \n",
      "   * * \n",
      "    * \n"
     ]
    }
   ],
   "source": [
    "### inverted pyramid\n",
    "\n",
    "num = int(input(\"Please enter the numberof rows: \"))\n",
    "print()\n",
    "for i in range(num, 0, -1):\n",
    "    for j in range(0, num-i):\n",
    "        print(end = \" \")\n",
    "    for j in range(0, i):\n",
    "        print(\"*\", end = \" \")\n",
    "        \n",
    "    print()\n",
    "        "
   ]
  },
  {
   "cell_type": "code",
   "execution_count": 14,
   "id": "c6cdcb7c",
   "metadata": {},
   "outputs": [
    {
     "name": "stdout",
     "output_type": "stream",
     "text": [
      "Please enter the rows: 5\n",
      " * * * * *\n",
      "  * * * *\n",
      "   * * *\n",
      "    * *\n",
      "     *\n"
     ]
    }
   ],
   "source": [
    "def pyramid(rows):\n",
    "    for i in range(rows):\n",
    "        print(\" \"*(i) + \" *\"*(rows-i)) # we can modify many way this is one of them  \n",
    "                       # space should be manage \n",
    "rows = int(input(\"Please enter the rows: \"))\n",
    "pyramid(rows)"
   ]
  },
  {
   "cell_type": "code",
   "execution_count": 15,
   "id": "4b4d1ca2",
   "metadata": {},
   "outputs": [
    {
     "name": "stdout",
     "output_type": "stream",
     "text": [
      "Please enyer the number of rows: 5\n",
      "    * \n",
      "   * * \n",
      "  * * * \n",
      " * * * * \n",
      "* * * * * \n",
      " * * * * \n",
      "  * * * \n",
      "   * * \n",
      "    * \n"
     ]
    }
   ],
   "source": [
    "### combining two inverse pyramid\n",
    "\n",
    "def pyramid(rows):\n",
    "    for i in range(rows):\n",
    "        print(\" \"*(rows-i-1) + \"* \"*(i+1))\n",
    "    for j in range(rows-1, 0, -1):\n",
    "        print(\" \"*(rows-j) + \"* \"*j)\n",
    "        \n",
    "rows = int(input(\"Please enyer the number of rows: \"))\n",
    "pyramid(rows)"
   ]
  },
  {
   "cell_type": "code",
   "execution_count": 2,
   "id": "c48bde15",
   "metadata": {},
   "outputs": [
    {
     "name": "stdout",
     "output_type": "stream",
     "text": [
      "enter num : 4\n",
      "   * \n",
      "  * * \n",
      " * * * \n",
      "* * * * \n",
      " * * * \n",
      "  * * \n",
      "   * \n"
     ]
    }
   ],
   "source": [
    "def pyramid(num):\n",
    "    \n",
    "    for i in range(num):\n",
    "        print(\" \"*(num-i-1) + \"* \"*(i+1))\n",
    "    for j in range(num-1, 0 , -1):\n",
    "        print(\" \"*(num-j) + \"* \"*j)\n",
    "        \n",
    "num = int(input(\"enter num : \"))\n",
    "pyramid(num)"
   ]
  },
  {
   "cell_type": "code",
   "execution_count": 16,
   "id": "f62c2964",
   "metadata": {},
   "outputs": [
    {
     "name": "stdout",
     "output_type": "stream",
     "text": [
      "Please enter the number of rows: 5\n",
      "\n",
      "* * * * * \n",
      "* * * * \n",
      "* * * \n",
      "* * \n",
      "* \n"
     ]
    }
   ],
   "source": [
    "# inverted triangle shape \n",
    "\n",
    "num = int(input(\"Please enter the number of rows: \"))\n",
    "print()\n",
    "for i in range(num, 0, -1):\n",
    "    for j in range(0, i):\n",
    "        print(\"*\", end = \" \")\n",
    "    print()"
   ]
  },
  {
   "cell_type": "code",
   "execution_count": 2,
   "id": "9864837c",
   "metadata": {},
   "outputs": [
    {
     "name": "stdout",
     "output_type": "stream",
     "text": [
      "please enter the string: Python\n",
      "\n",
      "P\n",
      "Py\n",
      "Pyt\n",
      "Pyth\n",
      "Pytho\n",
      "Python\n"
     ]
    }
   ],
   "source": [
    "# here we will use for loop for row and column \n",
    "\n",
    "string = input(\"please enter the string: \")\n",
    "print()\n",
    "length = len(string)\n",
    "\n",
    "for row in range(length):\n",
    "    for col in range(row+1):  # column  = range(row + 1)\n",
    "        print(string[col], end = \"\") # here we taken empty string because we need next \n",
    "                                     # letter immediate after previous one\n",
    "    print()  # this is for first for loop to new line"
   ]
  },
  {
   "cell_type": "code",
   "execution_count": 4,
   "id": "a82f4e75",
   "metadata": {},
   "outputs": [
    {
     "name": "stdout",
     "output_type": "stream",
     "text": [
      "please enter the string: Python\n",
      "\n",
      "P \n",
      "P y \n",
      "P y t \n",
      "P y t h \n",
      "P y t h o \n",
      "P y t h o n \n"
     ]
    }
   ],
   "source": [
    "## if we need space in letters\n",
    "\n",
    "string = input(\"please enter the string: \")\n",
    "print()\n",
    "length = len(string)\n",
    "\n",
    "for row in range(length):\n",
    "    for col in range(row+1):  # column  = range(row + 1)\n",
    "        print(string[col], end = \" \")\n",
    "        # we take \" \" whitespace for space between ltter and hold control\n",
    "        \n",
    "    print()"
   ]
  },
  {
   "cell_type": "markdown",
   "id": "d76f644b",
   "metadata": {},
   "source": [
    "#### Printing Stars in Hollow Right Triangle (inverted)\n",
    "\n"
   ]
  },
  {
   "cell_type": "code",
   "execution_count": 5,
   "id": "dcd14bf2",
   "metadata": {},
   "outputs": [
    {
     "name": "stdout",
     "output_type": "stream",
     "text": [
      "PLease enter the number of rows: 10\n",
      "**********\n",
      " *       *\n",
      "  *      *\n",
      "   *     *\n",
      "    *    *\n",
      "     *   *\n",
      "      *  *\n",
      "       * *\n",
      "        **\n",
      "         *\n"
     ]
    }
   ],
   "source": [
    "n = int(input(\"PLease enter the number of rows: \"))\n",
    "# want star in row and columns\n",
    "\n",
    "for row in range(0, n):\n",
    "    for col in range(0, n): \n",
    "        if row == 0 or col == n-1 or row == col:   #this is condition for printing * in 0th row \n",
    "                 print(\"*\", end = \"\")\n",
    "        else: \n",
    "             print(end =\" \") \n",
    "    print() # this is for new line       print() in python 3.x and in python 2.x 'print' is statement\n",
    "\n",
    "# and 4rth col(n-1) for digonal row == coland  'or' logical value have sort circuit evalution means \n",
    "# if one condition is true then it will not check other condtion wheter it is True , so by this \n",
    "# it will manage printing repeation of stars.\n",
    "                \n",
    "            "
   ]
  },
  {
   "cell_type": "markdown",
   "id": "f53f2e25",
   "metadata": {},
   "source": [
    "#### Printing Stars in Hollow Right Triangle"
   ]
  },
  {
   "cell_type": "code",
   "execution_count": 7,
   "id": "5761e89f",
   "metadata": {},
   "outputs": [
    {
     "name": "stdout",
     "output_type": "stream",
     "text": [
      "enter the number of rows: 10\n",
      "*         \n",
      "**        \n",
      "* *       \n",
      "*  *      \n",
      "*   *     \n",
      "*    *    \n",
      "*     *   \n",
      "*      *  \n",
      "*       * \n",
      "**********\n"
     ]
    }
   ],
   "source": [
    "n = int(input(\"enter the number of rows: \"))\n",
    "\n",
    "for row in range(n):\n",
    "    for col in range(n):\n",
    "        if col == 0 or row == (n-1) or row == col:  # this condition for \"*\"\n",
    "            print(\"*\", end = \"\")\n",
    "        else:\n",
    "            print(end = \" \") # we use end to hold the control in same line to print sapce\n",
    "    \n",
    "            \n",
    "    print()  # for control to the new line "
   ]
  },
  {
   "cell_type": "markdown",
   "id": "6c5776d5",
   "metadata": {},
   "source": [
    "#### Printing Stars in Hollow Equilateral Triangle"
   ]
  },
  {
   "cell_type": "code",
   "execution_count": 20,
   "id": "604cce7d",
   "metadata": {},
   "outputs": [
    {
     "name": "stdout",
     "output_type": "stream",
     "text": [
      "Enter the number of rows: 6\n",
      "     *     \n",
      "    * *    \n",
      "   *   *   \n",
      "  *     *  \n",
      " *       * \n",
      "***********\n"
     ]
    }
   ],
   "source": [
    "n = int(input(\"Enter the number of rows: \"))\n",
    "\n",
    "for row in range(1, n + 1):\n",
    "    for col in range(1, 2 * n):\n",
    "        if row == n or row+col == n+1 or col - row == n-1:\n",
    "            print(\"*\", end = \"\")\n",
    "        else:\n",
    "            print(end = \" \")\n",
    "    print()\n",
    "    "
   ]
  },
  {
   "cell_type": "code",
   "execution_count": 22,
   "id": "be6e9c6c",
   "metadata": {},
   "outputs": [
    {
     "name": "stdout",
     "output_type": "stream",
     "text": [
      "enter the number of rows: 5\n",
      "    *    \n",
      "   * *   \n",
      "  *   *  \n",
      " *     * \n",
      "* * * * *\n"
     ]
    }
   ],
   "source": [
    "# for equal no. of stars in each side \n",
    "\n",
    "n = int(input(\"enter the number of rows: \"))\n",
    "k = 2\n",
    "\n",
    "for row in range(1, n+1):\n",
    "    for col in range(1, 2*n):\n",
    "        if row+col== n+1 or col-row== n-1:\n",
    "            print(\"*\", end = \"\")\n",
    "        elif row == n and col !=k:\n",
    "            print(\"*\", end = \"\")\n",
    "            k = k+2\n",
    "        else:\n",
    "            print(end = \" \")\n",
    "            \n",
    "    print()"
   ]
  },
  {
   "cell_type": "markdown",
   "id": "f15c96fb",
   "metadata": {},
   "source": [
    "#### Printing Stars in Hollow Diamond shape"
   ]
  },
  {
   "cell_type": "code",
   "execution_count": 23,
   "id": "c3e7b7d5",
   "metadata": {},
   "outputs": [
    {
     "name": "stdout",
     "output_type": "stream",
     "text": [
      "  *  \n",
      " * * \n",
      "*   *\n",
      " * * \n",
      "  *  \n"
     ]
    }
   ],
   "source": [
    "for row in range(5):\n",
    "    for col in range(5):\n",
    "        if row + col == 2 or col - row == 2 or row -col == 2 or row + col == 6:\n",
    "            print(\"*\", end= \"\")\n",
    "        else:\n",
    "            print(end = \" \")\n",
    "            \n",
    "    print() # for new line "
   ]
  },
  {
   "cell_type": "code",
   "execution_count": 24,
   "id": "c2649bdd",
   "metadata": {},
   "outputs": [
    {
     "name": "stdout",
     "output_type": "stream",
     "text": [
      "   *   \n",
      "  * *  \n",
      " *   * \n",
      "*     *\n",
      " *   * \n",
      "  * *  \n",
      "   *   \n"
     ]
    }
   ],
   "source": [
    "# suppose we want to take input from an user\n",
    "# n = int(input(\"Enter the number of rows: \"))\n",
    "\n",
    "# for 7 rows\n",
    "for row in range(7):\n",
    "    for col in range(7):\n",
    "        if row + col == 3 or col - row == 3 or row -col == 3 or row + col == 9:\n",
    "            print(\"*\", end= \"\")\n",
    "        else:\n",
    "            print(end = \" \")\n",
    "            \n",
    "    print() # for new line "
   ]
  },
  {
   "cell_type": "markdown",
   "id": "93db60a5",
   "metadata": {},
   "source": [
    "#### Printing Names Using Stars \"*\""
   ]
  },
  {
   "cell_type": "code",
   "execution_count": 42,
   "id": "3b62b01f",
   "metadata": {},
   "outputs": [
    {
     "name": "stdout",
     "output_type": "stream",
     "text": [
      "*         *     * * * *   \n",
      "* *       *   *         * \n",
      "*   *     *   *         * \n",
      "*     *   *   *         * \n",
      "*       * *   *         * \n",
      "*         *     * * * *   \n"
     ]
    }
   ],
   "source": [
    "# only for particular name \n",
    "\n",
    "str1 = \"NO\"\n",
    "\n",
    "print_N = [[\" \" for i in range(6)] for j in range(6)]\n",
    "print_O = [[\" \" for i in range(6)] for j in range(6)]\n",
    "\n",
    "# code for N\n",
    "\n",
    "for row in range(6):\n",
    "    for col in range(6):\n",
    "        if col == 0 or col == 5 or row == col:\n",
    "            print_N[row][col] = \"*\" # means if condition is satisfied it will assign '*' to whitespace\n",
    "            \n",
    "# code for O\n",
    "for row in range(6):\n",
    "    for col in range(6):\n",
    "        if ((row==0 or row==5) and (col!=0 and col!=5)) or ((col==0 or col == 5) and (row!=0 and row!=5)):\n",
    "            print_O[row][col] = \"*\"\n",
    "            \n",
    "for i in range(6):\n",
    "    for j in range(6):\n",
    "        print(print_N[i][j], end = \" \")\n",
    "        \n",
    "    print(end = \"  \")\n",
    "    \n",
    "    for j in range(6):\n",
    "        print(print_O[i][j], end = \" \")\n",
    "    print()"
   ]
  },
  {
   "cell_type": "code",
   "execution_count": 49,
   "id": "41837640",
   "metadata": {},
   "outputs": [],
   "source": [
    "# need to write program A to Z letter  and print any name enter by user"
   ]
  },
  {
   "cell_type": "code",
   "execution_count": null,
   "id": "4f6fed66",
   "metadata": {},
   "outputs": [],
   "source": []
  },
  {
   "cell_type": "markdown",
   "id": "ca415cec",
   "metadata": {},
   "source": [
    "#### Printing the number in right Tringle Shape\n"
   ]
  },
  {
   "cell_type": "code",
   "execution_count": 51,
   "id": "4fd9e963",
   "metadata": {},
   "outputs": [
    {
     "name": "stdout",
     "output_type": "stream",
     "text": [
      "please enter the number of rows: 5\n",
      "\n",
      "1 \n",
      "1 2 \n",
      "1 2 3 \n",
      "1 2 3 4 \n",
      "1 2 3 4 5 \n"
     ]
    }
   ],
   "source": [
    "n = int(input(\"please enter the number of rows: \"))\n",
    "print()\n",
    "for i in range(1, n + 1):\n",
    "    for j in range(1, i + 1):\n",
    "        print(j, end = \" \")\n",
    "    print() # this is for new line"
   ]
  },
  {
   "cell_type": "code",
   "execution_count": 52,
   "id": "ba432fbc",
   "metadata": {},
   "outputs": [
    {
     "name": "stdout",
     "output_type": "stream",
     "text": [
      "please enter the number of rows: 6\n",
      "\n",
      "1 \n",
      "2 2 \n",
      "3 3 3 \n",
      "4 4 4 4 \n",
      "5 5 5 5 5 \n",
      "6 6 6 6 6 6 \n"
     ]
    }
   ],
   "source": [
    "# for printing same number in as row number\n",
    "n = int(input(\"please enter the number of rows: \"))\n",
    "print()\n",
    "for i in range(1, n + 1):\n",
    "    for j in range(1, i + 1):\n",
    "        print(i, end = \" \")\n",
    "    print() # this is for new line"
   ]
  },
  {
   "cell_type": "markdown",
   "id": "84067b38",
   "metadata": {},
   "source": [
    "#### Printing Numbers in Inverted Right Triangle Shape\n",
    "\n"
   ]
  },
  {
   "cell_type": "code",
   "execution_count": 53,
   "id": "b2aae199",
   "metadata": {},
   "outputs": [
    {
     "name": "stdout",
     "output_type": "stream",
     "text": [
      "Enter the number of rows: 5\n",
      "1 2 3 4 5 \n",
      "1 2 3 4 \n",
      "1 2 3 \n",
      "1 2 \n",
      "1 \n"
     ]
    }
   ],
   "source": [
    "n = int(input(\"Enter the number of rows: \"))\n",
    "\n",
    "for row in range(n, 0 , -1):\n",
    "    for col in range(1, row+1):\n",
    "        print(col, end = \" \")\n",
    "        \n",
    "    print() # for new line\n",
    "    "
   ]
  },
  {
   "cell_type": "code",
   "execution_count": 54,
   "id": "21ebf99f",
   "metadata": {},
   "outputs": [
    {
     "name": "stdout",
     "output_type": "stream",
     "text": [
      "Enter the number of rows: 5\n",
      "5 5 5 5 5 \n",
      "4 4 4 4 \n",
      "3 3 3 \n",
      "2 2 \n",
      "1 \n"
     ]
    }
   ],
   "source": [
    "# for same numbers in a row \n",
    "\n",
    "n = int(input(\"Enter the number of rows: \"))\n",
    "\n",
    "for row in range(n, 0 , -1):\n",
    "    for col in range(1, row+1):\n",
    "        print(row, end = \" \")\n",
    "        \n",
    "    print() # for new line\n",
    "    "
   ]
  },
  {
   "cell_type": "markdown",
   "id": "5adeb45a",
   "metadata": {},
   "source": [
    "#### Printing Floyd's Triangle (number's right triangles)\n"
   ]
  },
  {
   "cell_type": "code",
   "execution_count": 57,
   "id": "ed7ea92c",
   "metadata": {},
   "outputs": [
    {
     "name": "stdout",
     "output_type": "stream",
     "text": [
      "Please enter the number of rows: 6\n",
      "1 \n",
      "2 3 \n",
      "4 5 6 \n",
      "7 8 9 10 \n",
      "11 12 13 14 15 \n",
      "16 17 18 19 20 21 \n"
     ]
    }
   ],
   "source": [
    "n = int(input(\"Please enter the number of rows: \"))\n",
    "\n",
    "num = 1\n",
    "for row in range(1, n+1):\n",
    "    \n",
    "    for col in range(1, row+1):\n",
    "        \n",
    "        print(num, end = \" \")\n",
    "        num = num + 1\n",
    "    print()\n",
    "    "
   ]
  },
  {
   "cell_type": "markdown",
   "id": "46e48074",
   "metadata": {},
   "source": [
    "#### Printing Number in Row and Column"
   ]
  },
  {
   "cell_type": "code",
   "execution_count": 64,
   "id": "c01252c8",
   "metadata": {},
   "outputs": [
    {
     "name": "stdout",
     "output_type": "stream",
     "text": [
      "Enter the number of rows: 5\n",
      "1 \n",
      "2 6 \n",
      "3 7 10 \n",
      "4 8 11 13 \n",
      "5 9 12 14 15 \n"
     ]
    }
   ],
   "source": [
    "num = int(input(\"Enter the number of rows: \"))\n",
    "for row in range(num):\n",
    "    val = row + 1\n",
    "    dec = num - 1\n",
    "    for col in range(row+1):\n",
    "        \n",
    "        print(val, end = \" \")\n",
    "        val = val+dec\n",
    "        dec = dec - 1\n",
    "        \n",
    "    print()"
   ]
  },
  {
   "cell_type": "code",
   "execution_count": 65,
   "id": "49ee7709",
   "metadata": {},
   "outputs": [
    {
     "name": "stdout",
     "output_type": "stream",
     "text": [
      "Enter the number of rows: 6\n",
      "1    \n",
      "2    7    \n",
      "3    8    12   \n",
      "4    9    13   16   \n",
      "5    10   14   17   19   \n",
      "6    11   15   18   20   21   \n"
     ]
    }
   ],
   "source": [
    "# adjust with format \n",
    "num = int(input(\"Enter the number of rows: \"))\n",
    "for row in range(num):\n",
    "    val = row + 1\n",
    "    dec = num - 1\n",
    "    for col in range(row+1):\n",
    "        \n",
    "        print(format(val, \"<4\"), end = \" \")\n",
    "        val = val+dec\n",
    "        dec = dec - 1\n",
    "        \n",
    "    print()"
   ]
  },
  {
   "cell_type": "code",
   "execution_count": 74,
   "id": "eab272b5",
   "metadata": {},
   "outputs": [
    {
     "name": "stdout",
     "output_type": "stream",
     "text": [
      "     hello\n"
     ]
    }
   ],
   "source": [
    "print(format(\"hello\", \">10\"))"
   ]
  },
  {
   "cell_type": "code",
   "execution_count": 67,
   "id": "b4f96759",
   "metadata": {},
   "outputs": [
    {
     "name": "stdout",
     "output_type": "stream",
     "text": [
      "hello*****\n"
     ]
    }
   ],
   "source": [
    "print(format(\"hello\", \"*<10\"))"
   ]
  },
  {
   "cell_type": "code",
   "execution_count": 68,
   "id": "eb127b01",
   "metadata": {},
   "outputs": [
    {
     "name": "stdout",
     "output_type": "stream",
     "text": [
      "*****hello\n"
     ]
    }
   ],
   "source": [
    "print(format(\"hello\", \"*>10\"))"
   ]
  },
  {
   "cell_type": "code",
   "execution_count": 69,
   "id": "9da415e1",
   "metadata": {},
   "outputs": [
    {
     "name": "stdout",
     "output_type": "stream",
     "text": [
      "**hello***\n"
     ]
    }
   ],
   "source": [
    "print(format(\"hello\", \"*^10\"))"
   ]
  },
  {
   "cell_type": "code",
   "execution_count": 70,
   "id": "47adf818",
   "metadata": {},
   "outputs": [
    {
     "name": "stdout",
     "output_type": "stream",
     "text": [
      "hello-----\n"
     ]
    }
   ],
   "source": [
    "print(format(\"hello\", \"-<10\"))"
   ]
  },
  {
   "cell_type": "markdown",
   "id": "2844f54c",
   "metadata": {},
   "source": [
    "#### Printing Pattern in Right triangle form "
   ]
  },
  {
   "cell_type": "code",
   "execution_count": 79,
   "id": "945a0b1c",
   "metadata": {},
   "outputs": [
    {
     "name": "stdout",
     "output_type": "stream",
     "text": [
      "Enter the number of rows: 5\n",
      "1 \n",
      "2 9 \n",
      "3 8 10 \n",
      "4 7 11 14 \n",
      "5 6 12 13 15 \n"
     ]
    }
   ],
   "source": [
    "# like up down up down sequence of number series method \n",
    "\n",
    "n = int(input(\"Enter the number of rows: \"))\n",
    "\n",
    "for i in  range(n):\n",
    "    \n",
    "    for j in range(i + 1):\n",
    "        x = 0\n",
    "        for k in range(j):\n",
    "            x = x + n - k\n",
    "            \n",
    "        if j%2 == 0:\n",
    "            print(x+i-j+1, end = \" \")\n",
    "                    \n",
    "        else:\n",
    "            print(x+n-i, end = \" \")\n",
    "        \n",
    "    print()"
   ]
  },
  {
   "cell_type": "code",
   "execution_count": 78,
   "id": "e6b8c98b",
   "metadata": {},
   "outputs": [
    {
     "name": "stdout",
     "output_type": "stream",
     "text": [
      "Enter the number of rows: 5\n",
      "1    \n",
      "2    9    \n",
      "3    8    10   \n",
      "4    7    11   14   \n",
      "5    6    12   13   15   \n"
     ]
    }
   ],
   "source": [
    "# adjust with format \n",
    "n = int(input(\"Enter the number of rows: \"))\n",
    "\n",
    "for i in  range(n):\n",
    "    \n",
    "    for j in range(i + 1):\n",
    "        x = 0\n",
    "        for k in range(j):\n",
    "            x = x + n - k\n",
    "            \n",
    "        if j%2 == 0:\n",
    "            print(format(x+i-j+1, \"<4\"), end = \" \")\n",
    "                    \n",
    "        else:\n",
    "            print(format(x+n-i, \"<4\"), end = \" \")\n",
    "        \n",
    "    print()"
   ]
  },
  {
   "cell_type": "markdown",
   "id": "874ac813",
   "metadata": {},
   "source": [
    "#### printing Star in Heart Shape (hallow)"
   ]
  },
  {
   "cell_type": "code",
   "execution_count": 93,
   "id": "0cb5496f",
   "metadata": {},
   "outputs": [
    {
     "name": "stdout",
     "output_type": "stream",
     "text": [
      " ** ** \n",
      "*  *  *\n",
      "*     *\n",
      " *   * \n",
      "  * *  \n",
      "   *   \n"
     ]
    }
   ],
   "source": [
    "for row in range(6):\n",
    "    for col in range(7):\n",
    "        if (row == 0 and col%3!= 0) or (row == 1 and col%3 == 0) or (row - col == 2) or (row+col == 8):\n",
    "            print(\"*\", end = \"\")\n",
    "        else:\n",
    "            print( end = \" \")\n",
    "    print()"
   ]
  },
  {
   "cell_type": "markdown",
   "id": "030054d4",
   "metadata": {},
   "source": [
    "#### Printing Star in Heart Shape "
   ]
  },
  {
   "cell_type": "code",
   "execution_count": 103,
   "id": "5f325565",
   "metadata": {},
   "outputs": [
    {
     "name": "stdout",
     "output_type": "stream",
     "text": [
      "   *       * \n",
      "  * *     * * \n",
      " * * *   * * * \n",
      "* * * * * * * * \n",
      "* * * * * * * * \n",
      " * * * * * * * \n",
      "  * * * * * * \n",
      "   * * * * * \n",
      "    * * * * \n",
      "     * * * \n",
      "      * * \n",
      "       * \n"
     ]
    }
   ],
   "source": [
    "for i in range(4):\n",
    "    for j in range(4-i-1):\n",
    "        print(\" \", end = \"\")\n",
    "    for j in range(i+1):\n",
    "        print(\"* \", end = \"\")\n",
    "        \n",
    "    \n",
    "    for j in range(2*(4-i-1)): # for need to space\n",
    "        print(\" \", end = \"\")\n",
    "    for j in range(i+1):\n",
    "        print(\"* \", end = \"\")\n",
    "        \n",
    "    print()\n",
    "    \n",
    "for i in range(8, 0, -1):\n",
    "    for j in range(8-i):\n",
    "        print(\" \", end = \"\")\n",
    "    for j in range(i, 0, -1):\n",
    "        print(\"* \", end = \"\")\n",
    "    print()"
   ]
  },
  {
   "cell_type": "code",
   "execution_count": 106,
   "id": "555da2a4",
   "metadata": {},
   "outputs": [
    {
     "name": "stdout",
     "output_type": "stream",
     "text": [
      "Enter the number: 12\n",
      "     *           * \n",
      "    * *         * * \n",
      "   * * *       * * * \n",
      "  * * * *     * * * * \n",
      " * * * * *   * * * * * \n",
      "* * * * * * * * * * * * \n",
      "* * * * * * * * * * * * \n",
      " * * * * * * * * * * * \n",
      "  * * * * * * * * * * \n",
      "   * * * * * * * * * \n",
      "    * * * * * * * * \n",
      "     * * * * * * * \n",
      "      * * * * * * \n",
      "       * * * * * \n",
      "        * * * * \n",
      "         * * * \n",
      "          * * \n",
      "           * \n"
     ]
    }
   ],
   "source": [
    "# take input from user (only even number)\n",
    "num = int(input(\"Enter the number: \"))\n",
    "n = num//2\n",
    "\n",
    "for i in range(n):\n",
    "    for j in range(n-i-1):\n",
    "        print(\" \", end = \"\")\n",
    "    for j in range(i+1):\n",
    "        print(\"* \", end = \"\")\n",
    "        \n",
    "    \n",
    "    for j in range(2*(n-i-1)): # for need to space\n",
    "        print(\" \", end = \"\")\n",
    "    for j in range(i+1):\n",
    "        print(\"* \", end = \"\")\n",
    "        \n",
    "    print()\n",
    "    \n",
    "for i in range(num, 0, -1):\n",
    "    for j in range(num-i):\n",
    "        print(\" \", end = \"\")\n",
    "    for j in range(i, 0, -1):\n",
    "        print(\"* \", end = \"\")\n",
    "    print()"
   ]
  },
  {
   "cell_type": "code",
   "execution_count": 112,
   "id": "7e70447d",
   "metadata": {},
   "outputs": [
    {
     "name": "stdout",
     "output_type": "stream",
     "text": [
      "Enter the number: 16\n",
      "       *               * \n",
      "      * *             * * \n",
      "     * * *           * * * \n",
      "    * * * *         * * * * \n",
      "   * * * * *       * * * * * \n",
      "  * * * * * *     * * * * * * \n",
      " * * * * * * *   * * * * * * * \n",
      "* * * * * * * * * * * * * * * * \n",
      "* * * * * * * * * * * * * * * * \n",
      " * * * * * * * * * * * * * * * \n",
      "  * * * * * * * * * * * * * * \n",
      "   * * * * * * * * * * * * * \n",
      "    * * * * * * * * * * * * \n",
      "     * * * * * * * * * * * \n",
      "      * * * * * * * * * * \n",
      "       * * * * * * * * * \n",
      "        * * * * * * * * \n",
      "         * * * * * * * \n",
      "          * * * * * * \n",
      "           * * * * * \n",
      "            * * * * \n",
      "             * * * \n",
      "              * * \n",
      "               * \n"
     ]
    }
   ],
   "source": [
    "# # take input from user (even and  odd number)\n",
    "num = int(input(\"Enter the number: \"))\n",
    "n = num//2\n",
    "\n",
    "for i in range(n):\n",
    "    for j in range(n-i-1):\n",
    "        print(\" \", end = \"\")\n",
    "    for j in range(i+1):\n",
    "        print(\"* \", end = \"\")\n",
    "        \n",
    "    if num%2 == 0:\n",
    "        for j in range(2*(n-i-1)): \n",
    "            print(\" \", end = \"\")\n",
    "    else:\n",
    "        for j in range(2*(n-i-1)+ 1): # extra space for odd num\n",
    "            print(\" \", end = \"\")\n",
    "       \n",
    "   \n",
    "    for j in range(i+1):\n",
    "        print(\"* \", end = \"\")\n",
    "        \n",
    "    print()\n",
    "    \n",
    "for i in range(num, 0, -1):\n",
    "    for j in range(num-i):\n",
    "        print(\" \", end = \"\")\n",
    "    for j in range(i, 0, -1):\n",
    "        print(\"* \", end = \"\")\n",
    "    print()"
   ]
  },
  {
   "cell_type": "markdown",
   "id": "aca3df4c",
   "metadata": {},
   "source": [
    "#### Printing Names in the center of the Heart"
   ]
  },
  {
   "cell_type": "code",
   "execution_count": 15,
   "id": "fc2baf34",
   "metadata": {},
   "outputs": [
    {
     "name": "stdout",
     "output_type": "stream",
     "text": [
      "Enter the number of column: 9\n",
      "Enter the message: amuls\n",
      "   *        * \n",
      "  * *      * * \n",
      " * * *    * * * \n",
      "* * * *  * * * * \n",
      "* a m u l s * * *\n",
      "* * * * * * * * * \n",
      "\n",
      " * * * * * * * * \n",
      "\n",
      "  * * * * * * * \n",
      "\n",
      "   * * * * * * \n",
      "\n",
      "    * * * * * \n",
      "\n",
      "     * * * * \n",
      "\n",
      "      * * * \n",
      "\n",
      "       * * \n",
      "\n",
      "        * \n",
      "\n"
     ]
    }
   ],
   "source": [
    "# note columns number must be greater than message length\n",
    "\n",
    "num = int(input(\"Enter the number of column: \"))\n",
    "msg = input(\"Enter the message: \")\n",
    "n = num//2\n",
    "len_msg = len(msg)\n",
    "for i in range(n):\n",
    "    print(\" \"*(n-i-1) + \"* \"*(i+1), end = \"\")\n",
    "#     for j in range(n-i-1):\n",
    "#         print(\" \", end = \"\")  These code written in one line above\n",
    "#     for j in range(i+1):\n",
    "#         print(\"* \", end = \"\")\n",
    "        \n",
    "    if num%2 == 0:\n",
    "        for j in range(2*(n-i-1)): \n",
    "            print(\" \", end = \"\")\n",
    "    else:\n",
    "        for j in range(2*(n-i-1)+ 1): # extra space for odd num\n",
    "            print(\" \", end = \"\")\n",
    "       \n",
    "   \n",
    "    for j in range(i+1):\n",
    "        print(\"* \", end = \"\")\n",
    "        \n",
    "    print()\n",
    "\n",
    "# we need to check 4 condition for the length of column and meassge \n",
    "# if length and message -- (even,even),(even odd),(odd, even),(odd, odd)\n",
    "if num%2== 0:  # this one for checking (even,even),(even odd)\n",
    "    if len_msg%2 == 0:\n",
    "        print(\"* \"*((n-1)//2) + \" \".join(msg) + \" *\"*((num-1)//2 -2))\n",
    "    else:\n",
    "        print(\"* \"*((n-1)//2) + \" \".join(msg) + \" *\"*((num-1)//2 -1))\n",
    "        \n",
    "else:    # this one for checking (odd, even),(odd, odd)\n",
    "    if len_msg%2 == 0:\n",
    "        print(\"* \"*((n-1)//2) + \" \".join(msg) + \" *\"*((num-1)//2 -2))\n",
    "    else:\n",
    "        print(\"* \"*((n-1)//2) + \" \".join(msg) + \" *\"*((num-1)//2 -1))\n",
    "        \n",
    "    \n",
    "    \n",
    "for i in range(num, 0, -1):\n",
    "    print(\" \"*(num-i) + \"* \"*(i))\n",
    "    \n",
    "#     for j in range(num-i):\n",
    "#         print(\" \", end = \"\") These code written in one line above\n",
    "#     for j in range(i, 0, -1):\n",
    "#         print(\"* \", end = \"\")\n",
    "    print()"
   ]
  },
  {
   "cell_type": "code",
   "execution_count": 39,
   "id": "5781d927",
   "metadata": {},
   "outputs": [
    {
     "name": "stdout",
     "output_type": "stream",
     "text": [
      "Enter the number of column: 10\n",
      "Enter the message: helloo\n",
      "    *         * \n",
      "   * *       * * \n",
      "  * * *     * * * \n",
      " * * * *   * * * * \n",
      "* * * * * * * * * * \n",
      "* * h e l l o o * *\n",
      "* * * * * * * * * * \n",
      " * * * * * * * * * \n",
      "  * * * * * * * * \n",
      "   * * * * * * * \n",
      "    * * * * * * \n",
      "     * * * * * \n",
      "      * * * * \n",
      "       * * * \n",
      "        * * \n",
      "         * \n"
     ]
    }
   ],
   "source": [
    "# note columns number must be greater than message length\n",
    "\n",
    "num = int(input(\"Enter the number of column: \"))\n",
    "msg = input(\"Enter the message: \")\n",
    "n = num//2\n",
    "len_msg = len(msg)\n",
    "for i in range(n):\n",
    "    print(\" \"*(n-i-1) + \"* \"*(i+1), end = \"\")\n",
    "    if num%2 == 0:\n",
    "        for j in range(2*(n-i-1)): \n",
    "            print(\" \", end = \"\")\n",
    "    else:\n",
    "        for j in range(2*(n-i-1)+ 1): # extra space for odd num\n",
    "            print(\" \", end = \"\")\n",
    "       \n",
    "   \n",
    "    for j in range(i+1):\n",
    "        print(\"* \", end = \"\")\n",
    "        \n",
    "    print()\n",
    "\n",
    "# we need to check 4 condition for the length of column and meassge \n",
    "# if length and message -- (even,even),(even odd),(odd, even),(odd, odd)\n",
    "if num%2== 0:  # this one for checking (even,even),(even odd)\n",
    "    if len_msg%2 == 0:\n",
    "        print(\"* \"*((n-1)//2) + \" \".join(msg) + \" *\"*(((num-1)//2)-2))\n",
    "    else:\n",
    "        print(\"* \"*((n-1)//2) + \" \".join(msg) + \" *\"*(((num-1)//2)))\n",
    "        \n",
    "else:    # this one for checking (odd, even),(odd, odd)\n",
    "    if len_msg%2 == 0:\n",
    "        print(\"* \"*((n-1)//2) + \" \".join(msg) + \" *\"*(((num-1)//2)+1))\n",
    "    else:\n",
    "        print(\"* \"*((n-1)//2) + \" \".join(msg) + \" *\"*(((num-1)//2)))\n",
    "        \n",
    "for i in range(num, 0, -1):\n",
    "    print(\" \"*(num-i) + \"* \"*(i))\n",
    "   "
   ]
  },
  {
   "cell_type": "markdown",
   "id": "a6fa0cfb",
   "metadata": {},
   "source": [
    "#### Printing Stars \"*\" In Different Shapes"
   ]
  },
  {
   "cell_type": "code",
   "execution_count": 42,
   "id": "709178c8",
   "metadata": {},
   "outputs": [
    {
     "name": "stdout",
     "output_type": "stream",
     "text": [
      "Enter the number of rows: 6\n",
      "* * * * * * \n",
      "* * * * * * \n",
      "* * * * * * \n",
      "* * * * * * \n",
      "* * * * * * \n",
      "* * * * * * \n"
     ]
    }
   ],
   "source": [
    "## for Square shape \n",
    "\n",
    "num = int(input(\"Enter the number of rows: \"))\n",
    "for i in range(num):\n",
    "    for j in range(num):\n",
    "        print(\"*\", end = \" \")\n",
    "    print()"
   ]
  },
  {
   "cell_type": "code",
   "execution_count": 44,
   "id": "246606eb",
   "metadata": {},
   "outputs": [
    {
     "name": "stdout",
     "output_type": "stream",
     "text": [
      "Enter the number of rows: 5\n",
      "* * * * * \n",
      "* * * * * \n",
      "* * * * * \n",
      "* * * * * \n",
      "* * * * * \n"
     ]
    }
   ],
   "source": [
    "## for Square shape \n",
    "# without nested for loop \n",
    "num = int(input(\"Enter the number of rows: \"))\n",
    "for i in range(num):\n",
    "    print(\"* \" *num)"
   ]
  },
  {
   "cell_type": "code",
   "execution_count": 45,
   "id": "2d68b923",
   "metadata": {},
   "outputs": [
    {
     "name": "stdout",
     "output_type": "stream",
     "text": [
      "Enter the number of rows: 5\n",
      "* \n",
      "* * \n",
      "* * * \n",
      "* * * * \n",
      "* * * * * \n"
     ]
    }
   ],
   "source": [
    "## for Triangle  shape (left opposite (in hind lamb))\n",
    "# without nested for loop \n",
    "\n",
    "num = int(input(\"Enter the number of rows: \"))\n",
    "for i in range(1,num+1):\n",
    "    print(\"* \" *i)"
   ]
  },
  {
   "cell_type": "code",
   "execution_count": 51,
   "id": "d63708ab",
   "metadata": {},
   "outputs": [
    {
     "name": "stdout",
     "output_type": "stream",
     "text": [
      "Enter the number of rows: 5\n",
      "        * \n",
      "      * * \n",
      "    * * * \n",
      "  * * * * \n",
      "* * * * * \n"
     ]
    }
   ],
   "source": [
    "## for Triangle  shape (right opposite)\n",
    "# without nested for loop \n",
    "\n",
    "num = int(input(\"Enter the number of rows: \"))\n",
    "for i in range(1,num+1):\n",
    "    print(\"  \"*(num - i) + \"* \" *i) # note we used double space (num-i) times "
   ]
  },
  {
   "cell_type": "code",
   "execution_count": 52,
   "id": "9e137c7f",
   "metadata": {},
   "outputs": [
    {
     "name": "stdout",
     "output_type": "stream",
     "text": [
      "Enter the number of rows: 5\n",
      "    * \n",
      "   * * \n",
      "  * * * \n",
      " * * * * \n",
      "* * * * * \n"
     ]
    }
   ],
   "source": [
    "## Triangle shape\n",
    "\n",
    "# without nested for loop \n",
    "\n",
    "num = int(input(\"Enter the number of rows: \"))\n",
    "for i in range(1,num+1):\n",
    "    print(\" \"*(num - i) + \"* \" *i)"
   ]
  },
  {
   "cell_type": "code",
   "execution_count": 53,
   "id": "6444ce4a",
   "metadata": {},
   "outputs": [
    {
     "name": "stdout",
     "output_type": "stream",
     "text": [
      "Enter the number of rows: 5\n",
      "    * \n",
      "   * * \n",
      "  * * * \n",
      " * * * * \n",
      "* * * * * \n",
      "* * * * * \n",
      " * * * * \n",
      "  * * * \n",
      "   * * \n",
      "    * \n"
     ]
    }
   ],
   "source": [
    "### for diamond forms\n",
    "\n",
    "# without nested for loop \n",
    "\n",
    "num = int(input(\"Enter the number of rows: \"))\n",
    "\n",
    "for i in range(1,num+1):\n",
    "    print(\" \"*(num - i) + \"* \" *i) ## this one is upper part of diamond shape\n",
    "\n",
    "for i in range(num, 0, -1):\n",
    "    print(\" \"*(num - i) + \"* \" *i) # Lower part of the diamond shape"
   ]
  },
  {
   "cell_type": "code",
   "execution_count": 55,
   "id": "a625f613",
   "metadata": {},
   "outputs": [
    {
     "name": "stdout",
     "output_type": "stream",
     "text": [
      "Enter the number of rows: 5\n",
      "    * \n",
      "   * * \n",
      "  * * * \n",
      " * * * * \n",
      "* * * * * \n",
      " * * * * \n",
      "  * * * \n",
      "   * * \n",
      "    * \n"
     ]
    }
   ],
   "source": [
    "### for diamond forms\n",
    "\n",
    "# without nested for loop \n",
    "\n",
    "num = int(input(\"Enter the number of rows: \"))\n",
    "\n",
    "for i in range(1,num+1):\n",
    "    print(\" \"*(num - i) + \"* \" *i) ## this one is upper part of diamond shape\n",
    "\n",
    "for i in range(num-1, 0, -1): # to reduce extra row \n",
    "    print(\" \"*(num - i) + \"* \" *i) # Lower part of the diamond shape\n",
    "    "
   ]
  },
  {
   "cell_type": "code",
   "execution_count": 57,
   "id": "7b59fb5c",
   "metadata": {},
   "outputs": [
    {
     "name": "stdout",
     "output_type": "stream",
     "text": [
      "Enter the number of rows: 5\n",
      "\n",
      "* * * * * \n",
      " * * * * \n",
      "  * * * \n",
      "   * * \n",
      "    * \n"
     ]
    }
   ],
   "source": [
    "### triangle shape\n",
    "num = int(input(\"Enter the number of rows: \"))\n",
    "print()\n",
    "for i in range(num, 0, -1): \n",
    "    print(\" \"*(num - i) + \"* \" *i)"
   ]
  },
  {
   "cell_type": "code",
   "execution_count": 58,
   "id": "d7c1597b",
   "metadata": {},
   "outputs": [
    {
     "name": "stdout",
     "output_type": "stream",
     "text": [
      "Enter the number of rows: 5\n",
      "\n",
      "* * * * * \n",
      "  * * * * \n",
      "    * * * \n",
      "      * * \n",
      "        * \n"
     ]
    }
   ],
   "source": [
    "### triangle shape\n",
    "num = int(input(\"Enter the number of rows: \"))\n",
    "print()\n",
    "for i in range(num, 0, -1): \n",
    "    print(\"  \"*(num - i) + \"* \" *i) # used double space with (num-1)"
   ]
  },
  {
   "cell_type": "code",
   "execution_count": 59,
   "id": "c8aa609a",
   "metadata": {},
   "outputs": [
    {
     "name": "stdout",
     "output_type": "stream",
     "text": [
      "Enter the number of rows: 5\n",
      "\n",
      "* * * * * \n",
      "* * * * \n",
      "* * * \n",
      "* * \n",
      "* \n"
     ]
    }
   ],
   "source": [
    "### triangle shape\n",
    "num = int(input(\"Enter the number of rows: \"))\n",
    "print()\n",
    "for i in range(num, 0, -1): \n",
    "    print( \"* \" *i)"
   ]
  },
  {
   "cell_type": "code",
   "execution_count": 60,
   "id": "e02c575f",
   "metadata": {},
   "outputs": [
    {
     "name": "stdout",
     "output_type": "stream",
     "text": [
      "Enter the number of rows: 5\n",
      "* \n",
      "* * \n",
      "* * * \n",
      "* * * * \n",
      "* * * * * \n",
      "* * * * * \n",
      "* * * * \n",
      "* * * \n",
      "* * \n",
      "* \n"
     ]
    }
   ],
   "source": [
    "# Arrow pattern \n",
    "num = int(input(\"Enter the number of rows: \"))\n",
    "\n",
    "for i in range(1,num+1):\n",
    "    print(\"* \" *i) ## this one is upper part of arrow shape\n",
    "\n",
    "for i in range(num, 0, -1):\n",
    "    print(\"* \" *i) # Lower part of the arrow shape"
   ]
  },
  {
   "cell_type": "code",
   "execution_count": 62,
   "id": "09713b8f",
   "metadata": {},
   "outputs": [
    {
     "name": "stdout",
     "output_type": "stream",
     "text": [
      "Enter the number of rows: 5\n",
      "* \n",
      "* * \n",
      "* * * \n",
      "* * * * \n",
      "* * * * * \n",
      "* * * * \n",
      "* * * \n",
      "* * \n",
      "* \n"
     ]
    }
   ],
   "source": [
    "# Arrow pattern \n",
    "num = int(input(\"Enter the number of rows: \"))\n",
    "\n",
    "for i in range(1,num+1):\n",
    "    print(\"* \" *i) ## this one is upper part of arrow shape\n",
    "\n",
    "for i in range(num-1, 0, -1): # to reduce extra column\n",
    "    print(\"* \" *i) # Lower part of the arrow shape"
   ]
  },
  {
   "cell_type": "markdown",
   "id": "02699330",
   "metadata": {},
   "source": [
    "#### Printing the Numbers in Pyramid shapes"
   ]
  },
  {
   "cell_type": "code",
   "execution_count": 65,
   "id": "3708da64",
   "metadata": {},
   "outputs": [
    {
     "name": "stdout",
     "output_type": "stream",
     "text": [
      "Enter the number of rows: 5\n",
      "    1\n",
      "   212\n",
      "  32123\n",
      " 4321234\n",
      "543212345\n"
     ]
    }
   ],
   "source": [
    "num = int(input(\"Enter the number of rows: \"))\n",
    "\n",
    "for i in range(1, num+1):\n",
    "    for j in range(1, num-i+1):\n",
    "        print(\" \", end=\"\")\n",
    "    for j in range(i, 0, -1):\n",
    "        print(j, end=\"\")\n",
    "    for j in range(2, i+1):\n",
    "        print(j, end= \"\")\n",
    "    print()"
   ]
  },
  {
   "cell_type": "markdown",
   "id": "52423b5c",
   "metadata": {},
   "source": [
    "#### Print Number in Square Shape "
   ]
  },
  {
   "cell_type": "code",
   "execution_count": 67,
   "id": "d4a4eb7b",
   "metadata": {},
   "outputs": [
    {
     "name": "stdout",
     "output_type": "stream",
     "text": [
      "Enter the number: 5\n",
      "[0, 0, 0, 0, 0]\n"
     ]
    }
   ],
   "source": [
    "num = int(input(\"Enter the number: \"))\n",
    "\n",
    "n_list = [0 for x in range(num)]\n",
    "print(n_list)"
   ]
  },
  {
   "cell_type": "code",
   "execution_count": 69,
   "id": "6fa0d859",
   "metadata": {},
   "outputs": [
    {
     "name": "stdout",
     "output_type": "stream",
     "text": [
      "Enter the number: 5\n",
      "[[0, 0, 0, 0, 0], [0, 0, 0, 0, 0], [0, 0, 0, 0, 0], [0, 0, 0, 0, 0], [0, 0, 0, 0, 0]]\n"
     ]
    }
   ],
   "source": [
    "num = int(input(\"Enter the number: \"))\n",
    "\n",
    "n_list = [[0 for x in range(num)] for y in range(num)]\n",
    "print(n_list)"
   ]
  },
  {
   "cell_type": "code",
   "execution_count": 70,
   "id": "5ab80e88",
   "metadata": {},
   "outputs": [
    {
     "name": "stdout",
     "output_type": "stream",
     "text": [
      "Enter the number: 5\n",
      "0\t0\t0\t0\t0\t\n",
      "0\t0\t0\t0\t0\t\n",
      "0\t0\t0\t0\t0\t\n",
      "0\t0\t0\t0\t0\t\n",
      "0\t0\t0\t0\t0\t\n"
     ]
    }
   ],
   "source": [
    "num = int(input(\"Enter the number: \"))\n",
    "\n",
    "n_list = [[0 for x in range(num)] for y in range(num)] # making this as matrix \n",
    "for i in range(num):\n",
    "    for j in range(num):\n",
    "        print(n_list[i][j], end = \"\\t\") # we want tab after printing one element\n",
    "    print()"
   ]
  },
  {
   "cell_type": "code",
   "execution_count": 77,
   "id": "77a8f88d",
   "metadata": {},
   "outputs": [
    {
     "name": "stdout",
     "output_type": "stream",
     "text": [
      "Enter the number: 10\n",
      "1\t2\t3\t4\t5\t6\t7\t8\t9\t10\t\n",
      "36\t37\t38\t39\t40\t41\t42\t43\t44\t11\t\n",
      "35\t64\t65\t66\t67\t68\t69\t70\t45\t12\t\n",
      "34\t63\t84\t85\t86\t87\t88\t71\t46\t13\t\n",
      "33\t62\t83\t96\t97\t98\t89\t72\t47\t14\t\n",
      "32\t61\t82\t95\t100\t99\t90\t73\t48\t15\t\n",
      "31\t60\t81\t94\t93\t92\t91\t74\t49\t16\t\n",
      "30\t59\t80\t79\t78\t77\t76\t75\t50\t17\t\n",
      "29\t58\t57\t56\t55\t54\t53\t52\t51\t18\t\n",
      "28\t27\t26\t25\t24\t23\t22\t21\t20\t19\t\n"
     ]
    }
   ],
   "source": [
    "# now we need to insert values in list\n",
    "\n",
    "num = int(input(\"Enter the number: \"))\n",
    "\n",
    "n_list = [[0 for x in range(num)] for y in range(num)] # making this as matrix \n",
    "\n",
    "n = 1\n",
    "low = 0\n",
    "high = num - 1\n",
    "count = int((num+1)/2)            # converted int to avoid fraction value\n",
    "for i in range(count):\n",
    "    \n",
    "    for j in range(low, high+1):\n",
    "        n_list[i][j]= n\n",
    "        n= n+1\n",
    "    for j in range(low+1, high+1):\n",
    "        n_list[j][high]=n\n",
    "        n = n+1\n",
    "    for j in range(high-1, low-1,-1):  # index is decreasing \n",
    "        n_list[high][j] = n\n",
    "        n = n+1\n",
    "    for j in range(high-1, low, -1):\n",
    "        n_list[j][low] = n\n",
    "        n = n+1\n",
    "    # to inside square we need to increment low and decrement in high    \n",
    "    low = low + 1\n",
    "    high = high - 1 \n",
    "\n",
    "\n",
    "for i in range(num):\n",
    "    for j in range(num):\n",
    "        print(n_list[i][j], end = \"\\t\") # we want tab after printing one element\n",
    "    print()"
   ]
  },
  {
   "cell_type": "code",
   "execution_count": null,
   "id": "9e1379ef",
   "metadata": {},
   "outputs": [],
   "source": []
  }
 ],
 "metadata": {
  "kernelspec": {
   "display_name": "Python 3 (ipykernel)",
   "language": "python",
   "name": "python3"
  },
  "language_info": {
   "codemirror_mode": {
    "name": "ipython",
    "version": 3
   },
   "file_extension": ".py",
   "mimetype": "text/x-python",
   "name": "python",
   "nbconvert_exporter": "python",
   "pygments_lexer": "ipython3",
   "version": "3.9.7"
  }
 },
 "nbformat": 4,
 "nbformat_minor": 5
}
