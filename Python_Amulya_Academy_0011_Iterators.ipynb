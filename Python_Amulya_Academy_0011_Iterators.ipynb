{
 "cells": [
  {
   "cell_type": "markdown",
   "id": "77290be0",
   "metadata": {},
   "source": [
    "### Iterators\n",
    "\n",
    "process of travelling from one element to another is called as iteration."
   ]
  },
  {
   "cell_type": "code",
   "execution_count": 1,
   "id": "112c4eb7",
   "metadata": {},
   "outputs": [
    {
     "name": "stdout",
     "output_type": "stream",
     "text": [
      "5\n",
      "1.2\n",
      "hello\n"
     ]
    }
   ],
   "source": [
    "# but let's talk something for loop\n",
    "\n",
    "list1 = [5,1.2, \"hello\"]\n",
    "\n",
    "for i in list1:\n",
    "    print(i)"
   ]
  },
  {
   "cell_type": "markdown",
   "id": "487d49b5",
   "metadata": {},
   "source": [
    "by using for loop we can traverse through list, tuple, dictionary, and sets but without for loop can travel through indexing means only in tuple and the list.\n"
   ]
  },
  {
   "cell_type": "code",
   "execution_count": 2,
   "id": "5df9e16a",
   "metadata": {},
   "outputs": [
    {
     "name": "stdout",
     "output_type": "stream",
     "text": [
      "apple\n",
      "orange\n",
      "grapes\n"
     ]
    }
   ],
   "source": [
    "# without for loop \n",
    "\n",
    "fruits = [\"apple\", \"orange\", \"grapes\"]\n",
    "i = 0\n",
    "while i<len(fruits):\n",
    "    print(fruits[i])\n",
    "    i = i +1"
   ]
  },
  {
   "cell_type": "code",
   "execution_count": 3,
   "id": "41c59646",
   "metadata": {},
   "outputs": [
    {
     "ename": "TypeError",
     "evalue": "'set' object is not subscriptable",
     "output_type": "error",
     "traceback": [
      "\u001b[1;31m---------------------------------------------------------------------------\u001b[0m",
      "\u001b[1;31mTypeError\u001b[0m                                 Traceback (most recent call last)",
      "Input \u001b[1;32mIn [3]\u001b[0m, in \u001b[0;36m<cell line: 5>\u001b[1;34m()\u001b[0m\n\u001b[0;32m      4\u001b[0m i \u001b[38;5;241m=\u001b[39m \u001b[38;5;241m0\u001b[39m\n\u001b[0;32m      5\u001b[0m \u001b[38;5;28;01mwhile\u001b[39;00m i\u001b[38;5;241m<\u001b[39m\u001b[38;5;28mlen\u001b[39m(fruits):\n\u001b[1;32m----> 6\u001b[0m     \u001b[38;5;28mprint\u001b[39m(\u001b[43mfruits\u001b[49m\u001b[43m[\u001b[49m\u001b[43mi\u001b[49m\u001b[43m]\u001b[49m)\n\u001b[0;32m      7\u001b[0m     i \u001b[38;5;241m=\u001b[39m i \u001b[38;5;241m+\u001b[39m\u001b[38;5;241m1\u001b[39m\n",
      "\u001b[1;31mTypeError\u001b[0m: 'set' object is not subscriptable"
     ]
    }
   ],
   "source": [
    "# lets try with set \n",
    "\n",
    "fruits = {\"apple\", \"orange\", \"grapes\"}\n",
    "i = 0\n",
    "while i<len(fruits):\n",
    "    print(fruits[i])\n",
    "    i = i +1"
   ]
  },
  {
   "cell_type": "markdown",
   "id": "f18eed20",
   "metadata": {},
   "source": [
    "as we had already discussed all these that set and dictionary don't have indexing"
   ]
  },
  {
   "cell_type": "markdown",
   "id": "78e9fbc8",
   "metadata": {},
   "source": [
    "#### Iterator Protocalls \n",
    "\n",
    "it is a way of working iterator and iterables.\n",
    "    \n",
    "*  **Iterable** -- everything we can looop over is called Itrables e.g. above code list1 is itrable.\n",
    "\n",
    "*  **Itrators** -- Iterators have only one work that is to give the next element present in the iterables.\n",
    "\n",
    "for loop works on Iterator Protocalls.\n"
   ]
  },
  {
   "cell_type": "code",
   "execution_count": 4,
   "id": "7039c4f0",
   "metadata": {},
   "outputs": [
    {
     "name": "stdout",
     "output_type": "stream",
     "text": [
      "5\n",
      "1.2\n",
      "hello\n"
     ]
    }
   ],
   "source": [
    "list1 = [5,1.2, \"hello\"]\n",
    "\n",
    "for i in list1:\n",
    "    print(i)"
   ]
  },
  {
   "cell_type": "code",
   "execution_count": 5,
   "id": "6ea20f3d",
   "metadata": {},
   "outputs": [
    {
     "data": {
      "text/plain": [
       "<list_iterator at 0x243209bcaf0>"
      ]
     },
     "execution_count": 5,
     "metadata": {},
     "output_type": "execute_result"
    }
   ],
   "source": [
    "# built-in function 'iter'\n",
    "list1 = [5,1.2, \"hello\"]\n",
    "\n",
    "iter(list1)"
   ]
  },
  {
   "cell_type": "code",
   "execution_count": 6,
   "id": "361d6ea7",
   "metadata": {},
   "outputs": [],
   "source": [
    "list1 = [5,1.2, \"hello\"]\n",
    "iterator = iter(list1)\n"
   ]
  },
  {
   "cell_type": "code",
   "execution_count": 7,
   "id": "700cc1d1",
   "metadata": {},
   "outputs": [
    {
     "data": {
      "text/plain": [
       "5"
      ]
     },
     "execution_count": 7,
     "metadata": {},
     "output_type": "execute_result"
    }
   ],
   "source": [
    "next(iterator)"
   ]
  },
  {
   "cell_type": "code",
   "execution_count": 8,
   "id": "23cce797",
   "metadata": {},
   "outputs": [
    {
     "data": {
      "text/plain": [
       "1.2"
      ]
     },
     "execution_count": 8,
     "metadata": {},
     "output_type": "execute_result"
    }
   ],
   "source": [
    "next(iterator)"
   ]
  },
  {
   "cell_type": "code",
   "execution_count": 9,
   "id": "7ca11d95",
   "metadata": {},
   "outputs": [
    {
     "data": {
      "text/plain": [
       "'hello'"
      ]
     },
     "execution_count": 9,
     "metadata": {},
     "output_type": "execute_result"
    }
   ],
   "source": [
    "next(iterator)"
   ]
  },
  {
   "cell_type": "code",
   "execution_count": 10,
   "id": "0e69704f",
   "metadata": {},
   "outputs": [
    {
     "ename": "StopIteration",
     "evalue": "",
     "output_type": "error",
     "traceback": [
      "\u001b[1;31m---------------------------------------------------------------------------\u001b[0m",
      "\u001b[1;31mStopIteration\u001b[0m                             Traceback (most recent call last)",
      "Input \u001b[1;32mIn [10]\u001b[0m, in \u001b[0;36m<cell line: 1>\u001b[1;34m()\u001b[0m\n\u001b[1;32m----> 1\u001b[0m \u001b[38;5;28;43mnext\u001b[39;49m\u001b[43m(\u001b[49m\u001b[43miterator\u001b[49m\u001b[43m)\u001b[49m\n",
      "\u001b[1;31mStopIteration\u001b[0m: "
     ]
    }
   ],
   "source": [
    "next(iterator)"
   ]
  },
  {
   "cell_type": "markdown",
   "id": "b5a75c61",
   "metadata": {},
   "source": [
    "As we can see when elements in the list1 over then it returns StopIteration error and for loop work on the same process"
   ]
  },
  {
   "cell_type": "code",
   "execution_count": 11,
   "id": "6b5d0525",
   "metadata": {},
   "outputs": [
    {
     "name": "stdout",
     "output_type": "stream",
     "text": [
      "red\n",
      "orange\n"
     ]
    }
   ],
   "source": [
    "color = [\"red\", \"orange\"]\n",
    "for i in color:\n",
    "    print(i)"
   ]
  },
  {
   "cell_type": "code",
   "execution_count": 12,
   "id": "3bce4be9",
   "metadata": {},
   "outputs": [
    {
     "name": "stdout",
     "output_type": "stream",
     "text": [
      "red\n",
      "orange\n"
     ]
    }
   ],
   "source": [
    "# now this time with iter function\n",
    "\n",
    "def print_color(iterable):\n",
    "    iterator = iter(iterable)\n",
    "    while True:\n",
    "        try:\n",
    "            item = next(iterator)\n",
    "        except StopIteration:\n",
    "            break\n",
    "        else:\n",
    "            print(item)\n",
    "            \n",
    "# call function\n",
    "print_color([\"red\", \"orange\"])"
   ]
  },
  {
   "cell_type": "markdown",
   "id": "9c2a0661",
   "metadata": {},
   "source": [
    "### Generator Function\n",
    "\n",
    "generator function is a function which returns `generator-iterator` with the help of `yeild` keyword."
   ]
  },
  {
   "cell_type": "code",
   "execution_count": 13,
   "id": "c6a04afb",
   "metadata": {},
   "outputs": [],
   "source": [
    "#\n",
    "\n",
    "def fib(mymax):\n",
    "    a,b = 0,1\n",
    "    while True :\n",
    "        c = a + b\n",
    "        if c < mymax:\n",
    "            print(\"Before yeild keyword\")\n",
    "            yield c\n",
    "            print(\"After yield keyword\")\n",
    "            a = b\n",
    "            b = c\n",
    "            \n",
    "        else:\n",
    "            break"
   ]
  },
  {
   "cell_type": "code",
   "execution_count": 15,
   "id": "b366cf04",
   "metadata": {},
   "outputs": [
    {
     "data": {
      "text/plain": [
       "<generator object fib at 0x000002432249A740>"
      ]
     },
     "execution_count": 15,
     "metadata": {},
     "output_type": "execute_result"
    }
   ],
   "source": [
    "# we have make a function using 'yield'\n",
    "\n",
    "# now we create a generator object\n",
    "\n",
    "generator = fib(10) # called the function\n",
    "# let's check generator objects\n",
    "generator\n"
   ]
  },
  {
   "cell_type": "code",
   "execution_count": 16,
   "id": "4015a552",
   "metadata": {},
   "outputs": [
    {
     "name": "stdout",
     "output_type": "stream",
     "text": [
      "Before yeild keyword\n"
     ]
    },
    {
     "data": {
      "text/plain": [
       "1"
      ]
     },
     "execution_count": 16,
     "metadata": {},
     "output_type": "execute_result"
    }
   ],
   "source": [
    "# now get the value from this 'generator-iterator' we will use 'next' function\n",
    "next(generator)"
   ]
  },
  {
   "cell_type": "markdown",
   "id": "fa7afdab",
   "metadata": {},
   "source": [
    "Here we got of yield 'c' and 'print' statement before the yield keyword in next iteration we will get print statement after yield "
   ]
  },
  {
   "cell_type": "code",
   "execution_count": 17,
   "id": "0d8cf349",
   "metadata": {},
   "outputs": [
    {
     "name": "stdout",
     "output_type": "stream",
     "text": [
      "After yield keyword\n",
      "Before yeild keyword\n"
     ]
    },
    {
     "data": {
      "text/plain": [
       "2"
      ]
     },
     "execution_count": 17,
     "metadata": {},
     "output_type": "execute_result"
    }
   ],
   "source": [
    "next(generator)"
   ]
  },
  {
   "cell_type": "code",
   "execution_count": 18,
   "id": "f0bc83a6",
   "metadata": {},
   "outputs": [
    {
     "name": "stdout",
     "output_type": "stream",
     "text": [
      "After yield keyword\n",
      "Before yeild keyword\n"
     ]
    },
    {
     "data": {
      "text/plain": [
       "3"
      ]
     },
     "execution_count": 18,
     "metadata": {},
     "output_type": "execute_result"
    }
   ],
   "source": [
    "next(generator)"
   ]
  },
  {
   "cell_type": "code",
   "execution_count": 19,
   "id": "493810b2",
   "metadata": {},
   "outputs": [
    {
     "name": "stdout",
     "output_type": "stream",
     "text": [
      "After yield keyword\n",
      "Before yeild keyword\n"
     ]
    },
    {
     "data": {
      "text/plain": [
       "5"
      ]
     },
     "execution_count": 19,
     "metadata": {},
     "output_type": "execute_result"
    }
   ],
   "source": [
    "next(generator)"
   ]
  },
  {
   "cell_type": "code",
   "execution_count": 20,
   "id": "68aa988e",
   "metadata": {},
   "outputs": [
    {
     "name": "stdout",
     "output_type": "stream",
     "text": [
      "After yield keyword\n",
      "Before yeild keyword\n"
     ]
    },
    {
     "data": {
      "text/plain": [
       "8"
      ]
     },
     "execution_count": 20,
     "metadata": {},
     "output_type": "execute_result"
    }
   ],
   "source": [
    "next(generator)"
   ]
  },
  {
   "cell_type": "code",
   "execution_count": 21,
   "id": "9c372043",
   "metadata": {},
   "outputs": [
    {
     "name": "stdout",
     "output_type": "stream",
     "text": [
      "After yield keyword\n"
     ]
    },
    {
     "ename": "StopIteration",
     "evalue": "",
     "output_type": "error",
     "traceback": [
      "\u001b[1;31m---------------------------------------------------------------------------\u001b[0m",
      "\u001b[1;31mStopIteration\u001b[0m                             Traceback (most recent call last)",
      "Input \u001b[1;32mIn [21]\u001b[0m, in \u001b[0;36m<cell line: 1>\u001b[1;34m()\u001b[0m\n\u001b[1;32m----> 1\u001b[0m \u001b[38;5;28;43mnext\u001b[39;49m\u001b[43m(\u001b[49m\u001b[43mgenerator\u001b[49m\u001b[43m)\u001b[49m\n",
      "\u001b[1;31mStopIteration\u001b[0m: "
     ]
    }
   ],
   "source": [
    "next(generator)"
   ]
  },
  {
   "cell_type": "code",
   "execution_count": null,
   "id": "bb2f0d61",
   "metadata": {},
   "outputs": [],
   "source": []
  }
 ],
 "metadata": {
  "kernelspec": {
   "display_name": "Python 3 (ipykernel)",
   "language": "python",
   "name": "python3"
  },
  "language_info": {
   "codemirror_mode": {
    "name": "ipython",
    "version": 3
   },
   "file_extension": ".py",
   "mimetype": "text/x-python",
   "name": "python",
   "nbconvert_exporter": "python",
   "pygments_lexer": "ipython3",
   "version": "3.9.7"
  }
 },
 "nbformat": 4,
 "nbformat_minor": 5
}
