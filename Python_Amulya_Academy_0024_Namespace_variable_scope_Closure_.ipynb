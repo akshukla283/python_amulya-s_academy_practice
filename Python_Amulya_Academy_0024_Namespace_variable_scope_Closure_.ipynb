{
 "cells": [
  {
   "cell_type": "markdown",
   "id": "32a77ec4",
   "metadata": {},
   "source": [
    "#### What is Name in Python?\n",
    "\n",
    "\n",
    "If you have ever read `'The Zen of Python' (type import this in the Python interpreter)`, the last line states, Namespaces are one honking great idea -- let's do more of those! So what are these mysterious namespaces? Let us first look at what name is.\n",
    "\n",
    "`Name (also called identifier)` is simply a name given to objects. Everything in Python is an object. Name is a way to access the underlying object.\n",
    "\n",
    "For example, when we do the assignment `a = 2, 2 `is an object stored in memory and a is the name we associate it with. We can get the address (`in RAM`) of some object through the built-in function id(). Let's look at how to use it."
   ]
  },
  {
   "cell_type": "code",
   "execution_count": 1,
   "id": "087f0ea3",
   "metadata": {},
   "outputs": [],
   "source": [
    "x = 4"
   ]
  },
  {
   "cell_type": "code",
   "execution_count": 2,
   "id": "c4c473e7",
   "metadata": {},
   "outputs": [],
   "source": [
    "\n",
    "x = 5 \n",
    "# now by assigning we loss the value 4 we can't access the value 4 again using variable x\n",
    "# means when we re-name we may loss some data i.e. we can't access that data "
   ]
  },
  {
   "cell_type": "code",
   "execution_count": 3,
   "id": "190a826b",
   "metadata": {},
   "outputs": [],
   "source": [
    "x = 4\n",
    "y = 5\n",
    "\n",
    "# now we can use 4 and 5 aso by using x, y "
   ]
  },
  {
   "cell_type": "markdown",
   "id": "fd06348c",
   "metadata": {},
   "source": [
    "#### What is work of Namespace?\n",
    "we can make sure when we are writing code for 20 to 25 line and take care of that means whatever the name we used here are unique but what when we code a long program or also use some external imported module then it is difficult to manage name, another case like half of the code written by your colleague and rest is by you there may be chances of name confilct he has used different name and you have used different then it's difficult to search all name and maintain.\n",
    "\n",
    "therefore Namespace come into picture\n",
    "\n",
    "* Buit-in Namespace\n",
    "\n",
    "* Global Namespace\n",
    "\n",
    "* Local Namespace\n",
    "\n",
    "\n",
    "1.  `Local:` If you refer to x inside a function, then the interpreter first searches for it in the innermost scope that’s local to that function.\n",
    "\n",
    "2.  `Enclosing:` If x isn’t in the local scope but appears in a function that resides inside another function, then the interpreter searches in the enclosing function’s scope.\n",
    "\n",
    "3.  `Global:` If neither of the above searches is fruitful, then the interpreter looks in the global scope next.\n",
    "\n",
    "4.  `Built-in`: If it can’t find x anywhere else, then the interpreter tries the built-in scope.\n",
    "\n",
    "`This is the LEGB rule as it’s commonly called in Python literature (although the term doesn’t actually appear in the Python documentation). The interpreter searches for a name from the inside out, looking in the local, enclosing, global, and finally the built-in scope:`\n",
    "\n",
    "![](lebg.png)"
   ]
  },
  {
   "cell_type": "code",
   "execution_count": 5,
   "id": "355bad1c",
   "metadata": {},
   "outputs": [],
   "source": [
    "# restart kernel to avoid previous agigned values."
   ]
  },
  {
   "cell_type": "code",
   "execution_count": 6,
   "id": "59897fb2",
   "metadata": {},
   "outputs": [
    {
     "name": "stdout",
     "output_type": "stream",
     "text": [
      "4\n"
     ]
    }
   ],
   "source": [
    "def f1():\n",
    "    \n",
    "    x= 4\n",
    "    print(x)\n",
    "    \n",
    "f1()"
   ]
  },
  {
   "cell_type": "code",
   "execution_count": 7,
   "id": "3287fc53",
   "metadata": {},
   "outputs": [
    {
     "ename": "NameError",
     "evalue": "name 'x' is not defined",
     "output_type": "error",
     "traceback": [
      "\u001b[1;31m---------------------------------------------------------------------------\u001b[0m",
      "\u001b[1;31mNameError\u001b[0m                                 Traceback (most recent call last)",
      "Input \u001b[1;32mIn [7]\u001b[0m, in \u001b[0;36m<cell line: 1>\u001b[1;34m()\u001b[0m\n\u001b[1;32m----> 1\u001b[0m \u001b[38;5;28mprint\u001b[39m(\u001b[43mx\u001b[49m)\n",
      "\u001b[1;31mNameError\u001b[0m: name 'x' is not defined"
     ]
    }
   ],
   "source": [
    "\n",
    "print(x) # here we can see that we can't access the x out side function"
   ]
  },
  {
   "cell_type": "code",
   "execution_count": 8,
   "id": "94fc8a9a",
   "metadata": {},
   "outputs": [
    {
     "data": {
      "text/plain": [
       "['In',\n",
       " 'Out',\n",
       " '_',\n",
       " '_2',\n",
       " '__',\n",
       " '___',\n",
       " '__builtin__',\n",
       " '__builtins__',\n",
       " '__doc__',\n",
       " '__loader__',\n",
       " '__name__',\n",
       " '__package__',\n",
       " '__spec__',\n",
       " '_dh',\n",
       " '_i',\n",
       " '_i1',\n",
       " '_i2',\n",
       " '_i3',\n",
       " '_i4',\n",
       " '_i5',\n",
       " '_i6',\n",
       " '_i7',\n",
       " '_i8',\n",
       " '_ih',\n",
       " '_ii',\n",
       " '_iii',\n",
       " '_oh',\n",
       " 'exit',\n",
       " 'f1',\n",
       " 'get_ipython',\n",
       " 'quit']"
      ]
     },
     "execution_count": 8,
     "metadata": {},
     "output_type": "execute_result"
    }
   ],
   "source": [
    "dir()"
   ]
  },
  {
   "cell_type": "code",
   "execution_count": 4,
   "id": "c40562f0",
   "metadata": {},
   "outputs": [],
   "source": [
    "# it contain 'f1' function as welll\n",
    "\n"
   ]
  },
  {
   "cell_type": "code",
   "execution_count": 1,
   "id": "1237aa79",
   "metadata": {},
   "outputs": [
    {
     "name": "stdout",
     "output_type": "stream",
     "text": [
      "initially : ['In', 'Out', '_', '__', '___', '__builtin__', '__builtins__', '__doc__', '__loader__', '__name__', '__package__', '__spec__', '_dh', '_i', '_i1', '_ih', '_ii', '_iii', '_oh', 'exit', 'get_ipython', 'quit']\n",
      "\n",
      "outside the function:  ['In', 'Out', '_', '__', '___', '__builtin__', '__builtins__', '__doc__', '__loader__', '__name__', '__package__', '__spec__', '_dh', '_i', '_i1', '_ih', '_ii', '_iii', '_oh', 'exit', 'f2', 'get_ipython', 'num', 'quit']\n"
     ]
    }
   ],
   "source": [
    "print(\"initially :\", dir())\n",
    "\n",
    "num = 20\n",
    "def f2():\n",
    "    n= 10\n",
    "    print(\"inside the function \", dir())\n",
    "print()\n",
    "print(\"outside the function: \", dir())"
   ]
  },
  {
   "cell_type": "code",
   "execution_count": 3,
   "id": "db48c46b",
   "metadata": {},
   "outputs": [
    {
     "name": "stdout",
     "output_type": "stream",
     "text": [
      "initially : ['In', 'Out', '_', '__', '___', '__builtin__', '__builtins__', '__doc__', '__loader__', '__name__', '__package__', '__spec__', '_dh', '_i', '_i1', '_i2', '_i3', '_ih', '_ii', '_iii', '_oh', 'exit', 'f2', 'get_ipython', 'num', 'quit']\n",
      "\n",
      "\n",
      "inside the function  ['n']\n",
      "\n",
      "\n",
      "outside the function:  ['In', 'Out', '_', '__', '___', '__builtin__', '__builtins__', '__doc__', '__loader__', '__name__', '__package__', '__spec__', '_dh', '_i', '_i1', '_i2', '_i3', '_ih', '_ii', '_iii', '_oh', 'exit', 'f2', 'get_ipython', 'num', 'quit']\n"
     ]
    }
   ],
   "source": [
    "print(\"initially :\", dir())\n",
    "\n",
    "num = 20\n",
    "def f2():\n",
    "    n= 10\n",
    "    print()\n",
    "    print()\n",
    "    print(\"inside the function \", dir())\n",
    "\n",
    "f2()\n",
    "print()\n",
    "print()\n",
    "\n",
    "print(\"outside the function: \", dir())"
   ]
  },
  {
   "cell_type": "markdown",
   "id": "a090d9f9",
   "metadata": {},
   "source": [
    "As we can see inside function only 'n' because it has its own name and this is its name scope.\n",
    "and we can see 'n' is not available out side the funtion \n",
    "\n",
    "#### Namespace \n",
    "in python namespace is implemented as 'Key' and 'value' pair here 'key' is nothing just\n",
    "\n",
    "* `Key` : Name\n",
    "\n",
    "* `Value` : Object "
   ]
  },
  {
   "cell_type": "markdown",
   "id": "259aebf5",
   "metadata": {},
   "source": [
    "\n",
    "1.  **Local:**  If you refer to x inside a function, then the interpreter first searches for it in the innermost scope that’s local to that function.\n",
    "\n",
    "\n",
    "2.  **Enclosing:** Contain Names Defined inside any and all enclosed function. If x isn’t in the local scope but appears in a function that resides inside another function, then the interpreter searches in the enclosing function’s scope.\n",
    "\n",
    "\n",
    "3.  **Global:**  If neither of the above searches is fruitful, then the interpreter looks in the global scope next.\n",
    "\n",
    "\n",
    "4.  **Built-in** : If it can’t find x anywhere else, then the interpreter tries the built-in scope.\n",
    "\n",
    "`This is the LEGB rule as it’s commonly called in Python literature (although the term doesn’t actually appear in the Python documentation). The interpreter searches for a name from the inside out, looking in the local, enclosing, global, and finally the built-in scope:`\n",
    "\n",
    "![](lebg.png)"
   ]
  },
  {
   "cell_type": "code",
   "execution_count": null,
   "id": "68e9d8d6",
   "metadata": {},
   "outputs": [],
   "source": [
    "# restart kernel before run"
   ]
  },
  {
   "cell_type": "code",
   "execution_count": 2,
   "id": "7f45fa99",
   "metadata": {},
   "outputs": [
    {
     "name": "stdout",
     "output_type": "stream",
     "text": [
      "x: 4\n"
     ]
    }
   ],
   "source": [
    "def inner():\n",
    "    x = 4  # here x is local varable\n",
    "    print(\"x:\", x)\n",
    "\n",
    "inner()"
   ]
  },
  {
   "cell_type": "code",
   "execution_count": 3,
   "id": "6933a6e7",
   "metadata": {},
   "outputs": [
    {
     "ename": "NameError",
     "evalue": "name 'x' is not defined",
     "output_type": "error",
     "traceback": [
      "\u001b[1;31m---------------------------------------------------------------------------\u001b[0m",
      "\u001b[1;31mNameError\u001b[0m                                 Traceback (most recent call last)",
      "Input \u001b[1;32mIn [3]\u001b[0m, in \u001b[0;36m<cell line: 1>\u001b[1;34m()\u001b[0m\n\u001b[1;32m----> 1\u001b[0m \u001b[38;5;28mprint\u001b[39m(\u001b[43mx\u001b[49m)\n",
      "\u001b[1;31mNameError\u001b[0m: name 'x' is not defined"
     ]
    }
   ],
   "source": [
    "print(x)"
   ]
  },
  {
   "cell_type": "code",
   "execution_count": 4,
   "id": "953ec77a",
   "metadata": {},
   "outputs": [
    {
     "name": "stdout",
     "output_type": "stream",
     "text": [
      "x: 4\n",
      "inside the function y:  10\n"
     ]
    }
   ],
   "source": [
    "y = 10  # Globel varaible\n",
    "def inner():\n",
    "    x = 4  # here x is local varable\n",
    "    print(\"x:\", x)\n",
    "    print(\"inside the function y: \", y)\n",
    "\n",
    "inner()"
   ]
  },
  {
   "cell_type": "code",
   "execution_count": 7,
   "id": "b03736a3",
   "metadata": {},
   "outputs": [
    {
     "name": "stdout",
     "output_type": "stream",
     "text": [
      "Outside function y :  10\n",
      "inside x : 4\n",
      "inside the function y:  5\n"
     ]
    }
   ],
   "source": [
    "# restart kernel before run\n",
    "\n",
    "y = 10  \n",
    "def inner():\n",
    "    x = 4  \n",
    "    y = 5  # here we reassign y in local scope.\n",
    "    print(\"inside x :\", x)\n",
    "    print(\"inside the function y: \", y)\n",
    "\n",
    "print(\"Outside function y : \", y)\n",
    "inner()"
   ]
  },
  {
   "cell_type": "code",
   "execution_count": 11,
   "id": "77fe88d1",
   "metadata": {},
   "outputs": [
    {
     "name": "stdout",
     "output_type": "stream",
     "text": [
      "Outside function:  10\n"
     ]
    },
    {
     "ename": "UnboundLocalError",
     "evalue": "local variable 'y' referenced before assignment",
     "output_type": "error",
     "traceback": [
      "\u001b[1;31m---------------------------------------------------------------------------\u001b[0m",
      "\u001b[1;31mUnboundLocalError\u001b[0m                         Traceback (most recent call last)",
      "Input \u001b[1;32mIn [11]\u001b[0m, in \u001b[0;36m<cell line: 11>\u001b[1;34m()\u001b[0m\n\u001b[0;32m      8\u001b[0m     \u001b[38;5;28mprint\u001b[39m(\u001b[38;5;124m\"\u001b[39m\u001b[38;5;124minside the function y: \u001b[39m\u001b[38;5;124m\"\u001b[39m, y)\n\u001b[0;32m     10\u001b[0m \u001b[38;5;28mprint\u001b[39m(\u001b[38;5;124m\"\u001b[39m\u001b[38;5;124mOutside function: \u001b[39m\u001b[38;5;124m\"\u001b[39m, y)\n\u001b[1;32m---> 11\u001b[0m \u001b[43minner\u001b[49m\u001b[43m(\u001b[49m\u001b[43m)\u001b[49m\n",
      "Input \u001b[1;32mIn [11]\u001b[0m, in \u001b[0;36minner\u001b[1;34m()\u001b[0m\n\u001b[0;32m      4\u001b[0m \u001b[38;5;28;01mdef\u001b[39;00m \u001b[38;5;21minner\u001b[39m():\n\u001b[0;32m      5\u001b[0m     x \u001b[38;5;241m=\u001b[39m \u001b[38;5;241m4\u001b[39m  \n\u001b[1;32m----> 6\u001b[0m     y \u001b[38;5;241m=\u001b[39m \u001b[43my\u001b[49m \u001b[38;5;241m+\u001b[39m \u001b[38;5;241m1\u001b[39m  \u001b[38;5;66;03m# trying to modify global variable inside fuction\u001b[39;00m\n\u001b[0;32m      7\u001b[0m     \u001b[38;5;28mprint\u001b[39m(\u001b[38;5;124m\"\u001b[39m\u001b[38;5;124mx:\u001b[39m\u001b[38;5;124m\"\u001b[39m, x)\n\u001b[0;32m      8\u001b[0m     \u001b[38;5;28mprint\u001b[39m(\u001b[38;5;124m\"\u001b[39m\u001b[38;5;124minside the function y: \u001b[39m\u001b[38;5;124m\"\u001b[39m, y)\n",
      "\u001b[1;31mUnboundLocalError\u001b[0m: local variable 'y' referenced before assignment"
     ]
    }
   ],
   "source": [
    "# a global vairiable without passing as an argument\n",
    "# global variable can be access in local function and print that we can't modify. \n",
    "# without using \"global\" keyword \n",
    "y = 10  \n",
    "def inner():\n",
    "    x = 4  \n",
    "    y = y + 1  # trying to modify global variable inside fuction\n",
    "    print(\"x:\", x)\n",
    "    print(\"inside the function y: \", y)\n",
    "\n",
    "print(\"Outside function: \", y)\n",
    "inner()\n",
    "\n",
    "# mean can't modify global variable inside the function, for this use need to use a keyword \"global\""
   ]
  },
  {
   "cell_type": "code",
   "execution_count": 14,
   "id": "da9a6786",
   "metadata": {},
   "outputs": [
    {
     "name": "stdout",
     "output_type": "stream",
     "text": [
      "Outside function:  10\n",
      "x: 4\n",
      "inside the function y:  11\n"
     ]
    }
   ],
   "source": [
    "# but when we pass it as an argument then we can easily modify this.\n",
    "\n",
    "y = 10  \n",
    "def inner(y):\n",
    "    x = 4  \n",
    "    y = y + 1  # trying to modify global variable inside fuction\n",
    "    print(\"x:\", x)\n",
    "    print(\"inside the function y: \", y)\n",
    "\n",
    "print(\"Outside function: \", y)\n",
    "inner(y)"
   ]
  },
  {
   "cell_type": "code",
   "execution_count": 12,
   "id": "a1283ec9",
   "metadata": {},
   "outputs": [
    {
     "name": "stdout",
     "output_type": "stream",
     "text": [
      "x: 4\n",
      "inside the function y:  11\n",
      "Outside function:  11\n"
     ]
    }
   ],
   "source": [
    "\n",
    "y = 10  \n",
    "def inner():\n",
    "    x = 4  \n",
    "    global y\n",
    "    y = y + 1  # trying to modify global variable inside fuction\n",
    "    print(\"x:\", x)\n",
    "    print(\"inside the function y: \", y)\n",
    "\n",
    "\n",
    "inner()\n",
    "print(\"Outside function: \", y) #here we taken print after function call means we will get modified value "
   ]
  },
  {
   "cell_type": "code",
   "execution_count": 2,
   "id": "020943d7",
   "metadata": {},
   "outputs": [
    {
     "name": "stdout",
     "output_type": "stream",
     "text": [
      "x: 4\n",
      "y in the inner function y: 10\n",
      "z: 4\n"
     ]
    }
   ],
   "source": [
    "\n",
    "\n",
    "y = 10\n",
    "\n",
    "def outer():  #......enclosing funtion\n",
    "    \n",
    "    z = 4   # here z is enclosed variable because it is in enclosing scope\n",
    "    # we can't access z outside the outer() function \n",
    "    def inner(): #.... Nested function\n",
    "        x = 4  # here x is local variable because it is in local scope\n",
    "        \n",
    "        print(\"x:\", x)\n",
    "        print(\"y in the inner function y:\", y)\n",
    "    inner()\n",
    "    print(\"z:\", z)\n",
    "    \n",
    "outer()   #  this is global scope"
   ]
  },
  {
   "cell_type": "code",
   "execution_count": 1,
   "id": "eaa3552a",
   "metadata": {},
   "outputs": [
    {
     "name": "stdout",
     "output_type": "stream",
     "text": [
      "x: 4\n",
      "z in the inner function : 4\n",
      "z: 4\n"
     ]
    }
   ],
   "source": [
    "\n",
    "y = 10\n",
    "\n",
    "def outer():  #......enclosing funtion\n",
    "    \n",
    "    z = 4   \n",
    "    \n",
    "    def inner(): #.... Nested function\n",
    "        x = 4  \n",
    "        \n",
    "        print(\"x:\", x)\n",
    "        print(\"z in the inner function :\", z) # we can access z inside the inner function \n",
    "    inner()\n",
    "    print(\"z:\", z)\n",
    "    \n",
    "outer()   #  this is global scope"
   ]
  },
  {
   "cell_type": "code",
   "execution_count": 15,
   "id": "f6f0af73",
   "metadata": {},
   "outputs": [
    {
     "name": "stdout",
     "output_type": "stream",
     "text": [
      "x: 4\n",
      "z in the inner function : 4\n",
      "z: 4\n"
     ]
    },
    {
     "ename": "NameError",
     "evalue": "name 'z' is not defined",
     "output_type": "error",
     "traceback": [
      "\u001b[1;31m---------------------------------------------------------------------------\u001b[0m",
      "\u001b[1;31mNameError\u001b[0m                                 Traceback (most recent call last)",
      "Input \u001b[1;32mIn [15]\u001b[0m, in \u001b[0;36m<cell line: 17>\u001b[1;34m()\u001b[0m\n\u001b[0;32m     13\u001b[0m     \u001b[38;5;28mprint\u001b[39m(\u001b[38;5;124m\"\u001b[39m\u001b[38;5;124mz:\u001b[39m\u001b[38;5;124m\"\u001b[39m, z)\n\u001b[0;32m     15\u001b[0m outer()   \u001b[38;5;66;03m#  this is global scope\u001b[39;00m\n\u001b[1;32m---> 17\u001b[0m \u001b[38;5;28mprint\u001b[39m(\u001b[38;5;124m\"\u001b[39m\u001b[38;5;124mz:\u001b[39m\u001b[38;5;124m\"\u001b[39m, \u001b[43mz\u001b[49m)\n",
      "\u001b[1;31mNameError\u001b[0m: name 'z' is not defined"
     ]
    }
   ],
   "source": [
    "y = 10\n",
    "\n",
    "def outer():  #......enclosing funtion\n",
    "    \n",
    "    z = 4   \n",
    "    \n",
    "    def inner(): #.... Nested function\n",
    "        x = 4  \n",
    "        \n",
    "        print(\"x:\", x)\n",
    "        print(\"z in the inner function :\", z) # we can access z inside the inner function \n",
    "    inner()\n",
    "    print(\"z:\", z)\n",
    "    \n",
    "outer()   #  this is global scope\n",
    "\n",
    "print(\"z:\", z) # here we want access z outside the outer() function"
   ]
  },
  {
   "cell_type": "code",
   "execution_count": 16,
   "id": "f71d5759",
   "metadata": {},
   "outputs": [
    {
     "ename": "UnboundLocalError",
     "evalue": "local variable 'z' referenced before assignment",
     "output_type": "error",
     "traceback": [
      "\u001b[1;31m---------------------------------------------------------------------------\u001b[0m",
      "\u001b[1;31mUnboundLocalError\u001b[0m                         Traceback (most recent call last)",
      "Input \u001b[1;32mIn [16]\u001b[0m, in \u001b[0;36m<cell line: 15>\u001b[1;34m()\u001b[0m\n\u001b[0;32m     12\u001b[0m     inner()\n\u001b[0;32m     13\u001b[0m     \u001b[38;5;28mprint\u001b[39m(\u001b[38;5;124m\"\u001b[39m\u001b[38;5;124mz:\u001b[39m\u001b[38;5;124m\"\u001b[39m, z)\n\u001b[1;32m---> 15\u001b[0m \u001b[43mouter\u001b[49m\u001b[43m(\u001b[49m\u001b[43m)\u001b[49m\n",
      "Input \u001b[1;32mIn [16]\u001b[0m, in \u001b[0;36mouter\u001b[1;34m()\u001b[0m\n\u001b[0;32m     10\u001b[0m     \u001b[38;5;28mprint\u001b[39m(\u001b[38;5;124m\"\u001b[39m\u001b[38;5;124mx:\u001b[39m\u001b[38;5;124m\"\u001b[39m, x)\n\u001b[0;32m     11\u001b[0m     \u001b[38;5;28mprint\u001b[39m(\u001b[38;5;124m\"\u001b[39m\u001b[38;5;124mz in the inner function :\u001b[39m\u001b[38;5;124m\"\u001b[39m, z) \u001b[38;5;66;03m# we can access z inside the inner function \u001b[39;00m\n\u001b[1;32m---> 12\u001b[0m \u001b[43minner\u001b[49m\u001b[43m(\u001b[49m\u001b[43m)\u001b[49m\n\u001b[0;32m     13\u001b[0m \u001b[38;5;28mprint\u001b[39m(\u001b[38;5;124m\"\u001b[39m\u001b[38;5;124mz:\u001b[39m\u001b[38;5;124m\"\u001b[39m, z)\n",
      "Input \u001b[1;32mIn [16]\u001b[0m, in \u001b[0;36mouter.<locals>.inner\u001b[1;34m()\u001b[0m\n\u001b[0;32m      7\u001b[0m \u001b[38;5;28;01mdef\u001b[39;00m \u001b[38;5;21minner\u001b[39m(): \u001b[38;5;66;03m#.... Nested function\u001b[39;00m\n\u001b[0;32m      8\u001b[0m     x \u001b[38;5;241m=\u001b[39m \u001b[38;5;241m4\u001b[39m  \n\u001b[1;32m----> 9\u001b[0m     z \u001b[38;5;241m=\u001b[39m \u001b[43mz\u001b[49m \u001b[38;5;241m+\u001b[39m \u001b[38;5;241m1\u001b[39m \u001b[38;5;66;03m# here we want to modify but we can't do it \u001b[39;00m\n\u001b[0;32m     10\u001b[0m     \u001b[38;5;28mprint\u001b[39m(\u001b[38;5;124m\"\u001b[39m\u001b[38;5;124mx:\u001b[39m\u001b[38;5;124m\"\u001b[39m, x)\n\u001b[0;32m     11\u001b[0m     \u001b[38;5;28mprint\u001b[39m(\u001b[38;5;124m\"\u001b[39m\u001b[38;5;124mz in the inner function :\u001b[39m\u001b[38;5;124m\"\u001b[39m, z)\n",
      "\u001b[1;31mUnboundLocalError\u001b[0m: local variable 'z' referenced before assignment"
     ]
    }
   ],
   "source": [
    "\n",
    "y = 10\n",
    "\n",
    "def outer():  #......enclosing funtion\n",
    "    \n",
    "    z = 4   \n",
    "    \n",
    "    def inner(): #.... Nested function\n",
    "        x = 4  \n",
    "        z = z + 1 # here we want to modify but we can't do it \n",
    "        print(\"x:\", x)\n",
    "        print(\"z in the inner function :\", z) # we can access z inside the inner function \n",
    "    inner()\n",
    "    print(\"z:\", z)\n",
    "    \n",
    "outer()   #  this is global scope"
   ]
  },
  {
   "cell_type": "code",
   "execution_count": 17,
   "id": "ed77821b",
   "metadata": {},
   "outputs": [
    {
     "name": "stdout",
     "output_type": "stream",
     "text": [
      "x: 4\n",
      "z in the inner function : 16\n",
      "z: 16\n"
     ]
    }
   ],
   "source": [
    "y = 10  #.....global\n",
    "\n",
    "def outer():  \n",
    "    \n",
    "    z = 15   # ..... enclosed\n",
    "    \n",
    "    def inner(): \n",
    "        x = 4   # ...... local\n",
    "        nonlocal z   # to modify enclosed variable we use 'nonlocal' keyword\n",
    "        z = z+1\n",
    "        print(\"x:\", x)\n",
    "        print(\"z in the inner function :\", z) # we can access z inside the inner function \n",
    "    inner()\n",
    "    print(\"z:\", z)\n",
    "    \n",
    "outer()   #  this is global scope"
   ]
  },
  {
   "cell_type": "code",
   "execution_count": 18,
   "id": "48e1d11d",
   "metadata": {},
   "outputs": [
    {
     "name": "stdout",
     "output_type": "stream",
     "text": [
      "x: 4\n",
      "z in the inner function : 16\n",
      "inside innner function y :  11\n",
      "z: 16\n"
     ]
    }
   ],
   "source": [
    "\n",
    "y = 10  #.....global\n",
    "\n",
    "def outer():  \n",
    "    \n",
    "    z = 15   # ..... enclosed\n",
    "    \n",
    "    def inner(): \n",
    "        x = 4   # ...... local\n",
    "        nonlocal z   # to modify enclosed variable we use 'nonlocal' keyword\n",
    "        z = z+1\n",
    "        global y\n",
    "        y = y+1   # to modify global variable inside local we use keyword \"global\"\n",
    "        print(\"x:\", x)\n",
    "        print(\"z in the inner function :\", z) # we can access z inside the inner function \n",
    "        print(\"inside innner function y : \", y)\n",
    "    inner()\n",
    "    print(\"z:\", z)\n",
    "    \n",
    "outer()"
   ]
  },
  {
   "cell_type": "code",
   "execution_count": 19,
   "id": "356ed59d",
   "metadata": {},
   "outputs": [
    {
     "name": "stdout",
     "output_type": "stream",
     "text": [
      "x: 4\n",
      "z in the inner function : 16\n",
      "inside innner function y :  11\n",
      "z: 16\n",
      "\n",
      "z at at global scope\n"
     ]
    },
    {
     "ename": "NameError",
     "evalue": "name 'z' is not defined",
     "output_type": "error",
     "traceback": [
      "\u001b[1;31m---------------------------------------------------------------------------\u001b[0m",
      "\u001b[1;31mNameError\u001b[0m                                 Traceback (most recent call last)",
      "Input \u001b[1;32mIn [19]\u001b[0m, in \u001b[0;36m<cell line: 22>\u001b[1;34m()\u001b[0m\n\u001b[0;32m     20\u001b[0m \u001b[38;5;28mprint\u001b[39m()\n\u001b[0;32m     21\u001b[0m \u001b[38;5;28mprint\u001b[39m(\u001b[38;5;124m\"\u001b[39m\u001b[38;5;124mz at at global scope\u001b[39m\u001b[38;5;124m\"\u001b[39m)\n\u001b[1;32m---> 22\u001b[0m \u001b[38;5;28mprint\u001b[39m(\u001b[43mz\u001b[49m)\n",
      "\u001b[1;31mNameError\u001b[0m: name 'z' is not defined"
     ]
    }
   ],
   "source": [
    "y = 10  #.....global\n",
    "\n",
    "def outer():  \n",
    "    \n",
    "    z = 15   # ..... enclosed\n",
    "    \n",
    "    def inner(): \n",
    "        x = 4   # ...... local\n",
    "        nonlocal z   \n",
    "        z = z+1\n",
    "        global y\n",
    "        y = y+1   \n",
    "        print(\"x:\", x)\n",
    "        print(\"z in the inner function :\", z) \n",
    "        print(\"inside innner function y : \", y)\n",
    "    inner()\n",
    "    print(\"z:\", z)\n",
    "    \n",
    "outer()\n",
    "print()\n",
    "print(\"z at at global scope\")\n",
    "print(z)\n",
    "# note after using 'nonlocal' we can modify an enclosing function inside local function but \n",
    "# we can't access local value at global scope."
   ]
  },
  {
   "cell_type": "code",
   "execution_count": 5,
   "id": "ed6f3bb2",
   "metadata": {},
   "outputs": [
    {
     "name": "stdout",
     "output_type": "stream",
     "text": [
      "hi\n"
     ]
    }
   ],
   "source": [
    "### Built-in Scope\n",
    "\n",
    "\n",
    "print(\"hi\") # we haven't defined 'print' but we are still able to use it\n",
    "# beacuse it is \"Built-in\" functions\n"
   ]
  },
  {
   "cell_type": "markdown",
   "id": "6b5b4c34",
   "metadata": {},
   "source": [
    "#### What if every variable have same name whether it is in local , globle or enclosed scope?. "
   ]
  },
  {
   "cell_type": "code",
   "execution_count": 20,
   "id": "e7829d15",
   "metadata": {},
   "outputs": [
    {
     "name": "stdout",
     "output_type": "stream",
     "text": [
      "x: 15\n"
     ]
    }
   ],
   "source": [
    "\n",
    "x = 5\n",
    "\n",
    "def function():\n",
    "    x = 10\n",
    "    def inner():\n",
    "        x = 15\n",
    "        print(\"x:\", x)\n",
    "    inner()\n",
    "        \n",
    "function()\n",
    "\n",
    "# Here Python follow \"LEBG\" role \n",
    "# local--->Enclosed scope .....>Built-in scope......>Global Scope ......"
   ]
  },
  {
   "cell_type": "code",
   "execution_count": 4,
   "id": "c644fc40",
   "metadata": {},
   "outputs": [
    {
     "name": "stdout",
     "output_type": "stream",
     "text": [
      "x: 10\n"
     ]
    }
   ],
   "source": [
    "x = 5\n",
    "\n",
    "def function():\n",
    "    x = 10\n",
    "    def inner():\n",
    "        #x = 15\n",
    "        print(\"x:\", x)\n",
    "    inner()\n",
    "        \n",
    "function()\n",
    "\n",
    "# Here Python follow \"LEBG\" role \n",
    "# local--->Enclosed scope .....>Built-in scope......>Global Scope ......"
   ]
  },
  {
   "cell_type": "code",
   "execution_count": 21,
   "id": "6d4634d9",
   "metadata": {},
   "outputs": [
    {
     "name": "stdout",
     "output_type": "stream",
     "text": [
      "x: 5\n"
     ]
    }
   ],
   "source": [
    "x = 5\n",
    "\n",
    "def function():\n",
    "    #x = 10\n",
    "    def inner():\n",
    "        #x = 15\n",
    "        print(\"x:\", x)\n",
    "    inner()\n",
    "        \n",
    "function()\n",
    "\n",
    "# Here Python follow \"LEBG\" role \n",
    "# local--->Enclosed scope .....>Built-in scope......>Global Scope ......"
   ]
  },
  {
   "cell_type": "code",
   "execution_count": 22,
   "id": "38be9e5a",
   "metadata": {},
   "outputs": [
    {
     "name": "stdout",
     "output_type": "stream",
     "text": [
      "x: 15\n"
     ]
    }
   ],
   "source": [
    "\n",
    "#x = 5\n",
    "\n",
    "def function():\n",
    "    x = 10\n",
    "    def inner():\n",
    "        x = 15\n",
    "        print(\"x:\", x)\n",
    "    inner()\n",
    "        \n",
    "function()\n",
    "\n",
    "# Here Python follow \"LEBG\" role \n",
    "# local--->Enclosed scope .....>Built-in scope......>Global Scope ......"
   ]
  },
  {
   "cell_type": "markdown",
   "id": "98d1dd19",
   "metadata": {},
   "source": [
    "## Closure\n",
    "\n",
    "Function object that remembers values in the enclosing scope even if they are not present in memory.\n",
    "\n",
    "This technique by which some data  gets attached to the code is called closure in Python."
   ]
  },
  {
   "cell_type": "code",
   "execution_count": 23,
   "id": "8bf08c47",
   "metadata": {},
   "outputs": [
    {
     "name": "stdout",
     "output_type": "stream",
     "text": [
      "3\n"
     ]
    }
   ],
   "source": [
    "\n",
    "def outer():\n",
    "    x = 3\n",
    "    def inner():\n",
    "        print(x)\n",
    "    inner()\n",
    "    \n",
    "outer()"
   ]
  },
  {
   "cell_type": "code",
   "execution_count": 25,
   "id": "3cf25d73",
   "metadata": {},
   "outputs": [
    {
     "name": "stdout",
     "output_type": "stream",
     "text": [
      "3\n"
     ]
    },
    {
     "ename": "TypeError",
     "evalue": "inner() missing 1 required positional argument: 'y'",
     "output_type": "error",
     "traceback": [
      "\u001b[1;31m---------------------------------------------------------------------------\u001b[0m",
      "\u001b[1;31mTypeError\u001b[0m                                 Traceback (most recent call last)",
      "Input \u001b[1;32mIn [25]\u001b[0m, in \u001b[0;36m<cell line: 8>\u001b[1;34m()\u001b[0m\n\u001b[0;32m      5\u001b[0m     inner()\n\u001b[0;32m      7\u001b[0m outer()\n\u001b[1;32m----> 8\u001b[0m \u001b[43minner\u001b[49m\u001b[43m(\u001b[49m\u001b[43m)\u001b[49m\n",
      "\u001b[1;31mTypeError\u001b[0m: inner() missing 1 required positional argument: 'y'"
     ]
    }
   ],
   "source": [
    "\n",
    "def outer():\n",
    "    x = 3\n",
    "    def inner():\n",
    "        print(x)\n",
    "    inner()\n",
    "\n",
    "outer()\n",
    "inner() # we can't access this inner() function outside of this outer()    "
   ]
  },
  {
   "cell_type": "code",
   "execution_count": 26,
   "id": "8f16de57",
   "metadata": {},
   "outputs": [
    {
     "name": "stdout",
     "output_type": "stream",
     "text": [
      "hi\n"
     ]
    }
   ],
   "source": [
    "# Functions are object\n",
    "\n",
    "def f():\n",
    "    print(\"hi\")\n",
    "    \n",
    "f() # here we called function "
   ]
  },
  {
   "cell_type": "code",
   "execution_count": 27,
   "id": "f6e6765b",
   "metadata": {},
   "outputs": [
    {
     "data": {
      "text/plain": [
       "<function __main__.f()>"
      ]
     },
     "execution_count": 27,
     "metadata": {},
     "output_type": "execute_result"
    }
   ],
   "source": [
    "f  # here without calling with paranthesis will get object of the funciton only"
   ]
  },
  {
   "cell_type": "code",
   "execution_count": 28,
   "id": "0cd48451",
   "metadata": {},
   "outputs": [],
   "source": [
    "g = f"
   ]
  },
  {
   "cell_type": "code",
   "execution_count": 29,
   "id": "438a2ce2",
   "metadata": {},
   "outputs": [
    {
     "data": {
      "text/plain": [
       "<function __main__.f()>"
      ]
     },
     "execution_count": 29,
     "metadata": {},
     "output_type": "execute_result"
    }
   ],
   "source": [
    "g # now g is the same object as f"
   ]
  },
  {
   "cell_type": "code",
   "execution_count": 9,
   "id": "f87d9360",
   "metadata": {},
   "outputs": [
    {
     "name": "stdout",
     "output_type": "stream",
     "text": [
      "hi\n"
     ]
    }
   ],
   "source": [
    "g()"
   ]
  },
  {
   "cell_type": "code",
   "execution_count": 30,
   "id": "1964ad3e",
   "metadata": {},
   "outputs": [
    {
     "name": "stdout",
     "output_type": "stream",
     "text": [
      "3\n",
      "None\n"
     ]
    }
   ],
   "source": [
    "def outer():\n",
    "    x = 3\n",
    "    def inner():\n",
    "        print(x)  # this is not a returning funtion \n",
    "        \n",
    "    return inner() # here we are returning the inner() to the outer funtion\n",
    "\n",
    "a = outer()\n",
    "print(a)\n",
    "\n",
    "# because inner function is not a returning funtion just had a print funtion in that. "
   ]
  },
  {
   "cell_type": "code",
   "execution_count": 31,
   "id": "2be024cd",
   "metadata": {},
   "outputs": [
    {
     "name": "stdout",
     "output_type": "stream",
     "text": [
      "6\n"
     ]
    }
   ],
   "source": [
    "def outer():\n",
    "    x = 3\n",
    "    def inner():\n",
    "        y = 3\n",
    "        result = x + y\n",
    "        return result  # now it is a returning function \n",
    "        \n",
    "    return inner() # here we are returning the inner() to the outer funtion\n",
    "\n",
    "a = outer()\n",
    "print(a)"
   ]
  },
  {
   "cell_type": "code",
   "execution_count": 32,
   "id": "bf34558c",
   "metadata": {},
   "outputs": [
    {
     "name": "stdout",
     "output_type": "stream",
     "text": [
      "<function outer.<locals>.inner at 0x00000257207EBD30>\n"
     ]
    }
   ],
   "source": [
    "\n",
    "def outer():\n",
    "    x = 3\n",
    "    def inner():\n",
    "        y = 3\n",
    "        result = x + y\n",
    "        return result  # now it is a returning function \n",
    "        \n",
    "    return inner # we remove '()' means now it will return reference only\n",
    "\n",
    "a = outer()\n",
    "print(a)"
   ]
  },
  {
   "cell_type": "code",
   "execution_count": 35,
   "id": "2d3839c1",
   "metadata": {},
   "outputs": [
    {
     "name": "stdout",
     "output_type": "stream",
     "text": [
      "6\n"
     ]
    }
   ],
   "source": [
    "\n",
    "def outer():\n",
    "    x = 3\n",
    "    def inner():\n",
    "        y = 3\n",
    "        result = x + y\n",
    "        return result  # now it is a returning function \n",
    "        \n",
    "    return inner # we remove '()' means now it will return reference only\n",
    "\n",
    "a = outer()\n",
    "print(a()) # but when we use instance variable a as function it will return result."
   ]
  },
  {
   "cell_type": "code",
   "execution_count": 33,
   "id": "0671459c",
   "metadata": {},
   "outputs": [
    {
     "name": "stdout",
     "output_type": "stream",
     "text": [
      "inner\n"
     ]
    }
   ],
   "source": [
    "\n",
    "def outer():\n",
    "    x = 3\n",
    "    def inner():\n",
    "        y = 3\n",
    "        result = x + y\n",
    "        return result  # now it is a returning function \n",
    "        \n",
    "    return inner # we remove '()' means now it will return reference only\n",
    "\n",
    "a = outer()\n",
    "print(a.__name__)"
   ]
  },
  {
   "cell_type": "code",
   "execution_count": 34,
   "id": "57dc0c42",
   "metadata": {},
   "outputs": [
    {
     "ename": "TypeError",
     "evalue": "inner() missing 1 required positional argument: 'y'",
     "output_type": "error",
     "traceback": [
      "\u001b[1;31m---------------------------------------------------------------------------\u001b[0m",
      "\u001b[1;31mTypeError\u001b[0m                                 Traceback (most recent call last)",
      "Input \u001b[1;32mIn [34]\u001b[0m, in \u001b[0;36m<cell line: 11>\u001b[1;34m()\u001b[0m\n\u001b[0;32m      8\u001b[0m     \u001b[38;5;28;01mreturn\u001b[39;00m inner \u001b[38;5;66;03m# we remove '()' means now it will return reference only\u001b[39;00m\n\u001b[0;32m     10\u001b[0m a \u001b[38;5;241m=\u001b[39m outer()\n\u001b[1;32m---> 11\u001b[0m \u001b[43minner\u001b[49m\u001b[43m(\u001b[49m\u001b[43m)\u001b[49m\n",
      "\u001b[1;31mTypeError\u001b[0m: inner() missing 1 required positional argument: 'y'"
     ]
    }
   ],
   "source": [
    "\n",
    "def outer():\n",
    "    x = 3\n",
    "    def inner():\n",
    "        y = 3\n",
    "        result = x + y\n",
    "        return result  \n",
    "        \n",
    "    return inner # we remove '()' means now it will return reference only\n",
    "\n",
    "a = outer()\n",
    "inner()  # here a is same as inner but calling through outer "
   ]
  },
  {
   "cell_type": "code",
   "execution_count": 16,
   "id": "37732edf",
   "metadata": {},
   "outputs": [
    {
     "data": {
      "text/plain": [
       "6"
      ]
     },
     "execution_count": 16,
     "metadata": {},
     "output_type": "execute_result"
    }
   ],
   "source": [
    "\n",
    "def outer():\n",
    "    x = 3\n",
    "    def inner():\n",
    "        y = 3\n",
    "        result = x + y\n",
    "        return result  \n",
    "        \n",
    "    return inner # we remove '()' means now it will return reference only\n",
    "\n",
    "a = outer()\n",
    "a()"
   ]
  },
  {
   "cell_type": "markdown",
   "id": "f00621cb",
   "metadata": {},
   "source": [
    "### Closure\n",
    "\n",
    "Function object that remembers values in the enclosing scope even if they are not present in memory.\n",
    "\n",
    "\n",
    "This technique by which some data  gets attached to the code is called closure in Python.\n",
    "\n",
    "#### Conditions :\n",
    "\n",
    "1.  Nested Function\n",
    "\n",
    "2.  Nested funtion must refer values in enclosing scope\n",
    "\n",
    "3.  Enclosing function must return nested funtion\n",
    "\n",
    "#### Advantages:\n",
    "\n",
    "1. Can avoid global values\n",
    "\n",
    "2. data hiding \n",
    "\n",
    "3. Lets us implement decorators"
   ]
  },
  {
   "cell_type": "code",
   "execution_count": 36,
   "id": "55412099",
   "metadata": {},
   "outputs": [
    {
     "name": "stdout",
     "output_type": "stream",
     "text": [
      "6\n"
     ]
    }
   ],
   "source": [
    "\n",
    "def outer():\n",
    "    x = 3\n",
    "    def inner():\n",
    "        y = 3\n",
    "        result = x + y\n",
    "        return result  \n",
    "        \n",
    "    return inner # we remove '()' means now it will return reference only\n",
    "\n",
    "a = outer()\n",
    "print(a())"
   ]
  },
  {
   "cell_type": "code",
   "execution_count": 18,
   "id": "b8ddf248",
   "metadata": {},
   "outputs": [
    {
     "name": "stdout",
     "output_type": "stream",
     "text": [
      "hello\n"
     ]
    }
   ],
   "source": [
    "def outer():\n",
    "    \n",
    "    msg = \"hello\"\n",
    "    def inner():\n",
    "        print(msg)\n",
    "        \n",
    "    return inner\n",
    "\n",
    "a = outer()  \n",
    "a() # here outer() returns the reference to the inner and we called a() means called inner"
   ]
  },
  {
   "cell_type": "code",
   "execution_count": null,
   "id": "55f3128c",
   "metadata": {},
   "outputs": [],
   "source": []
  }
 ],
 "metadata": {
  "kernelspec": {
   "display_name": "Python 3 (ipykernel)",
   "language": "python",
   "name": "python3"
  },
  "language_info": {
   "codemirror_mode": {
    "name": "ipython",
    "version": 3
   },
   "file_extension": ".py",
   "mimetype": "text/x-python",
   "name": "python",
   "nbconvert_exporter": "python",
   "pygments_lexer": "ipython3",
   "version": "3.9.7"
  }
 },
 "nbformat": 4,
 "nbformat_minor": 5
}
