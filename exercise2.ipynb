{
 "cells": [
  {
   "cell_type": "code",
   "execution_count": 2,
   "id": "2ce703a8",
   "metadata": {},
   "outputs": [
    {
     "name": "stdout",
     "output_type": "stream",
     "text": [
      "Given list: \n",
      " [7, 9, [12, 5, [30, 15], 17], 7]\n",
      "\n",
      "Max value in nested list:  30\n"
     ]
    }
   ],
   "source": [
    "# find out the maximum value in nested list\n",
    "\n",
    "list1 = [7, 9, [12, 5, [30, 15], 17], 7]\n",
    "\n",
    "normal_list1 = []\n",
    "def max_val(list1):\n",
    "    for i in list1:\n",
    "        if type(i) == list:\n",
    "            max_val(i) # recursively \n",
    "        else:\n",
    "            normal_list1.append(i)\n",
    "            \n",
    "    return max(normal_list1)\n",
    " \n",
    "print(\"Given list: \\n\", list1)\n",
    "print()\n",
    "print(\"Max value in nested list: \", max_val(list1))"
   ]
  },
  {
   "cell_type": "markdown",
   "id": "cd404f28",
   "metadata": {},
   "source": [
    "#### solve the problem\n",
    "files = {\n",
    "        'Input.txt': 'Randy',\n",
    "        'Code.py': 'Stan',\n",
    "        'Output.txt': 'Randy'\n",
    "    }   \n",
    "\n",
    "output: --\n",
    "`{'Randy': ['Input.txt', 'Output.txt'], 'Stan': ['Code.py']}`"
   ]
  },
  {
   "cell_type": "code",
   "execution_count": 1,
   "id": "3469b0c1",
   "metadata": {},
   "outputs": [
    {
     "name": "stdout",
     "output_type": "stream",
     "text": [
      "{'Randy': ['Input.txt', 'Output.txt'], 'Stan': ['Code.py']}\n"
     ]
    }
   ],
   "source": [
    "files = { 'Input.txt': 'Randy', 'Code.py': 'Stan', 'Output.txt': 'Randy' }\n",
    "\n",
    "def sort_by_owner(file):\n",
    "    \n",
    "    result = {}\n",
    "    for key , value in files.items():\n",
    "        \n",
    "        if value not in result:\n",
    "            result[value] = [key] # here we took a list for listing the file \n",
    "            \n",
    "        else:\n",
    "            result[value].append(key)\n",
    "            \n",
    "    return result\n",
    "\n",
    "print(sort_by_owner(files))"
   ]
  },
  {
   "cell_type": "code",
   "execution_count": 2,
   "id": "27f6e879",
   "metadata": {},
   "outputs": [
    {
     "name": "stdout",
     "output_type": "stream",
     "text": [
      "[['vanilla', 'chocolate sauce'], ['chocolate', 'chocolate sauce']]\n"
     ]
    }
   ],
   "source": [
    "# Make a class that make this combination\n",
    "\n",
    "# machine = IceCreamMachine([\"vanilla\", \"chocolate\"], [\"chocolate sauce\"])\n",
    "# print(machine.scoops())\n",
    "#should print[['vanilla', 'chocolate sauce'], ['chocolate', 'chocolate sauce']]\n",
    "\n",
    "\n",
    "class IceCreamMachine:\n",
    "    \n",
    "    def __init__(self, ingredients, toppings):\n",
    "        self.ingredients = ingredients\n",
    "        self.toppings = toppings\n",
    "        \n",
    "    def scoops(self):\n",
    "        result = []\n",
    "        for i in self.ingredients:\n",
    "            for j in self.toppings:\n",
    "                \n",
    "                result.append([i,j])\n",
    "        return result\n",
    "    \n",
    "machine = IceCreamMachine([\"vanilla\", \"chocolate\"], [\"chocolate sauce\"])\n",
    "print(machine.scoops())"
   ]
  },
  {
   "cell_type": "code",
   "execution_count": 6,
   "id": "a8e6508e",
   "metadata": {},
   "outputs": [
    {
     "name": "stdout",
     "output_type": "stream",
     "text": [
      "(6.0, -2.0)\n"
     ]
    }
   ],
   "source": [
    "# solve the quadratic equation  ax^2 + by + c\n",
    "\n",
    "# root1 = (-b+ squareroot(b^2 -4ac))/2a\n",
    "# root2 = (-b- squareroot(b^2 -4ac))/2a\n",
    "\n",
    "# let's take an equation x^2 - 4x - 12\n",
    "import math\n",
    "def find_roots(a, b, c):\n",
    "    \n",
    "    solv1  = (-b + math.sqrt((b**2) - (4*a*c)))/(2*a)\n",
    "    solv2  = (-b - math.sqrt((b**2) - (4*a*c)))/(2*a)\n",
    "    result = (solv1, solv2)\n",
    "    return result\n",
    "\n",
    "print(find_roots(1, -4, -12));"
   ]
  },
  {
   "cell_type": "code",
   "execution_count": 11,
   "id": "1fceb61b",
   "metadata": {},
   "outputs": [
    {
     "name": "stdout",
     "output_type": "stream",
     "text": [
      "(2.0, -6.0)\n"
     ]
    }
   ],
   "source": [
    "# solve the quadratic equation  ax^2 + by + c\n",
    "\n",
    "# root1 = (-b+ squareroot(b^2 -4ac))/2a\n",
    "# root2 = (-b- squareroot(b^2 -4ac))/2a\n",
    "\n",
    "# let's take an equation x^2 + 4x + 12\n",
    "import math\n",
    "def find_roots(a, b, c):\n",
    "    \n",
    "    solv1  = (-b + math.sqrt((b**2) - (4*a*c)))/(2*a)\n",
    "    solv2  = (-b - math.sqrt((b**2) - (4*a*c)))/(2*a)\n",
    "    result = (solv1, solv2)\n",
    "    return result\n",
    "\n",
    "print(find_roots(1, 4, -12));"
   ]
  },
  {
   "cell_type": "code",
   "execution_count": 15,
   "id": "f3c76881",
   "metadata": {},
   "outputs": [
    {
     "name": "stdout",
     "output_type": "stream",
     "text": [
      "56.24\n"
     ]
    }
   ],
   "source": [
    "# What will be the output of the following Python expression if x=56.236?\n",
    "x=56.236\n",
    "print(\"%.2f\"%x)"
   ]
  },
  {
   "cell_type": "code",
   "execution_count": 16,
   "id": "fb6c5146",
   "metadata": {},
   "outputs": [
    {
     "name": "stdout",
     "output_type": "stream",
     "text": [
      "33\n"
     ]
    }
   ],
   "source": [
    "testArr = [11, 22, 33, 22, 11] \n",
    "result = testArr[0] \n",
    "for iter in testArr: \n",
    "    if iter > result:\n",
    "        result = iter\n",
    "print(result)"
   ]
  },
  {
   "cell_type": "code",
   "execution_count": 17,
   "id": "df2d5f85",
   "metadata": {},
   "outputs": [
    {
     "name": "stdout",
     "output_type": "stream",
     "text": [
      "True\n"
     ]
    }
   ],
   "source": [
    "###  Determine the output of the below Python code fragment?\n",
    "\n",
    "var1 = True\n",
    "var2 = False\n",
    "var3 = False\n",
    "\n",
    "if var1 or var2 and var3:\n",
    "    print(\"True\")\n",
    "else:\n",
    "    print(\"False\")\n",
    "# here 'and' have predence over \"or\" so first var2 and var3 will be execute and output is 'False'\n",
    "# now var1 have 'True' and result of var2 and var3 is \"False\" and they have 'or' condition \n",
    "# means at least one should be True from both of them and var1 is 'True' so if condition will be\n",
    "# satisfied and hence print statement will be executed and output will be \"True\""
   ]
  },
  {
   "cell_type": "code",
   "execution_count": 20,
   "id": "ec75c9ce",
   "metadata": {},
   "outputs": [
    {
     "data": {
      "text/plain": [
       "['a', 'bb', 'cccccc', 'ddd']"
      ]
     },
     "execution_count": 20,
     "metadata": {},
     "output_type": "execute_result"
    }
   ],
   "source": [
    "list1 = [\"a\",\"bb\", \"ddd\", \"cccccc\"]\n",
    "list1.sort()\n",
    "list1"
   ]
  },
  {
   "cell_type": "code",
   "execution_count": 25,
   "id": "3bf5236c",
   "metadata": {},
   "outputs": [
    {
     "data": {
      "text/plain": [
       "['a', 'ddd', 'bbbbbb', 'cccccc']"
      ]
     },
     "execution_count": 25,
     "metadata": {},
     "output_type": "execute_result"
    }
   ],
   "source": [
    "# sort fo length\n",
    "def sort_by_len(x):\n",
    "    return len(x)\n",
    "list1 = [\"a\",\"bbbbbb\", \"ddd\", \"cccccc\"]\n",
    "list1.sort(key= sort_by_len)\n",
    "list1  "
   ]
  },
  {
   "cell_type": "code",
   "execution_count": 31,
   "id": "c9b59b9f",
   "metadata": {},
   "outputs": [
    {
     "name": "stdout",
     "output_type": "stream",
     "text": [
      "this is the second line of the file.\n",
      "\n"
     ]
    }
   ],
   "source": [
    "#Create a Python function that is parameter passed a file name and returns the second line \n",
    "# in the file. If there is no second line or the file does not exist return None.\n",
    "\n",
    "def check_file(param):\n",
    "    filename = param\n",
    "    try:\n",
    "        with open(filename, \"r\") as f:\n",
    "            lines = f.readlines()\n",
    "            # f.close() no need to write close when we open or file using \"with\"\n",
    "            while len(lines)>=2:\n",
    "                print(lines[1])\n",
    "                break\n",
    "            else:\n",
    "                print(\"File is present but does not have second line in that.\")\n",
    "                \n",
    "                \n",
    "    except FileNotFoundError:\n",
    "        return \"file doesn't exist!.\"\n",
    "\n",
    "\n",
    "check_file(\"myfile.txt\")\n"
   ]
  },
  {
   "cell_type": "code",
   "execution_count": 36,
   "id": "696198d4",
   "metadata": {},
   "outputs": [
    {
     "name": "stdout",
     "output_type": "stream",
     "text": [
      "1\n",
      "<class 'tuple'>\n"
     ]
    }
   ],
   "source": [
    "# In Python, what is the length of x in this Python code?\n",
    "x = 45,  # here x will be treated as tuple\n",
    "print(len(x))\n",
    "print(type(x))"
   ]
  },
  {
   "cell_type": "code",
   "execution_count": null,
   "id": "afced2c2",
   "metadata": {},
   "outputs": [],
   "source": []
  },
  {
   "cell_type": "code",
   "execution_count": 35,
   "id": "8e80bc6a",
   "metadata": {},
   "outputs": [
    {
     "ename": "TypeError",
     "evalue": "object of type 'int' has no len()",
     "output_type": "error",
     "traceback": [
      "\u001b[1;31m---------------------------------------------------------------------------\u001b[0m",
      "\u001b[1;31mTypeError\u001b[0m                                 Traceback (most recent call last)",
      "Input \u001b[1;32mIn [35]\u001b[0m, in \u001b[0;36m<cell line: 3>\u001b[1;34m()\u001b[0m\n\u001b[0;32m      1\u001b[0m \u001b[38;5;66;03m# In Python, what is the length of x in this Python code?\u001b[39;00m\n\u001b[0;32m      2\u001b[0m x \u001b[38;5;241m=\u001b[39m \u001b[38;5;241m4512\u001b[39m\n\u001b[1;32m----> 3\u001b[0m \u001b[38;5;28mprint\u001b[39m(\u001b[38;5;28;43mlen\u001b[39;49m\u001b[43m(\u001b[49m\u001b[43mx\u001b[49m\u001b[43m)\u001b[49m)\n",
      "\u001b[1;31mTypeError\u001b[0m: object of type 'int' has no len()"
     ]
    }
   ],
   "source": [
    "# In Python, what is the length of x in this Python code?\n",
    "x = 4512\n",
    "print(len(x))\n",
    "# we can't use len function directly on integer we need to convert it into str first"
   ]
  },
  {
   "cell_type": "code",
   "execution_count": 37,
   "id": "e90a6ffd",
   "metadata": {},
   "outputs": [
    {
     "name": "stdout",
     "output_type": "stream",
     "text": [
      "4\n"
     ]
    }
   ],
   "source": [
    "# In Python, what is the length of x in this Python code?\n",
    "x = str(1234)\n",
    "print(len(x))"
   ]
  },
  {
   "cell_type": "code",
   "execution_count": 38,
   "id": "fde59208",
   "metadata": {},
   "outputs": [
    {
     "name": "stdout",
     "output_type": "stream",
     "text": [
      "This is in Parent class func1\n",
      "This is in Child class func2\n"
     ]
    }
   ],
   "source": [
    "# single inheritance \n",
    "\n",
    "class Parent:\n",
    "    def func1(self):\n",
    "        print(\"This is in Parent class func1\")\n",
    "        \n",
    "class Child(Parent):\n",
    "    def func2(self):\n",
    "        print(\"This is in Child class func2\")\n",
    "        \n",
    "child = Child()\n",
    "\n",
    "child.func1()\n",
    "child.func2()"
   ]
  },
  {
   "cell_type": "code",
   "execution_count": 40,
   "id": "28fc0886",
   "metadata": {},
   "outputs": [
    {
     "name": "stdout",
     "output_type": "stream",
     "text": [
      "Father : Ram\n",
      "Mother: Sita\n"
     ]
    }
   ],
   "source": [
    "### Multiple inheritance \n",
    "# base class 1\n",
    "class Father:\n",
    "    f_name = \"\"\n",
    "    def father(self):\n",
    "        print(self.f_name)\n",
    "# base class 2\n",
    "class Mother:\n",
    "    m_name = \"\"\n",
    "    def mother(self):\n",
    "        print(self.m_name)\n",
    "        \n",
    "# now it's child class        \n",
    "class Son(Father, Mother):\n",
    "    def parents(self):\n",
    "        \n",
    "        print(f\"Father : {self.f_name}\\nMother: {self.m_name}\")\n",
    "        \n",
    "s1 = Son()\n",
    "\n",
    "s1.f_name = \"Ram\"\n",
    "s1.m_name = \"Sita\"\n",
    "s1.parents()\n",
    "\n",
    "        "
   ]
  },
  {
   "cell_type": "code",
   "execution_count": 41,
   "id": "a781b8e0",
   "metadata": {},
   "outputs": [
    {
     "name": "stdout",
     "output_type": "stream",
     "text": [
      "Lal mani\n",
      "Grandfather name : Lal mani\n",
      "Father name : Rampal\n",
      "Son name : Prince\n"
     ]
    }
   ],
   "source": [
    "# Python program to demonstrate\n",
    "# multilevel inheritance\n",
    " \n",
    "# Base class\n",
    "class Grandfather:\n",
    " \n",
    "    def __init__(self, grandfathername):\n",
    "        self.grandfathername = grandfathername\n",
    "\n",
    "# Intermediate class\n",
    "class Father(Grandfather):\n",
    "    def __init__(self, fathername, grandfathername):\n",
    "        self.fathername = fathername\n",
    " \n",
    "        # invoking constructor of Grandfather class\n",
    "        Grandfather.__init__(self, grandfathername)\n",
    "\n",
    "# Derived class\n",
    "class Son(Father):\n",
    "    def __init__(self,sonname, fathername, grandfathername):\n",
    "        self.sonname = sonname\n",
    " \n",
    "        # invoking constructor of Father class\n",
    "        Father.__init__(self, fathername, grandfathername)\n",
    " \n",
    "    def print_name(self):\n",
    "        print('Grandfather name :', self.grandfathername)\n",
    "        print(\"Father name :\", self.fathername)\n",
    "        print(\"Son name :\", self.sonname)\n",
    "\n",
    "#  Driver code\n",
    "s1 = Son('Prince', 'Rampal', 'Lal mani')\n",
    "print(s1.grandfathername)\n",
    "s1.print_name()"
   ]
  },
  {
   "cell_type": "code",
   "execution_count": 42,
   "id": "687a4a83",
   "metadata": {},
   "outputs": [
    {
     "name": "stdout",
     "output_type": "stream",
     "text": [
      "This function is in parent class.\n",
      "This function is in child 1.\n",
      "This function is in parent class.\n",
      "This function is in child 2.\n"
     ]
    }
   ],
   "source": [
    "# Python program to demonstrate\n",
    "# Hierarchical inheritance\n",
    " \n",
    "\n",
    "# Base class\n",
    "class Parent:\n",
    "    def func1(self):\n",
    "        print(\"This function is in parent class.\")\n",
    "\n",
    "# Derived class1\n",
    "class Child1(Parent):\n",
    "    def func2(self):\n",
    "        print(\"This function is in child 1.\")\n",
    "\n",
    "# Derivied class2\n",
    "class Child2(Parent):\n",
    "    def func3(self):\n",
    "        print(\"This function is in child 2.\")\n",
    "\n",
    "# Driver's code\n",
    "object1 = Child1()\n",
    "object2 = Child2()\n",
    "object1.func1()\n",
    "object1.func2()\n",
    "object2.func1()\n",
    "object2.func3()"
   ]
  },
  {
   "cell_type": "code",
   "execution_count": 45,
   "id": "d99b01f4",
   "metadata": {},
   "outputs": [
    {
     "name": "stdout",
     "output_type": "stream",
     "text": [
      "This function is in school.\n",
      "This function is in student 1. \n",
      "This function is in student 3.\n"
     ]
    }
   ],
   "source": [
    "# Python program to demonstrate\n",
    "# hybrid inheritance\n",
    " \n",
    "\n",
    "class School:\n",
    "     def func1(self):\n",
    "            print(\"This function is in school.\")\n",
    "\n",
    "class Student1(School):\n",
    "     def func2(self):\n",
    "            print(\"This function is in student 1. \")\n",
    "\n",
    "class Student2(School):\n",
    "     def func3(self):\n",
    "            print(\"This function is in student 2.\")\n",
    "\n",
    "class Student3(Student1, School):\n",
    "     def func4(self):\n",
    "            print(\"This function is in student 3.\")\n",
    "\n",
    "# Driver's code\n",
    "object = Student3()\n",
    "object.func1()\n",
    "object.func2()\n",
    "object.func4()"
   ]
  },
  {
   "cell_type": "code",
   "execution_count": 46,
   "id": "1d74ab1a",
   "metadata": {},
   "outputs": [
    {
     "name": "stdout",
     "output_type": "stream",
     "text": [
      "This function is in school.\n",
      "This function is in student 1. \n",
      "This function is in student 2.\n",
      "This function is in student 3.\n"
     ]
    }
   ],
   "source": [
    "# Python program to demonstrate\n",
    "# hybrid inheritance\n",
    " \n",
    "\n",
    "class School:\n",
    "     def func1(self):\n",
    "            print(\"This function is in school.\")\n",
    "\n",
    "class Student1(School):\n",
    "     def func2(self):\n",
    "            print(\"This function is in student 1. \")\n",
    "\n",
    "class Student2(School):\n",
    "     def func3(self):\n",
    "            print(\"This function is in student 2.\")\n",
    "\n",
    "class Student3(Student1, Student2):\n",
    "     def func4(self):\n",
    "            print(\"This function is in student 3.\")\n",
    "\n",
    "# Driver's code\n",
    "object = Student3()\n",
    "object.func1()\n",
    "object.func2()\n",
    "object.func3()\n",
    "object.func4()"
   ]
  },
  {
   "cell_type": "code",
   "execution_count": 6,
   "id": "1a5288de",
   "metadata": {},
   "outputs": [
    {
     "name": "stdout",
     "output_type": "stream",
     "text": [
      "Enter the number : 153\n",
      "153 is an armstrong number!\n"
     ]
    }
   ],
   "source": [
    "# check armstrong number\n",
    "\n",
    "num = int(input(\"Enter the number : \"))\n",
    "temp = num\n",
    "n = len(str(num))\n",
    "result = 0\n",
    "while num != 0:\n",
    "    digit = num%10\n",
    "    result = result + digit**n\n",
    "    num = num//10\n",
    "if result == temp:\n",
    "    print(f\"{temp} is an armstrong number!\")\n",
    "else:\n",
    "    print(f\"{temp} is not an armstrong number!\")\n",
    "    "
   ]
  },
  {
   "cell_type": "code",
   "execution_count": 7,
   "id": "c090aff6",
   "metadata": {},
   "outputs": [
    {
     "name": "stdout",
     "output_type": "stream",
     "text": [
      "Enter the number : 153\n",
      "153 is an armstrong number!\n"
     ]
    }
   ],
   "source": [
    "# using for loop\n",
    "num = input(\"Enter the number : \")\n",
    "\n",
    "result = 0\n",
    "n = len(num)\n",
    "for i in num:\n",
    "    result = result + int(i)**n\n",
    "    \n",
    "if int(num) == result:\n",
    "    print(f\"{num} is an armstrong number!\")\n",
    "    \n",
    "else:\n",
    "    print(f'{num} is not an armstrong number!')"
   ]
  },
  {
   "cell_type": "code",
   "execution_count": 9,
   "id": "f4595c41",
   "metadata": {},
   "outputs": [
    {
     "name": "stdout",
     "output_type": "stream",
     "text": [
      "Enter the lenght of prime number list : 7\n",
      "\n",
      "List of first 7 prime numbers : \n",
      "\t[2, 3, 5, 7, 11, 13, 17]\n"
     ]
    }
   ],
   "source": [
    "# list of first n prime numbers\n",
    "\n",
    "length  = int(input(\"Enter the lenght of prime number list : \"))\n",
    "\n",
    "prime_list = []\n",
    "num = 2\n",
    "while len(prime_list) != length:\n",
    "    \n",
    "    if num>1:\n",
    "        \n",
    "        for i in range(2, num):\n",
    "            if num%i == 0:\n",
    "                break\n",
    "        else:\n",
    "            prime_list.append(num)\n",
    "    else:\n",
    "        pass\n",
    "    num = num + 1\n",
    "    \n",
    "print()\n",
    "print(f\"List of first {length} prime numbers : \\n\\t{prime_list}\")"
   ]
  },
  {
   "cell_type": "code",
   "execution_count": 13,
   "id": "022367ef",
   "metadata": {},
   "outputs": [
    {
     "name": "stdout",
     "output_type": "stream",
     "text": [
      "Enter the number : 28\n",
      "28 is a perfect number!\n"
     ]
    }
   ],
   "source": [
    "# perfect number means like 6 then its perfect divisor 1,2,3,6 , we have to take sum of all its\n",
    "# perfect divisor except number iteself means here 6 and add them 1+2+3 = 6 which is equal to the\n",
    "# number itself means a perfect number\n",
    "\n",
    "num = int(input(\"Enter the number : \"))\n",
    "result = 0\n",
    "for i in range (1, num):\n",
    "    if num%i == 0:\n",
    "        result = result + i\n",
    "        \n",
    "if result == num :\n",
    "    print(f\"{num} is a perfect number!\")\n",
    "else:\n",
    "    print(f\"{num} is not a perfect number!\")"
   ]
  },
  {
   "cell_type": "code",
   "execution_count": 16,
   "id": "15d5aa91",
   "metadata": {},
   "outputs": [
    {
     "name": "stdout",
     "output_type": "stream",
     "text": [
      "Enter the number : 12\n",
      "Sum of 12's digit  is : 3\n"
     ]
    }
   ],
   "source": [
    "# sum of all its digit of a number\n",
    "\n",
    "num = int(input(\"Enter the number : \"))\n",
    "n = num\n",
    "result = 0\n",
    "\n",
    "while num != 0:\n",
    "    \n",
    "    digit = num%10\n",
    "    result = result + digit\n",
    "    num = num//10\n",
    "    \n",
    "print(f\"Sum of {n}'s digit is : {result}\")\n",
    "    "
   ]
  },
  {
   "cell_type": "code",
   "execution_count": 17,
   "id": "1dcc9f37",
   "metadata": {},
   "outputs": [
    {
     "name": "stdout",
     "output_type": "stream",
     "text": [
      "Enter the number : 12\n",
      "Sum of 12's digit is 3\n"
     ]
    }
   ],
   "source": [
    "num = input(\"Enter the number : \")\n",
    "result = 0\n",
    "for i in num:\n",
    "    result = result + int(i)\n",
    "    \n",
    "print(f\"Sum of {num}'s digit is : {result}\")"
   ]
  },
  {
   "cell_type": "code",
   "execution_count": null,
   "id": "8b07787b",
   "metadata": {},
   "outputs": [],
   "source": []
  }
 ],
 "metadata": {
  "kernelspec": {
   "display_name": "Python 3 (ipykernel)",
   "language": "python",
   "name": "python3"
  },
  "language_info": {
   "codemirror_mode": {
    "name": "ipython",
    "version": 3
   },
   "file_extension": ".py",
   "mimetype": "text/x-python",
   "name": "python",
   "nbconvert_exporter": "python",
   "pygments_lexer": "ipython3",
   "version": "3.9.7"
  }
 },
 "nbformat": 4,
 "nbformat_minor": 5
}
