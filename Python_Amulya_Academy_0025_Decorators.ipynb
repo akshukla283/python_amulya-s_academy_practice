{
 "cells": [
  {
   "cell_type": "markdown",
   "id": "4defd242",
   "metadata": {},
   "source": [
    "#### Decorators\n",
    "\n",
    "Any callable (any thing we can call) python object that is used to modify a function or a class.\n",
    "\n",
    "\n",
    "* Decoratoration is nothing but adding something to make a thing more attractive or presentable \n",
    "\n",
    "* A decorator takes in a function, adds some functionality and returns it. \n",
    "\n",
    "*  Decorators are a very powerful and useful tool in Python since it allows programmers to modify the behaviour of function or class.\n",
    "\n",
    "\n",
    "#### example - Function Decorators, Class Decorators.\n",
    "\n",
    "* first we need to understand some other funtion as well\n",
    "\n",
    "1. Nested Funtion\n",
    "2. Function can return funtion\n",
    "3. Function name referemce\n",
    "4. We can use funciton as a parameter of another function."
   ]
  },
  {
   "cell_type": "code",
   "execution_count": 1,
   "id": "b741e465",
   "metadata": {},
   "outputs": [
    {
     "name": "stdout",
     "output_type": "stream",
     "text": [
      "6\n"
     ]
    }
   ],
   "source": [
    "def outer():\n",
    "    \n",
    "    x = 3\n",
    "    \n",
    "    def inner():\n",
    "        y = 3\n",
    "        result = x + y \n",
    "        return result\n",
    "    return inner()\n",
    "\n",
    "a = outer()\n",
    "print(a)\n"
   ]
  },
  {
   "cell_type": "code",
   "execution_count": 2,
   "id": "0025ee0f",
   "metadata": {},
   "outputs": [
    {
     "name": "stdout",
     "output_type": "stream",
     "text": [
      "inner\n"
     ]
    }
   ],
   "source": [
    "def outer():\n",
    "    \n",
    "    x = 3\n",
    "    \n",
    "    def inner():\n",
    "        y = 3\n",
    "        result = x + y \n",
    "        return result\n",
    "    return inner  # here we just pass reference\n",
    "\n",
    "a = outer()  # here a is reference object of inner funtion \n",
    "# we can give multiple name to a function 'a' is another name of function\n",
    "print(a.__name__)"
   ]
  },
  {
   "cell_type": "code",
   "execution_count": 3,
   "id": "cfecea4a",
   "metadata": {},
   "outputs": [
    {
     "data": {
      "text/plain": [
       "<function __main__.outer.<locals>.inner()>"
      ]
     },
     "execution_count": 3,
     "metadata": {},
     "output_type": "execute_result"
    }
   ],
   "source": [
    "a       # we need to call it like function becasue in outer function \n",
    "        # we have just passed the inner function reference"
   ]
  },
  {
   "cell_type": "code",
   "execution_count": 4,
   "id": "55c1a81b",
   "metadata": {},
   "outputs": [
    {
     "data": {
      "text/plain": [
       "6"
      ]
     },
     "execution_count": 4,
     "metadata": {},
     "output_type": "execute_result"
    }
   ],
   "source": [
    "a()"
   ]
  },
  {
   "cell_type": "code",
   "execution_count": 5,
   "id": "37ddf657",
   "metadata": {},
   "outputs": [
    {
     "name": "stdout",
     "output_type": "stream",
     "text": [
      "Hi I am function 2 now I will call function1\n",
      "Hi I am funtion1\n"
     ]
    }
   ],
   "source": [
    "def function1():\n",
    "    print(\"Hi I am funtion1\")\n",
    "    \n",
    "def function2(func):\n",
    "    print(\"Hi I am function 2 now I will call function1\")\n",
    "    func()\n",
    "    \n",
    "    \n",
    "function2(function1) # here we are not calling function1 just mention the name of the function \n",
    "                     # means reference to the function1\n",
    "                     # function1 passed as argument.\n",
    "    "
   ]
  },
  {
   "cell_type": "code",
   "execution_count": 6,
   "id": "4b279bd5",
   "metadata": {},
   "outputs": [
    {
     "name": "stdout",
     "output_type": "stream",
     "text": [
      "good morning\n"
     ]
    }
   ],
   "source": [
    "# sumple funtion \n",
    "def print_str():\n",
    "    return \"good morning\"\n",
    "\n",
    "\n",
    "print(print_str())"
   ]
  },
  {
   "cell_type": "code",
   "execution_count": 7,
   "id": "37ed85b8",
   "metadata": {},
   "outputs": [
    {
     "name": "stdout",
     "output_type": "stream",
     "text": [
      "good morning\n",
      "GOOD MORNING\n"
     ]
    }
   ],
   "source": [
    "# now I want to make some chenge means use decorators\n",
    "\n",
    "# To decorate the function we need to pass that function to decorator function\n",
    "def str_upper(func):\n",
    "    def inner(): # we haven't gave any parameter to this because our main function have no \n",
    "                                                                               # parameter\n",
    "        str1 = func()\n",
    "        return str1.upper()\n",
    "    \n",
    "    return inner    # here we have just pass the reference \n",
    "\n",
    "\n",
    "def print_str():\n",
    "    return \"good morning\"\n",
    "\n",
    "\n",
    "print(print_str())\n",
    "\n",
    "d = str_upper(print_str) # first call function str_upper and passing another funtion print_str\n",
    "print(d())\n",
    "\n",
    "# this is not a proper way use decorators we can use @decoratorname"
   ]
  },
  {
   "cell_type": "code",
   "execution_count": 4,
   "id": "0604ed2c",
   "metadata": {},
   "outputs": [
    {
     "name": "stdout",
     "output_type": "stream",
     "text": [
      "GOOD MORNING\n"
     ]
    }
   ],
   "source": [
    "def str_upper(func):\n",
    "    def inner():# we haven't gave any parameter to this because our main function have no parameter\n",
    "        str1 = func()\n",
    "        return str1.upper()\n",
    "    \n",
    "    return inner  # we need to pass just a reference\n",
    "\n",
    "@str_upper\n",
    "def print_str():  # it doen't have any parameter\n",
    "    return \"good morning\"\n",
    "\n",
    "\n",
    "print(print_str())\n",
    "# we got the decorated output"
   ]
  },
  {
   "cell_type": "code",
   "execution_count": 5,
   "id": "af8ebabd",
   "metadata": {},
   "outputs": [
    {
     "name": "stdout",
     "output_type": "stream",
     "text": [
      "2.0\n"
     ]
    }
   ],
   "source": [
    "#### now we will pass some parameter \n",
    "\n",
    "def div(a, b):\n",
    "    return a/b\n",
    "\n",
    "\n",
    "\n",
    "print(div(4, 2))"
   ]
  },
  {
   "cell_type": "code",
   "execution_count": 6,
   "id": "51258473",
   "metadata": {},
   "outputs": [
    {
     "ename": "ZeroDivisionError",
     "evalue": "division by zero",
     "output_type": "error",
     "traceback": [
      "\u001b[1;31m---------------------------------------------------------------------------\u001b[0m",
      "\u001b[1;31mZeroDivisionError\u001b[0m                         Traceback (most recent call last)",
      "Input \u001b[1;32mIn [6]\u001b[0m, in \u001b[0;36m<cell line: 5>\u001b[1;34m()\u001b[0m\n\u001b[0;32m      1\u001b[0m \u001b[38;5;28;01mdef\u001b[39;00m \u001b[38;5;21mdiv\u001b[39m(a, b):\n\u001b[0;32m      2\u001b[0m     \u001b[38;5;28;01mreturn\u001b[39;00m a\u001b[38;5;241m/\u001b[39mb\n\u001b[1;32m----> 5\u001b[0m \u001b[38;5;28mprint\u001b[39m(\u001b[43mdiv\u001b[49m\u001b[43m(\u001b[49m\u001b[38;5;241;43m4\u001b[39;49m\u001b[43m,\u001b[49m\u001b[43m \u001b[49m\u001b[38;5;241;43m0\u001b[39;49m\u001b[43m)\u001b[49m)\n",
      "Input \u001b[1;32mIn [6]\u001b[0m, in \u001b[0;36mdiv\u001b[1;34m(a, b)\u001b[0m\n\u001b[0;32m      1\u001b[0m \u001b[38;5;28;01mdef\u001b[39;00m \u001b[38;5;21mdiv\u001b[39m(a, b):\n\u001b[1;32m----> 2\u001b[0m     \u001b[38;5;28;01mreturn\u001b[39;00m \u001b[43ma\u001b[49m\u001b[38;5;241;43m/\u001b[39;49m\u001b[43mb\u001b[49m\n",
      "\u001b[1;31mZeroDivisionError\u001b[0m: division by zero"
     ]
    }
   ],
   "source": [
    "def div(a, b):\n",
    "    return a/b\n",
    "\n",
    "\n",
    "print(div(4, 0)) # when take 4, 0"
   ]
  },
  {
   "cell_type": "code",
   "execution_count": 7,
   "id": "2edbd437",
   "metadata": {},
   "outputs": [
    {
     "name": "stdout",
     "output_type": "stream",
     "text": [
      "Give proper input\n"
     ]
    }
   ],
   "source": [
    "## we canhandle above error by decorator \n",
    "\n",
    "def div_decorator(func):\n",
    "    def inner(x, y):      # here we taken parameter because in main function have two parameter\n",
    "        if y == 0:\n",
    "            return \"Give proper input\"\n",
    "        return func(x, y)\n",
    "    return inner\n",
    "\n",
    "@div_decorator\n",
    "def div(a, b):\n",
    "    return a/b\n",
    "\n",
    "\n",
    "print(div(4, 0))"
   ]
  },
  {
   "cell_type": "code",
   "execution_count": 5,
   "id": "97dfc5b8",
   "metadata": {},
   "outputs": [
    {
     "name": "stdout",
     "output_type": "stream",
     "text": [
      "Give proper input\n"
     ]
    }
   ],
   "source": [
    "\n",
    "def div_decorator(func):\n",
    "    def inner(x, y):      # here we taken parameter because in main function have two parameter\n",
    "        if y == 0:\n",
    "            return \"Give proper input\"\n",
    "        else:                           # we can use else\n",
    "            return func(x, y)\n",
    "    return inner\n",
    "\n",
    "@div_decorator\n",
    "def div(a, b):\n",
    "    return a/b\n",
    "\n",
    "\n",
    "print(div(4, 0))"
   ]
  },
  {
   "cell_type": "markdown",
   "id": "e2caa31c",
   "metadata": {},
   "source": [
    "### Need to remember while creating decorators\n",
    "\n",
    "1.  Need to take a funtion as parameter \n",
    "\n",
    "2. Add functionality to the function \n",
    "\n",
    "3. Funtion need to return another funtion"
   ]
  },
  {
   "cell_type": "code",
   "execution_count": 6,
   "id": "2d8ea2a7",
   "metadata": {},
   "outputs": [
    {
     "name": "stdout",
     "output_type": "stream",
     "text": [
      "GOOD MORNING\n"
     ]
    }
   ],
   "source": [
    "def str_upper(func):  # 1. took Funtion as a parameter \n",
    "    def inner(): \n",
    "        str1 = func()      \n",
    "        return str1.upper()  # 2. added functionality to the funtion\n",
    "    \n",
    "    return inner   # 3. returning a funtion\n",
    "\n",
    "@str_upper\n",
    "def print_str():  \n",
    "    return \"good morning\"\n",
    "\n",
    "\n",
    "print(print_str())"
   ]
  },
  {
   "cell_type": "code",
   "execution_count": 8,
   "id": "a8e8b275",
   "metadata": {},
   "outputs": [
    {
     "name": "stdout",
     "output_type": "stream",
     "text": [
      "GOOD MORNING\n"
     ]
    }
   ],
   "source": [
    "def str_upper(func):  # 1. took Funtion as a parameter \n",
    "    def inner(): \n",
    "        str1 = func()      \n",
    "        return str1.upper()  # 2. added functionality to the funtion\n",
    "    \n",
    "    return inner() #what if return with ()  # 3. returning a funtion\n",
    "\n",
    "@str_upper\n",
    "def print_str():  \n",
    "    return \"good morning\"\n",
    "\n",
    "\n",
    "print(print_str) # because inner() is returning Value so here we need to remove '()'"
   ]
  },
  {
   "cell_type": "code",
   "execution_count": 9,
   "id": "095a64a9",
   "metadata": {},
   "outputs": [
    {
     "ename": "TypeError",
     "evalue": "'str' object is not callable",
     "output_type": "error",
     "traceback": [
      "\u001b[1;31m---------------------------------------------------------------------------\u001b[0m",
      "\u001b[1;31mTypeError\u001b[0m                                 Traceback (most recent call last)",
      "Input \u001b[1;32mIn [9]\u001b[0m, in \u001b[0;36m<cell line: 13>\u001b[1;34m()\u001b[0m\n\u001b[0;32m      8\u001b[0m \u001b[38;5;129m@str_upper\u001b[39m\n\u001b[0;32m      9\u001b[0m \u001b[38;5;28;01mdef\u001b[39;00m \u001b[38;5;21mprint_str\u001b[39m():  \n\u001b[0;32m     10\u001b[0m     \u001b[38;5;28;01mreturn\u001b[39;00m \u001b[38;5;124m\"\u001b[39m\u001b[38;5;124mgood morning\u001b[39m\u001b[38;5;124m\"\u001b[39m\n\u001b[1;32m---> 13\u001b[0m \u001b[38;5;28mprint\u001b[39m(\u001b[43mprint_str\u001b[49m\u001b[43m(\u001b[49m\u001b[43m)\u001b[49m)\n",
      "\u001b[1;31mTypeError\u001b[0m: 'str' object is not callable"
     ]
    }
   ],
   "source": [
    "def str_upper(func):  # 1. took Funtion as a parameter \n",
    "    def inner(): \n",
    "        str1 = func()      \n",
    "        return str1.upper()  # 2. added functionality to the funtion\n",
    "    \n",
    "    return inner() #what if return with ()  # 3. returning a funtion\n",
    "\n",
    "@str_upper\n",
    "def print_str():  \n",
    "    return \"good morning\"\n",
    "\n",
    "\n",
    "print(print_str()) # it will give error because print_str geting string value not a reference "
   ]
  },
  {
   "cell_type": "code",
   "execution_count": 8,
   "id": "25be4d39",
   "metadata": {},
   "outputs": [
    {
     "name": "stdout",
     "output_type": "stream",
     "text": [
      "GOOD MORNING\n"
     ]
    }
   ],
   "source": [
    "def str_upper(func):  # 1. took Funtion as a parameter \n",
    "    def inner(): \n",
    "        str1 = func()      \n",
    "        return str1.upper()  # 2. added functionality to the funtion\n",
    "    \n",
    "    return inner() #what if return with ()  # 3. returning a funtion\n",
    "\n",
    "@str_upper\n",
    "def print_str():  \n",
    "    return \"good morning\"\n",
    "\n",
    "\n",
    "print(print_str) # now this will work because we didn't call the function, we have already \n",
    "                 # returned the function inside inner function."
   ]
  },
  {
   "cell_type": "markdown",
   "id": "68c90be5",
   "metadata": {},
   "source": [
    "### How to use multiple Decorator on a single funtion?"
   ]
  },
  {
   "cell_type": "code",
   "execution_count": 10,
   "id": "356de86f",
   "metadata": {},
   "outputs": [
    {
     "name": "stdout",
     "output_type": "stream",
     "text": [
      "['GOOD', 'MORNING']\n"
     ]
    }
   ],
   "source": [
    "def upper_d(func):\n",
    "    def inner():\n",
    "        \n",
    "        str1 = func()\n",
    "        return str1.upper()\n",
    "    return inner\n",
    "\n",
    "def split_d(func):\n",
    "    def wrapper():\n",
    "        \n",
    "        str2 = func()\n",
    "        return str2.split()\n",
    "    return wrapper\n",
    "\n",
    "@split_d # will execute second\n",
    "@upper_d # will execute first\n",
    "def ordinary():\n",
    "    return \"good morning\"\n",
    "\n",
    "print(ordinary())"
   ]
  },
  {
   "cell_type": "code",
   "execution_count": 3,
   "id": "90b3ef8c",
   "metadata": {},
   "outputs": [
    {
     "name": "stdout",
     "output_type": "stream",
     "text": [
      "['GOOD', 'MORNING']\n"
     ]
    }
   ],
   "source": [
    "def upper_d(func):\n",
    "    def inner():\n",
    "        str1 = func()\n",
    "        return str1.upper()\n",
    "    return inner\n",
    "\n",
    "def split_d(func):\n",
    "    def inner():\n",
    "        str2 = func()\n",
    "        return str2.split()\n",
    "    return inner\n",
    "@split_d\n",
    "@upper_d\n",
    "def ordinary():\n",
    "    return \"good morning\"\n",
    "\n",
    "print(ordinary())"
   ]
  },
  {
   "cell_type": "code",
   "execution_count": 11,
   "id": "579cdd0c",
   "metadata": {},
   "outputs": [
    {
     "ename": "AttributeError",
     "evalue": "'list' object has no attribute 'upper'",
     "output_type": "error",
     "traceback": [
      "\u001b[1;31m---------------------------------------------------------------------------\u001b[0m",
      "\u001b[1;31mAttributeError\u001b[0m                            Traceback (most recent call last)",
      "Input \u001b[1;32mIn [11]\u001b[0m, in \u001b[0;36m<cell line: 21>\u001b[1;34m()\u001b[0m\n\u001b[0;32m     16\u001b[0m \u001b[38;5;129m@upper_d\u001b[39m\n\u001b[0;32m     17\u001b[0m \u001b[38;5;129m@split_d\u001b[39m \n\u001b[0;32m     18\u001b[0m \u001b[38;5;28;01mdef\u001b[39;00m \u001b[38;5;21mordinary\u001b[39m():\n\u001b[0;32m     19\u001b[0m     \u001b[38;5;28;01mreturn\u001b[39;00m \u001b[38;5;124m\"\u001b[39m\u001b[38;5;124mgood morning\u001b[39m\u001b[38;5;124m\"\u001b[39m\n\u001b[1;32m---> 21\u001b[0m \u001b[38;5;28mprint\u001b[39m(\u001b[43mordinary\u001b[49m\u001b[43m(\u001b[49m\u001b[43m)\u001b[49m)\n",
      "Input \u001b[1;32mIn [11]\u001b[0m, in \u001b[0;36mupper_d.<locals>.inner\u001b[1;34m()\u001b[0m\n\u001b[0;32m      2\u001b[0m \u001b[38;5;28;01mdef\u001b[39;00m \u001b[38;5;21minner\u001b[39m():\n\u001b[0;32m      4\u001b[0m     str1 \u001b[38;5;241m=\u001b[39m func()\n\u001b[1;32m----> 5\u001b[0m     \u001b[38;5;28;01mreturn\u001b[39;00m \u001b[43mstr1\u001b[49m\u001b[38;5;241;43m.\u001b[39;49m\u001b[43mupper\u001b[49m()\n",
      "\u001b[1;31mAttributeError\u001b[0m: 'list' object has no attribute 'upper'"
     ]
    }
   ],
   "source": [
    "def upper_d(func):\n",
    "    def inner():\n",
    "        \n",
    "        str1 = func()\n",
    "        return str1.upper()\n",
    "    return inner\n",
    "\n",
    "def split_d(func):\n",
    "    def wrapper():\n",
    "        \n",
    "        str2 = func()\n",
    "        return str2.split()\n",
    "    return wrapper\n",
    "\n",
    "\n",
    "@upper_d # we change the order \n",
    "@split_d \n",
    "def ordinary():\n",
    "    return \"good morning\"\n",
    "\n",
    "print(ordinary())\n",
    "\n",
    "# by changing the order first string will get split and give list and then we can't use\n",
    "# upper on list we need make some change to avoid the error."
   ]
  },
  {
   "cell_type": "code",
   "execution_count": 4,
   "id": "8ef2d03b",
   "metadata": {},
   "outputs": [
    {
     "name": "stdout",
     "output_type": "stream",
     "text": [
      "GOOD MORNING\n"
     ]
    }
   ],
   "source": [
    "# when we change order of the decorator  then we need make some change in decorator function to \n",
    "# get the desired result.\n",
    "\n",
    "def upper_d(func):\n",
    "    def inner():\n",
    "        \n",
    "        str1 = func()\n",
    "        return str1[0].upper() +\" \"+ str1[1].upper()\n",
    "    return inner\n",
    "\n",
    "def split_d(func):\n",
    "    def wrapper():\n",
    "        \n",
    "        str2 = func()\n",
    "        return str2.split()\n",
    "    return wrapper\n",
    "\n",
    "\n",
    "@upper_d # we change the order \n",
    "@split_d \n",
    "def ordinary():\n",
    "    return \"good morning\"\n",
    "\n",
    "print(ordinary())\n",
    "\n"
   ]
  },
  {
   "cell_type": "code",
   "execution_count": 14,
   "id": "cb2eba0c",
   "metadata": {},
   "outputs": [
    {
     "name": "stdout",
     "output_type": "stream",
     "text": [
      "first second good morning second first\n"
     ]
    }
   ],
   "source": [
    "def upper_d(func):\n",
    "    def inner():\n",
    "        \n",
    "        return \"first \" + func() + \" first\"\n",
    "    return inner\n",
    "\n",
    "def split_d(func):\n",
    "    def wrapper():\n",
    "        \n",
    "        return \"second \" + func() + \" second\"\n",
    "    return wrapper\n",
    "\n",
    "\n",
    "@upper_d # secont -----output:- first second good morning second first\n",
    "@split_d # first ----- output:- second good morning second\n",
    "def ordinary():\n",
    "    return \"good morning\"\n",
    "\n",
    "print(ordinary())\n"
   ]
  },
  {
   "cell_type": "markdown",
   "id": "ed6056b5",
   "metadata": {},
   "source": [
    "#### Taking parameter from the decorators"
   ]
  },
  {
   "cell_type": "code",
   "execution_count": 12,
   "id": "ebccd26c",
   "metadata": {},
   "outputs": [
    {
     "name": "stdout",
     "output_type": "stream",
     "text": [
      "good morning Ankit\n"
     ]
    }
   ],
   "source": [
    "def outer(expr):\n",
    "    def upper_d(func):\n",
    "        def inner():\n",
    "            return func() + expr\n",
    "        return inner\n",
    "    return upper_d\n",
    "\n",
    "\n",
    "@outer(\"Ankit\")\n",
    "def ordinary():\n",
    "    return \"good morning \"\n",
    "\n",
    "print(ordinary())\n"
   ]
  },
  {
   "cell_type": "markdown",
   "id": "e963961d",
   "metadata": {},
   "source": [
    "#### General Decorator for multiple function"
   ]
  },
  {
   "cell_type": "code",
   "execution_count": 20,
   "id": "6b645300",
   "metadata": {},
   "outputs": [
    {
     "name": "stdout",
     "output_type": "stream",
     "text": [
      "2.0\n",
      "1.6666666666666667\n"
     ]
    }
   ],
   "source": [
    "def div1(a, b):\n",
    "    return a/b\n",
    "\n",
    "def div2(a,b,c):\n",
    "    return a/b/c\n",
    "\n",
    "\n",
    "print(div1(10, 5))\n",
    "print(div2(10, 2, 3))"
   ]
  },
  {
   "cell_type": "code",
   "execution_count": 21,
   "id": "5803e13f",
   "metadata": {},
   "outputs": [
    {
     "name": "stdout",
     "output_type": "stream",
     "text": [
      "2.0\n"
     ]
    },
    {
     "ename": "ZeroDivisionError",
     "evalue": "division by zero",
     "output_type": "error",
     "traceback": [
      "\u001b[1;31m---------------------------------------------------------------------------\u001b[0m",
      "\u001b[1;31mZeroDivisionError\u001b[0m                         Traceback (most recent call last)",
      "Input \u001b[1;32mIn [21]\u001b[0m, in \u001b[0;36m<cell line: 9>\u001b[1;34m()\u001b[0m\n\u001b[0;32m      5\u001b[0m     \u001b[38;5;28;01mreturn\u001b[39;00m a\u001b[38;5;241m/\u001b[39mb\u001b[38;5;241m/\u001b[39mc\n\u001b[0;32m      8\u001b[0m \u001b[38;5;28mprint\u001b[39m(div1(\u001b[38;5;241m10\u001b[39m, \u001b[38;5;241m5\u001b[39m))\n\u001b[1;32m----> 9\u001b[0m \u001b[38;5;28mprint\u001b[39m(\u001b[43mdiv2\u001b[49m\u001b[43m(\u001b[49m\u001b[38;5;241;43m10\u001b[39;49m\u001b[43m,\u001b[49m\u001b[43m \u001b[49m\u001b[38;5;241;43m0\u001b[39;49m\u001b[43m,\u001b[49m\u001b[43m \u001b[49m\u001b[38;5;241;43m3\u001b[39;49m\u001b[43m)\u001b[49m)\n",
      "Input \u001b[1;32mIn [21]\u001b[0m, in \u001b[0;36mdiv2\u001b[1;34m(a, b, c)\u001b[0m\n\u001b[0;32m      4\u001b[0m \u001b[38;5;28;01mdef\u001b[39;00m \u001b[38;5;21mdiv2\u001b[39m(a,b,c):\n\u001b[1;32m----> 5\u001b[0m     \u001b[38;5;28;01mreturn\u001b[39;00m \u001b[43ma\u001b[49m\u001b[38;5;241;43m/\u001b[39;49m\u001b[43mb\u001b[49m\u001b[38;5;241m/\u001b[39mc\n",
      "\u001b[1;31mZeroDivisionError\u001b[0m: division by zero"
     ]
    }
   ],
   "source": [
    "def div1(a, b):\n",
    "    return a/b\n",
    "\n",
    "def div2(a,b,c):\n",
    "    return a/b/c\n",
    "\n",
    "\n",
    "print(div1(10, 5))\n",
    "print(div2(10, 0, 3)) # when took '0'"
   ]
  },
  {
   "cell_type": "code",
   "execution_count": 23,
   "id": "17f2050a",
   "metadata": {},
   "outputs": [
    {
     "name": "stdout",
     "output_type": "stream",
     "text": [
      "(1, 2, 3) <class 'tuple'>\n"
     ]
    }
   ],
   "source": [
    "list1 = []\n",
    "list1 = 1,2,3\n",
    "print(list1,type(list1))"
   ]
  },
  {
   "cell_type": "code",
   "execution_count": 24,
   "id": "c7b73ce8",
   "metadata": {},
   "outputs": [
    {
     "name": "stdout",
     "output_type": "stream",
     "text": [
      "2.0\n",
      "Give proper input!!!\n"
     ]
    }
   ],
   "source": [
    "def div_decorator(func):\n",
    "    def inner(*args):  # when we don't sure about number of arguments \n",
    "        \n",
    "        list1 = []      # above *args will work like tuple containg element\n",
    "        list1 = args[1:]  # we need to check this condition from second element so that we can\n",
    "                           # take second\n",
    "        for i in list1:\n",
    "            if i == 0:\n",
    "                return \"Give proper input!!!\"\n",
    "        return func(*args)\n",
    "    return inner\n",
    "\n",
    "@div_decorator\n",
    "def div1(a, b):\n",
    "    return a/b\n",
    "\n",
    "@div_decorator\n",
    "def div2(a,b,c):\n",
    "    return a/b/c\n",
    "\n",
    "\n",
    "print(div1(10, 5))\n",
    "print(div2(10, 2, 0))"
   ]
  },
  {
   "cell_type": "code",
   "execution_count": 25,
   "id": "cb9fab7a",
   "metadata": {},
   "outputs": [
    {
     "name": "stdout",
     "output_type": "stream",
     "text": [
      "Give proper input!!!\n",
      "3.5714285714285716\n"
     ]
    }
   ],
   "source": [
    "def div_decorator(func):\n",
    "    def inner(*args):  # when we don't sure about number of arguments \n",
    "        \n",
    "        list1 = []\n",
    "        list1 = args[1:] # we took new list from 1 because we will start division from 2nd element\n",
    "        for i in list1:\n",
    "            if i == 0:\n",
    "                return \"Give proper input!!!\"\n",
    "        return func(*args)\n",
    "    return inner\n",
    "\n",
    "@div_decorator\n",
    "def div1(a, b):\n",
    "    return a/b\n",
    "\n",
    "@div_decorator\n",
    "def div2(a,b,c):\n",
    "    return a/b/c\n",
    "\n",
    "\n",
    "print(div1(10, 0))\n",
    "print(div2(50, 2, 7))"
   ]
  },
  {
   "cell_type": "markdown",
   "id": "6889d6b9",
   "metadata": {},
   "source": [
    "### Class Decorators"
   ]
  },
  {
   "cell_type": "code",
   "execution_count": 26,
   "id": "dc616e97",
   "metadata": {},
   "outputs": [
    {
     "name": "stdout",
     "output_type": "stream",
     "text": [
      "inner\n"
     ]
    }
   ],
   "source": [
    "def decorator(func):\n",
    "    def inner():\n",
    "        str1 = func()\n",
    "        return str1.upper()\n",
    "    return inner\n",
    "@decorator\n",
    "def greet():\n",
    "    \n",
    "    return \"good morning\"\n",
    "\n",
    "print(greet.__name__)\n",
    "\n",
    "# decorator hide the data of original function name \n",
    "# for that we need to use wraps function of functools modules\n",
    "# it will copy the last data from un-decorated or we can say original funtion to the \n",
    "# decorator closure\n"
   ]
  },
  {
   "cell_type": "code",
   "execution_count": 14,
   "id": "23de3a83",
   "metadata": {},
   "outputs": [
    {
     "name": "stdout",
     "output_type": "stream",
     "text": [
      "greet\n"
     ]
    }
   ],
   "source": [
    "# to print original funtion name \n",
    "import functools\n",
    "\n",
    "def decorator(func):\n",
    "    @functools.wraps(func)\n",
    "    def inner():\n",
    "        str1 = func()\n",
    "        return str1.upper()\n",
    "    return inner\n",
    "\n",
    "@decorator\n",
    "def greet():\n",
    "    \n",
    "    return \"good morning\"\n",
    "\n",
    "print(greet.__name__)\n",
    "\n",
    "# now we can see that we got the original function name \n",
    "# this is the first concept"
   ]
  },
  {
   "cell_type": "code",
   "execution_count": 16,
   "id": "21382f4c",
   "metadata": {},
   "outputs": [
    {
     "name": "stdout",
     "output_type": "stream",
     "text": [
      "Entered user name is:  Ankit\n"
     ]
    }
   ],
   "source": [
    "# simple class \n",
    "class Printing:\n",
    "    \n",
    "    def __init__(self, name):\n",
    "        self.name = name\n",
    "        \n",
    "    def print_name(self):\n",
    "        print(\"Entered user name is: \", self.name)\n",
    "\n",
    "p = Printing(\"Ankit\")\n",
    "p.print_name()"
   ]
  },
  {
   "cell_type": "code",
   "execution_count": 17,
   "id": "da2c55fd",
   "metadata": {},
   "outputs": [
    {
     "data": {
      "text/plain": [
       "'Hey my name is also same!'"
      ]
     },
     "execution_count": 17,
     "metadata": {},
     "output_type": "execute_result"
    }
   ],
   "source": [
    "# now let's decorate this \n",
    "def check_name(method):\n",
    "    def inner(name_ref):\n",
    "        if name_ref.name == \"Ankit\":\n",
    "            # here use name_ref.name because in class self.name parameter \n",
    "            # included\n",
    "            return \"Hey my name is also same!\"\n",
    "        \n",
    "        else:\n",
    "            method(name_ref)\n",
    "    \n",
    "    return inner\n",
    "       \n",
    "class Printing:\n",
    "    \n",
    "    def __init__(self, name):\n",
    "        self.name = name\n",
    "    @check_name   \n",
    "    def print_name(self):\n",
    "        print(\"Enterd user name is: \", self.name)\n",
    "\n",
    "p = Printing(\"Ankit\")\n",
    "p.print_name()"
   ]
  },
  {
   "cell_type": "code",
   "execution_count": 34,
   "id": "8dc363f3",
   "metadata": {},
   "outputs": [
    {
     "name": "stdout",
     "output_type": "stream",
     "text": [
      "Hey, my name is also same!\n"
     ]
    }
   ],
   "source": [
    "# Now use decorator \n",
    "def check_name(method):\n",
    "    def inner(name_ref):\n",
    "        if name_ref.name == \"Ankit\":\n",
    "            print(\"Hey, my name is also same!\")\n",
    "        else:\n",
    "            return method(name_ref)\n",
    "    return inner\n",
    "\n",
    "\n",
    "\n",
    "class Printing:\n",
    "    def __init__(self, name):\n",
    "        self.name = name \n",
    "    @check_name\n",
    "    def print_name(self):\n",
    "        print(\"Hi, users entered name is: \", self.name)\n",
    "        \n",
    "p = Printing(\"Ankit\")\n",
    "p.print_name()"
   ]
  },
  {
   "cell_type": "code",
   "execution_count": 35,
   "id": "8aa7b969",
   "metadata": {},
   "outputs": [
    {
     "name": "stdout",
     "output_type": "stream",
     "text": [
      "Hi, users entered name is:  David\n"
     ]
    }
   ],
   "source": [
    "# Now use decorator \n",
    "def check_name(method):\n",
    "    def inner(name_ref):\n",
    "        if name_ref.name == \"Ankit\":\n",
    "            print(\"Hey, my name is also same!\")\n",
    "        else:\n",
    "            return method(name_ref)\n",
    "    return inner\n",
    "\n",
    "\n",
    "\n",
    "class Printing:\n",
    "    def __init__(self, name):\n",
    "        self.name = name \n",
    "    @check_name\n",
    "    def print_name(self):\n",
    "        print(\"Hi, users entered name is: \", self.name)\n",
    "        \n",
    "p = Printing(\"David\") # let's change the name\n",
    "p.print_name()"
   ]
  },
  {
   "cell_type": "code",
   "execution_count": 9,
   "id": "6cf7fc8b",
   "metadata": {},
   "outputs": [
    {
     "ename": "TypeError",
     "evalue": "'Printing' object is not callable",
     "output_type": "error",
     "traceback": [
      "\u001b[1;31m---------------------------------------------------------------------------\u001b[0m",
      "\u001b[1;31mTypeError\u001b[0m                                 Traceback (most recent call last)",
      "Input \u001b[1;32mIn [9]\u001b[0m, in \u001b[0;36m<cell line: 10>\u001b[1;34m()\u001b[0m\n\u001b[0;32m      7\u001b[0m         \u001b[38;5;28;01mreturn\u001b[39;00m \u001b[38;5;124m\"\u001b[39m\u001b[38;5;124mHi, users entered name is: \u001b[39m\u001b[38;5;124m\"\u001b[39m, \u001b[38;5;28mself\u001b[39m\u001b[38;5;241m.\u001b[39mname\n\u001b[0;32m      9\u001b[0m p \u001b[38;5;241m=\u001b[39m Printing(\u001b[38;5;124m\"\u001b[39m\u001b[38;5;124mDavid\u001b[39m\u001b[38;5;124m\"\u001b[39m) \n\u001b[1;32m---> 10\u001b[0m \u001b[43mp\u001b[49m\u001b[43m(\u001b[49m\u001b[43m)\u001b[49m\n",
      "\u001b[1;31mTypeError\u001b[0m: 'Printing' object is not callable"
     ]
    }
   ],
   "source": [
    "# note when we call object which is not callable then it will error\n",
    "class Printing:\n",
    "    def __init__(self, name):\n",
    "        self.name = name \n",
    "    \n",
    "    def print_name(self):\n",
    "        return \"Hi, users entered name is: \", self.name\n",
    "        \n",
    "p = Printing(\"David\") \n",
    "p()"
   ]
  },
  {
   "cell_type": "code",
   "execution_count": 36,
   "id": "2709edc1",
   "metadata": {},
   "outputs": [
    {
     "ename": "TypeError",
     "evalue": "'Printing' object is not callable",
     "output_type": "error",
     "traceback": [
      "\u001b[1;31m---------------------------------------------------------------------------\u001b[0m",
      "\u001b[1;31mTypeError\u001b[0m                                 Traceback (most recent call last)",
      "Input \u001b[1;32mIn [36]\u001b[0m, in \u001b[0;36m<cell line: 10>\u001b[1;34m()\u001b[0m\n\u001b[0;32m      7\u001b[0m         \u001b[38;5;28mprint\u001b[39m(\u001b[38;5;124m\"\u001b[39m\u001b[38;5;124mHi, users entered name is: \u001b[39m\u001b[38;5;124m\"\u001b[39m, \u001b[38;5;28mself\u001b[39m\u001b[38;5;241m.\u001b[39mname)\n\u001b[0;32m      9\u001b[0m p \u001b[38;5;241m=\u001b[39m Printing(\u001b[38;5;124m\"\u001b[39m\u001b[38;5;124mDavid\u001b[39m\u001b[38;5;124m\"\u001b[39m) \n\u001b[1;32m---> 10\u001b[0m \u001b[43mp\u001b[49m\u001b[43m(\u001b[49m\u001b[43m)\u001b[49m\n",
      "\u001b[1;31mTypeError\u001b[0m: 'Printing' object is not callable"
     ]
    }
   ],
   "source": [
    "# note when we call object which is not callable then it will error\n",
    "class Printing:\n",
    "    def __init__(self, name):\n",
    "        self.name = name \n",
    "    \n",
    "    def print_name(self):\n",
    "        print(\"Hi, users entered name is: \", self.name)\n",
    "        \n",
    "p = Printing(\"David\") \n",
    "p()"
   ]
  },
  {
   "cell_type": "code",
   "execution_count": 38,
   "id": "e7c45270",
   "metadata": {},
   "outputs": [
    {
     "name": "stdout",
     "output_type": "stream",
     "text": [
      "Hi, users entered name is:  David\n"
     ]
    }
   ],
   "source": [
    "# But by using special method \"__call__\" we can call it\n",
    "\n",
    "class Printing:\n",
    "    def __init__(self, name):\n",
    "        self.name = name \n",
    "    \n",
    "    def __call__(self):  # here we uses special method\n",
    "        print(\"Hi, users entered name is: \", self.name)\n",
    "        \n",
    "p = Printing(\"David\") # let's change the name\n",
    "p()"
   ]
  },
  {
   "cell_type": "code",
   "execution_count": 10,
   "id": "4aeef808",
   "metadata": {},
   "outputs": [
    {
     "name": "stdout",
     "output_type": "stream",
     "text": [
      "GOOD MORNING\n"
     ]
    }
   ],
   "source": [
    "# Here we uses Class Decorator , in previous we used function decorator in class\n",
    "\n",
    "class Decorator:\n",
    "    def __init__(self, func):\n",
    "        self.func = func\n",
    "    def __call__(self):\n",
    "        str1 = self.func()\n",
    "        return str1.upper()\n",
    "    \n",
    "@Decorator\n",
    "def greet():\n",
    "    return \"good morning\"\n",
    "\n",
    "print(greet())"
   ]
  },
  {
   "cell_type": "code",
   "execution_count": 18,
   "id": "6f7523d8",
   "metadata": {},
   "outputs": [
    {
     "name": "stdout",
     "output_type": "stream",
     "text": [
      "You can't devide change the input!!\n"
     ]
    }
   ],
   "source": [
    "class Check_div:\n",
    "    \n",
    "    def __init__(self, func):\n",
    "        self.func = func\n",
    "        \n",
    "    def __call__(self, *args, **kwargs):\n",
    "        if args[1] == 0:\n",
    "            return \"You can't devide change the input!!\"\n",
    "        else:\n",
    "            return self.func(*args, **kwargs)\n",
    "\n",
    "@Check_div\n",
    "def div(a,b):\n",
    "    return a/b\n",
    "\n",
    "print(div(3, 0))"
   ]
  },
  {
   "cell_type": "code",
   "execution_count": 44,
   "id": "aa4dcb91",
   "metadata": {},
   "outputs": [
    {
     "name": "stdout",
     "output_type": "stream",
     "text": [
      "1.5\n"
     ]
    }
   ],
   "source": [
    "class Check_div:\n",
    "    \n",
    "    def __init__(self, func):\n",
    "        self.func = func\n",
    "        \n",
    "    def __call__(self, *args, **kwargs):\n",
    "        if args[1] == 0:\n",
    "            return \"You can't devide change the input!!\"\n",
    "        else:\n",
    "            return self.func(*args, **kwargs)\n",
    "\n",
    "@Check_div\n",
    "def div(a,b):\n",
    "    return a/b\n",
    "\n",
    "print(div(3, 2))"
   ]
  },
  {
   "cell_type": "code",
   "execution_count": 45,
   "id": "d51b6344",
   "metadata": {},
   "outputs": [
    {
     "name": "stdout",
     "output_type": "stream",
     "text": [
      "You can't devide change the input!!\n",
      "You can't devide change the input!!\n"
     ]
    }
   ],
   "source": [
    "# for multiple function\n",
    "\n",
    "class Check_div:\n",
    "    \n",
    "    def __init__(self, func):\n",
    "        self.func = func\n",
    "        \n",
    "    def __call__(self, *args, **kwargs):\n",
    "        list1 = []\n",
    "        list1 = args[1:]\n",
    "        for i in list1:\n",
    "            if i == 0:\n",
    "                return \"You can't devide change the input!!\"\n",
    "            else:\n",
    "                return self.func(*args, **kwargs)\n",
    "\n",
    "@Check_div\n",
    "def div1(a,b):\n",
    "    return a/b\n",
    "\n",
    "@Check_div\n",
    "def div2(a,b,c):\n",
    "    return a/b/c\n",
    "\n",
    "print(div1(3, 0))\n",
    "print(div2(3, 0))"
   ]
  },
  {
   "cell_type": "markdown",
   "id": "d7e9afbc",
   "metadata": {},
   "source": [
    "Thank You😊👍"
   ]
  }
 ],
 "metadata": {
  "kernelspec": {
   "display_name": "Python 3 (ipykernel)",
   "language": "python",
   "name": "python3"
  },
  "language_info": {
   "codemirror_mode": {
    "name": "ipython",
    "version": 3
   },
   "file_extension": ".py",
   "mimetype": "text/x-python",
   "name": "python",
   "nbconvert_exporter": "python",
   "pygments_lexer": "ipython3",
   "version": "3.9.7"
  }
 },
 "nbformat": 4,
 "nbformat_minor": 5
}
