{
 "cells": [
  {
   "cell_type": "markdown",
   "id": "3cb2196c",
   "metadata": {},
   "source": [
    "#### Sort List using Buit-In methods\n",
    "\n",
    "* sort(): built-in list method (Only works on list)\n",
    "\n",
    "* sorted(): Built-in function"
   ]
  },
  {
   "cell_type": "markdown",
   "id": "20092eda",
   "metadata": {},
   "source": [
    "#### Sort List Built-in method"
   ]
  },
  {
   "cell_type": "code",
   "execution_count": 1,
   "id": "61b59e34",
   "metadata": {},
   "outputs": [
    {
     "data": {
      "text/plain": [
       "[1, 1.1, 2, 2.5, 2.5, 3, 3.4, 5, 10, 56]"
      ]
     },
     "execution_count": 1,
     "metadata": {},
     "output_type": "execute_result"
    }
   ],
   "source": [
    "num = [10, 2,3, 5, 3.4, 56, 1, 1.1, 2.5, 2.5]\n",
    "\n",
    "num.sort() # sort in ascending order\n",
    "num"
   ]
  },
  {
   "cell_type": "code",
   "execution_count": 2,
   "id": "cdbb2567",
   "metadata": {},
   "outputs": [
    {
     "data": {
      "text/plain": [
       "[56, 10, 5, 3.4, 3, 2.5, 2.5, 2, 1.1, 1]"
      ]
     },
     "execution_count": 2,
     "metadata": {},
     "output_type": "execute_result"
    }
   ],
   "source": [
    "num = [10, 2,3, 5, 3.4, 56, 1, 1.1, 2.5, 2.5]\n",
    "\n",
    "num.sort(reverse=True) # for descending order\n",
    "num"
   ]
  },
  {
   "cell_type": "code",
   "execution_count": 6,
   "id": "96a0f65b",
   "metadata": {},
   "outputs": [
    {
     "name": "stdout",
     "output_type": "stream",
     "text": [
      "Help on class list in module builtins:\n",
      "\n",
      "class list(object)\n",
      " |  list(iterable=(), /)\n",
      " |  \n",
      " |  Built-in mutable sequence.\n",
      " |  \n",
      " |  If no argument is given, the constructor creates a new empty list.\n",
      " |  The argument must be an iterable if specified.\n",
      " |  \n",
      " |  Methods defined here:\n",
      " |  \n",
      " |  __add__(self, value, /)\n",
      " |      Return self+value.\n",
      " |  \n",
      " |  __contains__(self, key, /)\n",
      " |      Return key in self.\n",
      " |  \n",
      " |  __delitem__(self, key, /)\n",
      " |      Delete self[key].\n",
      " |  \n",
      " |  __eq__(self, value, /)\n",
      " |      Return self==value.\n",
      " |  \n",
      " |  __ge__(self, value, /)\n",
      " |      Return self>=value.\n",
      " |  \n",
      " |  __getattribute__(self, name, /)\n",
      " |      Return getattr(self, name).\n",
      " |  \n",
      " |  __getitem__(...)\n",
      " |      x.__getitem__(y) <==> x[y]\n",
      " |  \n",
      " |  __gt__(self, value, /)\n",
      " |      Return self>value.\n",
      " |  \n",
      " |  __iadd__(self, value, /)\n",
      " |      Implement self+=value.\n",
      " |  \n",
      " |  __imul__(self, value, /)\n",
      " |      Implement self*=value.\n",
      " |  \n",
      " |  __init__(self, /, *args, **kwargs)\n",
      " |      Initialize self.  See help(type(self)) for accurate signature.\n",
      " |  \n",
      " |  __iter__(self, /)\n",
      " |      Implement iter(self).\n",
      " |  \n",
      " |  __le__(self, value, /)\n",
      " |      Return self<=value.\n",
      " |  \n",
      " |  __len__(self, /)\n",
      " |      Return len(self).\n",
      " |  \n",
      " |  __lt__(self, value, /)\n",
      " |      Return self<value.\n",
      " |  \n",
      " |  __mul__(self, value, /)\n",
      " |      Return self*value.\n",
      " |  \n",
      " |  __ne__(self, value, /)\n",
      " |      Return self!=value.\n",
      " |  \n",
      " |  __repr__(self, /)\n",
      " |      Return repr(self).\n",
      " |  \n",
      " |  __reversed__(self, /)\n",
      " |      Return a reverse iterator over the list.\n",
      " |  \n",
      " |  __rmul__(self, value, /)\n",
      " |      Return value*self.\n",
      " |  \n",
      " |  __setitem__(self, key, value, /)\n",
      " |      Set self[key] to value.\n",
      " |  \n",
      " |  __sizeof__(self, /)\n",
      " |      Return the size of the list in memory, in bytes.\n",
      " |  \n",
      " |  append(self, object, /)\n",
      " |      Append object to the end of the list.\n",
      " |  \n",
      " |  clear(self, /)\n",
      " |      Remove all items from list.\n",
      " |  \n",
      " |  copy(self, /)\n",
      " |      Return a shallow copy of the list.\n",
      " |  \n",
      " |  count(self, value, /)\n",
      " |      Return number of occurrences of value.\n",
      " |  \n",
      " |  extend(self, iterable, /)\n",
      " |      Extend list by appending elements from the iterable.\n",
      " |  \n",
      " |  index(self, value, start=0, stop=9223372036854775807, /)\n",
      " |      Return first index of value.\n",
      " |      \n",
      " |      Raises ValueError if the value is not present.\n",
      " |  \n",
      " |  insert(self, index, object, /)\n",
      " |      Insert object before index.\n",
      " |  \n",
      " |  pop(self, index=-1, /)\n",
      " |      Remove and return item at index (default last).\n",
      " |      \n",
      " |      Raises IndexError if list is empty or index is out of range.\n",
      " |  \n",
      " |  remove(self, value, /)\n",
      " |      Remove first occurrence of value.\n",
      " |      \n",
      " |      Raises ValueError if the value is not present.\n",
      " |  \n",
      " |  reverse(self, /)\n",
      " |      Reverse *IN PLACE*.\n",
      " |  \n",
      " |  sort(self, /, *, key=None, reverse=False)\n",
      " |      Sort the list in ascending order and return None.\n",
      " |      \n",
      " |      The sort is in-place (i.e. the list itself is modified) and stable (i.e. the\n",
      " |      order of two equal elements is maintained).\n",
      " |      \n",
      " |      If a key function is given, apply it once to each list item and sort them,\n",
      " |      ascending or descending, according to their function values.\n",
      " |      \n",
      " |      The reverse flag can be set to sort in descending order.\n",
      " |  \n",
      " |  ----------------------------------------------------------------------\n",
      " |  Class methods defined here:\n",
      " |  \n",
      " |  __class_getitem__(...) from builtins.type\n",
      " |      See PEP 585\n",
      " |  \n",
      " |  ----------------------------------------------------------------------\n",
      " |  Static methods defined here:\n",
      " |  \n",
      " |  __new__(*args, **kwargs) from builtins.type\n",
      " |      Create and return a new object.  See help(type) for accurate signature.\n",
      " |  \n",
      " |  ----------------------------------------------------------------------\n",
      " |  Data and other attributes defined here:\n",
      " |  \n",
      " |  __hash__ = None\n",
      "\n"
     ]
    }
   ],
   "source": [
    "help(list) # sort method is list method"
   ]
  },
  {
   "cell_type": "markdown",
   "id": "e3fe5590",
   "metadata": {},
   "source": [
    "##### sort(self, /, *, key=None, reverse=False)\n",
    " |      Sort the list in ascending order and return None.\n",
    " |      \n",
    " |      The sort is in-place (i.e. the list itself is modified) and stable (i.e. the\n",
    " |      order of two equal elements is maintained).\n",
    " |      \n",
    " |      If a key function is given, apply it once to each list item and sort them,\n",
    " |      ascending or descending, according to their function values.\n",
    " |      \n",
    " |      The reverse flag can be set to sort in descending order."
   ]
  },
  {
   "cell_type": "code",
   "execution_count": 3,
   "id": "a921001a",
   "metadata": {},
   "outputs": [
    {
     "data": {
      "text/plain": [
       "['aa', 'b', 'cccc', 'ddd', 'eeee']"
      ]
     },
     "execution_count": 3,
     "metadata": {},
     "output_type": "execute_result"
    }
   ],
   "source": [
    "# sorting string \n",
    "\n",
    "list1 = [\"aa\", \"b\", \"eeee\", \"cccc\", \"ddd\"]\n",
    "\n",
    "list1.sort()\n",
    "list1"
   ]
  },
  {
   "cell_type": "code",
   "execution_count": 4,
   "id": "179366f0",
   "metadata": {},
   "outputs": [
    {
     "data": {
      "text/plain": [
       "['eeee', 'ddd', 'cccc', 'b', 'aa']"
      ]
     },
     "execution_count": 4,
     "metadata": {},
     "output_type": "execute_result"
    }
   ],
   "source": [
    "list1 = [\"aa\", \"b\", \"eeee\", \"cccc\", \"ddd\"]\n",
    "\n",
    "list1.sort(reverse=True)\n",
    "list1"
   ]
  },
  {
   "cell_type": "code",
   "execution_count": 5,
   "id": "79877bed",
   "metadata": {},
   "outputs": [
    {
     "data": {
      "text/plain": [
       "['b', 'aa', 'ddd', 'eeee', 'cccc']"
      ]
     },
     "execution_count": 5,
     "metadata": {},
     "output_type": "execute_result"
    }
   ],
   "source": [
    "# sorting string by length \n",
    "\n",
    "list1 = [\"aa\", \"b\", \"eeee\", \"cccc\", \"ddd\"]\n",
    "\n",
    "list1.sort(key= len) # key function is useful , we can take user defined function\n",
    "list1"
   ]
  },
  {
   "cell_type": "code",
   "execution_count": 6,
   "id": "50e7598c",
   "metadata": {},
   "outputs": [
    {
     "data": {
      "text/plain": [
       "[[1, 10], [1, 12], [2, 9], [3, 7]]"
      ]
     },
     "execution_count": 6,
     "metadata": {},
     "output_type": "execute_result"
    }
   ],
   "source": [
    "## let's take an nested list \n",
    "list2 = [[2,9], [1,10], [3,7],[1,12]]\n",
    "\n",
    "list2.sort() # sorted according to first element \n",
    "list2"
   ]
  },
  {
   "cell_type": "code",
   "execution_count": 7,
   "id": "44ed557c",
   "metadata": {},
   "outputs": [
    {
     "data": {
      "text/plain": [
       "[[3, 7], [2, 9], [1, 10], [1, 12]]"
      ]
     },
     "execution_count": 7,
     "metadata": {},
     "output_type": "execute_result"
    }
   ],
   "source": [
    "# we want sort according to second value \n",
    "\n",
    "def sortBySecond(element):\n",
    "    return element[1]\n",
    "\n",
    "list2 = [[2,9], [1,10], [3,7],[1,12]]\n",
    "\n",
    "list2.sort(key=sortBySecond) # now user defined for second value and no need to add paranthesis ()\n",
    "list2"
   ]
  },
  {
   "cell_type": "markdown",
   "id": "d2d9e1a9",
   "metadata": {},
   "source": [
    "#### Sorted  Built-in function"
   ]
  },
  {
   "cell_type": "code",
   "execution_count": 12,
   "id": "e2965216",
   "metadata": {},
   "outputs": [
    {
     "name": "stdout",
     "output_type": "stream",
     "text": [
      "Help on built-in function sorted in module builtins:\n",
      "\n",
      "sorted(iterable, /, *, key=None, reverse=False)\n",
      "    Return a new list containing all items from the iterable in ascending order.\n",
      "    \n",
      "    A custom key function can be supplied to customize the sort order, and the\n",
      "    reverse flag can be set to request the result in descending order.\n",
      "\n"
     ]
    }
   ],
   "source": [
    "help(sorted)"
   ]
  },
  {
   "cell_type": "code",
   "execution_count": 13,
   "id": "f47041b5",
   "metadata": {},
   "outputs": [],
   "source": [
    "list1 = [7,5,6,3,4,2,3,1]\n",
    "tuple1 = ((3, 8), (2, 9), (1, 10), (4, 7))\n",
    "d1 = {3:\"e\", 2:\"a\", 1:\"c\", 7:\"b\", 5:\"d\"}"
   ]
  },
  {
   "cell_type": "code",
   "execution_count": 14,
   "id": "b91e669d",
   "metadata": {},
   "outputs": [],
   "source": [
    "### Note: sorted method doesn't change the original list, it return a new sorted list, tuple etc."
   ]
  },
  {
   "cell_type": "code",
   "execution_count": 15,
   "id": "c1c6be09",
   "metadata": {},
   "outputs": [
    {
     "data": {
      "text/plain": [
       "['aa', 'b', 'cccc', 'ddd', 'eeee']"
      ]
     },
     "execution_count": 15,
     "metadata": {},
     "output_type": "execute_result"
    }
   ],
   "source": [
    "sorted(list1)"
   ]
  },
  {
   "cell_type": "code",
   "execution_count": 16,
   "id": "f2074765",
   "metadata": {},
   "outputs": [
    {
     "data": {
      "text/plain": [
       "['b', 'aa', 'ddd', 'eeee', 'cccc']"
      ]
     },
     "execution_count": 16,
     "metadata": {},
     "output_type": "execute_result"
    }
   ],
   "source": [
    "list1"
   ]
  },
  {
   "cell_type": "code",
   "execution_count": 17,
   "id": "e4b9056c",
   "metadata": {},
   "outputs": [
    {
     "data": {
      "text/plain": [
       "['eeee', 'ddd', 'cccc', 'b', 'aa']"
      ]
     },
     "execution_count": 17,
     "metadata": {},
     "output_type": "execute_result"
    }
   ],
   "source": [
    "sorted(list1, reverse=True)"
   ]
  },
  {
   "cell_type": "code",
   "execution_count": 18,
   "id": "a10f9121",
   "metadata": {},
   "outputs": [
    {
     "data": {
      "text/plain": [
       "[(1, 10), (2, 9), (3, 8), (4, 7)]"
      ]
     },
     "execution_count": 18,
     "metadata": {},
     "output_type": "execute_result"
    }
   ],
   "source": [
    "tuple1 = ((3, 8), (2, 9), (1, 10), (4, 7))\n",
    "sorted(tuple1)"
   ]
  },
  {
   "cell_type": "code",
   "execution_count": 19,
   "id": "7dcf981d",
   "metadata": {},
   "outputs": [
    {
     "data": {
      "text/plain": [
       "[(4, 7), (3, 8), (2, 9), (1, 10)]"
      ]
     },
     "execution_count": 19,
     "metadata": {},
     "output_type": "execute_result"
    }
   ],
   "source": [
    "tuple1 = ((3, 8), (2, 9), (1, 10), (4, 7))\n",
    "sorted(tuple1, reverse=True)"
   ]
  },
  {
   "cell_type": "code",
   "execution_count": 20,
   "id": "f8c3371c",
   "metadata": {},
   "outputs": [
    {
     "data": {
      "text/plain": [
       "[1, 2, 3, 5, 7]"
      ]
     },
     "execution_count": 20,
     "metadata": {},
     "output_type": "execute_result"
    }
   ],
   "source": [
    "d1 = {3:\"e\", 2:\"a\", 1:\"c\", 7:\"b\", 5:\"d\"}\n",
    "\n",
    "sorted(d1) # it will sort on the basis of key and return only key\n",
    "\n"
   ]
  },
  {
   "cell_type": "code",
   "execution_count": 21,
   "id": "68956fbb",
   "metadata": {},
   "outputs": [
    {
     "data": {
      "text/plain": [
       "['a', 'b', 'c', 'd', 'e']"
      ]
     },
     "execution_count": 21,
     "metadata": {},
     "output_type": "execute_result"
    }
   ],
   "source": [
    "# if we want to sort by value the we will use d1.vlaues()\n",
    "\n",
    "d1 = {3:\"e\", 2:\"a\", 1:\"c\", 7:\"b\", 5:\"d\"}\n",
    "\n",
    "sorted(d1.values()) # will return only sorted velue"
   ]
  },
  {
   "cell_type": "code",
   "execution_count": 22,
   "id": "1a58e34f",
   "metadata": {},
   "outputs": [
    {
     "data": {
      "text/plain": [
       "[(1, 'c'), (2, 'a'), (3, 'e'), (5, 'd'), (7, 'b')]"
      ]
     },
     "execution_count": 22,
     "metadata": {},
     "output_type": "execute_result"
    }
   ],
   "source": [
    "# if we want both key and values\n",
    "\n",
    "d1 = {3:\"e\", 2:\"a\", 1:\"c\", 7:\"b\", 5:\"d\"}\n",
    "sorted(d1.items()) # return both key and value but sorted on keys "
   ]
  },
  {
   "cell_type": "code",
   "execution_count": 23,
   "id": "f646123c",
   "metadata": {},
   "outputs": [
    {
     "data": {
      "text/plain": [
       "[(2, 'a'), (7, 'b'), (1, 'c'), (5, 'd'), (3, 'e')]"
      ]
     },
     "execution_count": 23,
     "metadata": {},
     "output_type": "execute_result"
    }
   ],
   "source": [
    "# if want sort it by second value the use key \n",
    "\n",
    "d1 = {3:\"e\", 2:\"a\", 1:\"c\", 7:\"b\", 5:\"d\"}\n",
    "\n",
    "sorted(d1.items(), key= lambda x:x[1])"
   ]
  },
  {
   "cell_type": "markdown",
   "id": "7a563060",
   "metadata": {},
   "source": [
    "As we can see we successfully sorted the dictionary by values with the key"
   ]
  },
  {
   "cell_type": "code",
   "execution_count": 24,
   "id": "a22d4079",
   "metadata": {},
   "outputs": [
    {
     "data": {
      "text/plain": [
       "{1, 2, 3, 4, 8, 12, 56, 76}"
      ]
     },
     "execution_count": 24,
     "metadata": {},
     "output_type": "execute_result"
    }
   ],
   "source": [
    "list1 = [12,2,3,4,56,76,56,76,1,2,8]\n",
    "# find the second highest value in this \n",
    "\n",
    "set1 = set(list1)\n",
    "set1\n"
   ]
  },
  {
   "cell_type": "code",
   "execution_count": 25,
   "id": "be0e2ac7",
   "metadata": {},
   "outputs": [
    {
     "data": {
      "text/plain": [
       "[1, 2, 3, 4, 8, 12, 76, 56]"
      ]
     },
     "execution_count": 25,
     "metadata": {},
     "output_type": "execute_result"
    }
   ],
   "source": [
    "list2 = list(set1)\n",
    "list2"
   ]
  },
  {
   "cell_type": "code",
   "execution_count": 26,
   "id": "a0c833da",
   "metadata": {},
   "outputs": [],
   "source": [
    "list2.sort()"
   ]
  },
  {
   "cell_type": "code",
   "execution_count": 27,
   "id": "42a273a3",
   "metadata": {},
   "outputs": [
    {
     "data": {
      "text/plain": [
       "[1, 2, 3, 4, 8, 12, 56, 76]"
      ]
     },
     "execution_count": 27,
     "metadata": {},
     "output_type": "execute_result"
    }
   ],
   "source": [
    "list2"
   ]
  },
  {
   "cell_type": "code",
   "execution_count": 28,
   "id": "e5edeb95",
   "metadata": {},
   "outputs": [
    {
     "data": {
      "text/plain": [
       "56"
      ]
     },
     "execution_count": 28,
     "metadata": {},
     "output_type": "execute_result"
    }
   ],
   "source": [
    "list2[-2]"
   ]
  },
  {
   "cell_type": "code",
   "execution_count": 31,
   "id": "914d3207",
   "metadata": {},
   "outputs": [
    {
     "data": {
      "text/plain": [
       "56"
      ]
     },
     "execution_count": 31,
     "metadata": {},
     "output_type": "execute_result"
    }
   ],
   "source": [
    "list1 = [12,2,3,4,56,76,56,76,1,2,8]\n",
    "# find the second highest value in this \n",
    "list2 = list(set(list1))\n",
    "list2.sort()\n",
    "list2[-2]"
   ]
  },
  {
   "cell_type": "code",
   "execution_count": 34,
   "id": "35849b8f",
   "metadata": {},
   "outputs": [
    {
     "data": {
      "text/plain": [
       "[(1, 'a'), (2, 'r'), (3, 'z'), (4, 's')]"
      ]
     },
     "execution_count": 34,
     "metadata": {},
     "output_type": "execute_result"
    }
   ],
   "source": [
    "## now \n",
    "tuple1 = ((1, \"a\"), (4, \"s\"), (3, \"z\"), (2, \"r\"))\n",
    "sorted(tuple1)"
   ]
  },
  {
   "cell_type": "markdown",
   "id": "1101055e",
   "metadata": {},
   "source": [
    "As we can see that here tuple1 has been sorted by first value in nested tuple, so if we want to sort it by second value in nested list we need to use key function to in sorted function."
   ]
  },
  {
   "cell_type": "code",
   "execution_count": 35,
   "id": "2da0e162",
   "metadata": {},
   "outputs": [
    {
     "data": {
      "text/plain": [
       "[(1, 'a'), (2, 'r'), (4, 's'), (3, 'z')]"
      ]
     },
     "execution_count": 35,
     "metadata": {},
     "output_type": "execute_result"
    }
   ],
   "source": [
    "# sorted function using key for second value \n",
    "\n",
    "def secondValue(element):\n",
    "    return element[1]\n",
    "\n",
    "tuple1 = ((1, \"a\"), (4, \"s\"), (3, \"z\"), (2, \"r\"))\n",
    "sorted(tuple1, key= secondValue) # no need to use paranthesis with secondValue"
   ]
  },
  {
   "cell_type": "markdown",
   "id": "2894567b",
   "metadata": {},
   "source": [
    "As we can see that we have successfully sorted with second value in nested tuple1."
   ]
  },
  {
   "cell_type": "markdown",
   "id": "7d352e15",
   "metadata": {},
   "source": [
    "## Selection Sort Algorithm\n",
    "\n",
    "Selection sort is a simple sorting algorithm. This sorting algorithm is `an in-place comparison-based algorithm in which the list is divided into two parts, the sorted part at the left end and the unsorted part at the right end`. Initially, the sorted part is empty and the unsorted part is the entire list.\n",
    "\n",
    "* means sorting method without built-in  sorting method\n",
    "\n",
    "1. Selection Sort Algorithm working(example)\n",
    "\n",
    "2. Algorithm\n",
    "\n",
    "3. Write Progam\n",
    "\n",
    "#### Process:\n",
    "\n",
    "1. Starting from the first element search for smallest (biggest for desc) element in the list of numbers.\n",
    "2. Swap minimum (maximum) number with first element.\n",
    "\n",
    "3. take the sublist(ignore sorted part) and repeat the step 1 and 2 untill all the elements are sorted."
   ]
  },
  {
   "cell_type": "markdown",
   "id": "73a2abdc",
   "metadata": {},
   "source": [
    "#### Sorting In Ascending Order (not duplicate)"
   ]
  },
  {
   "cell_type": "code",
   "execution_count": 29,
   "id": "fa85baa8",
   "metadata": {},
   "outputs": [
    {
     "data": {
      "text/plain": [
       "0"
      ]
     },
     "execution_count": 29,
     "metadata": {},
     "output_type": "execute_result"
    }
   ],
   "source": [
    "list1 = [56, 3, 2, 78, 6,0]\n",
    "\n",
    "min_val = min(list1)\n",
    "min_val"
   ]
  },
  {
   "cell_type": "code",
   "execution_count": 30,
   "id": "b0368a6e",
   "metadata": {},
   "outputs": [
    {
     "data": {
      "text/plain": [
       "5"
      ]
     },
     "execution_count": 30,
     "metadata": {},
     "output_type": "execute_result"
    }
   ],
   "source": [
    "list1 = [56, 3, 2, 78, 6,0]\n",
    "\n",
    "min_val = min(list1)\n",
    "min_ind = list1.index(min_val)\n",
    "min_ind"
   ]
  },
  {
   "cell_type": "code",
   "execution_count": 40,
   "id": "3ff06b25",
   "metadata": {},
   "outputs": [
    {
     "name": "stdout",
     "output_type": "stream",
     "text": [
      "[56, 3, 2, 78, 6, 0]\n",
      "\n",
      "[0, 3, 2, 78, 6, 56]\n"
     ]
    }
   ],
   "source": [
    "list1 = [56, 3, 2, 78, 6,0]\n",
    "print(list1)\n",
    "print()\n",
    "min_val = min(list1)\n",
    "min_ind = list1.index(min_val) # will get the index of min value\n",
    "# now we need to swap the value\n",
    "list1[0], list1[min_ind] = list1[min_ind], list1[0]\n",
    "\n",
    "print(list1)\n"
   ]
  },
  {
   "cell_type": "code",
   "execution_count": 31,
   "id": "3488d21d",
   "metadata": {},
   "outputs": [
    {
     "name": "stdout",
     "output_type": "stream",
     "text": [
      "[56, 3, 2, 78, 6, 0]\n",
      "[0, 2, 3, 6, 56, 78]\n"
     ]
    }
   ],
   "source": [
    "## we need to do the same process till the list get sorted so we will use for loop\n",
    "\n",
    "list1 = [56, 3, 2, 78, 6,0]\n",
    "print(list1)\n",
    "\n",
    "for i in range(len(list1)):\n",
    "    min_val = min(list1[i:]) # here we don't need same smallest number means second time \n",
    "    min_ind = list1.index(min_val)   #  second smallest       \n",
    "    list1[i], list1[min_ind] = list1[min_ind], list1[i] # here gave i in list1[i] because we don't\n",
    "                                                        # want every minimum value at 0th index\n",
    "    \n",
    "print(list1)\n"
   ]
  },
  {
   "cell_type": "code",
   "execution_count": 33,
   "id": "f331b623",
   "metadata": {},
   "outputs": [
    {
     "name": "stdout",
     "output_type": "stream",
     "text": [
      "[56, 3, 2, 78, 6, 0]\n",
      "[0, 2, 3, 6, 56, 78]\n"
     ]
    }
   ],
   "source": [
    "list1 = [56, 3, 2, 78, 6,0]\n",
    "print(list1)\n",
    "\n",
    "for i in range(len(list1)):\n",
    "    min_val = min(list1[i:]) \n",
    "    min_ind = list1.index(min_val)     \n",
    "    list1[i], list1[min_ind] = list1[min_ind], list1[i] \n",
    "                                                       \n",
    "    \n",
    "print(list1)\n"
   ]
  },
  {
   "cell_type": "markdown",
   "id": "9de9671f",
   "metadata": {},
   "source": [
    "#### Sorting In Descending Order (not duplicate)"
   ]
  },
  {
   "cell_type": "code",
   "execution_count": 49,
   "id": "e9009c05",
   "metadata": {},
   "outputs": [
    {
     "name": "stdout",
     "output_type": "stream",
     "text": [
      "[56, 3, 2, 78, 6, 0]\n",
      "[78, 56, 6, 3, 2, 0]\n"
     ]
    }
   ],
   "source": [
    "# for descending order we need to chenge from min to max for finding the values\n",
    "list1 = [56, 3, 2, 78, 6,0]\n",
    "print(list1)\n",
    "\n",
    "for i in range(len(list1)):\n",
    "    max_val = max(list1[i:]) \n",
    "    max_ind = list1.index(max_val)     \n",
    "    list1[i], list1[max_ind] = list1[max_ind], list1[i] \n",
    "                                                       \n",
    "    \n",
    "print(list1)"
   ]
  },
  {
   "cell_type": "markdown",
   "id": "e4a0b4f5",
   "metadata": {},
   "source": [
    "#### Sorting In Ascending Order (including  duplicate)"
   ]
  },
  {
   "cell_type": "code",
   "execution_count": 34,
   "id": "dd6243ff",
   "metadata": {},
   "outputs": [
    {
     "name": "stdout",
     "output_type": "stream",
     "text": [
      "[56, 3, 2, 2, 0, 0, 78, 6, 0]\n",
      "[0, 0, 0, 2, 2, 3, 6, 56, 78]\n"
     ]
    }
   ],
   "source": [
    "list1 = [56, 3, 2, 2, 0, 0, 78, 6, 0]\n",
    "print(list1)\n",
    "\n",
    "for i in range(len(list1)):\n",
    "    min_val = min(list1[i:]) \n",
    "    min_ind = list1.index(min_val, i)  # we gave start for searching index(min_val, i )  \n",
    "    # list1.index(value, start=0, stop=9223372036854775807, /)\n",
    "    # by adding i in first iteration it will search from 0 index and next time it will search from 1\n",
    "    # and will do the same till get min val\n",
    "    list1[i], list1[min_ind] = list1[min_ind], list1[i] \n",
    "                                                       \n",
    "    \n",
    "print(list1)"
   ]
  },
  {
   "cell_type": "code",
   "execution_count": 3,
   "id": "c5ec7c9b",
   "metadata": {},
   "outputs": [
    {
     "data": {
      "text/plain": [
       "8"
      ]
     },
     "execution_count": 3,
     "metadata": {},
     "output_type": "execute_result"
    }
   ],
   "source": [
    "# just for example \n",
    "list1 = [56, 3, 2, 2, 0, 0, 78, 6, 0]\n",
    "\n",
    "list1.index(0, 6)"
   ]
  },
  {
   "cell_type": "code",
   "execution_count": 46,
   "id": "502c258f",
   "metadata": {},
   "outputs": [
    {
     "name": "stdout",
     "output_type": "stream",
     "text": [
      "[56, 3, 2, 2, 0, 0, 78, 6, 0]\n",
      "[0, 0, 0, 2, 2, 3, 6, 56, 78]\n"
     ]
    }
   ],
   "source": [
    "list1 = [56, 3, 2, 2, 0, 0, 78, 6, 0]\n",
    "print(list1)\n",
    "\n",
    "for i in range(len(list1)):\n",
    "    min_val = min(list1[i:]) \n",
    "    min_ind = list1.index(min_val, i)  \n",
    "    \n",
    "    list1[i], list1[min_ind] = list1[min_ind], list1[i] \n",
    "                                                       \n",
    "    \n",
    "print(list1)"
   ]
  },
  {
   "cell_type": "markdown",
   "id": "a35b0851",
   "metadata": {},
   "source": [
    "####  Sorting In Descending Order (including duplicate)"
   ]
  },
  {
   "cell_type": "code",
   "execution_count": 48,
   "id": "b8d54e97",
   "metadata": {},
   "outputs": [
    {
     "name": "stdout",
     "output_type": "stream",
     "text": [
      "[56, 3, 2, 2, 0, 0, 78, 6, 0]\n",
      "[78, 56, 6, 3, 2, 2, 0, 0, 0]\n"
     ]
    }
   ],
   "source": [
    "list1 = [56, 3, 2, 2, 0, 0, 78, 6, 0]\n",
    "print(list1)\n",
    "\n",
    "for i in range(len(list1)):\n",
    "    max_val = max(list1[i:]) \n",
    "    max_ind = list1.index(max_val, i)  \n",
    "    list1[i], list1[max_ind] = list1[max_ind], list1[i] \n",
    "                                                       \n",
    "    \n",
    "print(list1)"
   ]
  },
  {
   "cell_type": "markdown",
   "id": "ce00dac1",
   "metadata": {},
   "source": [
    "#### if we want all the iteration "
   ]
  },
  {
   "cell_type": "code",
   "execution_count": 53,
   "id": "cc9c5e4c",
   "metadata": {},
   "outputs": [
    {
     "name": "stdout",
     "output_type": "stream",
     "text": [
      "Unsorted :  [56, 3, 2, 2, 0, 0, 78, 6, 0]\n",
      "\n",
      "[0, 3, 2, 2, 56, 0, 78, 6, 0]\n",
      "[0, 0, 2, 2, 56, 3, 78, 6, 0]\n",
      "[0, 0, 0, 2, 56, 3, 78, 6, 2]\n",
      "[0, 0, 0, 2, 56, 3, 78, 6, 2]\n",
      "[0, 0, 0, 2, 2, 3, 78, 6, 56]\n",
      "[0, 0, 0, 2, 2, 3, 78, 6, 56]\n",
      "[0, 0, 0, 2, 2, 3, 6, 78, 56]\n",
      "[0, 0, 0, 2, 2, 3, 6, 56, 78]\n",
      "[0, 0, 0, 2, 2, 3, 6, 56, 78]\n",
      "\n",
      "Sorted :  [0, 0, 0, 2, 2, 3, 6, 56, 78]\n"
     ]
    }
   ],
   "source": [
    "# for this just adjust for loop inside the loop to print the each iteration\n",
    "\n",
    "list1 = [56, 3, 2, 2, 0, 0, 78, 6, 0]\n",
    "print(\"Unsorted : \",list1)\n",
    "print()\n",
    "for i in range(len(list1)):\n",
    "    min_val = min(list1[i:]) \n",
    "    min_ind = list1.index(min_val, i)  \n",
    "    \n",
    "    list1[i], list1[min_ind] = list1[min_ind], list1[i] \n",
    "    print(list1)\n",
    "print()\n",
    "print(\"Sorted : \",list1)"
   ]
  },
  {
   "cell_type": "markdown",
   "id": "69811730",
   "metadata": {},
   "source": [
    "#### Note\n",
    "`no need to sort the last element because it is the last element and will placed at last, so need to sort`\n",
    "\n",
    "so we can change in loop means `range(len(list1) -1).` \n",
    " "
   ]
  },
  {
   "cell_type": "code",
   "execution_count": 55,
   "id": "ae99f40f",
   "metadata": {},
   "outputs": [
    {
     "name": "stdout",
     "output_type": "stream",
     "text": [
      "Unsorted :  [56, 3, 2, 2, 0, 78, 0]\n",
      "\n",
      "[0, 3, 2, 2, 56, 78, 0]\n",
      "[0, 0, 2, 2, 56, 78, 3]\n",
      "[0, 0, 2, 2, 56, 78, 3]\n",
      "[0, 0, 2, 2, 56, 78, 3]\n",
      "[0, 0, 2, 2, 3, 78, 56]\n",
      "[0, 0, 2, 2, 3, 56, 78]\n",
      "\n",
      "Sorted :  [0, 0, 2, 2, 3, 56, 78]\n"
     ]
    }
   ],
   "source": [
    "list1 = [56, 3, 2, 2, 0,  78, 0]\n",
    "print(\"Unsorted : \",list1)\n",
    "print()\n",
    "for i in range(len(list1) - 1):\n",
    "    min_val = min(list1[i:]) \n",
    "    min_ind = list1.index(min_val, i)  \n",
    "    \n",
    "    list1[i], list1[min_ind] = list1[min_ind], list1[i] \n",
    "    print(list1)\n",
    "print()\n",
    "print(\"Sorted : \",list1)"
   ]
  },
  {
   "cell_type": "markdown",
   "id": "9ae5f5f1",
   "metadata": {},
   "source": [
    "As we can see there were 7 element in the list1 and we use loop for only 6 iteration "
   ]
  },
  {
   "cell_type": "markdown",
   "id": "0b66311f",
   "metadata": {},
   "source": [
    "**note:** \n",
    "\n",
    "`we can make one more change like we can check whether min_value is already at the correct position then no need to swap`"
   ]
  },
  {
   "cell_type": "code",
   "execution_count": 57,
   "id": "c6b49017",
   "metadata": {},
   "outputs": [
    {
     "name": "stdout",
     "output_type": "stream",
     "text": [
      "Unsorted :  [56, 2, 2, 0, 3, 78, 0]\n",
      "\n",
      "[0, 2, 2, 56, 3, 78, 0]\n",
      "[0, 0, 2, 56, 3, 78, 2]\n",
      "[0, 0, 2, 56, 3, 78, 2]\n",
      "[0, 0, 2, 2, 3, 78, 56]\n",
      "[0, 0, 2, 2, 3, 78, 56]\n",
      "[0, 0, 2, 2, 3, 56, 78]\n",
      "\n",
      "Sorted :  [0, 0, 2, 2, 3, 56, 78]\n"
     ]
    }
   ],
   "source": [
    "list1 = [56, 2, 2, 0,3, 78, 0]\n",
    "print(\"Unsorted : \",list1)\n",
    "print()\n",
    "\n",
    "for i in range(len(list1) - 1):\n",
    "    min_val = min(list1[i:]) \n",
    "    min_ind = list1.index(min_val, i)  \n",
    "    if list1[i] != list1[min_ind]:\n",
    "        list1[i], list1[min_ind] = list1[min_ind], list1[i] \n",
    "    \n",
    "    print(list1)\n",
    "print()\n",
    "print(\"Sorted : \",list1)"
   ]
  },
  {
   "cell_type": "markdown",
   "id": "2331997b",
   "metadata": {},
   "source": [
    "### Selection Sort Algorithm Without Using 'min()' Builtin function \n",
    "\n",
    "#### Process:\n",
    "\n",
    "1. Starting from the first element search for smallest (biggest for desc) element in the list of numbers.\n",
    "2. Swap minimum (maximum) number with first element.\n",
    "\n",
    "3. take the sublist(ignore sorted part) and repeat the step 1 and 2 untill all the elements are sorted."
   ]
  },
  {
   "cell_type": "markdown",
   "id": "8feeab84",
   "metadata": {},
   "source": [
    "#### Without Using 'min()' Builtin function (Ascending order)"
   ]
  },
  {
   "cell_type": "code",
   "execution_count": 72,
   "id": "5dbcb3eb",
   "metadata": {},
   "outputs": [
    {
     "name": "stdout",
     "output_type": "stream",
     "text": [
      "Unsorted :  [56, 2, 2, 0, 3, 78, 0]\n",
      "\n",
      "[0, 2, 2, 56, 3, 78, 0]\n",
      "[0, 0, 2, 56, 3, 78, 2]\n",
      "[0, 0, 2, 56, 3, 78, 2]\n",
      "[0, 0, 2, 2, 3, 78, 56]\n",
      "[0, 0, 2, 2, 3, 78, 56]\n",
      "[0, 0, 2, 2, 3, 56, 78]\n",
      "\n",
      "Sorted :  [0, 0, 2, 2, 3, 56, 78]\n"
     ]
    }
   ],
   "source": [
    "list1 = [56, 2, 2, 0,3, 78, 0]\n",
    "print(\"Unsorted : \",list1)\n",
    "print()\n",
    "\n",
    "for i in range(len(list1) - 1):\n",
    "    m_val = list1[i]   # removed min()\n",
    "    for j in range(i+1 , len(list1)):  # here taken i+1 because we have already taken 0th index \n",
    "        if list1[j] < m_val:  # if condition for comparing and assigning new m_val\n",
    "            m_val = list1[j]\n",
    "    \n",
    "    m_ind = list1.index(m_val, i)  \n",
    "    if list1[i] != list1[m_ind]:\n",
    "        list1[i], list1[m_ind] = list1[m_ind], list1[i] \n",
    "    \n",
    "    print(list1)\n",
    "print()\n",
    "print(\"Sorted : \",list1)"
   ]
  },
  {
   "cell_type": "code",
   "execution_count": 71,
   "id": "0618be22",
   "metadata": {},
   "outputs": [
    {
     "name": "stdout",
     "output_type": "stream",
     "text": [
      "Unsorted :  [2, 3, 33, 2, 0, 78, 0]\n",
      "\n",
      "[0, 3, 33, 2, 2, 78, 0]\n",
      "[0, 0, 33, 2, 2, 78, 3]\n",
      "[0, 0, 2, 33, 2, 78, 3]\n",
      "[0, 0, 2, 2, 33, 78, 3]\n",
      "[0, 0, 2, 2, 3, 78, 33]\n",
      "[0, 0, 2, 2, 3, 33, 78]\n",
      "\n",
      "Sorted :  [0, 0, 2, 2, 3, 33, 78]\n"
     ]
    }
   ],
   "source": [
    "list1 = [2, 3,33,2, 0, 78, 0]\n",
    "print(\"Unsorted : \",list1)\n",
    "print()\n",
    "\n",
    "for i in range(len(list1) - 1):\n",
    "    m_val = list1[i]   \n",
    "    for j in range(i+1 , len(list1)):\n",
    "        if list1[j] < m_val:\n",
    "            m_val = list1[j]\n",
    "    \n",
    "    m_ind = list1.index(m_val, i)  \n",
    "    if list1[i] != list1[m_ind]:\n",
    "        list1[i], list1[m_ind] = list1[m_ind], list1[i] \n",
    "    \n",
    "    print(list1)\n",
    "print()\n",
    "print(\"Sorted : \",list1)"
   ]
  },
  {
   "cell_type": "markdown",
   "id": "bf7ee637",
   "metadata": {},
   "source": [
    "#### Without Using 'min()' Builtin function (Descending order)"
   ]
  },
  {
   "cell_type": "code",
   "execution_count": 69,
   "id": "a5af7402",
   "metadata": {},
   "outputs": [
    {
     "name": "stdout",
     "output_type": "stream",
     "text": [
      "Unsorted :  [2, 3, 78, 0]\n",
      "\n",
      "[78, 3, 2, 0]\n",
      "[78, 3, 2, 0]\n",
      "[78, 3, 2, 0]\n",
      "\n",
      "Sorted :  [78, 3, 2, 0]\n"
     ]
    }
   ],
   "source": [
    "list1 = [2, 3, 78, 0]\n",
    "print(\"Unsorted : \",list1)\n",
    "print()\n",
    "\n",
    "for i in range(len(list1) - 1):\n",
    "    m_val = list1[i]   \n",
    "    for j in range(i+1 , len(list1)):\n",
    "        if list1[j] > m_val:    # just change < to >\n",
    "            m_val = list1[j]\n",
    "    \n",
    "    m_ind = list1.index(m_val, i)  \n",
    "    if list1[i] != list1[m_ind]:\n",
    "        list1[i], list1[m_ind] = list1[m_ind], list1[i] \n",
    "    \n",
    "    print(list1)\n",
    "print()\n",
    "print(\"Sorted : \",list1)"
   ]
  },
  {
   "cell_type": "code",
   "execution_count": null,
   "id": "f876afd6",
   "metadata": {},
   "outputs": [],
   "source": []
  },
  {
   "cell_type": "markdown",
   "id": "d7b1295f",
   "metadata": {},
   "source": [
    "#### Note: \n",
    "\n",
    "*  `if we don't want index method.`\n",
    "\n",
    "*  `instead of finding m_val we need to find out index of m_val`"
   ]
  },
  {
   "cell_type": "code",
   "execution_count": 63,
   "id": "2b9446cd",
   "metadata": {},
   "outputs": [
    {
     "name": "stdout",
     "output_type": "stream",
     "text": [
      "Unsorted :  [2, 3, 33, 2, 0, 78, 0]\n",
      "\n",
      "[78, 3, 33, 2, 0, 2, 0]\n",
      "[78, 33, 3, 2, 0, 2, 0]\n",
      "[78, 33, 3, 2, 0, 2, 0]\n",
      "[78, 33, 3, 2, 0, 2, 0]\n",
      "[78, 33, 3, 2, 0, 2, 0]\n",
      "[78, 33, 3, 2, 0, 2, 0]\n",
      "\n",
      "Sorted :  [78, 33, 3, 2, 0, 2, 0]\n"
     ]
    }
   ],
   "source": [
    "# Descending order \n",
    "\n",
    "list1 = [2, 3,33,2, 0, 78, 0]\n",
    "print(\"Unsorted : \",list1)\n",
    "print()\n",
    "\n",
    "for i in range(len(list1) - 1):\n",
    "    m_ind = i   \n",
    "    for j in range(i+1 , len(list1)):\n",
    "        if list1[j] > list1[m_ind]:    # just change < to >\n",
    "            m_ind = j\n",
    "    \n",
    "      \n",
    "    if list1[i] != list1[min_ind]:\n",
    "        list1[i], list1[m_ind] = list1[m_ind], list1[i] \n",
    "    \n",
    "    print(list1)\n",
    "print()\n",
    "print(\"Sorted : \",list1)"
   ]
  },
  {
   "cell_type": "code",
   "execution_count": 73,
   "id": "cc02d0fd",
   "metadata": {},
   "outputs": [
    {
     "name": "stdout",
     "output_type": "stream",
     "text": [
      "Unsorted :  [2, 3, 33, 2, 0, 78, 0]\n",
      "\n",
      "[0, 3, 33, 2, 2, 78, 0]\n",
      "[0, 0, 33, 2, 2, 78, 3]\n",
      "[0, 0, 2, 33, 2, 78, 3]\n",
      "[0, 0, 2, 2, 33, 78, 3]\n",
      "[0, 0, 2, 2, 3, 78, 33]\n",
      "[0, 0, 2, 2, 3, 33, 78]\n",
      "\n",
      "Sorted :  [0, 0, 2, 2, 3, 33, 78]\n"
     ]
    }
   ],
   "source": [
    "# Ascending order \n",
    "\n",
    "list1 = [2, 3,33,2, 0, 78, 0]\n",
    "print(\"Unsorted : \",list1)\n",
    "print()\n",
    "\n",
    "for i in range(len(list1) - 1):\n",
    "    m_ind = i   \n",
    "    for j in range(i+1 , len(list1)):\n",
    "        if list1[j] <list1[m_ind]:    # just change > to <\n",
    "            m_ind = j\n",
    "    \n",
    "      \n",
    "    if list1[i] != list1[m_ind]:\n",
    "        list1[i], list1[m_ind] = list1[m_ind], list1[i] \n",
    "    \n",
    "    print(list1)\n",
    "print()\n",
    "print(\"Sorted : \",list1)"
   ]
  },
  {
   "cell_type": "markdown",
   "id": "bf7fd2b6",
   "metadata": {},
   "source": [
    "#### taking input from user for sorting"
   ]
  },
  {
   "cell_type": "code",
   "execution_count": 67,
   "id": "62fd62f7",
   "metadata": {},
   "outputs": [
    {
     "name": "stdout",
     "output_type": "stream",
     "text": [
      "How many numbers you want to enter: 5\n",
      "Enter Number: 23\n",
      "Enter Number: 24\n",
      "Enter Number: 0\n",
      "Enter Number: 5\n",
      "Enter Number: 7\n",
      "Unsorted :  [23, 24, 0, 5, 7]\n",
      "\n",
      "[24, 23, 0, 5, 7]\n",
      "[24, 23, 0, 5, 7]\n",
      "[24, 23, 7, 5, 0]\n",
      "[24, 23, 7, 5, 0]\n",
      "\n",
      "Sorted :  [24, 23, 7, 5, 0]\n"
     ]
    }
   ],
   "source": [
    "# for Descending order \n",
    "num = int(input(\"How many numbers you want to enter: \"))\n",
    "# most important note for taking list value input from user in list comprehenssion \n",
    "list1 = [int(input(\"Enter Number: \")) for x in range(num)]\n",
    "print(\"Unsorted : \",list1)\n",
    "print()\n",
    "\n",
    "for i in range(len(list1) - 1):\n",
    "    m_ind = i   \n",
    "    for j in range(i+1 , len(list1)):\n",
    "        if list1[j] > list1[m_ind]:    # just change < to >\n",
    "            m_ind = j\n",
    "    \n",
    "      \n",
    "    if list1[i] != list1[m_ind]:\n",
    "        list1[i], list1[m_ind] = list1[m_ind], list1[i] \n",
    "    \n",
    "    print(list1)\n",
    "print()\n",
    "print(\"Sorted : \",list1)"
   ]
  },
  {
   "cell_type": "code",
   "execution_count": 5,
   "id": "5bf9aeeb",
   "metadata": {},
   "outputs": [
    {
     "name": "stdout",
     "output_type": "stream",
     "text": [
      "Please enter the number you want in the list: 4\n",
      "Enter list elements: 56\n",
      "Enter list elements: 20\n",
      "Enter list elements: 96\n",
      "Enter list elements: 35\n",
      "Unsorted list:  [56, 20, 96, 35]\n",
      "\n",
      "[20, 56, 96, 35]\n",
      "[20, 35, 96, 56]\n",
      "[20, 35, 56, 96]\n",
      "\n",
      "Sorted list:  [20, 35, 56, 96]\n"
     ]
    }
   ],
   "source": [
    "# for Ascending order \n",
    "\n",
    "num = int(input(\"Please enter the number you want in the list: \"))\n",
    "\n",
    "list1 = [int(input(\"Enter list elements: \")) for i in range(num) ]\n",
    "print(\"Unsorted list: \", list1)\n",
    "print()\n",
    "for i in range(len(list1) - 1):\n",
    "    m_ind = i\n",
    "    for j in range(i+1 , len(list1)):\n",
    "        if list1[j] < list1[m_ind]:\n",
    "            m_ind = j\n",
    "            \n",
    "    if list1[i] != list1[m_ind]:\n",
    "        list1[i], list1[m_ind] = list1[m_ind], list1[i]\n",
    "        \n",
    "    print(list1)\n",
    "\n",
    "print()\n",
    "print(\"Sorted list: \", list1)"
   ]
  },
  {
   "cell_type": "code",
   "execution_count": null,
   "id": "7a538372",
   "metadata": {},
   "outputs": [],
   "source": []
  }
 ],
 "metadata": {
  "kernelspec": {
   "display_name": "Python 3 (ipykernel)",
   "language": "python",
   "name": "python3"
  },
  "language_info": {
   "codemirror_mode": {
    "name": "ipython",
    "version": 3
   },
   "file_extension": ".py",
   "mimetype": "text/x-python",
   "name": "python",
   "nbconvert_exporter": "python",
   "pygments_lexer": "ipython3",
   "version": "3.9.7"
  }
 },
 "nbformat": 4,
 "nbformat_minor": 5
}
