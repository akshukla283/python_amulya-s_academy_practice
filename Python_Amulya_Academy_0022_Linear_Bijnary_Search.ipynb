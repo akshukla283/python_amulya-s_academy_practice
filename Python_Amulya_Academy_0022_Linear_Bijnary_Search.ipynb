{
 "cells": [
  {
   "cell_type": "markdown",
   "id": "bcfd34be",
   "metadata": {},
   "source": [
    "##  Linear Search:\n",
    "\n",
    "`Linear search is a sequential searching algorithm where we start from one end and check every element of the list until the desired element is found. It is the simplest searching algorithm.`\n",
    "\n",
    "\n",
    "1.  Start from the leftmost element of list and one by one compare \"Key\" with each element of the list.\n",
    "\n",
    "2. if \"Key\" matches with an element, return True.\n",
    "\n",
    "3. else return False.\n",
    "\n"
   ]
  },
  {
   "cell_type": "code",
   "execution_count": 2,
   "id": "01ca09e9",
   "metadata": {},
   "outputs": [
    {
     "name": "stdout",
     "output_type": "stream",
     "text": [
      "List1 is :  [34, 23, 5, 6, 7, 1, 23, 8]\n",
      "\n",
      "Enter the key element: 23\n",
      "Key element is found at index :  1\n"
     ]
    }
   ],
   "source": [
    "def search(list1, key):\n",
    "    for i in range(len(list1)):\n",
    "        \n",
    "        if key == list1[i]:\n",
    "            print(\"Key element is found at index : \", i)\n",
    "            break\n",
    "            \n",
    "    else:\n",
    "        print(\"element is not found\")\n",
    "\n",
    "\n",
    "list1 = [34,23,5,6,7,1,23,8]\n",
    "print(\"List1 is : \", list1 )\n",
    "print()\n",
    "key = int(input(\"Enter the key element: \"))\n",
    "search(list1, key)\n"
   ]
  },
  {
   "cell_type": "code",
   "execution_count": 5,
   "id": "88e94143",
   "metadata": {},
   "outputs": [
    {
     "name": "stdout",
     "output_type": "stream",
     "text": [
      "List1 is :  [34, 23, 5, 6, 7, 1, 23, 8]\n",
      "\n",
      "Enter the key element: 23\n",
      "Key value is found at index :  1\n"
     ]
    }
   ],
   "source": [
    "def search(list1, key):\n",
    "    \n",
    "    for i in range(len(list1)):\n",
    "        \n",
    "        if key == list1[i]:\n",
    "            \n",
    "            print(\"Key value is found at index : \", i)\n",
    "            break\n",
    "    else:\n",
    "        print(\"Key value is not found!\")\n",
    "            \n",
    "list1 = [34,23,5,6,7,1,23,8]\n",
    "print(\"List1 is : \", list1 )\n",
    "print()\n",
    "key = int(input(\"Enter the key element: \"))\n",
    "search(list1, key)"
   ]
  },
  {
   "cell_type": "markdown",
   "id": "20103d11",
   "metadata": {},
   "source": [
    "#### If key element is a duplicate in the list and we want the index of all the duplicates"
   ]
  },
  {
   "cell_type": "code",
   "execution_count": 7,
   "id": "b27b6d5f",
   "metadata": {},
   "outputs": [
    {
     "name": "stdout",
     "output_type": "stream",
     "text": [
      "List1 is :  [34, 23, 5, 6, 7, 7, 7, 1, 23, 8]\n",
      "\n",
      "Enter the key element: 7\n",
      "Key element is found at index: \n",
      "4 5 6 "
     ]
    }
   ],
   "source": [
    "def search(list1, key):\n",
    "    list2 = []\n",
    "    flag = False\n",
    "    for i in range(len(list1)):\n",
    "        \n",
    "        if key == list1[i]:\n",
    "            flag = True\n",
    "            list2.append(i)\n",
    "    if flag == True:\n",
    "        \n",
    "        print(\"Key element is found at index: \")\n",
    "        for i in list2:\n",
    "            print(i, end = \" \")\n",
    "           \n",
    "    else:\n",
    "        print(\"Key is not found\")\n",
    "\n",
    "\n",
    "list1 = [34,23,5,6,7, 7,7,1,23,8]\n",
    "print(\"List1 is : \", list1 )\n",
    "print()\n",
    "key = int(input(\"Enter the key element: \"))\n",
    "search(list1, key)\n"
   ]
  },
  {
   "cell_type": "code",
   "execution_count": 7,
   "id": "34864224",
   "metadata": {},
   "outputs": [
    {
     "name": "stdout",
     "output_type": "stream",
     "text": [
      "List1 is :  [34, 23, 5, 6, 7, 7, 7, 1, 23, 8]\n",
      "\n",
      "Enter the key element: 7\n",
      "key value is found at index : \n",
      "4 5 6 "
     ]
    }
   ],
   "source": [
    "# practice\n",
    "\n",
    "def search(list1, key):\n",
    "    list2 = []\n",
    "    flag = False\n",
    "    for i in range(len(list1)):\n",
    "        if key == list1[i]:\n",
    "            flag = True\n",
    "            list2.append(i)\n",
    "    if flag == True:\n",
    "        print(\"key value is found at index : \")\n",
    "        for i in list2:\n",
    "            print(i, end = \" \")\n",
    "            \n",
    "    else:\n",
    "        print(\"Key value is not found in the list1\")\n",
    "        \n",
    "list1 = [34,23,5,6,7, 7,7,1,23,8]\n",
    "print(\"List1 is : \", list1 )\n",
    "print()\n",
    "key = int(input(\"Enter the key element: \"))\n",
    "search(list1, key)    "
   ]
  },
  {
   "cell_type": "code",
   "execution_count": 9,
   "id": "e5fc7820",
   "metadata": {},
   "outputs": [
    {
     "name": "stdout",
     "output_type": "stream",
     "text": [
      "Element found at index:  4\n"
     ]
    }
   ],
   "source": [
    "### from Programiz.com\n",
    "\n",
    "# Linear Search in Python\n",
    "\n",
    "\n",
    "def linearSearch(array, n, x):\n",
    "\n",
    "    # Going through array sequencially\n",
    "    for i in range(0, n):\n",
    "        if (array[i] == x):\n",
    "            return i\n",
    "    return -1\n",
    "\n",
    "\n",
    "array = [2, 4,4,0, 1, 9]\n",
    "x = 1\n",
    "n = len(array)\n",
    "result = linearSearch(array, n, x)\n",
    "if(result == -1):\n",
    "    print(\"Element not found\")\n",
    "else:\n",
    "    print(\"Element found at index: \", result)"
   ]
  },
  {
   "cell_type": "markdown",
   "id": "0b69507d",
   "metadata": {},
   "source": [
    "## Binary Search:\n",
    "\n",
    "\n",
    "* It is also knows as half interval search  and it is a searching algorithm that find the position of target value or key value within sorted array.\n",
    "\n",
    "Binary Search is a searching algorithm for finding an element's position in a sorted array.\n",
    "\n",
    "In this approach, the element is always searched in the middle of a portion of an array.\n",
    "\n",
    "Binary search can be implemented only on a sorted list of items. If the elements are not sorted already, we need to sort them first.\n",
    "\n",
    "#### Binary Search Working\n",
    "\n",
    "1. Findout the middle element in the sorted list.\n",
    "\n",
    "2. Compare \"Key\" with the middle element.\n",
    "\n",
    "3. if \"key\" matches with the middle element, print message \"Key is found\". STOP>\n",
    "\n",
    "4. else if key is greater than the middle element, then \"key\" is search in right sublist. start with step 1.\n",
    "\n",
    "5. else if \"key\" is smaller than the middle element \"key\" searched in left sublist. start with step 1.\n",
    "\n",
    "6. else print \"key\" is not found.\n",
    "\n",
    "\n",
    "\n",
    "\n",
    "\n",
    "\n",
    "Binary Search Algorithm can be implemented in two ways which are discussed below.\n",
    "\n",
    "*  Iterative Method\n",
    "\n",
    "*  Recursive Method\n",
    "\n",
    "The recursive method follows the divide and conquer approach.\n",
    "\n",
    "The general steps for both methods are discussed below."
   ]
  },
  {
   "cell_type": "code",
   "execution_count": 12,
   "id": "1a8f2336",
   "metadata": {},
   "outputs": [
    {
     "name": "stdout",
     "output_type": "stream",
     "text": [
      "Sorted list:  [1, 2, 3, 4, 23]\n",
      "Enter the key you want to search: 25\n",
      "Key is not found!\n"
     ]
    }
   ],
   "source": [
    "def binarySearch(list1, key):\n",
    "    low_ind = 0\n",
    "    high_ind = len(list1)-1  # we did len(list1) -1 because we need last element index \n",
    "                             \n",
    "    Found = False\n",
    "    while low_ind<high_ind and not Found:\n",
    "        \n",
    "        mid = (low_ind + high_ind)//2\n",
    "        if key == list1[mid]:\n",
    "            Found = True\n",
    "        elif key>list1[mid]: # because list is sorted that why key will be at right to mid element\n",
    "            low_ind = mid+1\n",
    "        else:\n",
    "            high_ind = mid-1\n",
    "    if Found == True:\n",
    "        print(\"Key is found!\")\n",
    "    else:\n",
    "        print(\"Key is not found!\")\n",
    "\n",
    "list1 = [23,1,4,2,3]\n",
    "list1.sort()\n",
    "print(\"Sorted list: \", list1)\n",
    "key = int(input(\"Enter the key you want to search: \"))\n",
    "binarySearch(list1, key)"
   ]
  },
  {
   "cell_type": "code",
   "execution_count": 13,
   "id": "96733443",
   "metadata": {},
   "outputs": [
    {
     "name": "stdout",
     "output_type": "stream",
     "text": [
      "Element is present at index 1\n"
     ]
    }
   ],
   "source": [
    "#### from Programiz.com\n",
    "\n",
    "# Binary Search in python\n",
    "\n",
    "\n",
    "def binarySearch(array, x, low, high):\n",
    "\n",
    "    # Repeat until the pointers low and high meet each other\n",
    "    while low <= high:\n",
    "\n",
    "        mid = low + (high - low)//2\n",
    "\n",
    "        if array[mid] == x:\n",
    "            return mid\n",
    "\n",
    "        elif array[mid] < x:\n",
    "            low = mid + 1\n",
    "\n",
    "        else:\n",
    "            high = mid - 1\n",
    "\n",
    "    return -1\n",
    "\n",
    "\n",
    "array = [3, 4, 5, 6, 7, 8, 9]\n",
    "x = 4\n",
    "\n",
    "result = binarySearch(array, x, 0, len(array)-1)\n",
    "\n",
    "if result != -1:\n",
    "    print(\"Element is present at index \" + str(result))\n",
    "else:\n",
    "    print(\"Not found\")"
   ]
  },
  {
   "cell_type": "code",
   "execution_count": 14,
   "id": "7113f11b",
   "metadata": {},
   "outputs": [
    {
     "name": "stdout",
     "output_type": "stream",
     "text": [
      "Element is present at index 1\n"
     ]
    }
   ],
   "source": [
    "#### from Programiz.com \n",
    "\n",
    "# Binary Search in python\n",
    "\n",
    "\n",
    "def binarySearch(array, x, low, high):\n",
    "\n",
    "    if high >= low:\n",
    "\n",
    "        mid = low + (high - low)//2\n",
    "\n",
    "        # If found at mid, then return it\n",
    "        if array[mid] == x:\n",
    "            return mid\n",
    "\n",
    "        # Search the left half\n",
    "        elif array[mid] > x:\n",
    "            return binarySearch(array, x, low, mid-1)\n",
    "\n",
    "        # Search the right half\n",
    "        else:\n",
    "            return binarySearch(array, x, mid + 1, high)\n",
    "\n",
    "    else:\n",
    "        return -1\n",
    "\n",
    "\n",
    "array = [3, 4, 5, 6, 7, 8, 9]\n",
    "x = 4\n",
    "\n",
    "result = binarySearch(array, x, 0, len(array)-1)\n",
    "\n",
    "if result != -1:\n",
    "    print(\"Element is present at index \" + str(result))\n",
    "else:\n",
    "    print(\"Not found\")"
   ]
  },
  {
   "cell_type": "code",
   "execution_count": null,
   "id": "bd62cf6e",
   "metadata": {},
   "outputs": [],
   "source": []
  }
 ],
 "metadata": {
  "kernelspec": {
   "display_name": "Python 3 (ipykernel)",
   "language": "python",
   "name": "python3"
  },
  "language_info": {
   "codemirror_mode": {
    "name": "ipython",
    "version": 3
   },
   "file_extension": ".py",
   "mimetype": "text/x-python",
   "name": "python",
   "nbconvert_exporter": "python",
   "pygments_lexer": "ipython3",
   "version": "3.9.7"
  }
 },
 "nbformat": 4,
 "nbformat_minor": 5
}
