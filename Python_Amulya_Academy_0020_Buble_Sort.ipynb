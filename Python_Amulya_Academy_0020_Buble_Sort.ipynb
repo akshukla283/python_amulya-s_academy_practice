{
 "cells": [
  {
   "cell_type": "markdown",
   "id": "b1069359",
   "metadata": {},
   "source": [
    "### Bubble Sort:\n",
    "\n",
    "Some time reffed as `sinking sort`, is a simple sorting algorithm which sorts n number of element in the list by comparing the each pair of adjacent items and swaps them if they are in wrong order.\n",
    "\n",
    "\n",
    "Bubble sort is a simple sorting algorithm. This sorting algorithm is comparison-based algorithm in which each pair of adjacent elements is compared and the elements are swapped if they are not in order. This algorithm is not suitable for large data sets as its average and worst case complexity are of Ο(n2) where n is the number of items.\n",
    "\n",
    "\n",
    "\n",
    "#### Algorithm: (Ascending order)\n",
    "\n",
    "1. Starting with the first element(index = 0) compare the current element with the next element of the list\n",
    "\n",
    "2. If the current element is greater than the next element of the list swap them\n",
    "\n",
    "3. if the Current element is less than the next element, move to the next element. repeat step 1."
   ]
  },
  {
   "cell_type": "code",
   "execution_count": 1,
   "id": "6e69a594",
   "metadata": {},
   "outputs": [
    {
     "name": "stdout",
     "output_type": "stream",
     "text": [
      "Unsorted list:  [10, 5, 4, 23, 0]\n",
      "Sorted list:  [5, 4, 10, 0, 23]\n"
     ]
    }
   ],
   "source": [
    "list1 = [10, 5, 4, 23, 0]\n",
    "print(\"Unsorted list: \", list1)\n",
    "for i in range(len(list1) - 1):\n",
    "    if list1[i]>list1[i+1]:\n",
    "        list1[i], list1[i+1] = list1[i+1], list1[i]\n",
    "\n",
    "print(\"Sorted list: \", list1)\n",
    "\n",
    "# this is the result of only first iteration means largest value at the end of the list1"
   ]
  },
  {
   "cell_type": "code",
   "execution_count": 2,
   "id": "6107f227",
   "metadata": {},
   "outputs": [
    {
     "name": "stdout",
     "output_type": "stream",
     "text": [
      "Unsorted list:  [10, 5, 4, 23, 0]\n",
      "\n",
      "Sorted list:  [0, 4, 5, 10, 23]\n"
     ]
    }
   ],
   "source": [
    "list1 = [10, 5, 4, 23, 0]\n",
    "print(\"Unsorted list: \", list1)\n",
    "print()\n",
    "for j in range(len(list1) - 1):\n",
    "    for i in range(len(list1) - 1):\n",
    "                \n",
    "        if list1[i]>list1[i+1]:\n",
    "            list1[i], list1[i+1] = list1[i+1], list1[i]\n",
    "\n",
    "print(\"Sorted list: \", list1)"
   ]
  },
  {
   "cell_type": "code",
   "execution_count": 3,
   "id": "1340dab6",
   "metadata": {},
   "outputs": [
    {
     "name": "stdout",
     "output_type": "stream",
     "text": [
      "Unsorted list:  [10, 5, 4, 23, 0]\n",
      "\n",
      "Sorted list:  [23, 10, 5, 4, 0]\n"
     ]
    }
   ],
   "source": [
    "### for descending order \n",
    "\n",
    "list1 = [10, 5, 4, 23, 0]\n",
    "print(\"Unsorted list: \", list1)\n",
    "print()\n",
    "for j in range(len(list1) - 1):\n",
    "    for i in range(len(list1) - 1):\n",
    "                \n",
    "        if list1[i]<list1[i+1]:\n",
    "            list1[i], list1[i+1] = list1[i+1], list1[i]\n",
    "\n",
    "print(\"Sorted list: \", list1)"
   ]
  },
  {
   "cell_type": "code",
   "execution_count": null,
   "id": "502982ef",
   "metadata": {},
   "outputs": [],
   "source": []
  },
  {
   "cell_type": "markdown",
   "id": "3d8e19f8",
   "metadata": {},
   "source": [
    "#### If want all the steps "
   ]
  },
  {
   "cell_type": "code",
   "execution_count": 4,
   "id": "22d36b1f",
   "metadata": {},
   "outputs": [
    {
     "name": "stdout",
     "output_type": "stream",
     "text": [
      "Unsorted list:  [10, 5, 4, 23, 0]\n",
      "\n",
      "[5, 10, 4, 23, 0]\n",
      "[5, 4, 10, 23, 0]\n",
      "[5, 4, 10, 0, 23]\n",
      "[4, 5, 10, 0, 23]\n",
      "[4, 5, 0, 10, 23]\n",
      "[4, 0, 5, 10, 23]\n",
      "[0, 4, 5, 10, 23]\n",
      "\n",
      "Sorted list:  [0, 4, 5, 10, 23]\n"
     ]
    }
   ],
   "source": [
    "list1 = [10, 5, 4, 23, 0]\n",
    "print(\"Unsorted list: \", list1)\n",
    "print()\n",
    "for j in range(len(list1) - 1):\n",
    "    for i in range(len(list1) - 1):\n",
    "                \n",
    "        if list1[i]>list1[i+1]:\n",
    "            list1[i], list1[i+1] = list1[i+1], list1[i]\n",
    "            print(list1) # but it will print only those steps where number were swaped so we need\n",
    "            # to add else part as well to print the unswaped parts along with swaped parts \n",
    "print()\n",
    "print(\"Sorted list: \", list1)"
   ]
  },
  {
   "cell_type": "code",
   "execution_count": 6,
   "id": "b8ff7b87",
   "metadata": {},
   "outputs": [
    {
     "name": "stdout",
     "output_type": "stream",
     "text": [
      "Unsorted list:  [10, 5, 4, 23, 0]\n",
      "\n",
      "[5, 10, 4, 23, 0]\n",
      "[5, 4, 10, 23, 0]\n",
      "[5, 4, 10, 0, 23]\n",
      "[4, 5, 10, 0, 23]\n",
      "[4, 5, 0, 10, 23]\n",
      "[4, 0, 5, 10, 23]\n",
      "[0, 4, 5, 10, 23]\n",
      "\n",
      "Buble Sorted list :  [0, 4, 5, 10, 23]\n"
     ]
    }
   ],
   "source": [
    "list1 = [10, 5, 4, 23, 0]\n",
    "print(\"Unsorted list: \", list1)\n",
    "print()\n",
    "\n",
    "for j in range(len(list1) - 1):\n",
    "    for i in range(len(list1) - 1):\n",
    "        # now finding the max value and replace it with min value\n",
    "        if list1[i]>list1[i+1]:\n",
    "            list1[i], list1[i+1] = list1[i+1], list1[i]\n",
    "            print(list1)\n",
    "            \n",
    "        else:       # tis else part is for printing unswapped step along with swapped.\n",
    "            print(list1)\n",
    "            \n",
    "print()\n",
    "print(\"Buble Sorted list : \", list1)"
   ]
  },
  {
   "cell_type": "code",
   "execution_count": 1,
   "id": "da0fed22",
   "metadata": {},
   "outputs": [
    {
     "name": "stdout",
     "output_type": "stream",
     "text": [
      "Unsorted list:  [10, 5, 4, 23, 0]\n",
      "\n",
      "[5, 10, 4, 23, 0]\n",
      "[5, 4, 10, 23, 0]\n",
      "[5, 4, 10, 23, 0]\n",
      "[5, 4, 10, 0, 23]\n",
      "[4, 5, 10, 0, 23]\n",
      "[4, 5, 10, 0, 23]\n",
      "[4, 5, 0, 10, 23]\n",
      "[4, 5, 0, 10, 23]\n",
      "[4, 5, 0, 10, 23]\n",
      "[4, 0, 5, 10, 23]\n",
      "[4, 0, 5, 10, 23]\n",
      "[4, 0, 5, 10, 23]\n",
      "[0, 4, 5, 10, 23]\n",
      "[0, 4, 5, 10, 23]\n",
      "[0, 4, 5, 10, 23]\n",
      "[0, 4, 5, 10, 23]\n",
      "\n",
      "Sorted list:  [0, 4, 5, 10, 23]\n"
     ]
    }
   ],
   "source": [
    "list1 = [10, 5, 4, 23, 0]\n",
    "print(\"Unsorted list: \", list1)\n",
    "print()\n",
    "for j in range(len(list1) - 1):\n",
    "    for i in range(len(list1) - 1):\n",
    "                \n",
    "        if list1[i]>list1[i+1]:\n",
    "            list1[i], list1[i+1] = list1[i+1], list1[i]\n",
    "            print(list1)\n",
    "\n",
    "        else:\n",
    "            print(list1)\n",
    "print()\n",
    "print(\"Sorted list: \", list1)"
   ]
  },
  {
   "cell_type": "code",
   "execution_count": 10,
   "id": "16d97d44",
   "metadata": {},
   "outputs": [
    {
     "name": "stdout",
     "output_type": "stream",
     "text": [
      "Unsorted list:  [10, 5, 4, 23, 0]\n",
      "\n",
      "[5, 10, 4, 23, 0]\n",
      "[5, 4, 10, 23, 0]\n",
      "[5, 4, 10, 23, 0]\n",
      "[5, 4, 10, 0, 23]\n",
      "\n",
      "[4, 5, 10, 0, 23]\n",
      "[4, 5, 10, 0, 23]\n",
      "[4, 5, 0, 10, 23]\n",
      "[4, 5, 0, 10, 23]\n",
      "\n",
      "[4, 5, 0, 10, 23]\n",
      "[4, 0, 5, 10, 23]\n",
      "[4, 0, 5, 10, 23]\n",
      "[4, 0, 5, 10, 23]\n",
      "\n",
      "[0, 4, 5, 10, 23]\n",
      "[0, 4, 5, 10, 23]\n",
      "[0, 4, 5, 10, 23]\n",
      "[0, 4, 5, 10, 23]\n",
      "\n",
      "Sorted list:  [0, 4, 5, 10, 23]\n"
     ]
    }
   ],
   "source": [
    "list1 = [10, 5, 4, 23, 0]\n",
    "print(\"Unsorted list: \", list1)\n",
    "print()\n",
    "for j in range(len(list1) - 1):\n",
    "    for i in range(len(list1) - 1):\n",
    "                \n",
    "        if list1[i]>list1[i+1]:\n",
    "            list1[i], list1[i+1] = list1[i+1], list1[i]\n",
    "            print(list1)\n",
    "\n",
    "        else:\n",
    "            print(list1)\n",
    "    # want each iteration separately then we need to use print() for new line \n",
    "    print()\n",
    "print(\"Sorted list: \", list1)\n",
    "\n",
    "# but each step has 4 part but when we sorted manually then the parts were 4, 3, 2, 1 so \n",
    "# to control the loop we will use first for loop j value to reduce the steps "
   ]
  },
  {
   "cell_type": "code",
   "execution_count": 2,
   "id": "e6572480",
   "metadata": {},
   "outputs": [
    {
     "name": "stdout",
     "output_type": "stream",
     "text": [
      "Unsorted list:  [10, 5, 4, 23, 0]\n",
      "\n",
      "[5, 10, 4, 23, 0]\n",
      "[5, 4, 10, 23, 0]\n",
      "[5, 4, 10, 23, 0]\n",
      "[5, 4, 10, 0, 23]\n",
      "\n",
      "[4, 5, 10, 0, 23]\n",
      "[4, 5, 10, 0, 23]\n",
      "[4, 5, 0, 10, 23]\n",
      "\n",
      "[4, 5, 0, 10, 23]\n",
      "[4, 0, 5, 10, 23]\n",
      "\n",
      "[0, 4, 5, 10, 23]\n",
      "\n",
      "Sorted list:  [0, 4, 5, 10, 23]\n"
     ]
    }
   ],
   "source": [
    "list1 = [10, 5, 4, 23, 0]\n",
    "print(\"Unsorted list: \", list1)\n",
    "print()\n",
    "for j in range(len(list1) - 1):\n",
    "    for i in range(len(list1) - 1 - j):\n",
    "                \n",
    "        if list1[i]>list1[i+1]:\n",
    "            list1[i], list1[i+1] = list1[i+1], list1[i]\n",
    "            print(list1)\n",
    "\n",
    "        else:\n",
    "            print(list1)\n",
    "    # want each iteration separately then we need to use print() for new line \n",
    "    print()\n",
    "print(\"Sorted list: \", list1)\n"
   ]
  },
  {
   "cell_type": "markdown",
   "id": "9fd1e641",
   "metadata": {},
   "source": [
    "#### Another method"
   ]
  },
  {
   "cell_type": "code",
   "execution_count": 12,
   "id": "5eea8d16",
   "metadata": {},
   "outputs": [
    {
     "name": "stdout",
     "output_type": "stream",
     "text": [
      "Unsorted list:  [10, 5, 4, 23, 0]\n",
      "\n",
      "[5, 10, 4, 23, 0]\n",
      "[5, 4, 10, 23, 0]\n",
      "[5, 4, 10, 23, 0]\n",
      "[5, 4, 10, 0, 23]\n",
      "\n",
      "[4, 5, 10, 0, 23]\n",
      "[4, 5, 10, 0, 23]\n",
      "[4, 5, 0, 10, 23]\n",
      "\n",
      "[4, 5, 0, 10, 23]\n",
      "[4, 0, 5, 10, 23]\n",
      "\n",
      "[0, 4, 5, 10, 23]\n",
      "\n",
      "Sorted list:  [0, 4, 5, 10, 23]\n"
     ]
    }
   ],
   "source": [
    "list1 = [10, 5, 4, 23, 0]\n",
    "print(\"Unsorted list: \", list1)\n",
    "print()\n",
    "for j in range(len(list1) - 1, 0, -1): # we can take reverse loop \n",
    "    for i in range(j):\n",
    "                \n",
    "        if list1[i]>list1[i+1]:\n",
    "            list1[i], list1[i+1] = list1[i+1], list1[i]\n",
    "            print(list1)\n",
    "\n",
    "        else:\n",
    "            print(list1)\n",
    "    # want each iteration separately then we need to use print() for new line \n",
    "    print()\n",
    "print(\"Sorted list: \", list1)"
   ]
  },
  {
   "cell_type": "markdown",
   "id": "ca56b3f5",
   "metadata": {},
   "source": [
    "### Taking Inputs From Users"
   ]
  },
  {
   "cell_type": "code",
   "execution_count": 7,
   "id": "ed372cf4",
   "metadata": {},
   "outputs": [
    {
     "name": "stdout",
     "output_type": "stream",
     "text": [
      "How many number you want in list: 4\n",
      "Enter 1 value in list: 10\n",
      "Enter 2 value in list: 20\n",
      "Enter 3 value in list: 3\n",
      "Enter 4 value in list: 8\n",
      "Unsorted list:  [10, 20, 3, 8]\n",
      "\n",
      "[10, 20, 3, 8]\n",
      "[10, 3, 20, 8]\n",
      "[10, 3, 8, 20]\n",
      "\n",
      "[3, 10, 8, 20]\n",
      "[3, 8, 10, 20]\n",
      "\n",
      "[3, 8, 10, 20]\n",
      "\n",
      "Sorted list:  [3, 8, 10, 20]\n"
     ]
    }
   ],
   "source": [
    "num = int(input(\"How many number you want in list: \"))\n",
    "list1 = [int(input(f\"Enter {i+1} value in list: \")) for i in range(num)]\n",
    "print(\"Unsorted list: \", list1)\n",
    "print()\n",
    "for j in range(len(list1) - 1, 0, -1): # we can take reverse loop \n",
    "    for i in range(j):\n",
    "                \n",
    "        if list1[i]>list1[i+1]:\n",
    "            list1[i], list1[i+1] = list1[i+1], list1[i]\n",
    "            print(list1)\n",
    "\n",
    "        else:\n",
    "            print(list1)\n",
    "    # want each iteration separately then we need to use print() for new line \n",
    "    print()\n",
    "print(\"Sorted list: \", list1)"
   ]
  },
  {
   "cell_type": "code",
   "execution_count": 15,
   "id": "13d3b151",
   "metadata": {},
   "outputs": [
    {
     "name": "stdout",
     "output_type": "stream",
     "text": [
      "How many number you want in list: 4\n",
      "enter the value in list: \n",
      "25\n",
      "36\n",
      "20\n",
      "12\n",
      "Unsorted list:  [25, 36, 20, 12]\n",
      "\n",
      "[25, 36, 20, 12]\n",
      "[25, 20, 36, 12]\n",
      "[25, 20, 12, 36]\n",
      "\n",
      "[20, 25, 12, 36]\n",
      "[20, 12, 25, 36]\n",
      "\n",
      "[12, 20, 25, 36]\n",
      "\n",
      "Sorted list:  [12, 20, 25, 36]\n"
     ]
    }
   ],
   "source": [
    "# Another method to take input from user \n",
    "list1 = []\n",
    "num = int(input(\"How many number you want in list: \"))\n",
    "print(\"enter the value in list: \")\n",
    "\n",
    "for k in range(num):\n",
    "    list1.append(int(input()))\n",
    "    \n",
    "print(\"Unsorted list: \", list1)\n",
    "print()\n",
    "for j in range(len(list1) - 1, 0, -1): # we can take reverse loop \n",
    "    for i in range(j):\n",
    "                \n",
    "        if list1[i]>list1[i+1]:\n",
    "            list1[i], list1[i+1] = list1[i+1], list1[i]\n",
    "            print(list1)\n",
    "\n",
    "        else:\n",
    "            print(list1)\n",
    "    # want each iteration separately then we need to use print() for new line \n",
    "    print()\n",
    "print(\"Sorted list: \", list1)"
   ]
  },
  {
   "cell_type": "code",
   "execution_count": 8,
   "id": "fbdd8d30",
   "metadata": {},
   "outputs": [
    {
     "name": "stdout",
     "output_type": "stream",
     "text": [
      "How many number you want in list: 4\n",
      "enter the value in list: \n",
      "Enter 1 value : 12\n",
      "Enter 2 value : 23\n",
      "Enter 3 value : 12\n",
      "Enter 4 value : 234\n",
      "Unsorted list:  [12, 23, 12, 234]\n",
      "\n",
      "\n",
      "Sorted list:  [12, 12, 23, 234]\n"
     ]
    }
   ],
   "source": [
    "## Just need output not the all iteration then \n",
    "\n",
    "# Another method to take input from user \n",
    "list1 = []\n",
    "num = int(input(\"How many number you want in list: \"))\n",
    "print(\"enter the value in list: \")\n",
    "\n",
    "for k in range(num):\n",
    "    list1.append(int(input(f'Enter {k+1} value : ')))\n",
    "    \n",
    "print(\"Unsorted list: \", list1)\n",
    "print()\n",
    "for j in range(len(list1) - 1, 0, -1): # we can take reverse loop \n",
    "    for i in range(j):\n",
    "                \n",
    "        if list1[i]>list1[i+1]:\n",
    "            list1[i], list1[i+1] = list1[i+1], list1[i]\n",
    "print()            \n",
    "print(\"Sorted list: \", list1)"
   ]
  },
  {
   "cell_type": "code",
   "execution_count": 9,
   "id": "dde3e7c3",
   "metadata": {},
   "outputs": [
    {
     "name": "stdout",
     "output_type": "stream",
     "text": [
      "Unsorted list:  [10, 5, 4, 23, 0]\n",
      "\n",
      "[5, 10, 4, 23, 0]\n",
      "[5, 4, 10, 23, 0]\n",
      "[5, 4, 10, 23, 0]\n",
      "[5, 4, 10, 0, 23]\n",
      "\n",
      "[4, 5, 10, 0, 23]\n",
      "[4, 5, 10, 0, 23]\n",
      "[4, 5, 0, 10, 23]\n",
      "\n",
      "[4, 5, 0, 10, 23]\n",
      "[4, 0, 5, 10, 23]\n",
      "\n",
      "[0, 4, 5, 10, 23]\n",
      "\n",
      "\n",
      "Sorted list :  [0, 4, 5, 10, 23]\n"
     ]
    }
   ],
   "source": [
    "list1 = [10, 5, 4, 23, 0]\n",
    "print(\"Unsorted list: \", list1)\n",
    "print()\n",
    "\n",
    "for i in range(len(list1)-1, 0, -1):\n",
    "    for j in range(i):\n",
    "        if list1[j]>list1[j+1]:\n",
    "            list1[j], list1[j+1] = list1[j+1], list1[j]\n",
    "        print(list1)\n",
    "    print()\n",
    "            \n",
    "print()\n",
    "print(\"Sorted list : \", list1)"
   ]
  },
  {
   "cell_type": "markdown",
   "id": "5dd98dd6",
   "metadata": {},
   "source": [
    "## Quick Sort Algorithm:\n",
    "\n",
    "* Also called as Partition Exchange Sort.\n",
    "\n",
    "* Developed by `Tony Hoare` in `19591` and published in `1961`.\n",
    "\n",
    "* When implemented well it can be about 2 or 3 times faster than the its main competitors merge sort heap sort.\n",
    "\n",
    "\n",
    "\n",
    "#### Quick Sort:\n",
    "* Comparison Sort\n",
    "\n",
    "* In_place\n",
    "\n",
    "* Unstable\n",
    "\n",
    "* Recursive Algorithm\n",
    "\n",
    "* Divide and Conquer Algorithm:\n",
    "\n",
    " 1. Divide\n",
    " \n",
    " 2. Conquer\n",
    " \n",
    " 3. Combine\n",
    " \n",
    " \n",
    " \n",
    " ### Alogrithm :\n",
    " \n",
    " 1.  Select the pivot element.\n",
    " \n",
    " 2. Findout the correct position of pivot element in the list by rearranging it.\n",
    " \n",
    " 3. Divide the list based on pivot element.\n",
    " \n",
    " 4. Sort the sublist recursively\n",
    " \n",
    " "
   ]
  },
  {
   "cell_type": "code",
   "execution_count": 17,
   "id": "391db28b",
   "metadata": {},
   "outputs": [],
   "source": [
    "# we will write three funtion means in three parts.\n",
    "# 1. finding the currect position of the pivot. \n",
    "# 2. we will divide the list based on the pivot element and will sort the sub-list recursively.\n",
    "# 3. main funciton for input and output."
   ]
  },
  {
   "cell_type": "markdown",
   "id": "af66677d",
   "metadata": {},
   "source": [
    "#### Ascending Order"
   ]
  },
  {
   "cell_type": "code",
   "execution_count": 19,
   "id": "f975d5f7",
   "metadata": {},
   "outputs": [
    {
     "name": "stdout",
     "output_type": "stream",
     "text": [
      "[17, 26, 31, 44, 56, 93]\n"
     ]
    }
   ],
   "source": [
    "#### taking first element as Pivote \n",
    "\n",
    "# 1. finding the currect position of the pivot \n",
    "\n",
    "def pivot_place(list1, first, last):\n",
    "    pivot = list1[first]\n",
    "    left = first + 1\n",
    "    right = last \n",
    "    while True:\n",
    "        \n",
    "        while left<= right and list1[left] <= pivot:\n",
    "            left = left+1\n",
    "\n",
    "        while left <= right and list1[right]>=pivot:\n",
    "            right = right-1\n",
    "\n",
    "        if right<left:\n",
    "            break\n",
    "              \n",
    "        else:\n",
    "            list1[left], list1[right] = list1[right], list1[left]\n",
    "            # we need to check it again and again util the condtion not become False so we need\n",
    "            # one external while loop to control this situation \n",
    "    list1[first], list1[right] = list1[right], list1[first]\n",
    "    # here we took list1[first] at place of pivot because to make change in list1\n",
    "    \n",
    "    return right \n",
    "\n",
    "\n",
    "# 2. divide the list for the recursive call \n",
    "\n",
    "def quicksort(list1, first, last):\n",
    "    \n",
    "    if first < last :  # base case  # if single element then stop means do nothing \n",
    "        \n",
    "        p = pivot_place(list1, first, last) # called fuction\n",
    "\n",
    "        quicksort(list1, first, p-1) # divide part left side of pivote \n",
    "        quicksort(list1, p+1, last)  # divide part right side of pivote\n",
    "\n",
    "    \n",
    "# 3. main\n",
    "\n",
    "list1 = [56, 26, 93, 17, 31, 44]\n",
    "n = len(list1)\n",
    "quicksort(list1, 0, n-1) # because index start from 0 in list1 and len(list1) will give 6 but we need 5\n",
    "print(list1)"
   ]
  },
  {
   "cell_type": "markdown",
   "id": "9d3684d3",
   "metadata": {},
   "source": [
    "#### Descending Order"
   ]
  },
  {
   "cell_type": "code",
   "execution_count": 20,
   "id": "c3ede8a4",
   "metadata": {},
   "outputs": [
    {
     "name": "stdout",
     "output_type": "stream",
     "text": [
      "[93, 56, 44, 31, 26, 17]\n"
     ]
    }
   ],
   "source": [
    "#### taking first element as Pivote \n",
    "\n",
    "# 1. finding the currect position of the pivot \n",
    "\n",
    "def pivot_place(list1, first, last):\n",
    "    pivot = list1[first]\n",
    "    left = first + 1\n",
    "    right = last \n",
    "    while True:\n",
    "        \n",
    "        while left<= right and list1[left] >= pivot: # made change < to > \n",
    "            left = left+1\n",
    "\n",
    "        while left <= right and list1[right]<=pivot: # made change > to <\n",
    "            right = right-1\n",
    "\n",
    "        if right<left:\n",
    "            break\n",
    "              \n",
    "        else:\n",
    "            list1[left], list1[right] = list1[right], list1[left]\n",
    "            # we need to check it again and again util the condtion not become False so we need\n",
    "            # one external while loop to control this situation \n",
    "    list1[first], list1[right] = list1[right], list1[first]\n",
    "    # here we took list1[first] at place of pivot because to make change in list1\n",
    "    \n",
    "    return right \n",
    "\n",
    "\n",
    "# 2. divide the list for the recursive call \n",
    "\n",
    "def quicksort(list1, first, last):\n",
    "    \n",
    "    if first < last :  # base case  # if single element then stop means do nothing \n",
    "        \n",
    "        p = pivot_place(list1, first, last) # called fuction\n",
    "\n",
    "        quicksort(list1, first, p-1) # divide part left side of pivote \n",
    "        quicksort(list1, p+1, last)  # divide part right side of pivote\n",
    "\n",
    "    \n",
    "# 3. main\n",
    "\n",
    "list1 = [56, 26, 93, 17, 31, 44]\n",
    "n = len(list1)\n",
    "quicksort(list1, 0, n-1) # because index start from 0 in list1 and len(list1) will give 6 but we need 5\n",
    "print(list1)"
   ]
  },
  {
   "cell_type": "code",
   "execution_count": 21,
   "id": "28587c93",
   "metadata": {},
   "outputs": [
    {
     "name": "stdout",
     "output_type": "stream",
     "text": [
      "[17, 26, 31, 44, 56, 93]\n"
     ]
    }
   ],
   "source": [
    "#### taking Last element as Pivote \n",
    "### and Ascending order\n",
    "\n",
    "# 1. finding the currect position of the pivot \n",
    "\n",
    "def pivot_place(list1, first, last):\n",
    "    pivot = list1[last]\n",
    "    left = first\n",
    "    right = last - 1\n",
    "    while True:\n",
    "        \n",
    "        while left<= right and list1[left] <= pivot:\n",
    "            left = left+1\n",
    "\n",
    "        while left <= right and list1[right]>=pivot:\n",
    "            right = right-1\n",
    "\n",
    "        if right<left:\n",
    "            break\n",
    "              \n",
    "        else:\n",
    "            list1[left], list1[right] = list1[right], list1[left]\n",
    "            # we need to check it again and again util the condtion not become False so we need\n",
    "            # one external while loop to control this situation \n",
    "    list1[last], list1[left] = list1[left], list1[last]\n",
    "    # here we took list1[first] at place of pivot because to make change in list1\n",
    "    \n",
    "    return left \n",
    "\n",
    "\n",
    "# 2. divide the list for the recursive call \n",
    "\n",
    "def quicksort(list1, first, last):\n",
    "    \n",
    "    if first < last :  # base case  # if single element then stop means do nothing \n",
    "        \n",
    "        p = pivot_place(list1, first, last) # called fuction\n",
    "\n",
    "        quicksort(list1, first, p-1) # divide part left side of pivote \n",
    "        quicksort(list1, p+1, last)  # divide part right side of pivote\n",
    "\n",
    "    \n",
    "# 3. main\n",
    "\n",
    "list1 = [56, 26, 93, 17, 31, 44]\n",
    "n = len(list1)\n",
    "quicksort(list1, 0, n-1) # because index start from 0 in list1 and len(list1) will give 6 but we need 5\n",
    "print(list1)"
   ]
  },
  {
   "cell_type": "code",
   "execution_count": 22,
   "id": "a109ca23",
   "metadata": {},
   "outputs": [
    {
     "name": "stdout",
     "output_type": "stream",
     "text": [
      "[93, 56, 44, 31, 26, 17]\n"
     ]
    }
   ],
   "source": [
    "#### taking Last element as Pivote \n",
    "### and Descending order\n",
    "\n",
    "# 1. finding the currect position of the pivot \n",
    "\n",
    "def pivot_place(list1, first, last):\n",
    "    pivot = list1[last]\n",
    "    left = first\n",
    "    right = last - 1\n",
    "    while True:\n",
    "        \n",
    "        while left<= right and list1[left] >= pivot:\n",
    "            left = left+1\n",
    "\n",
    "        while left <= right and list1[right]<=pivot:\n",
    "            right = right-1\n",
    "\n",
    "        if right<left:\n",
    "            break\n",
    "              \n",
    "        else:\n",
    "            list1[left], list1[right] = list1[right], list1[left]\n",
    "            # we need to check it again and again util the condtion not become False so we need\n",
    "            # one external while loop to control this situation \n",
    "    list1[last], list1[left] = list1[left], list1[last]\n",
    "    # here we took list1[first] at place of pivot because to make change in list1\n",
    "    \n",
    "    return left \n",
    "\n",
    "\n",
    "# 2. divide the list for the recursive call \n",
    "\n",
    "def quicksort(list1, first, last):\n",
    "    \n",
    "    if first < last :  # base case  # if single element then stop means do nothing \n",
    "        \n",
    "        p = pivot_place(list1, first, last) # called fuction\n",
    "\n",
    "        quicksort(list1, first, p-1) # divide part left side of pivote \n",
    "        quicksort(list1, p+1, last)  # divide part right side of pivote\n",
    "\n",
    "    \n",
    "# 3. main\n",
    "\n",
    "list1 = [56, 26, 93, 17, 31, 44]\n",
    "n = len(list1)\n",
    "quicksort(list1, 0, n-1) # because index start from 0 in list1 and len(list1) will give 6 but we need 5\n",
    "print(list1)"
   ]
  },
  {
   "cell_type": "markdown",
   "id": "b2ca5805",
   "metadata": {},
   "source": [
    "#### Random element as Pivote"
   ]
  },
  {
   "cell_type": "code",
   "execution_count": 25,
   "id": "0c155059",
   "metadata": {},
   "outputs": [
    {
     "name": "stdout",
     "output_type": "stream",
     "text": [
      "[17, 17, 26, 31, 44, 56, 93]\n"
     ]
    }
   ],
   "source": [
    "#### taking Last element as Pivote \n",
    "### and Ascending order\n",
    "\n",
    "# 1. finding the currect position of the pivot \n",
    "\n",
    "import random \n",
    "\n",
    "def pivot_place(list1, first, last):\n",
    "    \n",
    "    rindex = random.randint(first, last)\n",
    "    list1[rindex],list1[last] = list1[last], list1[rindex]\n",
    "    pivot = list1[last]\n",
    "    left = first\n",
    "    right = last - 1\n",
    "    while True:\n",
    "        \n",
    "        while left<= right and list1[left] <= pivot:\n",
    "            left = left+1\n",
    "\n",
    "        while left <= right and list1[right]>=pivot:\n",
    "            right = right-1\n",
    "\n",
    "        if right<left:\n",
    "            break\n",
    "              \n",
    "        else:\n",
    "            list1[left], list1[right] = list1[right], list1[left]\n",
    "            # we need to check it again and again util the condtion not become False so we need\n",
    "            # one external while loop to control this situation \n",
    "    list1[last], list1[left] = list1[left], list1[last]\n",
    "    # here we took list1[first] at place of pivot because to make change in list1\n",
    "    \n",
    "    return left \n",
    "\n",
    "\n",
    "# 2. divide the list for the recursive call \n",
    "\n",
    "def quicksort(list1, first, last):\n",
    "    \n",
    "    if first < last :  # base case  # if single element then stop means do nothing \n",
    "        \n",
    "        p = pivot_place(list1, first, last) # called fuction\n",
    "\n",
    "        quicksort(list1, first, p-1) # divide part left side of pivote \n",
    "        quicksort(list1, p+1, last)  # divide part right side of pivote\n",
    "\n",
    "    \n",
    "# 3. main\n",
    "\n",
    "list1 = [56, 26, 93, 17,  17 , 31, 44]\n",
    "n = len(list1)\n",
    "quicksort(list1, 0, n-1) # because index start from 0 in list1 and len(list1) will give 6 but we need 5\n",
    "print(list1)"
   ]
  },
  {
   "cell_type": "code",
   "execution_count": 26,
   "id": "4eea3365",
   "metadata": {},
   "outputs": [
    {
     "name": "stdout",
     "output_type": "stream",
     "text": [
      "[93, 56, 44, 31, 26, 17, 17]\n"
     ]
    }
   ],
   "source": [
    "#### taking Last element as Pivote \n",
    "### and Descending order\n",
    "\n",
    "# 1. finding the currect position of the pivot \n",
    "\n",
    "import random \n",
    "\n",
    "def pivot_place(list1, first, last):\n",
    "    \n",
    "    rindex = random.randint(first, last)\n",
    "    list1[rindex],list1[last] = list1[last], list1[rindex]\n",
    "    pivot = list1[last]\n",
    "    left = first\n",
    "    right = last - 1\n",
    "    while True:\n",
    "        \n",
    "        while left<= right and list1[left] >= pivot:\n",
    "            left = left+1\n",
    "\n",
    "        while left <= right and list1[right]<=pivot:\n",
    "            right = right-1\n",
    "\n",
    "        if right<left:\n",
    "            break\n",
    "              \n",
    "        else:\n",
    "            list1[left], list1[right] = list1[right], list1[left]\n",
    "            # we need to check it again and again util the condtion not become False so we need\n",
    "            # one external while loop to control this situation \n",
    "    list1[last], list1[left] = list1[left], list1[last]\n",
    "    # here we took list1[first] at place of pivot because to make change in list1\n",
    "    \n",
    "    return left \n",
    "\n",
    "\n",
    "# 2. divide the list for the recursive call \n",
    "\n",
    "def quicksort(list1, first, last):\n",
    "    \n",
    "    if first < last :  # base case  # if single element then stop means do nothing \n",
    "        \n",
    "        p = pivot_place(list1, first, last) # called fuction\n",
    "\n",
    "        quicksort(list1, first, p-1) # divide part left side of pivote \n",
    "        quicksort(list1, p+1, last)  # divide part right side of pivote\n",
    "\n",
    "    \n",
    "# 3. main\n",
    "\n",
    "list1 = [56, 26, 93, 17,  17 , 31, 44]\n",
    "n = len(list1)\n",
    "quicksort(list1, 0, n-1) # because index start from 0 in list1 and len(list1) will give 6 but we need 5\n",
    "print(list1)"
   ]
  },
  {
   "cell_type": "markdown",
   "id": "5eb840bc",
   "metadata": {},
   "source": [
    "#### Using Median "
   ]
  },
  {
   "cell_type": "code",
   "execution_count": 27,
   "id": "4589aa59",
   "metadata": {},
   "outputs": [
    {
     "name": "stdout",
     "output_type": "stream",
     "text": [
      "[17, 17, 26, 31, 44, 56, 93]\n"
     ]
    }
   ],
   "source": [
    "#### taking Last element as Pivote \n",
    "### and Ascending order\n",
    "\n",
    "# 1. finding the currect position of the pivot \n",
    "\n",
    "import statistics\n",
    "\n",
    "def pivot_place(list1, first, last):\n",
    "    low = list1[first]\n",
    "    high = list1[last]\n",
    "    mid = (first + last)//2 \n",
    "    pivot_val = statistics.median([low, list1[mid], high])\n",
    "    if pivot_val == low:\n",
    "        pindex = first\n",
    "    elif pivot_val == high:\n",
    "        pindex = last\n",
    "    else:\n",
    "        pindex = mid\n",
    "        \n",
    "    list1[last], list1[pindex] = list1[pindex], list1[last]\n",
    "          \n",
    "      \n",
    "    pivot = list1[last]\n",
    "    left = first\n",
    "    right = last - 1\n",
    "    while True:\n",
    "        \n",
    "        while left<= right and list1[left] <= pivot:\n",
    "            left = left+1\n",
    "\n",
    "        while left <= right and list1[right]>=pivot:\n",
    "            right = right-1\n",
    "\n",
    "        if right<left:\n",
    "            break\n",
    "              \n",
    "        else:\n",
    "            list1[left], list1[right] = list1[right], list1[left]\n",
    "            # we need to check it again and again util the condtion not become False so we need\n",
    "            # one external while loop to control this situation \n",
    "    list1[last], list1[left] = list1[left], list1[last]\n",
    "    # here we took list1[first] at place of pivot because to make change in list1\n",
    "    \n",
    "    return left \n",
    "\n",
    "\n",
    "# 2. divide the list for the recursive call \n",
    "\n",
    "def quicksort(list1, first, last):\n",
    "    \n",
    "    if first < last :  # base case  # if single element then stop means do nothing \n",
    "        \n",
    "        p = pivot_place(list1, first, last) # called fuction\n",
    "\n",
    "        quicksort(list1, first, p-1) # divide part left side of pivote \n",
    "        quicksort(list1, p+1, last)  # divide part right side of pivote\n",
    "\n",
    "    \n",
    "# 3. main\n",
    "\n",
    "list1 = [56, 26, 93, 17,  17 , 31, 44]\n",
    "n = len(list1)\n",
    "quicksort(list1, 0, n-1) # because index start from 0 in list1 and len(list1) will give 6 but we need 5\n",
    "print(list1)"
   ]
  },
  {
   "cell_type": "code",
   "execution_count": null,
   "id": "86db8449",
   "metadata": {},
   "outputs": [],
   "source": []
  }
 ],
 "metadata": {
  "kernelspec": {
   "display_name": "Python 3 (ipykernel)",
   "language": "python",
   "name": "python3"
  },
  "language_info": {
   "codemirror_mode": {
    "name": "ipython",
    "version": 3
   },
   "file_extension": ".py",
   "mimetype": "text/x-python",
   "name": "python",
   "nbconvert_exporter": "python",
   "pygments_lexer": "ipython3",
   "version": "3.9.7"
  }
 },
 "nbformat": 4,
 "nbformat_minor": 5
}
