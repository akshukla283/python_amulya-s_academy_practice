{
 "cells": [
  {
   "cell_type": "markdown",
   "id": "5622d9e8",
   "metadata": {},
   "source": [
    "#### Printing Alphabet in Right Triangle Shape\n"
   ]
  },
  {
   "cell_type": "code",
   "execution_count": 1,
   "id": "156713f1",
   "metadata": {},
   "outputs": [
    {
     "name": "stdout",
     "output_type": "stream",
     "text": [
      "Enter the number of rows: 4\n",
      "* \n",
      "* * \n",
      "* * * \n",
      "* * * * \n"
     ]
    }
   ],
   "source": [
    "n = int(input(\"Enter the number of rows: \"))\n",
    "\n",
    "for i in range(n):\n",
    "    for j in range(i+1):\n",
    "        print(\"*\" , end = \" \")  # we want control hold in same line for inside for loop \n",
    "    print() # for new line "
   ]
  },
  {
   "cell_type": "markdown",
   "id": "042fe134",
   "metadata": {},
   "source": [
    "Now we got shape, now we need change it with the alpha bet"
   ]
  },
  {
   "cell_type": "code",
   "execution_count": 8,
   "id": "3142aad8",
   "metadata": {},
   "outputs": [
    {
     "name": "stdout",
     "output_type": "stream",
     "text": [
      "Enter the number of rows: 5\n",
      "65 \n",
      "65 65 \n",
      "65 65 65 \n",
      "65 65 65 65 \n",
      "65 65 65 65 65 \n"
     ]
    }
   ],
   "source": [
    "n = int(input(\"Enter the number of rows: \"))\n",
    "\n",
    "k = ord(\"A\") # by using 'ord' we will get ascii value of \"A\"\n",
    "for i in range(n):\n",
    "    for j in range(i+1):\n",
    "        print(k , end = \" \")   \n",
    "    print()"
   ]
  },
  {
   "cell_type": "code",
   "execution_count": 9,
   "id": "270edc58",
   "metadata": {},
   "outputs": [
    {
     "name": "stdout",
     "output_type": "stream",
     "text": [
      "Enter the number of rows: 5\n",
      "A \n",
      "A A \n",
      "A A A \n",
      "A A A A \n",
      "A A A A A \n"
     ]
    }
   ],
   "source": [
    "n = int(input(\"Enter the number of rows: \"))\n",
    "\n",
    "k = ord(\"A\")  # by using 'ord' we will get ascii value of \"A\"\n",
    "for i in range(n):\n",
    "    for j in range(i+1):\n",
    "        print(chr(k), end = \" \")   # by using 'chr' we will get ascii value to 'alphabet'\n",
    "    print()"
   ]
  },
  {
   "cell_type": "code",
   "execution_count": 12,
   "id": "9a7ecc91",
   "metadata": {},
   "outputs": [
    {
     "name": "stdout",
     "output_type": "stream",
     "text": [
      "Enter the number of rows: 5\n",
      "A \n",
      "B C \n",
      "D E F \n",
      "G H I J \n",
      "K L M N O \n"
     ]
    }
   ],
   "source": [
    "n = int(input(\"Enter the number of rows: \"))\n",
    "\n",
    "k = ord(\"A\")  # by using 'ord' we will get ascii value of \"A\"\n",
    "for i in range(n):\n",
    "    for j in range(i+1):\n",
    "        print(chr(k), end = \" \")   # by using 'chr' we will get ascii value to 'alphabet'\n",
    "        k = k+1 # to find the next alphabet\n",
    "    print()"
   ]
  },
  {
   "cell_type": "markdown",
   "id": "c64e4cfd",
   "metadata": {},
   "source": [
    "But in out pattern we don't want that we, want A, and A B, A B C like that"
   ]
  },
  {
   "cell_type": "code",
   "execution_count": 13,
   "id": "9140d331",
   "metadata": {},
   "outputs": [
    {
     "name": "stdout",
     "output_type": "stream",
     "text": [
      "Enter the number of rows: 5\n",
      "A \n",
      "B C \n",
      "C D E \n",
      "D E F G \n",
      "E F G H I \n"
     ]
    }
   ],
   "source": [
    "n = int(input(\"Enter the number of rows: \"))\n",
    "\n",
    "for i in range(n):\n",
    "    k = ord(\"A\") + i # added i so that new line should start the next alphabet than previous row \n",
    "    for j in range(i+1):\n",
    "        print(chr(k), end = \" \")   \n",
    "        k = k+1 \n",
    "    print()"
   ]
  },
  {
   "cell_type": "markdown",
   "id": "6c5e19e8",
   "metadata": {},
   "source": [
    "#### using Sting ASCII character"
   ]
  },
  {
   "cell_type": "code",
   "execution_count": 20,
   "id": "b3f8de65",
   "metadata": {},
   "outputs": [
    {
     "name": "stdout",
     "output_type": "stream",
     "text": [
      "Enter the number of rows: 5\n",
      "A \n",
      "B C \n",
      "C D E \n",
      "D E F G \n",
      "E F G H I \n"
     ]
    }
   ],
   "source": [
    "### Without 'ord' and 'Chr'\n",
    "import string\n",
    "\n",
    "letter = string.ascii_uppercase\n",
    "\n",
    "n = int(input(\"Enter the number of rows: \"))\n",
    "\n",
    "for i in range(n):\n",
    "    \n",
    "    for j in range(i+1):\n",
    "        print(letter[i+j], end = \" \")   \n",
    "        \n",
    "    print()"
   ]
  },
  {
   "cell_type": "markdown",
   "id": "c4c88bca",
   "metadata": {},
   "source": [
    "#### set the limit so that it should go beyond the Alphabet range"
   ]
  },
  {
   "cell_type": "code",
   "execution_count": 25,
   "id": "1eacf9ea",
   "metadata": {},
   "outputs": [
    {
     "name": "stdout",
     "output_type": "stream",
     "text": [
      "Enter the number of rows: 16\n",
      "It will exceed the alphabet limit please try below of this!\n"
     ]
    }
   ],
   "source": [
    "### Without 'ord' and 'Chr'\n",
    "import string\n",
    "\n",
    "letter = string.ascii_uppercase\n",
    "\n",
    "n = int(input(\"Enter the number of rows: \"))\n",
    "\n",
    "while (2*n - 1)<=26:\n",
    "    \n",
    "    for i in range(n):\n",
    "\n",
    "        for j in range(i+1):\n",
    "            print(letter[i+j], end = \" \")   \n",
    "\n",
    "        print()\n",
    "        \n",
    "    break # here we need to stop this when loop will be over otherwise it start printing it again and \n",
    "          # again and will stuck in infinite loop.\n",
    "    \n",
    "else:\n",
    "    print(\"It will exceed the alphabet limit please try below of this!\")"
   ]
  },
  {
   "cell_type": "code",
   "execution_count": 5,
   "id": "a483d5d8",
   "metadata": {},
   "outputs": [
    {
     "data": {
      "text/plain": [
       "'abcdefghijklmnopqrstuvwxyzABCDEFGHIJKLMNOPQRSTUVWXYZ'"
      ]
     },
     "execution_count": 5,
     "metadata": {},
     "output_type": "execute_result"
    }
   ],
   "source": [
    "import string\n",
    "\n",
    "string.ascii_letters"
   ]
  },
  {
   "cell_type": "code",
   "execution_count": 6,
   "id": "4a7664dc",
   "metadata": {},
   "outputs": [
    {
     "data": {
      "text/plain": [
       "'ABCDEFGHIJKLMNOPQRSTUVWXYZ'"
      ]
     },
     "execution_count": 6,
     "metadata": {},
     "output_type": "execute_result"
    }
   ],
   "source": [
    "import string\n",
    "\n",
    "string.ascii_uppercase"
   ]
  },
  {
   "cell_type": "code",
   "execution_count": 7,
   "id": "9b476df8",
   "metadata": {},
   "outputs": [
    {
     "data": {
      "text/plain": [
       "'0123456789'"
      ]
     },
     "execution_count": 7,
     "metadata": {},
     "output_type": "execute_result"
    }
   ],
   "source": [
    "import string\n",
    "\n",
    "string.digits"
   ]
  },
  {
   "cell_type": "code",
   "execution_count": 26,
   "id": "4ae65c5d",
   "metadata": {},
   "outputs": [
    {
     "name": "stdout",
     "output_type": "stream",
     "text": [
      "0 1 2 3 4 5 6 7 8 9 "
     ]
    }
   ],
   "source": [
    "import string\n",
    "digits = string.digits\n",
    "\n",
    "for num in digits:\n",
    "    print(num, end = \" \")"
   ]
  },
  {
   "cell_type": "markdown",
   "id": "ba924dd1",
   "metadata": {},
   "source": [
    "#### Star Pattern Program is Star Shape\n",
    "\n",
    "In below program we need to take every star line and make a combination such that it will fullfil the condition and will print the star"
   ]
  },
  {
   "cell_type": "code",
   "execution_count": 2,
   "id": "0d61e9bd",
   "metadata": {},
   "outputs": [
    {
     "name": "stdout",
     "output_type": "stream",
     "text": [
      "            *             \n",
      "          *   *           \n",
      "* * * * * * * * * * * * * \n",
      "  *   *           *   *   \n",
      "    *               *     \n",
      "  *   *           *   *   \n",
      "* * * * * * * * * * * * * \n",
      "          *   *           \n",
      "            *             \n"
     ]
    }
   ],
   "source": [
    "for i in range(9):\n",
    "    for j in range(13):\n",
    "        if i == 2 or i == 6 or i+j == 6 or j-i == 6 or i-j == 2 or i+j == 14:\n",
    "            print(\"*\", end = \" \")\n",
    "        else:\n",
    "            print(\" \", end = \" \")\n",
    "    print()"
   ]
  },
  {
   "cell_type": "markdown",
   "id": "2b4f81df",
   "metadata": {},
   "source": [
    "#### When taking row input by user :\n",
    "* we need to find a relation between row and column \n",
    "* row must be greater than 5 to form a star.\n",
    "* when we took row and get column like\n",
    "\n",
    "* row   -- col\n",
    "* 5   -- 5\n",
    "* 6  --  6\n",
    "* 7  --  9\n",
    "* 8  --  11\n",
    "* 9  --  13\n",
    "* 10 --  15\n",
    "* 11 --  17\n",
    "* 12 --  19\n",
    "\n",
    "* so formula we found `col = (n+n-5)`"
   ]
  },
  {
   "cell_type": "code",
   "execution_count": 5,
   "id": "c592a62e",
   "metadata": {},
   "outputs": [
    {
     "name": "stdout",
     "output_type": "stream",
     "text": [
      "Enter the row number: 10\n",
      "              *               \n",
      "            *   *             \n",
      "* * * * * * * * * * * * * * * \n",
      "  *     *           *     *   \n",
      "    * *               * *     \n",
      "    * *               * *     \n",
      "  *     *           *     *   \n",
      "* * * * * * * * * * * * * * * \n",
      "            *   *             \n",
      "              *               \n"
     ]
    }
   ],
   "source": [
    "# no need to ask number of column because number of column will be decided by the number of row\n",
    "# automatically so let's ask for user input for the row only\n",
    "\n",
    "row = int(input(\"Enter the row number: \"))\n",
    "n = row\n",
    "col = n+n-5\n",
    "mid = col//2\n",
    "for i in range(n):\n",
    "    for j in range(col):\n",
    "        if i == 2 or i == (n-3) or i+j == (mid) or j-i == (mid) or i-j == 2 or i+j == (col+1):\n",
    "            print(\"*\", end = \" \")\n",
    "        else:\n",
    "            print(\" \", end = \" \")\n",
    "    print()"
   ]
  },
  {
   "cell_type": "code",
   "execution_count": null,
   "id": "2392a6cc",
   "metadata": {},
   "outputs": [],
   "source": []
  }
 ],
 "metadata": {
  "kernelspec": {
   "display_name": "Python 3 (ipykernel)",
   "language": "python",
   "name": "python3"
  },
  "language_info": {
   "codemirror_mode": {
    "name": "ipython",
    "version": 3
   },
   "file_extension": ".py",
   "mimetype": "text/x-python",
   "name": "python",
   "nbconvert_exporter": "python",
   "pygments_lexer": "ipython3",
   "version": "3.9.7"
  }
 },
 "nbformat": 4,
 "nbformat_minor": 5
}
