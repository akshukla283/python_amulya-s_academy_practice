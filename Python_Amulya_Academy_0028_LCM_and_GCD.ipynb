{
 "cells": [
  {
   "cell_type": "markdown",
   "id": "83bdef3f",
   "metadata": {},
   "source": [
    "#### The greatest common divisor (GCD) of two or more numbers \n",
    "\n",
    "`The greatest common divisor (GCD) of two or more numbers is the greatest common factor number that divides them, exactly. It is also called the highest common factor (HCF). For example, the greatest common factor of 15 and 10 is 5, since both the numbers can be divided by 5.`"
   ]
  },
  {
   "cell_type": "code",
   "execution_count": 10,
   "id": "17b4fa18",
   "metadata": {},
   "outputs": [
    {
     "name": "stdout",
     "output_type": "stream",
     "text": [
      "Enter the first number : 12\n",
      "Enter the second number : 4\n",
      "4\n"
     ]
    }
   ],
   "source": [
    "# Usin recursive case\n",
    "def compute_GCD(a, b):\n",
    "    if b==0:\n",
    "        return a\n",
    "    else:\n",
    "        return compute_GCD(b, a%b) # a%b will give remainder and in recursive it will behave like\n",
    "                                   # value b.\n",
    "    \n",
    "n1 = int(input(\"Enter the first number : \"))\n",
    "n2 = int(input(\"Enter the second number : \"))\n",
    "\n",
    "print(compute_GCD(n1, n2))\n"
   ]
  },
  {
   "cell_type": "code",
   "execution_count": 14,
   "id": "c553cac2",
   "metadata": {},
   "outputs": [
    {
     "name": "stdout",
     "output_type": "stream",
     "text": [
      "Enter the first number : 0\n",
      "Enter the second number : 12\n",
      "GCD of 0, and 12 is : 12\n"
     ]
    }
   ],
   "source": [
    "n1 = int(input(\"Enter the first number : \"))\n",
    "n2 = int(input(\"Enter the second number : \"))\n",
    "\n",
    "\n",
    "def compute_GCD(n1, n2):\n",
    "    lst1 = []\n",
    "    lst2 = []\n",
    "    if n1 == 0 :\n",
    "        print(f\"GCD of {n1}, and {n2} is : {n2}\")\n",
    "    elif n2 == 0:\n",
    "        print(f\"GCD of {n1}, and {n2} is : {n1}\")\n",
    "    elif n1==0 and n2==0:\n",
    "        print(f\"GCD of {n1}, and {n2} is : {n1}\")\n",
    "    else:\n",
    "        for i in range(1,n1+1):\n",
    "            if n1%i == 0:\n",
    "                lst1.append(i)\n",
    "        for i in range(1, n2+1):\n",
    "            if n2%i == 0:\n",
    "                lst2.append(i)\n",
    "        gcd_lst = [x for x in lst1 if x in lst2]\n",
    "\n",
    "        print(f\"GCD of {n1}, and {n2} is : {max(gcd_lst)}\")\n",
    "    \n",
    "compute_GCD(n1, n2)\n",
    "            \n",
    "    "
   ]
  },
  {
   "cell_type": "code",
   "execution_count": 17,
   "id": "d1d8008c",
   "metadata": {},
   "outputs": [
    {
     "data": {
      "text/plain": [
       "2"
      ]
     },
     "execution_count": 17,
     "metadata": {},
     "output_type": "execute_result"
    }
   ],
   "source": [
    "import math\n",
    "math.gcd(2, 0)"
   ]
  },
  {
   "cell_type": "code",
   "execution_count": 8,
   "id": "21c94736",
   "metadata": {},
   "outputs": [
    {
     "name": "stdout",
     "output_type": "stream",
     "text": [
      "Enter the first number : 64\n",
      "Enter the second number : 48\n",
      "16\n"
     ]
    }
   ],
   "source": [
    "# Usin recursive case\n",
    "def compute_GCD(a, b):\n",
    "    if b==0:\n",
    "        return a\n",
    "    else:\n",
    "        return compute_GCD(b, a%b) # a%b will give remainder and in recursive it will behave like\n",
    "                                   # value b.\n",
    "    \n",
    "n1 = int(input(\"Enter the first number : \"))\n",
    "n2 = int(input(\"Enter the second number : \"))\n",
    "\n",
    "print(compute_GCD(n1, n2))\n"
   ]
  },
  {
   "cell_type": "markdown",
   "id": "64d1fffc",
   "metadata": {},
   "source": [
    "#### The Least Common Multiple ( LCM ):\n",
    "`The smallest positive number that is a multiple of two or more numbers.`\n",
    "\n",
    "`The Least Common Multiple ( LCM ) is also referred to as the Lowest Common Multiple ( LCM ) and Least Common Divisor ( LCD) . For two integers a and b, denoted LCM(a,b), the LCM is the smallest positive integer that is evenly divisible by both a and b. For example, LCM(2,3) = 6 and LCM(6,10) = 30.`"
   ]
  },
  {
   "cell_type": "code",
   "execution_count": 2,
   "id": "bc358c2f",
   "metadata": {},
   "outputs": [
    {
     "name": "stdout",
     "output_type": "stream",
     "text": [
      "Enter the first number : 12\n",
      "Enter the second number : 1222\n",
      "LCM of 12, and 1222 is : 7332\n"
     ]
    }
   ],
   "source": [
    "n1 = int(input(\"Enter the first number : \"))\n",
    "n2 = int(input(\"Enter the second number : \"))\n",
    "\n",
    "def compute_LCM(n1, n2):\n",
    "    if n1>n2:\n",
    "        higher = n1\n",
    "    else:\n",
    "        higher = n2\n",
    "    value = higher      # we took to add it to get next value not the whole privious one \n",
    "    while True:\n",
    "        if higher %n1 == 0 and higher%n2 == 0:\n",
    "            print(f\"LCM of {n1}, and {n2} is : {higher}\")\n",
    "            break\n",
    "\n",
    "        else:\n",
    "            higher = higher + value\n",
    "        \n",
    "\n",
    "    \n",
    "compute_LCM(n1, n2)"
   ]
  },
  {
   "cell_type": "code",
   "execution_count": 16,
   "id": "a5f6b798",
   "metadata": {},
   "outputs": [
    {
     "name": "stdout",
     "output_type": "stream",
     "text": [
      "Enter the first number : 2\n",
      "Enter the second number : 0\n",
      "0\n"
     ]
    }
   ],
   "source": [
    "### Another method : using GCD\n",
    "# we konw formula n1 x n2 = LCM(n1, n2) x GCD(n1, n2)\n",
    "\n",
    "def compute_GCD(a, b):\n",
    "    if b == 0:\n",
    "        return a\n",
    "    else:\n",
    "        return compute_GCD(a, a%b)  # a%b will be treated as 'b' in recursive call\n",
    "    \n",
    "n1 = int(input(\"Enter the first number : \"))\n",
    "n2 = int(input(\"Enter the second number : \"))\n",
    "\n",
    "LCM = (n1 * n2)//compute_GCD(n1, n2) # used formula. And note that this is not use full if any of\n",
    "                                     # number is zero.\n",
    "print(LCM)"
   ]
  },
  {
   "cell_type": "code",
   "execution_count": null,
   "id": "ef162a03",
   "metadata": {},
   "outputs": [],
   "source": []
  },
  {
   "cell_type": "code",
   "execution_count": null,
   "id": "a3a111f8",
   "metadata": {},
   "outputs": [],
   "source": []
  },
  {
   "cell_type": "code",
   "execution_count": null,
   "id": "644f11b4",
   "metadata": {},
   "outputs": [],
   "source": []
  }
 ],
 "metadata": {
  "kernelspec": {
   "display_name": "Python 3 (ipykernel)",
   "language": "python",
   "name": "python3"
  },
  "language_info": {
   "codemirror_mode": {
    "name": "ipython",
    "version": 3
   },
   "file_extension": ".py",
   "mimetype": "text/x-python",
   "name": "python",
   "nbconvert_exporter": "python",
   "pygments_lexer": "ipython3",
   "version": "3.9.7"
  }
 },
 "nbformat": 4,
 "nbformat_minor": 5
}
