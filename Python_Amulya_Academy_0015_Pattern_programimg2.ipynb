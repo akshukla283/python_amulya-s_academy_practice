{
 "cells": [
  {
   "cell_type": "markdown",
   "id": "12c71ddf",
   "metadata": {},
   "source": [
    "#### Number Pattern \n"
   ]
  },
  {
   "cell_type": "code",
   "execution_count": 7,
   "id": "a14da56d",
   "metadata": {},
   "outputs": [
    {
     "name": "stdout",
     "output_type": "stream",
     "text": [
      "Enter an odd length number: 12345\n",
      "1       1 \n",
      "  2   2   \n",
      "    3     \n",
      "  4   4   \n",
      "5       5 \n"
     ]
    }
   ],
   "source": [
    "# odd length with same order at diagonal\n",
    "num = input(\"Enter an odd length number: \")\n",
    "length = len(num)\n",
    "\n",
    "for i in range(length):\n",
    "    for j in range(length):\n",
    "        if i == j or i+j == length-1:    # printing for digonal\n",
    "            print(num[i], end = \" \")\n",
    "        else:\n",
    "            print(\" \", end = \" \")\n",
    "    print()"
   ]
  },
  {
   "cell_type": "code",
   "execution_count": 8,
   "id": "d54d91a8",
   "metadata": {},
   "outputs": [
    {
     "name": "stdout",
     "output_type": "stream",
     "text": [
      "Enter an odd length number: 12345\n",
      "1       5 \n",
      "  2   4   \n",
      "    3     \n",
      "  2   4   \n",
      "1       5 \n"
     ]
    }
   ],
   "source": [
    "# odd length with reverse order at diagonal\n",
    "num = input(\"Enter an odd length number: \")\n",
    "length = len(num)\n",
    "\n",
    "for i in range(length):\n",
    "    for j in range(length):\n",
    "        if i == j or i+j == length-1:    # printing for digonal\n",
    "            print(num[j], end = \" \")\n",
    "        else:\n",
    "            print(\" \", end = \" \")\n",
    "    print()"
   ]
  },
  {
   "cell_type": "code",
   "execution_count": 10,
   "id": "c64b22ba",
   "metadata": {},
   "outputs": [
    {
     "name": "stdout",
     "output_type": "stream",
     "text": [
      "Enter the number of rows: 4\n",
      "111 \n",
      "111 222 \n",
      "111 222 333 \n",
      "111 222 333 444 \n"
     ]
    }
   ],
   "source": [
    "### Num pattern\n",
    "\n",
    "num = int(input(\"Enter the number of rows: \"))\n",
    "\n",
    "for i in range(num):\n",
    "    k = 111\n",
    "    for j in range(i+1):\n",
    "        print(k, end = \" \")\n",
    "        k = k + 111\n",
    "    print()"
   ]
  },
  {
   "cell_type": "code",
   "execution_count": 15,
   "id": "6503a535",
   "metadata": {},
   "outputs": [
    {
     "name": "stdout",
     "output_type": "stream",
     "text": [
      "Enter the number of rows: 4\n",
      "               111  \n",
      "          111  222  \n",
      "     111  222  333  \n",
      "111  222  333  444  \n"
     ]
    }
   ],
   "source": [
    "num = int(input(\"Enter the number of rows: \"))\n",
    "\n",
    "for i in range(num):\n",
    "    k = 111\n",
    "    # taking for loop for space\n",
    "    for j in range(num-i-1):\n",
    "        print(format(\" \", \"<5\"), end = \"\")\n",
    "        \n",
    "    for j in range(i+1):\n",
    "        print(format(k, \"<5\"), end = \"\")\n",
    "        k = k + 111\n",
    "    print()"
   ]
  },
  {
   "cell_type": "code",
   "execution_count": 20,
   "id": "aa4e4036",
   "metadata": {},
   "outputs": [
    {
     "name": "stdout",
     "output_type": "stream",
     "text": [
      "Enter the number of rows: 4\n",
      "               111  \n",
      "          222  111  \n",
      "     333  222  111  \n",
      "444  333  222  111  \n"
     ]
    }
   ],
   "source": [
    "###\n",
    "\n",
    "num = int(input(\"Enter the number of rows: \"))\n",
    "\n",
    "for i in range(num):\n",
    "    k = 111\n",
    "    # taking for loop for space\n",
    "    for j in range(num-i-1):\n",
    "        print(format(\" \", \"<5\"), end = \"\")\n",
    "    k = k*(i+1)   \n",
    "    for j in range(i+1):\n",
    "        print(format(k, \"<5\"), end = \"\")\n",
    "        k = k - 111\n",
    "    print()"
   ]
  },
  {
   "cell_type": "code",
   "execution_count": 11,
   "id": "0da32ce4",
   "metadata": {},
   "outputs": [
    {
     "name": "stdout",
     "output_type": "stream",
     "text": [
      "Enter the number of rows: 4\n",
      "111 \n",
      "222 333 \n",
      "444 555 666 \n",
      "777 888 999 1110 \n"
     ]
    }
   ],
   "source": [
    "### Num pattern\n",
    "\n",
    "num = int(input(\"Enter the number of rows: \"))\n",
    "k = 111 # puting out of the for loop\n",
    "for i in range(num):\n",
    "    \n",
    "    for j in range(i+1):\n",
    "        print(k, end = \" \")\n",
    "        k = k + 111\n",
    "    print()"
   ]
  },
  {
   "cell_type": "markdown",
   "id": "548c1bb6",
   "metadata": {},
   "source": [
    "### Checking Series aaand Fibonacci Number:\n",
    "like - 0,1,1,2,3,5........\n",
    "\n",
    "e.g. = 3 is fibonacci number and 4 is not a fabonacci number \n",
    "\n",
    "`\" A number is fibonacci if and only if one or both of 5*(n*N)+4 or 5*(n*n)-4 is a perfect square.\"`\n",
    "\n",
    "`like 3 on puting above formula 5*(3 x 3) + 4 = 49 which is perfect square of 7 and putting 3 in another formula 5*(3 x 3) - 4 = 41 which is not perfect square but atleast one condition is satisfied then so it is a Fabonacci series number.`"
   ]
  },
  {
   "cell_type": "code",
   "execution_count": 25,
   "id": "39d1e6d2",
   "metadata": {},
   "outputs": [
    {
     "name": "stdout",
     "output_type": "stream",
     "text": [
      "Enter the number : 10\n",
      "10 is not a fibonacci number\n"
     ]
    }
   ],
   "source": [
    "import math \n",
    "def perfectSquare(x):\n",
    "    \n",
    "    s = int(math.sqrt(x))\n",
    "    return s*s == x\n",
    "\n",
    "n = int(input(\"Enter the number : \"))\n",
    "\n",
    "result1 = 5 * (n*n) + 4\n",
    "result2 = 5 * (n*n) - 4\n",
    "\n",
    "if perfectSquare(result1) or perfectSquare(result2):\n",
    "    print(n, \"is a fibonacci number\")\n",
    "    \n",
    "else:\n",
    "    print(n, \"is not a fibonacci number\")"
   ]
  },
  {
   "cell_type": "code",
   "execution_count": 27,
   "id": "c23d8630",
   "metadata": {},
   "outputs": [
    {
     "name": "stdout",
     "output_type": "stream",
     "text": [
      "Enter the number of row: 5\n",
      "* * * * * * * * * * \n",
      "* * * *     * * * * \n",
      "* * *         * * * \n",
      "* *             * * \n",
      "*                 * \n"
     ]
    }
   ],
   "source": [
    "#### printing star in and making a hollow square\n",
    "\n",
    "n = int(input(\"Enter the number of row: \"))\n",
    "for i in range(n, 0, -1):\n",
    "    for j in range(i): # this is column \n",
    "        print(\"*\", end = \" \")\n",
    "    for j in range(2*(n-i)):\n",
    "        print(\" \", end = \" \")\n",
    "    for j in range(i, 0, -1):\n",
    "        print(\"*\", end = \" \")\n",
    "    print()\n",
    "        "
   ]
  },
  {
   "cell_type": "code",
   "execution_count": 32,
   "id": "b05b1d34",
   "metadata": {},
   "outputs": [
    {
     "name": "stdout",
     "output_type": "stream",
     "text": [
      "Enter the number of row: 5\n",
      "* * * * * * * * * * \n",
      "* * * *     * * * * \n",
      "* * *         * * * \n",
      "* *             * * \n",
      "*                 * \n",
      "*                 * \n",
      "* *             * * \n",
      "* * *         * * * \n",
      "* * * *     * * * * \n",
      "* * * * * * * * * * \n"
     ]
    }
   ],
   "source": [
    "#### printing star in and making a hollow square\n",
    "\n",
    "n = int(input(\"Enter the number of row: \"))\n",
    "for i in range(n, 0, -1):\n",
    "    for j in range(i): # this is for stare in 1 pattern \n",
    "        print(\"*\", end = \" \")\n",
    "    for j in range(2*(n-i)):  # this is for the space between first two pattern\n",
    "        print(\" \", end = \" \")\n",
    "    for j in range(i, 0, -1): # this is for star in 2 pattern \n",
    "        print(\"*\", end = \" \")\n",
    "    print()  # new line \n",
    "# now for lower pattern      \n",
    "\n",
    "for i in range(n):\n",
    "    for j in range(i+1): # this is for star in lower  1 pattern \n",
    "        print(\"*\", end = \" \")\n",
    "    for j in range(2*(n-i-1)):  # this is for the space between first two pattern\n",
    "        print(\" \", end = \" \")\n",
    "    for j in range(i+1): # this is for star in  lower2 pattern \n",
    "        print(\"*\", end = \" \")\n",
    "    print()  # new line "
   ]
  },
  {
   "cell_type": "code",
   "execution_count": 34,
   "id": "75a7c964",
   "metadata": {},
   "outputs": [
    {
     "name": "stdout",
     "output_type": "stream",
     "text": [
      "Enter the number of row: 5\n",
      "* * * * * * * * * * \n",
      "* * * *     * * * * \n",
      "* * *         * * * \n",
      "* *             * * \n",
      "*                 * \n",
      "* *             * * \n",
      "* * *         * * * \n",
      "* * * *     * * * * \n",
      "* * * * * * * * * * \n"
     ]
    }
   ],
   "source": [
    " \n",
    "\n",
    "n = int(input(\"Enter the number of row: \"))\n",
    "for i in range(n, 0, -1):\n",
    "    for j in range(i): # this is for stare in 1 pattern \n",
    "        print(\"*\", end = \" \")\n",
    "    for j in range(2*(n-i)):  # this is for the space between first two pattern\n",
    "        print(\" \", end = \" \")\n",
    "    for j in range(i, 0, -1): # this is for star in 2 pattern \n",
    "        print(\"*\", end = \" \")\n",
    "    print()  # new line \n",
    "# now for lower pattern      \n",
    "\n",
    "for i in range(1, n): # just remove one extra space\n",
    "    for j in range(i+1): # this is for star in lower  1 pattern \n",
    "        print(\"*\", end = \" \")\n",
    "    for j in range(2*(n-i-1)):  # this is for the space between first two pattern\n",
    "        print(\" \", end = \" \")\n",
    "    for j in range(i+1): # this is for star in  lower2 pattern \n",
    "        print(\"*\", end = \" \")\n",
    "    print()  # new line "
   ]
  },
  {
   "cell_type": "code",
   "execution_count": 36,
   "id": "acdf1c95",
   "metadata": {},
   "outputs": [
    {
     "name": "stdout",
     "output_type": "stream",
     "text": [
      "Enter the number of row: 5\n",
      "            1 \n",
      "         2 1 \n",
      "      3 2 1 \n",
      "   4 3 2 1 \n",
      "5 4 3 2 1 \n"
     ]
    }
   ],
   "source": [
    "## in this pattern we took 4 part and this one for 1st part.\n",
    "n = int(input(\"Enter the number of row: \"))\n",
    "\n",
    "for i in range(n):\n",
    "    k = i+1\n",
    "    for j in range(n-i-1):\n",
    "        print(\" \", end = \"  \")# we took 3 space in single iteration because space needed multiple of 3\n",
    "    for j in range(i+1):\n",
    "        print(k, end = \" \")\n",
    "        k = k-1\n",
    "    print()\n",
    "        "
   ]
  },
  {
   "cell_type": "code",
   "execution_count": 37,
   "id": "688743c4",
   "metadata": {},
   "outputs": [
    {
     "name": "stdout",
     "output_type": "stream",
     "text": [
      "Enter the number of row: 4\n",
      "         1 \n",
      "      2 1 0 1 \n",
      "   3 2 1   0 1 2 \n",
      "4 3 2 1     0 1 2 3 \n"
     ]
    }
   ],
   "source": [
    "#  with second part \n",
    "n = int(input(\"Enter the number of row: \"))\n",
    "\n",
    "for i in range(n):\n",
    "    k = i+1\n",
    "    for j in range(n-i-1):\n",
    "        print(\" \", end = \"  \")\n",
    "    for j in range(i+1):\n",
    "        print(k, end = \" \")\n",
    "        k = k-1\n",
    "    if i>0:\n",
    "        for j in range(i-1):\n",
    "            print(\" \", end = \" \")\n",
    "        for j in range(i+1):\n",
    "            print(k, end = \" \")\n",
    "            k = k+1\n",
    "    print()\n",
    "        "
   ]
  },
  {
   "cell_type": "code",
   "execution_count": 38,
   "id": "a7631416",
   "metadata": {},
   "outputs": [
    {
     "name": "stdout",
     "output_type": "stream",
     "text": [
      "Enter the number of row: 5\n",
      "            1 \n",
      "         2 1 1 2 \n",
      "      3 2 1   1 2 3 \n",
      "   4 3 2 1     1 2 3 4 \n",
      "5 4 3 2 1       1 2 3 4 5 \n"
     ]
    }
   ],
   "source": [
    "#  with second part \n",
    "n = int(input(\"Enter the number of row: \"))\n",
    "\n",
    "for i in range(n):\n",
    "    k = i+1\n",
    "    for j in range(n-i-1):\n",
    "        print(\" \", end = \"  \")\n",
    "    for j in range(i+1):\n",
    "        print(k, end = \" \")\n",
    "        k = k-1\n",
    "    if i>0:\n",
    "        for j in range(i-1):\n",
    "            print(\" \", end = \" \")\n",
    "        for j in range(i+1):\n",
    "            k = k+1 # ajusted k\n",
    "            print(k, end = \" \")\n",
    "            \n",
    "    print()\n",
    "# part 1 and part 2 completed"
   ]
  },
  {
   "cell_type": "code",
   "execution_count": 40,
   "id": "2800acf0",
   "metadata": {},
   "outputs": [
    {
     "name": "stdout",
     "output_type": "stream",
     "text": [
      "Enter the number of row: 7\n",
      "                  1 \n",
      "               2 1 1 2 \n",
      "            3 2 1   1 2 3 \n",
      "         4 3 2 1     1 2 3 4 \n",
      "      5 4 3 2 1       1 2 3 4 5 \n",
      "   6 5 4 3 2 1         1 2 3 4 5 6 \n",
      "7 6 5 4 3 2 1           1 2 3 4 5 6 7 \n",
      "   6 5 4 3 2 1         1 2 3 4 5 6 \n",
      "      5 4 3 2 1       1 2 3 4 5 \n",
      "         4 3 2 1     1 2 3 4 \n",
      "            3 2 1   1 2 3 \n",
      "               2 1 1 2 \n",
      "                  1 \n"
     ]
    }
   ],
   "source": [
    "#  with 3rd and 4rth part\n",
    "n = int(input(\"Enter the number of row: \"))\n",
    "\n",
    "for i in range(n):\n",
    "    k = i+1\n",
    "    for j in range(n-i-1):\n",
    "        print(\" \", end = \"  \")\n",
    "    for j in range(i+1):\n",
    "        print(k, end = \" \")\n",
    "        k = k-1\n",
    "    if i>0:\n",
    "        for j in range(i-1):\n",
    "            print(\" \", end = \" \")\n",
    "        for j in range(i+1):\n",
    "            k = k+1 # ajusted k\n",
    "            print(k, end = \" \")\n",
    "            \n",
    "    print()\n",
    "    \n",
    "# for lower part\n",
    "\n",
    "for i in range(1,n):\n",
    "    k = n - i\n",
    "    for j in range(i):\n",
    "        print(\" \", end = \"  \")\n",
    "    for j in range(n-i):\n",
    "        print(k, end = \" \")\n",
    "        k = k-1\n",
    "    if i<(n-1):\n",
    "        for j in range(n-i-2):\n",
    "            print(\" \", end = \" \")\n",
    "        for j in range(n-i):\n",
    "            k = k+1 # ajusted k\n",
    "            print(k, end = \" \")\n",
    "            \n",
    "    print()"
   ]
  },
  {
   "cell_type": "code",
   "execution_count": 43,
   "id": "f975b7cb",
   "metadata": {},
   "outputs": [
    {
     "name": "stdout",
     "output_type": "stream",
     "text": [
      "Enter the N value :  3\n",
      "[0, 0, 0, 0, 0]\n"
     ]
    }
   ],
   "source": [
    "#### new pattern \n",
    "\n",
    "N = int(input(\"Enter the N value :  \"))\n",
    "\n",
    "k = (2*N -1)\n",
    "# to store values we need nested list \n",
    "matrix = [0 for i in range(k)] \n",
    "print(matrix)"
   ]
  },
  {
   "cell_type": "code",
   "execution_count": 44,
   "id": "c5091174",
   "metadata": {},
   "outputs": [
    {
     "name": "stdout",
     "output_type": "stream",
     "text": [
      "Enter the N value :  3\n",
      "[[0, 0, 0, 0, 0], [0, 0, 0, 0, 0], [0, 0, 0, 0, 0], [0, 0, 0, 0, 0], [0, 0, 0, 0, 0]]\n"
     ]
    }
   ],
   "source": [
    "#### new pattern \n",
    "\n",
    "N = int(input(\"Enter the N value :  \"))\n",
    "\n",
    "k = (2*N -1)\n",
    "# to store values we need nested list \n",
    "matrix = [[0 for i in range(k)] for j in range(k)]\n",
    "print(matrix)"
   ]
  },
  {
   "cell_type": "code",
   "execution_count": 46,
   "id": "9a2db08e",
   "metadata": {},
   "outputs": [
    {
     "name": "stdout",
     "output_type": "stream",
     "text": [
      "Enter the N value :  3\n",
      "0 0 0 0 0 \n",
      "0 0 0 0 0 \n",
      "0 0 0 0 0 \n",
      "0 0 0 0 0 \n",
      "0 0 0 0 0 \n"
     ]
    }
   ],
   "source": [
    "#### new pattern \n",
    "\n",
    "N = int(input(\"Enter the N value :  \"))\n",
    "\n",
    "k = (2*N -1)\n",
    "# to store values we need nested list \n",
    "matrix = [[0 for i in range(k)] for j in range(k)]\n",
    "# for printing the matrix\n",
    "for i in range(k):\n",
    "    for j in range(k):\n",
    "        print(matrix[i][j], end = \" \")\n",
    "    print()\n",
    "    \n"
   ]
  },
  {
   "cell_type": "code",
   "execution_count": 47,
   "id": "462fd7e0",
   "metadata": {},
   "outputs": [
    {
     "name": "stdout",
     "output_type": "stream",
     "text": [
      "Enter the N value :  3\n",
      "3 3 3 3 3 \n",
      "0 2 2 2 0 \n",
      "0 0 1 0 0 \n",
      "0 0 0 0 0 \n",
      "0 0 0 0 0 \n"
     ]
    }
   ],
   "source": [
    "#### new pattern \n",
    "# inserting value \n",
    "\n",
    "N = int(input(\"Enter the N value :  \"))\n",
    "\n",
    "k = (2*N -1)\n",
    "low = 0\n",
    "high = k-1\n",
    "value = N\n",
    "# to store values we need nested list \n",
    "matrix = [[0 for i in range(k)] for j in range(k)]\n",
    "for i in range(N):\n",
    "    for j in range(low, high+1):\n",
    "        matrix[i][j] = value\n",
    "    low = low+1\n",
    "    high = high-1\n",
    "    value = value-1\n",
    "\n",
    "# for printing the matrix\n",
    "for i in range(k):\n",
    "    for j in range(k):\n",
    "        print(matrix[i][j], end = \" \")\n",
    "    print()\n",
    "    \n",
    "    "
   ]
  },
  {
   "cell_type": "code",
   "execution_count": 51,
   "id": "543607c1",
   "metadata": {},
   "outputs": [
    {
     "name": "stdout",
     "output_type": "stream",
     "text": [
      "Enter the N value :  4\n",
      "4 4 4 4 4 4 4 \n",
      "4 3 3 3 3 3 4 \n",
      "4 3 2 2 2 3 4 \n",
      "4 3 2 1 2 3 4 \n",
      "4 3 2 2 2 3 4 \n",
      "4 3 3 3 3 3 4 \n",
      "4 4 4 4 4 4 4 \n"
     ]
    }
   ],
   "source": [
    "#### new pattern \n",
    "# inserting value in second part, 3rd part and 4rth\n",
    "\n",
    "N = int(input(\"Enter the N value :  \"))\n",
    "\n",
    "k = (2*N -1)\n",
    "low = 0\n",
    "high = k-1\n",
    "value = N\n",
    "# to store values we need nested list \n",
    "matrix = [[0 for i in range(k)] for j in range(k)]\n",
    "for i in range(N):\n",
    "    for j in range(low, high+1):\n",
    "        matrix[i][j] = value\n",
    "    for j in range(low+1, high+1):\n",
    "        matrix[j][i] = value\n",
    "    for j in range(low+1, high+1):\n",
    "        matrix[high][j] = value\n",
    "    for j in range(low+1, high):\n",
    "        matrix[j][high] = value\n",
    "       \n",
    "    low = low+1\n",
    "    high = high-1\n",
    "    value = value-1\n",
    "\n",
    "# for printing the matrix\n",
    "for i in range(k):\n",
    "    for j in range(k):\n",
    "        print(matrix[i][j], end = \" \")\n",
    "        \n",
    "    print()\n",
    "    "
   ]
  },
  {
   "cell_type": "markdown",
   "id": "f5e65a45",
   "metadata": {},
   "source": [
    "#### Pascal's Triangle"
   ]
  },
  {
   "cell_type": "code",
   "execution_count": 53,
   "id": "17d51e66",
   "metadata": {},
   "outputs": [
    {
     "name": "stdout",
     "output_type": "stream",
     "text": [
      "Enter the row number: 4\n",
      "[[1], [1, 1], [1, 2, 1], [1, 3, 3, 1]]\n"
     ]
    }
   ],
   "source": [
    "n = int(input(\"Enter the row number: \"))\n",
    "\n",
    "list1 = []\n",
    "for i in range(n):\n",
    "    tem_list = []\n",
    "    for j in range(i+1):\n",
    "        if j == 0 or j == i:\n",
    "            tem_list.append(1)\n",
    "        else:\n",
    "            tem_list.append(list1[i-1][j-1] + list1[i-1][j])\n",
    "        \n",
    "    # appending temp list to list1\n",
    "    list1.append(tem_list)\n",
    "print(list1)"
   ]
  },
  {
   "cell_type": "code",
   "execution_count": 57,
   "id": "af213a69",
   "metadata": {},
   "outputs": [
    {
     "name": "stdout",
     "output_type": "stream",
     "text": [
      "Enter the row number: 4\n",
      "   1 \n",
      "  1 1 \n",
      " 1 2 1 \n",
      "1 3 3 1 \n"
     ]
    }
   ],
   "source": [
    "# now for printing \n",
    "\n",
    "n = int(input(\"Enter the row number: \"))\n",
    "\n",
    "list1 = []\n",
    "for i in range(n):\n",
    "    tem_list = []\n",
    "    for j in range(i+1):\n",
    "        if j == 0 or j == i:\n",
    "            tem_list.append(1)\n",
    "        else:\n",
    "            tem_list.append(list1[i-1][j-1] + list1[i-1][j])\n",
    "        \n",
    "    # appending temp list to list1\n",
    "    list1.append(tem_list)\n",
    "\n",
    "for i in range(n):\n",
    "    for j in range(n-i-1):\n",
    "        print(\" \", end = \"\")\n",
    "    for j in range(i+1):\n",
    "        print(list1[i][j], end = \" \")\n",
    "    print()"
   ]
  },
  {
   "cell_type": "code",
   "execution_count": 59,
   "id": "3cc85d5c",
   "metadata": {},
   "outputs": [
    {
     "name": "stdout",
     "output_type": "stream",
     "text": [
      "Enter the row number: 6\n",
      "          1   \n",
      "        1   1   \n",
      "      1   2   1   \n",
      "    1   3   3   1   \n",
      "  1   4   6   4   1   \n",
      "1   5   10  10  5   1   \n"
     ]
    }
   ],
   "source": [
    "# using formating \n",
    "# now for printing \n",
    "\n",
    "n = int(input(\"Enter the row number: \"))\n",
    "\n",
    "list1 = []\n",
    "for i in range(n):\n",
    "    tem_list = []\n",
    "    for j in range(i+1):\n",
    "        if j == 0 or j == i:\n",
    "            tem_list.append(1)\n",
    "        else:\n",
    "            tem_list.append(list1[i-1][j-1] + list1[i-1][j])\n",
    "        \n",
    "    # appending temp list to list1\n",
    "    list1.append(tem_list)\n",
    "\n",
    "for i in range(n):\n",
    "    for j in range(n-i-1):\n",
    "        print(format(\" \", \"<2\"), end = \"\") # we took 2 place for single space\n",
    "    for j in range(i+1):\n",
    "        print(format(list1[i][j], \"<4\"), end = \"\") \n",
    "    print()"
   ]
  },
  {
   "cell_type": "code",
   "execution_count": 1,
   "id": "41e5e217",
   "metadata": {},
   "outputs": [],
   "source": [
    "# For debuging it we saved this program in '.py' file and througth python shell we will debug it "
   ]
  },
  {
   "cell_type": "markdown",
   "id": "184cb10b",
   "metadata": {},
   "source": [
    "#### LCM Of Two Numbers\n",
    "\n",
    "`smallest non zero common number, which is the multiple of both the numbers.`\n",
    "\n",
    "`e.g. -- 24 some multiple of this -------24,48,72, 96.........\n",
    "  and 36 have -- 36, 72, 108, 144..... so least common is 72.`"
   ]
  },
  {
   "cell_type": "code",
   "execution_count": 3,
   "id": "505780e3",
   "metadata": {},
   "outputs": [
    {
     "name": "stdout",
     "output_type": "stream",
     "text": [
      "Enter the first number: 24\n",
      "Enter the second number: 36\n",
      "LCM of 24 and 36 is 72\n"
     ]
    }
   ],
   "source": [
    "# first way computing LCM of two numbers\n",
    "def num_lcm(n1, n2):\n",
    "    \n",
    "    if n1>n2:\n",
    "        higher= n1\n",
    "    else:\n",
    "        higher = n2\n",
    "        \n",
    "    value = higher   # to add multiple time we need base higher \n",
    "    while True:\n",
    "        \n",
    "        if higher%n1 == 0 and higher%n2 == 0:\n",
    "            print(\"LCM of\",n1, \"and\", n2,\"is\", higher)\n",
    "            break\n",
    "        else:\n",
    "            higher = higher + value\n",
    "        \n",
    "\n",
    "\n",
    "num1 = int(input(\"Enter the first number: \"))\n",
    "num2 = int(input(\"Enter the second number: \"))\n",
    "num_lcm(num1, num2)\n"
   ]
  },
  {
   "cell_type": "code",
   "execution_count": 4,
   "id": "a3a75bf1",
   "metadata": {},
   "outputs": [
    {
     "name": "stdout",
     "output_type": "stream",
     "text": [
      "Enter the first number: 24\n",
      "Enter the second number: 36\n",
      "LCM of numbers is :  72.0\n"
     ]
    }
   ],
   "source": [
    "# Another way of finding the LCM\n",
    "\n",
    "## n1 x n2 = lcm(n1, n2) x gcd(n1, n2)\n",
    "## lcm(n1 x n2) = n1 \n",
    "\n",
    "# first we will compute gcd of the numbers \n",
    "\n",
    "def compute_gcd(a,b):\n",
    "    if b == 0:\n",
    "        return a\n",
    "    else:\n",
    "        return compute_gcd(b, a%b)\n",
    "    \n",
    "num1 = int(input(\"Enter the first number: \"))\n",
    "num2 = int(input(\"Enter the second number: \"))\n",
    "\n",
    "LCM = (num1 * num2)/ compute_gcd(num1, num2)\n",
    "\n",
    "print(\"LCM of numbers is : \", LCM)\n"
   ]
  },
  {
   "cell_type": "code",
   "execution_count": 5,
   "id": "80be40c2",
   "metadata": {},
   "outputs": [
    {
     "name": "stdout",
     "output_type": "stream",
     "text": [
      "Enter the first number: 24\n",
      "Enter the second number: 36\n",
      "LCM of numbers is :  72\n"
     ]
    }
   ],
   "source": [
    "def compute_gcd(a,b):\n",
    "    if b == 0:\n",
    "        return a\n",
    "    else:\n",
    "        return compute_gcd(b, a%b)\n",
    "    \n",
    "num1 = int(input(\"Enter the first number: \"))\n",
    "num2 = int(input(\"Enter the second number: \"))\n",
    "\n",
    "LCM = (num1 * num2)// compute_gcd(num1, num2) # to avoid float we did truncated division\n",
    "\n",
    "print(\"LCM of numbers is : \", LCM)\n"
   ]
  },
  {
   "cell_type": "code",
   "execution_count": null,
   "id": "91a47fd4",
   "metadata": {},
   "outputs": [],
   "source": []
  }
 ],
 "metadata": {
  "kernelspec": {
   "display_name": "Python 3 (ipykernel)",
   "language": "python",
   "name": "python3"
  },
  "language_info": {
   "codemirror_mode": {
    "name": "ipython",
    "version": 3
   },
   "file_extension": ".py",
   "mimetype": "text/x-python",
   "name": "python",
   "nbconvert_exporter": "python",
   "pygments_lexer": "ipython3",
   "version": "3.9.7"
  }
 },
 "nbformat": 4,
 "nbformat_minor": 5
}
