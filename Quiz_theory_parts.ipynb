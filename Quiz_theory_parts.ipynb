{
 "cells": [
  {
   "cell_type": "markdown",
   "id": "b699baef",
   "metadata": {},
   "source": [
    "I/O-Bound programs spend most of their time waiting for external operations to complete, usually I/O. CPU-Bound programs spend most of their time doing computations."
   ]
  },
  {
   "cell_type": "markdown",
   "id": "3e78a70b",
   "metadata": {},
   "source": [
    "Control structures determine which statements in the program will be executed and in what order, allowing for statements to be skipped over or executed repeatedly.\n",
    "\n",
    "if, if/else, and if/elif/else statements are all examples of control structures that allow for statements to be skipped over or executed conditionally:\n",
    "\n",
    "`if <expr>:\n",
    "    <statement>\n",
    " \n",
    " \n",
    "if <expr>:\n",
    "    <statement(s)>\n",
    "else:\n",
    "    <statement(s)>\n",
    "    \n",
    "    \n",
    " \n",
    "if <expr>:\n",
    "    <statement(s)>\n",
    "elif <expr>:\n",
    "    <statement(s)>\n",
    "elif <expr>:\n",
    "    <statement(s)>\n",
    "    \n",
    "    \n",
    "    ...\n",
    "else:\n",
    "    <statement(s)>`\n",
    "The order of execution of statements in a program is called control flow.\n",
    "\n",
    "Review: Conditional Statements in Python"
   ]
  },
  {
   "cell_type": "markdown",
   "id": "c3316c9e",
   "metadata": {},
   "source": [
    "An object of an immutable type is hashable, and can serve as a dictionary key.\n",
    "\n",
    "['foo', 'bar'] is a list and dict(foo=1, bar=2) is a dictionary. These are both unhashable, mutable container types. They can’t be dictionary keys.\n",
    "\n",
    "Recall that these restrictions apply to dictionary keys only. A dictionary value can be any type whatsoever."
   ]
  },
  {
   "cell_type": "code",
   "execution_count": null,
   "id": "2a83127d",
   "metadata": {},
   "outputs": [],
   "source": []
  }
 ],
 "metadata": {
  "kernelspec": {
   "display_name": "Python 3 (ipykernel)",
   "language": "python",
   "name": "python3"
  },
  "language_info": {
   "codemirror_mode": {
    "name": "ipython",
    "version": 3
   },
   "file_extension": ".py",
   "mimetype": "text/x-python",
   "name": "python",
   "nbconvert_exporter": "python",
   "pygments_lexer": "ipython3",
   "version": "3.9.7"
  }
 },
 "nbformat": 4,
 "nbformat_minor": 5
}
