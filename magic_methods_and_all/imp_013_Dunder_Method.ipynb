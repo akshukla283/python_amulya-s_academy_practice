{
 "cells": [
  {
   "cell_type": "markdown",
   "id": "00917db3",
   "metadata": {},
   "source": [
    "### Python - Magic or Dunder Methods\n",
    "\n",
    "`Magic methods in Python are the special methods that start and end with the double underscores. They are also called dunder methods. Magic methods are not meant to be invoked directly by you, but the invocation happens internally from the class on a certain action. For example, when you add two numbers using the + operator, internally, the __add__() method will be called.`\n",
    "\n",
    "\n",
    "`Built-in classes in Python define many magic methods. Use the dir() function to see the number of magic methods inherited by a class. For example, the following lists all the attributes and methods defined in the int class.`"
   ]
  },
  {
   "cell_type": "code",
   "execution_count": 1,
   "id": "202bfba5",
   "metadata": {},
   "outputs": [
    {
     "data": {
      "text/plain": [
       "['__abs__',\n",
       " '__add__',\n",
       " '__and__',\n",
       " '__bool__',\n",
       " '__ceil__',\n",
       " '__class__',\n",
       " '__delattr__',\n",
       " '__dir__',\n",
       " '__divmod__',\n",
       " '__doc__',\n",
       " '__eq__',\n",
       " '__float__',\n",
       " '__floor__',\n",
       " '__floordiv__',\n",
       " '__format__',\n",
       " '__ge__',\n",
       " '__getattribute__',\n",
       " '__getnewargs__',\n",
       " '__gt__',\n",
       " '__hash__',\n",
       " '__index__',\n",
       " '__init__',\n",
       " '__init_subclass__',\n",
       " '__int__',\n",
       " '__invert__',\n",
       " '__le__',\n",
       " '__lshift__',\n",
       " '__lt__',\n",
       " '__mod__',\n",
       " '__mul__',\n",
       " '__ne__',\n",
       " '__neg__',\n",
       " '__new__',\n",
       " '__or__',\n",
       " '__pos__',\n",
       " '__pow__',\n",
       " '__radd__',\n",
       " '__rand__',\n",
       " '__rdivmod__',\n",
       " '__reduce__',\n",
       " '__reduce_ex__',\n",
       " '__repr__',\n",
       " '__rfloordiv__',\n",
       " '__rlshift__',\n",
       " '__rmod__',\n",
       " '__rmul__',\n",
       " '__ror__',\n",
       " '__round__',\n",
       " '__rpow__',\n",
       " '__rrshift__',\n",
       " '__rshift__',\n",
       " '__rsub__',\n",
       " '__rtruediv__',\n",
       " '__rxor__',\n",
       " '__setattr__',\n",
       " '__sizeof__',\n",
       " '__str__',\n",
       " '__sub__',\n",
       " '__subclasshook__',\n",
       " '__truediv__',\n",
       " '__trunc__',\n",
       " '__xor__',\n",
       " 'as_integer_ratio',\n",
       " 'bit_length',\n",
       " 'conjugate',\n",
       " 'denominator',\n",
       " 'from_bytes',\n",
       " 'imag',\n",
       " 'numerator',\n",
       " 'real',\n",
       " 'to_bytes']"
      ]
     },
     "execution_count": 1,
     "metadata": {},
     "output_type": "execute_result"
    }
   ],
   "source": [
    "dir(int)"
   ]
  },
  {
   "cell_type": "markdown",
   "id": "4b4ba07e",
   "metadata": {},
   "source": [
    "`As you can see above, the int class includes various magic methods surrounded by double underscores. For example, the __add__ method is a magic method which gets called when we add two numbers using the + operator. Consider the following example.`"
   ]
  },
  {
   "cell_type": "code",
   "execution_count": 3,
   "id": "96d92c9d",
   "metadata": {},
   "outputs": [],
   "source": [
    "num = 10"
   ]
  },
  {
   "cell_type": "code",
   "execution_count": 4,
   "id": "058accbd",
   "metadata": {},
   "outputs": [
    {
     "data": {
      "text/plain": [
       "15"
      ]
     },
     "execution_count": 4,
     "metadata": {},
     "output_type": "execute_result"
    }
   ],
   "source": [
    "num + 5"
   ]
  },
  {
   "cell_type": "code",
   "execution_count": 5,
   "id": "c8cea561",
   "metadata": {},
   "outputs": [
    {
     "data": {
      "text/plain": [
       "15"
      ]
     },
     "execution_count": 5,
     "metadata": {},
     "output_type": "execute_result"
    }
   ],
   "source": [
    "num.__add__(5)"
   ]
  },
  {
   "cell_type": "code",
   "execution_count": 6,
   "id": "1d2ca7e3",
   "metadata": {},
   "outputs": [
    {
     "data": {
      "text/plain": [
       "10"
      ]
     },
     "execution_count": 6,
     "metadata": {},
     "output_type": "execute_result"
    }
   ],
   "source": [
    "num"
   ]
  },
  {
   "cell_type": "markdown",
   "id": "fc9ee312",
   "metadata": {},
   "source": [
    "`As you can see, when you do num+10, the + operator calls the __add__(10) method. You can also call num.__add__(5) directly which will give the same result. However, as mentioned before, magic methods are not meant to be called directly, but internally, through some other methods or actions.`\n",
    "\n",
    "`Magic methods are most frequently used to define overloaded behaviours of predefined operators in Python. For instance, arithmetic operators by default operate upon numeric operands. This means that numeric objects must be used along with operators like +, -, *, /, etc. The + operator is also defined as a concatenation operator in string, list and tuple classes. We can say that the + operator is overloaded.`\n",
    "\n",
    "`In order to make the overloaded behaviour available in your own custom class, the corresponding magic method should be overridden. For example, in order to use the + operator with objects of a user-defined class, it should include the __add__() method.`\n",
    "\n",
    "Let's see how to implement and use some of the important magic methods."
   ]
  },
  {
   "cell_type": "markdown",
   "id": "7ca59b19",
   "metadata": {},
   "source": [
    "### ` __new__() method`\n",
    "`Languages such as Java and C# use the new operator to create a new instance of a class. In Python the __new__() magic method is implicitly called before the __init__() method. The __new__() method returns a new object, which is then initialized by __init__().`\n",
    "\n"
   ]
  },
  {
   "cell_type": "code",
   "execution_count": 1,
   "id": "bc06de7e",
   "metadata": {},
   "outputs": [],
   "source": [
    "class Employee:\n",
    "    \n",
    "    def __new__(cls):\n",
    "        print(\"__new__ magic method is called\")\n",
    "        inst = object.__new__(cls)\n",
    "        \n",
    "        return inst\n",
    "    \n",
    "    def __init__(self):\n",
    "        print(\"__init__ magic method is called\")\n",
    "        self.name = \"Satya\""
   ]
  },
  {
   "cell_type": "markdown",
   "id": "5ea57d0c",
   "metadata": {},
   "source": [
    "The above example will produce the following output when you create an instance of the Employee class."
   ]
  },
  {
   "cell_type": "code",
   "execution_count": 2,
   "id": "683700db",
   "metadata": {},
   "outputs": [
    {
     "name": "stdout",
     "output_type": "stream",
     "text": [
      "__new__ magic method is called\n",
      "__init__ magic method is called\n"
     ]
    }
   ],
   "source": [
    "emp = Employee()"
   ]
  },
  {
   "cell_type": "markdown",
   "id": "bfa80af0",
   "metadata": {},
   "source": [
    "`Thus, the __new__() method is called before the __init__() method.`\n",
    "\n",
    "###  `__str__() method`\n",
    "\n",
    "`Another useful magic method is __str__(). It is overridden to return a printable string representation of any user defined class. We have seen str() built-in function which returns a string from the object parameter. For example, str(12) returns '12'. When invoked, it calls the __str__() method in the int class.`"
   ]
  },
  {
   "cell_type": "code",
   "execution_count": 9,
   "id": "99ed91e1",
   "metadata": {},
   "outputs": [],
   "source": [
    "num = 12"
   ]
  },
  {
   "cell_type": "code",
   "execution_count": 10,
   "id": "a31d6c07",
   "metadata": {},
   "outputs": [
    {
     "data": {
      "text/plain": [
       "'12'"
      ]
     },
     "execution_count": 10,
     "metadata": {},
     "output_type": "execute_result"
    }
   ],
   "source": [
    "str(num)"
   ]
  },
  {
   "cell_type": "code",
   "execution_count": 12,
   "id": "754fe8d3",
   "metadata": {},
   "outputs": [
    {
     "data": {
      "text/plain": [
       "'12'"
      ]
     },
     "execution_count": 12,
     "metadata": {},
     "output_type": "execute_result"
    }
   ],
   "source": [
    "# above code is equivalent to\n",
    "\n",
    "int.__str__(num)"
   ]
  },
  {
   "cell_type": "markdown",
   "id": "dc760d5c",
   "metadata": {},
   "source": [
    "`Let us now override the __str__() method in the Employee class to return a string representation of its object.`\n",
    "\n"
   ]
  },
  {
   "cell_type": "code",
   "execution_count": 16,
   "id": "becf3f14",
   "metadata": {},
   "outputs": [],
   "source": [
    "class Employee:\n",
    "    \n",
    "    def __init__(self):\n",
    "        \n",
    "        self.name = \"Swati\"\n",
    "        self.salary = 10000\n",
    "        \n",
    "    def __str__(self):\n",
    "        \n",
    "        return f\"Name : {self.name} \\nSalary : {self.salary}\""
   ]
  },
  {
   "cell_type": "code",
   "execution_count": 17,
   "id": "43b6cf37",
   "metadata": {},
   "outputs": [],
   "source": [
    "emp = Employee()"
   ]
  },
  {
   "cell_type": "code",
   "execution_count": 18,
   "id": "f85e8fde",
   "metadata": {},
   "outputs": [
    {
     "name": "stdout",
     "output_type": "stream",
     "text": [
      "Name : Swati \n",
      "Salary : 10000\n"
     ]
    }
   ],
   "source": [
    "print(emp)"
   ]
  },
  {
   "cell_type": "markdown",
   "id": "984f0a9d",
   "metadata": {},
   "source": [
    "### `__add__() method`\n",
    "\n",
    "`In following example, a class named distance is defined with two instance attributes - ft and inch. The addition of these two distance objects is desired to be performed using the overloading + operator.`\n",
    "\n",
    "`To achieve this, the magic method __add__() is overridden, which performs the addition of the ft and inch attributes of the two objects. The __str__() method returns the object's string representation.`\n",
    "\n"
   ]
  },
  {
   "cell_type": "code",
   "execution_count": 3,
   "id": "47506243",
   "metadata": {},
   "outputs": [],
   "source": [
    "class Distance:\n",
    "    \n",
    "    def __init__(self, x = None, y = None):\n",
    "        \n",
    "        self.ft = x\n",
    "        self.inch = y\n",
    "        \n",
    "    def __add__(self, x):\n",
    "        \n",
    "        temp = Distance()\n",
    "        temp.ft = self.ft + x.ft\n",
    "        temp.inch = self.inch + x.inch\n",
    "        if temp.inch >= 12:\n",
    "            temp.ft += 1\n",
    "            temp.inch -= 12\n",
    "            return temp\n",
    "        \n",
    "    def __str__(self):\n",
    "        return f\"ft : {self.ft}  in: {self.inch}\""
   ]
  },
  {
   "cell_type": "code",
   "execution_count": 4,
   "id": "02056aac",
   "metadata": {},
   "outputs": [],
   "source": [
    "d1=Distance(3,10)"
   ]
  },
  {
   "cell_type": "code",
   "execution_count": 5,
   "id": "5ddf75b5",
   "metadata": {},
   "outputs": [],
   "source": [
    "d2=Distance(4,4)"
   ]
  },
  {
   "cell_type": "code",
   "execution_count": 6,
   "id": "bc23dc87",
   "metadata": {},
   "outputs": [
    {
     "name": "stdout",
     "output_type": "stream",
     "text": [
      "d1 = ft : 3  in: 10, d2 = ft : 4  in: 4\n"
     ]
    }
   ],
   "source": [
    "print(f\"d1 = {d1}, d2 = {d2}\")"
   ]
  },
  {
   "cell_type": "code",
   "execution_count": 7,
   "id": "708c57e4",
   "metadata": {},
   "outputs": [],
   "source": [
    "d3 = d1 + d2"
   ]
  },
  {
   "cell_type": "code",
   "execution_count": 8,
   "id": "b7c8f2b4",
   "metadata": {},
   "outputs": [
    {
     "name": "stdout",
     "output_type": "stream",
     "text": [
      "ft : 8  in: 2\n"
     ]
    }
   ],
   "source": [
    "print(d3)"
   ]
  },
  {
   "cell_type": "markdown",
   "id": "c7489fa3",
   "metadata": {},
   "source": [
    "### `__ge__() method`\n",
    "\n",
    "`The following method is added in the distance class to overload the >= operator.`"
   ]
  },
  {
   "cell_type": "code",
   "execution_count": 26,
   "id": "f3ae3146",
   "metadata": {},
   "outputs": [],
   "source": [
    "class Distance:\n",
    "    \n",
    "    def __init__(self, x=None, y=None):\n",
    "        \n",
    "        self.ft = x\n",
    "        self.inch = y\n",
    "    \n",
    "    def __ge__(self, x):\n",
    "        \n",
    "        value1 = self.ft*12 + self.inch\n",
    "        value2 = x.ft*12 + x.inch\n",
    "        if value1 >= value2:\n",
    "            return True\n",
    "        else:\n",
    "            return False"
   ]
  },
  {
   "cell_type": "markdown",
   "id": "82210faa",
   "metadata": {},
   "source": [
    "`This method gets invoked when the >= operator is used and returns True or False. Accordingly, the appropriate message can be displayed`"
   ]
  },
  {
   "cell_type": "code",
   "execution_count": 27,
   "id": "a8507a46",
   "metadata": {},
   "outputs": [],
   "source": [
    "d1 = Distance(2, 1)"
   ]
  },
  {
   "cell_type": "code",
   "execution_count": 28,
   "id": "408357e1",
   "metadata": {},
   "outputs": [],
   "source": [
    "d2 = Distance(4, 10)"
   ]
  },
  {
   "cell_type": "code",
   "execution_count": 30,
   "id": "e26314b8",
   "metadata": {},
   "outputs": [
    {
     "data": {
      "text/plain": [
       "False"
      ]
     },
     "execution_count": 30,
     "metadata": {},
     "output_type": "execute_result"
    }
   ],
   "source": [
    "d1 >= d2"
   ]
  },
  {
   "cell_type": "markdown",
   "id": "e48963f2",
   "metadata": {},
   "source": [
    "### Important Magic Methods\n",
    "The following tables list important magic methods in Python 3.\n",
    "\n",
    "#### Initialization and Construction\t------      Description\n",
    "\n",
    "* `__new__(cls, other)\tTo get called in an object's instantiation.`\n",
    "\n",
    "* `__init__(self, other)\tTo get called by the __new__ method.`\n",
    "\n",
    "* `__del__(self)\tDestructor method.`\n",
    "\n",
    "\n",
    "#### Unary operators and functions\t  ------        Description\n",
    "\n",
    "* `__pos__(self)\tTo get called for unary positive e.g. +someobject.`\n",
    "\n",
    "* `__neg__(self)\tTo get called for unary negative e.g. -someobject.`\n",
    "\n",
    "* `__abs__(self)\tTo get called by built-in abs() function.`\n",
    "\n",
    "* `__invert__(self)\tTo get called for inversion using the ~ operator.`\n",
    "\n",
    "* `__round__(self,n)\tTo get called by built-in round() function.`\n",
    "\n",
    "* `__floor__(self)\tTo get called by built-in math.floor() function.`\n",
    "\n",
    "* `__ceil__(self)\tTo get called by built-in math.ceil() function.`\n",
    "\n",
    "* `__trunc__(self)\tTo get called by built-in math.trunc() function.`\n",
    "\n",
    "\n",
    "#### Augmented Assignment\t             -------       Description\n",
    "\n",
    "* `__iadd__(self, other)\tTo get called on addition with assignment e.g. a +=b.`\n",
    "\n",
    "* `__isub__(self, other)\tTo get called on subtraction with assignment e.g. a -=b.`\n",
    "\n",
    "* `__imul__(self, other)\tTo get called on multiplication with assignment e.g. a *=b.`\n",
    "\n",
    "* `__ifloordiv__(self, other)\tTo get called on integer division with assignment e.g. a //=b.`\n",
    "\n",
    "* `__idiv__(self, other)\tTo get called on division with assignment e.g. a /=b.`\n",
    "\n",
    "* `__itruediv__(self, other)\tTo get called on true division with assignment`\n",
    "\n",
    "* `__imod__(self, other)\tTo get called on modulo with assignment e.g. a%=b.`\n",
    "\n",
    "* `__ipow__(self, other)\tTo get called on exponentswith assignment e.g. a **=b.`\n",
    "\n",
    "* `__ilshift__(self, other)\tTo get called on left bitwise shift with assignment e.g. a<<=b.`\n",
    "\n",
    "* `__irshift__(self, other)\tTo get called on right bitwise shift with assignment e.g. a >>=b.`\n",
    "\n",
    "* `__iand__(self, other)\tTo get called on bitwise AND with assignment e.g. a&=b.`\n",
    "\n",
    "* `__ior__(self, other)\tTo get called on bitwise OR with assignment e.g. a|=b.`\n",
    "\n",
    "* `__ixor__(self, other)\tTo get called on bitwise XOR with assignment e.g. a ^=b.`\n",
    "\n",
    "\n",
    "####  Type Conversion Magic Methods\t    -------       Description\n",
    "\n",
    "* `__int__(self)\tTo get called by built-int int() method to convert a type to an int.`\n",
    "\n",
    "* `__float__(self)\tTo get called by built-int float() method to convert a type to float.`\n",
    "\n",
    "* `__complex__(self)\tTo get called by built-int complex() method to convert a type to complex.`\n",
    "\n",
    "* `__oct__(self)\tTo get called by built-int oct() method to convert a type to octal.`\n",
    "\n",
    "* `__hex__(self)\tTo get called by built-int hex() method to convert a type to hexadecimal.`\n",
    "\n",
    "* `__index__(self)\tTo get called on type conversion to an int when the object is used in a slice expression.`\n",
    "`\n",
    "\n",
    "* `__trunc__(self)\tTo get called from math.trunc() method.`\n",
    "\n",
    "####  String Magic Methods\t                    -------            Description\n",
    "\n",
    "* `__str__(self)\tTo get called by built-int str() method to return a string representation of a type.`\n",
    "\n",
    "* `__repr__(self)\tTo get called by built-int repr() method to return a machine readable representation of a type.`\n",
    "\n",
    "* `__unicode__(self)\tTo get called by built-int unicode() method to return an unicode string of a type.`\n",
    "\n",
    "* `__format__(self, formatstr)\tTo get called by built-int string.format() method to return a new style of string.`\n",
    "\n",
    "* `__hash__(self)\tTo get called by built-int hash() method to return an integer.`\n",
    "\n",
    "* `__nonzero__(self)\tTo get called by built-int bool() method to return True or False.`\n",
    "\n",
    "* `__dir__(self)\tTo get called by built-int dir() method to return a list of attributes of a class.`\n",
    "\n",
    "* `__sizeof__(self)\tTo get called by built-int sys.getsizeof() method to return the size of an object.`\n",
    "\n",
    "\n",
    "#### Attribute Magic Methods\t                --------      Description\n",
    "\n",
    "* `__getattr__(self, name)\tIs called when the accessing attribute of a class that does not exist.`\n",
    "\n",
    "* `__setattr__(self, name, value)\tIs called when assigning a value to the attribute of a class.`\n",
    "\n",
    "* `__delattr__(self, name)\tIs called when deleting an attribute of a class.`\n",
    "\n",
    "\n",
    "#### Operator Magic Methods\t                  --------      Description\n",
    "\n",
    "* `__add__(self, other)\tTo get called on add operation using + operator`\n",
    "\n",
    "* `__sub__(self, other)\tTo get called on subtraction operation using - operator.`\n",
    "\n",
    "* `__mul__(self, other)\tTo get called on multiplication operation using * operator.`\n",
    "\n",
    "* `__floordiv__(self, other)\tTo get called on floor division operation using // operator.`\n",
    "\n",
    "* `__truediv__(self, other)\tTo get called on division operation using / operator.`\n",
    "\n",
    "* `__mod__(self, other)\tTo get called on modulo operation using % operator.`\n",
    "\n",
    "* `__pow__(self, other[, modulo])\tTo get called on calculating the power using ** operator.`\n",
    "\n",
    "* `__lt__(self, other)\tTo get called on comparison using < operator.`\n",
    "\n",
    "* `__le__(self, other)\tTo get called on comparison using <= operator.`\n",
    "\n",
    "* `__eq__(self, other)\tTo get called on comparison using == operator.`\n",
    "\n",
    "* `__ne__(self, other)\tTo get called on comparison using != operator.`\n",
    "\n",
    "* `__ge__(self, other)\tTo get called on comparison using >= operator.`\n",
    "\n",
    "\n",
    "Thus, you can use the appropriate magic methods to add various functionalities in your custom class."
   ]
  },
  {
   "cell_type": "markdown",
   "id": "0d2252f9",
   "metadata": {},
   "source": [
    "### Some use example type"
   ]
  },
  {
   "cell_type": "code",
   "execution_count": 31,
   "id": "f51d3258",
   "metadata": {},
   "outputs": [],
   "source": [
    "# Putting it all together, here's an example of __init__ and __del__ in action:\n",
    "\n",
    "from os.path import join\n",
    "\n",
    "class FileObject:\n",
    "    '''Wrapper for file objects to make sure the file gets closed on deletion.'''\n",
    "\n",
    "    def __init__(self, filepath='~', filename='sample.txt'):\n",
    "        # open a file filename in filepath in read and write mode\n",
    "        self.file = open(join(filepath, filename), 'r+')\n",
    "\n",
    "    def __del__(self):\n",
    "        self.file.close()\n",
    "        del self.file"
   ]
  },
  {
   "cell_type": "code",
   "execution_count": 34,
   "id": "34026c17",
   "metadata": {},
   "outputs": [],
   "source": [
    "class Word(str):\n",
    "    '''Class for words, defining comparison based on word length.'''\n",
    "\n",
    "    def __new__(cls, word):\n",
    "        # Note that we have to use __new__. This is because str is an immutable\n",
    "        # type, so we have to initialize it early (at creation)\n",
    "        if ' ' in word:\n",
    "            print(\"Value contains spaces. Truncating to first space.\")\n",
    "            word = word[:word.index(' ')] # Word is now all chars before first space\n",
    "        return str.__new__(cls, word)\n",
    "\n",
    "    def __gt__(self, other):\n",
    "        return len(self) > len(other)\n",
    "    def __lt__(self, other):\n",
    "        return len(self) < len(other)\n",
    "    def __ge__(self, other):\n",
    "        return len(self) >= len(other)\n",
    "    def __le__(self, other):\n",
    "        return len(self) <= len(other)"
   ]
  },
  {
   "cell_type": "code",
   "execution_count": 36,
   "id": "4828d356",
   "metadata": {},
   "outputs": [],
   "source": [
    "def __setattr__(self, name, value):\n",
    "    self.name = value\n",
    "    # since every time an attribute is assigned, __setattr__() is called, this\n",
    "    # is recursion.\n",
    "    # so this really means self.__setattr__('name', value). Since the method\n",
    "    # keeps calling itself, the recursion goes on forever causing a crash\n",
    "\n",
    "def __setattr__(self, name, value):\n",
    "    self.__dict__[name] = value # assigning to the dict of names in the class\n",
    "    # define custom behavior here"
   ]
  },
  {
   "cell_type": "code",
   "execution_count": 37,
   "id": "f2e2f23d",
   "metadata": {},
   "outputs": [],
   "source": [
    "class AccessCounter(object):\n",
    "    '''A class that contains a value and implements an access counter.\n",
    "    The counter increments each time the value is changed.'''\n",
    "\n",
    "    def __init__(self, val):\n",
    "        super(AccessCounter, self).__setattr__('counter', 0)\n",
    "        super(AccessCounter, self).__setattr__('value', val)\n",
    "\n",
    "    def __setattr__(self, name, value):\n",
    "        if name == 'value':\n",
    "            super(AccessCounter, self).__setattr__('counter', self.counter + 1)\n",
    "        # Make this unconditional.\n",
    "        # If you want to prevent other attributes to be set, raise AttributeError(name)\n",
    "        super(AccessCounter, self).__setattr__(name, value)\n",
    "\n",
    "    def __delattr__(self, name):\n",
    "        if name == 'value':\n",
    "            super(AccessCounter, self).__setattr__('counter', self.counter + 1)\n",
    "        super(AccessCounter, self).__delattr__(name)"
   ]
  },
  {
   "cell_type": "code",
   "execution_count": null,
   "id": "193acbe1",
   "metadata": {},
   "outputs": [],
   "source": []
  },
  {
   "cell_type": "code",
   "execution_count": null,
   "id": "692f5c5a",
   "metadata": {},
   "outputs": [],
   "source": []
  },
  {
   "cell_type": "code",
   "execution_count": 35,
   "id": "7265120b",
   "metadata": {},
   "outputs": [],
   "source": [
    "## For our example, let's look at a list that implements some functional constructs that\n",
    "## you might be used to from other languages (Haskell, for example).\n",
    "\n",
    "class FunctionalList:\n",
    "    '''A class wrapping a list with some extra functional magic, like head,\n",
    "    tail, init, last, drop, and take.'''\n",
    "\n",
    "    def __init__(self, values=None):\n",
    "        if values is None:\n",
    "            self.values = []\n",
    "        else:\n",
    "            self.values = values\n",
    "\n",
    "    def __len__(self):\n",
    "        return len(self.values)\n",
    "\n",
    "    def __getitem__(self, key):\n",
    "        # if key is of invalid type or value, the list values will raise the error\n",
    "        return self.values[key]\n",
    "\n",
    "    def __setitem__(self, key, value):\n",
    "        self.values[key] = value\n",
    "\n",
    "    def __delitem__(self, key):\n",
    "        del self.values[key]\n",
    "\n",
    "    def __iter__(self):\n",
    "        return iter(self.values)\n",
    "\n",
    "    def __reversed__(self):\n",
    "        return reversed(self.values)\n",
    "\n",
    "    def append(self, value):\n",
    "        self.values.append(value)\n",
    "    def head(self):\n",
    "        # get the first element\n",
    "        return self.values[0]\n",
    "    def tail(self):\n",
    "        # get all elements after the first\n",
    "        return self.values[1:]\n",
    "    def init(self):\n",
    "        # get elements up to the last\n",
    "        return self.values[:-1]\n",
    "    def last(self):\n",
    "        # get last element\n",
    "        return self.values[-1]\n",
    "    def drop(self, n):\n",
    "        # get all elements except first n\n",
    "        return self.values[n:]\n",
    "    def take(self, n):\n",
    "        # get first n elements\n",
    "        return self.values[:n]"
   ]
  },
  {
   "cell_type": "code",
   "execution_count": 38,
   "id": "b6f1cdbc",
   "metadata": {},
   "outputs": [],
   "source": [
    "class Entity:\n",
    "    '''Class to represent an entity. Callable to update the entity's position.'''\n",
    "\n",
    "    def __init__(self, size, x, y):\n",
    "        self.x, self.y = x, y\n",
    "        self.size = size\n",
    "\n",
    "    def __call__(self, x, y):\n",
    "        '''Change the position of the entity.'''\n",
    "        self.x, self.y = x, y\n",
    "\n",
    "    # snip..."
   ]
  },
  {
   "cell_type": "code",
   "execution_count": 40,
   "id": "e8080afb",
   "metadata": {},
   "outputs": [],
   "source": [
    "class Closer:\n",
    "    '''A context manager to automatically close an object with a close method\n",
    "    in a with statement.'''\n",
    "\n",
    "    def __init__(self, obj):\n",
    "        self.obj = obj\n",
    "\n",
    "    def __enter__(self):\n",
    "        return self.obj # bound to target\n",
    "\n",
    "    def __exit__(self, exception_type, exception_val, trace):\n",
    "        \n",
    "        try:\n",
    "            self.obj.close()\n",
    "        except AttributeError: # obj isn't closable\n",
    "            print ('Not closable.')\n",
    "            \n",
    "        return True # exception handled successfully"
   ]
  },
  {
   "cell_type": "code",
   "execution_count": 41,
   "id": "81441434",
   "metadata": {},
   "outputs": [
    {
     "ename": "ModuleNotFoundError",
     "evalue": "No module named 'magicmethods'",
     "output_type": "error",
     "traceback": [
      "\u001b[1;31m---------------------------------------------------------------------------\u001b[0m",
      "\u001b[1;31mModuleNotFoundError\u001b[0m                       Traceback (most recent call last)",
      "Input \u001b[1;32mIn [41]\u001b[0m, in \u001b[0;36m<cell line: 1>\u001b[1;34m()\u001b[0m\n\u001b[1;32m----> 1\u001b[0m \u001b[38;5;28;01mfrom\u001b[39;00m \u001b[38;5;21;01mmagicmethods\u001b[39;00m \u001b[38;5;28;01mimport\u001b[39;00m Closer\n\u001b[0;32m      2\u001b[0m \u001b[38;5;28;01mfrom\u001b[39;00m \u001b[38;5;21;01mftplib\u001b[39;00m \u001b[38;5;28;01mimport\u001b[39;00m FTP\n\u001b[0;32m      3\u001b[0m \u001b[38;5;28;01mwith\u001b[39;00m Closer(FTP(\u001b[38;5;124m'\u001b[39m\u001b[38;5;124mftp.somesite.com\u001b[39m\u001b[38;5;124m'\u001b[39m)) \u001b[38;5;28;01mas\u001b[39;00m conn:\n",
      "\u001b[1;31mModuleNotFoundError\u001b[0m: No module named 'magicmethods'"
     ]
    }
   ],
   "source": [
    "from magicmethods import Closer\n",
    "from ftplib import FTP\n",
    "with Closer(FTP('ftp.somesite.com')) as conn:\n",
    "    conn.dir()"
   ]
  },
  {
   "cell_type": "code",
   "execution_count": 42,
   "id": "ffc68aae",
   "metadata": {},
   "outputs": [],
   "source": [
    "class Meter(object):\n",
    "    '''Descriptor for a meter.'''\n",
    "\n",
    "    def __init__(self, value=0.0):\n",
    "        self.value = float(value)\n",
    "    def __get__(self, instance, owner):\n",
    "        return self.value\n",
    "    def __set__(self, instance, value):\n",
    "        self.value = float(value)\n",
    "\n",
    "class Foot(object):\n",
    "    '''Descriptor for a foot.'''\n",
    "\n",
    "    def __get__(self, instance, owner):\n",
    "        return instance.meter * 3.2808\n",
    "    def __set__(self, instance, value):\n",
    "        instance.meter = float(value) / 3.2808\n",
    "\n",
    "class Distance(object):\n",
    "    '''Class to represent distance holding two descriptors for feet and\n",
    "    meters.'''\n",
    "    meter = Meter()\n",
    "    foot = Foot()"
   ]
  },
  {
   "cell_type": "code",
   "execution_count": null,
   "id": "c30096b1",
   "metadata": {},
   "outputs": [],
   "source": []
  }
 ],
 "metadata": {
  "kernelspec": {
   "display_name": "Python 3 (ipykernel)",
   "language": "python",
   "name": "python3"
  },
  "language_info": {
   "codemirror_mode": {
    "name": "ipython",
    "version": 3
   },
   "file_extension": ".py",
   "mimetype": "text/x-python",
   "name": "python",
   "nbconvert_exporter": "python",
   "pygments_lexer": "ipython3",
   "version": "3.9.7"
  }
 },
 "nbformat": 4,
 "nbformat_minor": 5
}
