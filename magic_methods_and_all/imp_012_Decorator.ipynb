{
 "cells": [
  {
   "cell_type": "markdown",
   "id": "e75fce67",
   "metadata": {},
   "source": [
    "### Decorators in Python\n",
    "\n",
    "In programming, decorator is a design pattern that adds additional responsibilities to an object dynamically. In Python, a function is the first-order object. So, a decorator in Python adds additional responsibilities/functionalities to a function dynamically without modifying a function.\n",
    "\n",
    "In Python, a function can be passed as an argument to another function. It is also possible to define a function inside another function, and a function can return another function.\n",
    "\n",
    "So, a decorator in Python is a function that receives another function as an argument. The behavior of the argument function is extended by the decorator without actually modifying it. The decorator function can be applied over a function using the `@decorator` syntax.\n",
    "\n",
    "Let's understand the decorator in Python step-by-step.\n",
    "\n",
    "Consider that we have the `greet()` function, as shown below."
   ]
  },
  {
   "cell_type": "code",
   "execution_count": 1,
   "id": "4fbce664",
   "metadata": {},
   "outputs": [],
   "source": [
    "# A function\n",
    "def greet():\n",
    "    print('Hello! ', end='')"
   ]
  },
  {
   "cell_type": "markdown",
   "id": "22306575",
   "metadata": {},
   "source": [
    "Now, we can extend the above function's functionality without modifying it by passing it to another function, as shown below."
   ]
  },
  {
   "cell_type": "code",
   "execution_count": 2,
   "id": "9a503202",
   "metadata": {},
   "outputs": [],
   "source": [
    "# A function with argument\n",
    "\n",
    "def mydecorator(fn):\n",
    "    fn()\n",
    "    print(\"How are you?\")"
   ]
  },
  {
   "cell_type": "markdown",
   "id": "7c804bae",
   "metadata": {},
   "source": [
    "Above, the `mydecorator()` function takes a function as an argument. It calls the argument function and also prints some additional things. Thus, it extends the functionality of the `greet()` function without modifying it. However, it is not the actual decorator."
   ]
  },
  {
   "cell_type": "code",
   "execution_count": 3,
   "id": "d191127e",
   "metadata": {},
   "outputs": [
    {
     "name": "stdout",
     "output_type": "stream",
     "text": [
      "Hello! How are you?\n"
     ]
    }
   ],
   "source": [
    "# calling function with function as arguments\n",
    "\n",
    "mydecorator(greet)"
   ]
  },
  {
   "cell_type": "markdown",
   "id": "7d9aba96",
   "metadata": {},
   "source": [
    "`The mydecorator() is not a decorator in Python. The decorator in Python can be defined over any appropriate function using the @decorator_function_name syntax to extend the functionality of the underlying function.`\n",
    "\n",
    "`The following defines the decorator for the above greet() function.`"
   ]
  },
  {
   "cell_type": "code",
   "execution_count": 4,
   "id": "7a33f365",
   "metadata": {},
   "outputs": [],
   "source": [
    "def mydecorator(fn):\n",
    "    \n",
    "    def inner():\n",
    "        \n",
    "        fn()\n",
    "        print(\"How are you?\")\n",
    "    return inner"
   ]
  },
  {
   "cell_type": "markdown",
   "id": "1475e4ce",
   "metadata": {},
   "source": [
    "`The mydecorator() function is the decorator function that takes a function (any function that does not take any argument) as an argument. The inner function inner_function() can access the outer function's argument, so it executes some code before or after to extend the functionality before calling the argument function. The mydecorator function returns an inner function.`\n",
    "\n",
    "`Now, we can use mydecorator as a decorator to apply over a function that does not take any argument, as shown below.`"
   ]
  },
  {
   "cell_type": "code",
   "execution_count": 5,
   "id": "aa23c2d5",
   "metadata": {},
   "outputs": [],
   "source": [
    "# Applying decorator\n",
    "\n",
    "@mydecorator\n",
    "def greet():\n",
    "    \n",
    "    print(\"Hello\", end = \" \")"
   ]
  },
  {
   "cell_type": "code",
   "execution_count": 6,
   "id": "49b73136",
   "metadata": {},
   "outputs": [
    {
     "name": "stdout",
     "output_type": "stream",
     "text": [
      "Hello How are you?\n"
     ]
    }
   ],
   "source": [
    "greet()"
   ]
  },
  {
   "cell_type": "markdown",
   "id": "d83f50e1",
   "metadata": {},
   "source": [
    "The mydecorator can be applied to any function that does not require any argument. For example:\n",
    "\n"
   ]
  },
  {
   "cell_type": "code",
   "execution_count": 7,
   "id": "77359a14",
   "metadata": {},
   "outputs": [],
   "source": [
    "@mydecorator\n",
    "def dosomething():\n",
    "    print(\"I am doing something!\")"
   ]
  },
  {
   "cell_type": "code",
   "execution_count": 8,
   "id": "8b5edc73",
   "metadata": {},
   "outputs": [
    {
     "name": "stdout",
     "output_type": "stream",
     "text": [
      "I am doing something!\n",
      "How are you?\n"
     ]
    }
   ],
   "source": [
    "dosomething()"
   ]
  },
  {
   "cell_type": "markdown",
   "id": "10a4cda8",
   "metadata": {},
   "source": [
    "#### Decorator Function Syntax:\n",
    "\n",
    "`def mydecoratorfunction(some_function): # decorator function\n",
    "    def inner_function(): \n",
    "        # write code to extend the behavior of some_function()\n",
    "        some_function() # call some_function\n",
    "        # write code to extend the behavior of some_function()\n",
    "    return inner_function # return a wrapper function`"
   ]
  },
  {
   "cell_type": "code",
   "execution_count": null,
   "id": "6bbb2bd5",
   "metadata": {},
   "outputs": [],
   "source": [
    "def mydecoratorfunction(some_function): # decorator function\n",
    "    def inner_function(): \n",
    "        # write code to extend the behavior of some_function()\n",
    "        some_function() # call some_function\n",
    "        # write code to extend the behavior of some_function()\n",
    "    return inner_function # return a wrapper function"
   ]
  },
  {
   "cell_type": "markdown",
   "id": "381dfd69",
   "metadata": {},
   "source": [
    "### Built-in Decorators\n",
    "Python library contains many built-in decorators as a shortcut of defining properties, class method, static methods, etc.\n",
    "\n",
    "`Decorator\t       ----Description`\n",
    "* `@property\t   ---Declares a method as a property's setter or getter methods.`\n",
    "\n",
    "\n",
    "* `@classmethod\t ---Declares a method as a class's method that can be called using the class name.`\n",
    "\n",
    "\n",
    "* `@staticmethod\t---Declares a method as a static method.`"
   ]
  },
  {
   "cell_type": "markdown",
   "id": "5f233775",
   "metadata": {},
   "source": [
    "###  Python Property Decorator - @property\n",
    "The `@property` decorator is a built-in decorator in Python for the `property()` function. Use `@property `decorator on any method in the class to use the method as a property.\n",
    "\n",
    "`You can use the following three decorators to define a property:`\n",
    "\n",
    "1. `@property: Declares the method as a property.`\n",
    "\n",
    "\n",
    "2. `@<property-name>.setter: Specifies the setter method for a property that sets the value to a property.`\n",
    "\n",
    "\n",
    "3. `@<property-name>.deleter: Specifies the delete method as a property that deletes a property.`\n",
    "\n",
    "#### Declare a Property\n",
    "The following declares the method as a property. This method must return the value of the property.\n",
    "\n",
    "Example: @property decorator"
   ]
  },
  {
   "cell_type": "code",
   "execution_count": 9,
   "id": "de4e344b",
   "metadata": {},
   "outputs": [],
   "source": [
    "class Student:\n",
    "    \n",
    "    def __init__(self, name):\n",
    "        self.__name = name\n",
    "    \n",
    "    @property\n",
    "    def name(self):\n",
    "        \n",
    "        return self.__name"
   ]
  },
  {
   "cell_type": "markdown",
   "id": "6dd0d693",
   "metadata": {},
   "source": [
    "`Above, @property decorator applied to the name() method. The name() method returns the private instance attribute value __name. So, we can now use the name() method as a property to get the value of the __name attribute, as shown below.`"
   ]
  },
  {
   "cell_type": "code",
   "execution_count": 10,
   "id": "b43cf1a2",
   "metadata": {},
   "outputs": [],
   "source": [
    "std = Student(\"Steve\")"
   ]
  },
  {
   "cell_type": "code",
   "execution_count": 11,
   "id": "4b2665d3",
   "metadata": {},
   "outputs": [
    {
     "data": {
      "text/plain": [
       "'Steve'"
      ]
     },
     "execution_count": 11,
     "metadata": {},
     "output_type": "execute_result"
    }
   ],
   "source": [
    "std.name"
   ]
  },
  {
   "cell_type": "code",
   "execution_count": 12,
   "id": "578fa0d9",
   "metadata": {},
   "outputs": [
    {
     "ename": "AttributeError",
     "evalue": "can't set attribute",
     "output_type": "error",
     "traceback": [
      "\u001b[1;31m---------------------------------------------------------------------------\u001b[0m",
      "\u001b[1;31mAttributeError\u001b[0m                            Traceback (most recent call last)",
      "Input \u001b[1;32mIn [12]\u001b[0m, in \u001b[0;36m<cell line: 1>\u001b[1;34m()\u001b[0m\n\u001b[1;32m----> 1\u001b[0m std\u001b[38;5;241m.\u001b[39mname \u001b[38;5;241m=\u001b[39m \u001b[38;5;124m\"\u001b[39m\u001b[38;5;124mdavid\u001b[39m\u001b[38;5;124m\"\u001b[39m\n",
      "\u001b[1;31mAttributeError\u001b[0m: can't set attribute"
     ]
    }
   ],
   "source": [
    "std.name = \"david\""
   ]
  },
  {
   "cell_type": "markdown",
   "id": "6a0a9986",
   "metadata": {},
   "source": [
    "for set attribute we need use property setter.\n",
    "\n",
    "### Property Setter\n",
    "\n",
    "`Above, we defined the name() method as a property. We can only access the value of the name property but cannot modify it. To modify the property value, we must define the setter method for the name property using @property-name.setter decorator, as shown below.`"
   ]
  },
  {
   "cell_type": "code",
   "execution_count": 13,
   "id": "a2ad0fea",
   "metadata": {},
   "outputs": [],
   "source": [
    "class Student:\n",
    "    \n",
    "    def __init__(self, name):\n",
    "        \n",
    "        self.__name = name\n",
    "        \n",
    "    @property\n",
    "    def name(self):\n",
    "        \n",
    "        return self.__name\n",
    "    \n",
    "    @name.setter             #property-name.setter decorator\n",
    "    def name(self, value):\n",
    "        \n",
    "        self.__name = value"
   ]
  },
  {
   "cell_type": "markdown",
   "id": "b0deb09c",
   "metadata": {},
   "source": [
    "`Above, we have two overloads of the name() method. One is for the getter and another is the setter method. The setter method must have the value argument that can be used to assign to the underlying private attribute. Now, we can retrieve and modify the property value, as shown below.`\n",
    "\n"
   ]
  },
  {
   "cell_type": "code",
   "execution_count": 14,
   "id": "8f5b4dfd",
   "metadata": {},
   "outputs": [],
   "source": [
    "std = Student(\"Steve\")"
   ]
  },
  {
   "cell_type": "code",
   "execution_count": 15,
   "id": "4dd134e2",
   "metadata": {},
   "outputs": [
    {
     "data": {
      "text/plain": [
       "'Steve'"
      ]
     },
     "execution_count": 15,
     "metadata": {},
     "output_type": "execute_result"
    }
   ],
   "source": [
    "std.name"
   ]
  },
  {
   "cell_type": "code",
   "execution_count": 16,
   "id": "db085bc1",
   "metadata": {},
   "outputs": [],
   "source": [
    "std.name = \"David\""
   ]
  },
  {
   "cell_type": "code",
   "execution_count": 17,
   "id": "bb156165",
   "metadata": {},
   "outputs": [
    {
     "data": {
      "text/plain": [
       "'David'"
      ]
     },
     "execution_count": 17,
     "metadata": {},
     "output_type": "execute_result"
    }
   ],
   "source": [
    "std.name"
   ]
  },
  {
   "cell_type": "markdown",
   "id": "0b34eefe",
   "metadata": {},
   "source": [
    "### Property Deleter\n",
    "`Use the @property-name.deleter decorator to define the method that deletes a property, as shown below.`\n",
    "\n",
    "Example: Property Deleter"
   ]
  },
  {
   "cell_type": "code",
   "execution_count": 24,
   "id": "9ffc3abc",
   "metadata": {},
   "outputs": [],
   "source": [
    "class Student:\n",
    "    \n",
    "    def __init__(self, name):\n",
    "        \n",
    "        self.__name = name\n",
    "    @property\n",
    "    def name(self):\n",
    "        return self.__name\n",
    "    \n",
    "    @name.setter\n",
    "    def name(self, value):\n",
    "        self.__name = value\n",
    "        \n",
    "    @name.deleter          #property-name.deleter decorator\n",
    "    def name(self):\n",
    "        print(\"deleting........\")\n",
    "        del self.__name"
   ]
  },
  {
   "cell_type": "markdown",
   "id": "9c1d27bd",
   "metadata": {},
   "source": [
    "`The deleter would be invoked when you delete the property using keyword del, as shown below. Once you delete a property, you cannot access it again using the same instance.`\n",
    "\n"
   ]
  },
  {
   "cell_type": "code",
   "execution_count": 25,
   "id": "0ddd7527",
   "metadata": {},
   "outputs": [],
   "source": [
    "std = Student(\"Steve\")"
   ]
  },
  {
   "cell_type": "code",
   "execution_count": 26,
   "id": "348565de",
   "metadata": {},
   "outputs": [
    {
     "data": {
      "text/plain": [
       "'Steve'"
      ]
     },
     "execution_count": 26,
     "metadata": {},
     "output_type": "execute_result"
    }
   ],
   "source": [
    "std.name"
   ]
  },
  {
   "cell_type": "code",
   "execution_count": 27,
   "id": "ba976d67",
   "metadata": {},
   "outputs": [
    {
     "data": {
      "text/plain": [
       "'Billy'"
      ]
     },
     "execution_count": 27,
     "metadata": {},
     "output_type": "execute_result"
    }
   ],
   "source": [
    "std.name = \"Billy\"\n",
    "std.name"
   ]
  },
  {
   "cell_type": "code",
   "execution_count": 28,
   "id": "9ad954ac",
   "metadata": {},
   "outputs": [
    {
     "name": "stdout",
     "output_type": "stream",
     "text": [
      "deleting........\n"
     ]
    }
   ],
   "source": [
    "del std.name"
   ]
  },
  {
   "cell_type": "code",
   "execution_count": 29,
   "id": "16f9d2f0",
   "metadata": {},
   "outputs": [
    {
     "ename": "AttributeError",
     "evalue": "'Student' object has no attribute '_Student__name'",
     "output_type": "error",
     "traceback": [
      "\u001b[1;31m---------------------------------------------------------------------------\u001b[0m",
      "\u001b[1;31mAttributeError\u001b[0m                            Traceback (most recent call last)",
      "Input \u001b[1;32mIn [29]\u001b[0m, in \u001b[0;36m<cell line: 1>\u001b[1;34m()\u001b[0m\n\u001b[1;32m----> 1\u001b[0m \u001b[43mstd\u001b[49m\u001b[38;5;241;43m.\u001b[39;49m\u001b[43mname\u001b[49m\n",
      "Input \u001b[1;32mIn [24]\u001b[0m, in \u001b[0;36mStudent.name\u001b[1;34m(self)\u001b[0m\n\u001b[0;32m      6\u001b[0m \u001b[38;5;129m@property\u001b[39m\n\u001b[0;32m      7\u001b[0m \u001b[38;5;28;01mdef\u001b[39;00m \u001b[38;5;21mname\u001b[39m(\u001b[38;5;28mself\u001b[39m):\n\u001b[1;32m----> 8\u001b[0m     \u001b[38;5;28;01mreturn\u001b[39;00m \u001b[38;5;28;43mself\u001b[39;49m\u001b[38;5;241;43m.\u001b[39;49m\u001b[43m__name\u001b[49m\n",
      "\u001b[1;31mAttributeError\u001b[0m: 'Student' object has no attribute '_Student__name'"
     ]
    }
   ],
   "source": [
    "std.name"
   ]
  },
  {
   "cell_type": "markdown",
   "id": "e5266f53",
   "metadata": {},
   "source": [
    "### Python Class Method Decorator @classmethod\n",
    "\n",
    "`In Python, the @classmethod decorator is used to declare a method in the class as a class method that can be called using ClassName.MethodName(). The class method can also be called using an object of the class.`\n",
    "\n",
    "`The @classmethod is an alternative of the classmethod() function. It is recommended to use the @classmethod decorator instead of the function because it is just a syntactic sugar.`\n",
    "\n",
    "`@classmethod Characteristics`\n",
    "\n",
    "#### Declares a class method.\n",
    "\n",
    "* The first parameter must be cls, which can be used to access class attributes.\n",
    "\n",
    "* The class method can only access the class attributes but not the instance attributes.\n",
    "\n",
    "* The class method can be called using ClassName.MethodName() and also using object.\n",
    "\n",
    "* It can return an object of the class.\n",
    "\n",
    "* The following example declares a class method.\n"
   ]
  },
  {
   "cell_type": "code",
   "execution_count": 30,
   "id": "a594c145",
   "metadata": {},
   "outputs": [],
   "source": [
    "# @classsmethod\n",
    "\n",
    "class Student:\n",
    "    name = \"unknow\"    # class attribute\n",
    "    \n",
    "    def __init__(self):\n",
    "        self.age = 20  # instance attribute\n",
    "        \n",
    "    @classmethod\n",
    "    def tostring(cls):\n",
    "        \n",
    "        print(\"Student Class Attribute : name = \",cls.name)"
   ]
  },
  {
   "cell_type": "markdown",
   "id": "e51ae9fc",
   "metadata": {},
   "source": [
    "`Above, the Student class contains a class attribute name and an instance attribute age. The tostring() method is decorated with the @classmethod decorator that makes it a class method, which can be called using the Student.tostring(). Note that the first parameter of any class method must be cls that can be used to access the class's attributes. You can give any name to the first parameter instead of cls.`\n",
    "\n",
    "Now, you can use the class method, as shown below."
   ]
  },
  {
   "cell_type": "code",
   "execution_count": 31,
   "id": "e7262ebd",
   "metadata": {},
   "outputs": [
    {
     "name": "stdout",
     "output_type": "stream",
     "text": [
      "Student Class Attribute : name =  unknow\n"
     ]
    }
   ],
   "source": [
    "# Example: Access Class Method \n",
    "\n",
    "\n",
    "Student.tostring()"
   ]
  },
  {
   "cell_type": "markdown",
   "id": "1b7670fb",
   "metadata": {},
   "source": [
    "However, the same method can be called using an object also."
   ]
  },
  {
   "cell_type": "code",
   "execution_count": 32,
   "id": "5cfe40f9",
   "metadata": {},
   "outputs": [],
   "source": [
    "std = Student()"
   ]
  },
  {
   "cell_type": "code",
   "execution_count": 33,
   "id": "c6425d54",
   "metadata": {},
   "outputs": [
    {
     "name": "stdout",
     "output_type": "stream",
     "text": [
      "Student Class Attribute : name =  unknow\n"
     ]
    }
   ],
   "source": [
    "std.tostring()"
   ]
  },
  {
   "cell_type": "code",
   "execution_count": 34,
   "id": "69784e04",
   "metadata": {},
   "outputs": [
    {
     "name": "stdout",
     "output_type": "stream",
     "text": [
      "Student Class Attribute : name =  unknow\n"
     ]
    }
   ],
   "source": [
    "Student().tostring()"
   ]
  },
  {
   "cell_type": "code",
   "execution_count": 35,
   "id": "e76daf27",
   "metadata": {},
   "outputs": [
    {
     "name": "stdout",
     "output_type": "stream",
     "text": [
      "Student Class Attribute : name =  unknow\n"
     ]
    }
   ],
   "source": [
    "Student.tostring()"
   ]
  },
  {
   "cell_type": "markdown",
   "id": "b61c2111",
   "metadata": {},
   "source": [
    "`The class method can only access class attributes, but not the instance attributes. It will raise an error if trying to access the instance attribute in the class method.`\n",
    "\n"
   ]
  },
  {
   "cell_type": "code",
   "execution_count": 44,
   "id": "a7dab5f9",
   "metadata": {},
   "outputs": [],
   "source": [
    "class Student:\n",
    "    \n",
    "    name = \"Unknow\"   # Class Attribute\n",
    "    \n",
    "    def __init__(self):\n",
    "        \n",
    "        self.age = 20   # Instance Attribute\n",
    "        \n",
    "    @classmethod\n",
    "    def tostring(cls):\n",
    "        \n",
    "        print(\"Student Class Attribute : name = \", cls.name, \"age = \", cls.age)"
   ]
  },
  {
   "cell_type": "code",
   "execution_count": 45,
   "id": "2c86e811",
   "metadata": {},
   "outputs": [
    {
     "ename": "AttributeError",
     "evalue": "type object 'Student' has no attribute 'age'",
     "output_type": "error",
     "traceback": [
      "\u001b[1;31m---------------------------------------------------------------------------\u001b[0m",
      "\u001b[1;31mAttributeError\u001b[0m                            Traceback (most recent call last)",
      "Input \u001b[1;32mIn [45]\u001b[0m, in \u001b[0;36m<cell line: 1>\u001b[1;34m()\u001b[0m\n\u001b[1;32m----> 1\u001b[0m \u001b[43mStudent\u001b[49m\u001b[38;5;241;43m.\u001b[39;49m\u001b[43mtostring\u001b[49m\u001b[43m(\u001b[49m\u001b[43m)\u001b[49m\n",
      "Input \u001b[1;32mIn [44]\u001b[0m, in \u001b[0;36mStudent.tostring\u001b[1;34m(cls)\u001b[0m\n\u001b[0;32m      9\u001b[0m \u001b[38;5;129m@classmethod\u001b[39m\n\u001b[0;32m     10\u001b[0m \u001b[38;5;28;01mdef\u001b[39;00m \u001b[38;5;21mtostring\u001b[39m(\u001b[38;5;28mcls\u001b[39m):\n\u001b[1;32m---> 12\u001b[0m     \u001b[38;5;28mprint\u001b[39m(\u001b[38;5;124m\"\u001b[39m\u001b[38;5;124mStudent Class Attribute : name = \u001b[39m\u001b[38;5;124m\"\u001b[39m, \u001b[38;5;28mcls\u001b[39m\u001b[38;5;241m.\u001b[39mname, \u001b[38;5;124m\"\u001b[39m\u001b[38;5;124mage = \u001b[39m\u001b[38;5;124m\"\u001b[39m, \u001b[38;5;28;43mcls\u001b[39;49m\u001b[38;5;241;43m.\u001b[39;49m\u001b[43mage\u001b[49m)\n",
      "\u001b[1;31mAttributeError\u001b[0m: type object 'Student' has no attribute 'age'"
     ]
    }
   ],
   "source": [
    "Student.tostring()"
   ]
  },
  {
   "cell_type": "markdown",
   "id": "19a5bb27",
   "metadata": {},
   "source": [
    "`The class method can also be used as a factory method to get an object of the class, as shown below.`\n",
    "\n"
   ]
  },
  {
   "cell_type": "code",
   "execution_count": 47,
   "id": "a074ec44",
   "metadata": {},
   "outputs": [],
   "source": [
    "class Student:\n",
    "    \n",
    "    def __init__(self, name, age):\n",
    "        self.name = name  # Instance Atrribute\n",
    "        self.age  = age   # Instance Atrribute\n",
    "        \n",
    "    @classmethod\n",
    "    def getobject(cls):\n",
    "        \n",
    "        return cls(\"Steve\", 25)"
   ]
  },
  {
   "cell_type": "markdown",
   "id": "00d13af1",
   "metadata": {},
   "source": [
    "`The following calls the class method to get an object.`\n",
    "\n",
    "Example: Class Method as Factory Method"
   ]
  },
  {
   "cell_type": "code",
   "execution_count": 48,
   "id": "96f1572c",
   "metadata": {},
   "outputs": [],
   "source": [
    "std = Student.getobject()"
   ]
  },
  {
   "cell_type": "code",
   "execution_count": 49,
   "id": "579a9315",
   "metadata": {},
   "outputs": [
    {
     "data": {
      "text/plain": [
       "'Steve'"
      ]
     },
     "execution_count": 49,
     "metadata": {},
     "output_type": "execute_result"
    }
   ],
   "source": [
    "std.name"
   ]
  },
  {
   "cell_type": "code",
   "execution_count": 50,
   "id": "7b0d1781",
   "metadata": {},
   "outputs": [
    {
     "data": {
      "text/plain": [
       "25"
      ]
     },
     "execution_count": 50,
     "metadata": {},
     "output_type": "execute_result"
    }
   ],
   "source": [
    "std.age"
   ]
  },
  {
   "cell_type": "code",
   "execution_count": 54,
   "id": "38418791",
   "metadata": {},
   "outputs": [
    {
     "data": {
      "text/plain": [
       "<__main__.Student at 0x161b6177100>"
      ]
     },
     "execution_count": 54,
     "metadata": {},
     "output_type": "execute_result"
    }
   ],
   "source": [
    "Student(\"David\", 25).getobject()"
   ]
  },
  {
   "cell_type": "code",
   "execution_count": 55,
   "id": "c4481bb7",
   "metadata": {},
   "outputs": [],
   "source": [
    "std = Student.getobject()"
   ]
  },
  {
   "cell_type": "code",
   "execution_count": 56,
   "id": "7503b60d",
   "metadata": {},
   "outputs": [
    {
     "data": {
      "text/plain": [
       "'Steve'"
      ]
     },
     "execution_count": 56,
     "metadata": {},
     "output_type": "execute_result"
    }
   ],
   "source": [
    "std.name"
   ]
  },
  {
   "cell_type": "markdown",
   "id": "e82c1a59",
   "metadata": {},
   "source": [
    "### @classmethod vs @staticmethod\n",
    "\n",
    "The following table lists the difference between the class method and the static method:\n",
    "\n",
    "`@classmethod`\n",
    "\n",
    "* Declares a class method.\n",
    "\n",
    "* It can access class attributes,but not the instance attributes.\t\n",
    "\n",
    "* It can be called using the `ClassName.MethodName() or object.MethodName()`.\n",
    "\n",
    "* It can be used to declare a factory method that returns objects of the class.\t\n",
    "\n",
    "`@staticmethod`\n",
    "\n",
    "* Declares a static method.\n",
    "\n",
    "* It cannot access either class attributes or instance attributes.\n",
    "\n",
    "* It can be called using the `ClassName.MethodName() or object.MethodName()`.\n",
    "\n",
    "* It cannot return an object of the class.\n",
    "\n",
    "\n",
    "\n"
   ]
  },
  {
   "cell_type": "markdown",
   "id": "b7031fbd",
   "metadata": {},
   "source": [
    "### Define Static Method using @staticmethod Decorator in Python\n",
    "\n",
    "`The @staticmethod is a built-in decorator that defines a static method in the class in Python. A static method doesn't receive any reference argument whether it is called by an instance of a class or by the class itself.`\n",
    "\n",
    "\n",
    "`@staticmethod Characteristics`\n",
    "\n",
    "####  Declares a static method in the class.\n",
    "\n",
    "* It cannot have cls or self parameter.\n",
    "\n",
    "* The static method cannot access the class attributes or the instance attributes.\n",
    "\n",
    "* The static method can be called using ClassName.MethodName() and also using object.MethodName().\n",
    "\n",
    "* It can return an object of the class.\n",
    "\n",
    "The following example demonstrates how to define a static method in the class:\n",
    "\n",
    "Example: Define Static Method"
   ]
  },
  {
   "cell_type": "code",
   "execution_count": 58,
   "id": "33c09cfa",
   "metadata": {},
   "outputs": [],
   "source": [
    "class Student:\n",
    "    \n",
    "    name = \"Unknow\"    # Class Attribute\n",
    "    \n",
    "    def __init__(self):\n",
    "        self.age = 20  # Instance Attribute\n",
    "        \n",
    "    @staticmethod\n",
    "    def tostring():\n",
    "        \n",
    "        print(\"Student Class\")       \n",
    "        "
   ]
  },
  {
   "cell_type": "markdown",
   "id": "fece24bb",
   "metadata": {},
   "source": [
    "`Above, the Student class declares the tostring() method as a static method using the @staticmethod decorator. Note that it cannot have self or cls parameter.`\n",
    "\n",
    "The static method can be called using the `ClassName.MethodName() or object.MethodName()`, as shown below.\n",
    "\n"
   ]
  },
  {
   "cell_type": "code",
   "execution_count": 59,
   "id": "23fa4bcb",
   "metadata": {},
   "outputs": [
    {
     "name": "stdout",
     "output_type": "stream",
     "text": [
      "Student Class\n"
     ]
    }
   ],
   "source": [
    "Student.tostring()"
   ]
  },
  {
   "cell_type": "code",
   "execution_count": 60,
   "id": "d084ab36",
   "metadata": {},
   "outputs": [
    {
     "name": "stdout",
     "output_type": "stream",
     "text": [
      "Student Class\n"
     ]
    }
   ],
   "source": [
    "Student().tostring()"
   ]
  },
  {
   "cell_type": "code",
   "execution_count": 61,
   "id": "9c6fb756",
   "metadata": {},
   "outputs": [],
   "source": [
    "std = Student()"
   ]
  },
  {
   "cell_type": "code",
   "execution_count": 62,
   "id": "654ec9ad",
   "metadata": {},
   "outputs": [
    {
     "name": "stdout",
     "output_type": "stream",
     "text": [
      "Student Class\n"
     ]
    }
   ],
   "source": [
    "std.tostring()"
   ]
  },
  {
   "cell_type": "markdown",
   "id": "0d1396f9",
   "metadata": {},
   "source": [
    "`The static method cannot access the class attributes or instance attributes. It will raise an error if try to do so.`\n",
    "\n"
   ]
  },
  {
   "cell_type": "code",
   "execution_count": 63,
   "id": "6f2ffa78",
   "metadata": {},
   "outputs": [],
   "source": [
    "class Student:\n",
    "    \n",
    "    name = \"Unknow\"   # Class Attribute\n",
    "    \n",
    "    def __init__(self):\n",
    "        \n",
    "        self.age = 20    # Instance Attribute \n",
    "        \n",
    "    @staticmethod\n",
    "    def tostring():\n",
    "        \n",
    "        print(\"Name =\", name, \"age =\", self.age)"
   ]
  },
  {
   "cell_type": "markdown",
   "id": "e54a1319",
   "metadata": {},
   "source": [
    "The following will be the output when you call the above static method."
   ]
  },
  {
   "cell_type": "code",
   "execution_count": 64,
   "id": "a8dd62e0",
   "metadata": {},
   "outputs": [
    {
     "ename": "NameError",
     "evalue": "name 'name' is not defined",
     "output_type": "error",
     "traceback": [
      "\u001b[1;31m---------------------------------------------------------------------------\u001b[0m",
      "\u001b[1;31mNameError\u001b[0m                                 Traceback (most recent call last)",
      "Input \u001b[1;32mIn [64]\u001b[0m, in \u001b[0;36m<cell line: 1>\u001b[1;34m()\u001b[0m\n\u001b[1;32m----> 1\u001b[0m \u001b[43mStudent\u001b[49m\u001b[38;5;241;43m.\u001b[39;49m\u001b[43mtostring\u001b[49m\u001b[43m(\u001b[49m\u001b[43m)\u001b[49m\n",
      "Input \u001b[1;32mIn [63]\u001b[0m, in \u001b[0;36mStudent.tostring\u001b[1;34m()\u001b[0m\n\u001b[0;32m      9\u001b[0m \u001b[38;5;129m@staticmethod\u001b[39m\n\u001b[0;32m     10\u001b[0m \u001b[38;5;28;01mdef\u001b[39;00m \u001b[38;5;21mtostring\u001b[39m():\n\u001b[1;32m---> 12\u001b[0m     \u001b[38;5;28mprint\u001b[39m(\u001b[38;5;124m\"\u001b[39m\u001b[38;5;124mName =\u001b[39m\u001b[38;5;124m\"\u001b[39m, \u001b[43mname\u001b[49m, \u001b[38;5;124m\"\u001b[39m\u001b[38;5;124mage =\u001b[39m\u001b[38;5;124m\"\u001b[39m, \u001b[38;5;28mself\u001b[39m\u001b[38;5;241m.\u001b[39mage)\n",
      "\u001b[1;31mNameError\u001b[0m: name 'name' is not defined"
     ]
    }
   ],
   "source": [
    "Student.tostring()"
   ]
  },
  {
   "cell_type": "code",
   "execution_count": null,
   "id": "e7f5f933",
   "metadata": {},
   "outputs": [],
   "source": []
  }
 ],
 "metadata": {
  "kernelspec": {
   "display_name": "Python 3 (ipykernel)",
   "language": "python",
   "name": "python3"
  },
  "language_info": {
   "codemirror_mode": {
    "name": "ipython",
    "version": 3
   },
   "file_extension": ".py",
   "mimetype": "text/x-python",
   "name": "python",
   "nbconvert_exporter": "python",
   "pygments_lexer": "ipython3",
   "version": "3.9.7"
  }
 },
 "nbformat": 4,
 "nbformat_minor": 5
}
