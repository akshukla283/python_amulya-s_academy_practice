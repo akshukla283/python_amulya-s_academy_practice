{
 "cells": [
  {
   "cell_type": "markdown",
   "id": "6e1124ab",
   "metadata": {},
   "source": [
    "### Python Class\n",
    "Python is a `completely object-oriented language`. You have been working with classes and objects right from the beginning of these tutorials. Every element in a Python program is an object of a `class`. A number, string, list, dictionary, etc., used in a program is an object of a corresponding built-in class. You can retrieve the class name of variables or objects using the `type()` method, as shown below."
   ]
  },
  {
   "cell_type": "code",
   "execution_count": 1,
   "id": "16a89c1a",
   "metadata": {},
   "outputs": [],
   "source": [
    "num = 20"
   ]
  },
  {
   "cell_type": "code",
   "execution_count": 3,
   "id": "a22267b3",
   "metadata": {},
   "outputs": [
    {
     "name": "stdout",
     "output_type": "stream",
     "text": [
      "<class 'int'>\n"
     ]
    }
   ],
   "source": [
    "print(type(num))"
   ]
  },
  {
   "cell_type": "code",
   "execution_count": 4,
   "id": "8456ffdc",
   "metadata": {},
   "outputs": [
    {
     "name": "stdout",
     "output_type": "stream",
     "text": [
      "<class 'str'>\n"
     ]
    }
   ],
   "source": [
    "s = \"Python\"\n",
    "print(type(s))"
   ]
  },
  {
   "cell_type": "markdown",
   "id": "2f41b07f",
   "metadata": {},
   "source": [
    "#### Defining a Class\n",
    "\n",
    "`A class in Python can be defined using the class keyword.`\n",
    "\n",
    "\n",
    "`class <ClassName>:\n",
    "    <statement1>\n",
    "    <statement2>\n",
    "    .\n",
    "    .\n",
    "    <statementN>`\n",
    "    \n",
    "    \n",
    "As per the syntax above, a class is defined using the class keyword followed by the class name and : operator after the class name, which allows you to continue in the next indented line to define class members. The followings are class members.\n",
    "\n",
    "* `1.Class Attributes`\n",
    "\n",
    "* `2.Constructor`\n",
    "\n",
    "* `3.Instance Attributes`\n",
    "\n",
    "* `4.Properties`\n",
    "\n",
    "* `5.Class Methods`\n",
    "\n",
    "A class can also be defined without any members. The following example defines an empty class using the `pass` keyword.\n",
    "\n",
    "Example: Define Python Class"
   ]
  },
  {
   "cell_type": "code",
   "execution_count": 5,
   "id": "d13bdafe",
   "metadata": {},
   "outputs": [],
   "source": [
    "class Student:\n",
    "    pass"
   ]
  },
  {
   "cell_type": "markdown",
   "id": "bb95bcd8",
   "metadata": {},
   "source": [
    "Class instantiation uses function notation. To create an object of the class, just call a class like a parameterless function that returns a new object of the class, as shown below"
   ]
  },
  {
   "cell_type": "code",
   "execution_count": 6,
   "id": "2660b528",
   "metadata": {},
   "outputs": [],
   "source": [
    "std = Student() #  Creating an Object of a Class"
   ]
  },
  {
   "cell_type": "markdown",
   "id": "e19d24f5",
   "metadata": {},
   "source": [
    "Above, `Student()` returns an object of the Student class, which is assigned to a local variable std. The Student class is an empty class because it does not contain any members."
   ]
  },
  {
   "cell_type": "markdown",
   "id": "d797cb8d",
   "metadata": {},
   "source": [
    "#### Class Attributes\n",
    "`Class attributes are the variables defined directly in the class that are shared by all objects of the class. Class attributes can be accessed using the class name as well as using the objects.`\n",
    "\n",
    "\n",
    "Example: Define Python Class"
   ]
  },
  {
   "cell_type": "code",
   "execution_count": 1,
   "id": "0114c056",
   "metadata": {},
   "outputs": [],
   "source": [
    "class Student:\n",
    "    schoolName = 'XYZ School' "
   ]
  },
  {
   "cell_type": "markdown",
   "id": "9badb904",
   "metadata": {},
   "source": [
    "Above, the schoolName is a `class` attribute defined inside a `class`. The value of the schoolName will remain the same for all the objects unless modified explicitly."
   ]
  },
  {
   "cell_type": "code",
   "execution_count": 2,
   "id": "c60636d2",
   "metadata": {},
   "outputs": [
    {
     "data": {
      "text/plain": [
       "'XYZ School'"
      ]
     },
     "execution_count": 2,
     "metadata": {},
     "output_type": "execute_result"
    }
   ],
   "source": [
    "Student.schoolName  # class attribute can be accessed using the class name"
   ]
  },
  {
   "cell_type": "code",
   "execution_count": 3,
   "id": "ae1a6276",
   "metadata": {},
   "outputs": [],
   "source": [
    "std = Student()"
   ]
  },
  {
   "cell_type": "code",
   "execution_count": 4,
   "id": "5fa0a040",
   "metadata": {},
   "outputs": [
    {
     "data": {
      "text/plain": [
       "'XYZ School'"
      ]
     },
     "execution_count": 4,
     "metadata": {},
     "output_type": "execute_result"
    }
   ],
   "source": [
    "std.schoolName  # we can access class attribute by object"
   ]
  },
  {
   "cell_type": "markdown",
   "id": "5b6d0bd9",
   "metadata": {},
   "source": [
    "As you can see, a class attribute is accessed by `Student.schoolName` as well as `std.schoolName`. `Changing the value of class attribute using the class name would change it across all instances. However, changing class attribute value using instance will not reflect to other instances or class.`"
   ]
  },
  {
   "cell_type": "code",
   "execution_count": 5,
   "id": "599650d4",
   "metadata": {},
   "outputs": [],
   "source": [
    "# change attribute value using class name\n",
    "\n",
    "Student.schoolName = \"ABC school\""
   ]
  },
  {
   "cell_type": "code",
   "execution_count": 6,
   "id": "38468569",
   "metadata": {},
   "outputs": [
    {
     "data": {
      "text/plain": [
       "'ABC school'"
      ]
     },
     "execution_count": 6,
     "metadata": {},
     "output_type": "execute_result"
    }
   ],
   "source": [
    "std = Student()\n",
    "\n",
    "std.schoolName  ## value changed for all instances"
   ]
  },
  {
   "cell_type": "code",
   "execution_count": 7,
   "id": "c1550703",
   "metadata": {},
   "outputs": [
    {
     "data": {
      "text/plain": [
       "'My school'"
      ]
     },
     "execution_count": 7,
     "metadata": {},
     "output_type": "execute_result"
    }
   ],
   "source": [
    "# now # changing instance's attribute\n",
    "\n",
    "std.schoolName = \"My school\"\n",
    "\n",
    "std.schoolName"
   ]
  },
  {
   "cell_type": "code",
   "execution_count": 8,
   "id": "74142482",
   "metadata": {},
   "outputs": [
    {
     "data": {
      "text/plain": [
       "'ABC school'"
      ]
     },
     "execution_count": 8,
     "metadata": {},
     "output_type": "execute_result"
    }
   ],
   "source": [
    "Student.schoolName ## instance level change not reflectd to class attribute"
   ]
  },
  {
   "cell_type": "code",
   "execution_count": 9,
   "id": "c995a386",
   "metadata": {},
   "outputs": [
    {
     "data": {
      "text/plain": [
       "'ABC school'"
      ]
     },
     "execution_count": 9,
     "metadata": {},
     "output_type": "execute_result"
    }
   ],
   "source": [
    "# let's check another instance level attribute\n",
    "\n",
    "std2 = Student()\n",
    "\n",
    "std2.schoolName"
   ]
  },
  {
   "cell_type": "markdown",
   "id": "7bab072c",
   "metadata": {},
   "source": [
    "As we can see that instance attribute is still the same while we have made new instance, so change in instance level attribute will be have their own changed value and other  instance level attribute will have class Attribute and change class attribute by Class name will reflect the change in class attribute for all the instance."
   ]
  },
  {
   "cell_type": "code",
   "execution_count": 10,
   "id": "5e8459b9",
   "metadata": {},
   "outputs": [],
   "source": [
    "# Let's try another change in class attribute by class name to reflect it in class attribute\n",
    "\n",
    "Student.schoolName = \"DPS School\""
   ]
  },
  {
   "cell_type": "code",
   "execution_count": 11,
   "id": "986418cd",
   "metadata": {},
   "outputs": [
    {
     "data": {
      "text/plain": [
       "'DPS School'"
      ]
     },
     "execution_count": 11,
     "metadata": {},
     "output_type": "execute_result"
    }
   ],
   "source": [
    "Student.schoolName"
   ]
  },
  {
   "cell_type": "code",
   "execution_count": 12,
   "id": "a795a83a",
   "metadata": {},
   "outputs": [
    {
     "data": {
      "text/plain": [
       "'DPS School'"
      ]
     },
     "execution_count": 12,
     "metadata": {},
     "output_type": "execute_result"
    }
   ],
   "source": [
    "# let's check with instance variable \n",
    "\n",
    "std2.schoolName"
   ]
  },
  {
   "cell_type": "code",
   "execution_count": 13,
   "id": "387b2140",
   "metadata": {},
   "outputs": [],
   "source": [
    "std3 = Student()"
   ]
  },
  {
   "cell_type": "code",
   "execution_count": 14,
   "id": "143286bb",
   "metadata": {},
   "outputs": [
    {
     "data": {
      "text/plain": [
       "'DPS School'"
      ]
     },
     "execution_count": 14,
     "metadata": {},
     "output_type": "execute_result"
    }
   ],
   "source": [
    "std3.schoolName"
   ]
  },
  {
   "cell_type": "code",
   "execution_count": 15,
   "id": "b89adf8b",
   "metadata": {},
   "outputs": [],
   "source": [
    "std3.schoolName = \"SS School\""
   ]
  },
  {
   "cell_type": "code",
   "execution_count": 16,
   "id": "285592e2",
   "metadata": {},
   "outputs": [],
   "source": [
    "std_new = Student()"
   ]
  },
  {
   "cell_type": "code",
   "execution_count": 17,
   "id": "339c8b68",
   "metadata": {},
   "outputs": [
    {
     "data": {
      "text/plain": [
       "'DPS School'"
      ]
     },
     "execution_count": 17,
     "metadata": {},
     "output_type": "execute_result"
    }
   ],
   "source": [
    "std_new.schoolName"
   ]
  },
  {
   "cell_type": "code",
   "execution_count": 18,
   "id": "bff153e2",
   "metadata": {},
   "outputs": [
    {
     "data": {
      "text/plain": [
       "'SS School'"
      ]
     },
     "execution_count": 18,
     "metadata": {},
     "output_type": "execute_result"
    }
   ],
   "source": [
    "std3.schoolName"
   ]
  },
  {
   "cell_type": "code",
   "execution_count": 19,
   "id": "9b4a6c45",
   "metadata": {},
   "outputs": [],
   "source": [
    "class Player:\n",
    "    country = \"India\"\n",
    "    "
   ]
  },
  {
   "cell_type": "code",
   "execution_count": 20,
   "id": "39365971",
   "metadata": {},
   "outputs": [
    {
     "data": {
      "text/plain": [
       "'India'"
      ]
     },
     "execution_count": 20,
     "metadata": {},
     "output_type": "execute_result"
    }
   ],
   "source": [
    "Player.country"
   ]
  },
  {
   "cell_type": "code",
   "execution_count": 21,
   "id": "a4e40464",
   "metadata": {},
   "outputs": [],
   "source": [
    "c_name = Player()"
   ]
  },
  {
   "cell_type": "code",
   "execution_count": 22,
   "id": "75ff3f53",
   "metadata": {},
   "outputs": [
    {
     "data": {
      "text/plain": [
       "'India'"
      ]
     },
     "execution_count": 22,
     "metadata": {},
     "output_type": "execute_result"
    }
   ],
   "source": [
    "c_name.country"
   ]
  },
  {
   "cell_type": "code",
   "execution_count": 23,
   "id": "7030c0a5",
   "metadata": {},
   "outputs": [],
   "source": [
    "# now trying to change class attribute through insatance \n",
    "\n",
    "c_name.country = \"Austrelia\""
   ]
  },
  {
   "cell_type": "code",
   "execution_count": 24,
   "id": "ff7d6886",
   "metadata": {},
   "outputs": [
    {
     "data": {
      "text/plain": [
       "'India'"
      ]
     },
     "execution_count": 24,
     "metadata": {},
     "output_type": "execute_result"
    }
   ],
   "source": [
    "Player.country"
   ]
  },
  {
   "cell_type": "code",
   "execution_count": 25,
   "id": "ca91fb2e",
   "metadata": {},
   "outputs": [],
   "source": [
    "c2_name = Player()"
   ]
  },
  {
   "cell_type": "code",
   "execution_count": 26,
   "id": "926763c3",
   "metadata": {},
   "outputs": [
    {
     "data": {
      "text/plain": [
       "'India'"
      ]
     },
     "execution_count": 26,
     "metadata": {},
     "output_type": "execute_result"
    }
   ],
   "source": [
    "c2_name.country"
   ]
  },
  {
   "cell_type": "code",
   "execution_count": 27,
   "id": "c86e3de3",
   "metadata": {},
   "outputs": [
    {
     "data": {
      "text/plain": [
       "'Austrelia'"
      ]
     },
     "execution_count": 27,
     "metadata": {},
     "output_type": "execute_result"
    }
   ],
   "source": [
    "c_name.country"
   ]
  },
  {
   "cell_type": "markdown",
   "id": "2da7c889",
   "metadata": {},
   "source": [
    "### conclusion \n",
    "\n",
    "when we want change class attribute through instance then the change  will be reflect only for that particular instance not for different instance and also will not be reflect on Class Attribute."
   ]
  },
  {
   "cell_type": "markdown",
   "id": "079508b1",
   "metadata": {},
   "source": [
    "The following example demonstrates the use of class attribute count."
   ]
  },
  {
   "cell_type": "code",
   "execution_count": 28,
   "id": "a86e93f7",
   "metadata": {},
   "outputs": [],
   "source": [
    "class Student:\n",
    "    count = 0\n",
    "    def __init__(self):\n",
    "        Student.count += 1   "
   ]
  },
  {
   "cell_type": "markdown",
   "id": "afe89d2c",
   "metadata": {},
   "source": [
    "In the above example, `count` is an attribute in the `Student` class. Whenever a new `object` is created, the value of `count` is `incremented by 1`. You can now access the `count` attribute `after creating the objects`, as shown below."
   ]
  },
  {
   "cell_type": "code",
   "execution_count": 29,
   "id": "342e0c58",
   "metadata": {},
   "outputs": [],
   "source": [
    "std = Student()"
   ]
  },
  {
   "cell_type": "code",
   "execution_count": 30,
   "id": "33b0ef18",
   "metadata": {},
   "outputs": [
    {
     "data": {
      "text/plain": [
       "1"
      ]
     },
     "execution_count": 30,
     "metadata": {},
     "output_type": "execute_result"
    }
   ],
   "source": [
    "std.count"
   ]
  },
  {
   "cell_type": "code",
   "execution_count": 31,
   "id": "4ed4fb7b",
   "metadata": {},
   "outputs": [
    {
     "data": {
      "text/plain": [
       "1"
      ]
     },
     "execution_count": 31,
     "metadata": {},
     "output_type": "execute_result"
    }
   ],
   "source": [
    "Student.count"
   ]
  },
  {
   "cell_type": "code",
   "execution_count": 32,
   "id": "a3214030",
   "metadata": {},
   "outputs": [
    {
     "data": {
      "text/plain": [
       "1"
      ]
     },
     "execution_count": 32,
     "metadata": {},
     "output_type": "execute_result"
    }
   ],
   "source": [
    "std.count"
   ]
  },
  {
   "cell_type": "code",
   "execution_count": 33,
   "id": "195969dc",
   "metadata": {},
   "outputs": [],
   "source": [
    "# but when we will create new instance then the count will increased by 1\n",
    "\n",
    "std2 = Student()"
   ]
  },
  {
   "cell_type": "code",
   "execution_count": 34,
   "id": "b37ed23e",
   "metadata": {},
   "outputs": [
    {
     "data": {
      "text/plain": [
       "2"
      ]
     },
     "execution_count": 34,
     "metadata": {},
     "output_type": "execute_result"
    }
   ],
   "source": [
    "std2.count"
   ]
  },
  {
   "cell_type": "code",
   "execution_count": 35,
   "id": "fd82f295",
   "metadata": {},
   "outputs": [
    {
     "data": {
      "text/plain": [
       "2"
      ]
     },
     "execution_count": 35,
     "metadata": {},
     "output_type": "execute_result"
    }
   ],
   "source": [
    "Student.count"
   ]
  },
  {
   "cell_type": "markdown",
   "id": "2050e734",
   "metadata": {},
   "source": [
    "### Constructor\n",
    "`In Python, the constructor method is invoked automatically whenever a new object of a class is instantiated, same as constructors in C# or Java. The constructor must have a special name __init__() and a special parameter called self.`\n",
    "\n",
    "#### Note:\n",
    "\n",
    "`The first parameter of each method in a class must be the self , which refers to the calling object. However, you can give any name to the first parameter, not necessarily self.\n",
    "The following example defines a constructor.`"
   ]
  },
  {
   "cell_type": "code",
   "execution_count": 70,
   "id": "b668ad26",
   "metadata": {},
   "outputs": [],
   "source": [
    "# Constructor \n",
    "\n",
    "class Student:\n",
    "    \n",
    "    def __init__(self):               # Constructor method\n",
    "        print(\"Constructor invoked!\")"
   ]
  },
  {
   "cell_type": "markdown",
   "id": "8a930004",
   "metadata": {},
   "source": [
    "`Now, whenever you create an object of the Student class, the __init__() constructor method will be called, as shown below.`\n",
    "\n",
    "`Example: Constructor Call on Creating Object`"
   ]
  },
  {
   "cell_type": "code",
   "execution_count": 71,
   "id": "c4f3efa9",
   "metadata": {},
   "outputs": [
    {
     "name": "stdout",
     "output_type": "stream",
     "text": [
      "Constructor invoked!\n"
     ]
    }
   ],
   "source": [
    "std1 = Student()"
   ]
  },
  {
   "cell_type": "code",
   "execution_count": 72,
   "id": "d9b678ce",
   "metadata": {},
   "outputs": [
    {
     "name": "stdout",
     "output_type": "stream",
     "text": [
      "Constructor invoked!\n"
     ]
    }
   ],
   "source": [
    "std2 = Student()"
   ]
  },
  {
   "cell_type": "markdown",
   "id": "465196ac",
   "metadata": {},
   "source": [
    "The constructor in Python is used to define the attributes of an instance and assign values to them.\n",
    "\n",
    "### Instance Attributes\n",
    "Instance attributes are attributes or properties attached to an instance of a class. Instance attributes are defined in the constructor.\n",
    "\n",
    "The following example defines instance attributes name and age in the constructor.\n",
    "\n",
    "Example: Instance Attributes"
   ]
  },
  {
   "cell_type": "code",
   "execution_count": 36,
   "id": "27154fbf",
   "metadata": {},
   "outputs": [],
   "source": [
    "class Student:\n",
    "    \n",
    "    schoolName = \"XYZ School\"   # class attribute\n",
    "    \n",
    "    def __init__(self):   # constructor\n",
    "        self.name = \"\"    # instance attribute\n",
    "        self.age  = 0     # instance attribute."
   ]
  },
  {
   "cell_type": "markdown",
   "id": "a9bee34e",
   "metadata": {},
   "source": [
    "An instance attribute can be accessed using dot notation:` [instance name].[attribute name],` as shown below"
   ]
  },
  {
   "cell_type": "code",
   "execution_count": 37,
   "id": "5d0afa95",
   "metadata": {},
   "outputs": [],
   "source": [
    "std = Student()"
   ]
  },
  {
   "cell_type": "code",
   "execution_count": 38,
   "id": "54ff6c90",
   "metadata": {},
   "outputs": [
    {
     "data": {
      "text/plain": [
       "''"
      ]
     },
     "execution_count": 38,
     "metadata": {},
     "output_type": "execute_result"
    }
   ],
   "source": [
    "std.name"
   ]
  },
  {
   "cell_type": "code",
   "execution_count": 39,
   "id": "5a798b10",
   "metadata": {},
   "outputs": [
    {
     "data": {
      "text/plain": [
       "0"
      ]
     },
     "execution_count": 39,
     "metadata": {},
     "output_type": "execute_result"
    }
   ],
   "source": [
    "std.age"
   ]
  },
  {
   "cell_type": "markdown",
   "id": "5df03255",
   "metadata": {},
   "source": [
    "`You can set the value of attributes using the dot notation, as shown below.`"
   ]
  },
  {
   "cell_type": "code",
   "execution_count": 40,
   "id": "b7aa4eff",
   "metadata": {},
   "outputs": [],
   "source": [
    "std = Student()"
   ]
  },
  {
   "cell_type": "code",
   "execution_count": 41,
   "id": "78f283de",
   "metadata": {},
   "outputs": [],
   "source": [
    "std.name = \"Bill\" # assign value to instance attribute\n",
    "std.age=25        # assign value to instance attribute"
   ]
  },
  {
   "cell_type": "code",
   "execution_count": 42,
   "id": "d2b9e2f4",
   "metadata": {},
   "outputs": [
    {
     "data": {
      "text/plain": [
       "'Bill'"
      ]
     },
     "execution_count": 42,
     "metadata": {},
     "output_type": "execute_result"
    }
   ],
   "source": [
    "std.name          # access instance attribute value"
   ]
  },
  {
   "cell_type": "code",
   "execution_count": 43,
   "id": "65a3a021",
   "metadata": {},
   "outputs": [
    {
     "data": {
      "text/plain": [
       "25"
      ]
     },
     "execution_count": 43,
     "metadata": {},
     "output_type": "execute_result"
    }
   ],
   "source": [
    "std.age           # access value to instance attribute"
   ]
  },
  {
   "cell_type": "markdown",
   "id": "0ecfd497",
   "metadata": {},
   "source": [
    "`You can specify the values of instance attributes through the constructor. The following constructor includes the name and age parameters, other than the self parameter.`"
   ]
  },
  {
   "cell_type": "code",
   "execution_count": 44,
   "id": "340dd952",
   "metadata": {},
   "outputs": [],
   "source": [
    "class Student:\n",
    "    def __init__(self, name, age): \n",
    "        self.name = name\n",
    "        self.age = age"
   ]
  },
  {
   "cell_type": "markdown",
   "id": "a95f731b",
   "metadata": {},
   "source": [
    "Now, you can specify the values while creating an instance, as shown below.\n",
    "\n",
    "Example: Passing Instance Attribute Values in Constructor"
   ]
  },
  {
   "cell_type": "code",
   "execution_count": 45,
   "id": "0d24decc",
   "metadata": {},
   "outputs": [],
   "source": [
    "std = Student('Bill',25)"
   ]
  },
  {
   "cell_type": "code",
   "execution_count": 46,
   "id": "606da3ab",
   "metadata": {},
   "outputs": [
    {
     "data": {
      "text/plain": [
       "'Bill'"
      ]
     },
     "execution_count": 46,
     "metadata": {},
     "output_type": "execute_result"
    }
   ],
   "source": [
    "std.name"
   ]
  },
  {
   "cell_type": "code",
   "execution_count": 47,
   "id": "c6de776b",
   "metadata": {},
   "outputs": [
    {
     "data": {
      "text/plain": [
       "25"
      ]
     },
     "execution_count": 47,
     "metadata": {},
     "output_type": "execute_result"
    }
   ],
   "source": [
    "std.age"
   ]
  },
  {
   "cell_type": "markdown",
   "id": "caea4a99",
   "metadata": {},
   "source": [
    "### Note:\n",
    "\n",
    "You don't have to specify the value of the self parameter. It will be assigned internally in Python.\n",
    "\n",
    "`You can also set default values to the instance attributes. The following code sets the default values of the constructor parameters. So, if the values are not provided when creating an object, the values will be assigned latter.`\n",
    "\n",
    "Example: Setting Default Values of Attributes"
   ]
  },
  {
   "cell_type": "code",
   "execution_count": 48,
   "id": "dde6e95e",
   "metadata": {},
   "outputs": [],
   "source": [
    "class Student:\n",
    "    \n",
    "    def __init__(self, name = \"David\", age =25):\n",
    "        \n",
    "        self.name = name\n",
    "        self.age = age\n",
    "        "
   ]
  },
  {
   "cell_type": "markdown",
   "id": "25a46c30",
   "metadata": {},
   "source": [
    "Now, you can create an object with default values, as shown below.\n",
    "\n",
    "Example: Instance Attribute Default Value."
   ]
  },
  {
   "cell_type": "code",
   "execution_count": 49,
   "id": "917e6020",
   "metadata": {},
   "outputs": [],
   "source": [
    "std = Student()"
   ]
  },
  {
   "cell_type": "code",
   "execution_count": 50,
   "id": "6c8ceb05",
   "metadata": {},
   "outputs": [
    {
     "data": {
      "text/plain": [
       "'David'"
      ]
     },
     "execution_count": 50,
     "metadata": {},
     "output_type": "execute_result"
    }
   ],
   "source": [
    "std.name"
   ]
  },
  {
   "cell_type": "code",
   "execution_count": 51,
   "id": "587845ae",
   "metadata": {},
   "outputs": [
    {
     "data": {
      "text/plain": [
       "25"
      ]
     },
     "execution_count": 51,
     "metadata": {},
     "output_type": "execute_result"
    }
   ],
   "source": [
    "std.age"
   ]
  },
  {
   "cell_type": "markdown",
   "id": "afdfdfcc",
   "metadata": {},
   "source": [
    "#### Class Properties\n",
    "\n",
    "`In Python, a property in the class can be defined using the property() function.`\n",
    "\n",
    "* The `property()` method in Python provides an interface to instance attributes. It encapsulates instance attributes and provides a property, same as Java and C#.\n",
    "\n",
    "* The `property()` method takes the get, set and delete methods as arguments and returns an object of the property class.\n",
    "\n",
    "* The following example demonstrates how to create a property in Python using the `property()` function."
   ]
  },
  {
   "cell_type": "code",
   "execution_count": 52,
   "id": "f85f7faf",
   "metadata": {},
   "outputs": [],
   "source": [
    "class Student:\n",
    "    \n",
    "    def __init__(self):\n",
    "        \n",
    "        self.__name = \"\"\n",
    "    \n",
    "    def setname(self, name):\n",
    "        print(\"sentname() called\")\n",
    "        self.__name = name\n",
    "        \n",
    "    def getname(self):\n",
    "        print(\"getname() called\")\n",
    "        \n",
    "        return self.__name\n",
    "    \n",
    "    name = property(getname, setname)"
   ]
  },
  {
   "cell_type": "markdown",
   "id": "3b5743fa",
   "metadata": {},
   "source": [
    "`In the above example, `property(getname, setname)` returns the `property object` and assigns it to name. Thus, the name property hides the private instance attribute` __name`. The name `property` is accessed directly, but internally it will invoke the `getname()` or `setname()` method, as shown below.`"
   ]
  },
  {
   "cell_type": "code",
   "execution_count": 53,
   "id": "c629c47d",
   "metadata": {},
   "outputs": [],
   "source": [
    "std = Student()"
   ]
  },
  {
   "cell_type": "code",
   "execution_count": 54,
   "id": "e9df2c01",
   "metadata": {},
   "outputs": [
    {
     "name": "stdout",
     "output_type": "stream",
     "text": [
      "sentname() called\n"
     ]
    }
   ],
   "source": [
    "std.name = \"Steve\""
   ]
  },
  {
   "cell_type": "code",
   "execution_count": 55,
   "id": "2502daf2",
   "metadata": {},
   "outputs": [
    {
     "name": "stdout",
     "output_type": "stream",
     "text": [
      "getname() called\n"
     ]
    },
    {
     "data": {
      "text/plain": [
       "'Steve'"
      ]
     },
     "execution_count": 55,
     "metadata": {},
     "output_type": "execute_result"
    }
   ],
   "source": [
    "std.name"
   ]
  },
  {
   "cell_type": "markdown",
   "id": "e01e7980",
   "metadata": {},
   "source": [
    "#### Note -\n",
    "It is recommended to use the `property decorator `instead of the `property()` method."
   ]
  },
  {
   "cell_type": "markdown",
   "id": "26bca805",
   "metadata": {},
   "source": [
    "#### Class Methods\n",
    "\n",
    "`You can define as many methods as you want in a class using the def keyword. Each method must have the first parameter, generally named as self, which refers to the calling instance.`"
   ]
  },
  {
   "cell_type": "code",
   "execution_count": 56,
   "id": "19b0979c",
   "metadata": {},
   "outputs": [],
   "source": [
    "class Student:\n",
    "    \n",
    "    def displayInfo(self): # class method\n",
    "        print(\"Student information\")"
   ]
  },
  {
   "cell_type": "markdown",
   "id": "67a1bc41",
   "metadata": {},
   "source": [
    "`Self` is just a conventional name for the first argument of a method in the class. A method defined as `mymethod(self, a, b)` should be called as `x.mymethod(a, b`) for the object` x` of the class.\n",
    "\n",
    "The above class method can be called as a normal function, as shown below."
   ]
  },
  {
   "cell_type": "code",
   "execution_count": 57,
   "id": "647c991d",
   "metadata": {},
   "outputs": [],
   "source": [
    "std = Student()"
   ]
  },
  {
   "cell_type": "code",
   "execution_count": 58,
   "id": "e509fcae",
   "metadata": {},
   "outputs": [
    {
     "name": "stdout",
     "output_type": "stream",
     "text": [
      "Student information\n"
     ]
    }
   ],
   "source": [
    "std.displayInfo() # while calling method we need to use function notation '()'"
   ]
  },
  {
   "cell_type": "markdown",
   "id": "d1e62a8b",
   "metadata": {},
   "source": [
    "`The first parameter of the method need not be named self. You can give any name that refers to the instance of the calling method. The following displayInfo() method names the first parameter as obj instead of self and that works perfectly fine.`\n"
   ]
  },
  {
   "cell_type": "code",
   "execution_count": 59,
   "id": "5bb18232",
   "metadata": {},
   "outputs": [],
   "source": [
    "class Student:\n",
    "    \n",
    "    def displayInfo(obj):   # class method\n",
    "        print(\"Student Information\")"
   ]
  },
  {
   "cell_type": "code",
   "execution_count": 60,
   "id": "47fe53cb",
   "metadata": {},
   "outputs": [],
   "source": [
    "std = Student()"
   ]
  },
  {
   "cell_type": "code",
   "execution_count": 61,
   "id": "719385f9",
   "metadata": {},
   "outputs": [
    {
     "name": "stdout",
     "output_type": "stream",
     "text": [
      "Student Information\n"
     ]
    }
   ],
   "source": [
    "std.displayInfo()"
   ]
  },
  {
   "cell_type": "markdown",
   "id": "81037c6d",
   "metadata": {},
   "source": [
    "`Defining a method in the class without the self parameter would raise an exception when calling a method.`"
   ]
  },
  {
   "cell_type": "code",
   "execution_count": 1,
   "id": "4cf573cd",
   "metadata": {},
   "outputs": [],
   "source": [
    "class Student:\n",
    "    \n",
    "    def displayInfo():    # without paramenter class method\n",
    "        print(\"Student information\")"
   ]
  },
  {
   "cell_type": "code",
   "execution_count": 2,
   "id": "05f87502",
   "metadata": {},
   "outputs": [],
   "source": [
    "std = Student()"
   ]
  },
  {
   "cell_type": "code",
   "execution_count": 5,
   "id": "e96b6a1c",
   "metadata": {},
   "outputs": [
    {
     "data": {
      "text/plain": [
       "<bound method Student.displayInfo of <__main__.Student object at 0x0000023D028A3820>>"
      ]
     },
     "execution_count": 5,
     "metadata": {},
     "output_type": "execute_result"
    }
   ],
   "source": [
    "std.displayInfo   # we have class method reference "
   ]
  },
  {
   "cell_type": "code",
   "execution_count": 4,
   "id": "77f1bafd",
   "metadata": {},
   "outputs": [
    {
     "ename": "TypeError",
     "evalue": "displayInfo() takes 0 positional arguments but 1 was given",
     "output_type": "error",
     "traceback": [
      "\u001b[1;31m---------------------------------------------------------------------------\u001b[0m",
      "\u001b[1;31mTypeError\u001b[0m                                 Traceback (most recent call last)",
      "Input \u001b[1;32mIn [4]\u001b[0m, in \u001b[0;36m<cell line: 1>\u001b[1;34m()\u001b[0m\n\u001b[1;32m----> 1\u001b[0m \u001b[43mstd\u001b[49m\u001b[38;5;241;43m.\u001b[39;49m\u001b[43mdisplayInfo\u001b[49m\u001b[43m(\u001b[49m\u001b[43m)\u001b[49m\n",
      "\u001b[1;31mTypeError\u001b[0m: displayInfo() takes 0 positional arguments but 1 was given"
     ]
    }
   ],
   "source": [
    "std.displayInfo()   # but when we call it, it will raise exception"
   ]
  },
  {
   "cell_type": "markdown",
   "id": "a00696d9",
   "metadata": {},
   "source": [
    "#### Note:\n",
    "\n",
    "`The method can access instance attributes using the self parameter.`"
   ]
  },
  {
   "cell_type": "code",
   "execution_count": 6,
   "id": "a0530fdf",
   "metadata": {},
   "outputs": [],
   "source": [
    "class Student:\n",
    "    \n",
    "    def __init__(self, name, age):\n",
    "        \n",
    "        self.name = name\n",
    "        self.age  = age\n",
    "        \n",
    "    def displayInfo(self):  # class method\n",
    "        \n",
    "        print(f\"Student name : {self.name} and Age : {self.age}\")"
   ]
  },
  {
   "cell_type": "code",
   "execution_count": 7,
   "id": "71a16bb5",
   "metadata": {},
   "outputs": [],
   "source": [
    "# we can now invoke the method\n",
    "\n",
    "std = Student(\"Steve\", 25)"
   ]
  },
  {
   "cell_type": "code",
   "execution_count": 8,
   "id": "ff0b4525",
   "metadata": {},
   "outputs": [
    {
     "name": "stdout",
     "output_type": "stream",
     "text": [
      "Student name : Steve and Age : 25\n"
     ]
    }
   ],
   "source": [
    "std.displayInfo()"
   ]
  },
  {
   "cell_type": "markdown",
   "id": "0d69efc7",
   "metadata": {},
   "source": [
    "#### Deleting Attribute, Object, Class\n",
    "\n",
    "You can delete attributes, objects, or the class itself, using the `del` keyword, as shown below."
   ]
  },
  {
   "cell_type": "code",
   "execution_count": 9,
   "id": "2745a8a4",
   "metadata": {},
   "outputs": [],
   "source": [
    "std = Student(\"Steve\", 25)"
   ]
  },
  {
   "cell_type": "code",
   "execution_count": 10,
   "id": "e2996537",
   "metadata": {},
   "outputs": [],
   "source": [
    "del std.name  # deleting attribute"
   ]
  },
  {
   "cell_type": "code",
   "execution_count": 11,
   "id": "4ac14b9b",
   "metadata": {},
   "outputs": [
    {
     "ename": "AttributeError",
     "evalue": "'Student' object has no attribute 'name'",
     "output_type": "error",
     "traceback": [
      "\u001b[1;31m---------------------------------------------------------------------------\u001b[0m",
      "\u001b[1;31mAttributeError\u001b[0m                            Traceback (most recent call last)",
      "Input \u001b[1;32mIn [11]\u001b[0m, in \u001b[0;36m<cell line: 1>\u001b[1;34m()\u001b[0m\n\u001b[1;32m----> 1\u001b[0m \u001b[43mstd\u001b[49m\u001b[38;5;241;43m.\u001b[39;49m\u001b[43mname\u001b[49m\n",
      "\u001b[1;31mAttributeError\u001b[0m: 'Student' object has no attribute 'name'"
     ]
    }
   ],
   "source": [
    "std.name"
   ]
  },
  {
   "cell_type": "code",
   "execution_count": 12,
   "id": "e83a72fb",
   "metadata": {},
   "outputs": [],
   "source": [
    "del std  # deleting  object"
   ]
  },
  {
   "cell_type": "code",
   "execution_count": 13,
   "id": "982b005e",
   "metadata": {},
   "outputs": [
    {
     "ename": "NameError",
     "evalue": "name 'std' is not defined",
     "output_type": "error",
     "traceback": [
      "\u001b[1;31m---------------------------------------------------------------------------\u001b[0m",
      "\u001b[1;31mNameError\u001b[0m                                 Traceback (most recent call last)",
      "Input \u001b[1;32mIn [13]\u001b[0m, in \u001b[0;36m<cell line: 1>\u001b[1;34m()\u001b[0m\n\u001b[1;32m----> 1\u001b[0m \u001b[43mstd\u001b[49m\n",
      "\u001b[1;31mNameError\u001b[0m: name 'std' is not defined"
     ]
    }
   ],
   "source": [
    "std"
   ]
  },
  {
   "cell_type": "code",
   "execution_count": 14,
   "id": "e419da78",
   "metadata": {},
   "outputs": [],
   "source": [
    "del Student   # deleting class "
   ]
  },
  {
   "cell_type": "code",
   "execution_count": 16,
   "id": "592f9fbb",
   "metadata": {},
   "outputs": [
    {
     "ename": "NameError",
     "evalue": "name 'Student' is not defined",
     "output_type": "error",
     "traceback": [
      "\u001b[1;31m---------------------------------------------------------------------------\u001b[0m",
      "\u001b[1;31mNameError\u001b[0m                                 Traceback (most recent call last)",
      "Input \u001b[1;32mIn [16]\u001b[0m, in \u001b[0;36m<cell line: 1>\u001b[1;34m()\u001b[0m\n\u001b[1;32m----> 1\u001b[0m std \u001b[38;5;241m=\u001b[39m \u001b[43mStudent\u001b[49m(\u001b[38;5;124m\"\u001b[39m\u001b[38;5;124mSteve\u001b[39m\u001b[38;5;124m\"\u001b[39m, \u001b[38;5;241m25\u001b[39m)\n",
      "\u001b[1;31mNameError\u001b[0m: name 'Student' is not defined"
     ]
    }
   ],
   "source": [
    "std = Student(\"Steve\", 25)"
   ]
  },
  {
   "cell_type": "code",
   "execution_count": null,
   "id": "18a61a42",
   "metadata": {},
   "outputs": [],
   "source": []
  }
 ],
 "metadata": {
  "kernelspec": {
   "display_name": "Python 3 (ipykernel)",
   "language": "python",
   "name": "python3"
  },
  "language_info": {
   "codemirror_mode": {
    "name": "ipython",
    "version": 3
   },
   "file_extension": ".py",
   "mimetype": "text/x-python",
   "name": "python",
   "nbconvert_exporter": "python",
   "pygments_lexer": "ipython3",
   "version": "3.9.7"
  }
 },
 "nbformat": 4,
 "nbformat_minor": 5
}
