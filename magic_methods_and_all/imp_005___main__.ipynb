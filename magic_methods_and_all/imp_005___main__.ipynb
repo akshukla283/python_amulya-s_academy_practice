{
 "cells": [
  {
   "cell_type": "markdown",
   "id": "039a6028",
   "metadata": {},
   "source": [
    "#### __main__ and __name__ in Python\n",
    "\n",
    "A Program written in languages of C family (C, C++, Java, C# etc.) needs the main() function to indicate the starting point of execution.\n",
    "\n",
    "In Python, on the other hand, there is no concept of the main() function, as it is an interpreter based language and can be equally used in an interactive shell. The Python program file with .py extension contains multiple statements. The execution of the Python program file starts from the first statement.\n",
    "\n",
    "Python includes the special variable called `__name__` that contains the scope of the code being executed as a string.` __main__` is the name of the top-level scope in which top-level code executes.\n",
    "\n",
    "For example, the scope of the code executed in the interpreter shell will be `__main__`, as shown below.\n",
    "\n"
   ]
  },
  {
   "cell_type": "code",
   "execution_count": 1,
   "id": "e003f540",
   "metadata": {},
   "outputs": [
    {
     "data": {
      "text/plain": [
       "'__main__'"
      ]
     },
     "execution_count": 1,
     "metadata": {},
     "output_type": "execute_result"
    }
   ],
   "source": [
    "__name__"
   ]
  },
  {
   "cell_type": "markdown",
   "id": "85537008",
   "metadata": {},
   "source": [
    "All the functions and modules will be executed in the top-level scope `__main___` in the interpreter shell.\n",
    "\n"
   ]
  },
  {
   "cell_type": "code",
   "execution_count": 2,
   "id": "79295102",
   "metadata": {},
   "outputs": [],
   "source": [
    "def f1():\n",
    "    \n",
    "    print(__name__)"
   ]
  },
  {
   "cell_type": "code",
   "execution_count": 3,
   "id": "cf292fc1",
   "metadata": {},
   "outputs": [
    {
     "name": "stdout",
     "output_type": "stream",
     "text": [
      "__main__\n"
     ]
    }
   ],
   "source": [
    "f1()"
   ]
  },
  {
   "cell_type": "markdown",
   "id": "a3367ad1",
   "metadata": {},
   "source": [
    "Even the inner functions are executed in the top-level scope `__main__`:"
   ]
  },
  {
   "cell_type": "code",
   "execution_count": 4,
   "id": "3700551e",
   "metadata": {},
   "outputs": [],
   "source": [
    "def f1():\n",
    "    print(__name__)\n",
    "    def f2():\n",
    "        print(__name__)\n",
    "    return f2()"
   ]
  },
  {
   "cell_type": "code",
   "execution_count": 5,
   "id": "763ee9fa",
   "metadata": {},
   "outputs": [
    {
     "name": "stdout",
     "output_type": "stream",
     "text": [
      "__main__\n",
      "__main__\n"
     ]
    }
   ],
   "source": [
    "f1()"
   ]
  },
  {
   "cell_type": "markdown",
   "id": "2844c4b6",
   "metadata": {},
   "source": [
    "`A Python file can contain multiple functions and statements that can be executed independently`. For example, consider the following `addition.py`:"
   ]
  },
  {
   "cell_type": "code",
   "execution_count": 1,
   "id": "14a68828",
   "metadata": {},
   "outputs": [
    {
     "name": "stdout",
     "output_type": "stream",
     "text": [
      "Enter the first number to add: 20\n",
      "Enter the secode number to add: 21\n",
      "add() executed under the scope:  __main__\n",
      "20 + 21 = 41\n",
      "Code executed under the scope:  __main__\n"
     ]
    }
   ],
   "source": [
    "def add(x,y):\n",
    "    z=x+y\n",
    "    print('add() executed under the scope: ', __name__)\n",
    "    return z\n",
    "\n",
    "x=input('Enter the first number to add: ')\n",
    "y=input('Enter the secode number to add: ')\n",
    "result = add(int(x),int(y))\n",
    "print(x, '+', y,'=', result)\n",
    "print('Code executed under the scope: ', __name__)\n",
    "\n"
   ]
  },
  {
   "cell_type": "markdown",
   "id": "a6cec444",
   "metadata": {},
   "source": [
    "As you can see, the addition.py executed under the top-level scope `__main__.`\n",
    "\n",
    "The addition.py file can be used as a module in another file or in interactive shell by importing it.\n",
    "\n",
    "Let's see what happens when you import the addition module in the interactive shell."
   ]
  },
  {
   "cell_type": "code",
   "execution_count": 2,
   "id": "abbcfa8a",
   "metadata": {},
   "outputs": [
    {
     "name": "stdout",
     "output_type": "stream",
     "text": [
      "Enter the first number to add: 10\n",
      "Enter the secode number to add: 20\n",
      "add() executed under the scope:  addition\n",
      "10 + 20 = 30\n",
      "Code executed under the scope:  addition\n"
     ]
    }
   ],
   "source": [
    "# now let's see after importing 'addition' module\n",
    "\n",
    "import addition"
   ]
  },
  {
   "cell_type": "markdown",
   "id": "0ed7b4cc",
   "metadata": {},
   "source": [
    "As we can see that the `__name__` now returned the imported module name this shows that the module is not `__main__` it's imported."
   ]
  },
  {
   "cell_type": "markdown",
   "id": "bbd5d892",
   "metadata": {},
   "source": [
    "Above, the import statement starts executing from the first statement. But, we only want to use the `add()` method and don't want to execute the other statements.\n",
    "\n",
    "Here we can use the special variable `__name__` to check the scope and execute the statements of the addition2.py file only when it executes from the command prompt/terminal independently but not when imported it in some other file/module. Rewrite the addition2.py, as shown below."
   ]
  },
  {
   "cell_type": "code",
   "execution_count": 3,
   "id": "143a5d37",
   "metadata": {},
   "outputs": [],
   "source": [
    "# def add(x, y):\n",
    "#     z=x+y\n",
    "#     print('add() executed under the scope: ', __name__)\n",
    "#     return z\n",
    "\n",
    "# if __name__ == '__main__':\n",
    "#     x=input('Enter the first number to add: ')\n",
    "#     y=input('Enter the secode number to add: ')\n",
    "#     result = add(int(x),int(y))\n",
    "#     print(x, '+', y,'=', result)\n",
    "#     print('Code executed under the scope: ', __name__)"
   ]
  },
  {
   "cell_type": "markdown",
   "id": "ffedfab1",
   "metadata": {},
   "source": [
    "Above, the if condition check that if the scope is `__main__` then only execute the code that takes user's inputs and adds them.\n",
    "\n",
    "Now, let's see what happens when we import the above addition module in the interactive shell.\n",
    "\n"
   ]
  },
  {
   "cell_type": "code",
   "execution_count": 4,
   "id": "3e70a0b7",
   "metadata": {},
   "outputs": [],
   "source": [
    "import addition2"
   ]
  },
  {
   "cell_type": "code",
   "execution_count": 5,
   "id": "e628a097",
   "metadata": {},
   "outputs": [
    {
     "name": "stdout",
     "output_type": "stream",
     "text": [
      "add() executed under the scope:  addition2\n"
     ]
    },
    {
     "data": {
      "text/plain": [
       "50"
      ]
     },
     "execution_count": 5,
     "metadata": {},
     "output_type": "execute_result"
    }
   ],
   "source": [
    "addition2.add(20, 30)"
   ]
  },
  {
   "cell_type": "markdown",
   "id": "b05c9afa",
   "metadata": {},
   "source": [
    "As we can see that only function got executed not the the other print statements.\n",
    "\n",
    "You can also use the from import statement, as shown below:"
   ]
  },
  {
   "cell_type": "code",
   "execution_count": 6,
   "id": "30cd8126",
   "metadata": {},
   "outputs": [],
   "source": [
    "from addition2 import add"
   ]
  },
  {
   "cell_type": "code",
   "execution_count": 7,
   "id": "0fb4291e",
   "metadata": {},
   "outputs": [
    {
     "name": "stdout",
     "output_type": "stream",
     "text": [
      "add() executed under the scope:  addition2\n"
     ]
    },
    {
     "data": {
      "text/plain": [
       "50"
      ]
     },
     "execution_count": 7,
     "metadata": {},
     "output_type": "execute_result"
    }
   ],
   "source": [
    "add(20, 30)"
   ]
  },
  {
   "cell_type": "markdown",
   "id": "0e1edaec",
   "metadata": {},
   "source": [
    "As you can see, because we used an if condition to check the scope, it does not execute user input codes after importing the addition module, because it executes under the module's scope, which is addition scope. It only imports the `add()` method. The same thing will happen when you import the addition module in other modules.\n",
    "\n",
    "`Now, let's see what happens when you execute it from the command prompt/terminal.`"
   ]
  },
  {
   "cell_type": "markdown",
   "id": "8e2e226c",
   "metadata": {},
   "source": [
    "`E:\\Python_world\\python_amulya-s_academy_practice\\magic_methods_and_all>python addition2.py`\n",
    "\n",
    "`Enter the first number to add: 10`\n",
    "\n",
    "`Enter the secode number to add: 20`\n",
    "\n",
    "`add() executed under the scope:`  `__main__`\n",
    "\n",
    "`10 + 20 = 30`\n",
    "\n",
    "`Code executed under the scope:`  `__main__`\n",
    "\n",
    "`E:\\Python_world\\python_amulya-s_academy_practice\\magic_methods_and_all>`"
   ]
  },
  {
   "cell_type": "markdown",
   "id": "fad04055",
   "metadata": {},
   "source": [
    "### Note: \n",
    "\n",
    "\n",
    "\n",
    "* As you can see, it still executes the same code because of addition.py being executed in the top-level scope `__main__`.\n",
    "\n",
    "\n",
    "* Thus, value of the name allows the Python interpreter to determine whether a module is intended to be an executable script or not. If its value is main, the statements outside function definitions will be executed. If not, the contents of the module are populated in top-level module (or interpreter namespace) without the executable part.\n",
    "\n",
    "\n",
    "* Note: The Python script file executing from the command prompt/terminal will be executed under the top-level scope `__main__` scope. However, importing a module will be executed under the module's own scope. So, the top-level scope will be `__main__`, and the second scope would be module's scope.\n",
    "\n",
    "\n",
    "* Thus, using the special variable `__name__` and the top-level scope `__main__` increases the reusability. The Python script file can be executed from the command prompt/termainal as an indipendent script as well as when imported as a module.\n",
    "\n"
   ]
  },
  {
   "cell_type": "markdown",
   "id": "202124b0",
   "metadata": {},
   "source": [
    "### Python - Built-in Modules\n",
    "\n",
    "The Python interactive shell has a number of built-in functions. They are loaded automatically as a shell starts and are always available, such as `print()` and `input()` for I/O, number conversion functions `int()`, `float()`, `complex()`, data type conversions `list()`, `tuple()`, `set()`, etc.\n",
    "\n",
    "In addition to built-in functions, a large number of pre-defined functions are also available as a part of libraries bundled with Python distributions. These functions are defined in modules are called built-in modules.\n",
    "\n",
    "Built-in modules are written in `C` and integrated with the `Python shell`. Each `built-in module `contains resources for certain system-specific functionalities such as `OS` management, disk IO, etc. The standard library also contains many Python scripts (with the `.py` extension) containing useful utilities.\n",
    "\n",
    "To display a list of all available modules, use the following command in the Python console:"
   ]
  },
  {
   "cell_type": "code",
   "execution_count": 9,
   "id": "4cc30def",
   "metadata": {},
   "outputs": [
    {
     "name": "stdout",
     "output_type": "stream",
     "text": [
      "\n",
      "Please wait a moment while I gather a list of all available modules...\n",
      "\n",
      "IPython             bleach              mimetypes           stack_data\n",
      "Mypackage           bs4                 mistune             stat\n",
      "PIL                 builtins            mmap                statistics\n",
      "__future__          bz2                 mmapfile            string\n",
      "_abc                cProfile            mmsystem            stringprep\n",
      "_aix_support        calc                modulefinder        struct\n",
      "_argon2_cffi_bindings calc2               msilib              subprocess\n",
      "_ast                calendar            msvcrt              sunau\n",
      "_asyncio            certifi             multiprocessing     symbol\n",
      "_bisect             cffi                nbclient            symtable\n",
      "_blake2             cgi                 nbconvert           sys\n",
      "_bootlocale         cgitb               nbformat            sysconfig\n",
      "_bootsubprocess     chunk               nest_asyncio        tabnanny\n",
      "_bz2                cmath               netbios             tarfile\n",
      "_cffi_backend       cmd                 netrc               telnetlib\n",
      "_codecs             cmd2                nntplib             tempfile\n",
      "_codecs_cn          code                nose                terminado\n",
      "_codecs_hk          codecs              notebook            test\n",
      "_codecs_iso2022     codeop              nt                  testpath\n",
      "_codecs_jp          collections         ntpath              textwrap\n",
      "_codecs_kr          colorama            ntsecuritycon       this\n",
      "_codecs_tw          colorsys            nturl2path          threading\n",
      "_collections        commctrl            numbers             time\n",
      "_collections_abc    compileall          numpy               timeit\n",
      "_compat_pickle      concurrent          odbc                timer\n",
      "_compression        configparser        opcode              tkinter\n",
      "_contextvars        contextlib          operator            token\n",
      "_csv                contextvars         optparse            tokenize\n",
      "_ctypes             copy                os                  tomli\n",
      "_ctypes_test        copyreg             outcome             tornado\n",
      "_datetime           crypt               packaging           trace\n",
      "_decimal            csv                 pandocfilters       traceback\n",
      "_distutils_hack     ctypes              parser              tracemalloc\n",
      "_elementtree        curses              parso               traitlets\n",
      "_functools          cycler              pathlib             tty\n",
      "_hashlib            dataclasses         pdb                 turtle\n",
      "_heapq              datetime            perfmon             turtledemo\n",
      "_imp                dateutil            pickle              types\n",
      "_io                 dbi                 pickleshare         typing\n",
      "_json               dbm                 pickletools         unicodedata\n",
      "_locale             dde                 pip                 unittest\n",
      "_lsprof             debugpy             pipes               urllib\n",
      "_lzma               decimal             pkg_resources       urllib3\n",
      "_markupbase         decorator           pkgutil             uu\n",
      "_md5                defusedxml          platform            uuid\n",
      "_msi                demjson             plistlib            venv\n",
      "_multibytecodec     difflib             pluggy              warnings\n",
      "_multiprocessing    dis                 ply                 wave\n",
      "_opcode             distutils           poplib              wcwidth\n",
      "_operator           doctest             posixpath           weakref\n",
      "_osx_support        email               pprint              webbrowser\n",
      "_overlapped         encodings           profile             webencodings\n",
      "_peg_parser         ensurepip           prometheus_client   welcome\n",
      "_pickle             entrypoints         prompt_toolkit      widgetsnbextension\n",
      "_py_abc             enum                pstats              win2kras\n",
      "_pydecimal          errno               psutil              win32api\n",
      "_pyio               executing           pty                 win32clipboard\n",
      "_pyrsistent_version faulthandler        pure_eval           win32com\n",
      "_pytest             filecmp             pvectorc            win32con\n",
      "_queue              fileinput           py                  win32console\n",
      "_random             fnmatch             py_compile          win32cred\n",
      "_sha1               fontTools           pyclbr              win32crypt\n",
      "_sha256             formatter           pycparser           win32cryptcon\n",
      "_sha3               fractions           pydoc               win32event\n",
      "_sha512             ftplib              pydoc_data          win32evtlog\n",
      "_signal             functools           pyexpat             win32evtlogutil\n",
      "_sitebuiltins       gc                  pygments            win32file\n",
      "_socket             genericpath         pylab               win32gui\n",
      "_sqlite3            getopt              pyparsing           win32gui_struct\n",
      "_sre                getpass             pyperclip           win32help\n",
      "_ssl                gettext             pyreadline3         win32inet\n",
      "_stat               glob                pyrsistent          win32inetcon\n",
      "_statistics         graphlib            pytest              win32job\n",
      "_string             gzip                pythoncom           win32lz\n",
      "_strptime           hashlib             pytz                win32net\n",
      "_struct             heapq               pywin               win32netcon\n",
      "_symtable           hello               pywin32_bootstrap   win32pdh\n",
      "_testbuffer         hmac                pywin32_testutil    win32pdhquery\n",
      "_testcapi           html                pywintypes          win32pdhutil\n",
      "_testconsole        http                qtconsole           win32pipe\n",
      "_testimportmultiple idlelib             qtpy                win32print\n",
      "_testinternalcapi   imaplib             queue               win32process\n",
      "_testmultiphase     imghdr              quopri              win32profile\n",
      "_thread             imp                 random              win32ras\n",
      "_threading_local    importlib           rasutil             win32rcparser\n",
      "_tkinter            iniconfig           re                  win32security\n",
      "_tracemalloc        inspect             readline            win32service\n",
      "_uuid               io                  regcheck            win32serviceutil\n",
      "_warnings           ipaddress           regutil             win32timezone\n",
      "_weakref            ipykernel           reprlib             win32trace\n",
      "_weakrefset         ipykernel_launcher  rlcompleter         win32traceutil\n",
      "_win32sysloader     ipytest             runpy               win32transaction\n",
      "_winapi             ipython_genutils    sched               win32ts\n",
      "_winxptheme         ipywidgets          secrets             win32ui\n",
      "_xxsubinterpreters  isapi               select              win32uiole\n",
      "_zoneinfo           itertools           selectors           win32verstamp\n",
      "abc                 jedi                send2trash          win32wnet\n",
      "addition            jinja2              servicemanager      winerror\n",
      "addition2           json                setuptools          winioctlcon\n",
      "adodbapi            jsonschema          shelve              winnt\n",
      "afxres              jupyter             shlex               winperf\n",
      "aifc                jupyter_client      shutil              winpty\n",
      "antigravity         jupyter_console     signal              winreg\n",
      "argon2              jupyter_core        site                winsound\n",
      "argparse            jupyterlab_pygments six                 winxpgui\n",
      "array               jupyterlab_widgets  smtpd               winxptheme\n",
      "ast                 jupyterthemes       smtplib             wsgiref\n",
      "asttokens           keyword             sndhdr              xdrlib\n",
      "asynchat            kiwisolver          sniffio             xlrd\n",
      "asyncio             lesscpy             socket              xml\n",
      "asyncore            lib2to3             socketserver        xmlrpc\n",
      "atexit              linecache           socks               xmltodict\n",
      "atomicwrites        locale              sockshandler        xxsubtype\n",
      "attr                logging             sortedcontainers    zipapp\n",
      "attrs               lzma                soupsieve           zipfile\n",
      "audioop             mailbox             sqlite3             zipimport\n",
      "backcall            mailcap             sre_compile         zlib\n",
      "base64              markupsafe          sre_constants       zmq\n",
      "bdb                 marshal             sre_parse           zoneinfo\n",
      "binascii            math                ssl                 \n",
      "binhex              matplotlib          sspi                \n",
      "bisect              matplotlib_inline   sspicon             \n",
      "\n",
      "Enter any module name to get more help.  Or, type \"modules spam\" to search\n",
      "for modules whose name or summary contain the string \"spam\".\n",
      "\n"
     ]
    }
   ],
   "source": [
    "help(\"modules\")"
   ]
  },
  {
   "cell_type": "code",
   "execution_count": null,
   "id": "15ffce12",
   "metadata": {},
   "outputs": [],
   "source": []
  }
 ],
 "metadata": {
  "kernelspec": {
   "display_name": "Python 3 (ipykernel)",
   "language": "python",
   "name": "python3"
  },
  "language_info": {
   "codemirror_mode": {
    "name": "ipython",
    "version": 3
   },
   "file_extension": ".py",
   "mimetype": "text/x-python",
   "name": "python",
   "nbconvert_exporter": "python",
   "pygments_lexer": "ipython3",
   "version": "3.9.7"
  }
 },
 "nbformat": 4,
 "nbformat_minor": 5
}
