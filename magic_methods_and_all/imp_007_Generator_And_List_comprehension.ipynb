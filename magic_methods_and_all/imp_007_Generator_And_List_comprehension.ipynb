{
 "cells": [
  {
   "cell_type": "markdown",
   "id": "37f93a91",
   "metadata": {},
   "source": [
    "### Python - Generator Functions\n",
    "\n",
    "Python provides a generator to create your own iterator function. A generator is a special type of function which does not return a single value, instead, it returns an iterator object with a sequence of values. In a generator function, a yield statement is used rather than a return statement. The following is a simple generator function."
   ]
  },
  {
   "cell_type": "code",
   "execution_count": 1,
   "id": "a91c0a05",
   "metadata": {},
   "outputs": [],
   "source": [
    "def mygenerator():\n",
    "    print('First item')\n",
    "    yield 10\n",
    "\n",
    "    print('Second item')\n",
    "    yield 20\n",
    "\n",
    "    print('Last item')\n",
    "    yield 30"
   ]
  },
  {
   "cell_type": "markdown",
   "id": "057fe1ff",
   "metadata": {},
   "source": [
    "In the above example, the `mygenerator()` function is a generator function. It uses `yield instead of return keyword.` So, this will return the value against the `yield` keyword each time it is called. However, you need to create an iterator for this function, as shown below.\n",
    "\n"
   ]
  },
  {
   "cell_type": "code",
   "execution_count": 2,
   "id": "8b8f9b11",
   "metadata": {},
   "outputs": [],
   "source": [
    "gen = mygenerator()"
   ]
  },
  {
   "cell_type": "code",
   "execution_count": 3,
   "id": "d74ec2e1",
   "metadata": {},
   "outputs": [
    {
     "name": "stdout",
     "output_type": "stream",
     "text": [
      "First item\n"
     ]
    },
    {
     "data": {
      "text/plain": [
       "10"
      ]
     },
     "execution_count": 3,
     "metadata": {},
     "output_type": "execute_result"
    }
   ],
   "source": [
    "next(gen)"
   ]
  },
  {
   "cell_type": "code",
   "execution_count": 4,
   "id": "8a7c13bc",
   "metadata": {},
   "outputs": [
    {
     "name": "stdout",
     "output_type": "stream",
     "text": [
      "Second item\n"
     ]
    },
    {
     "data": {
      "text/plain": [
       "20"
      ]
     },
     "execution_count": 4,
     "metadata": {},
     "output_type": "execute_result"
    }
   ],
   "source": [
    "next(gen)"
   ]
  },
  {
   "cell_type": "code",
   "execution_count": 5,
   "id": "2ae02868",
   "metadata": {},
   "outputs": [
    {
     "name": "stdout",
     "output_type": "stream",
     "text": [
      "Last item\n"
     ]
    },
    {
     "data": {
      "text/plain": [
       "30"
      ]
     },
     "execution_count": 5,
     "metadata": {},
     "output_type": "execute_result"
    }
   ],
   "source": [
    "next(gen)"
   ]
  },
  {
   "cell_type": "markdown",
   "id": "b5dcc01d",
   "metadata": {},
   "source": [
    "`The generator function cannot include the return keyword. If you include it, then it will terminate the function. The difference between yield and return is that yield returns a value and pauses the execution while maintaining the internal states, whereas the return statement returns a value and terminates the execution of the function.`"
   ]
  },
  {
   "cell_type": "markdown",
   "id": "005ba55f",
   "metadata": {},
   "source": [
    "`The following generator function includes the return keyword.`\n",
    "\n",
    "Example: `return in Generator Function`"
   ]
  },
  {
   "cell_type": "code",
   "execution_count": 6,
   "id": "91567533",
   "metadata": {},
   "outputs": [],
   "source": [
    "def mygenerator():\n",
    "    print('First item')\n",
    "    yield 10\n",
    "\n",
    "    return\n",
    "\n",
    "    print('Second item')\n",
    "    yield 20\n",
    "\n",
    "    print('Last item')\n",
    "    yield 30"
   ]
  },
  {
   "cell_type": "markdown",
   "id": "ea0b3284",
   "metadata": {},
   "source": [
    "Now, execute the above function as shown below."
   ]
  },
  {
   "cell_type": "code",
   "execution_count": 7,
   "id": "cf51d7fd",
   "metadata": {},
   "outputs": [],
   "source": [
    "gen = mygenerator()"
   ]
  },
  {
   "cell_type": "code",
   "execution_count": 8,
   "id": "d742e357",
   "metadata": {},
   "outputs": [
    {
     "name": "stdout",
     "output_type": "stream",
     "text": [
      "First item\n"
     ]
    },
    {
     "data": {
      "text/plain": [
       "10"
      ]
     },
     "execution_count": 8,
     "metadata": {},
     "output_type": "execute_result"
    }
   ],
   "source": [
    "next(gen)"
   ]
  },
  {
   "cell_type": "code",
   "execution_count": 9,
   "id": "75bcb886",
   "metadata": {},
   "outputs": [
    {
     "ename": "StopIteration",
     "evalue": "",
     "output_type": "error",
     "traceback": [
      "\u001b[1;31m---------------------------------------------------------------------------\u001b[0m",
      "\u001b[1;31mStopIteration\u001b[0m                             Traceback (most recent call last)",
      "Input \u001b[1;32mIn [9]\u001b[0m, in \u001b[0;36m<cell line: 1>\u001b[1;34m()\u001b[0m\n\u001b[1;32m----> 1\u001b[0m \u001b[38;5;28;43mnext\u001b[39;49m\u001b[43m(\u001b[49m\u001b[43mgen\u001b[49m\u001b[43m)\u001b[49m\n",
      "\u001b[1;31mStopIteration\u001b[0m: "
     ]
    }
   ],
   "source": [
    "next(gen)"
   ]
  },
  {
   "cell_type": "markdown",
   "id": "64889bda",
   "metadata": {},
   "source": [
    "As we can see, the above generator stops executing after getting the first item because the return keyword is used after yielding the first item."
   ]
  },
  {
   "cell_type": "markdown",
   "id": "ef18e13a",
   "metadata": {},
   "source": [
    "#### Using for Loop with Generator Function\n",
    "The generator function can also use the for loop."
   ]
  },
  {
   "cell_type": "code",
   "execution_count": 10,
   "id": "bebeb96f",
   "metadata": {},
   "outputs": [],
   "source": [
    "\n",
    "def get_sequence_upto(x):\n",
    "    for i in range(x):\n",
    "        yield i"
   ]
  },
  {
   "cell_type": "markdown",
   "id": "d07d6931",
   "metadata": {},
   "source": [
    "As you can see above, the `get_sequence_upto` function uses the yield keyword. The generator is called just like a normal function. However, its execution is paused on encountering the yield keyword. This sends the first value of the iterator stream to the calling environment. However, local variables and their states are saved internally.\n",
    "\n",
    "The above generator function `get_sequence_upto()` can be called as below."
   ]
  },
  {
   "cell_type": "code",
   "execution_count": 11,
   "id": "87e22e6b",
   "metadata": {},
   "outputs": [],
   "source": [
    "gen = get_sequence_upto(5)"
   ]
  },
  {
   "cell_type": "code",
   "execution_count": 12,
   "id": "fe3d0f88",
   "metadata": {},
   "outputs": [
    {
     "data": {
      "text/plain": [
       "0"
      ]
     },
     "execution_count": 12,
     "metadata": {},
     "output_type": "execute_result"
    }
   ],
   "source": [
    "next(gen)"
   ]
  },
  {
   "cell_type": "code",
   "execution_count": 13,
   "id": "12089e09",
   "metadata": {},
   "outputs": [
    {
     "data": {
      "text/plain": [
       "1"
      ]
     },
     "execution_count": 13,
     "metadata": {},
     "output_type": "execute_result"
    }
   ],
   "source": [
    "next(gen)"
   ]
  },
  {
   "cell_type": "code",
   "execution_count": 14,
   "id": "e5f42b29",
   "metadata": {},
   "outputs": [
    {
     "data": {
      "text/plain": [
       "2"
      ]
     },
     "execution_count": 14,
     "metadata": {},
     "output_type": "execute_result"
    }
   ],
   "source": [
    "next(gen)"
   ]
  },
  {
   "cell_type": "code",
   "execution_count": 15,
   "id": "3bb135e2",
   "metadata": {},
   "outputs": [
    {
     "data": {
      "text/plain": [
       "3"
      ]
     },
     "execution_count": 15,
     "metadata": {},
     "output_type": "execute_result"
    }
   ],
   "source": [
    "next(gen)"
   ]
  },
  {
   "cell_type": "code",
   "execution_count": 16,
   "id": "d4538883",
   "metadata": {},
   "outputs": [
    {
     "data": {
      "text/plain": [
       "4"
      ]
     },
     "execution_count": 16,
     "metadata": {},
     "output_type": "execute_result"
    }
   ],
   "source": [
    "next(gen)"
   ]
  },
  {
   "cell_type": "code",
   "execution_count": 17,
   "id": "6ad03e45",
   "metadata": {},
   "outputs": [
    {
     "ename": "StopIteration",
     "evalue": "",
     "output_type": "error",
     "traceback": [
      "\u001b[1;31m---------------------------------------------------------------------------\u001b[0m",
      "\u001b[1;31mStopIteration\u001b[0m                             Traceback (most recent call last)",
      "Input \u001b[1;32mIn [17]\u001b[0m, in \u001b[0;36m<cell line: 1>\u001b[1;34m()\u001b[0m\n\u001b[1;32m----> 1\u001b[0m \u001b[38;5;28;43mnext\u001b[39;49m\u001b[43m(\u001b[49m\u001b[43mgen\u001b[49m\u001b[43m)\u001b[49m\n",
      "\u001b[1;31mStopIteration\u001b[0m: "
     ]
    }
   ],
   "source": [
    "next(gen)"
   ]
  },
  {
   "cell_type": "markdown",
   "id": "51b39e07",
   "metadata": {},
   "source": [
    "The function resumes when `next()` is issued to the iterator object. The function finally terminates when `next()` encounters the StopIteration error.\n",
    "\n",
    "In the following example, function `square_of_sequence()` acts as a generator. It yields the square of a number successively on every call of `next()`."
   ]
  },
  {
   "cell_type": "code",
   "execution_count": 18,
   "id": "5717f05c",
   "metadata": {},
   "outputs": [],
   "source": [
    "\n",
    "def square_of_sequence(x):\n",
    "    for i in range(x):\n",
    "        yield i*i"
   ]
  },
  {
   "cell_type": "markdown",
   "id": "8e9539f6",
   "metadata": {},
   "source": [
    "The following script shows how to call the above generator function."
   ]
  },
  {
   "cell_type": "code",
   "execution_count": 19,
   "id": "6c522a12",
   "metadata": {},
   "outputs": [
    {
     "name": "stdout",
     "output_type": "stream",
     "text": [
      "Received on next():  0\n",
      "Received on next():  1\n",
      "Received on next():  4\n",
      "Received on next():  9\n",
      "Received on next():  16\n"
     ]
    }
   ],
   "source": [
    "gen=square_of_sequence(5)\n",
    "\n",
    "while True:\n",
    "    try:\n",
    "        print (\"Received on next(): \", next(gen))\n",
    "    except StopIteration:\n",
    "        break"
   ]
  },
  {
   "cell_type": "markdown",
   "id": "2764f76b",
   "metadata": {},
   "source": [
    "The above script uses the try..except block to handle the StopIteration error. It will break the while loop once it catches the StopIteration error."
   ]
  },
  {
   "cell_type": "markdown",
   "id": "8f342326",
   "metadata": {},
   "source": [
    "We can use the for loop to traverse the elements over the generator. In this case, the next() function is called implicitly and the StopIteration is also automatically taken care of."
   ]
  },
  {
   "cell_type": "code",
   "execution_count": 20,
   "id": "2229f9b6",
   "metadata": {},
   "outputs": [
    {
     "name": "stdout",
     "output_type": "stream",
     "text": [
      "0\n",
      "1\n",
      "4\n",
      "9\n",
      "16\n"
     ]
    }
   ],
   "source": [
    "\n",
    "squres = square_of_sequence(5)\n",
    "\n",
    "for sqr in squres:\n",
    "    print(sqr)"
   ]
  },
  {
   "cell_type": "markdown",
   "id": "1a56de42",
   "metadata": {},
   "source": [
    "#### note \n",
    "\n",
    "One of the advantages of the generator over the iterator is that elements are generated dynamically. Since the next item is generated only after the first is consumed, it is more memory efficient than the iterator."
   ]
  },
  {
   "cell_type": "markdown",
   "id": "8b08703e",
   "metadata": {},
   "source": [
    "#### Generator Expression\n",
    "Python also provides a generator expression, which is a shorter way of defining simple generator functions. The generator expression is an anonymous generator function. The following is a generator expression for the `square_of_sequence()` function."
   ]
  },
  {
   "cell_type": "code",
   "execution_count": 23,
   "id": "38d8395c",
   "metadata": {},
   "outputs": [],
   "source": [
    "squres = (x*x for x in range(5))"
   ]
  },
  {
   "cell_type": "code",
   "execution_count": 25,
   "id": "6680179f",
   "metadata": {},
   "outputs": [
    {
     "name": "stdout",
     "output_type": "stream",
     "text": [
      "0\n"
     ]
    }
   ],
   "source": [
    "print(next(squres))        "
   ]
  },
  {
   "cell_type": "code",
   "execution_count": 26,
   "id": "32c98934",
   "metadata": {},
   "outputs": [
    {
     "name": "stdout",
     "output_type": "stream",
     "text": [
      "1\n"
     ]
    }
   ],
   "source": [
    "print(next(squres))        "
   ]
  },
  {
   "cell_type": "code",
   "execution_count": 27,
   "id": "0516f973",
   "metadata": {},
   "outputs": [
    {
     "name": "stdout",
     "output_type": "stream",
     "text": [
      "4\n"
     ]
    }
   ],
   "source": [
    "print(next(squres))        "
   ]
  },
  {
   "cell_type": "code",
   "execution_count": 28,
   "id": "cc34eef6",
   "metadata": {},
   "outputs": [
    {
     "name": "stdout",
     "output_type": "stream",
     "text": [
      "9\n"
     ]
    }
   ],
   "source": [
    "print(next(squres))        "
   ]
  },
  {
   "cell_type": "code",
   "execution_count": 29,
   "id": "3553e140",
   "metadata": {},
   "outputs": [
    {
     "name": "stdout",
     "output_type": "stream",
     "text": [
      "16\n"
     ]
    }
   ],
   "source": [
    "print(next(squres))        "
   ]
  },
  {
   "cell_type": "markdown",
   "id": "695a9c6a",
   "metadata": {},
   "source": [
    "In the above example, `(x*x for x in range(5))` is a generator expression. The first part of an expression is the yield value and the second part is the for loop with the collection.\n",
    "\n",
    "The generator expression can also be passed in a function. It should be passed without parentheses, as shown below.\n",
    "\n"
   ]
  },
  {
   "cell_type": "code",
   "execution_count": 31,
   "id": "492efca5",
   "metadata": {},
   "outputs": [
    {
     "data": {
      "text/plain": [
       "30"
      ]
     },
     "execution_count": 31,
     "metadata": {},
     "output_type": "execute_result"
    }
   ],
   "source": [
    "import math\n",
    "sum(x*x for x in range(5)) "
   ]
  },
  {
   "cell_type": "markdown",
   "id": "0bf30a83",
   "metadata": {},
   "source": [
    "\n",
    "In the above example, a generator expression is passed without parentheses into the built-in function sum."
   ]
  },
  {
   "cell_type": "markdown",
   "id": "eb1a20dc",
   "metadata": {},
   "source": [
    "### Python - List Comprehension\n",
    "\n",
    "`List comprehension in Python is an easy and compact syntax for creating a list from a string or another list. It is a very concise way to create a new list by performing an operation on each item in the existing list. List comprehension is considerably faster than processing a list using the for loop.`\n",
    "\n",
    " List Comprehension Syntax:\n",
    "\n",
    "\n",
    "`[expression for element in iterable if condition]`\n",
    "\n",
    "`As per the above syntax, the list comprehension syntax contains three parts: an expression, one or more for loop, and optionally, one or more if conditions. The list comprehension must be in the square brackets []. The result of the first expression will be stored in the new list. The for loop is used to iterate over the iterable object that optionally includes the if condition.`\n",
    "\n",
    "`Suppose we want to find even numbers from 0 to 20 then we can do it using a for loop, as shown below:`"
   ]
  },
  {
   "cell_type": "code",
   "execution_count": 32,
   "id": "0e744a5d",
   "metadata": {},
   "outputs": [
    {
     "name": "stdout",
     "output_type": "stream",
     "text": [
      "[0, 2, 4, 6, 8, 10, 12, 14, 16, 18, 20]\n"
     ]
    }
   ],
   "source": [
    "even_nums = []\n",
    "for x in range(21):\n",
    "    if x%2 == 0:\n",
    "        even_nums.append(x)\n",
    "print(even_nums)"
   ]
  },
  {
   "cell_type": "markdown",
   "id": "9ba5f9f2",
   "metadata": {},
   "source": [
    "The same result can be easily achieved using a list comprehension technique shown below."
   ]
  },
  {
   "cell_type": "code",
   "execution_count": 33,
   "id": "a9060d8b",
   "metadata": {},
   "outputs": [
    {
     "data": {
      "text/plain": [
       "[0, 2, 4, 6, 8, 10, 12, 14, 16, 18, 20]"
      ]
     },
     "execution_count": 33,
     "metadata": {},
     "output_type": "execute_result"
    }
   ],
   "source": [
    "even_nums = [x for x in range(21) if x % 2 == 0]\n",
    "even_nums"
   ]
  },
  {
   "cell_type": "markdown",
   "id": "b2c3ac51",
   "metadata": {},
   "source": [
    "In the above example, `[x for x in range(21) if x%2 == 0] `returns a new list using the list comprehension. First, it executes the for loop for x in range(21) if `x%2 == 0`. The element x would be returned if the specified condition if `x%2 == 0` evaluates to True. If the condition evaluates to True, then the expression before for loop would be executed and stored in the new list. Here, expression x simply stores the value of x into a new list.\n",
    "\n",
    "List comprehension works with string lists also. The following creates a new list of strings that contains 'a'."
   ]
  },
  {
   "cell_type": "code",
   "execution_count": 34,
   "id": "b70cf699",
   "metadata": {},
   "outputs": [
    {
     "name": "stdout",
     "output_type": "stream",
     "text": [
      "['Ram', 'Mohan']\n"
     ]
    }
   ],
   "source": [
    "\n",
    "names = ['Steve', 'Bill', 'Ram', 'Mohan', 'Abdul']\n",
    "names2 = [s for s in names if 'a' in s]\n",
    "print(names2)"
   ]
  },
  {
   "cell_type": "code",
   "execution_count": 35,
   "id": "64621ae1",
   "metadata": {},
   "outputs": [
    {
     "data": {
      "text/plain": [
       "[0, 1, 4, 9, 16, 25, 36, 49, 64, 81, 100]"
      ]
     },
     "execution_count": 35,
     "metadata": {},
     "output_type": "execute_result"
    }
   ],
   "source": [
    "squares = [x*x for x in range(11)]\n",
    "squares"
   ]
  },
  {
   "cell_type": "markdown",
   "id": "05867cb1",
   "metadata": {},
   "source": [
    "### List Comprehension using Nested Loops\n",
    "It is possible to use nested loops in a list comprehension expression. In the following example, all combinations of items from two lists in the form of a tuple are added in a third list object."
   ]
  },
  {
   "cell_type": "code",
   "execution_count": 36,
   "id": "b4d99294",
   "metadata": {},
   "outputs": [
    {
     "data": {
      "text/plain": [
       "[(1, 5),\n",
       " (1, 6),\n",
       " (1, 7),\n",
       " (1, 8),\n",
       " (2, 5),\n",
       " (2, 6),\n",
       " (2, 7),\n",
       " (2, 8),\n",
       " (3, 5),\n",
       " (3, 6),\n",
       " (3, 7),\n",
       " (3, 8),\n",
       " (4, 5),\n",
       " (4, 6),\n",
       " (4, 7),\n",
       " (4, 8)]"
      ]
     },
     "execution_count": 36,
     "metadata": {},
     "output_type": "execute_result"
    }
   ],
   "source": [
    "nums1 = [1,2,3,4]\n",
    "nums2 = [5,6,7,8]\n",
    "\n",
    "nums = [(x, y) for x in nums1 for y in nums2]\n",
    "nums"
   ]
  },
  {
   "cell_type": "markdown",
   "id": "60e6b8f5",
   "metadata": {},
   "source": [
    "### List Comprehension with Multiple if Conditions\n",
    "\n",
    "\n",
    "We can use nested if conditions with a list comprehension."
   ]
  },
  {
   "cell_type": "code",
   "execution_count": 38,
   "id": "0e5dfad7",
   "metadata": {},
   "outputs": [
    {
     "name": "stdout",
     "output_type": "stream",
     "text": [
      "[0, 10, 20]\n"
     ]
    }
   ],
   "source": [
    "nums = [x for x in range(21) if x%2==0 if x%5 == 0]\n",
    "print(nums)"
   ]
  },
  {
   "cell_type": "code",
   "execution_count": 39,
   "id": "e242776a",
   "metadata": {},
   "outputs": [
    {
     "name": "stdout",
     "output_type": "stream",
     "text": [
      "[0, 10, 20]\n"
     ]
    }
   ],
   "source": [
    "nums = [x for x in range(21) if x%2==0 and x%5 == 0]\n",
    "print(nums)"
   ]
  },
  {
   "cell_type": "markdown",
   "id": "acfcb2c4",
   "metadata": {},
   "source": [
    "#### List Comprehension with if-else Condition\n",
    "\n",
    "The following example demonstrates the if..else loop with a list comprehension."
   ]
  },
  {
   "cell_type": "code",
   "execution_count": 42,
   "id": "4cd30a1d",
   "metadata": {},
   "outputs": [
    {
     "name": "stdout",
     "output_type": "stream",
     "text": [
      "['even', 'odd', 'even', 'odd', 'even']\n"
     ]
    }
   ],
   "source": [
    "odd_even_list = [\"odd\" if x%2 != 0 else \"even\" for x in range(5)]\n",
    "print(odd_even_list)"
   ]
  },
  {
   "cell_type": "code",
   "execution_count": 43,
   "id": "4aa1a087",
   "metadata": {},
   "outputs": [
    {
     "name": "stdout",
     "output_type": "stream",
     "text": [
      "['even', 'odd', 'even', 'odd', 'even']\n"
     ]
    }
   ],
   "source": [
    "# or one more way we can write it \n",
    "\n",
    "odd_even_list = [\"even\" if x%2 == 0 else \"odd\" for x in range(5)]\n",
    "print(odd_even_list)"
   ]
  },
  {
   "cell_type": "code",
   "execution_count": 47,
   "id": "7adf2584",
   "metadata": {},
   "outputs": [
    {
     "data": {
      "text/plain": [
       "['0 = even', '1 = odd', '2 = even', '3 = odd', '4 = even']"
      ]
     },
     "execution_count": 47,
     "metadata": {},
     "output_type": "execute_result"
    }
   ],
   "source": [
    "odd_even_list = [str(i) + \" = even\" if i%2==0 else  str(i)+\" = odd\" for i in range(5)]\n",
    "odd_even_list"
   ]
  },
  {
   "cell_type": "markdown",
   "id": "248194f0",
   "metadata": {},
   "source": [
    "#### Flatten List using List Comprehension\n",
    "One of the applications of list comprehension is to flatten a list comprising of multiple lists into a single list.\n",
    "\n"
   ]
  },
  {
   "cell_type": "code",
   "execution_count": 48,
   "id": "764be16b",
   "metadata": {},
   "outputs": [
    {
     "name": "stdout",
     "output_type": "stream",
     "text": [
      "[1, 2, 3, 4, 5, 6, 7, 8, 9]\n"
     ]
    }
   ],
   "source": [
    "matrix=[[1, 2, 3], [4, 5, 6], [7, 8, 9]]\n",
    "flatList=[num for row in matrix for num in row]\n",
    "\n",
    "print(flatList)"
   ]
  },
  {
   "cell_type": "code",
   "execution_count": 50,
   "id": "13f6d7b4",
   "metadata": {},
   "outputs": [
    {
     "data": {
      "text/plain": [
       "[1, 2, 3, 4, 5, 6, 7, 8, 9]"
      ]
     },
     "execution_count": 50,
     "metadata": {},
     "output_type": "execute_result"
    }
   ],
   "source": [
    "matrix=[[1, 2, 3], [4, 5, 6], [7, 8, 9]]\n",
    "\n",
    "[x for x in matrix for x in x]"
   ]
  },
  {
   "cell_type": "code",
   "execution_count": 51,
   "id": "e74978cb",
   "metadata": {},
   "outputs": [
    {
     "data": {
      "text/plain": [
       "[1, 2, 3, 4, 5, 6, 7, 8, 9, 'a', 'b', 'c', 'd']"
      ]
     },
     "execution_count": 51,
     "metadata": {},
     "output_type": "execute_result"
    }
   ],
   "source": [
    "matrix=[[1, 2, 3], [4, 5, 6], [7, 8, 9],['a', 'b', 'c', 'd']]\n",
    "\n",
    "[x for x in matrix for x in x]"
   ]
  },
  {
   "cell_type": "code",
   "execution_count": null,
   "id": "6a75a8e2",
   "metadata": {},
   "outputs": [],
   "source": []
  }
 ],
 "metadata": {
  "kernelspec": {
   "display_name": "Python 3 (ipykernel)",
   "language": "python",
   "name": "python3"
  },
  "language_info": {
   "codemirror_mode": {
    "name": "ipython",
    "version": 3
   },
   "file_extension": ".py",
   "mimetype": "text/x-python",
   "name": "python",
   "nbconvert_exporter": "python",
   "pygments_lexer": "ipython3",
   "version": "3.9.7"
  }
 },
 "nbformat": 4,
 "nbformat_minor": 5
}
