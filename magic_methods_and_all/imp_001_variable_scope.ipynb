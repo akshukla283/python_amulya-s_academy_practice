{
 "cells": [
  {
   "cell_type": "markdown",
   "id": "325ca068",
   "metadata": {},
   "source": [
    "#### Variable Scope in Python\n",
    "In general, a variable that is defined in a block is available in that block only. It is not accessible outside the block. Such a variable is called a local variable. Formal argument identifiers also behave as local variables.\n",
    "\n",
    "The following example will underline this point. An attempt to print a local variable outside its scope will raise the NameError exception."
   ]
  },
  {
   "cell_type": "code",
   "execution_count": 1,
   "id": "c005b2ca",
   "metadata": {},
   "outputs": [],
   "source": [
    "def greet():\n",
    "    name = \"Steve\"\n",
    "    print(\"Hello\",name)"
   ]
  },
  {
   "cell_type": "code",
   "execution_count": 2,
   "id": "f4c53569",
   "metadata": {},
   "outputs": [
    {
     "name": "stdout",
     "output_type": "stream",
     "text": [
      "Hello Steve\n"
     ]
    }
   ],
   "source": [
    "greet()"
   ]
  },
  {
   "cell_type": "code",
   "execution_count": 3,
   "id": "ddf81f9b",
   "metadata": {},
   "outputs": [
    {
     "ename": "NameError",
     "evalue": "name 'name' is not defined",
     "output_type": "error",
     "traceback": [
      "\u001b[1;31m---------------------------------------------------------------------------\u001b[0m",
      "\u001b[1;31mNameError\u001b[0m                                 Traceback (most recent call last)",
      "Input \u001b[1;32mIn [3]\u001b[0m, in \u001b[0;36m<cell line: 2>\u001b[1;34m()\u001b[0m\n\u001b[0;32m      1\u001b[0m \u001b[38;5;66;03m# but we can't access the name outside local variable\u001b[39;00m\n\u001b[1;32m----> 2\u001b[0m \u001b[43mname\u001b[49m\n",
      "\u001b[1;31mNameError\u001b[0m: name 'name' is not defined"
     ]
    }
   ],
   "source": [
    "# but we can't access the name outside local variable\n",
    "name"
   ]
  },
  {
   "cell_type": "markdown",
   "id": "28a51107",
   "metadata": {},
   "source": [
    "* Any variable present outside any function block is called a `global variable`. Its value is accessible from inside any function. In the following example, the name variable is initialized before the function definition. Hence, it is a global variable."
   ]
  },
  {
   "cell_type": "code",
   "execution_count": 4,
   "id": "44a9df5a",
   "metadata": {},
   "outputs": [],
   "source": [
    "name = \"Steve\"\n",
    "def greet():\n",
    "    \n",
    "    print(\"Hello\",name)"
   ]
  },
  {
   "cell_type": "code",
   "execution_count": 5,
   "id": "32f0a903",
   "metadata": {},
   "outputs": [
    {
     "name": "stdout",
     "output_type": "stream",
     "text": [
      "Hello Steve\n"
     ]
    }
   ],
   "source": [
    "greet()"
   ]
  },
  {
   "cell_type": "code",
   "execution_count": 6,
   "id": "ecbc3e16",
   "metadata": {},
   "outputs": [
    {
     "data": {
      "text/plain": [
       "'Steve'"
      ]
     },
     "execution_count": 6,
     "metadata": {},
     "output_type": "execute_result"
    }
   ],
   "source": [
    "# above 'name' is at global scope so it will be accessible \n",
    "\n",
    "name"
   ]
  },
  {
   "cell_type": "markdown",
   "id": "0b98f358",
   "metadata": {},
   "source": [
    "Local and Global Variables"
   ]
  },
  {
   "cell_type": "code",
   "execution_count": 7,
   "id": "793b2512",
   "metadata": {},
   "outputs": [],
   "source": [
    "name = 'Steve'\n",
    "def greet():\n",
    "    name = 'Bill'\n",
    "    print('Hello ', name)"
   ]
  },
  {
   "cell_type": "code",
   "execution_count": 8,
   "id": "5e27883c",
   "metadata": {},
   "outputs": [
    {
     "name": "stdout",
     "output_type": "stream",
     "text": [
      "Hello  Bill\n"
     ]
    }
   ],
   "source": [
    "greet()"
   ]
  },
  {
   "cell_type": "code",
   "execution_count": 9,
   "id": "9ce9748c",
   "metadata": {},
   "outputs": [
    {
     "data": {
      "text/plain": [
       "'Steve'"
      ]
     },
     "execution_count": 9,
     "metadata": {},
     "output_type": "execute_result"
    }
   ],
   "source": [
    "name"
   ]
  },
  {
   "cell_type": "markdown",
   "id": "a6ecf554",
   "metadata": {},
   "source": [
    "#### global\n",
    "* If you need to access and change the value of the global variable from within a function, this permission is granted by the global keyword."
   ]
  },
  {
   "cell_type": "code",
   "execution_count": 11,
   "id": "ace79aa8",
   "metadata": {},
   "outputs": [],
   "source": [
    "name = 'Steve'\n",
    "def greet():\n",
    "    global name\n",
    "    name = 'Bill'\n",
    "    print('Hello ', name)"
   ]
  },
  {
   "cell_type": "code",
   "execution_count": 12,
   "id": "5dd15bdd",
   "metadata": {},
   "outputs": [
    {
     "name": "stdout",
     "output_type": "stream",
     "text": [
      "Hello  Bill\n"
     ]
    }
   ],
   "source": [
    "greet()"
   ]
  },
  {
   "cell_type": "code",
   "execution_count": 14,
   "id": "7b3e9f2f",
   "metadata": {},
   "outputs": [
    {
     "data": {
      "text/plain": [
       "'Bill'"
      ]
     },
     "execution_count": 14,
     "metadata": {},
     "output_type": "execute_result"
    }
   ],
   "source": [
    "# now name has been updated inside function by using global keyword\n",
    "name"
   ]
  },
  {
   "cell_type": "markdown",
   "id": "a039eb47",
   "metadata": {},
   "source": [
    "#### globals\n",
    "\n",
    "* It is also possible to use a global and local variable with the same name simultaneously. Built-in function `globals()` returns a dictionary object of all global variables and their respective values. Using the name of the variable as a key, its value can be accessed and modified.\n",
    "\n"
   ]
  },
  {
   "cell_type": "code",
   "execution_count": 15,
   "id": "769e07e4",
   "metadata": {},
   "outputs": [],
   "source": [
    "name = 'Steve'\n",
    "def greet():\n",
    "    globals()['name'] = 'James'\n",
    "    name='Steve'\n",
    "    print ('Hello ', name)"
   ]
  },
  {
   "cell_type": "markdown",
   "id": "6109eb0a",
   "metadata": {},
   "source": [
    "`The result of the above code shows a conflict between the global and local variables with the same name and how it is resolved.`"
   ]
  },
  {
   "cell_type": "code",
   "execution_count": 16,
   "id": "bfd52522",
   "metadata": {},
   "outputs": [
    {
     "data": {
      "text/plain": [
       "'Steve'"
      ]
     },
     "execution_count": 16,
     "metadata": {},
     "output_type": "execute_result"
    }
   ],
   "source": [
    "name"
   ]
  },
  {
   "cell_type": "code",
   "execution_count": 17,
   "id": "8b12af9b",
   "metadata": {},
   "outputs": [
    {
     "name": "stdout",
     "output_type": "stream",
     "text": [
      "Hello  Steve\n"
     ]
    }
   ],
   "source": [
    "greet()"
   ]
  },
  {
   "cell_type": "code",
   "execution_count": 18,
   "id": "fd00a31d",
   "metadata": {},
   "outputs": [
    {
     "data": {
      "text/plain": [
       "'James'"
      ]
     },
     "execution_count": 18,
     "metadata": {},
     "output_type": "execute_result"
    }
   ],
   "source": [
    "name"
   ]
  },
  {
   "cell_type": "code",
   "execution_count": 19,
   "id": "09b4801e",
   "metadata": {},
   "outputs": [],
   "source": [
    "name = \"David\"\n",
    "def greet():\n",
    "    \n",
    "    globals()[\"name\"] = \"Jamse\"\n",
    "    name = \"Steve\"\n",
    "    print(\"Hello\", name)"
   ]
  },
  {
   "cell_type": "code",
   "execution_count": 20,
   "id": "d2415fd8",
   "metadata": {},
   "outputs": [
    {
     "data": {
      "text/plain": [
       "'David'"
      ]
     },
     "execution_count": 20,
     "metadata": {},
     "output_type": "execute_result"
    }
   ],
   "source": [
    "name"
   ]
  },
  {
   "cell_type": "code",
   "execution_count": 21,
   "id": "c63ca3fe",
   "metadata": {},
   "outputs": [
    {
     "name": "stdout",
     "output_type": "stream",
     "text": [
      "Hello Steve\n"
     ]
    }
   ],
   "source": [
    "greet()"
   ]
  },
  {
   "cell_type": "code",
   "execution_count": 22,
   "id": "9acf477c",
   "metadata": {},
   "outputs": [
    {
     "data": {
      "text/plain": [
       "'Jamse'"
      ]
     },
     "execution_count": 22,
     "metadata": {},
     "output_type": "execute_result"
    }
   ],
   "source": [
    "name"
   ]
  },
  {
   "cell_type": "markdown",
   "id": "f9167995",
   "metadata": {},
   "source": [
    "As we can see that when we call function in which 'globals()' keyword already used then  Built-in function globals() returns a dictionary object of all global variables and their respective values. and inside funtion new assigned variable work local only."
   ]
  },
  {
   "cell_type": "code",
   "execution_count": 23,
   "id": "eafb0121",
   "metadata": {},
   "outputs": [],
   "source": [
    "name = \"David\"\n",
    "def greet():\n",
    "    \n",
    "    globals [\"name\"] = \"Jamse\"\n",
    "    name = \"Steve\"\n",
    "    print(\"Hello\", name)"
   ]
  },
  {
   "cell_type": "code",
   "execution_count": 24,
   "id": "11cb0235",
   "metadata": {},
   "outputs": [
    {
     "data": {
      "text/plain": [
       "'David'"
      ]
     },
     "execution_count": 24,
     "metadata": {},
     "output_type": "execute_result"
    }
   ],
   "source": [
    "name"
   ]
  },
  {
   "cell_type": "code",
   "execution_count": 25,
   "id": "706453da",
   "metadata": {},
   "outputs": [
    {
     "ename": "TypeError",
     "evalue": "'builtin_function_or_method' object does not support item assignment",
     "output_type": "error",
     "traceback": [
      "\u001b[1;31m---------------------------------------------------------------------------\u001b[0m",
      "\u001b[1;31mTypeError\u001b[0m                                 Traceback (most recent call last)",
      "Input \u001b[1;32mIn [25]\u001b[0m, in \u001b[0;36m<cell line: 1>\u001b[1;34m()\u001b[0m\n\u001b[1;32m----> 1\u001b[0m \u001b[43mgreet\u001b[49m\u001b[43m(\u001b[49m\u001b[43m)\u001b[49m\n",
      "Input \u001b[1;32mIn [23]\u001b[0m, in \u001b[0;36mgreet\u001b[1;34m()\u001b[0m\n\u001b[0;32m      2\u001b[0m \u001b[38;5;28;01mdef\u001b[39;00m \u001b[38;5;21mgreet\u001b[39m():\n\u001b[1;32m----> 4\u001b[0m     \u001b[38;5;28mglobals\u001b[39m [\u001b[38;5;124m\"\u001b[39m\u001b[38;5;124mname\u001b[39m\u001b[38;5;124m\"\u001b[39m] \u001b[38;5;241m=\u001b[39m \u001b[38;5;124m\"\u001b[39m\u001b[38;5;124mJamse\u001b[39m\u001b[38;5;124m\"\u001b[39m\n\u001b[0;32m      5\u001b[0m     name \u001b[38;5;241m=\u001b[39m \u001b[38;5;124m\"\u001b[39m\u001b[38;5;124mSteve\u001b[39m\u001b[38;5;124m\"\u001b[39m\n\u001b[0;32m      6\u001b[0m     \u001b[38;5;28mprint\u001b[39m(\u001b[38;5;124m\"\u001b[39m\u001b[38;5;124mHello\u001b[39m\u001b[38;5;124m\"\u001b[39m, name)\n",
      "\u001b[1;31mTypeError\u001b[0m: 'builtin_function_or_method' object does not support item assignment"
     ]
    }
   ],
   "source": [
    "greet()"
   ]
  },
  {
   "cell_type": "markdown",
   "id": "375005da",
   "metadata": {},
   "source": [
    "means we need to use paranthesis along with globals keyword like 'globals()'."
   ]
  },
  {
   "cell_type": "code",
   "execution_count": null,
   "id": "779b63d2",
   "metadata": {},
   "outputs": [],
   "source": []
  }
 ],
 "metadata": {
  "kernelspec": {
   "display_name": "Python 3 (ipykernel)",
   "language": "python",
   "name": "python3"
  },
  "language_info": {
   "codemirror_mode": {
    "name": "ipython",
    "version": 3
   },
   "file_extension": ".py",
   "mimetype": "text/x-python",
   "name": "python",
   "nbconvert_exporter": "python",
   "pygments_lexer": "ipython3",
   "version": "3.9.7"
  }
 },
 "nbformat": 4,
 "nbformat_minor": 5
}
