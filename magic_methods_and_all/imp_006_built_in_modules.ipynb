{
 "cells": [
  {
   "cell_type": "markdown",
   "id": "09413930",
   "metadata": {},
   "source": [
    "### Python - Built-in Modules\n",
    "\n",
    "The Python interactive shell has a number of built-in functions. They are loaded automatically as a shell starts and are always available, such as `print()` and `input()` for I/O, number conversion functions `int()`, `float()`, `complex()`, data type conversions `list()`, `tuple()`, `set()`, etc.\n",
    "\n",
    "In addition to built-in functions, a large number of pre-defined functions are also available as a part of libraries bundled with Python distributions. These functions are defined in modules are called built-in modules.\n",
    "\n",
    "Built-in modules are written in `C` and integrated with the `Python shell`. Each `built-in module `contains resources for certain system-specific functionalities such as `OS` management, disk IO, etc. The standard library also contains many Python scripts (with the `.py` extension) containing useful utilities.\n",
    "\n",
    "To display a list of all available modules, use the following command in the Python console:"
   ]
  },
  {
   "cell_type": "code",
   "execution_count": 2,
   "id": "3e68895e",
   "metadata": {},
   "outputs": [
    {
     "name": "stdout",
     "output_type": "stream",
     "text": [
      "\n",
      "Please wait a moment while I gather a list of all available modules...\n",
      "\n",
      "IPython             bleach              mimetypes           stack_data\n",
      "Mypackage           bs4                 mistune             stat\n",
      "PIL                 builtins            mmap                statistics\n",
      "__future__          bz2                 mmapfile            string\n",
      "_abc                cProfile            mmsystem            stringprep\n",
      "_aix_support        calc                modulefinder        struct\n",
      "_argon2_cffi_bindings calc2               msilib              subprocess\n",
      "_ast                calendar            msvcrt              sunau\n",
      "_asyncio            certifi             multiprocessing     symbol\n",
      "_bisect             cffi                nbclient            symtable\n",
      "_blake2             cgi                 nbconvert           sys\n",
      "_bootlocale         cgitb               nbformat            sysconfig\n",
      "_bootsubprocess     chunk               nest_asyncio        tabnanny\n",
      "_bz2                cmath               netbios             tarfile\n",
      "_cffi_backend       cmd                 netrc               telnetlib\n",
      "_codecs             cmd2                nntplib             tempfile\n",
      "_codecs_cn          code                nose                terminado\n",
      "_codecs_hk          codecs              notebook            test\n",
      "_codecs_iso2022     codeop              nt                  testpath\n",
      "_codecs_jp          collections         ntpath              textwrap\n",
      "_codecs_kr          colorama            ntsecuritycon       this\n",
      "_codecs_tw          colorsys            nturl2path          threading\n",
      "_collections        commctrl            numbers             time\n",
      "_collections_abc    compileall          numpy               timeit\n",
      "_compat_pickle      concurrent          odbc                timer\n",
      "_compression        configparser        opcode              tkinter\n",
      "_contextvars        contextlib          operator            token\n",
      "_csv                contextvars         optparse            tokenize\n",
      "_ctypes             copy                os                  tomli\n",
      "_ctypes_test        copyreg             outcome             tornado\n",
      "_datetime           crypt               packaging           trace\n",
      "_decimal            csv                 pandocfilters       traceback\n",
      "_distutils_hack     ctypes              parser              tracemalloc\n",
      "_elementtree        curses              parso               traitlets\n",
      "_functools          cycler              pathlib             tty\n",
      "_hashlib            dataclasses         pdb                 turtle\n",
      "_heapq              datetime            perfmon             turtledemo\n",
      "_imp                dateutil            pickle              types\n",
      "_io                 dbi                 pickleshare         typing\n",
      "_json               dbm                 pickletools         unicodedata\n",
      "_locale             dde                 pip                 unittest\n",
      "_lsprof             debugpy             pipes               urllib\n",
      "_lzma               decimal             pkg_resources       urllib3\n",
      "_markupbase         decorator           pkgutil             uu\n",
      "_md5                defusedxml          platform            uuid\n",
      "_msi                demjson             plistlib            venv\n",
      "_multibytecodec     difflib             pluggy              warnings\n",
      "_multiprocessing    dis                 ply                 wave\n",
      "_opcode             distutils           poplib              wcwidth\n",
      "_operator           doctest             posixpath           weakref\n",
      "_osx_support        email               pprint              webbrowser\n",
      "_overlapped         encodings           profile             webencodings\n",
      "_peg_parser         ensurepip           prometheus_client   welcome\n",
      "_pickle             entrypoints         prompt_toolkit      widgetsnbextension\n",
      "_py_abc             enum                pstats              win2kras\n",
      "_pydecimal          errno               psutil              win32api\n",
      "_pyio               executing           pty                 win32clipboard\n",
      "_pyrsistent_version faulthandler        pure_eval           win32com\n",
      "_pytest             filecmp             pvectorc            win32con\n",
      "_queue              fileinput           py                  win32console\n",
      "_random             fnmatch             py_compile          win32cred\n",
      "_sha1               fontTools           pyclbr              win32crypt\n",
      "_sha256             formatter           pycparser           win32cryptcon\n",
      "_sha3               fractions           pydoc               win32event\n",
      "_sha512             ftplib              pydoc_data          win32evtlog\n",
      "_signal             functools           pyexpat             win32evtlogutil\n",
      "_sitebuiltins       gc                  pygments            win32file\n",
      "_socket             genericpath         pylab               win32gui\n",
      "_sqlite3            getopt              pyparsing           win32gui_struct\n",
      "_sre                getpass             pyperclip           win32help\n",
      "_ssl                gettext             pyreadline3         win32inet\n",
      "_stat               glob                pyrsistent          win32inetcon\n",
      "_statistics         graphlib            pytest              win32job\n",
      "_string             gzip                pythoncom           win32lz\n",
      "_strptime           hashlib             pytz                win32net\n",
      "_struct             heapq               pywin               win32netcon\n",
      "_symtable           hello               pywin32_bootstrap   win32pdh\n",
      "_testbuffer         hmac                pywin32_testutil    win32pdhquery\n",
      "_testcapi           html                pywintypes          win32pdhutil\n",
      "_testconsole        http                qtconsole           win32pipe\n",
      "_testimportmultiple idlelib             qtpy                win32print\n",
      "_testinternalcapi   imaplib             queue               win32process\n",
      "_testmultiphase     imghdr              quopri              win32profile\n",
      "_thread             imp                 random              win32ras\n",
      "_threading_local    importlib           rasutil             win32rcparser\n",
      "_tkinter            iniconfig           re                  win32security\n",
      "_tracemalloc        inspect             readline            win32service\n",
      "_uuid               io                  regcheck            win32serviceutil\n",
      "_warnings           ipaddress           regutil             win32timezone\n",
      "_weakref            ipykernel           reprlib             win32trace\n",
      "_weakrefset         ipykernel_launcher  rlcompleter         win32traceutil\n",
      "_win32sysloader     ipytest             runpy               win32transaction\n",
      "_winapi             ipython_genutils    sched               win32ts\n",
      "_winxptheme         ipywidgets          secrets             win32ui\n",
      "_xxsubinterpreters  isapi               select              win32uiole\n",
      "_zoneinfo           itertools           selectors           win32verstamp\n",
      "abc                 jedi                send2trash          win32wnet\n",
      "addition            jinja2              servicemanager      winerror\n",
      "addition2           json                setuptools          winioctlcon\n",
      "adodbapi            jsonschema          shelve              winnt\n",
      "afxres              jupyter             shlex               winperf\n",
      "aifc                jupyter_client      shutil              winpty\n",
      "antigravity         jupyter_console     signal              winreg\n",
      "argon2              jupyter_core        site                winsound\n",
      "argparse            jupyterlab_pygments six                 winxpgui\n",
      "array               jupyterlab_widgets  smtpd               winxptheme\n",
      "ast                 jupyterthemes       smtplib             wsgiref\n",
      "asttokens           keyword             sndhdr              xdrlib\n",
      "asynchat            kiwisolver          sniffio             xlrd\n",
      "asyncio             lesscpy             socket              xml\n",
      "asyncore            lib2to3             socketserver        xmlrpc\n",
      "atexit              linecache           socks               xmltodict\n",
      "atomicwrites        locale              sockshandler        xxsubtype\n",
      "attr                logging             sortedcontainers    zipapp\n",
      "attrs               lzma                soupsieve           zipfile\n",
      "audioop             mailbox             sqlite3             zipimport\n",
      "backcall            mailcap             sre_compile         zlib\n",
      "base64              markupsafe          sre_constants       zmq\n",
      "bdb                 marshal             sre_parse           zoneinfo\n",
      "binascii            math                ssl                 \n",
      "binhex              matplotlib          sspi                \n",
      "bisect              matplotlib_inline   sspicon             \n",
      "\n",
      "Enter any module name to get more help.  Or, type \"modules spam\" to search\n",
      "for modules whose name or summary contain the string \"spam\".\n",
      "\n"
     ]
    }
   ],
   "source": [
    "help(\"modules\")"
   ]
  },
  {
   "cell_type": "markdown",
   "id": "554c416b",
   "metadata": {},
   "source": [
    "### 1. Python - OS Module\n",
    "\n",
    "\n",
    "It is possible to automatically perform many operating system tasks. The `OS` module in Python provides functions for creating and removing a directory (folder), fetching its contents, changing and identifying the current directory, etc.\n",
    "\n",
    "You first need to import the os module to interact with the underlying operating system. So, `import` it using the `import os` statement before using its functions.\n",
    "\n",
    "#### Getting Current Working Directory\n",
    "The `getcwd()` function confirms returns the current working directory."
   ]
  },
  {
   "cell_type": "code",
   "execution_count": 3,
   "id": "c1ad6182",
   "metadata": {},
   "outputs": [],
   "source": [
    "import os"
   ]
  },
  {
   "cell_type": "code",
   "execution_count": 4,
   "id": "0a6f7066",
   "metadata": {},
   "outputs": [
    {
     "data": {
      "text/plain": [
       "'E:\\\\Python_world\\\\python_amulya-s_academy_practice\\\\magic_methods_and_all'"
      ]
     },
     "execution_count": 4,
     "metadata": {},
     "output_type": "execute_result"
    }
   ],
   "source": [
    "os.getcwd()"
   ]
  },
  {
   "cell_type": "markdown",
   "id": "b65b570d",
   "metadata": {},
   "source": [
    "### Creating a Directory\n",
    "We can create a new directory using the `os.mkdir()` function, as shown below.\n"
   ]
  },
  {
   "cell_type": "code",
   "execution_count": 5,
   "id": "f9647feb",
   "metadata": {},
   "outputs": [],
   "source": [
    "import os\n",
    "\n",
    "os.mkdir(\"MyPythonProject\")"
   ]
  },
  {
   "cell_type": "markdown",
   "id": "2548d2a5",
   "metadata": {},
   "source": [
    "`A new directory corresponding to the path in the string argument of the function will be created. If you open the C:\\ drive, then you will see the MyPythonProject folder has been created.`\n",
    "\n",
    "By default, if you don't specify the whole path in the `mkdir()` function, it will create the specified directory in the current working directory or drive. The following will create MyPythonProject in the C:\\Python37 directory."
   ]
  },
  {
   "cell_type": "code",
   "execution_count": 1,
   "id": "fe2d7c97",
   "metadata": {},
   "outputs": [
    {
     "data": {
      "text/plain": [
       "'E:\\\\Python_world\\\\python_amulya-s_academy_practice\\\\magic_methods_and_all'"
      ]
     },
     "execution_count": 1,
     "metadata": {},
     "output_type": "execute_result"
    }
   ],
   "source": [
    "import os\n",
    "os.getcwd()"
   ]
  },
  {
   "cell_type": "markdown",
   "id": "15da9627",
   "metadata": {},
   "source": [
    "### Changing the Current Working Directory\n",
    "We must first change the current working directory to a newly created one before doing any operations in it. This is done using the `chdir()` function. The following change current working directory to `'E:\\\\Python_world\\\\python_amulya-s_academy_practice\\\\magic_methods_and_all'\\\\MyPythonProject`."
   ]
  },
  {
   "cell_type": "code",
   "execution_count": 2,
   "id": "f6f81586",
   "metadata": {},
   "outputs": [],
   "source": [
    "import os\n",
    "# changing the current directory\n",
    "os.chdir(\"E:\\\\Python_world\\\\python_amulya-s_academy_practice\\\\magic_methods_and_all\\\\MyPythonProject\")"
   ]
  },
  {
   "cell_type": "code",
   "execution_count": 3,
   "id": "93775a02",
   "metadata": {},
   "outputs": [
    {
     "data": {
      "text/plain": [
       "'E:\\\\Python_world\\\\python_amulya-s_academy_practice\\\\magic_methods_and_all\\\\MyPythonProject'"
      ]
     },
     "execution_count": 3,
     "metadata": {},
     "output_type": "execute_result"
    }
   ],
   "source": [
    "os.getcwd()"
   ]
  },
  {
   "cell_type": "markdown",
   "id": "3795d000",
   "metadata": {},
   "source": [
    "`You can change the current working directory to a drive. The following makes the E:\\ drive as the current working directory.`\n",
    "\n"
   ]
  },
  {
   "cell_type": "code",
   "execution_count": 4,
   "id": "687496bf",
   "metadata": {},
   "outputs": [],
   "source": [
    "os.chdir(\"E:\\\\\")"
   ]
  },
  {
   "cell_type": "code",
   "execution_count": 5,
   "id": "f52882b4",
   "metadata": {},
   "outputs": [
    {
     "data": {
      "text/plain": [
       "'E:\\\\'"
      ]
     },
     "execution_count": 5,
     "metadata": {},
     "output_type": "execute_result"
    }
   ],
   "source": [
    "os.getcwd()"
   ]
  },
  {
   "cell_type": "markdown",
   "id": "6d7d4234",
   "metadata": {},
   "source": [
    "#### Note :\n",
    "\n",
    "In order to set the current directory to the parent directory use `\"..\"` as the argument in the `chdir()` function.\n",
    "\n"
   ]
  },
  {
   "cell_type": "code",
   "execution_count": 6,
   "id": "8718c6bf",
   "metadata": {},
   "outputs": [],
   "source": [
    "import os\n",
    "os.chdir(\"..\")"
   ]
  },
  {
   "cell_type": "code",
   "execution_count": 7,
   "id": "96fce603",
   "metadata": {},
   "outputs": [
    {
     "data": {
      "text/plain": [
       "'E:\\\\'"
      ]
     },
     "execution_count": 7,
     "metadata": {},
     "output_type": "execute_result"
    }
   ],
   "source": [
    "os.getcwd()"
   ]
  },
  {
   "cell_type": "code",
   "execution_count": 8,
   "id": "a557d96c",
   "metadata": {},
   "outputs": [],
   "source": [
    "os.chdir('E:\\\\Python_world\\\\python_amulya-s_academy_practice\\\\magic_methods_and_all')"
   ]
  },
  {
   "cell_type": "code",
   "execution_count": 9,
   "id": "fb87030d",
   "metadata": {},
   "outputs": [
    {
     "data": {
      "text/plain": [
       "'E:\\\\Python_world\\\\python_amulya-s_academy_practice\\\\magic_methods_and_all'"
      ]
     },
     "execution_count": 9,
     "metadata": {},
     "output_type": "execute_result"
    }
   ],
   "source": [
    "os.getcwd()"
   ]
  },
  {
   "cell_type": "code",
   "execution_count": 10,
   "id": "39ce3c6f",
   "metadata": {},
   "outputs": [],
   "source": [
    "os.chdir(\"..\")"
   ]
  },
  {
   "cell_type": "code",
   "execution_count": 11,
   "id": "9a782e2d",
   "metadata": {},
   "outputs": [
    {
     "data": {
      "text/plain": [
       "'E:\\\\Python_world\\\\python_amulya-s_academy_practice'"
      ]
     },
     "execution_count": 11,
     "metadata": {},
     "output_type": "execute_result"
    }
   ],
   "source": [
    "os.getcwd()"
   ]
  },
  {
   "cell_type": "code",
   "execution_count": 12,
   "id": "4846d1e3",
   "metadata": {},
   "outputs": [],
   "source": [
    "import os\n",
    "\n",
    "os.chdir(\".\\\\\") # to back one dicrectory back "
   ]
  },
  {
   "cell_type": "code",
   "execution_count": 13,
   "id": "5eca3aa7",
   "metadata": {},
   "outputs": [
    {
     "data": {
      "text/plain": [
       "'E:\\\\Python_world\\\\python_amulya-s_academy_practice'"
      ]
     },
     "execution_count": 13,
     "metadata": {},
     "output_type": "execute_result"
    }
   ],
   "source": [
    "os.getcwd()"
   ]
  },
  {
   "cell_type": "code",
   "execution_count": 14,
   "id": "6b5a4950",
   "metadata": {},
   "outputs": [],
   "source": [
    "\n",
    "os.chdir('E:\\\\Python_world\\\\python_amulya-s_academy_practice\\\\magic_methods_and_all')"
   ]
  },
  {
   "cell_type": "code",
   "execution_count": 15,
   "id": "ce534c7e",
   "metadata": {},
   "outputs": [
    {
     "data": {
      "text/plain": [
       "'E:\\\\Python_world\\\\python_amulya-s_academy_practice\\\\magic_methods_and_all'"
      ]
     },
     "execution_count": 15,
     "metadata": {},
     "output_type": "execute_result"
    }
   ],
   "source": [
    "import os\n",
    "os.getcwd()"
   ]
  },
  {
   "cell_type": "code",
   "execution_count": 17,
   "id": "3f848e7c",
   "metadata": {},
   "outputs": [],
   "source": [
    "os.chdir(\"..\\\\\") # to back one dicrectory back "
   ]
  },
  {
   "cell_type": "code",
   "execution_count": 18,
   "id": "e9c17ddd",
   "metadata": {},
   "outputs": [
    {
     "data": {
      "text/plain": [
       "'E:\\\\Python_world\\\\python_amulya-s_academy_practice'"
      ]
     },
     "execution_count": 18,
     "metadata": {},
     "output_type": "execute_result"
    }
   ],
   "source": [
    "os.getcwd()"
   ]
  },
  {
   "cell_type": "code",
   "execution_count": 19,
   "id": "6ecea6a4",
   "metadata": {},
   "outputs": [],
   "source": [
    "os.chdir(\"./magic_methods_and_all\") # for forward one directory"
   ]
  },
  {
   "cell_type": "code",
   "execution_count": 20,
   "id": "b1f5449d",
   "metadata": {},
   "outputs": [
    {
     "data": {
      "text/plain": [
       "'E:\\\\Python_world\\\\python_amulya-s_academy_practice\\\\magic_methods_and_all'"
      ]
     },
     "execution_count": 20,
     "metadata": {},
     "output_type": "execute_result"
    }
   ],
   "source": [
    "os.getcwd()"
   ]
  },
  {
   "cell_type": "code",
   "execution_count": null,
   "id": "471b5179",
   "metadata": {},
   "outputs": [],
   "source": [
    "# os.chmod use  for read write execute "
   ]
  },
  {
   "cell_type": "markdown",
   "id": "2165a53f",
   "metadata": {},
   "source": [
    "### 2. Python - sys Module\n",
    "\n",
    "The sys module provides functions and variables used to manipulate different parts of the Python runtime environment. You will learn some of the important features of this module here.\n",
    "\n",
    "#### sys.argv\n",
    "`sys.argv` returns a list of command line arguments passed to a Python script. The item at index 0 in this list is always the name of the script. The rest of the arguments are stored at the subsequent indices.\n",
    "\n",
    "Here is a Python script (test.py) consuming two arguments from the command line."
   ]
  },
  {
   "cell_type": "markdown",
   "id": "73af2718",
   "metadata": {},
   "source": [
    "This script is executed from command line as follows"
   ]
  },
  {
   "cell_type": "markdown",
   "id": "729b62fe",
   "metadata": {},
   "source": [
    "`E:\\Python_world\\python_amulya-s_academy_practice\\magic_methods_and_all>python test_sys.py Python c# Java`\n",
    ">>`You entered:  Python c# Java`"
   ]
  },
  {
   "cell_type": "markdown",
   "id": "1b8d3e87",
   "metadata": {},
   "source": [
    "Above, `sys.argv[1]` contains the first argument 'Python',` sys.argv[2] `contains the second argument 'Python', and `sys.argv[3]` contains the third argument 'Java'. `sys.argv[0]` contains the script file name `test.py`.\n",
    "\n",
    "#### sys.exit\n",
    "This causes the script to exit back to either the Python console or the command prompt. This is generally used to safely exit from the program in case of generation of an exception.\n",
    "\n",
    "#### sys.maxsize\n",
    "Returns the largest integer a variable can take."
   ]
  },
  {
   "cell_type": "code",
   "execution_count": 23,
   "id": "70bead2a",
   "metadata": {},
   "outputs": [],
   "source": [
    "import sys"
   ]
  },
  {
   "cell_type": "code",
   "execution_count": 24,
   "id": "13ef7845",
   "metadata": {},
   "outputs": [
    {
     "data": {
      "text/plain": [
       "9223372036854775807"
      ]
     },
     "execution_count": 24,
     "metadata": {},
     "output_type": "execute_result"
    }
   ],
   "source": [
    "sys.maxsize"
   ]
  },
  {
   "cell_type": "code",
   "execution_count": 26,
   "id": "b475a6ff",
   "metadata": {},
   "outputs": [
    {
     "data": {
      "text/plain": [
       "19"
      ]
     },
     "execution_count": 26,
     "metadata": {},
     "output_type": "execute_result"
    }
   ],
   "source": [
    "len(str(sys.maxsize))"
   ]
  },
  {
   "cell_type": "markdown",
   "id": "5c845778",
   "metadata": {},
   "source": [
    "#### sys.path\n",
    "This is an environment variable that is a search path for all Python modules."
   ]
  },
  {
   "cell_type": "code",
   "execution_count": 27,
   "id": "f5353e1d",
   "metadata": {},
   "outputs": [
    {
     "data": {
      "text/plain": [
       "['E:\\\\Python_world\\\\python_amulya-s_academy_practice\\\\magic_methods_and_all',\n",
       " 'C:\\\\Users\\\\ankit.shukla\\\\AppData\\\\Local\\\\Programs\\\\Python\\\\Python39\\\\python39.zip',\n",
       " 'C:\\\\Users\\\\ankit.shukla\\\\AppData\\\\Local\\\\Programs\\\\Python\\\\Python39\\\\DLLs',\n",
       " 'C:\\\\Users\\\\ankit.shukla\\\\AppData\\\\Local\\\\Programs\\\\Python\\\\Python39\\\\lib',\n",
       " 'C:\\\\Users\\\\ankit.shukla\\\\AppData\\\\Local\\\\Programs\\\\Python\\\\Python39',\n",
       " '',\n",
       " 'C:\\\\Users\\\\ankit.shukla\\\\AppData\\\\Local\\\\Programs\\\\Python\\\\Python39\\\\lib\\\\site-packages',\n",
       " 'C:\\\\Users\\\\ankit.shukla\\\\AppData\\\\Local\\\\Programs\\\\Python\\\\Python39\\\\lib\\\\site-packages\\\\win32',\n",
       " 'C:\\\\Users\\\\ankit.shukla\\\\AppData\\\\Local\\\\Programs\\\\Python\\\\Python39\\\\lib\\\\site-packages\\\\win32\\\\lib',\n",
       " 'C:\\\\Users\\\\ankit.shukla\\\\AppData\\\\Local\\\\Programs\\\\Python\\\\Python39\\\\lib\\\\site-packages\\\\Pythonwin']"
      ]
     },
     "execution_count": 27,
     "metadata": {},
     "output_type": "execute_result"
    }
   ],
   "source": [
    "import sys\n",
    "\n",
    "sys.path"
   ]
  },
  {
   "cell_type": "markdown",
   "id": "7c305f12",
   "metadata": {},
   "source": [
    "#### sys.version\n",
    "This attribute displays a string containing the version number of the current Python interpreter."
   ]
  },
  {
   "cell_type": "code",
   "execution_count": 29,
   "id": "b0081125",
   "metadata": {},
   "outputs": [
    {
     "data": {
      "text/plain": [
       "'3.9.7 (tags/v3.9.7:1016ef3, Aug 30 2021, 20:19:38) [MSC v.1929 64 bit (AMD64)]'"
      ]
     },
     "execution_count": 29,
     "metadata": {},
     "output_type": "execute_result"
    }
   ],
   "source": [
    "import sys\n",
    "sys.version"
   ]
  },
  {
   "cell_type": "code",
   "execution_count": 30,
   "id": "b44d995f",
   "metadata": {},
   "outputs": [
    {
     "data": {
      "text/plain": [
       "sys.version_info(major=3, minor=9, micro=7, releaselevel='final', serial=0)"
      ]
     },
     "execution_count": 30,
     "metadata": {},
     "output_type": "execute_result"
    }
   ],
   "source": [
    "sys.version_info"
   ]
  },
  {
   "cell_type": "markdown",
   "id": "b0ff4c30",
   "metadata": {},
   "source": [
    "### 3. Python - Math Module\n",
    "\n",
    "Some of the most popular mathematical functions are defined in the math module. These include trigonometric functions, representation functions, logarithmic functions, angle conversion functions, etc. In addition, two mathematical constants are also defined in this module.\n",
    "\n",
    "`Pi is a well-known mathematical constant, which is defined as the ratio of the circumference to the diameter of a circle and its value is 3.141592653589793.`"
   ]
  },
  {
   "cell_type": "code",
   "execution_count": 31,
   "id": "26a29dfa",
   "metadata": {},
   "outputs": [
    {
     "data": {
      "text/plain": [
       "3.141592653589793"
      ]
     },
     "execution_count": 31,
     "metadata": {},
     "output_type": "execute_result"
    }
   ],
   "source": [
    "import math \n",
    "\n",
    "math.pi"
   ]
  },
  {
   "cell_type": "markdown",
   "id": "6bbb2753",
   "metadata": {},
   "source": [
    "Another well-known mathematical constant defined in the math module is e. It is called `Euler's number` and it is a base of the `natural logarithm`. Its value is `2.718281828459045`."
   ]
  },
  {
   "cell_type": "markdown",
   "id": "11f276d6",
   "metadata": {},
   "source": [
    "`The math module contains functions for calculating various trigonometric ratios for a given angle. The functions (sin, cos, tan, etc.) need the angle in radians as an argument. We, on the other hand, are used to express the angle in degrees. The math module presents two angle conversion functions: degrees() and radians(), to convert the angle from degrees to radians and vice versa. For example, the following statements convert the angle of 30 degrees to radians and back (Note: π radians is equivalent to 180 degrees).`\n",
    "\n"
   ]
  },
  {
   "cell_type": "code",
   "execution_count": 35,
   "id": "29f8950e",
   "metadata": {},
   "outputs": [
    {
     "data": {
      "text/plain": [
       "0.5235987755982988"
      ]
     },
     "execution_count": 35,
     "metadata": {},
     "output_type": "execute_result"
    }
   ],
   "source": [
    "import math \n",
    "\n",
    "math.radians(30)"
   ]
  },
  {
   "cell_type": "code",
   "execution_count": 36,
   "id": "b455b5be",
   "metadata": {},
   "outputs": [
    {
     "data": {
      "text/plain": [
       "29.999999999999996"
      ]
     },
     "execution_count": 36,
     "metadata": {},
     "output_type": "execute_result"
    }
   ],
   "source": [
    "math.degrees(math.pi/6)"
   ]
  },
  {
   "cell_type": "markdown",
   "id": "e78564eb",
   "metadata": {},
   "source": [
    "`The following statements show sin, cos and tan ratios for the angle of 30 degrees (0.5235987755982988 radians):`"
   ]
  },
  {
   "cell_type": "code",
   "execution_count": 37,
   "id": "8287b4fd",
   "metadata": {},
   "outputs": [
    {
     "data": {
      "text/plain": [
       "0.49999999999999994"
      ]
     },
     "execution_count": 37,
     "metadata": {},
     "output_type": "execute_result"
    }
   ],
   "source": [
    "import math\n",
    "math.sin(0.5235987755982988)"
   ]
  },
  {
   "cell_type": "code",
   "execution_count": 38,
   "id": "14ebdde6",
   "metadata": {},
   "outputs": [
    {
     "data": {
      "text/plain": [
       "0.8660254037844387"
      ]
     },
     "execution_count": 38,
     "metadata": {},
     "output_type": "execute_result"
    }
   ],
   "source": [
    "math.cos(0.5235987755982988)"
   ]
  },
  {
   "cell_type": "code",
   "execution_count": 40,
   "id": "367b618a",
   "metadata": {},
   "outputs": [
    {
     "data": {
      "text/plain": [
       "0.49999999999999994"
      ]
     },
     "execution_count": 40,
     "metadata": {},
     "output_type": "execute_result"
    }
   ],
   "source": [
    "math.sin(0.5235987755982988)"
   ]
  },
  {
   "cell_type": "markdown",
   "id": "21b7f214",
   "metadata": {},
   "source": [
    "You may recall that sin(30)=0.5, cos(30)=32 (which is 0.8660254037844387) and tan(30)= 13 (which is 0.5773502691896257).\n",
    "\n",
    "#### math.log()\n",
    "`The math.log() method returns the natural logarithm of a given number. The natural logarithm is calculated to the base e.`\n",
    "\n"
   ]
  },
  {
   "cell_type": "code",
   "execution_count": 41,
   "id": "fbe989df",
   "metadata": {},
   "outputs": [
    {
     "data": {
      "text/plain": [
       "2.302585092994046"
      ]
     },
     "execution_count": 41,
     "metadata": {},
     "output_type": "execute_result"
    }
   ],
   "source": [
    "import math\n",
    "math.log(10)"
   ]
  },
  {
   "cell_type": "markdown",
   "id": "3878d8d8",
   "metadata": {},
   "source": [
    "### math.log10()\n",
    "`The math.log10() method returns the base-10 logarithm of the given number. It is called the standard logarithm.`"
   ]
  },
  {
   "cell_type": "code",
   "execution_count": 42,
   "id": "716db17f",
   "metadata": {},
   "outputs": [
    {
     "data": {
      "text/plain": [
       "1.0"
      ]
     },
     "execution_count": 42,
     "metadata": {},
     "output_type": "execute_result"
    }
   ],
   "source": [
    "import math \n",
    "\n",
    "math.log10(10)"
   ]
  },
  {
   "cell_type": "markdown",
   "id": "b1630bdc",
   "metadata": {},
   "source": [
    "#### math.exp()\n",
    "`The math.exp() method returns a float number after raising e to the power of the given number. In other words, exp(x) gives e**x.`\n",
    "\n"
   ]
  },
  {
   "cell_type": "code",
   "execution_count": 43,
   "id": "911aa5b3",
   "metadata": {},
   "outputs": [
    {
     "data": {
      "text/plain": [
       "22026.465794806718"
      ]
     },
     "execution_count": 43,
     "metadata": {},
     "output_type": "execute_result"
    }
   ],
   "source": [
    "import math\n",
    "\n",
    "math.exp(10)"
   ]
  },
  {
   "cell_type": "code",
   "execution_count": 44,
   "id": "1e9d0705",
   "metadata": {},
   "outputs": [
    {
     "data": {
      "text/plain": [
       "22026.465794806703"
      ]
     },
     "execution_count": 44,
     "metadata": {},
     "output_type": "execute_result"
    }
   ],
   "source": [
    "math.e**10"
   ]
  },
  {
   "cell_type": "markdown",
   "id": "61afc5be",
   "metadata": {},
   "source": [
    "#### math.pow()\n",
    "`The math.pow() method receives two float arguments, raises the first to the second and returns the result. In other words, pow(4,4) is equivalent to 4**4.`"
   ]
  },
  {
   "cell_type": "code",
   "execution_count": 45,
   "id": "56e4eb65",
   "metadata": {},
   "outputs": [
    {
     "data": {
      "text/plain": [
       "16.0"
      ]
     },
     "execution_count": 45,
     "metadata": {},
     "output_type": "execute_result"
    }
   ],
   "source": [
    "import math \n",
    "\n",
    "math.pow(2,4)"
   ]
  },
  {
   "cell_type": "code",
   "execution_count": 46,
   "id": "584c53c4",
   "metadata": {},
   "outputs": [
    {
     "data": {
      "text/plain": [
       "16"
      ]
     },
     "execution_count": 46,
     "metadata": {},
     "output_type": "execute_result"
    }
   ],
   "source": [
    "2**4"
   ]
  },
  {
   "cell_type": "markdown",
   "id": "51769ec2",
   "metadata": {},
   "source": [
    "#### math.sqrt()\n",
    "`The math.sqrt() method returns the square root of a given number.`\n"
   ]
  },
  {
   "cell_type": "code",
   "execution_count": 47,
   "id": "83baec43",
   "metadata": {},
   "outputs": [
    {
     "data": {
      "text/plain": [
       "10.0"
      ]
     },
     "execution_count": 47,
     "metadata": {},
     "output_type": "execute_result"
    }
   ],
   "source": [
    "import math\n",
    "\n",
    "math.sqrt(100)"
   ]
  },
  {
   "cell_type": "code",
   "execution_count": 48,
   "id": "fede5798",
   "metadata": {},
   "outputs": [
    {
     "data": {
      "text/plain": [
       "1.7320508075688772"
      ]
     },
     "execution_count": 48,
     "metadata": {},
     "output_type": "execute_result"
    }
   ],
   "source": [
    "math.sqrt(3)"
   ]
  },
  {
   "cell_type": "markdown",
   "id": "e14cfcc8",
   "metadata": {},
   "source": [
    "### 4. Python - Statistics Module\n",
    "\n",
    "`The statistics module provides functions to mathematical statistics of numeric data. The following popular statistical functions are defined in this module.`\n",
    "\n",
    "### Mean\n",
    "The `mean()` method calculates the arithmetic mean of the numbers in a list."
   ]
  },
  {
   "cell_type": "code",
   "execution_count": 1,
   "id": "46cdef35",
   "metadata": {},
   "outputs": [
    {
     "data": {
      "text/plain": [
       "6.666666666666667"
      ]
     },
     "execution_count": 1,
     "metadata": {},
     "output_type": "execute_result"
    }
   ],
   "source": [
    "import statistics\n",
    "\n",
    "statistics.mean([5, 6, 9])"
   ]
  },
  {
   "cell_type": "code",
   "execution_count": 2,
   "id": "13baec30",
   "metadata": {},
   "outputs": [
    {
     "data": {
      "text/plain": [
       "25"
      ]
     },
     "execution_count": 2,
     "metadata": {},
     "output_type": "execute_result"
    }
   ],
   "source": [
    "statistics.mean((20, 30 ))"
   ]
  },
  {
   "cell_type": "code",
   "execution_count": 3,
   "id": "2af01e61",
   "metadata": {},
   "outputs": [
    {
     "data": {
      "text/plain": [
       "int"
      ]
     },
     "execution_count": 3,
     "metadata": {},
     "output_type": "execute_result"
    }
   ],
   "source": [
    "type(statistics.mean((20, 30 )))"
   ]
  },
  {
   "cell_type": "markdown",
   "id": "59367439",
   "metadata": {},
   "source": [
    "### Median\n",
    "The `median()` method returns the middle value of numeric data in a list."
   ]
  },
  {
   "cell_type": "code",
   "execution_count": 4,
   "id": "487d1f55",
   "metadata": {},
   "outputs": [
    {
     "data": {
      "text/plain": [
       "3"
      ]
     },
     "execution_count": 4,
     "metadata": {},
     "output_type": "execute_result"
    }
   ],
   "source": [
    "import statistics\n",
    "\n",
    "statistics.median([2,3,4,5,6,2,1,2,3])"
   ]
  },
  {
   "cell_type": "markdown",
   "id": "fda1c9b1",
   "metadata": {},
   "source": [
    "#### Mode\n",
    "The `mode()` method returns the most common data point in the list."
   ]
  },
  {
   "cell_type": "code",
   "execution_count": 5,
   "id": "36addcd7",
   "metadata": {},
   "outputs": [
    {
     "data": {
      "text/plain": [
       "2"
      ]
     },
     "execution_count": 5,
     "metadata": {},
     "output_type": "execute_result"
    }
   ],
   "source": [
    "import statistics\n",
    "statistics.mode([2,5,3,2,8,3,9,4,2,5,6])\n"
   ]
  },
  {
   "cell_type": "code",
   "execution_count": 6,
   "id": "faa58613",
   "metadata": {},
   "outputs": [
    {
     "data": {
      "text/plain": [
       "2"
      ]
     },
     "execution_count": 6,
     "metadata": {},
     "output_type": "execute_result"
    }
   ],
   "source": [
    "statistics.mode((2,3,3,4,5,6,5,6,4,2,2,))"
   ]
  },
  {
   "cell_type": "code",
   "execution_count": 7,
   "id": "6766e353",
   "metadata": {},
   "outputs": [
    {
     "data": {
      "text/plain": [
       "2"
      ]
     },
     "execution_count": 7,
     "metadata": {},
     "output_type": "execute_result"
    }
   ],
   "source": [
    "statistics.mode((2,3,3,2,3,2))"
   ]
  },
  {
   "cell_type": "markdown",
   "id": "2333d624",
   "metadata": {},
   "source": [
    "#### Standard Deviation\n",
    "The `stdev()` method calculates the standard deviation on a given sample in the form of a list."
   ]
  },
  {
   "cell_type": "code",
   "execution_count": 8,
   "id": "2b57cb14",
   "metadata": {},
   "outputs": [
    {
     "data": {
      "text/plain": [
       "1.3693063937629153"
      ]
     },
     "execution_count": 8,
     "metadata": {},
     "output_type": "execute_result"
    }
   ],
   "source": [
    "import statistics\n",
    "statistics.stdev([1,1.5,2,2.5,3,3.5,4,4.5,5])"
   ]
  },
  {
   "cell_type": "code",
   "execution_count": 9,
   "id": "03de2521",
   "metadata": {},
   "outputs": [
    {
     "data": {
      "text/plain": [
       "8.508818954473059"
      ]
     },
     "execution_count": 9,
     "metadata": {},
     "output_type": "execute_result"
    }
   ],
   "source": [
    "statistics.stdev((12,23,23,11,23,34))"
   ]
  },
  {
   "cell_type": "code",
   "execution_count": 10,
   "id": "25447141",
   "metadata": {},
   "outputs": [
    {
     "data": {
      "text/plain": [
       "0.9486832980505138"
      ]
     },
     "execution_count": 10,
     "metadata": {},
     "output_type": "execute_result"
    }
   ],
   "source": [
    "statistics.stdev((12,10,10,12,10.5,11.5))"
   ]
  },
  {
   "cell_type": "markdown",
   "id": "df8c121d",
   "metadata": {},
   "source": [
    "### 5. Python - Collections Module\n",
    "\n",
    "The collections module provides alternatives to built-in container data types such as list, tuple and dict.\n",
    "\n",
    "\n",
    "###  namedtuple()\n",
    "\n",
    "The `namedtuple()` function returns a tuple-like object with named fields. These field attributes are accessible by lookup as well as by index.\n",
    "\n",
    "General usage of this function is:\n",
    "\n",
    "`syntax: collections.namedtuple(type_name, field-list)`"
   ]
  },
  {
   "cell_type": "code",
   "execution_count": 13,
   "id": "e46db6d4",
   "metadata": {},
   "outputs": [],
   "source": [
    "import collections\n",
    "\n",
    "student = collections.namedtuple('student', ['name', 'age', 'marks'])"
   ]
  },
  {
   "cell_type": "markdown",
   "id": "03c9b0d4",
   "metadata": {},
   "source": [
    "To create a new object of this namedtuple, do the following:"
   ]
  },
  {
   "cell_type": "code",
   "execution_count": 14,
   "id": "8455827c",
   "metadata": {},
   "outputs": [],
   "source": [
    "# Create New Object of Namedtuple\n",
    "\n",
    "s1 = student(\"Imran\", 21, 98)"
   ]
  },
  {
   "cell_type": "code",
   "execution_count": 15,
   "id": "7b7ec74d",
   "metadata": {},
   "outputs": [
    {
     "data": {
      "text/plain": [
       "'Imran'"
      ]
     },
     "execution_count": 15,
     "metadata": {},
     "output_type": "execute_result"
    }
   ],
   "source": [
    "s1.name"
   ]
  },
  {
   "cell_type": "code",
   "execution_count": 16,
   "id": "eeadef2a",
   "metadata": {},
   "outputs": [
    {
     "data": {
      "text/plain": [
       "'Imran'"
      ]
     },
     "execution_count": 16,
     "metadata": {},
     "output_type": "execute_result"
    }
   ],
   "source": [
    "s1[0]"
   ]
  },
  {
   "cell_type": "code",
   "execution_count": 17,
   "id": "e6aaa54e",
   "metadata": {},
   "outputs": [
    {
     "data": {
      "text/plain": [
       "21"
      ]
     },
     "execution_count": 17,
     "metadata": {},
     "output_type": "execute_result"
    }
   ],
   "source": [
    "s1.age"
   ]
  },
  {
   "cell_type": "code",
   "execution_count": 18,
   "id": "7892b302",
   "metadata": {},
   "outputs": [
    {
     "data": {
      "text/plain": [
       "98"
      ]
     },
     "execution_count": 18,
     "metadata": {},
     "output_type": "execute_result"
    }
   ],
   "source": [
    "s1.marks"
   ]
  },
  {
   "cell_type": "code",
   "execution_count": 19,
   "id": "10a41918",
   "metadata": {},
   "outputs": [
    {
     "data": {
      "text/plain": [
       "98"
      ]
     },
     "execution_count": 19,
     "metadata": {},
     "output_type": "execute_result"
    }
   ],
   "source": [
    "s1[2]"
   ]
  },
  {
   "cell_type": "code",
   "execution_count": 20,
   "id": "2f40568a",
   "metadata": {},
   "outputs": [
    {
     "data": {
      "text/plain": [
       "21"
      ]
     },
     "execution_count": 20,
     "metadata": {},
     "output_type": "execute_result"
    }
   ],
   "source": [
    "s1[1]"
   ]
  },
  {
   "cell_type": "code",
   "execution_count": 21,
   "id": "2f671415",
   "metadata": {},
   "outputs": [
    {
     "ename": "IndexError",
     "evalue": "tuple index out of range",
     "output_type": "error",
     "traceback": [
      "\u001b[1;31m---------------------------------------------------------------------------\u001b[0m",
      "\u001b[1;31mIndexError\u001b[0m                                Traceback (most recent call last)",
      "Input \u001b[1;32mIn [21]\u001b[0m, in \u001b[0;36m<cell line: 1>\u001b[1;34m()\u001b[0m\n\u001b[1;32m----> 1\u001b[0m \u001b[43ms1\u001b[49m\u001b[43m[\u001b[49m\u001b[38;5;241;43m4\u001b[39;49m\u001b[43m]\u001b[49m\n",
      "\u001b[1;31mIndexError\u001b[0m: tuple index out of range"
     ]
    }
   ],
   "source": [
    "s1[4]"
   ]
  },
  {
   "cell_type": "code",
   "execution_count": 72,
   "id": "047db574",
   "metadata": {},
   "outputs": [],
   "source": [
    "import collections\n",
    "\n",
    "student12 = collections.namedtuple('student', ['name', 'age', 'marks'])"
   ]
  },
  {
   "cell_type": "code",
   "execution_count": 73,
   "id": "257c8aef",
   "metadata": {},
   "outputs": [],
   "source": [
    "s1 = student12(\"Imran\", 21, 98)"
   ]
  },
  {
   "cell_type": "code",
   "execution_count": 74,
   "id": "0c53df9b",
   "metadata": {},
   "outputs": [
    {
     "data": {
      "text/plain": [
       "'Imran'"
      ]
     },
     "execution_count": 74,
     "metadata": {},
     "output_type": "execute_result"
    }
   ],
   "source": [
    "s1.name"
   ]
  },
  {
   "cell_type": "code",
   "execution_count": 75,
   "id": "77689f1b",
   "metadata": {},
   "outputs": [
    {
     "data": {
      "text/plain": [
       "21"
      ]
     },
     "execution_count": 75,
     "metadata": {},
     "output_type": "execute_result"
    }
   ],
   "source": [
    "s1.age"
   ]
  },
  {
   "cell_type": "code",
   "execution_count": 76,
   "id": "c1e18e86",
   "metadata": {},
   "outputs": [
    {
     "data": {
      "text/plain": [
       "98"
      ]
     },
     "execution_count": 76,
     "metadata": {},
     "output_type": "execute_result"
    }
   ],
   "source": [
    "s1.marks"
   ]
  },
  {
   "cell_type": "markdown",
   "id": "58c15351",
   "metadata": {},
   "source": [
    "`Point = namedtuple('Point', ['x', 'y'])`\n",
    "\n",
    "`Point.__doc__                   # docstring for the new class`\n",
    "\n",
    "`'Point(x, y)'`\n",
    "\n",
    "`p = Point(11, y=22)             # instantiate with positional args or keywords`\n",
    "\n",
    "`p[0] + p[1]                     # indexable like a plain tuple`\n",
    "\n",
    "`33`\n",
    "\n",
    "`x, y = p                        # unpack like a regular tuple`\n",
    "\n",
    "`x, y`\n",
    "\n",
    "`(11, 22)`\n",
    "\n",
    "`p.x + p.y                       # fields also accessible by name`\n",
    "\n",
    "`33`\n",
    "\n",
    "`d = p._asdict()                 # convert to a dictionary`\n",
    "\n",
    "`d['x']`\n",
    "\n",
    "`11`\n",
    "\n",
    "`Point(**d)                      # convert from a dictionary`\n",
    "\n",
    "`(x=11, y=22)\n",
    "\n",
    "` p._replace(x=100)`              # _replace() is like str.replace() but targets named fields`\n",
    "\n",
    "`(x=100, y=22)`\n",
    "`c:\\users\\ankit.shukla\\appdata\\local\\programs\\python\\python39\\lib\\collections\\__init__.py`\n"
   ]
  },
  {
   "cell_type": "code",
   "execution_count": 23,
   "id": "f7e95dd2",
   "metadata": {},
   "outputs": [],
   "source": [
    "import collections\n",
    "\n",
    "point = collections.namedtuple(\"point\", [\"x\", \"y\"])"
   ]
  },
  {
   "cell_type": "code",
   "execution_count": 24,
   "id": "f787954c",
   "metadata": {},
   "outputs": [
    {
     "data": {
      "text/plain": [
       "'point(x, y)'"
      ]
     },
     "execution_count": 24,
     "metadata": {},
     "output_type": "execute_result"
    }
   ],
   "source": [
    "point.__doc__"
   ]
  },
  {
   "cell_type": "code",
   "execution_count": 25,
   "id": "47c76e93",
   "metadata": {},
   "outputs": [],
   "source": [
    "p = point(11, y=22)             # instantiate with positional args or keywords"
   ]
  },
  {
   "cell_type": "code",
   "execution_count": 26,
   "id": "9fbd15b7",
   "metadata": {},
   "outputs": [
    {
     "data": {
      "text/plain": [
       "33"
      ]
     },
     "execution_count": 26,
     "metadata": {},
     "output_type": "execute_result"
    }
   ],
   "source": [
    "p[0] + p[1]                     # indexable like a plain tuple"
   ]
  },
  {
   "cell_type": "code",
   "execution_count": 27,
   "id": "da52e73f",
   "metadata": {},
   "outputs": [],
   "source": [
    "x, y = p                        # unpack like a regular tuple"
   ]
  },
  {
   "cell_type": "code",
   "execution_count": 32,
   "id": "3237e8b4",
   "metadata": {},
   "outputs": [
    {
     "data": {
      "text/plain": [
       "(11, 22)"
      ]
     },
     "execution_count": 32,
     "metadata": {},
     "output_type": "execute_result"
    }
   ],
   "source": [
    "x, y"
   ]
  },
  {
   "cell_type": "code",
   "execution_count": 29,
   "id": "0fa49d05",
   "metadata": {},
   "outputs": [
    {
     "data": {
      "text/plain": [
       "22"
      ]
     },
     "execution_count": 29,
     "metadata": {},
     "output_type": "execute_result"
    }
   ],
   "source": []
  },
  {
   "cell_type": "code",
   "execution_count": 33,
   "id": "22bc52f5",
   "metadata": {},
   "outputs": [
    {
     "data": {
      "text/plain": [
       "33"
      ]
     },
     "execution_count": 33,
     "metadata": {},
     "output_type": "execute_result"
    }
   ],
   "source": [
    "p.x + p.y                       # fields also accessible by name"
   ]
  },
  {
   "cell_type": "code",
   "execution_count": 34,
   "id": "a69b5a32",
   "metadata": {},
   "outputs": [],
   "source": [
    "d = p._asdict()                 # convert to a dictionary"
   ]
  },
  {
   "cell_type": "code",
   "execution_count": 35,
   "id": "f4090f83",
   "metadata": {},
   "outputs": [
    {
     "data": {
      "text/plain": [
       "11"
      ]
     },
     "execution_count": 35,
     "metadata": {},
     "output_type": "execute_result"
    }
   ],
   "source": [
    "d[\"x\"]"
   ]
  },
  {
   "cell_type": "code",
   "execution_count": 36,
   "id": "c010c0e5",
   "metadata": {},
   "outputs": [
    {
     "data": {
      "text/plain": [
       "22"
      ]
     },
     "execution_count": 36,
     "metadata": {},
     "output_type": "execute_result"
    }
   ],
   "source": [
    "d[\"y\"]"
   ]
  },
  {
   "cell_type": "code",
   "execution_count": 38,
   "id": "bac10567",
   "metadata": {},
   "outputs": [
    {
     "data": {
      "text/plain": [
       "point(x=11, y=22)"
      ]
     },
     "execution_count": 38,
     "metadata": {},
     "output_type": "execute_result"
    }
   ],
   "source": [
    "point(**d)                      # convert from a dictionary"
   ]
  },
  {
   "cell_type": "code",
   "execution_count": 39,
   "id": "94f68b64",
   "metadata": {},
   "outputs": [
    {
     "data": {
      "text/plain": [
       "point(x=100, y=22)"
      ]
     },
     "execution_count": 39,
     "metadata": {},
     "output_type": "execute_result"
    }
   ],
   "source": [
    "p._replace(x=100) # _replace() is like str.replace() but targets named fields`"
   ]
  },
  {
   "cell_type": "code",
   "execution_count": 40,
   "id": "f93532b8",
   "metadata": {},
   "outputs": [
    {
     "data": {
      "text/plain": [
       "33"
      ]
     },
     "execution_count": 40,
     "metadata": {},
     "output_type": "execute_result"
    }
   ],
   "source": [
    "p.x + p.y"
   ]
  },
  {
   "cell_type": "code",
   "execution_count": 41,
   "id": "1fcf4266",
   "metadata": {},
   "outputs": [
    {
     "data": {
      "text/plain": [
       "point(x=11, y=22)"
      ]
     },
     "execution_count": 41,
     "metadata": {},
     "output_type": "execute_result"
    }
   ],
   "source": [
    "p"
   ]
  },
  {
   "cell_type": "markdown",
   "id": "58c27040",
   "metadata": {},
   "source": [
    "#### OrderedDict()\n",
    "\n",
    "`The OrderedDict() function is similar to a normal dictionary object in Python. However, it remembers the order of the keys in which they were first inserted.`"
   ]
  },
  {
   "cell_type": "code",
   "execution_count": 42,
   "id": "49fa3a5d",
   "metadata": {},
   "outputs": [
    {
     "name": "stdout",
     "output_type": "stream",
     "text": [
      "A 65\n",
      "C 67\n",
      "B 66\n",
      "D 68\n"
     ]
    }
   ],
   "source": [
    "import collections\n",
    "\n",
    "d1 = collections.OrderedDict()\n",
    "d1['A'] = 65\n",
    "d1['C'] = 67\n",
    "d1['B'] = 66\n",
    "d1['D'] = 68\n",
    "\n",
    "for k,v in d1.items():\n",
    "    print (k,v)"
   ]
  },
  {
   "cell_type": "markdown",
   "id": "029f5235",
   "metadata": {},
   "source": [
    "Upon traversing the dictionary, pairs will appear in the order of their insertion."
   ]
  },
  {
   "cell_type": "code",
   "execution_count": 43,
   "id": "62d9e95f",
   "metadata": {},
   "outputs": [
    {
     "data": {
      "text/plain": [
       "OrderedDict([('A', 65), ('C', 67), ('B', 66), ('D', 68)])"
      ]
     },
     "execution_count": 43,
     "metadata": {},
     "output_type": "execute_result"
    }
   ],
   "source": [
    "d1"
   ]
  },
  {
   "cell_type": "markdown",
   "id": "34a13651",
   "metadata": {},
   "source": [
    "### deque()\n",
    "\n",
    "\n",
    "`A deque object support appends and pops from either ends of a list. It is more memory efficient than a normal list object. In a normal list object, the removal of any item causes all items to the right to be shifted towards left by one index. Hence, it is very slow.`"
   ]
  },
  {
   "cell_type": "code",
   "execution_count": 44,
   "id": "5495dc7c",
   "metadata": {},
   "outputs": [],
   "source": [
    "q=collections.deque([10,20,30,40])\n",
    "q.appendleft(0)"
   ]
  },
  {
   "cell_type": "code",
   "execution_count": 45,
   "id": "9e8bf9a6",
   "metadata": {},
   "outputs": [
    {
     "data": {
      "text/plain": [
       "deque([0, 10, 20, 30, 40])"
      ]
     },
     "execution_count": 45,
     "metadata": {},
     "output_type": "execute_result"
    }
   ],
   "source": [
    "q"
   ]
  },
  {
   "cell_type": "code",
   "execution_count": 46,
   "id": "e3de9566",
   "metadata": {},
   "outputs": [],
   "source": [
    "q.append(50)"
   ]
  },
  {
   "cell_type": "code",
   "execution_count": 47,
   "id": "a72ecbe9",
   "metadata": {},
   "outputs": [
    {
     "data": {
      "text/plain": [
       "deque([0, 10, 20, 30, 40, 50])"
      ]
     },
     "execution_count": 47,
     "metadata": {},
     "output_type": "execute_result"
    }
   ],
   "source": [
    "q"
   ]
  },
  {
   "cell_type": "code",
   "execution_count": 48,
   "id": "74685427",
   "metadata": {},
   "outputs": [
    {
     "data": {
      "text/plain": [
       "50"
      ]
     },
     "execution_count": 48,
     "metadata": {},
     "output_type": "execute_result"
    }
   ],
   "source": [
    "q.pop()"
   ]
  },
  {
   "cell_type": "code",
   "execution_count": 49,
   "id": "db928904",
   "metadata": {},
   "outputs": [
    {
     "data": {
      "text/plain": [
       "deque([0, 10, 20, 30, 40])"
      ]
     },
     "execution_count": 49,
     "metadata": {},
     "output_type": "execute_result"
    }
   ],
   "source": [
    "q"
   ]
  },
  {
   "cell_type": "code",
   "execution_count": 50,
   "id": "c4925383",
   "metadata": {},
   "outputs": [
    {
     "data": {
      "text/plain": [
       "0"
      ]
     },
     "execution_count": 50,
     "metadata": {},
     "output_type": "execute_result"
    }
   ],
   "source": [
    "q.popleft()"
   ]
  },
  {
   "cell_type": "code",
   "execution_count": 51,
   "id": "ada2cf34",
   "metadata": {},
   "outputs": [
    {
     "data": {
      "text/plain": [
       "deque([10, 20, 30, 40])"
      ]
     },
     "execution_count": 51,
     "metadata": {},
     "output_type": "execute_result"
    }
   ],
   "source": [
    "q"
   ]
  },
  {
   "cell_type": "markdown",
   "id": "6cadecb2",
   "metadata": {},
   "source": [
    "###  Python - Random Module\n",
    "\n",
    "`The random module is a built-in module to generate the pseudo-random variables. It can be used perform some action randomly such as to get a random number, selecting a random elements from a list, shuffle elements randomly, etc.`\n",
    "\n",
    "#### Generate Random Floats\n",
    "The `random.random()` method returns a random float number between 0.0 to 1.0. The function doesn't need any arguments.\n",
    "\n"
   ]
  },
  {
   "cell_type": "code",
   "execution_count": 52,
   "id": "8f40b58d",
   "metadata": {},
   "outputs": [],
   "source": [
    "import random"
   ]
  },
  {
   "cell_type": "code",
   "execution_count": 54,
   "id": "d82e85bc",
   "metadata": {},
   "outputs": [
    {
     "data": {
      "text/plain": [
       "0.12823490816081018"
      ]
     },
     "execution_count": 54,
     "metadata": {},
     "output_type": "execute_result"
    }
   ],
   "source": [
    "random.random()"
   ]
  },
  {
   "cell_type": "markdown",
   "id": "2715b51f",
   "metadata": {},
   "source": [
    "#### Generate Random Integers\n",
    "\n",
    "The `random.randint()` method returns a random integer between the specified integers."
   ]
  },
  {
   "cell_type": "code",
   "execution_count": 55,
   "id": "3d5cf1f1",
   "metadata": {},
   "outputs": [
    {
     "data": {
      "text/plain": [
       "15"
      ]
     },
     "execution_count": 55,
     "metadata": {},
     "output_type": "execute_result"
    }
   ],
   "source": [
    "import random\n",
    "\n",
    "random.randint(1,20)"
   ]
  },
  {
   "cell_type": "code",
   "execution_count": 58,
   "id": "52c38ed8",
   "metadata": {},
   "outputs": [
    {
     "data": {
      "text/plain": [
       "21"
      ]
     },
     "execution_count": 58,
     "metadata": {},
     "output_type": "execute_result"
    }
   ],
   "source": [
    "random.randint(1,50)"
   ]
  },
  {
   "cell_type": "code",
   "execution_count": 61,
   "id": "c645bda7",
   "metadata": {},
   "outputs": [
    {
     "data": {
      "text/plain": [
       "3"
      ]
     },
     "execution_count": 61,
     "metadata": {},
     "output_type": "execute_result"
    }
   ],
   "source": [
    "random.randint(2,3)"
   ]
  },
  {
   "cell_type": "code",
   "execution_count": 62,
   "id": "85caab8f",
   "metadata": {},
   "outputs": [
    {
     "data": {
      "text/plain": [
       "3"
      ]
     },
     "execution_count": 62,
     "metadata": {},
     "output_type": "execute_result"
    }
   ],
   "source": [
    "random.randint(3,3)"
   ]
  },
  {
   "cell_type": "markdown",
   "id": "40c6efb8",
   "metadata": {},
   "source": [
    "#### Generate Random Numbers within Range\n",
    "\n",
    "The `random.randrange()` method returns a randomly selected element from the range created by the start, stop and step arguments. The value of start is 0 by default. Similarly, the value of step is 1 by default."
   ]
  },
  {
   "cell_type": "code",
   "execution_count": 63,
   "id": "d115a393",
   "metadata": {},
   "outputs": [
    {
     "data": {
      "text/plain": [
       "5"
      ]
     },
     "execution_count": 63,
     "metadata": {},
     "output_type": "execute_result"
    }
   ],
   "source": [
    "import random\n",
    "\n",
    "random.randrange(1,10)"
   ]
  },
  {
   "cell_type": "code",
   "execution_count": 64,
   "id": "35081f61",
   "metadata": {},
   "outputs": [
    {
     "data": {
      "text/plain": [
       "1"
      ]
     },
     "execution_count": 64,
     "metadata": {},
     "output_type": "execute_result"
    }
   ],
   "source": [
    "random.randrange(1,10, 2)"
   ]
  },
  {
   "cell_type": "code",
   "execution_count": 65,
   "id": "a30fdedb",
   "metadata": {},
   "outputs": [
    {
     "data": {
      "text/plain": [
       "40"
      ]
     },
     "execution_count": 65,
     "metadata": {},
     "output_type": "execute_result"
    }
   ],
   "source": [
    "random.randrange(0, 101, 10)"
   ]
  },
  {
   "cell_type": "markdown",
   "id": "b7e2f1b9",
   "metadata": {},
   "source": [
    "#### Select Random Elements\n",
    "\n",
    "The `random.choice()` method returns a randomly selected element from a non-empty sequence. An empty sequence as argument raises an IndexError."
   ]
  },
  {
   "cell_type": "code",
   "execution_count": 66,
   "id": "4e547ba9",
   "metadata": {},
   "outputs": [
    {
     "data": {
      "text/plain": [
       "'m'"
      ]
     },
     "execution_count": 66,
     "metadata": {},
     "output_type": "execute_result"
    }
   ],
   "source": [
    "import random\n",
    "random.choice('computer')"
   ]
  },
  {
   "cell_type": "code",
   "execution_count": 67,
   "id": "da7748d4",
   "metadata": {},
   "outputs": [
    {
     "data": {
      "text/plain": [
       "45"
      ]
     },
     "execution_count": 67,
     "metadata": {},
     "output_type": "execute_result"
    }
   ],
   "source": [
    "random.choice([12,23,45,67,65,43])"
   ]
  },
  {
   "cell_type": "code",
   "execution_count": 68,
   "id": "54ff869a",
   "metadata": {},
   "outputs": [
    {
     "data": {
      "text/plain": [
       "10"
      ]
     },
     "execution_count": 68,
     "metadata": {},
     "output_type": "execute_result"
    }
   ],
   "source": [
    "random.choice([12,23,10,12,43])"
   ]
  },
  {
   "cell_type": "markdown",
   "id": "2ebc99b5",
   "metadata": {},
   "source": [
    "#### Shuffle Elements Randomly\n",
    "\n",
    "The `random.shuffle()` method randomly reorders the elements in a list."
   ]
  },
  {
   "cell_type": "code",
   "execution_count": 69,
   "id": "ef2b2af0",
   "metadata": {},
   "outputs": [],
   "source": [
    "import random \n",
    "\n",
    "numbers=[12,23,45,67,65,43]\n",
    "\n",
    "random.shuffle(numbers)"
   ]
  },
  {
   "cell_type": "code",
   "execution_count": 70,
   "id": "248ce4c6",
   "metadata": {},
   "outputs": [
    {
     "data": {
      "text/plain": [
       "[23, 12, 67, 45, 43, 65]"
      ]
     },
     "execution_count": 70,
     "metadata": {},
     "output_type": "execute_result"
    }
   ],
   "source": [
    " numbers"
   ]
  },
  {
   "cell_type": "markdown",
   "id": "eb02bf03",
   "metadata": {},
   "source": [
    "as we can see that list elements order has been changed by shuffle built - in module."
   ]
  },
  {
   "cell_type": "code",
   "execution_count": 71,
   "id": "ec3033e8",
   "metadata": {},
   "outputs": [
    {
     "data": {
      "text/plain": [
       "[23, 12, 67, 45, 43, 65]"
      ]
     },
     "execution_count": 71,
     "metadata": {},
     "output_type": "execute_result"
    }
   ],
   "source": [
    "numbers\n"
   ]
  },
  {
   "cell_type": "code",
   "execution_count": null,
   "id": "c3ac7ab1",
   "metadata": {},
   "outputs": [],
   "source": []
  }
 ],
 "metadata": {
  "kernelspec": {
   "display_name": "Python 3 (ipykernel)",
   "language": "python",
   "name": "python3"
  },
  "language_info": {
   "codemirror_mode": {
    "name": "ipython",
    "version": 3
   },
   "file_extension": ".py",
   "mimetype": "text/x-python",
   "name": "python",
   "nbconvert_exporter": "python",
   "pygments_lexer": "ipython3",
   "version": "3.9.7"
  }
 },
 "nbformat": 4,
 "nbformat_minor": 5
}
