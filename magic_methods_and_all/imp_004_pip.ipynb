{
 "cells": [
  {
   "cell_type": "markdown",
   "id": "debbd41e",
   "metadata": {},
   "source": [
    "### PIP - Package Installer for Python"
   ]
  },
  {
   "cell_type": "markdown",
   "id": "5120d284",
   "metadata": {},
   "source": [
    "PIP is the Package Installer for Python. It is used to install packages from Python Package Index (PyPI) and other indexes.\n",
    "\n",
    "#### PyPI - Python Package Index\n",
    "PyPI is the default repository of Python packages for Python community that includes frameworks, tools and, libraries. Python developers can install and use packages in the Python application. It is open to all Python developers to consume and distribute their distributions. Developers can search or browse projects from pypi.org.\n",
    "\n",
    "#### Install pip\n",
    "PIP has been included with Python installer since Python 3.4. You can verify whether the pip is installed on your machine by running the following command in your console:"
   ]
  },
  {
   "cell_type": "code",
   "execution_count": 1,
   "id": "f12de513",
   "metadata": {},
   "outputs": [
    {
     "name": "stdout",
     "output_type": "stream",
     "text": [
      "pip 22.0.4 from C:\\Users\\ankit.shukla\\AppData\\Local\\Programs\\Python\\Python39\\lib\\site-packages\\pip (python 3.9)\n",
      "\n",
      "Note: you may need to restart the kernel to use updated packages.\n"
     ]
    }
   ],
   "source": [
    "pip --version"
   ]
  },
  {
   "cell_type": "code",
   "execution_count": 2,
   "id": "8c574c99",
   "metadata": {},
   "outputs": [
    {
     "name": "stdout",
     "output_type": "stream",
     "text": [
      "pip 22.0.4 from C:\\Users\\ankit.shukla\\AppData\\Local\\Programs\\Python\\Python39\\lib\\site-packages\\pip (python 3.9)\n",
      "\n"
     ]
    }
   ],
   "source": [
    "!pip --version"
   ]
  },
  {
   "cell_type": "markdown",
   "id": "9a9cc1ee",
   "metadata": {},
   "source": [
    "`If you are using an older version of pip, you can upgrade pip by running the following command on Windows:`\n",
    "\n"
   ]
  },
  {
   "cell_type": "markdown",
   "id": "e7bf58be",
   "metadata": {},
   "source": [
    "`python -m pip install -U pip`  # in command line"
   ]
  },
  {
   "cell_type": "markdown",
   "id": "d021a5c3",
   "metadata": {},
   "source": [
    "`Execute the following command on Linux or Mac OS to upgrade pip:`\n",
    "\n",
    "`$ pip install -U pip`"
   ]
  },
  {
   "cell_type": "markdown",
   "id": "341739d1",
   "metadata": {},
   "source": [
    "If pip isn't already installed, then first try to bootstrap it from the standard library by executing the following command in your console or terminal window:\n",
    "\n",
    "`python -m ensurepip --default-pip`\n",
    "\n",
    "If that still doesn't install pip, the following steps should install pip on your platform.\n",
    "\n",
    "Download get-pip.py from https://bootstrap.pypa.io/get-pip.py and save it to your local folder.\n",
    "Navigate command prompt or terminal to the folder where you have downloaded the file and run the command: python get-pip.py\n",
    "This command will install pip in your pc. Additionally, it also installs the wheel and setuptools."
   ]
  },
  {
   "cell_type": "markdown",
   "id": "eea85057",
   "metadata": {},
   "source": [
    "#### pip Help command\n",
    "The pip help command is used to get a list of all the functions available in pip.\n",
    "\n",
    "C:\\> pip help"
   ]
  },
  {
   "cell_type": "code",
   "execution_count": 4,
   "id": "19cf1b14",
   "metadata": {},
   "outputs": [
    {
     "name": "stdout",
     "output_type": "stream",
     "text": [
      "\n",
      "Usage:   \n",
      "  C:\\Users\\ankit.shukla\\AppData\\Local\\Programs\\Python\\Python39\\python.exe -m pip <command> [options]\n",
      "\n",
      "Commands:\n",
      "  install                     Install packages.\n",
      "  download                    Download packages.\n",
      "  uninstall                   Uninstall packages.\n",
      "  freeze                      Output installed packages in requirements format.\n",
      "  list                        List installed packages.\n",
      "  show                        Show information about installed packages.\n",
      "  check                       Verify installed packages have compatible dependencies.\n",
      "  config                      Manage local and global configuration.\n",
      "  search                      Search PyPI for packages.\n",
      "  cache                       Inspect and manage pip's wheel cache.\n",
      "  index                       Inspect information available from package indexes.\n",
      "  wheel                       Build wheels from your requirements.\n",
      "  hash                        Compute hashes of package archives.\n",
      "  completion                  A helper command used for command completion.\n",
      "  debug                       Show information useful for debugging.\n",
      "  help                        Show help for commands.\n",
      "\n",
      "General Options:\n",
      "  -h, --help                  Show help.\n",
      "  --debug                     Let unhandled exceptions propagate outside the\n",
      "                              main subroutine, instead of logging them to\n",
      "                              stderr.\n",
      "  --isolated                  Run pip in an isolated mode, ignoring\n",
      "                              environment variables and user configuration.\n",
      "  --require-virtualenv        Allow pip to only run in a virtual environment;\n",
      "                              exit with an error otherwise.\n",
      "  -v, --verbose               Give more output. Option is additive, and can be\n",
      "                              used up to 3 times.\n",
      "  -V, --version               Show version and exit.\n",
      "  -q, --quiet                 Give less output. Option is additive, and can be\n",
      "                              used up to 3 times (corresponding to WARNING,\n",
      "                              ERROR, and CRITICAL logging levels).\n",
      "  --log <path>                Path to a verbose appending log.\n",
      "  --no-input                  Disable prompting for input.\n",
      "  --proxy <proxy>             Specify a proxy in the form\n",
      "                              [user:passwd@]proxy.server:port.\n",
      "  --retries <retries>         Maximum number of retries each connection should\n",
      "                              attempt (default 5 times).\n",
      "  --timeout <sec>             Set the socket timeout (default 15 seconds).\n",
      "  --exists-action <action>    Default action when a path already exists:\n",
      "                              (s)witch, (i)gnore, (w)ipe, (b)ackup, (a)bort.\n",
      "  --trusted-host <hostname>   Mark this host or host:port pair as trusted,\n",
      "                              even though it does not have valid or any HTTPS.\n",
      "  --cert <path>               Path to PEM-encoded CA certificate bundle. If\n",
      "                              provided, overrides the default. See 'SSL\n",
      "                              Certificate Verification' in pip documentation\n",
      "                              for more information.\n",
      "  --client-cert <path>        Path to SSL client certificate, a single file\n",
      "                              containing the private key and the certificate\n",
      "                              in PEM format.\n",
      "  --cache-dir <dir>           Store the cache data in <dir>.\n",
      "  --no-cache-dir              Disable the cache.\n",
      "  --disable-pip-version-check\n",
      "                              Don't periodically check PyPI to determine\n",
      "                              whether a new version of pip is available for\n",
      "                              download. Implied with --no-index.\n",
      "  --no-color                  Suppress colored output.\n",
      "  --no-python-version-warning\n",
      "                              Silence deprecation warnings for upcoming\n",
      "                              unsupported Pythons.\n",
      "  --use-feature <feature>     Enable new functionality, that may be backward\n",
      "                              incompatible.\n",
      "  --use-deprecated <feature>  Enable deprecated functionality, that will be\n",
      "                              removed in the future.\n",
      "Note: you may need to restart the kernel to use updated packages.\n"
     ]
    }
   ],
   "source": [
    "pip help"
   ]
  },
  {
   "cell_type": "markdown",
   "id": "098fedf8",
   "metadata": {},
   "source": [
    "### Most Important\n",
    "\n",
    "#### Installing packages\n",
    "`PyPI maintains packages as projects. Use the following pip command to install the latest version of the project.`\n",
    "\n",
    "1. `Pip install \"project-name\"`\n",
    "\n",
    "`Use the following command installs the specific version of the project:`\n",
    "\n",
    "2. `pip install \"project-name==2.4\"`\n",
    "\n",
    "`Use the following command to install a version that's \"compatible\" with a certain version:`\n",
    "\n",
    "3. `pip install \"project-name~=2.4\"`"
   ]
  },
  {
   "cell_type": "markdown",
   "id": "2700a12a",
   "metadata": {},
   "source": [
    "`Let's install a package to send an HTTP request in Python. urllib3 is a powerful, user-friendly HTTP client for Python. Before using urllib3 package in your application, install it using the pip command, as shown below.`\n",
    "\n",
    "`C:\\MyProject> Pip install urllib3`\n",
    "\n",
    "The above command will install the latest version of urllib3. Now, you can import and use it, as shown below."
   ]
  },
  {
   "cell_type": "markdown",
   "id": "cb01cc7e",
   "metadata": {},
   "source": [
    "`import urllib3`\n",
    "\n",
    "`http = urllib3.PoolManager()\n",
    "req = http.request('GET', 'http://www.google.com')\n",
    "print(req.status)`\n"
   ]
  },
  {
   "cell_type": "markdown",
   "id": "9d743037",
   "metadata": {},
   "source": [
    "### To find List packages\n",
    "\n",
    "The list command can be used to see all the packages that have been installed on the system. If you want to check all the packages, use the `pip list` command:\n",
    "\n",
    "\n",
    "`pip list`\n"
   ]
  },
  {
   "cell_type": "markdown",
   "id": "95c01183",
   "metadata": {},
   "source": [
    "This will list all the packages available to use in your system. Notice that urllib3 package is also listed there.\n",
    "\n",
    "#### Show package\n",
    "If you want to check the metadata of a package, then use pip show command. The following command will display the metadata of the urllib3 package.\n",
    "\n",
    "`C:\\> pip show urllib3`\n"
   ]
  },
  {
   "cell_type": "markdown",
   "id": "7a4a8636",
   "metadata": {},
   "source": [
    "#### Uninstalling a Package\n",
    "The pip uninstall command can be used to remove a package. For example, if you want to remove urllib3 package, you can simply use the following command:\n",
    "\n",
    "#### $ pip uninstall urllib3\n",
    "The pip package manager will ask you to confirm if you want to uninstall the package. Proceed (y/n)?: If you press y, the package will be removed.\n",
    "\n",
    "Thus, you can use pip as a package manager of your Python application."
   ]
  },
  {
   "cell_type": "markdown",
   "id": "35a162b1",
   "metadata": {},
   "source": [
    "`$ pip uninstall urllib3`\n",
    "\n",
    "The pip package manager will ask you to confirm if you want to uninstall the package. Proceed (y/n)?: If you press y, the package will be removed.\n",
    "\n",
    "Thus, you can use pip as a package manager of your Python application."
   ]
  },
  {
   "cell_type": "code",
   "execution_count": null,
   "id": "71b6e9a3",
   "metadata": {},
   "outputs": [],
   "source": []
  }
 ],
 "metadata": {
  "kernelspec": {
   "display_name": "Python 3 (ipykernel)",
   "language": "python",
   "name": "python3"
  },
  "language_info": {
   "codemirror_mode": {
    "name": "ipython",
    "version": 3
   },
   "file_extension": ".py",
   "mimetype": "text/x-python",
   "name": "python",
   "nbconvert_exporter": "python",
   "pygments_lexer": "ipython3",
   "version": "3.9.7"
  }
 },
 "nbformat": 4,
 "nbformat_minor": 5
}
