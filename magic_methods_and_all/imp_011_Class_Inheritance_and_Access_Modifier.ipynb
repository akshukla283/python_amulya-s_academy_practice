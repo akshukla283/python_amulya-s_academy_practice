{
 "cells": [
  {
   "cell_type": "markdown",
   "id": "09a8ff24",
   "metadata": {},
   "source": [
    "### Inheritance in Python\n",
    "We often come across different products that have a basic model and an advanced model with added features over and above basic model. A software modelling approach of OOP enables extending the capability of an existing class to build a new class, instead of building from scratch. In OOP terminology, this characteristic is called inheritance, the existing class is called base or parent class, while the new class is called child or sub class.\n",
    "\n",
    "Inheritance comes into picture when a new class possesses the `'IS A'` relationship with an existing class.\n",
    "\n",
    "Dog IS an animal. Cat also IS an animal. Hence, animal is the base class, while dog and cat are inherited classes.\n",
    "\n",
    "`A quadrilateral `has four sides. `A rectangle IS a quadrilateral`, and `so IS a square`. Quadrilateral is a base class (also called parent class), while rectangle and square are the inherited classes - also called child classes.\n",
    "\n",
    "The child class inherits data definitions and methods from the parent class. This facilitates the reuse of features already available. The child class can add a few more definitions or redefine a base class method.\n",
    "\n",
    "This feature is extremely useful in building a hierarchy of classes for objects in a system. It is also possible to design a new class based upon more than one existing classes. This feature is called multiple inheritance.\n",
    "\n",
    "The general mechanism of establishing inheritance is illustrated below:\n",
    "\n",
    "`Syntax:\n",
    "class parent:\n",
    "    statements\n",
    "                    \n",
    "class child(parent):\n",
    "    statements`\n",
    "    \n",
    "While defining the child class, the name of the parent class is put in the parentheses in front of it, indicating the relation between the two. Instance attributes and methods defined in the parent class will be inherited by the object of the child class.\n",
    "\n",
    "To demonstrate a more meaningful example, a quadrilateral class is first defined, and it is used as a base class for the rectangle class.\n",
    "\n",
    "A quadrilateral class having four sides as instance variables and a `perimeter() method` is defined below:\n",
    "\n"
   ]
  },
  {
   "cell_type": "code",
   "execution_count": 1,
   "id": "0688a4dd",
   "metadata": {},
   "outputs": [],
   "source": [
    "class QuadriLateral:\n",
    "    \n",
    "    def __init__(self, a, b, c, d):\n",
    "        self.side1 = a\n",
    "        self.side2 = b\n",
    "        self.side3 = c\n",
    "        self.side4 = d \n",
    "    def perimeter(self):\n",
    "        p = self.side1 + self.side2 + self.side3 + self.side4\n",
    "        \n",
    "        print(\"Perimeter  = \", p)"
   ]
  },
  {
   "cell_type": "markdown",
   "id": "be5e7e3d",
   "metadata": {},
   "source": [
    "The `constructor (the __init__() method)` receives four parameters and assigns them to four instance variables. To test the above class, declare its object and invoke the perimeter() method."
   ]
  },
  {
   "cell_type": "code",
   "execution_count": 2,
   "id": "38f7aacd",
   "metadata": {},
   "outputs": [],
   "source": [
    "q1 = QuadriLateral(7,5,6,4)"
   ]
  },
  {
   "cell_type": "code",
   "execution_count": 3,
   "id": "a6ddb84f",
   "metadata": {},
   "outputs": [
    {
     "name": "stdout",
     "output_type": "stream",
     "text": [
      "Perimeter  =  22\n"
     ]
    }
   ],
   "source": [
    "q1.perimeter()"
   ]
  },
  {
   "cell_type": "markdown",
   "id": "e3432225",
   "metadata": {},
   "source": [
    "We now design a rectangle class based upon the `QuadriLateral class (rectangle IS a Quadrilateral!)`. The instance variables and the `perimeter()` method from the base class should be automatically available to it without redefining it.\n",
    "\n",
    "Since opposite sides of the rectangle are the same, we need only two adjacent sides to construct its object. Hence, the other two parameters of the `__init__()` method are set to none. The `__init__()` method forwards the parameters to the constructor of its base `(Quadrilateral)` class using the `super()` function. The object is initialized with `side3 and side4` set to `none.` Opposite sides are made equal by the constructor of rectangle class. Remember that it has automatically inherited the `perimeter()` method, hence there is no need to redefine it.\n",
    "\n",
    "Example: Inheritance"
   ]
  },
  {
   "cell_type": "code",
   "execution_count": 4,
   "id": "fdb2775f",
   "metadata": {},
   "outputs": [],
   "source": [
    "class Rectangle(QuadriLateral):\n",
    "    \n",
    "    def __init__(self, a, b):\n",
    "        super().__init__(a, b, a, b) # Since opposite sides of the rectangle are the same,\n",
    "                                     # that is why 'c' and 'd'  will be 'a' and 'b'"
   ]
  },
  {
   "cell_type": "markdown",
   "id": "9445dcb1",
   "metadata": {},
   "source": [
    "We can now declare the object of the rectangle class and call the `perimeter()` method."
   ]
  },
  {
   "cell_type": "code",
   "execution_count": 5,
   "id": "00219ed1",
   "metadata": {},
   "outputs": [],
   "source": [
    "r1 = Rectangle(10, 20)"
   ]
  },
  {
   "cell_type": "code",
   "execution_count": 6,
   "id": "83b259bf",
   "metadata": {},
   "outputs": [
    {
     "name": "stdout",
     "output_type": "stream",
     "text": [
      "Perimeter  =  60\n"
     ]
    }
   ],
   "source": [
    "r1.perimeter()"
   ]
  },
  {
   "cell_type": "markdown",
   "id": "7a2f0411",
   "metadata": {},
   "source": [
    "### Overriding in Python\n",
    "In the above example, we see how resources of the base class are reused while constructing the inherited class. However, the inherited class can have its own instance attributes and methods.\n",
    "\n",
    "Methods of the parent class are available for use in the inherited class. However, if needed, we can modify the functionality of any base class method. For that purpose, the inherited class contains a new definition of a method (with the same name and the signature already present in the base class). Naturally, the object of a new class will have access to both methods, but the one from its own class will have precedence when invoked. This is called method `overriding`.\n",
    "\n",
    "First, we shall define a new method named `area()` in the rectangle class and use it as a base for the `square class`. The `area of rectangle is the product of its adjacent sides.`"
   ]
  },
  {
   "cell_type": "code",
   "execution_count": 7,
   "id": "42ff8cfc",
   "metadata": {},
   "outputs": [],
   "source": [
    "class Rectangle(QuadriLateral):\n",
    "    \n",
    "    def __init__(self, a, b):\n",
    "        super().__init__(a, b, a, b)\n",
    "        \n",
    "    def area(self):\n",
    "        \n",
    "        a = self.side1 * self.side2\n",
    "        \n",
    "        print(\"Area of rectagle : \", a)"
   ]
  },
  {
   "cell_type": "markdown",
   "id": "0c97cd23",
   "metadata": {},
   "source": [
    "`Let us define the square class which inherits the rectangle class. The area() method is overridden to implement the formula for the area of the square as the square of its sides.`"
   ]
  },
  {
   "cell_type": "code",
   "execution_count": 8,
   "id": "aac79384",
   "metadata": {},
   "outputs": [],
   "source": [
    "class Square(Rectangle):\n",
    "    \n",
    "    def __init__(self, a):\n",
    "        \n",
    "        super().__init__(a, a)   # in square all the side same that's why we pass a, a instead of\n",
    "                                 # a, b\n",
    "            \n",
    "    def area(self):     # base class overriding by new implementation of formula\n",
    "        \n",
    "        a = pow(self.side1, 2)\n",
    "        print(\"Area of square : \", a)"
   ]
  },
  {
   "cell_type": "code",
   "execution_count": 9,
   "id": "33ec6989",
   "metadata": {},
   "outputs": [],
   "source": [
    "s = Square(10)"
   ]
  },
  {
   "cell_type": "code",
   "execution_count": 10,
   "id": "d9349e26",
   "metadata": {},
   "outputs": [
    {
     "name": "stdout",
     "output_type": "stream",
     "text": [
      "Area of square :  100\n"
     ]
    }
   ],
   "source": [
    "s.area()"
   ]
  },
  {
   "cell_type": "markdown",
   "id": "bcce7e43",
   "metadata": {},
   "source": [
    "### Python - Public, Protected, Private Members\n",
    "\n",
    "`Classical object-oriented languages, such as C++ and Java, control the access to class resources by public, private, and protected keywords. Private members of the class are denied access from the environment outside the class. They can be handled only from within the class.`\n",
    "\n",
    "### Public Members\n",
    "\n",
    "`Public members (generally methods declared in a class) are accessible from outside the class. The object of the same class is required to invoke a public method. This arrangement of private instance variables and public methods ensures the principle of data encapsulation.`\n",
    "\n",
    "`All members in a Python class are public by default. Any member can be accessed from outside the class environment.`"
   ]
  },
  {
   "cell_type": "markdown",
   "id": "c125a0b0",
   "metadata": {},
   "source": [
    "Example: Public Attributes Copy"
   ]
  },
  {
   "cell_type": "code",
   "execution_count": 11,
   "id": "720b8390",
   "metadata": {},
   "outputs": [],
   "source": [
    "class Student:\n",
    "    schoolName = 'XYZ School' # class attribute\n",
    "\n",
    "    def __init__(self, name, age):\n",
    "        self.name=name # instance attribute\n",
    "        self.age=age # instance attribute\n",
    "        "
   ]
  },
  {
   "cell_type": "markdown",
   "id": "373962ee",
   "metadata": {},
   "source": [
    "You can access the Student class's attributes and also modify their values, as shown below."
   ]
  },
  {
   "cell_type": "code",
   "execution_count": 12,
   "id": "ab1faee5",
   "metadata": {},
   "outputs": [
    {
     "data": {
      "text/plain": [
       "'XYZ School'"
      ]
     },
     "execution_count": 12,
     "metadata": {},
     "output_type": "execute_result"
    }
   ],
   "source": [
    "std = Student(\"Steve\", 25)\n",
    "std.schoolName"
   ]
  },
  {
   "cell_type": "code",
   "execution_count": 13,
   "id": "ee2832fc",
   "metadata": {},
   "outputs": [
    {
     "data": {
      "text/plain": [
       "'Steve'"
      ]
     },
     "execution_count": 13,
     "metadata": {},
     "output_type": "execute_result"
    }
   ],
   "source": [
    "std.name"
   ]
  },
  {
   "cell_type": "code",
   "execution_count": 14,
   "id": "44f29e89",
   "metadata": {},
   "outputs": [
    {
     "data": {
      "text/plain": [
       "25"
      ]
     },
     "execution_count": 14,
     "metadata": {},
     "output_type": "execute_result"
    }
   ],
   "source": [
    "std.age"
   ]
  },
  {
   "cell_type": "markdown",
   "id": "85bd9920",
   "metadata": {},
   "source": [
    "### Protected Members\n",
    "\n",
    "`Protected members of a class are accessible from within the class and are also available to its sub-classes. No other environment is permitted access to it. This enables specific resources of the parent class to be inherited by the child class.`\n",
    "\n",
    "`Python's convention to make an instance variable protected is to add a prefix _ (single underscore) to it. This effectively prevents it from being accessed unless it is from within a sub-class.`\n",
    "\n",
    "Example: Protected Attributes "
   ]
  },
  {
   "cell_type": "code",
   "execution_count": 15,
   "id": "251fa4eb",
   "metadata": {},
   "outputs": [],
   "source": [
    "class Student:\n",
    "    _schoolName = 'XYZ School' # protected class attribute\n",
    "    \n",
    "    def __init__(self, name, age):\n",
    "        self._name=name  # protected instance attribute\n",
    "        self._age=age # protected instance attribute"
   ]
  },
  {
   "cell_type": "markdown",
   "id": "92e076f7",
   "metadata": {},
   "source": [
    "In fact, this doesn't prevent instance variables from accessing or modifying the instance. You can still perform the following operations:"
   ]
  },
  {
   "cell_type": "code",
   "execution_count": 16,
   "id": "efb6ba5d",
   "metadata": {},
   "outputs": [],
   "source": [
    "std = Student(\"Swati\", 25)"
   ]
  },
  {
   "cell_type": "code",
   "execution_count": 17,
   "id": "67a73858",
   "metadata": {},
   "outputs": [
    {
     "data": {
      "text/plain": [
       "'Swati'"
      ]
     },
     "execution_count": 17,
     "metadata": {},
     "output_type": "execute_result"
    }
   ],
   "source": [
    "std._name"
   ]
  },
  {
   "cell_type": "code",
   "execution_count": 18,
   "id": "11bd053b",
   "metadata": {},
   "outputs": [],
   "source": [
    "std._name = \"Dipa\""
   ]
  },
  {
   "cell_type": "code",
   "execution_count": 19,
   "id": "d2c13840",
   "metadata": {},
   "outputs": [
    {
     "data": {
      "text/plain": [
       "'Dipa'"
      ]
     },
     "execution_count": 19,
     "metadata": {},
     "output_type": "execute_result"
    }
   ],
   "source": [
    "std._name"
   ]
  },
  {
   "cell_type": "markdown",
   "id": "4062e65d",
   "metadata": {},
   "source": [
    "However, you can define a property using `property decorator` and make it protected, as shown below."
   ]
  },
  {
   "cell_type": "code",
   "execution_count": 20,
   "id": "9d6428b6",
   "metadata": {},
   "outputs": [],
   "source": [
    "class Student:\n",
    "    \n",
    "    def __init__(self, name):\n",
    "        \n",
    "        self._name = name  # protected instance attribute\n",
    "        \n",
    "    @property\n",
    "    def name(self):\n",
    "        return self._name\n",
    "    \n",
    "    @name.setter\n",
    "    def name(self, newname):\n",
    "        self._name = newname"
   ]
  },
  {
   "cell_type": "markdown",
   "id": "221b737c",
   "metadata": {},
   "source": [
    "`Above, @property decorator is used to make the name() method as property and @name.setter decorator to another overloads of the name() method as property setter method. Now, _name is protected.`"
   ]
  },
  {
   "cell_type": "code",
   "execution_count": 21,
   "id": "8574cf51",
   "metadata": {},
   "outputs": [],
   "source": [
    "std = Student(\"Swati\")"
   ]
  },
  {
   "cell_type": "code",
   "execution_count": 22,
   "id": "65df7c74",
   "metadata": {},
   "outputs": [
    {
     "data": {
      "text/plain": [
       "'Swati'"
      ]
     },
     "execution_count": 22,
     "metadata": {},
     "output_type": "execute_result"
    }
   ],
   "source": [
    "std.name"
   ]
  },
  {
   "cell_type": "code",
   "execution_count": 23,
   "id": "00bd8253",
   "metadata": {},
   "outputs": [],
   "source": [
    "std.name = \"Dipa\""
   ]
  },
  {
   "cell_type": "code",
   "execution_count": 24,
   "id": "00d044a7",
   "metadata": {},
   "outputs": [
    {
     "data": {
      "text/plain": [
       "'Dipa'"
      ]
     },
     "execution_count": 24,
     "metadata": {},
     "output_type": "execute_result"
    }
   ],
   "source": [
    "std.name"
   ]
  },
  {
   "cell_type": "code",
   "execution_count": 25,
   "id": "14328efb",
   "metadata": {},
   "outputs": [
    {
     "data": {
      "text/plain": [
       "'Dipa'"
      ]
     },
     "execution_count": 25,
     "metadata": {},
     "output_type": "execute_result"
    }
   ],
   "source": [
    "std._name"
   ]
  },
  {
   "cell_type": "markdown",
   "id": "f40727a0",
   "metadata": {},
   "source": [
    "`Above, we used std.name property to modify _name attribute. However, it is still accessible in Python. Hence, the responsible programmer would refrain from accessing and modifying instance variables prefixed with _ from outside its class.`"
   ]
  },
  {
   "cell_type": "markdown",
   "id": "2470c5d7",
   "metadata": {},
   "source": [
    "### Private Members\n",
    "\n",
    "`Python doesn't have any mechanism that effectively restricts access to any instance variable or method. Python prescribes a convention of prefixing the name of the variable/method with a single or double underscore to emulate the behavior of protected and private access specifiers.`\n",
    "\n",
    "`The double underscore __ prefixed to a variable makes it private. It gives a strong suggestion not to touch it from outside the class. Any attempt to do so will result in an AttributeError:`\n",
    "\n",
    "Example: Private Attributes"
   ]
  },
  {
   "cell_type": "code",
   "execution_count": 34,
   "id": "a1573384",
   "metadata": {},
   "outputs": [],
   "source": [
    "class Student:\n",
    "    __schoolName = 'XYZ School' # private class attribute\n",
    "\n",
    "    def __init__(self, name, age):\n",
    "        self.__name=name  # private instance attribute\n",
    "        self.__salary=age # private instance attribute\n",
    "    def __display(self):  # private method\n",
    "        \n",
    "        print('This is private method.')"
   ]
  },
  {
   "cell_type": "code",
   "execution_count": 35,
   "id": "49b882ef",
   "metadata": {},
   "outputs": [
    {
     "ename": "AttributeError",
     "evalue": "'Student' object has no attribute '__schoolName'",
     "output_type": "error",
     "traceback": [
      "\u001b[1;31m---------------------------------------------------------------------------\u001b[0m",
      "\u001b[1;31mAttributeError\u001b[0m                            Traceback (most recent call last)",
      "Input \u001b[1;32mIn [35]\u001b[0m, in \u001b[0;36m<cell line: 2>\u001b[1;34m()\u001b[0m\n\u001b[0;32m      1\u001b[0m std \u001b[38;5;241m=\u001b[39m Student(\u001b[38;5;124m\"\u001b[39m\u001b[38;5;124mBill\u001b[39m\u001b[38;5;124m\"\u001b[39m, \u001b[38;5;241m25\u001b[39m)\n\u001b[1;32m----> 2\u001b[0m \u001b[43mstd\u001b[49m\u001b[38;5;241;43m.\u001b[39;49m\u001b[43m__schoolName\u001b[49m\n",
      "\u001b[1;31mAttributeError\u001b[0m: 'Student' object has no attribute '__schoolName'"
     ]
    }
   ],
   "source": [
    "std = Student(\"Bill\", 25)\n",
    "std.__schoolName"
   ]
  },
  {
   "cell_type": "code",
   "execution_count": 36,
   "id": "a76e58d8",
   "metadata": {},
   "outputs": [
    {
     "ename": "AttributeError",
     "evalue": "'Student' object has no attribute '__name'",
     "output_type": "error",
     "traceback": [
      "\u001b[1;31m---------------------------------------------------------------------------\u001b[0m",
      "\u001b[1;31mAttributeError\u001b[0m                            Traceback (most recent call last)",
      "Input \u001b[1;32mIn [36]\u001b[0m, in \u001b[0;36m<cell line: 1>\u001b[1;34m()\u001b[0m\n\u001b[1;32m----> 1\u001b[0m \u001b[43mstd\u001b[49m\u001b[38;5;241;43m.\u001b[39;49m\u001b[43m__name\u001b[49m\n",
      "\u001b[1;31mAttributeError\u001b[0m: 'Student' object has no attribute '__name'"
     ]
    }
   ],
   "source": [
    "std.__name"
   ]
  },
  {
   "cell_type": "code",
   "execution_count": 37,
   "id": "053c0bf0",
   "metadata": {},
   "outputs": [
    {
     "ename": "AttributeError",
     "evalue": "'Student' object has no attribute '__display'",
     "output_type": "error",
     "traceback": [
      "\u001b[1;31m---------------------------------------------------------------------------\u001b[0m",
      "\u001b[1;31mAttributeError\u001b[0m                            Traceback (most recent call last)",
      "Input \u001b[1;32mIn [37]\u001b[0m, in \u001b[0;36m<cell line: 1>\u001b[1;34m()\u001b[0m\n\u001b[1;32m----> 1\u001b[0m \u001b[43mstd\u001b[49m\u001b[38;5;241;43m.\u001b[39;49m\u001b[43m__display\u001b[49m()\n",
      "\u001b[1;31mAttributeError\u001b[0m: 'Student' object has no attribute '__display'"
     ]
    }
   ],
   "source": [
    "std.__display()"
   ]
  },
  {
   "cell_type": "markdown",
   "id": "6cf229e2",
   "metadata": {},
   "source": [
    "`Python performs name mangling of private variables. Every member with a double underscore will be changed to _object._class__variable. So, it can still be accessed from outside the class, but the practice should be refrained.`"
   ]
  },
  {
   "cell_type": "code",
   "execution_count": 38,
   "id": "8ff96796",
   "metadata": {},
   "outputs": [
    {
     "data": {
      "text/plain": [
       "'Bill'"
      ]
     },
     "execution_count": 38,
     "metadata": {},
     "output_type": "execute_result"
    }
   ],
   "source": [
    "std = Student(\"Bill\", 25)\n",
    "std._Student__name"
   ]
  },
  {
   "cell_type": "code",
   "execution_count": 39,
   "id": "18bb04e5",
   "metadata": {},
   "outputs": [
    {
     "data": {
      "text/plain": [
       "'Steve'"
      ]
     },
     "execution_count": 39,
     "metadata": {},
     "output_type": "execute_result"
    }
   ],
   "source": [
    "# we can still change the name but practice should be refrain\n",
    "std._Student__name = 'Steve'\n",
    "std._Student__name"
   ]
  },
  {
   "cell_type": "code",
   "execution_count": 40,
   "id": "48c17ab3",
   "metadata": {},
   "outputs": [
    {
     "name": "stdout",
     "output_type": "stream",
     "text": [
      "This is private method.\n"
     ]
    }
   ],
   "source": [
    "std._Student__display()"
   ]
  },
  {
   "cell_type": "markdown",
   "id": "6ded7010",
   "metadata": {},
   "source": [
    "`Thus, Python provides conceptual implementation of public, protected, and private access modifiers, but not like other languages like C#, Java, C++.`"
   ]
  },
  {
   "cell_type": "code",
   "execution_count": 41,
   "id": "3b5b629b",
   "metadata": {},
   "outputs": [
    {
     "data": {
      "text/plain": [
       "25"
      ]
     },
     "execution_count": 41,
     "metadata": {},
     "output_type": "execute_result"
    }
   ],
   "source": [
    "std._Student__salary"
   ]
  },
  {
   "cell_type": "code",
   "execution_count": 43,
   "id": "c5700fd4",
   "metadata": {},
   "outputs": [],
   "source": [
    "std._Student__salary = 26"
   ]
  },
  {
   "cell_type": "code",
   "execution_count": 44,
   "id": "d430cb59",
   "metadata": {},
   "outputs": [
    {
     "data": {
      "text/plain": [
       "26"
      ]
     },
     "execution_count": 44,
     "metadata": {},
     "output_type": "execute_result"
    }
   ],
   "source": [
    "std._Student__salary"
   ]
  },
  {
   "cell_type": "code",
   "execution_count": null,
   "id": "a06e980f",
   "metadata": {},
   "outputs": [],
   "source": []
  }
 ],
 "metadata": {
  "kernelspec": {
   "display_name": "Python 3 (ipykernel)",
   "language": "python",
   "name": "python3"
  },
  "language_info": {
   "codemirror_mode": {
    "name": "ipython",
    "version": 3
   },
   "file_extension": ".py",
   "mimetype": "text/x-python",
   "name": "python",
   "nbconvert_exporter": "python",
   "pygments_lexer": "ipython3",
   "version": "3.9.7"
  }
 },
 "nbformat": 4,
 "nbformat_minor": 5
}
