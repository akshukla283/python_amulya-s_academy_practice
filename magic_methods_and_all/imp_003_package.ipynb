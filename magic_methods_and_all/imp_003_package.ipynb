{
 "cells": [
  {
   "cell_type": "markdown",
   "id": "3b39987f",
   "metadata": {},
   "source": [
    "### Python - Packages\n",
    "\n",
    "\n",
    "`We organize a large number of files in different folders and subfolders based on some criteria, so that we can find and manage them easily. In the same way, a package in Python takes the concept of the modular approach to next logical level. As you know, a module can contain multiple objects, such as classes, functions, etc. A package can contain one or more relevant modules. Physically, a package is actually a folder containing one or more module files.`\n",
    "\n",
    "Let's create a package named mypackage, using the following steps:\n",
    "\n",
    "* `Create a new folder named D:\\MyApp.`\n",
    "\n",
    "* Inside MyApp, create a subfolder with the name 'mypackage'.\n",
    "\n",
    "* Create an empty `__init__.py `file in the `mypackage `folder.\n",
    "\n",
    "* Using a Python-aware editor like IDLE, create modules greet.py and functions.py with the following code:\n"
   ]
  },
  {
   "cell_type": "code",
   "execution_count": 2,
   "id": "d8f0004e",
   "metadata": {},
   "outputs": [],
   "source": [
    "# greet.py\n",
    "\n",
    "# def SayHello(name):\n",
    "#     print(\"Hello \", name)"
   ]
  },
  {
   "cell_type": "code",
   "execution_count": 3,
   "id": "1fed17f0",
   "metadata": {},
   "outputs": [],
   "source": [
    "# functions.py\n",
    "\n",
    "# def sum(x,y):\n",
    "#     return x+y\n",
    "\n",
    "# def average(x,y):\n",
    "#     return (x+y)/2\n",
    "\n",
    "# def power(x,y):\n",
    "#     return x**y"
   ]
  },
  {
   "cell_type": "markdown",
   "id": "6db4cbf7",
   "metadata": {},
   "source": [
    "That's it. We have created our package called mypackage. The following is a folder structure:"
   ]
  },
  {
   "cell_type": "markdown",
   "id": "157674ce",
   "metadata": {},
   "source": [
    "![](package.png)"
   ]
  },
  {
   "cell_type": "markdown",
   "id": "a7c6156a",
   "metadata": {},
   "source": [
    "#### Importing a Module from a Package\n",
    "Now, to test our package, navigate the command prompt to the MyApp folder and invoke the Python prompt from there."
   ]
  },
  {
   "cell_type": "code",
   "execution_count": 1,
   "id": "0eb3a669",
   "metadata": {},
   "outputs": [],
   "source": [
    "# E:\\Python_world\\python_amulya-s_academy_practice\\magic_methods_and_all>cd MyApp\n",
    "\n",
    "# E:\\Python_world\\python_amulya-s_academy_practice\\magic_methods_and_all\\MyApp>python\n",
    "\n",
    "# Python 3.9.7 (tags/v3.9.7:1016ef3, Aug 30 2021, 20:19:38) [MSC v.1929 64 bit (AMD64)] on win32\n",
    "# Type \"help\", \"copyright\", \"credits\" or \"license\" for more information.\n",
    "# >>> from mypackage import functions\n",
    "# >>> functions.power(3,2)\n",
    "# 9\n",
    "# >>>\n"
   ]
  },
  {
   "cell_type": "markdown",
   "id": "a1d3d088",
   "metadata": {},
   "source": [
    "Import the functions module from the mypackage package and call its power() function."
   ]
  },
  {
   "cell_type": "code",
   "execution_count": 2,
   "id": "d9790256",
   "metadata": {},
   "outputs": [
    {
     "data": {
      "text/plain": [
       "'E:\\\\Python_world\\\\python_amulya-s_academy_practice\\\\magic_methods_and_all'"
      ]
     },
     "execution_count": 2,
     "metadata": {},
     "output_type": "execute_result"
    }
   ],
   "source": [
    "import os\n",
    "os.getcwd()"
   ]
  },
  {
   "cell_type": "code",
   "execution_count": 3,
   "id": "fc1e2ebd",
   "metadata": {},
   "outputs": [],
   "source": [
    "os.chdir(\"./MyApp/\")"
   ]
  },
  {
   "cell_type": "code",
   "execution_count": 4,
   "id": "fc961807",
   "metadata": {},
   "outputs": [
    {
     "data": {
      "text/plain": [
       "'E:\\\\Python_world\\\\python_amulya-s_academy_practice\\\\magic_methods_and_all\\\\MyApp'"
      ]
     },
     "execution_count": 4,
     "metadata": {},
     "output_type": "execute_result"
    }
   ],
   "source": [
    "os.getcwd()"
   ]
  },
  {
   "cell_type": "code",
   "execution_count": 5,
   "id": "526d01eb",
   "metadata": {},
   "outputs": [],
   "source": [
    "# now we are in 'MyApp' directory\n",
    "\n",
    "from mypackage import functions"
   ]
  },
  {
   "cell_type": "code",
   "execution_count": 6,
   "id": "7d7159ce",
   "metadata": {},
   "outputs": [
    {
     "data": {
      "text/plain": [
       "25.0"
      ]
     },
     "execution_count": 6,
     "metadata": {},
     "output_type": "execute_result"
    }
   ],
   "source": [
    "functions.average(20, 30)"
   ]
  },
  {
   "cell_type": "code",
   "execution_count": 7,
   "id": "14fc5577",
   "metadata": {},
   "outputs": [
    {
     "data": {
      "text/plain": [
       "8"
      ]
     },
     "execution_count": 7,
     "metadata": {},
     "output_type": "execute_result"
    }
   ],
   "source": [
    "functions.power(2 , 3)"
   ]
  },
  {
   "cell_type": "code",
   "execution_count": 8,
   "id": "e6d42e79",
   "metadata": {},
   "outputs": [
    {
     "data": {
      "text/plain": [
       "50"
      ]
     },
     "execution_count": 8,
     "metadata": {},
     "output_type": "execute_result"
    }
   ],
   "source": [
    "functions.sum(20,30)"
   ]
  },
  {
   "cell_type": "code",
   "execution_count": 1,
   "id": "c17542e0",
   "metadata": {},
   "outputs": [
    {
     "data": {
      "text/plain": [
       "'E:\\\\Python_world\\\\python_amulya-s_academy_practice\\\\magic_methods_and_all'"
      ]
     },
     "execution_count": 1,
     "metadata": {},
     "output_type": "execute_result"
    }
   ],
   "source": [
    "# restart kernel and import only sum from functions\n",
    "# once we restart kernel then file will be open it's original directory that is why we need to \n",
    "# change our directory once again.\n",
    "import os\n",
    "os.getcwd()"
   ]
  },
  {
   "cell_type": "code",
   "execution_count": 2,
   "id": "a0b02da1",
   "metadata": {},
   "outputs": [],
   "source": [
    "os.chdir(\"./MyApp\")"
   ]
  },
  {
   "cell_type": "code",
   "execution_count": 3,
   "id": "f3a63df2",
   "metadata": {},
   "outputs": [
    {
     "data": {
      "text/plain": [
       "'E:\\\\Python_world\\\\python_amulya-s_academy_practice\\\\magic_methods_and_all\\\\MyApp'"
      ]
     },
     "execution_count": 3,
     "metadata": {},
     "output_type": "execute_result"
    }
   ],
   "source": [
    "os.getcwd()"
   ]
  },
  {
   "cell_type": "code",
   "execution_count": 4,
   "id": "d06697cb",
   "metadata": {},
   "outputs": [],
   "source": [
    "from mypackage.functions import sum"
   ]
  },
  {
   "cell_type": "code",
   "execution_count": 5,
   "id": "a510af24",
   "metadata": {},
   "outputs": [
    {
     "data": {
      "text/plain": [
       "50"
      ]
     },
     "execution_count": 5,
     "metadata": {},
     "output_type": "execute_result"
    }
   ],
   "source": [
    "sum(20, 30)"
   ]
  },
  {
   "cell_type": "code",
   "execution_count": 6,
   "id": "154fdf11",
   "metadata": {},
   "outputs": [
    {
     "ename": "NameError",
     "evalue": "name 'average' is not defined",
     "output_type": "error",
     "traceback": [
      "\u001b[1;31m---------------------------------------------------------------------------\u001b[0m",
      "\u001b[1;31mNameError\u001b[0m                                 Traceback (most recent call last)",
      "Input \u001b[1;32mIn [6]\u001b[0m, in \u001b[0;36m<cell line: 1>\u001b[1;34m()\u001b[0m\n\u001b[1;32m----> 1\u001b[0m \u001b[43maverage\u001b[49m(\u001b[38;5;241m20\u001b[39m, \u001b[38;5;241m30\u001b[39m)\n",
      "\u001b[1;31mNameError\u001b[0m: name 'average' is not defined"
     ]
    }
   ],
   "source": [
    "average(20, 30)"
   ]
  },
  {
   "cell_type": "markdown",
   "id": "21b08015",
   "metadata": {},
   "source": [
    "As we can see that we have imported only 'sum' function so we can't access another functions inside that."
   ]
  },
  {
   "cell_type": "markdown",
   "id": "1c887113",
   "metadata": {},
   "source": [
    "#### `__init__.py`\n",
    "\n",
    "The package folder contains a special file called `__init__.py`, which stores the package's content. It serves two purposes:\n",
    "\n",
    "The Python interpreter recognizes a folder as the package if it contains `__init__.py` file.\n",
    "`__init__.py` exposes specified resources from its modules to be imported.\n",
    "An empty `__init__.py` file makes all functions from the above modules available when this package is imported. Note that `__init__.py` is essential for the folder to be recognized by Python as a package. You can optionally define functions from individual modules to be made available."
   ]
  },
  {
   "cell_type": "markdown",
   "id": "8a0c730d",
   "metadata": {},
   "source": [
    "The `__init__.py` file is normally kept empty. However, it can also be used to choose specific functions from modules in the package folder and make them available for import. Modify `__init__.py` as below:"
   ]
  },
  {
   "cell_type": "code",
   "execution_count": 7,
   "id": "0c95684f",
   "metadata": {},
   "outputs": [
    {
     "data": {
      "text/plain": [
       "'E:\\\\Python_world\\\\python_amulya-s_academy_practice\\\\magic_methods_and_all\\\\MyApp'"
      ]
     },
     "execution_count": 7,
     "metadata": {},
     "output_type": "execute_result"
    }
   ],
   "source": [
    "import os\n",
    "os.getcwd()"
   ]
  },
  {
   "cell_type": "code",
   "execution_count": 9,
   "id": "6dcd2c02",
   "metadata": {},
   "outputs": [],
   "source": [
    "# we can import modules using period \".\" prefix to module name\n",
    "\n",
    "from mypackage.functions import average, power\n",
    "from mypackage.greet import SayHello"
   ]
  },
  {
   "cell_type": "code",
   "execution_count": 10,
   "id": "764b5b9a",
   "metadata": {},
   "outputs": [
    {
     "name": "stdout",
     "output_type": "stream",
     "text": [
      "Hello  david\n"
     ]
    }
   ],
   "source": [
    "SayHello(\"david\")"
   ]
  },
  {
   "cell_type": "markdown",
   "id": "f42bbe6c",
   "metadata": {},
   "source": [
    "The specified functions can now be imported in the interpreter session or another executable script.\n",
    "\n",
    "`Create test.py in the MyApp folder to test mypackage.`"
   ]
  },
  {
   "cell_type": "code",
   "execution_count": 11,
   "id": "53801cd1",
   "metadata": {},
   "outputs": [],
   "source": [
    "# test.py \n",
    "\n",
    "# from mypackage import power, average, SayHello\n",
    "# SayHello()\n",
    "# x=power(3,2)\n",
    "# print(\"power(3,2) : \", x)"
   ]
  },
  {
   "cell_type": "code",
   "execution_count": 12,
   "id": "87621ef0",
   "metadata": {},
   "outputs": [],
   "source": [
    "import test"
   ]
  },
  {
   "cell_type": "code",
   "execution_count": 15,
   "id": "5677dc71",
   "metadata": {},
   "outputs": [
    {
     "name": "stdout",
     "output_type": "stream",
     "text": [
      "Hi David! How are you?\n"
     ]
    }
   ],
   "source": [
    "test.SayHello(\"David\")"
   ]
  },
  {
   "cell_type": "markdown",
   "id": "796a9cad",
   "metadata": {},
   "source": [
    "###  Install a Package Globally\n",
    "\n",
    "Once a package is created, it can be installed for system-wide use by running the setup script. The script calls `setup()` function `from the setuptools module`.\n",
    "\n",
    "Let's install mypackage for system-wide use by running a setup script.\n",
    "\n",
    "Save the following code as `setup.py` in the parent folder MyApp. The script calls the `setup()` function from the setuptools module. The `setup()` function takes various arguments such as name, version, author, list of dependencies, etc. The zip_safe argument defines whether the package is installed in compressed mode or regular mode."
   ]
  },
  {
   "cell_type": "code",
   "execution_count": 16,
   "id": "9ae9275e",
   "metadata": {},
   "outputs": [],
   "source": [
    "# from setuptools import setup\n",
    "# setup(name='mypackage',\n",
    "# version='1.0.0',\n",
    "# description='Testing installation of Package',\n",
    "# url='#',\n",
    "# author='auth',\n",
    "# author_email='author@email.com',\n",
    "# license='MIT',\n",
    "# packages=['mypackage'],\n",
    "# zip_safe=False)"
   ]
  },
  {
   "cell_type": "markdown",
   "id": "90f3a2d0",
   "metadata": {},
   "source": [
    "Now execute the following command to `install mypackage` using the `pip `utility. Ensure that the command prompt is in the parent folder, in this case D:\\MyApp.\n",
    "\n"
   ]
  },
  {
   "cell_type": "markdown",
   "id": "9b719bd3",
   "metadata": {},
   "source": [
    "`E:\\Python_world\\python_amulya-s_academy_practice\\magic_methods_and_all\\MyApp>pip install mypackage`\n",
    "`Collecting mypackage\n",
    "  Downloading Mypackage-0.1.tar.gz (1.5 kB)\n",
    "  Preparing metadata (setup.py) ... done`\n",
    "`Collecting cmd2\n",
    "  Downloading cmd2-2.4.1-py3-none-any.whl (146 kB)\n",
    "     ---------------------------------------- 147.0/147.0 KB 627.3 kB/s eta 0:00:00`\n",
    "`Collecting pyreadline3\n",
    "  Downloading pyreadline3-3.4.1-py3-none-any.whl (95 kB)\n",
    "     ---------------------------------------- 95.2/95.2 KB 772.4 kB/s eta 0:00:00`\n",
    "`Collecting pyperclip>=1.6\n",
    "  Downloading pyperclip-1.8.2.tar.gz (20 kB)\n",
    "  Preparing metadata (setup.py) ... done\n",
    "Requirement already satisfied: attrs>=16.3.0 in c:\\users\\ankit.shukla\\appdata\\local\\programs\\python\\python39\\lib\\site-packages (from cmd2->mypackage) (21.4.0)`\n",
    "`Requirement already satisfied: wcwidth>=0.1.7 in c:\\users\\ankit.shukla\\appdata\\local\\programs\\python\\python39\\lib\\site-packages (from cmd2->mypackage) (0.2.5)`\n",
    "`Using legacy 'setup.py install' for mypackage, since package 'wheel' is not installed.\n",
    "Using legacy 'setup.py install' for pyperclip, since package 'wheel' is not installed.\n",
    "Installing collected packages: pyreadline3, pyperclip, cmd2, mypackage\n",
    "  Running setup.py install for pyperclip ... done\n",
    "  Running setup.py install for mypackage ... done\n",
    "Successfully installed cmd2-2.4.1 mypackage-0.1 pyperclip-1.8.2 pyreadline3-3.4.1`\n",
    "\n",
    "`E:\\Python_world\\python_amulya-s_academy_practice\\magic_methods_and_all\\MyApp>`\n"
   ]
  },
  {
   "cell_type": "markdown",
   "id": "7cc923f4",
   "metadata": {},
   "source": [
    "we have installed 'mypackage' successfully"
   ]
  },
  {
   "cell_type": "code",
   "execution_count": 17,
   "id": "aa3b1195",
   "metadata": {},
   "outputs": [],
   "source": [
    "import mypackage"
   ]
  },
  {
   "cell_type": "code",
   "execution_count": 19,
   "id": "9aeb5565",
   "metadata": {},
   "outputs": [
    {
     "data": {
      "text/plain": [
       "25.0"
      ]
     },
     "execution_count": 19,
     "metadata": {},
     "output_type": "execute_result"
    }
   ],
   "source": [
    "mypackage.functions.average(20, 30)"
   ]
  },
  {
   "cell_type": "code",
   "execution_count": null,
   "id": "e78a4a7c",
   "metadata": {},
   "outputs": [],
   "source": []
  }
 ],
 "metadata": {
  "kernelspec": {
   "display_name": "Python 3 (ipykernel)",
   "language": "python",
   "name": "python3"
  },
  "language_info": {
   "codemirror_mode": {
    "name": "ipython",
    "version": 3
   },
   "file_extension": ".py",
   "mimetype": "text/x-python",
   "name": "python",
   "nbconvert_exporter": "python",
   "pygments_lexer": "ipython3",
   "version": "3.9.7"
  }
 },
 "nbformat": 4,
 "nbformat_minor": 5
}
