{
 "cells": [
  {
   "cell_type": "markdown",
   "id": "f61649dc",
   "metadata": {},
   "source": [
    "### Exception Handling in Python\n",
    "The cause of an exception is often external to the program itself. For example, an incorrect input, a malfunctioning IO device etc. Because the program abruptly terminates on encountering an exception, it may cause damage to system resources, such as files. Hence, the exceptions should be properly handled so that an abrupt termination of the program is prevented.\n",
    "\n",
    "Python uses try and except keywords to handle exceptions. Both keywords are followed by indented blocks.\n",
    "\n",
    "`Syntax:\n",
    "try :\n",
    "    #statements in try block\n",
    "except :\n",
    "    #executed when error in try block\n",
    "    `\n",
    "    \n",
    "The try: block contains one or more statements which are likely to encounter an exception. If the statements in this block are executed without an exception, the subsequent except: block is skipped.\n",
    "\n",
    "If the exception does occur, the program flow is transferred to the except: block. The statements in the except: block are meant to handle the cause of the exception appropriately. For example, returning an appropriate error message.\n",
    "\n",
    "You can specify the type of exception after the except keyword. The subsequent block will be executed only if the specified exception occurs. There may be multiple except clauses with different exception types in a single try block. If the type of exception doesn't match any of the except blocks, it will remain unhandled and the program will terminate.\n",
    "\n",
    "The rest of the statements after the except block will continue to be executed, regardless if the exception is encountered or not.\n",
    "\n",
    "The following example will throw an exception when we try to devide an integer by a string."
   ]
  },
  {
   "cell_type": "code",
   "execution_count": 1,
   "id": "00705872",
   "metadata": {},
   "outputs": [
    {
     "name": "stdout",
     "output_type": "stream",
     "text": [
      "Some error occured\n",
      "Out of the try except blocks\n"
     ]
    }
   ],
   "source": [
    "try :\n",
    "    a = 5\n",
    "    b = '0'\n",
    "    print(a/b)\n",
    "\n",
    "except:\n",
    "    print(\"Some error occured\")\n",
    "\n",
    "    \n",
    "print(\"Out of the try except blocks\")"
   ]
  },
  {
   "cell_type": "markdown",
   "id": "d3d23986",
   "metadata": {},
   "source": [
    "You can mention a specific type of exception in front of the except keyword. The subsequent block will be executed only if the specified exception occurs. There may be multiple except clauses with different exception types in a single try block. If the type of exception doesn't match any of the except blocks, it will remain unhandled and the program will terminate."
   ]
  },
  {
   "cell_type": "code",
   "execution_count": 2,
   "id": "a0ceaf4c",
   "metadata": {},
   "outputs": [
    {
     "ename": "TypeError",
     "evalue": "unsupported operand type(s) for +: 'int' and 'str'",
     "output_type": "error",
     "traceback": [
      "\u001b[1;31m---------------------------------------------------------------------------\u001b[0m",
      "\u001b[1;31mTypeError\u001b[0m                                 Traceback (most recent call last)",
      "Input \u001b[1;32mIn [2]\u001b[0m, in \u001b[0;36m<cell line: 4>\u001b[1;34m()\u001b[0m\n\u001b[0;32m      2\u001b[0m a \u001b[38;5;241m=\u001b[39m \u001b[38;5;241m5\u001b[39m\n\u001b[0;32m      3\u001b[0m b \u001b[38;5;241m=\u001b[39m \u001b[38;5;124m'\u001b[39m\u001b[38;5;124m0\u001b[39m\u001b[38;5;124m'\u001b[39m\n\u001b[1;32m----> 4\u001b[0m \u001b[38;5;28mprint\u001b[39m(\u001b[43ma\u001b[49m\u001b[38;5;241;43m+\u001b[39;49m\u001b[43mb\u001b[49m)\n",
      "\u001b[1;31mTypeError\u001b[0m: unsupported operand type(s) for +: 'int' and 'str'"
     ]
    }
   ],
   "source": [
    "# to find out the type of error once we need to run the code without 'try' and 'except' block.\n",
    "a = 5\n",
    "b = '0'\n",
    "print(a+b)"
   ]
  },
  {
   "cell_type": "code",
   "execution_count": 3,
   "id": "f13bf1eb",
   "metadata": {},
   "outputs": [
    {
     "name": "stdout",
     "output_type": "stream",
     "text": [
      "Unsupported operation\n",
      "Out of try except blocks\n"
     ]
    }
   ],
   "source": [
    "try:\n",
    "    a=5\n",
    "    b='0'\n",
    "    print(a+b)\n",
    "except TypeError:\n",
    "    print('Unsupported operation')\n",
    "print (\"Out of try except blocks\")"
   ]
  },
  {
   "cell_type": "markdown",
   "id": "51bad350",
   "metadata": {},
   "source": [
    "As mentioned above, a single try block may have multiple except blocks. The following example uses two except blocks to process two different exception types:"
   ]
  },
  {
   "cell_type": "code",
   "execution_count": 4,
   "id": "90ed3fdc",
   "metadata": {},
   "outputs": [
    {
     "ename": "ZeroDivisionError",
     "evalue": "division by zero",
     "output_type": "error",
     "traceback": [
      "\u001b[1;31m---------------------------------------------------------------------------\u001b[0m",
      "\u001b[1;31mZeroDivisionError\u001b[0m                         Traceback (most recent call last)",
      "Input \u001b[1;32mIn [4]\u001b[0m, in \u001b[0;36m<cell line: 3>\u001b[1;34m()\u001b[0m\n\u001b[0;32m      1\u001b[0m a \u001b[38;5;241m=\u001b[39m \u001b[38;5;241m5\u001b[39m\n\u001b[0;32m      2\u001b[0m b \u001b[38;5;241m=\u001b[39m \u001b[38;5;241m0\u001b[39m\n\u001b[1;32m----> 3\u001b[0m \u001b[38;5;28mprint\u001b[39m(\u001b[43ma\u001b[49m\u001b[38;5;241;43m/\u001b[39;49m\u001b[43mb\u001b[49m)\n",
      "\u001b[1;31mZeroDivisionError\u001b[0m: division by zero"
     ]
    }
   ],
   "source": [
    "a = 5\n",
    "b = 0\n",
    "print(a/b)"
   ]
  },
  {
   "cell_type": "code",
   "execution_count": 5,
   "id": "4f443311",
   "metadata": {},
   "outputs": [
    {
     "name": "stdout",
     "output_type": "stream",
     "text": [
      "Division by zero not allowed\n",
      "Out of try except blocks\n"
     ]
    }
   ],
   "source": [
    "try:\n",
    "    a = 5\n",
    "    b = 0\n",
    "    print(a/b)\n",
    "    \n",
    "except TypeError:\n",
    "    print('Unsupported operation')\n",
    "    \n",
    "except ZeroDivisionError:\n",
    "    print ('Division by zero not allowed')\n",
    "    \n",
    "    \n",
    "print ('Out of try except blocks')"
   ]
  },
  {
   "cell_type": "markdown",
   "id": "546ebe55",
   "metadata": {},
   "source": [
    "However, `if variable b is set to '0'`, TypeError will be encountered and processed by corresponding except block."
   ]
  },
  {
   "cell_type": "markdown",
   "id": "6f88fd74",
   "metadata": {},
   "source": [
    "### else and finally\n",
    "In Python, keywords else and finally can also be used along with the try and except clauses. While the except block is executed if the exception occurs inside the try block, the else block gets processed if the try block is found to be exception free.\n",
    "\n",
    "`Syntax:\n",
    "try:\n",
    "    #statements in try block\n",
    "except:\n",
    "    #executed when error in try block\n",
    "else:\n",
    "    #executed if try block is error-free\n",
    "finally:\n",
    "    #executed irrespective of exception occured or not\n",
    "    `\n",
    "    \n",
    "The finally block consists of statements which should be processed regardless of an exception occurring in the try block or not. As a consequence, the error-free try block skips the except clause and enters the finally block before going on to execute the rest of the code. If, however, there's an exception in the try block, the appropriate except block will be processed, and the statements in the finally block will be processed before proceeding to the rest of the code.\n",
    "\n",
    "The example below accepts two numbers from the user and performs their division. It demonstrates the uses of else and finally blocks.\n",
    "\n"
   ]
  },
  {
   "cell_type": "code",
   "execution_count": 6,
   "id": "8b7048a3",
   "metadata": {},
   "outputs": [
    {
     "name": "stdout",
     "output_type": "stream",
     "text": [
      "try block\n",
      "Enter a number: 10\n",
      "Enter another number: 2\n",
      "else block\n",
      "Division =  5.0\n",
      "finally block\n",
      "Out of try, except, else and finally blocks.\n"
     ]
    }
   ],
   "source": [
    "try:\n",
    "    print('try block')\n",
    "    x=int(input('Enter a number: '))\n",
    "    y=int(input('Enter another number: '))\n",
    "    z=x/y\n",
    "except ZeroDivisionError:\n",
    "    print(\"except ZeroDivisionError block\")\n",
    "    print(\"Division by 0 not accepted\")\n",
    "else:\n",
    "    print(\"else block\")\n",
    "    print(\"Division = \", z)\n",
    "finally:\n",
    "    print(\"finally block\")\n",
    "    x=0\n",
    "    y=0\n",
    "print (\"Out of try, except, else and finally blocks.\" )\n"
   ]
  },
  {
   "cell_type": "markdown",
   "id": "36b4ad8d",
   "metadata": {},
   "source": [
    "The second run is a case of division by zero, hence, the except block and the finally block are executed, but the else block is not executed."
   ]
  },
  {
   "cell_type": "code",
   "execution_count": 7,
   "id": "1d11a444",
   "metadata": {},
   "outputs": [
    {
     "name": "stdout",
     "output_type": "stream",
     "text": [
      "try block\n",
      "Enter a number: 10\n",
      "Enter another number: 0\n",
      "except ZeroDivisionError block\n",
      "Division by 0 not accepted\n",
      "finally block\n",
      "Out of try, except, else and finally blocks.\n"
     ]
    }
   ],
   "source": [
    "try:\n",
    "    print('try block')\n",
    "    x=int(input('Enter a number: '))\n",
    "    y=int(input('Enter another number: '))\n",
    "    z=x/y\n",
    "except ZeroDivisionError:\n",
    "    print(\"except ZeroDivisionError block\")\n",
    "    print(\"Division by 0 not accepted\")\n",
    "else:\n",
    "    print(\"else block\")\n",
    "    print(\"Division = \", z)\n",
    "finally:\n",
    "    print(\"finally block\")\n",
    "    x=0\n",
    "    y=0\n",
    "print (\"Out of try, except, else and finally blocks.\" )\n"
   ]
  },
  {
   "cell_type": "markdown",
   "id": "dad92de6",
   "metadata": {},
   "source": [
    "In the third run case, an uncaught exception occurs. The finally block is still executed but the program terminates and does not execute the program after the finally block.\n"
   ]
  },
  {
   "cell_type": "code",
   "execution_count": 8,
   "id": "4a3a8f29",
   "metadata": {},
   "outputs": [
    {
     "name": "stdout",
     "output_type": "stream",
     "text": [
      "try block\n",
      "Enter a number: 10\n",
      "Enter another number: xyz\n",
      "finally block\n"
     ]
    },
    {
     "ename": "ValueError",
     "evalue": "invalid literal for int() with base 10: 'xyz'",
     "output_type": "error",
     "traceback": [
      "\u001b[1;31m---------------------------------------------------------------------------\u001b[0m",
      "\u001b[1;31mValueError\u001b[0m                                Traceback (most recent call last)",
      "Input \u001b[1;32mIn [8]\u001b[0m, in \u001b[0;36m<cell line: 1>\u001b[1;34m()\u001b[0m\n\u001b[0;32m      2\u001b[0m     \u001b[38;5;28mprint\u001b[39m(\u001b[38;5;124m'\u001b[39m\u001b[38;5;124mtry block\u001b[39m\u001b[38;5;124m'\u001b[39m)\n\u001b[0;32m      3\u001b[0m     x\u001b[38;5;241m=\u001b[39m\u001b[38;5;28mint\u001b[39m(\u001b[38;5;28minput\u001b[39m(\u001b[38;5;124m'\u001b[39m\u001b[38;5;124mEnter a number: \u001b[39m\u001b[38;5;124m'\u001b[39m))\n\u001b[1;32m----> 4\u001b[0m     y\u001b[38;5;241m=\u001b[39m\u001b[38;5;28;43mint\u001b[39;49m\u001b[43m(\u001b[49m\u001b[38;5;28;43minput\u001b[39;49m\u001b[43m(\u001b[49m\u001b[38;5;124;43m'\u001b[39;49m\u001b[38;5;124;43mEnter another number: \u001b[39;49m\u001b[38;5;124;43m'\u001b[39;49m\u001b[43m)\u001b[49m\u001b[43m)\u001b[49m\n\u001b[0;32m      5\u001b[0m     z\u001b[38;5;241m=\u001b[39mx\u001b[38;5;241m/\u001b[39my\n\u001b[0;32m      6\u001b[0m \u001b[38;5;28;01mexcept\u001b[39;00m \u001b[38;5;167;01mZeroDivisionError\u001b[39;00m:\n",
      "\u001b[1;31mValueError\u001b[0m: invalid literal for int() with base 10: 'xyz'"
     ]
    }
   ],
   "source": [
    "try:\n",
    "    print('try block')\n",
    "    x=int(input('Enter a number: '))\n",
    "    y=int(input('Enter another number: '))\n",
    "    z=x/y\n",
    "except ZeroDivisionError:\n",
    "    print(\"except ZeroDivisionError block\")\n",
    "    print(\"Division by 0 not accepted\")\n",
    "else:\n",
    "    print(\"else block\")\n",
    "    print(\"Division = \", z)\n",
    "finally:\n",
    "    print(\"finally block\")\n",
    "    x=0\n",
    "    y=0\n",
    "print (\"Out of try, except, else and finally blocks.\" )\n"
   ]
  },
  {
   "cell_type": "markdown",
   "id": "c885ba76",
   "metadata": {},
   "source": [
    "Typically the finally clause is the ideal place for cleaning up the operations in a process. For example closing a file irrespective of the errors in read/write operations. This will be dealt with in the next chapter."
   ]
  },
  {
   "cell_type": "markdown",
   "id": "1e56f3a4",
   "metadata": {},
   "source": [
    "### Raise an Exception\n",
    "\n",
    "Python also provides the `raise` keyword to be used in the context of exception handling. It causes an exception to be generated explicitly. Built-in errors are raised implicitly. However, a built-in or custom exception can be forced during execution.\n",
    "\n",
    "The following code accepts a number from the user. The try block raises a ValueError exception if the number is outside the allowed range."
   ]
  },
  {
   "cell_type": "code",
   "execution_count": 10,
   "id": "5044a38f",
   "metadata": {},
   "outputs": [
    {
     "name": "stdout",
     "output_type": "stream",
     "text": [
      "Enter a number upto 100: 100\n",
      "100 is within the allowed range\n"
     ]
    }
   ],
   "source": [
    "\n",
    "try:\n",
    "    x=int(input('Enter a number upto 100: '))\n",
    "    if x > 100:\n",
    "        raise ValueError(x)\n",
    "except ValueError:\n",
    "    print(x, \"is out of allowed range\")\n",
    "else:\n",
    "    print(x, \"is within the allowed range\")\n"
   ]
  },
  {
   "cell_type": "code",
   "execution_count": 20,
   "id": "0e4fa2e6",
   "metadata": {},
   "outputs": [
    {
     "name": "stdout",
     "output_type": "stream",
     "text": [
      "Enter a number upto 1000: wdede\n",
      "10029 is out of allowed range\n"
     ]
    }
   ],
   "source": [
    "try :\n",
    "    x = int(input(\"Enter a number upto 1000: \"))\n",
    "           \n",
    "    if x> 1000:\n",
    "        raise ValueError(x)\n",
    "        \n",
    "except ValueError:\n",
    "    print(x, \"is out of allowed range\")\n",
    "        \n",
    "else:\n",
    "    print(x, \"is within the allowed range\")\n",
    "    "
   ]
  },
  {
   "cell_type": "markdown",
   "id": "62d75cc2",
   "metadata": {},
   "source": [
    "#### Python - Assert Statement\n",
    "\n",
    "In Python, the assert statement is used to continue the execute if the given condition evaluates to True. If the assert condition evaluates to False, then it raises the AssertionError exception with the specified error message.\n",
    "\n",
    "`Syntax\n",
    "assert condition [, Error Message] `\n",
    "\n",
    "The following example demonstrates a simple assert statement."
   ]
  },
  {
   "cell_type": "code",
   "execution_count": 21,
   "id": "4b3bc940",
   "metadata": {},
   "outputs": [
    {
     "name": "stdout",
     "output_type": "stream",
     "text": [
      "x is a positive number.\n"
     ]
    }
   ],
   "source": [
    "x = 10\n",
    "assert x > 0\n",
    "print('x is a positive number.')"
   ]
  },
  {
   "cell_type": "markdown",
   "id": "bd908563",
   "metadata": {},
   "source": [
    "In the above example, the assert condition, x > 0 evalutes to be True, so it will continue to execute the next statement without any error.\n",
    "\n",
    "The assert statement can optionally include an error message string, which gets displayed along with the AssertionError. Consider the following assert statement with the error message.\n",
    "\n",
    "Example: Assert Statement with Error Message Copy"
   ]
  },
  {
   "cell_type": "code",
   "execution_count": 22,
   "id": "a41e8a10",
   "metadata": {},
   "outputs": [
    {
     "ename": "AssertionError",
     "evalue": "Only positive numbers are allowed",
     "output_type": "error",
     "traceback": [
      "\u001b[1;31m---------------------------------------------------------------------------\u001b[0m",
      "\u001b[1;31mAssertionError\u001b[0m                            Traceback (most recent call last)",
      "Input \u001b[1;32mIn [22]\u001b[0m, in \u001b[0;36m<cell line: 2>\u001b[1;34m()\u001b[0m\n\u001b[0;32m      1\u001b[0m x \u001b[38;5;241m=\u001b[39m \u001b[38;5;241m0\u001b[39m\n\u001b[1;32m----> 2\u001b[0m \u001b[38;5;28;01massert\u001b[39;00m x \u001b[38;5;241m>\u001b[39m \u001b[38;5;241m0\u001b[39m, \u001b[38;5;124m'\u001b[39m\u001b[38;5;124mOnly positive numbers are allowed\u001b[39m\u001b[38;5;124m'\u001b[39m\n\u001b[0;32m      3\u001b[0m \u001b[38;5;28mprint\u001b[39m(\u001b[38;5;124m'\u001b[39m\u001b[38;5;124mx is a positive number.\u001b[39m\u001b[38;5;124m'\u001b[39m)\n",
      "\u001b[1;31mAssertionError\u001b[0m: Only positive numbers are allowed"
     ]
    }
   ],
   "source": [
    "x = 0\n",
    "assert x > 0, 'Only positive numbers are allowed'\n",
    "print('x is a positive number.')"
   ]
  },
  {
   "cell_type": "code",
   "execution_count": 23,
   "id": "d52cc9d8",
   "metadata": {},
   "outputs": [
    {
     "name": "stdout",
     "output_type": "stream",
     "text": [
      "-7\n"
     ]
    },
    {
     "ename": "AssertionError",
     "evalue": "",
     "output_type": "error",
     "traceback": [
      "\u001b[1;31m---------------------------------------------------------------------------\u001b[0m",
      "\u001b[1;31mAssertionError\u001b[0m                            Traceback (most recent call last)",
      "Input \u001b[1;32mIn [23]\u001b[0m, in \u001b[0;36m<cell line: 2>\u001b[1;34m()\u001b[0m\n\u001b[0;32m      1\u001b[0m x \u001b[38;5;241m=\u001b[39m \u001b[38;5;28mint\u001b[39m(\u001b[38;5;28minput\u001b[39m())\n\u001b[1;32m----> 2\u001b[0m \u001b[38;5;28;01massert\u001b[39;00m x \u001b[38;5;241m>\u001b[39m \u001b[38;5;241m0\u001b[39m\n\u001b[0;32m      3\u001b[0m \u001b[38;5;28mprint\u001b[39m(\u001b[38;5;124m'\u001b[39m\u001b[38;5;124mx is a positive number.\u001b[39m\u001b[38;5;124m'\u001b[39m)\n",
      "\u001b[1;31mAssertionError\u001b[0m: "
     ]
    }
   ],
   "source": [
    "x = int(input())\n",
    "assert x > 0\n",
    "print('x is a positive number.')"
   ]
  },
  {
   "cell_type": "markdown",
   "id": "f5d996a9",
   "metadata": {},
   "source": [
    "Above, x=0, so the `assert `condition `x > 0` becomes `False`, and so it will `raise` the `AssertionError` with the specified message `'Only positive numbers are allowed'`. It does not execute` print('x is a positive number.') `statement.\n",
    "\n",
    "The following example uses the assert statement in the function.\n",
    "\n"
   ]
  },
  {
   "cell_type": "code",
   "execution_count": 25,
   "id": "63ce254f",
   "metadata": {},
   "outputs": [
    {
     "ename": "AssertionError",
     "evalue": "Only positive numbers are allowed",
     "output_type": "error",
     "traceback": [
      "\u001b[1;31m---------------------------------------------------------------------------\u001b[0m",
      "\u001b[1;31mAssertionError\u001b[0m                            Traceback (most recent call last)",
      "Input \u001b[1;32mIn [25]\u001b[0m, in \u001b[0;36m<cell line: 6>\u001b[1;34m()\u001b[0m\n\u001b[0;32m      3\u001b[0m     \u001b[38;5;28;01mreturn\u001b[39;00m x\u001b[38;5;241m*\u001b[39mx\n\u001b[0;32m      5\u001b[0m n \u001b[38;5;241m=\u001b[39m square(\u001b[38;5;241m2\u001b[39m) \u001b[38;5;66;03m# returns 4\u001b[39;00m\n\u001b[1;32m----> 6\u001b[0m n \u001b[38;5;241m=\u001b[39m \u001b[43msquare\u001b[49m\u001b[43m(\u001b[49m\u001b[38;5;241;43m-\u001b[39;49m\u001b[38;5;241;43m2\u001b[39;49m\u001b[43m)\u001b[49m\n",
      "Input \u001b[1;32mIn [25]\u001b[0m, in \u001b[0;36msquare\u001b[1;34m(x)\u001b[0m\n\u001b[0;32m      1\u001b[0m \u001b[38;5;28;01mdef\u001b[39;00m \u001b[38;5;21msquare\u001b[39m(x):\n\u001b[1;32m----> 2\u001b[0m     \u001b[38;5;28;01massert\u001b[39;00m x\u001b[38;5;241m>\u001b[39m\u001b[38;5;241m=\u001b[39m\u001b[38;5;241m0\u001b[39m, \u001b[38;5;124m'\u001b[39m\u001b[38;5;124mOnly positive numbers are allowed\u001b[39m\u001b[38;5;124m'\u001b[39m\n\u001b[0;32m      3\u001b[0m     \u001b[38;5;28;01mreturn\u001b[39;00m x\u001b[38;5;241m*\u001b[39mx\n",
      "\u001b[1;31mAssertionError\u001b[0m: Only positive numbers are allowed"
     ]
    }
   ],
   "source": [
    "def square(x):\n",
    "    assert x>=0, 'Only positive numbers are allowed'\n",
    "    return x*x\n",
    "\n",
    "n = square(2) # returns 4\n",
    "n = square(-2) # raise an AssertionError"
   ]
  },
  {
   "cell_type": "markdown",
   "id": "85579f79",
   "metadata": {},
   "source": [
    "`Above, square(2) will return 4, whereas square(-2) will raise an AssertionError because we passed -2.`\n",
    "\n",
    "The AssertionError is also a built-in exception that can be handled using try-except construct as shown below:"
   ]
  },
  {
   "cell_type": "code",
   "execution_count": 26,
   "id": "41441cf5",
   "metadata": {},
   "outputs": [
    {
     "name": "stdout",
     "output_type": "stream",
     "text": [
      "Only positive numbers are allowed\n"
     ]
    }
   ],
   "source": [
    "def square(x):\n",
    "    assert x>=0, 'Only positive numbers are allowed'\n",
    "    return x*x\n",
    "\n",
    "try:\n",
    "    square(-2)\n",
    "except AssertionError as msg:\n",
    "    print(msg)"
   ]
  },
  {
   "cell_type": "code",
   "execution_count": 27,
   "id": "54064ca8",
   "metadata": {},
   "outputs": [
    {
     "name": "stdout",
     "output_type": "stream",
     "text": [
      "Only positive numbers are allowed\n"
     ]
    }
   ],
   "source": [
    "def square(x):\n",
    "    assert x>=0, \"Only positive numbers are allowed\"\n",
    "    return x*x\n",
    "\n",
    "\n",
    "try :\n",
    "    square(-2)\n",
    "except AssertionError as msg:\n",
    "    print(msg)"
   ]
  },
  {
   "cell_type": "markdown",
   "id": "b1bb8b88",
   "metadata": {},
   "source": [
    "Above, calling square(-2) will raise an AssertionError, which will be handled by the except block. The error message in the assert statement will be passed as an argument to the exception argument msg, using as keyword.\n",
    "\n",
    "Thus, the assert statement should generally be used to prevent possible errors and specify appropriate error messages.\n",
    "\n"
   ]
  },
  {
   "cell_type": "code",
   "execution_count": null,
   "id": "95af476a",
   "metadata": {},
   "outputs": [],
   "source": []
  }
 ],
 "metadata": {
  "kernelspec": {
   "display_name": "Python 3 (ipykernel)",
   "language": "python",
   "name": "python3"
  },
  "language_info": {
   "codemirror_mode": {
    "name": "ipython",
    "version": 3
   },
   "file_extension": ".py",
   "mimetype": "text/x-python",
   "name": "python",
   "nbconvert_exporter": "python",
   "pygments_lexer": "ipython3",
   "version": "3.9.7"
  }
 },
 "nbformat": 4,
 "nbformat_minor": 5
}
