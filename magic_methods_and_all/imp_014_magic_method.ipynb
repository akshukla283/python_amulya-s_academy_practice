{
 "cells": [
  {
   "cell_type": "markdown",
   "id": "51e963be",
   "metadata": {},
   "source": [
    "### Magic Methods\n",
    "\n",
    "`Magic methods are special methods in python that have double underscores (dunder) on both sides of the method name. Magic methods are predominantly used for operator overloading. Operator overloading means provided additional functionality to the operators, the python implicitly invokes the magic methods to provide additional functionality to it. For example, multiplying two integers can be done using the multiplying operator (2*3 = 6) and the same operator can be used to repeat the string (“apple- ” * 3 = ‘apple- apple- apple’).`\n",
    "\n",
    "\n",
    "`Some examples of magic methods are __init__, __len__, __repr__, __add__, and etc.`\n",
    "\n",
    "#### `__add__ magic method`\n",
    "\n",
    "`__add__ magic method is used to add the attributes of the class instance. For example, let’s say object1 is an instance of a class A and object2 is an instance of class B and both of these classes have an attribute called ‘a’, that holds an integer. When the operation object1 + object2 is done the __add__ method implicitly adds the attributes of these instances like object1.a + object2.a, if defined so.`"
   ]
  },
  {
   "cell_type": "code",
   "execution_count": 46,
   "id": "6d0c4b12",
   "metadata": {},
   "outputs": [],
   "source": [
    "class One:\n",
    "    \n",
    "    def __init__(self, a):\n",
    "        self.a = a\n",
    "        \n",
    "    def __add__(self, object1):\n",
    "        \n",
    "        return self.a + object1.a\n",
    "    \n",
    "class Two:\n",
    "    \n",
    "    def __init__(self, a):\n",
    "        self.a = a\n",
    "    def __add__(self, object2):\n",
    "        return self.b + object2.a\n",
    "    \n",
    "    "
   ]
  },
  {
   "cell_type": "code",
   "execution_count": 47,
   "id": "f78edf69",
   "metadata": {},
   "outputs": [],
   "source": [
    "a_instance = One(10)\n",
    "b_instance = Two(20)"
   ]
  },
  {
   "cell_type": "code",
   "execution_count": 48,
   "id": "0a9db0ea",
   "metadata": {},
   "outputs": [
    {
     "name": "stdout",
     "output_type": "stream",
     "text": [
      "30\n"
     ]
    }
   ],
   "source": [
    "print(a_instance + b_instance)"
   ]
  },
  {
   "cell_type": "markdown",
   "id": "f7607c77",
   "metadata": {},
   "source": [
    "`In the code above, classes One and Two possess an attribute called ‘a’ that holds an integer value. We define two instances a_instance and b_instances that contain 10 and 20 values in their attribute respectively. When we perform the operation a_instance + b_instance the __add__ method defined would convert the operation into a_instance.a + b_instance.a that results in output 30.`\n",
    "\n",
    "The exact operation could be done using strings."
   ]
  },
  {
   "cell_type": "code",
   "execution_count": 55,
   "id": "e4ff8da3",
   "metadata": {},
   "outputs": [],
   "source": [
    "class Str:\n",
    "    \n",
    "    def __init__(self, string_):\n",
    "        self.string_ = string_\n",
    "        \n",
    "    def __add__(self, string2):\n",
    "        return self.string_ + string2\n",
    "    "
   ]
  },
  {
   "cell_type": "code",
   "execution_count": 56,
   "id": "bed4e6f2",
   "metadata": {},
   "outputs": [],
   "source": [
    "instance1 = Str(\"Hello\")"
   ]
  },
  {
   "cell_type": "code",
   "execution_count": 57,
   "id": "ce1e298e",
   "metadata": {},
   "outputs": [
    {
     "name": "stdout",
     "output_type": "stream",
     "text": [
      "Hello folks\n"
     ]
    }
   ],
   "source": [
    "print(instance1 + \" folks\")"
   ]
  },
  {
   "cell_type": "markdown",
   "id": "d8997d43",
   "metadata": {},
   "source": [
    "The operation instance1 + ” Folks” concatenates the two strings by implicitly performing the following operation instance1.string_ + ” Folks”.\n",
    "\n",
    "#### `__getitem__ and __setitem__ magic method`\n",
    "\n",
    "`__getitem__ method is used to get an item from the invoked instances’ attribute. __getitem__ is commonly used with containers like list, tuple, etc.`"
   ]
  },
  {
   "cell_type": "code",
   "execution_count": 7,
   "id": "c3b8c0f8",
   "metadata": {},
   "outputs": [],
   "source": [
    "class A :\n",
    "    \n",
    "    def __init__(self, item):\n",
    "        self.item = item\n",
    "        \n",
    "    def __getitem__(self, index):\n",
    "        \n",
    "        return self.item[index]"
   ]
  },
  {
   "cell_type": "code",
   "execution_count": 8,
   "id": "753b401b",
   "metadata": {},
   "outputs": [],
   "source": [
    "a = A([1,2,3])"
   ]
  },
  {
   "cell_type": "code",
   "execution_count": 9,
   "id": "e883df8f",
   "metadata": {},
   "outputs": [
    {
     "data": {
      "text/plain": [
       "1"
      ]
     },
     "execution_count": 9,
     "metadata": {},
     "output_type": "execute_result"
    }
   ],
   "source": [
    "a[0]"
   ]
  },
  {
   "cell_type": "code",
   "execution_count": 12,
   "id": "12381ae1",
   "metadata": {},
   "outputs": [
    {
     "name": "stdout",
     "output_type": "stream",
     "text": [
      "First item  : 1\n",
      "Second item : 2\n",
      "Third item  : 3\n"
     ]
    }
   ],
   "source": [
    "print(f\"First item  : {a[0]}\")\n",
    "print(f\"Second item : {a[1]}\")\n",
    "print(f\"Third item  : {a[2]}\")"
   ]
  },
  {
   "cell_type": "markdown",
   "id": "3ad715dd",
   "metadata": {},
   "source": [
    "` __setitem__ method is used to set the item into a specific index of the invoked instances’ attribute. Similar to __getitem__, __setitem__ is also used with containers.`"
   ]
  },
  {
   "cell_type": "code",
   "execution_count": 18,
   "id": "eef59ae9",
   "metadata": {},
   "outputs": [],
   "source": [
    "class SetItemExample:\n",
    "    \n",
    "    def __init__(self, item):\n",
    "        self.item = item\n",
    "    \n",
    "    def __setitem__(self, index, item1):\n",
    "        self.item[index] = item1\n"
   ]
  },
  {
   "cell_type": "code",
   "execution_count": 19,
   "id": "19de0968",
   "metadata": {},
   "outputs": [],
   "source": [
    "setitem_instance = SetItemExample([1,2,3,4])"
   ]
  },
  {
   "cell_type": "code",
   "execution_count": 20,
   "id": "22b168bd",
   "metadata": {},
   "outputs": [
    {
     "name": "stdout",
     "output_type": "stream",
     "text": [
      "Before setting value : [1, 2, 3, 4]\n",
      "Items after setting: [1, 2, 10, 4]\n"
     ]
    }
   ],
   "source": [
    "print(f\"Before setting value : {setitem_instance.item}\")\n",
    "# now let's setitem \n",
    "setitem_instance[2] = 10\n",
    "print(f\"Items after setting: {setitem_instance.item}\")"
   ]
  },
  {
   "cell_type": "markdown",
   "id": "0ca0a265",
   "metadata": {},
   "source": [
    "### `__repr__ magic method`\n",
    "\n",
    "`__repr__ magic method is used to represent the instance of a class in string. When we try to print the object of a class the __repr__ method is implicitly invoked that returns a string.`"
   ]
  },
  {
   "cell_type": "code",
   "execution_count": 23,
   "id": "ee0d66ba",
   "metadata": {},
   "outputs": [],
   "source": [
    "class ReprExample:\n",
    "    \n",
    "    def __init__(self, a, b, c):\n",
    "        self.a = a\n",
    "        self.b = b\n",
    "        self.c = c\n",
    "    \n",
    "    def __repr__(self):\n",
    "        \n",
    "        return f\"ReprExample: a = {self.a}, b = {self.b}, c = {self.c}\""
   ]
  },
  {
   "cell_type": "code",
   "execution_count": 24,
   "id": "0df941f1",
   "metadata": {},
   "outputs": [],
   "source": [
    "repr_instance = ReprExample(1,2,3)"
   ]
  },
  {
   "cell_type": "code",
   "execution_count": 25,
   "id": "5745fa89",
   "metadata": {},
   "outputs": [
    {
     "name": "stdout",
     "output_type": "stream",
     "text": [
      "ReprExample: a = 1, b = 2, c = 3\n"
     ]
    }
   ],
   "source": [
    "print(repr_instance)"
   ]
  },
  {
   "cell_type": "markdown",
   "id": "ee50a581",
   "metadata": {},
   "source": [
    "`The above class takes in three integer parameters namely a, b, and c. We create an instance by using ReprExample(1, 2, 3) and if we print the instance it prints the string defined in __repr__.`\n",
    "\n",
    "\n",
    "#### `__len__ magic method`\n",
    "\n",
    "`__len__ magic method is used to find the length of the instance attributes. When we use len(instance), it returns the length of the instance attribute which is usually containers.`"
   ]
  },
  {
   "cell_type": "code",
   "execution_count": 26,
   "id": "292ee5fc",
   "metadata": {},
   "outputs": [],
   "source": [
    "class LenExample:\n",
    "    \n",
    "    def __init__(self, item):\n",
    "        self.item = item \n",
    "        \n",
    "    def __len__(self):\n",
    "        return len(self.item)"
   ]
  },
  {
   "cell_type": "code",
   "execution_count": 27,
   "id": "37bf4b33",
   "metadata": {},
   "outputs": [],
   "source": [
    "len_instance = LenExample([1,2,3,4])"
   ]
  },
  {
   "cell_type": "code",
   "execution_count": 28,
   "id": "2ab32815",
   "metadata": {},
   "outputs": [
    {
     "name": "stdout",
     "output_type": "stream",
     "text": [
      "4\n"
     ]
    }
   ],
   "source": [
    "print(len(len_instance))"
   ]
  },
  {
   "cell_type": "markdown",
   "id": "9fce55db",
   "metadata": {},
   "source": [
    "`When we invoke the len() method the length of the list named item is returned that is defined inside the __len__ method.`\n",
    "\n",
    "#### `__lt__, __gt__, __le__, __ge__, __eq__, and __ne__ magic methods`\n",
    "\n",
    "`Comparative operators can be used to compare between the object’s attributes. The available methods are __lt__, __gt__, __le__, __ge__, __eq__, and __ne__ that performs less than, greater than, less than or equal to, greater than or equal to, equal to, and not equal to operations respectively.`"
   ]
  },
  {
   "cell_type": "code",
   "execution_count": 29,
   "id": "20786320",
   "metadata": {},
   "outputs": [
    {
     "name": "stdout",
     "output_type": "stream",
     "text": [
      "True False True False False True\n"
     ]
    }
   ],
   "source": [
    "class Comparison:\n",
    "    def __init__(self, a):\n",
    "        self.a = a\n",
    "    def __lt__(self, object2):\n",
    "        return self.a < object2.a\n",
    "    def __gt__(self, object2):\n",
    "        return self.a > object2.a\n",
    "    def __le__(self, object2):\n",
    "        return self.a <= object2.a\n",
    "    def __ge__(self, object2):\n",
    "        return self.a >= object2.a\n",
    "    def __eq__(self, object2):\n",
    "        return self.a == object2.a\n",
    "    def __ne__(self, object2):\n",
    "        return self.a != object2.a\n",
    "a = Comparison(1)\n",
    "b = Comparison(2)\n",
    "print(\n",
    "    a < b,\n",
    "    a > b,\n",
    "    a <= b,\n",
    "    a >= b,\n",
    "    a == b,\n",
    "    a != b\n",
    ")"
   ]
  },
  {
   "cell_type": "markdown",
   "id": "72359324",
   "metadata": {},
   "source": [
    "#### `__contains__ magic method`\n",
    "\n",
    "`__contains__ method is invoked when using the membership operator ‘in’. When we want to check whether an element is present in the object’s attributes that are usually container (lists, tuple) we can use the __contains__ method`"
   ]
  },
  {
   "cell_type": "code",
   "execution_count": 30,
   "id": "9069493c",
   "metadata": {},
   "outputs": [],
   "source": [
    "class ContainsExample:\n",
    "    \n",
    "    def __init__(self, items):\n",
    "        self.items = items\n",
    "        \n",
    "    def __contains__(self, item):\n",
    "        \n",
    "        return item in self.items"
   ]
  },
  {
   "cell_type": "code",
   "execution_count": 31,
   "id": "0e8cf1ab",
   "metadata": {},
   "outputs": [],
   "source": [
    "contains_instance = ContainsExample([1,2,3,4,5])"
   ]
  },
  {
   "cell_type": "code",
   "execution_count": 32,
   "id": "1f696684",
   "metadata": {},
   "outputs": [
    {
     "name": "stdout",
     "output_type": "stream",
     "text": [
      "True\n"
     ]
    }
   ],
   "source": [
    "print(4 in contains_instance)"
   ]
  },
  {
   "cell_type": "markdown",
   "id": "ff3daaaa",
   "metadata": {},
   "source": [
    "`The above code uses __contains__ method to find whether an integer is present in the list of integers. In the code above we checked whether the integer 4 is present in the list of integers that is an attribute of the class ContainsExample.`\n",
    "\n",
    "#### `__enter__ and __exit__ magic methods`\n",
    "\n",
    "`__enter__ and __exit__ methods are used along with the ‘with’ block in python. The ‘with’ block in python is used to open and close the file object or any other objects that have a close method.`"
   ]
  },
  {
   "cell_type": "code",
   "execution_count": 34,
   "id": "a8a98039",
   "metadata": {},
   "outputs": [],
   "source": [
    "class WriteFile:\n",
    "    \n",
    "    def __init__(self, file_name):\n",
    "        self.file_name = file_name\n",
    "        self.file = None\n",
    "        \n",
    "    def log(self, text):\n",
    "        self.file.write(text + '\\n')\n",
    "        \n",
    "    def __enter__(self):\n",
    "        self.file = open(self.file_name, \"a+\")\n",
    "        return self\n",
    "    \n",
    "    def __exit__(self, exc_type, exc_val, exc_tb):\n",
    "        self.file.close()\n",
    "        \n",
    "        \n",
    "with WriteFile(r\"filename.txt\") as log_file:\n",
    "    log_file.log(\"Log Test 1\")\n",
    "    log_file.log(\"Log Test 2\")"
   ]
  },
  {
   "cell_type": "markdown",
   "id": "e705f12b",
   "metadata": {},
   "source": [
    "`When the class is invoked with the file name ‘filename.txt’ the __enter__ method implicitly creates a text file. After executing the commands in the text file the __exit__ method is implicitly invoked to close the file object. In this way, we can use the __enter__ and __exit__ magic methods. These methods can also be used to open and close a database connection.`"
   ]
  },
  {
   "cell_type": "markdown",
   "id": "1b39c325",
   "metadata": {},
   "source": [
    "#### `__call__ magic method`\n",
    "\n",
    "\n",
    "`__call__ magic method is invoked when the instance of a class is invoked. Instead of writing another method to perform certain operations, we can use the __call__ method to directly call from the instance name.`"
   ]
  },
  {
   "cell_type": "code",
   "execution_count": 35,
   "id": "f1c0a07e",
   "metadata": {},
   "outputs": [],
   "source": [
    "class CallExample:\n",
    "    \n",
    "    def __init__(self, val):\n",
    "        self.val = val\n",
    "        \n",
    "    def __call__(self, b):\n",
    "        return self.val * b\n",
    "   "
   ]
  },
  {
   "cell_type": "code",
   "execution_count": 36,
   "id": "2aa8d522",
   "metadata": {},
   "outputs": [],
   "source": [
    "call_instance = CallExample(6)"
   ]
  },
  {
   "cell_type": "code",
   "execution_count": 37,
   "id": "acae3ba6",
   "metadata": {},
   "outputs": [
    {
     "name": "stdout",
     "output_type": "stream",
     "text": [
      "30\n"
     ]
    }
   ],
   "source": [
    "print(call_instance(5))"
   ]
  },
  {
   "cell_type": "markdown",
   "id": "b163caad",
   "metadata": {},
   "source": [
    "`The call_example instance can be directly called as a method since we have defined the __call__ method in the class. The __call__ method in this example gets in a value named b and multiplies with the ‘val’ attribute of the class that results in the output 30 in the above example.`\n",
    "\n",
    "### `__iter__ magic method`\n",
    "\n",
    "\n",
    "`__iter__ method is used to provide a generator object for the provided instance. We can make use of iter() and next() method to leverage __iter__ method.`"
   ]
  },
  {
   "cell_type": "code",
   "execution_count": 38,
   "id": "5b769023",
   "metadata": {},
   "outputs": [],
   "source": [
    "class Square:\n",
    "    \n",
    "    def __init__(self, start, stop):\n",
    "        self.start = start\n",
    "        self.stop = stop\n",
    "        \n",
    "    def __iter__(self):\n",
    "        \n",
    "        for value in range(self.start, self.stop + 1):\n",
    "            yield value**2"
   ]
  },
  {
   "cell_type": "code",
   "execution_count": 39,
   "id": "7c80715b",
   "metadata": {},
   "outputs": [],
   "source": [
    "i = iter(Square(1, 3))"
   ]
  },
  {
   "cell_type": "code",
   "execution_count": 40,
   "id": "7671b340",
   "metadata": {},
   "outputs": [
    {
     "name": "stdout",
     "output_type": "stream",
     "text": [
      "1\n"
     ]
    }
   ],
   "source": [
    "print(next(i))"
   ]
  },
  {
   "cell_type": "code",
   "execution_count": 41,
   "id": "426f9bf7",
   "metadata": {},
   "outputs": [
    {
     "name": "stdout",
     "output_type": "stream",
     "text": [
      "4\n"
     ]
    }
   ],
   "source": [
    "print(next(i))"
   ]
  },
  {
   "cell_type": "code",
   "execution_count": 42,
   "id": "3b821d5e",
   "metadata": {},
   "outputs": [
    {
     "name": "stdout",
     "output_type": "stream",
     "text": [
      "9\n"
     ]
    }
   ],
   "source": [
    "print(next(i))"
   ]
  },
  {
   "cell_type": "markdown",
   "id": "cc322e8b",
   "metadata": {},
   "source": [
    "`In the code above we are going to find the squares of the values between the provided range (start and stop). When we invoke the method iter(Squares(1, 3)) the __iter__ method is invoked which is a method that yields squares of the values between the provided range. In our example, we use the range from 1 to 3 so the output would be 1, 4, and 9 if we invoke the next() method.`\n",
    "\n",
    "#### Summary\n",
    "`In this post, we have seen how to leverage the use of magic methods in python to provide additional functionalities to the class objects without any overhead.\n",
    "The __add__ method is used to add two object’s attributes\n",
    "The __getitem__ and __setitem__ methods are used to set and get the items of an object’s container attributes\n",
    "The __repr__ method is used to print the object as a string\n",
    "The __len__ method is used to find the length of the object’s attributes\n",
    "__lt__, __gt__, __le__, __ge__, __eq__, and __ne__ methods are used for comparison of object’s attributes\n",
    "__contains__ method is used for membership validation\n",
    "__enter__ and __exit__ methods are used with the ‘with’ block in the python\n",
    "__call__ method is used to use the object as a method.\n",
    "__iter__ method is used to generate generator objects using the object`"
   ]
  },
  {
   "cell_type": "code",
   "execution_count": null,
   "id": "a27f1a58",
   "metadata": {},
   "outputs": [],
   "source": []
  }
 ],
 "metadata": {
  "kernelspec": {
   "display_name": "Python 3 (ipykernel)",
   "language": "python",
   "name": "python3"
  },
  "language_info": {
   "codemirror_mode": {
    "name": "ipython",
    "version": 3
   },
   "file_extension": ".py",
   "mimetype": "text/x-python",
   "name": "python",
   "nbconvert_exporter": "python",
   "pygments_lexer": "ipython3",
   "version": "3.9.7"
  }
 },
 "nbformat": 4,
 "nbformat_minor": 5
}
