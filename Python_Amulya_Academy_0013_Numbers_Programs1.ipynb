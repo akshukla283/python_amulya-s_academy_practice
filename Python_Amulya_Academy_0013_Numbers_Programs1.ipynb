{
 "cells": [
  {
   "cell_type": "markdown",
   "id": "0200599a",
   "metadata": {},
   "source": [
    "#### Armstrong Numbers \n",
    "\n",
    "number of `n` digit are equal to sum  on `nth` power of its `digits`."
   ]
  },
  {
   "cell_type": "code",
   "execution_count": 1,
   "id": "f7b1ad9b",
   "metadata": {},
   "outputs": [
    {
     "ename": "TypeError",
     "evalue": "object of type 'int' has no len()",
     "output_type": "error",
     "traceback": [
      "\u001b[1;31m---------------------------------------------------------------------------\u001b[0m",
      "\u001b[1;31mTypeError\u001b[0m                                 Traceback (most recent call last)",
      "Input \u001b[1;32mIn [1]\u001b[0m, in \u001b[0;36m<cell line: 2>\u001b[1;34m()\u001b[0m\n\u001b[0;32m      1\u001b[0m \u001b[38;5;66;03m# important note --- we can not find the length of any number by 'len' method.\u001b[39;00m\n\u001b[1;32m----> 2\u001b[0m \u001b[38;5;28;43mlen\u001b[39;49m\u001b[43m(\u001b[49m\u001b[38;5;241;43m1234\u001b[39;49m\u001b[43m)\u001b[49m\n",
      "\u001b[1;31mTypeError\u001b[0m: object of type 'int' has no len()"
     ]
    }
   ],
   "source": [
    "# important note --- we can not find the length of any number by 'len' method.\n",
    "len(1234)"
   ]
  },
  {
   "cell_type": "code",
   "execution_count": 2,
   "id": "1bf43540",
   "metadata": {},
   "outputs": [
    {
     "ename": "TypeError",
     "evalue": "object of type 'int' has no len()",
     "output_type": "error",
     "traceback": [
      "\u001b[1;31m---------------------------------------------------------------------------\u001b[0m",
      "\u001b[1;31mTypeError\u001b[0m                                 Traceback (most recent call last)",
      "Input \u001b[1;32mIn [2]\u001b[0m, in \u001b[0;36m<cell line: 1>\u001b[1;34m()\u001b[0m\n\u001b[1;32m----> 1\u001b[0m \u001b[38;5;28;43mlen\u001b[39;49m\u001b[43m(\u001b[49m\u001b[43m(\u001b[49m\u001b[38;5;241;43m123\u001b[39;49m\u001b[43m)\u001b[49m\u001b[43m)\u001b[49m\n",
      "\u001b[1;31mTypeError\u001b[0m: object of type 'int' has no len()"
     ]
    }
   ],
   "source": [
    "len((123))"
   ]
  },
  {
   "cell_type": "code",
   "execution_count": 3,
   "id": "82876243",
   "metadata": {},
   "outputs": [
    {
     "data": {
      "text/plain": [
       "3"
      ]
     },
     "execution_count": 3,
     "metadata": {},
     "output_type": "execute_result"
    }
   ],
   "source": [
    "len(\"123\")"
   ]
  },
  {
   "cell_type": "code",
   "execution_count": 4,
   "id": "4e408208",
   "metadata": {},
   "outputs": [
    {
     "name": "stdout",
     "output_type": "stream",
     "text": [
      "1\n",
      "<class 'tuple'>\n"
     ]
    }
   ],
   "source": [
    "print(len((123,)) )# now it has become tuple\n",
    "print(type((123,)))"
   ]
  },
  {
   "cell_type": "markdown",
   "id": "b40da084",
   "metadata": {},
   "source": [
    "####  Armstrong\n",
    "\n",
    "An Armstrong Number is a number that when you raise each digit of the number to the power of the number of digits and then add them up you get the original number.\n",
    "\n",
    "a is a Armstrong Number if\n",
    "`a=(a1)^n +(a2)^n...(an)^n`\n",
    "\n",
    "For example 371 is an Armstrong Number because\n",
    "`371=3^3+7^3+1^3 = 27 + 343 + 1 = 371`"
   ]
  },
  {
   "cell_type": "code",
   "execution_count": 8,
   "id": "8dd8099b",
   "metadata": {},
   "outputs": [
    {
     "name": "stdout",
     "output_type": "stream",
     "text": [
      "0\n",
      "1\n",
      "2\n",
      "3\n",
      "4\n",
      "5\n",
      "6\n",
      "7\n",
      "8\n",
      "9\n",
      "153\n",
      "370\n",
      "371\n",
      "407\n"
     ]
    }
   ],
   "source": [
    "# Armstrong Numbers between range of the numbers \n",
    "for i in range(1001):\n",
    "    num = i\n",
    "    result = 0\n",
    "    n = len(str(i))\n",
    "    while (i != 0):\n",
    "        digit = i % 10\n",
    "        result = result + digit**n\n",
    "        i = i //10\n",
    "    if num == result:\n",
    "        print(num)\n",
    "    "
   ]
  },
  {
   "cell_type": "code",
   "execution_count": 1,
   "id": "20e26c13",
   "metadata": {},
   "outputs": [
    {
     "name": "stdout",
     "output_type": "stream",
     "text": [
      "0\n",
      "1\n",
      "2\n",
      "3\n",
      "4\n",
      "5\n",
      "6\n",
      "7\n",
      "8\n",
      "9\n",
      "153\n",
      "370\n",
      "371\n",
      "407\n"
     ]
    }
   ],
   "source": [
    "for i in range(1001):\n",
    "    num = i\n",
    "    result = 0\n",
    "    n = len(str(i))\n",
    "    while i !=0:\n",
    "        digit = i %10\n",
    "        result = result + digit**n\n",
    "        i = i//10\n",
    "    if num == result:\n",
    "        print(num)"
   ]
  },
  {
   "cell_type": "code",
   "execution_count": 10,
   "id": "dd769e58",
   "metadata": {
    "scrolled": true
   },
   "outputs": [
    {
     "name": "stdout",
     "output_type": "stream",
     "text": [
      "[0, 1, 2, 3, 4, 5, 6, 7, 8, 9, 153, 370, 371, 407]\n"
     ]
    }
   ],
   "source": [
    "Arm_num = []\n",
    "for i in range(1001):\n",
    "    num = i\n",
    "    result = 0\n",
    "    n = len(str(i))\n",
    "    while (i != 0):\n",
    "        digit = i % 10\n",
    "        result = result + digit**n\n",
    "        i = i //10\n",
    "    if num == result:\n",
    "        Arm_num.append(num)\n",
    "    \n",
    "print(Arm_num)       \n",
    "    "
   ]
  },
  {
   "cell_type": "code",
   "execution_count": 10,
   "id": "cf8c6ea1",
   "metadata": {},
   "outputs": [
    {
     "name": "stdout",
     "output_type": "stream",
     "text": [
      "Enter the number to check the Armstrong number: 371\n",
      "Number is Armstrong number!\n"
     ]
    }
   ],
   "source": [
    "num = int(input(\"Enter the number to check the Armstrong number: \"))\n",
    "result = 0\n",
    "n = len(str(num))\n",
    "temp = num\n",
    "while num!=0:\n",
    "    digit = num%10\n",
    "    result = result + digit**n\n",
    "    num = num//10\n",
    "if temp == result:\n",
    "    print(\"Number is Armstrong number!\")\n",
    "else:\n",
    "    print(\"Number is not Armstrong number!\")"
   ]
  },
  {
   "cell_type": "code",
   "execution_count": 17,
   "id": "aa90d8d2",
   "metadata": {},
   "outputs": [
    {
     "name": "stdout",
     "output_type": "stream",
     "text": [
      "Please enter the number: 407\n",
      "407\n",
      "Number is an Armstrong Number\n"
     ]
    }
   ],
   "source": [
    "num = int(input(\"Please enter the number: \"))\n",
    "sum = 0\n",
    "str_num = str(num)\n",
    "n = len(str_num)\n",
    "for i in str_num:\n",
    "    sum = sum + int(i)**n\n",
    "if num == sum:\n",
    "    print(num)\n",
    "    print(\"Number is an Armstrong Number\")\n",
    "else:\n",
    "    print(\"Number is not an Armstrong Number\")"
   ]
  },
  {
   "cell_type": "code",
   "execution_count": 18,
   "id": "199be5c5",
   "metadata": {},
   "outputs": [],
   "source": [
    "# Factorial \n",
    "# factorial of Positive numbers\n",
    "\n",
    "\n",
    "# 5! = 5 x 4 x 3 x 2 x 1 \n",
    "# 5! = 5 * (5-1)! * (5-2) * (5-3)! * (5-4)!\n",
    "\n",
    "# using 1 - built-in funtion , 2- Recursion  3 - Iterative\n",
    "\n"
   ]
  },
  {
   "cell_type": "code",
   "execution_count": 21,
   "id": "4496077d",
   "metadata": {},
   "outputs": [
    {
     "name": "stdout",
     "output_type": "stream",
     "text": [
      "please enter the number: 5\n",
      "Factorial of the number is :  120\n"
     ]
    }
   ],
   "source": [
    "# built-in function\n",
    "\n",
    "n = int(input(\"please enter the number: \"))\n",
    "import math \n",
    "result = math.factorial(n)\n",
    "print(\"Factorial of the number is : \", result)"
   ]
  },
  {
   "cell_type": "code",
   "execution_count": 2,
   "id": "a11087ad",
   "metadata": {},
   "outputs": [
    {
     "name": "stdout",
     "output_type": "stream",
     "text": [
      "please enter the number: 0\n",
      "Factorial of 0 is :  1\n"
     ]
    }
   ],
   "source": [
    "# Recursion method (Positive function)\n",
    "\n",
    "# base case o! = 1\n",
    "# recursive case = n*(n-1)\n",
    "\n",
    "n = int(input(\"please enter the number: \"))\n",
    "def fact(num):\n",
    "    \n",
    "    if num == 0:\n",
    "        return 1\n",
    "    else:\n",
    "        return num*fact(num - 1)\n",
    "    \n",
    "print(\"Factorial of\", n ,\"is : \", fact(n))"
   ]
  },
  {
   "cell_type": "code",
   "execution_count": 11,
   "id": "d3453ff3",
   "metadata": {},
   "outputs": [
    {
     "name": "stdout",
     "output_type": "stream",
     "text": [
      "please enter the number: 4\n",
      "Factorial of 4 is :  24\n"
     ]
    }
   ],
   "source": [
    "### Iterative method\n",
    "\n",
    "n = int(input(\"please enter the number: \"))\n",
    "result = 1\n",
    "if n == 0 or n == 1:\n",
    "    result\n",
    "else:\n",
    "    \n",
    "    for i in range(n, 0, -1):\n",
    "        result = result*i\n",
    "    \n",
    "print(\"Factorial of\",n,\"is : \", result)"
   ]
  },
  {
   "cell_type": "code",
   "execution_count": 4,
   "id": "496a1b9e",
   "metadata": {},
   "outputs": [
    {
     "name": "stdout",
     "output_type": "stream",
     "text": [
      "enter the number : 3\n",
      "Factorial of the 3 is : 6\n"
     ]
    }
   ],
   "source": [
    "num = int(input(\"enter the number : \"))\n",
    "result = 1 # we take it to start multiplication and store the value\n",
    "\n",
    "for i in range(num , 0, -1):\n",
    "    result = result * i\n",
    "    \n",
    "print(f\"Factorial of the {num} is : {result}\")"
   ]
  },
  {
   "cell_type": "markdown",
   "id": "9c23e665",
   "metadata": {},
   "source": [
    "#### Fibonacci Numbers Series:\n",
    "\n",
    "\n",
    "except first two (0 and 1) number in series, fibonacci series is sum of previous two numbers."
   ]
  },
  {
   "cell_type": "code",
   "execution_count": 13,
   "id": "463d705a",
   "metadata": {},
   "outputs": [
    {
     "name": "stdout",
     "output_type": "stream",
     "text": [
      "Enter how many number you want in this Fibonacci series: 2\n",
      "0 1 "
     ]
    }
   ],
   "source": [
    "# \n",
    "n = int(input(\"Enter how many number you want in this Fibonacci series: \"))\n",
    "first = 0\n",
    "second = 1\n",
    "\n",
    "for i in range(n):\n",
    "    print(first, end = \" \")\n",
    "    temp = first\n",
    "    first = second\n",
    "    second = temp + second\n",
    "    "
   ]
  },
  {
   "cell_type": "code",
   "execution_count": 6,
   "id": "b5c4e4ff",
   "metadata": {},
   "outputs": [
    {
     "name": "stdout",
     "output_type": "stream",
     "text": [
      "Enter how many number you want in this Fibonacci series: 10\n",
      "0 1 1 2 3 5 8 13 21 34 "
     ]
    }
   ],
   "source": [
    "n = int(input(\"Enter how many number you want in this Fibonacci series: \"))\n",
    "\n",
    "first = 0\n",
    "second = 1\n",
    "for i in range(n):\n",
    "    print(first, end = \" \")\n",
    "    first, second = second, first + second\n",
    "    \n",
    "    "
   ]
  },
  {
   "cell_type": "markdown",
   "id": "c63f820e",
   "metadata": {},
   "source": [
    "### Prime Numbers\n",
    "it is a nutural number greater than 1 that has no positive divisors other than 1 and itself."
   ]
  },
  {
   "cell_type": "code",
   "execution_count": 4,
   "id": "03a577b0",
   "metadata": {},
   "outputs": [
    {
     "name": "stdout",
     "output_type": "stream",
     "text": [
      "Please enter the number :7\n",
      "7 is prime number\n"
     ]
    }
   ],
   "source": [
    "# suppose we have taken 5 then first we have to divide it with numbers lesser than 5 means\n",
    "# 1,2,3,4 but prime number is greater than 1 so we need to divide it by 2,3,4 and check remainder\n",
    "\n",
    "num = int(input(\"Please enter the number :\"))\n",
    "if num > 1:\n",
    "    for i in range(2, num):\n",
    "        if num%i == 0:\n",
    "            print(\"Number is not a prime number!\")\n",
    "            break # if condition true means number is not prime so no need to further check \n",
    "    else:\n",
    "        print(f\"{num} is prime number\")\n",
    "else:\n",
    "    print(f\"{num} is not a prime number\")"
   ]
  },
  {
   "cell_type": "markdown",
   "id": "2220a62e",
   "metadata": {},
   "source": [
    "#### Prime number in between in the intervals \n",
    "\n",
    "lower intrval \n",
    "\n",
    "upper interval"
   ]
  },
  {
   "cell_type": "code",
   "execution_count": 5,
   "id": "a640cb7b",
   "metadata": {},
   "outputs": [
    {
     "name": "stdout",
     "output_type": "stream",
     "text": [
      "Enter the lower interval: 2\n",
      "Enter the upper interval: 20\n",
      "2\n",
      "3\n",
      "5\n",
      "7\n",
      "11\n",
      "13\n",
      "17\n",
      "19\n"
     ]
    }
   ],
   "source": [
    "lower = int(input(\"Enter the lower interval: \"))\n",
    "upper = int(input(\"Enter the upper interval: \"))\n",
    "\n",
    "for num in range(lower, upper+1):\n",
    "    # we need to check whether the num is greater than 1 or not \n",
    "    if num>1:\n",
    "        # suppose we have 5 so we need to check wether 5 is divisible by 2,3,4 not 1, and 5\n",
    "        for i in range(2, num):\n",
    "            if(num%i) ==0:\n",
    "                break\n",
    "        else:\n",
    "            print(num)\n",
    "            \n",
    "    "
   ]
  },
  {
   "cell_type": "code",
   "execution_count": 8,
   "id": "6d1f8409",
   "metadata": {},
   "outputs": [
    {
     "name": "stdout",
     "output_type": "stream",
     "text": [
      "Enter the lower interval: 1\n",
      "Enter the upper interval: 50\n",
      "List of prime number in given range is:\n",
      "[2, 3, 5, 7, 11, 13, 17, 19, 23, 29, 31, 37, 41, 43, 47]\n"
     ]
    }
   ],
   "source": [
    "# list of prime numbers in given range \n",
    "lower = int(input(\"Enter the lower interval: \"))\n",
    "upper = int(input(\"Enter the upper interval: \"))\n",
    "prime_list = []\n",
    "for num in range(lower, upper+1):\n",
    "    \n",
    "    if num > 1:\n",
    "        for i in range(2, num):\n",
    "            if num%i == 0:\n",
    "                break\n",
    "        else:\n",
    "            prime_list.append(num)\n",
    "    else:\n",
    "        pass\n",
    "print(f\"List of prime number in given range is:\\n{prime_list}\")"
   ]
  },
  {
   "cell_type": "markdown",
   "id": "89311619",
   "metadata": {},
   "source": [
    "#### How many numbers of prime number you want?\n",
    "\n",
    "#### Python program to print first n Prime Numbers."
   ]
  },
  {
   "cell_type": "code",
   "execution_count": 2,
   "id": "106fd1f4",
   "metadata": {},
   "outputs": [],
   "source": [
    "for i in range(2,2):\n",
    "    print(i)"
   ]
  },
  {
   "cell_type": "code",
   "execution_count": 3,
   "id": "2772521f",
   "metadata": {},
   "outputs": [
    {
     "name": "stdout",
     "output_type": "stream",
     "text": [
      "how many prime number you want: 7\n",
      "List of first 7 prime number is:\n",
      "[2, 3, 5, 7, 11, 13, 17]\n"
     ]
    }
   ],
   "source": [
    "\n",
    "length = int(input(\"how many prime number you want: \"))\n",
    "\n",
    "prime_list = []\n",
    "num = 2 # we took 2 because it should pass at least first 'if' condition \n",
    "while len(prime_list)!=length:\n",
    "    \n",
    "    if num > 1:\n",
    "        for i in range(2, num):\n",
    "            if num%i == 0:\n",
    "                break\n",
    "        else:\n",
    "            prime_list.append(num)\n",
    "    else:\n",
    "        pass\n",
    "    num = num + 1\n",
    "print(f\"List of first {length} prime number is:\\n{prime_list}\")"
   ]
  },
  {
   "cell_type": "markdown",
   "id": "d6dead93",
   "metadata": {},
   "source": [
    "#### Python3 program to display specific prime number from the start."
   ]
  },
  {
   "cell_type": "code",
   "execution_count": 9,
   "id": "127dd4f8",
   "metadata": {},
   "outputs": [
    {
     "name": "stdout",
     "output_type": "stream",
     "text": [
      "which prime number you want from the start: 8\n",
      "List of prime number is:\n",
      "[2, 3, 5, 7, 11, 13, 17, 19]\n",
      "\n",
      "The 8th/nd/rd prime number from start is: 19\n"
     ]
    }
   ],
   "source": [
    "length = int(input(\"which prime number you want from the start: \"))\n",
    "\n",
    "prime_list = []\n",
    "num = 2\n",
    "\n",
    "if length<=1:\n",
    "    prime_list.append(\"you want no prime number\")\n",
    "    \n",
    "else:\n",
    "    \n",
    "    while len(prime_list)!=length:\n",
    "\n",
    "        if num > 1:\n",
    "            for i in range(2, num):\n",
    "                if num%i == 0:\n",
    "                    break\n",
    "            else:\n",
    "                prime_list.append(num)\n",
    "        else:\n",
    "            pass\n",
    "        num = num + 1\n",
    "        \n",
    "print(f\"List of prime number is:\\n{prime_list}\")\n",
    "print()\n",
    "print(f\"The {length}th/nd/rd prime number from start is:\", prime_list[-1])"
   ]
  },
  {
   "cell_type": "markdown",
   "id": "319a96ef",
   "metadata": {},
   "source": [
    "#### Python3 program to display Prime numbers till N"
   ]
  },
  {
   "cell_type": "code",
   "execution_count": 10,
   "id": "ebec583e",
   "metadata": {},
   "outputs": [
    {
     "name": "stdout",
     "output_type": "stream",
     "text": [
      "Enter the number within you want prime numbers: 5\n",
      "\n",
      "Your prime number in given range 5 is: \n",
      "2 3 5 "
     ]
    }
   ],
   "source": [
    "num = int(input(\"Enter the number within you want prime numbers: \"))\n",
    "prime = []\n",
    "n = 2 # to start and pass if condition at least once\n",
    "if num<=1:\n",
    "    prime.append(\"no prime number within given range!\")\n",
    "    \n",
    "else:\n",
    "    while n!= num+1:\n",
    "        if n>1:\n",
    "            for i in range(2, n):\n",
    "                if n%i == 0:\n",
    "                    break\n",
    "                # no need to check else part of if\n",
    "            else:\n",
    "                prime.append(n)\n",
    "        n = n+1  # to incement the while loop \n",
    "\n",
    "print()\n",
    "print(f\"Your prime number in given range {num} is: \")\n",
    "for i in prime:\n",
    "    print(i, end = \" \")\n",
    "        \n",
    "    "
   ]
  },
  {
   "cell_type": "code",
   "execution_count": null,
   "id": "f4bb5b26",
   "metadata": {},
   "outputs": [],
   "source": [
    "# this is done for checking git \n",
    "# this is check for second update \n",
    "\n",
    "# this one is after creating 'mslap'\n",
    "\n",
    "# this time again made some changes\n",
    "\n",
    "# this time again made some changes second"
   ]
  },
  {
   "cell_type": "markdown",
   "id": "1bd46885",
   "metadata": {},
   "source": [
    "### Perfect Numbers\n",
    "\n",
    "Pefect numbers is a positive integer that equal to the sum of its positive divisors excluding the number itself.\n",
    "\n",
    "e.g. 6 , have perfect divisors 1, 2, 3, 6 now as per definition we need to exclude the number itself so here we need to take 1,2,3 only as take sum of its which is '6 ' and it is equal to number so it's a perfect number \n",
    "\n",
    "\n",
    "Other definittion \n",
    "\n",
    "Perect number is a positive integer that is equal to the half of the sum of its all positive divisors:\n",
    "\n",
    "means if we will take 6 as e.g then 1,2,3,6 as perfect divisor and sum is 12 and half is 6 which matches the num itself so its a perfect number"
   ]
  },
  {
   "cell_type": "code",
   "execution_count": 14,
   "id": "478a801a",
   "metadata": {},
   "outputs": [
    {
     "name": "stdout",
     "output_type": "stream",
     "text": [
      "Please enter the number: 6\n",
      "Number 6 is a perfect Number!\n"
     ]
    }
   ],
   "source": [
    "num = int(input(\"Please enter the number: \"))\n",
    "result = 0\n",
    "for i in range(1,num):\n",
    "    if num%i== 0:\n",
    "        result =result + i\n",
    "    \n",
    "if num == result:\n",
    "    print(f\"Number {num} is a perfect Number!\")\n",
    "    \n",
    "else:\n",
    "    print(\"Not a perfect Number!\")"
   ]
  },
  {
   "cell_type": "code",
   "execution_count": 15,
   "id": "11450d06",
   "metadata": {},
   "outputs": [
    {
     "name": "stdout",
     "output_type": "stream",
     "text": [
      "inter the lower limit: 1\n",
      "inter the upper limit: 100\n",
      "6\n",
      "28\n"
     ]
    }
   ],
   "source": [
    "##### Perfect number in some specific interval\n",
    "\n",
    "lower = int(input(\"inter the lower limit: \"))\n",
    "upper = int(input(\"inter the upper limit: \"))\n",
    "\n",
    "for num in range(lower, upper+1):\n",
    "    result = 0 # result initially\n",
    "    for i in range(1, num):\n",
    "        if num%i == 0:\n",
    "            result = result + i\n",
    "    if num == result:\n",
    "        print(num)\n",
    "            "
   ]
  },
  {
   "cell_type": "markdown",
   "id": "f5f2ca4e",
   "metadata": {},
   "source": [
    "#### don't run more than Number 4,  it's time taking and memory as well "
   ]
  },
  {
   "cell_type": "code",
   "execution_count": 50,
   "id": "b2474c9d",
   "metadata": {},
   "outputs": [
    {
     "name": "stdout",
     "output_type": "stream",
     "text": [
      "how many perfect number you want : 4\n",
      "[6, 28, 496, 8128]\n"
     ]
    }
   ],
   "source": [
    "# length = int(input(\"how many perfect number you want : \"))\n",
    "\n",
    "# per_lst = []\n",
    "# num = 1\n",
    "# while len(per_lst)!= length:\n",
    "#     result = 0\n",
    "#     for i in range(1, num):\n",
    "#         if num%i == 0:\n",
    "#             result = result + i\n",
    "            \n",
    "#     if num == result:\n",
    "#         per_lst.append(num)\n",
    "#     num = num+1\n",
    "        \n",
    "# print(per_lst)\n",
    "        \n",
    "            "
   ]
  },
  {
   "cell_type": "markdown",
   "id": "23676226",
   "metadata": {},
   "source": [
    "#### Palindrome method\n",
    "\n",
    "A palindrome is a word, number, phrase, or other sequence of characters which reads the same backward as forward, such as madam or racecar. There are also numeric palindromes, including date/time stamps using short digits 11/11/11 11:11 and long digits 02/02/2020."
   ]
  },
  {
   "cell_type": "code",
   "execution_count": 5,
   "id": "a6851947",
   "metadata": {},
   "outputs": [
    {
     "name": "stdout",
     "output_type": "stream",
     "text": [
      "Please enter the sting: hello\n",
      "Reverse string : olleh\n",
      "Not a Palindrome\n"
     ]
    }
   ],
   "source": [
    "# slicing method \n",
    "\n",
    "str1 = input(\"Please enter the sting: \")\n",
    "new_str = str1[::-1]\n",
    "print(f\"Reverse string : {new_str}\")\n",
    "if new_str == str1:\n",
    "    print(\"It is a Palindrome\")\n",
    "else:\n",
    "    print(\"Not a Palindrome\")"
   ]
  },
  {
   "cell_type": "code",
   "execution_count": 39,
   "id": "e115009e",
   "metadata": {},
   "outputs": [
    {
     "name": "stdout",
     "output_type": "stream",
     "text": [
      "Please enter the number : 121\n",
      "Reverse number is : 121\n",
      "It is a Palindrome\n"
     ]
    }
   ],
   "source": [
    "#### for a number \n",
    "\n",
    "num = int(input(\"Please enter the number : \"))\n",
    "string = str(num)\n",
    "new_str = string[::-1]\n",
    "print(f\"Reverse number is : {new_str}\")          \n",
    "          \n",
    "if new_str == string:\n",
    "    print(\"It is a Palindrome\")\n",
    "else:\n",
    "    print(\"Not a Palindrome\")"
   ]
  },
  {
   "cell_type": "markdown",
   "id": "b80f909a",
   "metadata": {},
   "source": [
    "#### Swapping Numbers:\n"
   ]
  },
  {
   "cell_type": "code",
   "execution_count": 15,
   "id": "b4e47ad3",
   "metadata": {},
   "outputs": [
    {
     "name": "stdout",
     "output_type": "stream",
     "text": [
      "Enter the value a: 5\n",
      "Enter the value b: 6\n",
      "after swapping: \n",
      "\tvalue a is : 6 \n",
      "\tvalue b is : 5 \n"
     ]
    }
   ],
   "source": [
    "# using third variable \n",
    "\n",
    "a = int(input(\"Enter the value a: \"))\n",
    "b = int(input(\"Enter the value b: \"))\n",
    "\n",
    "temp = a \n",
    "a = b\n",
    "b = temp\n",
    "print(\"after swapping: \")\n",
    "print(f\"\\tvalue a is : {a} \")\n",
    "print(f\"\\tvalue b is : {b} \")"
   ]
  },
  {
   "cell_type": "code",
   "execution_count": 14,
   "id": "86fb8b55",
   "metadata": {},
   "outputs": [
    {
     "name": "stdout",
     "output_type": "stream",
     "text": [
      "Enter the value a: 6\n",
      "Enter the value b: 5\n",
      "after swapping: \n",
      "\tvalue a is : 5 \n",
      "\tvalue b is : 6 \n"
     ]
    }
   ],
   "source": [
    "# # without using to value \n",
    "a = int(input(\"Enter the value a: \"))\n",
    "b = int(input(\"Enter the value b: \"))\n",
    "\n",
    "a = a + b\n",
    "b = a - b \n",
    "a = a - b # now here b became a now \n",
    "\n",
    "print(\"after swapping: \")\n",
    "print(f\"\\tvalue a is : {a} \")\n",
    "print(f\"\\tvalue b is : {b} \")"
   ]
  },
  {
   "cell_type": "code",
   "execution_count": 16,
   "id": "22bffe25",
   "metadata": {},
   "outputs": [
    {
     "name": "stdout",
     "output_type": "stream",
     "text": [
      "Enter the value a: 5\n",
      "Enter the value b: 4\n",
      "a :  4\n",
      "b :  5\n"
     ]
    }
   ],
   "source": [
    "# without any third variable\n",
    "a = int(input(\"Enter the value a: \"))\n",
    "b = int(input(\"Enter the value b: \"))\n",
    "\n",
    "# now swapping of numbers\n",
    "a, b = b, a\n",
    "\n",
    "print(\"a : \", a)\n",
    "print(\"b : \", b)"
   ]
  },
  {
   "cell_type": "markdown",
   "id": "a276e027",
   "metadata": {},
   "source": [
    "### Sum Programs\n",
    "\n",
    "sum of all digit in a numbers"
   ]
  },
  {
   "cell_type": "code",
   "execution_count": 18,
   "id": "e52aabb8",
   "metadata": {},
   "outputs": [
    {
     "name": "stdout",
     "output_type": "stream",
     "text": [
      "Please enter a positive integer number: 123\n",
      "Sum of its digit is: 6\n"
     ]
    }
   ],
   "source": [
    "num = int(input(\"Please enter a positive integer number: \"))\n",
    "result = 0\n",
    "while num != 0:\n",
    "    digit = num %10\n",
    "    result = result + digit\n",
    "    num = num // 10\n",
    "    \n",
    "print(f\"Sum of its digit is: {result}\")"
   ]
  },
  {
   "cell_type": "code",
   "execution_count": 19,
   "id": "d5891770",
   "metadata": {},
   "outputs": [
    {
     "name": "stdout",
     "output_type": "stream",
     "text": [
      "Please enter a positive integer number: 11111\n",
      "Sum of its digit is: 5\n"
     ]
    }
   ],
   "source": [
    "num = int(input(\"Please enter a positive integer number: \"))\n",
    "result = 0\n",
    "while num > 0:\n",
    "    digit = num %10\n",
    "    result = result + digit\n",
    "    num = num // 10\n",
    "    \n",
    "print(f\"Sum of its digit is: {result}\")"
   ]
  },
  {
   "cell_type": "code",
   "execution_count": 20,
   "id": "c5ee48c3",
   "metadata": {},
   "outputs": [
    {
     "name": "stdout",
     "output_type": "stream",
     "text": [
      "Please enter a positive integer number: 121\n",
      "Sum of its digit is: 4\n"
     ]
    }
   ],
   "source": [
    "## using for loop\n",
    "\n",
    "num = int(input(\"Please enter a positive integer number: \"))\n",
    "result = 0\n",
    "for i in range(len(str(num))):\n",
    "    digit = num %10\n",
    "    result = result + digit\n",
    "    num = num // 10\n",
    "    \n",
    "print(f\"Sum of its digit is: {result}\")\n",
    "    "
   ]
  },
  {
   "cell_type": "markdown",
   "id": "99e2369e",
   "metadata": {},
   "source": [
    "#### Reverse the String "
   ]
  },
  {
   "cell_type": "code",
   "execution_count": 22,
   "id": "a2d9bc15",
   "metadata": {},
   "outputs": [
    {
     "name": "stdout",
     "output_type": "stream",
     "text": [
      "Enter the string: hello\n",
      "Reverse string :  olleh\n"
     ]
    }
   ],
   "source": [
    "# using for loop\n",
    "\n",
    "def reverse(string):\n",
    "    reverse_str = \"\"\n",
    "    for i in string:\n",
    "        reverse_str = i + reverse_str         # we did concatenation\n",
    "    print(\"Reverse string : \", reverse_str)\n",
    "    \n",
    "    \n",
    "string = input(\"Enter the string: \")\n",
    "reverse(string)"
   ]
  },
  {
   "cell_type": "code",
   "execution_count": 15,
   "id": "58acb2c1",
   "metadata": {},
   "outputs": [
    {
     "name": "stdout",
     "output_type": "stream",
     "text": [
      "Enter string : hello wolrd\n",
      "drlow olleh\n"
     ]
    }
   ],
   "source": [
    "str1 = input(\"Enter string : \")\n",
    "\n",
    "rev_str = str1[::-1]\n",
    "print(rev_str)"
   ]
  },
  {
   "cell_type": "code",
   "execution_count": 17,
   "id": "d397aa67",
   "metadata": {},
   "outputs": [
    {
     "name": "stdout",
     "output_type": "stream",
     "text": [
      "Enter string : Welcome to the Python World!\n",
      "World! Python the to Welcome\n"
     ]
    }
   ],
   "source": [
    "# reverse string by word but letter in that\n",
    "\n",
    "str1 = input(\"Enter string : \")\n",
    "str_lst = str1.split()\n",
    "print(\" \".join(str_lst[::-1]))"
   ]
  },
  {
   "cell_type": "code",
   "execution_count": null,
   "id": "e3135ec0",
   "metadata": {},
   "outputs": [],
   "source": []
  },
  {
   "cell_type": "code",
   "execution_count": null,
   "id": "c584dea3",
   "metadata": {},
   "outputs": [],
   "source": []
  },
  {
   "cell_type": "markdown",
   "id": "e3b0c471",
   "metadata": {},
   "source": [
    "#### Palindormic Prime Number\n",
    "\n",
    "palindromic means number is same from the front and the reverse and prime number is natural number greater than 1 that has no positive divisors other than 1 and itself.\n",
    "so combination to Palindrome and Prime number is called Palindromic Prime Number."
   ]
  },
  {
   "cell_type": "code",
   "execution_count": 19,
   "id": "0774d6f7",
   "metadata": {},
   "outputs": [
    {
     "name": "stdout",
     "output_type": "stream",
     "text": [
      "please enter the number : 11\n",
      "Reverse string : 11\n",
      "11 number is Palindromic Prime Number!\n"
     ]
    }
   ],
   "source": [
    "num = int(input(\"please enter the number : \"))\n",
    "\n",
    "reverse = int(str(num)[::-1])\n",
    "print(\"Reverse string :\", reverse)\n",
    "\n",
    "# checking for reverae then prime\n",
    "if num == reverse:\n",
    "    # now for prime\n",
    "    if num >1:\n",
    "        for i in range(2, num):\n",
    "            if num%i == 0:\n",
    "                print(num, \"is not a prime number but it is a Palindrome\")\n",
    "                break\n",
    "        else:\n",
    "            print(num, \"number is Palindromic Prime Number!\")\n",
    "            \n",
    "else:\n",
    "    # now again we need to check for prime maybe number will be a prime while it not a palindrome\n",
    "    if num>1:\n",
    "        for i in range(2, num):\n",
    "            if num%i == 0:\n",
    "                print(num, \"is neighter a prime number nor a Palindrome!\")\n",
    "                break\n",
    "        else:\n",
    "            print(num, \"number is a prime number but not a palindrome\")\n",
    "            "
   ]
  },
  {
   "cell_type": "code",
   "execution_count": 4,
   "id": "e55b00b7",
   "metadata": {},
   "outputs": [
    {
     "name": "stdout",
     "output_type": "stream",
     "text": [
      "please enter the number : 101\n",
      "Reverse string : 101\n",
      "101 number is Palindromic Prime Number!\n"
     ]
    }
   ],
   "source": [
    "num = int(input(\"please enter the number : \"))\n",
    "\n",
    "reverse = int(str(num)[::-1])\n",
    "print(\"Reverse string :\", reverse)\n",
    "\n",
    "# checking for reverae then prime\n",
    "if num == reverse:\n",
    "    # now for prime\n",
    "    if num >1:\n",
    "        for i in range(2, num):\n",
    "            if num%i == 0:\n",
    "                print(num, \"is not a prime number but it is a Palindrome\")\n",
    "                break\n",
    "        else:\n",
    "            print(num, \"number is Palindromic Prime Number!\")\n",
    "            \n",
    "else:\n",
    "    # now again we need to check for prime maybe number will be a prime while it not a palindrome\n",
    "    if num>1:\n",
    "        for i in range(2, num):\n",
    "            if num%i == 0:\n",
    "                print(num, \"is not a prime number nor a Palindrome!\")\n",
    "                break\n",
    "        else:\n",
    "            print(num, \"number is a prime number but not a palindrome\")\n",
    "            "
   ]
  },
  {
   "cell_type": "markdown",
   "id": "21933ec4",
   "metadata": {},
   "source": [
    "#### Palindromic Prime number in a particular range"
   ]
  },
  {
   "cell_type": "code",
   "execution_count": 7,
   "id": "a15a41b1",
   "metadata": {},
   "outputs": [
    {
     "name": "stdout",
     "output_type": "stream",
     "text": [
      "Enter the lower range: 1\n",
      "Enter the upper range: 700\n",
      "2\n",
      "3\n",
      "5\n",
      "7\n",
      "11\n",
      "101\n",
      "131\n",
      "151\n",
      "181\n",
      "191\n",
      "313\n",
      "353\n",
      "373\n",
      "383\n"
     ]
    }
   ],
   "source": [
    "lower = int(input(\"Enter the lower range: \"))\n",
    "upper = int(input(\"Enter the upper range: \"))\n",
    "\n",
    "for num in range(lower, upper+1):\n",
    "    \n",
    "    reverse = int(str(num)[::-1])\n",
    "       \n",
    "    if num == reverse:\n",
    "               \n",
    "        if num >1:\n",
    "            for i in range(2, num):\n",
    "                if num%i == 0:\n",
    "                    \n",
    "                    break\n",
    "            else:\n",
    "                print(num)\n",
    "            \n",
    "# we deleted else part because we want only palindromic prime numbers \n",
    "            "
   ]
  },
  {
   "cell_type": "markdown",
   "id": "bb580ace",
   "metadata": {},
   "source": [
    "#### Number of Vowels in a sentence"
   ]
  },
  {
   "cell_type": "code",
   "execution_count": 10,
   "id": "85d301e1",
   "metadata": {},
   "outputs": [
    {
     "name": "stdout",
     "output_type": "stream",
     "text": [
      "Enter the sentence: Welcome\n",
      "welcome\n",
      "Number of vowels in given sentence is :  3\n"
     ]
    }
   ],
   "source": [
    "sentence = input(\"Enter the sentence: \")\n",
    "string = sentence.lower()\n",
    "print(string)\n",
    "count = 0\n",
    "list1 = [\"a\", \"e\", \"i\", \"o\", \"u\"]\n",
    "\n",
    "for char in string:\n",
    "    if char in list1:\n",
    "        count = count + 1\n",
    "        \n",
    "print(\"Number of vowels in given sentence is : \", count)"
   ]
  },
  {
   "cell_type": "markdown",
   "id": "771059f9",
   "metadata": {},
   "source": [
    "#### Print all the  index of Duplicate elements in List"
   ]
  },
  {
   "cell_type": "code",
   "execution_count": 11,
   "id": "59be07fa",
   "metadata": {},
   "outputs": [
    {
     "name": "stdout",
     "output_type": "stream",
     "text": [
      "[0, 1, 2, 3, 4, 5, 6]\n"
     ]
    }
   ],
   "source": [
    "list1 = [\"David\",1,2,1,3,3,1.4]\n",
    "# we can create the index of above list by list comprehension\n",
    "list2 = [i for i in range(len(list1))]\n",
    "print(list2)"
   ]
  },
  {
   "cell_type": "code",
   "execution_count": 12,
   "id": "cae537a3",
   "metadata": {},
   "outputs": [
    {
     "name": "stdout",
     "output_type": "stream",
     "text": [
      "[1, 3, 5]\n"
     ]
    }
   ],
   "source": [
    "list1 = [\"David\",1,2,1,3,1,3,1.4]\n",
    "# now we can give condition to the list2 in list comprehension\n",
    "\n",
    "list2 = [i for i in range(len(list1)) if list1[i]== 1] # checking for 1\n",
    "print(list2)"
   ]
  },
  {
   "cell_type": "code",
   "execution_count": 14,
   "id": "62f84f34",
   "metadata": {},
   "outputs": [
    {
     "name": "stdout",
     "output_type": "stream",
     "text": [
      "[4, 6]\n"
     ]
    }
   ],
   "source": [
    "list1 = [\"David\",1,2,1,3,1,3,1.4]\n",
    "# now we can give condition to the list2 in list comprehension\n",
    "\n",
    "list2 = [i for i in range(len(list1)) if list1[i]== 3] # checking for 3\n",
    "print(list2)"
   ]
  },
  {
   "cell_type": "markdown",
   "id": "69cf5970",
   "metadata": {},
   "source": [
    "### Convert number into INT, BIN, HEX, OCT"
   ]
  },
  {
   "cell_type": "code",
   "execution_count": 15,
   "id": "3f23c6e1",
   "metadata": {},
   "outputs": [
    {
     "name": "stdout",
     "output_type": "stream",
     "text": [
      "Help on class int in module builtins:\n",
      "\n",
      "class int(object)\n",
      " |  int([x]) -> integer\n",
      " |  int(x, base=10) -> integer\n",
      " |  \n",
      " |  Convert a number or string to an integer, or return 0 if no arguments\n",
      " |  are given.  If x is a number, return x.__int__().  For floating point\n",
      " |  numbers, this truncates towards zero.\n",
      " |  \n",
      " |  If x is not a number or if base is given, then x must be a string,\n",
      " |  bytes, or bytearray instance representing an integer literal in the\n",
      " |  given base.  The literal can be preceded by '+' or '-' and be surrounded\n",
      " |  by whitespace.  The base defaults to 10.  Valid bases are 0 and 2-36.\n",
      " |  Base 0 means to interpret the base from the string as an integer literal.\n",
      " |  >>> int('0b100', base=0)\n",
      " |  4\n",
      " |  \n",
      " |  Built-in subclasses:\n",
      " |      bool\n",
      " |  \n",
      " |  Methods defined here:\n",
      " |  \n",
      " |  __abs__(self, /)\n",
      " |      abs(self)\n",
      " |  \n",
      " |  __add__(self, value, /)\n",
      " |      Return self+value.\n",
      " |  \n",
      " |  __and__(self, value, /)\n",
      " |      Return self&value.\n",
      " |  \n",
      " |  __bool__(self, /)\n",
      " |      self != 0\n",
      " |  \n",
      " |  __ceil__(...)\n",
      " |      Ceiling of an Integral returns itself.\n",
      " |  \n",
      " |  __divmod__(self, value, /)\n",
      " |      Return divmod(self, value).\n",
      " |  \n",
      " |  __eq__(self, value, /)\n",
      " |      Return self==value.\n",
      " |  \n",
      " |  __float__(self, /)\n",
      " |      float(self)\n",
      " |  \n",
      " |  __floor__(...)\n",
      " |      Flooring an Integral returns itself.\n",
      " |  \n",
      " |  __floordiv__(self, value, /)\n",
      " |      Return self//value.\n",
      " |  \n",
      " |  __format__(self, format_spec, /)\n",
      " |      Default object formatter.\n",
      " |  \n",
      " |  __ge__(self, value, /)\n",
      " |      Return self>=value.\n",
      " |  \n",
      " |  __getattribute__(self, name, /)\n",
      " |      Return getattr(self, name).\n",
      " |  \n",
      " |  __getnewargs__(self, /)\n",
      " |  \n",
      " |  __gt__(self, value, /)\n",
      " |      Return self>value.\n",
      " |  \n",
      " |  __hash__(self, /)\n",
      " |      Return hash(self).\n",
      " |  \n",
      " |  __index__(self, /)\n",
      " |      Return self converted to an integer, if self is suitable for use as an index into a list.\n",
      " |  \n",
      " |  __int__(self, /)\n",
      " |      int(self)\n",
      " |  \n",
      " |  __invert__(self, /)\n",
      " |      ~self\n",
      " |  \n",
      " |  __le__(self, value, /)\n",
      " |      Return self<=value.\n",
      " |  \n",
      " |  __lshift__(self, value, /)\n",
      " |      Return self<<value.\n",
      " |  \n",
      " |  __lt__(self, value, /)\n",
      " |      Return self<value.\n",
      " |  \n",
      " |  __mod__(self, value, /)\n",
      " |      Return self%value.\n",
      " |  \n",
      " |  __mul__(self, value, /)\n",
      " |      Return self*value.\n",
      " |  \n",
      " |  __ne__(self, value, /)\n",
      " |      Return self!=value.\n",
      " |  \n",
      " |  __neg__(self, /)\n",
      " |      -self\n",
      " |  \n",
      " |  __or__(self, value, /)\n",
      " |      Return self|value.\n",
      " |  \n",
      " |  __pos__(self, /)\n",
      " |      +self\n",
      " |  \n",
      " |  __pow__(self, value, mod=None, /)\n",
      " |      Return pow(self, value, mod).\n",
      " |  \n",
      " |  __radd__(self, value, /)\n",
      " |      Return value+self.\n",
      " |  \n",
      " |  __rand__(self, value, /)\n",
      " |      Return value&self.\n",
      " |  \n",
      " |  __rdivmod__(self, value, /)\n",
      " |      Return divmod(value, self).\n",
      " |  \n",
      " |  __repr__(self, /)\n",
      " |      Return repr(self).\n",
      " |  \n",
      " |  __rfloordiv__(self, value, /)\n",
      " |      Return value//self.\n",
      " |  \n",
      " |  __rlshift__(self, value, /)\n",
      " |      Return value<<self.\n",
      " |  \n",
      " |  __rmod__(self, value, /)\n",
      " |      Return value%self.\n",
      " |  \n",
      " |  __rmul__(self, value, /)\n",
      " |      Return value*self.\n",
      " |  \n",
      " |  __ror__(self, value, /)\n",
      " |      Return value|self.\n",
      " |  \n",
      " |  __round__(...)\n",
      " |      Rounding an Integral returns itself.\n",
      " |      Rounding with an ndigits argument also returns an integer.\n",
      " |  \n",
      " |  __rpow__(self, value, mod=None, /)\n",
      " |      Return pow(value, self, mod).\n",
      " |  \n",
      " |  __rrshift__(self, value, /)\n",
      " |      Return value>>self.\n",
      " |  \n",
      " |  __rshift__(self, value, /)\n",
      " |      Return self>>value.\n",
      " |  \n",
      " |  __rsub__(self, value, /)\n",
      " |      Return value-self.\n",
      " |  \n",
      " |  __rtruediv__(self, value, /)\n",
      " |      Return value/self.\n",
      " |  \n",
      " |  __rxor__(self, value, /)\n",
      " |      Return value^self.\n",
      " |  \n",
      " |  __sizeof__(self, /)\n",
      " |      Returns size in memory, in bytes.\n",
      " |  \n",
      " |  __sub__(self, value, /)\n",
      " |      Return self-value.\n",
      " |  \n",
      " |  __truediv__(self, value, /)\n",
      " |      Return self/value.\n",
      " |  \n",
      " |  __trunc__(...)\n",
      " |      Truncating an Integral returns itself.\n",
      " |  \n",
      " |  __xor__(self, value, /)\n",
      " |      Return self^value.\n",
      " |  \n",
      " |  as_integer_ratio(self, /)\n",
      " |      Return integer ratio.\n",
      " |      \n",
      " |      Return a pair of integers, whose ratio is exactly equal to the original int\n",
      " |      and with a positive denominator.\n",
      " |      \n",
      " |      >>> (10).as_integer_ratio()\n",
      " |      (10, 1)\n",
      " |      >>> (-10).as_integer_ratio()\n",
      " |      (-10, 1)\n",
      " |      >>> (0).as_integer_ratio()\n",
      " |      (0, 1)\n",
      " |  \n",
      " |  bit_length(self, /)\n",
      " |      Number of bits necessary to represent self in binary.\n",
      " |      \n",
      " |      >>> bin(37)\n",
      " |      '0b100101'\n",
      " |      >>> (37).bit_length()\n",
      " |      6\n",
      " |  \n",
      " |  conjugate(...)\n",
      " |      Returns self, the complex conjugate of any int.\n",
      " |  \n",
      " |  to_bytes(self, /, length, byteorder, *, signed=False)\n",
      " |      Return an array of bytes representing an integer.\n",
      " |      \n",
      " |      length\n",
      " |        Length of bytes object to use.  An OverflowError is raised if the\n",
      " |        integer is not representable with the given number of bytes.\n",
      " |      byteorder\n",
      " |        The byte order used to represent the integer.  If byteorder is 'big',\n",
      " |        the most significant byte is at the beginning of the byte array.  If\n",
      " |        byteorder is 'little', the most significant byte is at the end of the\n",
      " |        byte array.  To request the native byte order of the host system, use\n",
      " |        `sys.byteorder' as the byte order value.\n",
      " |      signed\n",
      " |        Determines whether two's complement is used to represent the integer.\n",
      " |        If signed is False and a negative integer is given, an OverflowError\n",
      " |        is raised.\n",
      " |  \n",
      " |  ----------------------------------------------------------------------\n",
      " |  Class methods defined here:\n",
      " |  \n",
      " |  from_bytes(bytes, byteorder, *, signed=False) from builtins.type\n",
      " |      Return the integer represented by the given array of bytes.\n",
      " |      \n",
      " |      bytes\n",
      " |        Holds the array of bytes to convert.  The argument must either\n",
      " |        support the buffer protocol or be an iterable object producing bytes.\n",
      " |        Bytes and bytearray are examples of built-in objects that support the\n",
      " |        buffer protocol.\n",
      " |      byteorder\n",
      " |        The byte order used to represent the integer.  If byteorder is 'big',\n",
      " |        the most significant byte is at the beginning of the byte array.  If\n",
      " |        byteorder is 'little', the most significant byte is at the end of the\n",
      " |        byte array.  To request the native byte order of the host system, use\n",
      " |        `sys.byteorder' as the byte order value.\n",
      " |      signed\n",
      " |        Indicates whether two's complement is used to represent the integer.\n",
      " |  \n",
      " |  ----------------------------------------------------------------------\n",
      " |  Static methods defined here:\n",
      " |  \n",
      " |  __new__(*args, **kwargs) from builtins.type\n",
      " |      Create and return a new object.  See help(type) for accurate signature.\n",
      " |  \n",
      " |  ----------------------------------------------------------------------\n",
      " |  Data descriptors defined here:\n",
      " |  \n",
      " |  denominator\n",
      " |      the denominator of a rational number in lowest terms\n",
      " |  \n",
      " |  imag\n",
      " |      the imaginary part of a complex number\n",
      " |  \n",
      " |  numerator\n",
      " |      the numerator of a rational number in lowest terms\n",
      " |  \n",
      " |  real\n",
      " |      the real part of a complex number\n",
      "\n"
     ]
    }
   ],
   "source": [
    "help(int)"
   ]
  },
  {
   "cell_type": "markdown",
   "id": "d9331d91",
   "metadata": {},
   "source": [
    "#### Binary to Integer"
   ]
  },
  {
   "cell_type": "code",
   "execution_count": 16,
   "id": "05d78f3d",
   "metadata": {},
   "outputs": [
    {
     "data": {
      "text/plain": [
       "5"
      ]
     },
     "execution_count": 16,
     "metadata": {},
     "output_type": "execute_result"
    }
   ],
   "source": [
    "# inter to binary \n",
    "# need to add prefix '0b' to the binary and then convert into integer\n",
    "int(0b101)"
   ]
  },
  {
   "cell_type": "code",
   "execution_count": 17,
   "id": "665aae63",
   "metadata": {},
   "outputs": [
    {
     "data": {
      "text/plain": [
       "10"
      ]
     },
     "execution_count": 17,
     "metadata": {},
     "output_type": "execute_result"
    }
   ],
   "source": [
    "int(0b1010)"
   ]
  },
  {
   "cell_type": "code",
   "execution_count": 18,
   "id": "863e54b7",
   "metadata": {},
   "outputs": [
    {
     "data": {
      "text/plain": [
       "10"
      ]
     },
     "execution_count": 18,
     "metadata": {},
     "output_type": "execute_result"
    }
   ],
   "source": [
    "# we can mention the base \n",
    "\n",
    "int(\"1010\", 2)"
   ]
  },
  {
   "cell_type": "code",
   "execution_count": 19,
   "id": "c08eb5a8",
   "metadata": {},
   "outputs": [
    {
     "data": {
      "text/plain": [
       "5"
      ]
     },
     "execution_count": 19,
     "metadata": {},
     "output_type": "execute_result"
    }
   ],
   "source": [
    "int(\"101\", 2)"
   ]
  },
  {
   "cell_type": "code",
   "execution_count": 20,
   "id": "d4d41ee8",
   "metadata": {},
   "outputs": [
    {
     "data": {
      "text/plain": [
       "10"
      ]
     },
     "execution_count": 20,
     "metadata": {},
     "output_type": "execute_result"
    }
   ],
   "source": [
    "int(\"0b1010\", 2)"
   ]
  },
  {
   "cell_type": "markdown",
   "id": "a76faf6f",
   "metadata": {},
   "source": [
    "#### Octal to Integer"
   ]
  },
  {
   "cell_type": "code",
   "execution_count": 21,
   "id": "bce48765",
   "metadata": {},
   "outputs": [
    {
     "data": {
      "text/plain": [
       "64"
      ]
     },
     "execution_count": 21,
     "metadata": {},
     "output_type": "execute_result"
    }
   ],
   "source": [
    "# need to add prefix \"0o\" Zero and 'O' to octal and then convert it into integer\n",
    "\n",
    "int(0o100)"
   ]
  },
  {
   "cell_type": "code",
   "execution_count": 22,
   "id": "8c18458a",
   "metadata": {},
   "outputs": [
    {
     "data": {
      "text/plain": [
       "64"
      ]
     },
     "execution_count": 22,
     "metadata": {},
     "output_type": "execute_result"
    }
   ],
   "source": [
    "int(\"100\", 8)"
   ]
  },
  {
   "cell_type": "markdown",
   "id": "c318f68b",
   "metadata": {},
   "source": [
    "#### Hexa Decimal to integer "
   ]
  },
  {
   "cell_type": "code",
   "execution_count": 23,
   "id": "eb5583b6",
   "metadata": {},
   "outputs": [
    {
     "data": {
      "text/plain": [
       "142"
      ]
     },
     "execution_count": 23,
     "metadata": {},
     "output_type": "execute_result"
    }
   ],
   "source": [
    "# Hexa deimal base is 16 and prefix is '0x' Zero and x\n",
    "\n",
    "int(0x8E)"
   ]
  },
  {
   "cell_type": "code",
   "execution_count": 24,
   "id": "65ecfa7b",
   "metadata": {},
   "outputs": [
    {
     "data": {
      "text/plain": [
       "142"
      ]
     },
     "execution_count": 24,
     "metadata": {},
     "output_type": "execute_result"
    }
   ],
   "source": [
    "int(\"8E\", 16)"
   ]
  },
  {
   "cell_type": "code",
   "execution_count": 25,
   "id": "79f4e084",
   "metadata": {},
   "outputs": [
    {
     "data": {
      "text/plain": [
       "142"
      ]
     },
     "execution_count": 25,
     "metadata": {},
     "output_type": "execute_result"
    }
   ],
   "source": [
    "int('8e', 16)"
   ]
  },
  {
   "cell_type": "markdown",
   "id": "b987705e",
   "metadata": {},
   "source": [
    "#### Integer to Binary, Octal, and Hexa decimal"
   ]
  },
  {
   "cell_type": "code",
   "execution_count": 26,
   "id": "d65e67c3",
   "metadata": {},
   "outputs": [
    {
     "name": "stdout",
     "output_type": "stream",
     "text": [
      "Help on built-in function bin in module builtins:\n",
      "\n",
      "bin(number, /)\n",
      "    Return the binary representation of an integer.\n",
      "    \n",
      "    >>> bin(2796202)\n",
      "    '0b1010101010101010101010'\n",
      "\n"
     ]
    }
   ],
   "source": [
    "help(bin)"
   ]
  },
  {
   "cell_type": "code",
   "execution_count": 27,
   "id": "3dd49334",
   "metadata": {},
   "outputs": [
    {
     "data": {
      "text/plain": [
       "'0b1010'"
      ]
     },
     "execution_count": 27,
     "metadata": {},
     "output_type": "execute_result"
    }
   ],
   "source": [
    "bin(10)"
   ]
  },
  {
   "cell_type": "code",
   "execution_count": 28,
   "id": "225eaa38",
   "metadata": {},
   "outputs": [
    {
     "data": {
      "text/plain": [
       "'0b1111101000'"
      ]
     },
     "execution_count": 28,
     "metadata": {},
     "output_type": "execute_result"
    }
   ],
   "source": [
    "bin(1000)"
   ]
  },
  {
   "cell_type": "markdown",
   "id": "4b6bacaf",
   "metadata": {},
   "source": [
    "#### Integer to Octal"
   ]
  },
  {
   "cell_type": "code",
   "execution_count": 29,
   "id": "853c97c9",
   "metadata": {},
   "outputs": [
    {
     "data": {
      "text/plain": [
       "'0o216'"
      ]
     },
     "execution_count": 29,
     "metadata": {},
     "output_type": "execute_result"
    }
   ],
   "source": [
    "oct(142)"
   ]
  },
  {
   "cell_type": "code",
   "execution_count": 30,
   "id": "45c2cb76",
   "metadata": {},
   "outputs": [
    {
     "data": {
      "text/plain": [
       "'0o30072'"
      ]
     },
     "execution_count": 30,
     "metadata": {},
     "output_type": "execute_result"
    }
   ],
   "source": [
    "oct(12346)"
   ]
  },
  {
   "cell_type": "code",
   "execution_count": 31,
   "id": "1f971afe",
   "metadata": {},
   "outputs": [
    {
     "data": {
      "text/plain": [
       "'0o144'"
      ]
     },
     "execution_count": 31,
     "metadata": {},
     "output_type": "execute_result"
    }
   ],
   "source": [
    "oct(100)"
   ]
  },
  {
   "cell_type": "markdown",
   "id": "d9feea23",
   "metadata": {},
   "source": [
    "#### integer to Hexadeimal"
   ]
  },
  {
   "cell_type": "code",
   "execution_count": 32,
   "id": "ccb5214f",
   "metadata": {},
   "outputs": [
    {
     "name": "stdout",
     "output_type": "stream",
     "text": [
      "Help on built-in function hex in module builtins:\n",
      "\n",
      "hex(number, /)\n",
      "    Return the hexadecimal representation of an integer.\n",
      "    \n",
      "    >>> hex(12648430)\n",
      "    '0xc0ffee'\n",
      "\n"
     ]
    }
   ],
   "source": [
    "help(hex)"
   ]
  },
  {
   "cell_type": "code",
   "execution_count": 33,
   "id": "a16b2b31",
   "metadata": {},
   "outputs": [
    {
     "data": {
      "text/plain": [
       "'0x64'"
      ]
     },
     "execution_count": 33,
     "metadata": {},
     "output_type": "execute_result"
    }
   ],
   "source": [
    "hex(100)"
   ]
  },
  {
   "cell_type": "code",
   "execution_count": 34,
   "id": "95242b8d",
   "metadata": {},
   "outputs": [
    {
     "data": {
      "text/plain": [
       "'0x8e'"
      ]
     },
     "execution_count": 34,
     "metadata": {},
     "output_type": "execute_result"
    }
   ],
   "source": [
    "hex(142)"
   ]
  },
  {
   "cell_type": "markdown",
   "id": "381fea56",
   "metadata": {},
   "source": [
    "### Convert given number to Roman Numerals\n",
    "\n",
    "Roman numerals are represented by seven different symbols: `I, V, X, L, C, D and M.`\n",
    "\n",
    "* Note -- # we can't any symbol more than thrice in a row.\n",
    "\n",
    "* 1 = I, 2 = II, 3 = III  \n",
    "\n",
    "* 4 = IV, 5 = V,  6 = VI, 7 = VII, 8 = VIII\n",
    "\n",
    "* 9 = IX , 10 = X , 11 = XI,...........like that\n",
    "\n",
    "* 40 = XL \n",
    "\n",
    "* 50 = L\n",
    "\n",
    "* 90 = XC\n",
    "\n",
    "* 100 = c, 400 = CD, 500 = D, \n",
    "\n",
    "* 900 = CM, 1000 = M\n",
    "\n",
    "* 4000 = MV bar\n",
    "\n",
    "* 5000 = V bar\n",
    "\n",
    "\n",
    "#### note : \n",
    "\n",
    "* if smaller value at right side then it will be added like VII = 5 +1 +1 = 7\n",
    "\n",
    "* if smaller value at left side then it will be subtracted like IV = 5-1 = 4,\n",
    "\n",
    "* another example . xc , here c is 100, and x is 10 so 'XC' = 100 - 10 = 90 , so XC = 90"
   ]
  },
  {
   "cell_type": "code",
   "execution_count": 7,
   "id": "41ae4359",
   "metadata": {},
   "outputs": [
    {
     "name": "stdout",
     "output_type": "stream",
     "text": [
      "Enter an integer number: 17\n",
      "XVII\n"
     ]
    }
   ],
   "source": [
    "\n",
    "# we need a list of standard sybols for Roman\n",
    "# second list for corresponding numbers\n",
    "\n",
    "def roman_numbers(num):\n",
    "    if num> 3999:\n",
    "        print(\"Enter the number less than 3999!\")\n",
    "        return \n",
    "    \n",
    "    symbol = [\"M\", \"CM\", \"D\", \"CD\", \"C\", \"XC\", \"L\", \"XL\", \"X\", \"IX\", \"V\", \"IV\", \"I\"]\n",
    "    value = [1000, 900, 500, 400, 100, 90, 50, 40, 10, 9, 5, 4, 1]\n",
    "    \n",
    "    roman = \"\"\n",
    "    i = 0\n",
    "    while num>0:\n",
    "        div = num//value[i]\n",
    "        num = num% value[i]\n",
    "        while div:\n",
    "            roman = roman + symbol[i]\n",
    "            div = div-1\n",
    "        \n",
    "        i = i+1\n",
    "    return roman\n",
    "\n",
    "num = int(input(\"Enter an integer number: \"))\n",
    "\n",
    "print(roman_numbers(num))\n"
   ]
  },
  {
   "cell_type": "code",
   "execution_count": null,
   "id": "8ce68e4a",
   "metadata": {},
   "outputs": [],
   "source": []
  }
 ],
 "metadata": {
  "kernelspec": {
   "display_name": "Python 3 (ipykernel)",
   "language": "python",
   "name": "python3"
  },
  "language_info": {
   "codemirror_mode": {
    "name": "ipython",
    "version": 3
   },
   "file_extension": ".py",
   "mimetype": "text/x-python",
   "name": "python",
   "nbconvert_exporter": "python",
   "pygments_lexer": "ipython3",
   "version": "3.9.7"
  }
 },
 "nbformat": 4,
 "nbformat_minor": 5
}
