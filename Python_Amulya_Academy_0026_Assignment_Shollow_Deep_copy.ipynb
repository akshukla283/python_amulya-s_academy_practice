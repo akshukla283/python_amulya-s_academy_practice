{
 "cells": [
  {
   "cell_type": "markdown",
   "id": "80cd37a7",
   "metadata": {},
   "source": [
    "### Assignment Operators\n",
    "\n",
    "\n",
    "`we can't alter immutable objects, but reference can be changed and we may loose that data, to stop that we can use assignment operator.`\n",
    "\n",
    "`This assignment operator may not be copy the data but it will fulfill the purpose of copying, Then what is the need of Shallow and Deep copy and all.`\n",
    "\n",
    "`we use Shollow and Deep copy because Assignment operator work on immutable means here x = 4 then 4 is immutable but when we take mutable object like list, dict,set it won't work properly it behave differently.`"
   ]
  },
  {
   "cell_type": "code",
   "execution_count": 1,
   "id": "7f326e96",
   "metadata": {},
   "outputs": [],
   "source": [
    "x = 4\n",
    "y = x\n",
    "\n",
    "x = x+1"
   ]
  },
  {
   "cell_type": "code",
   "execution_count": 2,
   "id": "2b05a9d6",
   "metadata": {},
   "outputs": [
    {
     "data": {
      "text/plain": [
       "4"
      ]
     },
     "execution_count": 2,
     "metadata": {},
     "output_type": "execute_result"
    }
   ],
   "source": [
    "y "
   ]
  },
  {
   "cell_type": "code",
   "execution_count": 3,
   "id": "137cdf3b",
   "metadata": {},
   "outputs": [
    {
     "data": {
      "text/plain": [
       "5"
      ]
     },
     "execution_count": 3,
     "metadata": {},
     "output_type": "execute_result"
    }
   ],
   "source": [
    "x"
   ]
  },
  {
   "cell_type": "code",
   "execution_count": 4,
   "id": "d6ecb13b",
   "metadata": {},
   "outputs": [
    {
     "data": {
      "text/plain": [
       "[1, 2, 3, 4]"
      ]
     },
     "execution_count": 4,
     "metadata": {},
     "output_type": "execute_result"
    }
   ],
   "source": [
    "list1 = [1,2,3,4]\n",
    "list2 = list1\n",
    "list2"
   ]
  },
  {
   "cell_type": "code",
   "execution_count": 5,
   "id": "4285dabe",
   "metadata": {},
   "outputs": [
    {
     "name": "stdout",
     "output_type": "stream",
     "text": [
      "[1, 2, 3, 4, 2]\n",
      "[1, 2, 3, 4, 2]\n"
     ]
    }
   ],
   "source": [
    "list2.append(2)\n",
    "print(list1)\n",
    "print(list2)"
   ]
  },
  {
   "cell_type": "code",
   "execution_count": 6,
   "id": "9f96d7c9",
   "metadata": {},
   "outputs": [
    {
     "data": {
      "text/plain": [
       "True"
      ]
     },
     "execution_count": 6,
     "metadata": {},
     "output_type": "execute_result"
    }
   ],
   "source": [
    "id(list1) == id(list2)\n",
    "\n",
    "# As we can see 'id' same "
   ]
  },
  {
   "cell_type": "markdown",
   "id": "086432d9",
   "metadata": {},
   "source": [
    "### Shallow Copy:\n",
    "\n",
    "Create a new object which stores the reference of the original element.\n",
    "\n",
    "we can use Shallow copy through 4 different way \n",
    "\n",
    "1.  Built- function\n",
    "\n",
    "2.  Slicing Operators \n",
    "\n",
    "3.  List Comprehenssion\n",
    "\n",
    "4.  Copy function copy module"
   ]
  },
  {
   "cell_type": "markdown",
   "id": "948067a5",
   "metadata": {},
   "source": [
    "####  Built- function (list constructor)"
   ]
  },
  {
   "cell_type": "code",
   "execution_count": 7,
   "id": "3129acfd",
   "metadata": {},
   "outputs": [],
   "source": [
    "list1 = [1,2,3,4]\n",
    "\n",
    "list2 = list(list1)\n"
   ]
  },
  {
   "cell_type": "code",
   "execution_count": 8,
   "id": "39da31f7",
   "metadata": {},
   "outputs": [
    {
     "name": "stdout",
     "output_type": "stream",
     "text": [
      "[1, 2, 3, 4]\n",
      "[1, 2, 3, 4]\n"
     ]
    }
   ],
   "source": [
    "print(list1)\n",
    "print(list2)"
   ]
  },
  {
   "cell_type": "code",
   "execution_count": 9,
   "id": "18362003",
   "metadata": {},
   "outputs": [
    {
     "data": {
      "text/plain": [
       "[1, 2, 3, 4, 'a']"
      ]
     },
     "execution_count": 9,
     "metadata": {},
     "output_type": "execute_result"
    }
   ],
   "source": [
    "list2.append(\"a\")\n",
    "list2"
   ]
  },
  {
   "cell_type": "code",
   "execution_count": 10,
   "id": "8b576710",
   "metadata": {},
   "outputs": [
    {
     "data": {
      "text/plain": [
       "[1, 2, 3, 4]"
      ]
     },
     "execution_count": 10,
     "metadata": {},
     "output_type": "execute_result"
    }
   ],
   "source": [
    "list1"
   ]
  },
  {
   "cell_type": "markdown",
   "id": "1d70fb4c",
   "metadata": {},
   "source": [
    "### Using Slicing operator"
   ]
  },
  {
   "cell_type": "code",
   "execution_count": 11,
   "id": "9a74c2c5",
   "metadata": {},
   "outputs": [],
   "source": [
    "list1 = [1,2,3,4]\n",
    "list2 = list1[:]"
   ]
  },
  {
   "cell_type": "code",
   "execution_count": 12,
   "id": "9be23cf1",
   "metadata": {},
   "outputs": [
    {
     "data": {
      "text/plain": [
       "[1, 2, 3, 4]"
      ]
     },
     "execution_count": 12,
     "metadata": {},
     "output_type": "execute_result"
    }
   ],
   "source": [
    "list2"
   ]
  },
  {
   "cell_type": "code",
   "execution_count": 13,
   "id": "bcb90b6a",
   "metadata": {},
   "outputs": [
    {
     "data": {
      "text/plain": [
       "['David', 2, 3, 4]"
      ]
     },
     "execution_count": 13,
     "metadata": {},
     "output_type": "execute_result"
    }
   ],
   "source": [
    "# now let's make same change in list2\n",
    "list2[0] = \"David\"\n",
    "list2"
   ]
  },
  {
   "cell_type": "code",
   "execution_count": 14,
   "id": "76dc632a",
   "metadata": {},
   "outputs": [
    {
     "data": {
      "text/plain": [
       "[1, 2, 3, 4]"
      ]
     },
     "execution_count": 14,
     "metadata": {},
     "output_type": "execute_result"
    }
   ],
   "source": [
    "list1"
   ]
  },
  {
   "cell_type": "markdown",
   "id": "6d24677c",
   "metadata": {},
   "source": [
    "As we can see that no change in original value"
   ]
  },
  {
   "cell_type": "markdown",
   "id": "23035e19",
   "metadata": {},
   "source": [
    "#### Using List Comprehension"
   ]
  },
  {
   "cell_type": "code",
   "execution_count": 15,
   "id": "19989a53",
   "metadata": {},
   "outputs": [
    {
     "data": {
      "text/plain": [
       "[1, 2, 3, 4]"
      ]
     },
     "execution_count": 15,
     "metadata": {},
     "output_type": "execute_result"
    }
   ],
   "source": [
    "list1 = [1,2,3,4]\n",
    "list2 = [x for x in list1]\n",
    "list2"
   ]
  },
  {
   "cell_type": "code",
   "execution_count": 16,
   "id": "d94e71d8",
   "metadata": {},
   "outputs": [
    {
     "data": {
      "text/plain": [
       "[1, 2, 3, 4]"
      ]
     },
     "execution_count": 16,
     "metadata": {},
     "output_type": "execute_result"
    }
   ],
   "source": [
    "list1"
   ]
  },
  {
   "cell_type": "code",
   "execution_count": 17,
   "id": "2dafeaea",
   "metadata": {},
   "outputs": [
    {
     "data": {
      "text/plain": [
       "[1, 2, 3, 'a']"
      ]
     },
     "execution_count": 17,
     "metadata": {},
     "output_type": "execute_result"
    }
   ],
   "source": [
    "list2[3] = \"a\"\n",
    "list2"
   ]
  },
  {
   "cell_type": "code",
   "execution_count": 18,
   "id": "34b3f092",
   "metadata": {},
   "outputs": [
    {
     "data": {
      "text/plain": [
       "[1, 2, 3, 4]"
      ]
     },
     "execution_count": 18,
     "metadata": {},
     "output_type": "execute_result"
    }
   ],
   "source": [
    "list1"
   ]
  },
  {
   "cell_type": "markdown",
   "id": "1c6815dc",
   "metadata": {},
   "source": [
    "#### Copy Module"
   ]
  },
  {
   "cell_type": "code",
   "execution_count": 19,
   "id": "595ad971",
   "metadata": {},
   "outputs": [
    {
     "data": {
      "text/plain": [
       "[1, 2, 3, 4]"
      ]
     },
     "execution_count": 19,
     "metadata": {},
     "output_type": "execute_result"
    }
   ],
   "source": [
    "import copy\n",
    "\n",
    "list1 = [1,2,3,4]\n",
    "list2 = copy.copy(list1)\n",
    "list2"
   ]
  },
  {
   "cell_type": "code",
   "execution_count": 20,
   "id": "7cc403e2",
   "metadata": {},
   "outputs": [
    {
     "data": {
      "text/plain": [
       "[1, 2, 3, 4, 'hello']"
      ]
     },
     "execution_count": 20,
     "metadata": {},
     "output_type": "execute_result"
    }
   ],
   "source": [
    "list2.append(\"hello\")\n",
    "list2"
   ]
  },
  {
   "cell_type": "code",
   "execution_count": 21,
   "id": "9d40548a",
   "metadata": {},
   "outputs": [
    {
     "data": {
      "text/plain": [
       "[1, 2, 3, 4]"
      ]
     },
     "execution_count": 21,
     "metadata": {},
     "output_type": "execute_result"
    }
   ],
   "source": [
    "list1"
   ]
  },
  {
   "cell_type": "code",
   "execution_count": 22,
   "id": "74913ea8",
   "metadata": {},
   "outputs": [
    {
     "data": {
      "text/plain": [
       "2110494316416"
      ]
     },
     "execution_count": 22,
     "metadata": {},
     "output_type": "execute_result"
    }
   ],
   "source": [
    "# in Shallow copy let's check the 'id' of list1 and list2 \n",
    "\n",
    "id(list1)"
   ]
  },
  {
   "cell_type": "code",
   "execution_count": 23,
   "id": "7d988404",
   "metadata": {},
   "outputs": [
    {
     "data": {
      "text/plain": [
       "2110494939264"
      ]
     },
     "execution_count": 23,
     "metadata": {},
     "output_type": "execute_result"
    }
   ],
   "source": [
    "id(list2)"
   ]
  },
  {
   "cell_type": "code",
   "execution_count": 24,
   "id": "3a907c95",
   "metadata": {},
   "outputs": [
    {
     "data": {
      "text/plain": [
       "False"
      ]
     },
     "execution_count": 24,
     "metadata": {},
     "output_type": "execute_result"
    }
   ],
   "source": [
    "id(list1) == id(list2)"
   ]
  },
  {
   "cell_type": "code",
   "execution_count": 25,
   "id": "ffd1186a",
   "metadata": {},
   "outputs": [
    {
     "data": {
      "text/plain": [
       "[[1, 2], 3, 4]"
      ]
     },
     "execution_count": 25,
     "metadata": {},
     "output_type": "execute_result"
    }
   ],
   "source": [
    "# let's take nested list and see what will happen in shallow copy\n",
    "\n",
    "import copy\n",
    "list1 = [[1,2], 3, 4]\n",
    "\n",
    "list2 = copy.copy(list1)\n",
    "list2"
   ]
  },
  {
   "cell_type": "code",
   "execution_count": 26,
   "id": "282e4792",
   "metadata": {},
   "outputs": [
    {
     "name": "stdout",
     "output_type": "stream",
     "text": [
      "[[1, 2], 3, 4, 'a']\n",
      "[[1, 2], 3, 4]\n"
     ]
    }
   ],
   "source": [
    "# but if we do any changes here\n",
    "\n",
    "list2.append(\"a\")\n",
    "print(list2)\n",
    "print(list1)"
   ]
  },
  {
   "cell_type": "markdown",
   "id": "573c2701",
   "metadata": {},
   "source": [
    "As we can see list1 is unaffected"
   ]
  },
  {
   "cell_type": "code",
   "execution_count": 32,
   "id": "6b04cae8",
   "metadata": {},
   "outputs": [
    {
     "data": {
      "text/plain": [
       "[[1, 2], 3, 4]"
      ]
     },
     "execution_count": 32,
     "metadata": {},
     "output_type": "execute_result"
    }
   ],
   "source": [
    "# but when we change in nested list then\n",
    "\n",
    "import copy\n",
    "list1 = [[1,2], 3, 4]\n",
    "\n",
    "list2 = copy.copy(list1)\n",
    "list2"
   ]
  },
  {
   "cell_type": "code",
   "execution_count": 33,
   "id": "051a9540",
   "metadata": {},
   "outputs": [
    {
     "data": {
      "text/plain": [
       "[[1, 'a'], 3, 4]"
      ]
     },
     "execution_count": 33,
     "metadata": {},
     "output_type": "execute_result"
    }
   ],
   "source": [
    "list2[0][1] = \"a\"  # here we change in nested list index 1 with \"a\"\n",
    "list2"
   ]
  },
  {
   "cell_type": "code",
   "execution_count": 34,
   "id": "9c5abefd",
   "metadata": {},
   "outputs": [
    {
     "data": {
      "text/plain": [
       "[[1, 'a'], 3, 4]"
      ]
     },
     "execution_count": 34,
     "metadata": {},
     "output_type": "execute_result"
    }
   ],
   "source": [
    "# now list1\n",
    "list1"
   ]
  },
  {
   "cell_type": "code",
   "execution_count": 35,
   "id": "10ccfe6e",
   "metadata": {},
   "outputs": [
    {
     "data": {
      "text/plain": [
       "False"
      ]
     },
     "execution_count": 35,
     "metadata": {},
     "output_type": "execute_result"
    }
   ],
   "source": [
    "id(list1) == id(list2)"
   ]
  },
  {
   "cell_type": "markdown",
   "id": "73722212",
   "metadata": {},
   "source": [
    "list1's value also got affected ,\n",
    "#### reason behind:\n",
    "\n",
    "when we do shallow copy form list1 to list2 then list2 create the another object and reference is same for both when we append list2 normally a new reference create in list2 and will not create in list1 okay but when we append in nested list then list1 and list2 share the same nested list reference and hence any change in nested list will make change for both the list. So to avoid this we use DEEP Copy\n",
    "\n",
    "\n",
    "\n",
    "### Deep Copy\n",
    "\n",
    "Create  a new object and recursively adds the copies of nested objects present in the original elements."
   ]
  },
  {
   "cell_type": "code",
   "execution_count": 30,
   "id": "cb87c133",
   "metadata": {},
   "outputs": [
    {
     "data": {
      "text/plain": [
       "[1, 2, 3, 4]"
      ]
     },
     "execution_count": 30,
     "metadata": {},
     "output_type": "execute_result"
    }
   ],
   "source": [
    "# need to import copy module\n",
    "\n",
    "import copy\n",
    "\n",
    "list1= [1,2,3,4]\n",
    "\n",
    "list2 = copy.deepcopy(list1)\n",
    "list2"
   ]
  },
  {
   "cell_type": "code",
   "execution_count": 31,
   "id": "fbf64583",
   "metadata": {},
   "outputs": [
    {
     "data": {
      "text/plain": [
       "False"
      ]
     },
     "execution_count": 31,
     "metadata": {},
     "output_type": "execute_result"
    }
   ],
   "source": [
    "id(list1) == id(list2)\n"
   ]
  },
  {
   "cell_type": "code",
   "execution_count": 20,
   "id": "fd7ac679",
   "metadata": {},
   "outputs": [
    {
     "name": "stdout",
     "output_type": "stream",
     "text": [
      "[1, 2, 3, 4, 10]\n",
      "[1, 2, 3, 4]\n"
     ]
    }
   ],
   "source": [
    "list2.append(10)\n",
    "print(list2)\n",
    "print(list1)"
   ]
  },
  {
   "cell_type": "code",
   "execution_count": 21,
   "id": "c666bf86",
   "metadata": {},
   "outputs": [
    {
     "data": {
      "text/plain": [
       "[[1, 2], 3, 4]"
      ]
     },
     "execution_count": 21,
     "metadata": {},
     "output_type": "execute_result"
    }
   ],
   "source": [
    "import copy\n",
    "\n",
    "list1 = [[1,2], 3, 4]\n",
    "\n",
    "list2 = copy.deepcopy(list1)\n",
    "list2"
   ]
  },
  {
   "cell_type": "code",
   "execution_count": 22,
   "id": "ba3735da",
   "metadata": {},
   "outputs": [
    {
     "data": {
      "text/plain": [
       "False"
      ]
     },
     "execution_count": 22,
     "metadata": {},
     "output_type": "execute_result"
    }
   ],
   "source": [
    "id(list1) == id(list2)"
   ]
  },
  {
   "cell_type": "code",
   "execution_count": 23,
   "id": "f8ac4ad0",
   "metadata": {},
   "outputs": [
    {
     "name": "stdout",
     "output_type": "stream",
     "text": [
      "[['Hello', 2], 3, 4]\n",
      "[[1, 2], 3, 4]\n"
     ]
    }
   ],
   "source": [
    "list2[0][0] = \"Hello\"\n",
    "print(list2)\n",
    "print(list1)"
   ]
  },
  {
   "cell_type": "markdown",
   "id": "0ac5a711",
   "metadata": {},
   "source": [
    "As we can see we did change in list2 without making any change in list1"
   ]
  },
  {
   "cell_type": "code",
   "execution_count": null,
   "id": "00feced7",
   "metadata": {},
   "outputs": [],
   "source": []
  }
 ],
 "metadata": {
  "kernelspec": {
   "display_name": "Python 3 (ipykernel)",
   "language": "python",
   "name": "python3"
  },
  "language_info": {
   "codemirror_mode": {
    "name": "ipython",
    "version": 3
   },
   "file_extension": ".py",
   "mimetype": "text/x-python",
   "name": "python",
   "nbconvert_exporter": "python",
   "pygments_lexer": "ipython3",
   "version": "3.9.7"
  }
 },
 "nbformat": 4,
 "nbformat_minor": 5
}
