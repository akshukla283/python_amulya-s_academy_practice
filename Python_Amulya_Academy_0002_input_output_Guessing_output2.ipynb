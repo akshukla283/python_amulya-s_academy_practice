{
 "cells": [
  {
   "cell_type": "markdown",
   "id": "e41d7886",
   "metadata": {},
   "source": [
    "#### Guess the output"
   ]
  },
  {
   "cell_type": "code",
   "execution_count": 1,
   "id": "41026274",
   "metadata": {},
   "outputs": [
    {
     "name": "stdout",
     "output_type": "stream",
     "text": [
      "c c c c c c c "
     ]
    }
   ],
   "source": [
    "str1 = \"AaBbCcDdEeFf\"\n",
    "var = \"c\"\n",
    "\n",
    "while var in str1:\n",
    "    str1 = str1[:-1]\n",
    "    print(var, end = \" \")"
   ]
  },
  {
   "cell_type": "code",
   "execution_count": null,
   "id": "5fe9d63b",
   "metadata": {},
   "outputs": [],
   "source": [
    "### "
   ]
  }
 ],
 "metadata": {
  "kernelspec": {
   "display_name": "Python 3 (ipykernel)",
   "language": "python",
   "name": "python3"
  },
  "language_info": {
   "codemirror_mode": {
    "name": "ipython",
    "version": 3
   },
   "file_extension": ".py",
   "mimetype": "text/x-python",
   "name": "python",
   "nbconvert_exporter": "python",
   "pygments_lexer": "ipython3",
   "version": "3.9.7"
  }
 },
 "nbformat": 4,
 "nbformat_minor": 5
}
