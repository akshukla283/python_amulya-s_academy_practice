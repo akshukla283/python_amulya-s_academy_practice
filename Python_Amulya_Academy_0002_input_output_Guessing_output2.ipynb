{
 "cells": [
  {
   "cell_type": "markdown",
   "id": "e41d7886",
   "metadata": {},
   "source": [
    "#### Guess the output"
   ]
  },
  {
   "cell_type": "code",
   "execution_count": 1,
   "id": "41026274",
   "metadata": {},
   "outputs": [
    {
     "name": "stdout",
     "output_type": "stream",
     "text": [
      "c c c c c c c "
     ]
    }
   ],
   "source": [
    "str1 = \"AaBbCcDdEeFf\"\n",
    "var = \"c\"\n",
    "\n",
    "while var in str1:\n",
    "    str1 = str1[:-1]\n",
    "    print(var, end = \" \")"
   ]
  },
  {
   "cell_type": "code",
   "execution_count": 1,
   "id": "5fe9d63b",
   "metadata": {},
   "outputs": [],
   "source": [
    "### \n",
    "\n",
    "fruits = ['apple', 'banana', 'mango', 'watermelon']\n",
    "\n",
    "for fruit in fruits:\n",
    "    fruit = fruit.capitalize()\n",
    "    if fruit == 'Mango':\n",
    "        break\n",
    "else:\n",
    "    print(\"Hello there\")\n"
   ]
  },
  {
   "cell_type": "markdown",
   "id": "28b4317d",
   "metadata": {},
   "source": [
    "As we can see that within for loop the if condition is satisfied and when it is satisfied the 'break' statement will execute and control will be come out from the for loop and it will come to the else part of the for loop but the control come out due to 'break' statement that is why else part also will not be executed so there will be no output."
   ]
  },
  {
   "cell_type": "code",
   "execution_count": 1,
   "id": "b5f8c70a",
   "metadata": {},
   "outputs": [
    {
     "name": "stdout",
     "output_type": "stream",
     "text": [
      "['A', 'B', 'C', 'X', 'Y']\n"
     ]
    }
   ],
   "source": [
    "x = [\"B\", \"C\", \"A\"]\n",
    "\n",
    "x.extend([\"X\", \"Y\"])\n",
    "\n",
    "x.reverse()\n",
    "\n",
    "x.sort()\n",
    "\n",
    "print(x)"
   ]
  },
  {
   "cell_type": "code",
   "execution_count": 3,
   "id": "15de712b",
   "metadata": {},
   "outputs": [
    {
     "name": "stdout",
     "output_type": "stream",
     "text": [
      "2\n"
     ]
    }
   ],
   "source": [
    "d1 = {'a':1, 'b':2, 'c':3}\n",
    "d2 = {'b':20, 'd':4}\n",
    "\n",
    "d2.update(d1)\n",
    "\n",
    "print(d2['b'])"
   ]
  },
  {
   "cell_type": "code",
   "execution_count": 4,
   "id": "4fa362b5",
   "metadata": {},
   "outputs": [
    {
     "data": {
      "text/plain": [
       "'5'"
      ]
     },
     "execution_count": 4,
     "metadata": {},
     "output_type": "execute_result"
    }
   ],
   "source": [
    "max(\"12345\")"
   ]
  },
  {
   "cell_type": "code",
   "execution_count": 5,
   "id": "d8a5e7ba",
   "metadata": {},
   "outputs": [
    {
     "data": {
      "text/plain": [
       "'c'"
      ]
     },
     "execution_count": 5,
     "metadata": {},
     "output_type": "execute_result"
    }
   ],
   "source": [
    "max({'a':1, 'b':6, 'c':3})"
   ]
  },
  {
   "cell_type": "code",
   "execution_count": 6,
   "id": "7255e9f3",
   "metadata": {},
   "outputs": [
    {
     "data": {
      "text/plain": [
       "'b'"
      ]
     },
     "execution_count": 6,
     "metadata": {},
     "output_type": "execute_result"
    }
   ],
   "source": [
    "max(\"abAb\")"
   ]
  },
  {
   "cell_type": "code",
   "execution_count": 7,
   "id": "748e908e",
   "metadata": {},
   "outputs": [
    {
     "ename": "TypeError",
     "evalue": "'int' object is not iterable",
     "output_type": "error",
     "traceback": [
      "\u001b[1;31m---------------------------------------------------------------------------\u001b[0m",
      "\u001b[1;31mTypeError\u001b[0m                                 Traceback (most recent call last)",
      "Input \u001b[1;32mIn [7]\u001b[0m, in \u001b[0;36m<cell line: 3>\u001b[1;34m()\u001b[0m\n\u001b[0;32m      1\u001b[0m l1 \u001b[38;5;241m=\u001b[39m [\u001b[38;5;241m1\u001b[39m,\u001b[38;5;241m2\u001b[39m,\u001b[38;5;241m3\u001b[39m]\n\u001b[1;32m----> 3\u001b[0m \u001b[43ml1\u001b[49m\u001b[38;5;241;43m.\u001b[39;49m\u001b[43mextend\u001b[49m\u001b[43m(\u001b[49m\u001b[38;5;241;43m4\u001b[39;49m\u001b[43m)\u001b[49m\n\u001b[0;32m      4\u001b[0m \u001b[38;5;28mprint\u001b[39m(l1)\n",
      "\u001b[1;31mTypeError\u001b[0m: 'int' object is not iterable"
     ]
    }
   ],
   "source": [
    "l1 = [1,2,3]\n",
    "\n",
    "l1.extend(4)\n",
    "print(l1)\n"
   ]
  },
  {
   "cell_type": "code",
   "execution_count": 10,
   "id": "86aa3169",
   "metadata": {},
   "outputs": [
    {
     "ename": "TypeError",
     "evalue": "'int' object is not iterable",
     "output_type": "error",
     "traceback": [
      "\u001b[1;31m---------------------------------------------------------------------------\u001b[0m",
      "\u001b[1;31mTypeError\u001b[0m                                 Traceback (most recent call last)",
      "Input \u001b[1;32mIn [10]\u001b[0m, in \u001b[0;36m<cell line: 3>\u001b[1;34m()\u001b[0m\n\u001b[0;32m      1\u001b[0m l1 \u001b[38;5;241m=\u001b[39m [\u001b[38;5;241m1\u001b[39m,\u001b[38;5;241m2\u001b[39m,\u001b[38;5;241m3\u001b[39m]\n\u001b[1;32m----> 3\u001b[0m \u001b[43ml1\u001b[49m\u001b[38;5;241;43m.\u001b[39;49m\u001b[43mextend\u001b[49m\u001b[43m(\u001b[49m\u001b[43m(\u001b[49m\u001b[38;5;241;43m4\u001b[39;49m\u001b[43m)\u001b[49m\u001b[43m)\u001b[49m\n\u001b[0;32m      4\u001b[0m \u001b[38;5;28mprint\u001b[39m(l1)\n",
      "\u001b[1;31mTypeError\u001b[0m: 'int' object is not iterable"
     ]
    }
   ],
   "source": [
    "l1 = [1,2,3]\n",
    "\n",
    "l1.extend((4))\n",
    "print(l1)\n"
   ]
  },
  {
   "cell_type": "code",
   "execution_count": 9,
   "id": "a237c30a",
   "metadata": {},
   "outputs": [
    {
     "name": "stdout",
     "output_type": "stream",
     "text": [
      "[1, 2, 3, 4]\n"
     ]
    }
   ],
   "source": [
    "l1 = [1,2,3]\n",
    "\n",
    "l1.extend((4,))\n",
    "print(l1)\n",
    "\n",
    "# note (4) will be treated as integer and if we add comma ',' along with 4 then it will be\n",
    "#                                                             treated as tuple."
   ]
  },
  {
   "cell_type": "code",
   "execution_count": 12,
   "id": "7be0a28f",
   "metadata": {},
   "outputs": [
    {
     "name": "stdout",
     "output_type": "stream",
     "text": [
      "[1, 2, 3, '4']\n"
     ]
    }
   ],
   "source": [
    "l1 = [1,2,3]\n",
    "\n",
    "l1.extend('4')\n",
    "print(l1)"
   ]
  },
  {
   "cell_type": "code",
   "execution_count": 13,
   "id": "8bb42e6b",
   "metadata": {},
   "outputs": [
    {
     "data": {
      "text/plain": [
       "''"
      ]
     },
     "execution_count": 13,
     "metadata": {},
     "output_type": "execute_result"
    }
   ],
   "source": [
    "strg = \"SMARTQ\"\n",
    "strg[-2:-4]"
   ]
  },
  {
   "cell_type": "code",
   "execution_count": 14,
   "id": "e8938f80",
   "metadata": {},
   "outputs": [
    {
     "name": "stdout",
     "output_type": "stream",
     "text": [
      "['he', '', 'o wor', 'd']\n"
     ]
    }
   ],
   "source": [
    "a = 'hello world'\n",
    "\n",
    "b = a.split('l')\n",
    "\n",
    "print(b) # wherever ll it will convert second l into \"\""
   ]
  },
  {
   "cell_type": "code",
   "execution_count": 15,
   "id": "78ca2704",
   "metadata": {},
   "outputs": [
    {
     "name": "stdout",
     "output_type": "stream",
     "text": [
      "0\n"
     ]
    }
   ],
   "source": [
    "i = 0 \n",
    "while i<3:\n",
    "    print(i)\n",
    "    i+=1\n",
    "    break\n",
    "    \n",
    "else:\n",
    "    print(0)"
   ]
  },
  {
   "cell_type": "code",
   "execution_count": 16,
   "id": "e0caac48",
   "metadata": {},
   "outputs": [
    {
     "data": {
      "text/plain": [
       "'Sir Auther'"
      ]
     },
     "execution_count": 16,
     "metadata": {},
     "output_type": "execute_result"
    }
   ],
   "source": [
    "def writer():\n",
    "    title = \"Sir\"\n",
    "    name = (lambda x:title + \" \" + x)\n",
    "    return name\n",
    "\n",
    "who = writer()\n",
    "\n",
    "who(\"Auther\")"
   ]
  },
  {
   "cell_type": "code",
   "execution_count": 17,
   "id": "a991ab99",
   "metadata": {},
   "outputs": [
    {
     "name": "stdout",
     "output_type": "stream",
     "text": [
      "1\n",
      "5\n"
     ]
    }
   ],
   "source": [
    "mylist = [1,5,5,5,5,1]\n",
    "\n",
    "max_of_list= mylist[0]\n",
    "indexOfmax = 0\n",
    "\n",
    "for i in range(1, len(mylist)):\n",
    "    if mylist[i]> max_of_list:\n",
    "        \n",
    "        max_of_list = mylist[i]\n",
    "        indexofmax = i\n",
    "        \n",
    "print(indexofmax)\n",
    "print(max_of_list)"
   ]
  },
  {
   "cell_type": "code",
   "execution_count": 3,
   "id": "92211d17",
   "metadata": {},
   "outputs": [
    {
     "name": "stdout",
     "output_type": "stream",
     "text": [
      "max value :  8\n",
      "Index of max value:  3\n"
     ]
    }
   ],
   "source": [
    "mylist = [1,5,5,8,5,1]\n",
    "\n",
    "m_val = mylist[0]\n",
    "m_ind = 0\n",
    "\n",
    "for i in range(len(mylist)):\n",
    "    if mylist[i]>m_val:\n",
    "        m_val = mylist[i]\n",
    "        m_ind = i\n",
    "        \n",
    "print(\"max value : \", m_val)\n",
    "print(\"Index of max value: \", m_ind)"
   ]
  },
  {
   "cell_type": "code",
   "execution_count": null,
   "id": "51ad59c9",
   "metadata": {},
   "outputs": [],
   "source": []
  },
  {
   "cell_type": "code",
   "execution_count": null,
   "id": "6f9e7cd8",
   "metadata": {},
   "outputs": [],
   "source": []
  },
  {
   "cell_type": "code",
   "execution_count": 19,
   "id": "16fedeb4",
   "metadata": {},
   "outputs": [
    {
     "ename": "UnboundLocalError",
     "evalue": "local variable 'var1' referenced before assignment",
     "output_type": "error",
     "traceback": [
      "\u001b[1;31m---------------------------------------------------------------------------\u001b[0m",
      "\u001b[1;31mUnboundLocalError\u001b[0m                         Traceback (most recent call last)",
      "Input \u001b[1;32mIn [19]\u001b[0m, in \u001b[0;36m<cell line: 8>\u001b[1;34m()\u001b[0m\n\u001b[0;32m      5\u001b[0m     var1\u001b[38;5;241m=\u001b[39m\u001b[38;5;241m100\u001b[39m\n\u001b[0;32m      6\u001b[0m     \u001b[38;5;28mprint\u001b[39m(\u001b[38;5;124m\"\u001b[39m\u001b[38;5;124mValue of var1:\u001b[39m\u001b[38;5;124m\"\u001b[39m,var1)\n\u001b[1;32m----> 8\u001b[0m \u001b[43mexample1\u001b[49m\u001b[43m(\u001b[49m\u001b[43m)\u001b[49m\n",
      "Input \u001b[1;32mIn [19]\u001b[0m, in \u001b[0;36mexample1\u001b[1;34m()\u001b[0m\n\u001b[0;32m      2\u001b[0m \u001b[38;5;28;01mdef\u001b[39;00m \u001b[38;5;21mexample1\u001b[39m():\n\u001b[1;32m----> 4\u001b[0m     \u001b[38;5;28mprint\u001b[39m(\u001b[43mvar1\u001b[49m)\n\u001b[0;32m      5\u001b[0m     var1\u001b[38;5;241m=\u001b[39m\u001b[38;5;241m100\u001b[39m\n\u001b[0;32m      6\u001b[0m     \u001b[38;5;28mprint\u001b[39m(\u001b[38;5;124m\"\u001b[39m\u001b[38;5;124mValue of var1:\u001b[39m\u001b[38;5;124m\"\u001b[39m,var1)\n",
      "\u001b[1;31mUnboundLocalError\u001b[0m: local variable 'var1' referenced before assignment"
     ]
    }
   ],
   "source": [
    "var1=90\n",
    "def example1():\n",
    "    \n",
    "    print(var1)\n",
    "    var1=100\n",
    "    print(\"Value of var1:\",var1)\n",
    "    \n",
    "example1()\n",
    "\n",
    "# we can access and print global variable inside local space but can't modify it.\n",
    "\n",
    "# we can modify it when we make it global in local scope or by passing as arguments"
   ]
  },
  {
   "cell_type": "code",
   "execution_count": 24,
   "id": "6b912778",
   "metadata": {},
   "outputs": [
    {
     "name": "stdout",
     "output_type": "stream",
     "text": [
      "90\n",
      "Value of var1: 100\n"
     ]
    }
   ],
   "source": [
    "var1=90\n",
    "def example1(var1):\n",
    "    \n",
    "    print(var1)\n",
    "    var1=100\n",
    "    print(\"Value of var1:\",var1)\n",
    "    \n",
    "example1(var1)"
   ]
  },
  {
   "cell_type": "code",
   "execution_count": 25,
   "id": "529ca227",
   "metadata": {},
   "outputs": [
    {
     "name": "stdout",
     "output_type": "stream",
     "text": [
      "90\n",
      "Value of var1: 100\n"
     ]
    }
   ],
   "source": [
    "var1=90\n",
    "def example1():\n",
    "    global var1\n",
    "    print(var1)\n",
    "    var1=100\n",
    "    print(\"Value of var1:\",var1)\n",
    "    \n",
    "example1()"
   ]
  },
  {
   "cell_type": "code",
   "execution_count": 32,
   "id": "9e4a9105",
   "metadata": {},
   "outputs": [
    {
     "name": "stdout",
     "output_type": "stream",
     "text": [
      "0\n",
      "1\n",
      "2\n"
     ]
    }
   ],
   "source": [
    "x = (i for i in range(3))\n",
    "\n",
    "for i in x:\n",
    "    print(i)\n",
    "    \n",
    "for i in x:\n",
    "    print(i)\n",
    "    \n",
    "# make it clear that the output is actually from which loop we will use print() some text before\n",
    "# printing these loops in next programs"
   ]
  },
  {
   "cell_type": "code",
   "execution_count": 33,
   "id": "8165d060",
   "metadata": {},
   "outputs": [
    {
     "name": "stdout",
     "output_type": "stream",
     "text": [
      "Output from x first time: \n",
      "0\n",
      "1\n",
      "2\n",
      "\n",
      "Output from x second time: \n"
     ]
    }
   ],
   "source": [
    "x = (i for i in range(3))\n",
    "print(\"Output from x first time: \")\n",
    "for i in x:\n",
    "    print(i)\n",
    "print()\n",
    "print(\"Output from x second time: \")\n",
    "for i in x:\n",
    "    print(i)"
   ]
  },
  {
   "cell_type": "code",
   "execution_count": 35,
   "id": "d726973c",
   "metadata": {},
   "outputs": [
    {
     "name": "stdout",
     "output_type": "stream",
     "text": [
      "Output from x: \n",
      "0\n",
      "1\n",
      "2\n",
      "\n",
      "Output from y:\n"
     ]
    }
   ],
   "source": [
    "x = (i for i in range(3))\n",
    "y = x\n",
    "print(\"Output from x: \")\n",
    "for i in x:\n",
    "    print(i)\n",
    "print()\n",
    "print(\"Output from y:\")\n",
    "for i in y:\n",
    "    print(i)\n",
    "    \n",
    "# as we can see by we took 'y' and have same value and id from x so it will be treated as same a x\n",
    "# in tuple only this happens if here would be a list then it print both for loop"
   ]
  },
  {
   "cell_type": "code",
   "execution_count": 36,
   "id": "602cf03c",
   "metadata": {},
   "outputs": [
    {
     "name": "stdout",
     "output_type": "stream",
     "text": [
      "id of x: 2101422754496\n",
      "id of y: 2101422754496\n"
     ]
    }
   ],
   "source": [
    "print(\"id of x:\" , id(x))\n",
    "print(\"id of y:\" , id(y))\n"
   ]
  },
  {
   "cell_type": "markdown",
   "id": "63246435",
   "metadata": {},
   "source": [
    "As we can see that they share the same it that is why we got output only once"
   ]
  },
  {
   "cell_type": "code",
   "execution_count": 38,
   "id": "dac86506",
   "metadata": {},
   "outputs": [
    {
     "name": "stdout",
     "output_type": "stream",
     "text": [
      "Output from x: \n",
      "0\n",
      "1\n",
      "2\n",
      "\n",
      "Output from y:\n",
      "0\n",
      "1\n",
      "2\n"
     ]
    }
   ],
   "source": [
    "x = [i for i in range(3)]\n",
    "y = x[:]\n",
    "print(\"Output from x: \")\n",
    "for i in x:\n",
    "    print(i)\n",
    "print()\n",
    "print(\"Output from y:\")\n",
    "for i in y:\n",
    "    print(i)"
   ]
  },
  {
   "cell_type": "code",
   "execution_count": 39,
   "id": "16fa9d02",
   "metadata": {},
   "outputs": [
    {
     "name": "stdout",
     "output_type": "stream",
     "text": [
      "id of x: 2101423540800\n",
      "id of y: 2101423539904\n"
     ]
    }
   ],
   "source": [
    "print(\"id of x:\" , id(x))\n",
    "print(\"id of y:\" , id(y))\n"
   ]
  },
  {
   "cell_type": "markdown",
   "id": "74c3b8f3",
   "metadata": {},
   "source": [
    "this time they have different id and that is why we got the output."
   ]
  },
  {
   "cell_type": "code",
   "execution_count": 40,
   "id": "864624f4",
   "metadata": {},
   "outputs": [
    {
     "name": "stdout",
     "output_type": "stream",
     "text": [
      "10\n",
      "10\n"
     ]
    }
   ],
   "source": [
    "x = 10\n",
    "print(x)\n",
    "print(x)"
   ]
  },
  {
   "cell_type": "code",
   "execution_count": 1,
   "id": "27ed82b5",
   "metadata": {},
   "outputs": [
    {
     "name": "stdout",
     "output_type": "stream",
     "text": [
      "Output from x: \n",
      "0\n",
      "1\n",
      "2\n",
      "\n",
      "Output from y:\n",
      "0\n",
      "1\n",
      "2\n"
     ]
    }
   ],
   "source": [
    "x = [i for i in range(3)]\n",
    "y = x\n",
    "print(\"Output from x: \")\n",
    "for i in x:\n",
    "    print(i)\n",
    "print()\n",
    "print(\"Output from y:\")\n",
    "for i in y:\n",
    "    print(i)"
   ]
  },
  {
   "cell_type": "code",
   "execution_count": 2,
   "id": "2c81fd9b",
   "metadata": {},
   "outputs": [
    {
     "name": "stdout",
     "output_type": "stream",
     "text": [
      "id of x: 2308980963328\n",
      "id of y: 2308980963328\n"
     ]
    }
   ],
   "source": [
    "print(\"id of x:\" , id(x))\n",
    "print(\"id of y:\" , id(y))\n"
   ]
  },
  {
   "cell_type": "code",
   "execution_count": 4,
   "id": "24ef998d",
   "metadata": {},
   "outputs": [
    {
     "data": {
      "text/plain": [
       "{1: 4, '1': 2}"
      ]
     },
     "execution_count": 4,
     "metadata": {},
     "output_type": "execute_result"
    }
   ],
   "source": [
    "confusion = {}\n",
    "confusion[1] = 1\n",
    "confusion[\"1\"] = 2\n",
    "confusion[1.0] = 4\n",
    "confusion      "
   ]
  },
  {
   "cell_type": "markdown",
   "id": "965db64f",
   "metadata": {},
   "source": [
    "As we know that dictionary cannot hold the duplicate key and above we can see int 1 and float 1.0 is same so that is why the last updation value has been updated i.e. 1 as key and value as 4."
   ]
  },
  {
   "cell_type": "code",
   "execution_count": 5,
   "id": "29f6e15a",
   "metadata": {},
   "outputs": [
    {
     "data": {
      "text/plain": [
       "{3: 1, '1': 2, 1.0: 4}"
      ]
     },
     "execution_count": 5,
     "metadata": {},
     "output_type": "execute_result"
    }
   ],
   "source": [
    "confusion = {}\n",
    "confusion[3] = 1\n",
    "confusion[\"1\"] = 2\n",
    "confusion[1.0] = 4\n",
    "confusion  \n",
    "\n",
    "# now by changing the 1 with 3 now there is all different different key ana that is why all key \n",
    "# value will be  assigned"
   ]
  },
  {
   "cell_type": "code",
   "execution_count": 6,
   "id": "4f4ede06",
   "metadata": {},
   "outputs": [
    {
     "name": "stdout",
     "output_type": "stream",
     "text": [
      "[1]\n",
      "[1, 2]\n",
      "[1, 2, 3]\n"
     ]
    }
   ],
   "source": [
    "def f(a, L=[]): # in default argument list will be instantiate only once and and further it will \n",
    "    L.append(a)    # be appended.\n",
    "    \n",
    "    return L\n",
    "\n",
    "print(f(1))\n",
    "print(f(2))\n",
    "print(f(3))"
   ]
  },
  {
   "cell_type": "code",
   "execution_count": 7,
   "id": "f2060300",
   "metadata": {},
   "outputs": [
    {
     "data": {
      "text/plain": [
       "' '"
      ]
     },
     "execution_count": 7,
     "metadata": {},
     "output_type": "execute_result"
    }
   ],
   "source": [
    "min(\"Hello World\")"
   ]
  },
  {
   "cell_type": "code",
   "execution_count": 1,
   "id": "8a581ca8",
   "metadata": {},
   "outputs": [
    {
     "name": "stdout",
     "output_type": "stream",
     "text": [
      "HelloWorld\n"
     ]
    }
   ],
   "source": [
    "str1 = \"Hello\"\n",
    "str2 = \"World\"\n",
    "str3 = str1.__add__(str2)\n",
    "\n",
    "print(str3)"
   ]
  },
  {
   "cell_type": "code",
   "execution_count": 5,
   "id": "189482c9",
   "metadata": {},
   "outputs": [
    {
     "data": {
      "text/plain": [
       "'Hello World'"
      ]
     },
     "execution_count": 5,
     "metadata": {},
     "output_type": "execute_result"
    }
   ],
   "source": [
    "str1.__add__((\" \"+str2))"
   ]
  },
  {
   "cell_type": "code",
   "execution_count": 6,
   "id": "4b47a7ed",
   "metadata": {},
   "outputs": [
    {
     "name": "stdout",
     "output_type": "stream",
     "text": [
      "Hello World\n"
     ]
    }
   ],
   "source": [
    "print(str1.__add__((\" \"+str2)))"
   ]
  },
  {
   "cell_type": "code",
   "execution_count": 7,
   "id": "c538dc3c",
   "metadata": {},
   "outputs": [
    {
     "name": "stdout",
     "output_type": "stream",
     "text": [
      "7.4\n"
     ]
    }
   ],
   "source": [
    "a = 12.4\n",
    "b = 5\n",
    "c = a.__sub__(b)\n",
    "\n",
    "print(c)"
   ]
  },
  {
   "cell_type": "code",
   "execution_count": 10,
   "id": "70375186",
   "metadata": {},
   "outputs": [
    {
     "data": {
      "text/plain": [
       "-4.550000000000001"
      ]
     },
     "execution_count": 10,
     "metadata": {},
     "output_type": "execute_result"
    }
   ],
   "source": [
    "a = 12.45\n",
    "b = 17\n",
    "\n",
    "a.__sub__(b)"
   ]
  },
  {
   "cell_type": "code",
   "execution_count": 11,
   "id": "2ea0286c",
   "metadata": {},
   "outputs": [
    {
     "data": {
      "text/plain": [
       "-4.55"
      ]
     },
     "execution_count": 11,
     "metadata": {},
     "output_type": "execute_result"
    }
   ],
   "source": [
    "round(a.__sub__(b), 2)"
   ]
  },
  {
   "cell_type": "code",
   "execution_count": 14,
   "id": "38d99b47",
   "metadata": {},
   "outputs": [],
   "source": [
    "a = 23.20"
   ]
  },
  {
   "cell_type": "code",
   "execution_count": 15,
   "id": "747b8541",
   "metadata": {},
   "outputs": [
    {
     "data": {
      "text/plain": [
       "23"
      ]
     },
     "execution_count": 15,
     "metadata": {},
     "output_type": "execute_result"
    }
   ],
   "source": [
    "a.__floor__()"
   ]
  },
  {
   "cell_type": "code",
   "execution_count": 16,
   "id": "fea27bb7",
   "metadata": {},
   "outputs": [],
   "source": [
    "a = -23"
   ]
  },
  {
   "cell_type": "code",
   "execution_count": 17,
   "id": "9f06e05f",
   "metadata": {},
   "outputs": [
    {
     "data": {
      "text/plain": [
       "23"
      ]
     },
     "execution_count": 17,
     "metadata": {},
     "output_type": "execute_result"
    }
   ],
   "source": [
    "a.__abs__()"
   ]
  },
  {
   "cell_type": "code",
   "execution_count": 18,
   "id": "fa962ac0",
   "metadata": {},
   "outputs": [
    {
     "data": {
      "text/plain": [
       "23"
      ]
     },
     "execution_count": 18,
     "metadata": {},
     "output_type": "execute_result"
    }
   ],
   "source": [
    "c = -23\n",
    "c.__abs__()"
   ]
  },
  {
   "cell_type": "code",
   "execution_count": 19,
   "id": "4212fb22",
   "metadata": {},
   "outputs": [],
   "source": [
    "a = 10\n",
    "b = 20\n",
    "c = -23\n"
   ]
  },
  {
   "cell_type": "code",
   "execution_count": 20,
   "id": "92b9dc83",
   "metadata": {},
   "outputs": [
    {
     "data": {
      "text/plain": [
       "-13"
      ]
     },
     "execution_count": 20,
     "metadata": {},
     "output_type": "execute_result"
    }
   ],
   "source": [
    "c.__add__(a)"
   ]
  },
  {
   "cell_type": "code",
   "execution_count": 21,
   "id": "9f51dd33",
   "metadata": {},
   "outputs": [
    {
     "data": {
      "text/plain": [
       "0"
      ]
     },
     "execution_count": 21,
     "metadata": {},
     "output_type": "execute_result"
    }
   ],
   "source": [
    "a.__and__(b)"
   ]
  },
  {
   "cell_type": "code",
   "execution_count": 22,
   "id": "d073dd30",
   "metadata": {},
   "outputs": [
    {
     "data": {
      "text/plain": [
       "8"
      ]
     },
     "execution_count": 22,
     "metadata": {},
     "output_type": "execute_result"
    }
   ],
   "source": [
    "a.__and__(c)"
   ]
  },
  {
   "cell_type": "code",
   "execution_count": 23,
   "id": "e7ed9126",
   "metadata": {},
   "outputs": [],
   "source": [
    "a = 10\n",
    "b = 20\n",
    "c = -23"
   ]
  },
  {
   "cell_type": "code",
   "execution_count": 24,
   "id": "428f67bc",
   "metadata": {},
   "outputs": [
    {
     "data": {
      "text/plain": [
       "True"
      ]
     },
     "execution_count": 24,
     "metadata": {},
     "output_type": "execute_result"
    }
   ],
   "source": [
    "a.__bool__()"
   ]
  },
  {
   "cell_type": "code",
   "execution_count": 25,
   "id": "fcafd311",
   "metadata": {},
   "outputs": [
    {
     "data": {
      "text/plain": [
       "True"
      ]
     },
     "execution_count": 25,
     "metadata": {},
     "output_type": "execute_result"
    }
   ],
   "source": [
    "c.__bool__()"
   ]
  },
  {
   "cell_type": "code",
   "execution_count": 26,
   "id": "410f9249",
   "metadata": {},
   "outputs": [],
   "source": [
    "a = 12.043\n",
    "b = -23.2\n"
   ]
  },
  {
   "cell_type": "code",
   "execution_count": 27,
   "id": "49377a41",
   "metadata": {},
   "outputs": [
    {
     "data": {
      "text/plain": [
       "13"
      ]
     },
     "execution_count": 27,
     "metadata": {},
     "output_type": "execute_result"
    }
   ],
   "source": [
    "a.__ceil__()"
   ]
  },
  {
   "cell_type": "code",
   "execution_count": 28,
   "id": "17866870",
   "metadata": {},
   "outputs": [
    {
     "data": {
      "text/plain": [
       "-23"
      ]
     },
     "execution_count": 28,
     "metadata": {},
     "output_type": "execute_result"
    }
   ],
   "source": [
    "b.__ceil__()"
   ]
  },
  {
   "cell_type": "code",
   "execution_count": 29,
   "id": "71a01cfd",
   "metadata": {},
   "outputs": [],
   "source": [
    "a = 10\n",
    "b = 20\n",
    "c = -23"
   ]
  },
  {
   "cell_type": "code",
   "execution_count": 30,
   "id": "d58a0a04",
   "metadata": {},
   "outputs": [
    {
     "data": {
      "text/plain": [
       "-23"
      ]
     },
     "execution_count": 30,
     "metadata": {},
     "output_type": "execute_result"
    }
   ],
   "source": [
    "a.__class__(c)"
   ]
  },
  {
   "cell_type": "code",
   "execution_count": 31,
   "id": "419e5498",
   "metadata": {},
   "outputs": [],
   "source": [
    "class Hello:\n",
    "    def __init__(self, a):\n",
    "        self.a = a\n"
   ]
  },
  {
   "cell_type": "code",
   "execution_count": 32,
   "id": "9d80e728",
   "metadata": {},
   "outputs": [],
   "source": [
    "hello = Hello(5)"
   ]
  },
  {
   "cell_type": "code",
   "execution_count": 33,
   "id": "9d0809f5",
   "metadata": {},
   "outputs": [
    {
     "data": {
      "text/plain": [
       "5"
      ]
     },
     "execution_count": 33,
     "metadata": {},
     "output_type": "execute_result"
    }
   ],
   "source": [
    "hello.a"
   ]
  },
  {
   "cell_type": "code",
   "execution_count": 34,
   "id": "3ff89e1b",
   "metadata": {},
   "outputs": [],
   "source": [
    "hello.__delattr__(\"a\")"
   ]
  },
  {
   "cell_type": "code",
   "execution_count": 35,
   "id": "5a987e64",
   "metadata": {},
   "outputs": [
    {
     "ename": "AttributeError",
     "evalue": "'Hello' object has no attribute 'a'",
     "output_type": "error",
     "traceback": [
      "\u001b[1;31m---------------------------------------------------------------------------\u001b[0m",
      "\u001b[1;31mAttributeError\u001b[0m                            Traceback (most recent call last)",
      "Input \u001b[1;32mIn [35]\u001b[0m, in \u001b[0;36m<cell line: 1>\u001b[1;34m()\u001b[0m\n\u001b[1;32m----> 1\u001b[0m \u001b[43mhello\u001b[49m\u001b[38;5;241;43m.\u001b[39;49m\u001b[43ma\u001b[49m\n",
      "\u001b[1;31mAttributeError\u001b[0m: 'Hello' object has no attribute 'a'"
     ]
    }
   ],
   "source": [
    "hello.a"
   ]
  },
  {
   "cell_type": "code",
   "execution_count": 36,
   "id": "af2c8a1b",
   "metadata": {},
   "outputs": [],
   "source": [
    "a = 10\n",
    "b = 20\n",
    "c = -23"
   ]
  },
  {
   "cell_type": "code",
   "execution_count": 37,
   "id": "eb2787cd",
   "metadata": {},
   "outputs": [
    {
     "data": {
      "text/plain": [
       "['__repr__',\n",
       " '__hash__',\n",
       " '__getattribute__',\n",
       " '__lt__',\n",
       " '__le__',\n",
       " '__eq__',\n",
       " '__ne__',\n",
       " '__gt__',\n",
       " '__ge__',\n",
       " '__add__',\n",
       " '__radd__',\n",
       " '__sub__',\n",
       " '__rsub__',\n",
       " '__mul__',\n",
       " '__rmul__',\n",
       " '__mod__',\n",
       " '__rmod__',\n",
       " '__divmod__',\n",
       " '__rdivmod__',\n",
       " '__pow__',\n",
       " '__rpow__',\n",
       " '__neg__',\n",
       " '__pos__',\n",
       " '__abs__',\n",
       " '__bool__',\n",
       " '__invert__',\n",
       " '__lshift__',\n",
       " '__rlshift__',\n",
       " '__rshift__',\n",
       " '__rrshift__',\n",
       " '__and__',\n",
       " '__rand__',\n",
       " '__xor__',\n",
       " '__rxor__',\n",
       " '__or__',\n",
       " '__ror__',\n",
       " '__int__',\n",
       " '__float__',\n",
       " '__floordiv__',\n",
       " '__rfloordiv__',\n",
       " '__truediv__',\n",
       " '__rtruediv__',\n",
       " '__index__',\n",
       " '__new__',\n",
       " 'conjugate',\n",
       " 'bit_length',\n",
       " 'to_bytes',\n",
       " 'from_bytes',\n",
       " 'as_integer_ratio',\n",
       " '__trunc__',\n",
       " '__floor__',\n",
       " '__ceil__',\n",
       " '__round__',\n",
       " '__getnewargs__',\n",
       " '__format__',\n",
       " '__sizeof__',\n",
       " 'real',\n",
       " 'imag',\n",
       " 'numerator',\n",
       " 'denominator',\n",
       " '__doc__',\n",
       " '__str__',\n",
       " '__setattr__',\n",
       " '__delattr__',\n",
       " '__init__',\n",
       " '__reduce_ex__',\n",
       " '__reduce__',\n",
       " '__subclasshook__',\n",
       " '__init_subclass__',\n",
       " '__dir__',\n",
       " '__class__']"
      ]
     },
     "execution_count": 37,
     "metadata": {},
     "output_type": "execute_result"
    }
   ],
   "source": [
    "a.__dir__()"
   ]
  },
  {
   "cell_type": "code",
   "execution_count": 38,
   "id": "ae68c7c6",
   "metadata": {},
   "outputs": [],
   "source": [
    "a = 10\n",
    "b = 20\n",
    "c = -23"
   ]
  },
  {
   "cell_type": "markdown",
   "id": "8a22eba7",
   "metadata": {},
   "source": [
    "#### Explanation:\n",
    "The `divmod()` method takes two parameters x and y, where x is treated as numerator and y is treated as the denominator. The method calculates both x // y and x % y and returns both the values. \n",
    "\n",
    "`If x and y are integers, the return value is\n",
    "(x // y, x % y)\n",
    "If x or y is a float, the result is\n",
    "(q, x % y), where q is the whole part of the quotient.`"
   ]
  },
  {
   "cell_type": "code",
   "execution_count": 53,
   "id": "72fac78d",
   "metadata": {},
   "outputs": [],
   "source": [
    "a , b , c = 3, 5, 7"
   ]
  },
  {
   "cell_type": "code",
   "execution_count": 54,
   "id": "4f234545",
   "metadata": {},
   "outputs": [
    {
     "data": {
      "text/plain": [
       "(0, 3)"
      ]
     },
     "execution_count": 54,
     "metadata": {},
     "output_type": "execute_result"
    }
   ],
   "source": [
    "a.__divmod__(b) # here (a//b, a%b)"
   ]
  },
  {
   "cell_type": "code",
   "execution_count": 55,
   "id": "5d1f2385",
   "metadata": {},
   "outputs": [
    {
     "data": {
      "text/plain": [
       "(3, 1)"
      ]
     },
     "execution_count": 55,
     "metadata": {},
     "output_type": "execute_result"
    }
   ],
   "source": [
    "a, b = 10, 3\n",
    "\n",
    "a.__divmod__(b)  # here (a//b, a%b)"
   ]
  },
  {
   "cell_type": "code",
   "execution_count": 60,
   "id": "5773b239",
   "metadata": {},
   "outputs": [],
   "source": [
    "def hello():\n",
    "    \"\"\"This is function doc string just for checking\"\"\"\n",
    "    print(\"welcome to Python's world!\")\n",
    "     "
   ]
  },
  {
   "cell_type": "code",
   "execution_count": 63,
   "id": "009ddebe",
   "metadata": {},
   "outputs": [
    {
     "data": {
      "text/plain": [
       "'This is function doc string just for checking'"
      ]
     },
     "execution_count": 63,
     "metadata": {},
     "output_type": "execute_result"
    }
   ],
   "source": [
    "hello.__doc__"
   ]
  },
  {
   "cell_type": "code",
   "execution_count": 64,
   "id": "18a6e394",
   "metadata": {},
   "outputs": [
    {
     "data": {
      "text/plain": [
       "\"int([x]) -> integer\\nint(x, base=10) -> integer\\n\\nConvert a number or string to an integer, or return 0 if no arguments\\nare given.  If x is a number, return x.__int__().  For floating point\\nnumbers, this truncates towards zero.\\n\\nIf x is not a number or if base is given, then x must be a string,\\nbytes, or bytearray instance representing an integer literal in the\\ngiven base.  The literal can be preceded by '+' or '-' and be surrounded\\nby whitespace.  The base defaults to 10.  Valid bases are 0 and 2-36.\\nBase 0 means to interpret the base from the string as an integer literal.\\n>>> int('0b100', base=0)\\n4\""
      ]
     },
     "execution_count": 64,
     "metadata": {},
     "output_type": "execute_result"
    }
   ],
   "source": [
    "a = 10\n",
    "\n",
    "a.__doc__"
   ]
  },
  {
   "cell_type": "code",
   "execution_count": 65,
   "id": "6767b8f8",
   "metadata": {},
   "outputs": [
    {
     "data": {
      "text/plain": [
       "False"
      ]
     },
     "execution_count": 65,
     "metadata": {},
     "output_type": "execute_result"
    }
   ],
   "source": [
    "a, b = 10, 20\n",
    "\n",
    "a.__eq__(b) # means \"equal to \""
   ]
  },
  {
   "cell_type": "code",
   "execution_count": 66,
   "id": "3f17fa68",
   "metadata": {},
   "outputs": [
    {
     "data": {
      "text/plain": [
       "True"
      ]
     },
     "execution_count": 66,
     "metadata": {},
     "output_type": "execute_result"
    }
   ],
   "source": [
    "a, b = 10, 10\n",
    "\n",
    "a.__eq__(b)"
   ]
  },
  {
   "cell_type": "code",
   "execution_count": 68,
   "id": "6641fa40",
   "metadata": {},
   "outputs": [
    {
     "data": {
      "text/plain": [
       "10.0"
      ]
     },
     "execution_count": 68,
     "metadata": {},
     "output_type": "execute_result"
    }
   ],
   "source": [
    "a.__float__() # change the num into float"
   ]
  },
  {
   "cell_type": "code",
   "execution_count": 73,
   "id": "29fdd46a",
   "metadata": {},
   "outputs": [
    {
     "data": {
      "text/plain": [
       "10"
      ]
     },
     "execution_count": 73,
     "metadata": {},
     "output_type": "execute_result"
    }
   ],
   "source": [
    "a = 10.23\n",
    "b = 20\n",
    "\n",
    "a.__floor__()  # floor value like math.floor"
   ]
  },
  {
   "cell_type": "code",
   "execution_count": 74,
   "id": "a3bdb503",
   "metadata": {},
   "outputs": [
    {
     "data": {
      "text/plain": [
       "10"
      ]
     },
     "execution_count": 74,
     "metadata": {},
     "output_type": "execute_result"
    }
   ],
   "source": [
    "import math\n",
    "math.floor(a)"
   ]
  },
  {
   "cell_type": "code",
   "execution_count": 75,
   "id": "6c38ec4c",
   "metadata": {},
   "outputs": [
    {
     "data": {
      "text/plain": [
       "3.0"
      ]
     },
     "execution_count": 75,
     "metadata": {},
     "output_type": "execute_result"
    }
   ],
   "source": [
    "a = 10.2\n",
    "b = 3\n",
    "\n",
    "a.__floordiv__(b)  # gives floor division "
   ]
  },
  {
   "cell_type": "code",
   "execution_count": 78,
   "id": "1cbc540c",
   "metadata": {},
   "outputs": [
    {
     "data": {
      "text/plain": [
       "'34**********'"
      ]
     },
     "execution_count": 78,
     "metadata": {},
     "output_type": "execute_result"
    }
   ],
   "source": [
    "a = 34\n",
    "\n",
    "a.__format__(\"*<12\") # format operations "
   ]
  },
  {
   "cell_type": "code",
   "execution_count": 79,
   "id": "ec4765d2",
   "metadata": {},
   "outputs": [
    {
     "data": {
      "text/plain": [
       "'*****34*****'"
      ]
     },
     "execution_count": 79,
     "metadata": {},
     "output_type": "execute_result"
    }
   ],
   "source": [
    "a.__format__(\"*^12\")"
   ]
  },
  {
   "cell_type": "code",
   "execution_count": 80,
   "id": "e59c156a",
   "metadata": {},
   "outputs": [
    {
     "data": {
      "text/plain": [
       "False"
      ]
     },
     "execution_count": 80,
     "metadata": {},
     "output_type": "execute_result"
    }
   ],
   "source": [
    "a = 10\n",
    "b = 12\n",
    "a.__ge__(b)  # greater than or equal to  \">=\""
   ]
  },
  {
   "cell_type": "code",
   "execution_count": 84,
   "id": "5a9e98d7",
   "metadata": {},
   "outputs": [
    {
     "data": {
      "text/plain": [
       "NotImplemented"
      ]
     },
     "execution_count": 84,
     "metadata": {},
     "output_type": "execute_result"
    }
   ],
   "source": [
    "a = 10\n",
    "b = 10.0\n",
    "\n",
    "a.__ge__(b)"
   ]
  },
  {
   "cell_type": "code",
   "execution_count": 85,
   "id": "43a8e3b5",
   "metadata": {},
   "outputs": [
    {
     "data": {
      "text/plain": [
       "True"
      ]
     },
     "execution_count": 85,
     "metadata": {},
     "output_type": "execute_result"
    }
   ],
   "source": [
    "a = 12\n",
    "b = 10\n",
    "a.__ge__(b)"
   ]
  },
  {
   "cell_type": "code",
   "execution_count": 1,
   "id": "a089b0ea",
   "metadata": {},
   "outputs": [
    {
     "data": {
      "text/plain": [
       "NotImplemented"
      ]
     },
     "execution_count": 1,
     "metadata": {},
     "output_type": "execute_result"
    }
   ],
   "source": [
    "a = 12\n",
    "b = 12.0\n",
    "a.__ge__(b)"
   ]
  },
  {
   "cell_type": "code",
   "execution_count": 39,
   "id": "7659f509",
   "metadata": {},
   "outputs": [
    {
     "data": {
      "text/plain": [
       "True"
      ]
     },
     "execution_count": 39,
     "metadata": {},
     "output_type": "execute_result"
    }
   ],
   "source": [
    "a = 12.0\n",
    "b = 12\n",
    "a.__ge__(b)"
   ]
  },
  {
   "cell_type": "code",
   "execution_count": 41,
   "id": "afea8f68",
   "metadata": {},
   "outputs": [],
   "source": [
    "pi : float= 3.142\n",
    "def circumference(radius: float) -> float:\n",
    "    \n",
    "    return 2 * pi * radius"
   ]
  },
  {
   "cell_type": "code",
   "execution_count": 42,
   "id": "9c4e137a",
   "metadata": {},
   "outputs": [
    {
     "data": {
      "text/plain": [
       "{'radius': float, 'return': float}"
      ]
     },
     "execution_count": 42,
     "metadata": {},
     "output_type": "execute_result"
    }
   ],
   "source": [
    "circumference.__annotations__\n"
   ]
  },
  {
   "cell_type": "code",
   "execution_count": 43,
   "id": "f029e0ff",
   "metadata": {},
   "outputs": [
    {
     "data": {
      "text/plain": [
       "{'pi': float}"
      ]
     },
     "execution_count": 43,
     "metadata": {},
     "output_type": "execute_result"
    }
   ],
   "source": [
    "__annotations__"
   ]
  },
  {
   "cell_type": "code",
   "execution_count": 49,
   "id": "a98d2476",
   "metadata": {},
   "outputs": [],
   "source": [
    "class Student:\n",
    "    def __init__(self, name):\n",
    "        self.name = name\n",
    "        "
   ]
  },
  {
   "cell_type": "code",
   "execution_count": 50,
   "id": "0242f9d0",
   "metadata": {},
   "outputs": [],
   "source": [
    "std = Student(\"Steve\")"
   ]
  },
  {
   "cell_type": "code",
   "execution_count": 52,
   "id": "7a21f76c",
   "metadata": {},
   "outputs": [
    {
     "data": {
      "text/plain": [
       "'Steve'"
      ]
     },
     "execution_count": 52,
     "metadata": {},
     "output_type": "execute_result"
    }
   ],
   "source": [
    "std.__getattribute__(\"name\")"
   ]
  },
  {
   "cell_type": "code",
   "execution_count": 58,
   "id": "9cec727b",
   "metadata": {},
   "outputs": [
    {
     "data": {
      "text/plain": [
       "(20,)"
      ]
     },
     "execution_count": 58,
     "metadata": {},
     "output_type": "execute_result"
    }
   ],
   "source": [
    "a = 20\n",
    "b = 12\n",
    "a.__getnewargs__()  # need to find the explaination\n"
   ]
  },
  {
   "cell_type": "code",
   "execution_count": 59,
   "id": "9ba12993",
   "metadata": {},
   "outputs": [
    {
     "data": {
      "text/plain": [
       "True"
      ]
     },
     "execution_count": 59,
     "metadata": {},
     "output_type": "execute_result"
    }
   ],
   "source": [
    "a = 20\n",
    "b = 12\n",
    "a.__gt__(b) # geater than "
   ]
  },
  {
   "cell_type": "code",
   "execution_count": 61,
   "id": "3f6de3f8",
   "metadata": {},
   "outputs": [
    {
     "data": {
      "text/plain": [
       "NotImplemented"
      ]
     },
     "execution_count": 61,
     "metadata": {},
     "output_type": "execute_result"
    }
   ],
   "source": [
    "a = 10\n",
    "b = 10.0\n",
    "\n",
    "a.__gt__(b) # need to unsderstand"
   ]
  },
  {
   "cell_type": "code",
   "execution_count": 62,
   "id": "b30fe6ae",
   "metadata": {},
   "outputs": [
    {
     "data": {
      "text/plain": [
       "False"
      ]
     },
     "execution_count": 62,
     "metadata": {},
     "output_type": "execute_result"
    }
   ],
   "source": [
    "a = 10.0\n",
    "b = 10\n",
    "a.__gt__(b)"
   ]
  },
  {
   "cell_type": "code",
   "execution_count": 64,
   "id": "6b3c6cd5",
   "metadata": {},
   "outputs": [
    {
     "data": {
      "text/plain": [
       "10"
      ]
     },
     "execution_count": 64,
     "metadata": {},
     "output_type": "execute_result"
    }
   ],
   "source": [
    "a.__hash__()"
   ]
  },
  {
   "cell_type": "markdown",
   "id": "1ecb9b24",
   "metadata": {},
   "source": [
    "`The hash() method returns the hash value of an object if it has one. Hash values are just integers that are used to compare dictionary keys during a dictionary look quickly.`"
   ]
  },
  {
   "cell_type": "code",
   "execution_count": 65,
   "id": "b6575af5",
   "metadata": {},
   "outputs": [
    {
     "data": {
      "text/plain": [
       "8649244763165722570"
      ]
     },
     "execution_count": 65,
     "metadata": {},
     "output_type": "execute_result"
    }
   ],
   "source": [
    "a = \" Helllo word\"\n",
    "a.__hash__()"
   ]
  },
  {
   "cell_type": "code",
   "execution_count": 66,
   "id": "e002e3a0",
   "metadata": {},
   "outputs": [
    {
     "data": {
      "text/plain": [
       "10"
      ]
     },
     "execution_count": 66,
     "metadata": {},
     "output_type": "execute_result"
    }
   ],
   "source": [
    "a = 10\n",
    "a.__hash__()"
   ]
  },
  {
   "cell_type": "code",
   "execution_count": 67,
   "id": "538659a1",
   "metadata": {},
   "outputs": [
    {
     "data": {
      "text/plain": [
       "10"
      ]
     },
     "execution_count": 67,
     "metadata": {},
     "output_type": "execute_result"
    }
   ],
   "source": [
    "\n",
    "a = 10.0\n",
    "a.__hash__()"
   ]
  },
  {
   "cell_type": "code",
   "execution_count": 68,
   "id": "04e3ac8e",
   "metadata": {},
   "outputs": [
    {
     "data": {
      "text/plain": [
       "230584300921368586"
      ]
     },
     "execution_count": 68,
     "metadata": {},
     "output_type": "execute_result"
    }
   ],
   "source": [
    "# but \n",
    "a = 10.1\n",
    "a.__hash__()"
   ]
  },
  {
   "cell_type": "code",
   "execution_count": 69,
   "id": "0f13fac3",
   "metadata": {},
   "outputs": [
    {
     "data": {
      "text/plain": [
       "10"
      ]
     },
     "execution_count": 69,
     "metadata": {},
     "output_type": "execute_result"
    }
   ],
   "source": [
    "a.__int__()"
   ]
  },
  {
   "cell_type": "code",
   "execution_count": 70,
   "id": "8650accc",
   "metadata": {},
   "outputs": [
    {
     "data": {
      "text/plain": [
       "12"
      ]
     },
     "execution_count": 70,
     "metadata": {},
     "output_type": "execute_result"
    }
   ],
   "source": [
    "a = 12.22\n",
    "a.__int__()"
   ]
  },
  {
   "cell_type": "code",
   "execution_count": 72,
   "id": "1563c60d",
   "metadata": {},
   "outputs": [
    {
     "data": {
      "text/plain": [
       "True"
      ]
     },
     "execution_count": 72,
     "metadata": {},
     "output_type": "execute_result"
    }
   ],
   "source": [
    "a = 12\n",
    "b = 13\n",
    "a.__le__(b) # less than \"<=\"  here 'a<=b'"
   ]
  },
  {
   "cell_type": "code",
   "execution_count": 73,
   "id": "60e686e7",
   "metadata": {},
   "outputs": [
    {
     "data": {
      "text/plain": [
       "False"
      ]
     },
     "execution_count": 73,
     "metadata": {},
     "output_type": "execute_result"
    }
   ],
   "source": [
    "b.__le__(a)"
   ]
  },
  {
   "cell_type": "code",
   "execution_count": 79,
   "id": "5a2c5e73",
   "metadata": {},
   "outputs": [
    {
     "data": {
      "text/plain": [
       "True"
      ]
     },
     "execution_count": 79,
     "metadata": {},
     "output_type": "execute_result"
    }
   ],
   "source": [
    "a = 10\n",
    "b = 10\n",
    "a.__le__(b)"
   ]
  },
  {
   "cell_type": "code",
   "execution_count": 83,
   "id": "227c50d2",
   "metadata": {},
   "outputs": [
    {
     "data": {
      "text/plain": [
       "True"
      ]
     },
     "execution_count": 83,
     "metadata": {},
     "output_type": "execute_result"
    }
   ],
   "source": [
    "a = 12\n",
    "b = 121\n",
    "a.__lt__(b) # less than '<' i.e. a<b\n"
   ]
  },
  {
   "cell_type": "code",
   "execution_count": 84,
   "id": "0b191905",
   "metadata": {},
   "outputs": [
    {
     "data": {
      "text/plain": [
       "False"
      ]
     },
     "execution_count": 84,
     "metadata": {},
     "output_type": "execute_result"
    }
   ],
   "source": [
    "b.__lt__(a) # "
   ]
  },
  {
   "cell_type": "code",
   "execution_count": 85,
   "id": "7206a6cb",
   "metadata": {},
   "outputs": [
    {
     "data": {
      "text/plain": [
       "NotImplemented"
      ]
     },
     "execution_count": 85,
     "metadata": {},
     "output_type": "execute_result"
    }
   ],
   "source": [
    "a = 12.0\n",
    "b = 121\n",
    "b.__lt__(a) #"
   ]
  },
  {
   "cell_type": "markdown",
   "id": "bd437fd2",
   "metadata": {},
   "source": [
    "But whenever we do this operation with 'int' along with 'float' and first element will be float and second one will be float then it always reply NotImplemented."
   ]
  },
  {
   "cell_type": "code",
   "execution_count": 87,
   "id": "8db11428",
   "metadata": {},
   "outputs": [
    {
     "data": {
      "text/plain": [
       "12.0"
      ]
     },
     "execution_count": 87,
     "metadata": {},
     "output_type": "execute_result"
    }
   ],
   "source": [
    "a.__mod__(b)"
   ]
  },
  {
   "cell_type": "code",
   "execution_count": 88,
   "id": "9a81ebf1",
   "metadata": {},
   "outputs": [
    {
     "data": {
      "text/plain": [
       "1"
      ]
     },
     "execution_count": 88,
     "metadata": {},
     "output_type": "execute_result"
    }
   ],
   "source": [
    "a = 10\n",
    "b = 3\n",
    "\n",
    "a.__mod__(b)  # modulus means a%b "
   ]
  },
  {
   "cell_type": "code",
   "execution_count": 89,
   "id": "e00cb8c5",
   "metadata": {},
   "outputs": [
    {
     "data": {
      "text/plain": [
       "0"
      ]
     },
     "execution_count": 89,
     "metadata": {},
     "output_type": "execute_result"
    }
   ],
   "source": [
    "a = 10\n",
    "b = 2\n",
    "a.__mod__(b)"
   ]
  },
  {
   "cell_type": "code",
   "execution_count": 90,
   "id": "cde79c3b",
   "metadata": {},
   "outputs": [
    {
     "data": {
      "text/plain": [
       "20"
      ]
     },
     "execution_count": 90,
     "metadata": {},
     "output_type": "execute_result"
    }
   ],
   "source": [
    "a.__mul__(b) # Multipliction"
   ]
  },
  {
   "cell_type": "code",
   "execution_count": 91,
   "id": "750d96c5",
   "metadata": {},
   "outputs": [
    {
     "data": {
      "text/plain": [
       "True"
      ]
     },
     "execution_count": 91,
     "metadata": {},
     "output_type": "execute_result"
    }
   ],
   "source": [
    "a.__ne__(b) # not equal to "
   ]
  },
  {
   "cell_type": "code",
   "execution_count": 93,
   "id": "72bf8a9d",
   "metadata": {},
   "outputs": [
    {
     "data": {
      "text/plain": [
       "False"
      ]
     },
     "execution_count": 93,
     "metadata": {},
     "output_type": "execute_result"
    }
   ],
   "source": [
    "a = 10\n",
    "b = 10\n",
    "a.__ne__(b) # means not equal to "
   ]
  },
  {
   "cell_type": "code",
   "execution_count": 95,
   "id": "52e1905b",
   "metadata": {},
   "outputs": [
    {
     "data": {
      "text/plain": [
       "-10"
      ]
     },
     "execution_count": 95,
     "metadata": {},
     "output_type": "execute_result"
    }
   ],
   "source": [
    "a.__neg__()  # Negative value "
   ]
  },
  {
   "cell_type": "code",
   "execution_count": 96,
   "id": "ccbf60dd",
   "metadata": {},
   "outputs": [
    {
     "data": {
      "text/plain": [
       "10"
      ]
     },
     "execution_count": 96,
     "metadata": {},
     "output_type": "execute_result"
    }
   ],
   "source": [
    "a = - 10\n",
    "a.__neg__()"
   ]
  },
  {
   "cell_type": "code",
   "execution_count": 102,
   "id": "cf7cda66",
   "metadata": {},
   "outputs": [
    {
     "name": "stdout",
     "output_type": "stream",
     "text": [
      "Creating instance\n",
      "Init is called\n"
     ]
    },
    {
     "data": {
      "text/plain": [
       "<__main__.A at 0x21b4d559f70>"
      ]
     },
     "execution_count": 102,
     "metadata": {},
     "output_type": "execute_result"
    }
   ],
   "source": [
    "\n",
    "# Python program to \n",
    "# demonstrate __new__\n",
    "  \n",
    "# don't forget the object specified as base\n",
    "class A(object):\n",
    "    def __new__(cls):\n",
    "        print(\"Creating instance\")\n",
    "        return super(A, cls).__new__(cls)\n",
    "    \n",
    "    def __init__(self):\n",
    "        print(\"Init is called\")\n",
    "\n",
    "A()"
   ]
  },
  {
   "cell_type": "code",
   "execution_count": 103,
   "id": "274d6048",
   "metadata": {
    "scrolled": true
   },
   "outputs": [
    {
     "name": "stdout",
     "output_type": "stream",
     "text": [
      "Creating instance\n",
      "Init is called\n"
     ]
    }
   ],
   "source": [
    "a = A()"
   ]
  },
  {
   "cell_type": "code",
   "execution_count": 110,
   "id": "ad22a72d",
   "metadata": {},
   "outputs": [
    {
     "name": "stdout",
     "output_type": "stream",
     "text": [
      "Creating instance\n"
     ]
    },
    {
     "data": {
      "text/plain": [
       "<__main__.A at 0x21b4d54f850>"
      ]
     },
     "execution_count": 110,
     "metadata": {},
     "output_type": "execute_result"
    }
   ],
   "source": [
    "a.__new__(A)"
   ]
  },
  {
   "cell_type": "code",
   "execution_count": 111,
   "id": "093dc10b",
   "metadata": {},
   "outputs": [
    {
     "data": {
      "text/plain": [
       "14"
      ]
     },
     "execution_count": 111,
     "metadata": {},
     "output_type": "execute_result"
    }
   ],
   "source": [
    "a = 10 \n",
    "b = 12\n",
    "a.__or__(b) # bitwise OR operator "
   ]
  },
  {
   "cell_type": "code",
   "execution_count": 113,
   "id": "91a5ab29",
   "metadata": {},
   "outputs": [
    {
     "data": {
      "text/plain": [
       "10"
      ]
     },
     "execution_count": 113,
     "metadata": {},
     "output_type": "execute_result"
    }
   ],
   "source": [
    "a.__pos__()"
   ]
  },
  {
   "cell_type": "code",
   "execution_count": 115,
   "id": "19ae151c",
   "metadata": {},
   "outputs": [
    {
     "data": {
      "text/plain": [
       "10"
      ]
     },
     "execution_count": 115,
     "metadata": {},
     "output_type": "execute_result"
    }
   ],
   "source": [
    "a.__pos__()"
   ]
  },
  {
   "cell_type": "code",
   "execution_count": 117,
   "id": "a8a538de",
   "metadata": {},
   "outputs": [
    {
     "data": {
      "text/plain": [
       "-12.01"
      ]
     },
     "execution_count": 117,
     "metadata": {},
     "output_type": "execute_result"
    }
   ],
   "source": [
    "a = -12.01\n",
    "\n",
    "a.__pos__()"
   ]
  },
  {
   "cell_type": "code",
   "execution_count": 118,
   "id": "f643137b",
   "metadata": {},
   "outputs": [
    {
     "data": {
      "text/plain": [
       "144.24009999999998"
      ]
     },
     "execution_count": 118,
     "metadata": {},
     "output_type": "execute_result"
    }
   ],
   "source": [
    "a.__pow__(2)"
   ]
  },
  {
   "cell_type": "code",
   "execution_count": 119,
   "id": "aa68d0e6",
   "metadata": {},
   "outputs": [
    {
     "data": {
      "text/plain": [
       "529"
      ]
     },
     "execution_count": 119,
     "metadata": {},
     "output_type": "execute_result"
    }
   ],
   "source": [
    "a = 23\n",
    "a.__pow__(2)"
   ]
  },
  {
   "cell_type": "code",
   "execution_count": 121,
   "id": "c5ff31d8",
   "metadata": {},
   "outputs": [
    {
     "data": {
      "text/plain": [
       "25"
      ]
     },
     "execution_count": 121,
     "metadata": {},
     "output_type": "execute_result"
    }
   ],
   "source": [
    "a = 12\n",
    "b = 13\n",
    "a.__radd__(b)"
   ]
  },
  {
   "cell_type": "code",
   "execution_count": 122,
   "id": "aaee0f13",
   "metadata": {},
   "outputs": [
    {
     "data": {
      "text/plain": [
       "-1"
      ]
     },
     "execution_count": 122,
     "metadata": {},
     "output_type": "execute_result"
    }
   ],
   "source": [
    "a = 12\n",
    "b = -13\n",
    "a.__radd__(b)"
   ]
  },
  {
   "cell_type": "code",
   "execution_count": 124,
   "id": "3cac0ff1",
   "metadata": {},
   "outputs": [
    {
     "data": {
      "text/plain": [
       "0"
      ]
     },
     "execution_count": 124,
     "metadata": {},
     "output_type": "execute_result"
    }
   ],
   "source": [
    "a.__rand__(b)"
   ]
  },
  {
   "cell_type": "code",
   "execution_count": 127,
   "id": "2591ddcd",
   "metadata": {},
   "outputs": [
    {
     "data": {
      "text/plain": [
       "0"
      ]
     },
     "execution_count": 127,
     "metadata": {},
     "output_type": "execute_result"
    }
   ],
   "source": [
    "a = 1\n",
    "b = 20\n",
    "a.__rand__(b)"
   ]
  },
  {
   "cell_type": "code",
   "execution_count": null,
   "id": "6d6d868f",
   "metadata": {},
   "outputs": [],
   "source": []
  },
  {
   "cell_type": "code",
   "execution_count": null,
   "id": "a67f9f76",
   "metadata": {},
   "outputs": [],
   "source": []
  }
 ],
 "metadata": {
  "kernelspec": {
   "display_name": "Python 3 (ipykernel)",
   "language": "python",
   "name": "python3"
  },
  "language_info": {
   "codemirror_mode": {
    "name": "ipython",
    "version": 3
   },
   "file_extension": ".py",
   "mimetype": "text/x-python",
   "name": "python",
   "nbconvert_exporter": "python",
   "pygments_lexer": "ipython3",
   "version": "3.9.7"
  }
 },
 "nbformat": 4,
 "nbformat_minor": 5
}
