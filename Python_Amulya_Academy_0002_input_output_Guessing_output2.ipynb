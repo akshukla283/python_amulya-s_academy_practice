{
 "cells": [
  {
   "cell_type": "markdown",
   "id": "e41d7886",
   "metadata": {},
   "source": [
    "#### Guess the output"
   ]
  },
  {
   "cell_type": "code",
   "execution_count": 1,
   "id": "41026274",
   "metadata": {},
   "outputs": [
    {
     "name": "stdout",
     "output_type": "stream",
     "text": [
      "c c c c c c c "
     ]
    }
   ],
   "source": [
    "str1 = \"AaBbCcDdEeFf\"\n",
    "var = \"c\"\n",
    "\n",
    "while var in str1:\n",
    "    str1 = str1[:-1]\n",
    "    print(var, end = \" \")"
   ]
  },
  {
   "cell_type": "code",
   "execution_count": 1,
   "id": "5fe9d63b",
   "metadata": {},
   "outputs": [],
   "source": [
    "### \n",
    "\n",
    "fruits = ['apple', 'banana', 'mango', 'watermelon']\n",
    "\n",
    "for fruit in fruits:\n",
    "    fruit = fruit.capitalize()\n",
    "    if fruit == 'Mango':\n",
    "        break\n",
    "else:\n",
    "    print(\"Hello there\")\n"
   ]
  },
  {
   "cell_type": "markdown",
   "id": "28b4317d",
   "metadata": {},
   "source": [
    "As we can see that within for loop the if condition is satisfied and when it is satisfied the 'break' statement will execute and control will be come out from the for loop and it will come to the else part of the for loop but the control come out due to 'break' statement that is why else part also will not be executed so there will be no output."
   ]
  },
  {
   "cell_type": "code",
   "execution_count": 2,
   "id": "b5f8c70a",
   "metadata": {},
   "outputs": [
    {
     "name": "stdout",
     "output_type": "stream",
     "text": [
      "['A', 'B', 'C', 'X', 'Y']\n"
     ]
    }
   ],
   "source": [
    "x = [\"B\", \"C\", \"A\"]\n",
    "\n",
    "x.extend([\"X\", \"Y\"])\n",
    "\n",
    "x.reverse()\n",
    "\n",
    "x.sort()\n",
    "\n",
    "print(x)"
   ]
  },
  {
   "cell_type": "code",
   "execution_count": 3,
   "id": "15de712b",
   "metadata": {},
   "outputs": [
    {
     "name": "stdout",
     "output_type": "stream",
     "text": [
      "2\n"
     ]
    }
   ],
   "source": [
    "d1 = {'a':1, 'b':2, 'c':3}\n",
    "d2 = {'b':20, 'd':4}\n",
    "\n",
    "d2.update(d1)\n",
    "\n",
    "print(d2['b'])"
   ]
  },
  {
   "cell_type": "code",
   "execution_count": 4,
   "id": "4fa362b5",
   "metadata": {},
   "outputs": [
    {
     "data": {
      "text/plain": [
       "'5'"
      ]
     },
     "execution_count": 4,
     "metadata": {},
     "output_type": "execute_result"
    }
   ],
   "source": [
    "max(\"12345\")"
   ]
  },
  {
   "cell_type": "code",
   "execution_count": 5,
   "id": "d8a5e7ba",
   "metadata": {},
   "outputs": [
    {
     "data": {
      "text/plain": [
       "'c'"
      ]
     },
     "execution_count": 5,
     "metadata": {},
     "output_type": "execute_result"
    }
   ],
   "source": [
    "max({'a':1, 'b':6, 'c':3})"
   ]
  },
  {
   "cell_type": "code",
   "execution_count": 6,
   "id": "7255e9f3",
   "metadata": {},
   "outputs": [
    {
     "data": {
      "text/plain": [
       "'b'"
      ]
     },
     "execution_count": 6,
     "metadata": {},
     "output_type": "execute_result"
    }
   ],
   "source": [
    "max(\"abAb\")"
   ]
  },
  {
   "cell_type": "code",
   "execution_count": 7,
   "id": "748e908e",
   "metadata": {},
   "outputs": [
    {
     "ename": "TypeError",
     "evalue": "'int' object is not iterable",
     "output_type": "error",
     "traceback": [
      "\u001b[1;31m---------------------------------------------------------------------------\u001b[0m",
      "\u001b[1;31mTypeError\u001b[0m                                 Traceback (most recent call last)",
      "Input \u001b[1;32mIn [7]\u001b[0m, in \u001b[0;36m<cell line: 3>\u001b[1;34m()\u001b[0m\n\u001b[0;32m      1\u001b[0m l1 \u001b[38;5;241m=\u001b[39m [\u001b[38;5;241m1\u001b[39m,\u001b[38;5;241m2\u001b[39m,\u001b[38;5;241m3\u001b[39m]\n\u001b[1;32m----> 3\u001b[0m \u001b[43ml1\u001b[49m\u001b[38;5;241;43m.\u001b[39;49m\u001b[43mextend\u001b[49m\u001b[43m(\u001b[49m\u001b[38;5;241;43m4\u001b[39;49m\u001b[43m)\u001b[49m\n\u001b[0;32m      4\u001b[0m \u001b[38;5;28mprint\u001b[39m(l1)\n",
      "\u001b[1;31mTypeError\u001b[0m: 'int' object is not iterable"
     ]
    }
   ],
   "source": [
    "l1 = [1,2,3]\n",
    "\n",
    "l1.extend(4)\n",
    "print(l1)\n"
   ]
  },
  {
   "cell_type": "code",
   "execution_count": 10,
   "id": "86aa3169",
   "metadata": {},
   "outputs": [
    {
     "ename": "TypeError",
     "evalue": "'int' object is not iterable",
     "output_type": "error",
     "traceback": [
      "\u001b[1;31m---------------------------------------------------------------------------\u001b[0m",
      "\u001b[1;31mTypeError\u001b[0m                                 Traceback (most recent call last)",
      "Input \u001b[1;32mIn [10]\u001b[0m, in \u001b[0;36m<cell line: 3>\u001b[1;34m()\u001b[0m\n\u001b[0;32m      1\u001b[0m l1 \u001b[38;5;241m=\u001b[39m [\u001b[38;5;241m1\u001b[39m,\u001b[38;5;241m2\u001b[39m,\u001b[38;5;241m3\u001b[39m]\n\u001b[1;32m----> 3\u001b[0m \u001b[43ml1\u001b[49m\u001b[38;5;241;43m.\u001b[39;49m\u001b[43mextend\u001b[49m\u001b[43m(\u001b[49m\u001b[43m(\u001b[49m\u001b[38;5;241;43m4\u001b[39;49m\u001b[43m)\u001b[49m\u001b[43m)\u001b[49m\n\u001b[0;32m      4\u001b[0m \u001b[38;5;28mprint\u001b[39m(l1)\n",
      "\u001b[1;31mTypeError\u001b[0m: 'int' object is not iterable"
     ]
    }
   ],
   "source": [
    "l1 = [1,2,3]\n",
    "\n",
    "l1.extend((4))\n",
    "print(l1)\n"
   ]
  },
  {
   "cell_type": "code",
   "execution_count": 9,
   "id": "a237c30a",
   "metadata": {},
   "outputs": [
    {
     "name": "stdout",
     "output_type": "stream",
     "text": [
      "[1, 2, 3, 4]\n"
     ]
    }
   ],
   "source": [
    "l1 = [1,2,3]\n",
    "\n",
    "l1.extend((4,))\n",
    "print(l1)\n",
    "\n",
    "# note (4) will be treated as integer and if we add comma ',' along with 4 then it will be\n",
    "#                                                             treated as tuple."
   ]
  },
  {
   "cell_type": "code",
   "execution_count": 12,
   "id": "7be0a28f",
   "metadata": {},
   "outputs": [
    {
     "name": "stdout",
     "output_type": "stream",
     "text": [
      "[1, 2, 3, '4']\n"
     ]
    }
   ],
   "source": [
    "l1 = [1,2,3]\n",
    "\n",
    "l1.extend('4')\n",
    "print(l1)"
   ]
  },
  {
   "cell_type": "code",
   "execution_count": 13,
   "id": "8bb42e6b",
   "metadata": {},
   "outputs": [
    {
     "data": {
      "text/plain": [
       "''"
      ]
     },
     "execution_count": 13,
     "metadata": {},
     "output_type": "execute_result"
    }
   ],
   "source": [
    "strg = \"SMARTQ\"\n",
    "strg[-2:-4]"
   ]
  },
  {
   "cell_type": "code",
   "execution_count": 14,
   "id": "e8938f80",
   "metadata": {},
   "outputs": [
    {
     "name": "stdout",
     "output_type": "stream",
     "text": [
      "['he', '', 'o wor', 'd']\n"
     ]
    }
   ],
   "source": [
    "a = 'hello world'\n",
    "\n",
    "b = a.split('l')\n",
    "\n",
    "print(b) # wherever ll it will convert second l into \"\""
   ]
  },
  {
   "cell_type": "code",
   "execution_count": 15,
   "id": "78ca2704",
   "metadata": {},
   "outputs": [
    {
     "name": "stdout",
     "output_type": "stream",
     "text": [
      "0\n"
     ]
    }
   ],
   "source": [
    "i = 0 \n",
    "while i<3:\n",
    "    print(i)\n",
    "    i+=1\n",
    "    break\n",
    "    \n",
    "else:\n",
    "    print(0)"
   ]
  },
  {
   "cell_type": "code",
   "execution_count": 16,
   "id": "e0caac48",
   "metadata": {},
   "outputs": [
    {
     "data": {
      "text/plain": [
       "'Sir Auther'"
      ]
     },
     "execution_count": 16,
     "metadata": {},
     "output_type": "execute_result"
    }
   ],
   "source": [
    "def writer():\n",
    "    title = \"Sir\"\n",
    "    name = (lambda x:title + \" \" + x)\n",
    "    return name\n",
    "\n",
    "who = writer()\n",
    "\n",
    "who(\"Auther\")"
   ]
  },
  {
   "cell_type": "code",
   "execution_count": 17,
   "id": "a991ab99",
   "metadata": {},
   "outputs": [
    {
     "name": "stdout",
     "output_type": "stream",
     "text": [
      "1\n",
      "5\n"
     ]
    }
   ],
   "source": [
    "mylist = [1,5,5,5,5,1]\n",
    "\n",
    "max_of_list= mylist[0]\n",
    "indexOfmax = 0\n",
    "\n",
    "for i in range(1, len(mylist)):\n",
    "    if mylist[i]> max_of_list:\n",
    "        \n",
    "        max_of_list = mylist[i]\n",
    "        indexofmax = i\n",
    "        \n",
    "print(indexofmax)\n",
    "print(max_of_list)"
   ]
  },
  {
   "cell_type": "code",
   "execution_count": 19,
   "id": "16fedeb4",
   "metadata": {},
   "outputs": [
    {
     "ename": "UnboundLocalError",
     "evalue": "local variable 'var1' referenced before assignment",
     "output_type": "error",
     "traceback": [
      "\u001b[1;31m---------------------------------------------------------------------------\u001b[0m",
      "\u001b[1;31mUnboundLocalError\u001b[0m                         Traceback (most recent call last)",
      "Input \u001b[1;32mIn [19]\u001b[0m, in \u001b[0;36m<cell line: 8>\u001b[1;34m()\u001b[0m\n\u001b[0;32m      5\u001b[0m     var1\u001b[38;5;241m=\u001b[39m\u001b[38;5;241m100\u001b[39m\n\u001b[0;32m      6\u001b[0m     \u001b[38;5;28mprint\u001b[39m(\u001b[38;5;124m\"\u001b[39m\u001b[38;5;124mValue of var1:\u001b[39m\u001b[38;5;124m\"\u001b[39m,var1)\n\u001b[1;32m----> 8\u001b[0m \u001b[43mexample1\u001b[49m\u001b[43m(\u001b[49m\u001b[43m)\u001b[49m\n",
      "Input \u001b[1;32mIn [19]\u001b[0m, in \u001b[0;36mexample1\u001b[1;34m()\u001b[0m\n\u001b[0;32m      2\u001b[0m \u001b[38;5;28;01mdef\u001b[39;00m \u001b[38;5;21mexample1\u001b[39m():\n\u001b[1;32m----> 4\u001b[0m     \u001b[38;5;28mprint\u001b[39m(\u001b[43mvar1\u001b[49m)\n\u001b[0;32m      5\u001b[0m     var1\u001b[38;5;241m=\u001b[39m\u001b[38;5;241m100\u001b[39m\n\u001b[0;32m      6\u001b[0m     \u001b[38;5;28mprint\u001b[39m(\u001b[38;5;124m\"\u001b[39m\u001b[38;5;124mValue of var1:\u001b[39m\u001b[38;5;124m\"\u001b[39m,var1)\n",
      "\u001b[1;31mUnboundLocalError\u001b[0m: local variable 'var1' referenced before assignment"
     ]
    }
   ],
   "source": [
    "var1=90\n",
    "def example1():\n",
    "    \n",
    "    print(var1)\n",
    "    var1=100\n",
    "    print(\"Value of var1:\",var1)\n",
    "    \n",
    "example1()\n",
    "\n",
    "# we can access and print global variable inside local space but can't modify it.\n",
    "\n",
    "# we can modify it when we make it global in local scope or by passing as arguments"
   ]
  },
  {
   "cell_type": "code",
   "execution_count": 24,
   "id": "6b912778",
   "metadata": {},
   "outputs": [
    {
     "name": "stdout",
     "output_type": "stream",
     "text": [
      "90\n",
      "Value of var1: 100\n"
     ]
    }
   ],
   "source": [
    "var1=90\n",
    "def example1(var1):\n",
    "    \n",
    "    print(var1)\n",
    "    var1=100\n",
    "    print(\"Value of var1:\",var1)\n",
    "    \n",
    "example1(var1)"
   ]
  },
  {
   "cell_type": "code",
   "execution_count": 25,
   "id": "529ca227",
   "metadata": {},
   "outputs": [
    {
     "name": "stdout",
     "output_type": "stream",
     "text": [
      "90\n",
      "Value of var1: 100\n"
     ]
    }
   ],
   "source": [
    "var1=90\n",
    "def example1():\n",
    "    global var1\n",
    "    print(var1)\n",
    "    var1=100\n",
    "    print(\"Value of var1:\",var1)\n",
    "    \n",
    "example1()"
   ]
  },
  {
   "cell_type": "code",
   "execution_count": 32,
   "id": "9e4a9105",
   "metadata": {},
   "outputs": [
    {
     "name": "stdout",
     "output_type": "stream",
     "text": [
      "0\n",
      "1\n",
      "2\n"
     ]
    }
   ],
   "source": [
    "x = (i for i in range(3))\n",
    "\n",
    "for i in x:\n",
    "    print(i)\n",
    "    \n",
    "for i in x:\n",
    "    print(i)\n",
    "    \n",
    "# make it clear that the output is actually from which loop we will use print() some text before\n",
    "# printing these loops in next programs"
   ]
  },
  {
   "cell_type": "code",
   "execution_count": 33,
   "id": "8165d060",
   "metadata": {},
   "outputs": [
    {
     "name": "stdout",
     "output_type": "stream",
     "text": [
      "Output from x first time: \n",
      "0\n",
      "1\n",
      "2\n",
      "\n",
      "Output from x second time: \n"
     ]
    }
   ],
   "source": [
    "x = (i for i in range(3))\n",
    "print(\"Output from x first time: \")\n",
    "for i in x:\n",
    "    print(i)\n",
    "print()\n",
    "print(\"Output from x second time: \")\n",
    "for i in x:\n",
    "    print(i)"
   ]
  },
  {
   "cell_type": "code",
   "execution_count": 35,
   "id": "d726973c",
   "metadata": {},
   "outputs": [
    {
     "name": "stdout",
     "output_type": "stream",
     "text": [
      "Output from x: \n",
      "0\n",
      "1\n",
      "2\n",
      "\n",
      "Output from y:\n"
     ]
    }
   ],
   "source": [
    "x = (i for i in range(3))\n",
    "y = x\n",
    "print(\"Output from x: \")\n",
    "for i in x:\n",
    "    print(i)\n",
    "print()\n",
    "print(\"Output from y:\")\n",
    "for i in y:\n",
    "    print(i)\n",
    "    \n",
    "# as we can see by we took 'y' and have same value and id from x so it will be treated as same a x\n",
    "# in tuple only this happens if here would be a list then it print both for loop"
   ]
  },
  {
   "cell_type": "code",
   "execution_count": 36,
   "id": "602cf03c",
   "metadata": {},
   "outputs": [
    {
     "name": "stdout",
     "output_type": "stream",
     "text": [
      "id of x: 2101422754496\n",
      "id of y: 2101422754496\n"
     ]
    }
   ],
   "source": [
    "print(\"id of x:\" , id(x))\n",
    "print(\"id of y:\" , id(y))\n"
   ]
  },
  {
   "cell_type": "markdown",
   "id": "63246435",
   "metadata": {},
   "source": [
    "As we can see that they share the same it that is why we got output only once"
   ]
  },
  {
   "cell_type": "code",
   "execution_count": 38,
   "id": "dac86506",
   "metadata": {},
   "outputs": [
    {
     "name": "stdout",
     "output_type": "stream",
     "text": [
      "Output from x: \n",
      "0\n",
      "1\n",
      "2\n",
      "\n",
      "Output from y:\n",
      "0\n",
      "1\n",
      "2\n"
     ]
    }
   ],
   "source": [
    "x = [i for i in range(3)]\n",
    "y = x[:]\n",
    "print(\"Output from x: \")\n",
    "for i in x:\n",
    "    print(i)\n",
    "print()\n",
    "print(\"Output from y:\")\n",
    "for i in y:\n",
    "    print(i)"
   ]
  },
  {
   "cell_type": "code",
   "execution_count": 39,
   "id": "16fa9d02",
   "metadata": {},
   "outputs": [
    {
     "name": "stdout",
     "output_type": "stream",
     "text": [
      "id of x: 2101423540800\n",
      "id of y: 2101423539904\n"
     ]
    }
   ],
   "source": [
    "print(\"id of x:\" , id(x))\n",
    "print(\"id of y:\" , id(y))\n"
   ]
  },
  {
   "cell_type": "markdown",
   "id": "74c3b8f3",
   "metadata": {},
   "source": [
    "this time they have different id and that is why we got the output."
   ]
  },
  {
   "cell_type": "code",
   "execution_count": 40,
   "id": "864624f4",
   "metadata": {},
   "outputs": [
    {
     "name": "stdout",
     "output_type": "stream",
     "text": [
      "10\n",
      "10\n"
     ]
    }
   ],
   "source": [
    "x = 10\n",
    "print(x)\n",
    "print(x)"
   ]
  },
  {
   "cell_type": "code",
   "execution_count": 1,
   "id": "27ed82b5",
   "metadata": {},
   "outputs": [
    {
     "name": "stdout",
     "output_type": "stream",
     "text": [
      "Output from x: \n",
      "0\n",
      "1\n",
      "2\n",
      "\n",
      "Output from y:\n",
      "0\n",
      "1\n",
      "2\n"
     ]
    }
   ],
   "source": [
    "x = [i for i in range(3)]\n",
    "y = x\n",
    "print(\"Output from x: \")\n",
    "for i in x:\n",
    "    print(i)\n",
    "print()\n",
    "print(\"Output from y:\")\n",
    "for i in y:\n",
    "    print(i)"
   ]
  },
  {
   "cell_type": "code",
   "execution_count": 2,
   "id": "2c81fd9b",
   "metadata": {},
   "outputs": [
    {
     "name": "stdout",
     "output_type": "stream",
     "text": [
      "id of x: 2308980963328\n",
      "id of y: 2308980963328\n"
     ]
    }
   ],
   "source": [
    "print(\"id of x:\" , id(x))\n",
    "print(\"id of y:\" , id(y))\n"
   ]
  },
  {
   "cell_type": "code",
   "execution_count": 3,
   "id": "24ef998d",
   "metadata": {},
   "outputs": [
    {
     "data": {
      "text/plain": [
       "{1: 4, '1': 2}"
      ]
     },
     "execution_count": 3,
     "metadata": {},
     "output_type": "execute_result"
    }
   ],
   "source": [
    "confusion = {}\n",
    "confusion[1] = 1\n",
    "confusion[\"1\"] = 2\n",
    "confusion[1.0] = 4\n",
    "confusion       # As we can see that int 1 hasn't asign while float 1.0 has been asigned \n",
    "\n",
    "# need to care about output order of the sentence , float value has been last and came fist \n",
    "\n",
    "# dictionary can't hold the same key means it holds only unique key"
   ]
  },
  {
   "cell_type": "code",
   "execution_count": 5,
   "id": "29f6e15a",
   "metadata": {},
   "outputs": [
    {
     "data": {
      "text/plain": [
       "{3: 1, '1': 2, 1.0: 4}"
      ]
     },
     "execution_count": 5,
     "metadata": {},
     "output_type": "execute_result"
    }
   ],
   "source": [
    "confusion = {}\n",
    "confusion[3] = 1\n",
    "confusion[\"1\"] = 2\n",
    "confusion[1.0] = 4\n",
    "confusion  \n",
    "\n",
    "# now by changing the 1 with 3 now there is all different different key ana that is why all key \n",
    "# value has been assigned"
   ]
  },
  {
   "cell_type": "code",
   "execution_count": 6,
   "id": "4f4ede06",
   "metadata": {},
   "outputs": [
    {
     "name": "stdout",
     "output_type": "stream",
     "text": [
      "[1]\n",
      "[1, 2]\n",
      "[1, 2, 3]\n"
     ]
    }
   ],
   "source": [
    "def f(a, L=[]): # in default argument list will be instantiate only once and and further it will \n",
    "    L.append(a)    # be appended.\n",
    "    \n",
    "    return L\n",
    "\n",
    "print(f(1))\n",
    "print(f(2))\n",
    "print(f(3))"
   ]
  },
  {
   "cell_type": "code",
   "execution_count": 7,
   "id": "f2060300",
   "metadata": {},
   "outputs": [
    {
     "data": {
      "text/plain": [
       "' '"
      ]
     },
     "execution_count": 7,
     "metadata": {},
     "output_type": "execute_result"
    }
   ],
   "source": [
    "min(\"Hello World\")"
   ]
  },
  {
   "cell_type": "code",
   "execution_count": 8,
   "id": "8a581ca8",
   "metadata": {},
   "outputs": [
    {
     "name": "stdout",
     "output_type": "stream",
     "text": [
      "HelloWorld\n"
     ]
    }
   ],
   "source": [
    "str1 = \"Hello\"\n",
    "str2 = \"World\"\n",
    "str3 = str1.__add__(str2)\n",
    "\n",
    "print(str3)"
   ]
  },
  {
   "cell_type": "code",
   "execution_count": 12,
   "id": "c538dc3c",
   "metadata": {},
   "outputs": [
    {
     "name": "stdout",
     "output_type": "stream",
     "text": [
      "7\n"
     ]
    }
   ],
   "source": [
    "a = 12\n",
    "b = 5\n",
    "c = a.__sub__(b)\n",
    "\n",
    "print(c)"
   ]
  },
  {
   "cell_type": "code",
   "execution_count": null,
   "id": "9f06e05f",
   "metadata": {},
   "outputs": [],
   "source": []
  }
 ],
 "metadata": {
  "kernelspec": {
   "display_name": "Python 3 (ipykernel)",
   "language": "python",
   "name": "python3"
  },
  "language_info": {
   "codemirror_mode": {
    "name": "ipython",
    "version": 3
   },
   "file_extension": ".py",
   "mimetype": "text/x-python",
   "name": "python",
   "nbconvert_exporter": "python",
   "pygments_lexer": "ipython3",
   "version": "3.9.7"
  }
 },
 "nbformat": 4,
 "nbformat_minor": 5
}
