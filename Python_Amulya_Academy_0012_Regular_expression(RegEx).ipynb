{
 "cells": [
  {
   "cell_type": "markdown",
   "id": "ac346bbe",
   "metadata": {},
   "source": [
    "### Regular Expression (RegEx)\n",
    "\n",
    "#### What -- \n",
    "\n",
    "\n",
    "#### Why ----"
   ]
  },
  {
   "cell_type": "code",
   "execution_count": 6,
   "id": "69bd1602",
   "metadata": {},
   "outputs": [
    {
     "data": {
      "text/plain": [
       "'my name is John'"
      ]
     },
     "execution_count": 6,
     "metadata": {},
     "output_type": "execute_result"
    }
   ],
   "source": [
    "# if we have string function to replace string then why should we use Regular Expresion \n",
    "# let's take an example for this\n",
    "\n",
    "str1 = \"my name is David\"\n",
    "# lt's change David to John\n",
    "str1.replace(\"David\", \"John\")\n"
   ]
  },
  {
   "cell_type": "code",
   "execution_count": 7,
   "id": "8cedb1e5",
   "metadata": {},
   "outputs": [
    {
     "data": {
      "text/plain": [
       "'main street brd rd'"
      ]
     },
     "execution_count": 7,
     "metadata": {},
     "output_type": "execute_result"
    }
   ],
   "source": [
    "# but in this what happened\n",
    "str2 = \"main street broad road\"\n",
    "str2.replace(\"road\", \"rd\")"
   ]
  },
  {
   "cell_type": "code",
   "execution_count": 8,
   "id": "5568ca75",
   "metadata": {},
   "outputs": [
    {
     "data": {
      "text/plain": [
       "'main street broad rd'"
      ]
     },
     "execution_count": 8,
     "metadata": {},
     "output_type": "execute_result"
    }
   ],
   "source": [
    "# we can avoid this using length but not useful in many ways and it will be complecated at \n",
    "# some places\n",
    "str2 = \"main street broad road\"\n",
    "str2[0:17] + str2[17:].replace(\"road\", \"rd\")"
   ]
  },
  {
   "cell_type": "markdown",
   "id": "85a62f58",
   "metadata": {},
   "source": [
    "**Conclusion:**\n",
    "\n",
    "as we can see that `\"broad\"` has also been changed along with `'road'` this is why we need `Regular Expression`."
   ]
  },
  {
   "cell_type": "markdown",
   "id": "62d77082",
   "metadata": {},
   "source": [
    "### Regular Expression (RegEx)\n",
    "\n",
    "* Match\n",
    "\n",
    "* Search \n",
    "\n",
    "* Findall\n",
    "\n",
    "* Replace\n",
    "\n",
    "* Split\n",
    "\n",
    "need to import `'re'`"
   ]
  },
  {
   "cell_type": "code",
   "execution_count": 9,
   "id": "8312036d",
   "metadata": {},
   "outputs": [
    {
     "data": {
      "text/plain": [
       "<re.Match object; span=(0, 7), match='pet:cat'>"
      ]
     },
     "execution_count": 9,
     "metadata": {},
     "output_type": "execute_result"
    }
   ],
   "source": [
    "import re\n",
    "\n",
    "line = \"pet:cat I love cats\"\n",
    "#match = re.match(pattern, string, <flag = 0>)\n",
    "match = re.match(r\"pet:\\w\\w\\w\", line) \n",
    "# here 'r' means we pass it as raw input and \\w for character \n",
    "match"
   ]
  },
  {
   "cell_type": "code",
   "execution_count": 10,
   "id": "60589d1b",
   "metadata": {},
   "outputs": [
    {
     "data": {
      "text/plain": [
       "'pet:cat'"
      ]
     },
     "execution_count": 10,
     "metadata": {},
     "output_type": "execute_result"
    }
   ],
   "source": [
    "# if we want to see match object \n",
    "\n",
    "match.group(0)"
   ]
  },
  {
   "cell_type": "code",
   "execution_count": 11,
   "id": "34d60fb0",
   "metadata": {},
   "outputs": [],
   "source": [
    "# Search function\n",
    "import re\n",
    "\n",
    "line = \"pet:cat I love cats\"\n",
    "match = re.search(r\"pet:\\w\\w\\w\", line)"
   ]
  },
  {
   "cell_type": "code",
   "execution_count": 12,
   "id": "a712bf52",
   "metadata": {},
   "outputs": [
    {
     "data": {
      "text/plain": [
       "<re.Match object; span=(0, 7), match='pet:cat'>"
      ]
     },
     "execution_count": 12,
     "metadata": {},
     "output_type": "execute_result"
    }
   ],
   "source": [
    "match"
   ]
  },
  {
   "cell_type": "code",
   "execution_count": 13,
   "id": "cfac507f",
   "metadata": {},
   "outputs": [
    {
     "data": {
      "text/plain": [
       "'pet:cat'"
      ]
     },
     "execution_count": 13,
     "metadata": {},
     "output_type": "execute_result"
    }
   ],
   "source": [
    "match.group(0)"
   ]
  },
  {
   "cell_type": "code",
   "execution_count": 2,
   "id": "bbd48d2d",
   "metadata": {},
   "outputs": [
    {
     "name": "stdout",
     "output_type": "stream",
     "text": [
      "None\n"
     ]
    }
   ],
   "source": [
    "# then what is the difference between 'match' and 'search' the difference is --\n",
    "# match function search the only beginning of the string and search function search in the entire \n",
    "# string\n",
    "\n",
    "import re\n",
    "\n",
    "line = \"I love cats pet:cat\"  # here we made change 'pet:cat' at end of the string\n",
    "var = re.match(r\"pet:\\w\\w\\w\", line)\n",
    "print(var)"
   ]
  },
  {
   "cell_type": "markdown",
   "id": "2489ce21",
   "metadata": {},
   "source": [
    "as we can see that 'var' returns nothing because match function search in the begging of the string and above pattern at the end so match found nothing. that's why return nothing."
   ]
  },
  {
   "cell_type": "code",
   "execution_count": 16,
   "id": "14178a62",
   "metadata": {},
   "outputs": [
    {
     "ename": "AttributeError",
     "evalue": "'NoneType' object has no attribute 'group'",
     "output_type": "error",
     "traceback": [
      "\u001b[1;31m---------------------------------------------------------------------------\u001b[0m",
      "\u001b[1;31mAttributeError\u001b[0m                            Traceback (most recent call last)",
      "\u001b[1;32m~\\AppData\\Local\\Temp/ipykernel_10484/3053679051.py\u001b[0m in \u001b[0;36m<module>\u001b[1;34m\u001b[0m\n\u001b[0;32m      1\u001b[0m \u001b[1;31m# None type match have no group\u001b[0m\u001b[1;33m\u001b[0m\u001b[1;33m\u001b[0m\u001b[1;33m\u001b[0m\u001b[0m\n\u001b[1;32m----> 2\u001b[1;33m \u001b[0mvar\u001b[0m\u001b[1;33m.\u001b[0m\u001b[0mgroup\u001b[0m\u001b[1;33m(\u001b[0m\u001b[1;36m0\u001b[0m\u001b[1;33m)\u001b[0m\u001b[1;33m\u001b[0m\u001b[1;33m\u001b[0m\u001b[0m\n\u001b[0m",
      "\u001b[1;31mAttributeError\u001b[0m: 'NoneType' object has no attribute 'group'"
     ]
    }
   ],
   "source": [
    "# None type match have no group\n",
    "var.group(0)"
   ]
  },
  {
   "cell_type": "code",
   "execution_count": 3,
   "id": "2b15a587",
   "metadata": {},
   "outputs": [
    {
     "data": {
      "text/plain": [
       "<re.Match object; span=(12, 19), match='pet:cat'>"
      ]
     },
     "execution_count": 3,
     "metadata": {},
     "output_type": "execute_result"
    }
   ],
   "source": [
    "# search \n",
    "\n",
    "import re\n",
    "\n",
    "line = \"I love cats pet:cat\"  # here we made change 'pet:cat' at end of the string\n",
    "var = re.search(r\"pet:\\w\\w\\w\", line)\n",
    "var"
   ]
  },
  {
   "cell_type": "code",
   "execution_count": 4,
   "id": "dd74bbfd",
   "metadata": {},
   "outputs": [
    {
     "data": {
      "text/plain": [
       "'pet:cat'"
      ]
     },
     "execution_count": 4,
     "metadata": {},
     "output_type": "execute_result"
    }
   ],
   "source": [
    "var.group(0)"
   ]
  },
  {
   "cell_type": "code",
   "execution_count": 5,
   "id": "c6a3bd68",
   "metadata": {},
   "outputs": [
    {
     "data": {
      "text/plain": [
       "'I love cats pet:cat'"
      ]
     },
     "execution_count": 5,
     "metadata": {},
     "output_type": "execute_result"
    }
   ],
   "source": [
    "var.string"
   ]
  },
  {
   "cell_type": "code",
   "execution_count": 6,
   "id": "060f7d14",
   "metadata": {},
   "outputs": [
    {
     "data": {
      "text/plain": [
       "<re.Match object; span=(0, 7), match='pet:cat'>"
      ]
     },
     "execution_count": 6,
     "metadata": {},
     "output_type": "execute_result"
    }
   ],
   "source": [
    "# if any confusion between search and match  let's take another example \n",
    "\n",
    "import re\n",
    "\n",
    "line = \"pet:cat I love cats pet:cow i love cow\"  \n",
    "var = re.match(r\"pet:\\w\\w\\w\", line)\n",
    "var\n",
    "# this time we have given one pattern match at beginning and one at the end \n"
   ]
  },
  {
   "cell_type": "code",
   "execution_count": 7,
   "id": "3515d79d",
   "metadata": {},
   "outputs": [
    {
     "data": {
      "text/plain": [
       "'pet:cat'"
      ]
     },
     "execution_count": 7,
     "metadata": {},
     "output_type": "execute_result"
    }
   ],
   "source": [
    "var.group(0) # as we can see only beginning pattern not 'pet:cow'"
   ]
  },
  {
   "cell_type": "code",
   "execution_count": 8,
   "id": "ca270b44",
   "metadata": {},
   "outputs": [
    {
     "data": {
      "text/plain": [
       "'pet:cat'"
      ]
     },
     "execution_count": 8,
     "metadata": {},
     "output_type": "execute_result"
    }
   ],
   "source": [
    "import re\n",
    "\n",
    "line = \"pet:cat I love cats pet:cow i love cow\"  \n",
    "var = re.search(r\"pet:\\w\\w\\w\", line)\n",
    "var.group() # search return only one match in whole string wether it is at beginning or at middle \n",
    "            #  or at ends\n",
    "    \n",
    "            # and Match , match object at beginning only"
   ]
  },
  {
   "cell_type": "code",
   "execution_count": 9,
   "id": "40344869",
   "metadata": {},
   "outputs": [
    {
     "data": {
      "text/plain": [
       "['pet:cat', 'pet:cow']"
      ]
     },
     "execution_count": 9,
     "metadata": {},
     "output_type": "execute_result"
    }
   ],
   "source": [
    "# Findall for all the matches\n",
    "\n",
    "import re\n",
    "\n",
    "line = \"pet:cat I love cats pet:cow I love cow\"  \n",
    "var = re.findall(r\"pet:\\w\\w\\w\", line)\n",
    "var\n"
   ]
  },
  {
   "cell_type": "code",
   "execution_count": 10,
   "id": "f3081820",
   "metadata": {},
   "outputs": [
    {
     "data": {
      "text/plain": [
       "['I love cats ', ' I love cows ', ' Thankk you']"
      ]
     },
     "execution_count": 10,
     "metadata": {},
     "output_type": "execute_result"
    }
   ],
   "source": [
    "#### SPlit function\n",
    "\n",
    "import re\n",
    "\n",
    "line = \"I love cats pet:cat I love cows pet:cow Thankk you\"  \n",
    "\n",
    "s = re.split(r\"pet:\\w\\w\\w\", line)\n",
    "s"
   ]
  },
  {
   "cell_type": "code",
   "execution_count": 11,
   "id": "085d17ae",
   "metadata": {},
   "outputs": [
    {
     "data": {
      "text/plain": [
       "['', ' I love cats ', ' I love cow']"
      ]
     },
     "execution_count": 11,
     "metadata": {},
     "output_type": "execute_result"
    }
   ],
   "source": [
    "import re\n",
    "\n",
    "line = \"pet:cat I love cats pet:cow I love cow\"  \n",
    "s = re.split(r\"pet:\\w\\w\\w\", line)\n",
    "s\n"
   ]
  },
  {
   "cell_type": "code",
   "execution_count": 12,
   "id": "d4da09f3",
   "metadata": {},
   "outputs": [
    {
     "data": {
      "text/plain": [
       "'john@xyz.com and david@xyz.com'"
      ]
     },
     "execution_count": 12,
     "metadata": {},
     "output_type": "execute_result"
    }
   ],
   "source": [
    "#### replace funtion\n",
    "import re \n",
    "\n",
    "str1 = \"john@abc.com and david@pqr.com\"\n",
    "var = re.sub(r\"@\\w+\", \"@xyz\", str1)\n",
    "var\n",
    "\n",
    "# here we uses \"\\w\" for alphabet_number_and(_) and '+' for one or more matches and it will find \n",
    "# the character before the '.' because we have use '\\w' so '.' will not consider as character"
   ]
  },
  {
   "cell_type": "code",
   "execution_count": 13,
   "id": "610d1246",
   "metadata": {},
   "outputs": [
    {
     "data": {
      "text/plain": [
       "'john@xyz.com and david@xyz.com'"
      ]
     },
     "execution_count": 13,
     "metadata": {},
     "output_type": "execute_result"
    }
   ],
   "source": [
    "#### Re\n",
    "\n",
    "#### replace funtion\n",
    "import re \n",
    "\n",
    "str1 = \"john@a__bc.com and david@pq_r.com\"\n",
    "var = re.sub(r\"@\\w+\", \"@xyz\", str1)\n",
    "var\n",
    "\n",
    "# here we uses \"\\w\" for alphabet_number_and(_) and '+' for one or more matches and it will find \n",
    "# the character before the '.' because we have use '\\w' so '.' will not consider as character"
   ]
  },
  {
   "cell_type": "code",
   "execution_count": null,
   "id": "15a25d0d",
   "metadata": {},
   "outputs": [],
   "source": []
  }
 ],
 "metadata": {
  "kernelspec": {
   "display_name": "Python 3 (ipykernel)",
   "language": "python",
   "name": "python3"
  },
  "language_info": {
   "codemirror_mode": {
    "name": "ipython",
    "version": 3
   },
   "file_extension": ".py",
   "mimetype": "text/x-python",
   "name": "python",
   "nbconvert_exporter": "python",
   "pygments_lexer": "ipython3",
   "version": "3.9.7"
  }
 },
 "nbformat": 4,
 "nbformat_minor": 5
}
