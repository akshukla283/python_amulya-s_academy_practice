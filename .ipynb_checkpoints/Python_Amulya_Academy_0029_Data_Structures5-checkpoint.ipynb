{
 "cells": [
  {
   "cell_type": "markdown",
   "id": "61690b42",
   "metadata": {},
   "source": [
    "### Doubly Linked List | Data Structure\n",
    "\n",
    "#### Doubly Linked List\n",
    "`We add a pointer to the previous node in a doubly-linked list. Thus, we can go in either direction: forward or backward.`"
   ]
  },
  {
   "cell_type": "code",
   "execution_count": null,
   "id": "9f989caf",
   "metadata": {},
   "outputs": [],
   "source": []
  }
 ],
 "metadata": {
  "kernelspec": {
   "display_name": "Python 3",
   "language": "python",
   "name": "python3"
  },
  "language_info": {
   "codemirror_mode": {
    "name": "ipython",
    "version": 3
   },
   "file_extension": ".py",
   "mimetype": "text/x-python",
   "name": "python",
   "nbconvert_exporter": "python",
   "pygments_lexer": "ipython3",
   "version": "3.6.9"
  }
 },
 "nbformat": 4,
 "nbformat_minor": 5
}
