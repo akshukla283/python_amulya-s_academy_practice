{
 "cells": [
  {
   "cell_type": "markdown",
   "id": "0200599a",
   "metadata": {},
   "source": [
    "#### Armstrong Numbers \n",
    "\n",
    "number of `n` digit are equal to sum  on `nth` power of its `digits`."
   ]
  },
  {
   "cell_type": "code",
   "execution_count": 1,
   "id": "f7b1ad9b",
   "metadata": {},
   "outputs": [
    {
     "ename": "TypeError",
     "evalue": "object of type 'int' has no len()",
     "output_type": "error",
     "traceback": [
      "\u001b[1;31m---------------------------------------------------------------------------\u001b[0m",
      "\u001b[1;31mTypeError\u001b[0m                                 Traceback (most recent call last)",
      "\u001b[1;32m~\\AppData\\Local\\Temp/ipykernel_5472/2696498675.py\u001b[0m in \u001b[0;36m<module>\u001b[1;34m\u001b[0m\n\u001b[0;32m      1\u001b[0m \u001b[1;31m# important note --- we can find the length of any number by 'len' method.\u001b[0m\u001b[1;33m\u001b[0m\u001b[1;33m\u001b[0m\u001b[1;33m\u001b[0m\u001b[0m\n\u001b[1;32m----> 2\u001b[1;33m \u001b[0mlen\u001b[0m\u001b[1;33m(\u001b[0m\u001b[1;36m1234\u001b[0m\u001b[1;33m)\u001b[0m\u001b[1;33m\u001b[0m\u001b[1;33m\u001b[0m\u001b[0m\n\u001b[0m",
      "\u001b[1;31mTypeError\u001b[0m: object of type 'int' has no len()"
     ]
    }
   ],
   "source": [
    "# important note --- we can find the length of any number by 'len' method.\n",
    "len(1234)"
   ]
  },
  {
   "cell_type": "code",
   "execution_count": 2,
   "id": "1bf43540",
   "metadata": {},
   "outputs": [
    {
     "ename": "TypeError",
     "evalue": "object of type 'int' has no len()",
     "output_type": "error",
     "traceback": [
      "\u001b[1;31m---------------------------------------------------------------------------\u001b[0m",
      "\u001b[1;31mTypeError\u001b[0m                                 Traceback (most recent call last)",
      "\u001b[1;32m~\\AppData\\Local\\Temp/ipykernel_5472/2417786430.py\u001b[0m in \u001b[0;36m<module>\u001b[1;34m\u001b[0m\n\u001b[1;32m----> 1\u001b[1;33m \u001b[0mlen\u001b[0m\u001b[1;33m(\u001b[0m\u001b[1;33m(\u001b[0m\u001b[1;36m123\u001b[0m\u001b[1;33m)\u001b[0m\u001b[1;33m)\u001b[0m\u001b[1;33m\u001b[0m\u001b[1;33m\u001b[0m\u001b[0m\n\u001b[0m",
      "\u001b[1;31mTypeError\u001b[0m: object of type 'int' has no len()"
     ]
    }
   ],
   "source": [
    "len((123))"
   ]
  },
  {
   "cell_type": "code",
   "execution_count": 6,
   "id": "82876243",
   "metadata": {},
   "outputs": [
    {
     "data": {
      "text/plain": [
       "3"
      ]
     },
     "execution_count": 6,
     "metadata": {},
     "output_type": "execute_result"
    }
   ],
   "source": [
    "len(\"123\")"
   ]
  },
  {
   "cell_type": "code",
   "execution_count": 5,
   "id": "4e408208",
   "metadata": {},
   "outputs": [
    {
     "name": "stdout",
     "output_type": "stream",
     "text": [
      "1\n",
      "<class 'tuple'>\n"
     ]
    }
   ],
   "source": [
    "print(len((123,)) )# now it has become tuple\n",
    "print(type((123,)))"
   ]
  },
  {
   "cell_type": "code",
   "execution_count": 8,
   "id": "8dd8099b",
   "metadata": {},
   "outputs": [
    {
     "name": "stdout",
     "output_type": "stream",
     "text": [
      "0\n",
      "1\n",
      "2\n",
      "3\n",
      "4\n",
      "5\n",
      "6\n",
      "7\n",
      "8\n",
      "9\n",
      "153\n",
      "370\n",
      "371\n",
      "407\n"
     ]
    }
   ],
   "source": [
    "# Armstrong Numbers \n",
    "for i in range(1001):\n",
    "    num = i\n",
    "    result = 0\n",
    "    n = len(str(i))\n",
    "    while (i != 0):\n",
    "        digit = i % 10\n",
    "        result = result + digit**n\n",
    "        i = i //10\n",
    "    if num == result:\n",
    "        print(num)\n",
    "    "
   ]
  },
  {
   "cell_type": "code",
   "execution_count": 10,
   "id": "dd769e58",
   "metadata": {},
   "outputs": [
    {
     "name": "stdout",
     "output_type": "stream",
     "text": [
      "[0, 1, 2, 3, 4, 5, 6, 7, 8, 9, 153, 370, 371, 407]\n"
     ]
    }
   ],
   "source": [
    "Arm_num = []\n",
    "for i in range(1001):\n",
    "    num = i\n",
    "    result = 0\n",
    "    n = len(str(i))\n",
    "    while (i != 0):\n",
    "        digit = i % 10\n",
    "        result = result + digit**n\n",
    "        i = i //10\n",
    "    if num == result:\n",
    "        Arm_num.append(num)\n",
    "    \n",
    "print(Arm_num)       \n",
    "    "
   ]
  },
  {
   "cell_type": "code",
   "execution_count": 17,
   "id": "aa90d8d2",
   "metadata": {},
   "outputs": [
    {
     "name": "stdout",
     "output_type": "stream",
     "text": [
      "Please enter the number: 407\n",
      "407\n",
      "Number is an Armstrong Number\n"
     ]
    }
   ],
   "source": [
    "num = int(input(\"Please enter the number: \"))\n",
    "sum = 0\n",
    "str_num = str(num)\n",
    "n = len(str_num)\n",
    "for i in str_num:\n",
    "    sum = sum + int(i)**n\n",
    "if num == sum:\n",
    "    print(num)\n",
    "    print(\"Number is an Armstrong Number\")\n",
    "else:\n",
    "    print(\"Number is not an Armstrong Number\")"
   ]
  },
  {
   "cell_type": "code",
   "execution_count": 18,
   "id": "199be5c5",
   "metadata": {},
   "outputs": [],
   "source": [
    "# Factorial \n",
    "# factorial of Positive numbers\n",
    "\n",
    "\n",
    "# 5! = 5 x 4 x 3 x 2 x 1 \n",
    "# 5! = 5 * (5-1)! * (5-2) * (5-3)! * (5-4)!\n",
    "\n",
    "# using 1 - built-in funtion , 2- Recursion  3 - Iterative\n",
    "\n"
   ]
  },
  {
   "cell_type": "code",
   "execution_count": 21,
   "id": "4496077d",
   "metadata": {},
   "outputs": [
    {
     "name": "stdout",
     "output_type": "stream",
     "text": [
      "please enter the number: 5\n",
      "Factorial of the number is :  120\n"
     ]
    }
   ],
   "source": [
    "# built-in function\n",
    "\n",
    "n = int(input(\"please enter the number: \"))\n",
    "import math \n",
    "result = math.factorial(n)\n",
    "print(\"Factorial of the number is : \", result)"
   ]
  },
  {
   "cell_type": "code",
   "execution_count": 34,
   "id": "a11087ad",
   "metadata": {},
   "outputs": [
    {
     "name": "stdout",
     "output_type": "stream",
     "text": [
      "please enter the number: 4\n",
      "Factorial of 4 is :  24\n"
     ]
    }
   ],
   "source": [
    "# Recursion method (Positive function)\n",
    "\n",
    "# base case o! = 1\n",
    "# recursive case = n*(n-1)\n",
    "\n",
    "n = int(input(\"please enter the number: \"))\n",
    "def fact(num):\n",
    "    \n",
    "    if num == 0:\n",
    "        return 1\n",
    "    else:\n",
    "        return num*fact(num - 1)\n",
    "    \n",
    "print(\"Factorial of\", n ,\"is : \", fact(n))"
   ]
  },
  {
   "cell_type": "code",
   "execution_count": 32,
   "id": "d3453ff3",
   "metadata": {},
   "outputs": [
    {
     "name": "stdout",
     "output_type": "stream",
     "text": [
      "please enter the number: 4\n",
      "Factorial of 4 is :  24\n"
     ]
    }
   ],
   "source": [
    "### Iterative method\n",
    "\n",
    "n = int(input(\"please enter the number: \"))\n",
    "result = 1\n",
    "for i in range(n, 0, -1):\n",
    "    result = result*i\n",
    "    \n",
    "print(\"Factorial of\",n,\"is : \", result)"
   ]
  },
  {
   "cell_type": "markdown",
   "id": "9c23e665",
   "metadata": {},
   "source": [
    "#### Fibonacci Numbers Series:\n",
    "\n",
    "\n",
    "except first two (0 and 1) number in series, fibonacci series is sum of previous two numbers."
   ]
  },
  {
   "cell_type": "code",
   "execution_count": 37,
   "id": "463d705a",
   "metadata": {},
   "outputs": [
    {
     "name": "stdout",
     "output_type": "stream",
     "text": [
      "Enter how many number you want in this Fibonacci series: 10\n",
      "0 1 1 2 3 5 8 13 21 34 "
     ]
    }
   ],
   "source": [
    "# \n",
    "n = int(input(\"Enter how many number you want in this Fibonacci series: \"))\n",
    "first = 0\n",
    "second = 1\n",
    "\n",
    "for i in range(n):\n",
    "    print(first, end = \" \")\n",
    "    temp = first\n",
    "    first = second\n",
    "    second = temp + second\n",
    "    "
   ]
  },
  {
   "cell_type": "markdown",
   "id": "c63f820e",
   "metadata": {},
   "source": [
    "### Prime Numbers\n",
    "it is a nutural number greater than 1 that has no positive divisors other than 1 and itself."
   ]
  },
  {
   "cell_type": "code",
   "execution_count": 39,
   "id": "a640cb7b",
   "metadata": {},
   "outputs": [
    {
     "name": "stdout",
     "output_type": "stream",
     "text": [
      "Enter the lower interval: 1\n",
      "Enter the upper interval: 20\n",
      "2\n",
      "3\n",
      "5\n",
      "7\n",
      "11\n",
      "13\n",
      "17\n",
      "19\n"
     ]
    }
   ],
   "source": [
    "lower = int(input(\"Enter the lower interval: \"))\n",
    "upper = int(input(\"Enter the upper interval: \"))\n",
    "\n",
    "for num in range(lower, upper+1):\n",
    "    # we need to check whether the num is greater than 1 or not \n",
    "    if num>1:\n",
    "        # suppose we have 5 so we need to check wether 5 is divisible by 2,3,4 not 1, and 5\n",
    "        for i in range(2, num):\n",
    "            if(num%i) ==0:\n",
    "                break\n",
    "        else:\n",
    "            print(num)\n",
    "            \n",
    "    "
   ]
  },
  {
   "cell_type": "code",
   "execution_count": null,
   "id": "f4bb5b26",
   "metadata": {},
   "outputs": [],
   "source": [
    "# this is done for checking git \n",
    "# this is check for second update \n",
    "\n",
    "# this one is after creating 'mslap'\n",
    "\n",
    "# this time again made some changes"
   ]
  }
 ],
 "metadata": {
  "kernelspec": {
   "display_name": "Python 3 (ipykernel)",
   "language": "python",
   "name": "python3"
  },
  "language_info": {
   "codemirror_mode": {
    "name": "ipython",
    "version": 3
   },
   "file_extension": ".py",
   "mimetype": "text/x-python",
   "name": "python",
   "nbconvert_exporter": "python",
   "pygments_lexer": "ipython3",
   "version": "3.7.8"
  }
 },
 "nbformat": 4,
 "nbformat_minor": 5
}
