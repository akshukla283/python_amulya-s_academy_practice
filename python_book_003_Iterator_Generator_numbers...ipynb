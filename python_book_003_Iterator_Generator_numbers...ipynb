{
 "cells": [
  {
   "cell_type": "markdown",
   "id": "b1390e13",
   "metadata": {},
   "source": [
    "### Iterator and Generator\n",
    "\n",
    "#### Iterator :\n",
    "* iterrator is an object, which allows  programmer to traverse through all the elements of a collection, regardless of its specific implementation.\n",
    "\n",
    "* in python, an iterator object implements two methods, `iter()` and `next()`.\n",
    "\n",
    "* string, list, tuple objects used to create an iterator."
   ]
  },
  {
   "cell_type": "code",
   "execution_count": 1,
   "id": "d81198f1",
   "metadata": {},
   "outputs": [
    {
     "name": "stdout",
     "output_type": "stream",
     "text": [
      "1\n"
     ]
    }
   ],
   "source": [
    "list1 = [1,2,3,4]\n",
    "\n",
    "it = iter(list1)  # this builds an iterator object\n",
    "print(next(it))   # prints next available element in iterator"
   ]
  },
  {
   "cell_type": "code",
   "execution_count": 2,
   "id": "1523efb6",
   "metadata": {},
   "outputs": [
    {
     "name": "stdout",
     "output_type": "stream",
     "text": [
      "1 2 3 4 "
     ]
    }
   ],
   "source": [
    "# Iterator object can be traverse using regular for statement.\n",
    "\n",
    "\n",
    "list1 = [1,2,3,4]\n",
    "\n",
    "it = iter(list1)  # this builds an iterator object\n",
    "for x in it:\n",
    "    print(x, end = \" \")\n",
    "    \n",
    "    "
   ]
  },
  {
   "cell_type": "code",
   "execution_count": 5,
   "id": "1fa1c041",
   "metadata": {},
   "outputs": [
    {
     "name": "stdout",
     "output_type": "stream",
     "text": [
      "1\n",
      "2\n",
      "3\n",
      "4\n",
      "Elements in list is over!\n"
     ]
    }
   ],
   "source": [
    "list1 = [1,2,3,4]\n",
    "it = iter(list1)  # this builds an iterator object\n",
    "\n",
    "while True:\n",
    "    try:\n",
    "        print(next(it))\n",
    "        \n",
    "    except StopIteration:\n",
    "        \n",
    "        print(\"Elements in list is over!\")\n",
    "        break"
   ]
  },
  {
   "cell_type": "markdown",
   "id": "d2d5c462",
   "metadata": {},
   "source": [
    "#### Generator :\n",
    "* A generator is a function that produces or yields a sequence of values using yield method.\n",
    "\n",
    "* when a generator is called, it retruns a generator object without even beggining execution of the function. When next() method is called for the first time, the function start executing, until reaches the yield statement, which return the yielded value. The yield keeps track i.e remembers the last executoin and the second next() call continue from the previous value."
   ]
  },
  {
   "cell_type": "code",
   "execution_count": 7,
   "id": "9192b322",
   "metadata": {},
   "outputs": [
    {
     "name": "stdout",
     "output_type": "stream",
     "text": [
      "0 1 1 2 3 5 Iteration over!\n"
     ]
    }
   ],
   "source": [
    "def fibonacci(n):   # generator function\n",
    "    a, b, counter = 0, 1, 0\n",
    "    \n",
    "    while True:\n",
    "        if counter > n:\n",
    "            return \n",
    "        yield a\n",
    "        a , b = b, a+b # Important note- when we assign value in same line then a will be b and\n",
    "        # b will be b and if we assign in different line the a will be b and a+b will be b+b\n",
    "        counter += 1\n",
    "f = fibonacci(5)\n",
    "\n",
    "while True:\n",
    "    try:\n",
    "        print(next(f), end = \" \")\n",
    "    \n",
    "    except StopIteration:\n",
    "        print(\"Iteration over!\")\n",
    "        break   # to stop the 'while' loop."
   ]
  },
  {
   "cell_type": "code",
   "execution_count": 8,
   "id": "f752b783",
   "metadata": {},
   "outputs": [
    {
     "name": "stdout",
     "output_type": "stream",
     "text": [
      "20\n",
      "30\n"
     ]
    }
   ],
   "source": [
    "a = 10\n",
    "b = 20\n",
    "\n",
    "a, b = b, a+b\n",
    "\n",
    "print(a)\n",
    "print(b)"
   ]
  },
  {
   "cell_type": "code",
   "execution_count": 9,
   "id": "fe894a1b",
   "metadata": {},
   "outputs": [
    {
     "name": "stdout",
     "output_type": "stream",
     "text": [
      "20\n",
      "40\n"
     ]
    }
   ],
   "source": [
    "a = 10\n",
    "b = 20\n",
    "a = b\n",
    "b = a + b\n",
    "print(a)\n",
    "print(b)\n"
   ]
  },
  {
   "cell_type": "markdown",
   "id": "7a57e69f",
   "metadata": {},
   "source": [
    "here we can see that a = b but b is not a+b , it is now b+b because a = b"
   ]
  },
  {
   "cell_type": "code",
   "execution_count": null,
   "id": "4e166ce0",
   "metadata": {},
   "outputs": [],
   "source": []
  }
 ],
 "metadata": {
  "kernelspec": {
   "display_name": "Python 3 (ipykernel)",
   "language": "python",
   "name": "python3"
  },
  "language_info": {
   "codemirror_mode": {
    "name": "ipython",
    "version": 3
   },
   "file_extension": ".py",
   "mimetype": "text/x-python",
   "name": "python",
   "nbconvert_exporter": "python",
   "pygments_lexer": "ipython3",
   "version": "3.9.7"
  }
 },
 "nbformat": 4,
 "nbformat_minor": 5
}
