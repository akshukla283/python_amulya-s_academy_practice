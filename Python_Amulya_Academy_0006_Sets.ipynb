{
 "cells": [
  {
   "cell_type": "code",
   "execution_count": 1,
   "id": "14794293",
   "metadata": {},
   "outputs": [
    {
     "data": {
      "text/plain": [
       "'cat'"
      ]
     },
     "execution_count": 1,
     "metadata": {},
     "output_type": "execute_result"
    }
   ],
   "source": [
    "dict1 = {1:\"apple\", 2:\"ball\", 3:\"cat\"}\n",
    "dict2 = {\"o\":\"orange\"}\n",
    "\n",
    "dict1.get(3)"
   ]
  },
  {
   "cell_type": "markdown",
   "id": "ee655f31",
   "metadata": {},
   "source": [
    "### Looping with index\n"
   ]
  },
  {
   "cell_type": "code",
   "execution_count": 2,
   "id": "77f3b426",
   "metadata": {},
   "outputs": [
    {
     "name": "stdout",
     "output_type": "stream",
     "text": [
      "red\n",
      "blue\n",
      "yellow\n"
     ]
    }
   ],
   "source": [
    "color = ['red', 'blue', 'yellow']\n",
    "\n",
    "for i in color:\n",
    "    print(i)"
   ]
  },
  {
   "cell_type": "code",
   "execution_count": 3,
   "id": "e4d98450",
   "metadata": {},
   "outputs": [
    {
     "name": "stdout",
     "output_type": "stream",
     "text": [
      "0 red\n",
      "1 blue\n",
      "2 yellow\n"
     ]
    }
   ],
   "source": [
    "# using loop we can print only value in the list but when we want to print value and index as well\n",
    "# we can use range fuction and other build-in methods as well, let's fist do with range\n",
    "\n",
    "for i in range(len(color)):\n",
    "    print(i, color[i])"
   ]
  },
  {
   "cell_type": "code",
   "execution_count": 4,
   "id": "1ed3f62d",
   "metadata": {},
   "outputs": [
    {
     "data": {
      "text/plain": [
       "['red', 'blue', 'yellow']"
      ]
     },
     "execution_count": 4,
     "metadata": {},
     "output_type": "execute_result"
    }
   ],
   "source": [
    "# we can use 'enumerate' fucntion\n",
    "\n",
    "color "
   ]
  },
  {
   "cell_type": "markdown",
   "id": "96b5f08f",
   "metadata": {},
   "source": [
    "#### enumerate():\n",
    "\n",
    "The enumerate object yields pairs containing a count (from start, which\n",
    "defaults to zero) and a value yielded by the iterable argument.\n",
    "`syntax: enumerate(iterable, start=0)`"
   ]
  },
  {
   "cell_type": "code",
   "execution_count": 6,
   "id": "71568353",
   "metadata": {},
   "outputs": [
    {
     "name": "stdout",
     "output_type": "stream",
     "text": [
      "0 red\n",
      "1 blue\n",
      "2 yellow\n"
     ]
    }
   ],
   "source": [
    "color = ['red', 'blue', 'yellow']\n",
    "for i, j in enumerate(color):\n",
    "    print(i, j)"
   ]
  },
  {
   "cell_type": "code",
   "execution_count": 7,
   "id": "b1aeaa12",
   "metadata": {},
   "outputs": [
    {
     "name": "stdout",
     "output_type": "stream",
     "text": [
      "1 red\n",
      "2 blue\n",
      "3 yellow\n"
     ]
    }
   ],
   "source": [
    "# if you want that your index should start from 1 so we can pass start parameter\n",
    "\n",
    "for i, j in enumerate(color, 1):\n",
    "    print(i, j)"
   ]
  },
  {
   "cell_type": "code",
   "execution_count": 8,
   "id": "47e4a917",
   "metadata": {},
   "outputs": [
    {
     "name": "stdout",
     "output_type": "stream",
     "text": [
      "10 red\n",
      "11 blue\n",
      "12 yellow\n"
     ]
    }
   ],
   "source": [
    "for i, j in enumerate(color, 10):\n",
    "    print(i, j)"
   ]
  },
  {
   "cell_type": "markdown",
   "id": "b8a7393f",
   "metadata": {},
   "source": [
    "#### Set Data type\n",
    "\n",
    "set data type is mutable with not duplicate unordered value"
   ]
  },
  {
   "cell_type": "code",
   "execution_count": 9,
   "id": "90c36a17",
   "metadata": {},
   "outputs": [
    {
     "data": {
      "text/plain": [
       "{'apple', 'banana'}"
      ]
     },
     "execution_count": 9,
     "metadata": {},
     "output_type": "execute_result"
    }
   ],
   "source": [
    "fruits = {\"apple\", \"banana\"}\n",
    "fruits"
   ]
  },
  {
   "cell_type": "code",
   "execution_count": 10,
   "id": "8b8c83da",
   "metadata": {},
   "outputs": [
    {
     "data": {
      "text/plain": [
       "{'apple', 'banana', 'mango'}"
      ]
     },
     "execution_count": 10,
     "metadata": {},
     "output_type": "execute_result"
    }
   ],
   "source": [
    "fruits.add(\"mango\")\n",
    "fruits"
   ]
  },
  {
   "cell_type": "code",
   "execution_count": 11,
   "id": "5ff0a7c1",
   "metadata": {},
   "outputs": [
    {
     "data": {
      "text/plain": [
       "frozenset({'lion', 'tiger'})"
      ]
     },
     "execution_count": 11,
     "metadata": {},
     "output_type": "execute_result"
    }
   ],
   "source": [
    "# using frozen set we can make it imutable \n",
    "\n",
    "animals = frozenset([\"tiger\", \"lion\"])\n",
    "animals"
   ]
  },
  {
   "cell_type": "code",
   "execution_count": 12,
   "id": "458af9e5",
   "metadata": {},
   "outputs": [
    {
     "ename": "AttributeError",
     "evalue": "'frozenset' object has no attribute 'add'",
     "output_type": "error",
     "traceback": [
      "\u001b[1;31m---------------------------------------------------------------------------\u001b[0m",
      "\u001b[1;31mAttributeError\u001b[0m                            Traceback (most recent call last)",
      "Input \u001b[1;32mIn [12]\u001b[0m, in \u001b[0;36m<cell line: 1>\u001b[1;34m()\u001b[0m\n\u001b[1;32m----> 1\u001b[0m \u001b[43manimals\u001b[49m\u001b[38;5;241;43m.\u001b[39;49m\u001b[43madd\u001b[49m(\u001b[38;5;124m\"\u001b[39m\u001b[38;5;124mdog\u001b[39m\u001b[38;5;124m\"\u001b[39m)\n",
      "\u001b[1;31mAttributeError\u001b[0m: 'frozenset' object has no attribute 'add'"
     ]
    }
   ],
   "source": [
    "animals.add(\"dog\")"
   ]
  },
  {
   "cell_type": "code",
   "execution_count": 13,
   "id": "f6429485",
   "metadata": {},
   "outputs": [
    {
     "data": {
      "text/plain": [
       "frozenset({'apple', 'banana'})"
      ]
     },
     "execution_count": 13,
     "metadata": {},
     "output_type": "execute_result"
    }
   ],
   "source": [
    "fruits = {\"apple\", \"banana\"}\n",
    "fruits = frozenset(fruits)\n",
    "fruits"
   ]
  },
  {
   "cell_type": "code",
   "execution_count": 14,
   "id": "02768aa9",
   "metadata": {},
   "outputs": [
    {
     "ename": "AttributeError",
     "evalue": "'frozenset' object has no attribute 'add'",
     "output_type": "error",
     "traceback": [
      "\u001b[1;31m---------------------------------------------------------------------------\u001b[0m",
      "\u001b[1;31mAttributeError\u001b[0m                            Traceback (most recent call last)",
      "Input \u001b[1;32mIn [14]\u001b[0m, in \u001b[0;36m<cell line: 2>\u001b[1;34m()\u001b[0m\n\u001b[0;32m      1\u001b[0m \u001b[38;5;66;03m# now fruits has become frozenset means it is immutable now\u001b[39;00m\n\u001b[1;32m----> 2\u001b[0m \u001b[43mfruits\u001b[49m\u001b[38;5;241;43m.\u001b[39;49m\u001b[43madd\u001b[49m(\u001b[38;5;124m\"\u001b[39m\u001b[38;5;124mmango\u001b[39m\u001b[38;5;124m\"\u001b[39m)\n",
      "\u001b[1;31mAttributeError\u001b[0m: 'frozenset' object has no attribute 'add'"
     ]
    }
   ],
   "source": [
    "# now fruits has become frozenset means it is immutable now\n",
    "fruits.add(\"mango\")"
   ]
  },
  {
   "cell_type": "markdown",
   "id": "17ba6630",
   "metadata": {},
   "source": [
    "as we can see we can't edit a froenset"
   ]
  },
  {
   "cell_type": "code",
   "execution_count": 15,
   "id": "bb0af081",
   "metadata": {},
   "outputs": [
    {
     "data": {
      "text/plain": [
       "{1, 2, 3, 4, 5}"
      ]
     },
     "execution_count": 15,
     "metadata": {},
     "output_type": "execute_result"
    }
   ],
   "source": [
    "num = {1,2,2,2,3,3,4,4,5,5}\n",
    "\n",
    "num   # no duplicate allow"
   ]
  },
  {
   "cell_type": "code",
   "execution_count": 16,
   "id": "e70c3ade",
   "metadata": {},
   "outputs": [
    {
     "data": {
      "text/plain": [
       "dict"
      ]
     },
     "execution_count": 16,
     "metadata": {},
     "output_type": "execute_result"
    }
   ],
   "source": [
    "# empty set \n",
    "# if we use {} it will create dictionary\n",
    "\n",
    "empty_set = {}\n",
    "\n",
    "type(empty_set)"
   ]
  },
  {
   "cell_type": "code",
   "execution_count": 17,
   "id": "b26a85e8",
   "metadata": {},
   "outputs": [
    {
     "data": {
      "text/plain": [
       "set()"
      ]
     },
     "execution_count": 17,
     "metadata": {},
     "output_type": "execute_result"
    }
   ],
   "source": [
    "# now how to create an empty set use 'set()'\n",
    "\n",
    "empty_set = set()\n",
    "empty_set"
   ]
  },
  {
   "cell_type": "code",
   "execution_count": 18,
   "id": "e902b3b3",
   "metadata": {},
   "outputs": [
    {
     "data": {
      "text/plain": [
       "{1, 2, 3, 4}"
      ]
     },
     "execution_count": 18,
     "metadata": {},
     "output_type": "execute_result"
    }
   ],
   "source": [
    "# copy set \n",
    "\n",
    "num = {1,2,3,4}\n",
    "\n",
    "num1 = set(num)\n",
    "num1"
   ]
  },
  {
   "cell_type": "code",
   "execution_count": 21,
   "id": "b6934ec9",
   "metadata": {},
   "outputs": [
    {
     "data": {
      "text/plain": [
       "{1, 2, 3, 4, 5}"
      ]
     },
     "execution_count": 21,
     "metadata": {},
     "output_type": "execute_result"
    }
   ],
   "source": [
    "num1.add(5)\n",
    "num1"
   ]
  },
  {
   "cell_type": "code",
   "execution_count": 22,
   "id": "7d4a5f12",
   "metadata": {},
   "outputs": [
    {
     "data": {
      "text/plain": [
       "{1, 2, 3, 4}"
      ]
     },
     "execution_count": 22,
     "metadata": {},
     "output_type": "execute_result"
    }
   ],
   "source": [
    "num"
   ]
  },
  {
   "cell_type": "code",
   "execution_count": null,
   "id": "7633bbc6",
   "metadata": {},
   "outputs": [],
   "source": [
    "# no change in the set num from which set num1 has been copied."
   ]
  },
  {
   "cell_type": "markdown",
   "id": "aeeaaef5",
   "metadata": {},
   "source": [
    "#### Set Operations"
   ]
  },
  {
   "cell_type": "code",
   "execution_count": 23,
   "id": "4009a518",
   "metadata": {},
   "outputs": [
    {
     "data": {
      "text/plain": [
       "False"
      ]
     },
     "execution_count": 23,
     "metadata": {},
     "output_type": "execute_result"
    }
   ],
   "source": [
    "# membership operators\n",
    "\n",
    "set1 = {1,2,3,4,5,\"hello\"}\n",
    "\n",
    "6 in set1"
   ]
  },
  {
   "cell_type": "code",
   "execution_count": 24,
   "id": "d7276a90",
   "metadata": {},
   "outputs": [
    {
     "data": {
      "text/plain": [
       "True"
      ]
     },
     "execution_count": 24,
     "metadata": {},
     "output_type": "execute_result"
    }
   ],
   "source": [
    "4 in set1"
   ]
  },
  {
   "cell_type": "code",
   "execution_count": 25,
   "id": "4ecb09ed",
   "metadata": {},
   "outputs": [
    {
     "data": {
      "text/plain": [
       "{1, 2, 3, 4, 5, 'hello', 'world'}"
      ]
     },
     "execution_count": 25,
     "metadata": {},
     "output_type": "execute_result"
    }
   ],
   "source": [
    "# add \n",
    "\n",
    "set1.add(\"world\")\n",
    "set1"
   ]
  },
  {
   "cell_type": "code",
   "execution_count": 26,
   "id": "73a13828",
   "metadata": {},
   "outputs": [],
   "source": [
    "set1.add(6)"
   ]
  },
  {
   "cell_type": "code",
   "execution_count": 27,
   "id": "dc067f13",
   "metadata": {},
   "outputs": [
    {
     "data": {
      "text/plain": [
       "{1, 2, 3, 4, 5, 6, 'hello', 'world'}"
      ]
     },
     "execution_count": 27,
     "metadata": {},
     "output_type": "execute_result"
    }
   ],
   "source": [
    "set1"
   ]
  },
  {
   "cell_type": "code",
   "execution_count": 28,
   "id": "416262f1",
   "metadata": {},
   "outputs": [
    {
     "data": {
      "text/plain": [
       "{1, 2, 3, 4, 5, 'hello', 'world'}"
      ]
     },
     "execution_count": 28,
     "metadata": {},
     "output_type": "execute_result"
    }
   ],
   "source": [
    "# remove\n",
    "\n",
    "set1.remove(6)\n",
    "set1"
   ]
  },
  {
   "cell_type": "code",
   "execution_count": 29,
   "id": "af1b0510",
   "metadata": {},
   "outputs": [
    {
     "data": {
      "text/plain": [
       "{1, 2, 3, 4, 5, 'hello'}"
      ]
     },
     "execution_count": 29,
     "metadata": {},
     "output_type": "execute_result"
    }
   ],
   "source": [
    "set1.remove(\"world\")\n",
    "set1"
   ]
  },
  {
   "cell_type": "code",
   "execution_count": 30,
   "id": "7c5f3759",
   "metadata": {},
   "outputs": [],
   "source": [
    "set1 = {1,2,3,4,5}\n",
    "set2 = {1, \"apple\"}"
   ]
  },
  {
   "cell_type": "code",
   "execution_count": 34,
   "id": "5b35e479",
   "metadata": {},
   "outputs": [
    {
     "data": {
      "text/plain": [
       "{1, 2, 3, 4, 5, 'apple', 'hello'}"
      ]
     },
     "execution_count": 34,
     "metadata": {},
     "output_type": "execute_result"
    }
   ],
   "source": [
    "# |  union\n",
    "# we can use symbol '|' vertical bar as a union symbol and '.union()' method as well\n",
    "set1 = {1,2,3,4,5,\"hello\"}\n",
    "set2 = {1, \"apple\"}\n",
    "\n",
    "set1|set2"
   ]
  },
  {
   "cell_type": "code",
   "execution_count": 35,
   "id": "48078f52",
   "metadata": {},
   "outputs": [
    {
     "name": "stdout",
     "output_type": "stream",
     "text": [
      "{1, 2, 3, 4, 5, 'hello'}\n",
      "{1, 'apple'}\n"
     ]
    }
   ],
   "source": [
    "# now check set1 and set2\n",
    "print(set1)\n",
    "print(set2)"
   ]
  },
  {
   "cell_type": "code",
   "execution_count": 36,
   "id": "2e48a98c",
   "metadata": {},
   "outputs": [
    {
     "data": {
      "text/plain": [
       "{1, 2, 3, 4, 5, 'apple', 'hello'}"
      ]
     },
     "execution_count": 36,
     "metadata": {},
     "output_type": "execute_result"
    }
   ],
   "source": [
    "# means union operation give union of the both set as a temporary value and we can store them\n",
    "union_val= set1 | set2\n",
    "union_val"
   ]
  },
  {
   "cell_type": "code",
   "execution_count": 38,
   "id": "b9ead650",
   "metadata": {},
   "outputs": [
    {
     "data": {
      "text/plain": [
       "{1, 2, 3, 4, 5, 'apple', 'hello'}"
      ]
     },
     "execution_count": 38,
     "metadata": {},
     "output_type": "execute_result"
    }
   ],
   "source": [
    "# this time we will use .union() method to make union of the both set ''\n",
    "set1.union(set2)"
   ]
  },
  {
   "cell_type": "code",
   "execution_count": 39,
   "id": "9616bf58",
   "metadata": {},
   "outputs": [
    {
     "name": "stdout",
     "output_type": "stream",
     "text": [
      "{1, 2, 3, 4, 5, 'hello'}\n",
      "{1, 'apple'}\n"
     ]
    }
   ],
   "source": [
    "# let's check original sets once again\n",
    "print(set1)\n",
    "print(set2)"
   ]
  },
  {
   "cell_type": "code",
   "execution_count": 40,
   "id": "f3993eb6",
   "metadata": {},
   "outputs": [
    {
     "data": {
      "text/plain": [
       "set()"
      ]
     },
     "execution_count": 40,
     "metadata": {},
     "output_type": "execute_result"
    }
   ],
   "source": [
    "# clear  - it clear the sets means after using clear method we will get the empty set\n",
    "\n",
    "set1.clear()\n",
    "set1"
   ]
  },
  {
   "cell_type": "code",
   "execution_count": 42,
   "id": "a7a598b1",
   "metadata": {},
   "outputs": [
    {
     "data": {
      "text/plain": [
       "{1, 3}"
      ]
     },
     "execution_count": 42,
     "metadata": {},
     "output_type": "execute_result"
    }
   ],
   "source": [
    "## intersection  symbol is '&' --- return common value beteween both the sets, snd doesn't affect the\n",
    "#                                  original set.\n",
    "\n",
    "A = {1,2,3,4}\n",
    "B = {1,5,6,7,3}\n",
    "\n",
    "A & B   # 1,3 are common value "
   ]
  },
  {
   "cell_type": "code",
   "execution_count": 43,
   "id": "cae507d0",
   "metadata": {},
   "outputs": [
    {
     "data": {
      "text/plain": [
       "{1, 3}"
      ]
     },
     "execution_count": 43,
     "metadata": {},
     "output_type": "execute_result"
    }
   ],
   "source": [
    "# this time we will use intersection() method \n",
    "A.intersection(B)"
   ]
  },
  {
   "cell_type": "code",
   "execution_count": 44,
   "id": "269d1449",
   "metadata": {},
   "outputs": [
    {
     "data": {
      "text/plain": [
       "{2, 4}"
      ]
     },
     "execution_count": 44,
     "metadata": {},
     "output_type": "execute_result"
    }
   ],
   "source": [
    "# difference  '-' -- difference method return value which is not common in boththe set from which we\n",
    "#                    are going to subtract.and doen't affect the roiginal set.\n",
    "\n",
    "A - B"
   ]
  },
  {
   "cell_type": "code",
   "execution_count": 47,
   "id": "fd254172",
   "metadata": {},
   "outputs": [
    {
     "data": {
      "text/plain": [
       "{2, 4}"
      ]
     },
     "execution_count": 47,
     "metadata": {},
     "output_type": "execute_result"
    }
   ],
   "source": [
    "# .difference() this time we will use differece method.\n",
    "\n",
    "A = {1,2,3,4}\n",
    "B = {1,5,6,7,3}\n",
    "\n",
    "diff = A.difference(B)\n",
    "\n",
    "diff"
   ]
  },
  {
   "cell_type": "code",
   "execution_count": 48,
   "id": "a13cfb4f",
   "metadata": {},
   "outputs": [
    {
     "name": "stdout",
     "output_type": "stream",
     "text": [
      "{1, 2, 3, 4}\n",
      "{1, 3, 5, 6, 7}\n"
     ]
    }
   ],
   "source": [
    "# check original sets\n",
    "print(A)\n",
    "print(B)"
   ]
  },
  {
   "cell_type": "code",
   "execution_count": 49,
   "id": "5ca1e4c9",
   "metadata": {},
   "outputs": [
    {
     "data": {
      "text/plain": [
       "{5, 6, 7}"
      ]
     },
     "execution_count": 49,
     "metadata": {},
     "output_type": "execute_result"
    }
   ],
   "source": [
    "B - A # elements blongs to B"
   ]
  },
  {
   "cell_type": "code",
   "execution_count": 50,
   "id": "f40a5126",
   "metadata": {},
   "outputs": [
    {
     "data": {
      "text/plain": [
       "{2, 4}"
      ]
     },
     "execution_count": 50,
     "metadata": {},
     "output_type": "execute_result"
    }
   ],
   "source": [
    "A.difference(B)"
   ]
  },
  {
   "cell_type": "code",
   "execution_count": 51,
   "id": "f9875764",
   "metadata": {},
   "outputs": [
    {
     "data": {
      "text/plain": [
       "{5, 6, 7}"
      ]
     },
     "execution_count": 51,
     "metadata": {},
     "output_type": "execute_result"
    }
   ],
   "source": [
    "B.difference(A)"
   ]
  },
  {
   "cell_type": "code",
   "execution_count": 52,
   "id": "f3724b63",
   "metadata": {},
   "outputs": [
    {
     "data": {
      "text/plain": [
       "{2, 4, 5, 6, 7}"
      ]
     },
     "execution_count": 52,
     "metadata": {},
     "output_type": "execute_result"
    }
   ],
   "source": [
    "# symmetric difference  ' ^ '-- returns the values which are not common in both the sets.\n",
    "\n",
    "A = {1, 2, 3, 4}\n",
    "B = {1, 3, 5, 6, 7}\n",
    "\n",
    "A ^ B"
   ]
  },
  {
   "cell_type": "code",
   "execution_count": 53,
   "id": "d1aaabfa",
   "metadata": {},
   "outputs": [
    {
     "data": {
      "text/plain": [
       "{2, 4, 5, 6, 7}"
      ]
     },
     "execution_count": 53,
     "metadata": {},
     "output_type": "execute_result"
    }
   ],
   "source": [
    "A.symmetric_difference(B)"
   ]
  },
  {
   "cell_type": "code",
   "execution_count": 54,
   "id": "db7ad911",
   "metadata": {},
   "outputs": [
    {
     "data": {
      "text/plain": [
       "4"
      ]
     },
     "execution_count": 54,
     "metadata": {},
     "output_type": "execute_result"
    }
   ],
   "source": [
    "len(A)"
   ]
  },
  {
   "cell_type": "code",
   "execution_count": 55,
   "id": "8fa69875",
   "metadata": {},
   "outputs": [
    {
     "data": {
      "text/plain": [
       "5"
      ]
     },
     "execution_count": 55,
     "metadata": {},
     "output_type": "execute_result"
    }
   ],
   "source": [
    "len(B)"
   ]
  },
  {
   "cell_type": "code",
   "execution_count": 57,
   "id": "f48d28dc",
   "metadata": {},
   "outputs": [
    {
     "data": {
      "text/plain": [
       "{1, 2, 3, 4}"
      ]
     },
     "execution_count": 57,
     "metadata": {},
     "output_type": "execute_result"
    }
   ],
   "source": [
    "c = A.copy()\n",
    "c"
   ]
  },
  {
   "cell_type": "code",
   "execution_count": 58,
   "id": "b61f880e",
   "metadata": {},
   "outputs": [
    {
     "data": {
      "text/plain": [
       "{1, 2, 3, 4}"
      ]
     },
     "execution_count": 58,
     "metadata": {},
     "output_type": "execute_result"
    }
   ],
   "source": [
    "d = set(A)\n",
    "d"
   ]
  },
  {
   "cell_type": "code",
   "execution_count": 59,
   "id": "5c5a1155",
   "metadata": {},
   "outputs": [
    {
     "data": {
      "text/plain": [
       "{1, 2, 3, 4}"
      ]
     },
     "execution_count": 59,
     "metadata": {},
     "output_type": "execute_result"
    }
   ],
   "source": [
    "c "
   ]
  },
  {
   "cell_type": "code",
   "execution_count": 60,
   "id": "9aada32e",
   "metadata": {},
   "outputs": [
    {
     "data": {
      "text/plain": [
       "{1, 2, 3, 4}"
      ]
     },
     "execution_count": 60,
     "metadata": {},
     "output_type": "execute_result"
    }
   ],
   "source": [
    "d"
   ]
  },
  {
   "cell_type": "code",
   "execution_count": 61,
   "id": "97df7521",
   "metadata": {},
   "outputs": [
    {
     "data": {
      "text/plain": [
       "{1, 2, 3, 4}"
      ]
     },
     "execution_count": 61,
     "metadata": {},
     "output_type": "execute_result"
    }
   ],
   "source": [
    "A"
   ]
  },
  {
   "cell_type": "code",
   "execution_count": 62,
   "id": "c51b55fa",
   "metadata": {},
   "outputs": [
    {
     "data": {
      "text/plain": [
       "{1, 3, 5, 6, 7}"
      ]
     },
     "execution_count": 62,
     "metadata": {},
     "output_type": "execute_result"
    }
   ],
   "source": [
    "B"
   ]
  },
  {
   "cell_type": "code",
   "execution_count": 68,
   "id": "361e87a8",
   "metadata": {},
   "outputs": [],
   "source": [
    "# difference_update() method update the difference value into the set from which we want to subtract\n",
    "A = {1, 2, 3, 4}\n",
    "B = {1, 3, 5, 6, 7}\n",
    "\n",
    "A.difference_update(B)"
   ]
  },
  {
   "cell_type": "code",
   "execution_count": 69,
   "id": "eba00c4d",
   "metadata": {},
   "outputs": [
    {
     "data": {
      "text/plain": [
       "{2, 4}"
      ]
     },
     "execution_count": 69,
     "metadata": {},
     "output_type": "execute_result"
    }
   ],
   "source": [
    "A"
   ]
  },
  {
   "cell_type": "code",
   "execution_count": 70,
   "id": "db6e58bb",
   "metadata": {},
   "outputs": [
    {
     "data": {
      "text/plain": [
       "{1, 3, 5, 6, 7}"
      ]
     },
     "execution_count": 70,
     "metadata": {},
     "output_type": "execute_result"
    }
   ],
   "source": [
    "B"
   ]
  },
  {
   "cell_type": "code",
   "execution_count": 80,
   "id": "fab0853d",
   "metadata": {},
   "outputs": [],
   "source": [
    "# let's again define A\n",
    "A = {1,2,3,4}\n",
    "B = {1,2,4,5,6,7,\"a\"}"
   ]
  },
  {
   "cell_type": "code",
   "execution_count": 81,
   "id": "568c4601",
   "metadata": {},
   "outputs": [],
   "source": [
    "# symmetric_difference_update() method update the symmetric_difference value to the set from which we\n",
    "# want to get difference\n",
    "B.symmetric_difference_update(A)\n",
    "\n",
    "# means the values which are not common between A and B will be updated into B"
   ]
  },
  {
   "cell_type": "code",
   "execution_count": 82,
   "id": "73c99115",
   "metadata": {},
   "outputs": [
    {
     "data": {
      "text/plain": [
       "{3, 5, 6, 7, 'a'}"
      ]
     },
     "execution_count": 82,
     "metadata": {},
     "output_type": "execute_result"
    }
   ],
   "source": [
    "B"
   ]
  },
  {
   "cell_type": "code",
   "execution_count": 83,
   "id": "0c0f1c29",
   "metadata": {},
   "outputs": [
    {
     "data": {
      "text/plain": [
       "{1, 2, 3, 4}"
      ]
     },
     "execution_count": 83,
     "metadata": {},
     "output_type": "execute_result"
    }
   ],
   "source": [
    "A"
   ]
  },
  {
   "cell_type": "code",
   "execution_count": 84,
   "id": "c38d1cd9",
   "metadata": {},
   "outputs": [],
   "source": [
    "# let's again define A\n",
    "A = {1,2,3,4}\n",
    "B = {1,2,4,5,6,7,\"a\"}"
   ]
  },
  {
   "cell_type": "code",
   "execution_count": 85,
   "id": "20d7996d",
   "metadata": {},
   "outputs": [],
   "source": [
    "B.difference_update(A)"
   ]
  },
  {
   "cell_type": "code",
   "execution_count": 86,
   "id": "0801f40d",
   "metadata": {},
   "outputs": [
    {
     "data": {
      "text/plain": [
       "{5, 6, 7, 'a'}"
      ]
     },
     "execution_count": 86,
     "metadata": {},
     "output_type": "execute_result"
    }
   ],
   "source": [
    "B"
   ]
  },
  {
   "cell_type": "markdown",
   "id": "7f049e46",
   "metadata": {},
   "source": [
    "#### discard \n",
    "- Remove an element from a set if it is a member.\n",
    "\n",
    "- If the element is not a member, do nothing."
   ]
  },
  {
   "cell_type": "code",
   "execution_count": 87,
   "id": "505e75b0",
   "metadata": {},
   "outputs": [
    {
     "data": {
      "text/plain": [
       "{1, 2, 3}"
      ]
     },
     "execution_count": 87,
     "metadata": {},
     "output_type": "execute_result"
    }
   ],
   "source": [
    "A = {1,2,3,4}\n",
    "A.discard(4)\n",
    "A"
   ]
  },
  {
   "cell_type": "code",
   "execution_count": 89,
   "id": "b7f00fe5",
   "metadata": {},
   "outputs": [
    {
     "name": "stdout",
     "output_type": "stream",
     "text": [
      "None\n"
     ]
    }
   ],
   "source": [
    "A = {1,2,3,4}\n",
    "stored = A.discard(4)\n",
    "print(stored)\n",
    "# means Discard method affect the original set and return nothing "
   ]
  },
  {
   "cell_type": "code",
   "execution_count": 90,
   "id": "9738eb6f",
   "metadata": {},
   "outputs": [
    {
     "data": {
      "text/plain": [
       "{1, 2, 3, 4}"
      ]
     },
     "execution_count": 90,
     "metadata": {},
     "output_type": "execute_result"
    }
   ],
   "source": [
    "# Let's try to discard a value from set which is not a part of the set \n",
    "A = {1,2,3,4}\n",
    "A.discard(8)\n",
    "A"
   ]
  },
  {
   "cell_type": "markdown",
   "id": "32948664",
   "metadata": {},
   "source": [
    "As we can see nothing happened when we discard the value '8' which is not a part of the set 'A' but when we try other method to remove the element which is not a part of the set will through an error"
   ]
  },
  {
   "cell_type": "code",
   "execution_count": 91,
   "id": "2c00333a",
   "metadata": {},
   "outputs": [
    {
     "ename": "KeyError",
     "evalue": "8",
     "output_type": "error",
     "traceback": [
      "\u001b[1;31m---------------------------------------------------------------------------\u001b[0m",
      "\u001b[1;31mKeyError\u001b[0m                                  Traceback (most recent call last)",
      "Input \u001b[1;32mIn [91]\u001b[0m, in \u001b[0;36m<cell line: 2>\u001b[1;34m()\u001b[0m\n\u001b[0;32m      1\u001b[0m A \u001b[38;5;241m=\u001b[39m {\u001b[38;5;241m1\u001b[39m,\u001b[38;5;241m2\u001b[39m,\u001b[38;5;241m3\u001b[39m,\u001b[38;5;241m4\u001b[39m}\n\u001b[1;32m----> 2\u001b[0m \u001b[43mA\u001b[49m\u001b[38;5;241;43m.\u001b[39;49m\u001b[43mremove\u001b[49m\u001b[43m(\u001b[49m\u001b[38;5;241;43m8\u001b[39;49m\u001b[43m)\u001b[49m\n\u001b[0;32m      3\u001b[0m A\n",
      "\u001b[1;31mKeyError\u001b[0m: 8"
     ]
    }
   ],
   "source": [
    "A = {1,2,3,4}\n",
    "A.remove(8)\n",
    "A"
   ]
  },
  {
   "cell_type": "markdown",
   "id": "eaa10c0d",
   "metadata": {},
   "source": [
    "As we already said that whenever we try to remove an element from the set which is not a part of the set will through an error expect 'discard()' method."
   ]
  },
  {
   "cell_type": "code",
   "execution_count": 95,
   "id": "724e47a2",
   "metadata": {},
   "outputs": [
    {
     "data": {
      "text/plain": [
       "{2}"
      ]
     },
     "execution_count": 95,
     "metadata": {},
     "output_type": "execute_result"
    }
   ],
   "source": [
    "A = {1,2}\n",
    "A.pop()\n",
    "A"
   ]
  },
  {
   "cell_type": "code",
   "execution_count": 96,
   "id": "56959e7f",
   "metadata": {},
   "outputs": [
    {
     "data": {
      "text/plain": [
       "2"
      ]
     },
     "execution_count": 96,
     "metadata": {},
     "output_type": "execute_result"
    }
   ],
   "source": [
    "A.pop()"
   ]
  },
  {
   "cell_type": "code",
   "execution_count": 97,
   "id": "a7010574",
   "metadata": {},
   "outputs": [
    {
     "data": {
      "text/plain": [
       "set()"
      ]
     },
     "execution_count": 97,
     "metadata": {},
     "output_type": "execute_result"
    }
   ],
   "source": [
    "A"
   ]
  },
  {
   "cell_type": "code",
   "execution_count": 98,
   "id": "a8452f55",
   "metadata": {},
   "outputs": [
    {
     "ename": "KeyError",
     "evalue": "'pop from an empty set'",
     "output_type": "error",
     "traceback": [
      "\u001b[1;31m---------------------------------------------------------------------------\u001b[0m",
      "\u001b[1;31mKeyError\u001b[0m                                  Traceback (most recent call last)",
      "Input \u001b[1;32mIn [98]\u001b[0m, in \u001b[0;36m<cell line: 1>\u001b[1;34m()\u001b[0m\n\u001b[1;32m----> 1\u001b[0m \u001b[43mA\u001b[49m\u001b[38;5;241;43m.\u001b[39;49m\u001b[43mpop\u001b[49m\u001b[43m(\u001b[49m\u001b[43m)\u001b[49m\n",
      "\u001b[1;31mKeyError\u001b[0m: 'pop from an empty set'"
     ]
    }
   ],
   "source": [
    "A.pop()"
   ]
  },
  {
   "cell_type": "code",
   "execution_count": 99,
   "id": "1269764b",
   "metadata": {},
   "outputs": [],
   "source": [
    "A.discard(2)"
   ]
  },
  {
   "cell_type": "code",
   "execution_count": 100,
   "id": "f8c2c808",
   "metadata": {},
   "outputs": [
    {
     "ename": "TypeError",
     "evalue": "set.pop() takes no arguments (1 given)",
     "output_type": "error",
     "traceback": [
      "\u001b[1;31m---------------------------------------------------------------------------\u001b[0m",
      "\u001b[1;31mTypeError\u001b[0m                                 Traceback (most recent call last)",
      "Input \u001b[1;32mIn [100]\u001b[0m, in \u001b[0;36m<cell line: 2>\u001b[1;34m()\u001b[0m\n\u001b[0;32m      1\u001b[0m A \u001b[38;5;241m=\u001b[39m {\u001b[38;5;241m1\u001b[39m,\u001b[38;5;241m2\u001b[39m,\u001b[38;5;241m3\u001b[39m}\n\u001b[1;32m----> 2\u001b[0m \u001b[43mA\u001b[49m\u001b[38;5;241;43m.\u001b[39;49m\u001b[43mpop\u001b[49m\u001b[43m(\u001b[49m\u001b[38;5;241;43m3\u001b[39;49m\u001b[43m)\u001b[49m\n",
      "\u001b[1;31mTypeError\u001b[0m: set.pop() takes no arguments (1 given)"
     ]
    }
   ],
   "source": [
    "A = {1,2,3}\n",
    "A.pop(3)"
   ]
  },
  {
   "cell_type": "markdown",
   "id": "2900e4fa",
   "metadata": {},
   "source": [
    "#### Note -  \n",
    "* in sets pop() method doesn't take an argument like in lists as a index value."
   ]
  },
  {
   "cell_type": "markdown",
   "id": "520459e3",
   "metadata": {},
   "source": [
    "#### isdisjoint()\n",
    "- Return True if two sets have a null intersection."
   ]
  },
  {
   "cell_type": "code",
   "execution_count": 102,
   "id": "b46aaae3",
   "metadata": {},
   "outputs": [
    {
     "data": {
      "text/plain": [
       "True"
      ]
     },
     "execution_count": 102,
     "metadata": {},
     "output_type": "execute_result"
    }
   ],
   "source": [
    "A = {3,9,20}\n",
    "B = {4,5,6,7,\"a\"}\n",
    "\n",
    "A.isdisjoint(B)"
   ]
  },
  {
   "cell_type": "code",
   "execution_count": 103,
   "id": "f838b3d6",
   "metadata": {},
   "outputs": [
    {
     "data": {
      "text/plain": [
       "False"
      ]
     },
     "execution_count": 103,
     "metadata": {},
     "output_type": "execute_result"
    }
   ],
   "source": [
    "A = {3,9,20}\n",
    "B = {4,5,20,\"a\"}\n",
    "\n",
    "A.isdisjoint(B)"
   ]
  },
  {
   "cell_type": "markdown",
   "id": "dedd9900",
   "metadata": {},
   "source": [
    "we can see that there is one common value means intersection is 20, that is why it returned False."
   ]
  },
  {
   "cell_type": "markdown",
   "id": "1217f519",
   "metadata": {},
   "source": [
    "### issubset()\n",
    "- Report whether another set contains this set. means a complete set is a part of a specific set."
   ]
  },
  {
   "cell_type": "code",
   "execution_count": 104,
   "id": "b24f6635",
   "metadata": {},
   "outputs": [
    {
     "data": {
      "text/plain": [
       "True"
      ]
     },
     "execution_count": 104,
     "metadata": {},
     "output_type": "execute_result"
    }
   ],
   "source": [
    "A = {1,2,3}\n",
    "B = {1,2,3,4,5,6}\n",
    "\n",
    "A.issubset(B)\n",
    "\n",
    "# here set A is the part of Set B"
   ]
  },
  {
   "cell_type": "code",
   "execution_count": 107,
   "id": "0b1e6c82",
   "metadata": {},
   "outputs": [
    {
     "data": {
      "text/plain": [
       "False"
      ]
     },
     "execution_count": 107,
     "metadata": {},
     "output_type": "execute_result"
    }
   ],
   "source": [
    "A = {1,2,3,4,5,6,7}\n",
    "B = {1,2,3}\n",
    "\n",
    "A.issubset(B)\n"
   ]
  },
  {
   "cell_type": "code",
   "execution_count": 106,
   "id": "97281786",
   "metadata": {},
   "outputs": [
    {
     "data": {
      "text/plain": [
       "False"
      ]
     },
     "execution_count": 106,
     "metadata": {},
     "output_type": "execute_result"
    }
   ],
   "source": [
    "A = {1,2,3,9}\n",
    "B = {1,2,3,4,5,6}\n",
    "\n",
    "A.issubset(B)\n",
    "\n",
    "# as we added 9 which is not in Set B so all elements of Set A is not inside Set B means not a subset"
   ]
  },
  {
   "cell_type": "code",
   "execution_count": null,
   "id": "88c6ad0c",
   "metadata": {},
   "outputs": [],
   "source": [
    "#### issuperset()\n",
    "- Report whether this set contains another set. Means a specific set is inside a normal set "
   ]
  },
  {
   "cell_type": "code",
   "execution_count": 108,
   "id": "74d4a1da",
   "metadata": {},
   "outputs": [
    {
     "data": {
      "text/plain": [
       "True"
      ]
     },
     "execution_count": 108,
     "metadata": {},
     "output_type": "execute_result"
    }
   ],
   "source": [
    "A = {1,2,3,4,5,6,7,8,9}\n",
    "B = {1,2,3,4,5,6}\n",
    "\n",
    "A.issuperset(B)"
   ]
  },
  {
   "cell_type": "markdown",
   "id": "9ccc8368",
   "metadata": {},
   "source": [
    "Means set B's complete elements in in set A "
   ]
  }
 ],
 "metadata": {
  "kernelspec": {
   "display_name": "Python 3 (ipykernel)",
   "language": "python",
   "name": "python3"
  },
  "language_info": {
   "codemirror_mode": {
    "name": "ipython",
    "version": 3
   },
   "file_extension": ".py",
   "mimetype": "text/x-python",
   "name": "python",
   "nbconvert_exporter": "python",
   "pygments_lexer": "ipython3",
   "version": "3.9.7"
  }
 },
 "nbformat": 4,
 "nbformat_minor": 5
}
