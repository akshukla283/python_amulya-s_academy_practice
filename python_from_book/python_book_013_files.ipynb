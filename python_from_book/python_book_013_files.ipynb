{
 "cells": [
  {
   "cell_type": "code",
   "execution_count": 1,
   "id": "ff8c7d9b",
   "metadata": {},
   "outputs": [
    {
     "name": "stdout",
     "output_type": "stream",
     "text": [
      "Python is really a great language, isn't it\n"
     ]
    }
   ],
   "source": [
    "print(\"Python is really a great language, isn't it\")"
   ]
  },
  {
   "cell_type": "markdown",
   "id": "ee4f20e9",
   "metadata": {},
   "source": [
    "### Opening and Closing Files\n",
    "\n",
    "`syntax:\n",
    "\n",
    "file object = open(file_name [, access_mode][, buffering])`\n",
    "\n",
    "#### The file Object Attributes\n",
    "\n",
    "* file.closed - Return true if file is closed, false otherwise.\n",
    "\n",
    "* file.mode - Return access mode with which file was opend.\n",
    "\n",
    "* file.name - Return name of file "
   ]
  },
  {
   "cell_type": "code",
   "execution_count": 1,
   "id": "424fd695",
   "metadata": {},
   "outputs": [
    {
     "name": "stdout",
     "output_type": "stream",
     "text": [
      "Name of the file :  foo.txt\n"
     ]
    }
   ],
   "source": [
    "# open a file \n",
    "\n",
    "file = open(\"foo.txt\", \"wb\")\n",
    "\n",
    "print(\"Name of the file : \", file.name)"
   ]
  },
  {
   "cell_type": "code",
   "execution_count": 2,
   "id": "0f7d6907",
   "metadata": {},
   "outputs": [
    {
     "name": "stdout",
     "output_type": "stream",
     "text": [
      "Closed or not:  False\n"
     ]
    }
   ],
   "source": [
    "print('Closed or not: ', file.closed)"
   ]
  },
  {
   "cell_type": "code",
   "execution_count": 3,
   "id": "f8a4c0f8",
   "metadata": {},
   "outputs": [
    {
     "name": "stdout",
     "output_type": "stream",
     "text": [
      "Opening mode :  wb\n"
     ]
    }
   ],
   "source": [
    "print(\"Opening mode : \", file.mode)"
   ]
  },
  {
   "cell_type": "code",
   "execution_count": 4,
   "id": "27496ffa",
   "metadata": {},
   "outputs": [],
   "source": [
    "file.close()"
   ]
  },
  {
   "cell_type": "code",
   "execution_count": 5,
   "id": "e6fb373c",
   "metadata": {},
   "outputs": [
    {
     "name": "stdout",
     "output_type": "stream",
     "text": [
      "Closed or not:  True\n"
     ]
    }
   ],
   "source": [
    "print('Closed or not: ', file.closed)"
   ]
  },
  {
   "cell_type": "markdown",
   "id": "2b756cc3",
   "metadata": {},
   "source": [
    "### close() Method"
   ]
  },
  {
   "cell_type": "code",
   "execution_count": 6,
   "id": "ae8d22dc",
   "metadata": {},
   "outputs": [
    {
     "name": "stdout",
     "output_type": "stream",
     "text": [
      "Name of file :  foo.txt\n"
     ]
    }
   ],
   "source": [
    "file = open('foo.txt', 'wb')\n",
    "print(\"Name of file : \", file.name)\n",
    "# close opened file\n",
    "\n",
    "file.close()"
   ]
  },
  {
   "cell_type": "code",
   "execution_count": 7,
   "id": "a905369b",
   "metadata": {},
   "outputs": [
    {
     "name": "stdout",
     "output_type": "stream",
     "text": [
      "Closed or not:  True\n"
     ]
    }
   ],
   "source": [
    "print('Closed or not: ', file.closed)"
   ]
  },
  {
   "cell_type": "markdown",
   "id": "adc2c29a",
   "metadata": {},
   "source": [
    "### The write() Method"
   ]
  },
  {
   "cell_type": "code",
   "execution_count": 9,
   "id": "52801786",
   "metadata": {},
   "outputs": [],
   "source": [
    "file = open(\"foo.txt\", 'w')\n",
    "\n",
    "file.write(\"Python is a great language. \\nYeah its great!!\\n\")\n",
    "file.close()"
   ]
  },
  {
   "cell_type": "markdown",
   "id": "3a25eeef",
   "metadata": {},
   "source": [
    "### The read() Method\n",
    "\n",
    "`syntax: \n",
    "\n",
    "fileobject.read([count])`"
   ]
  },
  {
   "cell_type": "code",
   "execution_count": 10,
   "id": "904d1644",
   "metadata": {},
   "outputs": [
    {
     "name": "stdout",
     "output_type": "stream",
     "text": [
      "Read string is :  Python is \n"
     ]
    }
   ],
   "source": [
    "file = open(\"foo.txt\", 'r+')\n",
    "\n",
    "str1 = file.read(10)\n",
    "print(\"Read string is : \", str1)\n",
    "\n",
    "file.close()"
   ]
  },
  {
   "cell_type": "markdown",
   "id": "a17414ab",
   "metadata": {},
   "source": [
    "### File Position\n",
    "\n",
    "* `tell()` method - tells us the current position within file\n",
    "\n",
    "* `seek(offset[, from])`  - method changes the current file position. The offset argument indicates the number of bytes to be moved .\n",
    "\n",
    "\n",
    "\n"
   ]
  },
  {
   "cell_type": "code",
   "execution_count": 11,
   "id": "43837930",
   "metadata": {},
   "outputs": [
    {
     "name": "stdout",
     "output_type": "stream",
     "text": [
      "Read string is :  Python is \n"
     ]
    }
   ],
   "source": [
    "file = open(\"foo.txt\", \"r+\")\n",
    "\n",
    "str1 = file.read(10)\n",
    "print(\"Read string is : \", str1)\n"
   ]
  },
  {
   "cell_type": "code",
   "execution_count": 12,
   "id": "732fd064",
   "metadata": {},
   "outputs": [
    {
     "name": "stdout",
     "output_type": "stream",
     "text": [
      "Current position of pointer :  10\n"
     ]
    }
   ],
   "source": [
    "# checking current position of the pointer\n",
    "position  = file.tell()\n",
    "print(\"Current position of pointer : \", position)"
   ]
  },
  {
   "cell_type": "code",
   "execution_count": 13,
   "id": "62601a17",
   "metadata": {},
   "outputs": [
    {
     "name": "stdout",
     "output_type": "stream",
     "text": [
      "Again read string is :  Python is \n"
     ]
    }
   ],
   "source": [
    "# reposition pointer at the beginning once again\n",
    "#  file.seek(cookie, whence=0, /)\n",
    "\n",
    "\n",
    "position = file.seek(0, 0)\n",
    "\n",
    "str1 = file.read(10)\n",
    "print(\"Again read string is : \", str1)"
   ]
  },
  {
   "cell_type": "code",
   "execution_count": 14,
   "id": "bc2c18d0",
   "metadata": {},
   "outputs": [],
   "source": [
    "file.close()"
   ]
  },
  {
   "cell_type": "markdown",
   "id": "55d5dfd3",
   "metadata": {},
   "source": [
    "### Renaming and Deleting files \n",
    "\n",
    "Python `os` module provides methods that help us perform file-processing operatios, such as renaming and deleting files.\n"
   ]
  },
  {
   "cell_type": "code",
   "execution_count": 15,
   "id": "c51b1953",
   "metadata": {},
   "outputs": [],
   "source": [
    "# first let's open a file then perform actions on that\n",
    "\n",
    "file = open(\"text1.txt\", 'w')\n",
    "file.write(\"Hello World!, Welcome to the Python world.\")\n",
    "file.close()"
   ]
  },
  {
   "cell_type": "code",
   "execution_count": 16,
   "id": "928833b8",
   "metadata": {},
   "outputs": [],
   "source": [
    "### rename \n",
    "\n",
    "import os\n",
    "\n",
    "os.rename('text1.txt', \"text2.txt\")"
   ]
  },
  {
   "cell_type": "markdown",
   "id": "a9c10cfa",
   "metadata": {},
   "source": [
    "now we can check, and will find that file name has been changed"
   ]
  },
  {
   "cell_type": "code",
   "execution_count": 17,
   "id": "e6266de7",
   "metadata": {},
   "outputs": [],
   "source": [
    "# remove the file \n",
    "\n",
    "import os\n",
    "\n",
    "os.remove('text2.txt')"
   ]
  },
  {
   "cell_type": "markdown",
   "id": "05b1ddd9",
   "metadata": {},
   "source": [
    "now file has been removed."
   ]
  },
  {
   "cell_type": "markdown",
   "id": "4ab67359",
   "metadata": {},
   "source": [
    "### Directories in Python \n",
    "\n",
    "* 'mkdir()' the os method mkdir() create directories in current directory."
   ]
  },
  {
   "cell_type": "code",
   "execution_count": 18,
   "id": "80b9e6e8",
   "metadata": {},
   "outputs": [],
   "source": [
    "# new directory\n",
    "\n",
    "import os\n",
    "\n",
    "os.mkdir(\"test\")"
   ]
  },
  {
   "cell_type": "markdown",
   "id": "a1932ec4",
   "metadata": {},
   "source": [
    "now the new 'test' directory has been created."
   ]
  },
  {
   "cell_type": "markdown",
   "id": "d75e5604",
   "metadata": {},
   "source": [
    "### The getcwd() Method\n",
    "\n",
    "the getcwd() method displays the current working directories.\n",
    "\n"
   ]
  },
  {
   "cell_type": "code",
   "execution_count": 19,
   "id": "be11e3e2",
   "metadata": {},
   "outputs": [
    {
     "data": {
      "text/plain": [
       "'E:\\\\Python_world\\\\python_amulya-s_academy_practice\\\\python_from_book'"
      ]
     },
     "execution_count": 19,
     "metadata": {},
     "output_type": "execute_result"
    }
   ],
   "source": [
    "import os \n",
    "\n",
    "os.getcwd()"
   ]
  },
  {
   "cell_type": "code",
   "execution_count": null,
   "id": "283dfc7b",
   "metadata": {},
   "outputs": [],
   "source": []
  },
  {
   "cell_type": "markdown",
   "id": "85bcbbb5",
   "metadata": {},
   "source": [
    "### The chdir() Method\n",
    "\n",
    "we can change from current directory to other directory by passing the path of that directory.\n",
    "\n",
    "`os.chdir(\"new_dir\")`"
   ]
  },
  {
   "cell_type": "code",
   "execution_count": 20,
   "id": "e035fe50",
   "metadata": {},
   "outputs": [],
   "source": [
    "# if want to change from current directory to one step to other directory then we can use './'\n",
    "# and if more nested then provide complete path of that\n",
    "\n",
    "import os\n",
    "os.chdir(\"./test/\")"
   ]
  },
  {
   "cell_type": "code",
   "execution_count": 21,
   "id": "cc515a74",
   "metadata": {},
   "outputs": [
    {
     "data": {
      "text/plain": [
       "'E:\\\\Python_world\\\\python_amulya-s_academy_practice\\\\python_from_book\\\\test'"
      ]
     },
     "execution_count": 21,
     "metadata": {},
     "output_type": "execute_result"
    }
   ],
   "source": [
    "os.getcwd()"
   ]
  },
  {
   "cell_type": "markdown",
   "id": "d780819b",
   "metadata": {},
   "source": [
    "As we can see that we swithed into to test directory and let's go back to prevoius dir and come back here by using full path."
   ]
  },
  {
   "cell_type": "code",
   "execution_count": 22,
   "id": "66617c83",
   "metadata": {},
   "outputs": [],
   "source": [
    "import os\n",
    "os.chdir(\"../\")"
   ]
  },
  {
   "cell_type": "code",
   "execution_count": 23,
   "id": "73f04274",
   "metadata": {},
   "outputs": [
    {
     "data": {
      "text/plain": [
       "'E:\\\\Python_world\\\\python_amulya-s_academy_practice\\\\python_from_book'"
      ]
     },
     "execution_count": 23,
     "metadata": {},
     "output_type": "execute_result"
    }
   ],
   "source": [
    "os.getcwd()"
   ]
  },
  {
   "cell_type": "markdown",
   "id": "3267cf80",
   "metadata": {},
   "source": [
    "as we can see that by passing \"../\" as a path for just one step back and we got that, now let's change directory by providing full path."
   ]
  },
  {
   "cell_type": "code",
   "execution_count": 24,
   "id": "43f51a4c",
   "metadata": {},
   "outputs": [],
   "source": [
    "# full path to the 'test' dir\n",
    "import os\n",
    "\n",
    "os.chdir('E:\\\\Python_world\\\\python_amulya-s_academy_practice\\\\python_from_book\\\\test')"
   ]
  },
  {
   "cell_type": "code",
   "execution_count": 25,
   "id": "7bf4f379",
   "metadata": {},
   "outputs": [
    {
     "data": {
      "text/plain": [
       "'E:\\\\Python_world\\\\python_amulya-s_academy_practice\\\\python_from_book\\\\test'"
      ]
     },
     "execution_count": 25,
     "metadata": {},
     "output_type": "execute_result"
    }
   ],
   "source": [
    "os.getcwd()"
   ]
  },
  {
   "cell_type": "code",
   "execution_count": 26,
   "id": "0844d8bb",
   "metadata": {},
   "outputs": [],
   "source": [
    "# now come back using full path\n",
    "\n",
    "os.chdir('E:\\\\Python_world\\\\python_amulya-s_academy_practice\\\\python_from_book')"
   ]
  },
  {
   "cell_type": "code",
   "execution_count": 27,
   "id": "b34004df",
   "metadata": {},
   "outputs": [
    {
     "data": {
      "text/plain": [
       "'E:\\\\Python_world\\\\python_amulya-s_academy_practice\\\\python_from_book'"
      ]
     },
     "execution_count": 27,
     "metadata": {},
     "output_type": "execute_result"
    }
   ],
   "source": [
    "os.getcwd()"
   ]
  },
  {
   "cell_type": "markdown",
   "id": "a491f77c",
   "metadata": {},
   "source": [
    "### The rmdir() Method\n",
    "\n",
    "The 'rmdir()' method delete the directory, which is passed as an argument in the method."
   ]
  },
  {
   "cell_type": "code",
   "execution_count": 28,
   "id": "5941bd59",
   "metadata": {},
   "outputs": [],
   "source": [
    "import os\n",
    "\n",
    "os.rmdir(\"test\")"
   ]
  },
  {
   "cell_type": "markdown",
   "id": "fd2b8ad2",
   "metadata": {},
   "source": [
    "#### Now will see some built-in methods in files "
   ]
  },
  {
   "cell_type": "markdown",
   "id": "fb0c1fa9",
   "metadata": {},
   "source": [
    "#### close() Method "
   ]
  },
  {
   "cell_type": "code",
   "execution_count": 29,
   "id": "d8d1b117",
   "metadata": {},
   "outputs": [],
   "source": [
    "# close() method we have already  discussed it\n"
   ]
  },
  {
   "cell_type": "markdown",
   "id": "f01e1fe5",
   "metadata": {},
   "source": [
    "#### File flush() Method\n",
    "The method flush() flushes the internal buffer, like stdio's flush. This may be a no-op on some file-like objects."
   ]
  },
  {
   "cell_type": "code",
   "execution_count": 30,
   "id": "65796c1d",
   "metadata": {},
   "outputs": [
    {
     "name": "stdout",
     "output_type": "stream",
     "text": [
      "File name :  foo.txt\n"
     ]
    }
   ],
   "source": [
    "file = open(\"foo.txt\", \"wb\")\n",
    "\n",
    "print(\"File name : \",file.name)\n",
    "\n",
    "# Here it does nothing, but we can call it with read operation.\n",
    "\n",
    "file.flush()\n",
    "\n",
    "file.close()"
   ]
  },
  {
   "cell_type": "markdown",
   "id": "0c6ca030",
   "metadata": {},
   "source": [
    "#### File fileno() Method\n",
    "\n",
    "The method fileno() returns the integer file descriptor that is used by the underlying implementation to request I/O operations from the operating system."
   ]
  },
  {
   "cell_type": "code",
   "execution_count": 32,
   "id": "940dcc6d",
   "metadata": {},
   "outputs": [
    {
     "name": "stdout",
     "output_type": "stream",
     "text": [
      "Name of the file :  foo.txt\n",
      "File Descriptor :  4\n"
     ]
    }
   ],
   "source": [
    "file = open(\"foo.txt\", 'wb')\n",
    "print(\"Name of the file : \", file.name)\n",
    "\n",
    "fid = file.fileno()\n",
    "\n",
    "print(\"File Descriptor : \", fid)\n",
    "\n",
    "file.close()"
   ]
  },
  {
   "cell_type": "markdown",
   "id": "e828ad59",
   "metadata": {},
   "source": [
    "#### File isatty() Method\n",
    "\n",
    "* returns true if the file connected to a tty(-like) device, else False.\n"
   ]
  },
  {
   "cell_type": "code",
   "execution_count": 33,
   "id": "68aeb032",
   "metadata": {},
   "outputs": [
    {
     "name": "stdout",
     "output_type": "stream",
     "text": [
      "Name of the file :  foo.txt\n",
      "Return Value :  False\n"
     ]
    }
   ],
   "source": [
    "file = open(\"foo.txt\", 'wb')\n",
    "print(\"Name of the file : \", file.name)\n",
    "\n",
    "ret = file.isatty()\n",
    "print(\"Return Value : \", ret)\n",
    "\n",
    "file.close()"
   ]
  },
  {
   "cell_type": "markdown",
   "id": "4d6f2b29",
   "metadata": {},
   "source": [
    "#### File next() Method "
   ]
  },
  {
   "cell_type": "code",
   "execution_count": 34,
   "id": "b695da52",
   "metadata": {},
   "outputs": [],
   "source": [
    "file = open(\"foo.txt\", \"w\")\n",
    "\n",
    "file.write(\"C++\\nJava\\nPython\\nPerl\\nPHP\")\n",
    "file.close()"
   ]
  },
  {
   "cell_type": "code",
   "execution_count": 35,
   "id": "e8af9e3a",
   "metadata": {},
   "outputs": [
    {
     "name": "stdout",
     "output_type": "stream",
     "text": [
      "Name of file :  foo.txt\n",
      "line No 0 - C++\n",
      "\n",
      "line No 1 - Java\n",
      "\n",
      "line No 2 - Python\n",
      "\n",
      "line No 3 - Perl\n",
      "\n",
      "line No 4 - PHP\n"
     ]
    }
   ],
   "source": [
    "file = open('foo.txt', 'r')\n",
    "\n",
    "print(\"Name of file : \", file.name)\n",
    "\n",
    "for index in range(5):\n",
    "    line = next(file)\n",
    "    print(f\"line No {index} - {line}\")\n",
    "    \n",
    "file.close()"
   ]
  },
  {
   "cell_type": "code",
   "execution_count": 36,
   "id": "31061e3f",
   "metadata": {},
   "outputs": [
    {
     "name": "stdout",
     "output_type": "stream",
     "text": [
      "Name of file :  foo.txt\n",
      "line No 0 - C++\n",
      "line No 1 - Java\n",
      "line No 2 - Python\n",
      "line No 3 - Perl\n",
      "line No 4 - PHP\n"
     ]
    }
   ],
   "source": [
    "file = open('foo.txt', 'r')\n",
    "\n",
    "print(\"Name of file : \", file.name)\n",
    "\n",
    "for index in range(5):\n",
    "    line = next(file)\n",
    "    print(f\"line No {index} - {line.strip()}\") # used strip() method to avoid '\\n' string at end\n",
    "    \n",
    "file.close()"
   ]
  },
  {
   "cell_type": "code",
   "execution_count": 38,
   "id": "a5e96199",
   "metadata": {},
   "outputs": [
    {
     "name": "stdout",
     "output_type": "stream",
     "text": [
      "0 : a\n",
      "1 : b\n",
      "2 : c\n"
     ]
    }
   ],
   "source": [
    "lst = ['a', 'b', 'c']\n",
    "for index , value in enumerate(lst):\n",
    "    print(index ,\":\", value)"
   ]
  },
  {
   "cell_type": "code",
   "execution_count": 40,
   "id": "21ba3d6d",
   "metadata": {},
   "outputs": [
    {
     "name": "stdout",
     "output_type": "stream",
     "text": [
      "Name of file :  foo.txt\n",
      "line No 0 - C++\n",
      "line No 1 - Java\n",
      "line No 2 - Python\n",
      "line No 3 - Perl\n",
      "line No 4 - PHP\n"
     ]
    }
   ],
   "source": [
    "file = open('foo.txt', 'r')\n",
    "\n",
    "print(\"Name of file : \", file.name)\n",
    "for index , line in enumerate(file):\n",
    "    print(f\"line No {index} - {line.strip()}\")"
   ]
  },
  {
   "cell_type": "markdown",
   "id": "5d5fa252",
   "metadata": {},
   "source": [
    "#### File read() Method"
   ]
  },
  {
   "cell_type": "code",
   "execution_count": 41,
   "id": "4ae58bfa",
   "metadata": {},
   "outputs": [
    {
     "name": "stdout",
     "output_type": "stream",
     "text": [
      "Name of the file :  foo.txt\n",
      "Read line :  C++\n",
      "Java\n",
      "P\n"
     ]
    }
   ],
   "source": [
    "file = open(\"foo.txt\", 'r+')\n",
    "print(\"Name of the file : \", file.name)\n",
    "\n",
    "line = file.read(10)\n",
    "print(\"Read line : \", line)\n",
    "\n",
    "file.close()"
   ]
  },
  {
   "cell_type": "markdown",
   "id": "790776a9",
   "metadata": {},
   "source": [
    "\n",
    "#### File readline() Method"
   ]
  },
  {
   "cell_type": "code",
   "execution_count": 42,
   "id": "c7438003",
   "metadata": {},
   "outputs": [
    {
     "name": "stdout",
     "output_type": "stream",
     "text": [
      "Name of the file :  foo.txt\n",
      "Read line :  C++\n",
      "\n"
     ]
    }
   ],
   "source": [
    "file = open(\"foo.txt\", 'r+')\n",
    "print(\"Name of the file : \", file.name)\n",
    "\n",
    "line = file.readline()\n",
    "print(\"Read line : \", line)\n",
    "\n",
    "file.close()"
   ]
  },
  {
   "cell_type": "markdown",
   "id": "465fd688",
   "metadata": {},
   "source": [
    "readline() read only one line at a time."
   ]
  },
  {
   "cell_type": "code",
   "execution_count": 43,
   "id": "186084b8",
   "metadata": {},
   "outputs": [
    {
     "name": "stdout",
     "output_type": "stream",
     "text": [
      "Name of the file :  foo.txt\n",
      "First few word :  C++\n",
      "\n"
     ]
    }
   ],
   "source": [
    "file = open(\"foo.txt\", 'r+')\n",
    "print(\"Name of the file : \", file.name)\n",
    "\n",
    "line = file.readline(5)\n",
    "print(\"First few word : \", line)\n",
    "file.close()"
   ]
  },
  {
   "cell_type": "markdown",
   "id": "9bd5221d",
   "metadata": {},
   "source": [
    "#### File readlines() Method.\n",
    "\n"
   ]
  },
  {
   "cell_type": "code",
   "execution_count": 44,
   "id": "69ed2e31",
   "metadata": {},
   "outputs": [],
   "source": [
    "file = open('foo.txt', 'w')\n",
    "\n",
    "file.write(\"This is 1st line.\\nThis is 2nd line.\\nThis is 3rd line.\\nThis is 4rth line.\\nThis is 5th line.\")\n",
    "\n",
    "file.close()"
   ]
  },
  {
   "cell_type": "code",
   "execution_count": 47,
   "id": "229413f3",
   "metadata": {},
   "outputs": [
    {
     "name": "stdout",
     "output_type": "stream",
     "text": [
      "Name of the file :  foo.txt\n",
      "Read line :  ['This is 1st line.\\n', 'This is 2nd line.\\n', 'This is 3rd line.\\n', 'This is 4rth line.\\n', 'This is 5th line.']\n",
      "Read line : []\n"
     ]
    }
   ],
   "source": [
    "file = open(\"foo.txt\", 'r+')\n",
    "print(\"Name of the file : \", file.name)\n",
    "\n",
    "line = file.readlines()\n",
    "print(\"Read line : \", line)\n",
    "\n",
    "line = file.readlines(2)\n",
    "print(\"Read line :\", line)\n",
    "\n",
    "\n",
    "file.close()"
   ]
  },
  {
   "cell_type": "markdown",
   "id": "fb042f5c",
   "metadata": {},
   "source": [
    "as we can see that when we read file first time we didn't close the file and pointer will be at the bottum right means no remaining lines to read and we again trying to read by readlines() method that is why we didn't get any output first we need to close the file or seek the pointer at beginning."
   ]
  },
  {
   "cell_type": "code",
   "execution_count": 48,
   "id": "c66a03c1",
   "metadata": {},
   "outputs": [
    {
     "name": "stdout",
     "output_type": "stream",
     "text": [
      "Name of the file :  foo.txt\n",
      "\n",
      "Read line : ['This is 1st line.\\n']\n"
     ]
    }
   ],
   "source": [
    "file = open(\"foo.txt\", 'r+')\n",
    "print(\"Name of the file : \", file.name)\n",
    "\n",
    "\n",
    "line = file.readlines(3)\n",
    "print()\n",
    "print(\"Read line :\", line)\n",
    "\n",
    "file.close()"
   ]
  },
  {
   "cell_type": "code",
   "execution_count": 53,
   "id": "f3e5cbf7",
   "metadata": {},
   "outputs": [
    {
     "name": "stdout",
     "output_type": "stream",
     "text": [
      "Name of the file :  foo.txt\n",
      "\n",
      "Read line : This is 1st line.\n",
      "\n",
      "Read line : This is 2nd line.\n",
      "\n",
      "Read line : This is 3rd line.\n",
      "\n"
     ]
    }
   ],
   "source": [
    "file = open(\"foo.txt\", 'r+')\n",
    "print(\"Name of the file : \", file.name)\n",
    "print()\n",
    "\n",
    "line = file.readlines()\n",
    "\n",
    "print(\"Read line :\", line[0])\n",
    "\n",
    "print(\"Read line :\", line[1])\n",
    "\n",
    "print(\"Read line :\", line[2])\n",
    "\n",
    "file.close()"
   ]
  },
  {
   "cell_type": "code",
   "execution_count": 54,
   "id": "65aac836",
   "metadata": {},
   "outputs": [
    {
     "name": "stdout",
     "output_type": "stream",
     "text": [
      "Name of the file :  foo.txt\n",
      "This is 1st line.\n",
      "This is 2nd line.\n",
      "This is 3rd line.\n",
      "This is 4rth line.\n",
      "This is 5th line.\n"
     ]
    }
   ],
   "source": [
    "# simple way to read file \n",
    "\n",
    "file = open(\"foo.txt\", 'r+')\n",
    "print(\"Name of the file : \", file.name)\n",
    "\n",
    "\n",
    "lines = file.readlines()\n",
    "for line in lines:\n",
    "    print(line.strip())\n",
    "file.close()"
   ]
  },
  {
   "cell_type": "markdown",
   "id": "baa4d4bb",
   "metadata": {},
   "source": [
    "### File seek() Method\n",
    "`The seek method sets the file's current position at the offset. The whence argument is optional and defaults to 0, which means absolute file positioning, other values are 1 which means seek relative to the current position and 2 means seek relative to the file's end.`"
   ]
  },
  {
   "cell_type": "code",
   "execution_count": 55,
   "id": "635806f5",
   "metadata": {},
   "outputs": [
    {
     "name": "stdout",
     "output_type": "stream",
     "text": [
      "Name of the file :  foo.txt\n",
      "This is 1st line.\n",
      "This is 2nd line.\n",
      "This is 3rd line.\n",
      "This is 4rth line.\n",
      "This is 5th line.\n",
      "\n",
      "This is from secont read: \n",
      "his is 2nd line.\n",
      "This is 3rd line.\n",
      "This is 4rth line.\n",
      "This is 5th line.\n"
     ]
    }
   ],
   "source": [
    "file = open(\"foo.txt\", 'r+')\n",
    "print(\"Name of the file : \", file.name)\n",
    "\n",
    "lines = file.readlines()\n",
    "for line in lines:\n",
    "    print(line.strip())\n",
    "    \n",
    "#now again set the pointer to the 20 or 0 we can set it beginning\n",
    "\n",
    "file.seek(20)\n",
    "print()\n",
    "print(\"This is from secont read: \")\n",
    "lines = file.readlines()\n",
    "for line in lines:\n",
    "    print(line.strip())\n",
    "    \n",
    "file.close()"
   ]
  },
  {
   "cell_type": "code",
   "execution_count": 57,
   "id": "019cf7f2",
   "metadata": {},
   "outputs": [
    {
     "name": "stdout",
     "output_type": "stream",
     "text": [
      "Name of the file :  foo.txt\n",
      "This is 1st line.\n",
      "This is 2nd line.\n",
      "This is 3rd line.\n",
      "This is 4rth line.\n",
      "This is 5th line.\n",
      "\n",
      "This is from secont read: \n",
      "This is 1st line.\n",
      "This is 2nd line.\n",
      "This is 3rd line.\n",
      "This is 4rth line.\n",
      "This is 5th line.\n"
     ]
    }
   ],
   "source": [
    "file = open(\"foo.txt\", 'r+')\n",
    "print(\"Name of the file : \", file.name)\n",
    "\n",
    "lines = file.readlines()\n",
    "for line in lines:\n",
    "    print(line.strip())\n",
    "    \n",
    "#now again set the pointer to the 20 or 0 we can set it beginning\n",
    "\n",
    "file.seek(0, 0)\n",
    "print()\n",
    "print(\"This is from secont read: \")\n",
    "lines = file.readlines()\n",
    "for line in lines:\n",
    "    print(line.strip())\n",
    "    \n",
    "file.close()"
   ]
  },
  {
   "cell_type": "code",
   "execution_count": 58,
   "id": "07021afb",
   "metadata": {},
   "outputs": [
    {
     "name": "stdout",
     "output_type": "stream",
     "text": [
      "Name of the file :  foo.txt\n",
      "This is 1st line.\n",
      "This is 2nd line.\n",
      "This is 3rd line.\n",
      "This is 4rth line.\n",
      "This is 5th line.\n",
      "\n",
      "This is from secont read: \n"
     ]
    }
   ],
   "source": [
    "file = open(\"foo.txt\", 'r+')\n",
    "print(\"Name of the file : \", file.name)\n",
    "\n",
    "lines = file.readlines()\n",
    "for line in lines:\n",
    "    print(line.strip())\n",
    "    \n",
    "#now again set the pointer to the 20 or 0 we can set it beginning\n",
    "\n",
    "file.seek(0, 1)\n",
    "print()\n",
    "print(\"This is from secont read: \")\n",
    "lines = file.readlines()\n",
    "for line in lines:\n",
    "    print(line.strip())\n",
    "    \n",
    "file.close()"
   ]
  },
  {
   "cell_type": "markdown",
   "id": "51140548",
   "metadata": {},
   "source": [
    "here seek(0, 1) 1 which means seek relative to the current position and 2 means seek relative to the file's end.\n"
   ]
  },
  {
   "cell_type": "code",
   "execution_count": 59,
   "id": "002a5bcc",
   "metadata": {},
   "outputs": [
    {
     "name": "stdout",
     "output_type": "stream",
     "text": [
      "Name of the file :  foo.txt\n",
      "This is 1st line.\n",
      "This is 2nd line.\n",
      "This is 3rd line.\n",
      "This is 4rth line.\n",
      "This is 5th line.\n",
      "\n",
      "This is from secont read: \n"
     ]
    }
   ],
   "source": [
    "file = open(\"foo.txt\", 'r+')\n",
    "print(\"Name of the file : \", file.name)\n",
    "\n",
    "lines = file.readlines()\n",
    "for line in lines:\n",
    "    print(line.strip())\n",
    "    \n",
    "#now again set the pointer to the 20 or 0 we can set it beginning\n",
    "\n",
    "file.seek(0, 2)\n",
    "print()\n",
    "print(\"This is from secont read: \")\n",
    "lines = file.readlines()\n",
    "for line in lines:\n",
    "    print(line.strip())\n",
    "    \n",
    "file.close()"
   ]
  },
  {
   "cell_type": "code",
   "execution_count": null,
   "id": "b1dd04c2",
   "metadata": {},
   "outputs": [],
   "source": []
  },
  {
   "cell_type": "markdown",
   "id": "526066dc",
   "metadata": {},
   "source": [
    "#### File tell() Method\n"
   ]
  },
  {
   "cell_type": "code",
   "execution_count": 60,
   "id": "4592f768",
   "metadata": {},
   "outputs": [
    {
     "name": "stdout",
     "output_type": "stream",
     "text": [
      "Name of the file :  foo.txt\n",
      "Read line :  This is 1st line.\n",
      "\n",
      "Current position is :  19\n"
     ]
    }
   ],
   "source": [
    "file = open(\"foo.txt\", 'r+')\n",
    "print(\"Name of the file : \", file.name)\n",
    "\n",
    "\n",
    "line = file.readline()\n",
    "print(\"Read line : \", line)\n",
    "\n",
    "pos = file.tell()\n",
    "print(\"Current position is : \",  pos)\n",
    "\n",
    "file.close()"
   ]
  },
  {
   "cell_type": "markdown",
   "id": "c1081d3f",
   "metadata": {},
   "source": [
    "#### File truncate() Method\n",
    "\n",
    "* The truncate() metho truncate yhe file size. If the optional size argument is present, the file is truncated to (at most) that size."
   ]
  },
  {
   "cell_type": "code",
   "execution_count": 61,
   "id": "bbbb1dbe",
   "metadata": {},
   "outputs": [
    {
     "name": "stdout",
     "output_type": "stream",
     "text": [
      "Name of the file :  foo.txt\n",
      "Read line :  This is 1st line.\n",
      "\n",
      "Read lines :  ['This is 2nd line.\\n', 'This is 3rd line.\\n', 'This is 4rth line.\\n', 'This is 5th line.']\n"
     ]
    }
   ],
   "source": [
    "file = open(\"foo.txt\", 'r+')\n",
    "print(\"Name of the file : \", file.name)\n",
    "\n",
    "\n",
    "line = file.readline()\n",
    "print(\"Read line : \", line)\n",
    "\n",
    "file.truncate()\n",
    "\n",
    "lines = file.readlines()\n",
    "print(\"Read lines : \", lines)\n",
    "\n",
    "file.close()"
   ]
  },
  {
   "cell_type": "markdown",
   "id": "ce618be8",
   "metadata": {},
   "source": [
    "As we can see that truncate method truncated the file's first line."
   ]
  },
  {
   "cell_type": "markdown",
   "id": "9bbbf95f",
   "metadata": {},
   "source": [
    "### File write() Method\n",
    "\n",
    "` The method write() writes a string str to the file. There is no return value. Due to buffering, the string may not actually show up in the file until the flush() or close() method is called.`"
   ]
  },
  {
   "cell_type": "code",
   "execution_count": 63,
   "id": "657da739",
   "metadata": {},
   "outputs": [
    {
     "name": "stdout",
     "output_type": "stream",
     "text": [
      "Name of the file : foo.txt\n",
      "Line NO 0 - This is 1st line.\n",
      "\n",
      "Line NO 1 - This is 2nd line.\n",
      "\n",
      "Line NO 2 - This is 3rd line.\n",
      "\n",
      "Line NO 3 - This is 4rth line.\n",
      "\n",
      "Line NO 4 - This is 5th line.\n",
      "\n",
      "Line NO 5 - this is 6th line.\n"
     ]
    }
   ],
   "source": [
    "# we have already foo.txt file and have some lines i that so we will open it read and append mode\n",
    "\n",
    "file = open(\"foo.txt\", \"r+\")\n",
    "print(\"Name of the file :\" , file.name)\n",
    "\n",
    "str1 = \"\\nthis is 6th line.\"\n",
    "\n",
    "# write a line at the end of the file \n",
    "file.seek(0, 2)  \n",
    "file.write(str1)\n",
    "\n",
    "# now read complete file from beginning.\n",
    "\n",
    "file.seek(0,0)\n",
    "for index in range(6):\n",
    "    line = next(file)\n",
    "    print(f\"Line NO {index} - {line}\")\n",
    "    \n",
    "    \n",
    "file.close()"
   ]
  },
  {
   "cell_type": "markdown",
   "id": "e0ced97b",
   "metadata": {},
   "source": [
    "### File writelines() Method \n",
    "\n",
    "* The method writelines() writes a sequence of strings to the file. The sequence can be any iterable object producing strings, typically a list strings. There is no return value.\n",
    "\n",
    "`Syntax: fileObject.writelines(sequence)`"
   ]
  },
  {
   "cell_type": "code",
   "execution_count": 64,
   "id": "3a2d30fd",
   "metadata": {},
   "outputs": [
    {
     "name": "stdout",
     "output_type": "stream",
     "text": [
      "Name of the file :  foo.txt\n",
      "Line No 0 - This is 1st line.\n",
      "\n",
      "Line No 1 - This is 2nd line.\n",
      "\n",
      "Line No 2 - This is 3rd line.\n",
      "\n",
      "Line No 3 - This is 4rth line.\n",
      "\n",
      "Line No 4 - This is 5th line.\n",
      "\n",
      "Line No 5 - this is 6th line.\n",
      "\n",
      "Line No 6 - This is 7nth line.\n",
      "\n",
      "Line No 7 - This is 8th line.\n"
     ]
    }
   ],
   "source": [
    "# we have foo.txt file which have already 6 line in that let's write something \n",
    "\n",
    "file = open(\"foo.txt\", \"r+\")\n",
    "print(\"Name of the file : \", file.name)\n",
    "\n",
    "seq = [\"\\nThis is 7nth line.\", \"\\nThis is 8th line.\"]\n",
    "# as we know that '\\n' is a new line character that is why we added it before the string.\n",
    "\n",
    "\n",
    "file.seek(0, 2)\n",
    "file.writelines(seq)\n",
    "\n",
    "\n",
    "# Now read complete file from the beginnning \n",
    "\n",
    "file.seek(0, 0)\n",
    "\n",
    "for index , line in enumerate(file):\n",
    "    \n",
    "    print(f\"Line No {index} - {line}\")\n",
    "    \n",
    "file.close()"
   ]
  },
  {
   "cell_type": "code",
   "execution_count": null,
   "id": "b265f796",
   "metadata": {},
   "outputs": [],
   "source": []
  }
 ],
 "metadata": {
  "kernelspec": {
   "display_name": "Python 3 (ipykernel)",
   "language": "python",
   "name": "python3"
  },
  "language_info": {
   "codemirror_mode": {
    "name": "ipython",
    "version": 3
   },
   "file_extension": ".py",
   "mimetype": "text/x-python",
   "name": "python",
   "nbconvert_exporter": "python",
   "pygments_lexer": "ipython3",
   "version": "3.9.7"
  }
 },
 "nbformat": 4,
 "nbformat_minor": 5
}
