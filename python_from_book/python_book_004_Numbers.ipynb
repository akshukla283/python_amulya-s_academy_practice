{
 "cells": [
  {
   "cell_type": "markdown",
   "id": "41d38a6f",
   "metadata": {},
   "source": [
    "#### Python Numbers\n",
    "\n",
    "* Number data tpes store numberic values.\n",
    "* They are immutable data types.\n",
    "* we can delete the reference to a number object by using the 'del' statement. The syntax of the 'del' statement is - `del var1[,var2[,var3[.....varN]]]`\n",
    "\n",
    "\n",
    "\n",
    "#### Int (signed integer)\n",
    "* They are often called just integer or 'int'. They are positive or negative whole numbers with no decimal point.\n",
    "\n",
    "* Integer in Python 3 are of unlimited size.\n",
    "\n",
    "* Python 2 has two integer type 'int' and 'long' integer, there is no 'long integer' in Python 3\n",
    "\n",
    "#### float (foating point real values): \n",
    "\n",
    "* Also called floats, they represents real numbers and are written with a decimal point dividing the integer and the fractional parts. \n",
    "* float may also be in scientific notation with 'E' or 'e' indicating the power of 10 `(2.5e2 = 2.5 x 10^2 = 250)`.\n",
    "\n",
    "\n",
    "#### Complex (Complex number):\n",
    "\n",
    "* `are the form a + bj, where a and b are floats and j represents the square root of -1 (which is an imaginary number).`\n",
    "* `The real part of the number is a and the imaginary part is b.`\n",
    "* `Complex numbers are not used much in Python programming.`\n",
    "\n"
   ]
  },
  {
   "cell_type": "code",
   "execution_count": 1,
   "id": "5d485595",
   "metadata": {},
   "outputs": [
    {
     "data": {
      "text/plain": [
       "2575"
      ]
     },
     "execution_count": 1,
     "metadata": {},
     "output_type": "execute_result"
    }
   ],
   "source": [
    "# it is possible to represent an integer in hexa-decimal or octal form.\n",
    "\n",
    "number = 0xA0F\n",
    "number"
   ]
  },
  {
   "cell_type": "code",
   "execution_count": 2,
   "id": "97ee5206",
   "metadata": {},
   "outputs": [
    {
     "data": {
      "text/plain": [
       "31"
      ]
     },
     "execution_count": 2,
     "metadata": {},
     "output_type": "execute_result"
    }
   ],
   "source": [
    "number = 0o37\n",
    "number "
   ]
  },
  {
   "cell_type": "code",
   "execution_count": 3,
   "id": "32af8682",
   "metadata": {},
   "outputs": [
    {
     "data": {
      "text/plain": [
       "3.0"
      ]
     },
     "execution_count": 3,
     "metadata": {},
     "output_type": "execute_result"
    }
   ],
   "source": [
    "number = 3.0\n",
    "number"
   ]
  },
  {
   "cell_type": "code",
   "execution_count": 4,
   "id": "82f46e52",
   "metadata": {},
   "outputs": [
    {
     "data": {
      "text/plain": [
       "10"
      ]
     },
     "execution_count": 4,
     "metadata": {},
     "output_type": "execute_result"
    }
   ],
   "source": [
    "number = 10\n",
    "number"
   ]
  },
  {
   "cell_type": "code",
   "execution_count": 5,
   "id": "0ec3b3dd",
   "metadata": {},
   "outputs": [
    {
     "data": {
      "text/plain": [
       "0.4j"
      ]
     },
     "execution_count": 5,
     "metadata": {},
     "output_type": "execute_result"
    }
   ],
   "source": [
    "number = 0.4j\n",
    "number"
   ]
  },
  {
   "cell_type": "code",
   "execution_count": 7,
   "id": "114b8160",
   "metadata": {},
   "outputs": [
    {
     "data": {
      "text/plain": [
       "(4.53-7j)"
      ]
     },
     "execution_count": 7,
     "metadata": {},
     "output_type": "execute_result"
    }
   ],
   "source": [
    "number = 4.53e0 - 7j\n",
    "number"
   ]
  },
  {
   "cell_type": "code",
   "execution_count": 9,
   "id": "495d2526",
   "metadata": {},
   "outputs": [
    {
     "data": {
      "text/plain": [
       "70200000000000.0"
      ]
     },
     "execution_count": 9,
     "metadata": {},
     "output_type": "execute_result"
    }
   ],
   "source": [
    "number = 70.2E12\n",
    "number"
   ]
  },
  {
   "cell_type": "code",
   "execution_count": 10,
   "id": "9a1d324a",
   "metadata": {},
   "outputs": [
    {
     "data": {
      "text/plain": [
       "-90.0"
      ]
     },
     "execution_count": 10,
     "metadata": {},
     "output_type": "execute_result"
    }
   ],
   "source": [
    "number = -90.\n",
    "number"
   ]
  },
  {
   "cell_type": "code",
   "execution_count": 11,
   "id": "0e0b5d4f",
   "metadata": {},
   "outputs": [
    {
     "data": {
      "text/plain": [
       "90.0"
      ]
     },
     "execution_count": 11,
     "metadata": {},
     "output_type": "execute_result"
    }
   ],
   "source": [
    "number = 090.\n",
    "number"
   ]
  },
  {
   "cell_type": "code",
   "execution_count": 12,
   "id": "a4576a87",
   "metadata": {},
   "outputs": [
    {
     "data": {
      "text/plain": [
       "-90.0"
      ]
     },
     "execution_count": 12,
     "metadata": {},
     "output_type": "execute_result"
    }
   ],
   "source": [
    "number = -090.\n",
    "number"
   ]
  },
  {
   "cell_type": "markdown",
   "id": "fe3f3eb8",
   "metadata": {},
   "source": [
    "#### Number Type Conversion\n",
    "\n",
    "* int(x) -- to convert x to plain integer.\n",
    "* long(x) -- to convert x to long integer. which is not in Python 3...\n",
    "* float(x)-- to convert x to floating-point number.\n",
    "* complex(x) -- to convert x to a complex number with with real part x and imaginary part 0.\n",
    "* complex(x, y) -- to convert x and y to a complex numberwith real part x and imaginary part y. x and y are numeric expression"
   ]
  },
  {
   "cell_type": "code",
   "execution_count": 13,
   "id": "26ba8be6",
   "metadata": {},
   "outputs": [
    {
     "data": {
      "text/plain": [
       "2"
      ]
     },
     "execution_count": 13,
     "metadata": {},
     "output_type": "execute_result"
    }
   ],
   "source": [
    "int(2.3)"
   ]
  },
  {
   "cell_type": "code",
   "execution_count": 14,
   "id": "f1b6470b",
   "metadata": {},
   "outputs": [
    {
     "ename": "NameError",
     "evalue": "name 'long' is not defined",
     "output_type": "error",
     "traceback": [
      "\u001b[1;31m---------------------------------------------------------------------------\u001b[0m",
      "\u001b[1;31mNameError\u001b[0m                                 Traceback (most recent call last)",
      "Input \u001b[1;32mIn [14]\u001b[0m, in \u001b[0;36m<cell line: 1>\u001b[1;34m()\u001b[0m\n\u001b[1;32m----> 1\u001b[0m \u001b[43mlong\u001b[49m(\u001b[38;5;241m23\u001b[39m)\n",
      "\u001b[1;31mNameError\u001b[0m: name 'long' is not defined"
     ]
    }
   ],
   "source": [
    "long(23)"
   ]
  },
  {
   "cell_type": "code",
   "execution_count": 15,
   "id": "85739a2b",
   "metadata": {},
   "outputs": [
    {
     "data": {
      "text/plain": [
       "3.0"
      ]
     },
     "execution_count": 15,
     "metadata": {},
     "output_type": "execute_result"
    }
   ],
   "source": [
    "float(3)"
   ]
  },
  {
   "cell_type": "code",
   "execution_count": 16,
   "id": "6673e6c6",
   "metadata": {},
   "outputs": [
    {
     "ename": "TypeError",
     "evalue": "can't convert complex to int",
     "output_type": "error",
     "traceback": [
      "\u001b[1;31m---------------------------------------------------------------------------\u001b[0m",
      "\u001b[1;31mTypeError\u001b[0m                                 Traceback (most recent call last)",
      "Input \u001b[1;32mIn [16]\u001b[0m, in \u001b[0;36m<cell line: 1>\u001b[1;34m()\u001b[0m\n\u001b[1;32m----> 1\u001b[0m \u001b[38;5;28;43mint\u001b[39;49m\u001b[43m(\u001b[49m\u001b[38;5;241;43m2\u001b[39;49m\u001b[38;5;241;43m+\u001b[39;49m\u001b[38;5;241;43m3\u001b[39;49m\u001b[43mj\u001b[49m\u001b[43m)\u001b[49m\n",
      "\u001b[1;31mTypeError\u001b[0m: can't convert complex to int"
     ]
    }
   ],
   "source": [
    "int(2+3j)"
   ]
  },
  {
   "cell_type": "code",
   "execution_count": 17,
   "id": "0ba8895d",
   "metadata": {},
   "outputs": [
    {
     "data": {
      "text/plain": [
       "(3+0j)"
      ]
     },
     "execution_count": 17,
     "metadata": {},
     "output_type": "execute_result"
    }
   ],
   "source": [
    "complex(3)"
   ]
  },
  {
   "cell_type": "code",
   "execution_count": 18,
   "id": "0e733de1",
   "metadata": {},
   "outputs": [
    {
     "data": {
      "text/plain": [
       "(3+4j)"
      ]
     },
     "execution_count": 18,
     "metadata": {},
     "output_type": "execute_result"
    }
   ],
   "source": [
    "complex(3,4)"
   ]
  },
  {
   "cell_type": "markdown",
   "id": "cb002167",
   "metadata": {},
   "source": [
    "#### Mathematical Function"
   ]
  },
  {
   "cell_type": "code",
   "execution_count": 19,
   "id": "259f641b",
   "metadata": {},
   "outputs": [
    {
     "data": {
      "text/plain": [
       "34.2"
      ]
     },
     "execution_count": 19,
     "metadata": {},
     "output_type": "execute_result"
    }
   ],
   "source": [
    "abs(-34.2)"
   ]
  },
  {
   "cell_type": "code",
   "execution_count": 20,
   "id": "dcc8a7f3",
   "metadata": {},
   "outputs": [
    {
     "data": {
      "text/plain": [
       "23"
      ]
     },
     "execution_count": 20,
     "metadata": {},
     "output_type": "execute_result"
    }
   ],
   "source": [
    "abs(+23)"
   ]
  },
  {
   "cell_type": "code",
   "execution_count": 21,
   "id": "36745004",
   "metadata": {},
   "outputs": [
    {
     "data": {
      "text/plain": [
       "0.23"
      ]
     },
     "execution_count": 21,
     "metadata": {},
     "output_type": "execute_result"
    }
   ],
   "source": [
    "abs(0.23)"
   ]
  },
  {
   "cell_type": "code",
   "execution_count": 23,
   "id": "e30cb8cd",
   "metadata": {},
   "outputs": [
    {
     "data": {
      "text/plain": [
       "24"
      ]
     },
     "execution_count": 23,
     "metadata": {},
     "output_type": "execute_result"
    }
   ],
   "source": [
    "# ceil\n",
    "\n",
    "import math\n",
    "math.ceil(23.2)"
   ]
  },
  {
   "cell_type": "code",
   "execution_count": 24,
   "id": "d7b970dc",
   "metadata": {},
   "outputs": [
    {
     "data": {
      "text/plain": [
       "-23"
      ]
     },
     "execution_count": 24,
     "metadata": {},
     "output_type": "execute_result"
    }
   ],
   "source": [
    "math.ceil(-23.7)"
   ]
  },
  {
   "cell_type": "code",
   "execution_count": 26,
   "id": "db4536e8",
   "metadata": {},
   "outputs": [
    {
     "data": {
      "text/plain": [
       "7.38905609893065"
      ]
     },
     "execution_count": 26,
     "metadata": {},
     "output_type": "execute_result"
    }
   ],
   "source": [
    "math.exp(2)"
   ]
  },
  {
   "cell_type": "code",
   "execution_count": 27,
   "id": "41540249",
   "metadata": {},
   "outputs": [
    {
     "data": {
      "text/plain": [
       "23.25"
      ]
     },
     "execution_count": 27,
     "metadata": {},
     "output_type": "execute_result"
    }
   ],
   "source": [
    "math.fabs(23.25)  # note - abs() is built-in function and fabs is in math module"
   ]
  },
  {
   "cell_type": "code",
   "execution_count": 28,
   "id": "563fa04c",
   "metadata": {},
   "outputs": [
    {
     "data": {
      "text/plain": [
       "23.25"
      ]
     },
     "execution_count": 28,
     "metadata": {},
     "output_type": "execute_result"
    }
   ],
   "source": [
    "math.fabs(-23.25) # return absolute value"
   ]
  },
  {
   "cell_type": "code",
   "execution_count": 29,
   "id": "f68bcf80",
   "metadata": {},
   "outputs": [
    {
     "data": {
      "text/plain": [
       "0.6931471805599453"
      ]
     },
     "execution_count": 29,
     "metadata": {},
     "output_type": "execute_result"
    }
   ],
   "source": [
    "math.log(2)"
   ]
  },
  {
   "cell_type": "code",
   "execution_count": 30,
   "id": "0d6ced95",
   "metadata": {},
   "outputs": [
    {
     "data": {
      "text/plain": [
       "0.3010299956639812"
      ]
     },
     "execution_count": 30,
     "metadata": {},
     "output_type": "execute_result"
    }
   ],
   "source": [
    "math.log10(2)"
   ]
  },
  {
   "cell_type": "code",
   "execution_count": 31,
   "id": "92a9c6e1",
   "metadata": {},
   "outputs": [
    {
     "data": {
      "text/plain": [
       "3"
      ]
     },
     "execution_count": 31,
     "metadata": {},
     "output_type": "execute_result"
    }
   ],
   "source": [
    "max(1,2,3)"
   ]
  },
  {
   "cell_type": "code",
   "execution_count": 32,
   "id": "0562a39c",
   "metadata": {},
   "outputs": [
    {
     "data": {
      "text/plain": [
       "23.3"
      ]
     },
     "execution_count": 32,
     "metadata": {},
     "output_type": "execute_result"
    }
   ],
   "source": [
    "min(23.3,34,45)"
   ]
  },
  {
   "cell_type": "code",
   "execution_count": 33,
   "id": "4fe4f50e",
   "metadata": {},
   "outputs": [
    {
     "data": {
      "text/plain": [
       "(0.23000000000000043, 25.0)"
      ]
     },
     "execution_count": 33,
     "metadata": {},
     "output_type": "execute_result"
    }
   ],
   "source": [
    "import math\n",
    "math.modf(25.23)  # return fractional and integer part"
   ]
  },
  {
   "cell_type": "code",
   "execution_count": 41,
   "id": "f0a79924",
   "metadata": {},
   "outputs": [
    {
     "data": {
      "text/plain": [
       "(0.0, 12.0)"
      ]
     },
     "execution_count": 41,
     "metadata": {},
     "output_type": "execute_result"
    }
   ],
   "source": [
    "math.modf(12)"
   ]
  },
  {
   "cell_type": "code",
   "execution_count": 42,
   "id": "df0d6c29",
   "metadata": {},
   "outputs": [
    {
     "data": {
      "text/plain": [
       "(0.0, 13.0)"
      ]
     },
     "execution_count": 42,
     "metadata": {},
     "output_type": "execute_result"
    }
   ],
   "source": [
    "math.modf(13)"
   ]
  },
  {
   "cell_type": "code",
   "execution_count": 34,
   "id": "6ee0d7ac",
   "metadata": {},
   "outputs": [
    {
     "data": {
      "text/plain": [
       "8"
      ]
     },
     "execution_count": 34,
     "metadata": {},
     "output_type": "execute_result"
    }
   ],
   "source": [
    "pow(2,3) # return 2**3 "
   ]
  },
  {
   "cell_type": "code",
   "execution_count": 35,
   "id": "c346987f",
   "metadata": {},
   "outputs": [
    {
     "data": {
      "text/plain": [
       "8.0"
      ]
     },
     "execution_count": 35,
     "metadata": {},
     "output_type": "execute_result"
    }
   ],
   "source": [
    "math.pow(2, 3) # return power "
   ]
  },
  {
   "cell_type": "code",
   "execution_count": 36,
   "id": "81046277",
   "metadata": {},
   "outputs": [
    {
     "data": {
      "text/plain": [
       "1.7279999999999998"
      ]
     },
     "execution_count": 36,
     "metadata": {},
     "output_type": "execute_result"
    }
   ],
   "source": [
    "pow(1.2, 3)"
   ]
  },
  {
   "cell_type": "code",
   "execution_count": 37,
   "id": "b898dbce",
   "metadata": {},
   "outputs": [
    {
     "data": {
      "text/plain": [
       "-46"
      ]
     },
     "execution_count": 37,
     "metadata": {},
     "output_type": "execute_result"
    }
   ],
   "source": [
    "import math \n",
    "math.floor(-45.73)"
   ]
  },
  {
   "cell_type": "code",
   "execution_count": 38,
   "id": "55073fd9",
   "metadata": {},
   "outputs": [
    {
     "data": {
      "text/plain": [
       "-46"
      ]
     },
     "execution_count": 38,
     "metadata": {},
     "output_type": "execute_result"
    }
   ],
   "source": [
    "math.floor(-45.25)"
   ]
  },
  {
   "cell_type": "code",
   "execution_count": 39,
   "id": "a130d788",
   "metadata": {},
   "outputs": [
    {
     "data": {
      "text/plain": [
       "-45"
      ]
     },
     "execution_count": 39,
     "metadata": {},
     "output_type": "execute_result"
    }
   ],
   "source": [
    "math.ceil(-45.25)"
   ]
  },
  {
   "cell_type": "code",
   "execution_count": 40,
   "id": "ff80903a",
   "metadata": {},
   "outputs": [
    {
     "data": {
      "text/plain": [
       "46"
      ]
     },
     "execution_count": 40,
     "metadata": {},
     "output_type": "execute_result"
    }
   ],
   "source": [
    "math.ceil(45.25)"
   ]
  },
  {
   "cell_type": "code",
   "execution_count": 43,
   "id": "1a0948f8",
   "metadata": {},
   "outputs": [
    {
     "data": {
      "text/plain": [
       "70"
      ]
     },
     "execution_count": 43,
     "metadata": {},
     "output_type": "execute_result"
    }
   ],
   "source": [
    "round(70.2323)"
   ]
  },
  {
   "cell_type": "code",
   "execution_count": 44,
   "id": "5157d06e",
   "metadata": {},
   "outputs": [
    {
     "data": {
      "text/plain": [
       "57"
      ]
     },
     "execution_count": 44,
     "metadata": {},
     "output_type": "execute_result"
    }
   ],
   "source": [
    "round(56.7)"
   ]
  },
  {
   "cell_type": "code",
   "execution_count": 45,
   "id": "0c306c4d",
   "metadata": {},
   "outputs": [
    {
     "data": {
      "text/plain": [
       "6"
      ]
     },
     "execution_count": 45,
     "metadata": {},
     "output_type": "execute_result"
    }
   ],
   "source": [
    "round(5.50)"
   ]
  },
  {
   "cell_type": "code",
   "execution_count": 47,
   "id": "6a97066a",
   "metadata": {},
   "outputs": [
    {
     "data": {
      "text/plain": [
       "5"
      ]
     },
     "execution_count": 47,
     "metadata": {},
     "output_type": "execute_result"
    }
   ],
   "source": [
    "round(5.49)"
   ]
  },
  {
   "cell_type": "code",
   "execution_count": 48,
   "id": "de81becd",
   "metadata": {},
   "outputs": [
    {
     "data": {
      "text/plain": [
       "5.5"
      ]
     },
     "execution_count": 48,
     "metadata": {},
     "output_type": "execute_result"
    }
   ],
   "source": [
    "round(5.5000, 2)"
   ]
  },
  {
   "cell_type": "code",
   "execution_count": 49,
   "id": "ae3cb19b",
   "metadata": {},
   "outputs": [
    {
     "data": {
      "text/plain": [
       "5.5"
      ]
     },
     "execution_count": 49,
     "metadata": {},
     "output_type": "execute_result"
    }
   ],
   "source": [
    "round(5.5000, 1) # note - "
   ]
  },
  {
   "cell_type": "code",
   "execution_count": 50,
   "id": "0c68d914",
   "metadata": {},
   "outputs": [
    {
     "data": {
      "text/plain": [
       "6.0"
      ]
     },
     "execution_count": 50,
     "metadata": {},
     "output_type": "execute_result"
    }
   ],
   "source": [
    "round(5.5000, 0)"
   ]
  },
  {
   "cell_type": "code",
   "execution_count": 51,
   "id": "e9f75521",
   "metadata": {},
   "outputs": [
    {
     "data": {
      "text/plain": [
       "2.0"
      ]
     },
     "execution_count": 51,
     "metadata": {},
     "output_type": "execute_result"
    }
   ],
   "source": [
    "import math\n",
    "\n",
    "math.sqrt(4)"
   ]
  },
  {
   "cell_type": "code",
   "execution_count": 52,
   "id": "d7a60dd0",
   "metadata": {},
   "outputs": [
    {
     "data": {
      "text/plain": [
       "2.6457513110645907"
      ]
     },
     "execution_count": 52,
     "metadata": {},
     "output_type": "execute_result"
    }
   ],
   "source": [
    "math.sqrt(7)"
   ]
  },
  {
   "cell_type": "markdown",
   "id": "b28464b5",
   "metadata": {},
   "source": [
    "### Random Number Function"
   ]
  },
  {
   "cell_type": "markdown",
   "id": "2f4a0f6b",
   "metadata": {},
   "source": [
    "#### choice()"
   ]
  },
  {
   "cell_type": "code",
   "execution_count": 55,
   "id": "428bbc72",
   "metadata": {},
   "outputs": [
    {
     "data": {
      "text/plain": [
       "1"
      ]
     },
     "execution_count": 55,
     "metadata": {},
     "output_type": "execute_result"
    }
   ],
   "source": [
    "import random \n",
    "random.choice((1,2,3,4))"
   ]
  },
  {
   "cell_type": "code",
   "execution_count": 56,
   "id": "193e1bf4",
   "metadata": {},
   "outputs": [
    {
     "name": "stdout",
     "output_type": "stream",
     "text": [
      "random number from range(100) :  33\n"
     ]
    }
   ],
   "source": [
    "import random\n",
    "\n",
    "print(\"random number from range(100) : \", random.choice(range(100)) )"
   ]
  },
  {
   "cell_type": "code",
   "execution_count": 57,
   "id": "055dc707",
   "metadata": {},
   "outputs": [
    {
     "name": "stdout",
     "output_type": "stream",
     "text": [
      "random number from list1 :  5\n"
     ]
    }
   ],
   "source": [
    "import random\n",
    "list1 = [1,2,3,4,5,6]\n",
    "print(\"random number from list1 : \", random.choice(list1))"
   ]
  },
  {
   "cell_type": "code",
   "execution_count": 63,
   "id": "8b256be8",
   "metadata": {},
   "outputs": [
    {
     "name": "stdout",
     "output_type": "stream",
     "text": [
      "random character from 'Hello world' :  d\n"
     ]
    }
   ],
   "source": [
    "import random\n",
    "\n",
    "print(\"random character from 'Hello world' : \", random.choice(\"Hello_WOrld\"))"
   ]
  },
  {
   "cell_type": "code",
   "execution_count": 64,
   "id": "bd94188d",
   "metadata": {},
   "outputs": [
    {
     "ename": "SyntaxError",
     "evalue": "invalid syntax (3528282149.py, line 1)",
     "output_type": "error",
     "traceback": [
      "\u001b[1;36m  Input \u001b[1;32mIn [64]\u001b[1;36m\u001b[0m\n\u001b[1;33m    print(\"hello \"world\" and \")\u001b[0m\n\u001b[1;37m                  ^\u001b[0m\n\u001b[1;31mSyntaxError\u001b[0m\u001b[1;31m:\u001b[0m invalid syntax\n"
     ]
    }
   ],
   "source": [
    "# just for checking print\n",
    "print(\"hello \"world\" and \")"
   ]
  },
  {
   "cell_type": "code",
   "execution_count": 65,
   "id": "3d2ef381",
   "metadata": {},
   "outputs": [
    {
     "name": "stdout",
     "output_type": "stream",
     "text": [
      "hello \"world\" and \n"
     ]
    }
   ],
   "source": [
    "print(\"hello \\\"world\\\" and \")#by using escape '\\' charector it will be possible print \"\" in side\""
   ]
  },
  {
   "cell_type": "markdown",
   "id": "3c461ca8",
   "metadata": {},
   "source": [
    "#### randrange([start], stop, [step])"
   ]
  },
  {
   "cell_type": "code",
   "execution_count": 84,
   "id": "7763f9e1",
   "metadata": {},
   "outputs": [
    {
     "name": "stdout",
     "output_type": "stream",
     "text": [
      "randrange(1,100, 2) : 97\n"
     ]
    }
   ],
   "source": [
    "import random\n",
    "# randomly select an odd number between 1-100\n",
    "print(\"randrange(1,100, 2) :\", random.randrange(1, 100, 2))"
   ]
  },
  {
   "cell_type": "code",
   "execution_count": 68,
   "id": "d3df17c9",
   "metadata": {},
   "outputs": [
    {
     "name": "stdout",
     "output_type": "stream",
     "text": [
      "randrange(100) : 44\n"
     ]
    }
   ],
   "source": [
    "import random\n",
    "# randomly select an odd number between 1-100\n",
    "print(\"randrange(100) :\", random.randrange(100))"
   ]
  },
  {
   "cell_type": "markdown",
   "id": "e15a358f",
   "metadata": {},
   "source": [
    "#### random"
   ]
  },
  {
   "cell_type": "code",
   "execution_count": 69,
   "id": "05f0060e",
   "metadata": {},
   "outputs": [
    {
     "name": "stdout",
     "output_type": "stream",
     "text": [
      "random number:  0.776098762651825\n"
     ]
    }
   ],
   "source": [
    "import random\n",
    "# random number\n",
    "print(\"random number: \", random.random())"
   ]
  },
  {
   "cell_type": "code",
   "execution_count": 73,
   "id": "21fba31a",
   "metadata": {},
   "outputs": [
    {
     "data": {
      "text/plain": [
       "5"
      ]
     },
     "execution_count": 73,
     "metadata": {},
     "output_type": "execute_result"
    }
   ],
   "source": [
    "import random\n",
    "# Return random integer in range [a, b], including both end points.\n",
    "random.randint(1,10)"
   ]
  },
  {
   "cell_type": "code",
   "execution_count": 74,
   "id": "98bcc085",
   "metadata": {},
   "outputs": [
    {
     "data": {
      "text/plain": [
       "6"
      ]
     },
     "execution_count": 74,
     "metadata": {},
     "output_type": "execute_result"
    }
   ],
   "source": [
    "random.randint(0, 18)"
   ]
  },
  {
   "cell_type": "markdown",
   "id": "7d4d7239",
   "metadata": {},
   "source": [
    "#### seed()"
   ]
  },
  {
   "cell_type": "code",
   "execution_count": 90,
   "id": "d3e5757f",
   "metadata": {},
   "outputs": [
    {
     "name": "stdout",
     "output_type": "stream",
     "text": [
      "Random number with default seed 0.027381325004830148\n"
     ]
    }
   ],
   "source": [
    "import random\n",
    "random.seed()\n",
    "print(\"Random number with default seed\", random.random())"
   ]
  },
  {
   "cell_type": "code",
   "execution_count": 91,
   "id": "9010fc5a",
   "metadata": {},
   "outputs": [
    {
     "name": "stdout",
     "output_type": "stream",
     "text": [
      "random number with int seed:  0.5714025946899135\n"
     ]
    }
   ],
   "source": [
    "random.seed(10)  # output number will not be change once generated wheter we run it multiple time\n",
    "print(\"random number with int seed: \", random.random())"
   ]
  },
  {
   "cell_type": "code",
   "execution_count": 92,
   "id": "b9147004",
   "metadata": {},
   "outputs": [
    {
     "name": "stdout",
     "output_type": "stream",
     "text": [
      "random number with string seed : 0.3537754404730722\n"
     ]
    }
   ],
   "source": [
    "random.seed(\"hello\", 2)  # version = 2 for int and version = 1 used for hash() of x\n",
    "\n",
    "print(\"random number with string seed :\", random.random())"
   ]
  },
  {
   "cell_type": "markdown",
   "id": "1b42451e",
   "metadata": {},
   "source": [
    "#### shuffle()"
   ]
  },
  {
   "cell_type": "code",
   "execution_count": 85,
   "id": "4e21e7b6",
   "metadata": {},
   "outputs": [
    {
     "name": "stdout",
     "output_type": "stream",
     "text": [
      "reshuffled list :  [10, 16, 5, 20]\n"
     ]
    }
   ],
   "source": [
    "import random \n",
    "\n",
    "list1 = [20,16,10,5]\n",
    "\n",
    "random.shuffle(list1)\n",
    "print(\"reshuffled list : \", list1)"
   ]
  },
  {
   "cell_type": "code",
   "execution_count": 86,
   "id": "5e6e6242",
   "metadata": {},
   "outputs": [
    {
     "name": "stdout",
     "output_type": "stream",
     "text": [
      "reshuffled list :  [20, 16, 5, 10]\n"
     ]
    }
   ],
   "source": [
    "import random \n",
    "random.shuffle(list1)\n",
    "print(\"reshuffled list : \", list1)"
   ]
  },
  {
   "cell_type": "markdown",
   "id": "b03b21bd",
   "metadata": {},
   "source": [
    "#### uniform(x,y) \n",
    "\n",
    "* x - lower limit.\n",
    "* y - upper limit."
   ]
  },
  {
   "cell_type": "code",
   "execution_count": 87,
   "id": "4230236b",
   "metadata": {},
   "outputs": [
    {
     "name": "stdout",
     "output_type": "stream",
     "text": [
      "random float uniform(5,10):  8.32548129941273\n"
     ]
    }
   ],
   "source": [
    "import random\n",
    "\n",
    "print(\"random float uniform(5,10): \", random.uniform(5,10))"
   ]
  },
  {
   "cell_type": "code",
   "execution_count": 89,
   "id": "e1d8c36a",
   "metadata": {},
   "outputs": [
    {
     "name": "stdout",
     "output_type": "stream",
     "text": [
      "ranoom float uniform(7, 14):  11.50216637642797\n"
     ]
    }
   ],
   "source": [
    "print(\"ranoom float uniform(7, 14): \", random.uniform(7, 14))"
   ]
  },
  {
   "cell_type": "markdown",
   "id": "9c04baff",
   "metadata": {},
   "source": [
    "### Trigonometric Functions"
   ]
  },
  {
   "cell_type": "markdown",
   "id": "216884a7",
   "metadata": {},
   "source": [
    "#### acos(x)\n",
    "\n",
    "* the acos() method returns the `arc cosine` of x in radians.\n",
    "\n",
    "* x - must be in the range -1 to 1. If x is greater than 1 then it will generate 'math domain error'."
   ]
  },
  {
   "cell_type": "code",
   "execution_count": 93,
   "id": "04b9b0b2",
   "metadata": {},
   "outputs": [
    {
     "name": "stdout",
     "output_type": "stream",
     "text": [
      "acos(0.61):  0.914735735869974\n",
      "acos(0) :  1.5707963267948966\n"
     ]
    }
   ],
   "source": [
    "import math\n",
    "\n",
    "print(\"acos(0.61): \", math.acos(0.61))\n",
    "print(\"acos(0) : \", math.acos(0))"
   ]
  },
  {
   "cell_type": "code",
   "execution_count": 94,
   "id": "95a9b977",
   "metadata": {},
   "outputs": [
    {
     "name": "stdout",
     "output_type": "stream",
     "text": [
      "acos(-1): 3.141592653589793\n",
      "acos(1): 0.0\n"
     ]
    }
   ],
   "source": [
    "print(\"acos(-1):\", math.acos(-1))\n",
    "print(\"acos(1):\", math.acos(1))"
   ]
  },
  {
   "cell_type": "markdown",
   "id": "04e3d938",
   "metadata": {},
   "source": [
    "#### asin():\n",
    "* return arc sine of x\n"
   ]
  },
  {
   "cell_type": "code",
   "execution_count": 95,
   "id": "b879c8eb",
   "metadata": {},
   "outputs": [
    {
     "name": "stdout",
     "output_type": "stream",
     "text": [
      "asin(0.64): 0.694498265626556\n"
     ]
    }
   ],
   "source": [
    "import math \n",
    "\n",
    "print(\"asin(0.64):\", math.asin(0.64))"
   ]
  },
  {
   "cell_type": "code",
   "execution_count": 96,
   "id": "38e13756",
   "metadata": {},
   "outputs": [
    {
     "name": "stdout",
     "output_type": "stream",
     "text": [
      "asin(0.40): 0.41151684606748806\n"
     ]
    }
   ],
   "source": [
    "print(\"asin(0.40):\", math.asin(0.40))"
   ]
  },
  {
   "cell_type": "markdown",
   "id": "1f71cfac",
   "metadata": {},
   "source": [
    "####  atan():\n",
    "\n",
    "* return the arc tangent of x in radians."
   ]
  },
  {
   "cell_type": "code",
   "execution_count": 97,
   "id": "0d74928f",
   "metadata": {},
   "outputs": [
    {
     "name": "stdout",
     "output_type": "stream",
     "text": [
      "atan(0.45) 0.4228539261329407\n"
     ]
    }
   ],
   "source": [
    "import math\n",
    "\n",
    "print(\"atan(0.45)\", math.atan(0.45))"
   ]
  },
  {
   "cell_type": "markdown",
   "id": "04ec8799",
   "metadata": {},
   "source": [
    "#### atan2(y, x):\n",
    "* returns atan(y/x), in radians\n"
   ]
  },
  {
   "cell_type": "code",
   "execution_count": 98,
   "id": "946a3bfa",
   "metadata": {},
   "outputs": [
    {
     "name": "stdout",
     "output_type": "stream",
     "text": [
      "atan2(0.50, 0.50): 0.7853981633974483\n",
      "atan2(10, 10): 0.7853981633974483\n"
     ]
    }
   ],
   "source": [
    "import math \n",
    "\n",
    "print(\"atan2(0.50, 0.50):\", math.atan2(0.50, 0.50))\n",
    "print(\"atan2(10, 10):\", math.atan2(10, 10))"
   ]
  },
  {
   "cell_type": "markdown",
   "id": "d0e508f4",
   "metadata": {},
   "source": [
    "#### cos(x):\n",
    "\n",
    "* returns te cosine of x in radians."
   ]
  },
  {
   "cell_type": "code",
   "execution_count": 99,
   "id": "cf0c617a",
   "metadata": {},
   "outputs": [
    {
     "name": "stdout",
     "output_type": "stream",
     "text": [
      "cos(3) -0.9899924966004454\n"
     ]
    }
   ],
   "source": [
    "import math\n",
    "\n",
    "print(\"cos(3)\", math.cos(3))"
   ]
  },
  {
   "cell_type": "code",
   "execution_count": 100,
   "id": "28cb4c4d",
   "metadata": {},
   "outputs": [
    {
     "data": {
      "text/plain": [
       "1.0"
      ]
     },
     "execution_count": 100,
     "metadata": {},
     "output_type": "execute_result"
    }
   ],
   "source": [
    "math.cos(0)"
   ]
  },
  {
   "cell_type": "code",
   "execution_count": 101,
   "id": "da0a0c8b",
   "metadata": {},
   "outputs": [
    {
     "data": {
      "text/plain": [
       "-1.0"
      ]
     },
     "execution_count": 101,
     "metadata": {},
     "output_type": "execute_result"
    }
   ],
   "source": [
    "math.cos(math.pi)"
   ]
  },
  {
   "cell_type": "code",
   "execution_count": 102,
   "id": "87e59d8b",
   "metadata": {},
   "outputs": [
    {
     "data": {
      "text/plain": [
       "1.0"
      ]
     },
     "execution_count": 102,
     "metadata": {},
     "output_type": "execute_result"
    }
   ],
   "source": [
    "math.cos(2*math.pi)"
   ]
  },
  {
   "cell_type": "markdown",
   "id": "feffa892",
   "metadata": {},
   "source": [
    "### hypot(x, y):\n",
    "\n",
    "returns the Euclidean norms, sqrt(x*x + y*y) this is length of vector from origin to point(x, y)."
   ]
  },
  {
   "cell_type": "code",
   "execution_count": 103,
   "id": "30d9bd8d",
   "metadata": {},
   "outputs": [
    {
     "data": {
      "text/plain": [
       "3.6055512754639896"
      ]
     },
     "execution_count": 103,
     "metadata": {},
     "output_type": "execute_result"
    }
   ],
   "source": [
    "import math \n",
    "\n",
    "math.hypot(3,2)"
   ]
  },
  {
   "cell_type": "code",
   "execution_count": 104,
   "id": "ead7f740",
   "metadata": {},
   "outputs": [
    {
     "data": {
      "text/plain": [
       "3.605551275463989"
      ]
     },
     "execution_count": 104,
     "metadata": {},
     "output_type": "execute_result"
    }
   ],
   "source": [
    "math.sqrt(3*3 + 2*2)"
   ]
  },
  {
   "cell_type": "code",
   "execution_count": 105,
   "id": "dd3a907e",
   "metadata": {},
   "outputs": [
    {
     "data": {
      "text/plain": [
       "2.0"
      ]
     },
     "execution_count": 105,
     "metadata": {},
     "output_type": "execute_result"
    }
   ],
   "source": [
    "math.hypot(0, 2)"
   ]
  },
  {
   "cell_type": "code",
   "execution_count": 106,
   "id": "1d2091c0",
   "metadata": {},
   "outputs": [
    {
     "data": {
      "text/plain": [
       "5.0"
      ]
     },
     "execution_count": 106,
     "metadata": {},
     "output_type": "execute_result"
    }
   ],
   "source": [
    "math.hypot(3,4)"
   ]
  },
  {
   "cell_type": "markdown",
   "id": "d61c1330",
   "metadata": {},
   "source": [
    "#### sin(x) :\n",
    "* return sin of x in radians."
   ]
  },
  {
   "cell_type": "code",
   "execution_count": 107,
   "id": "3861d756",
   "metadata": {},
   "outputs": [
    {
     "data": {
      "text/plain": [
       "-0.9880316240928618"
      ]
     },
     "execution_count": 107,
     "metadata": {},
     "output_type": "execute_result"
    }
   ],
   "source": [
    "import math \n",
    "\n",
    "math.sin(30)"
   ]
  },
  {
   "cell_type": "code",
   "execution_count": 108,
   "id": "d5c3fe99",
   "metadata": {},
   "outputs": [
    {
     "data": {
      "text/plain": [
       "1.2246467991473532e-16"
      ]
     },
     "execution_count": 108,
     "metadata": {},
     "output_type": "execute_result"
    }
   ],
   "source": [
    "math.sin(math.pi)"
   ]
  },
  {
   "cell_type": "code",
   "execution_count": 111,
   "id": "41eb5688",
   "metadata": {},
   "outputs": [
    {
     "data": {
      "text/plain": [
       "0.7833269096274834"
      ]
     },
     "execution_count": 111,
     "metadata": {},
     "output_type": "execute_result"
    }
   ],
   "source": [
    "math.sin(.90)"
   ]
  },
  {
   "cell_type": "code",
   "execution_count": 110,
   "id": "e819c552",
   "metadata": {},
   "outputs": [
    {
     "data": {
      "text/plain": [
       "1.0"
      ]
     },
     "execution_count": 110,
     "metadata": {},
     "output_type": "execute_result"
    }
   ],
   "source": [
    "math.sin(math.pi/2)"
   ]
  },
  {
   "cell_type": "markdown",
   "id": "8bea8819",
   "metadata": {},
   "source": [
    "#### tan(x)\n",
    "* returns tangents of x radians"
   ]
  },
  {
   "cell_type": "code",
   "execution_count": 112,
   "id": "4df4519b",
   "metadata": {},
   "outputs": [
    {
     "data": {
      "text/plain": [
       "-0.1425465430742778"
      ]
     },
     "execution_count": 112,
     "metadata": {},
     "output_type": "execute_result"
    }
   ],
   "source": [
    "import math \n",
    "\n",
    "math.tan(3)"
   ]
  },
  {
   "cell_type": "code",
   "execution_count": 113,
   "id": "3486d0e5",
   "metadata": {},
   "outputs": [
    {
     "data": {
      "text/plain": [
       "-1.2246467991473532e-16"
      ]
     },
     "execution_count": 113,
     "metadata": {},
     "output_type": "execute_result"
    }
   ],
   "source": [
    "math.tan(math.pi)"
   ]
  },
  {
   "cell_type": "code",
   "execution_count": 114,
   "id": "a5c75378",
   "metadata": {},
   "outputs": [
    {
     "data": {
      "text/plain": [
       "0.9999999999999999"
      ]
     },
     "execution_count": 114,
     "metadata": {},
     "output_type": "execute_result"
    }
   ],
   "source": [
    "math.tan(math.pi/4)"
   ]
  },
  {
   "cell_type": "markdown",
   "id": "1694777e",
   "metadata": {},
   "source": [
    "#### Number degrees() Method\n",
    "\n",
    "* The degree() method convert anglex form  radians to degrees.\n",
    "* degrees(x)."
   ]
  },
  {
   "cell_type": "code",
   "execution_count": 115,
   "id": "9aa5592f",
   "metadata": {},
   "outputs": [
    {
     "data": {
      "text/plain": [
       "171.88733853924697"
      ]
     },
     "execution_count": 115,
     "metadata": {},
     "output_type": "execute_result"
    }
   ],
   "source": [
    "import math \n",
    "\n",
    "math.degrees(3)"
   ]
  },
  {
   "cell_type": "code",
   "execution_count": 116,
   "id": "14cc2a1d",
   "metadata": {},
   "outputs": [
    {
     "data": {
      "text/plain": [
       "1145.9155902616465"
      ]
     },
     "execution_count": 116,
     "metadata": {},
     "output_type": "execute_result"
    }
   ],
   "source": [
    "math.degrees(20)"
   ]
  },
  {
   "cell_type": "code",
   "execution_count": 117,
   "id": "fe46abe5",
   "metadata": {},
   "outputs": [
    {
     "data": {
      "text/plain": [
       "180.0"
      ]
     },
     "execution_count": 117,
     "metadata": {},
     "output_type": "execute_result"
    }
   ],
   "source": [
    "math.degrees(math.pi)"
   ]
  },
  {
   "cell_type": "code",
   "execution_count": 118,
   "id": "74253762",
   "metadata": {},
   "outputs": [
    {
     "data": {
      "text/plain": [
       "179.9087476710785"
      ]
     },
     "execution_count": 118,
     "metadata": {},
     "output_type": "execute_result"
    }
   ],
   "source": [
    "math.degrees(3.14)"
   ]
  },
  {
   "cell_type": "code",
   "execution_count": 119,
   "id": "bc0f9d40",
   "metadata": {},
   "outputs": [
    {
     "data": {
      "text/plain": [
       "45.0"
      ]
     },
     "execution_count": 119,
     "metadata": {},
     "output_type": "execute_result"
    }
   ],
   "source": [
    " math.degrees(math.pi/4)"
   ]
  },
  {
   "cell_type": "markdown",
   "id": "022a3844",
   "metadata": {},
   "source": [
    "#### Number radians() Method\n",
    "\n",
    "* The radians() method convert angle x from degree to radians.\n",
    "* radians(x)"
   ]
  },
  {
   "cell_type": "code",
   "execution_count": 120,
   "id": "985d3482",
   "metadata": {},
   "outputs": [
    {
     "data": {
      "text/plain": [
       "0.05235987755982989"
      ]
     },
     "execution_count": 120,
     "metadata": {},
     "output_type": "execute_result"
    }
   ],
   "source": [
    "import math \n",
    "\n",
    "math.radians(3)"
   ]
  },
  {
   "cell_type": "code",
   "execution_count": 121,
   "id": "b88a31dd",
   "metadata": {},
   "outputs": [
    {
     "data": {
      "text/plain": [
       "0.05480333851262195"
      ]
     },
     "execution_count": 121,
     "metadata": {},
     "output_type": "execute_result"
    }
   ],
   "source": [
    "math.radians(3.14)"
   ]
  },
  {
   "cell_type": "code",
   "execution_count": 122,
   "id": "730661e6",
   "metadata": {},
   "outputs": [
    {
     "data": {
      "text/plain": [
       "0.05483113556160755"
      ]
     },
     "execution_count": 122,
     "metadata": {},
     "output_type": "execute_result"
    }
   ],
   "source": [
    "math.radians(math.pi)"
   ]
  },
  {
   "cell_type": "markdown",
   "id": "2533346d",
   "metadata": {},
   "source": [
    "#### Mathematical Constant\n",
    "\n",
    "* pi \n",
    "* e"
   ]
  },
  {
   "cell_type": "code",
   "execution_count": 123,
   "id": "551978d1",
   "metadata": {},
   "outputs": [
    {
     "data": {
      "text/plain": [
       "3.141592653589793"
      ]
     },
     "execution_count": 123,
     "metadata": {},
     "output_type": "execute_result"
    }
   ],
   "source": [
    "import math\n",
    "math.pi"
   ]
  },
  {
   "cell_type": "code",
   "execution_count": 124,
   "id": "cf3f7531",
   "metadata": {},
   "outputs": [
    {
     "data": {
      "text/plain": [
       "2.718281828459045"
      ]
     },
     "execution_count": 124,
     "metadata": {},
     "output_type": "execute_result"
    }
   ],
   "source": [
    "math.e"
   ]
  },
  {
   "cell_type": "code",
   "execution_count": null,
   "id": "b5fd7cc1",
   "metadata": {},
   "outputs": [],
   "source": []
  }
 ],
 "metadata": {
  "kernelspec": {
   "display_name": "Python 3 (ipykernel)",
   "language": "python",
   "name": "python3"
  },
  "language_info": {
   "codemirror_mode": {
    "name": "ipython",
    "version": 3
   },
   "file_extension": ".py",
   "mimetype": "text/x-python",
   "name": "python",
   "nbconvert_exporter": "python",
   "pygments_lexer": "ipython3",
   "version": "3.9.7"
  }
 },
 "nbformat": 4,
 "nbformat_minor": 5
}
