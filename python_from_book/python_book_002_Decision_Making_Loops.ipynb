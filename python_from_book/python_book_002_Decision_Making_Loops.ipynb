{
 "cells": [
  {
   "cell_type": "markdown",
   "id": "a6af5673",
   "metadata": {},
   "source": [
    "#### If Satements\n",
    "\n",
    "* python programming language assumes any `non-zero and non-null value as True and zero and null value as False`."
   ]
  },
  {
   "cell_type": "code",
   "execution_count": 2,
   "id": "0b4896ad",
   "metadata": {},
   "outputs": [
    {
     "name": "stdout",
     "output_type": "stream",
     "text": [
      "1 - Got the true expression value\n",
      "100\n",
      "Good bye!\n"
     ]
    }
   ],
   "source": [
    "var1 = 100\n",
    "\n",
    "if var1:\n",
    "    print(\"1 - Got the true expression value\")\n",
    "    print(var1)\n",
    "\n",
    "var2 = 0\n",
    "if var2:\n",
    "    print(\"2 - Got the true expression value\")\n",
    "    print(var2)\n",
    "    \n",
    "print(\"Good bye!\")"
   ]
  },
  {
   "cell_type": "markdown",
   "id": "e7684890",
   "metadata": {},
   "source": [
    "As we can see var2 = 0 which means python will assume it False so condition will not be satisfied."
   ]
  },
  {
   "cell_type": "code",
   "execution_count": 4,
   "id": "26add129",
   "metadata": {},
   "outputs": [
    {
     "name": "stdout",
     "output_type": "stream",
     "text": [
      "Good bye!\n"
     ]
    }
   ],
   "source": [
    "var2 = 0\n",
    "if var2:\n",
    "    print(\"Hello\")\n",
    "    print(var2)\n",
    "    \n",
    "print(\"Good bye!\")"
   ]
  },
  {
   "cell_type": "markdown",
   "id": "df6e28a3",
   "metadata": {},
   "source": [
    "### if - else:\n"
   ]
  },
  {
   "cell_type": "code",
   "execution_count": 8,
   "id": "5138d388",
   "metadata": {},
   "outputs": [
    {
     "name": "stdout",
     "output_type": "stream",
     "text": [
      "Enter the amount: 129\n",
      "\n",
      "You will get 5.0 % discount!\n",
      "5% Discount in value :  6.45\n",
      "Net payable : 122.55\n"
     ]
    }
   ],
   "source": [
    "amount = int(input(\"Enter the amount: \"))\n",
    "print()\n",
    "if amount < 1000:\n",
    "    print(\"You will get 5.0 % discount!\")\n",
    "    discount = amount * 0.05\n",
    "    print(\"5% Discount in value : \", discount)\n",
    "\n",
    "else:\n",
    "    print(\"You will get 10.0 % discount!\")\n",
    "    discount = amount * 0.10\n",
    "    print(\"Discount : \", discount)\n",
    "    \n",
    "\n",
    "print(\"Net payable :\", amount - discount)"
   ]
  },
  {
   "cell_type": "markdown",
   "id": "70b91d5d",
   "metadata": {},
   "source": [
    "### Th 'elif' statement "
   ]
  },
  {
   "cell_type": "code",
   "execution_count": 10,
   "id": "bc2762d3",
   "metadata": {},
   "outputs": [
    {
     "name": "stdout",
     "output_type": "stream",
     "text": [
      "Enter amount: 1220\n",
      "You will get 10.0 % discount!\n",
      "Discount :  122.0\n",
      "Net payable :  1098.0\n"
     ]
    }
   ],
   "source": [
    "amount = int(input(\"Enter amount: \"))\n",
    "\n",
    "if amount <1000:\n",
    "    print(\"You will get 5.0 % discount!\")\n",
    "    discount = amount * 0.05\n",
    "    print(\"Discount: \", discount)\n",
    "    \n",
    "elif amount<5000:\n",
    "    print(\"You will get 10.0 % discount!\")\n",
    "    discount = amount * 0.10\n",
    "    print(\"Discount : \", discount)\n",
    "    \n",
    "else:\n",
    "    print(\"You will get 15% discount!\")\n",
    "    discount = amount * 0.15\n",
    "    print(\"Discount : \", discount)\n",
    "    \n",
    "print(\"Net payable : \", amount - discount)\n",
    "    \n",
    "    "
   ]
  },
  {
   "cell_type": "markdown",
   "id": "5f4621c2",
   "metadata": {},
   "source": [
    "### Nested IF Statement"
   ]
  },
  {
   "cell_type": "code",
   "execution_count": 12,
   "id": "8fd788ee",
   "metadata": {},
   "outputs": [
    {
     "name": "stdout",
     "output_type": "stream",
     "text": [
      "Enter the number: 8\n",
      "Number is Divisible by 2 not divisible by 3\n"
     ]
    }
   ],
   "source": [
    "num = int(input(\"Enter the number: \"))\n",
    "\n",
    "if num%2 == 0:\n",
    "    if num%3 == 0:\n",
    "        print(\"Number is Divisible by 2 and 3\")\n",
    "    else:\n",
    "        print(\"Number is Divisible by 2 not divisible by 3\")\n",
    "        \n",
    "else:\n",
    "    if num%3 == 0:\n",
    "        print(\"Divisible by 3 not divisible by 2\")\n",
    "    else:\n",
    "        print(\"neither divisible by 2 nor 3\")"
   ]
  },
  {
   "cell_type": "markdown",
   "id": "57b15893",
   "metadata": {},
   "source": [
    "#### Single Statement Suites"
   ]
  },
  {
   "cell_type": "code",
   "execution_count": 13,
   "id": "f362ccbc",
   "metadata": {},
   "outputs": [
    {
     "name": "stdout",
     "output_type": "stream",
     "text": [
      "Value expression is 100\n",
      "Good bye!\n"
     ]
    }
   ],
   "source": [
    "var = 100\n",
    "\n",
    "if (var == 100) : print(\"Value expression is 100\")\n",
    "print(\"Good bye!\")"
   ]
  },
  {
   "cell_type": "markdown",
   "id": "2440e485",
   "metadata": {},
   "source": [
    "#### While loop statements:\n",
    "\n",
    "A while loop statement in python programming language repeatedly executes a target statement as long as a given condition is true."
   ]
  },
  {
   "cell_type": "code",
   "execution_count": 14,
   "id": "99cf4f52",
   "metadata": {},
   "outputs": [
    {
     "name": "stdout",
     "output_type": "stream",
     "text": [
      "The count is :  0\n",
      "The count is :  1\n",
      "The count is :  2\n",
      "The count is :  3\n",
      "The count is :  4\n",
      "The count is :  5\n",
      "The count is :  6\n",
      "The count is :  7\n",
      "The count is :  8\n"
     ]
    }
   ],
   "source": [
    "count = 0\n",
    "\n",
    "while count < 9:\n",
    "    print(\"The count is : \", count)\n",
    "    count = count + 1"
   ]
  },
  {
   "cell_type": "markdown",
   "id": "a12981b5",
   "metadata": {},
   "source": [
    "#### The infinite loop "
   ]
  },
  {
   "cell_type": "code",
   "execution_count": 15,
   "id": "c5d4b178",
   "metadata": {},
   "outputs": [
    {
     "name": "stdout",
     "output_type": "stream",
     "text": [
      "Enter the number : 10\n",
      "You have entered:  10\n",
      "Enter the number : 12\n",
      "You have entered:  12\n",
      "Enter the number : 23\n",
      "You have entered:  23\n",
      "Enter the number : s\n"
     ]
    },
    {
     "ename": "ValueError",
     "evalue": "invalid literal for int() with base 10: 's'",
     "output_type": "error",
     "traceback": [
      "\u001b[1;31m---------------------------------------------------------------------------\u001b[0m",
      "\u001b[1;31mValueError\u001b[0m                                Traceback (most recent call last)",
      "Input \u001b[1;32mIn [15]\u001b[0m, in \u001b[0;36m<cell line: 3>\u001b[1;34m()\u001b[0m\n\u001b[0;32m      1\u001b[0m var \u001b[38;5;241m=\u001b[39m \u001b[38;5;241m1\u001b[39m\n\u001b[0;32m      3\u001b[0m \u001b[38;5;28;01mwhile\u001b[39;00m var \u001b[38;5;241m==\u001b[39m \u001b[38;5;241m1\u001b[39m:  \u001b[38;5;66;03m# this construct an infinite loop \u001b[39;00m\n\u001b[1;32m----> 4\u001b[0m     num \u001b[38;5;241m=\u001b[39m \u001b[38;5;28;43mint\u001b[39;49m\u001b[43m(\u001b[49m\u001b[38;5;28;43minput\u001b[39;49m\u001b[43m(\u001b[49m\u001b[38;5;124;43m\"\u001b[39;49m\u001b[38;5;124;43mEnter the number : \u001b[39;49m\u001b[38;5;124;43m\"\u001b[39;49m\u001b[43m)\u001b[49m\u001b[43m)\u001b[49m\n\u001b[0;32m      5\u001b[0m     \u001b[38;5;28mprint\u001b[39m(\u001b[38;5;124m\"\u001b[39m\u001b[38;5;124mYou have entered: \u001b[39m\u001b[38;5;124m\"\u001b[39m, num)\n\u001b[0;32m      7\u001b[0m \u001b[38;5;28mprint\u001b[39m(\u001b[38;5;124m\"\u001b[39m\u001b[38;5;124mGood bye!\u001b[39m\u001b[38;5;124m\"\u001b[39m)\n",
      "\u001b[1;31mValueError\u001b[0m: invalid literal for int() with base 10: 's'"
     ]
    }
   ],
   "source": [
    "var = 1\n",
    "\n",
    "while var == 1:  # this construct an infinite loop \n",
    "    num = int(input(\"Enter the number : \"))\n",
    "    print(\"You have entered: \", num)\n",
    "    \n",
    "print(\"Good bye!\")"
   ]
  },
  {
   "cell_type": "markdown",
   "id": "a53dcb75",
   "metadata": {},
   "source": [
    "#### Using else Statement with loops\n"
   ]
  },
  {
   "cell_type": "code",
   "execution_count": 16,
   "id": "462a6fb3",
   "metadata": {},
   "outputs": [
    {
     "name": "stdout",
     "output_type": "stream",
     "text": [
      "0  is less than 5\n",
      "1  is less than 5\n",
      "2  is less than 5\n",
      "3  is less than 5\n",
      "4  is less than 5\n",
      "5  is not less than 5\n"
     ]
    }
   ],
   "source": [
    "count = 0\n",
    "\n",
    "while count < 5:\n",
    "    print(count, \" is less than 5\")\n",
    "    count = count + 1\n",
    "\n",
    "else:\n",
    "    print(count, \" is not less than 5\")"
   ]
  },
  {
   "cell_type": "markdown",
   "id": "d1e937f1",
   "metadata": {},
   "source": [
    "### Single Statement Suites"
   ]
  },
  {
   "cell_type": "code",
   "execution_count": 18,
   "id": "7019c030",
   "metadata": {},
   "outputs": [],
   "source": [
    "### this is infinite loop\n",
    "# flag = 1  \n",
    "\n",
    "# while flag : print(\"Given flag is really True! \")\n",
    "# print(\"Good bye!\")"
   ]
  },
  {
   "cell_type": "markdown",
   "id": "a2b406c4",
   "metadata": {},
   "source": [
    "### for Loop Statements"
   ]
  },
  {
   "cell_type": "code",
   "execution_count": 19,
   "id": "af82a587",
   "metadata": {},
   "outputs": [
    {
     "data": {
      "text/plain": [
       "range(0, 5)"
      ]
     },
     "execution_count": 19,
     "metadata": {},
     "output_type": "execute_result"
    }
   ],
   "source": [
    "range(5)"
   ]
  },
  {
   "cell_type": "code",
   "execution_count": 20,
   "id": "62dbbd08",
   "metadata": {},
   "outputs": [
    {
     "data": {
      "text/plain": [
       "[0, 1, 2, 3, 4]"
      ]
     },
     "execution_count": 20,
     "metadata": {},
     "output_type": "execute_result"
    }
   ],
   "source": [
    "list(range(5))"
   ]
  },
  {
   "cell_type": "code",
   "execution_count": 21,
   "id": "784fd2f8",
   "metadata": {},
   "outputs": [
    {
     "name": "stdout",
     "output_type": "stream",
     "text": [
      "0\n",
      "1\n",
      "2\n",
      "3\n",
      "4\n"
     ]
    }
   ],
   "source": [
    "for var in list(range(5)):\n",
    "    print(var)"
   ]
  },
  {
   "cell_type": "code",
   "execution_count": 22,
   "id": "ecdd6284",
   "metadata": {},
   "outputs": [
    {
     "name": "stdout",
     "output_type": "stream",
     "text": [
      "Current letter:  p\n",
      "Current letter:  y\n",
      "Current letter:  t\n",
      "Current letter:  h\n",
      "Current letter:  o\n",
      "Current letter:  n\n"
     ]
    }
   ],
   "source": [
    "for letter in 'python':  # traversal of a string sequence\n",
    "    print(\"Current letter: \", letter)\n",
    "    "
   ]
  },
  {
   "cell_type": "code",
   "execution_count": 23,
   "id": "cd56ad2d",
   "metadata": {},
   "outputs": [
    {
     "name": "stdout",
     "output_type": "stream",
     "text": [
      "Current fruit:  banana\n",
      "Current fruit:  apple\n",
      "Current fruit:  mango\n",
      "Good bye!\n"
     ]
    }
   ],
   "source": [
    "fruits = ['banana', 'apple', 'mango']\n",
    "\n",
    "for fruit in fruits:  # traversal of list sequence\n",
    "    print(\"Current fruit: \", fruit)\n",
    "    \n",
    "print(\"Good bye!\")\n",
    "    "
   ]
  },
  {
   "cell_type": "markdown",
   "id": "96a42ef6",
   "metadata": {},
   "source": [
    "### Iterating by Sequence Index:\n"
   ]
  },
  {
   "cell_type": "code",
   "execution_count": 25,
   "id": "1a9ddd59",
   "metadata": {},
   "outputs": [
    {
     "name": "stdout",
     "output_type": "stream",
     "text": [
      "Current fruit:  banana\n",
      "Current fruit:  apple\n",
      "Current fruit:  mango\n",
      "Good  bye!\n"
     ]
    }
   ],
   "source": [
    "fruits = ['banana', 'apple', 'mango']\n",
    "\n",
    "for index in range(len(fruits)):\n",
    "    print(\"Current fruit: \", fruits[index])\n",
    "    \n",
    "print(\"Good  bye!\")"
   ]
  },
  {
   "cell_type": "markdown",
   "id": "b876a8b1",
   "metadata": {},
   "source": [
    "#### Using else Statement with loop"
   ]
  },
  {
   "cell_type": "code",
   "execution_count": 26,
   "id": "1526689d",
   "metadata": {},
   "outputs": [
    {
     "name": "stdout",
     "output_type": "stream",
     "text": [
      "The list does not contain even number\n"
     ]
    }
   ],
   "source": [
    "numbers = [11, 33, 55, 39, 55, 75, 37, 21, 23, 41, 13]\n",
    "\n",
    "for num in numbers:\n",
    "    if num%2 == 0:\n",
    "        print(\"The list contain an even number\")\n",
    "        break\n",
    "else:\n",
    "    print(\"The list does not contain even number\")"
   ]
  },
  {
   "cell_type": "code",
   "execution_count": 27,
   "id": "d71418a0",
   "metadata": {},
   "outputs": [
    {
     "name": "stdout",
     "output_type": "stream",
     "text": [
      "The list contain an even number\n"
     ]
    }
   ],
   "source": [
    "numbers = [11, 33, 55, 39, 24, 75, 37, 21, 23, 41, 13]\n",
    "\n",
    "for num in numbers:\n",
    "    if num%2 == 0:\n",
    "        print(\"The list contain an even number\")\n",
    "        break\n",
    "else:\n",
    "    print(\"The list does not contain even number\")"
   ]
  },
  {
   "cell_type": "markdown",
   "id": "da84d122",
   "metadata": {},
   "source": [
    "#### Nested loops"
   ]
  },
  {
   "cell_type": "code",
   "execution_count": 28,
   "id": "6e4cb328",
   "metadata": {},
   "outputs": [
    {
     "name": "stdout",
     "output_type": "stream",
     "text": [
      "1 2 3 4 5 6 7 8 9 10 \n",
      "2 4 6 8 10 12 14 16 18 20 \n",
      "3 6 9 12 15 18 21 24 27 30 \n",
      "4 8 12 16 20 24 28 32 36 40 \n",
      "5 10 15 20 25 30 35 40 45 50 \n",
      "6 12 18 24 30 36 42 48 54 60 \n",
      "7 14 21 28 35 42 49 56 63 70 \n",
      "8 16 24 32 40 48 56 64 72 80 \n",
      "9 18 27 36 45 54 63 72 81 90 \n",
      "10 20 30 40 50 60 70 80 90 100 \n"
     ]
    }
   ],
   "source": [
    "import sys\n",
    "\n",
    "for i in range(1, 11):\n",
    "    for j in range(1, 11):\n",
    "        k = i * j\n",
    "        print(k, end = \" \")\n",
    "    print()"
   ]
  },
  {
   "cell_type": "code",
   "execution_count": 29,
   "id": "e7168c3a",
   "metadata": {},
   "outputs": [],
   "source": [
    "# we can create table of numbers "
   ]
  },
  {
   "cell_type": "markdown",
   "id": "fc8956ea",
   "metadata": {},
   "source": [
    "### Loop Control Statements\n",
    "\n",
    "#### break statement :\n",
    "* Terminate the loop statement and transfers execution to the statement immediately following the loop.\n",
    "\n",
    "#### continue statement:\n",
    "\n",
    "* Cuase the loop to skip the remainder of its body and immediately retest its condition prior to reiterating.\n",
    "\n",
    "#### pass statements:\n",
    "* The pass statement in python is used when a statementis required syntactically but you do not want any command or code to execute."
   ]
  },
  {
   "cell_type": "markdown",
   "id": "737adb0b",
   "metadata": {},
   "source": [
    "#### Break"
   ]
  },
  {
   "cell_type": "code",
   "execution_count": 30,
   "id": "a235ce22",
   "metadata": {},
   "outputs": [
    {
     "name": "stdout",
     "output_type": "stream",
     "text": [
      "Current letter:  p\n",
      "Current letter:  y\n",
      "Current letter:  t\n"
     ]
    }
   ],
   "source": [
    "for letter in 'python':\n",
    "    \n",
    "    if letter == 'h':\n",
    "        break\n",
    "    \n",
    "    print(\"Current letter: \", letter)"
   ]
  },
  {
   "cell_type": "code",
   "execution_count": 32,
   "id": "dc68d3ed",
   "metadata": {},
   "outputs": [
    {
     "name": "stdout",
     "output_type": "stream",
     "text": [
      "Current var is :  10\n",
      "Current var is :  9\n",
      "Current var is :  8\n",
      "Current var is :  7\n",
      "Current var is :  6\n",
      "Good bye!\n"
     ]
    }
   ],
   "source": [
    "# using decrement means -1\n",
    "var = 10\n",
    "\n",
    "while var >0:\n",
    "    print(\"Current var is : \", var)\n",
    "    var = var - 1\n",
    "    if var == 5:\n",
    "        break\n",
    "        \n",
    "print(\"Good bye!\")"
   ]
  },
  {
   "cell_type": "code",
   "execution_count": 35,
   "id": "4962166c",
   "metadata": {},
   "outputs": [
    {
     "name": "stdout",
     "output_type": "stream",
     "text": [
      "Any number: 13\n",
      "number found in list\n"
     ]
    }
   ],
   "source": [
    "no = int(input(\"Any number: \"))\n",
    "numbers = [11,33,55,39,55,75,37,21,23,41,13]\n",
    "\n",
    "for num in numbers:\n",
    "    if num == no:\n",
    "        print(\"number found in list\")\n",
    "        break\n",
    "        \n",
    "else:\n",
    "    print(\"Number not found in list\")"
   ]
  },
  {
   "cell_type": "markdown",
   "id": "0eaea428",
   "metadata": {},
   "source": [
    "#### Continue Statement"
   ]
  },
  {
   "cell_type": "code",
   "execution_count": 37,
   "id": "316a4227",
   "metadata": {},
   "outputs": [
    {
     "name": "stdout",
     "output_type": "stream",
     "text": [
      "Current letter:  p\n",
      "Current letter:  y\n",
      "Current letter:  t\n",
      "Current letter:  o\n",
      "Current letter:  n\n",
      "\n",
      "Current variable value:  9\n",
      "Current variable value:  8\n",
      "Current variable value:  7\n",
      "Current variable value:  6\n",
      "Current variable value:  4\n",
      "Current variable value:  3\n",
      "Current variable value:  2\n",
      "Current variable value:  1\n",
      "Current variable value:  0\n",
      "Good bye!\n"
     ]
    }
   ],
   "source": [
    "for letter in 'python':\n",
    "    if letter == 'h':\n",
    "        continue\n",
    "    \n",
    "    print(\"Current letter: \", letter)\n",
    "print()   \n",
    "var = 10\n",
    "while var > 0:\n",
    "    var = var -1\n",
    "    if var == 5:\n",
    "        continue\n",
    "        \n",
    "    print(\"Current variable value: \", var)\n",
    "    \n",
    "print(\"Good bye!\")"
   ]
  },
  {
   "cell_type": "markdown",
   "id": "fed367f5",
   "metadata": {},
   "source": [
    "### Pass statement"
   ]
  },
  {
   "cell_type": "code",
   "execution_count": 38,
   "id": "acd1a6d2",
   "metadata": {},
   "outputs": [
    {
     "name": "stdout",
     "output_type": "stream",
     "text": [
      "this is pass block\n",
      "Current letter : p\n",
      "this is pass block\n",
      "Current letter : y\n",
      "this is pass block\n",
      "Current letter : t\n",
      "this is pass block\n",
      "Current letter : h\n",
      "this is pass block\n",
      "Current letter : o\n",
      "this is pass block\n",
      "Current letter : n\n",
      "Good bye!\n"
     ]
    }
   ],
   "source": [
    "#### pass statement is 'null' operation ; nothing happens when it executes \n",
    "\n",
    "for letter in 'python':\n",
    "    pass\n",
    "    print(\"this is pass block\")\n",
    "    print(\"Current letter :\", letter)\n",
    "    \n",
    "print(\"Good bye!\")"
   ]
  },
  {
   "cell_type": "code",
   "execution_count": null,
   "id": "3e4d0b50",
   "metadata": {},
   "outputs": [],
   "source": []
  }
 ],
 "metadata": {
  "kernelspec": {
   "display_name": "Python 3 (ipykernel)",
   "language": "python",
   "name": "python3"
  },
  "language_info": {
   "codemirror_mode": {
    "name": "ipython",
    "version": 3
   },
   "file_extension": ".py",
   "mimetype": "text/x-python",
   "name": "python",
   "nbconvert_exporter": "python",
   "pygments_lexer": "ipython3",
   "version": "3.9.7"
  }
 },
 "nbformat": 4,
 "nbformat_minor": 5
}
