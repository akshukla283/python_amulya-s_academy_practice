{
 "cells": [
  {
   "cell_type": "markdown",
   "id": "23af39f2",
   "metadata": {},
   "source": [
    "### Module:\n",
    "\n",
    "A module allow us to logically organize our Python code. Grouping related code into a module makes the code esasier to understand and use. A module is a Python object with arbitrarily named attribute that we can bind and reference.\n",
    "\n",
    "**Syntax**\n",
    "` import module[,module2 [, module3.....moduleN]]`."
   ]
  },
  {
   "cell_type": "code",
   "execution_count": 1,
   "id": "a8bd6b96",
   "metadata": {},
   "outputs": [],
   "source": [
    "# # lets save a python file support.py with a function.\n",
    "\n",
    "# def print_func(par):\n",
    "    \n",
    "#     print(\"Hello : \", par)\n",
    "    \n",
    "#     return"
   ]
  },
  {
   "cell_type": "code",
   "execution_count": 2,
   "id": "968732f2",
   "metadata": {},
   "outputs": [
    {
     "name": "stdout",
     "output_type": "stream",
     "text": [
      "Hello :  Zara\n"
     ]
    }
   ],
   "source": [
    "# now import 'support' module\n",
    "\n",
    "import support\n",
    "\n",
    "# now we can call defined function that module as follow\n",
    "\n",
    "support.print_func(\"Zara\")"
   ]
  },
  {
   "cell_type": "code",
   "execution_count": 3,
   "id": "eade9166",
   "metadata": {},
   "outputs": [
    {
     "name": "stdout",
     "output_type": "stream",
     "text": [
      "Hello :  Ankit\n"
     ]
    }
   ],
   "source": [
    "from support import print_func\n",
    "\n",
    "print_func(\"Ankit\")"
   ]
  },
  {
   "cell_type": "markdown",
   "id": "301d595f",
   "metadata": {},
   "source": [
    "### The from ....import Statement\n",
    "\n",
    "Python's `from` statement lets us import specific attributes from a module into the current namespace. The `from ...import` has the following syntax-\n",
    "`from modname import name1[, name2[, ...nameN]]`"
   ]
  },
  {
   "cell_type": "code",
   "execution_count": 4,
   "id": "aec66589",
   "metadata": {},
   "outputs": [],
   "source": [
    "# # lets save another python module file\n",
    "\n",
    "# # Fibonacci numbers module\n",
    "\n",
    "# def fib(n):  # return Fibonacci series up to n\n",
    "#     result = []\n",
    "#     a,b = 0, 1\n",
    "#     while b<n:\n",
    "#         result.append(b)\n",
    "#         a, b = b, a+b\n",
    "        \n",
    "#     return result\n",
    "\n"
   ]
  },
  {
   "cell_type": "code",
   "execution_count": 6,
   "id": "7cf4f4ca",
   "metadata": {},
   "outputs": [
    {
     "data": {
      "text/plain": [
       "[1, 1, 2, 3]"
      ]
     },
     "execution_count": 6,
     "metadata": {},
     "output_type": "execute_result"
    }
   ],
   "source": [
    "# importing the above module \n",
    "\n",
    "from fibonacci import fib\n",
    "\n",
    "fib(5)"
   ]
  },
  {
   "cell_type": "markdown",
   "id": "b4857e9f",
   "metadata": {},
   "source": [
    "### The from ...import* Statement\n",
    "\n",
    "It is also possible to import all the names from a module into the current namespace by using the following import statement-\n",
    "` from modname import*`\n",
    "\n",
    "This provide an easy way to import all the items from a module into the currenet namespace; However this statement should be use sparingly."
   ]
  },
  {
   "cell_type": "markdown",
   "id": "a2dc5bcb",
   "metadata": {},
   "source": [
    "### Executing modules as Scripts\n",
    "\n",
    "`within a module, the module's name (as a string) is available as the value of the global variable __name__. The code in the module will be executed, just as if you imported it, but with the __name__ set to \"__main__\".`\n",
    "\n",
    "Add this code at the end of your module-\n"
   ]
  },
  {
   "cell_type": "code",
   "execution_count": 8,
   "id": "4ddca2e8",
   "metadata": {},
   "outputs": [
    {
     "name": "stdout",
     "output_type": "stream",
     "text": [
      "[1, 1, 2, 3, 5, 8, 13, 21, 34, 55, 89]\n"
     ]
    }
   ],
   "source": [
    "# Fibonacci number module\n",
    "\n",
    "def fib(n): # return Fibonacc series up to n\n",
    "    result = []\n",
    "    a, b = 0, 1\n",
    "    while b <n:\n",
    "        result.append(b)\n",
    "        a, b = b, a+b\n",
    "        \n",
    "    return result \n",
    "\n",
    "if __name__ == \"__main__\":\n",
    "    \n",
    "    f = fib(100)\n",
    "    print(f)\n",
    "        "
   ]
  },
  {
   "cell_type": "markdown",
   "id": "24c6372b",
   "metadata": {},
   "source": [
    "### Loading Modules\n",
    "\n",
    "When we import a module, the Python interpreter searches for the module in following sequences-\n",
    "\n",
    "* The current dierectory.\n",
    "\n",
    "* If the module is not found, Python then searches each directory in the shell variable PYTHONPATH.\n",
    "\n",
    "* If all else fall, Python checks the default path. On UNIX, this default path is normally `/usr/local/lib/python3/`.\n",
    "\n",
    "The module search path is store in the system module sys as the `sys-path` variable. The `sys.path` variable contains the current directory, PYTHONPATH, and the installation dependent default.\n",
    "\n"
   ]
  },
  {
   "cell_type": "markdown",
   "id": "65b6d056",
   "metadata": {},
   "source": [
    "### Namespaces and Scoping"
   ]
  },
  {
   "cell_type": "code",
   "execution_count": 9,
   "id": "fbe40473",
   "metadata": {},
   "outputs": [
    {
     "name": "stdout",
     "output_type": "stream",
     "text": [
      "2000\n"
     ]
    },
    {
     "ename": "UnboundLocalError",
     "evalue": "local variable 'money' referenced before assignment",
     "output_type": "error",
     "traceback": [
      "\u001b[1;31m---------------------------------------------------------------------------\u001b[0m",
      "\u001b[1;31mUnboundLocalError\u001b[0m                         Traceback (most recent call last)",
      "Input \u001b[1;32mIn [9]\u001b[0m, in \u001b[0;36m<cell line: 10>\u001b[1;34m()\u001b[0m\n\u001b[0;32m      7\u001b[0m     money \u001b[38;5;241m=\u001b[39m money \u001b[38;5;241m+\u001b[39m \u001b[38;5;241m1\u001b[39m\n\u001b[0;32m      9\u001b[0m \u001b[38;5;28mprint\u001b[39m(money)\n\u001b[1;32m---> 10\u001b[0m \u001b[43maddmoney\u001b[49m\u001b[43m(\u001b[49m\u001b[43m)\u001b[49m\n\u001b[0;32m     11\u001b[0m \u001b[38;5;28mprint\u001b[39m(money)\n",
      "Input \u001b[1;32mIn [9]\u001b[0m, in \u001b[0;36maddmoney\u001b[1;34m()\u001b[0m\n\u001b[0;32m      3\u001b[0m \u001b[38;5;28;01mdef\u001b[39;00m \u001b[38;5;21maddmoney\u001b[39m():\n\u001b[0;32m      4\u001b[0m     \u001b[38;5;66;03m# Uncomment the following line to fix the code:\u001b[39;00m\n\u001b[0;32m      5\u001b[0m     \u001b[38;5;66;03m#global money\u001b[39;00m\n\u001b[1;32m----> 7\u001b[0m     money \u001b[38;5;241m=\u001b[39m \u001b[43mmoney\u001b[49m \u001b[38;5;241m+\u001b[39m \u001b[38;5;241m1\u001b[39m\n",
      "\u001b[1;31mUnboundLocalError\u001b[0m: local variable 'money' referenced before assignment"
     ]
    }
   ],
   "source": [
    "money = 2000\n",
    "\n",
    "def addmoney():\n",
    "    # Uncomment the following line to fix the code:\n",
    "    #global money\n",
    "    \n",
    "    money = money + 1\n",
    "    \n",
    "print(money)\n",
    "addmoney()\n",
    "print(money)"
   ]
  },
  {
   "cell_type": "code",
   "execution_count": 10,
   "id": "7fecd746",
   "metadata": {},
   "outputs": [
    {
     "name": "stdout",
     "output_type": "stream",
     "text": [
      "2000\n",
      "2001\n"
     ]
    }
   ],
   "source": [
    "money = 2000\n",
    "\n",
    "def addmoney():\n",
    "    # Uncomment the following line to fix the code:\n",
    "    global money\n",
    "    \n",
    "    money = money + 1\n",
    "    \n",
    "print(money)\n",
    "addmoney()\n",
    "print(money)"
   ]
  },
  {
   "cell_type": "markdown",
   "id": "4916c0c9",
   "metadata": {},
   "source": [
    "### The dir() Function\n",
    "\n",
    "The dir() built-in funtion returns a sorted list of strings containing the names defined by a module. "
   ]
  },
  {
   "cell_type": "code",
   "execution_count": 11,
   "id": "55fccc20",
   "metadata": {},
   "outputs": [
    {
     "name": "stdout",
     "output_type": "stream",
     "text": [
      "['__doc__', '__loader__', '__name__', '__package__', '__spec__', 'acos', 'acosh', 'asin', 'asinh', 'atan', 'atan2', 'atanh', 'ceil', 'comb', 'copysign', 'cos', 'cosh', 'degrees', 'dist', 'e', 'erf', 'erfc', 'exp', 'expm1', 'fabs', 'factorial', 'floor', 'fmod', 'frexp', 'fsum', 'gamma', 'gcd', 'hypot', 'inf', 'isclose', 'isfinite', 'isinf', 'isnan', 'isqrt', 'lcm', 'ldexp', 'lgamma', 'log', 'log10', 'log1p', 'log2', 'modf', 'nan', 'nextafter', 'perm', 'pi', 'pow', 'prod', 'radians', 'remainder', 'sin', 'sinh', 'sqrt', 'tan', 'tanh', 'tau', 'trunc', 'ulp']\n"
     ]
    }
   ],
   "source": [
    "# import built-in module math\n",
    "\n",
    "import math\n",
    "\n",
    "content = dir(math)\n",
    "\n",
    "print(content)"
   ]
  },
  {
   "cell_type": "markdown",
   "id": "7906b6f0",
   "metadata": {},
   "source": [
    "### The globals() and locals Functions\n",
    "\n",
    "The `globals() and locals()` functions can be used to return the names in the global and local namespaces depending on the location where they are called.\n",
    "\n",
    "* If `locals()` is called from within a function, it will return all the name that can be accessed locally from that function.\n",
    "\n",
    "* If `globals()` is called from withina funtion, it will return all the names that can be accessed globally from that function.\n",
    "\n",
    "\n",
    "`The return type of both these functions is dictionary. Therefore, name can be extracted using the 'keys()' function.`"
   ]
  },
  {
   "cell_type": "markdown",
   "id": "a6141eba",
   "metadata": {},
   "source": [
    "### The reload() Function\n"
   ]
  },
  {
   "cell_type": "code",
   "execution_count": 13,
   "id": "c88a4755",
   "metadata": {},
   "outputs": [
    {
     "name": "stdout",
     "output_type": "stream",
     "text": [
      "Hello :  Ankit\n"
     ]
    }
   ],
   "source": [
    "import support\n",
    "\n",
    "support.print_func(\"Ankit\")\n"
   ]
  },
  {
   "cell_type": "code",
   "execution_count": 14,
   "id": "b68ac9da",
   "metadata": {},
   "outputs": [
    {
     "ename": "NameError",
     "evalue": "name 'reload' is not defined",
     "output_type": "error",
     "traceback": [
      "\u001b[1;31m---------------------------------------------------------------------------\u001b[0m",
      "\u001b[1;31mNameError\u001b[0m                                 Traceback (most recent call last)",
      "Input \u001b[1;32mIn [14]\u001b[0m, in \u001b[0;36m<cell line: 1>\u001b[1;34m()\u001b[0m\n\u001b[1;32m----> 1\u001b[0m \u001b[43mreload\u001b[49m(support)\n",
      "\u001b[1;31mNameError\u001b[0m: name 'reload' is not defined"
     ]
    }
   ],
   "source": [
    "reload(support)"
   ]
  },
  {
   "cell_type": "markdown",
   "id": "7fec0f97",
   "metadata": {},
   "source": [
    "### Packages in Python\n",
    "\n"
   ]
  },
  {
   "cell_type": "code",
   "execution_count": 6,
   "id": "b750f7e4",
   "metadata": {},
   "outputs": [
    {
     "ename": "AttributeError",
     "evalue": "module 'Phone' has no attribute 'Pots'",
     "output_type": "error",
     "traceback": [
      "\u001b[1;31m---------------------------------------------------------------------------\u001b[0m",
      "\u001b[1;31mAttributeError\u001b[0m                            Traceback (most recent call last)",
      "Input \u001b[1;32mIn [6]\u001b[0m, in \u001b[0;36m<cell line: 5>\u001b[1;34m()\u001b[0m\n\u001b[0;32m      1\u001b[0m \u001b[38;5;66;03m# now import your Phone package.\u001b[39;00m\n\u001b[0;32m      3\u001b[0m \u001b[38;5;28;01mimport\u001b[39;00m \u001b[38;5;21;01mPhone\u001b[39;00m\n\u001b[1;32m----> 5\u001b[0m \u001b[43mPhone\u001b[49m\u001b[38;5;241;43m.\u001b[39;49m\u001b[43mPots\u001b[49m()\n\u001b[0;32m      6\u001b[0m Phone\u001b[38;5;241m.\u001b[39mIsdn()\n\u001b[0;32m      7\u001b[0m Phone\u001b[38;5;241m.\u001b[39mG3()\n",
      "\u001b[1;31mAttributeError\u001b[0m: module 'Phone' has no attribute 'Pots'"
     ]
    }
   ],
   "source": [
    "# now import your Phone package.\n",
    "\n",
    "import Phone\n",
    "\n",
    "Phone.Pots()\n",
    "Phone.Isdn()\n",
    "Phone.G3()"
   ]
  },
  {
   "cell_type": "code",
   "execution_count": null,
   "id": "7b527adc",
   "metadata": {},
   "outputs": [],
   "source": []
  }
 ],
 "metadata": {
  "kernelspec": {
   "display_name": "Python 3 (ipykernel)",
   "language": "python",
   "name": "python3"
  },
  "language_info": {
   "codemirror_mode": {
    "name": "ipython",
    "version": 3
   },
   "file_extension": ".py",
   "mimetype": "text/x-python",
   "name": "python",
   "nbconvert_exporter": "python",
   "pygments_lexer": "ipython3",
   "version": "3.9.7"
  }
 },
 "nbformat": 4,
 "nbformat_minor": 5
}
