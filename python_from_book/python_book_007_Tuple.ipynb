{
 "cells": [
  {
   "cell_type": "markdown",
   "id": "def24cc1",
   "metadata": {},
   "source": [
    "#### tuple"
   ]
  },
  {
   "cell_type": "code",
   "execution_count": 1,
   "id": "8f82a3d0",
   "metadata": {},
   "outputs": [],
   "source": [
    "tuple1 = (1,2,3,4)\n",
    "tuple2 = ('a','b','c','d')\n",
    "tuple3 = (1,2,3,4,'a','b','c')"
   ]
  },
  {
   "cell_type": "code",
   "execution_count": 2,
   "id": "7fbd9cdb",
   "metadata": {},
   "outputs": [
    {
     "name": "stdout",
     "output_type": "stream",
     "text": [
      "(1, 2, 3, 4)\n",
      "('a', 'b', 'c', 'd')\n",
      "(1, 2, 3, 4, 'a', 'b', 'c')\n"
     ]
    }
   ],
   "source": [
    "print(tuple1)\n",
    "print(tuple2)\n",
    "print(tuple3)"
   ]
  },
  {
   "cell_type": "markdown",
   "id": "df3a19a6",
   "metadata": {},
   "source": [
    "#### Accessing Value in Tuple\n"
   ]
  },
  {
   "cell_type": "code",
   "execution_count": 4,
   "id": "deb85aa8",
   "metadata": {},
   "outputs": [
    {
     "data": {
      "text/plain": [
       "(1, 2, 3, 4)"
      ]
     },
     "execution_count": 4,
     "metadata": {},
     "output_type": "execute_result"
    }
   ],
   "source": [
    "tuple1"
   ]
  },
  {
   "cell_type": "code",
   "execution_count": 5,
   "id": "d2bc6977",
   "metadata": {},
   "outputs": [
    {
     "data": {
      "text/plain": [
       "1"
      ]
     },
     "execution_count": 5,
     "metadata": {},
     "output_type": "execute_result"
    }
   ],
   "source": [
    "tuple1[0]"
   ]
  },
  {
   "cell_type": "code",
   "execution_count": 6,
   "id": "fc78fead",
   "metadata": {},
   "outputs": [
    {
     "data": {
      "text/plain": [
       "(2, 3)"
      ]
     },
     "execution_count": 6,
     "metadata": {},
     "output_type": "execute_result"
    }
   ],
   "source": [
    "tuple1[1:3]"
   ]
  },
  {
   "cell_type": "code",
   "execution_count": 7,
   "id": "ed0c50a6",
   "metadata": {},
   "outputs": [
    {
     "data": {
      "text/plain": [
       "(1, 2, 3)"
      ]
     },
     "execution_count": 7,
     "metadata": {},
     "output_type": "execute_result"
    }
   ],
   "source": [
    "tuple1[:-1]"
   ]
  },
  {
   "cell_type": "code",
   "execution_count": 8,
   "id": "1d6ae6d4",
   "metadata": {},
   "outputs": [
    {
     "data": {
      "text/plain": [
       "(4, 3, 2, 1)"
      ]
     },
     "execution_count": 8,
     "metadata": {},
     "output_type": "execute_result"
    }
   ],
   "source": [
    "tuple1[::-1]"
   ]
  },
  {
   "cell_type": "markdown",
   "id": "86a12937",
   "metadata": {},
   "source": [
    "#### updating tuples"
   ]
  },
  {
   "cell_type": "code",
   "execution_count": 9,
   "id": "e7bb5402",
   "metadata": {},
   "outputs": [
    {
     "data": {
      "text/plain": [
       "(12, 34.56, 'abc', 'xyz')"
      ]
     },
     "execution_count": 9,
     "metadata": {},
     "output_type": "execute_result"
    }
   ],
   "source": [
    "tup1 = (12, 34.56)\n",
    "tup2 = ('abc', 'xyz')\n",
    "\n",
    "tup3 = tup1 + tup2\n",
    "tup3"
   ]
  },
  {
   "cell_type": "code",
   "execution_count": 10,
   "id": "98a6520b",
   "metadata": {},
   "outputs": [
    {
     "ename": "TypeError",
     "evalue": "'tuple' object does not support item assignment",
     "output_type": "error",
     "traceback": [
      "\u001b[1;31m---------------------------------------------------------------------------\u001b[0m",
      "\u001b[1;31mTypeError\u001b[0m                                 Traceback (most recent call last)",
      "Input \u001b[1;32mIn [10]\u001b[0m, in \u001b[0;36m<cell line: 2>\u001b[1;34m()\u001b[0m\n\u001b[0;32m      1\u001b[0m \u001b[38;5;66;03m# but we can't update like\u001b[39;00m\n\u001b[1;32m----> 2\u001b[0m tup1[\u001b[38;5;241m2\u001b[39m] \u001b[38;5;241m=\u001b[39m \u001b[38;5;241m100\u001b[39m\n",
      "\u001b[1;31mTypeError\u001b[0m: 'tuple' object does not support item assignment"
     ]
    }
   ],
   "source": [
    "# but we can't update like\n",
    "tup1[2] = 100\n"
   ]
  },
  {
   "cell_type": "markdown",
   "id": "52004f22",
   "metadata": {},
   "source": [
    "#### delete tuple elements"
   ]
  },
  {
   "cell_type": "code",
   "execution_count": 11,
   "id": "e5286891",
   "metadata": {},
   "outputs": [
    {
     "data": {
      "text/plain": [
       "(1, 2, 3, 4)"
      ]
     },
     "execution_count": 11,
     "metadata": {},
     "output_type": "execute_result"
    }
   ],
   "source": [
    "tuple1"
   ]
  },
  {
   "cell_type": "code",
   "execution_count": 12,
   "id": "fdf3f679",
   "metadata": {},
   "outputs": [],
   "source": [
    "del tuple1"
   ]
  },
  {
   "cell_type": "code",
   "execution_count": 13,
   "id": "c88d55fa",
   "metadata": {},
   "outputs": [
    {
     "ename": "NameError",
     "evalue": "name 'tuple1' is not defined",
     "output_type": "error",
     "traceback": [
      "\u001b[1;31m---------------------------------------------------------------------------\u001b[0m",
      "\u001b[1;31mNameError\u001b[0m                                 Traceback (most recent call last)",
      "Input \u001b[1;32mIn [13]\u001b[0m, in \u001b[0;36m<cell line: 1>\u001b[1;34m()\u001b[0m\n\u001b[1;32m----> 1\u001b[0m \u001b[43mtuple1\u001b[49m\n",
      "\u001b[1;31mNameError\u001b[0m: name 'tuple1' is not defined"
     ]
    }
   ],
   "source": [
    "tuple1"
   ]
  },
  {
   "cell_type": "code",
   "execution_count": 14,
   "id": "3a9b73c2",
   "metadata": {},
   "outputs": [
    {
     "data": {
      "text/plain": [
       "(12, 34.56)"
      ]
     },
     "execution_count": 14,
     "metadata": {},
     "output_type": "execute_result"
    }
   ],
   "source": [
    "tup1"
   ]
  },
  {
   "cell_type": "code",
   "execution_count": 15,
   "id": "fff59fe8",
   "metadata": {},
   "outputs": [
    {
     "ename": "TypeError",
     "evalue": "'tuple' object doesn't support item deletion",
     "output_type": "error",
     "traceback": [
      "\u001b[1;31m---------------------------------------------------------------------------\u001b[0m",
      "\u001b[1;31mTypeError\u001b[0m                                 Traceback (most recent call last)",
      "Input \u001b[1;32mIn [15]\u001b[0m, in \u001b[0;36m<cell line: 1>\u001b[1;34m()\u001b[0m\n\u001b[1;32m----> 1\u001b[0m \u001b[38;5;28;01mdel\u001b[39;00m tup1[\u001b[38;5;241m0\u001b[39m]\n",
      "\u001b[1;31mTypeError\u001b[0m: 'tuple' object doesn't support item deletion"
     ]
    }
   ],
   "source": [
    "del tup1[0] # note tuple object doesn't support item deletion"
   ]
  },
  {
   "cell_type": "markdown",
   "id": "c5362f53",
   "metadata": {},
   "source": [
    "#### Basic Tuple Operation\n"
   ]
  },
  {
   "cell_type": "code",
   "execution_count": 16,
   "id": "1fcd6604",
   "metadata": {},
   "outputs": [
    {
     "data": {
      "text/plain": [
       "5"
      ]
     },
     "execution_count": 16,
     "metadata": {},
     "output_type": "execute_result"
    }
   ],
   "source": [
    "# len\n",
    "\n",
    "tup1 = (\"a\",\"b\",1,2,3)\n",
    "len(tup1)"
   ]
  },
  {
   "cell_type": "code",
   "execution_count": 17,
   "id": "cb2b228f",
   "metadata": {},
   "outputs": [
    {
     "data": {
      "text/plain": [
       "(1, 2, 3, 4, 5, 6, 7)"
      ]
     },
     "execution_count": 17,
     "metadata": {},
     "output_type": "execute_result"
    }
   ],
   "source": [
    "(1,2,3,4) + (5,6,7)"
   ]
  },
  {
   "cell_type": "code",
   "execution_count": 18,
   "id": "107e9d0d",
   "metadata": {},
   "outputs": [
    {
     "data": {
      "text/plain": [
       "'hihihihi'"
      ]
     },
     "execution_count": 18,
     "metadata": {},
     "output_type": "execute_result"
    }
   ],
   "source": [
    "(\"hi\")* 4 # this is str not a tuple so we need to add at least one ','."
   ]
  },
  {
   "cell_type": "code",
   "execution_count": 19,
   "id": "9f08a40f",
   "metadata": {},
   "outputs": [
    {
     "data": {
      "text/plain": [
       "('hi', 'hi', 'hi', 'hi')"
      ]
     },
     "execution_count": 19,
     "metadata": {},
     "output_type": "execute_result"
    }
   ],
   "source": [
    "(\"hi\",)*4 # now this is a tuple."
   ]
  },
  {
   "cell_type": "code",
   "execution_count": 20,
   "id": "44b99184",
   "metadata": {},
   "outputs": [
    {
     "data": {
      "text/plain": [
       "str"
      ]
     },
     "execution_count": 20,
     "metadata": {},
     "output_type": "execute_result"
    }
   ],
   "source": [
    "type((\"hi\"))"
   ]
  },
  {
   "cell_type": "code",
   "execution_count": 21,
   "id": "59c4daa6",
   "metadata": {},
   "outputs": [
    {
     "data": {
      "text/plain": [
       "True"
      ]
     },
     "execution_count": 21,
     "metadata": {},
     "output_type": "execute_result"
    }
   ],
   "source": [
    "3 in (1,2,3)"
   ]
  },
  {
   "cell_type": "code",
   "execution_count": 22,
   "id": "1e232287",
   "metadata": {},
   "outputs": [
    {
     "name": "stdout",
     "output_type": "stream",
     "text": [
      "1 2 3 "
     ]
    }
   ],
   "source": [
    "for x in (1,2,3):print(x, end = \" \")"
   ]
  },
  {
   "cell_type": "markdown",
   "id": "f7303113",
   "metadata": {},
   "source": [
    "#### Indexing, Slicing and Matrixes"
   ]
  },
  {
   "cell_type": "code",
   "execution_count": 23,
   "id": "dd2a5c08",
   "metadata": {},
   "outputs": [],
   "source": [
    "t = ('c++','java', 'python')\n"
   ]
  },
  {
   "cell_type": "code",
   "execution_count": 24,
   "id": "a97dc9e7",
   "metadata": {},
   "outputs": [
    {
     "data": {
      "text/plain": [
       "'c++'"
      ]
     },
     "execution_count": 24,
     "metadata": {},
     "output_type": "execute_result"
    }
   ],
   "source": [
    "t[0]"
   ]
  },
  {
   "cell_type": "code",
   "execution_count": 25,
   "id": "8058ec59",
   "metadata": {},
   "outputs": [
    {
     "data": {
      "text/plain": [
       "('java', 'python')"
      ]
     },
     "execution_count": 25,
     "metadata": {},
     "output_type": "execute_result"
    }
   ],
   "source": [
    "t[1:]"
   ]
  },
  {
   "cell_type": "code",
   "execution_count": 26,
   "id": "cea11701",
   "metadata": {},
   "outputs": [
    {
     "data": {
      "text/plain": [
       "('python', 'java', 'c++')"
      ]
     },
     "execution_count": 26,
     "metadata": {},
     "output_type": "execute_result"
    }
   ],
   "source": [
    "t[::-1]"
   ]
  },
  {
   "cell_type": "markdown",
   "id": "ea8492f8",
   "metadata": {},
   "source": [
    "#### BUit-in Tuple functions\n"
   ]
  },
  {
   "cell_type": "code",
   "execution_count": 27,
   "id": "76821149",
   "metadata": {},
   "outputs": [],
   "source": [
    "### cmp()  # no longer available in Python3"
   ]
  },
  {
   "cell_type": "code",
   "execution_count": 29,
   "id": "f366b507",
   "metadata": {},
   "outputs": [
    {
     "data": {
      "text/plain": [
       "4"
      ]
     },
     "execution_count": 29,
     "metadata": {},
     "output_type": "execute_result"
    }
   ],
   "source": [
    "# len()\n",
    "\n",
    "len((\"Hello\", \"Python\", 12,3))"
   ]
  },
  {
   "cell_type": "code",
   "execution_count": 30,
   "id": "30138aa0",
   "metadata": {},
   "outputs": [
    {
     "data": {
      "text/plain": [
       "('c++', 'java', 'python')"
      ]
     },
     "execution_count": 30,
     "metadata": {},
     "output_type": "execute_result"
    }
   ],
   "source": [
    "t"
   ]
  },
  {
   "cell_type": "code",
   "execution_count": 31,
   "id": "210748b4",
   "metadata": {},
   "outputs": [
    {
     "data": {
      "text/plain": [
       "3"
      ]
     },
     "execution_count": 31,
     "metadata": {},
     "output_type": "execute_result"
    }
   ],
   "source": [
    "len(t)"
   ]
  },
  {
   "cell_type": "code",
   "execution_count": 32,
   "id": "3b47aa21",
   "metadata": {},
   "outputs": [
    {
     "data": {
      "text/plain": [
       "'python'"
      ]
     },
     "execution_count": 32,
     "metadata": {},
     "output_type": "execute_result"
    }
   ],
   "source": [
    "# max()\n",
    "max(t)"
   ]
  },
  {
   "cell_type": "code",
   "execution_count": 33,
   "id": "bc89ab3f",
   "metadata": {},
   "outputs": [
    {
     "data": {
      "text/plain": [
       "'z'"
      ]
     },
     "execution_count": 33,
     "metadata": {},
     "output_type": "execute_result"
    }
   ],
   "source": [
    "t = ('z','a',\"Z\")\n",
    "max(t)"
   ]
  },
  {
   "cell_type": "code",
   "execution_count": 34,
   "id": "c93e1e76",
   "metadata": {},
   "outputs": [
    {
     "data": {
      "text/plain": [
       "'Z'"
      ]
     },
     "execution_count": 34,
     "metadata": {},
     "output_type": "execute_result"
    }
   ],
   "source": [
    "# min()\n",
    "min(t)"
   ]
  },
  {
   "cell_type": "code",
   "execution_count": 35,
   "id": "47ad4dbc",
   "metadata": {},
   "outputs": [
    {
     "data": {
      "text/plain": [
       "534"
      ]
     },
     "execution_count": 35,
     "metadata": {},
     "output_type": "execute_result"
    }
   ],
   "source": [
    "t = (123,134,534,232,12)\n",
    "max(t)"
   ]
  },
  {
   "cell_type": "code",
   "execution_count": 36,
   "id": "32920cb8",
   "metadata": {},
   "outputs": [
    {
     "data": {
      "text/plain": [
       "12"
      ]
     },
     "execution_count": 36,
     "metadata": {},
     "output_type": "execute_result"
    }
   ],
   "source": [
    "min(t)"
   ]
  },
  {
   "cell_type": "code",
   "execution_count": 37,
   "id": "1a076bcd",
   "metadata": {},
   "outputs": [
    {
     "data": {
      "text/plain": [
       "('h', 'e', 'l', 'l', 'o')"
      ]
     },
     "execution_count": 37,
     "metadata": {},
     "output_type": "execute_result"
    }
   ],
   "source": [
    "#### Tuple\n",
    "\n",
    "s = \"hello\"\n",
    "tuple(s)"
   ]
  },
  {
   "cell_type": "code",
   "execution_count": 38,
   "id": "2ff2cd67",
   "metadata": {},
   "outputs": [
    {
     "data": {
      "text/plain": [
       "(1, 2, 4, 'hello', 'hi')"
      ]
     },
     "execution_count": 38,
     "metadata": {},
     "output_type": "execute_result"
    }
   ],
   "source": [
    "lst = [1,2,4,'hello', 'hi']\n",
    "\n",
    "tuple(lst)"
   ]
  },
  {
   "cell_type": "code",
   "execution_count": 39,
   "id": "8e350066",
   "metadata": {},
   "outputs": [
    {
     "data": {
      "text/plain": [
       "[1, 2, 4, 'hello', 'hi']"
      ]
     },
     "execution_count": 39,
     "metadata": {},
     "output_type": "execute_result"
    }
   ],
   "source": [
    "lst"
   ]
  },
  {
   "cell_type": "code",
   "execution_count": null,
   "id": "64b5b1ba",
   "metadata": {},
   "outputs": [],
   "source": []
  }
 ],
 "metadata": {
  "kernelspec": {
   "display_name": "Python 3 (ipykernel)",
   "language": "python",
   "name": "python3"
  },
  "language_info": {
   "codemirror_mode": {
    "name": "ipython",
    "version": 3
   },
   "file_extension": ".py",
   "mimetype": "text/x-python",
   "name": "python",
   "nbconvert_exporter": "python",
   "pygments_lexer": "ipython3",
   "version": "3.9.7"
  }
 },
 "nbformat": 4,
 "nbformat_minor": 5
}
