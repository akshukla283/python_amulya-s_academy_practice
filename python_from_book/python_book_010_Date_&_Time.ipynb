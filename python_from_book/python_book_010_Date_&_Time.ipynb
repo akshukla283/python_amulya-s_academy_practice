{
 "cells": [
  {
   "cell_type": "markdown",
   "id": "d83eab2d",
   "metadata": {},
   "source": [
    "### Data and Time\n",
    "\n",
    "* A Python program can handle date and time in several ways.\n",
    "\n",
    "#### What is Tick?\n",
    "\n",
    "* Time interval are floating-point numbers in units of seconds. Particular instants in times are expressed in second since 12:00am, January 1, 1970(epoch).\n",
    "\n",
    "* There is a popular time module available in Python, Which provides functiona for working with times, and for converting between representations. The function 'time.time()' returns the current system time in ticks since 12:00am, January 1, 1970(epoch)."
   ]
  },
  {
   "cell_type": "code",
   "execution_count": 2,
   "id": "fea27948",
   "metadata": {},
   "outputs": [
    {
     "name": "stdout",
     "output_type": "stream",
     "text": [
      "Number of ticks since 12:00am, January 1, 1970:  1649931585.9937716\n"
     ]
    }
   ],
   "source": [
    "import time   # this is required to include time module.\n",
    "\n",
    "ticks = time.time()\n",
    "print(\"Number of ticks since 12:00am, January 1, 1970: \", ticks)"
   ]
  },
  {
   "cell_type": "code",
   "execution_count": 3,
   "id": "33665f0c",
   "metadata": {},
   "outputs": [
    {
     "name": "stdout",
     "output_type": "stream",
     "text": [
      "time.struct_time(tm_year=2022, tm_mon=4, tm_mday=14, tm_hour=16, tm_min=0, tm_sec=18, tm_wday=3, tm_yday=104, tm_isdst=0)\n"
     ]
    }
   ],
   "source": [
    "import time \n",
    "\n",
    "print(time.localtime())"
   ]
  },
  {
   "cell_type": "markdown",
   "id": "3600bd5a",
   "metadata": {},
   "source": [
    "`above everything is in sort form and understandable and last one 'tm_isdst = 0' is Daylight Saving Time(DST). It may be -1,0,1, -1 means library determines DST.`"
   ]
  },
  {
   "cell_type": "markdown",
   "id": "006ede99",
   "metadata": {},
   "source": [
    "### Getting Formatted time"
   ]
  },
  {
   "cell_type": "code",
   "execution_count": 4,
   "id": "6c1346b1",
   "metadata": {},
   "outputs": [
    {
     "name": "stdout",
     "output_type": "stream",
     "text": [
      "Current local time:  Thu Apr 14 16:19:53 2022\n"
     ]
    }
   ],
   "source": [
    "import time \n",
    "\n",
    "localtime = time.asctime(time.localtime(time.time()))\n",
    "\n",
    "print(\"Current local time: \", localtime)"
   ]
  },
  {
   "cell_type": "code",
   "execution_count": 5,
   "id": "6826cf4d",
   "metadata": {},
   "outputs": [
    {
     "data": {
      "text/plain": [
       "1649933589.9417007"
      ]
     },
     "execution_count": 5,
     "metadata": {},
     "output_type": "execute_result"
    }
   ],
   "source": [
    "import time \n",
    "time.time()"
   ]
  },
  {
   "cell_type": "markdown",
   "id": "e83d2f88",
   "metadata": {},
   "source": [
    "#### Getting calendar for a month."
   ]
  },
  {
   "cell_type": "code",
   "execution_count": 6,
   "id": "f28d01ed",
   "metadata": {},
   "outputs": [
    {
     "name": "stdout",
     "output_type": "stream",
     "text": [
      "    January 2022\n",
      "Mo Tu We Th Fr Sa Su\n",
      "                1  2\n",
      " 3  4  5  6  7  8  9\n",
      "10 11 12 13 14 15 16\n",
      "17 18 19 20 21 22 23\n",
      "24 25 26 27 28 29 30\n",
      "31\n",
      "\n"
     ]
    }
   ],
   "source": [
    "import calendar\n",
    "\n",
    "cal = calendar.month(2022,1)\n",
    "print(cal)"
   ]
  },
  {
   "cell_type": "code",
   "execution_count": 11,
   "id": "ca9201c3",
   "metadata": {},
   "outputs": [
    {
     "name": "stdout",
     "output_type": "stream",
     "text": [
      "      May 2022\n",
      "Mo Tu We Th Fr Sa Su\n",
      "                   1\n",
      " 2  3  4  5  6  7  8\n",
      " 9 10 11 12 13 14 15\n",
      "16 17 18 19 20 21 22\n",
      "23 24 25 26 27 28 29\n",
      "30 31\n",
      "\n"
     ]
    }
   ],
   "source": [
    "print(calendar.month(2022,5))"
   ]
  },
  {
   "cell_type": "code",
   "execution_count": 18,
   "id": "12feb475",
   "metadata": {},
   "outputs": [
    {
     "name": "stdout",
     "output_type": "stream",
     "text": [
      "                                  2022\n",
      "\n",
      "      January                   February                   March\n",
      "Mo Tu We Th Fr Sa Su      Mo Tu We Th Fr Sa Su      Mo Tu We Th Fr Sa Su\n",
      "                1  2          1  2  3  4  5  6          1  2  3  4  5  6\n",
      " 3  4  5  6  7  8  9       7  8  9 10 11 12 13       7  8  9 10 11 12 13\n",
      "10 11 12 13 14 15 16      14 15 16 17 18 19 20      14 15 16 17 18 19 20\n",
      "17 18 19 20 21 22 23      21 22 23 24 25 26 27      21 22 23 24 25 26 27\n",
      "24 25 26 27 28 29 30      28                        28 29 30 31\n",
      "31\n",
      "\n",
      "       April                      May                       June\n",
      "Mo Tu We Th Fr Sa Su      Mo Tu We Th Fr Sa Su      Mo Tu We Th Fr Sa Su\n",
      "             1  2  3                         1             1  2  3  4  5\n",
      " 4  5  6  7  8  9 10       2  3  4  5  6  7  8       6  7  8  9 10 11 12\n",
      "11 12 13 14 15 16 17       9 10 11 12 13 14 15      13 14 15 16 17 18 19\n",
      "18 19 20 21 22 23 24      16 17 18 19 20 21 22      20 21 22 23 24 25 26\n",
      "25 26 27 28 29 30         23 24 25 26 27 28 29      27 28 29 30\n",
      "                          30 31\n",
      "\n",
      "        July                     August                  September\n",
      "Mo Tu We Th Fr Sa Su      Mo Tu We Th Fr Sa Su      Mo Tu We Th Fr Sa Su\n",
      "             1  2  3       1  2  3  4  5  6  7                1  2  3  4\n",
      " 4  5  6  7  8  9 10       8  9 10 11 12 13 14       5  6  7  8  9 10 11\n",
      "11 12 13 14 15 16 17      15 16 17 18 19 20 21      12 13 14 15 16 17 18\n",
      "18 19 20 21 22 23 24      22 23 24 25 26 27 28      19 20 21 22 23 24 25\n",
      "25 26 27 28 29 30 31      29 30 31                  26 27 28 29 30\n",
      "\n",
      "      October                   November                  December\n",
      "Mo Tu We Th Fr Sa Su      Mo Tu We Th Fr Sa Su      Mo Tu We Th Fr Sa Su\n",
      "                1  2          1  2  3  4  5  6                1  2  3  4\n",
      " 3  4  5  6  7  8  9       7  8  9 10 11 12 13       5  6  7  8  9 10 11\n",
      "10 11 12 13 14 15 16      14 15 16 17 18 19 20      12 13 14 15 16 17 18\n",
      "17 18 19 20 21 22 23      21 22 23 24 25 26 27      19 20 21 22 23 24 25\n",
      "24 25 26 27 28 29 30      28 29 30                  26 27 28 29 30 31\n",
      "31\n",
      "\n"
     ]
    }
   ],
   "source": [
    "import calendar\n",
    "\n",
    "print(calendar.calendar(2022, 2,1,6))"
   ]
  },
  {
   "cell_type": "code",
   "execution_count": 19,
   "id": "1cfe6517",
   "metadata": {},
   "outputs": [
    {
     "name": "stdout",
     "output_type": "stream",
     "text": [
      "                                  2022\n",
      "\n",
      "      January                   February                   March\n",
      "Mo Tu We Th Fr Sa Su      Mo Tu We Th Fr Sa Su      Mo Tu We Th Fr Sa Su\n",
      "                1  2          1  2  3  4  5  6          1  2  3  4  5  6\n",
      " 3  4  5  6  7  8  9       7  8  9 10 11 12 13       7  8  9 10 11 12 13\n",
      "10 11 12 13 14 15 16      14 15 16 17 18 19 20      14 15 16 17 18 19 20\n",
      "17 18 19 20 21 22 23      21 22 23 24 25 26 27      21 22 23 24 25 26 27\n",
      "24 25 26 27 28 29 30      28                        28 29 30 31\n",
      "31\n",
      "\n",
      "       April                      May                       June\n",
      "Mo Tu We Th Fr Sa Su      Mo Tu We Th Fr Sa Su      Mo Tu We Th Fr Sa Su\n",
      "             1  2  3                         1             1  2  3  4  5\n",
      " 4  5  6  7  8  9 10       2  3  4  5  6  7  8       6  7  8  9 10 11 12\n",
      "11 12 13 14 15 16 17       9 10 11 12 13 14 15      13 14 15 16 17 18 19\n",
      "18 19 20 21 22 23 24      16 17 18 19 20 21 22      20 21 22 23 24 25 26\n",
      "25 26 27 28 29 30         23 24 25 26 27 28 29      27 28 29 30\n",
      "                          30 31\n",
      "\n",
      "        July                     August                  September\n",
      "Mo Tu We Th Fr Sa Su      Mo Tu We Th Fr Sa Su      Mo Tu We Th Fr Sa Su\n",
      "             1  2  3       1  2  3  4  5  6  7                1  2  3  4\n",
      " 4  5  6  7  8  9 10       8  9 10 11 12 13 14       5  6  7  8  9 10 11\n",
      "11 12 13 14 15 16 17      15 16 17 18 19 20 21      12 13 14 15 16 17 18\n",
      "18 19 20 21 22 23 24      22 23 24 25 26 27 28      19 20 21 22 23 24 25\n",
      "25 26 27 28 29 30 31      29 30 31                  26 27 28 29 30\n",
      "\n",
      "      October                   November                  December\n",
      "Mo Tu We Th Fr Sa Su      Mo Tu We Th Fr Sa Su      Mo Tu We Th Fr Sa Su\n",
      "                1  2          1  2  3  4  5  6                1  2  3  4\n",
      " 3  4  5  6  7  8  9       7  8  9 10 11 12 13       5  6  7  8  9 10 11\n",
      "10 11 12 13 14 15 16      14 15 16 17 18 19 20      12 13 14 15 16 17 18\n",
      "17 18 19 20 21 22 23      21 22 23 24 25 26 27      19 20 21 22 23 24 25\n",
      "24 25 26 27 28 29 30      28 29 30                  26 27 28 29 30 31\n",
      "31\n",
      "\n"
     ]
    }
   ],
   "source": [
    "import calendar\n",
    "\n",
    "print(calendar.calendar(2022, 2,1))"
   ]
  },
  {
   "cell_type": "code",
   "execution_count": 22,
   "id": "fa96c679",
   "metadata": {},
   "outputs": [
    {
     "name": "stdout",
     "output_type": "stream",
     "text": [
      "                                  2022\n",
      "\n",
      "      January                   February                   March\n",
      "Mo Tu We Th Fr Sa Su      Mo Tu We Th Fr Sa Su      Mo Tu We Th Fr Sa Su\n",
      "                1  2          1  2  3  4  5  6          1  2  3  4  5  6\n",
      " 3  4  5  6  7  8  9       7  8  9 10 11 12 13       7  8  9 10 11 12 13\n",
      "10 11 12 13 14 15 16      14 15 16 17 18 19 20      14 15 16 17 18 19 20\n",
      "17 18 19 20 21 22 23      21 22 23 24 25 26 27      21 22 23 24 25 26 27\n",
      "24 25 26 27 28 29 30      28                        28 29 30 31\n",
      "31\n",
      "\n",
      "       April                      May                       June\n",
      "Mo Tu We Th Fr Sa Su      Mo Tu We Th Fr Sa Su      Mo Tu We Th Fr Sa Su\n",
      "             1  2  3                         1             1  2  3  4  5\n",
      " 4  5  6  7  8  9 10       2  3  4  5  6  7  8       6  7  8  9 10 11 12\n",
      "11 12 13 14 15 16 17       9 10 11 12 13 14 15      13 14 15 16 17 18 19\n",
      "18 19 20 21 22 23 24      16 17 18 19 20 21 22      20 21 22 23 24 25 26\n",
      "25 26 27 28 29 30         23 24 25 26 27 28 29      27 28 29 30\n",
      "                          30 31\n",
      "\n",
      "        July                     August                  September\n",
      "Mo Tu We Th Fr Sa Su      Mo Tu We Th Fr Sa Su      Mo Tu We Th Fr Sa Su\n",
      "             1  2  3       1  2  3  4  5  6  7                1  2  3  4\n",
      " 4  5  6  7  8  9 10       8  9 10 11 12 13 14       5  6  7  8  9 10 11\n",
      "11 12 13 14 15 16 17      15 16 17 18 19 20 21      12 13 14 15 16 17 18\n",
      "18 19 20 21 22 23 24      22 23 24 25 26 27 28      19 20 21 22 23 24 25\n",
      "25 26 27 28 29 30 31      29 30 31                  26 27 28 29 30\n",
      "\n",
      "      October                   November                  December\n",
      "Mo Tu We Th Fr Sa Su      Mo Tu We Th Fr Sa Su      Mo Tu We Th Fr Sa Su\n",
      "                1  2          1  2  3  4  5  6                1  2  3  4\n",
      " 3  4  5  6  7  8  9       7  8  9 10 11 12 13       5  6  7  8  9 10 11\n",
      "10 11 12 13 14 15 16      14 15 16 17 18 19 20      12 13 14 15 16 17 18\n",
      "17 18 19 20 21 22 23      21 22 23 24 25 26 27      19 20 21 22 23 24 25\n",
      "24 25 26 27 28 29 30      28 29 30                  26 27 28 29 30 31\n",
      "31\n",
      "\n"
     ]
    }
   ],
   "source": [
    "import calendar\n",
    "\n",
    "print(calendar.calendar(2022))"
   ]
  },
  {
   "cell_type": "markdown",
   "id": "c7f2806b",
   "metadata": {},
   "source": [
    "### The Time Module"
   ]
  },
  {
   "cell_type": "markdown",
   "id": "13b2568e",
   "metadata": {},
   "source": [
    "#### altzone()\n",
    "\n",
    "* this method return the offset of local DST timezone, in seconds west of UTC, if one is defined.\n"
   ]
  },
  {
   "cell_type": "code",
   "execution_count": 23,
   "id": "de7e8d27",
   "metadata": {},
   "outputs": [
    {
     "name": "stdout",
     "output_type": "stream",
     "text": [
      "time.altzone:  -23400\n"
     ]
    }
   ],
   "source": [
    "import time\n",
    "\n",
    "print(\"time.altzone: \", time.altzone)"
   ]
  },
  {
   "cell_type": "markdown",
   "id": "fcbca510",
   "metadata": {},
   "source": [
    "#### asctime() method\n",
    "\n"
   ]
  },
  {
   "cell_type": "code",
   "execution_count": 24,
   "id": "3e41fd0c",
   "metadata": {},
   "outputs": [
    {
     "name": "stdout",
     "output_type": "stream",
     "text": [
      "asctime : Thu Apr 14 16:38:21 2022\n"
     ]
    }
   ],
   "source": [
    "import time \n",
    "\n",
    "t = time.localtime()\n",
    "\n",
    "print(\"asctime :\", time.asctime(t))"
   ]
  },
  {
   "cell_type": "code",
   "execution_count": 25,
   "id": "911c466a",
   "metadata": {},
   "outputs": [
    {
     "data": {
      "text/plain": [
       "'Thu Apr 14 16:38:38 2022'"
      ]
     },
     "execution_count": 25,
     "metadata": {},
     "output_type": "execute_result"
    }
   ],
   "source": [
    "time.asctime(time.localtime())"
   ]
  },
  {
   "cell_type": "markdown",
   "id": "e6b7d5fc",
   "metadata": {},
   "source": [
    "#### clock() method"
   ]
  },
  {
   "cell_type": "code",
   "execution_count": 29,
   "id": "9a2cf8ce",
   "metadata": {},
   "outputs": [
    {
     "ename": "AttributeError",
     "evalue": "module 'time' has no attribute 'clock'",
     "output_type": "error",
     "traceback": [
      "\u001b[1;31m---------------------------------------------------------------------------\u001b[0m",
      "\u001b[1;31mAttributeError\u001b[0m                            Traceback (most recent call last)",
      "Input \u001b[1;32mIn [29]\u001b[0m, in \u001b[0;36m<cell line: 8>\u001b[1;34m()\u001b[0m\n\u001b[0;32m      4\u001b[0m     time\u001b[38;5;241m.\u001b[39msleep(\u001b[38;5;241m2.5\u001b[39m)\n\u001b[0;32m      6\u001b[0m \u001b[38;5;66;03m# measure process time\u001b[39;00m\n\u001b[1;32m----> 8\u001b[0m t0 \u001b[38;5;241m=\u001b[39m \u001b[43mtime\u001b[49m\u001b[38;5;241;43m.\u001b[39;49m\u001b[43mclock\u001b[49m()\n\u001b[0;32m     10\u001b[0m procedure()\n\u001b[0;32m     12\u001b[0m \u001b[38;5;28mprint\u001b[39m(time\u001b[38;5;241m.\u001b[39mclock() \u001b[38;5;241m-\u001b[39m t0, \u001b[38;5;124m\"\u001b[39m\u001b[38;5;124mSeconds process time\u001b[39m\u001b[38;5;124m\"\u001b[39m)\n",
      "\u001b[1;31mAttributeError\u001b[0m: module 'time' has no attribute 'clock'"
     ]
    }
   ],
   "source": [
    "import time \n",
    "\n",
    "def procedure():\n",
    "    time.sleep(2.5)\n",
    "    \n",
    "# measure process time\n",
    "\n",
    "t0 = time.clock()\n",
    "\n",
    "procedure()\n",
    "\n",
    "print(time.clock() - t0, \"Seconds process time\")\n",
    "# measure wall time\n",
    "\n",
    "t0 = time.time()\n",
    "\n",
    "procedure()\n",
    "\n",
    "print(time.time() - t0, \"seconds wall time\")"
   ]
  },
  {
   "cell_type": "markdown",
   "id": "df91efa7",
   "metadata": {},
   "source": [
    "### Note. - time.clock() - deprecated since version 3.3\n",
    "Deprecated since version 3.3: The behaviour of this function depends on the platform: use `perf_counter() or process_time()` instead, depending on your requirements, to have a well defined behaviour."
   ]
  },
  {
   "cell_type": "code",
   "execution_count": 30,
   "id": "06a2a844",
   "metadata": {},
   "outputs": [
    {
     "name": "stdout",
     "output_type": "stream",
     "text": [
      "0.015625 Seconds process time\n",
      "2.5079829692840576 seconds wall time\n"
     ]
    }
   ],
   "source": [
    "import time \n",
    "\n",
    "def procedure():\n",
    "    time.sleep(2.5)\n",
    "# measure process time\n",
    "t0 = time.process_time()\n",
    "\n",
    "procedure()\n",
    "\n",
    "print(time.process_time() - t0, \"Seconds process time\")\n",
    "# measure wall time\n",
    "\n",
    "t0 = time.time()\n",
    "\n",
    "procedure()\n",
    "\n",
    "print(time.time() - t0, \"seconds wall time\")"
   ]
  },
  {
   "cell_type": "markdown",
   "id": "27408df0",
   "metadata": {},
   "source": [
    "#### ctime() Method"
   ]
  },
  {
   "cell_type": "code",
   "execution_count": 31,
   "id": "71aebd43",
   "metadata": {},
   "outputs": [
    {
     "name": "stdout",
     "output_type": "stream",
     "text": [
      "ctime: Thu Apr 14 17:12:58 2022\n"
     ]
    }
   ],
   "source": [
    "import time \n",
    "\n",
    "print(\"ctime:\", time.ctime())"
   ]
  },
  {
   "cell_type": "markdown",
   "id": "13f32f36",
   "metadata": {},
   "source": [
    "#### gmtime()  Method"
   ]
  },
  {
   "cell_type": "code",
   "execution_count": 33,
   "id": "78e802d4",
   "metadata": {},
   "outputs": [
    {
     "name": "stdout",
     "output_type": "stream",
     "text": [
      "gmtime:  time.struct_time(tm_year=2016, tm_mon=2, tm_mday=15, tm_hour=3, tm_min=56, tm_sec=49, tm_wday=0, tm_yday=46, tm_isdst=0)\n"
     ]
    }
   ],
   "source": [
    "import time   # time.gmtime([sec.])\n",
    "\n",
    "print(\"gmtime: \", time.gmtime(1455508609.34375))"
   ]
  },
  {
   "cell_type": "markdown",
   "id": "ca06fbc9",
   "metadata": {},
   "source": [
    "#### localtime() method"
   ]
  },
  {
   "cell_type": "code",
   "execution_count": 34,
   "id": "6210d31e",
   "metadata": {},
   "outputs": [
    {
     "name": "stdout",
     "output_type": "stream",
     "text": [
      "Localtime:  time.struct_time(tm_year=2022, tm_mon=4, tm_mday=14, tm_hour=17, tm_min=17, tm_sec=3, tm_wday=3, tm_yday=104, tm_isdst=0)\n"
     ]
    }
   ],
   "source": [
    "# time.localtime([sec.])\n",
    "\n",
    "import time\n",
    "\n",
    "print(\"Localtime: \", time.localtime())"
   ]
  },
  {
   "cell_type": "markdown",
   "id": "178fc70b",
   "metadata": {},
   "source": [
    "#### mktime() Method"
   ]
  },
  {
   "cell_type": "code",
   "execution_count": 40,
   "id": "9d8c9be4",
   "metadata": {},
   "outputs": [
    {
     "name": "stdout",
     "output_type": "stream",
     "text": [
      "1568318426.0\n"
     ]
    }
   ],
   "source": [
    "# time.mktime(t)\n",
    "\n",
    "import time\n",
    "\n",
    "tup = (2019, 9, 13, 1, 30, 26, 4, 256, 0)\n",
    "print(time.mktime(tup))"
   ]
  },
  {
   "cell_type": "code",
   "execution_count": 41,
   "id": "e76fee5b",
   "metadata": {},
   "outputs": [
    {
     "name": "stdout",
     "output_type": "stream",
     "text": [
      "1568318426.0\n"
     ]
    }
   ],
   "source": [
    "# time.struct_time(tm_year = 2019, tm_mon = 9, tm_mday = 13, \n",
    "# tm_hour = 1, tm_min = 30, tm_sec = 26, tm_wday = 4,\n",
    "# tm_yday = 256, tm_isdst = 0)\n",
    "\n",
    "import time\n",
    "\n",
    "tup = (2019, 9, 13, 1, 30, 26, 4, 256, 0)\n",
    "print(time.mktime(tup))"
   ]
  },
  {
   "cell_type": "code",
   "execution_count": 42,
   "id": "a1a1056b",
   "metadata": {},
   "outputs": [
    {
     "name": "stdout",
     "output_type": "stream",
     "text": [
      "1649534906.0\n"
     ]
    }
   ],
   "source": [
    "import time\n",
    "t = (2022, 4, 10, 1, 38, 26, 4, 48, 0)\n",
    "print(time.mktime(t))"
   ]
  },
  {
   "cell_type": "markdown",
   "id": "c91f0f53",
   "metadata": {},
   "source": [
    "#### sleep() Method"
   ]
  },
  {
   "cell_type": "code",
   "execution_count": 43,
   "id": "19080eef",
   "metadata": {},
   "outputs": [
    {
     "name": "stdout",
     "output_type": "stream",
     "text": [
      "start:  Thu Apr 14 17:37:38 2022\n",
      "End:  Thu Apr 14 17:37:43 2022\n"
     ]
    }
   ],
   "source": [
    "import time\n",
    "\n",
    "print(\"start: \", time.ctime())\n",
    "time.sleep(5)\n",
    "print(\"End: \", time.ctime())"
   ]
  },
  {
   "cell_type": "code",
   "execution_count": 44,
   "id": "1cd727e5",
   "metadata": {},
   "outputs": [],
   "source": [
    "t = time.ctime()"
   ]
  },
  {
   "cell_type": "code",
   "execution_count": 45,
   "id": "c55f02b5",
   "metadata": {},
   "outputs": [
    {
     "data": {
      "text/plain": [
       "'Thu Apr 14 17:38:25 2022'"
      ]
     },
     "execution_count": 45,
     "metadata": {},
     "output_type": "execute_result"
    }
   ],
   "source": [
    "t"
   ]
  },
  {
   "cell_type": "markdown",
   "id": "fb4c58a3",
   "metadata": {},
   "source": [
    "#### strftime() Method"
   ]
  },
  {
   "cell_type": "code",
   "execution_count": 48,
   "id": "391bc7e5",
   "metadata": {},
   "outputs": [
    {
     "name": "stdout",
     "output_type": "stream",
     "text": [
      "Sep 13 2019 01:30:26\n"
     ]
    }
   ],
   "source": [
    "#time.strftime(format[, t])\n",
    "\n",
    "import time\n",
    "\n",
    "tup = (2019, 9, 13, 1, 30, 26, 4, 256, 0)\n",
    "\n",
    "t = time.mktime(tup)\n",
    "\n",
    "print(time.strftime(\"%b %d %Y %H:%M:%S\", time.localtime(t)))"
   ]
  },
  {
   "cell_type": "markdown",
   "id": "17c28306",
   "metadata": {},
   "source": [
    "#### strptime() Method\n",
    "\n"
   ]
  },
  {
   "cell_type": "code",
   "execution_count": 50,
   "id": "dc9a2755",
   "metadata": {},
   "outputs": [
    {
     "name": "stdout",
     "output_type": "stream",
     "text": [
      "tuple :  time.struct_time(tm_year=2015, tm_mon=12, tm_mday=30, tm_hour=0, tm_min=0, tm_sec=0, tm_wday=2, tm_yday=364, tm_isdst=-1)\n"
     ]
    }
   ],
   "source": [
    "# time.strptime(string[, format])\n",
    "\n",
    "import time \n",
    "\n",
    "struct_time = time.strptime(\"30 12 2015\", \"%d %m %Y\") # Y must be in capital\n",
    "\n",
    "print('tuple : ', struct_time)"
   ]
  },
  {
   "cell_type": "markdown",
   "id": "ca11a0cb",
   "metadata": {},
   "source": [
    "#### time() Method "
   ]
  },
  {
   "cell_type": "code",
   "execution_count": 51,
   "id": "70e558a7",
   "metadata": {},
   "outputs": [
    {
     "name": "stdout",
     "output_type": "stream",
     "text": [
      "1649938996.8586242\n"
     ]
    }
   ],
   "source": [
    "import time \n",
    "\n",
    "print(time.time())"
   ]
  },
  {
   "cell_type": "code",
   "execution_count": 52,
   "id": "2d65410b",
   "metadata": {},
   "outputs": [
    {
     "data": {
      "text/plain": [
       "time.struct_time(tm_year=2022, tm_mon=4, tm_mday=14, tm_hour=17, tm_min=53, tm_sec=27, tm_wday=3, tm_yday=104, tm_isdst=0)"
      ]
     },
     "execution_count": 52,
     "metadata": {},
     "output_type": "execute_result"
    }
   ],
   "source": [
    "time.localtime()"
   ]
  },
  {
   "cell_type": "code",
   "execution_count": 53,
   "id": "19ec0dd6",
   "metadata": {},
   "outputs": [
    {
     "data": {
      "text/plain": [
       "'Thu Apr 14 17:53:35 2022'"
      ]
     },
     "execution_count": 53,
     "metadata": {},
     "output_type": "execute_result"
    }
   ],
   "source": [
    "\n",
    "time.ctime()"
   ]
  },
  {
   "cell_type": "markdown",
   "id": "410ed917",
   "metadata": {},
   "source": [
    "#### tzset() Method"
   ]
  },
  {
   "cell_type": "code",
   "execution_count": 57,
   "id": "e4ea72b1",
   "metadata": {},
   "outputs": [
    {
     "ename": "AttributeError",
     "evalue": "module 'time' has no attribute 'tzset'",
     "output_type": "error",
     "traceback": [
      "\u001b[1;31m---------------------------------------------------------------------------\u001b[0m",
      "\u001b[1;31mAttributeError\u001b[0m                            Traceback (most recent call last)",
      "Input \u001b[1;32mIn [57]\u001b[0m, in \u001b[0;36m<cell line: 5>\u001b[1;34m()\u001b[0m\n\u001b[0;32m      2\u001b[0m \u001b[38;5;28;01mimport\u001b[39;00m \u001b[38;5;21;01mos\u001b[39;00m\n\u001b[0;32m      4\u001b[0m os\u001b[38;5;241m.\u001b[39menviron[\u001b[38;5;124m'\u001b[39m\u001b[38;5;124mTZ\u001b[39m\u001b[38;5;124m'\u001b[39m] \u001b[38;5;241m=\u001b[39m \u001b[38;5;124m'\u001b[39m\u001b[38;5;124mEST+05EDT,M4.1.0,M10.5.0\u001b[39m\u001b[38;5;124m'\u001b[39m\n\u001b[1;32m----> 5\u001b[0m \u001b[43mtime\u001b[49m\u001b[38;5;241;43m.\u001b[39;49m\u001b[43mtzset\u001b[49m()\n\u001b[0;32m      6\u001b[0m \u001b[38;5;28mprint\u001b[39m(time\u001b[38;5;241m.\u001b[39mstrftime(\u001b[38;5;124m'\u001b[39m\u001b[38;5;132;01m%X\u001b[39;00m\u001b[38;5;124m \u001b[39m\u001b[38;5;132;01m%x\u001b[39;00m\u001b[38;5;124m \u001b[39m\u001b[38;5;124m%\u001b[39m\u001b[38;5;124mZ\u001b[39m\u001b[38;5;124m'\u001b[39m))\n\u001b[0;32m      8\u001b[0m os\u001b[38;5;241m.\u001b[39menviron[\u001b[38;5;124m'\u001b[39m\u001b[38;5;124mTZ\u001b[39m\u001b[38;5;124m'\u001b[39m] \u001b[38;5;241m=\u001b[39m \u001b[38;5;124m'\u001b[39m\u001b[38;5;124mAEST-10AEDT-11,M10.5.0,M3.5.0\u001b[39m\u001b[38;5;124m'\u001b[39m\n",
      "\u001b[1;31mAttributeError\u001b[0m: module 'time' has no attribute 'tzset'"
     ]
    }
   ],
   "source": [
    "import time\n",
    "import os\n",
    "\n",
    "os.environ['TZ'] = 'EST+05EDT,M4.1.0,M10.5.0'\n",
    "time.tzset()\n",
    "print(time.strftime('%X %x %Z'))\n",
    "\n",
    "os.environ['TZ'] = 'AEST-10AEDT-11,M10.5.0,M3.5.0'\n",
    "time.tzset()\n",
    "print(time.strftime('%X %x %Z'))"
   ]
  },
  {
   "cell_type": "markdown",
   "id": "7ab5dc4f",
   "metadata": {},
   "source": [
    "This probably isn't a bug (the documentation is very clear that the tzset() function is only available on Unix). It's more likely a weakness in Windows that prevents the Python programmers from implementing tzset() under it. "
   ]
  },
  {
   "cell_type": "code",
   "execution_count": 59,
   "id": "0c087536",
   "metadata": {},
   "outputs": [],
   "source": [
    "# import time\n",
    "\n",
    "# time.timezone()"
   ]
  },
  {
   "cell_type": "code",
   "execution_count": 61,
   "id": "b10e1055",
   "metadata": {},
   "outputs": [],
   "source": [
    "# import time\n",
    "\n",
    "# time.tzname()"
   ]
  },
  {
   "cell_type": "code",
   "execution_count": 73,
   "id": "0e1c82d3",
   "metadata": {},
   "outputs": [
    {
     "name": "stdout",
     "output_type": "stream",
     "text": [
      "2022-04-14 18:18:34.720036\n"
     ]
    }
   ],
   "source": [
    "import datetime\n",
    "\n",
    "x = datetime.datetime.now()\n",
    "\n",
    "print(x)"
   ]
  },
  {
   "cell_type": "code",
   "execution_count": 74,
   "id": "8c8b86f0",
   "metadata": {},
   "outputs": [
    {
     "name": "stdout",
     "output_type": "stream",
     "text": [
      "2022\n"
     ]
    }
   ],
   "source": [
    "import datetime\n",
    "\n",
    "x = datetime.datetime.now()\n",
    "\n",
    "print(x.year)"
   ]
  },
  {
   "cell_type": "code",
   "execution_count": 75,
   "id": "c4899aa9",
   "metadata": {},
   "outputs": [
    {
     "name": "stdout",
     "output_type": "stream",
     "text": [
      "Thursday\n"
     ]
    }
   ],
   "source": [
    "print(x.strftime(\"%A\"))"
   ]
  },
  {
   "cell_type": "code",
   "execution_count": 76,
   "id": "a6cc480f",
   "metadata": {},
   "outputs": [
    {
     "name": "stdout",
     "output_type": "stream",
     "text": [
      "2020-05-17 00:00:00\n"
     ]
    }
   ],
   "source": [
    "import datetime\n",
    "\n",
    "x = datetime.datetime(2020, 5, 17)\n",
    "\n",
    "print(x)"
   ]
  },
  {
   "cell_type": "code",
   "execution_count": 77,
   "id": "1cd8c614",
   "metadata": {},
   "outputs": [
    {
     "name": "stdout",
     "output_type": "stream",
     "text": [
      "June\n"
     ]
    }
   ],
   "source": [
    "import datetime\n",
    "\n",
    "x = datetime.datetime(2018, 6, 1)\n",
    "\n",
    "print(x.strftime(\"%B\"))"
   ]
  },
  {
   "cell_type": "code",
   "execution_count": 78,
   "id": "26db234d",
   "metadata": {},
   "outputs": [
    {
     "name": "stdout",
     "output_type": "stream",
     "text": [
      "Thu\n"
     ]
    }
   ],
   "source": [
    "import datetime\n",
    "\n",
    "x = datetime.datetime.now()\n",
    "\n",
    "print(x.strftime(\"%a\"))\n"
   ]
  },
  {
   "cell_type": "markdown",
   "id": "e15546a1",
   "metadata": {},
   "source": [
    "####  A reference of all the legal format codes:\n",
    "\n",
    "**Directive\t--------Description**\t\n",
    "* %a\t------Weekday, short version\tWed\t\n",
    "\n",
    "* %A\t------Weekday, full version\tWednesday\t\n",
    "\n",
    "* %w\t------Weekday as a number 0-6, 0 is Sunday\t3\t\n",
    "\n",
    "* %d\t------Day of month 01-31\t31\t\n",
    "\n",
    "* %b\t------Month name, short version\tDec\t\n",
    "\n",
    "* %B\t------Month name, full version\tDecember\t\n",
    "\n",
    "* %m\t------Month as a number 01-12\t12\t\n",
    "\n",
    "* %y\t------Year, short version, without century\t18\t\n",
    "\n",
    "* %Y\t------Year, full version\t2018\t\n",
    "\n",
    "* %H\t------Hour 00-23\t17\t\n",
    "\n",
    "* %I\t------Hour 00-12\t05\t\n",
    "\n",
    "* %p\t------AM/PM\tPM\t\n",
    "\n",
    "* %M\t------Minute 00-59\t41\t\n",
    "\n",
    "* %S\t------Second 00-59\t08\t\n",
    "\n",
    "* %f\t------Microsecond 000000-999999\t548513\t\n",
    "\n",
    "* %z\t------UTC offset\t+0100\t\n",
    "\n",
    "* %Z\t------Timezone\tCST\t\n",
    "\n",
    "* %j\t------Day number of year 001-366\t365\t\n",
    "\n",
    "* %U\t------Week number of year, Sunday as the first day of week, 00-53\t52\t\n",
    "\n",
    "* %W\t------Week number of year, Monday as the first day of week, 00-53\t52\t\n",
    "\n",
    "* %c\t------Local version of date and time\tMon Dec 31 17:41:00 2018\t\n",
    "\n",
    "* %C\t------Century\t20\t\n",
    "\n",
    "* %x\t------Local version of date\t12/31/18\t\n",
    "\n",
    "* %X\t------Local version of time\t17:41:00\t\n",
    "\n",
    "* %%\t------A % character\t%\t\n",
    "\n",
    "* %G\t------ISO 8601 year\t2018\t\n",
    "\n",
    "* %u\t------ISO 8601 weekday (1-7)\t1\t\n",
    "\n",
    "* %V\t------ISO 8601 weeknumber (01-53)\t01\n"
   ]
  },
  {
   "cell_type": "markdown",
   "id": "ec9191bb",
   "metadata": {},
   "source": [
    "### calendar"
   ]
  },
  {
   "cell_type": "code",
   "execution_count": 81,
   "id": "02f3fd50",
   "metadata": {},
   "outputs": [
    {
     "name": "stdout",
     "output_type": "stream",
     "text": [
      "                                  2022\n",
      "\n",
      "      January                   February                   March\n",
      "Mo Tu We Th Fr Sa Su      Mo Tu We Th Fr Sa Su      Mo Tu We Th Fr Sa Su\n",
      "                1  2          1  2  3  4  5  6          1  2  3  4  5  6\n",
      " 3  4  5  6  7  8  9       7  8  9 10 11 12 13       7  8  9 10 11 12 13\n",
      "10 11 12 13 14 15 16      14 15 16 17 18 19 20      14 15 16 17 18 19 20\n",
      "17 18 19 20 21 22 23      21 22 23 24 25 26 27      21 22 23 24 25 26 27\n",
      "24 25 26 27 28 29 30      28                        28 29 30 31\n",
      "31\n",
      "\n",
      "       April                      May                       June\n",
      "Mo Tu We Th Fr Sa Su      Mo Tu We Th Fr Sa Su      Mo Tu We Th Fr Sa Su\n",
      "             1  2  3                         1             1  2  3  4  5\n",
      " 4  5  6  7  8  9 10       2  3  4  5  6  7  8       6  7  8  9 10 11 12\n",
      "11 12 13 14 15 16 17       9 10 11 12 13 14 15      13 14 15 16 17 18 19\n",
      "18 19 20 21 22 23 24      16 17 18 19 20 21 22      20 21 22 23 24 25 26\n",
      "25 26 27 28 29 30         23 24 25 26 27 28 29      27 28 29 30\n",
      "                          30 31\n",
      "\n",
      "        July                     August                  September\n",
      "Mo Tu We Th Fr Sa Su      Mo Tu We Th Fr Sa Su      Mo Tu We Th Fr Sa Su\n",
      "             1  2  3       1  2  3  4  5  6  7                1  2  3  4\n",
      " 4  5  6  7  8  9 10       8  9 10 11 12 13 14       5  6  7  8  9 10 11\n",
      "11 12 13 14 15 16 17      15 16 17 18 19 20 21      12 13 14 15 16 17 18\n",
      "18 19 20 21 22 23 24      22 23 24 25 26 27 28      19 20 21 22 23 24 25\n",
      "25 26 27 28 29 30 31      29 30 31                  26 27 28 29 30\n",
      "\n",
      "      October                   November                  December\n",
      "Mo Tu We Th Fr Sa Su      Mo Tu We Th Fr Sa Su      Mo Tu We Th Fr Sa Su\n",
      "                1  2          1  2  3  4  5  6                1  2  3  4\n",
      " 3  4  5  6  7  8  9       7  8  9 10 11 12 13       5  6  7  8  9 10 11\n",
      "10 11 12 13 14 15 16      14 15 16 17 18 19 20      12 13 14 15 16 17 18\n",
      "17 18 19 20 21 22 23      21 22 23 24 25 26 27      19 20 21 22 23 24 25\n",
      "24 25 26 27 28 29 30      28 29 30                  26 27 28 29 30 31\n",
      "31\n",
      "\n"
     ]
    }
   ],
   "source": [
    "import calendar\n",
    "\n",
    "print(calendar.calendar(2022))"
   ]
  },
  {
   "cell_type": "code",
   "execution_count": 82,
   "id": "f639c8ef",
   "metadata": {},
   "outputs": [
    {
     "name": "stdout",
     "output_type": "stream",
     "text": [
      "0\n"
     ]
    }
   ],
   "source": [
    "print(calendar.firstweekday())"
   ]
  },
  {
   "cell_type": "code",
   "execution_count": 83,
   "id": "5e2525b2",
   "metadata": {},
   "outputs": [
    {
     "name": "stdout",
     "output_type": "stream",
     "text": [
      "False\n"
     ]
    }
   ],
   "source": [
    "print(calendar.isleap(2022))"
   ]
  },
  {
   "cell_type": "code",
   "execution_count": 84,
   "id": "d21d7dbb",
   "metadata": {},
   "outputs": [
    {
     "name": "stdout",
     "output_type": "stream",
     "text": [
      "     April 2022\n",
      "Mo Tu We Th Fr Sa Su\n",
      "             1  2  3\n",
      " 4  5  6  7  8  9 10\n",
      "11 12 13 14 15 16 17\n",
      "18 19 20 21 22 23 24\n",
      "25 26 27 28 29 30\n",
      "\n"
     ]
    }
   ],
   "source": [
    "print(calendar.month(2022,4))"
   ]
  },
  {
   "cell_type": "code",
   "execution_count": 86,
   "id": "5d94e21f",
   "metadata": {},
   "outputs": [
    {
     "name": "stdout",
     "output_type": "stream",
     "text": [
      "[[0, 0, 0, 0, 1, 2, 3], [4, 5, 6, 7, 8, 9, 10], [11, 12, 13, 14, 15, 16, 17], [18, 19, 20, 21, 22, 23, 24], [25, 26, 27, 28, 29, 30, 0]]\n"
     ]
    }
   ],
   "source": [
    "print(calendar.monthcalendar(2022,4))"
   ]
  },
  {
   "cell_type": "code",
   "execution_count": 91,
   "id": "e7d9b364",
   "metadata": {},
   "outputs": [
    {
     "name": "stdout",
     "output_type": "stream",
     "text": [
      "[0, 0, 0, 0, 1, 2, 3]\n",
      "[4, 5, 6, 7, 8, 9, 10]\n",
      "[11, 12, 13, 14, 15, 16, 17]\n",
      "[18, 19, 20, 21, 22, 23, 24]\n",
      "[25, 26, 27, 28, 29, 30, 0]\n"
     ]
    }
   ],
   "source": [
    "for weak in calendar.monthcalendar(2022,4):\n",
    "    print(weak)"
   ]
  },
  {
   "cell_type": "code",
   "execution_count": 92,
   "id": "7d83fda7",
   "metadata": {},
   "outputs": [
    {
     "data": {
      "text/plain": [
       "(4, 30)"
      ]
     },
     "execution_count": 92,
     "metadata": {},
     "output_type": "execute_result"
    }
   ],
   "source": [
    "import calendar\n",
    "\n",
    "calendar.monthrange(2022, 4)"
   ]
  },
  {
   "cell_type": "code",
   "execution_count": 94,
   "id": "94bf4df1",
   "metadata": {},
   "outputs": [
    {
     "data": {
      "text/plain": [
       "(1, 28)"
      ]
     },
     "execution_count": 94,
     "metadata": {},
     "output_type": "execute_result"
    }
   ],
   "source": [
    "import calendar\n",
    "\n",
    "calendar.monthrange(2022,2)  # weekday code are 0 (Monday) to 6(Sunday) so here output is 1 means\n",
    "                             # Tuesday and another output is number of days in month"
   ]
  },
  {
   "cell_type": "code",
   "execution_count": 96,
   "id": "47455698",
   "metadata": {},
   "outputs": [
    {
     "name": "stdout",
     "output_type": "stream",
     "text": [
      "                                  2022\n",
      "\n",
      "      January                   February                   March\n",
      "Mo Tu We Th Fr Sa Su      Mo Tu We Th Fr Sa Su      Mo Tu We Th Fr Sa Su\n",
      "                1  2          1  2  3  4  5  6          1  2  3  4  5  6\n",
      " 3  4  5  6  7  8  9       7  8  9 10 11 12 13       7  8  9 10 11 12 13\n",
      "10 11 12 13 14 15 16      14 15 16 17 18 19 20      14 15 16 17 18 19 20\n",
      "17 18 19 20 21 22 23      21 22 23 24 25 26 27      21 22 23 24 25 26 27\n",
      "24 25 26 27 28 29 30      28                        28 29 30 31\n",
      "31\n",
      "\n",
      "       April                      May                       June\n",
      "Mo Tu We Th Fr Sa Su      Mo Tu We Th Fr Sa Su      Mo Tu We Th Fr Sa Su\n",
      "             1  2  3                         1             1  2  3  4  5\n",
      " 4  5  6  7  8  9 10       2  3  4  5  6  7  8       6  7  8  9 10 11 12\n",
      "11 12 13 14 15 16 17       9 10 11 12 13 14 15      13 14 15 16 17 18 19\n",
      "18 19 20 21 22 23 24      16 17 18 19 20 21 22      20 21 22 23 24 25 26\n",
      "25 26 27 28 29 30         23 24 25 26 27 28 29      27 28 29 30\n",
      "                          30 31\n",
      "\n",
      "        July                     August                  September\n",
      "Mo Tu We Th Fr Sa Su      Mo Tu We Th Fr Sa Su      Mo Tu We Th Fr Sa Su\n",
      "             1  2  3       1  2  3  4  5  6  7                1  2  3  4\n",
      " 4  5  6  7  8  9 10       8  9 10 11 12 13 14       5  6  7  8  9 10 11\n",
      "11 12 13 14 15 16 17      15 16 17 18 19 20 21      12 13 14 15 16 17 18\n",
      "18 19 20 21 22 23 24      22 23 24 25 26 27 28      19 20 21 22 23 24 25\n",
      "25 26 27 28 29 30 31      29 30 31                  26 27 28 29 30\n",
      "\n",
      "      October                   November                  December\n",
      "Mo Tu We Th Fr Sa Su      Mo Tu We Th Fr Sa Su      Mo Tu We Th Fr Sa Su\n",
      "                1  2          1  2  3  4  5  6                1  2  3  4\n",
      " 3  4  5  6  7  8  9       7  8  9 10 11 12 13       5  6  7  8  9 10 11\n",
      "10 11 12 13 14 15 16      14 15 16 17 18 19 20      12 13 14 15 16 17 18\n",
      "17 18 19 20 21 22 23      21 22 23 24 25 26 27      19 20 21 22 23 24 25\n",
      "24 25 26 27 28 29 30      28 29 30                  26 27 28 29 30 31\n",
      "31\n"
     ]
    }
   ],
   "source": [
    "calendar.prcal(2022)"
   ]
  },
  {
   "cell_type": "code",
   "execution_count": 97,
   "id": "615fffba",
   "metadata": {},
   "outputs": [
    {
     "name": "stdout",
     "output_type": "stream",
     "text": [
      "     March 2022\n",
      "Mo Tu We Th Fr Sa Su\n",
      "    1  2  3  4  5  6\n",
      " 7  8  9 10 11 12 13\n",
      "14 15 16 17 18 19 20\n",
      "21 22 23 24 25 26 27\n",
      "28 29 30 31\n"
     ]
    }
   ],
   "source": [
    "import calendar\n",
    "calendar.prmonth(2022,3)"
   ]
  },
  {
   "cell_type": "code",
   "execution_count": 113,
   "id": "8dc5870c",
   "metadata": {},
   "outputs": [],
   "source": [
    "calendar.setfirstweekday(0)"
   ]
  },
  {
   "cell_type": "code",
   "execution_count": 114,
   "id": "7e518e59",
   "metadata": {},
   "outputs": [
    {
     "data": {
      "text/plain": [
       "3"
      ]
     },
     "execution_count": 114,
     "metadata": {},
     "output_type": "execute_result"
    }
   ],
   "source": [
    "calendar.weekday(2022,4,14)"
   ]
  },
  {
   "cell_type": "code",
   "execution_count": null,
   "id": "4c8804e3",
   "metadata": {},
   "outputs": [],
   "source": []
  },
  {
   "cell_type": "code",
   "execution_count": 109,
   "id": "777efeca",
   "metadata": {},
   "outputs": [
    {
     "data": {
      "text/plain": [
       "1647050524"
      ]
     },
     "execution_count": 109,
     "metadata": {},
     "output_type": "execute_result"
    }
   ],
   "source": [
    "calendar.timegm((2022, 3, 12, 2, 2, 4 ))"
   ]
  },
  {
   "cell_type": "code",
   "execution_count": null,
   "id": "35d20e41",
   "metadata": {},
   "outputs": [],
   "source": []
  }
 ],
 "metadata": {
  "kernelspec": {
   "display_name": "Python 3 (ipykernel)",
   "language": "python",
   "name": "python3"
  },
  "language_info": {
   "codemirror_mode": {
    "name": "ipython",
    "version": 3
   },
   "file_extension": ".py",
   "mimetype": "text/x-python",
   "name": "python",
   "nbconvert_exporter": "python",
   "pygments_lexer": "ipython3",
   "version": "3.9.7"
  }
 },
 "nbformat": 4,
 "nbformat_minor": 5
}
