{
 "cells": [
  {
   "cell_type": "markdown",
   "id": "d81356b0",
   "metadata": {},
   "source": [
    "### Python List"
   ]
  },
  {
   "cell_type": "code",
   "execution_count": 5,
   "id": "562dab73",
   "metadata": {},
   "outputs": [],
   "source": [
    "list1 = [\"physics\", \"chemistry\", 1997, 2000]\n",
    "list2 = [1,2,3,4,5]\n",
    "list3 = [\"a\", \"b\", \"c\", \"d\"]\n"
   ]
  },
  {
   "cell_type": "markdown",
   "id": "dfda5852",
   "metadata": {},
   "source": [
    "#### Accessing Value in Lists"
   ]
  },
  {
   "cell_type": "code",
   "execution_count": 6,
   "id": "27e2d21c",
   "metadata": {},
   "outputs": [
    {
     "name": "stdout",
     "output_type": "stream",
     "text": [
      "physics\n"
     ]
    }
   ],
   "source": [
    "list1 = [\"physics\", \"chemistry\", 1997, 2000]\n",
    "list2 = [1,2,3,4,5]\n",
    "list3 = [\"a\", \"b\", \"c\", \"d\"]\n",
    "print(list1[0])"
   ]
  },
  {
   "cell_type": "code",
   "execution_count": 7,
   "id": "281b4451",
   "metadata": {},
   "outputs": [
    {
     "data": {
      "text/plain": [
       "1"
      ]
     },
     "execution_count": 7,
     "metadata": {},
     "output_type": "execute_result"
    }
   ],
   "source": [
    "list2[0]"
   ]
  },
  {
   "cell_type": "code",
   "execution_count": 8,
   "id": "7b20b44c",
   "metadata": {},
   "outputs": [
    {
     "data": {
      "text/plain": [
       "['chemistry', 1997, 2000]"
      ]
     },
     "execution_count": 8,
     "metadata": {},
     "output_type": "execute_result"
    }
   ],
   "source": [
    "list1[1:5]"
   ]
  },
  {
   "cell_type": "code",
   "execution_count": 9,
   "id": "ad5a0e0f",
   "metadata": {},
   "outputs": [
    {
     "data": {
      "text/plain": [
       "'d'"
      ]
     },
     "execution_count": 9,
     "metadata": {},
     "output_type": "execute_result"
    }
   ],
   "source": [
    "list3[-1]"
   ]
  },
  {
   "cell_type": "code",
   "execution_count": 10,
   "id": "776c9733",
   "metadata": {},
   "outputs": [
    {
     "data": {
      "text/plain": [
       "['b', 'c']"
      ]
     },
     "execution_count": 10,
     "metadata": {},
     "output_type": "execute_result"
    }
   ],
   "source": [
    "list3 = [\"a\", \"b\", \"c\", \"d\"]\n",
    "\n",
    "list3[-3:-1]"
   ]
  },
  {
   "cell_type": "markdown",
   "id": "37037e66",
   "metadata": {},
   "source": [
    "#### Updating Lists"
   ]
  },
  {
   "cell_type": "code",
   "execution_count": 11,
   "id": "10c4db18",
   "metadata": {},
   "outputs": [
    {
     "data": {
      "text/plain": [
       "['a', 'b', 'B', 'd']"
      ]
     },
     "execution_count": 11,
     "metadata": {},
     "output_type": "execute_result"
    }
   ],
   "source": [
    "list3 = [\"a\", \"b\", \"c\", \"d\"]\n",
    "\n",
    "list3[2] = \"B\"\n",
    "list3"
   ]
  },
  {
   "cell_type": "code",
   "execution_count": 12,
   "id": "36e20d74",
   "metadata": {},
   "outputs": [
    {
     "data": {
      "text/plain": [
       "['a', 'A', 'B', 'C', 'd', 'd']"
      ]
     },
     "execution_count": 12,
     "metadata": {},
     "output_type": "execute_result"
    }
   ],
   "source": [
    "list3[1:3] = \"A\",\"B\",\"C\",\"d\"\n",
    "list3  # multiple uppdation when no. of element which is to be updated is different then it \n",
    "       # will change the list length. if we provide less element corresponding to the element to \n",
    "       # to be updated then is reduces the length and element shift accordingly and if we provide\n",
    "       # more element then it increase the length of the list and rest element will shift right"
   ]
  },
  {
   "cell_type": "code",
   "execution_count": 13,
   "id": "6e449e1a",
   "metadata": {},
   "outputs": [
    {
     "data": {
      "text/plain": [
       "['a', 'b', 'c', 'd']"
      ]
     },
     "execution_count": 13,
     "metadata": {},
     "output_type": "execute_result"
    }
   ],
   "source": [
    "list3[1:5] = \"b\", \"c\"\n",
    "\n",
    "list3"
   ]
  },
  {
   "cell_type": "code",
   "execution_count": 14,
   "id": "630a58b3",
   "metadata": {},
   "outputs": [
    {
     "data": {
      "text/plain": [
       "['a', 'A', 'B', 'C', 'd']"
      ]
     },
     "execution_count": 14,
     "metadata": {},
     "output_type": "execute_result"
    }
   ],
   "source": [
    "list3[1:3] = [\"A\", \"B\", \"C\"]\n",
    "list3"
   ]
  },
  {
   "cell_type": "markdown",
   "id": "9ec08610",
   "metadata": {},
   "source": [
    "### Delete lists Elements"
   ]
  },
  {
   "cell_type": "code",
   "execution_count": 15,
   "id": "8016e16d",
   "metadata": {},
   "outputs": [],
   "source": [
    "list3 = [\"a\", \"b\", \"c\", \"d\"]\n",
    "del list3[2]"
   ]
  },
  {
   "cell_type": "code",
   "execution_count": 16,
   "id": "cdf38938",
   "metadata": {},
   "outputs": [
    {
     "data": {
      "text/plain": [
       "['a', 'b', 'd']"
      ]
     },
     "execution_count": 16,
     "metadata": {},
     "output_type": "execute_result"
    }
   ],
   "source": [
    "list3"
   ]
  },
  {
   "cell_type": "code",
   "execution_count": 17,
   "id": "417ebde3",
   "metadata": {},
   "outputs": [],
   "source": [
    "# for entire list \n",
    "del list3"
   ]
  },
  {
   "cell_type": "code",
   "execution_count": 18,
   "id": "d98289ca",
   "metadata": {},
   "outputs": [
    {
     "ename": "NameError",
     "evalue": "name 'list3' is not defined",
     "output_type": "error",
     "traceback": [
      "\u001b[1;31m---------------------------------------------------------------------------\u001b[0m",
      "\u001b[1;31mNameError\u001b[0m                                 Traceback (most recent call last)",
      "Input \u001b[1;32mIn [18]\u001b[0m, in \u001b[0;36m<cell line: 1>\u001b[1;34m()\u001b[0m\n\u001b[1;32m----> 1\u001b[0m \u001b[43mlist3\u001b[49m\n",
      "\u001b[1;31mNameError\u001b[0m: name 'list3' is not defined"
     ]
    }
   ],
   "source": [
    "list3"
   ]
  },
  {
   "cell_type": "markdown",
   "id": "447be7cf",
   "metadata": {},
   "source": [
    "#### Basic Lists Operation"
   ]
  },
  {
   "cell_type": "code",
   "execution_count": 19,
   "id": "99e7028a",
   "metadata": {},
   "outputs": [
    {
     "data": {
      "text/plain": [
       "3"
      ]
     },
     "execution_count": 19,
     "metadata": {},
     "output_type": "execute_result"
    }
   ],
   "source": [
    "len([1,2,3])"
   ]
  },
  {
   "cell_type": "code",
   "execution_count": 20,
   "id": "51a87855",
   "metadata": {},
   "outputs": [
    {
     "data": {
      "text/plain": [
       "[1, 2, 3, 4, 5, 6]"
      ]
     },
     "execution_count": 20,
     "metadata": {},
     "output_type": "execute_result"
    }
   ],
   "source": [
    "# Concatenation\n",
    "[1,2,3] + [4,5,6]"
   ]
  },
  {
   "cell_type": "code",
   "execution_count": 21,
   "id": "d46f7c53",
   "metadata": {},
   "outputs": [
    {
     "data": {
      "text/plain": [
       "['Hi', 'Hi', 'Hi', 'Hi']"
      ]
     },
     "execution_count": 21,
     "metadata": {},
     "output_type": "execute_result"
    }
   ],
   "source": [
    "[\"Hi\"] * 4"
   ]
  },
  {
   "cell_type": "code",
   "execution_count": 22,
   "id": "309fad51",
   "metadata": {},
   "outputs": [
    {
     "data": {
      "text/plain": [
       "True"
      ]
     },
     "execution_count": 22,
     "metadata": {},
     "output_type": "execute_result"
    }
   ],
   "source": [
    "3 in [1,2,3,4]"
   ]
  },
  {
   "cell_type": "code",
   "execution_count": 23,
   "id": "69e47a6d",
   "metadata": {},
   "outputs": [
    {
     "name": "stdout",
     "output_type": "stream",
     "text": [
      "1 2 3 "
     ]
    }
   ],
   "source": [
    "for x in [1,2,3]:print(x,end = ' ')"
   ]
  },
  {
   "cell_type": "markdown",
   "id": "bd8e712d",
   "metadata": {},
   "source": [
    "#### Indexing, Slicing and Matrixes"
   ]
  },
  {
   "cell_type": "code",
   "execution_count": 24,
   "id": "ee96743f",
   "metadata": {},
   "outputs": [],
   "source": [
    "L = [\"C++\", \"Java\", \"Python\"]\n"
   ]
  },
  {
   "cell_type": "code",
   "execution_count": 25,
   "id": "41bc8f02",
   "metadata": {},
   "outputs": [
    {
     "data": {
      "text/plain": [
       "'Python'"
      ]
     },
     "execution_count": 25,
     "metadata": {},
     "output_type": "execute_result"
    }
   ],
   "source": [
    "L[2]"
   ]
  },
  {
   "cell_type": "code",
   "execution_count": 26,
   "id": "73c3ab9e",
   "metadata": {},
   "outputs": [
    {
     "data": {
      "text/plain": [
       "'Java'"
      ]
     },
     "execution_count": 26,
     "metadata": {},
     "output_type": "execute_result"
    }
   ],
   "source": [
    "L[-2]"
   ]
  },
  {
   "cell_type": "code",
   "execution_count": 27,
   "id": "111ce846",
   "metadata": {},
   "outputs": [
    {
     "data": {
      "text/plain": [
       "['Java', 'Python']"
      ]
     },
     "execution_count": 27,
     "metadata": {},
     "output_type": "execute_result"
    }
   ],
   "source": [
    "L[1:]"
   ]
  },
  {
   "cell_type": "markdown",
   "id": "31ac4fc6",
   "metadata": {},
   "source": [
    "#### BUilt-in List Function and Methods"
   ]
  },
  {
   "cell_type": "code",
   "execution_count": 28,
   "id": "069161c9",
   "metadata": {},
   "outputs": [
    {
     "data": {
      "text/plain": [
       "4"
      ]
     },
     "execution_count": 28,
     "metadata": {},
     "output_type": "execute_result"
    }
   ],
   "source": [
    "### len()\n",
    "lst = [1,2,3,\"hello\"]\n",
    "len(lst)"
   ]
  },
  {
   "cell_type": "code",
   "execution_count": 29,
   "id": "051a600c",
   "metadata": {},
   "outputs": [
    {
     "data": {
      "text/plain": [
       "7"
      ]
     },
     "execution_count": 29,
     "metadata": {},
     "output_type": "execute_result"
    }
   ],
   "source": [
    "lst = [1,2,3,{},[],(),\"&\"]\n",
    "len(lst)"
   ]
  },
  {
   "cell_type": "code",
   "execution_count": 30,
   "id": "46b0f10a",
   "metadata": {},
   "outputs": [
    {
     "name": "stdout",
     "output_type": "stream",
     "text": [
      "Python\n",
      "700\n"
     ]
    }
   ],
   "source": [
    "# max()\n",
    "list1, list2 = [\"C++\", \"Java\", \"Python\"], [456, 700, 200]\n",
    "\n",
    "print(max(list1))\n",
    "print(max(list2))\n"
   ]
  },
  {
   "cell_type": "code",
   "execution_count": 31,
   "id": "1e6c78eb",
   "metadata": {},
   "outputs": [
    {
     "name": "stdout",
     "output_type": "stream",
     "text": [
      "C++\n",
      "200\n"
     ]
    }
   ],
   "source": [
    "# min()\n",
    "\n",
    "list1, list2 = [\"C++\", \"Java\", \"Python\"], [456, 700, 200]\n",
    "\n",
    "print(min(list1))\n",
    "print(min(list2))\n"
   ]
  },
  {
   "cell_type": "code",
   "execution_count": 32,
   "id": "bb0c4b04",
   "metadata": {},
   "outputs": [
    {
     "data": {
      "text/plain": [
       "[1, 2, 3, 'Hello']"
      ]
     },
     "execution_count": 32,
     "metadata": {},
     "output_type": "execute_result"
    }
   ],
   "source": [
    "# list() # convert tuple or string into list\n",
    "\n",
    "tuple1 = (1,2,3,\"Hello\")\n",
    "\n",
    "list(tuple1)"
   ]
  },
  {
   "cell_type": "code",
   "execution_count": 33,
   "id": "2e15c2ce",
   "metadata": {},
   "outputs": [
    {
     "data": {
      "text/plain": [
       "['H', 'e', 'l', 'l', 'o']"
      ]
     },
     "execution_count": 33,
     "metadata": {},
     "output_type": "execute_result"
    }
   ],
   "source": [
    "str1 = \"Hello\"\n",
    "list(str1)"
   ]
  },
  {
   "cell_type": "code",
   "execution_count": 34,
   "id": "d5cb6202",
   "metadata": {},
   "outputs": [
    {
     "data": {
      "text/plain": [
       "'Hello'"
      ]
     },
     "execution_count": 34,
     "metadata": {},
     "output_type": "execute_result"
    }
   ],
   "source": [
    "str1"
   ]
  },
  {
   "cell_type": "code",
   "execution_count": 35,
   "id": "31c9c620",
   "metadata": {},
   "outputs": [
    {
     "data": {
      "text/plain": [
       "['h', 'e', 'l', 'l', 'o', ' ', 'w', 'o', 'r', 'l', 'd']"
      ]
     },
     "execution_count": 35,
     "metadata": {},
     "output_type": "execute_result"
    }
   ],
   "source": [
    "str2 = \"hello world\"\n",
    "list(str2)"
   ]
  },
  {
   "cell_type": "markdown",
   "id": "ffb3cad4",
   "metadata": {},
   "source": [
    "#### append()\n",
    "* this method append the list and this metod does not return any value."
   ]
  },
  {
   "cell_type": "code",
   "execution_count": 36,
   "id": "1006bc4e",
   "metadata": {},
   "outputs": [],
   "source": [
    "list1 = [\"C++\", \"Java\", \"Python\"]\n",
    "\n",
    "list1.append(\"PHP\")"
   ]
  },
  {
   "cell_type": "code",
   "execution_count": 37,
   "id": "4dd98117",
   "metadata": {},
   "outputs": [
    {
     "data": {
      "text/plain": [
       "['C++', 'Java', 'Python', 'PHP']"
      ]
     },
     "execution_count": 37,
     "metadata": {},
     "output_type": "execute_result"
    }
   ],
   "source": [
    "list1"
   ]
  },
  {
   "cell_type": "code",
   "execution_count": 38,
   "id": "8e3b4236",
   "metadata": {},
   "outputs": [],
   "source": [
    "list1.append([\"hello\", \"Programming\"])"
   ]
  },
  {
   "cell_type": "code",
   "execution_count": 39,
   "id": "d2559982",
   "metadata": {},
   "outputs": [
    {
     "data": {
      "text/plain": [
       "['C++', 'Java', 'Python', 'PHP', ['hello', 'Programming']]"
      ]
     },
     "execution_count": 39,
     "metadata": {},
     "output_type": "execute_result"
    }
   ],
   "source": [
    "list1"
   ]
  },
  {
   "cell_type": "code",
   "execution_count": 40,
   "id": "4ef73078",
   "metadata": {},
   "outputs": [],
   "source": [
    "list1.append({1:\"Hello\", 2:\"Hii\"})"
   ]
  },
  {
   "cell_type": "code",
   "execution_count": 41,
   "id": "faade4d9",
   "metadata": {},
   "outputs": [
    {
     "data": {
      "text/plain": [
       "['C++',\n",
       " 'Java',\n",
       " 'Python',\n",
       " 'PHP',\n",
       " ['hello', 'Programming'],\n",
       " {1: 'Hello', 2: 'Hii'}]"
      ]
     },
     "execution_count": 41,
     "metadata": {},
     "output_type": "execute_result"
    }
   ],
   "source": [
    "list1"
   ]
  },
  {
   "cell_type": "code",
   "execution_count": 51,
   "id": "20b26579",
   "metadata": {},
   "outputs": [
    {
     "name": "stdout",
     "output_type": "stream",
     "text": [
      "List1 after extend value: ['C++', 'Java', 'Python', 'PHP']\n",
      "Stored value in list2:  None\n"
     ]
    }
   ],
   "source": [
    "list1 = [\"C++\", \"Java\", \"Python\"]\n",
    "\n",
    "list2 = list1.append(\"PHP\")\n",
    "\n",
    "print(\"List1 after extend value:\", list1)\n",
    "print(\"Stored value in list2: \", list2)"
   ]
  },
  {
   "cell_type": "markdown",
   "id": "0db654b4",
   "metadata": {},
   "source": [
    "As we can see that the stored value in list2 is \"None\" because we know that append method return nothing only make changes in original list."
   ]
  },
  {
   "cell_type": "markdown",
   "id": "8e3dc3be",
   "metadata": {},
   "source": [
    "#### count\n",
    "* count of how amy times obj occur in lists."
   ]
  },
  {
   "cell_type": "code",
   "execution_count": 42,
   "id": "63999d9a",
   "metadata": {},
   "outputs": [
    {
     "data": {
      "text/plain": [
       "2"
      ]
     },
     "execution_count": 42,
     "metadata": {},
     "output_type": "execute_result"
    }
   ],
   "source": [
    "list1 = [123,\"xyz\", 'zara', 'abc', 123]\n",
    "\n",
    "list1.count(123)"
   ]
  },
  {
   "cell_type": "code",
   "execution_count": 43,
   "id": "ff1810f4",
   "metadata": {},
   "outputs": [
    {
     "data": {
      "text/plain": [
       "1"
      ]
     },
     "execution_count": 43,
     "metadata": {},
     "output_type": "execute_result"
    }
   ],
   "source": [
    "list1.count('zara')"
   ]
  },
  {
   "cell_type": "code",
   "execution_count": 44,
   "id": "d1d354f0",
   "metadata": {},
   "outputs": [
    {
     "data": {
      "text/plain": [
       "[123, 'xyz', 'zara', 'abc', 123]"
      ]
     },
     "execution_count": 44,
     "metadata": {},
     "output_type": "execute_result"
    }
   ],
   "source": [
    "list1"
   ]
  },
  {
   "cell_type": "markdown",
   "id": "501a592e",
   "metadata": {},
   "source": [
    "#### extend()\n",
    "\n",
    "* this methods does not return any value but adds the content to an existing list."
   ]
  },
  {
   "cell_type": "code",
   "execution_count": 45,
   "id": "2122218e",
   "metadata": {},
   "outputs": [],
   "source": [
    "list1 = [\"physics\", \"chemistry\", \"math\"]\n",
    "\n",
    "list2 = list(range(5))"
   ]
  },
  {
   "cell_type": "code",
   "execution_count": 46,
   "id": "00a0f9a2",
   "metadata": {},
   "outputs": [
    {
     "data": {
      "text/plain": [
       "[0, 1, 2, 3, 4]"
      ]
     },
     "execution_count": 46,
     "metadata": {},
     "output_type": "execute_result"
    }
   ],
   "source": [
    "list2"
   ]
  },
  {
   "cell_type": "code",
   "execution_count": 47,
   "id": "99c87037",
   "metadata": {},
   "outputs": [],
   "source": [
    "list1.extend(list2)"
   ]
  },
  {
   "cell_type": "code",
   "execution_count": 48,
   "id": "8ea4980b",
   "metadata": {},
   "outputs": [
    {
     "data": {
      "text/plain": [
       "[0, 1, 2, 3, 4]"
      ]
     },
     "execution_count": 48,
     "metadata": {},
     "output_type": "execute_result"
    }
   ],
   "source": [
    "list2"
   ]
  },
  {
   "cell_type": "code",
   "execution_count": 49,
   "id": "648f59a3",
   "metadata": {},
   "outputs": [
    {
     "data": {
      "text/plain": [
       "['physics', 'chemistry', 'math', 0, 1, 2, 3, 4]"
      ]
     },
     "execution_count": 49,
     "metadata": {},
     "output_type": "execute_result"
    }
   ],
   "source": [
    "list1"
   ]
  },
  {
   "cell_type": "code",
   "execution_count": 50,
   "id": "7a4bac90",
   "metadata": {},
   "outputs": [
    {
     "name": "stdout",
     "output_type": "stream",
     "text": [
      "List1 after extending:  ['physics', 'chemistry', 'math', 1, 2, 3, 4]\n",
      "Let's see stored value in list3: None\n"
     ]
    }
   ],
   "source": [
    "list1 = [\"physics\", \"chemistry\", \"math\"]\n",
    "\n",
    "# as we know extend method return nothing \n",
    "list3 = list1.extend([1,2,3,4])\n",
    "print(\"List1 after extending: \", list1)\n",
    "print(\"Let's see stored value in list3:\", list3)"
   ]
  },
  {
   "cell_type": "markdown",
   "id": "f2e21dd7",
   "metadata": {},
   "source": [
    "As we can see we got 'None' value we know that extend method return nothing just change the original list."
   ]
  },
  {
   "cell_type": "markdown",
   "id": "df94593c",
   "metadata": {},
   "source": [
    "#### index():\n",
    "\n",
    "* return the index of found object otherwise raise an exception indicating that value is not found."
   ]
  },
  {
   "cell_type": "code",
   "execution_count": 52,
   "id": "4aa40e54",
   "metadata": {},
   "outputs": [
    {
     "data": {
      "text/plain": [
       "2"
      ]
     },
     "execution_count": 52,
     "metadata": {},
     "output_type": "execute_result"
    }
   ],
   "source": [
    "list1 = [\"C++\", \"Java\", \"Python\"]\n",
    "list1.index(\"Python\")"
   ]
  },
  {
   "cell_type": "code",
   "execution_count": 53,
   "id": "1a495d00",
   "metadata": {},
   "outputs": [
    {
     "ename": "ValueError",
     "evalue": "'PHP' is not in list",
     "output_type": "error",
     "traceback": [
      "\u001b[1;31m---------------------------------------------------------------------------\u001b[0m",
      "\u001b[1;31mValueError\u001b[0m                                Traceback (most recent call last)",
      "Input \u001b[1;32mIn [53]\u001b[0m, in \u001b[0;36m<cell line: 1>\u001b[1;34m()\u001b[0m\n\u001b[1;32m----> 1\u001b[0m \u001b[43mlist1\u001b[49m\u001b[38;5;241;43m.\u001b[39;49m\u001b[43mindex\u001b[49m\u001b[43m(\u001b[49m\u001b[38;5;124;43m\"\u001b[39;49m\u001b[38;5;124;43mPHP\u001b[39;49m\u001b[38;5;124;43m\"\u001b[39;49m\u001b[43m)\u001b[49m\n",
      "\u001b[1;31mValueError\u001b[0m: 'PHP' is not in list"
     ]
    }
   ],
   "source": [
    "list1.index(\"PHP\")"
   ]
  },
  {
   "cell_type": "markdown",
   "id": "556d2819",
   "metadata": {},
   "source": [
    "#### insert()\n",
    "\n",
    "* does not return any value but it inserts the given element at the given index.\n"
   ]
  },
  {
   "cell_type": "code",
   "execution_count": 55,
   "id": "1f499192",
   "metadata": {},
   "outputs": [
    {
     "data": {
      "text/plain": [
       "['C++', 'Java', 'Python', 'PHP']"
      ]
     },
     "execution_count": 55,
     "metadata": {},
     "output_type": "execute_result"
    }
   ],
   "source": [
    "list1 = [\"C++\", \"Java\", \"Python\"]\n",
    "\n",
    "list1.insert(3,\"PHP\")\n",
    "list1"
   ]
  },
  {
   "cell_type": "code",
   "execution_count": 56,
   "id": "194f27fd",
   "metadata": {},
   "outputs": [],
   "source": [
    "list1.insert(5,\"hello\")"
   ]
  },
  {
   "cell_type": "code",
   "execution_count": 57,
   "id": "72f385d4",
   "metadata": {},
   "outputs": [
    {
     "data": {
      "text/plain": [
       "['C++', 'Java', 'Python', 'PHP', 'hello']"
      ]
     },
     "execution_count": 57,
     "metadata": {},
     "output_type": "execute_result"
    }
   ],
   "source": [
    "list1"
   ]
  },
  {
   "cell_type": "markdown",
   "id": "22d9be98",
   "metadata": {},
   "source": [
    "As we can see if will give index number more than list lenght then element will be insert at the last index of the list."
   ]
  },
  {
   "cell_type": "code",
   "execution_count": 58,
   "id": "fbf9401a",
   "metadata": {},
   "outputs": [
    {
     "data": {
      "text/plain": [
       "['C++', 'Java', 'Python', 'PHP', 'hello']"
      ]
     },
     "execution_count": 58,
     "metadata": {},
     "output_type": "execute_result"
    }
   ],
   "source": [
    "list1"
   ]
  },
  {
   "cell_type": "markdown",
   "id": "32933ffe",
   "metadata": {},
   "source": [
    "#### pop():\n",
    "\n",
    "* remove the last elemtent of the list if index is not given.\n",
    "* return removed element from the list."
   ]
  },
  {
   "cell_type": "code",
   "execution_count": 59,
   "id": "91eb3a06",
   "metadata": {},
   "outputs": [
    {
     "data": {
      "text/plain": [
       "['C++', 'Java']"
      ]
     },
     "execution_count": 59,
     "metadata": {},
     "output_type": "execute_result"
    }
   ],
   "source": [
    "list1 = [\"C++\", \"Java\", \"Python\"]\n",
    "list1.pop()\n",
    "list1"
   ]
  },
  {
   "cell_type": "code",
   "execution_count": 60,
   "id": "b1f233d9",
   "metadata": {},
   "outputs": [
    {
     "data": {
      "text/plain": [
       "['Java', 'Python']"
      ]
     },
     "execution_count": 60,
     "metadata": {},
     "output_type": "execute_result"
    }
   ],
   "source": [
    "list1 = [\"C++\", \"Java\", \"Python\"]\n",
    "list1.pop(0)\n",
    "list1"
   ]
  },
  {
   "cell_type": "code",
   "execution_count": 61,
   "id": "fdcf879c",
   "metadata": {},
   "outputs": [
    {
     "data": {
      "text/plain": [
       "'Java'"
      ]
     },
     "execution_count": 61,
     "metadata": {},
     "output_type": "execute_result"
    }
   ],
   "source": [
    "list1 = [\"C++\", \"Java\", \"Python\"]\n",
    "\n",
    "removed_el = list1.pop(1)\n",
    "removed_el"
   ]
  },
  {
   "cell_type": "markdown",
   "id": "c3a31366",
   "metadata": {},
   "source": [
    "### remove()\n",
    "\n",
    "* this method remove the element from the list.\n",
    "* this method does not return any value."
   ]
  },
  {
   "cell_type": "code",
   "execution_count": 62,
   "id": "18013c05",
   "metadata": {},
   "outputs": [
    {
     "data": {
      "text/plain": [
       "['Java', 'Python']"
      ]
     },
     "execution_count": 62,
     "metadata": {},
     "output_type": "execute_result"
    }
   ],
   "source": [
    "list1 = [\"C++\", \"Java\", \"Python\"]\n",
    "list1.remove(\"C++\")\n",
    "list1"
   ]
  },
  {
   "cell_type": "code",
   "execution_count": 64,
   "id": "4c91d05e",
   "metadata": {},
   "outputs": [
    {
     "name": "stdout",
     "output_type": "stream",
     "text": [
      "List1: ['C++', 'Python']\n",
      "Stored removed:  None\n"
     ]
    }
   ],
   "source": [
    "list1 = [\"C++\", \"Java\", \"Python\"]\n",
    "\n",
    "removed = list1.remove(\"Java\")\n",
    "print(\"List1:\", list1)\n",
    "print(\"Stored removed: \", removed)"
   ]
  },
  {
   "cell_type": "markdown",
   "id": "ef5f25ff",
   "metadata": {},
   "source": [
    "#### reverse()\n",
    "\n",
    "* reverse objects of list in place.\n",
    "* this method does not return any value."
   ]
  },
  {
   "cell_type": "code",
   "execution_count": 65,
   "id": "a9ea00e3",
   "metadata": {},
   "outputs": [],
   "source": [
    "list1 = [\"C++\", \"Java\", \"Python\"]\n",
    "\n",
    "list1.reverse()"
   ]
  },
  {
   "cell_type": "code",
   "execution_count": 66,
   "id": "576eb0a8",
   "metadata": {},
   "outputs": [
    {
     "data": {
      "text/plain": [
       "['Python', 'Java', 'C++']"
      ]
     },
     "execution_count": 66,
     "metadata": {},
     "output_type": "execute_result"
    }
   ],
   "source": [
    "list1"
   ]
  },
  {
   "cell_type": "markdown",
   "id": "4eb3d732",
   "metadata": {},
   "source": [
    "#### sort()\n",
    "\n",
    "* this method sort the object of list, use compare function if given.\n",
    "* this method does not return any value."
   ]
  },
  {
   "cell_type": "code",
   "execution_count": 67,
   "id": "3602ec42",
   "metadata": {},
   "outputs": [],
   "source": [
    "list1 = [\"C++\", \"Java\", \"Python\"]\n",
    "list1.sort()"
   ]
  },
  {
   "cell_type": "code",
   "execution_count": 68,
   "id": "061d13b9",
   "metadata": {},
   "outputs": [
    {
     "data": {
      "text/plain": [
       "['C++', 'Java', 'Python']"
      ]
     },
     "execution_count": 68,
     "metadata": {},
     "output_type": "execute_result"
    }
   ],
   "source": [
    "list1"
   ]
  },
  {
   "cell_type": "code",
   "execution_count": 69,
   "id": "5fde1edf",
   "metadata": {},
   "outputs": [
    {
     "data": {
      "text/plain": [
       "[1, 2, 2, 3, 3, 6, 8, 9]"
      ]
     },
     "execution_count": 69,
     "metadata": {},
     "output_type": "execute_result"
    }
   ],
   "source": [
    "list2 = [2,3,6,8,9,1,2,3]\n",
    "list2.sort()\n",
    "list2"
   ]
  },
  {
   "cell_type": "code",
   "execution_count": 70,
   "id": "59c9e3dd",
   "metadata": {},
   "outputs": [],
   "source": [
    "list1 = ['a','d','g','b','A','D','B','C']\n",
    "list1.sort()"
   ]
  },
  {
   "cell_type": "code",
   "execution_count": 71,
   "id": "31c86985",
   "metadata": {},
   "outputs": [
    {
     "data": {
      "text/plain": [
       "['A', 'B', 'C', 'D', 'a', 'b', 'd', 'g']"
      ]
     },
     "execution_count": 71,
     "metadata": {},
     "output_type": "execute_result"
    }
   ],
   "source": [
    "list1"
   ]
  },
  {
   "cell_type": "code",
   "execution_count": 72,
   "id": "e13b1044",
   "metadata": {},
   "outputs": [],
   "source": [
    "list1.sort(reverse=True)"
   ]
  },
  {
   "cell_type": "code",
   "execution_count": 73,
   "id": "60121937",
   "metadata": {},
   "outputs": [
    {
     "data": {
      "text/plain": [
       "['g', 'd', 'b', 'a', 'D', 'C', 'B', 'A']"
      ]
     },
     "execution_count": 73,
     "metadata": {},
     "output_type": "execute_result"
    }
   ],
   "source": [
    "list1"
   ]
  },
  {
   "cell_type": "code",
   "execution_count": 79,
   "id": "a42ea683",
   "metadata": {},
   "outputs": [
    {
     "data": {
      "text/plain": [
       "['B', 'D', 'a', 'c']"
      ]
     },
     "execution_count": 79,
     "metadata": {},
     "output_type": "execute_result"
    }
   ],
   "source": [
    "list1 = ['a', 'B','c','D']\n",
    "list1.sort()\n",
    "list1"
   ]
  },
  {
   "cell_type": "markdown",
   "id": "a2352846",
   "metadata": {},
   "source": [
    "As we can see that Python is case sensitive, so simple sort() method we got this but by using some built-in method we can avoid this."
   ]
  },
  {
   "cell_type": "code",
   "execution_count": 81,
   "id": "a4766da6",
   "metadata": {},
   "outputs": [
    {
     "data": {
      "text/plain": [
       "['a', 'B', 'c', 'D']"
      ]
     },
     "execution_count": 81,
     "metadata": {},
     "output_type": "execute_result"
    }
   ],
   "source": [
    "list1 = ['a', 'B','c','D']\n",
    "list1.sort(key=str.lower)\n",
    "list1"
   ]
  },
  {
   "cell_type": "code",
   "execution_count": 82,
   "id": "346bc68a",
   "metadata": {},
   "outputs": [
    {
     "data": {
      "text/plain": [
       "['A', 'B', 'c', 'd']"
      ]
     },
     "execution_count": 82,
     "metadata": {},
     "output_type": "execute_result"
    }
   ],
   "source": [
    "# as per upper case\n",
    "list1 = ['A', 'd','c','B']\n",
    "list1.sort(key=str.upper)\n",
    "list1"
   ]
  },
  {
   "cell_type": "markdown",
   "id": "574a018a",
   "metadata": {},
   "source": [
    "even we can make our function as well."
   ]
  },
  {
   "cell_type": "code",
   "execution_count": null,
   "id": "cdfd621e",
   "metadata": {},
   "outputs": [],
   "source": []
  },
  {
   "cell_type": "code",
   "execution_count": 74,
   "id": "95e619b8",
   "metadata": {},
   "outputs": [
    {
     "ename": "TypeError",
     "evalue": "'<' not supported between instances of 'int' and 'str'",
     "output_type": "error",
     "traceback": [
      "\u001b[1;31m---------------------------------------------------------------------------\u001b[0m",
      "\u001b[1;31mTypeError\u001b[0m                                 Traceback (most recent call last)",
      "Input \u001b[1;32mIn [74]\u001b[0m, in \u001b[0;36m<cell line: 2>\u001b[1;34m()\u001b[0m\n\u001b[0;32m      1\u001b[0m list1 \u001b[38;5;241m=\u001b[39m [\u001b[38;5;124m'\u001b[39m\u001b[38;5;124ma\u001b[39m\u001b[38;5;124m'\u001b[39m,\u001b[38;5;124m'\u001b[39m\u001b[38;5;124md\u001b[39m\u001b[38;5;124m'\u001b[39m,\u001b[38;5;124m'\u001b[39m\u001b[38;5;124mg\u001b[39m\u001b[38;5;124m'\u001b[39m,\u001b[38;5;124m'\u001b[39m\u001b[38;5;124mb\u001b[39m\u001b[38;5;124m'\u001b[39m,\u001b[38;5;124m'\u001b[39m\u001b[38;5;124mA\u001b[39m\u001b[38;5;124m'\u001b[39m,\u001b[38;5;124m'\u001b[39m\u001b[38;5;124mD\u001b[39m\u001b[38;5;124m'\u001b[39m,\u001b[38;5;124m'\u001b[39m\u001b[38;5;124mB\u001b[39m\u001b[38;5;124m'\u001b[39m,\u001b[38;5;124m'\u001b[39m\u001b[38;5;124mC\u001b[39m\u001b[38;5;124m'\u001b[39m,\u001b[38;5;241m12\u001b[39m,\u001b[38;5;241m3\u001b[39m,\u001b[38;5;241m4\u001b[39m,\u001b[38;5;241m4\u001b[39m,\u001b[38;5;241m5\u001b[39m]\n\u001b[1;32m----> 2\u001b[0m \u001b[43mlist1\u001b[49m\u001b[38;5;241;43m.\u001b[39;49m\u001b[43msort\u001b[49m\u001b[43m(\u001b[49m\u001b[43m)\u001b[49m\n",
      "\u001b[1;31mTypeError\u001b[0m: '<' not supported between instances of 'int' and 'str'"
     ]
    }
   ],
   "source": [
    "list1 = ['a','d','g','b','A','D','B','C',12,3,4,4,5]\n",
    "list1.sort()"
   ]
  },
  {
   "cell_type": "markdown",
   "id": "cd946d32",
   "metadata": {},
   "source": [
    "As we can see that to sort a list, the list must contain same data type"
   ]
  },
  {
   "cell_type": "code",
   "execution_count": 75,
   "id": "3bd3fbe6",
   "metadata": {},
   "outputs": [
    {
     "data": {
      "text/plain": [
       "['1', '2', '4', '5', '8', 'A', 'B', 'C', 'D', 'a', 'b', 'd', 'g']"
      ]
     },
     "execution_count": 75,
     "metadata": {},
     "output_type": "execute_result"
    }
   ],
   "source": [
    "list1 = ['a','d','g','b','A','D','B','C','1','4','2','8','5']\n",
    "\n",
    "list1.sort()\n",
    "list1"
   ]
  },
  {
   "cell_type": "code",
   "execution_count": 77,
   "id": "c5c463e3",
   "metadata": {},
   "outputs": [
    {
     "data": {
      "text/plain": [
       "['g', 'd', 'b', 'a', 'D', 'C', 'B', 'A', '8', '5', '4', '2', '1']"
      ]
     },
     "execution_count": 77,
     "metadata": {},
     "output_type": "execute_result"
    }
   ],
   "source": [
    "# for descending order\n",
    "list1.sort(reverse=True)\n",
    "list1"
   ]
  },
  {
   "cell_type": "code",
   "execution_count": 78,
   "id": "ea44b7d4",
   "metadata": {},
   "outputs": [
    {
     "data": {
      "text/plain": [
       "['b', 'bdisd', 'dfdfdff', 'sd', 'z', 'zabc']"
      ]
     },
     "execution_count": 78,
     "metadata": {},
     "output_type": "execute_result"
    }
   ],
   "source": [
    "list1 = ['zabc', 'bdisd', 'b','z','sd','dfdfdff']\n",
    "list1.sort()\n",
    "list1"
   ]
  },
  {
   "cell_type": "code",
   "execution_count": 83,
   "id": "3a54f62f",
   "metadata": {},
   "outputs": [
    {
     "data": {
      "text/plain": [
       "['b', 'z', 'sd', 'zabc', 'bdisd', 'dfdfdff']"
      ]
     },
     "execution_count": 83,
     "metadata": {},
     "output_type": "execute_result"
    }
   ],
   "source": [
    "# sort by length\n",
    "def sort_by_len(x):\n",
    "    \n",
    "    return len(x)\n",
    "\n",
    "list1 = ['zabc', 'bdisd', 'b','z','sd','dfdfdff']\n",
    "\n",
    "list1.sort(key=sort_by_len) # no need to pass () paranthesis.\n",
    "list1"
   ]
  },
  {
   "cell_type": "code",
   "execution_count": null,
   "id": "64998c5a",
   "metadata": {},
   "outputs": [],
   "source": []
  }
 ],
 "metadata": {
  "kernelspec": {
   "display_name": "Python 3 (ipykernel)",
   "language": "python",
   "name": "python3"
  },
  "language_info": {
   "codemirror_mode": {
    "name": "ipython",
    "version": 3
   },
   "file_extension": ".py",
   "mimetype": "text/x-python",
   "name": "python",
   "nbconvert_exporter": "python",
   "pygments_lexer": "ipython3",
   "version": "3.9.7"
  }
 },
 "nbformat": 4,
 "nbformat_minor": 5
}
