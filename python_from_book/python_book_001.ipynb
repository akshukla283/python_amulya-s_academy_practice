{
 "cells": [
  {
   "cell_type": "markdown",
   "id": "f53e9a9d",
   "metadata": {},
   "source": [
    "####  Python Comments"
   ]
  },
  {
   "cell_type": "code",
   "execution_count": 7,
   "id": "cbecf7c6",
   "metadata": {},
   "outputs": [
    {
     "name": "stdout",
     "output_type": "stream",
     "text": [
      "Hello World\n"
     ]
    }
   ],
   "source": [
    "# this is a comment \n",
    "print(\"Hello World\") # this is second comment"
   ]
  },
  {
   "cell_type": "code",
   "execution_count": 8,
   "id": "7f744745",
   "metadata": {},
   "outputs": [
    {
     "name": "stdout",
     "output_type": "stream",
     "text": [
      "Hello World\n"
     ]
    }
   ],
   "source": [
    "print(\"Hello World\")"
   ]
  },
  {
   "cell_type": "code",
   "execution_count": 9,
   "id": "6b3068da",
   "metadata": {},
   "outputs": [],
   "source": [
    "# print(\"Hello world\")\n",
    "\n",
    "# here \" # \" use for comment in python , interpreter will igonore these lines\n"
   ]
  },
  {
   "cell_type": "markdown",
   "id": "9c93507f",
   "metadata": {},
   "source": [
    "### Multi-line Statements"
   ]
  },
  {
   "cell_type": "code",
   "execution_count": 4,
   "id": "c969ebf1",
   "metadata": {},
   "outputs": [
    {
     "name": "stdout",
     "output_type": "stream",
     "text": [
      "Hello,  Welcome to The Python World!\n"
     ]
    }
   ],
   "source": [
    "# we use slash \"\\\" for as a line continuation character \n",
    "item_one = \"Hello, \"\n",
    "item_two = \" Welcome\"\n",
    "item_three = \" to The Python World!\"\n",
    "\n",
    "total = item_one + \\\n",
    "        item_two + \\\n",
    "        item_three\n",
    "print(total)\n"
   ]
  },
  {
   "cell_type": "code",
   "execution_count": 5,
   "id": "bff7034d",
   "metadata": {},
   "outputs": [
    {
     "name": "stdout",
     "output_type": "stream",
     "text": [
      "['mon', 'tue', 'wed', 'thu', 'fri', 'sat', 'sun']\n"
     ]
    }
   ],
   "source": [
    "# The satement contained within the [], {}, or () do not need to use the line continuation charachter \n",
    "\n",
    "days = [\"mon\", \"tue\", \"wed\",\n",
    "       \"thu\", \"fri\", \"sat\",\n",
    "       \"sun\"]\n",
    "print(days)"
   ]
  },
  {
   "cell_type": "markdown",
   "id": "eeebc391",
   "metadata": {},
   "source": [
    "#### Quotation in Python\n",
    " \n",
    "Python accept single ('), double (\"), and triple (\"\"\") quotes to denote the string literals."
   ]
  },
  {
   "cell_type": "code",
   "execution_count": 6,
   "id": "dcab6cb9",
   "metadata": {},
   "outputs": [
    {
     "name": "stdout",
     "output_type": "stream",
     "text": [
      "word\n",
      "\n",
      "This is a sentence \n",
      "\n",
      "This is a paragraph. it is \n",
      "made up of multiple lines and sentence\n"
     ]
    }
   ],
   "source": [
    "word = 'word'\n",
    "sentence = \"This is a sentence \"\n",
    "paragraph  = \"\"\"This is a paragraph. it is \n",
    "made up of multiple lines and sentence\"\"\"\n",
    "\n",
    "print(word)\n",
    "print()\n",
    "print(sentence)\n",
    "print()\n",
    "print(paragraph)"
   ]
  },
  {
   "cell_type": "markdown",
   "id": "4e6da432",
   "metadata": {},
   "source": [
    "#### waiting for the  user!"
   ]
  },
  {
   "cell_type": "code",
   "execution_count": 11,
   "id": "59096fb2",
   "metadata": {},
   "outputs": [
    {
     "name": "stdout",
     "output_type": "stream",
     "text": [
      "\n",
      "\n",
      "Press the enter key to exit\n"
     ]
    },
    {
     "data": {
      "text/plain": [
       "''"
      ]
     },
     "execution_count": 11,
     "metadata": {},
     "output_type": "execute_result"
    }
   ],
   "source": [
    "input(\"\\n\\nPress the enter key to exit\")"
   ]
  },
  {
   "cell_type": "markdown",
   "id": "6cf33ef0",
   "metadata": {},
   "source": [
    "#### multiple statement on a single line (;)"
   ]
  },
  {
   "cell_type": "code",
   "execution_count": 12,
   "id": "21767511",
   "metadata": {},
   "outputs": [
    {
     "name": "stdout",
     "output_type": "stream",
     "text": [
      "7\n",
      "hello world\n",
      "this is the way using ;\n"
     ]
    }
   ],
   "source": [
    "print(3+4); print(\"hello world\");print(\"this is the way using ;\")"
   ]
  },
  {
   "cell_type": "markdown",
   "id": "fe9fa8f2",
   "metadata": {},
   "source": [
    "#### Command Line Argument "
   ]
  },
  {
   "cell_type": "code",
   "execution_count": 13,
   "id": "23a77cdc",
   "metadata": {},
   "outputs": [],
   "source": [
    "# lets make a test.py python file and run it through the command line \n",
    "# import sys\n",
    "\n",
    "# print(\"Number of arguments:\", len(sys.argv), \"arguments.\")\n",
    "# print(\"Argument list: \", str(sys.argv))"
   ]
  },
  {
   "cell_type": "code",
   "execution_count": 14,
   "id": "f64c5958",
   "metadata": {},
   "outputs": [],
   "source": [
    "# >python test.py arg1 arg2 arg3\n",
    "\n",
    "# output\n",
    "# Number of arguments: 4 arguments.\n",
    "# Argument list:  ['test.py', 'arg1', 'arg2', 'arg3']"
   ]
  },
  {
   "cell_type": "markdown",
   "id": "93a11fa0",
   "metadata": {},
   "source": [
    "### Assigning Value to Variable"
   ]
  },
  {
   "cell_type": "code",
   "execution_count": 15,
   "id": "32802bcb",
   "metadata": {},
   "outputs": [
    {
     "name": "stdout",
     "output_type": "stream",
     "text": [
      "100\n",
      "1000.0\n",
      "John\n"
     ]
    }
   ],
   "source": [
    "coutner = 100\n",
    "mile = 1000.0 \n",
    "name = \"John\"\n",
    "print(coutner)\n",
    "print(mile)\n",
    "print(name)"
   ]
  },
  {
   "cell_type": "markdown",
   "id": "62de9bde",
   "metadata": {},
   "source": [
    "#### Mulitple Assignment"
   ]
  },
  {
   "cell_type": "code",
   "execution_count": 16,
   "id": "239fe30d",
   "metadata": {},
   "outputs": [
    {
     "name": "stdout",
     "output_type": "stream",
     "text": [
      "1\n",
      "1\n",
      "1\n",
      "1\n",
      "2\n",
      "John\n"
     ]
    }
   ],
   "source": [
    "a = b = c = 1\n",
    "x, y, z = 1,2,\"John\"\n",
    "\n",
    "print(a)\n",
    "print(b)\n",
    "print(c)\n",
    "print(x)\n",
    "print(y)\n",
    "print(z)"
   ]
  },
  {
   "cell_type": "markdown",
   "id": "adfb38b7",
   "metadata": {},
   "source": [
    "#### Python Number "
   ]
  },
  {
   "cell_type": "code",
   "execution_count": 17,
   "id": "0554b938",
   "metadata": {},
   "outputs": [
    {
     "name": "stdout",
     "output_type": "stream",
     "text": [
      "1 2\n"
     ]
    }
   ],
   "source": [
    "var1 = 1\n",
    "var2 = 2\n",
    "\n",
    "print(var1, var2)"
   ]
  },
  {
   "cell_type": "code",
   "execution_count": 20,
   "id": "7d882bb5",
   "metadata": {},
   "outputs": [],
   "source": [
    "# we can delete the reference to a number object by using the del \n",
    "\n",
    "del var1"
   ]
  },
  {
   "cell_type": "code",
   "execution_count": 21,
   "id": "194369f1",
   "metadata": {},
   "outputs": [
    {
     "ename": "NameError",
     "evalue": "name 'var1' is not defined",
     "output_type": "error",
     "traceback": [
      "\u001b[1;31m---------------------------------------------------------------------------\u001b[0m",
      "\u001b[1;31mNameError\u001b[0m                                 Traceback (most recent call last)",
      "Input \u001b[1;32mIn [21]\u001b[0m, in \u001b[0;36m<cell line: 1>\u001b[1;34m()\u001b[0m\n\u001b[1;32m----> 1\u001b[0m \u001b[38;5;28mprint\u001b[39m(\u001b[43mvar1\u001b[49m)\n",
      "\u001b[1;31mNameError\u001b[0m: name 'var1' is not defined"
     ]
    }
   ],
   "source": [
    "print(var1)"
   ]
  },
  {
   "cell_type": "code",
   "execution_count": 22,
   "id": "952c4fc3",
   "metadata": {},
   "outputs": [
    {
     "ename": "SyntaxError",
     "evalue": "invalid syntax (1318772300.py, line 4)",
     "output_type": "error",
     "traceback": [
      "\u001b[1;36m  Input \u001b[1;32mIn [22]\u001b[1;36m\u001b[0m\n\u001b[1;33m    del var1[,var2]\u001b[0m\n\u001b[1;37m             ^\u001b[0m\n\u001b[1;31mSyntaxError\u001b[0m\u001b[1;31m:\u001b[0m invalid syntax\n"
     ]
    }
   ],
   "source": [
    "var1 = 1\n",
    "var2 = 2\n",
    "\n",
    "del var1[,var2]"
   ]
  },
  {
   "cell_type": "code",
   "execution_count": 25,
   "id": "3185bfc4",
   "metadata": {},
   "outputs": [
    {
     "name": "stdout",
     "output_type": "stream",
     "text": [
      "10 15.2 3.14j\n"
     ]
    }
   ],
   "source": [
    "# number support three different type \n",
    "\n",
    "# int\n",
    "# float\n",
    "# complex\n",
    "\n",
    "a = 10\n",
    "b = 15.20\n",
    "c = 3.14j\n",
    "\n",
    "print(a, b, c)"
   ]
  },
  {
   "cell_type": "markdown",
   "id": "c4cccb51",
   "metadata": {},
   "source": [
    "### Python String "
   ]
  },
  {
   "cell_type": "code",
   "execution_count": 26,
   "id": "001942b4",
   "metadata": {},
   "outputs": [
    {
     "name": "stdout",
     "output_type": "stream",
     "text": [
      "Hello World!\n",
      "H\n",
      "llo\n",
      "llo World!\n",
      "Hello World!Hello World!\n",
      "Hello World!TEST\n"
     ]
    }
   ],
   "source": [
    "str = 'Hello World!'\n",
    "print(str)\n",
    "print(str[0])\n",
    "print(str[2:5])\n",
    "print(str[2:])\n",
    "print(str*2)\n",
    "print(str + \"TEST\")"
   ]
  },
  {
   "cell_type": "code",
   "execution_count": 28,
   "id": "675b8fa2",
   "metadata": {},
   "outputs": [
    {
     "name": "stdout",
     "output_type": "stream",
     "text": [
      "H e l l o   W o r l d !\n"
     ]
    }
   ],
   "source": [
    "print(*str)"
   ]
  },
  {
   "cell_type": "markdown",
   "id": "a6237852",
   "metadata": {},
   "source": [
    "#### Python List "
   ]
  },
  {
   "cell_type": "code",
   "execution_count": 1,
   "id": "63e8385b",
   "metadata": {},
   "outputs": [
    {
     "name": "stdout",
     "output_type": "stream",
     "text": [
      "['abcd', 1, 2, 2.5, 'John']\n",
      "abcd\n",
      "[1, 2]\n",
      "[2, 2.5, 'John']\n",
      "[123, 'john', 123, 'john']\n",
      "['abcd', 1, 2, 2.5, 'John', 123, 'john']\n"
     ]
    }
   ],
   "source": [
    "list = [\"abcd\",1,2,2.5,\"John\"]\n",
    "tinylist = [123, \"john\"]\n",
    "print(list)\n",
    "print(list[0])\n",
    "print(list[1:3])\n",
    "print(list[2:])\n",
    "print(tinylist*2)\n",
    "print(list + tinylist)"
   ]
  },
  {
   "cell_type": "markdown",
   "id": "507584d7",
   "metadata": {},
   "source": [
    "#### Python tuple "
   ]
  },
  {
   "cell_type": "code",
   "execution_count": 8,
   "id": "8d03f4be",
   "metadata": {},
   "outputs": [
    {
     "name": "stdout",
     "output_type": "stream",
     "text": [
      "('abc', 233, 2.23, 'John', 73.3)\n",
      "abc\n",
      "(233, 2.23)\n",
      "(2.23, 'John', 73.3)\n",
      "(123, 'john', 123, 'john')\n",
      "('abc', 233, 2.23, 'John', 73.3, 123, 'john')\n"
     ]
    }
   ],
   "source": [
    "tuple = (\"abc\", 233, 2.23, \"John\", 73.3)\n",
    "tinytuple = (123, 'john')\n",
    "\n",
    "print(tuple)\n",
    "print(tuple[0])\n",
    "print(tuple[1:3])\n",
    "print(tuple[2:])\n",
    "print(tinytuple*2)\n",
    "print(tuple + tinytuple)"
   ]
  },
  {
   "cell_type": "code",
   "execution_count": 10,
   "id": "47c4bef9",
   "metadata": {},
   "outputs": [
    {
     "name": "stdout",
     "output_type": "stream",
     "text": [
      "hello\n"
     ]
    }
   ],
   "source": [
    "a = \"hello\" \n",
    "print       (a)"
   ]
  },
  {
   "cell_type": "code",
   "execution_count": 11,
   "id": "79efb61f",
   "metadata": {},
   "outputs": [
    {
     "data": {
      "text/plain": [
       "'hello'"
      ]
     },
     "execution_count": 11,
     "metadata": {},
     "output_type": "execute_result"
    }
   ],
   "source": [
    "print\n",
    "(a)"
   ]
  },
  {
   "cell_type": "code",
   "execution_count": 2,
   "id": "e4fc898e",
   "metadata": {},
   "outputs": [
    {
     "data": {
      "text/plain": [
       "'llo'"
      ]
     },
     "execution_count": 2,
     "metadata": {},
     "output_type": "execute_result"
    }
   ],
   "source": [
    "a = \"hello\"\n",
    "print\n",
    "\n",
    "\n",
    "\n",
    "\n",
    "\n",
    "(a)[2:]"
   ]
  },
  {
   "cell_type": "code",
   "execution_count": 4,
   "id": "ad011c1f",
   "metadata": {},
   "outputs": [
    {
     "data": {
      "text/plain": [
       "'hello'"
      ]
     },
     "execution_count": 4,
     "metadata": {},
     "output_type": "execute_result"
    }
   ],
   "source": [
    "print\n",
    "(\"hello\")"
   ]
  },
  {
   "cell_type": "code",
   "execution_count": 5,
   "id": "03d29c96",
   "metadata": {},
   "outputs": [
    {
     "data": {
      "text/plain": [
       "'hello'"
      ]
     },
     "execution_count": 5,
     "metadata": {},
     "output_type": "execute_result"
    }
   ],
   "source": [
    "print\n",
    "\n",
    "\n",
    "\n",
    "\n",
    "(\"hello\")"
   ]
  },
  {
   "cell_type": "code",
   "execution_count": 7,
   "id": "be5a4967",
   "metadata": {},
   "outputs": [
    {
     "ename": "TypeError",
     "evalue": "'tuple' object does not support item assignment",
     "output_type": "error",
     "traceback": [
      "\u001b[1;31m---------------------------------------------------------------------------\u001b[0m",
      "\u001b[1;31mTypeError\u001b[0m                                 Traceback (most recent call last)",
      "Input \u001b[1;32mIn [7]\u001b[0m, in \u001b[0;36m<cell line: 4>\u001b[1;34m()\u001b[0m\n\u001b[0;32m      1\u001b[0m tuple1 \u001b[38;5;241m=\u001b[39m (\u001b[38;5;124m\"\u001b[39m\u001b[38;5;124mabc\u001b[39m\u001b[38;5;124m\"\u001b[39m, \u001b[38;5;241m233\u001b[39m, \u001b[38;5;241m2.23\u001b[39m, \u001b[38;5;124m\"\u001b[39m\u001b[38;5;124mJohn\u001b[39m\u001b[38;5;124m\"\u001b[39m, \u001b[38;5;241m73.3\u001b[39m)\n\u001b[1;32m----> 4\u001b[0m tuple1[\u001b[38;5;241m3\u001b[39m] \u001b[38;5;241m=\u001b[39m \u001b[38;5;124m\"\u001b[39m\u001b[38;5;124mhello\u001b[39m\u001b[38;5;124m\"\u001b[39m\n",
      "\u001b[1;31mTypeError\u001b[0m: 'tuple' object does not support item assignment"
     ]
    }
   ],
   "source": [
    "tuple1 = (\"abc\", 233, 2.23, \"John\", 73.3)\n",
    "\n",
    "\n",
    "tuple1[3] = \"hello\""
   ]
  },
  {
   "cell_type": "code",
   "execution_count": 8,
   "id": "f7ebf5ee",
   "metadata": {},
   "outputs": [
    {
     "data": {
      "text/plain": [
       "['abc', 233, 'Hello', 'John', 73.3]"
      ]
     },
     "execution_count": 8,
     "metadata": {},
     "output_type": "execute_result"
    }
   ],
   "source": [
    "list1 = [\"abc\", 233, 2.23, \"John\", 73.3]\n",
    "\n",
    "list1[2] = \"Hello\"\n",
    "\n",
    "list1"
   ]
  },
  {
   "cell_type": "markdown",
   "id": "460f9557",
   "metadata": {},
   "source": [
    "#### Python Dictionary "
   ]
  },
  {
   "cell_type": "code",
   "execution_count": 9,
   "id": "8a412f1a",
   "metadata": {},
   "outputs": [
    {
     "name": "stdout",
     "output_type": "stream",
     "text": [
      "{'one': 'this is one', 2: 'this is two'}\n",
      "{'name': 'John', 'code': 6734, 'dept': 'software'}\n"
     ]
    }
   ],
   "source": [
    "dict = {}\n",
    "\n",
    "dict[\"one\"] = \"this is one\"\n",
    "\n",
    "dict[2] = \"this is two\"\n",
    "\n",
    "tinydict = {\"name\":\"John\", \"code\":6734, \"dept\":\"software\"}\n",
    "\n",
    "\n",
    "print(dict)\n",
    "print(tinydict)"
   ]
  },
  {
   "cell_type": "code",
   "execution_count": 10,
   "id": "fc99199a",
   "metadata": {},
   "outputs": [
    {
     "name": "stdout",
     "output_type": "stream",
     "text": [
      "this is one\n",
      "this is two\n",
      "dict_keys(['one', 2])\n",
      "dict_values(['this is one', 'this is two'])\n"
     ]
    }
   ],
   "source": [
    "print(dict['one'])\n",
    "print(dict[2])\n",
    "\n",
    "print(dict.keys())\n",
    "print(dict.values())"
   ]
  },
  {
   "cell_type": "code",
   "execution_count": 11,
   "id": "d0562829",
   "metadata": {},
   "outputs": [
    {
     "name": "stdout",
     "output_type": "stream",
     "text": [
      "dict_items([('one', 'this is one'), (2, 'this is two')])\n"
     ]
    }
   ],
   "source": [
    "print(dict.items())"
   ]
  },
  {
   "cell_type": "markdown",
   "id": "18309d86",
   "metadata": {},
   "source": [
    "### Type of Operators\n",
    "\n",
    "* Arithmetic Operators"
   ]
  },
  {
   "cell_type": "code",
   "execution_count": 12,
   "id": "edf03c23",
   "metadata": {},
   "outputs": [],
   "source": [
    "a = 21\n",
    "b = 10\n",
    "c = 0\n",
    "\n"
   ]
  },
  {
   "cell_type": "code",
   "execution_count": 13,
   "id": "7c248cf5",
   "metadata": {},
   "outputs": [
    {
     "data": {
      "text/plain": [
       "31"
      ]
     },
     "execution_count": 13,
     "metadata": {},
     "output_type": "execute_result"
    }
   ],
   "source": [
    "c = a + b\n",
    "c"
   ]
  },
  {
   "cell_type": "code",
   "execution_count": 14,
   "id": "8997578f",
   "metadata": {},
   "outputs": [],
   "source": [
    "c = a - b"
   ]
  },
  {
   "cell_type": "code",
   "execution_count": 15,
   "id": "f0d0036c",
   "metadata": {},
   "outputs": [
    {
     "data": {
      "text/plain": [
       "11"
      ]
     },
     "execution_count": 15,
     "metadata": {},
     "output_type": "execute_result"
    }
   ],
   "source": [
    "c"
   ]
  },
  {
   "cell_type": "code",
   "execution_count": 16,
   "id": "dcf827a5",
   "metadata": {},
   "outputs": [
    {
     "data": {
      "text/plain": [
       "210"
      ]
     },
     "execution_count": 16,
     "metadata": {},
     "output_type": "execute_result"
    }
   ],
   "source": [
    "c = a*b\n",
    "c"
   ]
  },
  {
   "cell_type": "code",
   "execution_count": 17,
   "id": "a947d09c",
   "metadata": {},
   "outputs": [
    {
     "data": {
      "text/plain": [
       "2.1"
      ]
     },
     "execution_count": 17,
     "metadata": {},
     "output_type": "execute_result"
    }
   ],
   "source": [
    "a/b"
   ]
  },
  {
   "cell_type": "code",
   "execution_count": 18,
   "id": "a8b2d6dc",
   "metadata": {},
   "outputs": [
    {
     "data": {
      "text/plain": [
       "1"
      ]
     },
     "execution_count": 18,
     "metadata": {},
     "output_type": "execute_result"
    }
   ],
   "source": [
    "a%b"
   ]
  },
  {
   "cell_type": "code",
   "execution_count": 20,
   "id": "582eaa6c",
   "metadata": {},
   "outputs": [
    {
     "data": {
      "text/plain": [
       "8"
      ]
     },
     "execution_count": 20,
     "metadata": {},
     "output_type": "execute_result"
    }
   ],
   "source": [
    "a = 2\n",
    "b = 3\n",
    "a**b"
   ]
  },
  {
   "cell_type": "code",
   "execution_count": 21,
   "id": "f89f1315",
   "metadata": {},
   "outputs": [
    {
     "data": {
      "text/plain": [
       "2"
      ]
     },
     "execution_count": 21,
     "metadata": {},
     "output_type": "execute_result"
    }
   ],
   "source": [
    "a = 11\n",
    "b = 5\n",
    "\n",
    "a//b"
   ]
  },
  {
   "cell_type": "markdown",
   "id": "4a850576",
   "metadata": {},
   "source": [
    "* Comparison Operator"
   ]
  },
  {
   "cell_type": "code",
   "execution_count": 22,
   "id": "8413b76a",
   "metadata": {},
   "outputs": [
    {
     "name": "stdout",
     "output_type": "stream",
     "text": [
      "a is not equal to b\n"
     ]
    }
   ],
   "source": [
    "a = 21\n",
    "b = 10\n",
    "\n",
    "if a == b :\n",
    "    print(\"a is equal to b\")\n",
    "else:\n",
    "    print(\"a is not equal to b\")"
   ]
  },
  {
   "cell_type": "code",
   "execution_count": 23,
   "id": "fcd2d6f4",
   "metadata": {},
   "outputs": [
    {
     "name": "stdout",
     "output_type": "stream",
     "text": [
      "a is not equal to b\n"
     ]
    }
   ],
   "source": [
    "if a != b:\n",
    "    print(\"a is not equal to b\")\n",
    "else:\n",
    "    print(\"a is equal to b\")"
   ]
  },
  {
   "cell_type": "code",
   "execution_count": 25,
   "id": "361fb737",
   "metadata": {},
   "outputs": [
    {
     "name": "stdout",
     "output_type": "stream",
     "text": [
      "a is greater than b\n"
     ]
    }
   ],
   "source": [
    "a = 21\n",
    "b = 10\n",
    "\n",
    "if a > b :\n",
    "    print(\"a is greater than b\")\n",
    "else:\n",
    "    print(\"a is not geater than b\")"
   ]
  },
  {
   "cell_type": "code",
   "execution_count": 26,
   "id": "6ada98bf",
   "metadata": {},
   "outputs": [
    {
     "name": "stdout",
     "output_type": "stream",
     "text": [
      "a is not less than b\n"
     ]
    }
   ],
   "source": [
    "if a < b:\n",
    "    print(\"a is less than b\")\n",
    "else:\n",
    "    print(\"a is not less than b\")"
   ]
  },
  {
   "cell_type": "code",
   "execution_count": 28,
   "id": "dec1c2d9",
   "metadata": {},
   "outputs": [
    {
     "name": "stdout",
     "output_type": "stream",
     "text": [
      "a is geater than or equal to b\n"
     ]
    }
   ],
   "source": [
    "if a>=b:\n",
    "    print(\"a is geater than or equal to b\")\n",
    "else:\n",
    "    print(\"a is less than b\")"
   ]
  },
  {
   "cell_type": "code",
   "execution_count": 29,
   "id": "0d83cbd1",
   "metadata": {},
   "outputs": [
    {
     "name": "stdout",
     "output_type": "stream",
     "text": [
      "a is greater than b\n"
     ]
    }
   ],
   "source": [
    "if a <=b:\n",
    "    print(\"a is less than or equal to b\")\n",
    "else:\n",
    "    print(\"a is greater than b\")"
   ]
  },
  {
   "cell_type": "markdown",
   "id": "77cdab76",
   "metadata": {},
   "source": [
    "* Assignment Operator"
   ]
  },
  {
   "cell_type": "code",
   "execution_count": 31,
   "id": "08d1dfef",
   "metadata": {},
   "outputs": [],
   "source": [
    "a = 21\n",
    "b = 10\n",
    "c = 0\n"
   ]
  },
  {
   "cell_type": "code",
   "execution_count": 32,
   "id": "9b41f47a",
   "metadata": {},
   "outputs": [
    {
     "data": {
      "text/plain": [
       "31"
      ]
     },
     "execution_count": 32,
     "metadata": {},
     "output_type": "execute_result"
    }
   ],
   "source": [
    "c = a + b\n",
    "c"
   ]
  },
  {
   "cell_type": "code",
   "execution_count": 33,
   "id": "df36ed87",
   "metadata": {},
   "outputs": [
    {
     "data": {
      "text/plain": [
       "21"
      ]
     },
     "execution_count": 33,
     "metadata": {},
     "output_type": "execute_result"
    }
   ],
   "source": [
    "c -= 10\n",
    "c"
   ]
  },
  {
   "cell_type": "code",
   "execution_count": 34,
   "id": "46bcd763",
   "metadata": {},
   "outputs": [
    {
     "data": {
      "text/plain": [
       "31"
      ]
     },
     "execution_count": 34,
     "metadata": {},
     "output_type": "execute_result"
    }
   ],
   "source": [
    "c +=10\n",
    "c"
   ]
  },
  {
   "cell_type": "code",
   "execution_count": 35,
   "id": "9be381e7",
   "metadata": {},
   "outputs": [
    {
     "data": {
      "text/plain": [
       "62"
      ]
     },
     "execution_count": 35,
     "metadata": {},
     "output_type": "execute_result"
    }
   ],
   "source": [
    "c *= 2\n",
    "c"
   ]
  },
  {
   "cell_type": "code",
   "execution_count": 36,
   "id": "1c78ca9f",
   "metadata": {},
   "outputs": [],
   "source": [
    "c /= 3"
   ]
  },
  {
   "cell_type": "code",
   "execution_count": 37,
   "id": "fa269348",
   "metadata": {},
   "outputs": [
    {
     "data": {
      "text/plain": [
       "20.666666666666668"
      ]
     },
     "execution_count": 37,
     "metadata": {},
     "output_type": "execute_result"
    }
   ],
   "source": [
    "c"
   ]
  },
  {
   "cell_type": "code",
   "execution_count": 38,
   "id": "669b6e14",
   "metadata": {},
   "outputs": [],
   "source": [
    "c //=4"
   ]
  },
  {
   "cell_type": "code",
   "execution_count": 39,
   "id": "88a066fd",
   "metadata": {},
   "outputs": [
    {
     "data": {
      "text/plain": [
       "5.0"
      ]
     },
     "execution_count": 39,
     "metadata": {},
     "output_type": "execute_result"
    }
   ],
   "source": [
    "c"
   ]
  },
  {
   "cell_type": "code",
   "execution_count": 40,
   "id": "12415d39",
   "metadata": {},
   "outputs": [
    {
     "data": {
      "text/plain": [
       "25.0"
      ]
     },
     "execution_count": 40,
     "metadata": {},
     "output_type": "execute_result"
    }
   ],
   "source": [
    "c **= 2\n",
    "c"
   ]
  },
  {
   "cell_type": "markdown",
   "id": "b43d47e1",
   "metadata": {},
   "source": [
    "* Bitwise Operator "
   ]
  },
  {
   "cell_type": "code",
   "execution_count": 43,
   "id": "7e8e7ad5",
   "metadata": {},
   "outputs": [
    {
     "name": "stdout",
     "output_type": "stream",
     "text": [
      "a = 60 ,binary : 0b111100\n"
     ]
    }
   ],
   "source": [
    "a = 60\n",
    "b = 13\n",
    "\n",
    "print(\"a =\", a, \" ,binary :\", bin(a))"
   ]
  },
  {
   "cell_type": "code",
   "execution_count": 44,
   "id": "afacd3be",
   "metadata": {},
   "outputs": [
    {
     "data": {
      "text/plain": [
       "12"
      ]
     },
     "execution_count": 44,
     "metadata": {},
     "output_type": "execute_result"
    }
   ],
   "source": [
    "# and \n",
    "\n",
    "a & b"
   ]
  },
  {
   "cell_type": "code",
   "execution_count": 45,
   "id": "6d59c8bd",
   "metadata": {},
   "outputs": [
    {
     "data": {
      "text/plain": [
       "61"
      ]
     },
     "execution_count": 45,
     "metadata": {},
     "output_type": "execute_result"
    }
   ],
   "source": [
    "# OR\n",
    "a | b"
   ]
  },
  {
   "cell_type": "code",
   "execution_count": 46,
   "id": "51f07bc0",
   "metadata": {},
   "outputs": [
    {
     "data": {
      "text/plain": [
       "49"
      ]
     },
     "execution_count": 46,
     "metadata": {},
     "output_type": "execute_result"
    }
   ],
   "source": [
    "# XOR\n",
    "\n",
    "a ^ b"
   ]
  },
  {
   "cell_type": "code",
   "execution_count": 47,
   "id": "3145bbf2",
   "metadata": {},
   "outputs": [
    {
     "data": {
      "text/plain": [
       "-61"
      ]
     },
     "execution_count": 47,
     "metadata": {},
     "output_type": "execute_result"
    }
   ],
   "source": [
    "# Complement ~ not \n",
    "~a"
   ]
  },
  {
   "cell_type": "code",
   "execution_count": 49,
   "id": "223ea11d",
   "metadata": {},
   "outputs": [
    {
     "data": {
      "text/plain": [
       "-14"
      ]
     },
     "execution_count": 49,
     "metadata": {},
     "output_type": "execute_result"
    }
   ],
   "source": [
    "~ b"
   ]
  },
  {
   "cell_type": "code",
   "execution_count": 50,
   "id": "6dadacf7",
   "metadata": {},
   "outputs": [
    {
     "data": {
      "text/plain": [
       "80"
      ]
     },
     "execution_count": 50,
     "metadata": {},
     "output_type": "execute_result"
    }
   ],
   "source": [
    "a = 20\n",
    "a<<2"
   ]
  },
  {
   "cell_type": "code",
   "execution_count": 51,
   "id": "34d395f1",
   "metadata": {},
   "outputs": [
    {
     "data": {
      "text/plain": [
       "5"
      ]
     },
     "execution_count": 51,
     "metadata": {},
     "output_type": "execute_result"
    }
   ],
   "source": [
    "a = 20\n",
    "a>>2"
   ]
  },
  {
   "cell_type": "markdown",
   "id": "68cd1128",
   "metadata": {},
   "source": [
    "* Logical Operator"
   ]
  },
  {
   "cell_type": "code",
   "execution_count": 52,
   "id": "acc45684",
   "metadata": {},
   "outputs": [
    {
     "name": "stdout",
     "output_type": "stream",
     "text": [
      "a is not available in list1\n"
     ]
    }
   ],
   "source": [
    "a = 10\n",
    "b = 20\n",
    "\n",
    "list1 = [1,2,3,4]\n",
    "\n",
    "if a in list1:\n",
    "    print(\"a is available in list1\")\n",
    "else:\n",
    "    print(\"a is not available in list1\")"
   ]
  },
  {
   "cell_type": "code",
   "execution_count": 53,
   "id": "f7c08e2e",
   "metadata": {},
   "outputs": [
    {
     "name": "stdout",
     "output_type": "stream",
     "text": [
      "a is not available in list1\n"
     ]
    }
   ],
   "source": [
    "if a not in list1:\n",
    "    print(\"a is not available in list1\")\n",
    "else:\n",
    "    print(\"a is available in list1\")"
   ]
  },
  {
   "cell_type": "code",
   "execution_count": 54,
   "id": "a675a43b",
   "metadata": {},
   "outputs": [
    {
     "name": "stdout",
     "output_type": "stream",
     "text": [
      "a or b in the list1\n"
     ]
    }
   ],
   "source": [
    "a = 10\n",
    "b = 3\n",
    "\n",
    "list1 = [1,2,3,4]\n",
    "\n",
    "if a or b in list1:\n",
    "    print(\"a or b in the list1\")\n",
    "else:\n",
    "    print(\"neither a nor b in the list1\")"
   ]
  },
  {
   "cell_type": "markdown",
   "id": "8e23e491",
   "metadata": {},
   "source": [
    "* Identity Operator"
   ]
  },
  {
   "cell_type": "code",
   "execution_count": 55,
   "id": "402c961a",
   "metadata": {},
   "outputs": [
    {
     "name": "stdout",
     "output_type": "stream",
     "text": [
      "a is b \n"
     ]
    }
   ],
   "source": [
    "a = 20\n",
    "b = 20\n",
    "\n",
    "if a is b :\n",
    "    print(\"a is b \")\n",
    "else:\n",
    "    print(\"a is not b\")"
   ]
  },
  {
   "cell_type": "code",
   "execution_count": 56,
   "id": "14616985",
   "metadata": {},
   "outputs": [
    {
     "name": "stdout",
     "output_type": "stream",
     "text": [
      "a and b have the same id\n"
     ]
    }
   ],
   "source": [
    "if id(a) == id(b):\n",
    "    print(\"a and b have the same id\")\n",
    "else:\n",
    "    print(\"a and b have their own id\")"
   ]
  },
  {
   "cell_type": "code",
   "execution_count": 57,
   "id": "d8015bd7",
   "metadata": {},
   "outputs": [
    {
     "name": "stdout",
     "output_type": "stream",
     "text": [
      "'a' id is: 2399525170064 \n",
      "'b' id is: 2399525170384\n"
     ]
    }
   ],
   "source": [
    "a = 20\n",
    "b = 30\n",
    "\n",
    "if id(a) == id(b):\n",
    "    print(\"a and b have the same id\")\n",
    "    \n",
    "else:\n",
    "    print(f\"'a' id is: {id(a)} \\n'b' id is: {id(b)}\")"
   ]
  },
  {
   "cell_type": "code",
   "execution_count": 58,
   "id": "d5d412b7",
   "metadata": {},
   "outputs": [
    {
     "data": {
      "text/plain": [
       "False"
      ]
     },
     "execution_count": 58,
     "metadata": {},
     "output_type": "execute_result"
    }
   ],
   "source": [
    "a is b"
   ]
  },
  {
   "cell_type": "code",
   "execution_count": 59,
   "id": "d5a8ea29",
   "metadata": {},
   "outputs": [
    {
     "data": {
      "text/plain": [
       "True"
      ]
     },
     "execution_count": 59,
     "metadata": {},
     "output_type": "execute_result"
    }
   ],
   "source": [
    "a = 20 \n",
    "b = 20\n",
    "\n",
    "a is b"
   ]
  },
  {
   "cell_type": "markdown",
   "id": "5518e21f",
   "metadata": {},
   "source": [
    "## Python Operators Precedence\n",
    "\n",
    "**The following table lists all the operators from highest precedence to the lowest.\n",
    "\n",
    "1. ` **  `------------- Exponential (raise to the power)\n",
    "\n",
    "2. ` ~  + - `-----------Complement, unary plus and minus (method name for the last two are +@ and -@)\n",
    "\n",
    "2.  `* / % //  `---------multiply, divide, modulo and floor division\n",
    "\n",
    "3. ` + - `-------------- Addition and Subraction\n",
    "\n",
    "4. ` >> <<  `----------- Right and Left bitwise shift\n",
    "\n",
    "5.  `&  `--------------- Bitwise 'AND'\n",
    "\n",
    "6.  `^ |  `------------- Bitwise exclusive \"OR\" and regular \"OR\"\n",
    "\n",
    "7. `<= < > >= `--------- Comparision Operators\n",
    "\n",
    "8.  ` < > ==  != `-------Equality Operator\n",
    "\n",
    "9. ` = %= /= //= -= += *= **= ` ----- Assignment Operator \n",
    "\n",
    "10.  ` is is not ` ------Identity Operator \n",
    "\n",
    "11. ` in  not in ` ------Membership Operators \n",
    "\n",
    "12.   ` Not or And  `--- Logical Operator  "
   ]
  },
  {
   "cell_type": "code",
   "execution_count": 61,
   "id": "ae4a16eb",
   "metadata": {},
   "outputs": [],
   "source": [
    "a = 20\n",
    "b = 10\n",
    "c = 15 \n",
    "d = 5"
   ]
  },
  {
   "cell_type": "code",
   "execution_count": 62,
   "id": "ef84fc36",
   "metadata": {},
   "outputs": [
    {
     "data": {
      "text/plain": [
       "90.0"
      ]
     },
     "execution_count": 62,
     "metadata": {},
     "output_type": "execute_result"
    }
   ],
   "source": [
    "(a+b)*c/d"
   ]
  },
  {
   "cell_type": "code",
   "execution_count": 63,
   "id": "b633981c",
   "metadata": {},
   "outputs": [
    {
     "data": {
      "text/plain": [
       "90.0"
      ]
     },
     "execution_count": 63,
     "metadata": {},
     "output_type": "execute_result"
    }
   ],
   "source": [
    "(20+10)*15/5"
   ]
  },
  {
   "cell_type": "code",
   "execution_count": 64,
   "id": "791774d9",
   "metadata": {},
   "outputs": [
    {
     "data": {
      "text/plain": [
       "450"
      ]
     },
     "execution_count": 64,
     "metadata": {},
     "output_type": "execute_result"
    }
   ],
   "source": [
    "30*15"
   ]
  },
  {
   "cell_type": "code",
   "execution_count": 65,
   "id": "75a15c55",
   "metadata": {},
   "outputs": [
    {
     "data": {
      "text/plain": [
       "90.0"
      ]
     },
     "execution_count": 65,
     "metadata": {},
     "output_type": "execute_result"
    }
   ],
   "source": [
    "450/5"
   ]
  },
  {
   "cell_type": "code",
   "execution_count": 67,
   "id": "fde79a5a",
   "metadata": {},
   "outputs": [
    {
     "data": {
      "text/plain": [
       "2.0"
      ]
     },
     "execution_count": 67,
     "metadata": {},
     "output_type": "execute_result"
    }
   ],
   "source": [
    "45*2/3%7"
   ]
  },
  {
   "cell_type": "code",
   "execution_count": 68,
   "id": "d86c46a3",
   "metadata": {},
   "outputs": [
    {
     "data": {
      "text/plain": [
       "4.0"
      ]
     },
     "execution_count": 68,
     "metadata": {},
     "output_type": "execute_result"
    }
   ],
   "source": [
    "45*2/3//7"
   ]
  },
  {
   "cell_type": "code",
   "execution_count": 69,
   "id": "2c259cc2",
   "metadata": {},
   "outputs": [
    {
     "data": {
      "text/plain": [
       "1.3333333333333333"
      ]
     },
     "execution_count": 69,
     "metadata": {},
     "output_type": "execute_result"
    }
   ],
   "source": [
    "45*2/3//7/3"
   ]
  },
  {
   "cell_type": "code",
   "execution_count": 70,
   "id": "bd517a49",
   "metadata": {},
   "outputs": [
    {
     "data": {
      "text/plain": [
       "2.0"
      ]
     },
     "execution_count": 70,
     "metadata": {},
     "output_type": "execute_result"
    }
   ],
   "source": [
    "45*2/3/2//7 # if same operators come two time then left one will have high precedence over right one"
   ]
  },
  {
   "cell_type": "code",
   "execution_count": null,
   "id": "cdc43b03",
   "metadata": {},
   "outputs": [],
   "source": []
  }
 ],
 "metadata": {
  "kernelspec": {
   "display_name": "Python 3 (ipykernel)",
   "language": "python",
   "name": "python3"
  },
  "language_info": {
   "codemirror_mode": {
    "name": "ipython",
    "version": 3
   },
   "file_extension": ".py",
   "mimetype": "text/x-python",
   "name": "python",
   "nbconvert_exporter": "python",
   "pygments_lexer": "ipython3",
   "version": "3.9.7"
  }
 },
 "nbformat": 4,
 "nbformat_minor": 5
}
