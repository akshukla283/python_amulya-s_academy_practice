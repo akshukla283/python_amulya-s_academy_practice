{
 "cells": [
  {
   "cell_type": "markdown",
   "id": "57d900ea",
   "metadata": {},
   "source": [
    "### os.access() Method\n",
    "\n",
    "The method access() uses the real uid/gid to test for access to path. Most operations will be use the effective uid/gid, therefore this routine can be used in a suid/sgid environment to trst if the invoking user has the specified access to path. It return True if access is allowed, False if not.\n",
    "\n",
    "`syntax: os.access(path, mode)`\n",
    "\n",
    "\n",
    "#### Parameters :\n",
    "\n",
    "* `path` - This is the path which would be tested for existance or any access.\n",
    "\n",
    "* `mode` - This should be F_OK to test the existance of path, or it can be the inclusive OR of one or more of R_OK, W_OK, and X_OK to test permissions.\n",
    "\n",
    "  * `os.F_OK` - Value to pass the mode parameter of access() to test the existance of path.\n",
    "  \n",
    "  * `os.R_OK` - Value to include in the mode parameter of access to test the readability of path.\n",
    "  \n",
    "  * `os.W_OK` - Value to include in the mode parameter of access to test the writability of path.\n",
    "  \n",
    "  * `os.X_OK` - Value to include in the mode parameter of access() to determine if path can be executed.\n",
    "  \n",
    "#### return value \n",
    "\n",
    "This method returns True if access is allowed, False if not."
   ]
  },
  {
   "cell_type": "code",
   "execution_count": 1,
   "id": "da586d16",
   "metadata": {},
   "outputs": [
    {
     "name": "stdout",
     "output_type": "stream",
     "text": [
      "F_OK - return value :  True\n"
     ]
    }
   ],
   "source": [
    "import os, sys\n",
    "\n",
    "# Assuming foo.txt exists and has read/write permissions.\n",
    "\n",
    "ret = os.access(\"foo.txt\", os.F_OK)  # to check existance of path\n",
    "\n",
    "print(\"F_OK - return value : \", ret)"
   ]
  },
  {
   "cell_type": "code",
   "execution_count": 2,
   "id": "0bc64ef4",
   "metadata": {},
   "outputs": [
    {
     "name": "stdout",
     "output_type": "stream",
     "text": [
      "R_OK - return value :  True\n"
     ]
    }
   ],
   "source": [
    "ret = os.access(\"foo.txt\", os.R_OK)\n",
    "print(\"R_OK - return value : \", ret)"
   ]
  },
  {
   "cell_type": "code",
   "execution_count": 3,
   "id": "3da0b40e",
   "metadata": {},
   "outputs": [
    {
     "name": "stdout",
     "output_type": "stream",
     "text": [
      "W_OK - return value :  True\n"
     ]
    }
   ],
   "source": [
    "ret = os.access(\"foo.txt\", os.W_OK)\n",
    "print(\"W_OK - return value : \", ret)"
   ]
  },
  {
   "cell_type": "code",
   "execution_count": 4,
   "id": "50637a40",
   "metadata": {},
   "outputs": [
    {
     "name": "stdout",
     "output_type": "stream",
     "text": [
      "X_OK - return value :  True\n"
     ]
    }
   ],
   "source": [
    "ret = os.access(\"foo.txt\", os.X_OK)\n",
    "print(\"X_OK - return value : \", ret)"
   ]
  },
  {
   "cell_type": "markdown",
   "id": "17564926",
   "metadata": {},
   "source": [
    "### os.chdir() Method\n",
    "\n",
    "changes the current working directory."
   ]
  },
  {
   "cell_type": "code",
   "execution_count": 5,
   "id": "3ebf8bc5",
   "metadata": {},
   "outputs": [],
   "source": [
    "import os\n",
    "\n",
    "os.chdir(\"./OOPS\")"
   ]
  },
  {
   "cell_type": "code",
   "execution_count": 6,
   "id": "fa87a617",
   "metadata": {},
   "outputs": [
    {
     "data": {
      "text/plain": [
       "'E:\\\\Python_world\\\\python_amulya-s_academy_practice\\\\python_from_book\\\\OOPS'"
      ]
     },
     "execution_count": 6,
     "metadata": {},
     "output_type": "execute_result"
    }
   ],
   "source": [
    "# now check the directory\n",
    "\n",
    "os.getcwd()"
   ]
  },
  {
   "cell_type": "code",
   "execution_count": 7,
   "id": "d543d2a9",
   "metadata": {},
   "outputs": [],
   "source": [
    "# let's back to our previous working directory\n",
    "os.chdir(\"../\")"
   ]
  },
  {
   "cell_type": "code",
   "execution_count": 8,
   "id": "89292989",
   "metadata": {},
   "outputs": [
    {
     "data": {
      "text/plain": [
       "'E:\\\\Python_world\\\\python_amulya-s_academy_practice\\\\python_from_book'"
      ]
     },
     "execution_count": 8,
     "metadata": {},
     "output_type": "execute_result"
    }
   ],
   "source": [
    "# now check current working directory \n",
    "\n",
    "os.getcwd()"
   ]
  },
  {
   "cell_type": "markdown",
   "id": "9da27877",
   "metadata": {},
   "source": [
    "As we can see that we are back into our previuos working direcotry"
   ]
  },
  {
   "cell_type": "markdown",
   "id": "7ea6ac79",
   "metadata": {},
   "source": [
    "#### os.chflags() Method\n",
    "\n",
    "The method os.chflags() sets the flags of path to the numeric flags. The flags may take a combination (bitwise OR) of the various value."
   ]
  },
  {
   "cell_type": "code",
   "execution_count": 1,
   "id": "4c1d012a",
   "metadata": {},
   "outputs": [
    {
     "ename": "AttributeError",
     "evalue": "module 'os' has no attribute 'F_LOCK'",
     "output_type": "error",
     "traceback": [
      "\u001b[1;31m---------------------------------------------------------------------------\u001b[0m",
      "\u001b[1;31mAttributeError\u001b[0m                            Traceback (most recent call last)",
      "Input \u001b[1;32mIn [1]\u001b[0m, in \u001b[0;36m<cell line: 3>\u001b[1;34m()\u001b[0m\n\u001b[0;32m      1\u001b[0m \u001b[38;5;28;01mimport\u001b[39;00m \u001b[38;5;21;01mos\u001b[39;00m\n\u001b[1;32m----> 3\u001b[0m flags \u001b[38;5;241m=\u001b[39m \u001b[43mos\u001b[49m\u001b[38;5;241;43m.\u001b[39;49m\u001b[43mF_LOCK\u001b[49m\n\u001b[0;32m      5\u001b[0m retval \u001b[38;5;241m=\u001b[39m os\u001b[38;5;241m.\u001b[39mchflags(\u001b[38;5;124m\"\u001b[39m\u001b[38;5;124mfoo.txt\u001b[39m\u001b[38;5;124m\"\u001b[39m, flags)\n\u001b[0;32m      7\u001b[0m \u001b[38;5;28mprint\u001b[39m(retval)\n",
      "\u001b[1;31mAttributeError\u001b[0m: module 'os' has no attribute 'F_LOCK'"
     ]
    }
   ],
   "source": [
    "import os\n",
    "\n",
    "flags = os.F_LOCK\n",
    "\n",
    "retval = os.chflags(\"foo.txt\", flags)\n",
    "\n",
    "print(retval)"
   ]
  },
  {
   "cell_type": "markdown",
   "id": "7a37d0e1",
   "metadata": {},
   "source": [
    "### os.chmod() Method\n",
    "\n",
    "The method chmod() changes the mode of path to the passed numeric mode. The mode they take on of the following values or bitwise ORed combinations of them. \n",
    "\n",
    "`syntax : os.chmod(path, mode)`"
   ]
  },
  {
   "cell_type": "code",
   "execution_count": 2,
   "id": "b881f8c6",
   "metadata": {},
   "outputs": [],
   "source": [
    "import os, sys, stat\n",
    "# Assuming foo.txt exists, set a file execute by group.\n",
    "os.chmod(\"foo.txt\", stat.S_IXGRP)\n"
   ]
  },
  {
   "cell_type": "code",
   "execution_count": 3,
   "id": "4eac9484",
   "metadata": {},
   "outputs": [],
   "source": [
    "# set a file write by others.\n",
    "\n",
    "os.chmod(\"foo.txt\", stat.S_IWOTH)"
   ]
  },
  {
   "cell_type": "code",
   "execution_count": 4,
   "id": "2ae3aab3",
   "metadata": {},
   "outputs": [
    {
     "name": "stdout",
     "output_type": "stream",
     "text": [
      "This is 1st line.\n",
      "This is 2nd line.\n",
      "This is 3rd line.\n",
      "This is 4rth line.\n",
      "This is 5th line.\n",
      "this is 6th line.\n",
      "This is 7nth line.\n",
      "This is 8th line.\n"
     ]
    }
   ],
   "source": [
    "with open(\"foo.txt\", \"r\") as f:\n",
    "    lines = f.readlines()\n",
    "    for line in lines:\n",
    "        print(line.strip())"
   ]
  },
  {
   "cell_type": "code",
   "execution_count": 5,
   "id": "e84aecc1",
   "metadata": {},
   "outputs": [
    {
     "ename": "PermissionError",
     "evalue": "[Errno 13] Permission denied: 'foo.txt'",
     "output_type": "error",
     "traceback": [
      "\u001b[1;31m---------------------------------------------------------------------------\u001b[0m",
      "\u001b[1;31mPermissionError\u001b[0m                           Traceback (most recent call last)",
      "Input \u001b[1;32mIn [5]\u001b[0m, in \u001b[0;36m<cell line: 1>\u001b[1;34m()\u001b[0m\n\u001b[1;32m----> 1\u001b[0m \u001b[38;5;28;01mwith\u001b[39;00m \u001b[38;5;28;43mopen\u001b[39;49m\u001b[43m(\u001b[49m\u001b[38;5;124;43m\"\u001b[39;49m\u001b[38;5;124;43mfoo.txt\u001b[39;49m\u001b[38;5;124;43m\"\u001b[39;49m\u001b[43m,\u001b[49m\u001b[43m \u001b[49m\u001b[38;5;124;43m\"\u001b[39;49m\u001b[38;5;124;43ma+\u001b[39;49m\u001b[38;5;124;43m\"\u001b[39;49m\u001b[43m)\u001b[49m \u001b[38;5;28;01mas\u001b[39;00m f:\n\u001b[0;32m      2\u001b[0m     f\u001b[38;5;241m.\u001b[39mwrite(\u001b[38;5;124m\"\u001b[39m\u001b[38;5;130;01m\\n\u001b[39;00m\u001b[38;5;124mThis is 9th line.\u001b[39m\u001b[38;5;124m\"\u001b[39m)\n\u001b[0;32m      3\u001b[0m     f\u001b[38;5;241m.\u001b[39mwrite(\u001b[38;5;124m\"\u001b[39m\u001b[38;5;130;01m\\n\u001b[39;00m\u001b[38;5;124mThis is 10th line.\u001b[39m\u001b[38;5;124m\"\u001b[39m)    \n",
      "\u001b[1;31mPermissionError\u001b[0m: [Errno 13] Permission denied: 'foo.txt'"
     ]
    }
   ],
   "source": [
    "with open(\"foo.txt\", \"a+\") as f:\n",
    "    f.write(\"\\nThis is 9th line.\")\n",
    "    f.write(\"\\nThis is 10th line.\")    \n",
    "    f.write(\"\\nThis is 11th line.\")    "
   ]
  },
  {
   "cell_type": "markdown",
   "id": "88265688",
   "metadata": {},
   "source": [
    "As we can see that file write permission has denied because we had change the permission that this file will be append or written by other.\n"
   ]
  },
  {
   "cell_type": "code",
   "execution_count": 6,
   "id": "20ae0197",
   "metadata": {},
   "outputs": [],
   "source": [
    "# now let's chnage the permission to read , write , execute by owener \n",
    "\n",
    "import os, sys, stat\n",
    "\n",
    "os.chmod(\"foo.txt\", stat.S_IRWXU) # chnage the permission to read , write , execute by owener"
   ]
  },
  {
   "cell_type": "code",
   "execution_count": 7,
   "id": "7b70bfcf",
   "metadata": {},
   "outputs": [],
   "source": [
    "# now lets try to append file\n",
    "\n",
    "with open(\"foo.txt\", \"a+\") as f:\n",
    "    f.write(\"\\nThis is 9th line.\")\n",
    "    f.write(\"\\nThis is 10th line.\")    \n",
    "    f.write(\"\\nThis is 11th line.\")    "
   ]
  },
  {
   "cell_type": "markdown",
   "id": "bc22c874",
   "metadata": {},
   "source": [
    "As we can see that now we have successfully write the file."
   ]
  },
  {
   "cell_type": "code",
   "execution_count": 9,
   "id": "a87d59d2",
   "metadata": {},
   "outputs": [
    {
     "name": "stdout",
     "output_type": "stream",
     "text": [
      "This is 1st line.\n",
      "This is 2nd line.\n",
      "This is 3rd line.\n",
      "This is 4rth line.\n",
      "This is 5th line.\n",
      "this is 6th line.\n",
      "This is 7nth line.\n",
      "This is 8th line.\n",
      "This is 9th line.\n",
      "This is 10th line.\n",
      "This is 11th line.\n"
     ]
    }
   ],
   "source": [
    "# let's check the file and print lines from file \n",
    "\n",
    "with open(\"foo.txt\", \"r\") as f:\n",
    "    lines = f.readlines()\n",
    "    for line in lines:\n",
    "        print(line.strip())"
   ]
  },
  {
   "cell_type": "code",
   "execution_count": 10,
   "id": "e06ed834",
   "metadata": {},
   "outputs": [],
   "source": [
    "import os, sys, stat\n",
    "\n",
    "os.chmod(\"foo.txt\", stat.S_ISVTX)\n"
   ]
  },
  {
   "cell_type": "code",
   "execution_count": 11,
   "id": "c31dd9bf",
   "metadata": {},
   "outputs": [
    {
     "name": "stdout",
     "output_type": "stream",
     "text": [
      "This is 1st line.\n",
      "This is 2nd line.\n",
      "This is 3rd line.\n",
      "This is 4rth line.\n",
      "This is 5th line.\n",
      "this is 6th line.\n",
      "This is 7nth line.\n",
      "This is 8th line.\n",
      "This is 9th line.\n",
      "This is 10th line.\n",
      "This is 11th line.\n"
     ]
    }
   ],
   "source": [
    "with open(\"foo.txt\", \"r\") as f:\n",
    "    lines = f.readlines()\n",
    "    for line in lines:\n",
    "        print(line.strip())"
   ]
  },
  {
   "cell_type": "code",
   "execution_count": 12,
   "id": "ada570e2",
   "metadata": {},
   "outputs": [],
   "source": [
    "import os, sys, stat\n",
    "\n",
    "os.chmod(\"foo.txt\", stat.S_IRWXU)"
   ]
  },
  {
   "cell_type": "markdown",
   "id": "363dce37",
   "metadata": {},
   "source": [
    "Lot of option is there please go through the book for more details."
   ]
  },
  {
   "cell_type": "code",
   "execution_count": null,
   "id": "700330b6",
   "metadata": {},
   "outputs": [],
   "source": []
  }
 ],
 "metadata": {
  "kernelspec": {
   "display_name": "Python 3 (ipykernel)",
   "language": "python",
   "name": "python3"
  },
  "language_info": {
   "codemirror_mode": {
    "name": "ipython",
    "version": 3
   },
   "file_extension": ".py",
   "mimetype": "text/x-python",
   "name": "python",
   "nbconvert_exporter": "python",
   "pygments_lexer": "ipython3",
   "version": "3.9.7"
  }
 },
 "nbformat": 4,
 "nbformat_minor": 5
}
