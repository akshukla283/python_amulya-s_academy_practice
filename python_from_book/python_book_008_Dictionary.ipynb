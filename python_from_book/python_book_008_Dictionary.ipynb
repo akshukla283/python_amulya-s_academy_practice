{
 "cells": [
  {
   "cell_type": "markdown",
   "id": "d7de993d",
   "metadata": {},
   "source": [
    "### Dictionary\n",
    "\n",
    "* ` Key is separated from its value by a colon(:) and the item is separated by commas \",\".`\n",
    "\n",
    "* ` Key are unique within dicationary while value may not be. `\n",
    "\n",
    "* ` The dictionary value can be of any type, but Key must be immutable type such as string, number, or tuples.`\n",
    "\n",
    "* ` empty dictionary without any item is written with just two curly braces, like this {}`"
   ]
  },
  {
   "cell_type": "code",
   "execution_count": 2,
   "id": "2e36be58",
   "metadata": {},
   "outputs": [
    {
     "name": "stdout",
     "output_type": "stream",
     "text": [
      "{'name': 'zara', 'age': 7, 'class': 'first'}\n"
     ]
    }
   ],
   "source": [
    "dict1 = {'name':'zara', 'age': 7, 'class': 'first'}\n",
    "print(dict1)"
   ]
  },
  {
   "cell_type": "markdown",
   "id": "8faa1296",
   "metadata": {},
   "source": [
    "#### Acccess values in Dictionary"
   ]
  },
  {
   "cell_type": "code",
   "execution_count": 3,
   "id": "f57cf0ef",
   "metadata": {},
   "outputs": [
    {
     "data": {
      "text/plain": [
       "{'name': 'zara', 'age': 7, 'class': 'first'}"
      ]
     },
     "execution_count": 3,
     "metadata": {},
     "output_type": "execute_result"
    }
   ],
   "source": [
    "dict1"
   ]
  },
  {
   "cell_type": "code",
   "execution_count": 4,
   "id": "16829bf3",
   "metadata": {},
   "outputs": [
    {
     "data": {
      "text/plain": [
       "'zara'"
      ]
     },
     "execution_count": 4,
     "metadata": {},
     "output_type": "execute_result"
    }
   ],
   "source": [
    "dict1[\"name\"]"
   ]
  },
  {
   "cell_type": "code",
   "execution_count": 5,
   "id": "ab3a3864",
   "metadata": {},
   "outputs": [
    {
     "data": {
      "text/plain": [
       "7"
      ]
     },
     "execution_count": 5,
     "metadata": {},
     "output_type": "execute_result"
    }
   ],
   "source": [
    "dict1[\"age\"]"
   ]
  },
  {
   "cell_type": "code",
   "execution_count": 6,
   "id": "58e5b7fd",
   "metadata": {},
   "outputs": [
    {
     "ename": "KeyError",
     "evalue": "'zara'",
     "output_type": "error",
     "traceback": [
      "\u001b[1;31m---------------------------------------------------------------------------\u001b[0m",
      "\u001b[1;31mKeyError\u001b[0m                                  Traceback (most recent call last)",
      "Input \u001b[1;32mIn [6]\u001b[0m, in \u001b[0;36m<cell line: 3>\u001b[1;34m()\u001b[0m\n\u001b[0;32m      1\u001b[0m \u001b[38;5;66;03m# we can't access the key by its value\u001b[39;00m\n\u001b[1;32m----> 3\u001b[0m \u001b[43mdict1\u001b[49m\u001b[43m[\u001b[49m\u001b[38;5;124;43m'\u001b[39;49m\u001b[38;5;124;43mzara\u001b[39;49m\u001b[38;5;124;43m'\u001b[39;49m\u001b[43m]\u001b[49m\n",
      "\u001b[1;31mKeyError\u001b[0m: 'zara'"
     ]
    }
   ],
   "source": [
    "# we can't access the key by its value\n",
    "\n",
    "dict1['zara']"
   ]
  },
  {
   "cell_type": "markdown",
   "id": "cb98b22e",
   "metadata": {},
   "source": [
    "#### Updating Dictionary"
   ]
  },
  {
   "cell_type": "code",
   "execution_count": 7,
   "id": "439cf3dc",
   "metadata": {},
   "outputs": [
    {
     "data": {
      "text/plain": [
       "{'name': 'zara', 'age': 7, 'class': 'first'}"
      ]
     },
     "execution_count": 7,
     "metadata": {},
     "output_type": "execute_result"
    }
   ],
   "source": [
    "dict1"
   ]
  },
  {
   "cell_type": "code",
   "execution_count": 8,
   "id": "6bf6de92",
   "metadata": {},
   "outputs": [
    {
     "data": {
      "text/plain": [
       "{'name': 'zara', 'age': 8, 'class': 'first'}"
      ]
     },
     "execution_count": 8,
     "metadata": {},
     "output_type": "execute_result"
    }
   ],
   "source": [
    "dict1['age'] = 8\n",
    "dict1"
   ]
  },
  {
   "cell_type": "code",
   "execution_count": 9,
   "id": "641c95ca",
   "metadata": {},
   "outputs": [
    {
     "data": {
      "text/plain": [
       "{'name': 'zara', 'age': 8, 'class': 'first', 'school': 'DPS school'}"
      ]
     },
     "execution_count": 9,
     "metadata": {},
     "output_type": "execute_result"
    }
   ],
   "source": [
    "dict1['school'] = \"DPS school\" # if key is not present then it will be new key and value\n",
    "dict1"
   ]
  },
  {
   "cell_type": "markdown",
   "id": "57343d3c",
   "metadata": {},
   "source": [
    "#### Deleting Dictionary Elements"
   ]
  },
  {
   "cell_type": "code",
   "execution_count": 10,
   "id": "eb680473",
   "metadata": {},
   "outputs": [
    {
     "data": {
      "text/plain": [
       "{'name': 'zara', 'age': 8, 'class': 'first', 'school': 'DPS school'}"
      ]
     },
     "execution_count": 10,
     "metadata": {},
     "output_type": "execute_result"
    }
   ],
   "source": [
    "dict1"
   ]
  },
  {
   "cell_type": "code",
   "execution_count": 11,
   "id": "e7bbf494",
   "metadata": {},
   "outputs": [],
   "source": [
    "del dict1['school']"
   ]
  },
  {
   "cell_type": "code",
   "execution_count": 12,
   "id": "3f893a43",
   "metadata": {},
   "outputs": [
    {
     "data": {
      "text/plain": [
       "{'name': 'zara', 'age': 8, 'class': 'first'}"
      ]
     },
     "execution_count": 12,
     "metadata": {},
     "output_type": "execute_result"
    }
   ],
   "source": [
    "dict1"
   ]
  },
  {
   "cell_type": "code",
   "execution_count": 13,
   "id": "6fd34bb8",
   "metadata": {},
   "outputs": [],
   "source": [
    "dict1.clear()"
   ]
  },
  {
   "cell_type": "code",
   "execution_count": 14,
   "id": "7a46bf8a",
   "metadata": {},
   "outputs": [
    {
     "data": {
      "text/plain": [
       "{}"
      ]
     },
     "execution_count": 14,
     "metadata": {},
     "output_type": "execute_result"
    }
   ],
   "source": [
    "dict1"
   ]
  },
  {
   "cell_type": "code",
   "execution_count": 15,
   "id": "e20cf8ce",
   "metadata": {},
   "outputs": [],
   "source": [
    "del dict1"
   ]
  },
  {
   "cell_type": "code",
   "execution_count": 16,
   "id": "e927ae4f",
   "metadata": {},
   "outputs": [
    {
     "ename": "NameError",
     "evalue": "name 'dict1' is not defined",
     "output_type": "error",
     "traceback": [
      "\u001b[1;31m---------------------------------------------------------------------------\u001b[0m",
      "\u001b[1;31mNameError\u001b[0m                                 Traceback (most recent call last)",
      "Input \u001b[1;32mIn [16]\u001b[0m, in \u001b[0;36m<cell line: 1>\u001b[1;34m()\u001b[0m\n\u001b[1;32m----> 1\u001b[0m \u001b[43mdict1\u001b[49m\n",
      "\u001b[1;31mNameError\u001b[0m: name 'dict1' is not defined"
     ]
    }
   ],
   "source": [
    "dict1"
   ]
  },
  {
   "cell_type": "markdown",
   "id": "72d11fdd",
   "metadata": {},
   "source": [
    "#### Properties of Dictionary keys"
   ]
  },
  {
   "cell_type": "code",
   "execution_count": 18,
   "id": "b539100f",
   "metadata": {},
   "outputs": [
    {
     "data": {
      "text/plain": [
       "{'name': 'hayat', 'age': 8, 'class': 'first', 'school': 'DPS school'}"
      ]
     },
     "execution_count": 18,
     "metadata": {},
     "output_type": "execute_result"
    }
   ],
   "source": [
    "# a. more than one entry per key is not allowed. means no duplicate key is allowed.\n",
    "\n",
    "dict1 = {'name': 'zara','name':'hayat', 'age': 8, 'class': 'first', 'school': 'DPS school'}\n",
    "\n",
    "dict1"
   ]
  },
  {
   "cell_type": "markdown",
   "id": "a4fb360f",
   "metadata": {},
   "source": [
    "As we can see only last entry of 'name' is presen in dict1 no duplicate key allowed."
   ]
  },
  {
   "cell_type": "code",
   "execution_count": 19,
   "id": "212d82a9",
   "metadata": {},
   "outputs": [
    {
     "ename": "TypeError",
     "evalue": "unhashable type: 'list'",
     "output_type": "error",
     "traceback": [
      "\u001b[1;31m---------------------------------------------------------------------------\u001b[0m",
      "\u001b[1;31mTypeError\u001b[0m                                 Traceback (most recent call last)",
      "Input \u001b[1;32mIn [19]\u001b[0m, in \u001b[0;36m<cell line: 3>\u001b[1;34m()\u001b[0m\n\u001b[0;32m      1\u001b[0m \u001b[38;5;66;03m# b.  Key must be immutable.\u001b[39;00m\n\u001b[1;32m----> 3\u001b[0m dict1 \u001b[38;5;241m=\u001b[39m {[\u001b[38;5;124m'\u001b[39m\u001b[38;5;124mname\u001b[39m\u001b[38;5;124m'\u001b[39m]: \u001b[38;5;124m'\u001b[39m\u001b[38;5;124mzara\u001b[39m\u001b[38;5;124m'\u001b[39m, \u001b[38;5;124m'\u001b[39m\u001b[38;5;124mage\u001b[39m\u001b[38;5;124m'\u001b[39m:\u001b[38;5;241m8\u001b[39m}  \u001b[38;5;66;03m# here we have pass list as a key\u001b[39;00m\n\u001b[0;32m      4\u001b[0m dict1\n",
      "\u001b[1;31mTypeError\u001b[0m: unhashable type: 'list'"
     ]
    }
   ],
   "source": [
    "# b.  Key must be immutable.\n",
    "\n",
    "dict1 = {['name']: 'zara', 'age':8}  # here we have pass list as a key\n",
    "dict1"
   ]
  },
  {
   "cell_type": "code",
   "execution_count": 20,
   "id": "cb19921d",
   "metadata": {},
   "outputs": [
    {
     "data": {
      "text/plain": [
       "{'name': 'zara', 'age': 8}"
      ]
     },
     "execution_count": 20,
     "metadata": {},
     "output_type": "execute_result"
    }
   ],
   "source": [
    "dict1 = {('name'): 'zara', 'age':8}\n",
    "dict1"
   ]
  },
  {
   "cell_type": "code",
   "execution_count": 21,
   "id": "a40c6773",
   "metadata": {},
   "outputs": [
    {
     "data": {
      "text/plain": [
       "{('name', 'class'): 'zara', 'age': 8}"
      ]
     },
     "execution_count": 21,
     "metadata": {},
     "output_type": "execute_result"
    }
   ],
   "source": [
    "dict1 = {('name','class'): 'zara', 'age':8}\n",
    "dict1"
   ]
  },
  {
   "cell_type": "markdown",
   "id": "bd264fd9",
   "metadata": {},
   "source": [
    "As we can see that key can be a tuple , string or number means immutable."
   ]
  },
  {
   "cell_type": "markdown",
   "id": "950eb1fe",
   "metadata": {},
   "source": [
    "#### BUilt-in Dictionary Functions and Methods"
   ]
  },
  {
   "cell_type": "code",
   "execution_count": 22,
   "id": "ea53b6a6",
   "metadata": {},
   "outputs": [],
   "source": [
    "### cmp(dict1, dict2) # no longer in python 3"
   ]
  },
  {
   "cell_type": "code",
   "execution_count": 23,
   "id": "e53d2369",
   "metadata": {},
   "outputs": [
    {
     "data": {
      "text/plain": [
       "4"
      ]
     },
     "execution_count": 23,
     "metadata": {},
     "output_type": "execute_result"
    }
   ],
   "source": [
    "# len()\n",
    "\n",
    "dict1 = {'name': 'zara', 'age': 8, 'class': 'first', 'school': 'DPS school'}\n",
    "len(dict1)"
   ]
  },
  {
   "cell_type": "markdown",
   "id": "f93fb287",
   "metadata": {},
   "source": [
    "#### str():\n",
    "\n",
    "* produce a printable string representation of a dictionary."
   ]
  },
  {
   "cell_type": "code",
   "execution_count": 24,
   "id": "cc58a354",
   "metadata": {},
   "outputs": [
    {
     "data": {
      "text/plain": [
       "\"{'name': 'zara', 'age': 8, 'class': 'first'}\""
      ]
     },
     "execution_count": 24,
     "metadata": {},
     "output_type": "execute_result"
    }
   ],
   "source": [
    "dict1 = {'name': 'zara', 'age': 8, 'class': 'first'}\n",
    "str(dict1)"
   ]
  },
  {
   "cell_type": "code",
   "execution_count": 25,
   "id": "773a7df7",
   "metadata": {},
   "outputs": [
    {
     "name": "stdout",
     "output_type": "stream",
     "text": [
      "Equivalent String:  {'name': 'zara', 'age': 8, 'class': 'first'}\n"
     ]
    }
   ],
   "source": [
    "dict1 = {'name': 'zara', 'age': 8, 'class': 'first'}\n",
    "\n",
    "print(\"Equivalent String: \", str(dict1))"
   ]
  },
  {
   "cell_type": "code",
   "execution_count": 27,
   "id": "1db40529",
   "metadata": {},
   "outputs": [
    {
     "data": {
      "text/plain": [
       "[\"{'name': 'zara'\", \" 'age': 8\", \" 'class': 'first'}\"]"
      ]
     },
     "execution_count": 27,
     "metadata": {},
     "output_type": "execute_result"
    }
   ],
   "source": [
    "dict1 = {'name': 'zara', 'age': 8, 'class': 'first'}\n",
    "\n",
    "str1 = str(dict1)\n",
    "\n",
    "str1.split(\",\")"
   ]
  },
  {
   "cell_type": "code",
   "execution_count": 28,
   "id": "0217c4d2",
   "metadata": {},
   "outputs": [
    {
     "data": {
      "text/plain": [
       "dict"
      ]
     },
     "execution_count": 28,
     "metadata": {},
     "output_type": "execute_result"
    }
   ],
   "source": [
    "# type()\n",
    "\n",
    "dict1 = {'name': 'zara', 'age': 8, 'class': 'first'}\n",
    "\n",
    "type(dict1)"
   ]
  },
  {
   "cell_type": "code",
   "execution_count": 29,
   "id": "0d8f6108",
   "metadata": {},
   "outputs": [],
   "source": [
    "### clear()\n",
    "\n",
    "dict1 = {'name': 'zara', 'age': 8, 'class': 'first'}\n",
    "\n",
    "dict1.clear()"
   ]
  },
  {
   "cell_type": "code",
   "execution_count": 30,
   "id": "78aac9a5",
   "metadata": {},
   "outputs": [
    {
     "data": {
      "text/plain": [
       "{}"
      ]
     },
     "execution_count": 30,
     "metadata": {},
     "output_type": "execute_result"
    }
   ],
   "source": [
    "dict1"
   ]
  },
  {
   "cell_type": "code",
   "execution_count": 31,
   "id": "49d33124",
   "metadata": {},
   "outputs": [
    {
     "data": {
      "text/plain": [
       "0"
      ]
     },
     "execution_count": 31,
     "metadata": {},
     "output_type": "execute_result"
    }
   ],
   "source": [
    "len(dict1)"
   ]
  },
  {
   "cell_type": "code",
   "execution_count": 32,
   "id": "5e661352",
   "metadata": {},
   "outputs": [],
   "source": [
    "# copy()\n",
    "dict1 = {'name': 'zara', 'age': 8, 'class': 'first'}\n",
    "dict2 = dict1.copy()"
   ]
  },
  {
   "cell_type": "code",
   "execution_count": 33,
   "id": "d1f276d0",
   "metadata": {},
   "outputs": [
    {
     "data": {
      "text/plain": [
       "{'name': 'zara', 'age': 8, 'class': 'first'}"
      ]
     },
     "execution_count": 33,
     "metadata": {},
     "output_type": "execute_result"
    }
   ],
   "source": [
    "dict2"
   ]
  },
  {
   "cell_type": "code",
   "execution_count": 34,
   "id": "1a1679a8",
   "metadata": {},
   "outputs": [
    {
     "data": {
      "text/plain": [
       "{'name': 'zara', 'age': 8, 'class': 'first'}"
      ]
     },
     "execution_count": 34,
     "metadata": {},
     "output_type": "execute_result"
    }
   ],
   "source": [
    "dict1"
   ]
  },
  {
   "cell_type": "code",
   "execution_count": 35,
   "id": "0cfb5c39",
   "metadata": {},
   "outputs": [
    {
     "data": {
      "text/plain": [
       "{'name': None, 'age': None, 'sex': None}"
      ]
     },
     "execution_count": 35,
     "metadata": {},
     "output_type": "execute_result"
    }
   ],
   "source": [
    "### fromkey()   # create new dictionary with keys from seq and values set to value\n",
    "\n",
    "# dict.fromkeys(seq[, values])\n",
    "\n",
    "seq = {'name', 'age', 'sex'}\n",
    "\n",
    "dict1 = dict.fromkeys(seq)\n",
    "\n",
    "dict1"
   ]
  },
  {
   "cell_type": "code",
   "execution_count": 36,
   "id": "0520ba94",
   "metadata": {},
   "outputs": [
    {
     "data": {
      "text/plain": [
       "{'name': 10, 'age': 10, 'sex': 10}"
      ]
     },
     "execution_count": 36,
     "metadata": {},
     "output_type": "execute_result"
    }
   ],
   "source": [
    "seq = {'name', 'age', 'sex'}\n",
    "\n",
    "dict1 = dict.fromkeys(seq, 10)\n",
    "dict1"
   ]
  },
  {
   "cell_type": "code",
   "execution_count": 37,
   "id": "3a96a1ac",
   "metadata": {},
   "outputs": [
    {
     "data": {
      "text/plain": [
       "8"
      ]
     },
     "execution_count": 37,
     "metadata": {},
     "output_type": "execute_result"
    }
   ],
   "source": [
    "### get()   - return value for the given key. if value is not available then return default value\n",
    "              # None while in normal if value is not present then key raise error \n",
    "    \n",
    "    \n",
    "dict1 = {'name': 'zara', 'age': 8, 'class': 'first'}\n",
    "\n",
    "dict1.get(\"age\")"
   ]
  },
  {
   "cell_type": "code",
   "execution_count": 38,
   "id": "a8df0bd3",
   "metadata": {},
   "outputs": [],
   "source": [
    "dict1.get(\"School\")"
   ]
  },
  {
   "cell_type": "markdown",
   "id": "602a0aab",
   "metadata": {},
   "source": [
    "As we had already discussed that if key is not present then it return 'None'."
   ]
  },
  {
   "cell_type": "markdown",
   "id": "b93b6622",
   "metadata": {},
   "source": [
    "#### items()"
   ]
  },
  {
   "cell_type": "code",
   "execution_count": 39,
   "id": "f7ea721a",
   "metadata": {},
   "outputs": [
    {
     "data": {
      "text/plain": [
       "dict_items([('name', 'zara'), ('age', 8), ('class', 'first')])"
      ]
     },
     "execution_count": 39,
     "metadata": {},
     "output_type": "execute_result"
    }
   ],
   "source": [
    "dict1 = {'name': 'zara', 'age': 8, 'class': 'first'}\n",
    "\n",
    "dict1.items()"
   ]
  },
  {
   "cell_type": "markdown",
   "id": "5c1a5f42",
   "metadata": {},
   "source": [
    "#### keys()"
   ]
  },
  {
   "cell_type": "code",
   "execution_count": 41,
   "id": "3237a3fb",
   "metadata": {},
   "outputs": [
    {
     "data": {
      "text/plain": [
       "dict_keys(['name', 'age', 'class'])"
      ]
     },
     "execution_count": 41,
     "metadata": {},
     "output_type": "execute_result"
    }
   ],
   "source": [
    "dict1 = {'name': 'zara', 'age': 8, 'class': 'first'}\n",
    "\n",
    "dict1.keys()"
   ]
  },
  {
   "cell_type": "markdown",
   "id": "8e324a6f",
   "metadata": {},
   "source": [
    "#### setdefault(key, default = None)\n",
    "\n",
    "* `setdefault is similar to get(), but will set dict[key] = default if the key is not already in dict.`"
   ]
  },
  {
   "cell_type": "code",
   "execution_count": 42,
   "id": "d278bc74",
   "metadata": {},
   "outputs": [
    {
     "data": {
      "text/plain": [
       "8"
      ]
     },
     "execution_count": 42,
     "metadata": {},
     "output_type": "execute_result"
    }
   ],
   "source": [
    "dict1 = {'name': 'zara', 'age': 8}\n",
    "\n",
    "dict1.setdefault(\"age\")"
   ]
  },
  {
   "cell_type": "code",
   "execution_count": 43,
   "id": "b9e9e344",
   "metadata": {},
   "outputs": [],
   "source": [
    "dict1.setdefault(\"sex\")"
   ]
  },
  {
   "cell_type": "code",
   "execution_count": 44,
   "id": "5a91c691",
   "metadata": {},
   "outputs": [
    {
     "data": {
      "text/plain": [
       "{'name': 'zara', 'age': 8, 'sex': None}"
      ]
     },
     "execution_count": 44,
     "metadata": {},
     "output_type": "execute_result"
    }
   ],
   "source": [
    "dict1"
   ]
  },
  {
   "cell_type": "code",
   "execution_count": 47,
   "id": "bb2c86b1",
   "metadata": {},
   "outputs": [],
   "source": [
    "dict1.setdefault('sex', \"female\")"
   ]
  },
  {
   "cell_type": "code",
   "execution_count": 48,
   "id": "a022e7b7",
   "metadata": {},
   "outputs": [
    {
     "data": {
      "text/plain": [
       "{'name': 'zara', 'age': 8, 'sex': None}"
      ]
     },
     "execution_count": 48,
     "metadata": {},
     "output_type": "execute_result"
    }
   ],
   "source": [
    "dict1"
   ]
  },
  {
   "cell_type": "markdown",
   "id": "4e14e13b",
   "metadata": {},
   "source": [
    "As we can see that if key is not present already in dict then it will be set with 'None'."
   ]
  },
  {
   "cell_type": "code",
   "execution_count": 49,
   "id": "ef25347a",
   "metadata": {},
   "outputs": [
    {
     "ename": "KeyError",
     "evalue": "'school'",
     "output_type": "error",
     "traceback": [
      "\u001b[1;31m---------------------------------------------------------------------------\u001b[0m",
      "\u001b[1;31mKeyError\u001b[0m                                  Traceback (most recent call last)",
      "Input \u001b[1;32mIn [49]\u001b[0m, in \u001b[0;36m<cell line: 5>\u001b[1;34m()\u001b[0m\n\u001b[0;32m      1\u001b[0m \u001b[38;5;66;03m# but normaly if key is not present then it will raise an error\u001b[39;00m\n\u001b[0;32m      3\u001b[0m dict1 \u001b[38;5;241m=\u001b[39m {\u001b[38;5;124m'\u001b[39m\u001b[38;5;124mname\u001b[39m\u001b[38;5;124m'\u001b[39m: \u001b[38;5;124m'\u001b[39m\u001b[38;5;124mzara\u001b[39m\u001b[38;5;124m'\u001b[39m, \u001b[38;5;124m'\u001b[39m\u001b[38;5;124mage\u001b[39m\u001b[38;5;124m'\u001b[39m: \u001b[38;5;241m8\u001b[39m, \u001b[38;5;124m'\u001b[39m\u001b[38;5;124mclass\u001b[39m\u001b[38;5;124m'\u001b[39m: \u001b[38;5;124m'\u001b[39m\u001b[38;5;124mfirst\u001b[39m\u001b[38;5;124m'\u001b[39m}\n\u001b[1;32m----> 5\u001b[0m \u001b[43mdict1\u001b[49m\u001b[43m[\u001b[49m\u001b[38;5;124;43m'\u001b[39;49m\u001b[38;5;124;43mschool\u001b[39;49m\u001b[38;5;124;43m'\u001b[39;49m\u001b[43m]\u001b[49m\n",
      "\u001b[1;31mKeyError\u001b[0m: 'school'"
     ]
    }
   ],
   "source": [
    "# but normaly if key is not present then it will raise an error\n",
    "\n",
    "dict1 = {'name': 'zara', 'age': 8, 'class': 'first'}\n",
    "\n",
    "dict1['school']"
   ]
  },
  {
   "cell_type": "code",
   "execution_count": 50,
   "id": "ad6f0bb5",
   "metadata": {},
   "outputs": [],
   "source": [
    "# but with get()\n",
    "dict1 = {'name': 'zara', 'age': 8, 'class': 'first'}\n",
    "dict1.get('school')"
   ]
  },
  {
   "cell_type": "code",
   "execution_count": 51,
   "id": "914c9a83",
   "metadata": {},
   "outputs": [
    {
     "data": {
      "text/plain": [
       "{'name': 'zara', 'age': 8, 'class': 'first'}"
      ]
     },
     "execution_count": 51,
     "metadata": {},
     "output_type": "execute_result"
    }
   ],
   "source": [
    "dict1"
   ]
  },
  {
   "cell_type": "code",
   "execution_count": 52,
   "id": "1e334159",
   "metadata": {},
   "outputs": [],
   "source": [
    "# with setdefault will set that particular key with value 'None'\n",
    "\n",
    "dict1 = {'name': 'zara', 'age': 8, 'class': 'first'}\n",
    "\n",
    "dict1.setdefault(\"school\")"
   ]
  },
  {
   "cell_type": "code",
   "execution_count": 53,
   "id": "4a5048c8",
   "metadata": {},
   "outputs": [
    {
     "data": {
      "text/plain": [
       "{'name': 'zara', 'age': 8, 'class': 'first', 'school': None}"
      ]
     },
     "execution_count": 53,
     "metadata": {},
     "output_type": "execute_result"
    }
   ],
   "source": [
    "dict1"
   ]
  },
  {
   "cell_type": "code",
   "execution_count": 55,
   "id": "e79d5ba1",
   "metadata": {},
   "outputs": [
    {
     "data": {
      "text/plain": [
       "{'a': 10, 'b': 10, 'c': 10}"
      ]
     },
     "execution_count": 55,
     "metadata": {},
     "output_type": "execute_result"
    }
   ],
   "source": [
    "# fromkeys() we can make diction by giving any value or default None\n",
    "\n",
    "seq = ['a','b','c']\n",
    "\n",
    "dict1 = dict.fromkeys(seq, 10)\n",
    "dict1"
   ]
  },
  {
   "cell_type": "markdown",
   "id": "d097ad1a",
   "metadata": {},
   "source": [
    "#### Dictionary update() method"
   ]
  },
  {
   "cell_type": "code",
   "execution_count": 56,
   "id": "9e750113",
   "metadata": {},
   "outputs": [],
   "source": [
    "dict1 = {'name': 'zara', 'age': 8}\n",
    "\n",
    "dict2 = {'sex':'female'}\n",
    "\n",
    "dict1.update(dict2)\n"
   ]
  },
  {
   "cell_type": "code",
   "execution_count": 57,
   "id": "ee81171f",
   "metadata": {},
   "outputs": [
    {
     "data": {
      "text/plain": [
       "{'name': 'zara', 'age': 8, 'sex': 'female'}"
      ]
     },
     "execution_count": 57,
     "metadata": {},
     "output_type": "execute_result"
    }
   ],
   "source": [
    "dict1"
   ]
  },
  {
   "cell_type": "code",
   "execution_count": 58,
   "id": "ee37c7cd",
   "metadata": {},
   "outputs": [
    {
     "data": {
      "text/plain": [
       "{'sex': 'female'}"
      ]
     },
     "execution_count": 58,
     "metadata": {},
     "output_type": "execute_result"
    }
   ],
   "source": [
    "dict2"
   ]
  },
  {
   "cell_type": "markdown",
   "id": "8267f038",
   "metadata": {},
   "source": [
    "#### Dictionary value() method"
   ]
  },
  {
   "cell_type": "code",
   "execution_count": 59,
   "id": "2b530ab7",
   "metadata": {},
   "outputs": [
    {
     "data": {
      "text/plain": [
       "dict_values(['zara', 8, 'first'])"
      ]
     },
     "execution_count": 59,
     "metadata": {},
     "output_type": "execute_result"
    }
   ],
   "source": [
    "dict1 = {'name': 'zara', 'age': 8, 'class': 'first'}\n",
    "\n",
    "dict1.values()"
   ]
  },
  {
   "cell_type": "code",
   "execution_count": null,
   "id": "9067fd60",
   "metadata": {},
   "outputs": [],
   "source": []
  }
 ],
 "metadata": {
  "kernelspec": {
   "display_name": "Python 3 (ipykernel)",
   "language": "python",
   "name": "python3"
  },
  "language_info": {
   "codemirror_mode": {
    "name": "ipython",
    "version": 3
   },
   "file_extension": ".py",
   "mimetype": "text/x-python",
   "name": "python",
   "nbconvert_exporter": "python",
   "pygments_lexer": "ipython3",
   "version": "3.9.7"
  }
 },
 "nbformat": 4,
 "nbformat_minor": 5
}
