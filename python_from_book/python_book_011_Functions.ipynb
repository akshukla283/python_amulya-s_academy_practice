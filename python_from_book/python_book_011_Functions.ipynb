{
 "cells": [
  {
   "cell_type": "markdown",
   "id": "58ab65e0",
   "metadata": {},
   "source": [
    "### Function:\n",
    " \n",
    "* `A functionis a block of organized, resuable code that is used to perform a single related action. Function provide better modularity for our application and a high degree of code reusing.`\n",
    "\n",
    "*  function block begin with the keyword `'def'` followed by function name and `'()'`."
   ]
  },
  {
   "cell_type": "markdown",
   "id": "f3ce7490",
   "metadata": {},
   "source": [
    "**syntax:**\n",
    "\n",
    "`def functionname(parameters):\n",
    "    \"function_docstring\"\n",
    "    function_suite\n",
    "    return [expression]`\n",
    "    \n",
    "**note** :\n",
    "`By default, parameters have a positional behaviour and you need to inform them in the same order that they were defined.`"
   ]
  },
  {
   "cell_type": "code",
   "execution_count": 1,
   "id": "f66e9219",
   "metadata": {},
   "outputs": [],
   "source": [
    "# example\n",
    "\n",
    "def printme(str):\n",
    "    \"this is a passed string into this function\"\n",
    "    print(str)\n",
    "    return"
   ]
  },
  {
   "cell_type": "markdown",
   "id": "8b370754",
   "metadata": {},
   "source": [
    "#### calling a Function"
   ]
  },
  {
   "cell_type": "code",
   "execution_count": 2,
   "id": "58e5dd05",
   "metadata": {},
   "outputs": [
    {
     "name": "stdout",
     "output_type": "stream",
     "text": [
      "this is first call to the user defined function!\n"
     ]
    }
   ],
   "source": [
    "def printme(str):\n",
    "    \"this is a passed string into this function\"\n",
    "    print(str)\n",
    "    return\n",
    "\n",
    "# now we can call 'printme' function.\n",
    "\n",
    "printme(\"this is first call to the user defined function!\")"
   ]
  },
  {
   "cell_type": "code",
   "execution_count": 3,
   "id": "d5d0b764",
   "metadata": {},
   "outputs": [
    {
     "name": "stdout",
     "output_type": "stream",
     "text": [
      "Again second call to te same function\n"
     ]
    }
   ],
   "source": [
    "printme(\"Again second call to te same function\")"
   ]
  },
  {
   "cell_type": "markdown",
   "id": "2fa03526",
   "metadata": {},
   "source": [
    "### Pass by Reference vs Value\n",
    "\n",
    "`All parameters (arguments) in the Python language are passed by reference. It means if you change what a parameter refers to within a function, the change also reflects back in the calling function. for example-`"
   ]
  },
  {
   "cell_type": "code",
   "execution_count": 4,
   "id": "d72dd571",
   "metadata": {},
   "outputs": [
    {
     "name": "stdout",
     "output_type": "stream",
     "text": [
      "Value inside the function before change:  [10, 20, 30]\n",
      "Value inside the function after change:  [10, 20, 50]\n",
      "\n",
      "Value outside the function:  [10, 20, 50]\n"
     ]
    }
   ],
   "source": [
    "def changeme(mylist):\n",
    "    \"this changes a passed list into this function\"\n",
    "    print(\"Value inside the function before change: \", mylist)\n",
    "    mylist[2] = 50\n",
    "    print(\"Value inside the function after change: \",mylist)\n",
    "    return\n",
    "\n",
    "# now we can call 'changeme' function \n",
    "mylist = [10, 20, 30]\n",
    "\n",
    "changeme(mylist)\n",
    "print()\n",
    "print(\"Value outside the function: \", mylist)"
   ]
  },
  {
   "cell_type": "markdown",
   "id": "e07623eb",
   "metadata": {},
   "source": [
    "* `Here, we are maintaining reference of the passed object and appending values in the same object. Therefore, this would produce the above result.`\n",
    "\n",
    "* `There is one more example where argument is being passed by reference and reference is being overwritten inside the calling function.`"
   ]
  },
  {
   "cell_type": "code",
   "execution_count": 5,
   "id": "7ed4c8a9",
   "metadata": {},
   "outputs": [
    {
     "name": "stdout",
     "output_type": "stream",
     "text": [
      "Value inside the function:  [1, 2, 3, 4]\n",
      "\n",
      "Value outside the function:  [10, 20, 30]\n"
     ]
    }
   ],
   "source": [
    "def changeme(mylist):\n",
    "    \"this changes a passed list into this function\"\n",
    "    mylist = [1,2,3,4] # this would assi new referencen in mylist\n",
    "    print(\"Value inside the function: \", mylist)\n",
    "    \n",
    "    return\n",
    "\n",
    "# now we can call 'changeme' function \n",
    "mylist = [10, 20, 30]\n",
    "\n",
    "changeme(mylist)\n",
    "print()\n",
    "print(\"Value outside the function: \", mylist)"
   ]
  },
  {
   "cell_type": "markdown",
   "id": "71eb93f7",
   "metadata": {},
   "source": [
    "`The parameter 'mylist' is local to the function 'changeme'. Changing mylist within the function does not affect 'mylist'. The function accomplishes nothing and finally this would produces the above result.`"
   ]
  },
  {
   "cell_type": "markdown",
   "id": "b53f4492",
   "metadata": {},
   "source": [
    "### Function Arguments:\n",
    "\n",
    "We can call a function by using the following types of formal arguments- \n",
    "* `Required arguments`\n",
    "\n",
    "* `Keyword arguments`\n",
    "\n",
    "* `Default arguments`\n",
    "\n",
    "* `Variable-length arguments`\n"
   ]
  },
  {
   "cell_type": "markdown",
   "id": "576c91e9",
   "metadata": {},
   "source": [
    "#### Required Arguments\n",
    "`Required arguments are the arguments pass to a function in correct positional order. Here, the number of arguments in the function call should match exactly with the function definition.`\n",
    "\n",
    "To call the function 'printme()', we definitely need to pass one argument, otherwise it gives a 'syntax error as follows-"
   ]
  },
  {
   "cell_type": "code",
   "execution_count": 6,
   "id": "3c53d088",
   "metadata": {},
   "outputs": [
    {
     "ename": "TypeError",
     "evalue": "printme() missing 1 required positional argument: 'str'",
     "output_type": "error",
     "traceback": [
      "\u001b[1;31m---------------------------------------------------------------------------\u001b[0m",
      "\u001b[1;31mTypeError\u001b[0m                                 Traceback (most recent call last)",
      "Input \u001b[1;32mIn [6]\u001b[0m, in \u001b[0;36m<cell line: 6>\u001b[1;34m()\u001b[0m\n\u001b[0;32m      3\u001b[0m     \u001b[38;5;28mprint\u001b[39m(\u001b[38;5;28mstr\u001b[39m)\n\u001b[0;32m      4\u001b[0m     \u001b[38;5;28;01mreturn\u001b[39;00m\n\u001b[1;32m----> 6\u001b[0m \u001b[43mprintme\u001b[49m\u001b[43m(\u001b[49m\u001b[43m)\u001b[49m\n",
      "\u001b[1;31mTypeError\u001b[0m: printme() missing 1 required positional argument: 'str'"
     ]
    }
   ],
   "source": [
    "def printme(str):\n",
    "    \"This prints a passed string into this function\"\n",
    "    print(str)\n",
    "    return\n",
    "\n",
    "printme()"
   ]
  },
  {
   "cell_type": "markdown",
   "id": "8f9f79ba",
   "metadata": {},
   "source": [
    "### Keyword Arguments\n",
    "\n",
    "`Keyword Argument are related to the function calls. When we use keyword arguments in a function call, the caller identifies the arguments by the parameter name.`\n",
    "\n",
    "This allows us to skip arguments or place them out of order because the Python interpreter is able to use the keywords provided to match the values with parameters. We can also make keyword calls to the 'printme()' function in the following ways-"
   ]
  },
  {
   "cell_type": "code",
   "execution_count": 7,
   "id": "1c6ecb20",
   "metadata": {},
   "outputs": [
    {
     "name": "stdout",
     "output_type": "stream",
     "text": [
      "My string\n"
     ]
    }
   ],
   "source": [
    "def printme(str):\n",
    "    \"this prints a passed string into this function\"\n",
    "    print(str)\n",
    "    return \n",
    "\n",
    "# Now we can call 'printme()' function\n",
    "\n",
    "printme(str = \"My string\")"
   ]
  },
  {
   "cell_type": "markdown",
   "id": "3740c460",
   "metadata": {},
   "source": [
    "Now the following example gives a clearer picture. Note that the order of parameters does not matter in keyword argument."
   ]
  },
  {
   "cell_type": "code",
   "execution_count": 1,
   "id": "515f2962",
   "metadata": {},
   "outputs": [
    {
     "name": "stdout",
     "output_type": "stream",
     "text": [
      "Name:  miki\n",
      "Age:  50\n"
     ]
    }
   ],
   "source": [
    "def printinfo(name, age):\n",
    "    \"this prints a passed info into this function\"\n",
    "    print(\"Name: \", name)\n",
    "    print(\"Age: \", age)\n",
    "    return\n",
    "\n",
    "# now we can call printinfo fucntion\n",
    "\n",
    "printinfo(age = 50, name = \"miki\")\n"
   ]
  },
  {
   "cell_type": "markdown",
   "id": "9492e6bf",
   "metadata": {},
   "source": [
    "we can see that order of parameters does not matter."
   ]
  },
  {
   "cell_type": "markdown",
   "id": "bda52f68",
   "metadata": {},
   "source": [
    "### Default Arguments\n",
    "\n",
    "`A default argument is an argument that assumes a default value if a value is not provided in the the fuction call for that argument. The following example gives an idea on default arguments, it prints default age if it is not passed.`\n"
   ]
  },
  {
   "cell_type": "code",
   "execution_count": 3,
   "id": "82e0f1ef",
   "metadata": {},
   "outputs": [
    {
     "name": "stdout",
     "output_type": "stream",
     "text": [
      "Name:  miki\n",
      "Age:  50\n",
      "\n",
      "Name:  miki\n",
      "Age:  35\n"
     ]
    }
   ],
   "source": [
    "def printinfo(name, age = 35):\n",
    "    \"this prints a passed info into this function\"\n",
    "    print(\"Name: \", name)\n",
    "    print(\"Age: \", age)\n",
    "    return \n",
    "\n",
    "# now you call 'printinfo()' function\n",
    "\n",
    "printinfo(age= 50, name = 'miki')\n",
    "print()\n",
    "printinfo(name = 'miki')"
   ]
  },
  {
   "cell_type": "markdown",
   "id": "d57f33d2",
   "metadata": {},
   "source": [
    "### Variable-lentgh Arguments\n",
    "\n",
    "`You may need to process a function for more arguments that you specified while defining the function. These arguments are called 'variable-length' arguments and are not named in funtion definition, unlike required and default arguments.`\n",
    "\n",
    "**Syntax**\n",
    "\n",
    "`def functionname([formal_args,] *var_args_tuple):\n",
    "    \"fucntion_docstring\"\n",
    "    function_suite\n",
    "    return [expression]`\n",
    "    \n",
    "* An `astrisk(*)` is placed before the variable name that holds the values of all nonkeyword variable arguments. This tuple remains empty if no arguments are specified during function call. Following is a simple example- "
   ]
  },
  {
   "cell_type": "code",
   "execution_count": 4,
   "id": "b17f847c",
   "metadata": {},
   "outputs": [
    {
     "name": "stdout",
     "output_type": "stream",
     "text": [
      "Output is : \n",
      "10\n"
     ]
    }
   ],
   "source": [
    "def printinfo(arg1, *vartuple):\n",
    "    \"This prints a variable passed arguments\"\n",
    "    print(\"Output is : \")\n",
    "    print(arg1)\n",
    "    for var in vartuple:\n",
    "        print(var)\n",
    "    return\n",
    "\n",
    "# now we call 'printinfo()' function\n",
    "\n",
    "printinfo(10)"
   ]
  },
  {
   "cell_type": "code",
   "execution_count": 2,
   "id": "9267da35",
   "metadata": {},
   "outputs": [
    {
     "name": "stdout",
     "output_type": "stream",
     "text": [
      "Output is : \n",
      "60\n",
      "70 50 "
     ]
    }
   ],
   "source": [
    "def printinfo(arg1, *vartuple):\n",
    "    \"This prints a variable passed arguments\"\n",
    "    print(\"Output is : \")\n",
    "    print(arg1)\n",
    "    for var in vartuple:\n",
    "        print(var, end = \" \") # we hold control in same line to just recognize the output of this\n",
    "    return\n",
    "\n",
    "# now we call 'printinfo()' function\n",
    "\n",
    "\n",
    "printinfo(60, 70, 50)"
   ]
  },
  {
   "cell_type": "code",
   "execution_count": 7,
   "id": "90d8a395",
   "metadata": {},
   "outputs": [
    {
     "name": "stdout",
     "output_type": "stream",
     "text": [
      "first == Geeks\n",
      "mid == for\n",
      "last == Geeks\n"
     ]
    }
   ],
   "source": [
    "# Python program to illustrate \n",
    "# *kwargs for variable number of keyword arguments\n",
    " \n",
    "def myFun(**kwargs):\n",
    "    for key, value in kwargs.items():\n",
    "        print (\"%s == %s\" %(key, value))\n",
    "        \n",
    "        \n",
    "    return\n",
    "\n",
    "\n",
    "myFun(first ='Geeks', mid ='for', last='Geeks')   "
   ]
  },
  {
   "cell_type": "code",
   "execution_count": 8,
   "id": "4e4998c7",
   "metadata": {},
   "outputs": [
    {
     "name": "stdout",
     "output_type": "stream",
     "text": [
      "args:  ('geeks', 'for', 'geeks')\n",
      "kwargs:  {'first': 'Geeks', 'mid': 'for', 'last': 'Geeks'}\n"
     ]
    }
   ],
   "source": [
    "def myFun(*args,**kwargs):\n",
    "    print(\"args: \", args)\n",
    "    print(\"kwargs: \", kwargs)\n",
    "    \n",
    "    return\n",
    "\n",
    "\n",
    " \n",
    "# Now we can use both *args ,**kwargs\n",
    "# to pass arguments to this function :\n",
    "myFun('geeks','for','geeks',first=\"Geeks\",mid=\"for\",last=\"Geeks\")"
   ]
  },
  {
   "cell_type": "markdown",
   "id": "d253a62b",
   "metadata": {},
   "source": [
    "#### None: \n",
    "* ` *args argumnet will be treated as tuple inside a function and **kwargs will be treated as dictionary inside the function.`\n",
    "\n",
    "* `if *args and **kwargs are used in same function then '*args' must be define before '**kwargs' and values should also pass in same order otherwise it will return error.`"
   ]
  },
  {
   "cell_type": "code",
   "execution_count": 9,
   "id": "b87fcb05",
   "metadata": {},
   "outputs": [
    {
     "ename": "SyntaxError",
     "evalue": "invalid syntax (557905156.py, line 1)",
     "output_type": "error",
     "traceback": [
      "\u001b[1;36m  Input \u001b[1;32mIn [9]\u001b[1;36m\u001b[0m\n\u001b[1;33m    def myFun(**kwargs, *args):\u001b[0m\n\u001b[1;37m                        ^\u001b[0m\n\u001b[1;31mSyntaxError\u001b[0m\u001b[1;31m:\u001b[0m invalid syntax\n"
     ]
    }
   ],
   "source": [
    "def myFun(**kwargs, *args):\n",
    "    print(\"args: \", args)\n",
    "    print(\"kwargs: \", kwargs)\n",
    " \n",
    " \n",
    "# Now we can use both *args ,**kwargs\n",
    "# to pass arguments to this function :\n",
    "myFun(first=\"Geeks\",mid=\"for\",last=\"Geeks\", 'geeks','for','geeks')"
   ]
  },
  {
   "cell_type": "markdown",
   "id": "1ecb152a",
   "metadata": {},
   "source": [
    "### The Anonymous Function\n",
    "\n",
    "These funciton called anonymous because they are not declared in the stndard manner by using the 'def' keyword. We can use 'lambda' keyword to create small anonymous functions.\n",
    "\n",
    "**Syntax**\n",
    "\n",
    "`lambda[arg1[,arg2[,arg3...]]]: expression`\n"
   ]
  },
  {
   "cell_type": "code",
   "execution_count": 10,
   "id": "09db7c1b",
   "metadata": {},
   "outputs": [
    {
     "name": "stdout",
     "output_type": "stream",
     "text": [
      "Value of total :  30\n",
      "Value of total :  40\n"
     ]
    }
   ],
   "source": [
    "sum = lambda arg1, arg2 : arg1 + arg2\n",
    "\n",
    "# now we can call sum as function\n",
    "\n",
    "print(\"Value of total : \", sum(10, 20))\n",
    "print(\"Value of total : \", sum(20, 20))"
   ]
  },
  {
   "cell_type": "markdown",
   "id": "17a655a3",
   "metadata": {},
   "source": [
    "### The Return Statement\n",
    "`The statement return [expression] exist a function, optionally passing back an expression to the caller. A return statement with no arguments is the same as return None.`\n",
    "\n",
    "* All the example given above are not returning any value. We can return a value from a untion as follow-"
   ]
  },
  {
   "cell_type": "code",
   "execution_count": 11,
   "id": "eab8aa03",
   "metadata": {},
   "outputs": [
    {
     "name": "stdout",
     "output_type": "stream",
     "text": [
      "Inside the function :  30\n",
      "Outside the function :  30\n"
     ]
    }
   ],
   "source": [
    "\n",
    "def sum(arg1, arg2):\n",
    "    \"Add both the parameters and return them.\"\n",
    "    total = arg1 + arg2\n",
    "    print(\"Inside the function : \", total)\n",
    "    return total\n",
    "\n",
    "# now we ca call sum function\n",
    "\n",
    "total = sum(10, 20)\n",
    "print(\"Outside the function : \", total)\n",
    "    "
   ]
  },
  {
   "cell_type": "markdown",
   "id": "9af61d27",
   "metadata": {},
   "source": [
    "### Scope of Variables\n",
    "\n",
    "All variable in a program may not be accessible at all location in that program. This depend on where you have declared a variable.\n",
    "\n",
    "\n",
    "The scope of a variable determines the portion of the program where we can access a particular identifier. There are two basic scopes of variables in python -\n",
    "\n",
    "* Global variable\n",
    "* Local variable\n",
    "\n",
    "### Global vs Local Variables\n",
    "\n",
    "`Variable that are defined inside a function body have a local scope, and those defined outside have global scope.`\n",
    "\n",
    "This means that local variable can be accessed only inside the function in which they are declared, whereas global variable can be accessed throughout the program body by all funtions. when we call a function, the variable declared inside it are brought into scope. Following is a simple example-"
   ]
  },
  {
   "cell_type": "code",
   "execution_count": 2,
   "id": "225e45d6",
   "metadata": {},
   "outputs": [
    {
     "name": "stdout",
     "output_type": "stream",
     "text": [
      "Inside the function local total :  30\n",
      "Outside the funtion global total :  0\n"
     ]
    }
   ],
   "source": [
    "total = 0 # this is global variable\n",
    "def sum(arg1, arg2):\n",
    "    \"Add the both parameters and return them\"\n",
    "    total = arg1 + arg2 # here total is local variable\n",
    "    print(\"Inside the function local total : \", total )\n",
    "    \n",
    "    return total\n",
    "\n",
    "# now we can call sum funciton\n",
    "sum(10, 20)\n",
    "print(\"Outside the funtion global total : \", total)"
   ]
  },
  {
   "cell_type": "code",
   "execution_count": 1,
   "id": "2747b7ee",
   "metadata": {},
   "outputs": [
    {
     "name": "stdout",
     "output_type": "stream",
     "text": [
      "Hello,  Ankit\n"
     ]
    }
   ],
   "source": [
    "def hello(name):\n",
    "    \n",
    "    print(\"Hello, \", name)\n",
    "    return\n",
    "\n",
    "\n",
    "func = hello\n",
    "\n",
    "func(\"Ankit\")"
   ]
  },
  {
   "cell_type": "code",
   "execution_count": 2,
   "id": "ab613d8b",
   "metadata": {},
   "outputs": [
    {
     "name": "stdout",
     "output_type": "stream",
     "text": [
      "Hello,  Ankit\n"
     ]
    }
   ],
   "source": [
    "func2 = hello(\"Ankit\")"
   ]
  },
  {
   "cell_type": "code",
   "execution_count": 5,
   "id": "02abda70",
   "metadata": {},
   "outputs": [
    {
     "ename": "TypeError",
     "evalue": "'NoneType' object is not callable",
     "output_type": "error",
     "traceback": [
      "\u001b[1;31m---------------------------------------------------------------------------\u001b[0m",
      "\u001b[1;31mTypeError\u001b[0m                                 Traceback (most recent call last)",
      "Input \u001b[1;32mIn [5]\u001b[0m, in \u001b[0;36m<cell line: 1>\u001b[1;34m()\u001b[0m\n\u001b[1;32m----> 1\u001b[0m \u001b[43mfunc2\u001b[49m\u001b[43m(\u001b[49m\u001b[38;5;124;43m\"\u001b[39;49m\u001b[38;5;124;43mZara\u001b[39;49m\u001b[38;5;124;43m\"\u001b[39;49m\u001b[43m)\u001b[49m\n",
      "\u001b[1;31mTypeError\u001b[0m: 'NoneType' object is not callable"
     ]
    }
   ],
   "source": []
  },
  {
   "cell_type": "code",
   "execution_count": 8,
   "id": "72b26308",
   "metadata": {},
   "outputs": [
    {
     "data": {
      "text/plain": [
       "('Hello, ', 'Ankit')"
      ]
     },
     "execution_count": 8,
     "metadata": {},
     "output_type": "execute_result"
    }
   ],
   "source": [
    "def hello(name):\n",
    "    \n",
    "    return (\"Hello, \", name)\n",
    "\n",
    "hello(\"Ankit\")"
   ]
  },
  {
   "cell_type": "code",
   "execution_count": 9,
   "id": "ab25638a",
   "metadata": {},
   "outputs": [
    {
     "name": "stdout",
     "output_type": "stream",
     "text": [
      "('Hello, ', 'Ankit')\n"
     ]
    }
   ],
   "source": [
    "print(hello(\"Ankit\"))"
   ]
  },
  {
   "cell_type": "code",
   "execution_count": 11,
   "id": "ebfec6c8",
   "metadata": {},
   "outputs": [],
   "source": [
    "hello2 = hello"
   ]
  },
  {
   "cell_type": "code",
   "execution_count": 12,
   "id": "4309dbd2",
   "metadata": {},
   "outputs": [
    {
     "data": {
      "text/plain": [
       "('Hello, ', 'David')"
      ]
     },
     "execution_count": 12,
     "metadata": {},
     "output_type": "execute_result"
    }
   ],
   "source": [
    "hello2(\"David\")"
   ]
  },
  {
   "cell_type": "code",
   "execution_count": 13,
   "id": "89aca39e",
   "metadata": {},
   "outputs": [
    {
     "name": "stdout",
     "output_type": "stream",
     "text": [
      "('Hello, ', 'David')\n"
     ]
    }
   ],
   "source": [
    "print(hello2(\"David\"))"
   ]
  },
  {
   "cell_type": "code",
   "execution_count": null,
   "id": "5383876d",
   "metadata": {},
   "outputs": [],
   "source": []
  }
 ],
 "metadata": {
  "kernelspec": {
   "display_name": "Python 3 (ipykernel)",
   "language": "python",
   "name": "python3"
  },
  "language_info": {
   "codemirror_mode": {
    "name": "ipython",
    "version": 3
   },
   "file_extension": ".py",
   "mimetype": "text/x-python",
   "name": "python",
   "nbconvert_exporter": "python",
   "pygments_lexer": "ipython3",
   "version": "3.9.7"
  }
 },
 "nbformat": 4,
 "nbformat_minor": 5
}
