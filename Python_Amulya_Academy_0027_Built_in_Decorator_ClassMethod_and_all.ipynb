{
 "cells": [
  {
   "cell_type": "markdown",
   "id": "17e6e0d0",
   "metadata": {},
   "source": [
    "### Python Built-in Decorators\n",
    "\n",
    "1.  Property\n",
    "\n",
    "2.  Classmethod\n",
    "\n",
    "3.  Statticmethod\n",
    "\n",
    "\n",
    "\n",
    "#### Property\n",
    "\n",
    "Python programming provides us with a built-in `@property` decorator which makes usage of getter and setters much easier in Object-Oriented Programming.\n",
    "\n",
    "Before going into details on what `@property` decorator is, let us first build an intuition on why it would be needed in the first place."
   ]
  },
  {
   "cell_type": "code",
   "execution_count": 1,
   "id": "0e429ccc",
   "metadata": {},
   "outputs": [
    {
     "name": "stdout",
     "output_type": "stream",
     "text": [
      "Name:  David\n",
      "Grade:  B\n",
      "Messge :  David got gradeB\n"
     ]
    }
   ],
   "source": [
    "# let's take a simple class\n",
    "\n",
    "class Student:\n",
    "    def __init__(self, name, grade):\n",
    "        self.name = name \n",
    "        self.grade = grade\n",
    "        self.msg = self.name + \" got grade\" + self.grade\n",
    "        \n",
    "\n",
    "stud1 = Student(\"David\", \"B\")\n",
    "\n",
    "print(\"Name: \", stud1.name) # we didn't use paranthesis becasue attributes don't need only function \n",
    "print(\"Grade: \", stud1.grade)\n",
    "print(\"Messge : \", stud1.msg)"
   ]
  },
  {
   "cell_type": "code",
   "execution_count": 3,
   "id": "fb2d6a65",
   "metadata": {},
   "outputs": [
    {
     "name": "stdout",
     "output_type": "stream",
     "text": [
      "Name:  David\n",
      "Grade:  A\n",
      "Messge :  David got grade B\n"
     ]
    }
   ],
   "source": [
    "# let's take a simple class\n",
    "# Let's update the grade \"B\" to grade \"A\"\n",
    "class Student:\n",
    "    def __init__(self, name, grade):\n",
    "        self.name = name \n",
    "        self.grade = grade\n",
    "        self.msg = self.name + \" got grade \" + self.grade\n",
    "        \n",
    "\n",
    "stud1 = Student(\"David\", \"B\")\n",
    "stud1.grade = \"A\"\n",
    "print(\"Name: \", stud1.name) # we didn't use paranthesis becasue attributes don't need only function \n",
    "print(\"Grade: \", stud1.grade)\n",
    "print(\"Messge : \", stud1.msg)"
   ]
  },
  {
   "cell_type": "markdown",
   "id": "4928c13a",
   "metadata": {},
   "source": [
    "`As we can see that Grade got update but message didn't so we need to fix it, we will make that from attribute to Method.`"
   ]
  },
  {
   "cell_type": "code",
   "execution_count": 5,
   "id": "8aeccfb7",
   "metadata": {},
   "outputs": [
    {
     "name": "stdout",
     "output_type": "stream",
     "text": [
      "Name:  David\n",
      "Grade:  A\n",
      "Messge :  David got grade A\n"
     ]
    }
   ],
   "source": [
    "# let's take a simple class\n",
    "# Let's update the grade \"B\" to grade \"A\" and make msg attribute to method\n",
    "class Student:\n",
    "    def __init__(self, name, grade):\n",
    "        self.name = name \n",
    "        self.grade = grade\n",
    "        \n",
    "    def msg(self):\n",
    "        \n",
    "        return self.name + \" got grade \" + self.grade\n",
    "        \n",
    "\n",
    "stud1 = Student(\"David\", \"B\")\n",
    "stud1.grade = \"A\"\n",
    "print(\"Name: \", stud1.name) # we didn't use paranthesis becasue attributes don't need only method \n",
    "print(\"Grade: \", stud1.grade)\n",
    "print(\"Messge : \", stud1.msg()) # now msg has become Method so use ()\n"
   ]
  },
  {
   "cell_type": "code",
   "execution_count": 6,
   "id": "5d2dd878",
   "metadata": {},
   "outputs": [
    {
     "name": "stdout",
     "output_type": "stream",
     "text": [
      "Name:  David\n",
      "Grade:  A\n",
      "Messge :  <bound method Student.msg of <__main__.Student object at 0x000001FCAD4D74F0>>\n"
     ]
    }
   ],
   "source": [
    "# let's take a simple class\n",
    "# Let's update the grade \"B\" to grade \"A\" and make msg attribute to method\n",
    "class Student:\n",
    "    def __init__(self, name, grade):\n",
    "        self.name = name \n",
    "        self.grade = grade\n",
    "        \n",
    "    def msg(self):\n",
    "        \n",
    "        return self.name + \" got grade \" + self.grade\n",
    "        \n",
    "\n",
    "stud1 = Student(\"David\", \"B\")\n",
    "stud1.grade = \"A\"\n",
    "print(\"Name: \", stud1.name) # we didn't use paranthesis becasue attributes don't need only method \n",
    "print(\"Grade: \", stud1.grade)\n",
    "print(\"Messge : \", stud1.msg)"
   ]
  },
  {
   "cell_type": "markdown",
   "id": "e2f0c1c4",
   "metadata": {},
   "source": [
    "**Note:**\n",
    "\n",
    "But it is we know that 'msg' become method, imagine that many clients or persons are using this class the same class in in their program or projects and their program contains 1000s of lines then wherever they used this message attribute now they need to convert it to method okay that's not the easy task and clients won't be happy with that, it is the extra work right?.If they didn't change that then we will get the output like this `Messge :  <bound method Student.msg of <__main__.Student object at 0x000001FCAD4D74F0>>` , so we need to change the Class otherwise we won't get the proper output but we don't want to make our client unhappy we don't want to burden them with the changes right?. That time what can we do , use the `property decorator` which will allow us to change the class without affecting the client code."
   ]
  },
  {
   "cell_type": "code",
   "execution_count": 7,
   "id": "8457f6c3",
   "metadata": {},
   "outputs": [
    {
     "name": "stdout",
     "output_type": "stream",
     "text": [
      "Name:  David\n",
      "Grade:  A\n",
      "Messge :  David got grade A\n"
     ]
    }
   ],
   "source": [
    "class Student:\n",
    "    def __init__(self, name, grade):\n",
    "        self.name = name \n",
    "        self.grade = grade\n",
    "    @property    \n",
    "    def msg(self):\n",
    "        \n",
    "        return self.name + \" got grade \" + self.grade\n",
    "        \n",
    "\n",
    "stud1 = Student(\"David\", \"B\")\n",
    "stud1.grade = \"A\"\n",
    "print(\"Name: \", stud1.name) # we didn't use paranthesis becasue attributes don't need only method \n",
    "print(\"Grade: \", stud1.grade)\n",
    "print(\"Messge : \", stud1.msg) # here msg is method but we didn't give () cose we used @property oper."
   ]
  },
  {
   "cell_type": "code",
   "execution_count": 8,
   "id": "c909d590",
   "metadata": {},
   "outputs": [
    {
     "ename": "AttributeError",
     "evalue": "can't set attribute",
     "output_type": "error",
     "traceback": [
      "\u001b[1;31m---------------------------------------------------------------------------\u001b[0m",
      "\u001b[1;31mAttributeError\u001b[0m                            Traceback (most recent call last)",
      "Input \u001b[1;32mIn [8]\u001b[0m, in \u001b[0;36m<cell line: 14>\u001b[1;34m()\u001b[0m\n\u001b[0;32m     10\u001b[0m         \u001b[38;5;28;01mreturn\u001b[39;00m \u001b[38;5;28mself\u001b[39m\u001b[38;5;241m.\u001b[39mname \u001b[38;5;241m+\u001b[39m \u001b[38;5;124m\"\u001b[39m\u001b[38;5;124m got grade \u001b[39m\u001b[38;5;124m\"\u001b[39m \u001b[38;5;241m+\u001b[39m \u001b[38;5;28mself\u001b[39m\u001b[38;5;241m.\u001b[39mgrade\n\u001b[0;32m     13\u001b[0m stud1 \u001b[38;5;241m=\u001b[39m Student(\u001b[38;5;124m\"\u001b[39m\u001b[38;5;124mDavid\u001b[39m\u001b[38;5;124m\"\u001b[39m, \u001b[38;5;124m\"\u001b[39m\u001b[38;5;124mB\u001b[39m\u001b[38;5;124m\"\u001b[39m)\n\u001b[1;32m---> 14\u001b[0m stud1\u001b[38;5;241m.\u001b[39mmsg \u001b[38;5;241m=\u001b[39m \u001b[38;5;124m\"\u001b[39m\u001b[38;5;124mDavid Got Grade B\u001b[39m\u001b[38;5;124m\"\u001b[39m\n\u001b[0;32m     15\u001b[0m \u001b[38;5;28mprint\u001b[39m(\u001b[38;5;124m\"\u001b[39m\u001b[38;5;124mName: \u001b[39m\u001b[38;5;124m\"\u001b[39m, stud1\u001b[38;5;241m.\u001b[39mname)  \n\u001b[0;32m     16\u001b[0m \u001b[38;5;28mprint\u001b[39m(\u001b[38;5;124m\"\u001b[39m\u001b[38;5;124mGrade: \u001b[39m\u001b[38;5;124m\"\u001b[39m, stud1\u001b[38;5;241m.\u001b[39mgrade)\n",
      "\u001b[1;31mAttributeError\u001b[0m: can't set attribute"
     ]
    }
   ],
   "source": [
    "# let's try to set attribute using @property \n",
    "\n",
    "class Student:\n",
    "    def __init__(self, name, grade):\n",
    "        self.name = name \n",
    "        self.grade = grade\n",
    "    @property    \n",
    "    def msg(self):\n",
    "        \n",
    "        return self.name + \" got grade \" + self.grade\n",
    "        \n",
    "\n",
    "stud1 = Student(\"David\", \"B\")\n",
    "stud1.msg = \"John Got Grade B\"\n",
    "print(\"Name: \", stud1.name)  \n",
    "print(\"Grade: \", stud1.grade)\n",
    "print(\"Messge : \", stud1.msg)"
   ]
  },
  {
   "cell_type": "markdown",
   "id": "2db4dae1",
   "metadata": {},
   "source": [
    "As we can see we can't this, now our client came to us, he want to do this changes and he is asking us to do changes in our class, so we want to value our clients demand so we need to change inour class okay."
   ]
  },
  {
   "cell_type": "code",
   "execution_count": 11,
   "id": "4b3a630c",
   "metadata": {},
   "outputs": [
    {
     "name": "stdout",
     "output_type": "stream",
     "text": [
      "['john', 'Got', 'Grade', 'A']\n",
      "Name:  john\n",
      "Grade:  A\n",
      "Messge :  john got grade A\n"
     ]
    }
   ],
   "source": [
    "# let's remove @property method and check \n",
    "class Student:\n",
    "    def __init__(self, name, grade):\n",
    "        self.name = name \n",
    "        self.grade = grade\n",
    "    \n",
    "    def msg(self):\n",
    "        \n",
    "        return self.name + \" got grade \" + self.grade\n",
    "    def setter(self, msg):\n",
    "        sent = msg.split(\" \")\n",
    "        print(sent)\n",
    "        self.name = sent[0]\n",
    "        self.grade = sent[-1]\n",
    "        \n",
    "\n",
    "stud1 = Student(\"David\", \"B\")\n",
    "\n",
    "stud1.setter(\"john Got Grade A\") # we need to pass message in setter Method.\n",
    "#stud1.msg = \"john Got Grade A\"\n",
    "print(\"Name: \", stud1.name)  \n",
    "\n",
    "print(\"Grade: \", stud1.grade)\n",
    "print(\"Messge : \", stud1.msg())"
   ]
  },
  {
   "cell_type": "code",
   "execution_count": 13,
   "id": "6aaedc92",
   "metadata": {},
   "outputs": [
    {
     "name": "stdout",
     "output_type": "stream",
     "text": [
      "['john', 'Got', 'Grade', 'A']\n",
      "Name:  john\n",
      "Grade:  A\n",
      "Messge :  john got grade A\n"
     ]
    }
   ],
   "source": [
    "### But client want pass message like stud1.msg = \"John got grade A\" so we will value our client \n",
    "# provide the same method using `setter`\n",
    "\n",
    "class Student:\n",
    "    def __init__(self, name, grade):\n",
    "        self.name = name \n",
    "        self.grade = grade\n",
    "    \n",
    "    @property\n",
    "    def msg(self):\n",
    "        return self.name + \" got grade \" + self.grade\n",
    "    @msg.setter\n",
    "    def msg(self, msg):\n",
    "        sent = msg.split(\" \")\n",
    "        print(sent)\n",
    "        self.name = sent[0]\n",
    "        self.grade = sent[-1]\n",
    "        \n",
    "\n",
    "stud1 = Student(\"David\", \"B\")\n",
    "\n",
    "# stud1.setter(\"john Got Grade A\") # we need to pass message in setter Method.\n",
    "stud1.msg = \"john Got Grade A\"\n",
    "print(\"Name: \", stud1.name)  \n",
    "print(\"Grade: \", stud1.grade)\n",
    "print(\"Messge : \", stud1.msg)"
   ]
  },
  {
   "cell_type": "code",
   "execution_count": 15,
   "id": "d3bcccef",
   "metadata": {},
   "outputs": [
    {
     "name": "stdout",
     "output_type": "stream",
     "text": [
      "400\n",
      "66.66666666666666 %\n"
     ]
    }
   ],
   "source": [
    "class Student:\n",
    "    \n",
    "    def __init__(self, marks):\n",
    "        self.marks = marks\n",
    "    def percent(self):\n",
    "        return (self.marks/600)* 100\n",
    "    \n",
    "s = Student(400)\n",
    "print(s.marks)\n",
    "print(s.percent(), \"%\")"
   ]
  },
  {
   "cell_type": "code",
   "execution_count": 16,
   "id": "99cbb186",
   "metadata": {},
   "outputs": [
    {
     "name": "stdout",
     "output_type": "stream",
     "text": [
      "500\n",
      "83.33333333333334 %\n"
     ]
    }
   ],
   "source": [
    "class Student:\n",
    "    \n",
    "    def __init__(self, marks):\n",
    "        self.marks = marks\n",
    "    def percent(self):\n",
    "        return (self.marks/600)* 100\n",
    "    \n",
    "s = Student(400)\n",
    "s.marks = 500  # here client are allowed to direct change the data \n",
    "print(s.marks)\n",
    "print(s.percent(), \"%\")"
   ]
  },
  {
   "cell_type": "code",
   "execution_count": 18,
   "id": "975bb210",
   "metadata": {},
   "outputs": [
    {
     "name": "stdout",
     "output_type": "stream",
     "text": [
      "500\n",
      "83.33333333333334 %\n"
     ]
    }
   ],
   "source": [
    "## make marks private \n",
    "\n",
    "class Student:\n",
    "    \n",
    "    def __init__(self, marks):\n",
    "        self.__marks = marks\n",
    "    def percent(self):\n",
    "        return (self.__marks/600)* 100  # here we need to take self.__mark\n",
    "    def setter(self, value):\n",
    "        self.__marks = value\n",
    "    def getter(self):\n",
    "        return self.__marks\n",
    "    \n",
    "s = Student(400)\n",
    "#s.marks = 500   # no need to access mark attribute \n",
    "s.setter(500)\n",
    "print(s.getter())\n",
    "print(s.percent(), \"%\")\n",
    "\n",
    "# but client demand previous method so what to do "
   ]
  },
  {
   "cell_type": "code",
   "execution_count": 20,
   "id": "8e9b0400",
   "metadata": {},
   "outputs": [
    {
     "name": "stdout",
     "output_type": "stream",
     "text": [
      "600\n",
      "100.0 %\n"
     ]
    }
   ],
   "source": [
    "class Student:\n",
    "    \n",
    "    def __init__(self, marks):\n",
    "        self.__marks = marks\n",
    "    def percent(self):\n",
    "        return (self.__marks/600)* 100  \n",
    "    @property\n",
    "    def marks(self):          # note attribute and method name should be same \n",
    "        return self.__marks\n",
    "    \n",
    "    @marks.setter\n",
    "    def marks(self, value):\n",
    "        self.__marks = value\n",
    "   \n",
    "    \n",
    "s = Student(400)\n",
    "s.marks = 600   \n",
    "print(s.marks)\n",
    "print(s.percent(), \"%\")\n"
   ]
  },
  {
   "cell_type": "code",
   "execution_count": 22,
   "id": "9395f569",
   "metadata": {},
   "outputs": [
    {
     "name": "stdout",
     "output_type": "stream",
     "text": [
      "setting value:  600\n",
      "getting value:  600\n",
      "100.0 %\n"
     ]
    }
   ],
   "source": [
    "# setter \n",
    "class Student:\n",
    "    \n",
    "    def __init__(self, marks):\n",
    "        self.__marks = marks\n",
    "    def percent(self):\n",
    "        return (self.__marks/600)* 100  \n",
    "    @property\n",
    "    def marks(self): # this one is getter\n",
    "        print(\"getting value: \", end=\" \")\n",
    "        return self.__marks\n",
    "    \n",
    "    @marks.setter\n",
    "    def marks(self, value): # this one is setter\n",
    "        print(\"setting value: \", value)\n",
    "        self.__marks = value\n",
    "   \n",
    "    \n",
    "s = Student(400)\n",
    "s.marks = 600   \n",
    "print(s.marks)\n",
    "print(s.percent(), \"%\")\n"
   ]
  },
  {
   "cell_type": "code",
   "execution_count": 24,
   "id": "f59b5352",
   "metadata": {},
   "outputs": [
    {
     "name": "stdout",
     "output_type": "stream",
     "text": [
      "Can't set  value stick to previous value! \n",
      "getting value:  400\n",
      "66.66666666666666 %\n"
     ]
    }
   ],
   "source": [
    "# set the marks limit \n",
    "\n",
    "class Student:\n",
    "    \n",
    "    def __init__(self, marks):\n",
    "        self.__marks = marks\n",
    "    def percent(self):\n",
    "        return (self.__marks/600)* 100  \n",
    "    @property\n",
    "    def marks(self): # this one is getter\n",
    "        print(\"getting value: \", end=\" \")\n",
    "        return self.__marks\n",
    "    \n",
    "    @marks.setter\n",
    "    def marks(self, value):\n",
    "        if value <0 or value > 600:\n",
    "            print(\"Can't set  value stick to previous value! \")\n",
    "        else:\n",
    "            print(\"setting value: \", value)\n",
    "            self.__marks = value\n",
    "   \n",
    "    \n",
    "s = Student(400)\n",
    "s.marks = 602   \n",
    "print(s.marks)\n",
    "print(s.percent(), \"%\")\n",
    "# now limit has set now"
   ]
  },
  {
   "cell_type": "code",
   "execution_count": 28,
   "id": "85a269d8",
   "metadata": {},
   "outputs": [
    {
     "name": "stdout",
     "output_type": "stream",
     "text": [
      "setting value:  60\n",
      "getting value:  "
     ]
    },
    {
     "ename": "AttributeError",
     "evalue": "'Student' object has no attribute '_Student__marks'",
     "output_type": "error",
     "traceback": [
      "\u001b[1;31m---------------------------------------------------------------------------\u001b[0m",
      "\u001b[1;31mAttributeError\u001b[0m                            Traceback (most recent call last)",
      "Input \u001b[1;32mIn [28]\u001b[0m, in \u001b[0;36m<cell line: 28>\u001b[1;34m()\u001b[0m\n\u001b[0;32m     26\u001b[0m s\u001b[38;5;241m.\u001b[39mmarks \u001b[38;5;241m=\u001b[39m \u001b[38;5;241m60\u001b[39m   \n\u001b[0;32m     27\u001b[0m \u001b[38;5;28;01mdel\u001b[39;00m s\u001b[38;5;241m.\u001b[39mmarks\n\u001b[1;32m---> 28\u001b[0m \u001b[38;5;28mprint\u001b[39m(\u001b[43ms\u001b[49m\u001b[38;5;241;43m.\u001b[39;49m\u001b[43mmarks\u001b[49m)\n\u001b[0;32m     29\u001b[0m \u001b[38;5;28mprint\u001b[39m(s\u001b[38;5;241m.\u001b[39mpercent(), \u001b[38;5;124m\"\u001b[39m\u001b[38;5;124m%\u001b[39m\u001b[38;5;124m\"\u001b[39m)\n",
      "Input \u001b[1;32mIn [28]\u001b[0m, in \u001b[0;36mStudent.marks\u001b[1;34m(self)\u001b[0m\n\u001b[0;32m      7\u001b[0m \u001b[38;5;129m@property\u001b[39m\n\u001b[0;32m      8\u001b[0m \u001b[38;5;28;01mdef\u001b[39;00m \u001b[38;5;21mmarks\u001b[39m(\u001b[38;5;28mself\u001b[39m): \u001b[38;5;66;03m# this one is getter\u001b[39;00m\n\u001b[0;32m      9\u001b[0m     \u001b[38;5;28mprint\u001b[39m(\u001b[38;5;124m\"\u001b[39m\u001b[38;5;124mgetting value: \u001b[39m\u001b[38;5;124m\"\u001b[39m, end\u001b[38;5;241m=\u001b[39m\u001b[38;5;124m\"\u001b[39m\u001b[38;5;124m \u001b[39m\u001b[38;5;124m\"\u001b[39m)\n\u001b[1;32m---> 10\u001b[0m     \u001b[38;5;28;01mreturn\u001b[39;00m \u001b[38;5;28;43mself\u001b[39;49m\u001b[38;5;241;43m.\u001b[39;49m\u001b[43m__marks\u001b[49m\n",
      "\u001b[1;31mAttributeError\u001b[0m: 'Student' object has no attribute '_Student__marks'"
     ]
    }
   ],
   "source": [
    "# used 'deleter'\n",
    "class Student:\n",
    "    \n",
    "    def __init__(self, marks):\n",
    "        self.__marks = marks\n",
    "    def percent(self):\n",
    "        return (self.__marks/600)* 100  \n",
    "    @property\n",
    "    def marks(self): # this one is getter\n",
    "        print(\"getting value: \", end=\" \")\n",
    "        return self.__marks\n",
    "    \n",
    "    @marks.setter\n",
    "    def marks(self, value):\n",
    "        if value <0 or value > 600:\n",
    "            print(\"Can't set  value stick to previous value! \")\n",
    "        else:\n",
    "            print(\"setting value: \", value)\n",
    "            self.__marks = value\n",
    "    @marks.deleter\n",
    "    def marks(self):\n",
    "        del self.__marks  \n",
    "    \n",
    "   \n",
    "    \n",
    "s = Student(400)\n",
    "s.marks = 60   \n",
    "del s.marks\n",
    "print(s.marks)\n",
    "print(s.percent(), \"%\")\n",
    "\n",
    "# by deleter marks has been deleted"
   ]
  },
  {
   "cell_type": "code",
   "execution_count": 25,
   "id": "714da25b",
   "metadata": {},
   "outputs": [
    {
     "name": "stdout",
     "output_type": "stream",
     "text": [
      "Help on class property in module builtins:\n",
      "\n",
      "class property(object)\n",
      " |  property(fget=None, fset=None, fdel=None, doc=None)\n",
      " |  \n",
      " |  Property attribute.\n",
      " |  \n",
      " |    fget\n",
      " |      function to be used for getting an attribute value\n",
      " |    fset\n",
      " |      function to be used for setting an attribute value\n",
      " |    fdel\n",
      " |      function to be used for del'ing an attribute\n",
      " |    doc\n",
      " |      docstring\n",
      " |  \n",
      " |  Typical use is to define a managed attribute x:\n",
      " |  \n",
      " |  class C(object):\n",
      " |      def getx(self): return self._x\n",
      " |      def setx(self, value): self._x = value\n",
      " |      def delx(self): del self._x\n",
      " |      x = property(getx, setx, delx, \"I'm the 'x' property.\")\n",
      " |  \n",
      " |  Decorators make defining new properties or modifying existing ones easy:\n",
      " |  \n",
      " |  class C(object):\n",
      " |      @property\n",
      " |      def x(self):\n",
      " |          \"I am the 'x' property.\"\n",
      " |          return self._x\n",
      " |      @x.setter\n",
      " |      def x(self, value):\n",
      " |          self._x = value\n",
      " |      @x.deleter\n",
      " |      def x(self):\n",
      " |          del self._x\n",
      " |  \n",
      " |  Methods defined here:\n",
      " |  \n",
      " |  __delete__(self, instance, /)\n",
      " |      Delete an attribute of instance.\n",
      " |  \n",
      " |  __get__(self, instance, owner, /)\n",
      " |      Return an attribute of instance, which is of type owner.\n",
      " |  \n",
      " |  __getattribute__(self, name, /)\n",
      " |      Return getattr(self, name).\n",
      " |  \n",
      " |  __init__(self, /, *args, **kwargs)\n",
      " |      Initialize self.  See help(type(self)) for accurate signature.\n",
      " |  \n",
      " |  __set__(self, instance, value, /)\n",
      " |      Set an attribute of instance to value.\n",
      " |  \n",
      " |  deleter(...)\n",
      " |      Descriptor to change the deleter on a property.\n",
      " |  \n",
      " |  getter(...)\n",
      " |      Descriptor to change the getter on a property.\n",
      " |  \n",
      " |  setter(...)\n",
      " |      Descriptor to change the setter on a property.\n",
      " |  \n",
      " |  ----------------------------------------------------------------------\n",
      " |  Static methods defined here:\n",
      " |  \n",
      " |  __new__(*args, **kwargs) from builtins.type\n",
      " |      Create and return a new object.  See help(type) for accurate signature.\n",
      " |  \n",
      " |  ----------------------------------------------------------------------\n",
      " |  Data descriptors defined here:\n",
      " |  \n",
      " |  __isabstractmethod__\n",
      " |  \n",
      " |  fdel\n",
      " |  \n",
      " |  fget\n",
      " |  \n",
      " |  fset\n",
      "\n"
     ]
    }
   ],
   "source": [
    "### HOw to use it as a method\n",
    "help(\"property\")"
   ]
  },
  {
   "cell_type": "code",
   "execution_count": 29,
   "id": "c45223e7",
   "metadata": {},
   "outputs": [
    {
     "name": "stdout",
     "output_type": "stream",
     "text": [
      "Can't set  value stick to previous value! \n",
      "getting value:  400\n",
      "66.66666666666666 %\n"
     ]
    }
   ],
   "source": [
    "# used property to make change in marks like .......marks = property(getter, setter)\n",
    "\n",
    "class Student:\n",
    "    \n",
    "    def __init__(self, marks):\n",
    "        self.__marks = marks\n",
    "    def percent(self):\n",
    "        return (self.__marks/600)* 100  \n",
    "    \n",
    "    def getter(self):\n",
    "        print(\"getting value: \", end=\" \")\n",
    "        return self.__marks\n",
    "    \n",
    "   \n",
    "    def setter(self, value):\n",
    "        if value <0 or value > 600:\n",
    "            print(\"Can't set  value stick to previous value! \")\n",
    "        else:\n",
    "            print(\"setting value: \", value)\n",
    "            self.__marks = value\n",
    "            \n",
    "    marks = property(getter, setter)  # by Property we can make chenge in marks here also \n",
    "                                       # no need to write @property , @marks.setter\n",
    "   \n",
    "    \n",
    "s = Student(400)\n",
    "s.marks = 602   \n",
    "print(s.marks)\n",
    "print(s.percent(), \"%\")\n",
    "# now limit has set now"
   ]
  },
  {
   "cell_type": "code",
   "execution_count": null,
   "id": "04b09dea",
   "metadata": {},
   "outputs": [],
   "source": []
  }
 ],
 "metadata": {
  "kernelspec": {
   "display_name": "Python 3 (ipykernel)",
   "language": "python",
   "name": "python3"
  },
  "language_info": {
   "codemirror_mode": {
    "name": "ipython",
    "version": 3
   },
   "file_extension": ".py",
   "mimetype": "text/x-python",
   "name": "python",
   "nbconvert_exporter": "python",
   "pygments_lexer": "ipython3",
   "version": "3.9.7"
  }
 },
 "nbformat": 4,
 "nbformat_minor": 5
}
