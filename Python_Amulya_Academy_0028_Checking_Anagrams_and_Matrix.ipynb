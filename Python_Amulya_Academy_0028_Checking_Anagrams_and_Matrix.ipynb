{
 "cells": [
  {
   "cell_type": "markdown",
   "id": "2502eafd",
   "metadata": {},
   "source": [
    "#### Anagram:\n",
    "\n",
    "* \"An anagram of a string is an another string that contains same characters only the order of characters can be different\"\n",
    "\n",
    "* \"Anagram is a word or phrase formed by rearranging the letters of  different word or phrase, typically using all the original letters exactly once.\"\n",
    "\n",
    "* e.g.  HEART or EARTH , abc or bca.\n",
    "* not like bad or dad because no 'b' dad.\n",
    "\n",
    "* if we sort strings and both the sorted string are equal then it is an Anagram."
   ]
  },
  {
   "cell_type": "code",
   "execution_count": 2,
   "id": "50b1a982",
   "metadata": {},
   "outputs": [
    {
     "name": "stdout",
     "output_type": "stream",
     "text": [
      "Enter the string1: earth\n",
      "enter the string2: heart\n",
      "Strings are Anagrams\n"
     ]
    }
   ],
   "source": [
    "str1 = input(\"Enter the string1: \")\n",
    "str2 = input(\"enter the string2: \")\n",
    "\n",
    "sorted_str1 = sorted(str1) # sorted method give new sorted string \n",
    "sorted_str2 = sorted(str2)\n",
    "\n",
    "if sorted_str1 == sorted_str2:\n",
    "    print(\"Strings are Anagrams\")\n",
    "else:\n",
    "    print(\"Strings are not Anagrams\")"
   ]
  },
  {
   "cell_type": "code",
   "execution_count": 4,
   "id": "20e77e8f",
   "metadata": {},
   "outputs": [
    {
     "name": "stdout",
     "output_type": "stream",
     "text": [
      "Enter the string1: helo\n",
      "enter the string2: hellp\n",
      "Given string are not anagrams\n"
     ]
    }
   ],
   "source": [
    "# we can imporve this program \n",
    "# we use length condition\n",
    "\n",
    "str1 = input(\"Enter the string1: \")\n",
    "str2 = input(\"enter the string2: \")\n",
    "\n",
    "if len(str1) == len(str2):\n",
    "    if sorted(str1) == sorted(str2):\n",
    "        \n",
    "        print(\"Strings are Anagrams\")\n",
    "    else:\n",
    "        print(\"Strings are not Anagrams\")\n",
    "else:\n",
    "    print(\"Given string are not anagrams\")"
   ]
  },
  {
   "cell_type": "markdown",
   "id": "7ead9143",
   "metadata": {},
   "source": [
    "### Checking Co-Prime number \n",
    "#### co-Prime :\n",
    "when gcd of two number is 1, then that two numbers are called as co-prime(no rule like number should be prime).\n",
    "\n",
    "* e.g.\n",
    "\n",
    "`21---> 1,3,7,21`\n",
    "\n",
    "`22--->1,2,11,22 `\n",
    "\n",
    "above greatest common factor (gcd) between 21 and 22 is 1 so both are co prime.\n",
    "\n",
    "* e.g. \n",
    "\n",
    "`21---> 1,3,7,21`\n",
    "\n",
    "`24--->1,2,3,4,6,8,12,24 `\n",
    "\n",
    "above common facters are 1, 3 but greatest common is 3 so both are not co prime for each other "
   ]
  },
  {
   "cell_type": "code",
   "execution_count": 7,
   "id": "e0886c5f",
   "metadata": {},
   "outputs": [
    {
     "name": "stdout",
     "output_type": "stream",
     "text": [
      "Number 1: 21\n",
      "Number 2: 22\n",
      "21 and 22 are coprime\n"
     ]
    }
   ],
   "source": [
    "# note. -- fractions.gcd(a, b) has been moved to math.gcd(a, b) in Python 3.9.\n",
    "from math import gcd\n",
    "\n",
    "num1 = int(input(\"Number 1: \"))\n",
    "num2 = int(input(\"Number 2: \"))\n",
    "\n",
    "if gcd(num1, num2) == 1:\n",
    "    print(f\"{num1} and {num2} are coprime\")\n",
    "    \n",
    "else:\n",
    "    print(f\"{num1} and {num2} are not coprime\")\n",
    "    "
   ]
  },
  {
   "cell_type": "code",
   "execution_count": 17,
   "id": "5b0d76b5",
   "metadata": {},
   "outputs": [
    {
     "name": "stdout",
     "output_type": "stream",
     "text": [
      "Number 1: 22\n",
      "Number 2: 24\n",
      "list of Factors:  [1, 2, 11, 22]\n",
      "list of Factors:  [1, 2, 3, 4, 6, 8, 12, 24]\n",
      "Common factors: [1, 2]\n",
      "\n",
      "22 and 24 are not coprime\n"
     ]
    }
   ],
   "source": [
    "# now without built - method. \n",
    "\n",
    "num1 = int(input(\"Number 1: \"))\n",
    "num2 = int(input(\"Number 2: \"))\n",
    "num1_fact = []\n",
    "num2_fact = []\n",
    "\n",
    "for i in range(1 , num1+1):\n",
    "    if num1%i == 0:\n",
    "        num1_fact.append(i)\n",
    "        \n",
    "for j in range(1 , num2+1):\n",
    "    if num2%j == 0:\n",
    "        num2_fact.append(j)\n",
    "        \n",
    "coprime = [x for x in num1_fact if x in num2_fact]\n",
    "print(\"list of Factors: \",num1_fact)\n",
    "print(\"list of Factors: \",num2_fact)\n",
    "print(\"Common factors:\" ,coprime)\n",
    "print()\n",
    "\n",
    "if len(coprime) == 1:\n",
    "    print(f\"{num1} and {num2} are coprime\")\n",
    "    \n",
    "else:\n",
    "    print(f\"{num1} and {num2} are not coprime\")\n"
   ]
  },
  {
   "cell_type": "markdown",
   "id": "a37dffa7",
   "metadata": {},
   "source": [
    "#### Coprime number of a specific number "
   ]
  },
  {
   "cell_type": "code",
   "execution_count": 19,
   "id": "e2867db9",
   "metadata": {},
   "outputs": [
    {
     "name": "stdout",
     "output_type": "stream",
     "text": [
      "Number 1: 12\n",
      "Lower limit : 1\n",
      "upper limit : 20\n",
      "1\n",
      "5\n",
      "7\n",
      "11\n",
      "13\n",
      "17\n",
      "19\n"
     ]
    }
   ],
   "source": [
    "# list of coprime number of specific number within given range\n",
    "\n",
    "from math import gcd\n",
    "num1 = int(input(\"Number 1: \"))\n",
    "lower = int(input(\"Lower limit : \"))\n",
    "upper = int(input(\"upper limit : \"))\n",
    "\n",
    "for i in range( lower, upper+1):\n",
    "    if gcd(num1, i) == 1:\n",
    "        print(i)"
   ]
  },
  {
   "cell_type": "markdown",
   "id": "fe9c72b5",
   "metadata": {},
   "source": [
    "#### find out the maximum value in Nested list"
   ]
  },
  {
   "cell_type": "code",
   "execution_count": 24,
   "id": "e1a6d8a6",
   "metadata": {},
   "outputs": [
    {
     "name": "stdout",
     "output_type": "stream",
     "text": [
      "[7, 9, [12, 5, [30, 15], 17], 7]\n",
      "max:  30\n"
     ]
    }
   ],
   "source": [
    "## max or min will not work for nested list\n",
    "\n",
    "list2 = []\n",
    "def get_max(list1):\n",
    "    \n",
    "    for i in list1:\n",
    "        if type(i) == list:\n",
    "            get_max(i)   # uses recursive type \n",
    "        else:\n",
    "            list2.append(i)\n",
    "    return max(list2)\n",
    "\n",
    "\n",
    "list1 = [7, 9, [12, 5, [30, 15], 17], 7]\n",
    "print(list1)\n",
    "print(\"max: \",get_max(list1))   # here we are printig get_max becuase function returning something\n"
   ]
  },
  {
   "cell_type": "code",
   "execution_count": 23,
   "id": "03096d86",
   "metadata": {},
   "outputs": [
    {
     "name": "stdout",
     "output_type": "stream",
     "text": [
      "[7, 9, [12, 5, [30, 15], 17], 7]\n",
      "min :  5\n"
     ]
    }
   ],
   "source": [
    "## max or min will not work for nested list\n",
    "# min\n",
    "list2 = []\n",
    "def get_min(list1):\n",
    "    \n",
    "    for i in list1:\n",
    "        if type(i) == list:\n",
    "            get_min(i)   # uses recursive type \n",
    "        else:\n",
    "            list2.append(i)\n",
    "    return min(list2)\n",
    "\n",
    "\n",
    "list1 = [7, 9, [12, 5, [30, 15], 17], 7]\n",
    "print(list1)\n",
    "print(\"min : \", get_min(list1))   # here we are printig get_max becuase function returning something\n"
   ]
  },
  {
   "cell_type": "markdown",
   "id": "c35a122a",
   "metadata": {},
   "source": [
    "#### printing \"*\" and \"A\" in right angle triangle"
   ]
  },
  {
   "cell_type": "code",
   "execution_count": 25,
   "id": "5c24b86b",
   "metadata": {},
   "outputs": [
    {
     "name": "stdout",
     "output_type": "stream",
     "text": [
      "Enter the number of row: 5\n",
      "    *\n",
      "   *A*\n",
      "  *A*A*\n",
      " *A*A*A*\n",
      "*A*A*A*A*\n"
     ]
    }
   ],
   "source": [
    "n = int(input(\"Enter the number of row: \"))\n",
    "for i in range(n):\n",
    "    count = 0\n",
    "    for j in range(n-i-1):\n",
    "        print(\" \", end = \"\")\n",
    "    for j in range(i+1):\n",
    "        print(\"*\", end = \"\")\n",
    "        if count <i:\n",
    "            print(\"A\", end = \"\")\n",
    "            count = count + 1\n",
    "    print()"
   ]
  },
  {
   "cell_type": "markdown",
   "id": "28b7cbcc",
   "metadata": {},
   "source": [
    "#### Triangle number pattern "
   ]
  },
  {
   "cell_type": "code",
   "execution_count": 26,
   "id": "8202744d",
   "metadata": {
    "scrolled": true
   },
   "outputs": [
    {
     "name": "stdout",
     "output_type": "stream",
     "text": [
      "Enter the number of row: 4\n",
      "1 \n",
      "2 5 \n",
      "3 6 8 \n",
      "4 7 9 10 \n"
     ]
    }
   ],
   "source": [
    "n = int(input(\"Enter the number of row: \"))\n",
    "for row in range(n):\n",
    "    val = row+1\n",
    "    dec = n-1\n",
    "    for col in range(row+1):\n",
    "        print(val, end = \" \")\n",
    "        val = val + dec\n",
    "        dec = dec - 1\n",
    "    print()"
   ]
  },
  {
   "cell_type": "code",
   "execution_count": 27,
   "id": "c95acc49",
   "metadata": {},
   "outputs": [
    {
     "name": "stdout",
     "output_type": "stream",
     "text": [
      "Enter the number of row: 5\n",
      "15 \n",
      "14 10 \n",
      "13 9 6 \n",
      "12 8 5 3 \n",
      "11 7 4 2 1 \n"
     ]
    }
   ],
   "source": [
    "# Reverse Order\n",
    "def num(n1):\n",
    "    if n1 == 1:\n",
    "        return 1\n",
    "    return n1 + num(n1-1)\n",
    "\n",
    "n = int(input(\"Enter the number of row: \"))\n",
    "k = num(n)\n",
    "for row in range(n):\n",
    "    val = k - row\n",
    "    dec = n-1\n",
    "    for col in range(row+1):\n",
    "        print(val, end = \" \")\n",
    "        val = val - dec\n",
    "        dec = dec - 1\n",
    "    print()"
   ]
  },
  {
   "cell_type": "code",
   "execution_count": 28,
   "id": "41b45ccf",
   "metadata": {},
   "outputs": [
    {
     "name": "stdout",
     "output_type": "stream",
     "text": [
      "Enter the number of row: 4\n",
      "10 \n",
      "9  6  \n",
      "8  5  3  \n",
      "7  4  2  1  \n"
     ]
    }
   ],
   "source": [
    "#to avoid space problem will need to use format method\n",
    "\n",
    "def num(n1):\n",
    "    if n1 == 1:\n",
    "        return 1\n",
    "    return n1 + num(n1-1)\n",
    "\n",
    "n = int(input(\"Enter the number of row: \"))\n",
    "k = num(n) # num fucntion\n",
    "for row in range(n):\n",
    "    val = k - row\n",
    "    dec = n-1\n",
    "    for col in range(row+1):\n",
    "        print(format(val, \"<3\"), end = \"\") # used format app.\n",
    "        val = val - dec\n",
    "        dec = dec - 1\n",
    "    print()"
   ]
  },
  {
   "cell_type": "markdown",
   "id": "d6d18396",
   "metadata": {},
   "source": [
    "#### Matrix in Python"
   ]
  },
  {
   "cell_type": "code",
   "execution_count": 2,
   "id": "e288fb05",
   "metadata": {},
   "outputs": [
    {
     "name": "stdout",
     "output_type": "stream",
     "text": [
      "Enter the row number: 2\n",
      "Enter the column number: 2\n",
      "Enter the elements for matrix1\n",
      "20\n",
      "30\n",
      "40\n",
      "50\n",
      "Matrix1: \n",
      "20 30 \n",
      "40 50 \n"
     ]
    }
   ],
   "source": [
    "#single matrix\n",
    "\n",
    "row = int(input(\"Enter the row number: \"))\n",
    "col = int(input(\"Enter the column number: \"))\n",
    "\n",
    "print(\"Enter the elements for matrix1\")\n",
    "matrix1 = [[int(input()) for i in range(col)] for j in range(row)]\n",
    "print(\"Matrix1: \")\n",
    "for i in range(row):\n",
    "    for j in range(col):\n",
    "        print(format(matrix1[i][j], \"<3\"), end = \"\")\n",
    "    \n",
    "    print()\n",
    "\n"
   ]
  },
  {
   "cell_type": "code",
   "execution_count": 31,
   "id": "2ae8999d",
   "metadata": {},
   "outputs": [
    {
     "name": "stdout",
     "output_type": "stream",
     "text": [
      "Enter the row number: 2\n",
      "Enter the column number: 2\n",
      "Enter the elements for matrix1\n",
      "23\n",
      "21\n",
      "34\n",
      "32\n",
      "Matrix1: \n",
      "23 21 \n",
      "34 32 \n",
      "Enter the elements for matrix2\n",
      "23\n",
      "25\n",
      "34\n",
      "24\n",
      "Matrix2: \n",
      "23 25 \n",
      "34 24 \n"
     ]
    }
   ],
   "source": [
    "row = int(input(\"Enter the row number: \"))\n",
    "col = int(input(\"Enter the column number: \"))\n",
    "\n",
    "print(\"Enter the elements for matrix1\")\n",
    "matrix1 = [[int(input()) for i in range(col)] for j in range(row)]\n",
    "print(\"Matrix1: \")\n",
    "for i in range(row):\n",
    "    for j in range(col):\n",
    "        print(format(matrix1[i][j], \"<3\"), end = \"\")\n",
    "    \n",
    "    print()\n",
    "\n",
    "print(\"Enter the elements for matrix2\")\n",
    "matrix2 = [[int(input()) for i in range(col)] for j in range(row)]\n",
    "print(\"Matrix2: \")\n",
    "for i in range(row):\n",
    "    for j in range(col):\n",
    "        print(format(matrix2[i][j], \"<3\"), end = \"\")\n",
    "    \n",
    "    print()\n",
    "# now we need to add two matrix"
   ]
  },
  {
   "cell_type": "markdown",
   "id": "db15d30a",
   "metadata": {},
   "source": [
    "### Addition of two matrix"
   ]
  },
  {
   "cell_type": "code",
   "execution_count": 33,
   "id": "06d27d41",
   "metadata": {},
   "outputs": [
    {
     "name": "stdout",
     "output_type": "stream",
     "text": [
      "Enter the row number: 2\n",
      "Enter the column number: 2\n",
      "Enter the elements for matrix1\n",
      "1\n",
      "2\n",
      "3\n",
      "4\n",
      "Matrix1: \n",
      "1  2  \n",
      "3  4  \n",
      "Enter the elements for matrix2\n",
      "10\n",
      "20\n",
      "30\n",
      "40\n",
      "Matrix2: \n",
      "10 20 \n",
      "30 40 \n",
      "\n",
      "\n",
      "result: \n",
      "11 22 \n",
      "33 44 \n"
     ]
    }
   ],
   "source": [
    "row = int(input(\"Enter the row number: \"))\n",
    "col = int(input(\"Enter the column number: \"))\n",
    "\n",
    "print(\"Enter the elements for matrix1\")\n",
    "matrix1 = [[int(input()) for i in range(col)] for j in range(row)]\n",
    "print(\"Matrix1: \")\n",
    "for i in range(row):\n",
    "    for j in range(col):\n",
    "        print(format(matrix1[i][j], \"<3\"), end = \"\")\n",
    "    \n",
    "    print()\n",
    "\n",
    "print(\"Enter the elements for matrix2\")\n",
    "matrix2 = [[int(input()) for i in range(col)] for j in range(row)]\n",
    "print(\"Matrix2: \")\n",
    "for i in range(row):\n",
    "    for j in range(col):\n",
    "        print(format(matrix2[i][j], \"<3\"), end = \"\")\n",
    "    \n",
    "    print()\n",
    "# now we need to add two matrix\n",
    "# for this we need a nested list to store the value so initialy we will store 0 and then replace\n",
    "# this as per requirement.\n",
    "\n",
    "result = [[0 for i in range(col)] for j in range(row)]\n",
    "for i in range(row):\n",
    "    for j in range(col):\n",
    "        result[i][j] = matrix1[i][j] + matrix2[i][j]\n",
    "    print()\n",
    "    \n",
    "# now print the result\n",
    "print(\"result: \")\n",
    "for i in range(row):\n",
    "    for j in range(col):\n",
    "        print(format(result[i][j], \"<3\"), end = \"\")\n",
    "        \n",
    "    print()"
   ]
  },
  {
   "cell_type": "code",
   "execution_count": 34,
   "id": "bc5a3e29",
   "metadata": {},
   "outputs": [
    {
     "name": "stdout",
     "output_type": "stream",
     "text": [
      "Enter the row number: 2\n",
      "Enter the column number: 2\n",
      "Enter the elements for matrix1\n",
      "1\n",
      "2\n",
      "3\n",
      "4\n",
      "Matrix1: \n",
      "1  2  \n",
      "3  4  \n",
      "Enter the elements for matrix2\n",
      "10\n",
      "20\n",
      "30\n",
      "40\n",
      "Matrix2: \n",
      "10 20 \n",
      "30 40 \n",
      "\n",
      "\n",
      "result: \n",
      "11 22 \n",
      "33 44 \n"
     ]
    }
   ],
   "source": [
    "### Addition of two matrix\n",
    "row = int(input(\"Enter the row number: \"))\n",
    "col = int(input(\"Enter the column number: \"))\n",
    "\n",
    "print(\"Enter the elements for matrix1\")\n",
    "matrix1 = [[int(input()) for i in range(col)] for j in range(row)]\n",
    "print(\"Matrix1: \")\n",
    "for i in range(row):\n",
    "    for j in range(col):\n",
    "        print(format(matrix1[i][j], \"<3\"), end = \"\")\n",
    "    \n",
    "    print()\n",
    "\n",
    "print(\"Enter the elements for matrix2\")\n",
    "matrix2 = [[int(input()) for i in range(col)] for j in range(row)]\n",
    "print(\"Matrix2: \")\n",
    "for i in range(row):\n",
    "    for j in range(col):\n",
    "        print(format(matrix2[i][j], \"<3\"), end = \"\")\n",
    "    \n",
    "    print()\n",
    "# now we need to add two matrix\n",
    "# for this we need a nested list to store the value\n",
    "\n",
    "result = [[0 for i in range(col)] for j in range(row)]\n",
    "for i in range(len(matrix1)):     # here we take matrix length as row and matrix col length as col\n",
    "    for j in range(len(matrix1[0])):\n",
    "        result[i][j] = matrix1[i][j] + matrix2[i][j]\n",
    "    print()\n",
    "    \n",
    "# now print the result\n",
    "print(\"result: \")\n",
    "for i in range(row):\n",
    "    for j in range(col):\n",
    "        print(format(result[i][j], \"<3\"), end = \"\")\n",
    "        \n",
    "    print()"
   ]
  },
  {
   "cell_type": "markdown",
   "id": "84bef655",
   "metadata": {},
   "source": [
    "### Subtraction of two matrix"
   ]
  },
  {
   "cell_type": "code",
   "execution_count": 35,
   "id": "738d72a2",
   "metadata": {},
   "outputs": [
    {
     "name": "stdout",
     "output_type": "stream",
     "text": [
      "Enter the row number: 2\n",
      "Enter the column number: 2\n",
      "Enter the elements for matrix1\n",
      "10\n",
      "20\n",
      "30\n",
      "40\n",
      "Matrix1: \n",
      "10 20 \n",
      "30 40 \n",
      "Enter the elements for matrix2\n",
      "1\n",
      "2\n",
      "3\n",
      "4\n",
      "Matrix2: \n",
      "1  2  \n",
      "3  4  \n",
      "\n",
      "\n",
      "result: \n",
      "9  18 \n",
      "27 36 \n"
     ]
    }
   ],
   "source": [
    "row = int(input(\"Enter the row number: \"))\n",
    "col = int(input(\"Enter the column number: \"))\n",
    "\n",
    "print(\"Enter the elements for matrix1\")\n",
    "matrix1 = [[int(input()) for i in range(col)] for j in range(row)]\n",
    "print(\"Matrix1: \")\n",
    "for i in range(row):\n",
    "    for j in range(col):\n",
    "        print(format(matrix1[i][j], \"<3\"), end = \"\")\n",
    "    \n",
    "    print()\n",
    "\n",
    "print(\"Enter the elements for matrix2\")\n",
    "matrix2 = [[int(input()) for i in range(col)] for j in range(row)]\n",
    "print(\"Matrix2: \")\n",
    "for i in range(row):\n",
    "    for j in range(col):\n",
    "        print(format(matrix2[i][j], \"<3\"), end = \"\")\n",
    "    \n",
    "    print()\n",
    "# now we need to add two matrix\n",
    "# for this we need a nested list to store the value\n",
    "\n",
    "result = [[0 for i in range(col)] for j in range(row)]\n",
    "for i in range(len(matrix1)):     # here we take matrix length as row and matrix col length as col\n",
    "    for j in range(len(matrix1[0])):\n",
    "        result[i][j] = matrix1[i][j] - matrix2[i][j]\n",
    "    print()\n",
    "    \n",
    "# now print the result\n",
    "print(\"result: \")\n",
    "for i in range(row):\n",
    "    for j in range(col):\n",
    "        print(format(result[i][j], \"<3\"), end = \"\")\n",
    "        \n",
    "    print()"
   ]
  },
  {
   "cell_type": "markdown",
   "id": "1c9e30ab",
   "metadata": {},
   "source": [
    "### Matrix Multiplication \n",
    "\n",
    "**condition**\n",
    "* no. of column in matrix1 = no. of row in matrix2\n",
    "\n",
    "* `p x n   and n x q`\n",
    "\n",
    "* `here n must be same for multiplication.`\n",
    "\n",
    "* `resultant matrix size = p x q`\n"
   ]
  },
  {
   "cell_type": "code",
   "execution_count": 36,
   "id": "2c78c1e6",
   "metadata": {},
   "outputs": [
    {
     "name": "stdout",
     "output_type": "stream",
     "text": [
      "Enter the row number for matrix1 : 2\n",
      "Enter the column number for matrix2: 2\n",
      "Enter the column number for matrix1/ row number of matrix2 : 2\n",
      "Enter the elements for matrix1\n",
      "1\n",
      "2\n",
      "3\n",
      "4\n",
      "Matrix1: \n",
      "1  2  \n",
      "3  4  \n",
      "Enter the elements for matrix2\n",
      "1\n",
      "2\n",
      "3\n",
      "4\n",
      "Matrix2: \n",
      "1  2  \n",
      "3  4  \n",
      "result: \n",
      "7  10 \n",
      "15 22 \n"
     ]
    }
   ],
   "source": [
    "p = int(input(\"Enter the row number for matrix1 : \"))\n",
    "q = int(input(\"Enter the column number for matrix2: \"))\n",
    "n = int(input(\"Enter the column number for matrix1/ row number of matrix2 : \"))\n",
    "\n",
    "print(\"Enter the elements for matrix1\")\n",
    "matrix1 = [[int(input()) for i in range(n)] for j in range(p)]\n",
    "print(\"Matrix1: \")\n",
    "for i in range(p):\n",
    "    for j in range(n):\n",
    "        print(format(matrix1[i][j], \"<3\"), end = \"\")\n",
    "    \n",
    "    print()\n",
    "\n",
    "print(\"Enter the elements for matrix2\")\n",
    "matrix2 = [[int(input()) for i in range(q)] for j in range(n)]\n",
    "print(\"Matrix2: \")\n",
    "for i in range(n):\n",
    "    for j in range(q):\n",
    "        print(format(matrix2[i][j], \"<3\"), end = \"\")\n",
    "    \n",
    "    print()\n",
    "\n",
    "result = [[0 for i in range(q)] for j in range(p)]\n",
    "for i in range(p):     \n",
    "    for j in range(q):\n",
    "        for k in range(n): # here we took k because we wanted to perform this in n range\n",
    "            result[i][j] = result[i][j] + matrix1[i][k] * matrix2[k][j]\n",
    "    \n",
    "    \n",
    "# now print the result\n",
    "print(\"result: \")\n",
    "for i in range(p):\n",
    "    for j in range(q):\n",
    "        print(format(result[i][j], \"<3\"), end = \"\")\n",
    "        \n",
    "    print()"
   ]
  },
  {
   "cell_type": "markdown",
   "id": "626ac1dd",
   "metadata": {},
   "source": [
    "### Transpose of a Matrix\n",
    "\n",
    "p x q -----> q x p"
   ]
  },
  {
   "cell_type": "code",
   "execution_count": 39,
   "id": "71459179",
   "metadata": {},
   "outputs": [
    {
     "name": "stdout",
     "output_type": "stream",
     "text": [
      "Enter the row number: 2\n",
      "Enter the column number: 3\n",
      "Enter the elements for matrix1\n",
      "1\n",
      "2\n",
      "3\n",
      "3\n",
      "4\n",
      "5\n",
      "Matrix1: \n",
      "1  2  3  \n",
      "3  4  5  \n",
      "Result : \n",
      "1  3  \n",
      "2  4  \n",
      "3  5  \n"
     ]
    }
   ],
   "source": [
    "p = int(input(\"Enter the row number: \"))\n",
    "q = int(input(\"Enter the column number: \"))\n",
    "\n",
    "print(\"Enter the elements for matrix1\")\n",
    "matrix1 = [[int(input()) for i in range(q)] for j in range(p)]\n",
    "print(\"Matrix1: \")\n",
    "for i in range(p):\n",
    "    for j in range(q):\n",
    "        print(format(matrix1[i][j], \"<3\"), end = \"\") # end = to want control in same line \n",
    "    \n",
    "    print()\n",
    "# To store the result \n",
    "result = [[0 for i in range(p)] for j in range(q)]\n",
    "for i in range(q):\n",
    "    for j in range(p):\n",
    "        result[i][j] = matrix1[j][i]\n",
    "        \n",
    "# printing the result \n",
    "print(\"Result : \")\n",
    "for i in range(q):\n",
    "    for j in range(p):\n",
    "        print(format(result[i][j], \"<3\"), end = \"\")\n",
    "        \n",
    "    print()\n",
    "     \n"
   ]
  },
  {
   "cell_type": "markdown",
   "id": "b42a81b2",
   "metadata": {},
   "source": [
    "### Create Quiz using Dictionary:\n",
    "\n",
    "make a quiz that has 4 option and add 1 point if the answer is correct, deduct 1 if it is incorrect. Also it should have an option to skip & quit the quiz\n",
    "\n",
    "Design the quiz using Dictionary"
   ]
  },
  {
   "cell_type": "code",
   "execution_count": 42,
   "id": "ddbec07a",
   "metadata": {},
   "outputs": [
    {
     "name": "stdout",
     "output_type": "stream",
     "text": [
      "Enter your name: Ankit\n",
      "\n",
      "Hello Ankit Welcome to the quiz world!!!\n",
      "Q.1: Is Python case sensitive when dealing with Identifiers?\n",
      "a. Yes\n",
      "b. No\n",
      "c. Machine Dependent\n",
      "d. None\n",
      "Enter your answer(a/b/c/d/): a\n",
      "Correct answer, you got 1 point\n",
      "Q.2: Which of the following is not a keyword?\n",
      "a. evail\n",
      "b. assert\n",
      "c. local\n",
      "d. pass\n",
      "Enter your answer(a/b/c/d/): a\n",
      "Correct answer, you got 1 point\n",
      "Q.3: Which one of these is floor division?\n",
      "a. /\n",
      "b. //\n",
      "c. %\n",
      "d. None\n",
      "Enter your answer(a/b/c/d/): b\n",
      "Correct answer, you got 1 point\n",
      "Q.4: What is the output of this 3*1**3?\n",
      "a. 27\n",
      "b. 9\n",
      "c. 3\n",
      "d. 1\n",
      "Enter your answer(a/b/c/d/): c\n",
      "Correct answer, you got 1 point\n",
      "Q.5 : 'a' + 'bc' = ??\n",
      "a. a\n",
      "b. bc\n",
      "c. bca\n",
      "d. abc\n",
      "Enter your answer(a/b/c/d/): d\n",
      "Correct answer, you got 1 point\n",
      "Final score is : 5\n"
     ]
    }
   ],
   "source": [
    "q1 = \"\"\"Q.1: Is Python case sensitive when dealing with Identifiers?\n",
    "a. Yes\n",
    "b. No\n",
    "c. Machine Dependent\n",
    "d. None\"\"\"\n",
    "\n",
    "q2 = \"\"\"Q.2: Which of the following is not a keyword?\n",
    "a. evail\n",
    "b. assert\n",
    "c. local\n",
    "d. pass\"\"\"\n",
    "\n",
    "q3 = \"\"\"Q.3: Which one of these is floor division?\n",
    "a. /\n",
    "b. //\n",
    "c. %\n",
    "d. None\"\"\"\n",
    "q4 = \"\"\"Q.4: What is the output of this 3*1**3?\n",
    "a. 27\n",
    "b. 9\n",
    "c. 3\n",
    "d. 1\"\"\"\n",
    "\n",
    "q5 = \"\"\"Q.5 : 'a' + 'bc' = ??\n",
    "a. a\n",
    "b. bc\n",
    "c. bca\n",
    "d. abc\"\"\"\n",
    "\n",
    "questions = {q1:\"a\", q2:\"a\", q3:\"b\", q4:\"c\", q5:\"d\"}\n",
    "name = input(\"Enter your name: \")\n",
    "print()\n",
    "print(\"Hello\", name, \"Welcome to the quiz world!!!\")\n",
    "\n",
    "score = 0\n",
    "for i in questions:\n",
    "    print(i)\n",
    "    ans = input(\"Enter your answer(a/b/c/d/): \")\n",
    "    if ans.lower() == questions[i]:\n",
    "        print(\"Correct answer, you got 1 point\")\n",
    "        score = score + 1\n",
    "        print(\"Current score is: \", score)\n",
    "    else:\n",
    "        print(\"Wrong answer, you lost 1 point\")\n",
    "        score = score - 1\n",
    "        print(\"Current score is: \", score)\n",
    "        \n",
    "print(\"Final score is :\", score)\n",
    "    "
   ]
  },
  {
   "cell_type": "code",
   "execution_count": 44,
   "id": "bd9fc4df",
   "metadata": {},
   "outputs": [
    {
     "name": "stdout",
     "output_type": "stream",
     "text": [
      "Enter your name: Ankit\n",
      "\n",
      "Hello Ankit Welcome to the quiz world!!!\n",
      "\n",
      "Q.1: Is Python case sensitive when dealing with Identifiers?\n",
      "a. Yes\n",
      "b. No\n",
      "c. Machine Dependent\n",
      "d. None\n",
      "Do you want to skip this question (yes/no): yes\n",
      "\n",
      "Q.2: Which of the following is not a keyword?\n",
      "a. evail\n",
      "b. assert\n",
      "c. local\n",
      "d. pass\n",
      "Do you want to skip this question (yes/no): yes\n",
      "\n",
      "Q.3: Which one of these is floor division?\n",
      "a. /\n",
      "b. //\n",
      "c. %\n",
      "d. None\n",
      "Do you want to skip this question (yes/no): yes\n",
      "\n",
      "Q.4: What is the output of this 3*1**3?\n",
      "a. 27\n",
      "b. 9\n",
      "c. 3\n",
      "d. 1\n",
      "Do you want to skip this question (yes/no): no\n",
      "Enter your answer(a/b/c/d/): a\n",
      "Wrong answer, you lost 1 point\n",
      "Current score is:  -1\n",
      "\n",
      "Q.5 : 'a' + 'bc' = ??\n",
      "a. a\n",
      "b. bc\n",
      "c. bca\n",
      "d. abc\n",
      "Do you want to skip this question (yes/no): yes\n",
      "Final score is : -1\n"
     ]
    }
   ],
   "source": [
    "# inserting skip  option\n",
    "\n",
    "q1 = \"\"\"Q.1: Is Python case sensitive when dealing with Identifiers?\n",
    "a. Yes\n",
    "b. No\n",
    "c. Machine Dependent\n",
    "d. None\"\"\"\n",
    "\n",
    "q2 = \"\"\"Q.2: Which of the following is not a keyword?\n",
    "a. evail\n",
    "b. assert\n",
    "c. local\n",
    "d. pass\"\"\"\n",
    "\n",
    "q3 = \"\"\"Q.3: Which one of these is floor division?\n",
    "a. /\n",
    "b. //\n",
    "c. %\n",
    "d. None\"\"\"\n",
    "q4 = \"\"\"Q.4: What is the output of this 3*1**3?\n",
    "a. 27\n",
    "b. 9\n",
    "c. 3\n",
    "d. 1\"\"\"\n",
    "\n",
    "q5 = \"\"\"Q.5 : 'a' + 'bc' = ??\n",
    "a. a\n",
    "b. bc\n",
    "c. bca\n",
    "d. abc\"\"\"\n",
    "\n",
    "questions = {q1:\"a\", q2:\"a\", q3:\"b\", q4:\"c\", q5:\"d\"}\n",
    "name = input(\"Enter your name: \")\n",
    "print()\n",
    "print(\"Hello\", name, \"Welcome to the quiz world!!!\")\n",
    "\n",
    "score = 0\n",
    "\n",
    "for i in questions:\n",
    "    print()\n",
    "    print(i)\n",
    "    flag1 = input(\"Do you want to skip this question (yes/no): \")\n",
    "    if flag1.lower() == \"yes\":\n",
    "        continue               # skipp case has been added \n",
    "    ans = input(\"Enter your answer(a/b/c/d/): \")\n",
    "    if ans.lower() == questions[i]:\n",
    "        print(\"Correct answer, you got 1 point\")\n",
    "        score = score + 1\n",
    "        print(\"Current score is: \", score)\n",
    "    else:\n",
    "        print(\"Wrong answer, you lost 1 point\")\n",
    "        score = score - 1\n",
    "        print(\"Current score is: \", score)\n",
    "        \n",
    "print(\"Final score is :\", score)\n",
    "    "
   ]
  },
  {
   "cell_type": "code",
   "execution_count": 46,
   "id": "92cfc103",
   "metadata": {},
   "outputs": [
    {
     "name": "stdout",
     "output_type": "stream",
     "text": [
      "Enter your name: Ankit\n",
      "\n",
      "Hello Ankit Welcome to the quiz world!!!\n",
      "\n",
      "Q.1: Is Python case sensitive when dealing with Identifiers?\n",
      "a. Yes\n",
      "b. No\n",
      "c. Machine Dependent\n",
      "d. None\n",
      "Do you want to skip this question (yes/no): no\n",
      "Enter your answer(a/b/c/d/): a\n",
      "Correct answer, you got 1 point\n",
      "Current score is:  1\n",
      "Do you want to quit(yes/no):no\n",
      "\n",
      "Q.2: Which of the following is not a keyword?\n",
      "a. evail\n",
      "b. assert\n",
      "c. local\n",
      "d. pass\n",
      "Do you want to skip this question (yes/no): no\n",
      "Enter your answer(a/b/c/d/): d\n",
      "Wrong answer, you lost 1 point\n",
      "Current score is:  0\n",
      "Do you want to quit(yes/no):yes\n",
      "Final score is : 0\n"
     ]
    }
   ],
   "source": [
    "# inserting skip  option and Quit ooption \n",
    "\n",
    "q1 = \"\"\"Q.1: Is Python case sensitive when dealing with Identifiers?\n",
    "a. Yes\n",
    "b. No\n",
    "c. Machine Dependent\n",
    "d. None\"\"\"\n",
    "\n",
    "q2 = \"\"\"Q.2: Which of the following is not a keyword?\n",
    "a. evail\n",
    "b. assert\n",
    "c. local\n",
    "d. pass\"\"\"\n",
    "\n",
    "q3 = \"\"\"Q.3: Which one of these is floor division?\n",
    "a. /\n",
    "b. //\n",
    "c. %\n",
    "d. None\"\"\"\n",
    "q4 = \"\"\"Q.4: What is the output of this 3*1**3?\n",
    "a. 27\n",
    "b. 9\n",
    "c. 3\n",
    "d. 1\"\"\"\n",
    "\n",
    "q5 = \"\"\"Q.5 : 'a' + 'bc' = ??\n",
    "a. a\n",
    "b. bc\n",
    "c. bca\n",
    "d. abc\"\"\"\n",
    "\n",
    "questions = {q1:\"a\", q2:\"a\", q3:\"b\", q4:\"c\", q5:\"d\"}\n",
    "name = input(\"Enter your name: \")\n",
    "print()\n",
    "print(\"Hello\", name, \"Welcome to the quiz world!!!\")\n",
    "\n",
    "score = 0\n",
    "\n",
    "for i in questions:\n",
    "    print()\n",
    "    print(i)\n",
    "    flag1 = input(\"Do you want to skip this question (yes/no): \")\n",
    "    if flag1.lower() == \"yes\":\n",
    "        continue   # for the skip the quetions\n",
    "    ans = input(\"Enter your answer(a/b/c/d/): \")\n",
    "    if ans.lower() == questions[i]:\n",
    "        print(\"Correct answer, you got 1 point\")\n",
    "        score = score + 1\n",
    "        print(\"Current score is: \", score)\n",
    "    else:\n",
    "        print(\"Wrong answer, you lost 1 point\")\n",
    "        score = score - 1\n",
    "        print(\"Current score is: \", score)\n",
    "    flag2 = input(\"Do you want to quit(yes/no):\")\n",
    "    if flag2.lower() == \"yes\":\n",
    "        break  # for come out of the loop\n",
    "        \n",
    "        \n",
    "print(\"Final score is :\", score)\n",
    "    "
   ]
  },
  {
   "cell_type": "code",
   "execution_count": null,
   "id": "4e672d6b",
   "metadata": {},
   "outputs": [],
   "source": []
  }
 ],
 "metadata": {
  "kernelspec": {
   "display_name": "Python 3 (ipykernel)",
   "language": "python",
   "name": "python3"
  },
  "language_info": {
   "codemirror_mode": {
    "name": "ipython",
    "version": 3
   },
   "file_extension": ".py",
   "mimetype": "text/x-python",
   "name": "python",
   "nbconvert_exporter": "python",
   "pygments_lexer": "ipython3",
   "version": "3.9.7"
  }
 },
 "nbformat": 4,
 "nbformat_minor": 5
}
