{
 "cells": [
  {
   "cell_type": "code",
   "execution_count": 1,
   "id": "73942e5e",
   "metadata": {},
   "outputs": [],
   "source": [
    "var1 = \"Hello world!\"\n",
    "var2 = \"Python Programming\""
   ]
  },
  {
   "cell_type": "markdown",
   "id": "a4dacb4a",
   "metadata": {},
   "source": [
    "#### Accessing Values in Strings\n"
   ]
  },
  {
   "cell_type": "code",
   "execution_count": 2,
   "id": "ff84cdf6",
   "metadata": {},
   "outputs": [
    {
     "name": "stdout",
     "output_type": "stream",
     "text": [
      "H\n"
     ]
    }
   ],
   "source": [
    "var1 = \"Hello world!\"\n",
    "var2 = \"Python Programming\"\n",
    "\n",
    "print(var1[0])"
   ]
  },
  {
   "cell_type": "code",
   "execution_count": 3,
   "id": "d8578487",
   "metadata": {},
   "outputs": [
    {
     "name": "stdout",
     "output_type": "stream",
     "text": [
      "ytho\n"
     ]
    }
   ],
   "source": [
    "print(var2[1:5])"
   ]
  },
  {
   "cell_type": "markdown",
   "id": "4878dd85",
   "metadata": {},
   "source": [
    "#### Updating Strings"
   ]
  },
  {
   "cell_type": "code",
   "execution_count": 5,
   "id": "b3dac447",
   "metadata": {},
   "outputs": [
    {
     "name": "stdout",
     "output_type": "stream",
     "text": [
      "Updating string:  Hello Python\n"
     ]
    }
   ],
   "source": [
    "var1 = \"Hello world!\"\n",
    "\n",
    "print(\"Updating string: \", var1[:6] + 'Python')"
   ]
  },
  {
   "cell_type": "markdown",
   "id": "52159671",
   "metadata": {},
   "source": [
    "#### Triple Quotes"
   ]
  },
  {
   "cell_type": "code",
   "execution_count": 9,
   "id": "233d5330",
   "metadata": {},
   "outputs": [
    {
     "name": "stdout",
     "output_type": "stream",
     "text": [
      "Hello world!\n",
      "welcome to the Python Programming.\n",
      "Best of luck!.\n"
     ]
    }
   ],
   "source": [
    "print(\"\"\"Hello world!\n",
    "welcome to the Python Programming.\n",
    "Best of luck!.\"\"\")"
   ]
  },
  {
   "cell_type": "code",
   "execution_count": 12,
   "id": "6c1424cd",
   "metadata": {},
   "outputs": [
    {
     "name": "stdout",
     "output_type": "stream",
     "text": [
      "This is a long string that is made up \n",
      "of several lines and and non-printable characters such as \n",
      "TAB (\t) and they will show up that way when displayed.\n",
      "NEWLINEs within the string, whether explicitly given like\n",
      "this within the brackets [\n",
      "], or just a NEWLINE within the variable assignment will also show up\n"
     ]
    }
   ],
   "source": [
    "para_str = \"\"\"This is a long string that is made up \n",
    "of several lines and and non-printable characters such as \n",
    "TAB (\\t) and they will show up that way when displayed.\n",
    "NEWLINEs within the string, whether explicitly given like\n",
    "this within the brackets [\\n], or just a NEWLINE within the variable assignment will also show up\"\"\"\n",
    "\n",
    "print(para_str)"
   ]
  },
  {
   "cell_type": "code",
   "execution_count": 13,
   "id": "6054d29c",
   "metadata": {},
   "outputs": [
    {
     "name": "stdout",
     "output_type": "stream",
     "text": [
      "c:\\nowhere\n"
     ]
    }
   ],
   "source": [
    "print(\"c:\\\\nowhere\")"
   ]
  },
  {
   "cell_type": "markdown",
   "id": "781058ae",
   "metadata": {},
   "source": [
    "* `here we can see that back slash '\\'  worked as escape character.`\n",
    "* to avoid this we will use `raw input  like r'expression'.`\n"
   ]
  },
  {
   "cell_type": "code",
   "execution_count": 14,
   "id": "9ecfc938",
   "metadata": {},
   "outputs": [
    {
     "name": "stdout",
     "output_type": "stream",
     "text": [
      "c:\\\\nowhere\n"
     ]
    }
   ],
   "source": [
    "print(r\"c:\\\\nowhere\")"
   ]
  },
  {
   "cell_type": "markdown",
   "id": "771719b1",
   "metadata": {},
   "source": [
    "### Built-in String Method"
   ]
  },
  {
   "cell_type": "code",
   "execution_count": 15,
   "id": "43d4c1ad",
   "metadata": {},
   "outputs": [
    {
     "name": "stdout",
     "output_type": "stream",
     "text": [
      "This is string example... wow!\n"
     ]
    }
   ],
   "source": [
    "# 1. capitalize()\n",
    "\n",
    "str1 = \"this is string example... wow!\"\n",
    "\n",
    "print(str1.capitalize())"
   ]
  },
  {
   "cell_type": "code",
   "execution_count": 17,
   "id": "2476657f",
   "metadata": {},
   "outputs": [
    {
     "name": "stdout",
     "output_type": "stream",
     "text": [
      "**welcome***\n"
     ]
    }
   ],
   "source": [
    "# 2. center()\n",
    "\n",
    "str1 = \"welcome\"\n",
    "\n",
    "print(str1.center(12, \"*\"))"
   ]
  },
  {
   "cell_type": "code",
   "execution_count": 20,
   "id": "3f9ab036",
   "metadata": {},
   "outputs": [
    {
     "name": "stdout",
     "output_type": "stream",
     "text": [
      "----welcome----\n"
     ]
    }
   ],
   "source": [
    "print(str1.center(15, \"-\"))"
   ]
  },
  {
   "cell_type": "code",
   "execution_count": 21,
   "id": "e7a0388d",
   "metadata": {},
   "outputs": [
    {
     "name": "stdout",
     "output_type": "stream",
     "text": [
      "1\n"
     ]
    }
   ],
   "source": [
    "# 3. count()\n",
    "\n",
    "str1 = \"this is string example... wow!\"\n",
    "\n",
    "print(str1.count(\"exam\", 10, 40))"
   ]
  },
  {
   "cell_type": "code",
   "execution_count": 22,
   "id": "813ea129",
   "metadata": {},
   "outputs": [
    {
     "data": {
      "text/plain": [
       "3"
      ]
     },
     "execution_count": 22,
     "metadata": {},
     "output_type": "execute_result"
    }
   ],
   "source": [
    "str1.count(\"i\")"
   ]
  },
  {
   "cell_type": "code",
   "execution_count": 143,
   "id": "e2682eaa",
   "metadata": {},
   "outputs": [
    {
     "name": "stdout",
     "output_type": "stream",
     "text": [
      "Encoded string:  this is string example... wow!\n"
     ]
    }
   ],
   "source": [
    "# 4. decode() - str.decode(encoding = \"UTF-8\", error = \"strict\")\n",
    "\n",
    "import base64\n",
    "str1 = \"this is string example... wow!\"\n",
    "\n",
    "str1.encode('utf-8', 'strict')\n",
    "\n",
    "\n",
    "print(\"Encoded string: \", str1)\n",
    "#print(\"Decoded string: \", str1.decode(\"utf-8\", 'strict')) # no direct decode in python 3\n",
    "# we need to use base64.base64decode(str1.decode(\"utf-8\", error = \"strict\"))\n"
   ]
  },
  {
   "cell_type": "code",
   "execution_count": 144,
   "id": "5c956cdb",
   "metadata": {},
   "outputs": [
    {
     "name": "stdout",
     "output_type": "stream",
     "text": [
      "Encoded string:  b'dGhpcyBpcyBzdHJpbmcgZXhhbXBsZS4uLiB3b3ch'\n"
     ]
    }
   ],
   "source": [
    "import base64\n",
    "str1 = \"this is string example... wow!\"\n",
    "\n",
    "#str1.encode('utf-8', 'strict')\n",
    "str1 = base64.b64encode(str1.encode(\"utf-8\", errors='strict'))\n",
    "\n",
    "print(\"Encoded string: \", str1)"
   ]
  },
  {
   "cell_type": "code",
   "execution_count": 33,
   "id": "43a1fe0e",
   "metadata": {},
   "outputs": [
    {
     "name": "stdout",
     "output_type": "stream",
     "text": [
      "Encoded string:  b'dGhpcyBpcyBzdHJpbmcgZXhhbXBsZS4uLiB3b3ch'\n",
      "Decoded string:  b'this is string example... wow!'\n"
     ]
    }
   ],
   "source": [
    "str1 = \"this is string example... wow!\"\n",
    "\n",
    "import base64\n",
    "\n",
    "str1 = base64.b64encode(str1.encode('utf-8', errors=\"strict\"))\n",
    "\n",
    "print(\"Encoded string: \", str1)\n",
    "print(\"Decoded string: \", base64.b64decode(str1.decode(\"utf-8\", errors=\"strict\")))"
   ]
  },
  {
   "cell_type": "code",
   "execution_count": 31,
   "id": "82b1ab36",
   "metadata": {},
   "outputs": [
    {
     "name": "stdout",
     "output_type": "stream",
     "text": [
      "Encoded string:  b'dGhpcyBpcyBzdHJpbmcgZXhhbXBsZS4uLiB3b3ch'\n"
     ]
    }
   ],
   "source": [
    "# 5 encode()\n",
    "\n",
    "str1 = \"this is string example... wow!\"\n",
    "\n",
    "import base64\n",
    "\n",
    "str1 = base64.b64encode(str1.encode('utf-8', errors=\"strict\"))\n",
    "\n",
    "print(\"Encoded string: \", str1)\n"
   ]
  },
  {
   "cell_type": "code",
   "execution_count": 37,
   "id": "d93b965e",
   "metadata": {},
   "outputs": [
    {
     "name": "stdout",
     "output_type": "stream",
     "text": [
      "True\n"
     ]
    }
   ],
   "source": [
    "# 6. endswith()\n",
    "\n",
    "str1 = \"this is string example... wow!\"\n",
    "\n",
    "suffix = \"!\"\n",
    "\n",
    "print(str1.endswith(suffix))"
   ]
  },
  {
   "cell_type": "code",
   "execution_count": 38,
   "id": "f7551a11",
   "metadata": {},
   "outputs": [
    {
     "name": "stdout",
     "output_type": "stream",
     "text": [
      "True\n"
     ]
    }
   ],
   "source": [
    "str1 = \"this is string example... wow!\"\n",
    "\n",
    "suffix = \"!\"\n",
    "\n",
    "print(str1.endswith(suffix, 20))"
   ]
  },
  {
   "cell_type": "code",
   "execution_count": 39,
   "id": "af3b53ab",
   "metadata": {},
   "outputs": [
    {
     "name": "stdout",
     "output_type": "stream",
     "text": [
      "False\n"
     ]
    }
   ],
   "source": [
    "str1 = \"this is string example... wow!\"\n",
    "\n",
    "suffix = \"exam\"\n",
    "\n",
    "print(str1.endswith(suffix, 20))"
   ]
  },
  {
   "cell_type": "code",
   "execution_count": 41,
   "id": "ede2c0cc",
   "metadata": {},
   "outputs": [
    {
     "name": "stdout",
     "output_type": "stream",
     "text": [
      "True\n"
     ]
    }
   ],
   "source": [
    "str1 = \"this is string example... wow!\"\n",
    "\n",
    "suffix = \"exam\"\n",
    "\n",
    "print(str1.endswith(suffix, 0, 19))"
   ]
  },
  {
   "cell_type": "code",
   "execution_count": 48,
   "id": "2dabda18",
   "metadata": {},
   "outputs": [
    {
     "name": "stdout",
     "output_type": "stream",
     "text": [
      "Original string:  this is \tstring example... wow!\n",
      "default expanded tab: this is         string example... wow!\n",
      "double expanded tab: this is        string example... wow!\n"
     ]
    }
   ],
   "source": [
    "# 7 expandtabs() - return copy of the string in which the tab character i.e. '\\t'\n",
    "\n",
    "str1 = \"this is \\tstring example... wow!\"\n",
    "\n",
    "print(\"Original string: \", str1)\n",
    "print(\"default expanded tab:\", str1.expandtabs())   # default is 8\n",
    "print(\"double expanded tab:\", str1.expandtabs(15))"
   ]
  },
  {
   "cell_type": "code",
   "execution_count": 49,
   "id": "0f1ef1ea",
   "metadata": {},
   "outputs": [
    {
     "name": "stdout",
     "output_type": "stream",
     "text": [
      "15\n"
     ]
    }
   ],
   "source": [
    "# 7. find()  # note if not found then return -1\n",
    "\n",
    "str1 = \"this is string example... wow!\"\n",
    "\n",
    "str2 = \"example\"\n",
    "\n",
    "print(str1.find(str2))"
   ]
  },
  {
   "cell_type": "code",
   "execution_count": 50,
   "id": "2be816fa",
   "metadata": {},
   "outputs": [
    {
     "name": "stdout",
     "output_type": "stream",
     "text": [
      "11\n"
     ]
    }
   ],
   "source": [
    "str3 = 'i'\n",
    "print(str1.find(str3, 10))"
   ]
  },
  {
   "cell_type": "code",
   "execution_count": 51,
   "id": "cf5034f7",
   "metadata": {},
   "outputs": [
    {
     "name": "stdout",
     "output_type": "stream",
     "text": [
      "-1\n"
     ]
    }
   ],
   "source": [
    "print(str1.find(str3, 40))"
   ]
  },
  {
   "cell_type": "code",
   "execution_count": 52,
   "id": "aa4a6898",
   "metadata": {},
   "outputs": [
    {
     "name": "stdout",
     "output_type": "stream",
     "text": [
      "11\n"
     ]
    }
   ],
   "source": [
    "# 8. index() # if index not found will raise an exception means will give error\n",
    "\n",
    "str1 = \"this is string example... wow!\"\n",
    "\n",
    "str3 = 'i'\n",
    "print(str1.index(str3, 10))"
   ]
  },
  {
   "cell_type": "code",
   "execution_count": 53,
   "id": "b45e08a5",
   "metadata": {},
   "outputs": [
    {
     "ename": "ValueError",
     "evalue": "substring not found",
     "output_type": "error",
     "traceback": [
      "\u001b[1;31m---------------------------------------------------------------------------\u001b[0m",
      "\u001b[1;31mValueError\u001b[0m                                Traceback (most recent call last)",
      "Input \u001b[1;32mIn [53]\u001b[0m, in \u001b[0;36m<cell line: 2>\u001b[1;34m()\u001b[0m\n\u001b[0;32m      1\u001b[0m str3 \u001b[38;5;241m=\u001b[39m \u001b[38;5;124m'\u001b[39m\u001b[38;5;124mi\u001b[39m\u001b[38;5;124m'\u001b[39m\n\u001b[1;32m----> 2\u001b[0m \u001b[38;5;28mprint\u001b[39m(\u001b[43mstr1\u001b[49m\u001b[38;5;241;43m.\u001b[39;49m\u001b[43mindex\u001b[49m\u001b[43m(\u001b[49m\u001b[43mstr3\u001b[49m\u001b[43m,\u001b[49m\u001b[43m \u001b[49m\u001b[38;5;241;43m40\u001b[39;49m\u001b[43m)\u001b[49m)\n",
      "\u001b[1;31mValueError\u001b[0m: substring not found"
     ]
    }
   ],
   "source": [
    "str3 = 'i'\n",
    "print(str1.index(str3, 40))"
   ]
  },
  {
   "cell_type": "code",
   "execution_count": 54,
   "id": "a8bc6585",
   "metadata": {},
   "outputs": [
    {
     "name": "stdout",
     "output_type": "stream",
     "text": [
      "True\n"
     ]
    }
   ],
   "source": [
    "# 9. isalnum()\n",
    "\n",
    "str1 = 'this2022'\n",
    "print(str1.isalnum())\n"
   ]
  },
  {
   "cell_type": "code",
   "execution_count": 61,
   "id": "4485ccb9",
   "metadata": {},
   "outputs": [
    {
     "name": "stdout",
     "output_type": "stream",
     "text": [
      "False\n"
     ]
    }
   ],
   "source": [
    "str1 = \"this is string 123 23 example... wow!\"\n",
    "\n",
    "print(str1.isalnum())"
   ]
  },
  {
   "cell_type": "code",
   "execution_count": 57,
   "id": "22d2467f",
   "metadata": {},
   "outputs": [
    {
     "name": "stdout",
     "output_type": "stream",
     "text": [
      "True\n"
     ]
    }
   ],
   "source": [
    "# 10. isalpha()\n",
    "\n",
    "str1 = \"hello\"\n",
    "\n",
    "print(str1.isalpha())"
   ]
  },
  {
   "cell_type": "code",
   "execution_count": 58,
   "id": "88dbc5d2",
   "metadata": {},
   "outputs": [
    {
     "name": "stdout",
     "output_type": "stream",
     "text": [
      "False\n"
     ]
    }
   ],
   "source": [
    "str1 = \"hello world\"\n",
    "print(str1.isalpha())"
   ]
  },
  {
   "cell_type": "code",
   "execution_count": 59,
   "id": "4df1c2fd",
   "metadata": {},
   "outputs": [
    {
     "name": "stdout",
     "output_type": "stream",
     "text": [
      "True\n"
     ]
    }
   ],
   "source": [
    "# 11. isdigit()\n",
    "\n",
    "str1 = '1223445'\n",
    "print(str1.isdigit())"
   ]
  },
  {
   "cell_type": "code",
   "execution_count": 60,
   "id": "f615993e",
   "metadata": {},
   "outputs": [
    {
     "name": "stdout",
     "output_type": "stream",
     "text": [
      "False\n"
     ]
    }
   ],
   "source": [
    "str1 = 'Hello123'\n",
    "print(str1.isdigit())"
   ]
  },
  {
   "cell_type": "code",
   "execution_count": 62,
   "id": "1fe16ff5",
   "metadata": {},
   "outputs": [
    {
     "name": "stdout",
     "output_type": "stream",
     "text": [
      "False\n"
     ]
    }
   ],
   "source": [
    "# 12. isnumeric()\n",
    "\n",
    "str1 = \"this2022\"\n",
    "print(str1.isnumeric())"
   ]
  },
  {
   "cell_type": "code",
   "execution_count": 63,
   "id": "b346edd2",
   "metadata": {},
   "outputs": [
    {
     "name": "stdout",
     "output_type": "stream",
     "text": [
      "True\n"
     ]
    }
   ],
   "source": [
    "str1 = \"23323\"\n",
    "print(str1.isnumeric())"
   ]
  },
  {
   "cell_type": "code",
   "execution_count": 64,
   "id": "3751a33a",
   "metadata": {},
   "outputs": [
    {
     "ename": "AttributeError",
     "evalue": "'int' object has no attribute 'isnumeric'",
     "output_type": "error",
     "traceback": [
      "\u001b[1;31m---------------------------------------------------------------------------\u001b[0m",
      "\u001b[1;31mAttributeError\u001b[0m                            Traceback (most recent call last)",
      "Input \u001b[1;32mIn [64]\u001b[0m, in \u001b[0;36m<cell line: 2>\u001b[1;34m()\u001b[0m\n\u001b[0;32m      1\u001b[0m str1 \u001b[38;5;241m=\u001b[39m \u001b[38;5;241m2343\u001b[39m\n\u001b[1;32m----> 2\u001b[0m \u001b[38;5;28mprint\u001b[39m(\u001b[43mstr1\u001b[49m\u001b[38;5;241;43m.\u001b[39;49m\u001b[43misnumeric\u001b[49m())\n",
      "\u001b[1;31mAttributeError\u001b[0m: 'int' object has no attribute 'isnumeric'"
     ]
    }
   ],
   "source": [
    "str1 = 2343\n",
    "print(str1.isnumeric())"
   ]
  },
  {
   "cell_type": "code",
   "execution_count": 65,
   "id": "37bf8ed1",
   "metadata": {},
   "outputs": [
    {
     "name": "stdout",
     "output_type": "stream",
     "text": [
      "True\n"
     ]
    }
   ],
   "source": [
    "# 13. isspace()\n",
    "\n",
    "str1 = \"  \"\n",
    "print(str1.isspace())"
   ]
  },
  {
   "cell_type": "code",
   "execution_count": 66,
   "id": "45d0fce5",
   "metadata": {},
   "outputs": [
    {
     "name": "stdout",
     "output_type": "stream",
     "text": [
      "False\n"
     ]
    }
   ],
   "source": [
    "str1 = \"Hello World\"\n",
    "\n",
    "print(str1.isspace())"
   ]
  },
  {
   "cell_type": "code",
   "execution_count": 67,
   "id": "f983d81b",
   "metadata": {},
   "outputs": [
    {
     "name": "stdout",
     "output_type": "stream",
     "text": [
      "True\n"
     ]
    }
   ],
   "source": [
    "# 14. istitle()\n",
    "\n",
    "str1 = \"Hello World!\"\n",
    "print(str1.istitle())"
   ]
  },
  {
   "cell_type": "code",
   "execution_count": 68,
   "id": "cdb23b97",
   "metadata": {},
   "outputs": [
    {
     "name": "stdout",
     "output_type": "stream",
     "text": [
      "True\n"
     ]
    }
   ],
   "source": [
    "str1 = \"Hello World 123_!\"\n",
    "print(str1.istitle())"
   ]
  },
  {
   "cell_type": "code",
   "execution_count": 69,
   "id": "abfe4b2c",
   "metadata": {},
   "outputs": [
    {
     "name": "stdout",
     "output_type": "stream",
     "text": [
      "False\n"
     ]
    }
   ],
   "source": [
    "str1 = \"Hello world\"\n",
    "print(str1.istitle())"
   ]
  },
  {
   "cell_type": "code",
   "execution_count": 70,
   "id": "214475e8",
   "metadata": {},
   "outputs": [
    {
     "name": "stdout",
     "output_type": "stream",
     "text": [
      "True\n"
     ]
    }
   ],
   "source": [
    "# 15. isupper()\n",
    "\n",
    "str1 = \"HELLO!112\"\n",
    "print(str1.isupper())"
   ]
  },
  {
   "cell_type": "code",
   "execution_count": 71,
   "id": "8db2934f",
   "metadata": {},
   "outputs": [
    {
     "name": "stdout",
     "output_type": "stream",
     "text": [
      "False\n"
     ]
    }
   ],
   "source": [
    "str1 = 'Hello'\n",
    "print(str1.isupper())"
   ]
  },
  {
   "cell_type": "code",
   "execution_count": 72,
   "id": "266c83f3",
   "metadata": {},
   "outputs": [
    {
     "data": {
      "text/plain": [
       "'a-b-c'"
      ]
     },
     "execution_count": 72,
     "metadata": {},
     "output_type": "execute_result"
    }
   ],
   "source": [
    "# 16.  join()  # str.join(seq)\n",
    "\n",
    "s = \"-\"\n",
    "sequence = (\"a\", \"b\", \"c\")\n",
    "\n",
    "s.join(sequence)\n",
    "\n"
   ]
  },
  {
   "cell_type": "code",
   "execution_count": 73,
   "id": "18c96cd9",
   "metadata": {},
   "outputs": [
    {
     "data": {
      "text/plain": [
       "'hello world! \\n welcome to python world'"
      ]
     },
     "execution_count": 73,
     "metadata": {},
     "output_type": "execute_result"
    }
   ],
   "source": [
    "str_lst = [\"hello\", \"world!\", \"\\n\", \"welcome\", \"to\", \"python world\"]\n",
    "\n",
    "\" \".join(str_lst)    # joining with str"
   ]
  },
  {
   "cell_type": "code",
   "execution_count": 74,
   "id": "25c02c8b",
   "metadata": {},
   "outputs": [
    {
     "data": {
      "text/plain": [
       "11"
      ]
     },
     "execution_count": 74,
     "metadata": {},
     "output_type": "execute_result"
    }
   ],
   "source": [
    "# 17. len()\n",
    "\n",
    "str1 = \"hello world\"\n",
    "\n",
    "len(str1)"
   ]
  },
  {
   "cell_type": "code",
   "execution_count": 75,
   "id": "c262bae8",
   "metadata": {},
   "outputs": [
    {
     "data": {
      "text/plain": [
       "5"
      ]
     },
     "execution_count": 75,
     "metadata": {},
     "output_type": "execute_result"
    }
   ],
   "source": [
    "len(\"hello\")"
   ]
  },
  {
   "cell_type": "code",
   "execution_count": 76,
   "id": "8f0d1b7c",
   "metadata": {},
   "outputs": [
    {
     "name": "stdout",
     "output_type": "stream",
     "text": [
      "hello*************************\n"
     ]
    }
   ],
   "source": [
    "# 18. ljust()\n",
    "\n",
    "str1 = \"hello\"\n",
    "\n",
    "print(str1.ljust(30, \"*\"))"
   ]
  },
  {
   "cell_type": "code",
   "execution_count": 77,
   "id": "149cb567",
   "metadata": {},
   "outputs": [
    {
     "data": {
      "text/plain": [
       "'hello-------------------------'"
      ]
     },
     "execution_count": 77,
     "metadata": {},
     "output_type": "execute_result"
    }
   ],
   "source": [
    "str1.ljust(30, \"-\")"
   ]
  },
  {
   "cell_type": "code",
   "execution_count": 78,
   "id": "d392a783",
   "metadata": {},
   "outputs": [
    {
     "data": {
      "text/plain": [
       "'hello world123!'"
      ]
     },
     "execution_count": 78,
     "metadata": {},
     "output_type": "execute_result"
    }
   ],
   "source": [
    "# 19. lower()\n",
    "\n",
    "str1 = \"HELLO WORLD123!\"\n",
    "str1.lower()"
   ]
  },
  {
   "cell_type": "code",
   "execution_count": 79,
   "id": "0be5a886",
   "metadata": {},
   "outputs": [
    {
     "name": "stdout",
     "output_type": "stream",
     "text": [
      "hello\n"
     ]
    }
   ],
   "source": [
    "str1 = \"heLLO\"\n",
    "print(str1.lower())"
   ]
  },
  {
   "cell_type": "code",
   "execution_count": 80,
   "id": "6179939c",
   "metadata": {},
   "outputs": [
    {
     "name": "stdout",
     "output_type": "stream",
     "text": [
      "Hello*****\n"
     ]
    }
   ],
   "source": [
    "# 20. lstrip()\n",
    "\n",
    "str1 = \"*****Hello*****\"\n",
    "print(str1.lstrip(\"*\"))"
   ]
  },
  {
   "cell_type": "code",
   "execution_count": 81,
   "id": "c0362386",
   "metadata": {},
   "outputs": [
    {
     "name": "stdout",
     "output_type": "stream",
     "text": [
      "hell0 ------\n"
     ]
    }
   ],
   "source": [
    "str1 = \"      hell0 ------\"\n",
    "print(str1.lstrip())"
   ]
  },
  {
   "cell_type": "code",
   "execution_count": 82,
   "id": "d6e249a9",
   "metadata": {},
   "outputs": [
    {
     "name": "stdout",
     "output_type": "stream",
     "text": [
      "th3s 3s str3ng 2x1mpl2... w4w!\n"
     ]
    }
   ],
   "source": [
    "# 21. maketrans()   # str.maketrans(intab, outtab)\n",
    "# intab - This is the string having having actual character.\n",
    "# outtab - This is the string having corresponding mapping character.\n",
    "\n",
    "intab = \"aeiou\"\n",
    "\n",
    "outtab = \"12345\"\n",
    "\n",
    "str1 = \"this is string example... wow!\"\n",
    "\n",
    "transtab = str1.maketrans(intab, outtab)\n",
    "\n",
    "print(str1.translate(transtab))\n"
   ]
  },
  {
   "cell_type": "code",
   "execution_count": 83,
   "id": "26519745",
   "metadata": {},
   "outputs": [
    {
     "data": {
      "text/plain": [
       "{108: 36}"
      ]
     },
     "execution_count": 83,
     "metadata": {},
     "output_type": "execute_result"
    }
   ],
   "source": [
    "str1 = \"hello world\"\n",
    "\n",
    "str1.maketrans(\"l\", \"$\")\n"
   ]
  },
  {
   "cell_type": "code",
   "execution_count": 85,
   "id": "753b43c4",
   "metadata": {},
   "outputs": [
    {
     "data": {
      "text/plain": [
       "'he$$o wor$d'"
      ]
     },
     "execution_count": 85,
     "metadata": {},
     "output_type": "execute_result"
    }
   ],
   "source": [
    "str1.translate(str1.maketrans(\"l\", \"$\"))"
   ]
  },
  {
   "cell_type": "code",
   "execution_count": 86,
   "id": "7ffb5315",
   "metadata": {},
   "outputs": [
    {
     "data": {
      "text/plain": [
       "'he##$ w$r#d'"
      ]
     },
     "execution_count": 86,
     "metadata": {},
     "output_type": "execute_result"
    }
   ],
   "source": [
    "str1 = \"hello world\"\n",
    "\n",
    "change = {\"l\":\"#\", \"o\":\"$\"}\n",
    "str1.maketrans(change)\n",
    "str1.translate(str1.maketrans(change))"
   ]
  },
  {
   "cell_type": "code",
   "execution_count": 87,
   "id": "529f2118",
   "metadata": {},
   "outputs": [
    {
     "data": {
      "text/plain": [
       "'he##$ w$r#2'"
      ]
     },
     "execution_count": 87,
     "metadata": {},
     "output_type": "execute_result"
    }
   ],
   "source": [
    "str1 = \"hello world\"\n",
    "\n",
    "change = {\"l\":\"#\", \"o\":\"$\", \"d\":\"2\"}\n",
    "str1.maketrans(change)\n",
    "str1.translate(str1.maketrans(change))"
   ]
  },
  {
   "cell_type": "code",
   "execution_count": 90,
   "id": "56559e10",
   "metadata": {},
   "outputs": [
    {
     "data": {
      "text/plain": [
       "'he##$ w$r#2{('"
      ]
     },
     "execution_count": 90,
     "metadata": {},
     "output_type": "execute_result"
    }
   ],
   "source": [
    "# string keys in translate table must be of length 1\n",
    "\n",
    "str1 = \"hello world{([\"\n",
    "\n",
    "change = {\"l\":\"#\", \"o\":\"$\", \"d\":\"2\",\"[\":\"\"}\n",
    "str1.maketrans(change)\n",
    "str1.translate(str1.maketrans(change))"
   ]
  },
  {
   "cell_type": "code",
   "execution_count": 94,
   "id": "ae104158",
   "metadata": {},
   "outputs": [
    {
     "data": {
      "text/plain": [
       "{101: 42, 108: 36, 111: 35}"
      ]
     },
     "execution_count": 94,
     "metadata": {},
     "output_type": "execute_result"
    }
   ],
   "source": [
    "str1 = \"hello world\"\n",
    "\n",
    "str2 = \"elo\"\n",
    "str3 = \"*$#\"\n",
    "str1.maketrans(str2, str3) # we can maps 2 argument and when we will provide 3 argument \n",
    "                           # it will will be map with \"None\" and in output of tanslate it will be\n",
    "                           # removed from the string\n"
   ]
  },
  {
   "cell_type": "markdown",
   "id": "2141e9ef",
   "metadata": {},
   "source": [
    "As we can see that we mapped all three 'e', 'l', 'o' along with \"*\", \"$\",\"#\" in ordinal num."
   ]
  },
  {
   "cell_type": "code",
   "execution_count": 95,
   "id": "e3e70984",
   "metadata": {},
   "outputs": [
    {
     "data": {
      "text/plain": [
       "'h*$$# w#r$d'"
      ]
     },
     "execution_count": 95,
     "metadata": {},
     "output_type": "execute_result"
    }
   ],
   "source": [
    "# now let's tarnselate it \n",
    "\n",
    "str1.translate(str1.maketrans(str2, str3))"
   ]
  },
  {
   "cell_type": "code",
   "execution_count": 96,
   "id": "9cbe890c",
   "metadata": {},
   "outputs": [
    {
     "data": {
      "text/plain": [
       "{101: 42, 108: 36, 111: 35, 123: None, 40: None, 91: None}"
      ]
     },
     "execution_count": 96,
     "metadata": {},
     "output_type": "execute_result"
    }
   ],
   "source": [
    "str1 = \"hello world{([\"\n",
    "\n",
    "str2 = \"elo\"\n",
    "str3 = \"*$#\"\n",
    "str4 = \"{([\"\n",
    "str1.maketrans(str2, str3, str4)"
   ]
  },
  {
   "cell_type": "markdown",
   "id": "2a03aadd",
   "metadata": {},
   "source": [
    "As we can see that the third argument str4 has been mapped with None. Let's see the output"
   ]
  },
  {
   "cell_type": "code",
   "execution_count": 97,
   "id": "9a8191f9",
   "metadata": {},
   "outputs": [
    {
     "data": {
      "text/plain": [
       "'h*$$# w#r$d'"
      ]
     },
     "execution_count": 97,
     "metadata": {},
     "output_type": "execute_result"
    }
   ],
   "source": [
    "str1.translate(str1.maketrans(str2, str3, str4))"
   ]
  },
  {
   "cell_type": "markdown",
   "id": "7a2b5169",
   "metadata": {},
   "source": [
    "Means the third argument will be removed because that had been mapped with 'None'."
   ]
  },
  {
   "cell_type": "code",
   "execution_count": 91,
   "id": "8b3c74c1",
   "metadata": {},
   "outputs": [
    {
     "name": "stdout",
     "output_type": "stream",
     "text": [
      "{97: '123', 98: '456', 99: '789'}\n"
     ]
    }
   ],
   "source": [
    "# example dictionary\n",
    "dict = {\"a\": \"123\", \"b\": \"456\", \"c\": \"789\"}\n",
    "string = \"abc\"\n",
    "print(string.maketrans(dict))"
   ]
  },
  {
   "cell_type": "code",
   "execution_count": 92,
   "id": "30bb5372",
   "metadata": {},
   "outputs": [
    {
     "name": "stdout",
     "output_type": "stream",
     "text": [
      "{97: '123', 98: '456', 99: '789'}\n"
     ]
    }
   ],
   "source": [
    "# example dictionary\n",
    "dict = {97: \"123\", 98: \"456\", 99: \"789\"}\n",
    "string = \"abc\"\n",
    "print(string.maketrans(dict))"
   ]
  },
  {
   "cell_type": "code",
   "execution_count": 93,
   "id": "06ae1db2",
   "metadata": {},
   "outputs": [
    {
     "name": "stdout",
     "output_type": "stream",
     "text": [
      "{97: 100, 98: 101, 99: 102}\n"
     ]
    },
    {
     "ename": "ValueError",
     "evalue": "the first two maketrans arguments must have equal length",
     "output_type": "error",
     "traceback": [
      "\u001b[1;31m---------------------------------------------------------------------------\u001b[0m",
      "\u001b[1;31mValueError\u001b[0m                                Traceback (most recent call last)",
      "Input \u001b[1;32mIn [93]\u001b[0m, in \u001b[0;36m<cell line: 11>\u001b[1;34m()\u001b[0m\n\u001b[0;32m      9\u001b[0m secondString \u001b[38;5;241m=\u001b[39m \u001b[38;5;124m\"\u001b[39m\u001b[38;5;124mdefghi\u001b[39m\u001b[38;5;124m\"\u001b[39m\n\u001b[0;32m     10\u001b[0m string \u001b[38;5;241m=\u001b[39m \u001b[38;5;124m\"\u001b[39m\u001b[38;5;124mabc\u001b[39m\u001b[38;5;124m\"\u001b[39m\n\u001b[1;32m---> 11\u001b[0m \u001b[38;5;28mprint\u001b[39m(\u001b[43mstring\u001b[49m\u001b[38;5;241;43m.\u001b[39;49m\u001b[43mmaketrans\u001b[49m\u001b[43m(\u001b[49m\u001b[43mfirstString\u001b[49m\u001b[43m,\u001b[49m\u001b[43m \u001b[49m\u001b[43msecondString\u001b[49m\u001b[43m)\u001b[49m)\n",
      "\u001b[1;31mValueError\u001b[0m: the first two maketrans arguments must have equal length"
     ]
    }
   ],
   "source": [
    "# first string\n",
    "firstString = \"abc\"\n",
    "secondString = \"def\"\n",
    "string = \"abc\"\n",
    "print(string.maketrans(firstString, secondString))\n",
    "\n",
    "# example dictionary\n",
    "firstString = \"abc\"\n",
    "secondString = \"defghi\"\n",
    "string = \"abc\"\n",
    "print(string.maketrans(firstString, secondString))"
   ]
  },
  {
   "cell_type": "code",
   "execution_count": 98,
   "id": "db81ca67",
   "metadata": {},
   "outputs": [
    {
     "data": {
      "text/plain": [
       "'David warner'"
      ]
     },
     "execution_count": 98,
     "metadata": {},
     "output_type": "execute_result"
    }
   ],
   "source": [
    "name = \"Dmvid warnor\"\n",
    "\n",
    "# we need to make correction in name and make this like - \"David worner\"\n",
    "str1 = \"mo\"\n",
    "str2 = \"ae\"\n",
    "\n",
    "name.translate(name.maketrans(str1, str2))\n"
   ]
  },
  {
   "cell_type": "code",
   "execution_count": 99,
   "id": "01415ec6",
   "metadata": {},
   "outputs": [
    {
     "data": {
      "text/plain": [
       "'o'"
      ]
     },
     "execution_count": 99,
     "metadata": {},
     "output_type": "execute_result"
    }
   ],
   "source": [
    "# 22. max()\n",
    "\n",
    "str1 = \"hello\"\n",
    "max(str1)"
   ]
  },
  {
   "cell_type": "code",
   "execution_count": 100,
   "id": "38994e56",
   "metadata": {},
   "outputs": [
    {
     "data": {
      "text/plain": [
       "'e'"
      ]
     },
     "execution_count": 100,
     "metadata": {},
     "output_type": "execute_result"
    }
   ],
   "source": [
    "# 23. min()\n",
    "\n",
    "str1 = \"hello\"\n",
    "min(str1)"
   ]
  },
  {
   "cell_type": "code",
   "execution_count": 101,
   "id": "887061ac",
   "metadata": {},
   "outputs": [
    {
     "data": {
      "text/plain": [
       "'Hello world! , welcome to the Python Programming.'"
      ]
     },
     "execution_count": 101,
     "metadata": {},
     "output_type": "execute_result"
    }
   ],
   "source": [
    "# 24. replace() # str.replace(old, new, [,max])\n",
    "\n",
    "# return copy of the string means doesn't affect the original string.\n",
    "\n",
    "str1 = \"Hello planet , welcome to the Python Programming.\"\n",
    "\n",
    "str1.replace(\"planet\", \"world!\")"
   ]
  },
  {
   "cell_type": "code",
   "execution_count": 102,
   "id": "c90091eb",
   "metadata": {},
   "outputs": [
    {
     "name": "stdout",
     "output_type": "stream",
     "text": [
      "before replace method string:  hello world\n",
      "during replace method string:  he##o world\n",
      "after repladce method string:  hello world\n"
     ]
    }
   ],
   "source": [
    "str1 = \"hello world\"\n",
    "print(\"before replace method string: \", str1)\n",
    "print(\"during replace method string: \", str1.replace(\"l\", \"#\", 2))\n",
    "print(\"after repladce method string: \", str1)"
   ]
  },
  {
   "cell_type": "code",
   "execution_count": 103,
   "id": "a22a8e53",
   "metadata": {},
   "outputs": [
    {
     "data": {
      "text/plain": [
       "9"
      ]
     },
     "execution_count": 103,
     "metadata": {},
     "output_type": "execute_result"
    }
   ],
   "source": [
    "# 25. rfind()  # find the string from right side means return last string if not found return -1\n",
    "\n",
    "str1 = \"Hello world\"\n",
    "str1.rfind(\"l\")"
   ]
  },
  {
   "cell_type": "code",
   "execution_count": 104,
   "id": "9d2ced8c",
   "metadata": {},
   "outputs": [
    {
     "data": {
      "text/plain": [
       "-1"
      ]
     },
     "execution_count": 104,
     "metadata": {},
     "output_type": "execute_result"
    }
   ],
   "source": [
    "str1 = \"hello world\"\n",
    "str1.rfind(\"l\", 30)"
   ]
  },
  {
   "cell_type": "code",
   "execution_count": 105,
   "id": "12a0172f",
   "metadata": {},
   "outputs": [
    {
     "data": {
      "text/plain": [
       "3"
      ]
     },
     "execution_count": 105,
     "metadata": {},
     "output_type": "execute_result"
    }
   ],
   "source": [
    "str1 = \"hello world\"\n",
    "str1.rfind(\"l\", 1,6) "
   ]
  },
  {
   "cell_type": "code",
   "execution_count": 106,
   "id": "73d12675",
   "metadata": {},
   "outputs": [
    {
     "data": {
      "text/plain": [
       "9"
      ]
     },
     "execution_count": 106,
     "metadata": {},
     "output_type": "execute_result"
    }
   ],
   "source": [
    "# 26.  rindex() # will return last index of the string if not found will through an error \n",
    "\n",
    "str1 = \"hello world\"\n",
    "\n",
    "str1.rindex(\"l\")"
   ]
  },
  {
   "cell_type": "code",
   "execution_count": 107,
   "id": "1ed68ee2",
   "metadata": {},
   "outputs": [
    {
     "data": {
      "text/plain": [
       "3"
      ]
     },
     "execution_count": 107,
     "metadata": {},
     "output_type": "execute_result"
    }
   ],
   "source": [
    "str1 = \"hello world\"\n",
    "\n",
    "str1.rindex(\"l\", 1,6)"
   ]
  },
  {
   "cell_type": "code",
   "execution_count": 109,
   "id": "2873e40a",
   "metadata": {},
   "outputs": [
    {
     "ename": "ValueError",
     "evalue": "substring not found",
     "output_type": "error",
     "traceback": [
      "\u001b[1;31m---------------------------------------------------------------------------\u001b[0m",
      "\u001b[1;31mValueError\u001b[0m                                Traceback (most recent call last)",
      "Input \u001b[1;32mIn [109]\u001b[0m, in \u001b[0;36m<cell line: 3>\u001b[1;34m()\u001b[0m\n\u001b[0;32m      1\u001b[0m str1 \u001b[38;5;241m=\u001b[39m \u001b[38;5;124m\"\u001b[39m\u001b[38;5;124mhello world\u001b[39m\u001b[38;5;124m\"\u001b[39m\n\u001b[1;32m----> 3\u001b[0m \u001b[43mstr1\u001b[49m\u001b[38;5;241;43m.\u001b[39;49m\u001b[43mrindex\u001b[49m\u001b[43m(\u001b[49m\u001b[38;5;124;43m\"\u001b[39;49m\u001b[38;5;124;43ml\u001b[39;49m\u001b[38;5;124;43m\"\u001b[39;49m\u001b[43m,\u001b[49m\u001b[43m \u001b[49m\u001b[38;5;241;43m30\u001b[39;49m\u001b[43m)\u001b[49m\n",
      "\u001b[1;31mValueError\u001b[0m: substring not found"
     ]
    }
   ],
   "source": [
    "str1 = \"hello world\"\n",
    "\n",
    "str1.rindex(\"l\", 30)"
   ]
  },
  {
   "cell_type": "code",
   "execution_count": 110,
   "id": "cf9523bd",
   "metadata": {},
   "outputs": [
    {
     "data": {
      "text/plain": [
       "'**********Hello'"
      ]
     },
     "execution_count": 110,
     "metadata": {},
     "output_type": "execute_result"
    }
   ],
   "source": [
    "# 27.  rjust  # will shift the string right side \n",
    "\n",
    "str1 = \"Hello\"\n",
    "\n",
    "str1.rjust(15,\"*\")"
   ]
  },
  {
   "cell_type": "code",
   "execution_count": 111,
   "id": "7eda8a64",
   "metadata": {},
   "outputs": [
    {
     "data": {
      "text/plain": [
       "'??????????Hello'"
      ]
     },
     "execution_count": 111,
     "metadata": {},
     "output_type": "execute_result"
    }
   ],
   "source": [
    "\n",
    "str1 = \"Hello\"\n",
    "\n",
    "str1.rjust(15,\"?\")"
   ]
  },
  {
   "cell_type": "code",
   "execution_count": 112,
   "id": "01d86212",
   "metadata": {},
   "outputs": [
    {
     "data": {
      "text/plain": [
       "'*******Hello'"
      ]
     },
     "execution_count": 112,
     "metadata": {},
     "output_type": "execute_result"
    }
   ],
   "source": [
    "# 28.  rstrip()  # strip the right side part of the string \n",
    "\n",
    "str1 = \"*******Hello********\"\n",
    "str1.rstrip(\"*\")"
   ]
  },
  {
   "cell_type": "code",
   "execution_count": 113,
   "id": "4f9d2331",
   "metadata": {},
   "outputs": [
    {
     "data": {
      "text/plain": [
       "['Hello', 'World']"
      ]
     },
     "execution_count": 113,
     "metadata": {},
     "output_type": "execute_result"
    }
   ],
   "source": [
    "# 29.  split()  # return the list of all the words in the string, using separator default is \" \"\n",
    "\n",
    "str1 = \"Hello World\"\n",
    "\n",
    "str1.split()"
   ]
  },
  {
   "cell_type": "code",
   "execution_count": 115,
   "id": "75f0861a",
   "metadata": {},
   "outputs": [
    {
     "data": {
      "text/plain": [
       "['He', '', 'o World']"
      ]
     },
     "execution_count": 115,
     "metadata": {},
     "output_type": "execute_result"
    }
   ],
   "source": [
    "str1 = \"Hello World\"\n",
    "\n",
    "str1.split(\"l\", 2)"
   ]
  },
  {
   "cell_type": "code",
   "execution_count": 116,
   "id": "df29ba6a",
   "metadata": {},
   "outputs": [
    {
     "data": {
      "text/plain": [
       "['Hello World']"
      ]
     },
     "execution_count": 116,
     "metadata": {},
     "output_type": "execute_result"
    }
   ],
   "source": [
    "str1 = \"Hello World\"\n",
    "\n",
    "str1.split(\"i\", 2)"
   ]
  },
  {
   "cell_type": "code",
   "execution_count": 119,
   "id": "c7a1977e",
   "metadata": {},
   "outputs": [
    {
     "data": {
      "text/plain": [
       "['h', 'llo']"
      ]
     },
     "execution_count": 119,
     "metadata": {},
     "output_type": "execute_result"
    }
   ],
   "source": [
    "str1 = \"hello\"\n",
    "str1.split(\"e\")"
   ]
  },
  {
   "cell_type": "code",
   "execution_count": 121,
   "id": "91255575",
   "metadata": {},
   "outputs": [
    {
     "data": {
      "text/plain": [
       "['hello ', 'world this is ', 'example of ', 'splitlines']"
      ]
     },
     "execution_count": 121,
     "metadata": {},
     "output_type": "execute_result"
    }
   ],
   "source": [
    "# 30.  splitlines()  # returns a list with all the lines in string\n",
    "\n",
    "str1 = \"hello \\nworld this is \\nexample of \\nsplitlines\"\n",
    "str1.splitlines()"
   ]
  },
  {
   "cell_type": "code",
   "execution_count": 125,
   "id": "450cbc2e",
   "metadata": {},
   "outputs": [
    {
     "data": {
      "text/plain": [
       "['hello ', 'world \\\\ this \\\\ is ', 'example of ', 'splitlines']"
      ]
     },
     "execution_count": 125,
     "metadata": {},
     "output_type": "execute_result"
    }
   ],
   "source": [
    "\n",
    "str1 = \"hello \\nworld \\ this \\ is \\nexample of \\nsplitlines\"\n",
    "str1.splitlines()"
   ]
  },
  {
   "cell_type": "code",
   "execution_count": 126,
   "id": "e6106bc6",
   "metadata": {},
   "outputs": [
    {
     "data": {
      "text/plain": [
       "True"
      ]
     },
     "execution_count": 126,
     "metadata": {},
     "output_type": "execute_result"
    }
   ],
   "source": [
    "# 31.  startswith()   # method check wether the string start with str.\n",
    "\n",
    "str1 = \"this string is just for chacking\"\n",
    "str1.startswith(\"this\")"
   ]
  },
  {
   "cell_type": "code",
   "execution_count": 127,
   "id": "7fee9b08",
   "metadata": {},
   "outputs": [
    {
     "data": {
      "text/plain": [
       "True"
      ]
     },
     "execution_count": 127,
     "metadata": {},
     "output_type": "execute_result"
    }
   ],
   "source": [
    "str1 = \"this string is just for chacking\"\n",
    "str1.startswith(\"string\", 5, 20)"
   ]
  },
  {
   "cell_type": "code",
   "execution_count": 128,
   "id": "53374d29",
   "metadata": {},
   "outputs": [
    {
     "data": {
      "text/plain": [
       "False"
      ]
     },
     "execution_count": 128,
     "metadata": {},
     "output_type": "execute_result"
    }
   ],
   "source": [
    "str1 = \"this string is just for chacking\"\n",
    "str1.startswith(\"string\", 4, 20)"
   ]
  },
  {
   "cell_type": "code",
   "execution_count": 129,
   "id": "fc6ee67a",
   "metadata": {},
   "outputs": [
    {
     "data": {
      "text/plain": [
       "'hello'"
      ]
     },
     "execution_count": 129,
     "metadata": {},
     "output_type": "execute_result"
    }
   ],
   "source": [
    "# 32.  strip()  # return a copy of striped string\n",
    "\n",
    "str1 = \"----hello******\"\n",
    "\n",
    "str1.strip(\"-*\")"
   ]
  },
  {
   "cell_type": "code",
   "execution_count": 130,
   "id": "1073f688",
   "metadata": {},
   "outputs": [
    {
     "data": {
      "text/plain": [
       "'hEllO wOrlD123'"
      ]
     },
     "execution_count": 130,
     "metadata": {},
     "output_type": "execute_result"
    }
   ],
   "source": [
    "# 33.  swapcase()  # return the swapped string copy of the original string.\n",
    "\n",
    "str1 = \"HeLLo WoRLd123\"\n",
    "\n",
    "str1.swapcase()\n"
   ]
  },
  {
   "cell_type": "code",
   "execution_count": 132,
   "id": "5fc5135c",
   "metadata": {},
   "outputs": [
    {
     "name": "stdout",
     "output_type": "stream",
     "text": [
      "Original string:  hello world, welcome to python programming\n",
      "\n",
      "Swapped string: HELLO WORLD, WELCOME TO PYTHON PROGRAMMING\n",
      "\n",
      "after swapecase string:  hello world, welcome to python programming\n"
     ]
    }
   ],
   "source": [
    "# 34.  title()  # return a copy of string with every word's first letter in upper case\n",
    "\n",
    "str1 = \"hello world, welcome to python programming\"\n",
    "\n",
    "print(\"Original string: \", str1)\n",
    "print()\n",
    "print(\"Swapped string:\", str1.swapcase())\n",
    "print()\n",
    "print(\"after swapecase string: \", str1)"
   ]
  },
  {
   "cell_type": "code",
   "execution_count": 133,
   "id": "e9a32ed4",
   "metadata": {},
   "outputs": [
    {
     "data": {
      "text/plain": [
       "{97: 49, 101: 50, 105: 51, 111: 52, 117: 53}"
      ]
     },
     "execution_count": 133,
     "metadata": {},
     "output_type": "execute_result"
    }
   ],
   "source": [
    "# 35.  translate()  # return a copy of the string in which all the character have been translated\n",
    "                    # using table\n",
    "    \n",
    "intab = \"aeiou\"\n",
    "\n",
    "outtab = \"12345\"\n",
    "\n",
    "str1 = \"this is string example... wow!\"\n",
    "\n",
    "transtab = str1.maketrans(intab, outtab)\n",
    "\n",
    "\n",
    "transtab # all element have been translated with corresponding value in ordinal\n"
   ]
  },
  {
   "cell_type": "code",
   "execution_count": 134,
   "id": "8ea1df2d",
   "metadata": {},
   "outputs": [
    {
     "name": "stdout",
     "output_type": "stream",
     "text": [
      "th3s 3s str3ng 2x1mpl2... w4w!\n"
     ]
    }
   ],
   "source": [
    "print(str1.translate(transtab))\n"
   ]
  },
  {
   "cell_type": "code",
   "execution_count": 135,
   "id": "dce1fca2",
   "metadata": {},
   "outputs": [
    {
     "data": {
      "text/plain": [
       "'HELLO WORLD'"
      ]
     },
     "execution_count": 135,
     "metadata": {},
     "output_type": "execute_result"
    }
   ],
   "source": [
    "# 36.  upper()   # return a copy of the string in upper case\n",
    "\n",
    "str1 = \"hello world\"\n",
    "\n",
    "str1.upper()\n"
   ]
  },
  {
   "cell_type": "code",
   "execution_count": 136,
   "id": "4eb77770",
   "metadata": {},
   "outputs": [
    {
     "name": "stdout",
     "output_type": "stream",
     "text": [
      "str1 before upper:  hello world\n",
      "\n",
      "String during upper: HELLO WORLD\n",
      "\n",
      "string after upper: hello world\n"
     ]
    }
   ],
   "source": [
    "print(\"str1 before upper: \", str1)\n",
    "print()\n",
    "print(\"String during upper:\", str1.upper())\n",
    "print()\n",
    "print(\"string after upper:\", str1)"
   ]
  },
  {
   "cell_type": "code",
   "execution_count": 137,
   "id": "9d23d537",
   "metadata": {},
   "outputs": [
    {
     "data": {
      "text/plain": [
       "'0000000000000000000Hello World'"
      ]
     },
     "execution_count": 137,
     "metadata": {},
     "output_type": "execute_result"
    }
   ],
   "source": [
    "# 37.  zfill()  # return copy in which method pads with on the left with zeros to fill the width.\n",
    "\n",
    "str1 = \"Hello World\"\n",
    "\n",
    "str1.zfill(30)"
   ]
  },
  {
   "cell_type": "code",
   "execution_count": 138,
   "id": "a8dec157",
   "metadata": {},
   "outputs": [
    {
     "data": {
      "text/plain": [
       "'Hello World'"
      ]
     },
     "execution_count": 138,
     "metadata": {},
     "output_type": "execute_result"
    }
   ],
   "source": [
    "str1"
   ]
  },
  {
   "cell_type": "code",
   "execution_count": 139,
   "id": "e680aea5",
   "metadata": {},
   "outputs": [
    {
     "data": {
      "text/plain": [
       "True"
      ]
     },
     "execution_count": 139,
     "metadata": {},
     "output_type": "execute_result"
    }
   ],
   "source": [
    "# 38. isdecimal()\n",
    "\n",
    "str1 = \"1233\"\n",
    "\n",
    "str1.isdecimal()"
   ]
  },
  {
   "cell_type": "code",
   "execution_count": 140,
   "id": "ee1064d1",
   "metadata": {},
   "outputs": [
    {
     "data": {
      "text/plain": [
       "False"
      ]
     },
     "execution_count": 140,
     "metadata": {},
     "output_type": "execute_result"
    }
   ],
   "source": [
    "str1 = \"this2022\"\n",
    "str1.isdecimal()"
   ]
  },
  {
   "cell_type": "code",
   "execution_count": 145,
   "id": "629f44f7",
   "metadata": {},
   "outputs": [
    {
     "data": {
      "text/plain": [
       "True"
      ]
     },
     "execution_count": 145,
     "metadata": {},
     "output_type": "execute_result"
    }
   ],
   "source": [
    "#  39. islower()\n",
    "\n",
    "str1 = \"hello worls123!@\"\n",
    "\n",
    "str1.islower()"
   ]
  },
  {
   "cell_type": "code",
   "execution_count": 146,
   "id": "f2d3315b",
   "metadata": {},
   "outputs": [
    {
     "data": {
      "text/plain": [
       "False"
      ]
     },
     "execution_count": 146,
     "metadata": {},
     "output_type": "execute_result"
    }
   ],
   "source": [
    "str1 = \"Hello world!12\"\n",
    "str1.islower()"
   ]
  },
  {
   "cell_type": "code",
   "execution_count": null,
   "id": "23d62120",
   "metadata": {},
   "outputs": [],
   "source": []
  }
 ],
 "metadata": {
  "kernelspec": {
   "display_name": "Python 3 (ipykernel)",
   "language": "python",
   "name": "python3"
  },
  "language_info": {
   "codemirror_mode": {
    "name": "ipython",
    "version": 3
   },
   "file_extension": ".py",
   "mimetype": "text/x-python",
   "name": "python",
   "nbconvert_exporter": "python",
   "pygments_lexer": "ipython3",
   "version": "3.9.7"
  }
 },
 "nbformat": 4,
 "nbformat_minor": 5
}
