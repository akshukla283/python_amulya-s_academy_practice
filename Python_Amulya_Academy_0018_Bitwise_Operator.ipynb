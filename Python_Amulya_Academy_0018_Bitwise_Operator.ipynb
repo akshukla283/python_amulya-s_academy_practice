{
 "cells": [
  {
   "cell_type": "markdown",
   "id": "352e949e",
   "metadata": {},
   "source": [
    "### Bitwise Operators\n",
    "\n",
    "Computers store all kinds of information as a stream of binary digits called bits. Whether you’re working with text, images, or videos, they all boil down to ones and zeros. Python’s bitwise operators let you manipulate those individual bits of data at the most granular level.\n",
    "\n",
    "\n",
    "Most of the bitwise operators are binary, which means that they expect two operands to work with, typically referred to as the left operand and the right operand. Bitwise NOT (~) is the only unary bitwise operator since it expects just one operand.\n",
    "\n",
    "* `Operator`\t`Name`\t                     `Description`\n",
    "\n",
    "* `& `\t         `AND`\t    -----------                 Sets each bit to 1 if both bits are 1\n",
    "\n",
    "* `|`\t         `OR`\t    -----------                     Sets each bit to 1 if one of two bits is 1\n",
    "\n",
    "* ` ^`\t         `XOR`\t    -----------                 Sets each bit to 1 if only one of two bits is 1\n",
    " \n",
    "* `~ `\t        ` NOT`\t    -----------                 Inverts all the bits\n",
    "\n",
    "* `<<`\t         `Zero fill left shift`\t-----    Shift left by pushing zeros in from the right and let the leftmost bits fall off\n",
    "\n",
    "* `>>`\t        `Signed right shift`\t-----         Shift right by pushing copies of the leftmost bit in from the left, and let the rightmost bits fall off\n",
    "\n",
    "1. Bitwise AND\n",
    "\n",
    "2. Bitwise OR\n",
    "\n",
    "3. Bitwise  XOR\n",
    "\n",
    "4. Bitwise  Complement\n",
    "\n",
    "5. Bitwise  Left Shift\n",
    "\n",
    "6. Bitwise Right Shift"
   ]
  },
  {
   "cell_type": "code",
   "execution_count": null,
   "id": "7da2ef8f",
   "metadata": {},
   "outputs": [],
   "source": []
  },
  {
   "cell_type": "markdown",
   "id": "59b9e68c",
   "metadata": {},
   "source": [
    "### 1. Bitwise AND  (&)\n",
    "in bitwise AND if both the input will be 1 then output will be 1 otherwise it will be 0 either one input is 1 and another input is 0 in binary form."
   ]
  },
  {
   "cell_type": "code",
   "execution_count": 1,
   "id": "d8d27407",
   "metadata": {},
   "outputs": [
    {
     "data": {
      "text/plain": [
       "4"
      ]
     },
     "execution_count": 1,
     "metadata": {},
     "output_type": "execute_result"
    }
   ],
   "source": [
    "a = 20\n",
    "b = 4 \n",
    "a&b"
   ]
  },
  {
   "cell_type": "code",
   "execution_count": 2,
   "id": "e9053353",
   "metadata": {},
   "outputs": [
    {
     "data": {
      "text/plain": [
       "8"
      ]
     },
     "execution_count": 2,
     "metadata": {},
     "output_type": "execute_result"
    }
   ],
   "source": [
    "a = 12\n",
    "b = 8\n",
    "a&b"
   ]
  },
  {
   "cell_type": "markdown",
   "id": "5b008dac",
   "metadata": {},
   "source": [
    "### 2.  Bitwise OR (|)\n",
    "\n",
    "In bitwise OR operator output will be 0 only if both the input is 0 otherwise output will be 1."
   ]
  },
  {
   "cell_type": "code",
   "execution_count": 3,
   "id": "5f5cb21e",
   "metadata": {},
   "outputs": [
    {
     "data": {
      "text/plain": [
       "20"
      ]
     },
     "execution_count": 3,
     "metadata": {},
     "output_type": "execute_result"
    }
   ],
   "source": [
    "a = 20\n",
    "b = 4\n",
    "\n",
    "a|b"
   ]
  },
  {
   "cell_type": "code",
   "execution_count": 4,
   "id": "32ecfd65",
   "metadata": {},
   "outputs": [
    {
     "data": {
      "text/plain": [
       "12"
      ]
     },
     "execution_count": 4,
     "metadata": {},
     "output_type": "execute_result"
    }
   ],
   "source": [
    "a = 12\n",
    "b = 8\n",
    "\n",
    "a|b"
   ]
  },
  {
   "cell_type": "markdown",
   "id": "df22feaf",
   "metadata": {},
   "source": [
    "### 3. Bitwise XOR (^)\n",
    "\n",
    "In bitwise XOR if both the input is same then output will be 0 otherwise it will be 1."
   ]
  },
  {
   "cell_type": "code",
   "execution_count": 5,
   "id": "75c16b8a",
   "metadata": {},
   "outputs": [
    {
     "data": {
      "text/plain": [
       "16"
      ]
     },
     "execution_count": 5,
     "metadata": {},
     "output_type": "execute_result"
    }
   ],
   "source": [
    "a = 20 \n",
    "b = 4\n",
    "\n",
    "a^b"
   ]
  },
  {
   "cell_type": "code",
   "execution_count": 1,
   "id": "0ce77c74",
   "metadata": {},
   "outputs": [
    {
     "data": {
      "text/plain": [
       "30"
      ]
     },
     "execution_count": 1,
     "metadata": {},
     "output_type": "execute_result"
    }
   ],
   "source": [
    "a = 20 \n",
    "b = 10\n",
    "\n",
    "a^b"
   ]
  },
  {
   "cell_type": "code",
   "execution_count": 2,
   "id": "94ed2406",
   "metadata": {},
   "outputs": [
    {
     "data": {
      "text/plain": [
       "'0b11110'"
      ]
     },
     "execution_count": 2,
     "metadata": {},
     "output_type": "execute_result"
    }
   ],
   "source": [
    "bin(30)"
   ]
  },
  {
   "cell_type": "code",
   "execution_count": 3,
   "id": "e4cbd12e",
   "metadata": {},
   "outputs": [
    {
     "data": {
      "text/plain": [
       "'0b10100'"
      ]
     },
     "execution_count": 3,
     "metadata": {},
     "output_type": "execute_result"
    }
   ],
   "source": [
    "bin(20)"
   ]
  },
  {
   "cell_type": "code",
   "execution_count": 4,
   "id": "f42b4073",
   "metadata": {},
   "outputs": [
    {
     "data": {
      "text/plain": [
       "'0b1010'"
      ]
     },
     "execution_count": 4,
     "metadata": {},
     "output_type": "execute_result"
    }
   ],
   "source": [
    "bin(10)"
   ]
  },
  {
   "cell_type": "code",
   "execution_count": 6,
   "id": "1923a035",
   "metadata": {},
   "outputs": [
    {
     "data": {
      "text/plain": [
       "15"
      ]
     },
     "execution_count": 6,
     "metadata": {},
     "output_type": "execute_result"
    }
   ],
   "source": [
    "a = 10\n",
    "b = 5\n",
    "\n",
    "a^b"
   ]
  },
  {
   "cell_type": "code",
   "execution_count": 7,
   "id": "f4941fae",
   "metadata": {},
   "outputs": [
    {
     "data": {
      "text/plain": [
       "'0b1010'"
      ]
     },
     "execution_count": 7,
     "metadata": {},
     "output_type": "execute_result"
    }
   ],
   "source": [
    "# we can convert binary to integer and integer to binary by built-in method \n",
    "bin(10)"
   ]
  },
  {
   "cell_type": "code",
   "execution_count": 8,
   "id": "bd67fa6b",
   "metadata": {},
   "outputs": [
    {
     "data": {
      "text/plain": [
       "'0b111'"
      ]
     },
     "execution_count": 8,
     "metadata": {},
     "output_type": "execute_result"
    }
   ],
   "source": [
    "bin(7)"
   ]
  },
  {
   "cell_type": "code",
   "execution_count": 9,
   "id": "df9b98b4",
   "metadata": {},
   "outputs": [
    {
     "data": {
      "text/plain": [
       "11"
      ]
     },
     "execution_count": 9,
     "metadata": {},
     "output_type": "execute_result"
    }
   ],
   "source": [
    "int(0b1011)"
   ]
  },
  {
   "cell_type": "code",
   "execution_count": 10,
   "id": "0b5fdfac",
   "metadata": {},
   "outputs": [
    {
     "data": {
      "text/plain": [
       "12"
      ]
     },
     "execution_count": 10,
     "metadata": {},
     "output_type": "execute_result"
    }
   ],
   "source": [
    "int(0b1100)"
   ]
  },
  {
   "cell_type": "markdown",
   "id": "a21a93c2",
   "metadata": {},
   "source": [
    "### 4.  Bitwise Complemet (~)\n",
    "\n",
    "* this is also called as bitwise NOT operator.\n",
    "\n",
    "* is the only unary bitwise operator since it expects just one operand.\n",
    "\n",
    "* it flip the bit means if input is 0 then output will 1 and if inupt will 1 then output will be 0."
   ]
  },
  {
   "cell_type": "code",
   "execution_count": 11,
   "id": "2d115fa1",
   "metadata": {},
   "outputs": [
    {
     "data": {
      "text/plain": [
       "-21"
      ]
     },
     "execution_count": 11,
     "metadata": {},
     "output_type": "execute_result"
    }
   ],
   "source": [
    "a = 20\n",
    "~a"
   ]
  },
  {
   "cell_type": "code",
   "execution_count": 14,
   "id": "ac6fdb5b",
   "metadata": {},
   "outputs": [
    {
     "data": {
      "text/plain": [
       "'0b10101'"
      ]
     },
     "execution_count": 14,
     "metadata": {},
     "output_type": "execute_result"
    }
   ],
   "source": [
    "bin(21)"
   ]
  },
  {
   "cell_type": "code",
   "execution_count": 5,
   "id": "0a8a530f",
   "metadata": {},
   "outputs": [
    {
     "data": {
      "text/plain": [
       "'-0b10101'"
      ]
     },
     "execution_count": 5,
     "metadata": {},
     "output_type": "execute_result"
    }
   ],
   "source": [
    "bin(-21)"
   ]
  },
  {
   "cell_type": "markdown",
   "id": "5cdcadfc",
   "metadata": {},
   "source": [
    "### Bitwise Left Shift (<<)\n",
    "\n",
    "*  Shift left by pushing zeros in from the right and let the leftmost bits fall off.\n",
    "\n",
    "*  it will shift the bit towards left.\n",
    "*  x<< n here n is number of bit"
   ]
  },
  {
   "cell_type": "code",
   "execution_count": 6,
   "id": "b0dde005",
   "metadata": {},
   "outputs": [
    {
     "data": {
      "text/plain": [
       "80"
      ]
     },
     "execution_count": 6,
     "metadata": {},
     "output_type": "execute_result"
    }
   ],
   "source": [
    "a = 20 \n",
    "\n",
    "a<<2"
   ]
  },
  {
   "cell_type": "code",
   "execution_count": 7,
   "id": "a64236cc",
   "metadata": {},
   "outputs": [
    {
     "data": {
      "text/plain": [
       "80"
      ]
     },
     "execution_count": 7,
     "metadata": {},
     "output_type": "execute_result"
    }
   ],
   "source": [
    "# by shifting the bin 2 bit will in 20's bins first 2 will discards and  added 2 zeors at right and \n",
    "# it will be \n",
    "int(0b01010000)"
   ]
  },
  {
   "cell_type": "code",
   "execution_count": 8,
   "id": "b617d318",
   "metadata": {},
   "outputs": [
    {
     "data": {
      "text/plain": [
       "40"
      ]
     },
     "execution_count": 8,
     "metadata": {},
     "output_type": "execute_result"
    }
   ],
   "source": [
    "a<<1"
   ]
  },
  {
   "cell_type": "code",
   "execution_count": 22,
   "id": "e4d11829",
   "metadata": {},
   "outputs": [
    {
     "data": {
      "text/plain": [
       "80"
      ]
     },
     "execution_count": 22,
     "metadata": {},
     "output_type": "execute_result"
    }
   ],
   "source": []
  },
  {
   "cell_type": "markdown",
   "id": "57280193",
   "metadata": {},
   "source": [
    "### Bitwise Right Shift (>>)\n",
    "\n",
    "*  Shift right by pushing copies of the leftmost bit in from the left, and let the rightmost bits fall off.\n",
    "\n",
    "*  x>>n   here n in number of bit we want to shift at right.\n",
    "\n",
    "*  when we convert x in bin then we shift to bit right and and last n digit will be discarded and same n digit will be added in front to complete the 8 bit."
   ]
  },
  {
   "cell_type": "code",
   "execution_count": 24,
   "id": "73ccfbca",
   "metadata": {},
   "outputs": [
    {
     "data": {
      "text/plain": [
       "5"
      ]
     },
     "execution_count": 24,
     "metadata": {},
     "output_type": "execute_result"
    }
   ],
   "source": [
    "a = 20\n",
    "\n",
    "a>>2"
   ]
  },
  {
   "cell_type": "code",
   "execution_count": 25,
   "id": "f9588d80",
   "metadata": {},
   "outputs": [
    {
     "data": {
      "text/plain": [
       "3"
      ]
     },
     "execution_count": 25,
     "metadata": {},
     "output_type": "execute_result"
    }
   ],
   "source": [
    "a = 25\n",
    "a>>3"
   ]
  }
 ],
 "metadata": {
  "kernelspec": {
   "display_name": "Python 3 (ipykernel)",
   "language": "python",
   "name": "python3"
  },
  "language_info": {
   "codemirror_mode": {
    "name": "ipython",
    "version": 3
   },
   "file_extension": ".py",
   "mimetype": "text/x-python",
   "name": "python",
   "nbconvert_exporter": "python",
   "pygments_lexer": "ipython3",
   "version": "3.9.7"
  }
 },
 "nbformat": 4,
 "nbformat_minor": 5
}
