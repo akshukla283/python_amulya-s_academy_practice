{
 "cells": [
  {
   "cell_type": "markdown",
   "id": "b4ceb4e7",
   "metadata": {},
   "source": [
    "### Python\n",
    "\n",
    "#### Histroy - \n",
    "\n",
    "#### Guido van Rossum\n",
    " Early 1990's \n",
    " \n",
    " `Name came from one famous Circus - \"Monty python's flying circus\"`\n",
    " \n",
    "#### Release of versions \n",
    "\n",
    " `1.0   --- 1994 Jan\n",
    " \n",
    " 2.0  ---  2000 Oct\n",
    " \n",
    " 3.0  ---  2008 Dec`\n",
    " \n",
    "#### Python org link :  https://www.python.org/"
   ]
  },
  {
   "cell_type": "markdown",
   "id": "ddb97823",
   "metadata": {},
   "source": [
    "#### What is Python?\n",
    "\n",
    "Python is an interpreted, object-oriented, high-level programming language with dynamic semantics. \n",
    "\n",
    "\n",
    "Its high-level built in data structures, combined with dynamic typing and dynamic binding, make it very attractive for Rapid Application Development, as well as for use as a scripting or glue language to connect existing components together.\n",
    "\n",
    "Python is a popular programming language. It was created by `Guido van Rossum`, and released in `1991`.\n",
    "\n",
    "* first released on 20 Feb. 1991.\n",
    "\n",
    "* Python 2.0 released on 16 Oct. 2000.\n",
    "\n",
    "* Python 3.0 final was leased on 3rd Dec. 2008 \n",
    "\n",
    "* And latest release at the time of making note is - Python 3.10.4\n",
    "\n",
    "#### Some other languages first release date just for reference \n",
    "\n",
    "*  C - in 1974.\n",
    "\n",
    "*  C++  - in 1985.\n",
    "\n",
    "* JavaScript - 4rth Dec. 1995\n",
    "\n",
    "* Java - 23rd Jan. 1996\n",
    "\n",
    "\n",
    "#### It is used for:\n",
    "\n",
    "* web development (server-side),\n",
    "\n",
    "* software development,\n",
    "\n",
    "* mathematics,\n",
    "\n",
    "* system scripting.\n",
    "\n",
    "#### What can Python do?\n",
    "\n",
    "* Python can be used on a server to create web applications.\n",
    "\n",
    "* Python can be used alongside software to create workflows.\n",
    "\n",
    "* Python can connect to database systems. It can also read and modify files.\n",
    "\n",
    "* Python can be used to handle big data and perform complex mathematics.\n",
    "\n",
    "* Python can be used for rapid prototyping, or for production-ready software evelopment.\n",
    "\n",
    "\n",
    "#### Why Python?\n",
    "\n",
    "* Python works on different platforms (Windows, Mac, Linux, Raspberry Pi, etc).\n",
    "\n",
    "* Python has a simple syntax similar to the English language.\n",
    "\n",
    "* Python has syntax that allows developers to write programs with fewer lines than some other programming languages.\n",
    "\n",
    "* Python runs on an interpreter system, meaning that code can be executed as soon as it is written. This means that prototyping can be very quick.\n",
    "\n",
    "* Python can be treated in a procedural way, an object-oriented way or a functional way.\n",
    "\n",
    "\n",
    "#### Good to know\n",
    "\n",
    "* The most recent major version of Python is Python 3, which we shall be using in this tutorial. However, Python 2, although not being updated with anything other than security updates, is still quite popular.\n",
    "\n",
    "\n",
    "* In this tutorial Python will be written in a text editor. It is possible to write Python in an Integrated Development Environment, such as Thonny, Pycharm, Netbeans or Eclipse which are particularly useful when managing larger collections of Python files.\n",
    "\n",
    "\n",
    "#### Python Syntax compared to other programming languages\n",
    "\n",
    "* Python was designed for readability, and has some similarities to the English language with influence from mathematics.\n",
    "\n",
    "* Python uses new lines to complete a command, as opposed to other programming languages which often use semicolons or parentheses.\n",
    "\n",
    "* Python relies on indentation, using * whitespace, to define scope; such as the scope of loops, functions and classes. Other programming languages often use curly-brackets for this purpose.\n"
   ]
  },
  {
   "cell_type": "markdown",
   "id": "cbc5e5bf",
   "metadata": {},
   "source": [
    "#### Python Install\n",
    "\n",
    "Many PCs and Macs will have python already installed.\n",
    "\n",
    "To check if you have python installed on a Windows PC, search in the start bar for Python or run the following on the Command Line (cmd.exe):\n",
    "\n",
    "`C:\\Users\\Your Name>python --version`\n",
    "\n",
    "To check if you have python installed on a Linux or Mac, then on linux open the command line or on Mac open the Terminal and type:\n",
    "\n",
    "`python --version`\n",
    "\n",
    "`in Jupyter Notebook`\n",
    "\n",
    "`!python --version`"
   ]
  },
  {
   "cell_type": "code",
   "execution_count": 1,
   "id": "b9ff8f61",
   "metadata": {},
   "outputs": [
    {
     "name": "stdout",
     "output_type": "stream",
     "text": [
      "Python 3.9.7\n"
     ]
    }
   ],
   "source": [
    "!python --version"
   ]
  },
  {
   "cell_type": "code",
   "execution_count": 2,
   "id": "31d5c998",
   "metadata": {},
   "outputs": [
    {
     "name": "stdout",
     "output_type": "stream",
     "text": [
      "pip 22.0.4 from C:\\Users\\ankit.shukla\\AppData\\Local\\Programs\\Python\\Python39\\lib\\site-packages\\pip (python 3.9)\n",
      "\n",
      "Note: you may need to restart the kernel to use updated packages.\n"
     ]
    }
   ],
   "source": [
    "pip --version"
   ]
  },
  {
   "cell_type": "markdown",
   "id": "fd824e4f",
   "metadata": {},
   "source": [
    "####  How to run programs  ??\n",
    "\n",
    "\n",
    "1. Python Command Line\n",
    "\n",
    "2. Microsoft Cammand Prompt\n",
    "\n",
    "\n",
    "normally we just write in cmd >>> python  and it will give python interactive shell to write code \n",
    "(when a we run python file in cmd then it call script mode like >>> python hello.py)\n",
    "\n",
    "3. Python IDLE"
   ]
  },
  {
   "cell_type": "code",
   "execution_count": 3,
   "id": "44d7cacf",
   "metadata": {},
   "outputs": [
    {
     "ename": "SyntaxError",
     "evalue": "invalid syntax (Temp/ipykernel_9552/503663662.py, line 2)",
     "output_type": "error",
     "traceback": [
      "\u001b[1;36m  File \u001b[1;32m\"C:\\Users\\akshu\\AppData\\Local\\Temp/ipykernel_9552/503663662.py\"\u001b[1;36m, line \u001b[1;32m2\u001b[0m\n\u001b[1;33m    3v = 8\u001b[0m\n\u001b[1;37m     ^\u001b[0m\n\u001b[1;31mSyntaxError\u001b[0m\u001b[1;31m:\u001b[0m invalid syntax\n"
     ]
    }
   ],
   "source": [
    "# variable should not start with number\n",
    "3v = 8"
   ]
  },
  {
   "cell_type": "code",
   "execution_count": 4,
   "id": "87458be9",
   "metadata": {},
   "outputs": [
    {
     "data": {
      "text/plain": [
       "0.8888888888888888"
      ]
     },
     "execution_count": 4,
     "metadata": {},
     "output_type": "execute_result"
    }
   ],
   "source": [
    "8/9"
   ]
  },
  {
   "cell_type": "markdown",
   "id": "7010f18b",
   "metadata": {},
   "source": [
    "#### format for number"
   ]
  },
  {
   "cell_type": "code",
   "execution_count": 5,
   "id": "8c9a6ee0",
   "metadata": {},
   "outputs": [
    {
     "data": {
      "text/plain": [
       "'0.889'"
      ]
     },
     "execution_count": 5,
     "metadata": {},
     "output_type": "execute_result"
    }
   ],
   "source": [
    "# format\n",
    "format(8/9, \".3f\")"
   ]
  },
  {
   "cell_type": "code",
   "execution_count": 6,
   "id": "25985db7",
   "metadata": {},
   "outputs": [
    {
     "data": {
      "text/plain": [
       "'0.9'"
      ]
     },
     "execution_count": 6,
     "metadata": {},
     "output_type": "execute_result"
    }
   ],
   "source": [
    "format(8/9, \".1f\")"
   ]
  },
  {
   "cell_type": "code",
   "execution_count": 7,
   "id": "c53265ea",
   "metadata": {},
   "outputs": [
    {
     "ename": "ValueError",
     "evalue": "Format specifier missing precision",
     "output_type": "error",
     "traceback": [
      "\u001b[1;31m---------------------------------------------------------------------------\u001b[0m",
      "\u001b[1;31mValueError\u001b[0m                                Traceback (most recent call last)",
      "Input \u001b[1;32mIn [7]\u001b[0m, in \u001b[0;36m<cell line: 1>\u001b[1;34m()\u001b[0m\n\u001b[1;32m----> 1\u001b[0m \u001b[38;5;28;43mformat\u001b[39;49m\u001b[43m(\u001b[49m\u001b[38;5;241;43m8\u001b[39;49m\u001b[38;5;241;43m/\u001b[39;49m\u001b[38;5;241;43m9\u001b[39;49m\u001b[43m,\u001b[49m\u001b[43m \u001b[49m\u001b[38;5;124;43m\"\u001b[39;49m\u001b[38;5;124;43m1.f\u001b[39;49m\u001b[38;5;124;43m\"\u001b[39;49m\u001b[43m)\u001b[49m\n",
      "\u001b[1;31mValueError\u001b[0m: Format specifier missing precision"
     ]
    }
   ],
   "source": [
    "format(8/9, \"1.f\")"
   ]
  },
  {
   "cell_type": "markdown",
   "id": "8dcc29bf",
   "metadata": {},
   "source": [
    "#### fromat for strings"
   ]
  },
  {
   "cell_type": "code",
   "execution_count": 2,
   "id": "bcb19d47",
   "metadata": {},
   "outputs": [
    {
     "data": {
      "text/plain": [
       "'   '"
      ]
     },
     "execution_count": 2,
     "metadata": {},
     "output_type": "execute_result"
    }
   ],
   "source": [
    "format(\"\", \"<3\")"
   ]
  },
  {
   "cell_type": "code",
   "execution_count": 8,
   "id": "7efccdd7",
   "metadata": {},
   "outputs": [
    {
     "data": {
      "text/plain": [
       "'hello     '"
      ]
     },
     "execution_count": 8,
     "metadata": {},
     "output_type": "execute_result"
    }
   ],
   "source": [
    "format(\"hello\", \"<10\")"
   ]
  },
  {
   "cell_type": "code",
   "execution_count": 9,
   "id": "60abefb4",
   "metadata": {},
   "outputs": [
    {
     "data": {
      "text/plain": [
       "'hello-----'"
      ]
     },
     "execution_count": 9,
     "metadata": {},
     "output_type": "execute_result"
    }
   ],
   "source": [
    "format(\"hello\", \"-<10\")"
   ]
  },
  {
   "cell_type": "code",
   "execution_count": 10,
   "id": "fabdc5d3",
   "metadata": {},
   "outputs": [
    {
     "data": {
      "text/plain": [
       "'hello*****'"
      ]
     },
     "execution_count": 10,
     "metadata": {},
     "output_type": "execute_result"
    }
   ],
   "source": [
    "format(\"hello\", \"*<10\") ## specifier must be in \"\" string "
   ]
  },
  {
   "cell_type": "code",
   "execution_count": 11,
   "id": "a61d4e62",
   "metadata": {},
   "outputs": [
    {
     "data": {
      "text/plain": [
       "'**hello***'"
      ]
     },
     "execution_count": 11,
     "metadata": {},
     "output_type": "execute_result"
    }
   ],
   "source": [
    "format(\"hello\", \"*^10\")"
   ]
  },
  {
   "cell_type": "code",
   "execution_count": 12,
   "id": "06106c8d",
   "metadata": {},
   "outputs": [
    {
     "data": {
      "text/plain": [
       "'*****hello'"
      ]
     },
     "execution_count": 12,
     "metadata": {},
     "output_type": "execute_result"
    }
   ],
   "source": [
    "format(\"hello\", \"*>10\")"
   ]
  },
  {
   "cell_type": "code",
   "execution_count": 1,
   "id": "e8fc42d7",
   "metadata": {},
   "outputs": [
    {
     "data": {
      "text/plain": [
       "'   '"
      ]
     },
     "execution_count": 1,
     "metadata": {},
     "output_type": "execute_result"
    }
   ],
   "source": [
    "format(\"\", \"<3\")"
   ]
  },
  {
   "cell_type": "markdown",
   "id": "80428c31",
   "metadata": {},
   "source": [
    "### Identifier\n",
    "\n",
    "variable take letter , '_', and number but numbers should not be in beginning\n",
    "\n",
    "should not conatin special symbol"
   ]
  },
  {
   "cell_type": "code",
   "execution_count": 3,
   "id": "6e31d816",
   "metadata": {},
   "outputs": [],
   "source": [
    "var_1 = 10"
   ]
  },
  {
   "cell_type": "code",
   "execution_count": 4,
   "id": "39b0e125",
   "metadata": {},
   "outputs": [],
   "source": [
    "_var = 10"
   ]
  },
  {
   "cell_type": "code",
   "execution_count": 5,
   "id": "9cc6df37",
   "metadata": {},
   "outputs": [
    {
     "ename": "NameError",
     "evalue": "name 'v' is not defined",
     "output_type": "error",
     "traceback": [
      "\u001b[1;31m---------------------------------------------------------------------------\u001b[0m",
      "\u001b[1;31mNameError\u001b[0m                                 Traceback (most recent call last)",
      "Input \u001b[1;32mIn [5]\u001b[0m, in \u001b[0;36m<cell line: 1>\u001b[1;34m()\u001b[0m\n\u001b[1;32m----> 1\u001b[0m \u001b[43mv\u001b[49m\n",
      "\u001b[1;31mNameError\u001b[0m: name 'v' is not defined"
     ]
    }
   ],
   "source": [
    "v#r = 5"
   ]
  },
  {
   "cell_type": "code",
   "execution_count": 6,
   "id": "0acee09f",
   "metadata": {},
   "outputs": [
    {
     "ename": "SyntaxError",
     "evalue": "invalid decimal literal (1764166304.py, line 1)",
     "output_type": "error",
     "traceback": [
      "\u001b[1;36m  Input \u001b[1;32mIn [6]\u001b[1;36m\u001b[0m\n\u001b[1;33m    4_var = 4\u001b[0m\n\u001b[1;37m     ^\u001b[0m\n\u001b[1;31mSyntaxError\u001b[0m\u001b[1;31m:\u001b[0m invalid decimal literal\n"
     ]
    }
   ],
   "source": [
    "4_var = 4"
   ]
  },
  {
   "cell_type": "markdown",
   "id": "86ab488f",
   "metadata": {},
   "source": [
    "#### Keyword\n",
    "\n",
    "keywords are nothing but these are the words which has predefined meaning like , and, or , else etc.\n",
    "\n",
    "we can't use keywords as identifiers "
   ]
  },
  {
   "cell_type": "code",
   "execution_count": 16,
   "id": "5824b1e1",
   "metadata": {},
   "outputs": [
    {
     "ename": "SyntaxError",
     "evalue": "invalid syntax (1354595881.py, line 1)",
     "output_type": "error",
     "traceback": [
      "\u001b[1;36m  Input \u001b[1;32mIn [16]\u001b[1;36m\u001b[0m\n\u001b[1;33m    and = 23\u001b[0m\n\u001b[1;37m    ^\u001b[0m\n\u001b[1;31mSyntaxError\u001b[0m\u001b[1;31m:\u001b[0m invalid syntax\n"
     ]
    }
   ],
   "source": [
    "and = 23"
   ]
  },
  {
   "cell_type": "code",
   "execution_count": 7,
   "id": "5ed804c9",
   "metadata": {},
   "outputs": [
    {
     "name": "stdout",
     "output_type": "stream",
     "text": [
      "\n",
      "Here is a list of the Python keywords.  Enter any keyword to get more help.\n",
      "\n",
      "False               break               for                 not\n",
      "None                class               from                or\n",
      "True                continue            global              pass\n",
      "__peg_parser__      def                 if                  raise\n",
      "and                 del                 import              return\n",
      "as                  elif                in                  try\n",
      "assert              else                is                  while\n",
      "async               except              lambda              with\n",
      "await               finally             nonlocal            yield\n",
      "\n"
     ]
    }
   ],
   "source": [
    "# to know more about keywords \n",
    "help(\"keywords\")"
   ]
  },
  {
   "cell_type": "code",
   "execution_count": 9,
   "id": "399aedf8",
   "metadata": {},
   "outputs": [
    {
     "name": "stdout",
     "output_type": "stream",
     "text": [
      "Coroutines\n",
      "**********\n",
      "\n",
      "New in version 3.5.\n",
      "\n",
      "\n",
      "Coroutine function definition\n",
      "=============================\n",
      "\n",
      "   async_funcdef ::= [decorators] \"async\" \"def\" funcname \"(\" [parameter_list] \")\"\n",
      "                     [\"->\" expression] \":\" suite\n",
      "\n",
      "Execution of Python coroutines can be suspended and resumed at many\n",
      "points (see *coroutine*).  Inside the body of a coroutine function,\n",
      "\"await\" and \"async\" identifiers become reserved keywords; \"await\"\n",
      "expressions, \"async for\" and \"async with\" can only be used in\n",
      "coroutine function bodies.\n",
      "\n",
      "Functions defined with \"async def\" syntax are always coroutine\n",
      "functions, even if they do not contain \"await\" or \"async\" keywords.\n",
      "\n",
      "It is a \"SyntaxError\" to use a \"yield from\" expression inside the body\n",
      "of a coroutine function.\n",
      "\n",
      "An example of a coroutine function:\n",
      "\n",
      "   async def func(param1, param2):\n",
      "       do_stuff()\n",
      "       await some_coroutine()\n",
      "\n",
      "\n",
      "The \"async for\" statement\n",
      "=========================\n",
      "\n",
      "   async_for_stmt ::= \"async\" for_stmt\n",
      "\n",
      "An *asynchronous iterable* provides an \"__aiter__\" method that\n",
      "directly returns an *asynchronous iterator*, which can call\n",
      "asynchronous code in its \"__anext__\" method.\n",
      "\n",
      "The \"async for\" statement allows convenient iteration over\n",
      "asynchronous iterables.\n",
      "\n",
      "The following code:\n",
      "\n",
      "   async for TARGET in ITER:\n",
      "       SUITE\n",
      "   else:\n",
      "       SUITE2\n",
      "\n",
      "Is semantically equivalent to:\n",
      "\n",
      "   iter = (ITER)\n",
      "   iter = type(iter).__aiter__(iter)\n",
      "   running = True\n",
      "\n",
      "   while running:\n",
      "       try:\n",
      "           TARGET = await type(iter).__anext__(iter)\n",
      "       except StopAsyncIteration:\n",
      "           running = False\n",
      "       else:\n",
      "           SUITE\n",
      "   else:\n",
      "       SUITE2\n",
      "\n",
      "See also \"__aiter__()\" and \"__anext__()\" for details.\n",
      "\n",
      "It is a \"SyntaxError\" to use an \"async for\" statement outside the body\n",
      "of a coroutine function.\n",
      "\n",
      "\n",
      "The \"async with\" statement\n",
      "==========================\n",
      "\n",
      "   async_with_stmt ::= \"async\" with_stmt\n",
      "\n",
      "An *asynchronous context manager* is a *context manager* that is able\n",
      "to suspend execution in its *enter* and *exit* methods.\n",
      "\n",
      "The following code:\n",
      "\n",
      "   async with EXPRESSION as TARGET:\n",
      "       SUITE\n",
      "\n",
      "is semantically equivalent to:\n",
      "\n",
      "   manager = (EXPRESSION)\n",
      "   aenter = type(manager).__aenter__\n",
      "   aexit = type(manager).__aexit__\n",
      "   value = await aenter(manager)\n",
      "   hit_except = False\n",
      "\n",
      "   try:\n",
      "       TARGET = value\n",
      "       SUITE\n",
      "   except:\n",
      "       hit_except = True\n",
      "       if not await aexit(manager, *sys.exc_info()):\n",
      "           raise\n",
      "   finally:\n",
      "       if not hit_except:\n",
      "           await aexit(manager, None, None, None)\n",
      "\n",
      "See also \"__aenter__()\" and \"__aexit__()\" for details.\n",
      "\n",
      "It is a \"SyntaxError\" to use an \"async with\" statement outside the\n",
      "body of a coroutine function.\n",
      "\n",
      "See also:\n",
      "\n",
      "  **PEP 492** - Coroutines with async and await syntax\n",
      "     The proposal that made coroutines a proper standalone concept in\n",
      "     Python, and added supporting syntax.\n",
      "\n",
      "-[ Footnotes ]-\n",
      "\n",
      "[1] The exception is propagated to the invocation stack unless there\n",
      "    is a \"finally\" clause which happens to raise another exception.\n",
      "    That new exception causes the old one to be lost.\n",
      "\n",
      "[2] A string literal appearing as the first statement in the function\n",
      "    body is transformed into the function’s \"__doc__\" attribute and\n",
      "    therefore the function’s *docstring*.\n",
      "\n",
      "[3] A string literal appearing as the first statement in the class\n",
      "    body is transformed into the namespace’s \"__doc__\" item and\n",
      "    therefore the class’s *docstring*.\n",
      "\n"
     ]
    }
   ],
   "source": [
    "help(\"async\")"
   ]
  },
  {
   "cell_type": "code",
   "execution_count": 8,
   "id": "861be3ce",
   "metadata": {},
   "outputs": [
    {
     "name": "stdout",
     "output_type": "stream",
     "text": [
      "no documentation found for '__peg_parser__'\n",
      "\n"
     ]
    }
   ],
   "source": [
    "help(\"__peg_parser__\")"
   ]
  },
  {
   "cell_type": "code",
   "execution_count": 27,
   "id": "7ff8fdc3",
   "metadata": {},
   "outputs": [
    {
     "name": "stdout",
     "output_type": "stream",
     "text": [
      "Boolean operations\n",
      "******************\n",
      "\n",
      "   or_test  ::= and_test | or_test \"or\" and_test\n",
      "   and_test ::= not_test | and_test \"and\" not_test\n",
      "   not_test ::= comparison | \"not\" not_test\n",
      "\n",
      "In the context of Boolean operations, and also when expressions are\n",
      "used by control flow statements, the following values are interpreted\n",
      "as false: \"False\", \"None\", numeric zero of all types, and empty\n",
      "strings and containers (including strings, tuples, lists,\n",
      "dictionaries, sets and frozensets).  All other values are interpreted\n",
      "as true.  User-defined objects can customize their truth value by\n",
      "providing a \"__bool__()\" method.\n",
      "\n",
      "The operator \"not\" yields \"True\" if its argument is false, \"False\"\n",
      "otherwise.\n",
      "\n",
      "The expression \"x and y\" first evaluates *x*; if *x* is false, its\n",
      "value is returned; otherwise, *y* is evaluated and the resulting value\n",
      "is returned.\n",
      "\n",
      "The expression \"x or y\" first evaluates *x*; if *x* is true, its value\n",
      "is returned; otherwise, *y* is evaluated and the resulting value is\n",
      "returned.\n",
      "\n",
      "Note that neither \"and\" nor \"or\" restrict the value and type they\n",
      "return to \"False\" and \"True\", but rather return the last evaluated\n",
      "argument.  This is sometimes useful, e.g., if \"s\" is a string that\n",
      "should be replaced by a default value if it is empty, the expression\n",
      "\"s or 'foo'\" yields the desired value.  Because \"not\" has to create a\n",
      "new value, it returns a boolean value regardless of the type of its\n",
      "argument (for example, \"not 'foo'\" produces \"False\" rather than \"''\".)\n",
      "\n",
      "Related help topics: EXPRESSIONS, TRUTHVALUE\n",
      "\n"
     ]
    }
   ],
   "source": [
    "help(\"and\")"
   ]
  },
  {
   "cell_type": "markdown",
   "id": "228afaa1",
   "metadata": {},
   "source": [
    "#### control Characters\n",
    "\n",
    "Cantrol Character are the character which will control the output."
   ]
  },
  {
   "cell_type": "code",
   "execution_count": 18,
   "id": "5de7bb02",
   "metadata": {},
   "outputs": [
    {
     "name": "stdout",
     "output_type": "stream",
     "text": [
      "Hello\n",
      "World\n"
     ]
    }
   ],
   "source": [
    "print(\"Hello\\nWorld\") # \\n is control charcter"
   ]
  },
  {
   "cell_type": "code",
   "execution_count": 10,
   "id": "ded75ba3",
   "metadata": {},
   "outputs": [
    {
     "ename": "SyntaxError",
     "evalue": "EOL while scanning string literal (4231863212.py, line 4)",
     "output_type": "error",
     "traceback": [
      "\u001b[1;36m  Input \u001b[1;32mIn [10]\u001b[1;36m\u001b[0m\n\u001b[1;33m    print(\"hello\u001b[0m\n\u001b[1;37m                ^\u001b[0m\n\u001b[1;31mSyntaxError\u001b[0m\u001b[1;31m:\u001b[0m EOL while scanning string literal\n"
     ]
    }
   ],
   "source": [
    "# implicit and explicit method of writing\n",
    "\n",
    "### Implicit\n",
    "print(\"hello\n",
    "      \n",
    "      \n",
    "      \")"
   ]
  },
  {
   "cell_type": "code",
   "execution_count": 20,
   "id": "d756f7c9",
   "metadata": {},
   "outputs": [
    {
     "name": "stdout",
     "output_type": "stream",
     "text": [
      "helloworld\n"
     ]
    }
   ],
   "source": [
    "### Implicit\n",
    "\n",
    "print(\"hello\"\n",
    "     \"world\")\n",
    "# here we can see when we provide proper \" \"  for both string then it is okay \n",
    "# otherwise given an error"
   ]
  },
  {
   "cell_type": "code",
   "execution_count": 21,
   "id": "e5dec5ee",
   "metadata": {},
   "outputs": [
    {
     "name": "stdout",
     "output_type": "stream",
     "text": [
      "helloworld\n"
     ]
    }
   ],
   "source": [
    "print(\"hello\"\n",
    "      \n",
    "      \n",
    "     \"world\")"
   ]
  },
  {
   "cell_type": "code",
   "execution_count": 22,
   "id": "1fe43391",
   "metadata": {},
   "outputs": [
    {
     "name": "stdout",
     "output_type": "stream",
     "text": [
      "Hello World\n"
     ]
    }
   ],
   "source": [
    "#### Explicit\n",
    "\n",
    "print(\"Hello \\\n",
    "World\")\n",
    "\n",
    "# notice the \"\" double quotes "
   ]
  },
  {
   "cell_type": "code",
   "execution_count": 23,
   "id": "19c39625",
   "metadata": {},
   "outputs": [
    {
     "name": "stdout",
     "output_type": "stream",
     "text": [
      "HelloWorld\n"
     ]
    }
   ],
   "source": [
    "print(\"Hello\\\n",
    "World\")"
   ]
  },
  {
   "cell_type": "code",
   "execution_count": 14,
   "id": "e63eb911",
   "metadata": {},
   "outputs": [
    {
     "name": "stdout",
     "output_type": "stream",
     "text": [
      "Hello\\World\n"
     ]
    }
   ],
   "source": [
    "print(\"Hello\\World\")"
   ]
  },
  {
   "cell_type": "code",
   "execution_count": 15,
   "id": "28c27c9d",
   "metadata": {},
   "outputs": [
    {
     "name": "stdout",
     "output_type": "stream",
     "text": [
      "Hello\\World\n"
     ]
    }
   ],
   "source": [
    "print(\"Hello\\\\World\")"
   ]
  },
  {
   "cell_type": "markdown",
   "id": "15609495",
   "metadata": {},
   "source": [
    "### Operators\n",
    "\n",
    "\n",
    "#### Based on operands:\n",
    "\n",
    "* Unary Operrator  -- contain single operands e.g. -4  here only one operands 4\n",
    "\n",
    "* Binary Operator  -- contain two operands e.g. 2 + 4  here two operands 2 and 4\n",
    "\n",
    "#### Based on operator:\n",
    "\n",
    "* Arithmetic Operator\n",
    "\n",
    "* Relational OPerator\n",
    "\n",
    "* Membership Operator\n",
    "\n",
    "* Boolean Operator\n",
    "\n",
    "**Note** \n",
    "\n",
    "\n",
    "the three `\"Relational, Membership, Boolean operators\"` are also called as `Boolean Expression` because it give True or False value.\n",
    "\n",
    "\n",
    "\n",
    "`Python divides the operators in the following groups:`\n",
    "\n",
    "* Arithmetic operators\n",
    "\n",
    "* Assignment operators\n",
    "\n",
    "* Comparison operators\n",
    "\n",
    "* Logical operators\n",
    "\n",
    "* Identity operators\n",
    "\n",
    "* Membership operators\n",
    "\n",
    "* Bitwise operators"
   ]
  },
  {
   "cell_type": "code",
   "execution_count": 29,
   "id": "607b88dd",
   "metadata": {},
   "outputs": [
    {
     "data": {
      "text/plain": [
       "5"
      ]
     },
     "execution_count": 29,
     "metadata": {},
     "output_type": "execute_result"
    }
   ],
   "source": [
    "2 + 3\n",
    "\n",
    "# above '2 + 3' is an expression, and 2, 3 is an operands and \"+\" is an operator"
   ]
  },
  {
   "cell_type": "markdown",
   "id": "67186979",
   "metadata": {},
   "source": [
    "#### Arithmetic Operaors\n",
    "\n",
    "Arithmetic operators are used with numeric values to perform common mathematical operations:\n",
    "\n",
    "\n",
    "Operator ----\tName\t----------- Example\t\n",
    "\n",
    "* ` +\t`  --------Addition\t---------x + y\t\n",
    "\n",
    "* ` -\t`  --------Subtraction\t-----x - y\t\n",
    "\n",
    "* ` *\t`  --------Multiplication----x * y\t\n",
    "\n",
    "* ` /\t`  --------Division\t---------x / y\t\n",
    "\n",
    "* ` %\t`  --------Modulus\t---------x % y\t\n",
    "\n",
    "* ` **`  --------  Exponentiation----x ** y\t\n",
    "\n",
    "* ` //`  --------  Floor division---x // y\n"
   ]
  },
  {
   "cell_type": "code",
   "execution_count": 30,
   "id": "b21239e0",
   "metadata": {},
   "outputs": [
    {
     "data": {
      "text/plain": [
       "-5"
      ]
     },
     "execution_count": 30,
     "metadata": {},
     "output_type": "execute_result"
    }
   ],
   "source": [
    "## Negation (means symbolic)\n",
    "\n",
    "-5"
   ]
  },
  {
   "cell_type": "code",
   "execution_count": 31,
   "id": "aa34dea8",
   "metadata": {},
   "outputs": [
    {
     "data": {
      "text/plain": [
       "14"
      ]
     },
     "execution_count": 31,
     "metadata": {},
     "output_type": "execute_result"
    }
   ],
   "source": [
    "## Addition \n",
    "\n",
    "8 + 6"
   ]
  },
  {
   "cell_type": "code",
   "execution_count": 32,
   "id": "c0895c0c",
   "metadata": {},
   "outputs": [
    {
     "data": {
      "text/plain": [
       "5"
      ]
     },
     "execution_count": 32,
     "metadata": {},
     "output_type": "execute_result"
    }
   ],
   "source": [
    "## Subtraction \n",
    "\n",
    "8 - 3"
   ]
  },
  {
   "cell_type": "code",
   "execution_count": 33,
   "id": "b9886700",
   "metadata": {},
   "outputs": [
    {
     "data": {
      "text/plain": [
       "15"
      ]
     },
     "execution_count": 33,
     "metadata": {},
     "output_type": "execute_result"
    }
   ],
   "source": [
    "# multiplication \n",
    "5 * 3"
   ]
  },
  {
   "cell_type": "code",
   "execution_count": 34,
   "id": "46c155e3",
   "metadata": {},
   "outputs": [
    {
     "data": {
      "text/plain": [
       "5.0"
      ]
     },
     "execution_count": 34,
     "metadata": {},
     "output_type": "execute_result"
    }
   ],
   "source": [
    "# division\n",
    "\n",
    "25/5"
   ]
  },
  {
   "cell_type": "code",
   "execution_count": 35,
   "id": "c423956b",
   "metadata": {},
   "outputs": [
    {
     "data": {
      "text/plain": [
       "1"
      ]
     },
     "execution_count": 35,
     "metadata": {},
     "output_type": "execute_result"
    }
   ],
   "source": [
    "## Truncating Division  (Floor Division)\n",
    "\n",
    "5//4"
   ]
  },
  {
   "cell_type": "code",
   "execution_count": 36,
   "id": "e68a568e",
   "metadata": {},
   "outputs": [
    {
     "data": {
      "text/plain": [
       "1"
      ]
     },
     "execution_count": 36,
     "metadata": {},
     "output_type": "execute_result"
    }
   ],
   "source": [
    "## Modulus  \n",
    "\n",
    "5 % 2"
   ]
  },
  {
   "cell_type": "code",
   "execution_count": 37,
   "id": "60be7081",
   "metadata": {},
   "outputs": [
    {
     "data": {
      "text/plain": [
       "8"
      ]
     },
     "execution_count": 37,
     "metadata": {},
     "output_type": "execute_result"
    }
   ],
   "source": [
    "## exponential \n",
    "\n",
    "2 ** 3\n",
    "# base ** power"
   ]
  },
  {
   "cell_type": "markdown",
   "id": "5e94cac2",
   "metadata": {},
   "source": [
    "#### Python Comparison Operators   #### Relational Operators:\n",
    "\n",
    "Comparison operators are used to compare two values:\n",
    "\n",
    "* Operator     ------   Name   -----\tExample\t\n",
    "\n",
    "* ` == `       ------   \tEqual           \t`x == y\t`\n",
    "\n",
    "* `!=`         ------  \tNot equal           \t`x != y`\t\n",
    "\n",
    "* `>`          ------ \tGreater than           \t`x > y`\n",
    "\n",
    "* `<`          ------ \tLess than\t           `x < y`\n",
    "\n",
    "* `>=`         ------  \tGreater than or equal to           \t`x >= y`\t\n",
    "\n",
    "* `<=`\t       ------     Less than or equal to           \t`x <= y`"
   ]
  },
  {
   "cell_type": "code",
   "execution_count": 24,
   "id": "9b1dccb4",
   "metadata": {},
   "outputs": [],
   "source": [
    "x = 10\n",
    "y = 12"
   ]
  },
  {
   "cell_type": "code",
   "execution_count": 31,
   "id": "a70c2fc9",
   "metadata": {},
   "outputs": [
    {
     "name": "stdout",
     "output_type": "stream",
     "text": [
      "x == y is False\n"
     ]
    }
   ],
   "source": [
    "# Output: x == y is False\n",
    "print('x == y is',x==y)"
   ]
  },
  {
   "cell_type": "code",
   "execution_count": 32,
   "id": "d8d4fd9e",
   "metadata": {},
   "outputs": [
    {
     "name": "stdout",
     "output_type": "stream",
     "text": [
      "x != y is True\n"
     ]
    }
   ],
   "source": [
    "# Output: x != y is True\n",
    "print('x != y is',x!=y)"
   ]
  },
  {
   "cell_type": "code",
   "execution_count": 25,
   "id": "f8cbbbc4",
   "metadata": {},
   "outputs": [
    {
     "name": "stdout",
     "output_type": "stream",
     "text": [
      "x > y is False\n"
     ]
    }
   ],
   "source": [
    "# Output: x > y is False\n",
    "print('x > y is',x>y)"
   ]
  },
  {
   "cell_type": "code",
   "execution_count": 26,
   "id": "d9b182d0",
   "metadata": {},
   "outputs": [
    {
     "name": "stdout",
     "output_type": "stream",
     "text": [
      "x < y is True\n"
     ]
    }
   ],
   "source": [
    "# Output: x < y is True\n",
    "print('x < y is',x<y)"
   ]
  },
  {
   "cell_type": "code",
   "execution_count": 29,
   "id": "4dfbcfea",
   "metadata": {},
   "outputs": [
    {
     "name": "stdout",
     "output_type": "stream",
     "text": [
      "x >= y is False\n"
     ]
    }
   ],
   "source": [
    "# Output: x >= y is False\n",
    "print('x >= y is',x>=y)"
   ]
  },
  {
   "cell_type": "code",
   "execution_count": 30,
   "id": "e4ba38c0",
   "metadata": {},
   "outputs": [
    {
     "name": "stdout",
     "output_type": "stream",
     "text": [
      "x <= y is True\n"
     ]
    }
   ],
   "source": [
    "# Output: x <= y is True\n",
    "print('x <= y is',x<=y)"
   ]
  },
  {
   "cell_type": "code",
   "execution_count": 22,
   "id": "2b42e696",
   "metadata": {},
   "outputs": [
    {
     "data": {
      "text/plain": [
       "5"
      ]
     },
     "execution_count": 22,
     "metadata": {},
     "output_type": "execute_result"
    }
   ],
   "source": [
    "a = 5\n",
    "a"
   ]
  },
  {
   "cell_type": "code",
   "execution_count": 38,
   "id": "dabfe3d4",
   "metadata": {},
   "outputs": [
    {
     "data": {
      "text/plain": [
       "True"
      ]
     },
     "execution_count": 38,
     "metadata": {},
     "output_type": "execute_result"
    }
   ],
   "source": [
    "### Equal  ==\n",
    "5 == 5"
   ]
  },
  {
   "cell_type": "code",
   "execution_count": 39,
   "id": "60d475a1",
   "metadata": {},
   "outputs": [
    {
     "data": {
      "text/plain": [
       "False"
      ]
     },
     "execution_count": 39,
     "metadata": {},
     "output_type": "execute_result"
    }
   ],
   "source": [
    "## not equal !=\n",
    "\n",
    "5!= 5"
   ]
  },
  {
   "cell_type": "code",
   "execution_count": 40,
   "id": "053b28c0",
   "metadata": {},
   "outputs": [
    {
     "data": {
      "text/plain": [
       "True"
      ]
     },
     "execution_count": 40,
     "metadata": {},
     "output_type": "execute_result"
    }
   ],
   "source": [
    "# less than <\n",
    "\n",
    "5<8"
   ]
  },
  {
   "cell_type": "code",
   "execution_count": 41,
   "id": "bacfe984",
   "metadata": {},
   "outputs": [
    {
     "data": {
      "text/plain": [
       "False"
      ]
     },
     "execution_count": 41,
     "metadata": {},
     "output_type": "execute_result"
    }
   ],
   "source": [
    "4<2"
   ]
  },
  {
   "cell_type": "code",
   "execution_count": 42,
   "id": "c26cb128",
   "metadata": {},
   "outputs": [
    {
     "data": {
      "text/plain": [
       "True"
      ]
     },
     "execution_count": 42,
     "metadata": {},
     "output_type": "execute_result"
    }
   ],
   "source": [
    "# greater than >\n",
    "5>3"
   ]
  },
  {
   "cell_type": "code",
   "execution_count": 43,
   "id": "f5c85301",
   "metadata": {},
   "outputs": [
    {
     "data": {
      "text/plain": [
       "False"
      ]
     },
     "execution_count": 43,
     "metadata": {},
     "output_type": "execute_result"
    }
   ],
   "source": [
    "3>8"
   ]
  },
  {
   "cell_type": "code",
   "execution_count": 44,
   "id": "b76435aa",
   "metadata": {},
   "outputs": [
    {
     "data": {
      "text/plain": [
       "True"
      ]
     },
     "execution_count": 44,
     "metadata": {},
     "output_type": "execute_result"
    }
   ],
   "source": [
    "# Less than or equal <=\n",
    "\n",
    "5<=9"
   ]
  },
  {
   "cell_type": "code",
   "execution_count": 45,
   "id": "15a653ad",
   "metadata": {},
   "outputs": [
    {
     "data": {
      "text/plain": [
       "False"
      ]
     },
     "execution_count": 45,
     "metadata": {},
     "output_type": "execute_result"
    }
   ],
   "source": [
    "3<=2"
   ]
  },
  {
   "cell_type": "code",
   "execution_count": 46,
   "id": "4c728508",
   "metadata": {},
   "outputs": [
    {
     "data": {
      "text/plain": [
       "True"
      ]
     },
     "execution_count": 46,
     "metadata": {},
     "output_type": "execute_result"
    }
   ],
   "source": [
    "## greater than or equal to >=\n",
    "\n",
    "6>=2"
   ]
  },
  {
   "cell_type": "code",
   "execution_count": 48,
   "id": "38ee6bd8",
   "metadata": {},
   "outputs": [
    {
     "data": {
      "text/plain": [
       "False"
      ]
     },
     "execution_count": 48,
     "metadata": {},
     "output_type": "execute_result"
    }
   ],
   "source": [
    "6>=9"
   ]
  },
  {
   "cell_type": "markdown",
   "id": "fae08d96",
   "metadata": {},
   "source": [
    "\n",
    "#### Python Assignment Operators\n",
    "\n",
    "Assignment operators are used to assign values to variables:\n",
    "\n",
    "* Operator\t----Example   ---- \tSame As\t\n",
    "\n",
    "*  `=`  ----\tx = 5\t--------x = 5\t\n",
    "\n",
    "* `+=`  ----\tx += 3\t--------x = x + 3\t\n",
    "\n",
    "* `-=`  ----\tx -= 3\t--------x = x - 3\t\n",
    "\n",
    "* `*=`  ----\tx *= 3\t--------x = x * 3\t\n",
    "\n",
    "* `/=`  ----\tx /= 3\t--------x = x / 3\t\n",
    "\n",
    "* `%=`  ----\tx %= 3\t--------x = x % 3\t\n",
    "\n",
    "* `//=`  ----\tx //= 3\t--------x = x // 3\t\n",
    "\n",
    "* `**=`  ----\tx **= 3\t--------x = x ** 3\t\n",
    "\n",
    "* `&=`  ----\tx &= 3\t--------x = x & 3\t\n",
    "\n",
    "* `|=`  ----\tx |= 3\t--------x = x | 3\t\n",
    "\n",
    "* `^=`  ----\tx ^= 3\t--------x = x ^ 3\t\n",
    "\n",
    "* `>>=`  ----\tx >>= 3\t--------x = x >> 3\t\n",
    "\n",
    "* `<<=`  ----\tx <<= 3\t--------x = x << 3\n",
    "\n"
   ]
  },
  {
   "cell_type": "markdown",
   "id": "9a90c601",
   "metadata": {},
   "source": [
    "#### Membership Operator \n",
    "\n",
    "* in\n",
    "\n",
    "* not in \n",
    "\n"
   ]
  },
  {
   "cell_type": "code",
   "execution_count": 49,
   "id": "39164e31",
   "metadata": {},
   "outputs": [
    {
     "data": {
      "text/plain": [
       "True"
      ]
     },
     "execution_count": 49,
     "metadata": {},
     "output_type": "execute_result"
    }
   ],
   "source": [
    "## in \n",
    "\n",
    "5 in [2,3,4,5,6]"
   ]
  },
  {
   "cell_type": "code",
   "execution_count": 50,
   "id": "cce62f1f",
   "metadata": {},
   "outputs": [
    {
     "data": {
      "text/plain": [
       "True"
      ]
     },
     "execution_count": 50,
     "metadata": {},
     "output_type": "execute_result"
    }
   ],
   "source": [
    "## not in \n",
    "\n",
    "5 not in [2,3,4]"
   ]
  },
  {
   "cell_type": "code",
   "execution_count": 51,
   "id": "956bf785",
   "metadata": {},
   "outputs": [
    {
     "data": {
      "text/plain": [
       "False"
      ]
     },
     "execution_count": 51,
     "metadata": {},
     "output_type": "execute_result"
    }
   ],
   "source": [
    "5 not in [2,3,4,5,6]"
   ]
  },
  {
   "cell_type": "markdown",
   "id": "8a85979b",
   "metadata": {},
   "source": [
    "#### Boolean Operator\n",
    "\n",
    "* and \n",
    "\n",
    "* or\n",
    "\n",
    "* not"
   ]
  },
  {
   "cell_type": "code",
   "execution_count": 53,
   "id": "25dadeda",
   "metadata": {},
   "outputs": [
    {
     "data": {
      "text/plain": [
       "True"
      ]
     },
     "execution_count": 53,
     "metadata": {},
     "output_type": "execute_result"
    }
   ],
   "source": [
    "# and\n",
    "8>3 and 3>1"
   ]
  },
  {
   "cell_type": "code",
   "execution_count": 54,
   "id": "77163d20",
   "metadata": {},
   "outputs": [
    {
     "data": {
      "text/plain": [
       "False"
      ]
     },
     "execution_count": 54,
     "metadata": {},
     "output_type": "execute_result"
    }
   ],
   "source": [
    "5>6 and 3>1"
   ]
  },
  {
   "cell_type": "code",
   "execution_count": 55,
   "id": "29951207",
   "metadata": {},
   "outputs": [
    {
     "data": {
      "text/plain": [
       "True"
      ]
     },
     "execution_count": 55,
     "metadata": {},
     "output_type": "execute_result"
    }
   ],
   "source": [
    "# or\n",
    "\n",
    "5>2 or 9>8"
   ]
  },
  {
   "cell_type": "code",
   "execution_count": 56,
   "id": "8165c1af",
   "metadata": {},
   "outputs": [
    {
     "data": {
      "text/plain": [
       "True"
      ]
     },
     "execution_count": 56,
     "metadata": {},
     "output_type": "execute_result"
    }
   ],
   "source": [
    "5==5 or 8==3"
   ]
  },
  {
   "cell_type": "code",
   "execution_count": 57,
   "id": "cb0df78e",
   "metadata": {},
   "outputs": [
    {
     "data": {
      "text/plain": [
       "True"
      ]
     },
     "execution_count": 57,
     "metadata": {},
     "output_type": "execute_result"
    }
   ],
   "source": [
    "#### not \n",
    "\n",
    "10> 5"
   ]
  },
  {
   "cell_type": "code",
   "execution_count": 58,
   "id": "4bbca1ce",
   "metadata": {},
   "outputs": [
    {
     "data": {
      "text/plain": [
       "False"
      ]
     },
     "execution_count": 58,
     "metadata": {},
     "output_type": "execute_result"
    }
   ],
   "source": [
    "not 10>5"
   ]
  },
  {
   "cell_type": "code",
   "execution_count": 59,
   "id": "e8b3d77d",
   "metadata": {},
   "outputs": [
    {
     "data": {
      "text/plain": [
       "False"
      ]
     },
     "execution_count": 59,
     "metadata": {},
     "output_type": "execute_result"
    }
   ],
   "source": [
    "# Mainly use for reverse the order \n",
    "\n",
    "not(10>8)"
   ]
  },
  {
   "cell_type": "markdown",
   "id": "6a791e42",
   "metadata": {},
   "source": [
    "###  Precedence and Associativity\n",
    "\n",
    "in this we need to undestand the priority of the operators \n",
    "\n",
    "`Highest priority will be evaluate first , this rule is called as 'Precedence'`"
   ]
  },
  {
   "cell_type": "code",
   "execution_count": 60,
   "id": "aeeb67e3",
   "metadata": {},
   "outputs": [
    {
     "data": {
      "text/plain": [
       "22"
      ]
     },
     "execution_count": 60,
     "metadata": {},
     "output_type": "execute_result"
    }
   ],
   "source": [
    "2 + 5 * 4  # here we thought that 2 + 5 wil be 7 and then multiply by 4 and will get 28\n",
    "\n",
    "# but here priority of operators come into "
   ]
  },
  {
   "cell_type": "markdown",
   "id": "8e938031",
   "metadata": {},
   "source": [
    "#### Priority chart\n",
    "\n",
    "1.  `()`\n",
    "\n",
    "2.  `**`\n",
    "\n",
    "3.  `unary operator` \n",
    "\n",
    "4.  `*,  /,  //,  %`\n",
    "\n",
    "5.  `+ , -`\n",
    "\n",
    "6.  `<<,  >> bitwise shift`\n",
    "\n",
    "7.  `&` \n",
    "\n",
    "8.  `^` \n",
    "\n",
    "9.  `|`\n",
    "\n",
    "10.  `relational and membership operators` \n",
    "\n",
    "11.  `not`\n",
    "\n",
    "12.  `and` \n",
    "\n",
    "13.  `or`"
   ]
  },
  {
   "cell_type": "code",
   "execution_count": 62,
   "id": "3d350d64",
   "metadata": {},
   "outputs": [
    {
     "data": {
      "text/plain": [
       "28"
      ]
     },
     "execution_count": 62,
     "metadata": {},
     "output_type": "execute_result"
    }
   ],
   "source": [
    "# by Paranthesis we can get that \n",
    "\n",
    "(2 + 5) * 4"
   ]
  },
  {
   "cell_type": "markdown",
   "id": "92fc3293",
   "metadata": {},
   "source": [
    "#### Associativity\n",
    "\n",
    "#### Note \n",
    "\n",
    "` + and - `  this follow left to right precedence."
   ]
  },
  {
   "cell_type": "code",
   "execution_count": 63,
   "id": "58fbd3b5",
   "metadata": {},
   "outputs": [
    {
     "data": {
      "text/plain": [
       "6"
      ]
     },
     "execution_count": 63,
     "metadata": {},
     "output_type": "execute_result"
    }
   ],
   "source": [
    "## Note some time we have same precedence happend  more than one places\n",
    "\n",
    "2 + 5 - 1 # this follow left to right precedence "
   ]
  },
  {
   "cell_type": "code",
   "execution_count": 33,
   "id": "da1b8245",
   "metadata": {},
   "outputs": [
    {
     "data": {
      "text/plain": [
       "5"
      ]
     },
     "execution_count": 33,
     "metadata": {},
     "output_type": "execute_result"
    }
   ],
   "source": [
    "6 - 4 + 3"
   ]
  },
  {
   "cell_type": "code",
   "execution_count": 34,
   "id": "be1dbce8",
   "metadata": {},
   "outputs": [
    {
     "data": {
      "text/plain": [
       "1.0"
      ]
     },
     "execution_count": 34,
     "metadata": {},
     "output_type": "execute_result"
    }
   ],
   "source": [
    "13/2//2%2"
   ]
  },
  {
   "cell_type": "code",
   "execution_count": 35,
   "id": "fab3a0f5",
   "metadata": {},
   "outputs": [
    {
     "data": {
      "text/plain": [
       "6"
      ]
     },
     "execution_count": 35,
     "metadata": {},
     "output_type": "execute_result"
    }
   ],
   "source": [
    "2+2-4+2-6+10"
   ]
  },
  {
   "cell_type": "markdown",
   "id": "017625c9",
   "metadata": {},
   "source": [
    "#### Note\n",
    "\n",
    "exponential expression follow right to left"
   ]
  },
  {
   "cell_type": "code",
   "execution_count": 65,
   "id": "05e931b2",
   "metadata": {},
   "outputs": [
    {
     "data": {
      "text/plain": [
       "2417851639229258349412352"
      ]
     },
     "execution_count": 65,
     "metadata": {},
     "output_type": "execute_result"
    }
   ],
   "source": [
    "### note exponential expression follow right to left\n",
    "\n",
    "2**3**4"
   ]
  },
  {
   "cell_type": "code",
   "execution_count": 66,
   "id": "301a62c1",
   "metadata": {},
   "outputs": [
    {
     "data": {
      "text/plain": [
       "4"
      ]
     },
     "execution_count": 66,
     "metadata": {},
     "output_type": "execute_result"
    }
   ],
   "source": [
    "2**2**1"
   ]
  }
 ],
 "metadata": {
  "kernelspec": {
   "display_name": "Python 3 (ipykernel)",
   "language": "python",
   "name": "python3"
  },
  "language_info": {
   "codemirror_mode": {
    "name": "ipython",
    "version": 3
   },
   "file_extension": ".py",
   "mimetype": "text/x-python",
   "name": "python",
   "nbconvert_exporter": "python",
   "pygments_lexer": "ipython3",
   "version": "3.9.7"
  }
 },
 "nbformat": 4,
 "nbformat_minor": 5
}
