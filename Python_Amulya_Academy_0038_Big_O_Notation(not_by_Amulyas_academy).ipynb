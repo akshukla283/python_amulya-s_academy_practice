{
 "cells": [
  {
   "cell_type": "markdown",
   "id": "15d21296",
   "metadata": {},
   "source": [
    "### Big O Notation in Python\n",
    "\n",
    "`Considering the sheer amount of data processed nowadays, the time and space used by algorithms should be efficient.`\n",
    "\n",
    "`Computational Complexity is the study of algorithms on the basis of the number of resources it requires to operate. Time Complexity is a method to calculate the amount of time an algorithm requires to run.`\n",
    "\n",
    "`Time Complexity is estimated by counting the number of elementary operations processed by the algorithm, assuming that each elementary operation takes up a fixed amount of time to process.\n",
    "Big O Notation is also called Asymptotic Notation. It is a mathematical notation that describes the study of the limiting nature of a function when the arguments tend towards a value or infinity.`\n",
    "\n",
    "#### Why do we need Big O Notation?\n",
    "\n",
    "`Big O Notation is used to analyze algorithms on the basis of the increase in the time they take to run with an increasing input size (denoted by n). Thus functions with the same growth rates will have the same Big O notations.`\n",
    "\n",
    "It mathematically describes the upper bound or worst-case scenarios of algorithm time complexities and compares them.\n",
    "\n",
    "#### Definition\n",
    "\n",
    "`If g and f are functions on natural numbers, the function f is O(g) or Big O of g, if and only if there exists a constant c > 0 and a natural number n0 such that f(n)≤c.g(n) ∀ n ≥ n0 . Summary of the common Time Complexities`\n",
    "\n",
    "Some common Time Complexities which will be discussed are as follows:\n",
    "\n",
    "#### Table 1: Common Time Complexities in order of Best to Worst\n",
    "#### Name  ----------\tTime Complexity\n",
    "\n",
    "* Constant Time  ---------\tO(1)\n",
    "\n",
    "* Logarithmic Time\t--------O(log n)\n",
    "\n",
    "* Linear Time\t------------O(n)\n",
    "\n",
    "* Quasilinear Time\t---------O(n log n)\n",
    "\n",
    "* Quadratic Time\t---------O(n ^ 2)\n",
    "\n",
    "* Exponential Time\t---------O(2 ^ n)\n",
    "\n",
    "* Factorial Time\t----------O(n!)\n",
    "\n",
    "* raphical Representation of Time Complexities\n",
    "![](graph.png)\n",
    "\n",
    "There are other types of complexities too, but these are the most common ones. Thus most algorithms subscribe to these.\n",
    "\n",
    "#### Time Complexities\n",
    "#### Constant Time or O( 1 )\n",
    "\n",
    "`When the time elapsed to run an algorithm does not depend on the number of input data being processed, the algorithm is said to follow Constant Time. For such algorithms, the running time remains the same irrespective of the number of data being processed.`\n",
    "\n",
    "For example, in Python 3:"
   ]
  },
  {
   "cell_type": "code",
   "execution_count": 1,
   "id": "bde8f91a",
   "metadata": {},
   "outputs": [
    {
     "name": "stdout",
     "output_type": "stream",
     "text": [
      "1\n"
     ]
    }
   ],
   "source": [
    "def display( array ):\n",
    "    print(array[0])\n",
    "\n",
    "a = [1, 2, 3, 4, 5]\n",
    "display(a)"
   ]
  },
  {
   "cell_type": "markdown",
   "id": "1288aea8",
   "metadata": {},
   "source": [
    "This prints the first member of the array irrespective of the length of the array is passed. Thus it is independent of the array length.\n",
    "\n",
    "Algorithms with constant time complexities are the best as the length of the arrays does not affect the running times of these algorithms.\n",
    "\n",
    "\n",
    "#### Logarithmic Time or O( log n )\n",
    "\n",
    "`An algorithm that reduces the number of input data with every step follows logarithmic time complexity. This complexity is usually followed by Binary Trees or Binary Search mechanisms. The Binary Search Python 3 code is as follows`"
   ]
  },
  {
   "cell_type": "code",
   "execution_count": 2,
   "id": "9884a5d5",
   "metadata": {},
   "outputs": [],
   "source": [
    "def BinarySearch(array,st, sp, search):\n",
    "    mid = int((st+sp)/2)\n",
    "    if array[mid] == search:\n",
    "        print(mid)\n",
    "    elif array[mid] > search:\n",
    "        if mid-1 >= st:\n",
    "            BinarySearch(array, st, mid-1, search)\n",
    "        else:\n",
    "            print(\"Element Not Found!\")\n",
    "    elif array[mid] < search:\n",
    "        if mid+1 <= sp:\n",
    "            BinarySearch(array, mid+1, sp, search)\n",
    "        else:\n",
    "            print(\"Element Not Found!\")\n",
    "            \n",
    "            "
   ]
  },
  {
   "cell_type": "markdown",
   "id": "264e602e",
   "metadata": {},
   "source": [
    "### Linear Time or O( n )\n",
    "\n",
    "`Linear Time Complexity is followed when the amount of time required for an algorithm to run increases linearly with the number of data being processed. This is the best time one can obtain in case all the elements of the input data need to be accessed.`\n",
    "\n",
    "The following code is the Python 3 code for Linear Search which follows Linear Time:"
   ]
  },
  {
   "cell_type": "code",
   "execution_count": 4,
   "id": "fdf6c5e9",
   "metadata": {},
   "outputs": [],
   "source": [
    "def LinearSearch(array, search):\n",
    "    i = 0\n",
    "    while i < len(array):\n",
    "        if array[i] == search:\n",
    "            print(i)\n",
    "            flag = 1\n",
    "            break\n",
    "        else:\n",
    "            flag = 0\n",
    "            i = i + 1\n",
    "    if flag == 0:\n",
    "        print(\"Element not Found!!!\")\n",
    "        \n",
    "        "
   ]
  },
  {
   "cell_type": "markdown",
   "id": "591c1856",
   "metadata": {},
   "source": [
    "In this code snippet, all the values of the array being passed are accessed for processing.\n",
    "\n",
    "\n",
    "### Quasilinear Time or O( n log n )\n",
    "\n",
    "`An algorithm adapts quasilinear time complexity when each process in the input data has logarithmic time complexity. Sorting algorithms like merge and heap sort follow this complexity.`\n",
    "\n",
    "Quasilinear time is represented in the following code example by defining the Merge Sort function:"
   ]
  },
  {
   "cell_type": "code",
   "execution_count": 6,
   "id": "a9a7500e",
   "metadata": {},
   "outputs": [
    {
     "ename": "SyntaxError",
     "evalue": "invalid syntax (3535718819.py, line 25)",
     "output_type": "error",
     "traceback": [
      "\u001b[1;36m  Input \u001b[1;32mIn [6]\u001b[1;36m\u001b[0m\n\u001b[1;33m    k += 1        while j < n2:\u001b[0m\n\u001b[1;37m                  ^\u001b[0m\n\u001b[1;31mSyntaxError\u001b[0m\u001b[1;31m:\u001b[0m invalid syntax\n"
     ]
    }
   ],
   "source": [
    "def merge(list2, le, m, ri):\n",
    "    n1 = m - le + 1\n",
    "    n2 = ri- m\n",
    "    L = [0] * (n1)\n",
    "    R = [0] * (n2)\n",
    "    for i in range(0 , n1):\n",
    "        L[i] = list2[le + i]\n",
    "\n",
    "    for j in range(0 , n2):\n",
    "        R[j] = list2[m + 1 + j]\n",
    "    i = 0\n",
    "    j = 0\n",
    "    k = le\n",
    "    while i < n1 and j < n2 :\n",
    "        if L[i] <= R[j]:\n",
    "            list2[k] = L[i]\n",
    "            i += 1\n",
    "        else:\n",
    "            list2[k] = R[j]\n",
    "            j += 1\n",
    "            k += 1\n",
    "    while i < n1:\n",
    "        list2[k] = L[i]\n",
    "        i += 1\n",
    "        k += 1        while j < n2:\n",
    "        list2[k] = R[j]\n",
    "        j += 1\n",
    "        k += 1\n",
    "\n",
    "def mergeSort(list1, le, ri):\n",
    "    if le < ri:\n",
    "        m = (le+(ri-1))//2\n",
    "        mergeSort(list1, le, m)\n",
    "        mergeSort(list1, m+1, ri)\n",
    "        merge(list1, le, m, ri)"
   ]
  },
  {
   "cell_type": "markdown",
   "id": "26d8ed2d",
   "metadata": {},
   "source": [
    "The merge sort method can be pictorially represented as:\n",
    "mergesortb\n",
    "\n",
    "\n",
    "####  Quadratic Time or O( n2 )\n",
    "`An algorithm that follows linear time complexity for each of its input elements, is said to follow Quadratic Time Complexity. The Bubble Sort algorithm is an example of an algorithm that follows quadratic time as each of its elements is compared to all the other elements.`\n",
    "\n",
    "The following is a Python 3 code for the Bubble Sort Algorithm:"
   ]
  },
  {
   "cell_type": "code",
   "execution_count": 8,
   "id": "8cd1ad33",
   "metadata": {},
   "outputs": [],
   "source": [
    "def BubbleSort(array):\n",
    "    i = len(array) - 1\n",
    "    while i > 0:\n",
    "        j = 0\n",
    "        while j+1 <= i:\n",
    "            if array[j] > array[j+1]:\n",
    "                array[j], array[j+1] = array[j+1], array[j]\n",
    "            j = j + 1\n",
    "        i = i - 1\n",
    "    return array\n",
    "    "
   ]
  },
  {
   "cell_type": "markdown",
   "id": "6e093f2a",
   "metadata": {},
   "source": [
    "#### Exponential Time or O( 2n )\n",
    "\n",
    "`When the growth in time elapsed during processing doubles with the inclusion of every new input element, it is said to be in Exponential Time Complexity.`\n",
    "\n",
    "Brute Force algorithms often exhibit exponential time complexities. The recursive calculation of Fibonacci Numbers is an example of an algorithm in Exponential Time.\n",
    "\n",
    "The Python 3 code is as follows:"
   ]
  },
  {
   "cell_type": "code",
   "execution_count": 7,
   "id": "2efab07e",
   "metadata": {},
   "outputs": [],
   "source": [
    "def Fibonacci(n):\n",
    "    if n <= 1:\n",
    "        return 1\n",
    "    else:\n",
    "        return Fibonacci(n - 1) + Fibonacci(n - 2)\n",
    "        "
   ]
  },
  {
   "cell_type": "markdown",
   "id": "1a48bd88",
   "metadata": {},
   "source": [
    "#### Factorial Time or O( n! )\n",
    "\n",
    "`An algorithm that grows factorially with each increase in input element is said to follow Factorial Time. Heap's method is an example that follows such a complexity.`\n",
    "\n",
    "\n",
    "While studying the time complexities of different algorithms, different algorithms may have several processes which may describe different complexity. But during analysis, only the highest complexity should be considered."
   ]
  },
  {
   "cell_type": "code",
   "execution_count": null,
   "id": "00e5d877",
   "metadata": {},
   "outputs": [],
   "source": []
  }
 ],
 "metadata": {
  "kernelspec": {
   "display_name": "Python 3 (ipykernel)",
   "language": "python",
   "name": "python3"
  },
  "language_info": {
   "codemirror_mode": {
    "name": "ipython",
    "version": 3
   },
   "file_extension": ".py",
   "mimetype": "text/x-python",
   "name": "python",
   "nbconvert_exporter": "python",
   "pygments_lexer": "ipython3",
   "version": "3.9.7"
  }
 },
 "nbformat": 4,
 "nbformat_minor": 5
}
