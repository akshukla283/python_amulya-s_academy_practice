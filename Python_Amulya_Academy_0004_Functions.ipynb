{
 "cells": [
  {
   "cell_type": "markdown",
   "id": "3d54b675",
   "metadata": {},
   "source": [
    "#### Function\n",
    "\n"
   ]
  },
  {
   "cell_type": "code",
   "execution_count": 2,
   "id": "51c65cfc",
   "metadata": {},
   "outputs": [
    {
     "name": "stdout",
     "output_type": "stream",
     "text": [
      "Welcome\n",
      "20.0\n",
      "2.0\n",
      "3.1999999999999997\n"
     ]
    }
   ],
   "source": [
    "# function name follow the identifier rules \n",
    "\n",
    "def avg(n1, n2, n3):   # here passed parameter is called 'formal' parameter\n",
    "    \n",
    "    return (n1 + n2 + n3)/3.0\n",
    "\n",
    "print(\"Welcome\")\n",
    "\n",
    "result1 = avg(10, 20, 30) # function call and passed parameter is called \"actual\" parameter\n",
    "result2 = avg(1, 2, 3)     \n",
    "\n",
    "result3 = avg(3.1, 2, 4.5)\n",
    "\n",
    "print(result1)# vaule returning function\n",
    "print(result2)\n",
    "print(result3)"
   ]
  },
  {
   "cell_type": "code",
   "execution_count": 3,
   "id": "bf1c3933",
   "metadata": {},
   "outputs": [
    {
     "name": "stdout",
     "output_type": "stream",
     "text": [
      "Welcome\n",
      "Have a nice day\n"
     ]
    }
   ],
   "source": [
    "def display():\n",
    "    print(\"Welcome\")\n",
    "    print(\"Have a nice day\")\n",
    "    \n",
    "display() # none returning function"
   ]
  },
  {
   "cell_type": "code",
   "execution_count": 4,
   "id": "984f2dcf",
   "metadata": {},
   "outputs": [
    {
     "name": "stdout",
     "output_type": "stream",
     "text": [
      "Welcome\n",
      "enter num1: 10\n",
      "enter num2: 20\n",
      "enter num3: 30\n",
      "Average of your nums is :  20.0\n"
     ]
    }
   ],
   "source": [
    "# note - when we pass arguments then name is not so important but position is most important\n",
    "\n",
    "def avg(n1, n2, n3):   \n",
    "    \n",
    "    return (n1 + n2 + n3)/3.0\n",
    "\n",
    "print(\"Welcome\")\n",
    "num1 = int(input(\"enter num1: \"))\n",
    "num2 = int(input(\"enter num2: \"))\n",
    "num3 = int(input(\"enter num3: \"))\n",
    "result = avg(num1, num2, num3)  # this is positional arguments\n",
    "print(\"Average of your nums is : \",  result)"
   ]
  },
  {
   "cell_type": "code",
   "execution_count": 5,
   "id": "dda8d0d0",
   "metadata": {},
   "outputs": [
    {
     "name": "stdout",
     "output_type": "stream",
     "text": [
      "Welcome\n",
      "Average of your nums is :  5.0\n"
     ]
    }
   ],
   "source": [
    "# note when we pass positional argument then 'name' of the argument is most important \n",
    "\n",
    "def avg(n1, n2, n3):   \n",
    "    \n",
    "    return (n1 + n2 + n3)/3.0\n",
    "\n",
    "print(\"Welcome\")\n",
    "\n",
    "# num1 = int(input(\"enter num1: \"))\n",
    "# num2 = int(input(\"enter num2: \"))\n",
    "# num3 = int(input(\"enter num3: \"))\n",
    "\n",
    "result = avg(n1 = 5, n2 = 2, n3 = 8)  \n",
    "print(\"Average of your nums is : \",  result)"
   ]
  },
  {
   "cell_type": "markdown",
   "id": "084325bb",
   "metadata": {},
   "source": [
    "#### Positional Argument:\n",
    "\n",
    "* A positional argument is a name that is not followed by an equal sign (=) and default value.\n",
    "\n",
    "#### Keyword Argument:\n",
    "\n",
    "* A keyword argument is followed by an equal\"=\" sign and an expression that gives its default value."
   ]
  },
  {
   "cell_type": "code",
   "execution_count": 7,
   "id": "fec51083",
   "metadata": {},
   "outputs": [
    {
     "name": "stdout",
     "output_type": "stream",
     "text": [
      "Welcome\n"
     ]
    },
    {
     "ename": "TypeError",
     "evalue": "avg() got an unexpected keyword argument 'num1'",
     "output_type": "error",
     "traceback": [
      "\u001b[1;31m---------------------------------------------------------------------------\u001b[0m",
      "\u001b[1;31mTypeError\u001b[0m                                 Traceback (most recent call last)",
      "Input \u001b[1;32mIn [7]\u001b[0m, in \u001b[0;36m<cell line: 13>\u001b[1;34m()\u001b[0m\n\u001b[0;32m      7\u001b[0m \u001b[38;5;28mprint\u001b[39m(\u001b[38;5;124m\"\u001b[39m\u001b[38;5;124mWelcome\u001b[39m\u001b[38;5;124m\"\u001b[39m)\n\u001b[0;32m      9\u001b[0m \u001b[38;5;66;03m# num1 = int(input(\"enter num1: \"))\u001b[39;00m\n\u001b[0;32m     10\u001b[0m \u001b[38;5;66;03m# num2 = int(input(\"enter num2: \"))\u001b[39;00m\n\u001b[0;32m     11\u001b[0m \u001b[38;5;66;03m# num3 = int(input(\"enter num3: \"))\u001b[39;00m\n\u001b[1;32m---> 13\u001b[0m result \u001b[38;5;241m=\u001b[39m \u001b[43mavg\u001b[49m\u001b[43m(\u001b[49m\u001b[43mnum1\u001b[49m\u001b[43m \u001b[49m\u001b[38;5;241;43m=\u001b[39;49m\u001b[43m \u001b[49m\u001b[38;5;241;43m5\u001b[39;49m\u001b[43m,\u001b[49m\u001b[43m \u001b[49m\u001b[43mnum2\u001b[49m\u001b[43m \u001b[49m\u001b[38;5;241;43m=\u001b[39;49m\u001b[43m \u001b[49m\u001b[38;5;241;43m2\u001b[39;49m\u001b[43m,\u001b[49m\u001b[43m \u001b[49m\u001b[43mnum3\u001b[49m\u001b[43m \u001b[49m\u001b[38;5;241;43m=\u001b[39;49m\u001b[43m \u001b[49m\u001b[38;5;241;43m8\u001b[39;49m\u001b[43m)\u001b[49m  \u001b[38;5;66;03m# this is positional arguments\u001b[39;00m\n\u001b[0;32m     14\u001b[0m \u001b[38;5;28mprint\u001b[39m(\u001b[38;5;124m\"\u001b[39m\u001b[38;5;124mAverage of your nums is : \u001b[39m\u001b[38;5;124m\"\u001b[39m,  result)\n",
      "\u001b[1;31mTypeError\u001b[0m: avg() got an unexpected keyword argument 'num1'"
     ]
    }
   ],
   "source": [
    "# note when we pass keuyword argument then 'name' of the argument is most important \n",
    "\n",
    "def avg(n1, n2, n3):   \n",
    "    \n",
    "    return (n1 + n2 + n3)/3.0\n",
    "\n",
    "print(\"Welcome\")\n",
    "\n",
    "# num1 = int(input(\"enter num1: \"))\n",
    "# num2 = int(input(\"enter num2: \"))\n",
    "# num3 = int(input(\"enter num3: \"))\n",
    "\n",
    "result = avg(num1 = 5, num2 = 2, num3 = 8)  # this is Keyword arguments because here we use '='\n",
    "print(\"Average of your nums is : \",  result)"
   ]
  },
  {
   "cell_type": "markdown",
   "id": "62f8393e",
   "metadata": {},
   "source": [
    "As we have already said that `'name'` of arguments is  `important at the time of keyword argument`"
   ]
  },
  {
   "cell_type": "code",
   "execution_count": 1,
   "id": "cbff4662",
   "metadata": {},
   "outputs": [
    {
     "name": "stdout",
     "output_type": "stream",
     "text": [
      "Welcome\n",
      "Average of your nums is :  5.0\n"
     ]
    }
   ],
   "source": [
    "# note when we pass keyword argument then 'name' of the argument is most important \n",
    "\n",
    "def avg(n1, n2, n3):   \n",
    "    \n",
    "    return (n1 + n2 + n3)/3.0\n",
    "\n",
    "print(\"Welcome\")\n",
    "\n",
    "# num1 = int(input(\"enter num1: \"))\n",
    "# num2 = int(input(\"enter num2: \"))\n",
    "# num3 = int(input(\"enter num3: \"))\n",
    "\n",
    "result = avg(n1 = 5, n2 = 2, n3 = 8)  # this is Keyword arguments because here we use '='\n",
    "print(\"Average of your nums is : \",  result)"
   ]
  },
  {
   "cell_type": "code",
   "execution_count": 9,
   "id": "dd26fab2",
   "metadata": {},
   "outputs": [
    {
     "name": "stdout",
     "output_type": "stream",
     "text": [
      "Welcome\n",
      "enter num1: 6\n",
      "enter num2: 8\n",
      "we have default 3rd num : 10\n",
      "Average of your nums is :  8.0\n"
     ]
    }
   ],
   "source": [
    "# we can give some default \n",
    "\n",
    "def avg(n1, n2, n3 = 10):   \n",
    "    \n",
    "    return (n1 + n2 + n3)/3.0\n",
    "\n",
    "print(\"Welcome\")\n",
    "num1 = int(input(\"enter num1: \"))\n",
    "num2 = int(input(\"enter num2: \"))\n",
    "#num3 = int(input(\"enter num3: \"))\n",
    "result = avg(num1, num2)  # this is positional arguments\n",
    "print(\"we have default 3rd num : 10\")\n",
    "print(\"Average of your nums is : \",  result)"
   ]
  },
  {
   "cell_type": "markdown",
   "id": "7d4c7b6e",
   "metadata": {},
   "source": [
    "### Local and Global Variable"
   ]
  },
  {
   "cell_type": "markdown",
   "id": "c803fa89",
   "metadata": {},
   "source": [
    "#### Local Variable"
   ]
  },
  {
   "cell_type": "code",
   "execution_count": 11,
   "id": "c0225bfb",
   "metadata": {},
   "outputs": [
    {
     "name": "stdout",
     "output_type": "stream",
     "text": [
      "n value is :  10\n",
      "n value is:  5\n"
     ]
    }
   ],
   "source": [
    "def func1():\n",
    "    n = 5   # local variable\n",
    "    print(\"n value is: \", n)\n",
    "    \n",
    "def func2():\n",
    "    n = 10    # local variable\n",
    "    print(\"n value is : \", n)\n",
    "    func1()\n",
    "# main    \n",
    "func2()"
   ]
  },
  {
   "cell_type": "code",
   "execution_count": 6,
   "id": "89160f52",
   "metadata": {},
   "outputs": [
    {
     "name": "stdout",
     "output_type": "stream",
     "text": [
      "n value is :  10\n"
     ]
    },
    {
     "ename": "NameError",
     "evalue": "name 'n' is not defined",
     "output_type": "error",
     "traceback": [
      "\u001b[1;31m---------------------------------------------------------------------------\u001b[0m",
      "\u001b[1;31mNameError\u001b[0m                                 Traceback (most recent call last)",
      "Input \u001b[1;32mIn [6]\u001b[0m, in \u001b[0;36m<cell line: 11>\u001b[1;34m()\u001b[0m\n\u001b[0;32m      9\u001b[0m     func1()\n\u001b[0;32m     10\u001b[0m \u001b[38;5;66;03m# main    \u001b[39;00m\n\u001b[1;32m---> 11\u001b[0m \u001b[43mfunc2\u001b[49m\u001b[43m(\u001b[49m\u001b[43m)\u001b[49m\n",
      "Input \u001b[1;32mIn [6]\u001b[0m, in \u001b[0;36mfunc2\u001b[1;34m()\u001b[0m\n\u001b[0;32m      7\u001b[0m n \u001b[38;5;241m=\u001b[39m \u001b[38;5;241m10\u001b[39m    \u001b[38;5;66;03m# local variable\u001b[39;00m\n\u001b[0;32m      8\u001b[0m \u001b[38;5;28mprint\u001b[39m(\u001b[38;5;124m\"\u001b[39m\u001b[38;5;124mn value is : \u001b[39m\u001b[38;5;124m\"\u001b[39m, n)\n\u001b[1;32m----> 9\u001b[0m \u001b[43mfunc1\u001b[49m\u001b[43m(\u001b[49m\u001b[43m)\u001b[49m\n",
      "Input \u001b[1;32mIn [6]\u001b[0m, in \u001b[0;36mfunc1\u001b[1;34m()\u001b[0m\n\u001b[0;32m      2\u001b[0m \u001b[38;5;28;01mdef\u001b[39;00m \u001b[38;5;21mfunc1\u001b[39m():\n\u001b[0;32m      3\u001b[0m \u001b[38;5;66;03m#     n = 5   # local variable\u001b[39;00m\n\u001b[1;32m----> 4\u001b[0m     \u001b[38;5;28mprint\u001b[39m(\u001b[38;5;124m\"\u001b[39m\u001b[38;5;124mn value is: \u001b[39m\u001b[38;5;124m\"\u001b[39m, \u001b[43mn\u001b[49m)\n",
      "\u001b[1;31mNameError\u001b[0m: name 'n' is not defined"
     ]
    }
   ],
   "source": [
    "# to understant local variable let's comment one of them and it will give error \n",
    "def func1():\n",
    "#     n = 5   # local variable\n",
    "    print(\"n value is: \", n)\n",
    "    \n",
    "def func2():\n",
    "    n = 10    # local variable\n",
    "    print(\"n value is : \", n)\n",
    "    func1()\n",
    "# main    \n",
    "func2()"
   ]
  },
  {
   "cell_type": "markdown",
   "id": "3956ec5a",
   "metadata": {},
   "source": [
    "local variable can't be access outside of the function or in another function."
   ]
  },
  {
   "cell_type": "markdown",
   "id": "4e63f5cf",
   "metadata": {},
   "source": [
    "#### Global Variable"
   ]
  },
  {
   "cell_type": "code",
   "execution_count": 2,
   "id": "c090aee4",
   "metadata": {},
   "outputs": [
    {
     "name": "stdout",
     "output_type": "stream",
     "text": [
      "10\n",
      "10\n"
     ]
    }
   ],
   "source": [
    "n = 10\n",
    "\n",
    "def func1():\n",
    "    print(n)\n",
    "    \n",
    "def func2():\n",
    "    print(n)\n",
    "    func1() # if we call funciton2 here then we will stuck in infinite loop\n",
    "\n",
    "#main\n",
    "\n",
    "func2()  # AS n is global so it can be access by any function\n"
   ]
  },
  {
   "cell_type": "code",
   "execution_count": 3,
   "id": "95dc19eb",
   "metadata": {},
   "outputs": [
    {
     "name": "stdout",
     "output_type": "stream",
     "text": [
      "20\n",
      "10\n"
     ]
    }
   ],
   "source": [
    "n = 10\n",
    "\n",
    "def func1():\n",
    "    print(n)\n",
    "    \n",
    "def func2():\n",
    "    n = 20\n",
    "    print(n)\n",
    "    func1()\n",
    "\n",
    "#main\n",
    "\n",
    "func2()  # as we can see precedance of local variable"
   ]
  },
  {
   "cell_type": "code",
   "execution_count": 4,
   "id": "b4615873",
   "metadata": {},
   "outputs": [
    {
     "name": "stdout",
     "output_type": "stream",
     "text": [
      "global variable inside function means at local scope : 10\n"
     ]
    }
   ],
   "source": [
    "var = 10\n",
    "\n",
    "def func1():\n",
    "    print(\"global variable inside function means at local scope :\",var)\n",
    "    \n",
    "    return \n",
    "\n",
    "#main\n",
    "func1()"
   ]
  },
  {
   "cell_type": "markdown",
   "id": "453dd69a",
   "metadata": {},
   "source": [
    "**Note:**\n",
    "As we can see that global vairable easily access inside the local scope. But can't be modify at local scope "
   ]
  },
  {
   "cell_type": "code",
   "execution_count": 5,
   "id": "76bfc134",
   "metadata": {},
   "outputs": [
    {
     "ename": "UnboundLocalError",
     "evalue": "local variable 'var' referenced before assignment",
     "output_type": "error",
     "traceback": [
      "\u001b[1;31m---------------------------------------------------------------------------\u001b[0m",
      "\u001b[1;31mUnboundLocalError\u001b[0m                         Traceback (most recent call last)",
      "Input \u001b[1;32mIn [5]\u001b[0m, in \u001b[0;36m<cell line: 9>\u001b[1;34m()\u001b[0m\n\u001b[0;32m      6\u001b[0m     \u001b[38;5;28;01mreturn\u001b[39;00m \n\u001b[0;32m      8\u001b[0m \u001b[38;5;66;03m#main\u001b[39;00m\n\u001b[1;32m----> 9\u001b[0m \u001b[43mfunc1\u001b[49m\u001b[43m(\u001b[49m\u001b[43m)\u001b[49m\n",
      "Input \u001b[1;32mIn [5]\u001b[0m, in \u001b[0;36mfunc1\u001b[1;34m()\u001b[0m\n\u001b[0;32m      3\u001b[0m \u001b[38;5;28;01mdef\u001b[39;00m \u001b[38;5;21mfunc1\u001b[39m():\n\u001b[1;32m----> 4\u001b[0m     \u001b[38;5;28mprint\u001b[39m(\u001b[38;5;124m\"\u001b[39m\u001b[38;5;124mglobal variable inside function means at local scope :\u001b[39m\u001b[38;5;124m\"\u001b[39m,\u001b[43mvar\u001b[49m)\n\u001b[0;32m      5\u001b[0m     var \u001b[38;5;241m=\u001b[39m var \u001b[38;5;241m+\u001b[39m \u001b[38;5;241m5\u001b[39m\n\u001b[0;32m      6\u001b[0m     \u001b[38;5;28;01mreturn\u001b[39;00m\n",
      "\u001b[1;31mUnboundLocalError\u001b[0m: local variable 'var' referenced before assignment"
     ]
    }
   ],
   "source": [
    "var = 10\n",
    "\n",
    "def func1():\n",
    "    print(\"global variable inside function means at local scope :\",var)\n",
    "    var = var + 5\n",
    "    return \n",
    "\n",
    "#main\n",
    "func1()"
   ]
  },
  {
   "cell_type": "code",
   "execution_count": 6,
   "id": "1e5dc70c",
   "metadata": {},
   "outputs": [
    {
     "ename": "UnboundLocalError",
     "evalue": "local variable 'var' referenced before assignment",
     "output_type": "error",
     "traceback": [
      "\u001b[1;31m---------------------------------------------------------------------------\u001b[0m",
      "\u001b[1;31mUnboundLocalError\u001b[0m                         Traceback (most recent call last)",
      "Input \u001b[1;32mIn [6]\u001b[0m, in \u001b[0;36m<cell line: 12>\u001b[1;34m()\u001b[0m\n\u001b[0;32m      8\u001b[0m     \u001b[38;5;28;01mreturn\u001b[39;00m \n\u001b[0;32m     10\u001b[0m \u001b[38;5;66;03m# main\u001b[39;00m\n\u001b[1;32m---> 12\u001b[0m \u001b[43mfunc1\u001b[49m\u001b[43m(\u001b[49m\u001b[43m)\u001b[49m\n",
      "Input \u001b[1;32mIn [6]\u001b[0m, in \u001b[0;36mfunc1\u001b[1;34m()\u001b[0m\n\u001b[0;32m      5\u001b[0m \u001b[38;5;28;01mdef\u001b[39;00m \u001b[38;5;21mfunc1\u001b[39m():\n\u001b[1;32m----> 6\u001b[0m     var \u001b[38;5;241m=\u001b[39m \u001b[43mvar\u001b[49m \u001b[38;5;241m+\u001b[39m \u001b[38;5;241m1\u001b[39m \u001b[38;5;66;03m# here 'var' treated as local variable\u001b[39;00m\n\u001b[0;32m      7\u001b[0m     \u001b[38;5;28mprint\u001b[39m(\u001b[38;5;124m\"\u001b[39m\u001b[38;5;124mVariable value in func1 is\u001b[39m\u001b[38;5;124m\"\u001b[39m, var)\n\u001b[0;32m      8\u001b[0m     \u001b[38;5;28;01mreturn\u001b[39;00m\n",
      "\u001b[1;31mUnboundLocalError\u001b[0m: local variable 'var' referenced before assignment"
     ]
    }
   ],
   "source": [
    "# UnboundLocalError: local variable 'var' referenced before assignment\n",
    "\n",
    "\n",
    "var = 10 \n",
    "def func1():\n",
    "    var = var + 1 # here 'var' treated as local variable\n",
    "    print(\"Variable value in func1 is\", var)\n",
    "    return \n",
    "\n",
    "# main\n",
    "\n",
    "func1()"
   ]
  },
  {
   "cell_type": "code",
   "execution_count": 3,
   "id": "68bf661f",
   "metadata": {},
   "outputs": [
    {
     "ename": "UnboundLocalError",
     "evalue": "local variable 'var' referenced before assignment",
     "output_type": "error",
     "traceback": [
      "\u001b[1;31m---------------------------------------------------------------------------\u001b[0m",
      "\u001b[1;31mUnboundLocalError\u001b[0m                         Traceback (most recent call last)",
      "Input \u001b[1;32mIn [3]\u001b[0m, in \u001b[0;36m<cell line: 11>\u001b[1;34m()\u001b[0m\n\u001b[0;32m      8\u001b[0m     \u001b[38;5;28;01mreturn\u001b[39;00m \n\u001b[0;32m     10\u001b[0m \u001b[38;5;66;03m#main\u001b[39;00m\n\u001b[1;32m---> 11\u001b[0m \u001b[43mfunc1\u001b[49m\u001b[43m(\u001b[49m\u001b[43m)\u001b[49m\n",
      "Input \u001b[1;32mIn [3]\u001b[0m, in \u001b[0;36mfunc1\u001b[1;34m()\u001b[0m\n\u001b[0;32m      3\u001b[0m \u001b[38;5;28;01mdef\u001b[39;00m \u001b[38;5;21mfunc1\u001b[39m():\n\u001b[1;32m----> 5\u001b[0m     \u001b[38;5;28mprint\u001b[39m(\u001b[38;5;124m\"\u001b[39m\u001b[38;5;124mglobal variable inside function means at local scope :\u001b[39m\u001b[38;5;124m\"\u001b[39m,\u001b[43mvar\u001b[49m)\n\u001b[0;32m      6\u001b[0m     var \u001b[38;5;241m=\u001b[39m \u001b[38;5;241m20\u001b[39m\n\u001b[0;32m      7\u001b[0m     \u001b[38;5;28mprint\u001b[39m(\u001b[38;5;124m\"\u001b[39m\u001b[38;5;124mNew Var value after modified is: \u001b[39m\u001b[38;5;124m\"\u001b[39m,var)\n",
      "\u001b[1;31mUnboundLocalError\u001b[0m: local variable 'var' referenced before assignment"
     ]
    }
   ],
   "source": [
    "var = 10\n",
    "\n",
    "def func1():\n",
    "    \n",
    "    print(\"global variable inside function means at local scope :\",var)\n",
    "    var = 20\n",
    "    print(\"New Var value after modified is: \",var)\n",
    "    return \n",
    "\n",
    "#main\n",
    "func1()"
   ]
  },
  {
   "cell_type": "markdown",
   "id": "d8a0334b",
   "metadata": {},
   "source": [
    "**Note:**\n",
    "* we are still not able to modify global variable inside local scope.\n",
    "\n",
    "* As we can see that global vairable easily access inside the local scope. But can't be modify at local scope \n",
    "\n",
    "#### global \n",
    "* but we can modify a global variable inside local scope using the `'global'` keyword'.\n",
    "\n"
   ]
  },
  {
   "cell_type": "code",
   "execution_count": 7,
   "id": "0fbf6709",
   "metadata": {},
   "outputs": [
    {
     "name": "stdout",
     "output_type": "stream",
     "text": [
      "Variable value in func1 is 11\n"
     ]
    }
   ],
   "source": [
    "var = 10 \n",
    "def func1():\n",
    "    global var  # here tell the python that it is global variable\n",
    "    var = var + 1 # now it will be treated as global vairable\n",
    "    print(\"Variable value in func1 is\", var)\n",
    "    return \n",
    "\n",
    "# main\n",
    "\n",
    "func1()"
   ]
  },
  {
   "cell_type": "code",
   "execution_count": 8,
   "id": "7e6fbdb2",
   "metadata": {},
   "outputs": [
    {
     "name": "stdout",
     "output_type": "stream",
     "text": [
      "Var at global scope before modified:  10\n",
      "Variable value in func1 is :  11\n",
      "Var at global scope after modified:  11\n"
     ]
    }
   ],
   "source": [
    "var = 10 \n",
    "def func1():\n",
    "    global var  # here tell the python that it is global variable\n",
    "    var = var + 1 # now it will be treated as global vairable\n",
    "    print(\"Variable value in func1 is : \", var)\n",
    "    return \n",
    "\n",
    "# main\n",
    "# printing global variable before modified inside the local scope \n",
    "print(\"Var at global scope before modified: \", var)\n",
    "# now call the func1 and global var will be modified within local scope\n",
    "func1()\n",
    "# And now checking global variable at gloabal scope after modified inside local scope.\n",
    "print(\"Var at global scope after modified: \", var)"
   ]
  },
  {
   "cell_type": "markdown",
   "id": "dcffd0ed",
   "metadata": {},
   "source": [
    "#### Lambda (Anonymous function)"
   ]
  },
  {
   "cell_type": "code",
   "execution_count": 9,
   "id": "cc5d0b24",
   "metadata": {},
   "outputs": [
    {
     "name": "stdout",
     "output_type": "stream",
     "text": [
      "Sum is : 50\n"
     ]
    }
   ],
   "source": [
    "sum = lambda var1, var2 : var1 + var2\n",
    "\n",
    "print(\"Sum is :\", sum(20, 30))"
   ]
  },
  {
   "cell_type": "code",
   "execution_count": 11,
   "id": "adbe4d8f",
   "metadata": {},
   "outputs": [
    {
     "name": "stdout",
     "output_type": "stream",
     "text": [
      "10\n",
      "20\n",
      "30\n",
      "\n",
      "2\n",
      "3\n",
      "4\n",
      "5\n"
     ]
    }
   ],
   "source": [
    "# variable length arguments\n",
    "# when we don't know how many vairable need to define\n",
    "def func1(*mylist):  # here mylist will be treated as tuple.\n",
    "    \n",
    "    for num in mylist:\n",
    "        \n",
    "        print(num)\n",
    "    return\n",
    "\n",
    "# main\n",
    "\n",
    "func1(10, 20 , 30 )\n",
    "print()\n",
    "func1(2,3,4,5,)"
   ]
  },
  {
   "cell_type": "code",
   "execution_count": 12,
   "id": "78e5e9a2",
   "metadata": {},
   "outputs": [
    {
     "name": "stdout",
     "output_type": "stream",
     "text": [
      "(10, 20, 30)\n"
     ]
    }
   ],
   "source": [
    "# when we don't know how many vairable need to define\n",
    "def func1(*mylist):  # here mylist will be treated as tuple.\n",
    "    \n",
    "    for num in mylist:\n",
    "        \n",
    "        print(num)\n",
    "    return\n",
    "\n",
    "# main\n",
    "tuple1 = (10, 20 , 30 )\n",
    "func1(tuple1)\n"
   ]
  },
  {
   "cell_type": "markdown",
   "id": "a26566bb",
   "metadata": {},
   "source": [
    "#### note:-\n",
    "* As we can see that when we passed tuple1 then it will be in mylist like as a tuple like `((10, 20, 30))` means mylist have only one value at index 0 is `(10, 20, 30)` that is why we got output as a tuple. \n",
    "\n",
    "\n",
    "\n",
    "* But when we will pass tuple1 with `'*' prefix` to it means `'*tuple1\"` this means we are going to pass every value of `tuple1 not complete tuple1` itself and it will be stored in `*mylist `as `(10,20,30)` and then we will get out put like `10, 20, 30 `instead of `tuple1`."
   ]
  },
  {
   "cell_type": "code",
   "execution_count": 12,
   "id": "c7e57d4b",
   "metadata": {},
   "outputs": [
    {
     "name": "stdout",
     "output_type": "stream",
     "text": [
      "10\n",
      "20\n",
      "30\n"
     ]
    }
   ],
   "source": [
    "# when we don't know how many vairable need to define\n",
    "def func1(*mylist):  # here mylist will be treated as list.\n",
    "    \n",
    "    for num in mylist:\n",
    "        \n",
    "        print(num)\n",
    "    return\n",
    "\n",
    "# main\n",
    "tuple1 = (10, 20 , 30 )\n",
    "func1(*tuple1) # here we passed *tuple1 means every element not as a tuple.\n"
   ]
  },
  {
   "cell_type": "code",
   "execution_count": 22,
   "id": "fa84f5f1",
   "metadata": {},
   "outputs": [
    {
     "name": "stdout",
     "output_type": "stream",
     "text": [
      "Hello\n",
      "Welcome\n",
      "to\n",
      "GeeksforGeeks\n"
     ]
    }
   ],
   "source": [
    "# Python program to illustrate \n",
    "# *args for variable number of arguments\n",
    "def myFun(*argv):\n",
    "    for arg in argv:\n",
    "        print (arg)\n",
    "\n",
    "    \n",
    "myFun('Hello', 'Welcome', 'to', 'GeeksforGeeks')"
   ]
  },
  {
   "cell_type": "code",
   "execution_count": 23,
   "id": "d86ea8d2",
   "metadata": {},
   "outputs": [
    {
     "name": "stdout",
     "output_type": "stream",
     "text": [
      "First argument : Hello\n",
      "Next argument through *argv : Welcome\n",
      "Next argument through *argv : to\n",
      "Next argument through *argv : GeeksforGeeks\n"
     ]
    }
   ],
   "source": [
    "# Python program to illustrate\n",
    "# *args with first extra argument\n",
    "def myFun(arg1, *argv):\n",
    "    print (\"First argument :\", arg1)\n",
    "    for arg in argv:\n",
    "        print(\"Next argument through *argv :\", arg)\n",
    "\n",
    "myFun('Hello', 'Welcome', 'to', 'GeeksforGeeks')"
   ]
  },
  {
   "cell_type": "code",
   "execution_count": 24,
   "id": "96e6d127",
   "metadata": {},
   "outputs": [
    {
     "name": "stdout",
     "output_type": "stream",
     "text": [
      "first == Geeks\n",
      "mid == for\n",
      "last == Geeks\n"
     ]
    }
   ],
   "source": [
    "# Python program to illustrate \n",
    "# *kwargs for variable number of keyword arguments\n",
    " \n",
    "def myFun(**kwargs):\n",
    "    for key, value in kwargs.items():\n",
    "        print (\"%s == %s\" %(key, value))\n",
    "\n",
    "# Driver code\n",
    "myFun(first ='Geeks', mid ='for', last='Geeks')"
   ]
  },
  {
   "cell_type": "code",
   "execution_count": 47,
   "id": "c5fe93d4",
   "metadata": {},
   "outputs": [
    {
     "name": "stdout",
     "output_type": "stream",
     "text": [
      "arg1: Geeks\n",
      "arg2: for\n",
      "arg3: Geeks\n",
      "\n",
      "arg1: Geeks\n",
      "arg2: for\n",
      "arg3: Geeks\n"
     ]
    }
   ],
   "source": [
    "def myFun(arg1, arg2, arg3):\n",
    "    print(\"arg1:\", arg1)\n",
    "    print(\"arg2:\", arg2)\n",
    "    print(\"arg3:\", arg3)\n",
    "     \n",
    "# Now we can use *args or **kwargs to\n",
    "# pass arguments to this function :\n",
    "args = (\"Geeks\", \"for\", \"Geeks\")\n",
    "myFun(*args)\n",
    "print()\n",
    "kwargs = {\"arg1\" : \"Geeks\", \"arg2\" : \"for\", \"arg3\" : \"Geeks\"}\n",
    "myFun(**kwargs)"
   ]
  },
  {
   "cell_type": "code",
   "execution_count": 29,
   "id": "1f4d2854",
   "metadata": {},
   "outputs": [],
   "source": [
    "def func2(**kwargs):\n",
    "    \n",
    "    for k, v in kwargs.items():\n",
    "        print(k,\":\",v)\n",
    "    return \n"
   ]
  },
  {
   "cell_type": "code",
   "execution_count": 30,
   "id": "f94aaead",
   "metadata": {},
   "outputs": [
    {
     "name": "stdout",
     "output_type": "stream",
     "text": [
      "Name : Steve\n",
      "Age : 26\n",
      "Address : Sydney, Austrelia\n"
     ]
    }
   ],
   "source": [
    "kwargs = {\"Name\":\"Steve\", \"Age\": 26, \"Address\": \"Sydney, Austrelia\"}\n",
    "func2(**kwargs)"
   ]
  },
  {
   "cell_type": "code",
   "execution_count": 38,
   "id": "4897085b",
   "metadata": {},
   "outputs": [],
   "source": [
    "def func2(**kwargs):\n",
    "    \n",
    "    for k, v in kwargs.items():\n",
    "        print(k,\":\",v)\n",
    "    return "
   ]
  },
  {
   "cell_type": "code",
   "execution_count": 40,
   "id": "885789db",
   "metadata": {},
   "outputs": [
    {
     "name": "stdout",
     "output_type": "stream",
     "text": [
      "Name : Steve\n",
      "Age : 26\n",
      "Address : Sydney, Austrelia\n"
     ]
    }
   ],
   "source": [
    "kwargs = {\"Name\":\"Steve\", \"Age\": 26, \"Address\": \"Sydney, Austrelia\"}\n",
    "func2(**kwargs)"
   ]
  },
  {
   "cell_type": "code",
   "execution_count": 33,
   "id": "af4084f1",
   "metadata": {},
   "outputs": [],
   "source": [
    "def func2(**kwargs):\n",
    "    \n",
    "    for k, v in kwargs.items():\n",
    "        print(k,\":\",v)\n",
    "    return "
   ]
  },
  {
   "cell_type": "code",
   "execution_count": 34,
   "id": "38fb5012",
   "metadata": {},
   "outputs": [
    {
     "name": "stdout",
     "output_type": "stream",
     "text": [
      "first : Geeks\n",
      "mid : for\n",
      "last : Geeks\n"
     ]
    }
   ],
   "source": [
    "func2(first ='Geeks', mid ='for', last='Geeks')"
   ]
  },
  {
   "cell_type": "markdown",
   "id": "23ed9b94",
   "metadata": {},
   "source": [
    "`As we can see when define a function with **kwargs parameters and call it with argument then we need to pass keyword argument as arguments otherwise it will raise an error. `"
   ]
  },
  {
   "cell_type": "code",
   "execution_count": 41,
   "id": "4e49068e",
   "metadata": {},
   "outputs": [],
   "source": [
    "def func2(**kwargs):\n",
    "    \n",
    "    for k, v in kwargs.items():\n",
    "        print(k,\":\",v)\n",
    "    return "
   ]
  },
  {
   "cell_type": "code",
   "execution_count": 44,
   "id": "2ba8a80b",
   "metadata": {},
   "outputs": [
    {
     "ename": "TypeError",
     "evalue": "func2() takes 0 positional arguments but 1 was given",
     "output_type": "error",
     "traceback": [
      "\u001b[1;31m---------------------------------------------------------------------------\u001b[0m",
      "\u001b[1;31mTypeError\u001b[0m                                 Traceback (most recent call last)",
      "Input \u001b[1;32mIn [44]\u001b[0m, in \u001b[0;36m<cell line: 2>\u001b[1;34m()\u001b[0m\n\u001b[0;32m      1\u001b[0m kwargs \u001b[38;5;241m=\u001b[39m {\u001b[38;5;124m\"\u001b[39m\u001b[38;5;124mName\u001b[39m\u001b[38;5;124m\"\u001b[39m:\u001b[38;5;124m\"\u001b[39m\u001b[38;5;124mSteve\u001b[39m\u001b[38;5;124m\"\u001b[39m, \u001b[38;5;124m\"\u001b[39m\u001b[38;5;124mAge\u001b[39m\u001b[38;5;124m\"\u001b[39m: \u001b[38;5;241m26\u001b[39m, \u001b[38;5;124m\"\u001b[39m\u001b[38;5;124mAddress\u001b[39m\u001b[38;5;124m\"\u001b[39m: \u001b[38;5;124m\"\u001b[39m\u001b[38;5;124mSydney, Austrelia\u001b[39m\u001b[38;5;124m\"\u001b[39m}\n\u001b[1;32m----> 2\u001b[0m \u001b[43mfunc2\u001b[49m\u001b[43m(\u001b[49m\u001b[43mkwargs\u001b[49m\u001b[43m)\u001b[49m\n",
      "\u001b[1;31mTypeError\u001b[0m: func2() takes 0 positional arguments but 1 was given"
     ]
    }
   ],
   "source": [
    "kwargs = {\"Name\":\"Steve\", \"Age\": 26, \"Address\": \"Sydney, Austrelia\"}\n",
    "func2(kwargs)"
   ]
  },
  {
   "cell_type": "code",
   "execution_count": 13,
   "id": "e75c2786",
   "metadata": {},
   "outputs": [
    {
     "name": "stdout",
     "output_type": "stream",
     "text": [
      "hello\n"
     ]
    }
   ],
   "source": [
    "str1 = \"hello\"\n",
    "print(str1)"
   ]
  },
  {
   "cell_type": "code",
   "execution_count": 14,
   "id": "3778dcf5",
   "metadata": {},
   "outputs": [
    {
     "name": "stdout",
     "output_type": "stream",
     "text": [
      "h e l l o\n"
     ]
    }
   ],
   "source": [
    "str1 = \"hello\"\n",
    "print(*str1)"
   ]
  },
  {
   "cell_type": "code",
   "execution_count": 15,
   "id": "11dfe16d",
   "metadata": {},
   "outputs": [
    {
     "name": "stdout",
     "output_type": "stream",
     "text": [
      "1 2 3 4\n"
     ]
    }
   ],
   "source": [
    "print(*\"1234\")"
   ]
  },
  {
   "cell_type": "code",
   "execution_count": 16,
   "id": "90a6274e",
   "metadata": {},
   "outputs": [
    {
     "data": {
      "text/plain": [
       "15"
      ]
     },
     "execution_count": 16,
     "metadata": {},
     "output_type": "execute_result"
    }
   ],
   "source": [
    "### Recursive function\n",
    "\n",
    "def counter(c):\n",
    "    \n",
    "    if c<=0:\n",
    "        \n",
    "        return c\n",
    "    else:\n",
    "        return c + counter(c - 1)\n",
    "    \n",
    "    \n",
    "# driver code\n",
    "counter(5)   # 5 + 4 + 3 + 2 + 1 = 15"
   ]
  },
  {
   "cell_type": "code",
   "execution_count": 17,
   "id": "d0c324fd",
   "metadata": {},
   "outputs": [
    {
     "data": {
      "text/plain": [
       "6"
      ]
     },
     "execution_count": 17,
     "metadata": {},
     "output_type": "execute_result"
    }
   ],
   "source": [
    "counter(3) # 3 + 2 + 1 = 6"
   ]
  },
  {
   "cell_type": "code",
   "execution_count": 18,
   "id": "be2b34f5",
   "metadata": {},
   "outputs": [
    {
     "name": "stdout",
     "output_type": "stream",
     "text": [
      "Please enter the num for factorial!:5\n"
     ]
    },
    {
     "data": {
      "text/plain": [
       "120"
      ]
     },
     "execution_count": 18,
     "metadata": {},
     "output_type": "execute_result"
    }
   ],
   "source": [
    "# let's take factorial example\n",
    "\n",
    "# 5! = 5 x 4 x 3 x 2 x 1 \n",
    "# 5! = 5 * (5-1)! * (5-2) * (5-3)! * (5-4)!\n",
    "\n",
    "def fact(n):\n",
    "    \n",
    "    if n == 1 or  n == 0:\n",
    "        \n",
    "        return 1\n",
    "    \n",
    "    else:\n",
    "        return n*fact(n-1)\n",
    "        \n",
    "num = int(input(\"Please enter the num for factorial!:\"))       \n",
    "#main\n",
    "fact(num)"
   ]
  },
  {
   "cell_type": "markdown",
   "id": "066dd433",
   "metadata": {},
   "source": [
    "#### Numeric Function\n",
    "\n"
   ]
  },
  {
   "cell_type": "code",
   "execution_count": 19,
   "id": "5a8dae81",
   "metadata": {},
   "outputs": [
    {
     "data": {
      "text/plain": [
       "6"
      ]
     },
     "execution_count": 19,
     "metadata": {},
     "output_type": "execute_result"
    }
   ],
   "source": [
    "# numeric  absolute \n",
    "abs(-6)"
   ]
  },
  {
   "cell_type": "code",
   "execution_count": 20,
   "id": "ccc300b2",
   "metadata": {},
   "outputs": [
    {
     "data": {
      "text/plain": [
       "5.4"
      ]
     },
     "execution_count": 20,
     "metadata": {},
     "output_type": "execute_result"
    }
   ],
   "source": [
    "abs(5.4)"
   ]
  },
  {
   "cell_type": "code",
   "execution_count": 21,
   "id": "dbb603fd",
   "metadata": {},
   "outputs": [
    {
     "data": {
      "text/plain": [
       "7"
      ]
     },
     "execution_count": 21,
     "metadata": {},
     "output_type": "execute_result"
    }
   ],
   "source": [
    "abs(+7)"
   ]
  },
  {
   "cell_type": "code",
   "execution_count": 22,
   "id": "3d874e41",
   "metadata": {},
   "outputs": [
    {
     "data": {
      "text/plain": [
       "7.3"
      ]
     },
     "execution_count": 22,
     "metadata": {},
     "output_type": "execute_result"
    }
   ],
   "source": [
    "abs(7.3)"
   ]
  },
  {
   "cell_type": "code",
   "execution_count": 23,
   "id": "ffeda546",
   "metadata": {},
   "outputs": [
    {
     "data": {
      "text/plain": [
       "3.444"
      ]
     },
     "execution_count": 23,
     "metadata": {},
     "output_type": "execute_result"
    }
   ],
   "source": [
    "# round Function\n",
    "\n",
    "round(3.444454, 3)"
   ]
  },
  {
   "cell_type": "code",
   "execution_count": 24,
   "id": "830a1933",
   "metadata": {},
   "outputs": [
    {
     "data": {
      "text/plain": [
       "5.68"
      ]
     },
     "execution_count": 24,
     "metadata": {},
     "output_type": "execute_result"
    }
   ],
   "source": [
    "round(5.678, 2)"
   ]
  },
  {
   "cell_type": "code",
   "execution_count": 25,
   "id": "34f4de80",
   "metadata": {},
   "outputs": [
    {
     "data": {
      "text/plain": [
       "5"
      ]
     },
     "execution_count": 25,
     "metadata": {},
     "output_type": "execute_result"
    }
   ],
   "source": [
    "# math funtions \n",
    "\n",
    "import math\n",
    "\n",
    "math.ceil(4.7)"
   ]
  },
  {
   "cell_type": "code",
   "execution_count": 26,
   "id": "539b82fc",
   "metadata": {},
   "outputs": [
    {
     "data": {
      "text/plain": [
       "5"
      ]
     },
     "execution_count": 26,
     "metadata": {},
     "output_type": "execute_result"
    }
   ],
   "source": [
    "import math\n",
    "\n",
    "math.ceil(4.3) # ceil function gives next higher value \n"
   ]
  },
  {
   "cell_type": "code",
   "execution_count": 27,
   "id": "7087e830",
   "metadata": {},
   "outputs": [
    {
     "data": {
      "text/plain": [
       "5"
      ]
     },
     "execution_count": 27,
     "metadata": {},
     "output_type": "execute_result"
    }
   ],
   "source": [
    "math.ceil(4.1)"
   ]
  },
  {
   "cell_type": "code",
   "execution_count": 28,
   "id": "3a7966e0",
   "metadata": {},
   "outputs": [
    {
     "data": {
      "text/plain": [
       "-13"
      ]
     },
     "execution_count": 28,
     "metadata": {},
     "output_type": "execute_result"
    }
   ],
   "source": [
    "math.ceil(-13.2)"
   ]
  },
  {
   "cell_type": "code",
   "execution_count": 29,
   "id": "33cf9fed",
   "metadata": {},
   "outputs": [
    {
     "data": {
      "text/plain": [
       "-13"
      ]
     },
     "execution_count": 29,
     "metadata": {},
     "output_type": "execute_result"
    }
   ],
   "source": [
    "math.ceil(-13.9)"
   ]
  },
  {
   "cell_type": "code",
   "execution_count": 30,
   "id": "a158612d",
   "metadata": {},
   "outputs": [
    {
     "data": {
      "text/plain": [
       "-2"
      ]
     },
     "execution_count": 30,
     "metadata": {},
     "output_type": "execute_result"
    }
   ],
   "source": [
    "math.ceil(-2)"
   ]
  },
  {
   "cell_type": "code",
   "execution_count": 31,
   "id": "6cf3150b",
   "metadata": {},
   "outputs": [
    {
     "data": {
      "text/plain": [
       "4"
      ]
     },
     "execution_count": 31,
     "metadata": {},
     "output_type": "execute_result"
    }
   ],
   "source": [
    "# floor function -- it gives next lower value\n",
    "\n",
    "math.floor(4.6)\n",
    "\n"
   ]
  },
  {
   "cell_type": "code",
   "execution_count": 32,
   "id": "1078f4a8",
   "metadata": {},
   "outputs": [
    {
     "data": {
      "text/plain": [
       "-4"
      ]
     },
     "execution_count": 32,
     "metadata": {},
     "output_type": "execute_result"
    }
   ],
   "source": [
    "math.floor(-3.1)"
   ]
  },
  {
   "cell_type": "code",
   "execution_count": 33,
   "id": "d4871244",
   "metadata": {},
   "outputs": [
    {
     "data": {
      "text/plain": [
       "4"
      ]
     },
     "execution_count": 33,
     "metadata": {},
     "output_type": "execute_result"
    }
   ],
   "source": [
    "# Trunc function --- it gives only integer parts \n",
    "\n",
    "import math\n",
    "\n",
    "math.trunc(4.3)"
   ]
  },
  {
   "cell_type": "code",
   "execution_count": 34,
   "id": "66820e65",
   "metadata": {},
   "outputs": [
    {
     "data": {
      "text/plain": [
       "-3"
      ]
     },
     "execution_count": 34,
     "metadata": {},
     "output_type": "execute_result"
    }
   ],
   "source": [
    "math.trunc(-3.2)"
   ]
  },
  {
   "cell_type": "code",
   "execution_count": 35,
   "id": "442adccb",
   "metadata": {},
   "outputs": [
    {
     "data": {
      "text/plain": [
       "2.718281828459045"
      ]
     },
     "execution_count": 35,
     "metadata": {},
     "output_type": "execute_result"
    }
   ],
   "source": [
    "# value e\n",
    "\n",
    "import math\n",
    "\n",
    "math.e"
   ]
  },
  {
   "cell_type": "code",
   "execution_count": 36,
   "id": "689cef13",
   "metadata": {},
   "outputs": [
    {
     "data": {
      "text/plain": [
       "54.598150033144236"
      ]
     },
     "execution_count": 36,
     "metadata": {},
     "output_type": "execute_result"
    }
   ],
   "source": [
    "math.exp(4)"
   ]
  },
  {
   "cell_type": "code",
   "execution_count": 37,
   "id": "852909de",
   "metadata": {},
   "outputs": [
    {
     "data": {
      "text/plain": [
       "54.59815003314423"
      ]
     },
     "execution_count": 37,
     "metadata": {},
     "output_type": "execute_result"
    }
   ],
   "source": [
    "math.e**4"
   ]
  },
  {
   "cell_type": "code",
   "execution_count": 38,
   "id": "c27e761d",
   "metadata": {},
   "outputs": [
    {
     "data": {
      "text/plain": [
       "2.0"
      ]
     },
     "execution_count": 38,
     "metadata": {},
     "output_type": "execute_result"
    }
   ],
   "source": [
    "# square root\n",
    "\n",
    "import math\n",
    "\n",
    "math.sqrt(4)"
   ]
  },
  {
   "cell_type": "code",
   "execution_count": 39,
   "id": "dbde7685",
   "metadata": {},
   "outputs": [
    {
     "data": {
      "text/plain": [
       "5.0"
      ]
     },
     "execution_count": 39,
     "metadata": {},
     "output_type": "execute_result"
    }
   ],
   "source": [
    "math.sqrt(25)"
   ]
  },
  {
   "cell_type": "code",
   "execution_count": 40,
   "id": "dd237362",
   "metadata": {},
   "outputs": [
    {
     "data": {
      "text/plain": [
       "3.4641016151377544"
      ]
     },
     "execution_count": 40,
     "metadata": {},
     "output_type": "execute_result"
    }
   ],
   "source": [
    "math.sqrt(12)"
   ]
  },
  {
   "cell_type": "code",
   "execution_count": 41,
   "id": "09bf9aa5",
   "metadata": {},
   "outputs": [
    {
     "data": {
      "text/plain": [
       "39"
      ]
     },
     "execution_count": 41,
     "metadata": {},
     "output_type": "execute_result"
    }
   ],
   "source": [
    "max(10, 2, 3, 39)"
   ]
  },
  {
   "cell_type": "code",
   "execution_count": 42,
   "id": "8eec336c",
   "metadata": {},
   "outputs": [
    {
     "data": {
      "text/plain": [
       "3"
      ]
     },
     "execution_count": 42,
     "metadata": {},
     "output_type": "execute_result"
    }
   ],
   "source": [
    "min(12,3,4,45)"
   ]
  },
  {
   "cell_type": "code",
   "execution_count": 43,
   "id": "ee8a9806",
   "metadata": {},
   "outputs": [
    {
     "data": {
      "text/plain": [
       "2.302585092994046"
      ]
     },
     "execution_count": 43,
     "metadata": {},
     "output_type": "execute_result"
    }
   ],
   "source": [
    "# math value \n",
    "\n",
    "import math \n",
    "\n",
    "math.log(10)"
   ]
  },
  {
   "cell_type": "code",
   "execution_count": 44,
   "id": "7eed2278",
   "metadata": {},
   "outputs": [
    {
     "data": {
      "text/plain": [
       "1.0"
      ]
     },
     "execution_count": 44,
     "metadata": {},
     "output_type": "execute_result"
    }
   ],
   "source": [
    "math.log10(10)"
   ]
  },
  {
   "cell_type": "code",
   "execution_count": 45,
   "id": "3ec935ea",
   "metadata": {},
   "outputs": [
    {
     "data": {
      "text/plain": [
       "(0.0, 11.0)"
      ]
     },
     "execution_count": 45,
     "metadata": {},
     "output_type": "execute_result"
    }
   ],
   "source": [
    "# modf function --- separate the fractional and integer parts \n",
    "\n",
    "import math\n",
    "\n",
    "math.modf(11)"
   ]
  },
  {
   "cell_type": "code",
   "execution_count": 46,
   "id": "464cc70e",
   "metadata": {},
   "outputs": [
    {
     "data": {
      "text/plain": [
       "(0.22000000000000064, 12.0)"
      ]
     },
     "execution_count": 46,
     "metadata": {},
     "output_type": "execute_result"
    }
   ],
   "source": [
    "math.modf(12.22)"
   ]
  },
  {
   "cell_type": "markdown",
   "id": "4667bd5f",
   "metadata": {},
   "source": [
    " Fractional part --- integer value"
   ]
  },
  {
   "cell_type": "code",
   "execution_count": 49,
   "id": "222f0974",
   "metadata": {},
   "outputs": [
    {
     "name": "stdout",
     "output_type": "stream",
     "text": [
      "0.09200000000000053\n",
      "12.0\n"
     ]
    }
   ],
   "source": [
    "a = 12.092\n",
    "import math\n",
    "for i in math.modf(a):  # give tuple of fractional and integer parts\n",
    "    print(i)"
   ]
  },
  {
   "cell_type": "code",
   "execution_count": null,
   "id": "530886c6",
   "metadata": {},
   "outputs": [],
   "source": []
  },
  {
   "cell_type": "code",
   "execution_count": 47,
   "id": "815b8987",
   "metadata": {},
   "outputs": [
    {
     "data": {
      "text/plain": [
       "16.0"
      ]
     },
     "execution_count": 47,
     "metadata": {},
     "output_type": "execute_result"
    }
   ],
   "source": [
    "### power \n",
    "\n",
    "math.pow(4,2) # here 4 is num and 2 is power"
   ]
  },
  {
   "cell_type": "code",
   "execution_count": 48,
   "id": "c94f48e9",
   "metadata": {},
   "outputs": [
    {
     "data": {
      "text/plain": [
       "81.0"
      ]
     },
     "execution_count": 48,
     "metadata": {},
     "output_type": "execute_result"
    }
   ],
   "source": [
    "math.pow(3,4)"
   ]
  },
  {
   "cell_type": "code",
   "execution_count": 1,
   "id": "f28a3db3",
   "metadata": {},
   "outputs": [
    {
     "data": {
      "text/plain": [
       "81"
      ]
     },
     "execution_count": 1,
     "metadata": {},
     "output_type": "execute_result"
    }
   ],
   "source": [
    "# without importing math we can use 'pow'\n",
    "# let's restart kernel to avoid previous import math module \n",
    "pow(3,4)"
   ]
  },
  {
   "cell_type": "code",
   "execution_count": 50,
   "id": "b895dd9d",
   "metadata": {},
   "outputs": [
    {
     "data": {
      "text/plain": [
       "3.141592653589793"
      ]
     },
     "execution_count": 50,
     "metadata": {},
     "output_type": "execute_result"
    }
   ],
   "source": [
    "# pi value\n",
    "\n",
    "import math\n",
    "\n",
    "math.pi\n",
    "# 'pi' value will be in 'Radian'."
   ]
  },
  {
   "cell_type": "code",
   "execution_count": 51,
   "id": "32515aa2",
   "metadata": {},
   "outputs": [
    {
     "data": {
      "text/plain": [
       "180.0"
      ]
     },
     "execution_count": 51,
     "metadata": {},
     "output_type": "execute_result"
    }
   ],
   "source": [
    "# radian to degree\n",
    "\n",
    "math.degrees(math.pi)"
   ]
  },
  {
   "cell_type": "code",
   "execution_count": 52,
   "id": "579f43fb",
   "metadata": {},
   "outputs": [
    {
     "data": {
      "text/plain": [
       "3.141592653589793"
      ]
     },
     "execution_count": 52,
     "metadata": {},
     "output_type": "execute_result"
    }
   ],
   "source": [
    "# degree to radians\n",
    "math.radians(180)"
   ]
  },
  {
   "cell_type": "markdown",
   "id": "147c170d",
   "metadata": {},
   "source": [
    "### String funcitons"
   ]
  },
  {
   "cell_type": "code",
   "execution_count": 53,
   "id": "148087d8",
   "metadata": {},
   "outputs": [
    {
     "data": {
      "text/plain": [
       "'hello welcome to python world'"
      ]
     },
     "execution_count": 53,
     "metadata": {},
     "output_type": "execute_result"
    }
   ],
   "source": [
    "str1 = \"hello welcome to python world\"\n",
    "str1"
   ]
  },
  {
   "cell_type": "code",
   "execution_count": 54,
   "id": "867ae009",
   "metadata": {},
   "outputs": [
    {
     "data": {
      "text/plain": [
       "'Hello welcome to python world'"
      ]
     },
     "execution_count": 54,
     "metadata": {},
     "output_type": "execute_result"
    }
   ],
   "source": [
    "# capitalize\n",
    "\n",
    "str1.capitalize()"
   ]
  },
  {
   "cell_type": "code",
   "execution_count": 55,
   "id": "0dddc674",
   "metadata": {},
   "outputs": [
    {
     "data": {
      "text/plain": [
       "'Hello world'"
      ]
     },
     "execution_count": 55,
     "metadata": {},
     "output_type": "execute_result"
    }
   ],
   "source": [
    "str2 = \"Hello world\"\n",
    "str2.capitalize() # if string is already in capitalize format then it don't change"
   ]
  },
  {
   "cell_type": "code",
   "execution_count": 56,
   "id": "2bff1c1f",
   "metadata": {},
   "outputs": [],
   "source": [
    "# count \n",
    "\n",
    "str1 = \"\"\"johny johny yes papa\n",
    "eating sugar no papa\n",
    "telling a lie no papa\n",
    "open your mouth haha\"\"\""
   ]
  },
  {
   "cell_type": "code",
   "execution_count": 57,
   "id": "53f96b8e",
   "metadata": {},
   "outputs": [
    {
     "data": {
      "text/plain": [
       "'johny johny yes papa\\neating sugar no papa\\ntelling a lie no papa\\nopen your mouth haha'"
      ]
     },
     "execution_count": 57,
     "metadata": {},
     "output_type": "execute_result"
    }
   ],
   "source": [
    "str1"
   ]
  },
  {
   "cell_type": "code",
   "execution_count": 59,
   "id": "0bdaae32",
   "metadata": {},
   "outputs": [
    {
     "name": "stdout",
     "output_type": "stream",
     "text": [
      "johny johny yes papa\n",
      "eating sugar no papa\n",
      "telling a lie no papa\n",
      "open your mouth haha\n"
     ]
    }
   ],
   "source": [
    "print(str1)"
   ]
  },
  {
   "cell_type": "code",
   "execution_count": 60,
   "id": "fdeeb178",
   "metadata": {},
   "outputs": [
    {
     "data": {
      "text/plain": [
       "2"
      ]
     },
     "execution_count": 60,
     "metadata": {},
     "output_type": "execute_result"
    }
   ],
   "source": [
    "str1.count(\"no\")"
   ]
  },
  {
   "cell_type": "code",
   "execution_count": 61,
   "id": "95bed660",
   "metadata": {},
   "outputs": [
    {
     "data": {
      "text/plain": [
       "3"
      ]
     },
     "execution_count": 61,
     "metadata": {},
     "output_type": "execute_result"
    }
   ],
   "source": [
    "str1.count(\"papa\")"
   ]
  },
  {
   "cell_type": "code",
   "execution_count": 62,
   "id": "444f96da",
   "metadata": {},
   "outputs": [
    {
     "data": {
      "text/plain": [
       "11"
      ]
     },
     "execution_count": 62,
     "metadata": {},
     "output_type": "execute_result"
    }
   ],
   "source": [
    "str1.count(\"a\")"
   ]
  },
  {
   "cell_type": "code",
   "execution_count": 63,
   "id": "e6513ebe",
   "metadata": {},
   "outputs": [
    {
     "data": {
      "text/plain": [
       "13"
      ]
     },
     "execution_count": 63,
     "metadata": {},
     "output_type": "execute_result"
    }
   ],
   "source": [
    "str1.count(\" \")"
   ]
  },
  {
   "cell_type": "code",
   "execution_count": 64,
   "id": "085ec012",
   "metadata": {},
   "outputs": [
    {
     "data": {
      "text/plain": [
       "True"
      ]
     },
     "execution_count": 64,
     "metadata": {},
     "output_type": "execute_result"
    }
   ],
   "source": [
    "# endswith\n",
    "\n",
    "str1 = \"google.com\"\n",
    "str1.endswith(\"com\")"
   ]
  },
  {
   "cell_type": "code",
   "execution_count": 65,
   "id": "c127d6b6",
   "metadata": {},
   "outputs": [
    {
     "data": {
      "text/plain": [
       "True"
      ]
     },
     "execution_count": 65,
     "metadata": {},
     "output_type": "execute_result"
    }
   ],
   "source": [
    "str1.endswith(\"m\")"
   ]
  },
  {
   "cell_type": "code",
   "execution_count": 66,
   "id": "42d2986a",
   "metadata": {},
   "outputs": [
    {
     "data": {
      "text/plain": [
       "False"
      ]
     },
     "execution_count": 66,
     "metadata": {},
     "output_type": "execute_result"
    }
   ],
   "source": [
    "str1.endswith(\".\")"
   ]
  },
  {
   "cell_type": "code",
   "execution_count": 67,
   "id": "099021e0",
   "metadata": {},
   "outputs": [
    {
     "data": {
      "text/plain": [
       "True"
      ]
     },
     "execution_count": 67,
     "metadata": {},
     "output_type": "execute_result"
    }
   ],
   "source": [
    "str1.endswith(\".com\")"
   ]
  },
  {
   "cell_type": "code",
   "execution_count": 68,
   "id": "9c45f608",
   "metadata": {},
   "outputs": [
    {
     "data": {
      "text/plain": [
       "6"
      ]
     },
     "execution_count": 68,
     "metadata": {},
     "output_type": "execute_result"
    }
   ],
   "source": [
    "str1 = \"Hello world\"\n",
    "\n",
    "str1.find(\"w\")"
   ]
  },
  {
   "cell_type": "code",
   "execution_count": 69,
   "id": "9c4a9f23",
   "metadata": {},
   "outputs": [
    {
     "data": {
      "text/plain": [
       "6"
      ]
     },
     "execution_count": 69,
     "metadata": {},
     "output_type": "execute_result"
    }
   ],
   "source": [
    "str1.find(\"world\")"
   ]
  },
  {
   "cell_type": "code",
   "execution_count": 70,
   "id": "b67a46bc",
   "metadata": {},
   "outputs": [
    {
     "data": {
      "text/plain": [
       "9"
      ]
     },
     "execution_count": 70,
     "metadata": {},
     "output_type": "execute_result"
    }
   ],
   "source": [
    "str1.find(\"ld\")"
   ]
  },
  {
   "cell_type": "code",
   "execution_count": 71,
   "id": "90280af7",
   "metadata": {},
   "outputs": [
    {
     "data": {
      "text/plain": [
       "11"
      ]
     },
     "execution_count": 71,
     "metadata": {},
     "output_type": "execute_result"
    }
   ],
   "source": [
    "### length \n",
    "\n",
    "len(str1)"
   ]
  },
  {
   "cell_type": "code",
   "execution_count": 72,
   "id": "083cc2f0",
   "metadata": {},
   "outputs": [
    {
     "data": {
      "text/plain": [
       "['Hello', 'world']"
      ]
     },
     "execution_count": 72,
     "metadata": {},
     "output_type": "execute_result"
    }
   ],
   "source": [
    "#### split\n",
    "\n",
    "str1.split()"
   ]
  },
  {
   "cell_type": "code",
   "execution_count": 73,
   "id": "0a82da00",
   "metadata": {},
   "outputs": [
    {
     "data": {
      "text/plain": [
       "['Hello', 'welcome', 'to', 'python', 'world']"
      ]
     },
     "execution_count": 73,
     "metadata": {},
     "output_type": "execute_result"
    }
   ],
   "source": [
    "str2 = \"Hello welcome to python world\"\n",
    "str2.split()"
   ]
  },
  {
   "cell_type": "code",
   "execution_count": 74,
   "id": "5c79085c",
   "metadata": {},
   "outputs": [
    {
     "data": {
      "text/plain": [
       "['Hell', ' welc', 'me t', ' pyth', 'n w', 'rld']"
      ]
     },
     "execution_count": 74,
     "metadata": {},
     "output_type": "execute_result"
    }
   ],
   "source": [
    "str2 = \"Hello welcome to python world\"\n",
    "str2.split(\"o\")"
   ]
  },
  {
   "cell_type": "code",
   "execution_count": 75,
   "id": "6aab27cc",
   "metadata": {},
   "outputs": [
    {
     "data": {
      "text/plain": [
       "'Hello Welcome To Python World'"
      ]
     },
     "execution_count": 75,
     "metadata": {},
     "output_type": "execute_result"
    }
   ],
   "source": [
    "### title -- capitalize the first letter of each word \n",
    "\n",
    "str2.title()"
   ]
  },
  {
   "cell_type": "code",
   "execution_count": 76,
   "id": "0ab8faf9",
   "metadata": {},
   "outputs": [
    {
     "data": {
      "text/plain": [
       "'hello world'"
      ]
     },
     "execution_count": 76,
     "metadata": {},
     "output_type": "execute_result"
    }
   ],
   "source": [
    "### Lower\n",
    "\n",
    "str1 = \"HELLO WORLD\"\n",
    "str1.lower()"
   ]
  },
  {
   "cell_type": "code",
   "execution_count": 77,
   "id": "596abe11",
   "metadata": {},
   "outputs": [
    {
     "data": {
      "text/plain": [
       "'hello world'"
      ]
     },
     "execution_count": 77,
     "metadata": {},
     "output_type": "execute_result"
    }
   ],
   "source": [
    "str2 = \"hello world\"\n",
    "str2.lower()"
   ]
  },
  {
   "cell_type": "code",
   "execution_count": 78,
   "id": "ff6588cd",
   "metadata": {},
   "outputs": [
    {
     "data": {
      "text/plain": [
       "True"
      ]
     },
     "execution_count": 78,
     "metadata": {},
     "output_type": "execute_result"
    }
   ],
   "source": [
    "# islower()\n",
    "\n",
    "str2.islower()"
   ]
  },
  {
   "cell_type": "code",
   "execution_count": 79,
   "id": "cc73a9b3",
   "metadata": {},
   "outputs": [
    {
     "data": {
      "text/plain": [
       "False"
      ]
     },
     "execution_count": 79,
     "metadata": {},
     "output_type": "execute_result"
    }
   ],
   "source": [
    "str1.islower()"
   ]
  },
  {
   "cell_type": "code",
   "execution_count": 80,
   "id": "64eae356",
   "metadata": {},
   "outputs": [
    {
     "data": {
      "text/plain": [
       "True"
      ]
     },
     "execution_count": 80,
     "metadata": {},
     "output_type": "execute_result"
    }
   ],
   "source": [
    "# is upper\n",
    "str1.isupper()"
   ]
  },
  {
   "cell_type": "code",
   "execution_count": 81,
   "id": "4f3d3810",
   "metadata": {},
   "outputs": [
    {
     "data": {
      "text/plain": [
       "False"
      ]
     },
     "execution_count": 81,
     "metadata": {},
     "output_type": "execute_result"
    }
   ],
   "source": [
    "str2.isupper()"
   ]
  },
  {
   "cell_type": "code",
   "execution_count": 82,
   "id": "ef9cd8ef",
   "metadata": {},
   "outputs": [
    {
     "data": {
      "text/plain": [
       "'HELLO WORLD'"
      ]
     },
     "execution_count": 82,
     "metadata": {},
     "output_type": "execute_result"
    }
   ],
   "source": [
    "str1"
   ]
  },
  {
   "cell_type": "code",
   "execution_count": 83,
   "id": "78647c24",
   "metadata": {},
   "outputs": [
    {
     "data": {
      "text/plain": [
       "'hello world'"
      ]
     },
     "execution_count": 83,
     "metadata": {},
     "output_type": "execute_result"
    }
   ],
   "source": [
    "str2"
   ]
  },
  {
   "cell_type": "code",
   "execution_count": 84,
   "id": "4d554356",
   "metadata": {},
   "outputs": [
    {
     "data": {
      "text/plain": [
       "'HELLO WORLD'"
      ]
     },
     "execution_count": 84,
     "metadata": {},
     "output_type": "execute_result"
    }
   ],
   "source": [
    "# upper\n",
    "str2.upper()"
   ]
  },
  {
   "cell_type": "code",
   "execution_count": 85,
   "id": "66eddb25",
   "metadata": {},
   "outputs": [
    {
     "data": {
      "text/plain": [
       "False"
      ]
     },
     "execution_count": 85,
     "metadata": {},
     "output_type": "execute_result"
    }
   ],
   "source": [
    "str2.isupper()"
   ]
  },
  {
   "cell_type": "markdown",
   "id": "6730a564",
   "metadata": {},
   "source": [
    "Thank You See you in a next notebook 👍🙏"
   ]
  }
 ],
 "metadata": {
  "kernelspec": {
   "display_name": "Python 3 (ipykernel)",
   "language": "python",
   "name": "python3"
  },
  "language_info": {
   "codemirror_mode": {
    "name": "ipython",
    "version": 3
   },
   "file_extension": ".py",
   "mimetype": "text/x-python",
   "name": "python",
   "nbconvert_exporter": "python",
   "pygments_lexer": "ipython3",
   "version": "3.9.7"
  }
 },
 "nbformat": 4,
 "nbformat_minor": 5
}
