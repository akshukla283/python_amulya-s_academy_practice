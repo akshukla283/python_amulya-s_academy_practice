{
 "cells": [
  {
   "cell_type": "code",
   "execution_count": 1,
   "id": "28d51d48",
   "metadata": {},
   "outputs": [
    {
     "name": "stdout",
     "output_type": "stream",
     "text": [
      "43\n"
     ]
    }
   ],
   "source": [
    "#### Guess the output\n",
    "\n",
    "count = 0\n",
    "\n",
    "for i in range(5):\n",
    "    while i<3:\n",
    "        if i == 1:  # here if break condition true then control will go out of while loop because \n",
    "            break   # break statement within the while loop.\n",
    "        count = count + 10 \n",
    "        i = i+1\n",
    "    else:          # this else part will be executed only when the loop is not turminated by 'break'\n",
    "        count = count+1\n",
    "        \n",
    "else:\n",
    "    count = count + 20\n",
    "    \n",
    "print(count)\n",
    "\n",
    "\"\"\"here when for loop start then 5 iteration will generate 0,1,2,3,4 and \n",
    "1. for i = 0 which is <3 and while loop is satisfied and within that if condition is False\n",
    "then control will go to else part of if condition and there count will be 0 + 10 i.e. 10. and i\n",
    "increamented +1 control will go to while loop agian this time i is 1 which is <3 and also if condition\n",
    "i == 1 is True means loop will be turminated and control will out of if condition and come to else\n",
    "part of while loop but it won't be executed because it has been turminated by break statement.\n",
    "\n",
    "so count = 10 \n",
    "\n",
    "2. now control comes to the for loop again and this time i = 1 which is less than <3 and inside\n",
    "the while loop if condition is also True which means loop will be truminated by 'break' statement\n",
    "so loop will come out from the if conditon and control will come to else part of the while\n",
    "loop but loop is turminated by break statement else part of while loop won't be executed. hence \n",
    "count is still 10.\n",
    "\n",
    "3. now control comes to for loop again and this time i = 2 which is <3 means while loop satisfied \n",
    "but if part is not satisfied to loop comes to the else part of the if condition and count \n",
    "will be added 10 which will be 20 and i will be incremented by +1 now i is 3 and it will go again\n",
    "to the while loop because it is <3 to it satisfied the condition but not satisfied the if condition\n",
    "so control will come to else part of if condition and count will be added 10 means now count is 20\n",
    "and i will be +1 so i is 3  now it come to while loop again but not less than <3 so loop will come \n",
    "to the else part of while loop and this time it is not turminated by break so it will be executed \n",
    "and count will we added by 1 so count will be 21 and control will go \n",
    "for loop again.\n",
    "\n",
    "4. Now this time i will 3 which if not satisfied the while loop so control will go the else part of \n",
    "while because it is not turminated by break so count will incremented by +1 so count will be 22\n",
    "and control will be go to the for loop again and count is 22\n",
    "\n",
    "5. Now i will 4 which is also not satisfied the condition of while loop so control will go to the else\n",
    "part of while loop and it will be executed because it has not been turminated by the break so  count \n",
    "will be increamented +1 and becomes 23 and loop will go to the for loop again.\n",
    "\n",
    "6. this time for loop will not execute because for loop has been over so control will go the else part\n",
    "of the for loop and here count will be incremented by 20 and will becomes 43 and control will go to\n",
    "the print which is out of for loop and will print the final value of count as 43 \n",
    "that is our final output Thanks \"\"\""
   ]
  },
  {
   "cell_type": "code",
   "execution_count": 2,
   "id": "29a9d48e",
   "metadata": {},
   "outputs": [
    {
     "name": "stdout",
     "output_type": "stream",
     "text": [
      "43\n"
     ]
    }
   ],
   "source": [
    "#### Guess the output\n",
    "# we can write above program as follow\n",
    "count = 0\n",
    "\n",
    "for i in range(5):\n",
    "    while i<3:\n",
    "        if i == 1:  # here if break condition true then control will go out of while loop because \n",
    "            break\n",
    "        else:\n",
    "            count = count + 10\n",
    "            i = i+1\n",
    "    else:          # this else part will be executed only when the loop is not turminated by 'break'\n",
    "        count = count+1\n",
    "        \n",
    "else:\n",
    "    count = count + 20\n",
    "    \n",
    "print(count)\n"
   ]
  },
  {
   "cell_type": "code",
   "execution_count": 3,
   "id": "48561aa0",
   "metadata": {},
   "outputs": [
    {
     "ename": "AttributeError",
     "evalue": "'tuple' object has no attribute 'append'",
     "output_type": "error",
     "traceback": [
      "\u001b[1;31m---------------------------------------------------------------------------\u001b[0m",
      "\u001b[1;31mAttributeError\u001b[0m                            Traceback (most recent call last)",
      "Input \u001b[1;32mIn [3]\u001b[0m, in \u001b[0;36m<cell line: 5>\u001b[1;34m()\u001b[0m\n\u001b[0;32m      3\u001b[0m list1 \u001b[38;5;241m=\u001b[39m [(\u001b[38;5;241m1\u001b[39m,\u001b[38;5;241m2\u001b[39m,\u001b[38;5;241m3\u001b[39m,\u001b[38;5;241m4\u001b[39m),(\u001b[38;5;241m5\u001b[39m,\u001b[38;5;241m6\u001b[39m,),[\u001b[38;5;241m7\u001b[39m,\u001b[38;5;241m8\u001b[39m],\u001b[38;5;241m10\u001b[39m]\n\u001b[0;32m      4\u001b[0m list1\u001b[38;5;241m.\u001b[39minsert(\u001b[38;5;241m1\u001b[39m, (\u001b[38;5;241m12\u001b[39m,\u001b[38;5;241m13\u001b[39m))\n\u001b[1;32m----> 5\u001b[0m \u001b[43mlist1\u001b[49m\u001b[43m[\u001b[49m\u001b[38;5;241;43m2\u001b[39;49m\u001b[43m]\u001b[49m\u001b[38;5;241;43m.\u001b[39;49m\u001b[43mappend\u001b[49m(\u001b[38;5;124m\"\u001b[39m\u001b[38;5;124mHello\u001b[39m\u001b[38;5;124m\"\u001b[39m)\n\u001b[0;32m      6\u001b[0m list1[\u001b[38;5;241m0\u001b[39m]\u001b[38;5;241m.\u001b[39mappend(\u001b[38;5;124m\"\u001b[39m\u001b[38;5;124mamaya\u001b[39m\u001b[38;5;124m\"\u001b[39m)\n\u001b[0;32m      7\u001b[0m list1[\u001b[38;5;241m1\u001b[39m]\u001b[38;5;241m.\u001b[39mappend(\u001b[38;5;124m\"\u001b[39m\u001b[38;5;124ma\u001b[39m\u001b[38;5;124m\"\u001b[39m)\n",
      "\u001b[1;31mAttributeError\u001b[0m: 'tuple' object has no attribute 'append'"
     ]
    }
   ],
   "source": [
    "### guess the output \n",
    "\n",
    "list1 = [(1,2,3,4),(5,6,),[7,8],10]\n",
    "list1.insert(1, (12,13))\n",
    "list1[2].append(\"Hello\")\n",
    "list1[0].append(\"amaya\")\n",
    "list1[1].append(\"a\")\n",
    "list1.insert(1, \"amulya\")\n",
    "print(list1)"
   ]
  },
  {
   "cell_type": "code",
   "execution_count": 4,
   "id": "d0401af6",
   "metadata": {},
   "outputs": [
    {
     "name": "stdout",
     "output_type": "stream",
     "text": [
      "[(1, 2, 3, 4), (12, 13), [7, 8, 'Hello'], 10]\n"
     ]
    }
   ],
   "source": [
    "### guess the output \n",
    "\n",
    "list1 = [(1,2,3,4),[7,8],10]\n",
    "list1.insert(1, (12,13))\n",
    "list1[2].append(\"Hello\")\n",
    "\n",
    "print(list1)"
   ]
  },
  {
   "cell_type": "code",
   "execution_count": 7,
   "id": "3ee974d5",
   "metadata": {},
   "outputs": [
    {
     "name": "stdout",
     "output_type": "stream",
     "text": [
      "[(1, 2, 3, 4), 'amulya', [7, 8, 'a'], [10, 'Hello']]\n"
     ]
    }
   ],
   "source": [
    "### guess the output \n",
    "\n",
    "list1 = [(1,2,3,4),[7,8],[10]]\n",
    "#list1.insert(1, (12,13))\n",
    "list1[2].append(\"Hello\")\n",
    "#list1[0].append(\"amaya\") # tuple can't be appended\n",
    "list1[1].append(\"a\")\n",
    "list1.insert(1, \"amulya\")\n",
    "print(list1)"
   ]
  },
  {
   "cell_type": "code",
   "execution_count": 3,
   "id": "a5c6e358",
   "metadata": {},
   "outputs": [
    {
     "name": "stdout",
     "output_type": "stream",
     "text": [
      "Enter the number: 12\n",
      "33 Number is palindrome, when entered number is:  12\n"
     ]
    }
   ],
   "source": [
    "### checking whether entered number is palindrome or not\n",
    "# if not then add number and its reverse and again check whether number is palindrome or not \n",
    "# repeat the previous process untill we the palindrome number.\n",
    "\n",
    "num = int(input(\"Enter the number: \"))\n",
    "count = num\n",
    "while True:\n",
    "    str_num  = str(num)\n",
    "    rev_str = str_num[::-1]\n",
    "\n",
    "    if str_num == rev_str:\n",
    "        print(num, \"Number is palindrome, when entered number is: \", count)\n",
    "        break \n",
    "\n",
    "    num = int(str_num) + int(rev_str)"
   ]
  },
  {
   "cell_type": "code",
   "execution_count": 12,
   "id": "383716cf",
   "metadata": {},
   "outputs": [
    {
     "name": "stdout",
     "output_type": "stream",
     "text": [
      "Enter the number: 25\n",
      "77 Number is palindrome, when entered number is:  25\n"
     ]
    }
   ],
   "source": [
    "# in above program we can take string as a input \n",
    "\n",
    "num = input(\"Enter the number: \")\n",
    "count = num\n",
    "while True:\n",
    "    \n",
    "    rev = str(num)[::-1]\n",
    "\n",
    "    if str(num) == rev:\n",
    "        print(num, \"Number is palindrome, when entered number is: \", count)\n",
    "        break \n",
    "\n",
    "    num = int(num) + int(rev)"
   ]
  },
  {
   "cell_type": "code",
   "execution_count": 14,
   "id": "85609fc4",
   "metadata": {},
   "outputs": [
    {
     "name": "stdout",
     "output_type": "stream",
     "text": [
      "hello\n",
      "hello\n",
      "hello\n",
      "hello\n"
     ]
    }
   ],
   "source": [
    "#### Guess the output\n",
    "\n",
    "str1 = \"hello world\"\n",
    "while str1:\n",
    "    print(\"hello\")\n",
    "    str1  = str1[1::2]\n",
    "    \n",
    "\"\"\"Explaination : for a while loop we need some boolean condition and inside while loop we need some\n",
    "truminator or increament or decreament condition to control the while loop \n",
    "here str1 have some value so at start it will work as True if str1 were empty then it worked like \n",
    "False,\n",
    "\n",
    "1. so for the first time str1 have some value to it is True then will print **'Hello'** and after this \n",
    "str1 will be sliced and get new value as \"el ol\" and control will go tothe while loop again and \n",
    "this time new str1 have some value so print statement will execute and will print **\"Hello\"**\n",
    "and afterthat str1 will be sliced again given condition and will get new value like \"lo\" and \n",
    "control will go to the while loop and new str1 have still some value so it will evaluate to True\n",
    "and print function will print the **\"hello\"** and after that str1 once again will be sliced as per \n",
    "given condition and will get new value as \"o\" and control will come to while loop and str1 have still\n",
    "'o' so it will evaluate as True and print function print **\"hello\"** and str1 will be sliced as per \n",
    "given condition and this time str1 will have no string means empty string \"\" so when control will \n",
    "come to while loop and str1 is empty so it will evaluate as False so while loop will not executed.\n",
    "thanks \n",
    "\"\"\""
   ]
  },
  {
   "cell_type": "markdown",
   "id": "f0422ef2",
   "metadata": {},
   "source": [
    "#### SubString :\n",
    "conteseous sequence of character within a string.\n",
    "\n",
    "for example. good ..... is substring of string \"hello world good morning!\"\n",
    "\n",
    "another e.g. -- abcd  --substring -- a,b,c,d,---\n",
    "                                     ab, bc, cd,----- abc,,bc,---- abcd are the substring of the string.\n",
    "\n",
    "An example of a string is \"we meet on Friday at 08:00 am\". And you can access specific sub-parts of the string commonly known as `substrings`.\n",
    "\n",
    "We can define a substring as a sequence of characters within a string. From the previous example, Python substrings can be \"Friday\", \"at\", and \"meet\", for example.\n",
    "\n",
    "#### Subsequence:\n",
    "\n",
    "A subsequence of a string is a sequence that can be derived from the given string by deleting zero or more elements without changing the order of the remaining elements.\n",
    "\n",
    "\n",
    "e.g. abcd ... subsequence .. ac  by deleting b from between a and c."
   ]
  },
  {
   "cell_type": "code",
   "execution_count": 15,
   "id": "ed0712c6",
   "metadata": {},
   "outputs": [
    {
     "name": "stdout",
     "output_type": "stream",
     "text": [
      "Enter the string: hello\n",
      "h\n",
      "he\n",
      "hel\n",
      "hell\n",
      "hello\n",
      "e\n",
      "el\n",
      "ell\n",
      "ello\n",
      "l\n",
      "ll\n",
      "llo\n",
      "l\n",
      "lo\n",
      "o\n"
     ]
    }
   ],
   "source": [
    "# how to find out the substring of the string \n",
    "str1 = input(\"Enter the string: \")\n",
    "for i in range(len(str1)):\n",
    "    for j in range(i+1, len(str1)+1): # we need last string as well so we need + 1 \n",
    "        print(str1[i:j])\n",
    "\n",
    "# we took second for loop because we wanted slice limit. "
   ]
  },
  {
   "cell_type": "code",
   "execution_count": 17,
   "id": "1568e595",
   "metadata": {},
   "outputs": [
    {
     "name": "stdout",
     "output_type": "stream",
     "text": [
      "Enter the string: hello\n",
      "h he hel hell hello \n",
      "e el ell ello \n",
      "l ll llo \n",
      "l lo \n",
      "o \n"
     ]
    }
   ],
   "source": [
    "# how to find out the substring of the string \n",
    "\n",
    "# just need a pattern like output\n",
    "str1 = input(\"Enter the string: \")\n",
    "for i in range(len(str1)):\n",
    "    for j in range(i+1, len(str1)+1): # we need last string as well so we need + 1 \n",
    "        print(str1[i:j], end = \" \") # to cantain the loop in same line \n",
    "    print() # for new line for next iteration "
   ]
  },
  {
   "cell_type": "code",
   "execution_count": 6,
   "id": "18813e51",
   "metadata": {},
   "outputs": [
    {
     "name": "stdout",
     "output_type": "stream",
     "text": [
      "Enter the string : hello\n",
      "h he hel hell hello \n",
      "e el ell ello \n",
      "l ll llo \n",
      "l lo \n",
      "o \n"
     ]
    }
   ],
   "source": [
    "str1 = input(\"Enter the string : \")\n",
    "\n",
    "for i in range(len(str1)):\n",
    "    \n",
    "    for j in range(i+1, len(str1)+1):\n",
    "        print(str1[i:j], end = \" \")\n",
    "        \n",
    "    print() # this is for new line "
   ]
  },
  {
   "cell_type": "code",
   "execution_count": 18,
   "id": "ac87d1e0",
   "metadata": {},
   "outputs": [
    {
     "name": "stdout",
     "output_type": "stream",
     "text": [
      "Enter the string: hello\n",
      "['h', 'he', 'hel', 'hell', 'hello', 'e', 'el', 'ell', 'ello', 'l', 'll', 'llo', 'l', 'lo', 'o']\n"
     ]
    }
   ],
   "source": [
    "# how to find out the substring of the string \n",
    "\n",
    "# just need a pattern like output\n",
    "# we can creat a list and append it and print at the end.\n",
    "str1 = input(\"Enter the string: \")\n",
    "sub_list = []\n",
    "for i in range(len(str1)):\n",
    "    for j in range(i+1, len(str1)+1): # we need last string as well so we need + 1 \n",
    "        sub_list.append(str1[i:j]) # to cantain the loop in same line \n",
    "print(sub_list)"
   ]
  },
  {
   "cell_type": "code",
   "execution_count": 4,
   "id": "5332fe52",
   "metadata": {},
   "outputs": [
    {
     "name": "stdout",
     "output_type": "stream",
     "text": [
      "[0, None, 1, None, 2, None, 3, None]\n"
     ]
    }
   ],
   "source": [
    "### Guess the output \n",
    "\n",
    "# important Note - Python's default arguments are evaluated once when the funtionis defined, not each\n",
    "# time the fuction is called\n",
    "\n",
    "def function(n, list1 = []):\n",
    "    list1.append(list1.append(n))\n",
    "    return list1\n",
    "\n",
    "for i in range(4):\n",
    "    list2 = function(i)\n",
    "    \n",
    "print(list2)\n",
    "\"\"\"Explaination: when for loop start then we get iterator 0,1,2,3 and when i = 0 and call\n",
    "   function and passes the argument n = 0 and list1 have its default argument so inside \n",
    "   function when list1 appended then it will be [0] and when 2d time list1 appended then\n",
    "   list append method only modify the the list and return None so when it append further\n",
    "   then list1 will be [0, None] and now function will return it to the list2 and function \n",
    "   list1 has been updated with [0, None] and hold it as default argument and now for loop \n",
    "   once again this time i = 1 and follow the same iteration append method and final output \n",
    "   will be [0, None,1,None, 2, None, 3, None]\"\"\""
   ]
  },
  {
   "cell_type": "code",
   "execution_count": 1,
   "id": "a0b43b05",
   "metadata": {},
   "outputs": [
    {
     "name": "stdout",
     "output_type": "stream",
     "text": [
      "None\n"
     ]
    }
   ],
   "source": [
    "lst = []\n",
    "a = lst.append(0)\n",
    "print(a)\n",
    "\n",
    "# as we can see when we append then it modify lst and return nothing "
   ]
  },
  {
   "cell_type": "code",
   "execution_count": 9,
   "id": "6fb53ad7",
   "metadata": {},
   "outputs": [
    {
     "name": "stdout",
     "output_type": "stream",
     "text": [
      "4\n",
      "3\n",
      "10\n",
      "20\n",
      "\n",
      "3\n",
      "4\n",
      "10\n",
      "20\n",
      "\n",
      "20\n",
      "10\n",
      "4\n",
      "3\n",
      "\n"
     ]
    },
    {
     "ename": "TypeError",
     "evalue": "'NoneType' object is not iterable",
     "output_type": "error",
     "traceback": [
      "\u001b[1;31m---------------------------------------------------------------------------\u001b[0m",
      "\u001b[1;31mTypeError\u001b[0m                                 Traceback (most recent call last)",
      "Input \u001b[1;32mIn [9]\u001b[0m, in \u001b[0;36m<cell line: 18>\u001b[1;34m()\u001b[0m\n\u001b[0;32m     14\u001b[0m     \u001b[38;5;28mprint\u001b[39m(i)\n\u001b[0;32m     16\u001b[0m \u001b[38;5;28mprint\u001b[39m()\n\u001b[1;32m---> 18\u001b[0m \u001b[38;5;28;01mfor\u001b[39;00m i \u001b[38;5;129;01min\u001b[39;00m [\u001b[38;5;241m20\u001b[39m,\u001b[38;5;241m10\u001b[39m,\u001b[38;5;241m3\u001b[39m,\u001b[38;5;241m4\u001b[39m]\u001b[38;5;241m.\u001b[39msort():\n\u001b[0;32m     19\u001b[0m     \u001b[38;5;28mprint\u001b[39m(i)\n",
      "\u001b[1;31mTypeError\u001b[0m: 'NoneType' object is not iterable"
     ]
    }
   ],
   "source": [
    "# Guess the output\n",
    "\n",
    "for i in [20, 10,3,4][::-1]:\n",
    "    print(i)\n",
    "    \n",
    "print()\n",
    "\n",
    "for i in sorted([20,10,3,4]):\n",
    "    print(i)\n",
    "    \n",
    "print()\n",
    "\n",
    "for i in sorted([20,10,3,4], reverse=True):\n",
    "    print(i)\n",
    "    \n",
    "print()\n",
    "\n",
    "for i in [20,10,3,4].sort():\n",
    "    print(i)"
   ]
  },
  {
   "cell_type": "code",
   "execution_count": 10,
   "id": "474286ea",
   "metadata": {},
   "outputs": [
    {
     "name": "stdout",
     "output_type": "stream",
     "text": [
      "None\n"
     ]
    }
   ],
   "source": [
    "a = [20,10,3,4].sort()\n",
    "print(a)\n",
    "\n",
    "# As we can see sort method modify the original list but not return any thing like we saw with list"
   ]
  },
  {
   "cell_type": "code",
   "execution_count": 11,
   "id": "3432478d",
   "metadata": {},
   "outputs": [
    {
     "name": "stdout",
     "output_type": "stream",
     "text": [
      "[3, 4, 10, 20]\n"
     ]
    }
   ],
   "source": [
    "a = sorted([20,10,3,4])\n",
    "print(a)\n",
    "\n",
    "# here we can see that 'sorted()' function return new list it don't modify the original list.\n",
    "\n",
    "# we need to understand these things that which funtion return value which is not."
   ]
  },
  {
   "cell_type": "code",
   "execution_count": 13,
   "id": "9a9109d7",
   "metadata": {},
   "outputs": [
    {
     "name": "stdout",
     "output_type": "stream",
     "text": [
      "10\n"
     ]
    }
   ],
   "source": [
    "a = {}\n",
    "a[1]= 1\n",
    "a[\"1\"] = 2\n",
    "a[1] = a[1] + 2\n",
    "a[\"a\"] = a[\"1\"] + 3\n",
    "\n",
    "count = 0 \n",
    "for i in a :\n",
    "    count += a[i]\n",
    "    \n",
    "print(count)"
   ]
  },
  {
   "cell_type": "code",
   "execution_count": 14,
   "id": "7ab4eafa",
   "metadata": {},
   "outputs": [
    {
     "name": "stdout",
     "output_type": "stream",
     "text": [
      "a\n"
     ]
    }
   ],
   "source": [
    "a = {}\n",
    "a[1]= 1\n",
    "a[\"1\"] = 2\n",
    "a[1] = a[1] + 2\n",
    "a[\"a\"] = a[\"1\"] + 3\n",
    "\n",
    "count = 0 \n",
    "for i in a :\n",
    "    count += a[i]\n",
    "    \n",
    "print(i) \n",
    "# will print i = a because in last iteration"
   ]
  },
  {
   "cell_type": "code",
   "execution_count": 15,
   "id": "1ea4abef",
   "metadata": {},
   "outputs": [
    {
     "name": "stdout",
     "output_type": "stream",
     "text": [
      "None\n"
     ]
    }
   ],
   "source": [
    "#### Guess the output\n",
    "\n",
    "string = \"welcome to amuls academy\"\n",
    "i = 'i'\n",
    "\n",
    "while i in string:\n",
    "    print(i, end = \" \")\n",
    "    break\n",
    "else:\n",
    "    print(\"None\")\n",
    "    \n",
    "# it will give none because i = \"i\" which is not in string so while loop is not satisfied and control\n",
    "# will come to else part of else and will execute beacuse it is not turminated by 'break' statemet "
   ]
  },
  {
   "cell_type": "code",
   "execution_count": 16,
   "id": "98c70e7a",
   "metadata": {},
   "outputs": [
    {
     "name": "stdout",
     "output_type": "stream",
     "text": [
      "e "
     ]
    }
   ],
   "source": [
    "#### Guess the output\n",
    "\n",
    "string = \"welcome to amuls academy\"\n",
    "i = 'e'\n",
    "\n",
    "while i in string:\n",
    "    print(i, end = \" \")\n",
    "    break\n",
    "else:\n",
    "    print(\"None\")\n",
    "# here i is in string so will execute and after this break statement will execute and control will \n",
    "# come out of the loop and do nothing."
   ]
  },
  {
   "cell_type": "code",
   "execution_count": 17,
   "id": "c1acdf64",
   "metadata": {},
   "outputs": [
    {
     "name": "stdout",
     "output_type": "stream",
     "text": [
      "w "
     ]
    }
   ],
   "source": [
    "#### Guess the output\n",
    "\n",
    "string = \"welcome to amuls academy\"\n",
    "i = 'i'\n",
    "\n",
    "for i in string:\n",
    "    print(i, end = \" \")\n",
    "    break\n",
    "else:\n",
    "    print(\"None\")\n",
    "    \n",
    "# it print 'w' because when for loop initialize then first value for i will be 'w' and after printing\n",
    "# it 'break' statement will execute and control will come out of the loop ."
   ]
  },
  {
   "cell_type": "code",
   "execution_count": 21,
   "id": "f28d012a",
   "metadata": {},
   "outputs": [
    {
     "name": "stdout",
     "output_type": "stream",
     "text": [
      "[[[1, [2, 3]], [4, 5]], [[5, 6, 7], [10, 11, 12]], 13, [14, 15]]\n",
      "43\n"
     ]
    }
   ],
   "source": [
    "#### Guess the output\n",
    "\n",
    "list1 = list()\n",
    "list1.append([[1, [2,3]], [4,5]])\n",
    "list1.append([[5,6,7], [10,11,12]])\n",
    "list1.extend([13, [14,15]])\n",
    "print(list1)\n",
    "print(list1[0][1][1] + list1[1][1][0] + list1[2] + list1[3][1])"
   ]
  },
  {
   "cell_type": "code",
   "execution_count": 22,
   "id": "f43be879",
   "metadata": {},
   "outputs": [
    {
     "name": "stdout",
     "output_type": "stream",
     "text": [
      "[[[1, 2, 3]], [[1, 2, 3]], [[1, 2, 3]], [[1, 2, 3]]]\n"
     ]
    }
   ],
   "source": [
    "#### Guess the output\n",
    "\n",
    "list1 = [1,2,3]\n",
    "\n",
    "list2 = [[i for i in [list1]] for i in range(4)]\n",
    "\n",
    "print(list2)"
   ]
  },
  {
   "cell_type": "code",
   "execution_count": 23,
   "id": "6ac60f37",
   "metadata": {},
   "outputs": [
    {
     "name": "stdout",
     "output_type": "stream",
     "text": [
      "[[1, 2, 3], [1, 2, 3], [1, 2, 3], [1, 2, 3]]\n"
     ]
    }
   ],
   "source": [
    "#### Guess the output\n",
    "\n",
    "list1 = [1,2,3]\n",
    "\n",
    "list2 = [[i for i in list1] for i in range(4)] # here we reduced one [] from [list1]\n",
    "\n",
    "print(list2)"
   ]
  },
  {
   "cell_type": "code",
   "execution_count": 27,
   "id": "62394370",
   "metadata": {},
   "outputs": [
    {
     "name": "stdout",
     "output_type": "stream",
     "text": [
      "21.5 ABCDEF\n"
     ]
    }
   ],
   "source": [
    "### Guess the output\n",
    "\n",
    "list1 = [1, 1.1, \"ABC\", 10, \"DEF\", 5, 4.4, True, 4]\n",
    "val1, val2 = 0, \"\"\n",
    "for i in list1:\n",
    "    if type(i) == int or type(i) == float:\n",
    "        val1 = val1 + i\n",
    "    elif type(i) == str:\n",
    "        val2 = val2 + i\n",
    "    else:\n",
    "        break\n",
    "        \n",
    "print(val1, val2)"
   ]
  },
  {
   "cell_type": "code",
   "execution_count": 3,
   "id": "2bc1c4e7",
   "metadata": {},
   "outputs": [
    {
     "name": "stdout",
     "output_type": "stream",
     "text": [
      "c c c c c c c "
     ]
    }
   ],
   "source": [
    "#### Guess the output\n",
    "\n",
    "str1 = \"AaBbCcDdEeFf\"\n",
    "var = 'c'\n",
    "while var in str1:\n",
    "    str1 = str1[:-1]\n",
    "    print(var, end = \" \")"
   ]
  },
  {
   "cell_type": "code",
   "execution_count": 4,
   "id": "ef21020a",
   "metadata": {},
   "outputs": [
    {
     "ename": "AttributeError",
     "evalue": "'tuple' object has no attribute 'append'",
     "output_type": "error",
     "traceback": [
      "\u001b[1;31m---------------------------------------------------------------------------\u001b[0m",
      "\u001b[1;31mAttributeError\u001b[0m                            Traceback (most recent call last)",
      "Input \u001b[1;32mIn [4]\u001b[0m, in \u001b[0;36m<cell line: 3>\u001b[1;34m()\u001b[0m\n\u001b[0;32m      1\u001b[0m list1 \u001b[38;5;241m=\u001b[39m [(\u001b[38;5;241m1\u001b[39m,\u001b[38;5;241m2\u001b[39m,\u001b[38;5;241m3\u001b[39m,\u001b[38;5;241m4\u001b[39m), (\u001b[38;5;241m5\u001b[39m,\u001b[38;5;241m6\u001b[39m), [\u001b[38;5;241m7\u001b[39m, \u001b[38;5;241m8\u001b[39m], \u001b[38;5;241m10\u001b[39m]\n\u001b[0;32m      2\u001b[0m list1\u001b[38;5;241m.\u001b[39minsert(\u001b[38;5;241m1\u001b[39m,(\u001b[38;5;241m12\u001b[39m,\u001b[38;5;241m13\u001b[39m))\n\u001b[1;32m----> 3\u001b[0m \u001b[43mlist1\u001b[49m\u001b[43m[\u001b[49m\u001b[38;5;241;43m2\u001b[39;49m\u001b[43m]\u001b[49m\u001b[38;5;241;43m.\u001b[39;49m\u001b[43mappend\u001b[49m(\u001b[38;5;124m\"\u001b[39m\u001b[38;5;124mhello\u001b[39m\u001b[38;5;124m\"\u001b[39m)\n\u001b[0;32m      4\u001b[0m list1\u001b[38;5;241m.\u001b[39mappend(\u001b[38;5;124m\"\u001b[39m\u001b[38;5;124mamulya\u001b[39m\u001b[38;5;124m\"\u001b[39m)\n\u001b[0;32m      5\u001b[0m list1[\u001b[38;5;241m0\u001b[39m]\u001b[38;5;241m.\u001b[39mappend(\u001b[38;5;124m\"\u001b[39m\u001b[38;5;124ma\u001b[39m\u001b[38;5;124m\"\u001b[39m)\n",
      "\u001b[1;31mAttributeError\u001b[0m: 'tuple' object has no attribute 'append'"
     ]
    }
   ],
   "source": [
    "list1 = [(1,2,3,4), (5,6), [7, 8], 10]\n",
    "list1.insert(1,(12,13))\n",
    "list1[2].append(\"hello\")\n",
    "list1.append(\"amulya\")\n",
    "list1[0].append(\"a\")\n",
    "list1[1].insert(1,\"amulya\")\n",
    "\n",
    "print(list1)\n",
    "# first operation will we executed and list1 will be [(1,2,3,4),(12,13) (5,6), [7, 8], 10]\n",
    "# now list1[2] is a tuple (5,6) and we know tuple is immutable so it will through error."
   ]
  },
  {
   "cell_type": "code",
   "execution_count": 5,
   "id": "7515f396",
   "metadata": {},
   "outputs": [
    {
     "name": "stdout",
     "output_type": "stream",
     "text": [
      "hello\n",
      "hello\n",
      "hello\n",
      "hello\n"
     ]
    }
   ],
   "source": [
    "str1 = \"hello world\"\n",
    "\n",
    "while str1 :\n",
    "    print(\"hello\")\n",
    "    str1 = str1[1::2]\n",
    "    \n",
    "# in this str1 will be sliced till the empty str1\n",
    "# we have some string in str1 so print will print -------hello\n",
    "# step 1str1 = 'el ol' -now str1 have string so print ---hello\n",
    "# step 2 str1 = 'lo'    now str1 have string so print ---hello\n",
    "# step 3 str1 = 'o'     now str1 have string so print ---hello\n",
    "# step 4 str1 = '' empty so while loop will get False so no execution of while loop\n"
   ]
  },
  {
   "cell_type": "code",
   "execution_count": 6,
   "id": "a34caf07",
   "metadata": {},
   "outputs": [
    {
     "name": "stdout",
     "output_type": "stream",
     "text": [
      "0\n",
      "1\n",
      "2\n",
      "0\n"
     ]
    }
   ],
   "source": [
    "i = 0 \n",
    "while i<3:\n",
    "    print(i)\n",
    "    i+=1\n",
    "    \n",
    "else:\n",
    "    print(0)"
   ]
  },
  {
   "cell_type": "code",
   "execution_count": 8,
   "id": "53b17e0d",
   "metadata": {},
   "outputs": [
    {
     "data": {
      "text/plain": [
       "{1: 'apple', 2: 'ball', 3: 'cat', 4: 'dog'}"
      ]
     },
     "execution_count": 8,
     "metadata": {},
     "output_type": "execute_result"
    }
   ],
   "source": [
    "### guess the output\n",
    "a = [1,2,3,4]\n",
    "\n",
    "b = [\"apple\", \"ball\", \"cat\", \"dog\"]\n",
    "\n",
    "my_dict = {}\n",
    "for i in range(len(a)):\n",
    "    my_dict[a[i]] = b[i]\n",
    "    \n",
    "my_dict"
   ]
  },
  {
   "cell_type": "code",
   "execution_count": 7,
   "id": "19da3165",
   "metadata": {},
   "outputs": [
    {
     "data": {
      "text/plain": [
       "{1: 'apple', 2: 'ball'}"
      ]
     },
     "execution_count": 7,
     "metadata": {},
     "output_type": "execute_result"
    }
   ],
   "source": [
    "### guess the output\n",
    "a = [1,2]\n",
    "\n",
    "b = [\"apple\", \"ball\", \"cat\", \"dog\"]\n",
    "\n",
    "my_dict = {}\n",
    "for i in range(len(a)):\n",
    "    my_dict[a[i]] = b[i]\n",
    "    \n",
    "my_dict"
   ]
  },
  {
   "cell_type": "code",
   "execution_count": 9,
   "id": "02d4c9d3",
   "metadata": {},
   "outputs": [
    {
     "ename": "IndexError",
     "evalue": "list index out of range",
     "output_type": "error",
     "traceback": [
      "\u001b[1;31m---------------------------------------------------------------------------\u001b[0m",
      "\u001b[1;31mIndexError\u001b[0m                                Traceback (most recent call last)",
      "Input \u001b[1;32mIn [9]\u001b[0m, in \u001b[0;36m<cell line: 7>\u001b[1;34m()\u001b[0m\n\u001b[0;32m      6\u001b[0m my_dict \u001b[38;5;241m=\u001b[39m {}\n\u001b[0;32m      7\u001b[0m \u001b[38;5;28;01mfor\u001b[39;00m i \u001b[38;5;129;01min\u001b[39;00m \u001b[38;5;28mrange\u001b[39m(\u001b[38;5;28mlen\u001b[39m(a)):\n\u001b[1;32m----> 8\u001b[0m     my_dict[a[i]] \u001b[38;5;241m=\u001b[39m \u001b[43mb\u001b[49m\u001b[43m[\u001b[49m\u001b[43mi\u001b[49m\u001b[43m]\u001b[49m\n\u001b[0;32m     10\u001b[0m my_dict\n",
      "\u001b[1;31mIndexError\u001b[0m: list index out of range"
     ]
    }
   ],
   "source": [
    "### guess the output\n",
    "a = [1,2,3,4]\n",
    "\n",
    "b = [\"apple\", \"ball\"]\n",
    "\n",
    "my_dict = {}\n",
    "for i in range(len(a)):\n",
    "    my_dict[a[i]] = b[i]\n",
    "    \n",
    "my_dict"
   ]
  },
  {
   "cell_type": "markdown",
   "id": "c6783476",
   "metadata": {},
   "source": [
    "#### write a program to print numbers from 71 to 80  without using any number. "
   ]
  },
  {
   "cell_type": "code",
   "execution_count": null,
   "id": "69816612",
   "metadata": {},
   "outputs": [],
   "source": [
    "print(ascii)"
   ]
  },
  {
   "cell_type": "code",
   "execution_count": null,
   "id": "b7a131f7",
   "metadata": {},
   "outputs": [],
   "source": [
    "import "
   ]
  },
  {
   "cell_type": "code",
   "execution_count": null,
   "id": "2dd4534d",
   "metadata": {},
   "outputs": [],
   "source": []
  },
  {
   "cell_type": "code",
   "execution_count": null,
   "id": "40fee360",
   "metadata": {},
   "outputs": [],
   "source": []
  },
  {
   "cell_type": "code",
   "execution_count": null,
   "id": "de33a1e6",
   "metadata": {},
   "outputs": [],
   "source": []
  },
  {
   "cell_type": "markdown",
   "id": "12425e5f",
   "metadata": {},
   "source": [
    "### Create Quiz using Dictionary:\n",
    "\n",
    "make a quiz that has 4 option and add 1 point if the answer is correct, deduct 1 if it is incorrect. Also it should have an option to skip & quit the quiz\n",
    "\n",
    "Design the quiz using Dictionary"
   ]
  },
  {
   "cell_type": "code",
   "execution_count": 30,
   "id": "b626cfaa",
   "metadata": {},
   "outputs": [
    {
     "name": "stdout",
     "output_type": "stream",
     "text": [
      "Enter your name: ankit shukla\n",
      "\n",
      "Hello Ankit Shukla Welcome to the quiz world!!!\n",
      "Q.1: Is Python case sensitive when dealing with Identifiers?\n",
      "a. Yes\n",
      "b. No\n",
      "c. Machine Dependent\n",
      "d. None\n",
      "Enter your answer(a/b/c/d/): a\n",
      "Correct answer, you got 1 point\n",
      "Current score is:  1\n",
      "Q.2: Which of the following is not a keyword?\n",
      "a. evail\n",
      "b. assert\n",
      "c. local\n",
      "d. pass\n",
      "Enter your answer(a/b/c/d/): a\n",
      "Correct answer, you got 1 point\n",
      "Current score is:  2\n",
      "Q.3: Which one of these is floor division?\n",
      "a. /\n",
      "b. //\n",
      "c. %\n",
      "d. None\n",
      "Enter your answer(a/b/c/d/): b\n",
      "Correct answer, you got 1 point\n",
      "Current score is:  3\n",
      "Q.4: What is the output of this 3*1**3?\n",
      "a. 27\n",
      "b. 9\n",
      "c. 3\n",
      "d. 1\n",
      "Enter your answer(a/b/c/d/): c\n",
      "Correct answer, you got 1 point\n",
      "Current score is:  4\n",
      "Q.5 : 'a' + 'bc' = ??\n",
      "a. a\n",
      "b. bc\n",
      "c. bca\n",
      "d. abc\n",
      "Enter your answer(a/b/c/d/): d\n",
      "Correct answer, you got 1 point\n",
      "Current score is:  5\n",
      "Final score is : 5\n"
     ]
    }
   ],
   "source": [
    "# first base of the quiz \n",
    "\n",
    "q1 = \"\"\"Q.1: Is Python case sensitive when dealing with Identifiers?\n",
    "a. Yes\n",
    "b. No\n",
    "c. Machine Dependent\n",
    "d. None\"\"\"\n",
    "\n",
    "q2 = \"\"\"Q.2: Which of the following is not a keyword?\n",
    "a. evail\n",
    "b. assert\n",
    "c. local\n",
    "d. pass\"\"\"\n",
    "\n",
    "q3 = \"\"\"Q.3: Which one of these is floor division?\n",
    "a. /\n",
    "b. //\n",
    "c. %\n",
    "d. None\"\"\"\n",
    "q4 = \"\"\"Q.4: What is the output of this 3*1**3?\n",
    "a. 27\n",
    "b. 9\n",
    "c. 3\n",
    "d. 1\"\"\"\n",
    "\n",
    "q5 = \"\"\"Q.5 : 'a' + 'bc' = ??\n",
    "a. a\n",
    "b. bc\n",
    "c. bca\n",
    "d. abc\"\"\"\n",
    "\n",
    "answers = {q1:\"a\", q2:\"a\", q3:\"b\", q4:\"c\", q5:\"d\"}\n",
    "name = input(\"Enter your name: \")\n",
    "print()\n",
    "print(\"Hello\", name.title(), \"Welcome to the quiz world!!!\")\n",
    "print()\n",
    "score = 0\n",
    "for i in answers:\n",
    "    print(i)\n",
    "    ans = input(\"Enter your answer(a/b/c/d/): \")\n",
    "    if ans.lower() == answers[i]:\n",
    "        print(\"Correct answer, you got 1 point\")\n",
    "        score = score + 1\n",
    "        print(\"Current score is: \", score)\n",
    "    else:\n",
    "        print(\"Wrong answer, you lost 1 point\")\n",
    "        score = score - 1\n",
    "        print(\"Current score is: \", score)\n",
    "        \n",
    "print(\"Final score is :\", score)\n",
    "    "
   ]
  },
  {
   "cell_type": "code",
   "execution_count": 32,
   "id": "feb79776",
   "metadata": {},
   "outputs": [
    {
     "name": "stdout",
     "output_type": "stream",
     "text": [
      "Enter your name: ankit \n",
      "\n",
      "Hello Ankit  Welcome to the quiz world!!!\n",
      "\n",
      "Q.1: Is Python case sensitive when dealing with Identifiers?\n",
      "a. Yes\n",
      "b. No\n",
      "c. Machine Dependent\n",
      "d. None\n",
      "Do you want to skip this question (yes/no): no\n",
      "Enter your answer(a/b/c/d/): a\n",
      "Correct answer, you got 1 point\n",
      "Current score is:  1\n",
      "Do you want to quit(yes/no):no\n",
      "\n",
      "Q.2: Which of the following is not a keyword?\n",
      "a. evail\n",
      "b. assert\n",
      "c. local\n",
      "d. pass\n",
      "Do you want to skip this question (yes/no): no\n",
      "Enter your answer(a/b/c/d/): a\n",
      "Correct answer, you got 1 point\n",
      "Current score is:  2\n",
      "Do you want to quit(yes/no):no\n",
      "\n",
      "Q.3: Which one of these is floor division?\n",
      "a. /\n",
      "b. //\n",
      "c. %\n",
      "d. None\n",
      "Do you want to skip this question (yes/no): no\n",
      "Enter your answer(a/b/c/d/): 2\n",
      "Wrong answer, you lost 1 point\n",
      "Current score is:  1\n",
      "Do you want to quit(yes/no):yes\n",
      "Final score is : 1\n"
     ]
    }
   ],
   "source": [
    "# inserting skip  and quit option will be added\n",
    "\n",
    "q1 = \"\"\"Q.1: Is Python case sensitive when dealing with Identifiers?\n",
    "a. Yes\n",
    "b. No\n",
    "c. Machine Dependent\n",
    "d. None\"\"\"\n",
    "\n",
    "q2 = \"\"\"Q.2: Which of the following is not a keyword?\n",
    "a. evail\n",
    "b. assert\n",
    "c. local\n",
    "d. pass\"\"\"\n",
    "\n",
    "q3 = \"\"\"Q.3: Which one of these is floor division?\n",
    "a. /\n",
    "b. //\n",
    "c. %\n",
    "d. None\"\"\"\n",
    "q4 = \"\"\"Q.4: What is the output of this 3*1**3?\n",
    "a. 27\n",
    "b. 9\n",
    "c. 3\n",
    "d. 1\"\"\"\n",
    "\n",
    "q5 = \"\"\"Q.5 : 'a' + 'bc' = ??\n",
    "a. a\n",
    "b. bc\n",
    "c. bca\n",
    "d. abc\"\"\"\n",
    "\n",
    "answers = {q1:\"a\", q2:\"a\", q3:\"b\", q4:\"c\", q5:\"d\"}\n",
    "name = input(\"Enter your name: \")\n",
    "print()\n",
    "print(\"Hello\", name.title(), \"Welcome to the quiz world!!!\")\n",
    "\n",
    "score = 0\n",
    "\n",
    "for i in answers:\n",
    "    print()\n",
    "    print(i)\n",
    "    flag1 = input(\"Do you want to skip this question (yes/no): \")\n",
    "    if flag1.lower() == \"yes\":\n",
    "        continue               # skipp case has been added \n",
    "    ans = input(\"Enter your answer(a/b/c/d/): \")\n",
    "    if ans.lower() == answers[i]:\n",
    "        print(\"Correct answer, you got 1 point\")\n",
    "        score = score + 1\n",
    "        print(\"Current score is: \", score)\n",
    "    else:\n",
    "        print(\"Wrong answer, you lost 1 point\")\n",
    "        score = score - 1\n",
    "        print(\"Current score is: \", score)\n",
    "        \n",
    "    flag2 = input(\"Do you want to quit(yes/no):\")\n",
    "    if flag2.lower() == \"yes\":\n",
    "        break  # for come out of the loop\n",
    "        \n",
    "print(\"Final score is :\", score)\n",
    "    "
   ]
  },
  {
   "cell_type": "code",
   "execution_count": null,
   "id": "a4ee371d",
   "metadata": {},
   "outputs": [],
   "source": []
  }
 ],
 "metadata": {
  "kernelspec": {
   "display_name": "Python 3 (ipykernel)",
   "language": "python",
   "name": "python3"
  },
  "language_info": {
   "codemirror_mode": {
    "name": "ipython",
    "version": 3
   },
   "file_extension": ".py",
   "mimetype": "text/x-python",
   "name": "python",
   "nbconvert_exporter": "python",
   "pygments_lexer": "ipython3",
   "version": "3.9.7"
  }
 },
 "nbformat": 4,
 "nbformat_minor": 5
}
