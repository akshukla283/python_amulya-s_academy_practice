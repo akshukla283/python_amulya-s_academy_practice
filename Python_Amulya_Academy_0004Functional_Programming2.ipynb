{
 "cells": [
  {
   "cell_type": "markdown",
   "id": "e9518f32",
   "metadata": {},
   "source": [
    "#### Functional Programming\n",
    "\n",
    "Functional programming is a programming paradigm in which the primary method of computation is evaluation of functions. In this tutorial, you’ll explore functional programming in Python.\n",
    "\n",
    "Functional programming typically plays a fairly small role in Python code. But it’s good to be familiar with it. At a minimum, you’ll probably encounter it from time to time when reading code written by others. You may even find situations where it’s advantageous to use Python’s functional programming capabilities in your own code."
   ]
  },
  {
   "cell_type": "code",
   "execution_count": 1,
   "id": "e971de15",
   "metadata": {},
   "outputs": [
    {
     "name": "stdout",
     "output_type": "stream",
     "text": [
      "I am a function func()!\n"
     ]
    }
   ],
   "source": [
    "def func():\n",
    "    print(\"I am a function func()!\")\n",
    "    \n",
    "    \n",
    "func()"
   ]
  },
  {
   "cell_type": "code",
   "execution_count": 2,
   "id": "f1fdd585",
   "metadata": {},
   "outputs": [],
   "source": [
    "another_name = func # this create new reference to func()"
   ]
  },
  {
   "cell_type": "code",
   "execution_count": 3,
   "id": "6afa1391",
   "metadata": {},
   "outputs": [
    {
     "name": "stdout",
     "output_type": "stream",
     "text": [
      "I am a function func()!\n"
     ]
    }
   ],
   "source": [
    "another_name()"
   ]
  },
  {
   "cell_type": "markdown",
   "id": "17afc2d4",
   "metadata": {},
   "source": [
    "We can display a function to the console with print(), include it as an element in a composite data object like a `list`, or even use it as a `dictionary key`:\n",
    "\n"
   ]
  },
  {
   "cell_type": "code",
   "execution_count": 4,
   "id": "f3562f6d",
   "metadata": {},
   "outputs": [],
   "source": [
    "def func():\n",
    "    print(\"I am a function func()!\")\n",
    "    \n",
    "    "
   ]
  },
  {
   "cell_type": "code",
   "execution_count": 5,
   "id": "8caae871",
   "metadata": {},
   "outputs": [
    {
     "name": "stdout",
     "output_type": "stream",
     "text": [
      "cat <function func at 0x000002BDF7A80280> 42\n"
     ]
    }
   ],
   "source": [
    "print(\"cat\", func, 42)"
   ]
  },
  {
   "cell_type": "code",
   "execution_count": 6,
   "id": "e50d6507",
   "metadata": {},
   "outputs": [
    {
     "data": {
      "text/plain": [
       "<function __main__.func()>"
      ]
     },
     "execution_count": 6,
     "metadata": {},
     "output_type": "execute_result"
    }
   ],
   "source": [
    "objects = [\"cat\", func, 42]\n",
    "\n",
    "objects[1]"
   ]
  },
  {
   "cell_type": "code",
   "execution_count": 7,
   "id": "3bb729b7",
   "metadata": {},
   "outputs": [
    {
     "name": "stdout",
     "output_type": "stream",
     "text": [
      "I am a function func()!\n"
     ]
    }
   ],
   "source": [
    "# we can call this\n",
    "\n",
    "objects[1]()"
   ]
  },
  {
   "cell_type": "code",
   "execution_count": 8,
   "id": "e05fc084",
   "metadata": {},
   "outputs": [
    {
     "data": {
      "text/plain": [
       "2"
      ]
     },
     "execution_count": 8,
     "metadata": {},
     "output_type": "execute_result"
    }
   ],
   "source": [
    "d = {\"cat\":1, func:2, 42:3}\n",
    " \n",
    "d[func]"
   ]
  },
  {
   "cell_type": "markdown",
   "id": "b23d318e",
   "metadata": {},
   "source": [
    "In this example, func() appears in all the same contexts as the values \"cat\" and 42, and the interpreter handles it just fine."
   ]
  },
  {
   "cell_type": "markdown",
   "id": "b296bedd",
   "metadata": {},
   "source": [
    "**Note:** \n",
    "\n",
    "`What you can or can’t do with any object in Python depends to some extent on context. There are some operations, for example, that work for certain object types but not for others.`\n",
    "\n",
    "`You can add two integer objects or concatenate two string objects with the plus operator (+). But the plus operator isn’t defined for function objects.`"
   ]
  },
  {
   "cell_type": "code",
   "execution_count": 12,
   "id": "173c8b50",
   "metadata": {},
   "outputs": [
    {
     "name": "stdout",
     "output_type": "stream",
     "text": [
      "I am function inner()!\n"
     ]
    }
   ],
   "source": [
    "def inner():\n",
    "    print(\"I am function inner()!\")\n",
    "\n",
    "    \n",
    "    \n",
    "def outer(function):\n",
    "    function()\n",
    "    \n",
    "outer(inner)"
   ]
  },
  {
   "cell_type": "markdown",
   "id": "a8ab10de",
   "metadata": {},
   "source": [
    "* The call on line 9 passes inner() as an argument to outer().\n",
    "\n",
    "* Within outer(), Python binds inner() to the function parameter function.\n",
    "\n",
    "* outer() can then call inner() directly via function.\n",
    "\n",
    "* This is known as function composition.\n",
    "\n",
    "\n",
    "`Technical note:` Python provides a shortcut notation called a decorator to facilitate wrapping one function inside another."
   ]
  },
  {
   "cell_type": "code",
   "execution_count": 13,
   "id": "7f438dd1",
   "metadata": {},
   "outputs": [
    {
     "data": {
      "text/plain": [
       "['dog', 'ferret', 'gecko', 'vole']"
      ]
     },
     "execution_count": 13,
     "metadata": {},
     "output_type": "execute_result"
    }
   ],
   "source": [
    "animals = [\"ferret\", \"vole\", \"dog\", \"gecko\"]\n",
    "\n",
    "sorted(animals)"
   ]
  },
  {
   "cell_type": "code",
   "execution_count": 14,
   "id": "458360fd",
   "metadata": {},
   "outputs": [
    {
     "data": {
      "text/plain": [
       "['dog', 'vole', 'gecko', 'ferret']"
      ]
     },
     "execution_count": 14,
     "metadata": {},
     "output_type": "execute_result"
    }
   ],
   "source": [
    "# sorted() takes an optional key argument that specifies a callback function that can serve as \n",
    "# sorting key. SO, for example, you can sort by string length instead\n",
    "\n",
    "animals = [\"ferret\", \"vole\", \"dog\", \"gecko\"]\n",
    "sorted(animals, key = len)"
   ]
  },
  {
   "cell_type": "markdown",
   "id": "b399880b",
   "metadata": {},
   "source": [
    "sorted() can also take an optional argument that specifies sorting in reverse order. But you could manage the same thing by defining your own callback function that reverses the sense of len():\n",
    "\n"
   ]
  },
  {
   "cell_type": "code",
   "execution_count": 15,
   "id": "d258cda7",
   "metadata": {},
   "outputs": [
    {
     "data": {
      "text/plain": [
       "['ferret', 'gecko', 'vole', 'dog']"
      ]
     },
     "execution_count": 15,
     "metadata": {},
     "output_type": "execute_result"
    }
   ],
   "source": [
    "animals = [\"ferret\", \"vole\", \"dog\", \"gecko\"]\n",
    "\n",
    "sorted(animals, key= len, reverse=True)"
   ]
  },
  {
   "cell_type": "code",
   "execution_count": 16,
   "id": "ef3519c6",
   "metadata": {},
   "outputs": [
    {
     "data": {
      "text/plain": [
       "['ferret', 'gecko', 'vole', 'dog']"
      ]
     },
     "execution_count": 16,
     "metadata": {},
     "output_type": "execute_result"
    }
   ],
   "source": [
    "# now by our own callback function \n",
    "animals = [\"ferret\", \"vole\", \"dog\", \"gecko\"]\n",
    "\n",
    "def reverse_len(s):\n",
    "    \n",
    "    return -len(s)\n",
    "\n",
    "sorted(animals, key = reverse_len)\n",
    "\n"
   ]
  },
  {
   "cell_type": "code",
   "execution_count": 17,
   "id": "47808b3b",
   "metadata": {},
   "outputs": [],
   "source": [
    "def outer():\n",
    "    def inner():\n",
    "        print(\"I am function inner()!\")\n",
    "        \n",
    "    # Function outer() returns function inner()\n",
    "    return inner"
   ]
  },
  {
   "cell_type": "code",
   "execution_count": 18,
   "id": "be3cb54c",
   "metadata": {},
   "outputs": [
    {
     "data": {
      "text/plain": [
       "<function __main__.outer.<locals>.inner()>"
      ]
     },
     "execution_count": 18,
     "metadata": {},
     "output_type": "execute_result"
    }
   ],
   "source": [
    "function = outer()\n",
    "function"
   ]
  },
  {
   "cell_type": "code",
   "execution_count": 19,
   "id": "5a20fee9",
   "metadata": {},
   "outputs": [
    {
     "name": "stdout",
     "output_type": "stream",
     "text": [
      "I am function inner()!\n"
     ]
    }
   ],
   "source": [
    "function()"
   ]
  },
  {
   "cell_type": "code",
   "execution_count": 20,
   "id": "43e94ab4",
   "metadata": {},
   "outputs": [
    {
     "data": {
      "text/plain": [
       "<function __main__.outer()>"
      ]
     },
     "execution_count": 20,
     "metadata": {},
     "output_type": "execute_result"
    }
   ],
   "source": [
    "outer"
   ]
  },
  {
   "cell_type": "code",
   "execution_count": 21,
   "id": "4aa487d1",
   "metadata": {},
   "outputs": [
    {
     "data": {
      "text/plain": [
       "<function __main__.outer.<locals>.inner()>"
      ]
     },
     "execution_count": 21,
     "metadata": {},
     "output_type": "execute_result"
    }
   ],
   "source": [
    "outer()"
   ]
  },
  {
   "cell_type": "code",
   "execution_count": 22,
   "id": "655cda3b",
   "metadata": {},
   "outputs": [
    {
     "name": "stdout",
     "output_type": "stream",
     "text": [
      "I am function inner()!\n"
     ]
    }
   ],
   "source": [
    "outer()()"
   ]
  },
  {
   "cell_type": "code",
   "execution_count": 1,
   "id": "aaaf0ea3",
   "metadata": {},
   "outputs": [],
   "source": [
    "def outer():\n",
    "    def inner():\n",
    "        print(\"I am function inner()!\")\n",
    "    \n",
    "    return inner # here we just pass a reference \n",
    "\n"
   ]
  },
  {
   "cell_type": "code",
   "execution_count": 2,
   "id": "3eecdb1c",
   "metadata": {},
   "outputs": [
    {
     "data": {
      "text/plain": [
       "<function __main__.outer.<locals>.inner()>"
      ]
     },
     "execution_count": 2,
     "metadata": {},
     "output_type": "execute_result"
    }
   ],
   "source": [
    "outer()"
   ]
  },
  {
   "cell_type": "code",
   "execution_count": 3,
   "id": "f4d4e52c",
   "metadata": {},
   "outputs": [
    {
     "name": "stdout",
     "output_type": "stream",
     "text": [
      "I am function inner()!\n"
     ]
    }
   ],
   "source": [
    "outer()()"
   ]
  },
  {
   "cell_type": "code",
   "execution_count": 4,
   "id": "581f67f0",
   "metadata": {},
   "outputs": [],
   "source": [
    "def outer():\n",
    "    def inner():\n",
    "        print(\"I am function inner()!\")\n",
    "    \n",
    "    return inner() # here we just pass full function\n",
    "\n",
    "\n"
   ]
  },
  {
   "cell_type": "code",
   "execution_count": 5,
   "id": "d01314f4",
   "metadata": {},
   "outputs": [
    {
     "name": "stdout",
     "output_type": "stream",
     "text": [
      "I am function inner()!\n"
     ]
    }
   ],
   "source": [
    "outer() # this time we got inner function out put because we had returned complete innner function\n",
    "        # to the outer function"
   ]
  },
  {
   "cell_type": "markdown",
   "id": "73adf212",
   "metadata": {},
   "source": [
    "#### Defining an Anonymous Function With lambda\n",
    "Functional programming is all about calling functions and passing them around, so it naturally involves defining a lot of functions. You can always define a function in the usual way, using the def keyword as you have seen in previous tutorials in this series."
   ]
  },
  {
   "cell_type": "code",
   "execution_count": 23,
   "id": "4e143e9a",
   "metadata": {},
   "outputs": [
    {
     "data": {
      "text/plain": [
       "<function __main__.<lambda>(s)>"
      ]
     },
     "execution_count": 23,
     "metadata": {},
     "output_type": "execute_result"
    }
   ],
   "source": [
    "lambda s: s[::-1]"
   ]
  },
  {
   "cell_type": "code",
   "execution_count": 24,
   "id": "86f497e1",
   "metadata": {},
   "outputs": [
    {
     "data": {
      "text/plain": [
       "True"
      ]
     },
     "execution_count": 24,
     "metadata": {},
     "output_type": "execute_result"
    }
   ],
   "source": [
    "callable(lambda s: s[:: -1])"
   ]
  },
  {
   "cell_type": "code",
   "execution_count": 25,
   "id": "1254a3ec",
   "metadata": {},
   "outputs": [],
   "source": [
    " reverse = lambda s: s[::-1]"
   ]
  },
  {
   "cell_type": "code",
   "execution_count": 26,
   "id": "a63518ea",
   "metadata": {},
   "outputs": [
    {
     "data": {
      "text/plain": [
       "'gnirts a ma I'"
      ]
     },
     "execution_count": 26,
     "metadata": {},
     "output_type": "execute_result"
    }
   ],
   "source": [
    "reverse(\"I am a string\")"
   ]
  },
  {
   "cell_type": "code",
   "execution_count": 6,
   "id": "ce35d375",
   "metadata": {},
   "outputs": [
    {
     "data": {
      "text/plain": [
       "'gnirts a ma I'"
      ]
     },
     "execution_count": 6,
     "metadata": {},
     "output_type": "execute_result"
    }
   ],
   "source": [
    "(lambda s: s[::-1])(\"I am a string\")"
   ]
  },
  {
   "cell_type": "code",
   "execution_count": 7,
   "id": "3a2b4e76",
   "metadata": {},
   "outputs": [
    {
     "data": {
      "text/plain": [
       "7.0"
      ]
     },
     "execution_count": 7,
     "metadata": {},
     "output_type": "execute_result"
    }
   ],
   "source": [
    "(lambda x1, x2, x3: (x1 + x2 + x3) / 3)(9, 6, 6)"
   ]
  },
  {
   "cell_type": "code",
   "execution_count": 8,
   "id": "e3688430",
   "metadata": {},
   "outputs": [
    {
     "data": {
      "text/plain": [
       "1.0"
      ]
     },
     "execution_count": 8,
     "metadata": {},
     "output_type": "execute_result"
    }
   ],
   "source": [
    "(lambda x1, x2, x3: (x1 + x2 + x3) / 3)(1.4, 1.1, 0.5)"
   ]
  },
  {
   "cell_type": "code",
   "execution_count": 31,
   "id": "bdce1d77",
   "metadata": {},
   "outputs": [],
   "source": [
    "animals = [\"ferret\", \"vole\", \"dog\", \"gecko\"]"
   ]
  },
  {
   "cell_type": "code",
   "execution_count": 32,
   "id": "8a22e352",
   "metadata": {},
   "outputs": [],
   "source": [
    "def reverse_len(s):\n",
    "    \n",
    "    return -len(s)"
   ]
  },
  {
   "cell_type": "code",
   "execution_count": 33,
   "id": "5ae08557",
   "metadata": {},
   "outputs": [
    {
     "data": {
      "text/plain": [
       "['ferret', 'gecko', 'vole', 'dog']"
      ]
     },
     "execution_count": 33,
     "metadata": {},
     "output_type": "execute_result"
    }
   ],
   "source": [
    "sorted(animals, key=reverse_len)"
   ]
  },
  {
   "cell_type": "code",
   "execution_count": 34,
   "id": "1691370f",
   "metadata": {},
   "outputs": [],
   "source": [
    "forty_two_producer = lambda: 42"
   ]
  },
  {
   "cell_type": "code",
   "execution_count": 35,
   "id": "e1fefde1",
   "metadata": {},
   "outputs": [
    {
     "data": {
      "text/plain": [
       "42"
      ]
     },
     "execution_count": 35,
     "metadata": {},
     "output_type": "execute_result"
    }
   ],
   "source": [
    "forty_two_producer()"
   ]
  },
  {
   "cell_type": "code",
   "execution_count": 36,
   "id": "fb825ad4",
   "metadata": {},
   "outputs": [],
   "source": [
    "def func(x):\n",
    "    \n",
    "    return x, x ** 2, x ** 3"
   ]
  },
  {
   "cell_type": "code",
   "execution_count": 37,
   "id": "e6e479df",
   "metadata": {},
   "outputs": [
    {
     "data": {
      "text/plain": [
       "(3, 9, 27)"
      ]
     },
     "execution_count": 37,
     "metadata": {},
     "output_type": "execute_result"
    }
   ],
   "source": [
    "func(3)"
   ]
  },
  {
   "cell_type": "markdown",
   "id": "31adec53",
   "metadata": {},
   "source": [
    "This implicit tuple packing doesn’t work with an anonymous lambda function:"
   ]
  },
  {
   "cell_type": "code",
   "execution_count": 9,
   "id": "3af2efa3",
   "metadata": {},
   "outputs": [
    {
     "name": "stderr",
     "output_type": "stream",
     "text": [
      "<>:1: SyntaxWarning: 'tuple' object is not callable; perhaps you missed a comma?\n",
      "<>:1: SyntaxWarning: 'tuple' object is not callable; perhaps you missed a comma?\n",
      "C:\\Users\\ankit.shukla\\AppData\\Local\\Temp\\2\\ipykernel_8028\\2016485281.py:1: SyntaxWarning: 'tuple' object is not callable; perhaps you missed a comma?\n",
      "  (lambda x: x, x**2, x**3)(3)\n",
      "C:\\Users\\ankit.shukla\\AppData\\Local\\Temp\\2\\ipykernel_8028\\2016485281.py:1: SyntaxWarning: 'tuple' object is not callable; perhaps you missed a comma?\n",
      "  (lambda x: x, x**2, x**3)(3)\n",
      "C:\\Users\\ankit.shukla\\AppData\\Local\\Temp\\2\\ipykernel_8028\\2016485281.py:1: SyntaxWarning: 'tuple' object is not callable; perhaps you missed a comma?\n",
      "  (lambda x: x, x**2, x**3)(3)\n",
      "C:\\Users\\ankit.shukla\\AppData\\Local\\Temp\\2\\ipykernel_8028\\2016485281.py:1: SyntaxWarning: 'tuple' object is not callable; perhaps you missed a comma?\n",
      "  (lambda x: x, x**2, x**3)(3)\n",
      "C:\\Users\\ankit.shukla\\AppData\\Local\\Temp\\2\\ipykernel_8028\\2016485281.py:1: SyntaxWarning: 'tuple' object is not callable; perhaps you missed a comma?\n",
      "  (lambda x: x, x**2, x**3)(3)\n"
     ]
    },
    {
     "ename": "NameError",
     "evalue": "name 'x' is not defined",
     "output_type": "error",
     "traceback": [
      "\u001b[1;31m---------------------------------------------------------------------------\u001b[0m",
      "\u001b[1;31mNameError\u001b[0m                                 Traceback (most recent call last)",
      "Input \u001b[1;32mIn [9]\u001b[0m, in \u001b[0;36m<cell line: 1>\u001b[1;34m()\u001b[0m\n\u001b[1;32m----> 1\u001b[0m (\u001b[38;5;28;01mlambda\u001b[39;00m x: x, \u001b[43mx\u001b[49m\u001b[38;5;241m*\u001b[39m\u001b[38;5;241m*\u001b[39m\u001b[38;5;241m2\u001b[39m, x\u001b[38;5;241m*\u001b[39m\u001b[38;5;241m*\u001b[39m\u001b[38;5;241m3\u001b[39m)(\u001b[38;5;241m3\u001b[39m)\n",
      "\u001b[1;31mNameError\u001b[0m: name 'x' is not defined"
     ]
    }
   ],
   "source": [
    "(lambda x: x, x**2, x**3)(3)"
   ]
  },
  {
   "cell_type": "markdown",
   "id": "0fd1734c",
   "metadata": {},
   "source": [
    "But you can return a tuple from a lambda function. You just have to denote the tuple explicitly with parentheses. You can also return a list or a dictionary from a lambda function:"
   ]
  },
  {
   "cell_type": "code",
   "execution_count": 10,
   "id": "fe057bf2",
   "metadata": {},
   "outputs": [
    {
     "data": {
      "text/plain": [
       "(3, 9, 27)"
      ]
     },
     "execution_count": 10,
     "metadata": {},
     "output_type": "execute_result"
    }
   ],
   "source": [
    "(lambda x: (x, x**2, x**3))(3)"
   ]
  },
  {
   "cell_type": "code",
   "execution_count": 11,
   "id": "f2460be7",
   "metadata": {},
   "outputs": [
    {
     "data": {
      "text/plain": [
       "[3, 9, 27]"
      ]
     },
     "execution_count": 11,
     "metadata": {},
     "output_type": "execute_result"
    }
   ],
   "source": [
    "(lambda x: [x, x**2, x**3])(3)"
   ]
  },
  {
   "cell_type": "code",
   "execution_count": 12,
   "id": "081104a9",
   "metadata": {},
   "outputs": [
    {
     "data": {
      "text/plain": [
       "{1: 3, 2: 27, 3: 27}"
      ]
     },
     "execution_count": 12,
     "metadata": {},
     "output_type": "execute_result"
    }
   ],
   "source": [
    "(lambda x: {1:x, 2:x**3, 3:x**3})(3)"
   ]
  },
  {
   "cell_type": "code",
   "execution_count": 13,
   "id": "e9ff5485",
   "metadata": {},
   "outputs": [
    {
     "data": {
      "text/plain": [
       "[6, 2, 2.0, 8]"
      ]
     },
     "execution_count": 13,
     "metadata": {},
     "output_type": "execute_result"
    }
   ],
   "source": [
    "(lambda x, y : [x+y, x-y, x/y, x*y])(4,2)"
   ]
  },
  {
   "cell_type": "markdown",
   "id": "3e7ce257",
   "metadata": {},
   "source": [
    "A lambda expression has its own local namespace, so the parameter names don’t conflict with identical names in the global namespace. A lambda expression can access variables in the global namespace, but it can’t modify them.\n",
    "\n",
    "There’s one final oddity to be aware of. If you find a need to include a lambda expression in a formatted string literal (f-string), then you’ll need to enclose it in explicit parentheses:"
   ]
  },
  {
   "cell_type": "code",
   "execution_count": 15,
   "id": "b754b846",
   "metadata": {},
   "outputs": [
    {
     "ename": "SyntaxError",
     "evalue": "f-string: invalid syntax (2177257275.py, line 1)",
     "output_type": "error",
     "traceback": [
      "\u001b[1;36m  Input \u001b[1;32mIn [15]\u001b[1;36m\u001b[0m\n\u001b[1;33m    print(f\"--- {lambda s: s[::-1]}---\")\u001b[0m\n\u001b[1;37m             ^\u001b[0m\n\u001b[1;31mSyntaxError\u001b[0m\u001b[1;31m:\u001b[0m f-string: invalid syntax\n"
     ]
    }
   ],
   "source": [
    "print(f\"--- {lambda s: s[::-1]}---\")"
   ]
  },
  {
   "cell_type": "code",
   "execution_count": 14,
   "id": "2bea4592",
   "metadata": {},
   "outputs": [
    {
     "name": "stdout",
     "output_type": "stream",
     "text": [
      "--- <function <lambda> at 0x000001E449394790>---\n"
     ]
    }
   ],
   "source": [
    "print(f\"--- {(lambda s: s[::-1])}---\")"
   ]
  },
  {
   "cell_type": "code",
   "execution_count": 16,
   "id": "0fd81735",
   "metadata": {},
   "outputs": [
    {
     "name": "stdout",
     "output_type": "stream",
     "text": [
      "--- !gnirts a ma I---\n"
     ]
    }
   ],
   "source": [
    "print(f\"--- {(lambda s: s[::-1])('I am a string!')}---\")"
   ]
  },
  {
   "cell_type": "markdown",
   "id": "386632e4",
   "metadata": {},
   "source": [
    "#### Applying a Function to an Iterable With map()\n",
    "The first function on the docket is map(), which is a Python built-in function. With map(), you can apply a function to each element in an iterable in turn, and map() will return an iterator that yields the results. This can allow for some very concise code because a map() statement can often take the place of an explicit loop.\n",
    "\n",
    "#### Calling map() With a Single Iterable\n",
    "The syntax for calling map() on a single iterable looks like this:\n",
    "\n",
    "`map(<f>, <iterable>)`"
   ]
  },
  {
   "cell_type": "markdown",
   "id": "57c1263f",
   "metadata": {},
   "source": [
    "If you have a list of strings, then you can use map() to apply reverse() to each element of the list:"
   ]
  },
  {
   "cell_type": "code",
   "execution_count": 17,
   "id": "365f6098",
   "metadata": {},
   "outputs": [],
   "source": [
    "def reverse(s):\n",
    "    return s[::-1]\n",
    "\n"
   ]
  },
  {
   "cell_type": "code",
   "execution_count": 23,
   "id": "519d5f2f",
   "metadata": {},
   "outputs": [
    {
     "data": {
      "text/plain": [
       "<map at 0x1e44a6c9310>"
      ]
     },
     "execution_count": 23,
     "metadata": {},
     "output_type": "execute_result"
    }
   ],
   "source": [
    "animals = [\"cat\", \"dog\", \"hedgehog\", \"gecko\"]\n",
    "iterator = map(reverse, animals)\n",
    "iterator"
   ]
  },
  {
   "cell_type": "markdown",
   "id": "af934028",
   "metadata": {},
   "source": [
    "But remember, map() doesn’t return a list. It returns an iterator called a map object. To obtain the values from the iterator, you need to either iterate over it or use list():\n",
    "\n"
   ]
  },
  {
   "cell_type": "code",
   "execution_count": 24,
   "id": "f55bd2b2",
   "metadata": {},
   "outputs": [
    {
     "name": "stdout",
     "output_type": "stream",
     "text": [
      "tac\n",
      "god\n",
      "gohegdeh\n",
      "okceg\n"
     ]
    }
   ],
   "source": [
    "for i in iterator:\n",
    "    print(i)"
   ]
  },
  {
   "cell_type": "code",
   "execution_count": 25,
   "id": "94cfbb96",
   "metadata": {},
   "outputs": [
    {
     "data": {
      "text/plain": [
       "[]"
      ]
     },
     "execution_count": 25,
     "metadata": {},
     "output_type": "execute_result"
    }
   ],
   "source": [
    "# we can cast it into list as well\n",
    "\n",
    "list(iterator)"
   ]
  },
  {
   "cell_type": "markdown",
   "id": "e9623b72",
   "metadata": {},
   "source": [
    "As we can see that iteration has already been over in for loop so we need to map it again and then we will see the output of map function casting in list."
   ]
  },
  {
   "cell_type": "code",
   "execution_count": 26,
   "id": "864fea6f",
   "metadata": {},
   "outputs": [
    {
     "data": {
      "text/plain": [
       "['tac', 'god', 'gohegdeh', 'okceg']"
      ]
     },
     "execution_count": 26,
     "metadata": {},
     "output_type": "execute_result"
    }
   ],
   "source": [
    "iterator = map(reverse, animals)\n",
    "\n",
    "list(iterator)"
   ]
  },
  {
   "cell_type": "code",
   "execution_count": 28,
   "id": "99810bc4",
   "metadata": {},
   "outputs": [
    {
     "ename": "TypeError",
     "evalue": "'function' object is not iterable",
     "output_type": "error",
     "traceback": [
      "\u001b[1;31m---------------------------------------------------------------------------\u001b[0m",
      "\u001b[1;31mTypeError\u001b[0m                                 Traceback (most recent call last)",
      "Input \u001b[1;32mIn [28]\u001b[0m, in \u001b[0;36m<cell line: 1>\u001b[1;34m()\u001b[0m\n\u001b[1;32m----> 1\u001b[0m iterator \u001b[38;5;241m=\u001b[39m \u001b[38;5;28;43mmap\u001b[39;49m\u001b[43m(\u001b[49m\u001b[43manimals\u001b[49m\u001b[43m,\u001b[49m\u001b[43m \u001b[49m\u001b[43mreverse\u001b[49m\u001b[43m)\u001b[49m\n",
      "\u001b[1;31mTypeError\u001b[0m: 'function' object is not iterable"
     ]
    }
   ],
   "source": [
    "iterator = map(animals, reverse) "
   ]
  },
  {
   "cell_type": "markdown",
   "id": "53a395e1",
   "metadata": {},
   "source": [
    "means we must follow the syntax of map function `map(<f>, <iterable>)` rule."
   ]
  },
  {
   "cell_type": "code",
   "execution_count": 29,
   "id": "02c4db04",
   "metadata": {},
   "outputs": [
    {
     "data": {
      "text/plain": [
       "['tac', 'god', 'gohegdeh', 'okceg']"
      ]
     },
     "execution_count": 29,
     "metadata": {},
     "output_type": "execute_result"
    }
   ],
   "source": [
    "animals = [\"cat\", \"dog\", \"hedgehog\", \"gecko\"]\n",
    "iterator = map(lambda s: s[::-1], animals)\n",
    "list(iterator)"
   ]
  },
  {
   "cell_type": "code",
   "execution_count": 30,
   "id": "674b9de0",
   "metadata": {},
   "outputs": [
    {
     "data": {
      "text/plain": [
       "['tac', 'god', 'gohegdeh', 'okceg']"
      ]
     },
     "execution_count": 30,
     "metadata": {},
     "output_type": "execute_result"
    }
   ],
   "source": [
    "# combining it all into one line:\n",
    "list(map(lambda s: s[::-1], [\"cat\", \"dog\", \"hedgehog\", \"gecko\"]))"
   ]
  },
  {
   "cell_type": "markdown",
   "id": "aeccfd27",
   "metadata": {},
   "source": [
    "#### Note\n",
    "\n",
    "if the iterable contains items that aren't suitable for the specified function, then Python raise an exception."
   ]
  },
  {
   "cell_type": "code",
   "execution_count": 31,
   "id": "915d31ba",
   "metadata": {},
   "outputs": [
    {
     "ename": "TypeError",
     "evalue": "'float' object is not subscriptable",
     "output_type": "error",
     "traceback": [
      "\u001b[1;31m---------------------------------------------------------------------------\u001b[0m",
      "\u001b[1;31mTypeError\u001b[0m                                 Traceback (most recent call last)",
      "Input \u001b[1;32mIn [31]\u001b[0m, in \u001b[0;36m<cell line: 1>\u001b[1;34m()\u001b[0m\n\u001b[1;32m----> 1\u001b[0m \u001b[38;5;28;43mlist\u001b[39;49m\u001b[43m(\u001b[49m\u001b[38;5;28;43mmap\u001b[39;49m\u001b[43m(\u001b[49m\u001b[38;5;28;43;01mlambda\u001b[39;49;00m\u001b[43m \u001b[49m\u001b[43ms\u001b[49m\u001b[43m:\u001b[49m\u001b[43m \u001b[49m\u001b[43ms\u001b[49m\u001b[43m[\u001b[49m\u001b[43m:\u001b[49m\u001b[43m:\u001b[49m\u001b[38;5;241;43m-\u001b[39;49m\u001b[38;5;241;43m1\u001b[39;49m\u001b[43m]\u001b[49m\u001b[43m,\u001b[49m\u001b[43m \u001b[49m\u001b[43m[\u001b[49m\u001b[38;5;124;43m\"\u001b[39;49m\u001b[38;5;124;43mcat\u001b[39;49m\u001b[38;5;124;43m\"\u001b[39;49m\u001b[43m,\u001b[49m\u001b[43m \u001b[49m\u001b[38;5;124;43m\"\u001b[39;49m\u001b[38;5;124;43mdog\u001b[39;49m\u001b[38;5;124;43m\"\u001b[39;49m\u001b[43m,\u001b[49m\u001b[43m \u001b[49m\u001b[38;5;241;43m234.24\u001b[39;49m\u001b[43m,\u001b[49m\u001b[43m \u001b[49m\u001b[38;5;124;43m\"\u001b[39;49m\u001b[38;5;124;43mgecko\u001b[39;49m\u001b[38;5;124;43m\"\u001b[39;49m\u001b[43m]\u001b[49m\u001b[43m)\u001b[49m\u001b[43m)\u001b[49m\n",
      "Input \u001b[1;32mIn [31]\u001b[0m, in \u001b[0;36m<lambda>\u001b[1;34m(s)\u001b[0m\n\u001b[1;32m----> 1\u001b[0m \u001b[38;5;28mlist\u001b[39m(\u001b[38;5;28mmap\u001b[39m(\u001b[38;5;28;01mlambda\u001b[39;00m s: \u001b[43ms\u001b[49m\u001b[43m[\u001b[49m\u001b[43m:\u001b[49m\u001b[43m:\u001b[49m\u001b[38;5;241;43m-\u001b[39;49m\u001b[38;5;241;43m1\u001b[39;49m\u001b[43m]\u001b[49m, [\u001b[38;5;124m\"\u001b[39m\u001b[38;5;124mcat\u001b[39m\u001b[38;5;124m\"\u001b[39m, \u001b[38;5;124m\"\u001b[39m\u001b[38;5;124mdog\u001b[39m\u001b[38;5;124m\"\u001b[39m, \u001b[38;5;241m234.24\u001b[39m, \u001b[38;5;124m\"\u001b[39m\u001b[38;5;124mgecko\u001b[39m\u001b[38;5;124m\"\u001b[39m]))\n",
      "\u001b[1;31mTypeError\u001b[0m: 'float' object is not subscriptable"
     ]
    }
   ],
   "source": [
    "list(map(lambda s: s[::-1], [\"cat\", \"dog\", 234.24, \"gecko\"]))"
   ]
  },
  {
   "cell_type": "code",
   "execution_count": 32,
   "id": "2d9d6805",
   "metadata": {},
   "outputs": [
    {
     "data": {
      "text/plain": [
       "'cat+dog+hedgehog+gecko'"
      ]
     },
     "execution_count": 32,
     "metadata": {},
     "output_type": "execute_result"
    }
   ],
   "source": [
    "# here's somewhat more real-world example:\n",
    "\n",
    "\"+\".join([\"cat\", \"dog\", \"hedgehog\", \"gecko\"])"
   ]
  },
  {
   "cell_type": "markdown",
   "id": "c756862f",
   "metadata": {},
   "source": [
    "this works fine if the objects in the list are strings. if they aren't then str.join() raises a TypeError exception."
   ]
  },
  {
   "cell_type": "code",
   "execution_count": 33,
   "id": "d0d24fa4",
   "metadata": {},
   "outputs": [
    {
     "ename": "TypeError",
     "evalue": "sequence item 0: expected str instance, int found",
     "output_type": "error",
     "traceback": [
      "\u001b[1;31m---------------------------------------------------------------------------\u001b[0m",
      "\u001b[1;31mTypeError\u001b[0m                                 Traceback (most recent call last)",
      "Input \u001b[1;32mIn [33]\u001b[0m, in \u001b[0;36m<cell line: 1>\u001b[1;34m()\u001b[0m\n\u001b[1;32m----> 1\u001b[0m \u001b[38;5;124;43m\"\u001b[39;49m\u001b[38;5;124;43m+\u001b[39;49m\u001b[38;5;124;43m\"\u001b[39;49m\u001b[38;5;241;43m.\u001b[39;49m\u001b[43mjoin\u001b[49m\u001b[43m(\u001b[49m\u001b[43m[\u001b[49m\u001b[38;5;241;43m1\u001b[39;49m\u001b[43m,\u001b[49m\u001b[38;5;241;43m2\u001b[39;49m\u001b[43m,\u001b[49m\u001b[38;5;241;43m3\u001b[39;49m\u001b[43m,\u001b[49m\u001b[38;5;241;43m4\u001b[39;49m\u001b[43m,\u001b[49m\u001b[38;5;241;43m5\u001b[39;49m\u001b[43m]\u001b[49m\u001b[43m)\u001b[49m\n",
      "\u001b[1;31mTypeError\u001b[0m: sequence item 0: expected str instance, int found"
     ]
    }
   ],
   "source": [
    "\"+\".join([1,2,3,4,5])"
   ]
  },
  {
   "cell_type": "markdown",
   "id": "9e4c7cf1",
   "metadata": {},
   "source": [
    "one way to remedy this is with a loop. Using a for loop, you can create new list that contains string representation of the numbers in the origial list. Then we can pass a new list to .join():"
   ]
  },
  {
   "cell_type": "code",
   "execution_count": 34,
   "id": "e1313bab",
   "metadata": {},
   "outputs": [
    {
     "data": {
      "text/plain": [
       "['1', '2', '3', '4', '5']"
      ]
     },
     "execution_count": 34,
     "metadata": {},
     "output_type": "execute_result"
    }
   ],
   "source": [
    "strings = []\n",
    "\n",
    "for i in [1,2,3,4,5]:\n",
    "    strings.append(str(i))\n",
    "    \n",
    "strings"
   ]
  },
  {
   "cell_type": "code",
   "execution_count": 35,
   "id": "780d55ab",
   "metadata": {},
   "outputs": [
    {
     "data": {
      "text/plain": [
       "'1+2+3+4+5'"
      ]
     },
     "execution_count": 35,
     "metadata": {},
     "output_type": "execute_result"
    }
   ],
   "source": [
    "\"+\".join(strings)"
   ]
  },
  {
   "cell_type": "code",
   "execution_count": 36,
   "id": "ad0a0e31",
   "metadata": {},
   "outputs": [
    {
     "data": {
      "text/plain": [
       "'1+2+3+4+5'"
      ]
     },
     "execution_count": 36,
     "metadata": {},
     "output_type": "execute_result"
    }
   ],
   "source": [
    "# we can do this in online \n",
    "\"+\".join(map(str, [1,2,3,4,5]))"
   ]
  },
  {
   "cell_type": "markdown",
   "id": "b103f1c9",
   "metadata": {},
   "source": [
    "#### Calling map() With Multiple Iterables\n",
    "There’s another form of map() that takes more than one iterable argument:\n",
    "\n",
    "`map(<f>, <iterable₁>, <iterable₂>, ..., <iterableₙ>)`"
   ]
  },
  {
   "cell_type": "code",
   "execution_count": 38,
   "id": "33f6eefb",
   "metadata": {},
   "outputs": [
    {
     "data": {
      "text/plain": [
       "[111, 222, 333]"
      ]
     },
     "execution_count": 38,
     "metadata": {},
     "output_type": "execute_result"
    }
   ],
   "source": [
    "def func(a,b,c):\n",
    "    \n",
    "    return a + b + c\n",
    "\n",
    "\n",
    "\n",
    "list(map(func, [1,2,3], [10, 20, 30], [100, 200, 300]))\n"
   ]
  },
  {
   "cell_type": "markdown",
   "id": "38b731ea",
   "metadata": {},
   "source": [
    "In this case, func() takes three arguments. Correspondingly, there are three iterable arguments to map():` the lists [1, 2, 3], [10, 20, 30], and [100, 200, 300].`\n",
    "\n",
    "The first item returned is the result of applying func() to the first element in each list: f(1, 10, 100). The second item returned is f(2, 20, 200), and the third is f(3, 30, 300),"
   ]
  },
  {
   "cell_type": "markdown",
   "id": "25332fa1",
   "metadata": {},
   "source": [
    "Again in this case, since func() is so short, you could readily replace it with a lambda function instead:\n",
    "\n"
   ]
  },
  {
   "cell_type": "code",
   "execution_count": 39,
   "id": "a8b7cb69",
   "metadata": {},
   "outputs": [
    {
     "data": {
      "text/plain": [
       "[111, 222, 333]"
      ]
     },
     "execution_count": 39,
     "metadata": {},
     "output_type": "execute_result"
    }
   ],
   "source": [
    "list(\n",
    "     map(\n",
    "          (lambda a, b, c: a + b + c),\n",
    "           [1,2,3],\n",
    "           [10, 20, 30],\n",
    "           [100, 200, 300]\n",
    "         )\n",
    "     )"
   ]
  },
  {
   "cell_type": "markdown",
   "id": "8cbfb031",
   "metadata": {},
   "source": [
    "#### Selecting Elements From an Iterable With filter()\n",
    "filter() allows you to select or filter items from an iterable based on evaluation of the given function. It’s called as follows:\n",
    "\n",
    "`filter(<f>, <iterable>)`\n",
    "\n",
    "filter(<f>, <iterable>) applies function <f> to each element of <iterable> and returns an iterator that yields all items for which <f> is truthy. Conversely, it filters out all items for which <f> is falsy.\n",
    "\n",
    "In the following example, greater_than_100(x) is truthy if x > 100:\n",
    "\n"
   ]
  },
  {
   "cell_type": "code",
   "execution_count": 40,
   "id": "9b596125",
   "metadata": {},
   "outputs": [],
   "source": [
    "def greatera_than_100(x):\n",
    "    return x > 100\n"
   ]
  },
  {
   "cell_type": "code",
   "execution_count": 41,
   "id": "79933024",
   "metadata": {},
   "outputs": [
    {
     "data": {
      "text/plain": [
       "[101, 123, 233, 150]"
      ]
     },
     "execution_count": 41,
     "metadata": {},
     "output_type": "execute_result"
    }
   ],
   "source": [
    "list(filter(greatera_than_100, [1, 101, 123, 233, 23, 35, 150]))"
   ]
  },
  {
   "cell_type": "code",
   "execution_count": 42,
   "id": "ad294360",
   "metadata": {},
   "outputs": [
    {
     "data": {
      "text/plain": [
       "[111, 222, 333]"
      ]
     },
     "execution_count": 42,
     "metadata": {},
     "output_type": "execute_result"
    }
   ],
   "source": [
    "# we can write with lambda function as well \n",
    "\n",
    "list(filter(lambda x: x > 100, [1, 111, 2, 222, 3, 333]))"
   ]
  },
  {
   "cell_type": "markdown",
   "id": "b3de333d",
   "metadata": {},
   "source": [
    "The next example features range(). range(n) produces an iterator that yields the integers from 0 to n - 1. The following example uses filter() to select only the even numbers from the list and filter out the odd numbers:"
   ]
  },
  {
   "cell_type": "code",
   "execution_count": 43,
   "id": "5b9acfa9",
   "metadata": {},
   "outputs": [
    {
     "data": {
      "text/plain": [
       "[0, 1, 2, 3, 4, 5, 6, 7, 8, 9]"
      ]
     },
     "execution_count": 43,
     "metadata": {},
     "output_type": "execute_result"
    }
   ],
   "source": [
    "list(range(10))"
   ]
  },
  {
   "cell_type": "code",
   "execution_count": 44,
   "id": "96b27527",
   "metadata": {},
   "outputs": [],
   "source": [
    "def even(x):\n",
    "    return x%2 == 0\n"
   ]
  },
  {
   "cell_type": "code",
   "execution_count": 45,
   "id": "4ab321d1",
   "metadata": {},
   "outputs": [
    {
     "data": {
      "text/plain": [
       "[0, 2, 4, 6, 8]"
      ]
     },
     "execution_count": 45,
     "metadata": {},
     "output_type": "execute_result"
    }
   ],
   "source": [
    "list(filter(even, range(10)))"
   ]
  },
  {
   "cell_type": "code",
   "execution_count": 46,
   "id": "ce7fe4aa",
   "metadata": {},
   "outputs": [
    {
     "data": {
      "text/plain": [
       "[0, 2, 4, 6, 8]"
      ]
     },
     "execution_count": 46,
     "metadata": {},
     "output_type": "execute_result"
    }
   ],
   "source": [
    "# with lambda funtion\n",
    "list(filter(lambda x :x%2 == 0, range(10)))"
   ]
  },
  {
   "cell_type": "code",
   "execution_count": 47,
   "id": "b6caf054",
   "metadata": {},
   "outputs": [
    {
     "data": {
      "text/plain": [
       "[True, False, True, False, True, False, True, False, True, False]"
      ]
     },
     "execution_count": 47,
     "metadata": {},
     "output_type": "execute_result"
    }
   ],
   "source": [
    "# but these technique with map function return Boolean value\n",
    "\n",
    "list(map(lambda x :x%2 == 0, range(10)))"
   ]
  },
  {
   "cell_type": "markdown",
   "id": "be8c974a",
   "metadata": {},
   "source": [
    "map function will only map the condition wheter it is true or false but filter function filter out the true condition values."
   ]
  },
  {
   "cell_type": "code",
   "execution_count": 48,
   "id": "0b6d24b9",
   "metadata": {},
   "outputs": [],
   "source": [
    "# Here's an example using a built-in string method:\n",
    "\n",
    "animals = ['cat', 'Cat', 'CAT', 'dog', 'Dog', 'DOG', 'emu', 'Emu', 'EMU']\n",
    "\n",
    "def all_caps(s):\n",
    "    return s.isupper()\n",
    "\n"
   ]
  },
  {
   "cell_type": "code",
   "execution_count": 49,
   "id": "71d5a828",
   "metadata": {},
   "outputs": [
    {
     "data": {
      "text/plain": [
       "['CAT', 'DOG', 'EMU']"
      ]
     },
     "execution_count": 49,
     "metadata": {},
     "output_type": "execute_result"
    }
   ],
   "source": [
    "list(filter(all_caps, animals))"
   ]
  },
  {
   "cell_type": "code",
   "execution_count": 50,
   "id": "7c145467",
   "metadata": {},
   "outputs": [
    {
     "data": {
      "text/plain": [
       "['CAT', 'DOG', 'EMU']"
      ]
     },
     "execution_count": 50,
     "metadata": {},
     "output_type": "execute_result"
    }
   ],
   "source": [
    "# Using Lambda function \n",
    "\n",
    "list(filter(lambda s: s.isupper(), animals))"
   ]
  },
  {
   "cell_type": "markdown",
   "id": "d26f1f42",
   "metadata": {},
   "source": [
    "#### Reducing an Iterable to a Single Value With reduce()\n",
    "reduce() applies a function to the items in an iterable two at a time, progressively combining them to produce a single result.\n",
    "\n",
    "reduce() was once a built-in function in Python. Guido van Rossum apparently rather disliked reduce() and advocated for its removal from the language entirely. Here’s what he had to say about it\n",
    "\n",
    "We need to import it: \n",
    "`from functools import reduce`\n",
    "\n",
    "`syntax: reduce(<f>, <iterable>)`"
   ]
  },
  {
   "cell_type": "markdown",
   "id": "687fa745",
   "metadata": {},
   "source": [
    "`Guido` was right when he said the most straightforward applications of `reduce()` are those using associative operators. Let’s start with the plus operator (+):"
   ]
  },
  {
   "cell_type": "code",
   "execution_count": 51,
   "id": "0e3f88e6",
   "metadata": {},
   "outputs": [],
   "source": [
    "def f(x, y):\n",
    "    \n",
    "    return x + y"
   ]
  },
  {
   "cell_type": "code",
   "execution_count": 53,
   "id": "9f977e8b",
   "metadata": {},
   "outputs": [
    {
     "data": {
      "text/plain": [
       "15"
      ]
     },
     "execution_count": 53,
     "metadata": {},
     "output_type": "execute_result"
    }
   ],
   "source": [
    "from functools import reduce \n",
    "\n",
    "reduce(f, [1,2,3,4, 5])"
   ]
  },
  {
   "cell_type": "code",
   "execution_count": 54,
   "id": "f8b9616a",
   "metadata": {},
   "outputs": [
    {
     "data": {
      "text/plain": [
       "15"
      ]
     },
     "execution_count": 54,
     "metadata": {},
     "output_type": "execute_result"
    }
   ],
   "source": [
    "# built-in function\n",
    "\n",
    "sum([1,2,3,4,5])"
   ]
  },
  {
   "cell_type": "markdown",
   "id": "118e228e",
   "metadata": {},
   "source": [
    "Remember that the binary plus operator also concatenates strings. So this same example will progressively concatenate the strings in a list as well:\n",
    "\n"
   ]
  },
  {
   "cell_type": "code",
   "execution_count": 55,
   "id": "774d80a3",
   "metadata": {},
   "outputs": [
    {
     "data": {
      "text/plain": [
       "'catdoghedgehoggecko'"
      ]
     },
     "execution_count": 55,
     "metadata": {},
     "output_type": "execute_result"
    }
   ],
   "source": [
    " reduce(f, [\"cat\", \"dog\", \"hedgehog\", \"gecko\"])"
   ]
  },
  {
   "cell_type": "markdown",
   "id": "a489533e",
   "metadata": {},
   "source": [
    "* Now consider an example using the binary multiplication operator (*). The factorial of a positive integer n is defined as follows: n! = 1 x 2 x ...x n\n",
    "\n",
    "* we can implement a factorial function using reduce() and range()"
   ]
  },
  {
   "cell_type": "code",
   "execution_count": 56,
   "id": "4fe39e28",
   "metadata": {},
   "outputs": [],
   "source": [
    "def multiply(x, y):\n",
    "    return x * y\n",
    "\n"
   ]
  },
  {
   "cell_type": "code",
   "execution_count": 57,
   "id": "bad62f50",
   "metadata": {},
   "outputs": [],
   "source": [
    "def factorial(n):\n",
    "    from functools import reduce\n",
    "    return reduce(multiply, range(1, n+1))"
   ]
  },
  {
   "cell_type": "code",
   "execution_count": 58,
   "id": "3751fa0c",
   "metadata": {},
   "outputs": [
    {
     "data": {
      "text/plain": [
       "24"
      ]
     },
     "execution_count": 58,
     "metadata": {},
     "output_type": "execute_result"
    }
   ],
   "source": [
    "factorial(4) # 1 * 2 * 3 * 4"
   ]
  },
  {
   "cell_type": "code",
   "execution_count": 59,
   "id": "c64c8dd0",
   "metadata": {},
   "outputs": [
    {
     "data": {
      "text/plain": [
       "720"
      ]
     },
     "execution_count": 59,
     "metadata": {},
     "output_type": "execute_result"
    }
   ],
   "source": [
    " factorial(6)  # 1 * 2 * 3 * 4 * 5 * 6"
   ]
  },
  {
   "cell_type": "code",
   "execution_count": 60,
   "id": "7aa61eda",
   "metadata": {},
   "outputs": [],
   "source": [
    "## using math module we can find out the factorial\n",
    "\n",
    "from math import factorial"
   ]
  },
  {
   "cell_type": "code",
   "execution_count": 61,
   "id": "7f9dd034",
   "metadata": {},
   "outputs": [
    {
     "data": {
      "text/plain": [
       "24"
      ]
     },
     "execution_count": 61,
     "metadata": {},
     "output_type": "execute_result"
    }
   ],
   "source": [
    "factorial(4)"
   ]
  },
  {
   "cell_type": "code",
   "execution_count": 62,
   "id": "7c16960a",
   "metadata": {},
   "outputs": [
    {
     "data": {
      "text/plain": [
       "120"
      ]
     },
     "execution_count": 62,
     "metadata": {},
     "output_type": "execute_result"
    }
   ],
   "source": [
    "factorial(5)"
   ]
  },
  {
   "cell_type": "code",
   "execution_count": 63,
   "id": "c8d323c9",
   "metadata": {},
   "outputs": [
    {
     "data": {
      "text/plain": [
       "49"
      ]
     },
     "execution_count": 63,
     "metadata": {},
     "output_type": "execute_result"
    }
   ],
   "source": [
    "# for max value\n",
    "\n",
    "max([23, 49, 6, 32])"
   ]
  },
  {
   "cell_type": "code",
   "execution_count": 64,
   "id": "e06d9666",
   "metadata": {},
   "outputs": [],
   "source": [
    "def greater(x, y):\n",
    "    \n",
    "    return x if x>y else y"
   ]
  },
  {
   "cell_type": "code",
   "execution_count": 65,
   "id": "d69fe485",
   "metadata": {},
   "outputs": [
    {
     "data": {
      "text/plain": [
       "49"
      ]
     },
     "execution_count": 65,
     "metadata": {},
     "output_type": "execute_result"
    }
   ],
   "source": [
    "from functools import reduce\n",
    "\n",
    "reduce(greater, [23, 49, 6, 32])"
   ]
  },
  {
   "cell_type": "code",
   "execution_count": 66,
   "id": "3245d401",
   "metadata": {},
   "outputs": [
    {
     "data": {
      "text/plain": [
       "15"
      ]
     },
     "execution_count": 66,
     "metadata": {},
     "output_type": "execute_result"
    }
   ],
   "source": [
    "reduce(lambda x, y: x + y, [1, 2, 3, 4, 5])"
   ]
  },
  {
   "cell_type": "code",
   "execution_count": 67,
   "id": "50743810",
   "metadata": {},
   "outputs": [
    {
     "data": {
      "text/plain": [
       "'foobarbazquz'"
      ]
     },
     "execution_count": 67,
     "metadata": {},
     "output_type": "execute_result"
    }
   ],
   "source": [
    "reduce(lambda x, y: x + y, [\"foo\", \"bar\", \"baz\", \"quz\"])"
   ]
  },
  {
   "cell_type": "code",
   "execution_count": 68,
   "id": "6090f780",
   "metadata": {},
   "outputs": [],
   "source": [
    "def factorial(n):\n",
    "    from functools import reduce\n",
    "    return reduce(lambda x, y: x * y, range(1, n + 1))\n"
   ]
  },
  {
   "cell_type": "code",
   "execution_count": 69,
   "id": "94ff80b0",
   "metadata": {},
   "outputs": [
    {
     "data": {
      "text/plain": [
       "120"
      ]
     },
     "execution_count": 69,
     "metadata": {},
     "output_type": "execute_result"
    }
   ],
   "source": [
    "factorial(5)"
   ]
  },
  {
   "cell_type": "code",
   "execution_count": 70,
   "id": "43bc5779",
   "metadata": {},
   "outputs": [
    {
     "data": {
      "text/plain": [
       "5040"
      ]
     },
     "execution_count": 70,
     "metadata": {},
     "output_type": "execute_result"
    }
   ],
   "source": [
    "factorial(7)"
   ]
  },
  {
   "cell_type": "code",
   "execution_count": 71,
   "id": "da018641",
   "metadata": {},
   "outputs": [
    {
     "data": {
      "text/plain": [
       "49"
      ]
     },
     "execution_count": 71,
     "metadata": {},
     "output_type": "execute_result"
    }
   ],
   "source": [
    "reduce((lambda x, y: x if x > y else y), [23, 49, 6, 32])"
   ]
  },
  {
   "cell_type": "markdown",
   "id": "1aa6b73c",
   "metadata": {},
   "source": [
    "#### Calling reduce() With an Initial Value\n",
    "There’s another way to call reduce() that specifies an initial value for the reduction sequence:\n",
    "\n",
    "`reduce(<f>, <iterable>, <init>)`\n",
    "\n",
    "When present, `<init>` specifies an initial value for the combination. In the first call to `<f>`, the arguments are `<init>` and the first element of `<iterable>`. That result is then combined with the second element of `<iterable>`, and so on:\n",
    "\n"
   ]
  },
  {
   "cell_type": "code",
   "execution_count": 72,
   "id": "c98fa3f6",
   "metadata": {},
   "outputs": [],
   "source": [
    "def f(x, y):\n",
    "    return x + y\n"
   ]
  },
  {
   "cell_type": "code",
   "execution_count": 73,
   "id": "04d3001f",
   "metadata": {},
   "outputs": [
    {
     "data": {
      "text/plain": [
       "115"
      ]
     },
     "execution_count": 73,
     "metadata": {},
     "output_type": "execute_result"
    }
   ],
   "source": [
    "from functools import reduce\n",
    "reduce(f, [1,2,3,4,5], 100) # here 100 is initial value means (100 + 1 + 2 + 3 + 4 + 5)"
   ]
  },
  {
   "cell_type": "code",
   "execution_count": 74,
   "id": "13e23f8c",
   "metadata": {},
   "outputs": [
    {
     "data": {
      "text/plain": [
       "115"
      ]
     },
     "execution_count": 74,
     "metadata": {},
     "output_type": "execute_result"
    }
   ],
   "source": [
    "# using lambda :\n",
    "\n",
    "reduce(lambda x, y: x + y, [1,2,3,4,5], 100)"
   ]
  },
  {
   "cell_type": "code",
   "execution_count": 75,
   "id": "aa7d7e11",
   "metadata": {},
   "outputs": [
    {
     "data": {
      "text/plain": [
       "115"
      ]
     },
     "execution_count": 75,
     "metadata": {},
     "output_type": "execute_result"
    }
   ],
   "source": [
    "# without reduce \n",
    "\n",
    "100 + sum([1,2,3,4,5])"
   ]
  },
  {
   "cell_type": "markdown",
   "id": "75019394",
   "metadata": {},
   "source": [
    "As you’ve seen in the above examples, even in cases where you can accomplish a task using reduce(), it’s often possible to find a more straightforward and Pythonic way to accomplish the same task without it. Maybe it’s not so hard to imagine why reduce() was removed from the core language after all.\n",
    "\n",
    "That said, reduce() is kind of a remarkable function. The description at the beginning of this section states that reduce() combines elements to produce a single result. But that result can be a composite object like a list or a tuple. For that reason, reduce() is a very generalized higher-order function from which many other functions can be implemented.\n",
    "\n",
    "For example, you can implement map() in terms of reduce():"
   ]
  },
  {
   "cell_type": "code",
   "execution_count": 76,
   "id": "fbd2f503",
   "metadata": {},
   "outputs": [
    {
     "data": {
      "text/plain": [
       "['1', '2', '3', '4', '5']"
      ]
     },
     "execution_count": 76,
     "metadata": {},
     "output_type": "execute_result"
    }
   ],
   "source": [
    "numbers = [1,2,3,4,5]\n",
    "\n",
    "list(map(str, numbers))"
   ]
  },
  {
   "cell_type": "code",
   "execution_count": 77,
   "id": "336337d5",
   "metadata": {},
   "outputs": [],
   "source": [
    "def custom_map(function, iterable):\n",
    "    from functools import reduce\n",
    "    \n",
    "    return reduce(\n",
    "           lambda items, value: items + [function(value)],\n",
    "                  iterable,\n",
    "                  [],\n",
    "                )"
   ]
  },
  {
   "cell_type": "code",
   "execution_count": 78,
   "id": "839d0052",
   "metadata": {},
   "outputs": [
    {
     "data": {
      "text/plain": [
       "['1', '2', '3', '4', '5']"
      ]
     },
     "execution_count": 78,
     "metadata": {},
     "output_type": "execute_result"
    }
   ],
   "source": [
    "list(custom_map(str, numbers))"
   ]
  },
  {
   "cell_type": "code",
   "execution_count": 79,
   "id": "7e44b056",
   "metadata": {},
   "outputs": [],
   "source": [
    "numbers = list(range(10))"
   ]
  },
  {
   "cell_type": "code",
   "execution_count": 80,
   "id": "8b328ff4",
   "metadata": {},
   "outputs": [
    {
     "data": {
      "text/plain": [
       "[0, 1, 2, 3, 4, 5, 6, 7, 8, 9]"
      ]
     },
     "execution_count": 80,
     "metadata": {},
     "output_type": "execute_result"
    }
   ],
   "source": [
    "numbers"
   ]
  },
  {
   "cell_type": "code",
   "execution_count": 83,
   "id": "48125231",
   "metadata": {},
   "outputs": [],
   "source": [
    "def is_even(x):\n",
    "    \n",
    "    return x%2 == 0\n",
    "\n"
   ]
  },
  {
   "cell_type": "code",
   "execution_count": 84,
   "id": "a0dbcfe5",
   "metadata": {},
   "outputs": [
    {
     "data": {
      "text/plain": [
       "[0, 2, 4, 6, 8]"
      ]
     },
     "execution_count": 84,
     "metadata": {},
     "output_type": "execute_result"
    }
   ],
   "source": [
    "list(filter(is_even, numbers))"
   ]
  },
  {
   "cell_type": "code",
   "execution_count": 85,
   "id": "84c4dbe0",
   "metadata": {},
   "outputs": [],
   "source": [
    "def custom_filter(function, iterable):\n",
    "    from functools import reduce\n",
    "    \n",
    "    return reduce(\n",
    "           lambda items, value: items + [value] if function(value) else items,\n",
    "                  iterable,\n",
    "                  []\n",
    "    )"
   ]
  },
  {
   "cell_type": "code",
   "execution_count": 86,
   "id": "06bffef6",
   "metadata": {},
   "outputs": [
    {
     "data": {
      "text/plain": [
       "[0, 2, 4, 6, 8]"
      ]
     },
     "execution_count": 86,
     "metadata": {},
     "output_type": "execute_result"
    }
   ],
   "source": [
    "list(custom_filter(is_even, numbers))"
   ]
  },
  {
   "cell_type": "markdown",
   "id": "fa90bf55",
   "metadata": {},
   "source": [
    "#### Conclusion\n",
    "\n",
    "`Functional programming` is a programming paradigm in which the primary method of computation is evaluation of pure functions. Although Python is not primarily a functional language, it’s good to be familiar with lambda, map(), filter(), and reduce() because they can help you write concise, high-level, parallelizable code. You’ll also see them in code that others have written.\n",
    "\n",
    "In this tutorial, you learned:\n",
    "\n",
    "What functional programming is\n",
    "How functions in Python are first-class citizens, and how that makes them suitable for functional programming\n",
    "How to define a simple anonymous function with lambda\n",
    "How to implement functional code with map(), filter(), and reduce()\n",
    "With that, you’ve reached the end of this introductory series on the fundamentals of working with Python. Congratulations! You now have a solid foundation for making useful programs in an efficient, Pythonic style.\n",
    "\n",
    "If you’re interested in taking your Python skills to the next level, then you can check out some more intermediate and advanced tutorials. You can also check out some Python project ideas to start putting your Python superpowers on display. Happy coding"
   ]
  },
  {
   "cell_type": "markdown",
   "id": "653063e0",
   "metadata": {},
   "source": [
    "When you try to run Python scripts, a multi-step process begins. In this process the interpreter will:\n",
    "\n",
    "* 1.  Process the statements of your script in a sequential fashion.\n",
    "\n",
    "* 2.  Compile the source code to an intermediate format known as bytecode. This bytecode is a translation of the code into a lower-level language that’s platform-independent.\n",
    "\n",
    "* 3. Ship off the code for execution. At this point, something known as a Python Virtual Machine (PVM) comes into action. The PVM is the runtime engine of Python. It is a cycle that iterates over the instructions of your bytecode to run them one by one.\n",
    "\n",
    "The whole process to run Python scripts is known as the Python Execution Model."
   ]
  },
  {
   "cell_type": "code",
   "execution_count": null,
   "id": "0f9f894c",
   "metadata": {},
   "outputs": [],
   "source": []
  }
 ],
 "metadata": {
  "kernelspec": {
   "display_name": "Python 3 (ipykernel)",
   "language": "python",
   "name": "python3"
  },
  "language_info": {
   "codemirror_mode": {
    "name": "ipython",
    "version": 3
   },
   "file_extension": ".py",
   "mimetype": "text/x-python",
   "name": "python",
   "nbconvert_exporter": "python",
   "pygments_lexer": "ipython3",
   "version": "3.9.7"
  }
 },
 "nbformat": 4,
 "nbformat_minor": 5
}
